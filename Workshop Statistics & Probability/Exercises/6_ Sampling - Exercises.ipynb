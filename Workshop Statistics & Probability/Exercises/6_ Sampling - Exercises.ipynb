





<!DOCTYPE html>
<html
  lang="en"
  
  data-color-mode="auto" data-light-theme="light" data-dark-theme="dark"
  data-a11y-animated-images="system" data-a11y-link-underlines="true"
  >



  <head>
    <meta charset="utf-8">
  <link rel="dns-prefetch" href="https://github.githubassets.com">
  <link rel="dns-prefetch" href="https://avatars.githubusercontent.com">
  <link rel="dns-prefetch" href="https://github-cloud.s3.amazonaws.com">
  <link rel="dns-prefetch" href="https://user-images.githubusercontent.com/">
  <link rel="preconnect" href="https://github.githubassets.com" crossorigin>
  <link rel="preconnect" href="https://avatars.githubusercontent.com">

  


  <link crossorigin="anonymous" media="all" rel="stylesheet" href="https://github.githubassets.com/assets/light-efd2f2257c96.css" /><link crossorigin="anonymous" media="all" rel="stylesheet" href="https://github.githubassets.com/assets/dark-6b1e37da2254.css" /><link data-color-theme="dark_dimmed" crossorigin="anonymous" media="all" rel="stylesheet" data-href="https://github.githubassets.com/assets/dark_dimmed-aa16bfa90fb8.css" /><link data-color-theme="dark_high_contrast" crossorigin="anonymous" media="all" rel="stylesheet" data-href="https://github.githubassets.com/assets/dark_high_contrast-f4daad25d8cf.css" /><link data-color-theme="dark_colorblind" crossorigin="anonymous" media="all" rel="stylesheet" data-href="https://github.githubassets.com/assets/dark_colorblind-a4629b2e906b.css" /><link data-color-theme="light_colorblind" crossorigin="anonymous" media="all" rel="stylesheet" data-href="https://github.githubassets.com/assets/light_colorblind-afcc3a6a38dd.css" /><link data-color-theme="light_high_contrast" crossorigin="anonymous" media="all" rel="stylesheet" data-href="https://github.githubassets.com/assets/light_high_contrast-79bca7145393.css" /><link data-color-theme="light_tritanopia" crossorigin="anonymous" media="all" rel="stylesheet" data-href="https://github.githubassets.com/assets/light_tritanopia-fe4137b54b26.css" /><link data-color-theme="dark_tritanopia" crossorigin="anonymous" media="all" rel="stylesheet" data-href="https://github.githubassets.com/assets/dark_tritanopia-1911f0cf0db4.css" />
    <link crossorigin="anonymous" media="all" rel="stylesheet" href="https://github.githubassets.com/assets/primer-primitives-8500c2c7ce5f.css" />
    <link crossorigin="anonymous" media="all" rel="stylesheet" href="https://github.githubassets.com/assets/primer-bbda46ca867f.css" />
    <link crossorigin="anonymous" media="all" rel="stylesheet" href="https://github.githubassets.com/assets/global-6f01bc73955b.css" />
    <link crossorigin="anonymous" media="all" rel="stylesheet" href="https://github.githubassets.com/assets/github-cf4e90581e80.css" />
  <link crossorigin="anonymous" media="all" rel="stylesheet" href="https://github.githubassets.com/assets/repository-992e95451f25.css" />
<link crossorigin="anonymous" media="all" rel="stylesheet" href="https://github.githubassets.com/assets/code-34406d39e629.css" />

  


  <script type="application/json" id="client-env">{"locale":"en","featureFlags":["code_vulnerability_scanning","copilot_beta_features_opt_in","copilot_chat_static_thread_suggestions","copilot_completion_new_domain","copilot_conversational_ux_history_refs","copilot_followup_to_agent","copilot_implicit_context","copilot_smell_icebreaker_ux","custom_inp","experimentation_azure_variant_endpoint","failbot_handle_non_errors","filter_prefetch_suggestions","geojson_azure_maps","ghas_copilot_agents_ga_web_updates","ghost_pilot_confidence_scores","ghost_pilot_screen_reader","hovercard_accessibility","hovercard_longer_activate_timeout","marketing_pages_search_explore_provider","remove_child_patch","repository_suggester_elastic_search","sample_network_conn_type","site_metered_billing_update","ignore_hidden_in_quote_reply"]}</script>
<script crossorigin="anonymous" defer="defer" type="application/javascript" src="https://github.githubassets.com/assets/wp-runtime-6fbed448f391.js"></script>
<script crossorigin="anonymous" defer="defer" type="application/javascript" src="https://github.githubassets.com/assets/vendors-node_modules_dompurify_dist_purify_js-89a69c248502.js"></script>
<script crossorigin="anonymous" defer="defer" type="application/javascript" src="https://github.githubassets.com/assets/vendors-node_modules_oddbird_popover-polyfill_dist_popover_js-56729c905fe2.js"></script>
<script crossorigin="anonymous" defer="defer" type="application/javascript" src="https://github.githubassets.com/assets/vendors-node_modules_github_mini-throttle_dist_index_js-node_modules_smoothscroll-polyfill_di-75db2e-686488490524.js"></script>
<script crossorigin="anonymous" defer="defer" type="application/javascript" src="https://github.githubassets.com/assets/environment-cd098098ff2e.js"></script>
<script crossorigin="anonymous" defer="defer" type="application/javascript" src="https://github.githubassets.com/assets/vendors-node_modules_github_selector-observer_dist_index_esm_js-f690fd9ae3d5.js"></script>
<script crossorigin="anonymous" defer="defer" type="application/javascript" src="https://github.githubassets.com/assets/vendors-node_modules_primer_behaviors_dist_esm_focus-zone_js-c9086a4fb62b.js"></script>
<script crossorigin="anonymous" defer="defer" type="application/javascript" src="https://github.githubassets.com/assets/vendors-node_modules_github_relative-time-element_dist_index_js-f9b958f5f2df.js"></script>
<script crossorigin="anonymous" defer="defer" type="application/javascript" src="https://github.githubassets.com/assets/vendors-node_modules_primer_behaviors_dist_esm_anchored-position_js-node_modules_fzy_js_index-05960a-797b1227c4b8.js"></script>
<script crossorigin="anonymous" defer="defer" type="application/javascript" src="https://github.githubassets.com/assets/vendors-node_modules_github_auto-complete-element_dist_index_js-node_modules_github_details-d-ed9a97-841122a1e9d4.js"></script>
<script crossorigin="anonymous" defer="defer" type="application/javascript" src="https://github.githubassets.com/assets/vendors-node_modules_github_text-expander-element_dist_index_js-cd48220d74d5.js"></script>
<script crossorigin="anonymous" defer="defer" type="application/javascript" src="https://github.githubassets.com/assets/vendors-node_modules_github_mini-throttle_dist_index_js-node_modules_delegated-events_dist_in-3efda3-701acb69193f.js"></script>
<script crossorigin="anonymous" defer="defer" type="application/javascript" src="https://github.githubassets.com/assets/vendors-node_modules_github_filter-input-element_dist_index_js-node_modules_github_remote-inp-2e8678-34feeec9c894.js"></script>
<script crossorigin="anonymous" defer="defer" type="application/javascript" src="https://github.githubassets.com/assets/vendors-node_modules_github_catalyst_lib_index_js-node_modules_github_clipboard-copy-element_-782ca5-54763cd55b96.js"></script>
<script crossorigin="anonymous" defer="defer" type="application/javascript" src="https://github.githubassets.com/assets/vendors-node_modules_github_file-attachment-element_dist_index_js-node_modules_primer_view-co-3959a9-5779869d7165.js"></script>
<script crossorigin="anonymous" defer="defer" type="application/javascript" src="https://github.githubassets.com/assets/app_assets_modules_github_onfocus_ts-ui_packages_trusted-types-policies_policy_ts-ui_packages-6fe316-9d50d6f10c3d.js"></script>
<script crossorigin="anonymous" defer="defer" type="application/javascript" src="https://github.githubassets.com/assets/github-elements-074e91131d8f.js"></script>
<script crossorigin="anonymous" defer="defer" type="application/javascript" src="https://github.githubassets.com/assets/element-registry-a86c410c86af.js"></script>
<script crossorigin="anonymous" defer="defer" type="application/javascript" src="https://github.githubassets.com/assets/vendors-node_modules_github_catalyst_lib_index_js-node_modules_github_hydro-analytics-client_-7901e7-dc88587c14ed.js"></script>
<script crossorigin="anonymous" defer="defer" type="application/javascript" src="https://github.githubassets.com/assets/vendors-node_modules_braintree_browser-detection_dist_browser-detection_js-node_modules_stack-68835d-a18220f1db8d.js"></script>
<script crossorigin="anonymous" defer="defer" type="application/javascript" src="https://github.githubassets.com/assets/vendors-node_modules_lit-html_lit-html_js-ce7225a304c5.js"></script>
<script crossorigin="anonymous" defer="defer" type="application/javascript" src="https://github.githubassets.com/assets/vendors-node_modules_github_mini-throttle_dist_index_js-node_modules_morphdom_dist_morphdom-e-7c534c-f8a5485c982a.js"></script>
<script crossorigin="anonymous" defer="defer" type="application/javascript" src="https://github.githubassets.com/assets/vendors-node_modules_github_turbo_dist_turbo_es2017-esm_js-858e043fcf76.js"></script>
<script crossorigin="anonymous" defer="defer" type="application/javascript" src="https://github.githubassets.com/assets/vendors-node_modules_github_remote-form_dist_index_js-node_modules_delegated-events_dist_inde-893f9f-6cf3320416b8.js"></script>
<script crossorigin="anonymous" defer="defer" type="application/javascript" src="https://github.githubassets.com/assets/vendors-node_modules_scroll-anchoring_dist_scroll-anchoring_esm_js-node_modules_github_hotkey-1a1d91-fa9f29a8514b.js"></script>
<script crossorigin="anonymous" defer="defer" type="application/javascript" src="https://github.githubassets.com/assets/vendors-node_modules_color-convert_index_js-0e07cc183eed.js"></script>
<script crossorigin="anonymous" defer="defer" type="application/javascript" src="https://github.githubassets.com/assets/vendors-node_modules_github_session-resume_dist_index_js-node_modules_primer_behaviors_dist_e-ac74c6-5e03381c44b5.js"></script>
<script crossorigin="anonymous" defer="defer" type="application/javascript" src="https://github.githubassets.com/assets/vendors-node_modules_primer_behaviors_dist_esm_dimensions_js-node_modules_github_jtml_lib_index_js-53b423ede32a.js"></script>
<script crossorigin="anonymous" defer="defer" type="application/javascript" src="https://github.githubassets.com/assets/vendors-node_modules_github_quote-selection_dist_index_js-node_modules_github_textarea-autosi-9e0349-ab4976fc78a6.js"></script>
<script crossorigin="anonymous" defer="defer" type="application/javascript" src="https://github.githubassets.com/assets/ui_packages_updatable-content_updatable-content_ts-e15463ecf7e6.js"></script>
<script crossorigin="anonymous" defer="defer" type="application/javascript" src="https://github.githubassets.com/assets/app_assets_modules_github_behaviors_task-list_ts-app_assets_modules_github_onfocus_ts-app_ass-421cec-f0e1d31bff9a.js"></script>
<script crossorigin="anonymous" defer="defer" type="application/javascript" src="https://github.githubassets.com/assets/app_assets_modules_github_sticky-scroll-into-view_ts-112600808cf9.js"></script>
<script crossorigin="anonymous" defer="defer" type="application/javascript" src="https://github.githubassets.com/assets/app_assets_modules_github_behaviors_ajax-error_ts-app_assets_modules_github_behaviors_include-467754-8b1a4442f9b3.js"></script>
<script crossorigin="anonymous" defer="defer" type="application/javascript" src="https://github.githubassets.com/assets/app_assets_modules_github_behaviors_commenting_edit_ts-app_assets_modules_github_behaviors_ht-83c235-4accd4baf37d.js"></script>
<script crossorigin="anonymous" defer="defer" type="application/javascript" src="https://github.githubassets.com/assets/app_assets_modules_github_blob-anchor_ts-app_assets_modules_github_filter-sort_ts-app_assets_-6deafe-fc95155e233a.js"></script>
<script crossorigin="anonymous" defer="defer" type="application/javascript" src="https://github.githubassets.com/assets/behaviors-53cbd0d1f88e.js"></script>
<script crossorigin="anonymous" defer="defer" type="application/javascript" src="https://github.githubassets.com/assets/vendors-node_modules_delegated-events_dist_index_js-node_modules_github_catalyst_lib_index_js-06ff531-bf7e5a3732fd.js"></script>
<script crossorigin="anonymous" defer="defer" type="application/javascript" src="https://github.githubassets.com/assets/notifications-global-3ddac678adaf.js"></script>
<script crossorigin="anonymous" defer="defer" type="application/javascript" src="https://github.githubassets.com/assets/vendors-node_modules_github_mini-throttle_dist_index_js-node_modules_github_catalyst_lib_inde-dbbea9-e73b311a14f1.js"></script>
<script crossorigin="anonymous" defer="defer" type="application/javascript" src="https://github.githubassets.com/assets/app_assets_modules_github_repositories_get-repo-element_ts-4fc152f40452.js"></script>
<script crossorigin="anonymous" defer="defer" type="application/javascript" src="https://github.githubassets.com/assets/code-menu-a8d08997ac4f.js"></script>
  
  <script crossorigin="anonymous" defer="defer" type="application/javascript" src="https://github.githubassets.com/assets/react-lib-7b7b5264f6c1.js"></script>
<script crossorigin="anonymous" defer="defer" type="application/javascript" src="https://github.githubassets.com/assets/vendors-node_modules_github_mini-throttle_dist_index_js-node_modules_primer_octicons-react_di-b40d97-06881c63f955.js"></script>
<script crossorigin="anonymous" defer="defer" type="application/javascript" src="https://github.githubassets.com/assets/vendors-node_modules_primer_react_lib-esm_Box_Box_js-55a9038b54f0.js"></script>
<script crossorigin="anonymous" defer="defer" type="application/javascript" src="https://github.githubassets.com/assets/vendors-node_modules_primer_react_lib-esm_Button_Button_js-b0edbfb6a9e5.js"></script>
<script crossorigin="anonymous" defer="defer" type="application/javascript" src="https://github.githubassets.com/assets/vendors-node_modules_primer_react_lib-esm_TooltipV2_Tooltip_js-4d5019830e3c.js"></script>
<script crossorigin="anonymous" defer="defer" type="application/javascript" src="https://github.githubassets.com/assets/vendors-node_modules_clsx_dist_clsx_m_js-node_modules_primer_react_node_modules_primer_octico-c56103-e91295e60abd.js"></script>
<script crossorigin="anonymous" defer="defer" type="application/javascript" src="https://github.githubassets.com/assets/vendors-node_modules_primer_react_lib-esm_ActionList_index_js-f646728c385c.js"></script>
<script crossorigin="anonymous" defer="defer" type="application/javascript" src="https://github.githubassets.com/assets/vendors-node_modules_primer_react_lib-esm_ActionMenu_ActionMenu_js-node_modules_primer_react_-5b2420-048f91dcedb3.js"></script>
<script crossorigin="anonymous" defer="defer" type="application/javascript" src="https://github.githubassets.com/assets/vendors-node_modules_primer_react_lib-esm_Text_Text_js-node_modules_primer_react_lib-esm_Text-7845da-adcc76ee8848.js"></script>
<script crossorigin="anonymous" defer="defer" type="application/javascript" src="https://github.githubassets.com/assets/vendors-node_modules_primer_react_lib-esm_FormControl_FormControl_js-1f51ab2bdcca.js"></script>
<script crossorigin="anonymous" defer="defer" type="application/javascript" src="https://github.githubassets.com/assets/vendors-node_modules_react-router-dom_dist_index_js-c5568c29d405.js"></script>
<script crossorigin="anonymous" defer="defer" type="application/javascript" src="https://github.githubassets.com/assets/vendors-node_modules_primer_react_lib-esm_ConfirmationDialog_ConfirmationDialog_js-099e8bfead83.js"></script>
<script crossorigin="anonymous" defer="defer" type="application/javascript" src="https://github.githubassets.com/assets/vendors-node_modules_primer_react_lib-esm_Heading_Heading_js-node_modules_primer_react_lib-es-96435f-69dda7b301fe.js"></script>
<script crossorigin="anonymous" defer="defer" type="application/javascript" src="https://github.githubassets.com/assets/vendors-node_modules_primer_react_lib-esm_TreeView_TreeView_js-163f241772cf.js"></script>
<script crossorigin="anonymous" defer="defer" type="application/javascript" src="https://github.githubassets.com/assets/vendors-node_modules_primer_behaviors_dist_esm_anchored-position_js-node_modules_primer_react-4d507b-85f1dac4ce7d.js"></script>
<script crossorigin="anonymous" defer="defer" type="application/javascript" src="https://github.githubassets.com/assets/vendors-node_modules_primer_react_lib-esm_BranchName_BranchName_js-node_modules_primer_react_-5ab9a5-f0ab9737bc0f.js"></script>
<script crossorigin="anonymous" defer="defer" type="application/javascript" src="https://github.githubassets.com/assets/vendors-node_modules_primer_behaviors_dist_esm_scroll-into-view_js-node_modules_primer_react_-9a1035-bc8622e91c21.js"></script>
<script crossorigin="anonymous" defer="defer" type="application/javascript" src="https://github.githubassets.com/assets/ui_packages_react-core_create-browser-history_ts-ui_packages_safe-storage_safe-storage_ts-ui_-682c2c-7a1e99981675.js"></script>
<script crossorigin="anonymous" defer="defer" type="application/javascript" src="https://github.githubassets.com/assets/ui_packages_react-core_register-app_ts-d92f692cd90a.js"></script>
<script crossorigin="anonymous" defer="defer" type="application/javascript" src="https://github.githubassets.com/assets/ui_packages_paths_index_ts-9eb3412d85a7.js"></script>
<script crossorigin="anonymous" defer="defer" type="application/javascript" src="https://github.githubassets.com/assets/ui_packages_ref-selector_RefSelector_tsx-7b0796d1324c.js"></script>
<script crossorigin="anonymous" defer="defer" type="application/javascript" src="https://github.githubassets.com/assets/ui_packages_commit-attribution_index_ts-ui_packages_commit-checks-status_index_ts-ui_packages-f45efb-a5bb4a693481.js"></script>
<script crossorigin="anonymous" defer="defer" type="application/javascript" src="https://github.githubassets.com/assets/ui_packages_copy-to-clipboard_index_ts-ui_packages_react-core_use-feature-flag_ts-ui_packages-9fa6b6-6e8c63eb2d15.js"></script>
<script crossorigin="anonymous" defer="defer" type="application/javascript" src="https://github.githubassets.com/assets/ui_packages_code-view-shared_hooks_use-canonical-object_ts-ui_packages_code-view-shared_hooks-9a3d65-c2af6875bd6f.js"></script>
<script crossorigin="anonymous" defer="defer" type="application/javascript" src="https://github.githubassets.com/assets/ui_packages_repos-file-tree-view_repos-file-tree-view_ts-ui_packages_feature-request_FeatureR-ec5225-9dd7225109c4.js"></script>
<script crossorigin="anonymous" defer="defer" type="application/javascript" src="https://github.githubassets.com/assets/react-code-view-7e5e7030cc5b.js"></script>
<link crossorigin="anonymous" media="all" rel="stylesheet" href="https://github.githubassets.com/assets/react-code-view.234ae39ff1fa1232236c.module.css" />


  <title>DSR_Statistics1/6_ Sampling/Sampling - Exercises.ipynb at main · MathforDataScience/DSR_Statistics1</title>



  <meta name="route-pattern" content="/:user_id/:repository/blob/*name(/*path)" data-turbo-transient>
  <meta name="route-controller" content="blob" data-turbo-transient>
  <meta name="route-action" content="show" data-turbo-transient>

    
  <meta name="current-catalog-service-hash" content="f3abb0cc802f3d7b95fc8762b94bdcb13bf39634c40c357301c4aa1d67a256fb">


  <meta name="request-id" content="89E1:227EF1:6837CA5:6A3C30B:66BF7603" data-turbo-transient="true" /><meta name="html-safe-nonce" content="d44ab1c2dc7e35ebb11bbaa56f6d0aa429138892f77edd1afdd359eb1f8171be" data-turbo-transient="true" /><meta name="visitor-payload" content="eyJyZWZlcnJlciI6Imh0dHBzOi8vZ2l0aHViLmNvbS9NYXRoZm9yRGF0YVNjaWVuY2UvRFNSX1N0YXRpc3RpY3MxL3RyZWUvbWFpbi82XyUyMFNhbXBsaW5nIiwicmVxdWVzdF9pZCI6Ijg5RTE6MjI3RUYxOjY4MzdDQTU6NkEzQzMwQjo2NkJGNzYwMyIsInZpc2l0b3JfaWQiOiI0MDM3Njk5Njg4Njk3MzIyNjY5IiwicmVnaW9uX2VkZ2UiOiJmcmEiLCJyZWdpb25fcmVuZGVyIjoiaWFkIn0=" data-turbo-transient="true" /><meta name="visitor-hmac" content="474edde515159e883efb5e7a29080002ec54bc0b11bf873d3afebb42f9fecf3b" data-turbo-transient="true" />


    <meta name="hovercard-subject-tag" content="repository:661665397" data-turbo-transient>


  <meta name="github-keyboard-shortcuts" content="repository,source-code,file-tree,copilot" data-turbo-transient="true" />
  

  <meta name="selected-link" value="repo_source" data-turbo-transient>
  <link rel="assets" href="https://github.githubassets.com/">

    <meta name="google-site-verification" content="Apib7-x98H0j5cPqHWwSMm6dNU4GmODRoqxLiDzdx9I">

<meta name="octolytics-url" content="https://collector.github.com/github/collect" /><meta name="octolytics-actor-id" content="42959174" /><meta name="octolytics-actor-login" content="MathforDataScience" /><meta name="octolytics-actor-hash" content="227888bb3935a56cecdeac8fbaeb23608047deef8e96c837701ebe2439fade7e" />

  <meta name="analytics-location" content="/&lt;user-name&gt;/&lt;repo-name&gt;/blob/show" data-turbo-transient="true" />

  




    <meta name="user-login" content="MathforDataScience">

  <link rel="sudo-modal" href="/sessions/sudo_modal">

    <meta name="viewport" content="width=device-width">

    

      <meta name="description" content="Contribute to MathforDataScience/DSR_Statistics1 development by creating an account on GitHub.">

      <link rel="search" type="application/opensearchdescription+xml" href="/opensearch.xml" title="GitHub">

    <link rel="fluid-icon" href="https://github.com/fluidicon.png" title="GitHub">
    <meta property="fb:app_id" content="1401488693436528">
    <meta name="apple-itunes-app" content="app-id=1477376905, app-argument=https://github.com/MathforDataScience/DSR_Statistics1/blob/main/6_%20Sampling/Sampling%20-%20Exercises.ipynb" />

      <meta name="twitter:image:src" content="https://opengraph.githubassets.com/49fbaa5bd9c04cc44d052c0a41db63906004c31c66bcde400f1ce0e2c136cc79/MathforDataScience/DSR_Statistics1" /><meta name="twitter:site" content="@github" /><meta name="twitter:card" content="summary_large_image" /><meta name="twitter:title" content="DSR_Statistics1/6_ Sampling/Sampling - Exercises.ipynb at main · MathforDataScience/DSR_Statistics1" /><meta name="twitter:description" content="Contribute to MathforDataScience/DSR_Statistics1 development by creating an account on GitHub." />
  <meta property="og:image" content="https://opengraph.githubassets.com/49fbaa5bd9c04cc44d052c0a41db63906004c31c66bcde400f1ce0e2c136cc79/MathforDataScience/DSR_Statistics1" /><meta property="og:image:alt" content="Contribute to MathforDataScience/DSR_Statistics1 development by creating an account on GitHub." /><meta property="og:image:width" content="1200" /><meta property="og:image:height" content="600" /><meta property="og:site_name" content="GitHub" /><meta property="og:type" content="object" /><meta property="og:title" content="DSR_Statistics1/6_ Sampling/Sampling - Exercises.ipynb at main · MathforDataScience/DSR_Statistics1" /><meta property="og:url" content="https://github.com/MathforDataScience/DSR_Statistics1/blob/main/6_%20Sampling/Sampling%20-%20Exercises.ipynb" /><meta property="og:description" content="Contribute to MathforDataScience/DSR_Statistics1 development by creating an account on GitHub." />
  


      <link rel="shared-web-socket" href="wss://alive.github.com/_sockets/u/42959174/ws?session=eyJ2IjoiVjMiLCJ1Ijo0Mjk1OTE3NCwicyI6MTQ0NjE4MDkwNCwiYyI6MTA4MTQxMTA5NywidCI6MTcyMzgyMzYyOH0=--01108c381ff93bfa286f5037fb37f821fc839d129587bc48e9e6bcd2c01668ac" data-refresh-url="/_alive" data-session-id="a00dc8c235cb2d09bde055d46b94400c8d63999f1397e010ac7793b7eee7e4d7">
      <link rel="shared-web-socket-src" href="/assets-cdn/worker/socket-worker-1a9b1a7a6108.js">


      <meta name="hostname" content="github.com">


      <meta name="keyboard-shortcuts-preference" content="all">
      <meta name="hovercards-preference" content="true">

        <meta name="expected-hostname" content="github.com">


  <meta http-equiv="x-pjax-version" content="a878d148896378d00e67dfef2b352b059b3ea0b02ada20e26d5784cb2cf9cbf7" data-turbo-track="reload">
  <meta http-equiv="x-pjax-csp-version" content="43bc2a0e2750a1219c17b5bf1ec22aae37041bbc018bc5e27bb7708f80e7ab88" data-turbo-track="reload">
  <meta http-equiv="x-pjax-css-version" content="2d21d1d7fc96c63650d487b78819572219a98df9016097e18aa73b19581cb3bc" data-turbo-track="reload">
  <meta http-equiv="x-pjax-js-version" content="e0e9ac8831ec7aaa318d110aabcee6e4e8f1148e4f9954adff46936790214fe0" data-turbo-track="reload">

  <meta name="turbo-cache-control" content="no-preview" data-turbo-transient="">

      <meta name="turbo-cache-control" content="no-cache" data-turbo-transient>
    <meta data-hydrostats="publish">
  <meta name="go-import" content="github.com/MathforDataScience/DSR_Statistics1 git https://github.com/MathforDataScience/DSR_Statistics1.git">

  <meta name="octolytics-dimension-user_id" content="42959174" /><meta name="octolytics-dimension-user_login" content="MathforDataScience" /><meta name="octolytics-dimension-repository_id" content="661665397" /><meta name="octolytics-dimension-repository_nwo" content="MathforDataScience/DSR_Statistics1" /><meta name="octolytics-dimension-repository_public" content="true" /><meta name="octolytics-dimension-repository_is_fork" content="false" /><meta name="octolytics-dimension-repository_network_root_id" content="661665397" /><meta name="octolytics-dimension-repository_network_root_nwo" content="MathforDataScience/DSR_Statistics1" />



    

    <meta name="turbo-body-classes" content="logged-in env-production page-responsive">


  <meta name="browser-stats-url" content="https://api.github.com/_private/browser/stats">

  <meta name="browser-errors-url" content="https://api.github.com/_private/browser/errors">

  <link rel="mask-icon" href="https://github.githubassets.com/assets/pinned-octocat-093da3e6fa40.svg" color="#000000">
  <link rel="alternate icon" class="js-site-favicon" type="image/png" href="https://github.githubassets.com/favicons/favicon.png">
  <link rel="icon" class="js-site-favicon" type="image/svg+xml" href="https://github.githubassets.com/favicons/favicon.svg">

<meta name="theme-color" content="#1e2327">
<meta name="color-scheme" content="light dark" />


  <link rel="manifest" href="/manifest.json" crossOrigin="use-credentials">

  </head>

  <body class="logged-in env-production page-responsive" style="word-wrap: break-word;">
    <div data-turbo-body class="logged-in env-production page-responsive" style="word-wrap: break-word;">
      


    <div class="position-relative js-header-wrapper ">
      <a href="#start-of-content" data-skip-target-assigned="false" class="p-3 color-bg-accent-emphasis color-fg-on-emphasis show-on-focus js-skip-to-content">Skip to content</a>

      <span data-view-component="true" class="progress-pjax-loader Progress position-fixed width-full">
    <span style="width: 0%;" data-view-component="true" class="Progress-item progress-pjax-loader-bar left-0 top-0 color-bg-accent-emphasis"></span>
</span>      
      
      <script crossorigin="anonymous" defer="defer" type="application/javascript" src="https://github.githubassets.com/assets/vendors-node_modules_primer_react_lib-esm_Dialog_Dialog_js-node_modules_primer_react_lib-esm_-bd7638-683c833a31df.js"></script>
<script crossorigin="anonymous" defer="defer" type="application/javascript" src="https://github.githubassets.com/assets/keyboard-shortcuts-dialog-15a4cf222dbb.js"></script>

<react-partial
  partial-name="keyboard-shortcuts-dialog"
  data-ssr="false"
>
  
  <script type="application/json" data-target="react-partial.embeddedData">{"props":{"docsUrl":"https://docs.github.com/get-started/accessibility/keyboard-shortcuts"}}</script>
  <div data-target="react-partial.reactRoot"></div>
</react-partial>




      

          

                <header class="AppHeader" role="banner">
  <h2 class="sr-only">Navigation Menu</h2>

    

    <div class="AppHeader-globalBar pb-2 js-global-bar">
      <div class="AppHeader-globalBar-start">
          <deferred-side-panel data-url="/_side-panels/global">
  <include-fragment data-target="deferred-side-panel.fragment">
      <button aria-label="Open global navigation menu" data-action="click:deferred-side-panel#loadPanel click:deferred-side-panel#panelOpened" data-show-dialog-id="dialog-a42010df-bdf1-4a44-8828-690fe8dd5595" id="dialog-show-dialog-a42010df-bdf1-4a44-8828-690fe8dd5595" type="button" data-view-component="true" class="Button Button--iconOnly Button--secondary Button--medium AppHeader-button color-bg-transparent p-0 color-fg-muted">  <svg aria-hidden="true" height="16" viewBox="0 0 16 16" version="1.1" width="16" data-view-component="true" class="octicon octicon-three-bars Button-visual">
    <path d="M1 2.75A.75.75 0 0 1 1.75 2h12.5a.75.75 0 0 1 0 1.5H1.75A.75.75 0 0 1 1 2.75Zm0 5A.75.75 0 0 1 1.75 7h12.5a.75.75 0 0 1 0 1.5H1.75A.75.75 0 0 1 1 7.75ZM1.75 12h12.5a.75.75 0 0 1 0 1.5H1.75a.75.75 0 0 1 0-1.5Z"></path>
</svg>
</button>

<dialog-helper>
  <dialog data-target="deferred-side-panel.panel" id="dialog-a42010df-bdf1-4a44-8828-690fe8dd5595" aria-modal="true" aria-labelledby="dialog-a42010df-bdf1-4a44-8828-690fe8dd5595-title" aria-describedby="dialog-a42010df-bdf1-4a44-8828-690fe8dd5595-description" data-view-component="true" class="Overlay Overlay-whenNarrow Overlay--size-small-portrait Overlay--motion-scaleFade Overlay--placement-left SidePanel">
    <div styles="flex-direction: row;" data-view-component="true" class="Overlay-header">
  <div class="Overlay-headerContentWrap">
    <div class="Overlay-titleWrap">
      <h1 class="Overlay-title sr-only" id="dialog-a42010df-bdf1-4a44-8828-690fe8dd5595-title">
        Global navigation
      </h1>
            <div data-view-component="true" class="d-flex">
      <div data-view-component="true" class="AppHeader-logo position-relative">
        <svg aria-hidden="true" height="24" viewBox="0 0 24 24" version="1.1" width="24" data-view-component="true" class="octicon octicon-mark-github">
    <path d="M12.5.75C6.146.75 1 5.896 1 12.25c0 5.089 3.292 9.387 7.863 10.91.575.101.79-.244.79-.546 0-.273-.014-1.178-.014-2.142-2.889.532-3.636-.704-3.866-1.35-.13-.331-.69-1.352-1.18-1.625-.402-.216-.977-.748-.014-.762.906-.014 1.553.834 1.769 1.179 1.035 1.74 2.688 1.25 3.349.948.1-.747.402-1.25.733-1.538-2.559-.287-5.232-1.279-5.232-5.678 0-1.25.445-2.285 1.178-3.09-.115-.288-.517-1.467.115-3.048 0 0 .963-.302 3.163 1.179.92-.259 1.897-.388 2.875-.388.977 0 1.955.13 2.875.388 2.2-1.495 3.162-1.179 3.162-1.179.633 1.581.23 2.76.115 3.048.733.805 1.179 1.825 1.179 3.09 0 4.413-2.688 5.39-5.247 5.678.417.36.776 1.05.776 2.128 0 1.538-.014 2.774-.014 3.162 0 .302.216.662.79.547C20.709 21.637 24 17.324 24 12.25 24 5.896 18.854.75 12.5.75Z"></path>
</svg>
</div></div>
    </div>
    <div class="Overlay-actionWrap">
      <button data-close-dialog-id="dialog-a42010df-bdf1-4a44-8828-690fe8dd5595" aria-label="Close" type="button" data-view-component="true" class="close-button Overlay-closeButton"><svg aria-hidden="true" height="16" viewBox="0 0 16 16" version="1.1" width="16" data-view-component="true" class="octicon octicon-x">
    <path d="M3.72 3.72a.75.75 0 0 1 1.06 0L8 6.94l3.22-3.22a.749.749 0 0 1 1.275.326.749.749 0 0 1-.215.734L9.06 8l3.22 3.22a.749.749 0 0 1-.326 1.275.749.749 0 0 1-.734-.215L8 9.06l-3.22 3.22a.751.751 0 0 1-1.042-.018.751.751 0 0 1-.018-1.042L6.94 8 3.72 4.78a.75.75 0 0 1 0-1.06Z"></path>
</svg></button>
    </div>
  </div>
  
</div>
      <scrollable-region data-labelled-by="dialog-a42010df-bdf1-4a44-8828-690fe8dd5595-title">
        <div data-view-component="true" class="Overlay-body d-flex flex-column px-2">    <div data-view-component="true" class="d-flex flex-column mb-3">
        <nav aria-label="Site navigation" data-view-component="true" class="ActionList">
  
  <nav-list>
    <ul data-target="nav-list.topLevelList" data-view-component="true" class="ActionListWrap">
        
          
<li data-item-id="" data-targets="nav-list.items" data-view-component="true" class="ActionListItem">
    
    
    <a data-hotkey="g d" data-analytics-event="{&quot;category&quot;:&quot;Global navigation&quot;,&quot;action&quot;:&quot;HOME&quot;,&quot;label&quot;:null}" id="item-0b0ba3a0-df88-4295-b470-671a59b490f6" href="/dashboard" data-view-component="true" class="ActionListContent ActionListContent--visual16">
        <span class="ActionListItem-visual ActionListItem-visual--leading">
          <svg aria-hidden="true" height="16" viewBox="0 0 16 16" version="1.1" width="16" data-view-component="true" class="octicon octicon-home">
    <path d="M6.906.664a1.749 1.749 0 0 1 2.187 0l5.25 4.2c.415.332.657.835.657 1.367v7.019A1.75 1.75 0 0 1 13.25 15h-3.5a.75.75 0 0 1-.75-.75V9H7v5.25a.75.75 0 0 1-.75.75h-3.5A1.75 1.75 0 0 1 1 13.25V6.23c0-.531.242-1.034.657-1.366l5.25-4.2Zm1.25 1.171a.25.25 0 0 0-.312 0l-5.25 4.2a.25.25 0 0 0-.094.196v7.019c0 .138.112.25.25.25H5.5V8.25a.75.75 0 0 1 .75-.75h3.5a.75.75 0 0 1 .75.75v5.25h2.75a.25.25 0 0 0 .25-.25V6.23a.25.25 0 0 0-.094-.195Z"></path>
</svg>
        </span>
      
        <span data-view-component="true" class="ActionListItem-label">
          Home
</span>      
</a>
  
</li>

        
          
<li data-item-id="" data-targets="nav-list.items" data-view-component="true" class="ActionListItem">
    
    
    <a data-hotkey="g i" data-analytics-event="{&quot;category&quot;:&quot;Global navigation&quot;,&quot;action&quot;:&quot;ISSUES&quot;,&quot;label&quot;:null}" id="item-87272734-d139-43d4-a64b-4ed6c278d570" href="/issues" data-view-component="true" class="ActionListContent ActionListContent--visual16">
        <span class="ActionListItem-visual ActionListItem-visual--leading">
          <svg aria-hidden="true" height="16" viewBox="0 0 16 16" version="1.1" width="16" data-view-component="true" class="octicon octicon-issue-opened">
    <path d="M8 9.5a1.5 1.5 0 1 0 0-3 1.5 1.5 0 0 0 0 3Z"></path><path d="M8 0a8 8 0 1 1 0 16A8 8 0 0 1 8 0ZM1.5 8a6.5 6.5 0 1 0 13 0 6.5 6.5 0 0 0-13 0Z"></path>
</svg>
        </span>
      
        <span data-view-component="true" class="ActionListItem-label">
          Issues
</span>      
</a>
  
</li>

        
          
<li data-item-id="" data-targets="nav-list.items" data-view-component="true" class="ActionListItem">
    
    
    <a data-hotkey="g p" data-analytics-event="{&quot;category&quot;:&quot;Global navigation&quot;,&quot;action&quot;:&quot;PULL_REQUESTS&quot;,&quot;label&quot;:null}" id="item-eded7415-cb35-43a2-b87e-a63ed7469c23" href="/pulls" data-view-component="true" class="ActionListContent ActionListContent--visual16">
        <span class="ActionListItem-visual ActionListItem-visual--leading">
          <svg aria-hidden="true" height="16" viewBox="0 0 16 16" version="1.1" width="16" data-view-component="true" class="octicon octicon-git-pull-request">
    <path d="M1.5 3.25a2.25 2.25 0 1 1 3 2.122v5.256a2.251 2.251 0 1 1-1.5 0V5.372A2.25 2.25 0 0 1 1.5 3.25Zm5.677-.177L9.573.677A.25.25 0 0 1 10 .854V2.5h1A2.5 2.5 0 0 1 13.5 5v5.628a2.251 2.251 0 1 1-1.5 0V5a1 1 0 0 0-1-1h-1v1.646a.25.25 0 0 1-.427.177L7.177 3.427a.25.25 0 0 1 0-.354ZM3.75 2.5a.75.75 0 1 0 0 1.5.75.75 0 0 0 0-1.5Zm0 9.5a.75.75 0 1 0 0 1.5.75.75 0 0 0 0-1.5Zm8.25.75a.75.75 0 1 0 1.5 0 .75.75 0 0 0-1.5 0Z"></path>
</svg>
        </span>
      
        <span data-view-component="true" class="ActionListItem-label">
          Pull requests
</span>      
</a>
  
</li>

        
          
<li data-item-id="" data-targets="nav-list.items" data-item-id="projects" data-view-component="true" class="ActionListItem">
    
    
    <a data-analytics-event="{&quot;category&quot;:&quot;Global navigation&quot;,&quot;action&quot;:&quot;PROJECTS&quot;,&quot;label&quot;:null}" id="item-676af968-01d8-4fe4-bd1f-064a211c85b4" href="/projects" data-view-component="true" class="ActionListContent ActionListContent--visual16">
        <span class="ActionListItem-visual ActionListItem-visual--leading">
          <svg aria-hidden="true" height="16" viewBox="0 0 16 16" version="1.1" width="16" data-view-component="true" class="octicon octicon-table">
    <path d="M0 1.75C0 .784.784 0 1.75 0h12.5C15.216 0 16 .784 16 1.75v12.5A1.75 1.75 0 0 1 14.25 16H1.75A1.75 1.75 0 0 1 0 14.25ZM6.5 6.5v8h7.75a.25.25 0 0 0 .25-.25V6.5Zm8-1.5V1.75a.25.25 0 0 0-.25-.25H6.5V5Zm-13 1.5v7.75c0 .138.112.25.25.25H5v-8ZM5 5V1.5H1.75a.25.25 0 0 0-.25.25V5Z"></path>
</svg>
        </span>
      
        <span data-view-component="true" class="ActionListItem-label">
          Projects
</span>      
</a>
  
</li>

        
          
<li data-item-id="" data-targets="nav-list.items" data-view-component="true" class="ActionListItem">
    
    
    <a data-analytics-event="{&quot;category&quot;:&quot;Global navigation&quot;,&quot;action&quot;:&quot;DISCUSSIONS&quot;,&quot;label&quot;:null}" id="item-7c1f3de5-f994-4bd2-95b9-799f780031a5" href="/discussions" data-view-component="true" class="ActionListContent ActionListContent--visual16">
        <span class="ActionListItem-visual ActionListItem-visual--leading">
          <svg aria-hidden="true" height="16" viewBox="0 0 16 16" version="1.1" width="16" data-view-component="true" class="octicon octicon-comment-discussion">
    <path d="M1.75 1h8.5c.966 0 1.75.784 1.75 1.75v5.5A1.75 1.75 0 0 1 10.25 10H7.061l-2.574 2.573A1.458 1.458 0 0 1 2 11.543V10h-.25A1.75 1.75 0 0 1 0 8.25v-5.5C0 1.784.784 1 1.75 1ZM1.5 2.75v5.5c0 .138.112.25.25.25h1a.75.75 0 0 1 .75.75v2.19l2.72-2.72a.749.749 0 0 1 .53-.22h3.5a.25.25 0 0 0 .25-.25v-5.5a.25.25 0 0 0-.25-.25h-8.5a.25.25 0 0 0-.25.25Zm13 2a.25.25 0 0 0-.25-.25h-.5a.75.75 0 0 1 0-1.5h.5c.966 0 1.75.784 1.75 1.75v5.5A1.75 1.75 0 0 1 14.25 12H14v1.543a1.458 1.458 0 0 1-2.487 1.03L9.22 12.28a.749.749 0 0 1 .326-1.275.749.749 0 0 1 .734.215l2.22 2.22v-2.19a.75.75 0 0 1 .75-.75h1a.25.25 0 0 0 .25-.25Z"></path>
</svg>
        </span>
      
        <span data-view-component="true" class="ActionListItem-label">
          Discussions
</span>      
</a>
  
</li>

        
          
<li data-item-id="" data-targets="nav-list.items" data-view-component="true" class="ActionListItem">
    
    
    <a data-analytics-event="{&quot;category&quot;:&quot;Global navigation&quot;,&quot;action&quot;:&quot;CODESPACES&quot;,&quot;label&quot;:null}" id="item-37ab7a8b-07a5-446b-b4f0-b6bdf3e8d49d" href="https://github.com/codespaces" data-view-component="true" class="ActionListContent ActionListContent--visual16">
        <span class="ActionListItem-visual ActionListItem-visual--leading">
          <svg aria-hidden="true" height="16" viewBox="0 0 16 16" version="1.1" width="16" data-view-component="true" class="octicon octicon-codespaces">
    <path d="M0 11.25c0-.966.784-1.75 1.75-1.75h12.5c.966 0 1.75.784 1.75 1.75v3A1.75 1.75 0 0 1 14.25 16H1.75A1.75 1.75 0 0 1 0 14.25Zm2-9.5C2 .784 2.784 0 3.75 0h8.5C13.216 0 14 .784 14 1.75v5a1.75 1.75 0 0 1-1.75 1.75h-8.5A1.75 1.75 0 0 1 2 6.75Zm1.75-.25a.25.25 0 0 0-.25.25v5c0 .138.112.25.25.25h8.5a.25.25 0 0 0 .25-.25v-5a.25.25 0 0 0-.25-.25Zm-2 9.5a.25.25 0 0 0-.25.25v3c0 .138.112.25.25.25h12.5a.25.25 0 0 0 .25-.25v-3a.25.25 0 0 0-.25-.25Z"></path><path d="M7 12.75a.75.75 0 0 1 .75-.75h4.5a.75.75 0 0 1 0 1.5h-4.5a.75.75 0 0 1-.75-.75Zm-4 0a.75.75 0 0 1 .75-.75h.5a.75.75 0 0 1 0 1.5h-.5a.75.75 0 0 1-.75-.75Z"></path>
</svg>
        </span>
      
        <span data-view-component="true" class="ActionListItem-label">
          Codespaces
</span>      
</a>
  
</li>

        
          <li role="presentation" aria-hidden="true" data-view-component="true" class="ActionList-sectionDivider"></li>
        
          
<li data-item-id="" data-targets="nav-list.items" data-view-component="true" class="ActionListItem">
    
    
    <a data-analytics-event="{&quot;category&quot;:&quot;Global navigation&quot;,&quot;action&quot;:&quot;EXPLORE&quot;,&quot;label&quot;:null}" id="item-6e338abd-44bc-499e-941b-3296485adfe3" href="/explore" data-view-component="true" class="ActionListContent ActionListContent--visual16">
        <span class="ActionListItem-visual ActionListItem-visual--leading">
          <svg aria-hidden="true" height="16" viewBox="0 0 16 16" version="1.1" width="16" data-view-component="true" class="octicon octicon-telescope">
    <path d="M14.184 1.143v-.001l1.422 2.464a1.75 1.75 0 0 1-.757 2.451L3.104 11.713a1.75 1.75 0 0 1-2.275-.702l-.447-.775a1.75 1.75 0 0 1 .53-2.32L11.682.573a1.748 1.748 0 0 1 2.502.57Zm-4.709 9.32h-.001l2.644 3.863a.75.75 0 1 1-1.238.848l-1.881-2.75v2.826a.75.75 0 0 1-1.5 0v-2.826l-1.881 2.75a.75.75 0 1 1-1.238-.848l2.049-2.992a.746.746 0 0 1 .293-.253l1.809-.87a.749.749 0 0 1 .944.252ZM9.436 3.92h-.001l-4.97 3.39.942 1.63 5.42-2.61Zm3.091-2.108h.001l-1.85 1.26 1.505 2.605 2.016-.97a.247.247 0 0 0 .13-.151.247.247 0 0 0-.022-.199l-1.422-2.464a.253.253 0 0 0-.161-.119.254.254 0 0 0-.197.038ZM1.756 9.157a.25.25 0 0 0-.075.33l.447.775a.25.25 0 0 0 .325.1l1.598-.769-.83-1.436-1.465 1Z"></path>
</svg>
        </span>
      
        <span data-view-component="true" class="ActionListItem-label">
          Explore
</span>      
</a>
  
</li>

        
          
<li data-item-id="" data-targets="nav-list.items" data-view-component="true" class="ActionListItem">
    
    
    <a data-analytics-event="{&quot;category&quot;:&quot;Global navigation&quot;,&quot;action&quot;:&quot;MARKETPLACE&quot;,&quot;label&quot;:null}" id="item-fb43e95b-42f6-485b-bea4-37a16e156517" href="/marketplace" data-view-component="true" class="ActionListContent ActionListContent--visual16">
        <span class="ActionListItem-visual ActionListItem-visual--leading">
          <svg aria-hidden="true" height="16" viewBox="0 0 16 16" version="1.1" width="16" data-view-component="true" class="octicon octicon-gift">
    <path d="M2 2.75A2.75 2.75 0 0 1 4.75 0c.983 0 1.873.42 2.57 1.232.268.318.497.668.68 1.042.183-.375.411-.725.68-1.044C9.376.42 10.266 0 11.25 0a2.75 2.75 0 0 1 2.45 4h.55c.966 0 1.75.784 1.75 1.75v2c0 .698-.409 1.301-1 1.582v4.918A1.75 1.75 0 0 1 13.25 16H2.75A1.75 1.75 0 0 1 1 14.25V9.332C.409 9.05 0 8.448 0 7.75v-2C0 4.784.784 4 1.75 4h.55c-.192-.375-.3-.8-.3-1.25ZM7.25 9.5H2.5v4.75c0 .138.112.25.25.25h4.5Zm1.5 0v5h4.5a.25.25 0 0 0 .25-.25V9.5Zm0-4V8h5.5a.25.25 0 0 0 .25-.25v-2a.25.25 0 0 0-.25-.25Zm-7 0a.25.25 0 0 0-.25.25v2c0 .138.112.25.25.25h5.5V5.5h-5.5Zm3-4a1.25 1.25 0 0 0 0 2.5h2.309c-.233-.818-.542-1.401-.878-1.793-.43-.502-.915-.707-1.431-.707ZM8.941 4h2.309a1.25 1.25 0 0 0 0-2.5c-.516 0-1 .205-1.43.707-.337.392-.646.975-.879 1.793Z"></path>
</svg>
        </span>
      
        <span data-view-component="true" class="ActionListItem-label">
          Marketplace
</span>      
</a>
  
</li>

</ul>  </nav-list>
</nav>

        <div data-view-component="true" class="my-3 d-flex flex-justify-center height-full">
          <svg style="box-sizing: content-box; color: var(--color-icon-primary);" width="16" height="16" viewBox="0 0 16 16" fill="none" aria-hidden="true" data-view-component="true" class="anim-rotate">
  <circle cx="8" cy="8" r="7" stroke="currentColor" stroke-opacity="0.25" stroke-width="2" vector-effect="non-scaling-stroke" fill="none" />
  <path d="M15 8a7.002 7.002 0 00-7-7" stroke="currentColor" stroke-width="2" stroke-linecap="round" vector-effect="non-scaling-stroke" />
</svg>  <span class="sr-only">Loading</span>

</div>
</div>
      <div data-view-component="true" class="flex-1"></div>


      <div data-view-component="true" class="px-2">      <p class="color-fg-subtle text-small text-light">&copy; 2024 GitHub, Inc.</p>

      <div data-view-component="true" class="d-flex flex-wrap text-small text-light">
          <a target="_blank" href="https://github.com/about" data-view-component="true" class="Link mr-2">About</a>
          <a target="_blank" href="https://github.blog" data-view-component="true" class="Link mr-2">Blog</a>
          <a target="_blank" href="https://docs.github.com/site-policy/github-terms/github-terms-of-service" data-view-component="true" class="Link mr-2">Terms</a>
          <a target="_blank" href="https://docs.github.com/site-policy/privacy-policies/github-privacy-statement" data-view-component="true" class="Link mr-2">Privacy</a>
          <a target="_blank" href="https://github.com/security" data-view-component="true" class="Link mr-2">Security</a>
          <a target="_blank" href="https://www.githubstatus.com/" data-view-component="true" class="Link mr-3">Status</a>

</div></div>
</div>
      </scrollable-region>
      
</dialog></dialog-helper>

  </include-fragment>
</deferred-side-panel>

        <a
          class="AppHeader-logo ml-2"
          href="https://github.com/"
          data-hotkey="g d"
          aria-label="Homepage "
          data-turbo="false"
          data-analytics-event="{&quot;category&quot;:&quot;Header&quot;,&quot;action&quot;:&quot;go to dashboard&quot;,&quot;label&quot;:&quot;icon:logo&quot;}"
        >
          <svg height="32" aria-hidden="true" viewBox="0 0 24 24" version="1.1" width="32" data-view-component="true" class="octicon octicon-mark-github v-align-middle color-fg-default">
    <path d="M12.5.75C6.146.75 1 5.896 1 12.25c0 5.089 3.292 9.387 7.863 10.91.575.101.79-.244.79-.546 0-.273-.014-1.178-.014-2.142-2.889.532-3.636-.704-3.866-1.35-.13-.331-.69-1.352-1.18-1.625-.402-.216-.977-.748-.014-.762.906-.014 1.553.834 1.769 1.179 1.035 1.74 2.688 1.25 3.349.948.1-.747.402-1.25.733-1.538-2.559-.287-5.232-1.279-5.232-5.678 0-1.25.445-2.285 1.178-3.09-.115-.288-.517-1.467.115-3.048 0 0 .963-.302 3.163 1.179.92-.259 1.897-.388 2.875-.388.977 0 1.955.13 2.875.388 2.2-1.495 3.162-1.179 3.162-1.179.633 1.581.23 2.76.115 3.048.733.805 1.179 1.825 1.179 3.09 0 4.413-2.688 5.39-5.247 5.678.417.36.776 1.05.776 2.128 0 1.538-.014 2.774-.014 3.162 0 .302.216.662.79.547C20.709 21.637 24 17.324 24 12.25 24 5.896 18.854.75 12.5.75Z"></path>
</svg>
        </a>

          <div class="AppHeader-context" >
  <div class="AppHeader-context-compact">
      <button aria-expanded="false" aria-haspopup="dialog" aria-label="Page context: MathforDataScience / DSR_Statistics1" id="dialog-show-context-region-dialog" data-show-dialog-id="context-region-dialog" type="button" data-view-component="true" class="AppHeader-context-compact-trigger Truncate Button--secondary Button--medium Button box-shadow-none">  <span class="Button-content">
    <span class="Button-label"><span class="AppHeader-context-compact-lead">
                <span class="AppHeader-context-compact-parentItem">MathforDataScience</span>
                <span class="no-wrap">&nbsp;/</span>

            </span>

            <strong class="AppHeader-context-compact-mainItem d-flex flex-items-center Truncate" >
  <span class="Truncate-text ">DSR_Statistics1</span>

</strong></span>
  </span>
</button>

<dialog-helper>
  <dialog id="context-region-dialog" aria-modal="true" aria-labelledby="context-region-dialog-title" aria-describedby="context-region-dialog-description" data-view-component="true" class="Overlay Overlay-whenNarrow Overlay--size-medium Overlay--motion-scaleFade">
    <div data-view-component="true" class="Overlay-header">
  <div class="Overlay-headerContentWrap">
    <div class="Overlay-titleWrap">
      <h1 class="Overlay-title " id="context-region-dialog-title">
        Navigate back to
      </h1>
        
    </div>
    <div class="Overlay-actionWrap">
      <button data-close-dialog-id="context-region-dialog" aria-label="Close" type="button" data-view-component="true" class="close-button Overlay-closeButton"><svg aria-hidden="true" height="16" viewBox="0 0 16 16" version="1.1" width="16" data-view-component="true" class="octicon octicon-x">
    <path d="M3.72 3.72a.75.75 0 0 1 1.06 0L8 6.94l3.22-3.22a.749.749 0 0 1 1.275.326.749.749 0 0 1-.215.734L9.06 8l3.22 3.22a.749.749 0 0 1-.326 1.275.749.749 0 0 1-.734-.215L8 9.06l-3.22 3.22a.751.751 0 0 1-1.042-.018.751.751 0 0 1-.018-1.042L6.94 8 3.72 4.78a.75.75 0 0 1 0-1.06Z"></path>
</svg></button>
    </div>
  </div>
  
</div>
      <scrollable-region data-labelled-by="context-region-dialog-title">
        <div data-view-component="true" class="Overlay-body">          <ul role="list" class="list-style-none" >
    <li>
      <a data-analytics-event="{&quot;category&quot;:&quot;SiteHeaderComponent&quot;,&quot;action&quot;:&quot;context_region_crumb&quot;,&quot;label&quot;:&quot;MathforDataScience&quot;,&quot;screen_size&quot;:&quot;compact&quot;}" href="/MathforDataScience" data-view-component="true" class="Link--primary Truncate d-flex flex-items-center py-1">
        <span class="AppHeader-context-item-label Truncate-text ">
            <svg aria-hidden="true" height="12" viewBox="0 0 16 16" version="1.1" width="12" data-view-component="true" class="octicon octicon-person mr-1">
    <path d="M10.561 8.073a6.005 6.005 0 0 1 3.432 5.142.75.75 0 1 1-1.498.07 4.5 4.5 0 0 0-8.99 0 .75.75 0 0 1-1.498-.07 6.004 6.004 0 0 1 3.431-5.142 3.999 3.999 0 1 1 5.123 0ZM10.5 5a2.5 2.5 0 1 0-5 0 2.5 2.5 0 0 0 5 0Z"></path>
</svg>

          MathforDataScience
        </span>

</a>
    </li>
    <li>
      <a data-analytics-event="{&quot;category&quot;:&quot;SiteHeaderComponent&quot;,&quot;action&quot;:&quot;context_region_crumb&quot;,&quot;label&quot;:&quot;DSR_Statistics1&quot;,&quot;screen_size&quot;:&quot;compact&quot;}" href="/MathforDataScience/DSR_Statistics1" data-view-component="true" class="Link--primary Truncate d-flex flex-items-center py-1">
        <span class="AppHeader-context-item-label Truncate-text ">
            <svg aria-hidden="true" height="12" viewBox="0 0 16 16" version="1.1" width="12" data-view-component="true" class="octicon octicon-repo mr-1">
    <path d="M2 2.5A2.5 2.5 0 0 1 4.5 0h8.75a.75.75 0 0 1 .75.75v12.5a.75.75 0 0 1-.75.75h-2.5a.75.75 0 0 1 0-1.5h1.75v-2h-8a1 1 0 0 0-.714 1.7.75.75 0 1 1-1.072 1.05A2.495 2.495 0 0 1 2 11.5Zm10.5-1h-8a1 1 0 0 0-1 1v6.708A2.486 2.486 0 0 1 4.5 9h8ZM5 12.25a.25.25 0 0 1 .25-.25h3.5a.25.25 0 0 1 .25.25v3.25a.25.25 0 0 1-.4.2l-1.45-1.087a.249.249 0 0 0-.3 0L5.4 15.7a.25.25 0 0 1-.4-.2Z"></path>
</svg>

          DSR_Statistics1
        </span>

</a>
    </li>
</ul>

</div>
      </scrollable-region>
      
</dialog></dialog-helper>
  </div>

  <div class="AppHeader-context-full">
    <nav role="navigation" aria-label="Page context">
      <ul role="list" class="list-style-none" >
    <li>
      <a data-analytics-event="{&quot;category&quot;:&quot;SiteHeaderComponent&quot;,&quot;action&quot;:&quot;context_region_crumb&quot;,&quot;label&quot;:&quot;MathforDataScience&quot;,&quot;screen_size&quot;:&quot;full&quot;}" data-hovercard-type="user" data-hovercard-url="/users/MathforDataScience/hovercard" data-octo-click="hovercard-link-click" data-octo-dimensions="link_type:self" href="/MathforDataScience" data-view-component="true" class="AppHeader-context-item">
        <span class="AppHeader-context-item-label  ">

          MathforDataScience
        </span>

</a>
        <span class="AppHeader-context-item-separator">/</span>
    </li>
    <li>
      <a data-analytics-event="{&quot;category&quot;:&quot;SiteHeaderComponent&quot;,&quot;action&quot;:&quot;context_region_crumb&quot;,&quot;label&quot;:&quot;DSR_Statistics1&quot;,&quot;screen_size&quot;:&quot;full&quot;}" href="/MathforDataScience/DSR_Statistics1" data-view-component="true" class="AppHeader-context-item">
        <span class="AppHeader-context-item-label  ">

          DSR_Statistics1
        </span>

</a>
    </li>
</ul>

    </nav>
  </div>
</div>

      </div>
      <div class="AppHeader-globalBar-end">
          <div class="AppHeader-search" >
              


<qbsearch-input class="search-input" data-scope="repo:MathforDataScience/DSR_Statistics1" data-custom-scopes-path="/search/custom_scopes" data-delete-custom-scopes-csrf="TR_jMrAkH_L22onPmt6eVeH47MVZQwneqZUFDuSsvlMZ7dIjCPjbSWH0TqpK0H2vFoSlk5N9VTSS8iOAX7G6OQ" data-max-custom-scopes="10" data-header-redesign-enabled="true" data-initial-value="" data-blackbird-suggestions-path="/search/suggestions" data-jump-to-suggestions-path="/_graphql/GetSuggestedNavigationDestinations" data-current-repository="MathforDataScience/DSR_Statistics1" data-current-org="" data-current-owner="MathforDataScience" data-logged-in="true" data-copilot-chat-enabled="false" data-nl-search-enabled="false">
  <div
    class="search-input-container search-with-dialog position-relative d-flex flex-row flex-items-center height-auto color-bg-transparent border-0 color-fg-subtle mx-0"
    data-action="click:qbsearch-input#searchInputContainerClicked"
  >
      
            <button type="button" data-action="click:qbsearch-input#handleExpand" class="AppHeader-button AppHeader-search-whenNarrow" aria-label="Search or jump to…" aria-expanded="false" aria-haspopup="dialog">
            <svg aria-hidden="true" height="16" viewBox="0 0 16 16" version="1.1" width="16" data-view-component="true" class="octicon octicon-search">
    <path d="M10.68 11.74a6 6 0 0 1-7.922-8.982 6 6 0 0 1 8.982 7.922l3.04 3.04a.749.749 0 0 1-.326 1.275.749.749 0 0 1-.734-.215ZM11.5 7a4.499 4.499 0 1 0-8.997 0A4.499 4.499 0 0 0 11.5 7Z"></path>
</svg>
          </button>


<div class="AppHeader-search-whenRegular">
  <div class="AppHeader-search-wrap AppHeader-search-wrap--hasTrailing">
    <div class="AppHeader-search-control">
      <label
        for="AppHeader-searchInput"
        aria-label="Search or jump to…"
        class="AppHeader-search-visual--leading"
      >
        <svg aria-hidden="true" height="16" viewBox="0 0 16 16" version="1.1" width="16" data-view-component="true" class="octicon octicon-search">
    <path d="M10.68 11.74a6 6 0 0 1-7.922-8.982 6 6 0 0 1 8.982 7.922l3.04 3.04a.749.749 0 0 1-.326 1.275.749.749 0 0 1-.734-.215ZM11.5 7a4.499 4.499 0 1 0-8.997 0A4.499 4.499 0 0 0 11.5 7Z"></path>
</svg>
      </label>

                <button
            type="button"
            data-target="qbsearch-input.inputButton"
            data-action="click:qbsearch-input#handleExpand"
            class="AppHeader-searchButton form-control input-contrast text-left color-fg-subtle no-wrap"
            data-hotkey="s,/"
            data-analytics-event="{&quot;location&quot;:&quot;navbar&quot;,&quot;action&quot;:&quot;searchbar&quot;,&quot;context&quot;:&quot;global&quot;,&quot;tag&quot;:&quot;input&quot;,&quot;label&quot;:&quot;searchbar_input_global_navbar&quot;}"
            aria-describedby="search-error-message-flash"
          >
            <div class="overflow-hidden">
              <span id="qb-input-query" data-target="qbsearch-input.inputButtonText">
                  Type <kbd class="AppHeader-search-kbd">/</kbd> to search
              </span>
            </div>
          </button>

    </div>


  </div>
</div>

    <input type="hidden" name="type" class="js-site-search-type-field">

    
<div class="Overlay--hidden " data-modal-dialog-overlay>
  <modal-dialog data-action="close:qbsearch-input#handleClose cancel:qbsearch-input#handleClose" data-target="qbsearch-input.searchSuggestionsDialog" role="dialog" id="search-suggestions-dialog" aria-modal="true" aria-labelledby="search-suggestions-dialog-header" data-view-component="true" class="Overlay Overlay--width-medium Overlay--height-auto">
      <h1 id="search-suggestions-dialog-header" class="sr-only">Search code, repositories, users, issues, pull requests...</h1>
    <div class="Overlay-body Overlay-body--paddingNone">
      
          <div data-view-component="true">        <div class="search-suggestions position-absolute width-full color-shadow-large border color-fg-default color-bg-default overflow-hidden d-flex flex-column query-builder-container"
          style="border-radius: 12px;"
          data-target="qbsearch-input.queryBuilderContainer"
          hidden
        >
          <!-- '"` --><!-- </textarea></xmp> --></option></form><form id="query-builder-test-form" action="" accept-charset="UTF-8" method="get">
  <query-builder data-target="qbsearch-input.queryBuilder" id="query-builder-query-builder-test" data-filter-key=":" data-view-component="true" class="QueryBuilder search-query-builder">
    <div class="FormControl FormControl--fullWidth">
      <label id="query-builder-test-label" for="query-builder-test" class="FormControl-label sr-only">
        Search
      </label>
      <div
        class="QueryBuilder-StyledInput width-fit "
        data-target="query-builder.styledInput"
      >
          <span id="query-builder-test-leadingvisual-wrap" class="FormControl-input-leadingVisualWrap QueryBuilder-leadingVisualWrap">
            <svg aria-hidden="true" height="16" viewBox="0 0 16 16" version="1.1" width="16" data-view-component="true" class="octicon octicon-search FormControl-input-leadingVisual">
    <path d="M10.68 11.74a6 6 0 0 1-7.922-8.982 6 6 0 0 1 8.982 7.922l3.04 3.04a.749.749 0 0 1-.326 1.275.749.749 0 0 1-.734-.215ZM11.5 7a4.499 4.499 0 1 0-8.997 0A4.499 4.499 0 0 0 11.5 7Z"></path>
</svg>
          </span>
        <div data-target="query-builder.styledInputContainer" class="QueryBuilder-StyledInputContainer">
          <div
            aria-hidden="true"
            class="QueryBuilder-StyledInputContent"
            data-target="query-builder.styledInputContent"
          ></div>
          <div class="QueryBuilder-InputWrapper">
            <div aria-hidden="true" class="QueryBuilder-Sizer" data-target="query-builder.sizer"></div>
            <input id="query-builder-test" name="query-builder-test" value="" autocomplete="off" type="text" role="combobox" spellcheck="false" aria-expanded="false" aria-describedby="validation-6165d84e-b6f9-4821-9623-5c05960e6f39" data-target="query-builder.input" data-action="
          input:query-builder#inputChange
          blur:query-builder#inputBlur
          keydown:query-builder#inputKeydown
          focus:query-builder#inputFocus
        " data-view-component="true" class="FormControl-input QueryBuilder-Input FormControl-medium" />
          </div>
        </div>
          <span class="sr-only" id="query-builder-test-clear">Clear</span>
          <button role="button" id="query-builder-test-clear-button" aria-labelledby="query-builder-test-clear query-builder-test-label" data-target="query-builder.clearButton" data-action="
                click:query-builder#clear
                focus:query-builder#clearButtonFocus
                blur:query-builder#clearButtonBlur
              " variant="small" hidden="hidden" type="button" data-view-component="true" class="Button Button--iconOnly Button--invisible Button--medium mr-1 px-2 py-0 d-flex flex-items-center rounded-1 color-fg-muted">  <svg aria-hidden="true" height="16" viewBox="0 0 16 16" version="1.1" width="16" data-view-component="true" class="octicon octicon-x-circle-fill Button-visual">
    <path d="M2.343 13.657A8 8 0 1 1 13.658 2.343 8 8 0 0 1 2.343 13.657ZM6.03 4.97a.751.751 0 0 0-1.042.018.751.751 0 0 0-.018 1.042L6.94 8 4.97 9.97a.749.749 0 0 0 .326 1.275.749.749 0 0 0 .734-.215L8 9.06l1.97 1.97a.749.749 0 0 0 1.275-.326.749.749 0 0 0-.215-.734L9.06 8l1.97-1.97a.749.749 0 0 0-.326-1.275.749.749 0 0 0-.734.215L8 6.94Z"></path>
</svg>
</button>

      </div>
      <template id="search-icon">
  <svg aria-hidden="true" height="16" viewBox="0 0 16 16" version="1.1" width="16" data-view-component="true" class="octicon octicon-search">
    <path d="M10.68 11.74a6 6 0 0 1-7.922-8.982 6 6 0 0 1 8.982 7.922l3.04 3.04a.749.749 0 0 1-.326 1.275.749.749 0 0 1-.734-.215ZM11.5 7a4.499 4.499 0 1 0-8.997 0A4.499 4.499 0 0 0 11.5 7Z"></path>
</svg>
</template>

<template id="code-icon">
  <svg aria-hidden="true" height="16" viewBox="0 0 16 16" version="1.1" width="16" data-view-component="true" class="octicon octicon-code">
    <path d="m11.28 3.22 4.25 4.25a.75.75 0 0 1 0 1.06l-4.25 4.25a.749.749 0 0 1-1.275-.326.749.749 0 0 1 .215-.734L13.94 8l-3.72-3.72a.749.749 0 0 1 .326-1.275.749.749 0 0 1 .734.215Zm-6.56 0a.751.751 0 0 1 1.042.018.751.751 0 0 1 .018 1.042L2.06 8l3.72 3.72a.749.749 0 0 1-.326 1.275.749.749 0 0 1-.734-.215L.47 8.53a.75.75 0 0 1 0-1.06Z"></path>
</svg>
</template>

<template id="file-code-icon">
  <svg aria-hidden="true" height="16" viewBox="0 0 16 16" version="1.1" width="16" data-view-component="true" class="octicon octicon-file-code">
    <path d="M4 1.75C4 .784 4.784 0 5.75 0h5.586c.464 0 .909.184 1.237.513l2.914 2.914c.329.328.513.773.513 1.237v8.586A1.75 1.75 0 0 1 14.25 15h-9a.75.75 0 0 1 0-1.5h9a.25.25 0 0 0 .25-.25V6h-2.75A1.75 1.75 0 0 1 10 4.25V1.5H5.75a.25.25 0 0 0-.25.25v2.5a.75.75 0 0 1-1.5 0Zm1.72 4.97a.75.75 0 0 1 1.06 0l2 2a.75.75 0 0 1 0 1.06l-2 2a.749.749 0 0 1-1.275-.326.749.749 0 0 1 .215-.734l1.47-1.47-1.47-1.47a.75.75 0 0 1 0-1.06ZM3.28 7.78 1.81 9.25l1.47 1.47a.751.751 0 0 1-.018 1.042.751.751 0 0 1-1.042.018l-2-2a.75.75 0 0 1 0-1.06l2-2a.751.751 0 0 1 1.042.018.751.751 0 0 1 .018 1.042Zm8.22-6.218V4.25c0 .138.112.25.25.25h2.688l-.011-.013-2.914-2.914-.013-.011Z"></path>
</svg>
</template>

<template id="history-icon">
  <svg aria-hidden="true" height="16" viewBox="0 0 16 16" version="1.1" width="16" data-view-component="true" class="octicon octicon-history">
    <path d="m.427 1.927 1.215 1.215a8.002 8.002 0 1 1-1.6 5.685.75.75 0 1 1 1.493-.154 6.5 6.5 0 1 0 1.18-4.458l1.358 1.358A.25.25 0 0 1 3.896 6H.25A.25.25 0 0 1 0 5.75V2.104a.25.25 0 0 1 .427-.177ZM7.75 4a.75.75 0 0 1 .75.75v2.992l2.028.812a.75.75 0 0 1-.557 1.392l-2.5-1A.751.751 0 0 1 7 8.25v-3.5A.75.75 0 0 1 7.75 4Z"></path>
</svg>
</template>

<template id="repo-icon">
  <svg aria-hidden="true" height="16" viewBox="0 0 16 16" version="1.1" width="16" data-view-component="true" class="octicon octicon-repo">
    <path d="M2 2.5A2.5 2.5 0 0 1 4.5 0h8.75a.75.75 0 0 1 .75.75v12.5a.75.75 0 0 1-.75.75h-2.5a.75.75 0 0 1 0-1.5h1.75v-2h-8a1 1 0 0 0-.714 1.7.75.75 0 1 1-1.072 1.05A2.495 2.495 0 0 1 2 11.5Zm10.5-1h-8a1 1 0 0 0-1 1v6.708A2.486 2.486 0 0 1 4.5 9h8ZM5 12.25a.25.25 0 0 1 .25-.25h3.5a.25.25 0 0 1 .25.25v3.25a.25.25 0 0 1-.4.2l-1.45-1.087a.249.249 0 0 0-.3 0L5.4 15.7a.25.25 0 0 1-.4-.2Z"></path>
</svg>
</template>

<template id="bookmark-icon">
  <svg aria-hidden="true" height="16" viewBox="0 0 16 16" version="1.1" width="16" data-view-component="true" class="octicon octicon-bookmark">
    <path d="M3 2.75C3 1.784 3.784 1 4.75 1h6.5c.966 0 1.75.784 1.75 1.75v11.5a.75.75 0 0 1-1.227.579L8 11.722l-3.773 3.107A.751.751 0 0 1 3 14.25Zm1.75-.25a.25.25 0 0 0-.25.25v9.91l3.023-2.489a.75.75 0 0 1 .954 0l3.023 2.49V2.75a.25.25 0 0 0-.25-.25Z"></path>
</svg>
</template>

<template id="plus-circle-icon">
  <svg aria-hidden="true" height="16" viewBox="0 0 16 16" version="1.1" width="16" data-view-component="true" class="octicon octicon-plus-circle">
    <path d="M8 0a8 8 0 1 1 0 16A8 8 0 0 1 8 0ZM1.5 8a6.5 6.5 0 1 0 13 0 6.5 6.5 0 0 0-13 0Zm7.25-3.25v2.5h2.5a.75.75 0 0 1 0 1.5h-2.5v2.5a.75.75 0 0 1-1.5 0v-2.5h-2.5a.75.75 0 0 1 0-1.5h2.5v-2.5a.75.75 0 0 1 1.5 0Z"></path>
</svg>
</template>

<template id="circle-icon">
  <svg aria-hidden="true" height="16" viewBox="0 0 16 16" version="1.1" width="16" data-view-component="true" class="octicon octicon-dot-fill">
    <path d="M8 4a4 4 0 1 1 0 8 4 4 0 0 1 0-8Z"></path>
</svg>
</template>

<template id="trash-icon">
  <svg aria-hidden="true" height="16" viewBox="0 0 16 16" version="1.1" width="16" data-view-component="true" class="octicon octicon-trash">
    <path d="M11 1.75V3h2.25a.75.75 0 0 1 0 1.5H2.75a.75.75 0 0 1 0-1.5H5V1.75C5 .784 5.784 0 6.75 0h2.5C10.216 0 11 .784 11 1.75ZM4.496 6.675l.66 6.6a.25.25 0 0 0 .249.225h5.19a.25.25 0 0 0 .249-.225l.66-6.6a.75.75 0 0 1 1.492.149l-.66 6.6A1.748 1.748 0 0 1 10.595 15h-5.19a1.75 1.75 0 0 1-1.741-1.575l-.66-6.6a.75.75 0 1 1 1.492-.15ZM6.5 1.75V3h3V1.75a.25.25 0 0 0-.25-.25h-2.5a.25.25 0 0 0-.25.25Z"></path>
</svg>
</template>

<template id="team-icon">
  <svg aria-hidden="true" height="16" viewBox="0 0 16 16" version="1.1" width="16" data-view-component="true" class="octicon octicon-people">
    <path d="M2 5.5a3.5 3.5 0 1 1 5.898 2.549 5.508 5.508 0 0 1 3.034 4.084.75.75 0 1 1-1.482.235 4 4 0 0 0-7.9 0 .75.75 0 0 1-1.482-.236A5.507 5.507 0 0 1 3.102 8.05 3.493 3.493 0 0 1 2 5.5ZM11 4a3.001 3.001 0 0 1 2.22 5.018 5.01 5.01 0 0 1 2.56 3.012.749.749 0 0 1-.885.954.752.752 0 0 1-.549-.514 3.507 3.507 0 0 0-2.522-2.372.75.75 0 0 1-.574-.73v-.352a.75.75 0 0 1 .416-.672A1.5 1.5 0 0 0 11 5.5.75.75 0 0 1 11 4Zm-5.5-.5a2 2 0 1 0-.001 3.999A2 2 0 0 0 5.5 3.5Z"></path>
</svg>
</template>

<template id="project-icon">
  <svg aria-hidden="true" height="16" viewBox="0 0 16 16" version="1.1" width="16" data-view-component="true" class="octicon octicon-project">
    <path d="M1.75 0h12.5C15.216 0 16 .784 16 1.75v12.5A1.75 1.75 0 0 1 14.25 16H1.75A1.75 1.75 0 0 1 0 14.25V1.75C0 .784.784 0 1.75 0ZM1.5 1.75v12.5c0 .138.112.25.25.25h12.5a.25.25 0 0 0 .25-.25V1.75a.25.25 0 0 0-.25-.25H1.75a.25.25 0 0 0-.25.25ZM11.75 3a.75.75 0 0 1 .75.75v7.5a.75.75 0 0 1-1.5 0v-7.5a.75.75 0 0 1 .75-.75Zm-8.25.75a.75.75 0 0 1 1.5 0v5.5a.75.75 0 0 1-1.5 0ZM8 3a.75.75 0 0 1 .75.75v3.5a.75.75 0 0 1-1.5 0v-3.5A.75.75 0 0 1 8 3Z"></path>
</svg>
</template>

<template id="pencil-icon">
  <svg aria-hidden="true" height="16" viewBox="0 0 16 16" version="1.1" width="16" data-view-component="true" class="octicon octicon-pencil">
    <path d="M11.013 1.427a1.75 1.75 0 0 1 2.474 0l1.086 1.086a1.75 1.75 0 0 1 0 2.474l-8.61 8.61c-.21.21-.47.364-.756.445l-3.251.93a.75.75 0 0 1-.927-.928l.929-3.25c.081-.286.235-.547.445-.758l8.61-8.61Zm.176 4.823L9.75 4.81l-6.286 6.287a.253.253 0 0 0-.064.108l-.558 1.953 1.953-.558a.253.253 0 0 0 .108-.064Zm1.238-3.763a.25.25 0 0 0-.354 0L10.811 3.75l1.439 1.44 1.263-1.263a.25.25 0 0 0 0-.354Z"></path>
</svg>
</template>

<template id="copilot-icon">
  <svg aria-hidden="true" height="16" viewBox="0 0 16 16" version="1.1" width="16" data-view-component="true" class="octicon octicon-copilot">
    <path d="M7.998 15.035c-4.562 0-7.873-2.914-7.998-3.749V9.338c.085-.628.677-1.686 1.588-2.065.013-.07.024-.143.036-.218.029-.183.06-.384.126-.612-.201-.508-.254-1.084-.254-1.656 0-.87.128-1.769.693-2.484.579-.733 1.494-1.124 2.724-1.261 1.206-.134 2.262.034 2.944.765.05.053.096.108.139.165.044-.057.094-.112.143-.165.682-.731 1.738-.899 2.944-.765 1.23.137 2.145.528 2.724 1.261.566.715.693 1.614.693 2.484 0 .572-.053 1.148-.254 1.656.066.228.098.429.126.612.012.076.024.148.037.218.924.385 1.522 1.471 1.591 2.095v1.872c0 .766-3.351 3.795-8.002 3.795Zm0-1.485c2.28 0 4.584-1.11 5.002-1.433V7.862l-.023-.116c-.49.21-1.075.291-1.727.291-1.146 0-2.059-.327-2.71-.991A3.222 3.222 0 0 1 8 6.303a3.24 3.24 0 0 1-.544.743c-.65.664-1.563.991-2.71.991-.652 0-1.236-.081-1.727-.291l-.023.116v4.255c.419.323 2.722 1.433 5.002 1.433ZM6.762 2.83c-.193-.206-.637-.413-1.682-.297-1.019.113-1.479.404-1.713.7-.247.312-.369.789-.369 1.554 0 .793.129 1.171.308 1.371.162.181.519.379 1.442.379.853 0 1.339-.235 1.638-.54.315-.322.527-.827.617-1.553.117-.935-.037-1.395-.241-1.614Zm4.155-.297c-1.044-.116-1.488.091-1.681.297-.204.219-.359.679-.242 1.614.091.726.303 1.231.618 1.553.299.305.784.54 1.638.54.922 0 1.28-.198 1.442-.379.179-.2.308-.578.308-1.371 0-.765-.123-1.242-.37-1.554-.233-.296-.693-.587-1.713-.7Z"></path><path d="M6.25 9.037a.75.75 0 0 1 .75.75v1.501a.75.75 0 0 1-1.5 0V9.787a.75.75 0 0 1 .75-.75Zm4.25.75v1.501a.75.75 0 0 1-1.5 0V9.787a.75.75 0 0 1 1.5 0Z"></path>
</svg>
</template>

<template id="copilot-error-icon">
  <svg aria-hidden="true" height="16" viewBox="0 0 16 16" version="1.1" width="16" data-view-component="true" class="octicon octicon-copilot-error">
    <path d="M16 11.24c0 .112-.072.274-.21.467L13 9.688V7.862l-.023-.116c-.49.21-1.075.291-1.727.291-.198 0-.388-.009-.571-.029L6.833 5.226a4.01 4.01 0 0 0 .17-.782c.117-.935-.037-1.395-.241-1.614-.193-.206-.637-.413-1.682-.297-.683.076-1.115.231-1.395.415l-1.257-.91c.579-.564 1.413-.877 2.485-.996 1.206-.134 2.262.034 2.944.765.05.053.096.108.139.165.044-.057.094-.112.143-.165.682-.731 1.738-.899 2.944-.765 1.23.137 2.145.528 2.724 1.261.566.715.693 1.614.693 2.484 0 .572-.053 1.148-.254 1.656.066.228.098.429.126.612.012.076.024.148.037.218.924.385 1.522 1.471 1.591 2.095Zm-5.083-8.707c-1.044-.116-1.488.091-1.681.297-.204.219-.359.679-.242 1.614.091.726.303 1.231.618 1.553.299.305.784.54 1.638.54.922 0 1.28-.198 1.442-.379.179-.2.308-.578.308-1.371 0-.765-.123-1.242-.37-1.554-.233-.296-.693-.587-1.713-.7Zm2.511 11.074c-1.393.776-3.272 1.428-5.43 1.428-4.562 0-7.873-2.914-7.998-3.749V9.338c.085-.628.677-1.686 1.588-2.065.013-.07.024-.143.036-.218.029-.183.06-.384.126-.612-.18-.455-.241-.963-.252-1.475L.31 4.107A.747.747 0 0 1 0 3.509V3.49a.748.748 0 0 1 .625-.73c.156-.026.306.047.435.139l14.667 10.578a.592.592 0 0 1 .227.264.752.752 0 0 1 .046.249v.022a.75.75 0 0 1-1.19.596Zm-1.367-.991L5.635 7.964a5.128 5.128 0 0 1-.889.073c-.652 0-1.236-.081-1.727-.291l-.023.116v4.255c.419.323 2.722 1.433 5.002 1.433 1.539 0 3.089-.505 4.063-.934Z"></path>
</svg>
</template>

<template id="workflow-icon">
  <svg aria-hidden="true" height="16" viewBox="0 0 16 16" version="1.1" width="16" data-view-component="true" class="octicon octicon-workflow">
    <path d="M0 1.75C0 .784.784 0 1.75 0h3.5C6.216 0 7 .784 7 1.75v3.5A1.75 1.75 0 0 1 5.25 7H4v4a1 1 0 0 0 1 1h4v-1.25C9 9.784 9.784 9 10.75 9h3.5c.966 0 1.75.784 1.75 1.75v3.5A1.75 1.75 0 0 1 14.25 16h-3.5A1.75 1.75 0 0 1 9 14.25v-.75H5A2.5 2.5 0 0 1 2.5 11V7h-.75A1.75 1.75 0 0 1 0 5.25Zm1.75-.25a.25.25 0 0 0-.25.25v3.5c0 .138.112.25.25.25h3.5a.25.25 0 0 0 .25-.25v-3.5a.25.25 0 0 0-.25-.25Zm9 9a.25.25 0 0 0-.25.25v3.5c0 .138.112.25.25.25h3.5a.25.25 0 0 0 .25-.25v-3.5a.25.25 0 0 0-.25-.25Z"></path>
</svg>
</template>

<template id="book-icon">
  <svg aria-hidden="true" height="16" viewBox="0 0 16 16" version="1.1" width="16" data-view-component="true" class="octicon octicon-book">
    <path d="M0 1.75A.75.75 0 0 1 .75 1h4.253c1.227 0 2.317.59 3 1.501A3.743 3.743 0 0 1 11.006 1h4.245a.75.75 0 0 1 .75.75v10.5a.75.75 0 0 1-.75.75h-4.507a2.25 2.25 0 0 0-1.591.659l-.622.621a.75.75 0 0 1-1.06 0l-.622-.621A2.25 2.25 0 0 0 5.258 13H.75a.75.75 0 0 1-.75-.75Zm7.251 10.324.004-5.073-.002-2.253A2.25 2.25 0 0 0 5.003 2.5H1.5v9h3.757a3.75 3.75 0 0 1 1.994.574ZM8.755 4.75l-.004 7.322a3.752 3.752 0 0 1 1.992-.572H14.5v-9h-3.495a2.25 2.25 0 0 0-2.25 2.25Z"></path>
</svg>
</template>

<template id="code-review-icon">
  <svg aria-hidden="true" height="16" viewBox="0 0 16 16" version="1.1" width="16" data-view-component="true" class="octicon octicon-code-review">
    <path d="M1.75 1h12.5c.966 0 1.75.784 1.75 1.75v8.5A1.75 1.75 0 0 1 14.25 13H8.061l-2.574 2.573A1.458 1.458 0 0 1 3 14.543V13H1.75A1.75 1.75 0 0 1 0 11.25v-8.5C0 1.784.784 1 1.75 1ZM1.5 2.75v8.5c0 .138.112.25.25.25h2a.75.75 0 0 1 .75.75v2.19l2.72-2.72a.749.749 0 0 1 .53-.22h6.5a.25.25 0 0 0 .25-.25v-8.5a.25.25 0 0 0-.25-.25H1.75a.25.25 0 0 0-.25.25Zm5.28 1.72a.75.75 0 0 1 0 1.06L5.31 7l1.47 1.47a.751.751 0 0 1-.018 1.042.751.751 0 0 1-1.042.018l-2-2a.75.75 0 0 1 0-1.06l2-2a.75.75 0 0 1 1.06 0Zm2.44 0a.75.75 0 0 1 1.06 0l2 2a.75.75 0 0 1 0 1.06l-2 2a.751.751 0 0 1-1.042-.018.751.751 0 0 1-.018-1.042L10.69 7 9.22 5.53a.75.75 0 0 1 0-1.06Z"></path>
</svg>
</template>

<template id="codespaces-icon">
  <svg aria-hidden="true" height="16" viewBox="0 0 16 16" version="1.1" width="16" data-view-component="true" class="octicon octicon-codespaces">
    <path d="M0 11.25c0-.966.784-1.75 1.75-1.75h12.5c.966 0 1.75.784 1.75 1.75v3A1.75 1.75 0 0 1 14.25 16H1.75A1.75 1.75 0 0 1 0 14.25Zm2-9.5C2 .784 2.784 0 3.75 0h8.5C13.216 0 14 .784 14 1.75v5a1.75 1.75 0 0 1-1.75 1.75h-8.5A1.75 1.75 0 0 1 2 6.75Zm1.75-.25a.25.25 0 0 0-.25.25v5c0 .138.112.25.25.25h8.5a.25.25 0 0 0 .25-.25v-5a.25.25 0 0 0-.25-.25Zm-2 9.5a.25.25 0 0 0-.25.25v3c0 .138.112.25.25.25h12.5a.25.25 0 0 0 .25-.25v-3a.25.25 0 0 0-.25-.25Z"></path><path d="M7 12.75a.75.75 0 0 1 .75-.75h4.5a.75.75 0 0 1 0 1.5h-4.5a.75.75 0 0 1-.75-.75Zm-4 0a.75.75 0 0 1 .75-.75h.5a.75.75 0 0 1 0 1.5h-.5a.75.75 0 0 1-.75-.75Z"></path>
</svg>
</template>

<template id="comment-icon">
  <svg aria-hidden="true" height="16" viewBox="0 0 16 16" version="1.1" width="16" data-view-component="true" class="octicon octicon-comment">
    <path d="M1 2.75C1 1.784 1.784 1 2.75 1h10.5c.966 0 1.75.784 1.75 1.75v7.5A1.75 1.75 0 0 1 13.25 12H9.06l-2.573 2.573A1.458 1.458 0 0 1 4 13.543V12H2.75A1.75 1.75 0 0 1 1 10.25Zm1.75-.25a.25.25 0 0 0-.25.25v7.5c0 .138.112.25.25.25h2a.75.75 0 0 1 .75.75v2.19l2.72-2.72a.749.749 0 0 1 .53-.22h4.5a.25.25 0 0 0 .25-.25v-7.5a.25.25 0 0 0-.25-.25Z"></path>
</svg>
</template>

<template id="comment-discussion-icon">
  <svg aria-hidden="true" height="16" viewBox="0 0 16 16" version="1.1" width="16" data-view-component="true" class="octicon octicon-comment-discussion">
    <path d="M1.75 1h8.5c.966 0 1.75.784 1.75 1.75v5.5A1.75 1.75 0 0 1 10.25 10H7.061l-2.574 2.573A1.458 1.458 0 0 1 2 11.543V10h-.25A1.75 1.75 0 0 1 0 8.25v-5.5C0 1.784.784 1 1.75 1ZM1.5 2.75v5.5c0 .138.112.25.25.25h1a.75.75 0 0 1 .75.75v2.19l2.72-2.72a.749.749 0 0 1 .53-.22h3.5a.25.25 0 0 0 .25-.25v-5.5a.25.25 0 0 0-.25-.25h-8.5a.25.25 0 0 0-.25.25Zm13 2a.25.25 0 0 0-.25-.25h-.5a.75.75 0 0 1 0-1.5h.5c.966 0 1.75.784 1.75 1.75v5.5A1.75 1.75 0 0 1 14.25 12H14v1.543a1.458 1.458 0 0 1-2.487 1.03L9.22 12.28a.749.749 0 0 1 .326-1.275.749.749 0 0 1 .734.215l2.22 2.22v-2.19a.75.75 0 0 1 .75-.75h1a.25.25 0 0 0 .25-.25Z"></path>
</svg>
</template>

<template id="organization-icon">
  <svg aria-hidden="true" height="16" viewBox="0 0 16 16" version="1.1" width="16" data-view-component="true" class="octicon octicon-organization">
    <path d="M1.75 16A1.75 1.75 0 0 1 0 14.25V1.75C0 .784.784 0 1.75 0h8.5C11.216 0 12 .784 12 1.75v12.5c0 .085-.006.168-.018.25h2.268a.25.25 0 0 0 .25-.25V8.285a.25.25 0 0 0-.111-.208l-1.055-.703a.749.749 0 1 1 .832-1.248l1.055.703c.487.325.779.871.779 1.456v5.965A1.75 1.75 0 0 1 14.25 16h-3.5a.766.766 0 0 1-.197-.026c-.099.017-.2.026-.303.026h-3a.75.75 0 0 1-.75-.75V14h-1v1.25a.75.75 0 0 1-.75.75Zm-.25-1.75c0 .138.112.25.25.25H4v-1.25a.75.75 0 0 1 .75-.75h2.5a.75.75 0 0 1 .75.75v1.25h2.25a.25.25 0 0 0 .25-.25V1.75a.25.25 0 0 0-.25-.25h-8.5a.25.25 0 0 0-.25.25ZM3.75 6h.5a.75.75 0 0 1 0 1.5h-.5a.75.75 0 0 1 0-1.5ZM3 3.75A.75.75 0 0 1 3.75 3h.5a.75.75 0 0 1 0 1.5h-.5A.75.75 0 0 1 3 3.75Zm4 3A.75.75 0 0 1 7.75 6h.5a.75.75 0 0 1 0 1.5h-.5A.75.75 0 0 1 7 6.75ZM7.75 3h.5a.75.75 0 0 1 0 1.5h-.5a.75.75 0 0 1 0-1.5ZM3 9.75A.75.75 0 0 1 3.75 9h.5a.75.75 0 0 1 0 1.5h-.5A.75.75 0 0 1 3 9.75ZM7.75 9h.5a.75.75 0 0 1 0 1.5h-.5a.75.75 0 0 1 0-1.5Z"></path>
</svg>
</template>

<template id="rocket-icon">
  <svg aria-hidden="true" height="16" viewBox="0 0 16 16" version="1.1" width="16" data-view-component="true" class="octicon octicon-rocket">
    <path d="M14.064 0h.186C15.216 0 16 .784 16 1.75v.186a8.752 8.752 0 0 1-2.564 6.186l-.458.459c-.314.314-.641.616-.979.904v3.207c0 .608-.315 1.172-.833 1.49l-2.774 1.707a.749.749 0 0 1-1.11-.418l-.954-3.102a1.214 1.214 0 0 1-.145-.125L3.754 9.816a1.218 1.218 0 0 1-.124-.145L.528 8.717a.749.749 0 0 1-.418-1.11l1.71-2.774A1.748 1.748 0 0 1 3.31 4h3.204c.288-.338.59-.665.904-.979l.459-.458A8.749 8.749 0 0 1 14.064 0ZM8.938 3.623h-.002l-.458.458c-.76.76-1.437 1.598-2.02 2.5l-1.5 2.317 2.143 2.143 2.317-1.5c.902-.583 1.74-1.26 2.499-2.02l.459-.458a7.25 7.25 0 0 0 2.123-5.127V1.75a.25.25 0 0 0-.25-.25h-.186a7.249 7.249 0 0 0-5.125 2.123ZM3.56 14.56c-.732.732-2.334 1.045-3.005 1.148a.234.234 0 0 1-.201-.064.234.234 0 0 1-.064-.201c.103-.671.416-2.273 1.15-3.003a1.502 1.502 0 1 1 2.12 2.12Zm6.94-3.935c-.088.06-.177.118-.266.175l-2.35 1.521.548 1.783 1.949-1.2a.25.25 0 0 0 .119-.213ZM3.678 8.116 5.2 5.766c.058-.09.117-.178.176-.266H3.309a.25.25 0 0 0-.213.119l-1.2 1.95ZM12 5a1 1 0 1 1-2 0 1 1 0 0 1 2 0Z"></path>
</svg>
</template>

<template id="shield-check-icon">
  <svg aria-hidden="true" height="16" viewBox="0 0 16 16" version="1.1" width="16" data-view-component="true" class="octicon octicon-shield-check">
    <path d="m8.533.133 5.25 1.68A1.75 1.75 0 0 1 15 3.48V7c0 1.566-.32 3.182-1.303 4.682-.983 1.498-2.585 2.813-5.032 3.855a1.697 1.697 0 0 1-1.33 0c-2.447-1.042-4.049-2.357-5.032-3.855C1.32 10.182 1 8.566 1 7V3.48a1.75 1.75 0 0 1 1.217-1.667l5.25-1.68a1.748 1.748 0 0 1 1.066 0Zm-.61 1.429.001.001-5.25 1.68a.251.251 0 0 0-.174.237V7c0 1.36.275 2.666 1.057 3.859.784 1.194 2.121 2.342 4.366 3.298a.196.196 0 0 0 .154 0c2.245-.957 3.582-2.103 4.366-3.297C13.225 9.666 13.5 8.358 13.5 7V3.48a.25.25 0 0 0-.174-.238l-5.25-1.68a.25.25 0 0 0-.153 0ZM11.28 6.28l-3.5 3.5a.75.75 0 0 1-1.06 0l-1.5-1.5a.749.749 0 0 1 .326-1.275.749.749 0 0 1 .734.215l.97.97 2.97-2.97a.751.751 0 0 1 1.042.018.751.751 0 0 1 .018 1.042Z"></path>
</svg>
</template>

<template id="heart-icon">
  <svg aria-hidden="true" height="16" viewBox="0 0 16 16" version="1.1" width="16" data-view-component="true" class="octicon octicon-heart">
    <path d="m8 14.25.345.666a.75.75 0 0 1-.69 0l-.008-.004-.018-.01a7.152 7.152 0 0 1-.31-.17 22.055 22.055 0 0 1-3.434-2.414C2.045 10.731 0 8.35 0 5.5 0 2.836 2.086 1 4.25 1 5.797 1 7.153 1.802 8 3.02 8.847 1.802 10.203 1 11.75 1 13.914 1 16 2.836 16 5.5c0 2.85-2.045 5.231-3.885 6.818a22.066 22.066 0 0 1-3.744 2.584l-.018.01-.006.003h-.002ZM4.25 2.5c-1.336 0-2.75 1.164-2.75 3 0 2.15 1.58 4.144 3.365 5.682A20.58 20.58 0 0 0 8 13.393a20.58 20.58 0 0 0 3.135-2.211C12.92 9.644 14.5 7.65 14.5 5.5c0-1.836-1.414-3-2.75-3-1.373 0-2.609.986-3.029 2.456a.749.749 0 0 1-1.442 0C6.859 3.486 5.623 2.5 4.25 2.5Z"></path>
</svg>
</template>

<template id="server-icon">
  <svg aria-hidden="true" height="16" viewBox="0 0 16 16" version="1.1" width="16" data-view-component="true" class="octicon octicon-server">
    <path d="M1.75 1h12.5c.966 0 1.75.784 1.75 1.75v4c0 .372-.116.717-.314 1 .198.283.314.628.314 1v4a1.75 1.75 0 0 1-1.75 1.75H1.75A1.75 1.75 0 0 1 0 12.75v-4c0-.358.109-.707.314-1a1.739 1.739 0 0 1-.314-1v-4C0 1.784.784 1 1.75 1ZM1.5 2.75v4c0 .138.112.25.25.25h12.5a.25.25 0 0 0 .25-.25v-4a.25.25 0 0 0-.25-.25H1.75a.25.25 0 0 0-.25.25Zm.25 5.75a.25.25 0 0 0-.25.25v4c0 .138.112.25.25.25h12.5a.25.25 0 0 0 .25-.25v-4a.25.25 0 0 0-.25-.25ZM7 4.75A.75.75 0 0 1 7.75 4h4.5a.75.75 0 0 1 0 1.5h-4.5A.75.75 0 0 1 7 4.75ZM7.75 10h4.5a.75.75 0 0 1 0 1.5h-4.5a.75.75 0 0 1 0-1.5ZM3 4.75A.75.75 0 0 1 3.75 4h.5a.75.75 0 0 1 0 1.5h-.5A.75.75 0 0 1 3 4.75ZM3.75 10h.5a.75.75 0 0 1 0 1.5h-.5a.75.75 0 0 1 0-1.5Z"></path>
</svg>
</template>

<template id="globe-icon">
  <svg aria-hidden="true" height="16" viewBox="0 0 16 16" version="1.1" width="16" data-view-component="true" class="octicon octicon-globe">
    <path d="M8 0a8 8 0 1 1 0 16A8 8 0 0 1 8 0ZM5.78 8.75a9.64 9.64 0 0 0 1.363 4.177c.255.426.542.832.857 1.215.245-.296.551-.705.857-1.215A9.64 9.64 0 0 0 10.22 8.75Zm4.44-1.5a9.64 9.64 0 0 0-1.363-4.177c-.307-.51-.612-.919-.857-1.215a9.927 9.927 0 0 0-.857 1.215A9.64 9.64 0 0 0 5.78 7.25Zm-5.944 1.5H1.543a6.507 6.507 0 0 0 4.666 5.5c-.123-.181-.24-.365-.352-.552-.715-1.192-1.437-2.874-1.581-4.948Zm-2.733-1.5h2.733c.144-2.074.866-3.756 1.58-4.948.12-.197.237-.381.353-.552a6.507 6.507 0 0 0-4.666 5.5Zm10.181 1.5c-.144 2.074-.866 3.756-1.58 4.948-.12.197-.237.381-.353.552a6.507 6.507 0 0 0 4.666-5.5Zm2.733-1.5a6.507 6.507 0 0 0-4.666-5.5c.123.181.24.365.353.552.714 1.192 1.436 2.874 1.58 4.948Z"></path>
</svg>
</template>

<template id="issue-opened-icon">
  <svg aria-hidden="true" height="16" viewBox="0 0 16 16" version="1.1" width="16" data-view-component="true" class="octicon octicon-issue-opened">
    <path d="M8 9.5a1.5 1.5 0 1 0 0-3 1.5 1.5 0 0 0 0 3Z"></path><path d="M8 0a8 8 0 1 1 0 16A8 8 0 0 1 8 0ZM1.5 8a6.5 6.5 0 1 0 13 0 6.5 6.5 0 0 0-13 0Z"></path>
</svg>
</template>

<template id="device-mobile-icon">
  <svg aria-hidden="true" height="16" viewBox="0 0 16 16" version="1.1" width="16" data-view-component="true" class="octicon octicon-device-mobile">
    <path d="M3.75 0h8.5C13.216 0 14 .784 14 1.75v12.5A1.75 1.75 0 0 1 12.25 16h-8.5A1.75 1.75 0 0 1 2 14.25V1.75C2 .784 2.784 0 3.75 0ZM3.5 1.75v12.5c0 .138.112.25.25.25h8.5a.25.25 0 0 0 .25-.25V1.75a.25.25 0 0 0-.25-.25h-8.5a.25.25 0 0 0-.25.25ZM8 13a1 1 0 1 1 0-2 1 1 0 0 1 0 2Z"></path>
</svg>
</template>

<template id="package-icon">
  <svg aria-hidden="true" height="16" viewBox="0 0 16 16" version="1.1" width="16" data-view-component="true" class="octicon octicon-package">
    <path d="m8.878.392 5.25 3.045c.54.314.872.89.872 1.514v6.098a1.75 1.75 0 0 1-.872 1.514l-5.25 3.045a1.75 1.75 0 0 1-1.756 0l-5.25-3.045A1.75 1.75 0 0 1 1 11.049V4.951c0-.624.332-1.201.872-1.514L7.122.392a1.75 1.75 0 0 1 1.756 0ZM7.875 1.69l-4.63 2.685L8 7.133l4.755-2.758-4.63-2.685a.248.248 0 0 0-.25 0ZM2.5 5.677v5.372c0 .09.047.171.125.216l4.625 2.683V8.432Zm6.25 8.271 4.625-2.683a.25.25 0 0 0 .125-.216V5.677L8.75 8.432Z"></path>
</svg>
</template>

<template id="credit-card-icon">
  <svg aria-hidden="true" height="16" viewBox="0 0 16 16" version="1.1" width="16" data-view-component="true" class="octicon octicon-credit-card">
    <path d="M10.75 9a.75.75 0 0 0 0 1.5h1.5a.75.75 0 0 0 0-1.5h-1.5Z"></path><path d="M0 3.75C0 2.784.784 2 1.75 2h12.5c.966 0 1.75.784 1.75 1.75v8.5A1.75 1.75 0 0 1 14.25 14H1.75A1.75 1.75 0 0 1 0 12.25ZM14.5 6.5h-13v5.75c0 .138.112.25.25.25h12.5a.25.25 0 0 0 .25-.25Zm0-2.75a.25.25 0 0 0-.25-.25H1.75a.25.25 0 0 0-.25.25V5h13Z"></path>
</svg>
</template>

<template id="play-icon">
  <svg aria-hidden="true" height="16" viewBox="0 0 16 16" version="1.1" width="16" data-view-component="true" class="octicon octicon-play">
    <path d="M8 0a8 8 0 1 1 0 16A8 8 0 0 1 8 0ZM1.5 8a6.5 6.5 0 1 0 13 0 6.5 6.5 0 0 0-13 0Zm4.879-2.773 4.264 2.559a.25.25 0 0 1 0 .428l-4.264 2.559A.25.25 0 0 1 6 10.559V5.442a.25.25 0 0 1 .379-.215Z"></path>
</svg>
</template>

<template id="gift-icon">
  <svg aria-hidden="true" height="16" viewBox="0 0 16 16" version="1.1" width="16" data-view-component="true" class="octicon octicon-gift">
    <path d="M2 2.75A2.75 2.75 0 0 1 4.75 0c.983 0 1.873.42 2.57 1.232.268.318.497.668.68 1.042.183-.375.411-.725.68-1.044C9.376.42 10.266 0 11.25 0a2.75 2.75 0 0 1 2.45 4h.55c.966 0 1.75.784 1.75 1.75v2c0 .698-.409 1.301-1 1.582v4.918A1.75 1.75 0 0 1 13.25 16H2.75A1.75 1.75 0 0 1 1 14.25V9.332C.409 9.05 0 8.448 0 7.75v-2C0 4.784.784 4 1.75 4h.55c-.192-.375-.3-.8-.3-1.25ZM7.25 9.5H2.5v4.75c0 .138.112.25.25.25h4.5Zm1.5 0v5h4.5a.25.25 0 0 0 .25-.25V9.5Zm0-4V8h5.5a.25.25 0 0 0 .25-.25v-2a.25.25 0 0 0-.25-.25Zm-7 0a.25.25 0 0 0-.25.25v2c0 .138.112.25.25.25h5.5V5.5h-5.5Zm3-4a1.25 1.25 0 0 0 0 2.5h2.309c-.233-.818-.542-1.401-.878-1.793-.43-.502-.915-.707-1.431-.707ZM8.941 4h2.309a1.25 1.25 0 0 0 0-2.5c-.516 0-1 .205-1.43.707-.337.392-.646.975-.879 1.793Z"></path>
</svg>
</template>

<template id="code-square-icon">
  <svg aria-hidden="true" height="16" viewBox="0 0 16 16" version="1.1" width="16" data-view-component="true" class="octicon octicon-code-square">
    <path d="M0 1.75C0 .784.784 0 1.75 0h12.5C15.216 0 16 .784 16 1.75v12.5A1.75 1.75 0 0 1 14.25 16H1.75A1.75 1.75 0 0 1 0 14.25Zm1.75-.25a.25.25 0 0 0-.25.25v12.5c0 .138.112.25.25.25h12.5a.25.25 0 0 0 .25-.25V1.75a.25.25 0 0 0-.25-.25Zm7.47 3.97a.75.75 0 0 1 1.06 0l2 2a.75.75 0 0 1 0 1.06l-2 2a.749.749 0 0 1-1.275-.326.749.749 0 0 1 .215-.734L10.69 8 9.22 6.53a.75.75 0 0 1 0-1.06ZM6.78 6.53 5.31 8l1.47 1.47a.749.749 0 0 1-.326 1.275.749.749 0 0 1-.734-.215l-2-2a.75.75 0 0 1 0-1.06l2-2a.751.751 0 0 1 1.042.018.751.751 0 0 1 .018 1.042Z"></path>
</svg>
</template>

<template id="device-desktop-icon">
  <svg aria-hidden="true" height="16" viewBox="0 0 16 16" version="1.1" width="16" data-view-component="true" class="octicon octicon-device-desktop">
    <path d="M14.25 1c.966 0 1.75.784 1.75 1.75v7.5A1.75 1.75 0 0 1 14.25 12h-3.727c.099 1.041.52 1.872 1.292 2.757A.752.752 0 0 1 11.25 16h-6.5a.75.75 0 0 1-.565-1.243c.772-.885 1.192-1.716 1.292-2.757H1.75A1.75 1.75 0 0 1 0 10.25v-7.5C0 1.784.784 1 1.75 1ZM1.75 2.5a.25.25 0 0 0-.25.25v7.5c0 .138.112.25.25.25h12.5a.25.25 0 0 0 .25-.25v-7.5a.25.25 0 0 0-.25-.25ZM9.018 12H6.982a5.72 5.72 0 0 1-.765 2.5h3.566a5.72 5.72 0 0 1-.765-2.5Z"></path>
</svg>
</template>

        <div class="position-relative">
                <ul
                  role="listbox"
                  class="ActionListWrap QueryBuilder-ListWrap"
                  aria-label="Suggestions"
                  data-action="
                    combobox-commit:query-builder#comboboxCommit
                    mousedown:query-builder#resultsMousedown
                  "
                  data-target="query-builder.resultsList"
                  data-persist-list=false
                  id="query-builder-test-results"
                ></ul>
        </div>
      <div class="FormControl-inlineValidation" id="validation-6165d84e-b6f9-4821-9623-5c05960e6f39" hidden="hidden">
        <span class="FormControl-inlineValidation--visual">
          <svg aria-hidden="true" height="12" viewBox="0 0 12 12" version="1.1" width="12" data-view-component="true" class="octicon octicon-alert-fill">
    <path d="M4.855.708c.5-.896 1.79-.896 2.29 0l4.675 8.351a1.312 1.312 0 0 1-1.146 1.954H1.33A1.313 1.313 0 0 1 .183 9.058ZM7 7V3H5v4Zm-1 3a1 1 0 1 0 0-2 1 1 0 0 0 0 2Z"></path>
</svg>
        </span>
        <span></span>
</div>    </div>
    <div data-target="query-builder.screenReaderFeedback" aria-live="polite" aria-atomic="true" class="sr-only"></div>
</query-builder></form>
          <div class="d-flex flex-row color-fg-muted px-3 text-small color-bg-default search-feedback-prompt">
            <a target="_blank" href="https://docs.github.com/search-github/github-code-search/understanding-github-code-search-syntax" data-view-component="true" class="Link color-fg-accent text-normal ml-2">
              Search syntax tips
</a>            <div class="d-flex flex-1"></div>
              <button data-action="click:qbsearch-input#showFeedbackDialog" type="button" data-view-component="true" class="Button--link Button--medium Button color-fg-accent text-normal ml-2">  <span class="Button-content">
    <span class="Button-label">Give feedback</span>
  </span>
</button>
          </div>
        </div>
</div>

    </div>
</modal-dialog></div>
  </div>
  <div data-action="click:qbsearch-input#retract" class="dark-backdrop position-fixed" hidden data-target="qbsearch-input.darkBackdrop"></div>
  <div class="color-fg-default">
    
<dialog-helper>
  <dialog data-target="qbsearch-input.feedbackDialog" data-action="close:qbsearch-input#handleDialogClose cancel:qbsearch-input#handleDialogClose" id="feedback-dialog" aria-modal="true" aria-labelledby="feedback-dialog-title" aria-describedby="feedback-dialog-description" data-view-component="true" class="Overlay Overlay-whenNarrow Overlay--size-medium Overlay--motion-scaleFade">
    <div data-view-component="true" class="Overlay-header">
  <div class="Overlay-headerContentWrap">
    <div class="Overlay-titleWrap">
      <h1 class="Overlay-title " id="feedback-dialog-title">
        Provide feedback
      </h1>
        
    </div>
    <div class="Overlay-actionWrap">
      <button data-close-dialog-id="feedback-dialog" aria-label="Close" type="button" data-view-component="true" class="close-button Overlay-closeButton"><svg aria-hidden="true" height="16" viewBox="0 0 16 16" version="1.1" width="16" data-view-component="true" class="octicon octicon-x">
    <path d="M3.72 3.72a.75.75 0 0 1 1.06 0L8 6.94l3.22-3.22a.749.749 0 0 1 1.275.326.749.749 0 0 1-.215.734L9.06 8l3.22 3.22a.749.749 0 0 1-.326 1.275.749.749 0 0 1-.734-.215L8 9.06l-3.22 3.22a.751.751 0 0 1-1.042-.018.751.751 0 0 1-.018-1.042L6.94 8 3.72 4.78a.75.75 0 0 1 0-1.06Z"></path>
</svg></button>
    </div>
  </div>
  
</div>
      <scrollable-region data-labelled-by="feedback-dialog-title">
        <div data-view-component="true" class="Overlay-body">        <!-- '"` --><!-- </textarea></xmp> --></option></form><form id="code-search-feedback-form" data-turbo="false" action="/search/feedback" accept-charset="UTF-8" method="post"><input type="hidden" name="authenticity_token" value="g2F-oCXyr70rcYo79Migen59iN0UQKChSwvkMhu0zP4FGfCYfURfr0Q9Ein9uZv5oc165hvDjo3aJQhpAvCCNw" />
          <p>We read every piece of feedback, and take your input very seriously.</p>
          <textarea name="feedback" class="form-control width-full mb-2" style="height: 120px" id="feedback"></textarea>
          <input name="include_email" id="include_email" aria-label="Include my email address so I can be contacted" class="form-control mr-2" type="checkbox">
          <label for="include_email" style="font-weight: normal">Include my email address so I can be contacted</label>
</form></div>
      </scrollable-region>
      <div data-view-component="true" class="Overlay-footer Overlay-footer--alignEnd">          <button data-close-dialog-id="feedback-dialog" type="button" data-view-component="true" class="btn">    Cancel
</button>
          <button form="code-search-feedback-form" data-action="click:qbsearch-input#submitFeedback" type="submit" data-view-component="true" class="btn-primary btn">    Submit feedback
</button>
</div>
</dialog></dialog-helper>

    <custom-scopes data-target="qbsearch-input.customScopesManager">
    
<dialog-helper>
  <dialog data-target="custom-scopes.customScopesModalDialog" data-action="close:qbsearch-input#handleDialogClose cancel:qbsearch-input#handleDialogClose" id="custom-scopes-dialog" aria-modal="true" aria-labelledby="custom-scopes-dialog-title" aria-describedby="custom-scopes-dialog-description" data-view-component="true" class="Overlay Overlay-whenNarrow Overlay--size-medium Overlay--motion-scaleFade">
    <div data-view-component="true" class="Overlay-header Overlay-header--divided">
  <div class="Overlay-headerContentWrap">
    <div class="Overlay-titleWrap">
      <h1 class="Overlay-title " id="custom-scopes-dialog-title">
        Saved searches
      </h1>
        <h2 id="custom-scopes-dialog-description" class="Overlay-description">Use saved searches to filter your results more quickly</h2>
    </div>
    <div class="Overlay-actionWrap">
      <button data-close-dialog-id="custom-scopes-dialog" aria-label="Close" type="button" data-view-component="true" class="close-button Overlay-closeButton"><svg aria-hidden="true" height="16" viewBox="0 0 16 16" version="1.1" width="16" data-view-component="true" class="octicon octicon-x">
    <path d="M3.72 3.72a.75.75 0 0 1 1.06 0L8 6.94l3.22-3.22a.749.749 0 0 1 1.275.326.749.749 0 0 1-.215.734L9.06 8l3.22 3.22a.749.749 0 0 1-.326 1.275.749.749 0 0 1-.734-.215L8 9.06l-3.22 3.22a.751.751 0 0 1-1.042-.018.751.751 0 0 1-.018-1.042L6.94 8 3.72 4.78a.75.75 0 0 1 0-1.06Z"></path>
</svg></button>
    </div>
  </div>
  
</div>
      <scrollable-region data-labelled-by="custom-scopes-dialog-title">
        <div data-view-component="true" class="Overlay-body">        <div data-target="custom-scopes.customScopesModalDialogFlash"></div>

        <div hidden class="create-custom-scope-form" data-target="custom-scopes.createCustomScopeForm">
        <!-- '"` --><!-- </textarea></xmp> --></option></form><form id="custom-scopes-dialog-form" data-turbo="false" action="/search/custom_scopes" accept-charset="UTF-8" method="post"><input type="hidden" name="authenticity_token" value="cdLE0gCFwcJjmuX30BVrGMGiOHSDpAsX5HcCDbqGkfv1IM8BmeVF1fC6shJldkZbHMW3kARP-PWtbpuW8ULGCw" />
          <div data-target="custom-scopes.customScopesModalDialogFlash"></div>

          <input type="hidden" id="custom_scope_id" name="custom_scope_id" data-target="custom-scopes.customScopesIdField">

          <div class="form-group">
            <label for="custom_scope_name">Name</label>
            <auto-check src="/search/custom_scopes/check_name" required>
              <input
                type="text"
                name="custom_scope_name"
                id="custom_scope_name"
                data-target="custom-scopes.customScopesNameField"
                class="form-control"
                autocomplete="off"
                placeholder="github-ruby"
                required
                maxlength="50">
              <input type="hidden" value="UU0t7xBm7DYaustilyCFU05lOjvUvuG37kW2UclfK27JEyRsyMqQCeGA08P5LMklel9hSiMGbJYbXJyjltmtzg" data-csrf="true" />
            </auto-check>
          </div>

          <div class="form-group">
            <label for="custom_scope_query">Query</label>
            <input
              type="text"
              name="custom_scope_query"
              id="custom_scope_query"
              data-target="custom-scopes.customScopesQueryField"
              class="form-control"
              autocomplete="off"
              placeholder="(repo:mona/a OR repo:mona/b) AND lang:python"
              required
              maxlength="500">
          </div>

          <p class="text-small color-fg-muted">
            To see all available qualifiers, see our <a class="Link--inTextBlock" href="https://docs.github.com/search-github/github-code-search/understanding-github-code-search-syntax">documentation</a>.
          </p>
</form>        </div>

        <div data-target="custom-scopes.manageCustomScopesForm">
          <div data-target="custom-scopes.list"></div>
        </div>

</div>
      </scrollable-region>
      <div data-view-component="true" class="Overlay-footer Overlay-footer--alignEnd Overlay-footer--divided">          <button data-action="click:custom-scopes#customScopesCancel" type="button" data-view-component="true" class="btn">    Cancel
</button>
          <button form="custom-scopes-dialog-form" data-action="click:custom-scopes#customScopesSubmit" data-target="custom-scopes.customScopesSubmitButton" type="submit" data-view-component="true" class="btn-primary btn">    Create saved search
</button>
</div>
</dialog></dialog-helper>
    </custom-scopes>
  </div>
</qbsearch-input>    <input type="hidden" value="npLNxdv20MeF82Ow4B5ZAF5MpkwIWalPFPRzT32Cm8COZ0kxSrCeBA8BvF6Z7c2lhfIV5nMCOZZnc-ynnrUGMA" data-csrf="true" class="js-data-jump-to-suggestions-path-csrf" />

          </div>

        <div class="AppHeader-actions position-relative">
             <react-partial-anchor>
      <button id="global-create-menu-anchor" aria-label="Create something new" data-target="react-partial-anchor.anchor" type="button" disabled="disabled" data-view-component="true" class="AppHeader-button global-create-button cursor-wait Button--secondary Button--medium Button width-auto color-fg-muted">  <span class="Button-content">
      <span class="Button-visual Button-leadingVisual">
        <svg aria-hidden="true" height="16" viewBox="0 0 16 16" version="1.1" width="16" data-view-component="true" class="octicon octicon-plus">
    <path d="M7.75 2a.75.75 0 0 1 .75.75V7h4.25a.75.75 0 0 1 0 1.5H8.5v4.25a.75.75 0 0 1-1.5 0V8.5H2.75a.75.75 0 0 1 0-1.5H7V2.75A.75.75 0 0 1 7.75 2Z"></path>
</svg>
      </span>
    <span class="Button-label"><svg aria-hidden="true" height="16" viewBox="0 0 16 16" version="1.1" width="16" data-view-component="true" class="octicon octicon-triangle-down">
    <path d="m4.427 7.427 3.396 3.396a.25.25 0 0 0 .354 0l3.396-3.396A.25.25 0 0 0 11.396 7H4.604a.25.25 0 0 0-.177.427Z"></path>
</svg></span>
  </span>
</button><tool-tip id="tooltip-140719ac-f7bf-4714-bf51-148c64e3fc67" for="global-create-menu-anchor" popover="manual" data-direction="s" data-type="description" data-view-component="true" class="sr-only position-absolute">Create new...</tool-tip>

      <template data-target="react-partial-anchor.template">
        <script crossorigin="anonymous" defer="defer" type="application/javascript" src="https://github.githubassets.com/assets/vendors-node_modules_primer_react_lib-esm_FeatureFlags_FeatureFlags_js-node_modules_primer_re-7faff4-e1568ba89b9c.js"></script>
<script crossorigin="anonymous" defer="defer" type="application/javascript" src="https://github.githubassets.com/assets/ui_packages_react-core_register-partial_ts-ui_packages_global-create-menu_GlobalCreateMenu_tsx-eda592294bff.js"></script>
<script crossorigin="anonymous" defer="defer" type="application/javascript" src="https://github.githubassets.com/assets/global-create-menu-ea4992326398.js"></script>

<react-partial
  partial-name="global-create-menu"
  data-ssr="false"
>
  
  <script type="application/json" data-target="react-partial.embeddedData">{"props":{"createRepo":true,"importRepo":true,"codespaces":true,"gist":true,"createOrg":true,"createProject":false,"createProjectUrl":"/MathforDataScience?tab=projects","createLegacyProject":false,"createIssue":false,"org":null,"owner":"MathforDataScience","repo":"DSR_Statistics1"}}</script>
  <div data-target="react-partial.reactRoot"></div>
</react-partial>

      </template>
    </react-partial-anchor>


          <a href="/issues" data-analytics-event="{&quot;category&quot;:&quot;Global navigation&quot;,&quot;action&quot;:&quot;ISSUES_HEADER&quot;,&quot;label&quot;:null}" id="icon-button-e217a1ba-eea7-4954-9a0b-e82e0294a9ae" aria-labelledby="tooltip-a43306f7-edc6-4b77-bd8d-96fd7c4b2ff8" data-view-component="true" class="Button Button--iconOnly Button--secondary Button--medium AppHeader-button color-fg-muted">  <svg aria-hidden="true" height="16" viewBox="0 0 16 16" version="1.1" width="16" data-view-component="true" class="octicon octicon-issue-opened Button-visual">
    <path d="M8 9.5a1.5 1.5 0 1 0 0-3 1.5 1.5 0 0 0 0 3Z"></path><path d="M8 0a8 8 0 1 1 0 16A8 8 0 0 1 8 0ZM1.5 8a6.5 6.5 0 1 0 13 0 6.5 6.5 0 0 0-13 0Z"></path>
</svg>
</a><tool-tip id="tooltip-a43306f7-edc6-4b77-bd8d-96fd7c4b2ff8" for="icon-button-e217a1ba-eea7-4954-9a0b-e82e0294a9ae" popover="manual" data-direction="s" data-type="label" data-view-component="true" class="sr-only position-absolute">Issues</tool-tip>

          <a href="/pulls" data-analytics-event="{&quot;category&quot;:&quot;Global navigation&quot;,&quot;action&quot;:&quot;PULL_REQUESTS_HEADER&quot;,&quot;label&quot;:null}" id="icon-button-a61713f5-1ff0-46a5-909e-b15dada4fec1" aria-labelledby="tooltip-e9685850-511e-438d-8994-a6c71e0eda68" data-view-component="true" class="Button Button--iconOnly Button--secondary Button--medium AppHeader-button color-fg-muted">  <svg aria-hidden="true" height="16" viewBox="0 0 16 16" version="1.1" width="16" data-view-component="true" class="octicon octicon-git-pull-request Button-visual">
    <path d="M1.5 3.25a2.25 2.25 0 1 1 3 2.122v5.256a2.251 2.251 0 1 1-1.5 0V5.372A2.25 2.25 0 0 1 1.5 3.25Zm5.677-.177L9.573.677A.25.25 0 0 1 10 .854V2.5h1A2.5 2.5 0 0 1 13.5 5v5.628a2.251 2.251 0 1 1-1.5 0V5a1 1 0 0 0-1-1h-1v1.646a.25.25 0 0 1-.427.177L7.177 3.427a.25.25 0 0 1 0-.354ZM3.75 2.5a.75.75 0 1 0 0 1.5.75.75 0 0 0 0-1.5Zm0 9.5a.75.75 0 1 0 0 1.5.75.75 0 0 0 0-1.5Zm8.25.75a.75.75 0 1 0 1.5 0 .75.75 0 0 0-1.5 0Z"></path>
</svg>
</a><tool-tip id="tooltip-e9685850-511e-438d-8994-a6c71e0eda68" for="icon-button-a61713f5-1ff0-46a5-909e-b15dada4fec1" popover="manual" data-direction="s" data-type="label" data-view-component="true" class="sr-only position-absolute">Pull requests</tool-tip>

        </div>

        <notification-indicator data-channel="eyJjIjoibm90aWZpY2F0aW9uLWNoYW5nZWQ6NDI5NTkxNzQiLCJ0IjoxNzIzODIzNjI4fQ==--679b1c3862b68dbc95aec6227b58ab5d1e6cc3669ee1f24a9b2f7932693f07c7" data-indicator-mode="none" data-tooltip-global="You have unread notifications" data-tooltip-unavailable="Notifications are unavailable at the moment." data-tooltip-none="You have no unread notifications" data-header-redesign-enabled="true" data-fetch-indicator-src="/notifications/indicator" data-fetch-indicator-enabled="true" data-view-component="true" class="js-socket-channel">
    <a id="AppHeader-notifications-button" href="/notifications" aria-labelledby="notification-indicator-tooltip" data-hotkey="g n" data-target="notification-indicator.link" data-analytics-event="{&quot;category&quot;:&quot;Global navigation&quot;,&quot;action&quot;:&quot;NOTIFICATIONS_HEADER&quot;,&quot;label&quot;:null}" data-view-component="true" class="Button Button--iconOnly Button--secondary Button--medium AppHeader-button  color-fg-muted">  <svg aria-hidden="true" height="16" viewBox="0 0 16 16" version="1.1" width="16" data-view-component="true" class="octicon octicon-inbox Button-visual">
    <path d="M2.8 2.06A1.75 1.75 0 0 1 4.41 1h7.18c.7 0 1.333.417 1.61 1.06l2.74 6.395c.04.093.06.194.06.295v4.5A1.75 1.75 0 0 1 14.25 15H1.75A1.75 1.75 0 0 1 0 13.25v-4.5c0-.101.02-.202.06-.295Zm1.61.44a.25.25 0 0 0-.23.152L1.887 8H4.75a.75.75 0 0 1 .6.3L6.625 10h2.75l1.275-1.7a.75.75 0 0 1 .6-.3h2.863L11.82 2.652a.25.25 0 0 0-.23-.152Zm10.09 7h-2.875l-1.275 1.7a.75.75 0 0 1-.6.3h-3.5a.75.75 0 0 1-.6-.3L4.375 9.5H1.5v3.75c0 .138.112.25.25.25h12.5a.25.25 0 0 0 .25-.25Z"></path>
</svg>
</a>

    <tool-tip id="notification-indicator-tooltip" data-target="notification-indicator.tooltip" for="AppHeader-notifications-button" popover="manual" data-direction="s" data-type="label" data-view-component="true" class="sr-only position-absolute">Notifications</tool-tip>
</notification-indicator>

        

        <div class="AppHeader-user">
          <deferred-side-panel data-url="/_side-panels/user?repository_id=661665397">
  <include-fragment data-target="deferred-side-panel.fragment">
    <react-partial-anchor
  
>
  <button data-target="react-partial-anchor.anchor" data-login="MathforDataScience" aria-label="Open user navigation menu" type="button" data-view-component="true" class="cursor-wait Button--invisible Button--medium Button Button--invisible-noVisuals color-bg-transparent p-0">  <span class="Button-content">
    <span class="Button-label"><img src="https://avatars.githubusercontent.com/u/42959174?v=4" alt="" size="32" height="32" width="32" data-view-component="true" class="avatar circle" /></span>
  </span>
</button>
  <template data-target="react-partial-anchor.template">
    <script crossorigin="anonymous" defer="defer" type="application/javascript" src="https://github.githubassets.com/assets/global-user-nav-drawer-13d6c248f2c5.js"></script>
<link crossorigin="anonymous" media="all" rel="stylesheet" href="https://github.githubassets.com/assets/primer-react-css.c618884f5114d8c53ed1.module.css" />
<link crossorigin="anonymous" media="all" rel="stylesheet" href="https://github.githubassets.com/assets/global-user-nav-drawer.dd5b95699efad9266028.module.css" />

<react-partial
  partial-name="global-user-nav-drawer"
  data-ssr="false"
>
  
  <script type="application/json" data-target="react-partial.embeddedData">{"props":{"owner":{"login":"MathforDataScience","name":null,"avatarUrl":"https://avatars.githubusercontent.com/u/42959174?v=4"},"drawerId":"global-user-nav-drawer","lazyLoadItemDataFetchUrl":"/_side-panels/user.json","canAddAccount":true,"addAccountPath":"/login?add_account=1\u0026return_to=https%3A%2F%2Fgithub.com%2FMathforDataScience%2FDSR_Statistics1%2Fblob%2Fmain%2F6_%2520Sampling%2FSampling%2520-%2520Exercises.ipynb","switchAccountPath":"/switch_account","loginAccountPath":"/login?add_account=1","projectsPath":"/MathforDataScience?tab=projects","gistsUrl":"https://gist.github.com/mine","docsUrl":"https://docs.github.com","yourEnterpriseUrl":null,"enterpriseSettingsUrl":null,"supportUrl":"https://support.github.com","showAccountSwitcher":true,"showEnterprises":true,"showEnterprise":false,"showGists":true,"showSponsors":true,"showFeaturesPreviews":true,"showEnterpriseSettings":false,"createMenuProps":{"createRepo":true,"importRepo":true,"codespaces":true,"gist":true,"createOrg":true,"createProject":false,"createProjectUrl":"/MathforDataScience?tab=projects","createLegacyProject":false,"createIssue":false,"org":null,"owner":"MathforDataScience","repo":"DSR_Statistics1"}}}</script>
  <div data-target="react-partial.reactRoot"></div>
</react-partial>

  </template>
</react-partial-anchor>

  </include-fragment>
</deferred-side-panel>
        </div>

        <div class="position-absolute mt-2">
            
<site-header-logged-in-user-menu>

</site-header-logged-in-user-menu>

        </div>
      </div>
    </div>


      <div class="AppHeader-localBar" >
        <nav data-pjax="#js-repo-pjax-container" aria-label="Repository" data-view-component="true" class="js-repo-nav js-sidenav-container-pjax js-responsive-underlinenav overflow-hidden UnderlineNav">

  <ul data-view-component="true" class="UnderlineNav-body list-style-none">
      <li data-view-component="true" class="d-inline-flex">
  <a id="code-tab" href="/MathforDataScience/DSR_Statistics1" data-tab-item="i0code-tab" data-selected-links="repo_source repo_downloads repo_commits repo_releases repo_tags repo_branches repo_packages repo_deployments repo_attestations /MathforDataScience/DSR_Statistics1" data-pjax="#repo-content-pjax-container" data-turbo-frame="repo-content-turbo-frame" data-hotkey="g c" data-analytics-event="{&quot;category&quot;:&quot;Underline navbar&quot;,&quot;action&quot;:&quot;Click tab&quot;,&quot;label&quot;:&quot;Code&quot;,&quot;target&quot;:&quot;UNDERLINE_NAV.TAB&quot;}" data-view-component="true" class="UnderlineNav-item no-wrap js-responsive-underlinenav-item js-selected-navigation-item">
    
              <svg aria-hidden="true" height="16" viewBox="0 0 16 16" version="1.1" width="16" data-view-component="true" class="octicon octicon-code UnderlineNav-octicon d-none d-sm-inline">
    <path d="m11.28 3.22 4.25 4.25a.75.75 0 0 1 0 1.06l-4.25 4.25a.749.749 0 0 1-1.275-.326.749.749 0 0 1 .215-.734L13.94 8l-3.72-3.72a.749.749 0 0 1 .326-1.275.749.749 0 0 1 .734.215Zm-6.56 0a.751.751 0 0 1 1.042.018.751.751 0 0 1 .018 1.042L2.06 8l3.72 3.72a.749.749 0 0 1-.326 1.275.749.749 0 0 1-.734-.215L.47 8.53a.75.75 0 0 1 0-1.06Z"></path>
</svg>
        <span data-content="Code">Code</span>
          <span id="code-repo-tab-count" data-pjax-replace="" data-turbo-replace="" title="Not available" data-view-component="true" class="Counter"></span>


    
</a></li>
      <li data-view-component="true" class="d-inline-flex">
  <a id="issues-tab" href="/MathforDataScience/DSR_Statistics1/issues" data-tab-item="i1issues-tab" data-selected-links="repo_issues repo_labels repo_milestones /MathforDataScience/DSR_Statistics1/issues /_view_fragments/issues/index/MathforDataScience/DSR_Statistics1/layout" data-pjax="#repo-content-pjax-container" data-turbo-frame="repo-content-turbo-frame" data-hotkey="g i" data-analytics-event="{&quot;category&quot;:&quot;Underline navbar&quot;,&quot;action&quot;:&quot;Click tab&quot;,&quot;label&quot;:&quot;Issues&quot;,&quot;target&quot;:&quot;UNDERLINE_NAV.TAB&quot;}" data-view-component="true" class="UnderlineNav-item no-wrap js-responsive-underlinenav-item js-selected-navigation-item">
    
              <svg aria-hidden="true" height="16" viewBox="0 0 16 16" version="1.1" width="16" data-view-component="true" class="octicon octicon-issue-opened UnderlineNav-octicon d-none d-sm-inline">
    <path d="M8 9.5a1.5 1.5 0 1 0 0-3 1.5 1.5 0 0 0 0 3Z"></path><path d="M8 0a8 8 0 1 1 0 16A8 8 0 0 1 8 0ZM1.5 8a6.5 6.5 0 1 0 13 0 6.5 6.5 0 0 0-13 0Z"></path>
</svg>
        <span data-content="Issues">Issues</span>
          <span id="issues-repo-tab-count" data-pjax-replace="" data-turbo-replace="" title="0" hidden="hidden" data-view-component="true" class="Counter">0</span>


    
</a></li>
      <li data-view-component="true" class="d-inline-flex">
  <a id="pull-requests-tab" href="/MathforDataScience/DSR_Statistics1/pulls" data-tab-item="i2pull-requests-tab" data-selected-links="repo_pulls checks /MathforDataScience/DSR_Statistics1/pulls" data-pjax="#repo-content-pjax-container" data-turbo-frame="repo-content-turbo-frame" data-hotkey="g p" data-analytics-event="{&quot;category&quot;:&quot;Underline navbar&quot;,&quot;action&quot;:&quot;Click tab&quot;,&quot;label&quot;:&quot;Pull requests&quot;,&quot;target&quot;:&quot;UNDERLINE_NAV.TAB&quot;}" data-view-component="true" class="UnderlineNav-item no-wrap js-responsive-underlinenav-item js-selected-navigation-item">
    
              <svg aria-hidden="true" height="16" viewBox="0 0 16 16" version="1.1" width="16" data-view-component="true" class="octicon octicon-git-pull-request UnderlineNav-octicon d-none d-sm-inline">
    <path d="M1.5 3.25a2.25 2.25 0 1 1 3 2.122v5.256a2.251 2.251 0 1 1-1.5 0V5.372A2.25 2.25 0 0 1 1.5 3.25Zm5.677-.177L9.573.677A.25.25 0 0 1 10 .854V2.5h1A2.5 2.5 0 0 1 13.5 5v5.628a2.251 2.251 0 1 1-1.5 0V5a1 1 0 0 0-1-1h-1v1.646a.25.25 0 0 1-.427.177L7.177 3.427a.25.25 0 0 1 0-.354ZM3.75 2.5a.75.75 0 1 0 0 1.5.75.75 0 0 0 0-1.5Zm0 9.5a.75.75 0 1 0 0 1.5.75.75 0 0 0 0-1.5Zm8.25.75a.75.75 0 1 0 1.5 0 .75.75 0 0 0-1.5 0Z"></path>
</svg>
        <span data-content="Pull requests">Pull requests</span>
          <span id="pull-requests-repo-tab-count" data-pjax-replace="" data-turbo-replace="" title="0" hidden="hidden" data-view-component="true" class="Counter">0</span>


    
</a></li>
      <li data-view-component="true" class="d-inline-flex">
  <a id="actions-tab" href="/MathforDataScience/DSR_Statistics1/actions" data-tab-item="i3actions-tab" data-selected-links="repo_actions /MathforDataScience/DSR_Statistics1/actions" data-pjax="#repo-content-pjax-container" data-turbo-frame="repo-content-turbo-frame" data-hotkey="g a" data-analytics-event="{&quot;category&quot;:&quot;Underline navbar&quot;,&quot;action&quot;:&quot;Click tab&quot;,&quot;label&quot;:&quot;Actions&quot;,&quot;target&quot;:&quot;UNDERLINE_NAV.TAB&quot;}" data-view-component="true" class="UnderlineNav-item no-wrap js-responsive-underlinenav-item js-selected-navigation-item">
    
              <svg aria-hidden="true" height="16" viewBox="0 0 16 16" version="1.1" width="16" data-view-component="true" class="octicon octicon-play UnderlineNav-octicon d-none d-sm-inline">
    <path d="M8 0a8 8 0 1 1 0 16A8 8 0 0 1 8 0ZM1.5 8a6.5 6.5 0 1 0 13 0 6.5 6.5 0 0 0-13 0Zm4.879-2.773 4.264 2.559a.25.25 0 0 1 0 .428l-4.264 2.559A.25.25 0 0 1 6 10.559V5.442a.25.25 0 0 1 .379-.215Z"></path>
</svg>
        <span data-content="Actions">Actions</span>
          <span id="actions-repo-tab-count" data-pjax-replace="" data-turbo-replace="" title="Not available" data-view-component="true" class="Counter"></span>


    
</a></li>
      <li data-view-component="true" class="d-inline-flex">
  <a id="projects-tab" href="/MathforDataScience/DSR_Statistics1/projects" data-tab-item="i4projects-tab" data-selected-links="repo_projects new_repo_project repo_project /MathforDataScience/DSR_Statistics1/projects" data-pjax="#repo-content-pjax-container" data-turbo-frame="repo-content-turbo-frame" data-hotkey="g b" data-analytics-event="{&quot;category&quot;:&quot;Underline navbar&quot;,&quot;action&quot;:&quot;Click tab&quot;,&quot;label&quot;:&quot;Projects&quot;,&quot;target&quot;:&quot;UNDERLINE_NAV.TAB&quot;}" data-view-component="true" class="UnderlineNav-item no-wrap js-responsive-underlinenav-item js-selected-navigation-item">
    
              <svg aria-hidden="true" height="16" viewBox="0 0 16 16" version="1.1" width="16" data-view-component="true" class="octicon octicon-table UnderlineNav-octicon d-none d-sm-inline">
    <path d="M0 1.75C0 .784.784 0 1.75 0h12.5C15.216 0 16 .784 16 1.75v12.5A1.75 1.75 0 0 1 14.25 16H1.75A1.75 1.75 0 0 1 0 14.25ZM6.5 6.5v8h7.75a.25.25 0 0 0 .25-.25V6.5Zm8-1.5V1.75a.25.25 0 0 0-.25-.25H6.5V5Zm-13 1.5v7.75c0 .138.112.25.25.25H5v-8ZM5 5V1.5H1.75a.25.25 0 0 0-.25.25V5Z"></path>
</svg>
        <span data-content="Projects">Projects</span>
          <span id="projects-repo-tab-count" data-pjax-replace="" data-turbo-replace="" title="0" hidden="hidden" data-view-component="true" class="Counter">0</span>


    
</a></li>
      <li data-view-component="true" class="d-inline-flex">
  <a id="wiki-tab" href="/MathforDataScience/DSR_Statistics1/wiki" data-tab-item="i5wiki-tab" data-selected-links="repo_wiki /MathforDataScience/DSR_Statistics1/wiki" data-pjax="#repo-content-pjax-container" data-turbo-frame="repo-content-turbo-frame" data-hotkey="g w" data-analytics-event="{&quot;category&quot;:&quot;Underline navbar&quot;,&quot;action&quot;:&quot;Click tab&quot;,&quot;label&quot;:&quot;Wiki&quot;,&quot;target&quot;:&quot;UNDERLINE_NAV.TAB&quot;}" data-view-component="true" class="UnderlineNav-item no-wrap js-responsive-underlinenav-item js-selected-navigation-item">
    
              <svg aria-hidden="true" height="16" viewBox="0 0 16 16" version="1.1" width="16" data-view-component="true" class="octicon octicon-book UnderlineNav-octicon d-none d-sm-inline">
    <path d="M0 1.75A.75.75 0 0 1 .75 1h4.253c1.227 0 2.317.59 3 1.501A3.743 3.743 0 0 1 11.006 1h4.245a.75.75 0 0 1 .75.75v10.5a.75.75 0 0 1-.75.75h-4.507a2.25 2.25 0 0 0-1.591.659l-.622.621a.75.75 0 0 1-1.06 0l-.622-.621A2.25 2.25 0 0 0 5.258 13H.75a.75.75 0 0 1-.75-.75Zm7.251 10.324.004-5.073-.002-2.253A2.25 2.25 0 0 0 5.003 2.5H1.5v9h3.757a3.75 3.75 0 0 1 1.994.574ZM8.755 4.75l-.004 7.322a3.752 3.752 0 0 1 1.992-.572H14.5v-9h-3.495a2.25 2.25 0 0 0-2.25 2.25Z"></path>
</svg>
        <span data-content="Wiki">Wiki</span>
          <span id="wiki-repo-tab-count" data-pjax-replace="" data-turbo-replace="" title="Not available" data-view-component="true" class="Counter"></span>


    
</a></li>
      <li data-view-component="true" class="d-inline-flex">
  <a id="security-tab" href="/MathforDataScience/DSR_Statistics1/security" data-tab-item="i6security-tab" data-selected-links="security overview alerts policy token_scanning code_scanning /MathforDataScience/DSR_Statistics1/security" data-pjax="#repo-content-pjax-container" data-turbo-frame="repo-content-turbo-frame" data-hotkey="g s" data-analytics-event="{&quot;category&quot;:&quot;Underline navbar&quot;,&quot;action&quot;:&quot;Click tab&quot;,&quot;label&quot;:&quot;Security&quot;,&quot;target&quot;:&quot;UNDERLINE_NAV.TAB&quot;}" data-view-component="true" class="UnderlineNav-item no-wrap js-responsive-underlinenav-item js-selected-navigation-item">
    
              <svg aria-hidden="true" height="16" viewBox="0 0 16 16" version="1.1" width="16" data-view-component="true" class="octicon octicon-shield UnderlineNav-octicon d-none d-sm-inline">
    <path d="M7.467.133a1.748 1.748 0 0 1 1.066 0l5.25 1.68A1.75 1.75 0 0 1 15 3.48V7c0 1.566-.32 3.182-1.303 4.682-.983 1.498-2.585 2.813-5.032 3.855a1.697 1.697 0 0 1-1.33 0c-2.447-1.042-4.049-2.357-5.032-3.855C1.32 10.182 1 8.566 1 7V3.48a1.75 1.75 0 0 1 1.217-1.667Zm.61 1.429a.25.25 0 0 0-.153 0l-5.25 1.68a.25.25 0 0 0-.174.238V7c0 1.358.275 2.666 1.057 3.86.784 1.194 2.121 2.34 4.366 3.297a.196.196 0 0 0 .154 0c2.245-.956 3.582-2.104 4.366-3.298C13.225 9.666 13.5 8.36 13.5 7V3.48a.251.251 0 0 0-.174-.237l-5.25-1.68ZM8.75 4.75v3a.75.75 0 0 1-1.5 0v-3a.75.75 0 0 1 1.5 0ZM9 10.5a1 1 0 1 1-2 0 1 1 0 0 1 2 0Z"></path>
</svg>
        <span data-content="Security">Security</span>
          <include-fragment src="/MathforDataScience/DSR_Statistics1/security/overall-count" accept="text/fragment+html"></include-fragment>

    
</a></li>
      <li data-view-component="true" class="d-inline-flex">
  <a id="insights-tab" href="/MathforDataScience/DSR_Statistics1/pulse" data-tab-item="i7insights-tab" data-selected-links="repo_graphs repo_contributors dependency_graph dependabot_updates pulse people community /MathforDataScience/DSR_Statistics1/pulse" data-pjax="#repo-content-pjax-container" data-turbo-frame="repo-content-turbo-frame" data-analytics-event="{&quot;category&quot;:&quot;Underline navbar&quot;,&quot;action&quot;:&quot;Click tab&quot;,&quot;label&quot;:&quot;Insights&quot;,&quot;target&quot;:&quot;UNDERLINE_NAV.TAB&quot;}" data-view-component="true" class="UnderlineNav-item no-wrap js-responsive-underlinenav-item js-selected-navigation-item">
    
              <svg aria-hidden="true" height="16" viewBox="0 0 16 16" version="1.1" width="16" data-view-component="true" class="octicon octicon-graph UnderlineNav-octicon d-none d-sm-inline">
    <path d="M1.5 1.75V13.5h13.75a.75.75 0 0 1 0 1.5H.75a.75.75 0 0 1-.75-.75V1.75a.75.75 0 0 1 1.5 0Zm14.28 2.53-5.25 5.25a.75.75 0 0 1-1.06 0L7 7.06 4.28 9.78a.751.751 0 0 1-1.042-.018.751.751 0 0 1-.018-1.042l3.25-3.25a.75.75 0 0 1 1.06 0L10 7.94l4.72-4.72a.751.751 0 0 1 1.042.018.751.751 0 0 1 .018 1.042Z"></path>
</svg>
        <span data-content="Insights">Insights</span>
          <span id="insights-repo-tab-count" data-pjax-replace="" data-turbo-replace="" title="Not available" data-view-component="true" class="Counter"></span>


    
</a></li>
      <li data-view-component="true" class="d-inline-flex">
  <a id="settings-tab" href="/MathforDataScience/DSR_Statistics1/settings" data-tab-item="i8settings-tab" data-selected-links="code_review_limits codespaces_repository_settings collaborators custom_tabs hooks integration_installations interaction_limits issue_template_editor key_links_settings notifications repo_announcements repo_branch_settings repo_custom_properties repo_keys_settings repo_pages_settings repo_protected_tags_settings repo_rule_insights repo_rules_bypass_requests repo_rulesets repo_settings_copilot_coding_guidelines repo_settings_copilot_content_exclusion repo_settings reported_content repository_actions_settings_add_new_runner repository_actions_settings_general repository_actions_settings_runner_details repository_actions_settings_runners repository_actions_settings repository_environments role_details secrets_settings_actions secrets_settings_codespaces secrets_settings_dependabot secrets security_analysis security_products /MathforDataScience/DSR_Statistics1/settings" data-pjax="#repo-content-pjax-container" data-turbo-frame="repo-content-turbo-frame" data-analytics-event="{&quot;category&quot;:&quot;Underline navbar&quot;,&quot;action&quot;:&quot;Click tab&quot;,&quot;label&quot;:&quot;Settings&quot;,&quot;target&quot;:&quot;UNDERLINE_NAV.TAB&quot;}" data-view-component="true" class="UnderlineNav-item no-wrap js-responsive-underlinenav-item js-selected-navigation-item">
    
              <svg aria-hidden="true" height="16" viewBox="0 0 16 16" version="1.1" width="16" data-view-component="true" class="octicon octicon-gear UnderlineNav-octicon d-none d-sm-inline">
    <path d="M8 0a8.2 8.2 0 0 1 .701.031C9.444.095 9.99.645 10.16 1.29l.288 1.107c.018.066.079.158.212.224.231.114.454.243.668.386.123.082.233.09.299.071l1.103-.303c.644-.176 1.392.021 1.82.63.27.385.506.792.704 1.218.315.675.111 1.422-.364 1.891l-.814.806c-.049.048-.098.147-.088.294.016.257.016.515 0 .772-.01.147.038.246.088.294l.814.806c.475.469.679 1.216.364 1.891a7.977 7.977 0 0 1-.704 1.217c-.428.61-1.176.807-1.82.63l-1.102-.302c-.067-.019-.177-.011-.3.071a5.909 5.909 0 0 1-.668.386c-.133.066-.194.158-.211.224l-.29 1.106c-.168.646-.715 1.196-1.458 1.26a8.006 8.006 0 0 1-1.402 0c-.743-.064-1.289-.614-1.458-1.26l-.289-1.106c-.018-.066-.079-.158-.212-.224a5.738 5.738 0 0 1-.668-.386c-.123-.082-.233-.09-.299-.071l-1.103.303c-.644.176-1.392-.021-1.82-.63a8.12 8.12 0 0 1-.704-1.218c-.315-.675-.111-1.422.363-1.891l.815-.806c.05-.048.098-.147.088-.294a6.214 6.214 0 0 1 0-.772c.01-.147-.038-.246-.088-.294l-.815-.806C.635 6.045.431 5.298.746 4.623a7.92 7.92 0 0 1 .704-1.217c.428-.61 1.176-.807 1.82-.63l1.102.302c.067.019.177.011.3-.071.214-.143.437-.272.668-.386.133-.066.194-.158.211-.224l.29-1.106C6.009.645 6.556.095 7.299.03 7.53.01 7.764 0 8 0Zm-.571 1.525c-.036.003-.108.036-.137.146l-.289 1.105c-.147.561-.549.967-.998 1.189-.173.086-.34.183-.5.29-.417.278-.97.423-1.529.27l-1.103-.303c-.109-.03-.175.016-.195.045-.22.312-.412.644-.573.99-.014.031-.021.11.059.19l.815.806c.411.406.562.957.53 1.456a4.709 4.709 0 0 0 0 .582c.032.499-.119 1.05-.53 1.456l-.815.806c-.081.08-.073.159-.059.19.162.346.353.677.573.989.02.03.085.076.195.046l1.102-.303c.56-.153 1.113-.008 1.53.27.161.107.328.204.501.29.447.222.85.629.997 1.189l.289 1.105c.029.109.101.143.137.146a6.6 6.6 0 0 0 1.142 0c.036-.003.108-.036.137-.146l.289-1.105c.147-.561.549-.967.998-1.189.173-.086.34-.183.5-.29.417-.278.97-.423 1.529-.27l1.103.303c.109.029.175-.016.195-.045.22-.313.411-.644.573-.99.014-.031.021-.11-.059-.19l-.815-.806c-.411-.406-.562-.957-.53-1.456a4.709 4.709 0 0 0 0-.582c-.032-.499.119-1.05.53-1.456l.815-.806c.081-.08.073-.159.059-.19a6.464 6.464 0 0 0-.573-.989c-.02-.03-.085-.076-.195-.046l-1.102.303c-.56.153-1.113.008-1.53-.27a4.44 4.44 0 0 0-.501-.29c-.447-.222-.85-.629-.997-1.189l-.289-1.105c-.029-.11-.101-.143-.137-.146a6.6 6.6 0 0 0-1.142 0ZM11 8a3 3 0 1 1-6 0 3 3 0 0 1 6 0ZM9.5 8a1.5 1.5 0 1 0-3.001.001A1.5 1.5 0 0 0 9.5 8Z"></path>
</svg>
        <span data-content="Settings">Settings</span>
          <span id="settings-repo-tab-count" data-pjax-replace="" data-turbo-replace="" title="Not available" data-view-component="true" class="Counter"></span>


    
</a></li>
</ul>
    <div style="visibility:hidden;" data-view-component="true" class="UnderlineNav-actions js-responsive-underlinenav-overflow position-absolute pr-3 pr-md-4 pr-lg-5 right-0">      <action-menu data-select-variant="none" data-view-component="true">
  <focus-group direction="vertical" mnemonics retain>
    <button id="action-menu-4a78916a-90b1-43ce-a5cb-bd8a910254e1-button" popovertarget="action-menu-4a78916a-90b1-43ce-a5cb-bd8a910254e1-overlay" aria-controls="action-menu-4a78916a-90b1-43ce-a5cb-bd8a910254e1-list" aria-haspopup="true" aria-labelledby="tooltip-11ba22c9-c41b-45cf-bd2f-ab1998d9f969" type="button" data-view-component="true" class="Button Button--iconOnly Button--secondary Button--medium UnderlineNav-item">  <svg aria-hidden="true" height="16" viewBox="0 0 16 16" version="1.1" width="16" data-view-component="true" class="octicon octicon-kebab-horizontal Button-visual">
    <path d="M8 9a1.5 1.5 0 1 0 0-3 1.5 1.5 0 0 0 0 3ZM1.5 9a1.5 1.5 0 1 0 0-3 1.5 1.5 0 0 0 0 3Zm13 0a1.5 1.5 0 1 0 0-3 1.5 1.5 0 0 0 0 3Z"></path>
</svg>
</button><tool-tip id="tooltip-11ba22c9-c41b-45cf-bd2f-ab1998d9f969" for="action-menu-4a78916a-90b1-43ce-a5cb-bd8a910254e1-button" popover="manual" data-direction="s" data-type="label" data-view-component="true" class="sr-only position-absolute">Additional navigation options</tool-tip>


<anchored-position id="action-menu-4a78916a-90b1-43ce-a5cb-bd8a910254e1-overlay" anchor="action-menu-4a78916a-90b1-43ce-a5cb-bd8a910254e1-button" align="start" side="outside-bottom" anchor-offset="normal" popover="auto" data-view-component="true">
  <div data-view-component="true" class="Overlay Overlay--size-auto">
    
      <div data-view-component="true" class="Overlay-body Overlay-body--paddingNone">          <action-list>
  <div data-view-component="true">
    <ul aria-labelledby="action-menu-4a78916a-90b1-43ce-a5cb-bd8a910254e1-button" id="action-menu-4a78916a-90b1-43ce-a5cb-bd8a910254e1-list" role="menu" data-view-component="true" class="ActionListWrap--inset ActionListWrap">
        <li hidden="hidden" data-menu-item="i0code-tab" data-targets="action-list.items" role="none" data-view-component="true" class="ActionListItem">
    
    
    <a tabindex="-1" id="item-bba15a8d-59e0-4393-8a66-8d2b55c53b09" href="/MathforDataScience/DSR_Statistics1" role="menuitem" data-view-component="true" class="ActionListContent ActionListContent--visual16">
        <span class="ActionListItem-visual ActionListItem-visual--leading">
          <svg aria-hidden="true" height="16" viewBox="0 0 16 16" version="1.1" width="16" data-view-component="true" class="octicon octicon-code">
    <path d="m11.28 3.22 4.25 4.25a.75.75 0 0 1 0 1.06l-4.25 4.25a.749.749 0 0 1-1.275-.326.749.749 0 0 1 .215-.734L13.94 8l-3.72-3.72a.749.749 0 0 1 .326-1.275.749.749 0 0 1 .734.215Zm-6.56 0a.751.751 0 0 1 1.042.018.751.751 0 0 1 .018 1.042L2.06 8l3.72 3.72a.749.749 0 0 1-.326 1.275.749.749 0 0 1-.734-.215L.47 8.53a.75.75 0 0 1 0-1.06Z"></path>
</svg>
        </span>
      
        <span data-view-component="true" class="ActionListItem-label">
          Code
</span>      
</a>
  
</li>
        <li hidden="hidden" data-menu-item="i1issues-tab" data-targets="action-list.items" role="none" data-view-component="true" class="ActionListItem">
    
    
    <a tabindex="-1" id="item-f9459ea4-9e42-41f4-bc4e-cb23203d20bd" href="/MathforDataScience/DSR_Statistics1/issues" role="menuitem" data-view-component="true" class="ActionListContent ActionListContent--visual16">
        <span class="ActionListItem-visual ActionListItem-visual--leading">
          <svg aria-hidden="true" height="16" viewBox="0 0 16 16" version="1.1" width="16" data-view-component="true" class="octicon octicon-issue-opened">
    <path d="M8 9.5a1.5 1.5 0 1 0 0-3 1.5 1.5 0 0 0 0 3Z"></path><path d="M8 0a8 8 0 1 1 0 16A8 8 0 0 1 8 0ZM1.5 8a6.5 6.5 0 1 0 13 0 6.5 6.5 0 0 0-13 0Z"></path>
</svg>
        </span>
      
        <span data-view-component="true" class="ActionListItem-label">
          Issues
</span>      
</a>
  
</li>
        <li hidden="hidden" data-menu-item="i2pull-requests-tab" data-targets="action-list.items" role="none" data-view-component="true" class="ActionListItem">
    
    
    <a tabindex="-1" id="item-2f237cce-4013-4d20-82e4-c197bdaa2890" href="/MathforDataScience/DSR_Statistics1/pulls" role="menuitem" data-view-component="true" class="ActionListContent ActionListContent--visual16">
        <span class="ActionListItem-visual ActionListItem-visual--leading">
          <svg aria-hidden="true" height="16" viewBox="0 0 16 16" version="1.1" width="16" data-view-component="true" class="octicon octicon-git-pull-request">
    <path d="M1.5 3.25a2.25 2.25 0 1 1 3 2.122v5.256a2.251 2.251 0 1 1-1.5 0V5.372A2.25 2.25 0 0 1 1.5 3.25Zm5.677-.177L9.573.677A.25.25 0 0 1 10 .854V2.5h1A2.5 2.5 0 0 1 13.5 5v5.628a2.251 2.251 0 1 1-1.5 0V5a1 1 0 0 0-1-1h-1v1.646a.25.25 0 0 1-.427.177L7.177 3.427a.25.25 0 0 1 0-.354ZM3.75 2.5a.75.75 0 1 0 0 1.5.75.75 0 0 0 0-1.5Zm0 9.5a.75.75 0 1 0 0 1.5.75.75 0 0 0 0-1.5Zm8.25.75a.75.75 0 1 0 1.5 0 .75.75 0 0 0-1.5 0Z"></path>
</svg>
        </span>
      
        <span data-view-component="true" class="ActionListItem-label">
          Pull requests
</span>      
</a>
  
</li>
        <li hidden="hidden" data-menu-item="i3actions-tab" data-targets="action-list.items" role="none" data-view-component="true" class="ActionListItem">
    
    
    <a tabindex="-1" id="item-7d1efe1b-a732-4b95-87b9-125a31e6285a" href="/MathforDataScience/DSR_Statistics1/actions" role="menuitem" data-view-component="true" class="ActionListContent ActionListContent--visual16">
        <span class="ActionListItem-visual ActionListItem-visual--leading">
          <svg aria-hidden="true" height="16" viewBox="0 0 16 16" version="1.1" width="16" data-view-component="true" class="octicon octicon-play">
    <path d="M8 0a8 8 0 1 1 0 16A8 8 0 0 1 8 0ZM1.5 8a6.5 6.5 0 1 0 13 0 6.5 6.5 0 0 0-13 0Zm4.879-2.773 4.264 2.559a.25.25 0 0 1 0 .428l-4.264 2.559A.25.25 0 0 1 6 10.559V5.442a.25.25 0 0 1 .379-.215Z"></path>
</svg>
        </span>
      
        <span data-view-component="true" class="ActionListItem-label">
          Actions
</span>      
</a>
  
</li>
        <li hidden="hidden" data-menu-item="i4projects-tab" data-targets="action-list.items" role="none" data-view-component="true" class="ActionListItem">
    
    
    <a tabindex="-1" id="item-9601683b-1277-48ba-86ae-cdb0c68a5dda" href="/MathforDataScience/DSR_Statistics1/projects" role="menuitem" data-view-component="true" class="ActionListContent ActionListContent--visual16">
        <span class="ActionListItem-visual ActionListItem-visual--leading">
          <svg aria-hidden="true" height="16" viewBox="0 0 16 16" version="1.1" width="16" data-view-component="true" class="octicon octicon-table">
    <path d="M0 1.75C0 .784.784 0 1.75 0h12.5C15.216 0 16 .784 16 1.75v12.5A1.75 1.75 0 0 1 14.25 16H1.75A1.75 1.75 0 0 1 0 14.25ZM6.5 6.5v8h7.75a.25.25 0 0 0 .25-.25V6.5Zm8-1.5V1.75a.25.25 0 0 0-.25-.25H6.5V5Zm-13 1.5v7.75c0 .138.112.25.25.25H5v-8ZM5 5V1.5H1.75a.25.25 0 0 0-.25.25V5Z"></path>
</svg>
        </span>
      
        <span data-view-component="true" class="ActionListItem-label">
          Projects
</span>      
</a>
  
</li>
        <li hidden="hidden" data-menu-item="i5wiki-tab" data-targets="action-list.items" role="none" data-view-component="true" class="ActionListItem">
    
    
    <a tabindex="-1" id="item-199107f2-5c15-4ac9-9326-b4d987498b56" href="/MathforDataScience/DSR_Statistics1/wiki" role="menuitem" data-view-component="true" class="ActionListContent ActionListContent--visual16">
        <span class="ActionListItem-visual ActionListItem-visual--leading">
          <svg aria-hidden="true" height="16" viewBox="0 0 16 16" version="1.1" width="16" data-view-component="true" class="octicon octicon-book">
    <path d="M0 1.75A.75.75 0 0 1 .75 1h4.253c1.227 0 2.317.59 3 1.501A3.743 3.743 0 0 1 11.006 1h4.245a.75.75 0 0 1 .75.75v10.5a.75.75 0 0 1-.75.75h-4.507a2.25 2.25 0 0 0-1.591.659l-.622.621a.75.75 0 0 1-1.06 0l-.622-.621A2.25 2.25 0 0 0 5.258 13H.75a.75.75 0 0 1-.75-.75Zm7.251 10.324.004-5.073-.002-2.253A2.25 2.25 0 0 0 5.003 2.5H1.5v9h3.757a3.75 3.75 0 0 1 1.994.574ZM8.755 4.75l-.004 7.322a3.752 3.752 0 0 1 1.992-.572H14.5v-9h-3.495a2.25 2.25 0 0 0-2.25 2.25Z"></path>
</svg>
        </span>
      
        <span data-view-component="true" class="ActionListItem-label">
          Wiki
</span>      
</a>
  
</li>
        <li hidden="hidden" data-menu-item="i6security-tab" data-targets="action-list.items" role="none" data-view-component="true" class="ActionListItem">
    
    
    <a tabindex="-1" id="item-645344aa-680c-4a50-8695-d21f2413a2df" href="/MathforDataScience/DSR_Statistics1/security" role="menuitem" data-view-component="true" class="ActionListContent ActionListContent--visual16">
        <span class="ActionListItem-visual ActionListItem-visual--leading">
          <svg aria-hidden="true" height="16" viewBox="0 0 16 16" version="1.1" width="16" data-view-component="true" class="octicon octicon-shield">
    <path d="M7.467.133a1.748 1.748 0 0 1 1.066 0l5.25 1.68A1.75 1.75 0 0 1 15 3.48V7c0 1.566-.32 3.182-1.303 4.682-.983 1.498-2.585 2.813-5.032 3.855a1.697 1.697 0 0 1-1.33 0c-2.447-1.042-4.049-2.357-5.032-3.855C1.32 10.182 1 8.566 1 7V3.48a1.75 1.75 0 0 1 1.217-1.667Zm.61 1.429a.25.25 0 0 0-.153 0l-5.25 1.68a.25.25 0 0 0-.174.238V7c0 1.358.275 2.666 1.057 3.86.784 1.194 2.121 2.34 4.366 3.297a.196.196 0 0 0 .154 0c2.245-.956 3.582-2.104 4.366-3.298C13.225 9.666 13.5 8.36 13.5 7V3.48a.251.251 0 0 0-.174-.237l-5.25-1.68ZM8.75 4.75v3a.75.75 0 0 1-1.5 0v-3a.75.75 0 0 1 1.5 0ZM9 10.5a1 1 0 1 1-2 0 1 1 0 0 1 2 0Z"></path>
</svg>
        </span>
      
        <span data-view-component="true" class="ActionListItem-label">
          Security
</span>      
</a>
  
</li>
        <li hidden="hidden" data-menu-item="i7insights-tab" data-targets="action-list.items" role="none" data-view-component="true" class="ActionListItem">
    
    
    <a tabindex="-1" id="item-4ac23857-aa33-4d3f-88f3-9a0b52967e74" href="/MathforDataScience/DSR_Statistics1/pulse" role="menuitem" data-view-component="true" class="ActionListContent ActionListContent--visual16">
        <span class="ActionListItem-visual ActionListItem-visual--leading">
          <svg aria-hidden="true" height="16" viewBox="0 0 16 16" version="1.1" width="16" data-view-component="true" class="octicon octicon-graph">
    <path d="M1.5 1.75V13.5h13.75a.75.75 0 0 1 0 1.5H.75a.75.75 0 0 1-.75-.75V1.75a.75.75 0 0 1 1.5 0Zm14.28 2.53-5.25 5.25a.75.75 0 0 1-1.06 0L7 7.06 4.28 9.78a.751.751 0 0 1-1.042-.018.751.751 0 0 1-.018-1.042l3.25-3.25a.75.75 0 0 1 1.06 0L10 7.94l4.72-4.72a.751.751 0 0 1 1.042.018.751.751 0 0 1 .018 1.042Z"></path>
</svg>
        </span>
      
        <span data-view-component="true" class="ActionListItem-label">
          Insights
</span>      
</a>
  
</li>
        <li hidden="hidden" data-menu-item="i8settings-tab" data-targets="action-list.items" role="none" data-view-component="true" class="ActionListItem">
    
    
    <a tabindex="-1" id="item-64fda829-12b6-400c-bab3-6cefe2e7ac7a" href="/MathforDataScience/DSR_Statistics1/settings" role="menuitem" data-view-component="true" class="ActionListContent ActionListContent--visual16">
        <span class="ActionListItem-visual ActionListItem-visual--leading">
          <svg aria-hidden="true" height="16" viewBox="0 0 16 16" version="1.1" width="16" data-view-component="true" class="octicon octicon-gear">
    <path d="M8 0a8.2 8.2 0 0 1 .701.031C9.444.095 9.99.645 10.16 1.29l.288 1.107c.018.066.079.158.212.224.231.114.454.243.668.386.123.082.233.09.299.071l1.103-.303c.644-.176 1.392.021 1.82.63.27.385.506.792.704 1.218.315.675.111 1.422-.364 1.891l-.814.806c-.049.048-.098.147-.088.294.016.257.016.515 0 .772-.01.147.038.246.088.294l.814.806c.475.469.679 1.216.364 1.891a7.977 7.977 0 0 1-.704 1.217c-.428.61-1.176.807-1.82.63l-1.102-.302c-.067-.019-.177-.011-.3.071a5.909 5.909 0 0 1-.668.386c-.133.066-.194.158-.211.224l-.29 1.106c-.168.646-.715 1.196-1.458 1.26a8.006 8.006 0 0 1-1.402 0c-.743-.064-1.289-.614-1.458-1.26l-.289-1.106c-.018-.066-.079-.158-.212-.224a5.738 5.738 0 0 1-.668-.386c-.123-.082-.233-.09-.299-.071l-1.103.303c-.644.176-1.392-.021-1.82-.63a8.12 8.12 0 0 1-.704-1.218c-.315-.675-.111-1.422.363-1.891l.815-.806c.05-.048.098-.147.088-.294a6.214 6.214 0 0 1 0-.772c.01-.147-.038-.246-.088-.294l-.815-.806C.635 6.045.431 5.298.746 4.623a7.92 7.92 0 0 1 .704-1.217c.428-.61 1.176-.807 1.82-.63l1.102.302c.067.019.177.011.3-.071.214-.143.437-.272.668-.386.133-.066.194-.158.211-.224l.29-1.106C6.009.645 6.556.095 7.299.03 7.53.01 7.764 0 8 0Zm-.571 1.525c-.036.003-.108.036-.137.146l-.289 1.105c-.147.561-.549.967-.998 1.189-.173.086-.34.183-.5.29-.417.278-.97.423-1.529.27l-1.103-.303c-.109-.03-.175.016-.195.045-.22.312-.412.644-.573.99-.014.031-.021.11.059.19l.815.806c.411.406.562.957.53 1.456a4.709 4.709 0 0 0 0 .582c.032.499-.119 1.05-.53 1.456l-.815.806c-.081.08-.073.159-.059.19.162.346.353.677.573.989.02.03.085.076.195.046l1.102-.303c.56-.153 1.113-.008 1.53.27.161.107.328.204.501.29.447.222.85.629.997 1.189l.289 1.105c.029.109.101.143.137.146a6.6 6.6 0 0 0 1.142 0c.036-.003.108-.036.137-.146l.289-1.105c.147-.561.549-.967.998-1.189.173-.086.34-.183.5-.29.417-.278.97-.423 1.529-.27l1.103.303c.109.029.175-.016.195-.045.22-.313.411-.644.573-.99.014-.031.021-.11-.059-.19l-.815-.806c-.411-.406-.562-.957-.53-1.456a4.709 4.709 0 0 0 0-.582c-.032-.499.119-1.05.53-1.456l.815-.806c.081-.08.073-.159.059-.19a6.464 6.464 0 0 0-.573-.989c-.02-.03-.085-.076-.195-.046l-1.102.303c-.56.153-1.113.008-1.53-.27a4.44 4.44 0 0 0-.501-.29c-.447-.222-.85-.629-.997-1.189l-.289-1.105c-.029-.11-.101-.143-.137-.146a6.6 6.6 0 0 0-1.142 0ZM11 8a3 3 0 1 1-6 0 3 3 0 0 1 6 0ZM9.5 8a1.5 1.5 0 1 0-3.001.001A1.5 1.5 0 0 0 9.5 8Z"></path>
</svg>
        </span>
      
        <span data-view-component="true" class="ActionListItem-label">
          Settings
</span>      
</a>
  
</li>
</ul>    
</div></action-list>


</div>
      
</div></anchored-position>  </focus-group>
</action-menu></div>
</nav>
      </div>
</header>


      <div hidden="hidden" data-view-component="true" class="js-stale-session-flash stale-session-flash flash flash-warn flash-full">
  
        <svg aria-hidden="true" height="16" viewBox="0 0 16 16" version="1.1" width="16" data-view-component="true" class="octicon octicon-alert">
    <path d="M6.457 1.047c.659-1.234 2.427-1.234 3.086 0l6.082 11.378A1.75 1.75 0 0 1 14.082 15H1.918a1.75 1.75 0 0 1-1.543-2.575Zm1.763.707a.25.25 0 0 0-.44 0L1.698 13.132a.25.25 0 0 0 .22.368h12.164a.25.25 0 0 0 .22-.368Zm.53 3.996v2.5a.75.75 0 0 1-1.5 0v-2.5a.75.75 0 0 1 1.5 0ZM9 11a1 1 0 1 1-2 0 1 1 0 0 1 2 0Z"></path>
</svg>
        <span class="js-stale-session-flash-signed-in" hidden>You signed in with another tab or window. <a class="Link--inTextBlock" href="">Reload</a> to refresh your session.</span>
        <span class="js-stale-session-flash-signed-out" hidden>You signed out in another tab or window. <a class="Link--inTextBlock" href="">Reload</a> to refresh your session.</span>
        <span class="js-stale-session-flash-switched" hidden>You switched accounts on another tab or window. <a class="Link--inTextBlock" href="">Reload</a> to refresh your session.</span>

    <button id="icon-button-c6f33d7a-dcce-4c6e-aad6-f88db4987b21" aria-labelledby="tooltip-03e85d78-37b2-4685-a1ed-5854ccc2922c" type="button" data-view-component="true" class="Button Button--iconOnly Button--invisible Button--medium flash-close js-flash-close">  <svg aria-hidden="true" height="16" viewBox="0 0 16 16" version="1.1" width="16" data-view-component="true" class="octicon octicon-x Button-visual">
    <path d="M3.72 3.72a.75.75 0 0 1 1.06 0L8 6.94l3.22-3.22a.749.749 0 0 1 1.275.326.749.749 0 0 1-.215.734L9.06 8l3.22 3.22a.749.749 0 0 1-.326 1.275.749.749 0 0 1-.734-.215L8 9.06l-3.22 3.22a.751.751 0 0 1-1.042-.018.751.751 0 0 1-.018-1.042L6.94 8 3.72 4.78a.75.75 0 0 1 0-1.06Z"></path>
</svg>
</button><tool-tip id="tooltip-03e85d78-37b2-4685-a1ed-5854ccc2922c" for="icon-button-c6f33d7a-dcce-4c6e-aad6-f88db4987b21" popover="manual" data-direction="s" data-type="label" data-view-component="true" class="sr-only position-absolute">Dismiss alert</tool-tip>


  
</div>
          
    </div>

  <div id="start-of-content" class="show-on-focus"></div>








    <div id="js-flash-container" class="flash-container" data-turbo-replace>




  <template class="js-flash-template">
    
<div class="flash flash-full   {{ className }}">
  <div >
    <button autofocus class="flash-close js-flash-close" type="button" aria-label="Dismiss this message">
      <svg aria-hidden="true" height="16" viewBox="0 0 16 16" version="1.1" width="16" data-view-component="true" class="octicon octicon-x">
    <path d="M3.72 3.72a.75.75 0 0 1 1.06 0L8 6.94l3.22-3.22a.749.749 0 0 1 1.275.326.749.749 0 0 1-.215.734L9.06 8l3.22 3.22a.749.749 0 0 1-.326 1.275.749.749 0 0 1-.734-.215L8 9.06l-3.22 3.22a.751.751 0 0 1-1.042-.018.751.751 0 0 1-.018-1.042L6.94 8 3.72 4.78a.75.75 0 0 1 0-1.06Z"></path>
</svg>
    </button>
    <div aria-atomic="true" role="alert" class="js-flash-alert">
      
      <div>{{ message }}</div>

    </div>
  </div>
</div>
  </template>
</div>


    
    <notification-shelf-watcher data-base-url="https://github.com/notifications/beta/shelf" data-channel="eyJjIjoibm90aWZpY2F0aW9uLWNoYW5nZWQ6NDI5NTkxNzQiLCJ0IjoxNzIzODIzNjI4fQ==--679b1c3862b68dbc95aec6227b58ab5d1e6cc3669ee1f24a9b2f7932693f07c7" data-view-component="true" class="js-socket-channel"></notification-shelf-watcher>
  <div hidden data-initial data-target="notification-shelf-watcher.placeholder"></div>






  <div
    class="application-main "
    data-commit-hovercards-enabled
    data-discussion-hovercards-enabled
    data-issue-and-pr-hovercards-enabled
  >
        <div itemscope itemtype="http://schema.org/SoftwareSourceCode" class="">
    <main id="js-repo-pjax-container" >
      
      






    
  <div id="repository-container-header" data-turbo-replace hidden></div>




<turbo-frame id="repo-content-turbo-frame" target="_top" data-turbo-action="advance" class="">
    <div id="repo-content-pjax-container" class="repository-content " >
      <a href="https://github.dev/" class="d-none js-github-dev-shortcut" data-hotkey=".,Mod+Alt+.">Open in github.dev</a>
  <a href="https://github.dev/" class="d-none js-github-dev-new-tab-shortcut" data-hotkey="Shift+.,Shift+&gt;,&gt;" target="_blank" rel="noopener noreferrer">Open in a new github.dev tab</a>
    <a class="d-none" data-hotkey=",,Mod+Alt+," target="_blank" href="/codespaces/new/MathforDataScience/DSR_Statistics1/tree/main?resume=1">Open in codespace</a>




    
      
    








<react-app
  app-name="react-code-view"
  initial-path="/MathforDataScience/DSR_Statistics1/blob/main/6_%20Sampling/Sampling%20-%20Exercises.ipynb"
  style="display: block; min-height: calc(100vh - 64px)" 
  data-ssr="true"
  data-lazy="false"
  data-alternate="false"
>
  
  <script type="application/json" data-target="react-app.embeddedData">{"payload":{"allShortcutsEnabled":true,"fileTree":{"6_ Sampling":{"items":[{"name":"Sampling - Exercises.ipynb","path":"6_ Sampling/Sampling - Exercises.ipynb","contentType":"file"}],"totalCount":1},"":{"items":[{"name":"2_ Descriptive Statistics","path":"2_ Descriptive Statistics","contentType":"directory"},{"name":"3_ Combinatorics","path":"3_ Combinatorics","contentType":"directory"},{"name":"4_ Distributions","path":"4_ Distributions","contentType":"directory"},{"name":"5_ Conditional Prob","path":"5_ Conditional Prob","contentType":"directory"},{"name":"6_ Sampling","path":"6_ Sampling","contentType":"directory"},{"name":"7_ Hypotheses","path":"7_ Hypotheses","contentType":"directory"},{"name":"8_ Model Estimation","path":"8_ Model Estimation","contentType":"directory"},{"name":"Distributions map.pdf","path":"Distributions map.pdf","contentType":"file"},{"name":"Introduction to Statistics _v22.pdf","path":"Introduction to Statistics _v22.pdf","contentType":"file"},{"name":"README.md","path":"README.md","contentType":"file"},{"name":"StatistialTables.pdf","path":"StatistialTables.pdf","contentType":"file"},{"name":"readme.txt","path":"readme.txt","contentType":"file"},{"name":"requirements.txt","path":"requirements.txt","contentType":"file"}],"totalCount":13}},"fileTreeProcessingTime":4.547868,"foldersToFetch":[],"repo":{"id":661665397,"defaultBranch":"main","name":"DSR_Statistics1","ownerLogin":"MathforDataScience","currentUserCanPush":true,"isFork":false,"isEmpty":false,"createdAt":"2023-07-03T13:27:39.000+02:00","ownerAvatar":"https://avatars.githubusercontent.com/u/42959174?v=4","public":true,"private":false,"isOrgOwned":false},"codeLineWrapEnabled":false,"symbolsExpanded":false,"treeExpanded":true,"refInfo":{"name":"main","listCacheKey":"v0:1713097013.0","canEdit":true,"refType":"branch","currentOid":"4bdf4da0692b0574b35b13389bf9db0802909d04"},"path":"6_ Sampling/Sampling - Exercises.ipynb","currentUser":{"id":42959174,"login":"MathforDataScience","userEmail":"hd.stein@web.de"},"blob":{"rawLines":["{"," \"cells\": [","  {","   \"cell_type\": \"code\",","   \"execution_count\": null,","   \"id\": \"e92aff68\",","   \"metadata\": {},","   \"outputs\": [],","   \"source\": []","  },","  {","   \"cell_type\": \"markdown\",","   \"id\": \"cf92b89c\",","   \"metadata\": {},","   \"source\": [","    \"**Exercise 1**\\n\",","    \"\\n\",","    \"Implement a python function called central_limit_theorem that accepts three arguments: population_data, sample_size, and num_of_samples. Your function should simulate the central limit theorem. The function should draw the specified number of samples of the given size from the population data, calculate the means of these samples, and return a list of these means.\\n\",","    \"\\n\",","    \"Test this function using a randomly generated population data. Plot the distribution of sample means and the mean of the population.\"","   ]","  },","  {","   \"cell_type\": \"code\",","   \"execution_count\": 2,","   \"id\": \"ed49d314\",","   \"metadata\": {},","   \"outputs\": [],","   \"source\": [","    \"import numpy as np\\n\",","    \"import matplotlib.pyplot as plt\"","   ]","  },","  {","   \"cell_type\": \"code\",","   \"execution_count\": 3,","   \"id\": \"47ac41b3\",","   \"metadata\": {},","   \"outputs\": [],","   \"source\": [","    \"# Implement your function here\\n\",","    \"def central_limit_theorem(population_data, sample_size, num_of_samples):\\n\",","    \"    sample_means = []\\n\",","    \"    for _ in range(num_of_samples):\\n\",","    \"        sample = np.random.choice(population_data, sample_size)\\n\",","    \"        sample_means.append(np.mean(sample))\\n\",","    \"    return sample_means\\n\"","   ]","  },","  {","   \"cell_type\": \"code\",","   \"execution_count\": 4,","   \"id\": \"b851397a\",","   \"metadata\": {},","   \"outputs\": [","    {","     \"data\": {","      \"image/png\": \"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\",","      \"text/plain\": [","       \"\u003cFigure size 640x480 with 1 Axes\u003e\"","      ]","     },","     \"metadata\": {},","     \"output_type\": \"display_data\"","    }","   ],","   \"source\": [","    \"# Test the function\\n\",","    \"\\n\",","    \"population_data = np.random.exponential(scale=1.0, size=10000)\\n\",","    \"sample_means = central_limit_theorem(population_data, sample_size=500, num_of_samples=1000)\\n\",","    \"\\n\",","    \"# Plotting\\n\",","    \"plt.hist(sample_means, bins=30, density=True, alpha=0.6, color='g')\\n\",","    \"plt.axvline(np.mean(population_data), color='r', linestyle='dashed', linewidth=2)\\n\",","    \"plt.show()\\n\"","   ]","  },","  {","   \"cell_type\": \"code\",","   \"execution_count\": 5,","   \"id\": \"a1f27369\",","   \"metadata\": {},","   \"outputs\": [","    {","     \"data\": {","      \"text/plain\": [","       \"array([0.08715553, 2.33835203, 0.82673833, ..., 4.08427035, 0.47908637,\\n\",","       \"       2.16552727])\"","      ]","     },","     \"execution_count\": 5,","     \"metadata\": {},","     \"output_type\": \"execute_result\"","    }","   ],","   \"source\": [","    \"population_data\"","   ]","  },","  {","   \"cell_type\": \"markdown\",","   \"id\": \"37172656\",","   \"metadata\": {},","   \"source\": [","    \"**Exercise 2**\\n\",","    \"\\n\",","    \"Implement a python function called confidence_interval that accepts two arguments: data and confidence. Your function should calculate and return the confidence interval of population mean for the given data at the specified confidence level.\\n\",","    \"\\n\",","    \"Test your function on a randomly generated data.\"","   ]","  },","  {","   \"cell_type\": \"code\",","   \"execution_count\": 6,","   \"id\": \"9c51a6dc\",","   \"metadata\": {},","   \"outputs\": [],","   \"source\": [","    \"import numpy as np\\n\",","    \"import scipy.stats\"","   ]","  },","  {","   \"cell_type\": \"code\",","   \"execution_count\": 7,","   \"id\": \"7a85a06a\",","   \"metadata\": {},","   \"outputs\": [],","   \"source\": [","    \"def confidence_interval(data, confidence):\\n\",","    \"    mean = np.mean(data)\\n\",","    \"    sem = scipy.stats.sem(data)\\n\",","    \"    margin = sem * scipy.stats.t.ppf((1 + confidence) / 2., len(data) - 1)\\n\",","    \"    return mean - margin, mean + margin\"","   ]","  },","  {","   \"cell_type\": \"code\",","   \"execution_count\": 8,","   \"id\": \"f60cf456\",","   \"metadata\": {},","   \"outputs\": [","    {","     \"name\": \"stdout\",","     \"output_type\": \"stream\",","     \"text\": [","      \"The 95.0% confidence interval is (9.97949526181462, 10.238188317727907)\\n\"","     ]","    }","   ],","   \"source\": [","    \"import numpy as np\\n\",","    \"import scipy.stats\\n\",","    \"\\n\",","    \"# Implement your function here\\n\",","    \"\\n\",","    \"# Test the function\\n\",","    \"data = np.random.normal(loc=10, scale=2, size=1000)\\n\",","    \"confidence = 0.95\\n\",","    \"conf_interval = confidence_interval(data, confidence)\\n\",","    \"\\n\",","    \"print(f\\\"The {confidence*100}% confidence interval is {conf_interval}\\\")\\n\"","   ]","  },","  {","   \"cell_type\": \"code\",","   \"execution_count\": 9,","   \"id\": \"8da9f53e\",","   \"metadata\": {},","   \"outputs\": [","    {","     \"data\": {","      \"image/png\": \"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\",","      \"text/plain\": [","       \"\u003cFigure size 640x480 with 1 Axes\u003e\"","      ]","     },","     \"metadata\": {},","     \"output_type\": \"display_data\"","    }","   ],","   \"source\": [","    \"import numpy as np\\n\",","    \"import scipy.stats\\n\",","    \"import matplotlib.pyplot as plt\\n\",","    \"\\n\",","    \"# Function to calculate confidence interval\\n\",","    \"def confidence_interval(data, confidence):\\n\",","    \"    mean = np.mean(data)\\n\",","    \"    sem = scipy.stats.sem(data)\\n\",","    \"    margin = sem * scipy.stats.t.ppf((1 + confidence) / 2., len(data) - 1)\\n\",","    \"    return mean - margin, mean + margin\\n\",","    \"\\n\",","    \"# Test the function\\n\",","    \"data = np.random.normal(loc=10, scale=2, size=1000)\\n\",","    \"confidence = 0.95\\n\",","    \"conf_interval = confidence_interval(data, confidence)\\n\",","    \"\\n\",","    \"# Create histogram of data\\n\",","    \"plt.hist(data, bins=30, density=True, alpha=0.6, color='g')\\n\",","    \"\\n\",","    \"# Add lines for the confidence interval\\n\",","    \"plt.axvline(conf_interval[0], color='r', linestyle='dashed', linewidth=2)\\n\",","    \"plt.axvline(conf_interval[1], color='r', linestyle='dashed', linewidth=2)\\n\",","    \"\\n\",","    \"# Show the plot\\n\",","    \"plt.title(f\\\"The {confidence*100}% confidence interval\\\")\\n\",","    \"plt.show()\\n\"","   ]","  },","  {","   \"cell_type\": \"markdown\",","   \"id\": \"69c03259\",","   \"metadata\": {},","   \"source\": [","    \" the two red lines are telling us that we are 95% confident (if your confidence = 0.95) that the true population mean falls between those two lines.\"","   ]","  },","  {","   \"cell_type\": \"code\",","   \"execution_count\": null,","   \"id\": \"37155fc5\",","   \"metadata\": {},","   \"outputs\": [],","   \"source\": []","  },","  {","   \"cell_type\": \"markdown\",","   \"id\": \"915e2d09\",","   \"metadata\": {},","   \"source\": [","    \"**Exercise 3**\\n\",","    \"\\n\",","    \"How does the confidence interval of variance look like?\"","   ]","  },","  {","   \"cell_type\": \"code\",","   \"execution_count\": 10,","   \"id\": \"eaf6cad5\",","   \"metadata\": {},","   \"outputs\": [","    {","     \"name\": \"stdout\",","     \"output_type\": \"stream\",","     \"text\": [","      \"The 95.0% confidence interval for variance is (3.6453320384641987, 4.344566346485861)\\n\"","     ]","    }","   ],","   \"source\": [","    \"import numpy as np\\n\",","    \"import scipy.stats\\n\",","    \"import matplotlib.pyplot as plt\\n\",","    \"\\n\",","    \"# Function to calculate confidence interval for variance\\n\",","    \"def confidence_interval_variance(data, confidence):\\n\",","    \"    n = len(data)\\n\",","    \"    var = np.var(data, ddof=1)  # sample variance with Bessel's correction\\n\",","    \"    chi2_lower = scipy.stats.chi2.ppf((1 - confidence) / 2, df=n-1)\\n\",","    \"    chi2_upper = scipy.stats.chi2.ppf((1 + confidence) / 2, df=n-1)\\n\",","    \"    lower = (n - 1) * var / chi2_upper\\n\",","    \"    upper = (n - 1) * var / chi2_lower\\n\",","    \"    return lower, upper\\n\",","    \"\\n\",","    \"# Generate some random data\\n\",","    \"data = np.random.normal(loc=10, scale=2, size=1000)\\n\",","    \"\\n\",","    \"# Calculate the confidence interval for the variance\\n\",","    \"confidence = 0.95\\n\",","    \"conf_interval_variance = confidence_interval_variance(data, confidence)\\n\",","    \"print(f\\\"The {confidence*100}% confidence interval for variance is {conf_interval_variance}\\\")\\n\"","   ]","  },","  {","   \"cell_type\": \"code\",","   \"execution_count\": 11,","   \"id\": \"f0c2e317\",","   \"metadata\": {},","   \"outputs\": [","    {","     \"data\": {","      \"image/png\": \"iVBORw0KGgoAAAANSUhEUgAAAjUAAAGzCAYAAADXFObAAAAAOXRFWHRTb2Z0d2FyZQBNYXRwbG90bGliIHZlcnNpb24zLjcuMSwgaHR0cHM6Ly9tYXRwbG90bGliLm9yZy/bCgiHAAAACXBIWXMAAA9hAAAPYQGoP6dpAACAQElEQVR4nO3dd3xTVf8H8E/SPWgLdENpC5YNZdcCZRbKEKkiID7KEMEBigKiOBgOUEBBRcTx/IDHxVIBGWWXTdkge0hZpSwpbVM6c35/XBsIzb1NS3ub8Xm/XvfVNOck+SY3ufnm3DM0QggBIiIiIiunregAiIiIiMoCkxoiIiKyCUxqiIiIyCYwqSEiIiKbwKSGiIiIbAKTGiIiIrIJTGqIiIjIJjCpISIiIpvApIaIiIhsApOah6DRaDBy5Mhi682fPx8ajQbJycnlH5QNSU5Ohkajwfz58w3XTZo0CRqNRpXH79ChAzp06GD4PzExERqNBkuXLlXl8QcPHoywsDBVHqsslGTfFNa9efNmqR6rQ4cOaNiwYaluW9FMva/VsHfvXrRu3RoeHh7QaDQ4dOiQqo9vjoSEBDRp0gSurq7QaDRIS0sz+3NQUa9rWbOV52GO8vhuZFJjwrlz5/Diiy+iZs2acHV1hZeXF9q0aYMvvvgCd+/erejwqIRSUlIwadIkizyIW3JsZWHKlClYtmxZRYdh9/Ly8tC3b1/8888/mDlzJn788UeEhoZWdFhGbt26hX79+sHNzQ1ff/01fvzxR3h4eFR0WFYlKysLkyZNQmJiYkWHUmEcKzoAS7Nq1Sr07dsXLi4uGDhwIBo2bIjc3Fxs374db775Jo4dO4bvvvuuRPf53HPP4emnn4aLi0s5RW0/3nvvPbz99tsluk1KSgomT56MsLAwNGnSxOzbrVu3roTRlZxSbN9//z30en25x1BWTO2bKVOm4KmnnkJ8fHzFBEUApB9qFy5cwPfff48XXnihosMxae/evcjIyMCHH36I2NhYw/XW9jl4WKGhobh79y6cnJxKfNusrCxMnjwZAIxame0Jk5r7nD9/Hk8//TRCQ0OxadMmBAUFGcpGjBiBs2fPYtWqVSW+XwcHBzg4OJRlqBYjPz8fer0ezs7Oqjyeo6MjHB3L922blZUFd3d31Z6TnNIc1CqSGvuGSuf69esAAB8fn4oNRIFcjNb2OXhYGo0Grq6uFR2GEZ1OZzWtZjz9dJ9p06YhMzMT//3vf40SmkKPPPIIRo0aVeT6ZcuWoWHDhnBxcUGDBg2QkJBgVF6S84br169H27Zt4ePjA09PT9SpUwfvvPOOUZ3Lly8jPj4eHh4e8Pf3xxtvvIG1a9dCo9EYNTuGhYVh8ODBRR7jwb4iubm5mDBhApo3bw5vb294eHggJiYGmzdvNrpd4bneGTNmYNasWahVqxZcXFxw/PhxAMDJkyfx1FNPoUqVKnB1dUWLFi2wYsWKYp8zAMO5c29vb/j4+GDQoEFIS0srUs9Uvw2l1ywxMREtW7YEAAwZMgQajcbofHVh34z9+/ejXbt2cHd3N9z2wdepUEFBAd555x0EBgbCw8MDjz/+OC5dumRUx5zXvrjYTPUl0Ol0GDNmDEJCQuDi4oI6depgxowZEEIY1Svs71Xce/NBQgj4+vpi9OjRhuv0ej18fHzg4OBgtE8+/fRTODo6IjMzE0DRfaPRaKDT6bBgwQLDc3vwNSnc7z4+PvD29saQIUOQlZWlGOP99u/fj9atW8PNzQ3h4eGYO3dukTrXr1/H0KFDERAQAFdXV0RGRmLBggVGdQr7Sz3YbG+qf8PgwYPh6emJK1euID4+Hp6envDz88PYsWNRUFBg8vkV975OTU3FkCFDUL16dbi4uCAoKAi9e/c265ixadMmxMTEwMPDAz4+PujduzdOnDhhFG/79u0BAH379oVGoyn2V3xaWhreeOMNhIWFwcXFBdWrV8fAgQON+kCZ87ref8z47rvvDMeMli1bYu/evYZ6HTp0wKBBgwAALVu2NHqvmPocmPu6AuYdlwqP0Tt27MDo0aPh5+cHDw8PPPHEE7hx40aR+1yzZg3at2+PSpUqwcvLCy1btsQvv/xiVCcpKQndunWDt7c33N3d0b59e+zYsUPxdb//NSvpey45ORl+fn4AgMmTJxs+c5MmTSrVa7Flyxa88sor8Pf3R/Xq1bF06VLD9Q/69ttvodFocPToUQDAkSNHMHjwYEMXjsDAQDz//PO4detWsc//YfFn1X3+/PNP1KxZE61btzb7Ntu3b8fvv/+OV155BZUqVcKXX36JPn364OLFi6hatWqJHv/YsWN47LHH0LhxY3zwwQdwcXHB2bNnjT4Id+/eRefOnXHx4kW89tprCA4Oxo8//ohNmzaV6LHul56ejh9++AEDBgzAsGHDkJGRgf/+97+Ii4vDnj17ipwWmTdvHrKzszF8+HC4uLigSpUqOHbsGNq0aYNq1arh7bffhoeHBxYvXoz4+Hj89ttveOKJJ2QfXwiB3r17Y/v27XjppZdQr149/PHHH4aD3MO8ZvXq1cMHH3yACRMmYPjw4YiJiQEAo31869YtdO/eHU8//TSeffZZBAQEKD7mxx9/DI1Gg7feegvXr1/HrFmzEBsbi0OHDsHNza3YmAuZE9v9hBB4/PHHsXnzZgwdOhRNmjTB2rVr8eabb+LKlSuYOXOmUf3SvDc1Gg3atGmDrVu3Gq47cuQI7ty5A61Wix07dqBnz54AgG3btqFp06bw9PQ0eV8//vgjXnjhBbRq1QrDhw8HANSqVcuoTr9+/RAeHo6pU6fiwIED+OGHH+Dv749PP/202Nfv9u3b6NGjB/r164cBAwZg8eLFePnll+Hs7Iznn38egPR56dChA86ePYuRI0ciPDwcS5YsweDBg5GWlmbyR4o5CgoKEBcXh6ioKMyYMQMbNmzAZ599hlq1auHll18GULL3dZ8+fXDs2DG8+uqrCAsLw/Xr17F+/XpcvHhRsZPshg0b0L17d9SsWROTJk3C3bt38dVXX6FNmzY4cOAAwsLC8OKLL6JatWqYMmUKXnvtNbRs2VLxPZ6ZmYmYmBicOHECzz//PJo1a4abN29ixYoVuHz5Mnx9fUv8uv7yyy/IyMjAiy++CI1Gg2nTpuHJJ5/E33//DScnJ7z77ruoU6cOvvvuO3zwwQcIDw8v8l4pVJLXtaTHpVdffRWVK1fGxIkTkZycjFmzZmHkyJFYtGiRoc78+fPx/PPPo0GDBhg/fjx8fHxw8OBBJCQk4JlnngEgJZrdu3dH8+bNMXHiRGi1WsybNw+dOnXCtm3b0KpVK9nXX05x7zk/Pz988803ePnll/HEE0/gySefBAA0bty4VK/FK6+8Aj8/P0yYMAE6nQ49e/aEp6cnFi9ebEiSCy1atAgNGjQwdN5fv349/v77bwwZMgSBgYGGbhvHjh3D7t27y3ewhyAhhBB37twRAETv3r3Nvg0A4ezsLM6ePWu47vDhwwKA+OqrrwzXzZs3TwAQ58+fV7y/mTNnCgDixo0bsnVmzZolAIjFixcbrtPpdOKRRx4RAMTmzZsN14eGhopBgwYVuY/27duL9u3bG/7Pz88XOTk5RnVu374tAgICxPPPP2+47vz58wKA8PLyEtevXzeq37lzZ9GoUSORnZ1tuE6v14vWrVuLiIgIxee9bNkyAUBMmzbNKKaYmBgBQMybN89w/cSJE8X9b1tzXrO9e/cWuZ9C7du3FwDE3LlzTZbd/zpt3rxZABDVqlUT6enphusXL14sAIgvvvjCcJ25r71SbIMGDRKhoaGG/wtfp48++sio3lNPPSU0Go3R+9Dc96Yp06dPFw4ODobn+OWXX4rQ0FDRqlUr8dZbbwkhhCgoKBA+Pj7ijTfeMNzuwX0jhBAeHh4mX4fCuve/v4QQ4oknnhBVq1ZVjE+Ie/vts88+M1yXk5MjmjRpIvz9/UVubq4Q4t7n5aeffjLUy83NFdHR0cLT09PwHAv37f2fHyHuvefv3z+DBg0SAMQHH3xgVLdp06aiefPmhv/NfV/fvn1bABDTp08v9nk/qPD53rp1y3Dd4cOHhVarFQMHDjRcV/j8lixZUux9TpgwQQAQv//+e5EyvV4vhDD/dS18/apWrSr++ecfQ93ly5cLAOLPP/80XFd4nNy7d6/RY8p9Dsw5Xph7XCp87NjYWMNzFEKIN954Qzg4OIi0tDQhhBBpaWmiUqVKIioqSty9e9fka6PX60VERISIi4szuq+srCwRHh4uunTpUuR1vd/DvOdu3LghAIiJEycWud+SvhZt27YV+fn5RvcxYMAA4e/vb3T91atXhVarNYotKyuryOP/+uuvAoDYunVrkccq7ruxJHj66V/p6ekAgEqVKpXodrGxsUa/KBo3bgwvLy/8/fffJY6h8Fzy8uXLZTvGrV69GkFBQXjqqacM17m7uxt+CZeGg4ODof+IXq/HP//8g/z8fLRo0QIHDhwoUr9Pnz6GZk4A+Oeff7Bp0yb069cPGRkZuHnzJm7evIlbt24hLi4OZ86cwZUrV2Qff/Xq1XB0dDT8wi2M6dVXXy02dnNes+K4uLhgyJAhZtcfOHCg0fvkqaeeQlBQEFavXl2qxzfX6tWr4eDggNdee83o+jFjxkAIgTVr1hhdX9r3ZkxMDAoKCrBz504AUotMTEwMYmJisG3bNgDA0aNHkZaWZmhdKq2XXnqpyGPfunXL8HlU4ujoiBdffNHwv7OzM1588UVcv34d+/fvByC9ZoGBgRgwYIChnpOTE1577TVkZmaabEp/mNjvf23NfV+7ubnB2dkZiYmJuH37ttmPf/XqVRw6dAiDBw9GlSpVDNc3btwYXbp0KfX78bfffkNkZKTJ1tXCX9glfV379++PypUrG/4vfN+U5jhp7utamuPS8OHDjVoRCj8LFy5cACC1QGRkZODtt98u0u+l8HaHDh3CmTNn8Mwzz+DWrVuGx9XpdOjcuTO2bt1a6mNVce85OaV5LYYNG1akL2j//v1x/fp1o9O0S5cuhV6vR//+/Q3X3d9inZ2djZs3b+LRRx8FAJPfKWWJSc2/vLy8AAAZGRklul2NGjWKXFe5cmXFg9OdO3eQmppq2P755x8A0humTZs2eOGFFxAQEICnn34aixcvNvoAXLhwAY888kiR5rs6deqUKO4HLViwAI0bN4arqyuqVq0KPz8/rFq1Cnfu3ClSNzw83Oj/s2fPQgiB999/H35+fkbbxIkTAdzrBGjKhQsXEBQUVOQ0hjnPyZzXrDjVqlUrUafgiIgIo/81Gg0eeeSRcp+H6MKFCwgODi6SeNerV89Qfr/SvDcBoFmzZnB3dzckMIVJTbt27bBv3z5kZ2cbytq2bVvq52MqxsIvPnO+3IODg4t0XqxduzYAGPbFhQsXEBERAa3W+FAn95qZy9XV1SixL4z9/rjNfV+7uLjg008/xZo1axAQEIB27dph2rRpSE1NVYyhMHZTn5N69eoZvkhL6ty5c8XOAVTS1/Vh9rOpxzbndS3Ncam4OM+dOwcAiq/PmTNnAACDBg0q8rg//PADcnJyTB5Xi2POe05OaV6LB4/zAAx9hO4/Hbdo0SI0adLE8NkDpCRq1KhRCAgIgJubG/z8/Az3V5rnXhLsU/MvLy8vBAcHGzo6mUtuVJN4oOPm/UaNGmXUoa59+/ZITEyEm5sbtm7dis2bN2PVqlVISEjAokWL0KlTJ6xbt67EI6jkzlsWFBQY3ddPP/2EwYMHIz4+Hm+++Sb8/f3h4OCAqVOnGj7E93uw30hhAjF27FjExcWZfMxHHnmkRLGbqyxes5L0gzGXua99eSrNexOQfnFHRUVh69atOHv2LFJTUxETE4OAgADk5eUhKSkJ27ZtQ926dYscZNWKsawp7S9Tynofvv766+jVqxeWLVuGtWvX4v3338fUqVOxadMmNG3atEwfqyJUxH4uzXGpLOIsfNzp06fLTiEh1w9NycO850rzWpg6Lrq4uCA+Ph5//PEH5syZg2vXrmHHjh2YMmWKUb1+/fph586dePPNN9GkSRN4enpCr9ejW7du5T48n0nNfR577DF899132LVrF6Kjo8vtccaNG4dnn33W8P/9zbJarRadO3dG586d8fnnn2PKlCl49913sXnzZsTGxiI0NBRHjx6FEMLoQHzq1Kkij1O5cmWTIwIuXLiAmjVrGv5funQpatasid9//93oPgsz+OIU3peTk5PR/BLmCg0NxcaNG5GZmWn0YTf1nEwp7jUr605phb/ECgkhcPbsWUOHPMD8174ksYWGhmLDhg3IyMgwaq05efKkobysxMTE4NNPP8WGDRvg6+uLunXrQqPRoEGDBti2bRu2bduGxx57rNj7Kc8OgSkpKUWGmp4+fRoADJ1rQ0NDceTIEej1eqNWhQdfs8LP4IP7rLQtOYX3XZL3da1atTBmzBiMGTMGZ86cQZMmTfDZZ5/hp59+kr1/ufs7efIkfH19SzUMt1atWsX+uDP3dS0P5r6uD3tcMqXwdO7Ro0dlf6gV1vHy8iqzxzWX3OetLF+L/v37Y8GCBdi4cSNOnDgBIYTRqafbt29j48aNmDx5MiZMmGC4/sHjZnnh6af7jBs3Dh4eHnjhhRdw7dq1IuXnzp3DF1988dCPU79+fcTGxhq25s2bA4DhNNT9CjP9nJwcAECPHj2QkpJiNFV/VlaWyQkBa9Wqhd27dyM3N9dw3cqVK4sMPy78BXD/r5GkpCTs2rXLrOfj7++PDh064Ntvv8XVq1eLlJsaEnm/Hj16ID8/H998843huoKCAnz11VfFPrY5r1nhgV1uyGdJ/e9//zM6Tbl06VJcvXoV3bt3N1xn7mtfkth69OiBgoICzJ492+j6mTNnQqPRGD3+w4qJiUFOTg5mzZqFtm3bGg6WMTEx+PHHH5GSkmJWfxoPD48ye90flJ+fj2+//dbwf25uLr799lv4+fkZPlM9evRAamqqUXN5fn4+vvrqK3h6ehpGcYSGhsLBwcFo1BcAzJkzp9Txmfu+zsrKQnZ2ttF1tWrVQqVKlQzvYVOCgoLQpEkTLFiwwOg1Pnr0KNatW4cePXqUKu4+ffrg8OHD+OOPP4qUFR4jzH1dy4O5r+vDHpdM6dq1KypVqoSpU6cW2WeFr03z5s1Rq1YtzJgxwzDdwcM+rrnc3d0BFD2elOVrERsbiypVqmDRokVYtGgRWrVqZXSqytT3CQDMmjXL7Md4GGypuU+tWrXwyy+/oH///qhXr57RjMI7d+40DFksLx988AG2bt2Knj17IjQ0FNevX8ecOXNQvXp1Q9+FYcOGYfbs2Rg4cCD279+PoKAg/Pjjj4Y38/1eeOEFLF26FN26dUO/fv1w7tw5/PTTT0WGSj722GP4/fff8cQTT6Bnz544f/485s6di/r165v8UJry9ddfo23btmjUqBGGDRuGmjVr4tq1a9i1axcuX76Mw4cPy962V69eaNOmDd5++20kJyejfv36+P33380692rOa1arVi34+Phg7ty5qFSpEjw8PBAVFWXynLE5qlSpgrZt22LIkCG4du0aZs2ahUceeQTDhg0z1DH3tS9JbL169ULHjh3x7rvvIjk5GZGRkVi3bh2WL1+O119/XXYIbGlER0fD0dERp06dMuqE3q5dO8OXiTlJTfPmzbFhwwZ8/vnnCA4ORnh4OKKiosokxuDgYHz66adITk5G7dq1sWjRIhw6dAjfffedYcK24cOH49tvv8XgwYOxf/9+hIWFYenSpdixYwdmzZplaPHy9vZG37598dVXX0Gj0aBWrVpYuXKlYl+w4pj7vj59+jQ6d+6Mfv36oX79+nB0dMQff/yBa9eu4emnn1Z8jOnTp6N79+6Ijo7G0KFDDUO6vb29jeYnKYk333wTS5cuRd++ffH888+jefPm+Oeff7BixQrMnTsXkZGRZr+u5aEkx4uHOS6Z4uXlhZkzZ+KFF15Ay5Yt8cwzz6By5co4fPgwsrKysGDBAmi1Wvzwww/o3r07GjRogCFDhqBatWq4cuUKNm/eDC8vL/z5559l9XIYcXNzQ/369bFo0SLUrl0bVapUQcOGDdGwYcMyey2cnJzw5JNPYuHChdDpdJgxY4ZRuZeXl6FfWF5eHqpVq4Z169bh/Pnz5fGUiyqzcVQ25PTp02LYsGEiLCxMODs7i0qVKok2bdqIr776ymg4HAAxYsSIIrd/cDivucPWNm7cKHr37i2Cg4OFs7OzCA4OFgMGDBCnT582qnfhwgXx+OOPC3d3d+Hr6ytGjRolEhISTA5J/eyzz0S1atWEi4uLaNOmjdi3b1+RYcV6vV5MmTJFhIaGChcXF9G0aVOxcuXKIkMpC4cayg09PXfunBg4cKAIDAwUTk5Oolq1auKxxx4TS5cuVXzeQghx69Yt8dxzzwkvLy/h7e0tnnvuOXHw4MFih3Sb+5otX75c1K9fXzg6OhrdZ/v27UWDBg1MxiQ3pPvXX38V48ePF/7+/sLNzU307NlTXLhwocjtzXntlWJ78PUXQoiMjAzxxhtviODgYOHk5CQiIiLE9OnTjYaOCmH+e1NJy5YtBQCRlJRkuO7y5csCgAgJCSlS39SQ7pMnT4p27doJNzc3AcDw2IV1HxyKb+5npXC/7du3T0RHRwtXV1cRGhoqZs+eXaTutWvXxJAhQ4Svr69wdnYWjRo1MjmE/saNG6JPnz7C3d1dVK5cWbz44ovi6NGjJofXenh4mPX8zXlf37x5U4wYMULUrVtXeHh4CG9vbxEVFWU0bYOSDRs2iDZt2gg3Nzfh5eUlevXqJY4fP25UpyRDugvjHjlypKhWrZpwdnYW1atXF4MGDRI3b9401DHndVU6ZuCBocfmDukujM+c44UQ5h2X5B5bbqj/ihUrROvWrQ2veatWrcSvv/5qVOfgwYPiySefFFWrVhUuLi4iNDRU9OvXT2zcuLHIa2HqNSvte27nzp2iefPmwtnZuchr/DCvxf3Wr18vAAiNRiMuXbpUpPzy5cviiSeeED4+PsLb21v07dtXpKSkyO7zshzSrRFC5R55VC4SExPRsWNHbN682W7X/CAiIvvGPjVERERkE5jUEBERkU1gUkNEREQ2gX1qiIiIyCawpYaIiIhsApMaIiIisgl2M/meXq9HSkoKKlWqVK5TtxMREVHZEUIgIyMDwcHBRRZRfZDdJDUpKSkICQmp6DCIiIioFC5duoTq1asr1rGbpKZw2u5Lly7By8urgqMpWzodEBwsXU5JAUqxhh0REVkBXa4OwZ9JB/yUMSnwcLb9A356ejpCQkLMWn7DbpKawlNOXl5eNpfU3L8ivZcXkxoiIlvlkOsAuEqXvby87CKpKWRO1xF2FCYiIiKbYDctNbbM0REYNOjeZSIisk2OWkcMihxkuEzG7GbyvfT0dHh7e+POnTs2d/qJiIjIVpXk+5unn4iIiMgmsO3KBggBZGVJl93dAU7DQ0Rkm4QQyMqTDvjuTu6cd+0BbKmxAVlZgKentBUmN0REZHuy8rLgOdUTnlM9DckN3cOkhoiIiGwCkxoiIiKyCUxqiIiIyCYwqSEiIiKbwNFPRFSxbt8GTpwAUlOly7dvA//8A9y5Iw3lc3OThvUV/g0KAh55BKhVS1oXhIjoX0xqiEhdBQXAuXPAX38BR49Kq7AqycsD0tPv/X/sGLBhg3TZ3x+IiACaNgUaNAC0bHwmsmdMamyAgwPw1FP3LhNZpIwMIDFR2jIzy+Y+r1+Xth07gCpVgJgYoE0bwNu7bO6fyMI4aB3wVP2nDJfJGJdJIKLydeOG1LKyY4fU6lLetFqgSROge3egRo3yfzwiKlcl+f5mSw0RlY/0dGDpUmDPHmnaa7Xo9cCBA8DBg0B0NBAfz5YbIjvBpIaIypYQwPbtwG+/AXfvVmwcO3cC+/dLrTaxsYCTU8XFQ0TljkmNDdDppCUSAKmrgodHxcZDduzqVeDHH6WOwA+rcE2bh23lyckBli0Dtm0DBg8Gatd+2MiIKowuVwfPqdIBP3N8JjycecC/H5MaInp4QgAJCcCff0qjm0oqOBho2FDqA1O5srT5+Ej9Y3JypEXNsrKkpOnsWWm7cqVkCc+tW8DnnwM9e0obR0oR2RwmNUT0cLKzgf/7P+Dw4ZLdrlYtqc9LgwbSyCU5rq7SVqUKUL060LKldH1WltRvZssW4MIF8x5TCGDlSuDUKWDoUCl5IiKbwaSGiEovNRWYMwe4ds28+hoNEBkJdO0qJTUPw91dGr7dpo2U1GzdCuzeDeTnF3/bM2eADz+UTkc1bvxwcRCRxWBSQ0Slc/iw1EKTnW1e/WbNpJFIAQFlH0toKPDcc1KH4N9+k0Y/FUenA77+GujTB+jS5V4fHiKyWkxqiKjk1q2TkgdzVKkCPPMM0KhR+cYEAL6+wIsvSi0xixYBly4Vf5vffgPS0oC+fZnYEFk5JjVEZL7CPikrVxZfV6MBOncGHn8ccHEp/9juFxEBvPMOsGkT8PvvxXde3rhRWmtq8GAO+yayYkxqbICDA9Cjx73LROVCCClBWLeu+LpeXlKLySOPlH9ccrRaaW6aiAjg+++lmY2V7NsnTRj48stSfx0iC+SgdUCPiB6Gy2SMyyQQUfGEABYulNZtKk7NmlJC4+NT3lGZLzsb+OknYO/e4utWrw6MHs0Jn4gsREm+vzlRAxEp0+ulCfXMSWjatQPGjLGshAaQhoQPHSr17Smu38zly8CXX5rfAZqILAaTGiKSJwSweLG0GKUSjQb4z3+kzdFCz2prNED79tLppeL6zSQnA7NnA7m5qoRGRGWDSY0N0OmklnIPD+kyUZlZtw7YvFm5jlYLvPCC1EpjDSIjzTu9dOYM8M035s17Q6QSXa4OHlM84DHFA7pcHvAfxKTGRhTOIk9UZnbvljoGK3F0BF56CWjRQp2YykrNmsBbbwFVqyrXO34c+O670i39QFROsvKykJXHA74pTGqIqKhjx4AFC5TrODkBr7witXxYo4AAYNw4wN9fud7hw1InY/sYU0Fk1ZjUEJGxCxeAb7+VOgjLcXICXntNWrfJmvn4AG+8obz2FADs3GneUHYiqlBMaojonrQ0qYNsTo58Ha1WGrJdu7ZqYZWrKlWkxMbbW7neH39IC2gSkcViUkNEkvx8qYUmPV253rPPqrPkgZr8/aXExtNTvo4Q0lpX5iy9QEQVgkkNEUmWLAH+/lu5zuOPS6ti26KgIOD11wE3N/k6ublSS1ZamlpREVEJMKmxAVqtNP1G+/bSZaIS27mz+Mn12rW7tx6HrQoJkU6tKX2Q0tKAOXOAvDzVwiIqpNVo0T60PdqHtodWwwP+g7hMApG9u3gR+PRT5flYGjeWJq2zl6x561bg55+V67RtCzz3nDrxENkxLpNARObJzATmzlVOaAICpCUG7CWhAaRWqc6dlets3w4kJakTDxGZxY6OUkRkRAhg/nzg1i35Oi4uUguNq6tqYVmMp54CGjZUrvPTT8DVq+rEQ0TFYlJjA3Q6wM9P2rhMApltyxbgr7+U6wwZInWgtUdaLTBsGBAcLF8nN1caMaY0BJ6oDOlydfCb7ge/6X5cJsEEJjU24uZNaSMyy9WrwNKlynW6dQOaNlUnHkvl6irNmqzUUnX1KvDLL5xxmFRzM+smbmbxgG8Kkxoie5OfD/z3v8qjd+rVA3r3Vi8mS+bnBwwapFxn925pBBkRVSgmNUT2Zvly5QnkvL2lVbftqWNwcZo1Azp2VK6zcCFw/bo68RCRSTxqEdmTkyeLX8NoyBDlmXXt1VNPAWFh8uW5ucC8ecprZhFRuWJSQ2QvsrKkL10lsbHSqScqytERGD4ccHeXr/P338DaterFRERGmNQQ2YulS5Wn969WDYiPVysa61S1KjB4sHKdP//k+lBEFYRJjQ3QaoEWLaSN3SDIpBMngB075MsdHaV+NE5O6sVkrSIjpTVJ5BQUSAtfKk1oSFRKWo0WLYJboEVwCy6TYIJjRQdAD8/NDdi7t6KjIIuVkyNNEqekTx/l+VjIWJ8+UqIo1zE4JUXqkN2nj7pxkc1zc3LD3mE84MspVZr39ddfIywsDK6uroiKisKePXsU6y9ZsgR169aFq6srGjVqhNWrVxuVCyEwYcIEBAUFwc3NDbGxsThz5oxRndOnT6N3797w9fWFl5cX2rZti82bN5cmfCL7smKF8iRG9eoVP7KHjLm4SB2qNRr5OuvXA2fPqhcTEZU8qVm0aBFGjx6NiRMn4sCBA4iMjERcXByuy/xi2blzJwYMGIChQ4fi4MGDiI+PR3x8PI4ePWqoM23aNHz55ZeYO3cukpKS4OHhgbi4OGRnZxvqPPbYY8jPz8emTZuwf/9+REZG4rHHHkNqamopnjaRnTh/Hti4Ub7cxUValFHpy5lMq1lTmqBQjhDA//7H1byJVFTiVbqjoqLQsmVLzJ49GwCg1+sREhKCV199FW+//XaR+v3794dOp8PKlSsN1z366KNo0qQJ5s6dCyEEgoODMWbMGIwdOxYAcOfOHQQEBGD+/Pl4+umncfPmTfj5+WHr1q2IiYkBAGRkZMDLywvr169HbGxssXHb8irdWVlA/frS5ePHlQdnkB3Jzwc+/lg6FSLn6afZSvMw8vOBTz5R7hjcsyfw+OPqxUQ2LSsvC/W/lg74x0cch7uT7R/wy22V7tzcXOzfv98oidBqtYiNjcWuXbtM3mbXrl1Fko64uDhD/fPnzyM1NdWojre3N6Kiogx1qlatijp16uB///sfdDod8vPz8e2338Lf3x/Nmzc3+bg5OTlIT0832myVEMCFC9LGmdrJICFBOaGpVUu5wysVz9EReP556a+c4vYDUQkIIXDhzgVcuHMBJWyTsAslSmpu3ryJgoICBAQEGF0fEBAgexooNTVVsX7hX6U6Go0GGzZswMGDB1GpUiW4urri888/R0JCAipXrmzycadOnQpvb2/DFhISUpKnSmTdrl8H1qyRL3d0lE47cbjcwwsOVm6JKSgAfvyRvziIVGAVRzQhBEaMGAF/f39s27YNe/bsQXx8PHr16oWrV6+avM348eNx584dw3aJ80aQvRACWLRIeUhxz572u/p2eejSBVD64fT339Kq6ERUrkqU1Pj6+sLBwQHXrl0zuv7atWsIDAw0eZvAwEDF+oV/leps2rQJK1euxMKFC9GmTRs0a9YMc+bMgZubGxYsWGDycV1cXODl5WW0EdmFI0eA+zriF1G9OhAXp1489kCrBQYOVG75+uMP4PZt9WIiskMlSmqcnZ3RvHlzbLxvNIVer8fGjRsRHR1t8jbR0dFG9QFg/fr1hvrh4eEIDAw0qpOeno6kpCRDnaysLCnYBw4YWq0Weq6zQnRPXp7USiNHo5FOOzk4qBeTvahRQ1pmQk52NvDrr+rFQ2SHSnz6afTo0fj++++xYMECnDhxAi+//DJ0Oh2GDBkCABg4cCDGjx9vqD9q1CgkJCTgs88+w8mTJzFp0iTs27cPI0eOBCD1l3n99dfx0UcfYcWKFfjrr78wcOBABAcHI/7fKdujo6NRuXJlDBo0CIcPH8bp06fx5ptv4vz58+jZs2cZvAxENiIhAbh1S748JkZ5UUZ6OL16Ab6+8uWHD0staURULko8o3D//v1x48YNTJgwAampqWjSpAkSEhIMHX0vXrxo1KLSunVr/PLLL3jvvffwzjvvICIiAsuWLUPDhg0NdcaNGwedTofhw4cjLS0Nbdu2RUJCAlxdXQFIp70SEhLw7rvvolOnTsjLy0ODBg2wfPlyREZGPuxrYPU0mntDujndiB27cUNKauR4eHBtp/Lm7Aw8+ywwa5Z8nUWLpAkPuSQFlYJGo0F9v/qGy2SsxPPUWCtbnqeGCEIAs2cr96V57jmgbVv1YrJn8+YBu3fLl/fqBTz2mHrxEFmxcpunhogs1F9/KSc0YWFAmzaqhWP3+vaVWsbkJCQoL11BRKXCpIbI2hUUAEuXypdrNMAzz/DcpJo8PZVP9eXlAYsXqxYOkb1gUmMDsrKABg2k7d+BYmRPtm4FHpgSwUhMDBAaql48JGnbVvl1P3xYuXWNyISsvCw0mNMADeY0QFYeD/gPYlJjA4SQ1nw6fpyTltqdrCzgzz/ly9k5uOJotcCAAcp1ipskkegBQggcv3Ecx28c5zIJJjCpIbJma9YAOp18+eOPK/ftoPIVHq7cl+n6dWD9evXiIbJxTGqIrNXNm8CmTfLlAQHSqSeqWE88AbgrrKS8Zg1gwwvuEqmJSQ2Rtfr9d+VTF089xZmDLUGlSkDv3vLlOTnA8uXqxUNkw5jUEFmjc+eA/fvly+vWBRo1Ui8eUtaunbTmlpwdO4DLl9WLh8hGMakhsjZCAEuWyJdrNFIrDYdwWw6tFnj6afnywn3Kjp9ED4VJjQ3QaKSRo6Gh/B6zC4cOAefPy5dHRwMhIaqFQ2aKiACaNpUvP3mSQ7ypWBqNBqHeoQj1DuUyCSaUeO0nsjzu7kByckVHQarQ64Fly+TLnZ2V+29QxXrySWlBy4IC0+VLlkgLubEvFMlwd3JH8uvJFR2GxWJLDZE12b0bSE2VL+/aFfDxUS0cKiF/f6BjR/nya9ekyRSJqFSY1BBZi7w8YMUK+fJKlaSkhixbz57Kcwf9+SenBicqJSY1NuDuXaBlS2m7e7eio6Fys3UrcPu2fHnPnoCLi3rxUOm4u0urdMvR6YC1a9WLh6zK3by7aPl9S7T8viXu5vGA/yAmNTZArwf27ZM2vb6io6FykZ0NrF4tX161Kifasybt2kmTI8rZuBFIS1MtHLIeeqHHvpR92JeyD3rBA/6DmNQQWYMNG4DMTPnyxx8HHNnv32o4OEjD7uXk5QErV6oXD5GNYFJDZOkyMoB16+TLg4OBVq3Ui4fKRqNGQO3a8uU7diivvk5ERTCpIbJ0CQnSVPpy4uOlyd3Iumg00hBvOcUN3yeiIngkJLJkd+4AW7bIl9esCTRurF48VLbCw4FmzeTLDxxQnmiRiIwwqSGyZGvXSv0r5DzxBKeRtnbFtbT9/juXTyAyE5MaG+HrK21kQ9LSlFtp6tdX7pNB1iEgAGjTRr789Gng2DH14iGL5+vuC193HvBN4XAJG+DhAdy4UdFRUJlLSADy8+XLuRyC7XjsMWm2aLlWuT/+ABo0YKscwcPZAzfe5AFfDltqiCxRWhqwbZt8ecOGQFiYWtFQefPxATp3li+/fBk4eFC1cIisFZMaIku0Zo1yK43SjLRkneLipNmG5axYwdk1iYrBpMYG3L0LdOggbVwmwQbcvg1s3y5f3rgxW2lskbs70L27fPnVq8DeverFQxbpbt5ddJjfAR3md+AyCSawT40N0Ovv9SflDzkbUFwrzWOPqRcLqatDB2D9eiA93XT5n38CLVpIMxKTXdILPbZc2GK4TMbYUkNkSYprpYmMBEJD1YuH1OXsDPToIV9+4wawa5d68RBZGSY1RJZk7VqgoEC+nH1pbF9MDFC5snz5ypXKLXlEdoxJDZGlSE9XHvHUpAkQEqJaOFRBHB2VTzHevq38PiGyY0xqiCzF+vXsS0OS6GjAz0++fPVqIDdXvXiIrASTGiJLoNMpzx4cGclWGnvi4KB8qjE9HUhMVC0cImvBpMZGuLsrT3FBFm7jRuWVuJU6j5JtatkSCAqSL1+3jq01dsrdyR3uTjzgm8KkxgZ4eEg/9HU66TJZmbt3gU2b5Mvr1+e8NPZIqwUef1y+PCMD2LpVvXjIIng4e0D3jg66d3TwcOYB/0FMaogqWmKi8qyJbKWxX02bAtWry5cnJLC1hug+TGqIKlJOjtRBWE5EhLSRfdJolDuIs7WGyAiTGhuQnQ307Clt2dkVHQ2VyLZt0nlDOT17qhcLWaYmTZRba9auZWuNHcnOz0bPX3qi5y89kZ3PA/6DmNTYgIICaYTn6tXK87aRhcnPV26lCQsD6tZVLRyyUMW11qSns7XGjhToC7D6zGqsPrMaBXoe8B/EpIaooiQlAWlp8uU9e0pfaERNmgDVqsmXr10L5OWpFg6RpWJSQ1QR9Hrpi0hO9epAo0bqxUOWja01RGZhUkNUEQ4dAq5dky/v1o2tNGSsaVPl1pqEBLbWkN1jUkOkNiGkLyA5vr5A8+bqxUPWwZzWmh071IuHyAIxqSFS26lTwIUL8uVxcdLEa0QPatoUCA6WL09I4AreZNd45CRSm1IrjZeXtJghkSnFtdbcvi11QCeyU44VHQA9PA8P6YwGWYELF4ATJ+TLO3cGnJzUi4esT9OmQGAgkJpqunz1aikxZmufTfJw9oCYyAO+HL7ridSk1Erj6gq0b69eLGSdtFrlpTNu3gT27lUvHiILwqSGSC3XrgEHD8qXt28PuLmpFw9Zr5YtpQ7lclavZvMt2SUmNTYgOxvo21fauEyCBduwQf6LxtFROvVEZA6tFujeXb48NVU5gSarlZ2fjb5L+qLvkr5cJsEEJjU2oKAAWLpU2rhMgoXKyAB27pQvb90a8PZWLx6yfo8+ClSuLF++ahVba2xQgb4AS48vxdLjS7lMgglMaojUsHmz/FBbjQbo0kXdeMj6OTpKkzTKuXwZ+Osv9eIhsgBMaojKW24ukJgoX960KeDvr1o4ZEPatJGmAZDDvjVkZ5jUEJW3nTsBnU6+vGtX9WIh2+LkpPz+OX8eOH1avXiIKhiTGqLypNcD69fLl0dEAOHh6sVDtqddO2myKjlr1qgXC1EFY1JDVJ4OHZLmDZHDvjT0sFxclEfOnTgBJCerFg5RRWJSQ1RehADWrpUvDwwEGjdWLx6yXR07SsmNHKVJH4lsCJMaG+DuDmRmSpu7e0VHQwZnzyr/Qu7SRRr5RPSw3N2BDh3kyw8eBK5eVS0cKj/uTu7IHJ+JzPGZcHfiAf9BTGpsgEYjnVL38OB3pEVZt06+zMsLiIpSLxayfbGx0jBvOWytsQkajQYezh7wcPaAhgf8IpjUEJWHa9eAI0fkyzt25MKVVLa8vKQh3nL27AFu3VIvHqIKwKTGBuTkAIMHS1tOTkVHQwCkJRHkuLhw4UoqH127yq/Ordcrtx6SVcjJz8HgZYMxeNlg5OTzgP8gJjU2ID8fWLBA2uQmrSUVZWYCu3bJl7durTwEl6i0fH2lxS7lbN8OpKerFw+VuXx9PhYcXoAFhxcgX88D/oOY1BCVta1bgbw802UajdT3gai8KC2dkJ8PbNqkXixEKmNSQ1SW8vOldZ7kNGki/ZomKi/BwdL7TE5iIpDN1Z3JNjGpISpLe/YoN+9zsj1SQ/fu8mV370qtiUQ2iEkNUVkRQrmDcHg4ULOmevGQ/QoLA+rUkS/fsIEd8MgmMakhKisnTwJXrsiXx8ZyIiFST1ycfNmdO8Du3erFQqQSJjVEZUVp4coqVYBmzdSLhah+fSAkRL587VppmDeRDWFSYwPc3YHr16WNyyRUkJQU4Ngx+fLOneXnDyEqDxqN8kio69elBVfJqrg7ueP62Ou4PvY6l0kwgUdZG6DRAH5+0sazGxVk40b5MldX5ZleicpLs2bKo+0SEqS+YGQ1NBoN/Dz84Ofhx2USTGBSQ/SwMjKU+ye0bQu4uakXD1EhrVa5b82FC8CpU+rFQ1TOmNTYgJwcYMQIaeMyCRVg2zb5kSQaDdCpk7rxEN0vOlpaF0oOF7q0Kjn5ORixagRGrBrBZRJMKFVS8/XXXyMsLAyurq6IiorCnj17FOsvWbIEdevWhaurKxo1aoTVq1cblQshMGHCBAQFBcHNzQ2xsbE4c+ZMkftZtWoVoqKi4ObmhsqVKyM+Pr404duc/Hxgzhxp4yhNlRU32V6zZkDVqurFQ/QgJyepT5ecEyeAS5fUi4ceSr4+H3P2zcGcfXO4TIIJJU5qFi1ahNGjR2PixIk4cOAAIiMjERcXh+vXr5usv3PnTgwYMABDhw7FwYMHER8fj/j4eBw9etRQZ9q0afjyyy8xd+5cJCUlwcPDA3Fxcci+b9bL3377Dc899xyGDBmCw4cPY8eOHXjmmWdK8ZSJytD+/cqT7Sl9mRCppX17qW+XnLVr1YuFqBxphChZL7GoqCi0bNkSs2fPBgDo9XqEhITg1Vdfxdtvv12kfv/+/aHT6bBy5UrDdY8++iiaNGmCuXPnQgiB4OBgjBkzBmPHjgUA3LlzBwEBAZg/fz6efvpp5OfnIywsDJMnT8bQoUNL9UTT09Ph7e2NO3fuwEupKdYK6XSAp6d0OTOTayWqRghgyhTg4kXT5WFhwNtvs/c2WYbffpNfpVujAT76iEt4WAFdrg6eU6UDfub4THg42/4BvyTf3yVqqcnNzcX+/fsRe9+CfFqtFrGxsdglsyrxrl27jOoDQFxcnKH++fPnkZqaalTH29sbUVFRhjoHDhzAlStXoNVq0bRpUwQFBaF79+5GrT0PysnJQXp6utFGVKbOnpVPaABOtkeWpXNnwMHBdJkQyvMsEVmJEiU1N2/eREFBAQICAoyuDwgIQGpqqsnbpKamKtYv/KtU5++//wYATJo0Ce+99x5WrlyJypUro0OHDvjnn39MPu7UqVPh7e1t2EKUJqEiKg2lYdw+PpxsjyyLjw/w6KPy5Tt2SCP5iKyYVYx+0v876+W7776LPn36oHnz5pg3bx40Gg2WLFli8jbjx4/HnTt3DNsldoSjsnTzpvLEZR07yv8qJqooSguq5uVJK3gTWbESJTW+vr5wcHDAtWvXjK6/du0aAgMDTd4mMDBQsX7hX6U6QUFBAID69esbyl1cXFCzZk1clGn+d3FxgZeXl9FGVGY2b5aftMzJCYiJUTceInMEBQGRkfLlmzdzXgiyaiVKapydndG8eXNsvK/ZXa/XY+PGjYiOjjZ5m+joaKP6ALB+/XpD/fDwcAQGBhrVSU9PR1JSkqFO8+bN4eLiglP3TRKVl5eH5ORkhIaGluQp2CQ3N+D8eWnjHG8qyM4Gtm+XL4+OZm9tslxKk/HpdMDOnerFQiXm5uSG86PO4/yo83Bz4gH/QY4lvcHo0aMxaNAgtGjRAq1atcKsWbOg0+kwZMgQAMDAgQNRrVo1TJ06FQAwatQotG/fHp999hl69uyJhQsXYt++ffjuu+8ASFM+v/766/joo48QERGB8PBwvP/++wgODjbMQ+Pl5YWXXnoJEydOREhICEJDQzF9+nQAQN++fcvidbBqWq000IZUsnOnlNjI4TBusmS1aknbuXOmy9evB9q14+lTC6XVaBHmE1bRYVisEic1/fv3x40bNzBhwgSkpqaiSZMmSEhIMHT0vXjxIrT3LdzXunVr/PLLL3jvvffwzjvvICIiAsuWLUPDhg0NdcaNGwedTofhw4cjLS0Nbdu2RUJCAlzvm1dh+vTpcHR0xHPPPYe7d+8iKioKmzZtQuXKlR/m+ROVjBDApk3y5Q0bAjKnYoksRlycNFunKbduSfMvtWqlbkxEZaDE89RYK1uepyY3F3j3Xenyxx8Dzs4VG49NO3IE+Ppr+fLXXgMaNFAvHqLSEAKYPBm4etV0eUiIdFDhlAQWJ7cgF+9ulA74H3f+GM4Otn/AL7d5asgy5eUBM2ZIW15eRUdj45SGcQcFAfd1ZieyWBoN0LWrfPmlS8DJk+rFQ2bLK8jDjF0zMGPXDOQV8ID/ICY1ROZKSVE+0HfqxF+2ZD1atZLmrpHDpRPICjGpITKXUiuNuzsQFaVeLEQPy9GRC12SzWFSQ2SOzEwgKUm+PCYGcHFRLx6ishATw4UuyaYwqSEyx7Zt8h2WtFqgQwdVwyEqE25u0vBtOfv3S6OhiKwEkxqi4hQUKE8f36QJUKWKWtEQlS2lhS71emDDBnXjIXoITGqIinPgAJCWJl/+wCr0RFbFx0e5P9j27dJMw0RWoMST75HlcXMDjh69d5nKmNJke6GhQM2a6sVCVB66dpVfHiE3V2qp7NlT1ZDINDcnNxx9+ajhMhljS40N0Gql+d4aNJAuUxlKTgb+/lu+nMO4yRYEBQGNG8uXb97MSbAshFajRQP/Bmjg3wBaDQ/4D+IrQqREaRi3lxfQooV6sRCVJ6XJ+DIygF271IuFqJSY1NiA3Fxg0iRpy82t6GhsSFoasG+ffHn79tJcH0S24JFHlE+lrl8vdRymCpVbkItJiZMwKXEScgt4wH8QkxobkJcnLeMyeTJbiMvU1q3yB3FHR+WhsETWprilE65fBw4fVi8eMimvIA+Tt0zG5C2TuUyCCUxqiEzJy5OSGjktWkinn4hsSWQk4O8vX752rbQYJpGFYlJDZMrevVI/AjlK08sTWSutFujSRb78/Hng7Fn14iEqISY1RA8SQnkY9yOPADVqqBcPkZqio4FKleTL161TLxaiEmJSQ/Sgs2eVF/Lr1Em9WIjU5uSk/B4/cgS4elW9eIhKgEkN0YOUWmkqVwaaNlUvFqKK0L494OwsX75+vXqxEJUAkxqi+926BRw8KF/esSNnOCTb5+EBtG0rX757t/LSIUQVhJNs2ABXV2DPnnuX6SEkJsqP7nByUj7QE9mS2Fjp82BqWoOCAqlF88knVQ/L3rk6umLPC3sMl8kYf3LaAAcHoGVLaZNbbJfMkJMjLd4n59FHpV+wRPagalWgeXP58i1bgOxs9eIhAICD1gEtq7VEy2ot4aDlAf9BTGqICiUlAVlZ8uXsIEz2Rmkyvuxs5bmciCoAkxobkJsLTJ8ubVwmoZSKG8Zdty4QHKxePESWoEYNoF49+fKNG4H8fPXiIeQW5GL6jumYvmM6l0kwgUmNDcjLA8aNkzYuk1BKJ08qD1PlZHtkr+Li5MvS0u516CNV5BXkYdyGcRi3YRyXSTCBSQ0RoNxK4+sLNGyoXixElqRuXSAkRL58/XounUAWg0kN0fXrwF9/yZd36sRh3GS/ilvoMiUFOHpUvXiIFPBITaQ0jNvFBWjdWtVwiCxO8+bSaCg5a9eqFwuRAiY1ZN+ys4EdO+TLW7cG3NzUi4fIEjk4SPPWyDlzBvj7b/XiIZLBpIbs265dynNtdOyoXixElqxNG+V5mrjQJVkAJjVkv4obxt2wIRAQoF48RJbMxUVaE0rOoUPAtWuqhUNkCpdJsAGursDmzfcuk5mOHpU6CcvhZHtExjp1klpkTM1NI4Q0EurZZ9WPy464Orpi86DNhstkjEmNDXBwADp0qOgorNDGjfJlgYFA/frqxUJkDSpVkvqZyc0kvGsX8PjjgJeXunHZEQetAzqEdajoMCwWTz+RfUpJAU6ckC/v1EkaykpExrp0kf9s5Ocr/1ggKmdMamxAXh7w9dfSxhmFzaTUl8bdXVq8koiK8vcHmjWTL+dCl+UqryAPX+/5Gl/v+ZozCpvApMYG5OYCI0dKG9d+MoNOB+zeLV/etq3UKZKITFNaOuHuXS50WY5yC3Ixcs1IjFwzkms/mcCkhuzP9u3yTVoaDTsoERUnNFRaPkEOF7qkCsKkhuxLQcG9oWKmNG2qPHMqEUmUlk7gQpdUQZjUkH05eBC4fVu+nMO4icxTvz5Qvbp8+dq1XOiSVMekhuyLUgfhkBDgkUfUi4XImmk0yn1rUlOBI0fUi4cITGrInly4AJw7J1/euTOHcROVRIsWyqdrExLYWkOqYlJD9kNp/oxKlYCWLdWLhcgWaLXSvDVy/v4bOHtWvXjI7nFGYRvg4gKsXHnvMpmQlgbs3Stf3r494MiPA1GJtW4N/PmnNFWCKQkJQESEujHZMBdHF6wcsNJwmYzxKG4DHB2Bnj0rOgoLt2ULoNebLnNwUF6oj4jkubhIHez//NN0+dGjwOXLyp2KyWyOWkf0rM0DvhyefiLbl5cnJTVyWrbkWjVED6NjR8DZWb587Vr1YiG7xqTGBuTlAfPnSxuXSTAhKUm+aRyQOggTUel5eAAxMfLl+/YBN2+qF48NyyvIw/xD8zH/0Hwuk2ACkxobkJsLDBkibVwm4QFCKHcQjogAatRQLx4iW9Wli9Rx2BS9Hli/Xt14bFRuQS6GLB+CIcuHcJkEE5jUkG07eVJakVsOW2mIykblykBUlHz5jh1ARoZ68ZBdYlJDtk2plaZqVSAyUr1YiGyd0mR8eXnKk18SlQEmNWS7rl0D/vpLvrxTJ/nmciIquaAg5R8KiYlAdrZq4ZD94RGdbJfSr0IXF6BNG/ViIbIX3brJl2VlAVu3qhcL2R0mNWSbdDpg50758rZtATc39eIhshc1aypPtrd+PYdpUrlhUkO2aft2+aFgGo00rwYRlQ+l1pr0dGDXLvViIbvCGYVtgIsLsHjxvct2r6BA+dRT48aAn5968RDZmwYNpFXvL10yXb52rdRayj5tJebi6ILFTy02XCZjTGpsgKMj0LdvRUdhQfbvl9Z6khMbq1ooRHZJo5Faa77/3nT5zZvSWmxKQ8DJJEetI/o24AFfDtNksi1CABs2yJeHhHBxPSI1NGsG+PvLlyckSJ9XojLEpMYG5OcDS5ZIW35+RUdTwc6eBS5ckC/v0kX6FUlE5UurVe5bk5KiPOUCmZSvz8eSY0uw5NgS5Ovt/YBfFE8/2YCcHKBfP+lyZqZ0OspuKbXSeHsDzZurFwuRvYuKklbvvn3bdPmaNUCjRvyhUQI5+Tnot1Q64GeOz4Sjsz0f8ItiSw3Zjhs3gMOH5cs7drTzjI9IZY6OUuuonL//Bk6fVi8esnlMash2bNwof47eyQlo107deIhIGuXk4SFfvmaNerGQzWNSQ7YhK0t5sr3WrZUPrERUPlxclBeOPXECOH9evXjIpjGpIduwbZvUuUgOV+MmqjgdOypPorV6tXqxkE1jUkPWLz+/+Mn2AgLUi4eIjLm7Ax06yJcfOQJcvqxaOGS7mNSQ9du3T3myPbbSEFW82Fipb5sc9q2hMsChIDbA2RmYN+/eZbsihLRAnpyQEKBOHfXiISLTvLyAmBj5VtX9+4FevYDAQHXjsjLODs6Y13ue4TIZY1JjA5ycgMGDKzqKCnLypHKzNSfbI7IcXbsCW7ZI67M9SAhplmG7PZiZx8nBCYObDK7oMCwWTz+RdVNqpalcGWjRQr1YiEhZ5crSSEQ5SUnSulBEpcSkxgbk5wOrVkmbXS2TkJICHDsmX96pE+DgoF48RFS8bt3kV+fW66UVvElWvj4fq06vwqrTq7hMgglMamxATg7w2GPSpjSq2eYotdK4ukrn74nIsvj6Ai1bypfv3Cm/rAIhJz8Hj/36GB779THk5NvTAd88TGrIOt25IzVVy2nbFnBzUy8eIjJf9+7yfd3y89laQ6XGpIas0+bNpjsbAlLTNodxE1muoCCgaVP58m3bpB8uRCXEpIasT06ONIJCTvPmQJUq6sVDRCXXo4d8WX4+sG6derGQzShVUvP1118jLCwMrq6uiIqKwp49exTrL1myBHXr1oWrqysaNWqE1Q9MiS2EwIQJExAUFAQ3NzfExsbizJkzJu8rJycHTZo0gUajwaFDh0oTPlm77dultZ7kKK0KTESWISQEiIyUL9+yBUhPVy8esgklTmoWLVqE0aNHY+LEiThw4AAiIyMRFxeH69evm6y/c+dODBgwAEOHDsXBgwcRHx+P+Ph4HD161FBn2rRp+PLLLzF37lwkJSXBw8MDcXFxyM7OLnJ/48aNQ3BwcEnDJltRUABs2CBfXrs2EBqqXjxEVHo9e8qX5eUpDwYgMqHESc3nn3+OYcOGYciQIahfvz7mzp0Ld3d3/N///Z/J+l988QW6deuGN998E/Xq1cOHH36IZs2aYfbs2QCkVppZs2bhvffeQ+/evdG4cWP873//Q0pKCpYtW2Z0X2vWrMG6deswY8aMYuPMyclBenq60UY2YN8+4J9/5Mvj4tSLhYgeTmgo0LChfHliIpCRoVo4ZP1KlNTk5uZi//79iI2NvXcHWi1iY2Oxa9cuk7fZtWuXUX0AiIuLM9Q/f/48UlNTjep4e3sjKirK6D6vXbuGYcOG4ccff4S7u3uxsU6dOhXe3t6GLSQkpCRP1ao4OwOzZ0ubTS+TIITyefbgYKBBA/XiIaKH99hj8mW5ucots3bI2cEZs7vPxuzus7lMggklSmpu3ryJgoICBDyw4nFAQABSU1NN3iY1NVWxfuFfpTpCCAwePBgvvfQSWpg5Q+z48eNx584dw3bp0iWzbmeNnJyAESOkTWm9OKt34oTykghdu3JJBCJrEx6u/GNk82ZAp1MvHgvn5OCEEa1GYESrEXBysOUDfulYxeinr776ChkZGRg/frzZt3FxcYGXl5fRRlZOae4KHx/lCb2IyHIp9a3JyWHfGjJbiZIaX19fODg44Nq1a0bXX7t2DYEyK6sGBgYq1i/8q1Rn06ZN2LVrF1xcXODo6IhHHnkEANCiRQsMGjSoJE/BJhUUSKeeExPlp26xehcuSItXyomNBRy5PiuRVapVC6hbV7580yYgM1O9eCxYgb4AicmJSExORIHeVg/4pVeipMbZ2RnNmzfHxo0bDdfp9Xps3LgR0dHRJm8THR1tVB8A1q9fb6gfHh6OwMBAozrp6elISkoy1Pnyyy9x+PBhHDp0CIcOHTIMCV+0aBE+/vjjkjwFm5SdDXTsKG0mBozZBqW+NG5uXBKByNop9a1ha41Bdn42Oi7oiI4LOiI731YP+KVX4p+2o0ePxqBBg9CiRQu0atUKs2bNgk6nw5AhQwAAAwcORLVq1TB16lQAwKhRo9C+fXt89tln6NmzJxYuXIh9+/bhu+++AwBoNBq8/vrr+OijjxAREYHw8HC8//77CA4ORnx8PACgRo0aRjF4enoCAGrVqoXq1auX+smTlbh5E9i/X768fXtprScisl4REdKUDKdPmy7fvFlqka1USd24yKqUOKnp378/bty4gQkTJiA1NRVNmjRBQkKCoaPvxYsXob1vBdbWrVvjl19+wXvvvYd33nkHERERWLZsGRreN4xv3Lhx0Ol0GD58ONLS0tC2bVskJCTAlV9UBEi/0IQwXeboKK3GTUTWr1cv4LPPTJfl5Egttn36qBsTWRWNEHLfFrYlPT0d3t7euHPnjs11GtbpgH8br5CZCXh4VGw8ZSo9HXjnHWkiLlPatAEGDlQ3JiIqP59/Dpw6ZbrM2RmYMsWuW2t0uTp4TpUO+JnjM+HhbEsHfNNK8v1tFaOfyI5t3Cif0ABcEoHI1vTqJV+Wm8sVvEkRkxqyXHfvSkO65DRtKq32S0S2IyICqFdPvjwxkWtCkSwmNWS5EhOVh3N166ZaKESkIqXWmrw8ICFBvVjIqnBiDxvg5ARMm3bvsk3Iy5NOPcmpWxcIC1MtHCJSUa1a0izDx46ZLt+6VZpB3MdH1bAsgZODE6bFTjNcJmNMamyAszPw5psVHUUZ27FDeSE7ttIQ2bZeveSTmrw8YPVq4Jln1I3JAjg7OOPNNrZ2wC87PP1ElqegQHmyvdBQ5dlHicj6hYcrr+C9bZs0hxXRfZjU2ICCAmDvXmmziWUS9u4Fbt2SL+/WjQtXEtkDpb41ej2wcqV6sViIAn0B9l7Zi71X9nKZBBOY1NiA7GygVStps/plEoRQHrIZECCNeiIi2xcWBkRGypfv3g1cvapaOJYgOz8brX5ohVY/tOIyCSYwqSHLcugQkJIiX85WGiL70ru3/GdeCODPP9WNhywakxqyHEJInf/kVK4sNUcRkf2oVg1o0UK+fP9+4NIl9eIhi8akhizHsWPAxYvy5V26SGs9EZF9efxxQKvwdbVihXqxkEVjUkOWQQhg1Sr58kqVgJgY9eIhIsvh7w9ER8uXHzkC/P23evGQxWJSQ5bh1Cnlg1KXLtKEPERknx57TLml9o8/pB9HZNeY1JBlUOpL4+4OtG+vXixEZHmqVFFurT19Gjh+XL14yCKxg4INcHICJk68d9nqnDsntdTI6dwZcHVVLx4iskw9egDbt0szCpvy++9A/fo2PULSycEJE9tPNFwmY0xqbICzMzBpUkVH8RCU+tK4ugKdOqkXCxFZLi8v6XggN5fV5cvS5J02PErS2cEZkzpMqugwLBZPP1HFunBBfn0XAOjYUTr9REQESHNVKR0Tli8H8vPVi4csCpMaG6DXS3nBsWPSZauiNM25s7N06omIqJC7u/KCtjdvSutC2Si90OPY9WM4dv0Y9MLaDvjlj0mNDbh7V1r3rWFD6bLVuHBBGoopp107aSg3EdH9OnUCfHzky1etAnJyVAtHTXfz7qLhNw3R8JuGuJtnTQd8dTCpoYqj1Erj6Ah07apeLERkPZyclBe7zMgA1q9XLx6yGExqqGIU10oTEwN4e6sXDxFZl9atgcBA+fJ166TkhuwKkxqqGMW10iidMyci0mqB+Hj58pwc5eMM2SQmNaQ+c/rSKJ0vJyICgCZNgPBw+fKtW4Fr11QLhyoekxpSX3GtNHFx6sVCRNZLowGefFK+XK+XJuQju8GkhtTFVhoiKku1awONG8uXHzoEnDmjWjhUsTijsA1wcgLGjr132aL9+ad8mZMTW2mIqOSefBL46y/5BS2XLgXeftsmlk9wcnDC2OixhstkjEmNDXB2BqZPr+gozPD339KBRw5baYioNIKCpBGTW7eaLk9OBvbtA1q2VDWs8uDs4IzpXa3hgF8xePqJ1LN8uXwZW2mI6GH06gW4uMiX//GH/EKYZDOY1NgAvV76IZKcbMHLJJw6BZw8KV/erh3npSGi0vPyUv5hdOsWsHmzevGUE73QIzktGclpyVwmwQQmNTbg7l1pVGN4uIUukyAEsGyZfDlbaYioLMTGFr98gpVPyHc37y7CvwhH+BfhXCbBBCY1VP6OHpX608jp1ImtNET08FxcgN695cuzs5VPg5PVY1JD5UsI5YOIqytbaYio7Dz6KFCtmnz59u3A5cvqxUOqYlJD5evAAeDSJfnyLl0ADw/14iEi26bVAn37ypcLASxaJD/8m6wakxoqP3o9sGKFfLmHh3QOnIioLNWrpzwh3+nT0qR8ZHOY1FD52b0bSE2VL+/WTTr9RERU1vr2BRwc5MuXLuUQbxvEpIbKR16eciuNlxfQoYNq4RCRnfH3lwYhyLl5E9i4Ub14SBWcUdgGODoCr7xy77JFSEwEbt+WL+/ZU5oKmYiovPTsKbUYyw3jXr0aiI62qtGXjlpHvNLiFcNlMqYRwj56S6Wnp8Pb2xt37tyBl5dXRYdj27KygHfflf6aUrUq8MEHFpSBEZHN2rYN+Okn+fKoKOD559WLh0qsJN/fPP1EZS8hQT6hAYDHH2dCQ0TqaNMGqF5dvjwpiat42xAmNTZACODGDWmr8Ha327eBTZvky6tXB1q1Ui8eIrJvWi3Qv79ynV9/teA1ZowJIXBDdwM3dDdgJydaSoRJjQ3IypL6xPn7KzeQqOLPP5VHFDzxhHSQISJSS+3aQLNm8uVXrkj9AK1AVl4W/Gf4w3+GP7LyKvqAb3n47UJlJyUF2LlTvrxOHaBBA/XiISIq1K+f8uCE5cuB9HT14qFywaSGys4ffyif/3rySUCjUS8eIqJClSsDPXrIl2dnS8cwsmpMaqhsnD4NHDkiX968ORAWplo4RERFdOkCBATIl+/cqbz4Llk8JjX08IQAFi+WL9dqgfh41cIhIjLJ0RF4+mnlOj//bDWdhqkoJjX08HbtUl60sl07qRczEVFFq18faNpUvvzyZeURnGTRmNTQw8nJAZYtky93cZFm9SQishT9+gFOTvLly5cD//yjXjxUZjgDmg1wdAQGDbp3WVXr1gF37siXd+8urfNERGQpqlSROg0vX266PDdXmrvmlVcsbnCDo9YRgyIHGS6TMb4iNsDFBZg/vwIe+PZtYO1a+fIqVYDYWPXiISIyV9eu0rpQ166ZLj9yBDh0SPlUVQVwcXTB/Pj5FR2GxeLpJyq9ZcuUJ9p78knlJl4ioori6Ag8+6xynYULpaHeZDWY1NgAIQCdTtpUmzX7wgXpV46cmjWBFi1UCoaIqBRq1wZat5YvT0sDVqxQLRxzCCGgy9VBl6vjMgkmMKmxAVlZgKentKmyTIIQwKJFynX69rW4c9FEREX06QN4eMiXb9oEJCerFk5xsvKy4DnVE55TPblMgglMaqjkkpKAc+fky1u2lFpqiIgsnacn8NRT8uVCAP/7H5Cfr15MVGpMaqhksrOB336TL3d0lBatJCKyFtHR0qkoOVeuAAkJ6sVDpcakhkpm1SrlRd+6dAGqVlUvHiKih6XRAP/5D+DgIF9n9Wpp0V6yaExqyHxXrwIbNsiX+/hI89IQEVmbwEDlBS8LCoAFC7iEgoVjUkPmKewcrPSB7ttXmjSHiMgadesGBAfLlycnAxs3qhYOlRyTGjLPoUPAiRPy5bVrSytxExFZq8Lp2ZVGbi5fDly/rl5MVCKcUdgGODjc67yvdEq41HJzgSVL5Mu1WmnlWw7hJiJrFxYm9Q1ct850eV6eNBpqzJgKOeY5aB3wVP2nDJfJGJMaG+DqqpxzPLTVq4Fbt+TL27cHqlUrxwCIiFTUq5fUOi3XInPmjDR/TefOqoYFAK6OrljStzwP+NaNp59IWUqK8vpOnp7A44+rFw8RUXlzdgYGDlSu88cfQGqqOvGQ2ZjUkDwhgJ9/Vu4c/MQTgLu7ejEREakhIkJqhZaTlwfMm8fRUBaGSY0N0OmkU7sajXS5zOzcCZw9K18eFga0aVOGD0hEZEGefFJ53q3kZGDNGtXCAQBdrg6ayRpoJmugyy3LA75tYFJDpmVkKM8crNVKK9yyczAR2SpXV2DwYOU6K1cCFy+qEg4Vj0kNmbZ0qXKzT6dOQEiIevEQEVWE2rWVOwTr9dJpqLw89WIiWUxqqKhTp4Ddu+XLK1dm52Aish9PPCHNOCwnJUXqOEwVjkkNGcvNBX76SbnOgAGcOZiI7IeTEzBkiHTaXc7GjcDRo+rFRCYxqSFjK1Yoz5YZGSltRET2JCys+LXt5s9XXvCXyh2TGrrn/HnlBStdXKRWGiIie9SjB1Cjhnx5RoaU2AihWkhkrFRJzddff42wsDC4uroiKioKe/bsUay/ZMkS1K1bF66urmjUqBFWr15tVC6EwIQJExAUFAQ3NzfExsbizJkzhvLk5GQMHToU4eHhcHNzQ61atTBx4kTk5uaWJnyb4+AgfdZ69HiIZRLy86UVaJU+jI8/LvWnISKyR46OwPPPS6ej5Bw7Js02XE4ctA7oEdEDPSJ6cJkEE0qc1CxatAijR4/GxIkTceDAAURGRiIuLg7XZU5Z7Ny5EwMGDMDQoUNx8OBBxMfHIz4+HkfvO/c4bdo0fPnll5g7dy6SkpLg4eGBuLg4ZGdnAwBOnjwJvV6Pb7/9FseOHcPMmTMxd+5cvPPOO6V82rbF1RVYtUraXF1LeSerVgFXr8qXh4VJI56IiOxZUBDQv79ynd9/By5fLpeHd3V0xapnVmHVM6vg6ljaA77t0ghRsnayqKgotGzZErNnzwYA6PV6hISE4NVXX8Xbb79dpH7//v2h0+mwcuVKw3WPPvoomjRpgrlz50IIgeDgYIwZMwZjx44FANy5cwcBAQGYP38+nn76aZNxTJ8+Hd988w3+/vtvs+JOT0+Ht7c37ty5Ay8vr5I8Zdt36RIwZYr8zJiOjsC77wLBwerGRURkiYQAvv0WOHhQvk5gIPDOOxxUUQZK8v1dogUtc3NzsX//fowfP95wnVarRWxsLHbt2mXyNrt27cLo0aONrouLi8OyZcsAAOfPn0dqaipiY2MN5d7e3oiKisKuXbtkk5o7d+6gSpUqsrHm5OQgJyfH8H86O2+ZVlAgnXZSmuq7Z08mNBaooKAAeZwbgxQ4OztDqzRih0pHowGee07qh5iWZrpOaqo0kvT55zlJqYpKlNTcvHkTBQUFCAgIMLo+ICAAJ0+eNHmb1NRUk/VT/10IrPCvUp0HnT17Fl999RVmzJghG+vUqVMxefJk5SdkI3Q6wN9funz9OuDhUYIbr14ttdTICQkB4uIeKj4qW0IIpKamIk3uYEr0L61Wi/DwcDg7O1d0KLbHw0NKWGbOlO+LuGePNHlfTEyZPawuVwf/GdIB//rY6/BwLskB3/aVKKmxBFeuXEG3bt3Qt29fDBs2TLbe+PHjjVqI0tPTEWLDM+BmZZXiRufPS0mNHK0WGDToIXofU3koTGj8/f3h7u4ODX8Fkgl6vR4pKSm4evUqatSowfdJeahTB+jWTXn9p4ULpT6JZfj9k5VXmgO+fShRUuPr6wsHBwdcu3bN6Ppr164hUGa2xcDAQMX6hX+vXbuGoKAgozpNmjQxul1KSgo6duyI1q1b47vvvlOM1cXFBS48lykvJwf4v/9TPu0UF8elECxMQUGBIaGpqrTQHhEAPz8/pKSkID8/H05KI3ao9Hr1kmZhl+vfmZ8v9b95913AzU3d2OxQiU62Ojs7o3nz5ti4caPhOr1ej40bNyI6OtrkbaKjo43qA8D69esN9cPDwxEYGGhUJz09HUlJSUb3eeXKFXTo0AHNmzfHvHnzeJ74Yf32m/Ike0FBUl8asiiFfWjc3d0rOBKyBoWnnQoKCio4Ehvm4AAMG6Z83v/GjeKnzKAyUeLMYPTo0fj++++xYMECnDhxAi+//DJ0Oh2GDBkCABg4cKBRR+JRo0YhISEBn332GU6ePIlJkyZh3759GDlyJABAo9Hg9ddfx0cffYQVK1bgr7/+wsCBAxEcHIz4+HgA9xKaGjVqYMaMGbhx4wZSU1Nl+9xQMY4dA7ZskS/XaqUpwfnLzmLxVAKZg+8TlVSpIvWvUXLwoPLkplQmStynpn///rhx4wYmTJiA1NRUNGnSBAkJCYaOvhcvXjRqRWndujV++eUXvPfee3jnnXcQERGBZcuWoWHDhoY648aNg06nw/Dhw5GWloa2bdsiISEBrv9OurJ+/XqcPXsWZ8+eRfXq1Y3iKeGIdNLppF8MSnr1AkJD1YmHiMgWNGwoLaOg1L/mt9+A6tWBevXUi8vOlHieGmtly/PU6HSAp6d0OTNToRVUCOC774ADB+TvrGZN4M03lRduowqTnZ2N8+fPIzw83JD0E8nh+0Vlej3w+efAfTPiF+HhIc1f4+tbqofQ5ergOVU64GeOz7SL0U8l+f7mN5cN0GqB9u2lTTEX2bpVOaFxdi5+JVqicpCcnAyNRoNDhw7J1pk/fz58fHxUi+l+kyZNKjJwYdKkSQgICIBGozHMu0V2TqsFXngBqFRJvo5OB3zzjTRYozQPodGifWh7tA9tD62Gx+oH8RWxAW5uQGKitMl2rr98GVi8WPmO+va9N+ENkYXp378/Tp8+bfj/999/R5cuXeDn5wcvLy9ER0dj7dq1qsRy4sQJTJ48Gd9++y2uXr2K7sWt3kz2w8dHSmyU+jNdvgz873+l6jjs5uSGxMGJSBycCDcnjqZ6kNXNU0OlkJMDfP+9NLRQTsOGZTpBFKnktdekWaErkoMD8OWX5f4wbm5ucLsva9+6dSu6dOmCKVOmwMfHB/PmzUOvXr2QlJSEpk2blmss586dAwD07t2bnXGpqLp1gaeeApYska+zb5+04jcnNy1TbKmxBwsXSlN2y6lUCRg4kFN5W6OCAilZrcjNzKRKr9dj2rRpeOSRR+Di4oIaNWrg448/Nqrz999/o2PHjnB3d0dkZKTR8isPnn6aNWsWxo0bh5YtWyIiIgJTpkxBREQE/vzzT9kYCu9j2bJliIiIgKurK+Li4nDpgVm1P/nkEwQEBKBSpUoYOnSoYXFdQDrt1KtXLwDSjL1Masikzp2BqCjlOn/8ARw+rE48doJJjQ3Q6QA/P2nT6R4oTEoCdu5UvoMhQwBv73KLjwiQZvn+5JNP8P777+P48eP45ZdfiiyP8u6772Ls2LE4dOgQateujQEDBiBfqYXxPnq9HhkZGYprwgFAVlYWPv74Y/zvf//Djh07kJaWZrTG3OLFizFp0iRMmTIF+/btQ1BQEObMmWMoHzt2LObNmwcAuHr1Kq4qrW5P9kujAZ59VnkCUyGAH34ALl40+251uTr4TfeD33Q/6HIfPOATTz/ZiJs3TVx57Rrw88/KN+zaFWjQoFxiIiqUkZGBL774ArNnz8agQYMAALVq1ULbtm2N6o0dOxY9/530cfLkyWjQoAHOnj2LunXrFvsYM2bMQGZmJvr166dYLy8vD7Nnz0bUv7+iFyxYgHr16mHPnj1o1aoVZs2ahaFDh2Lo0KEAgI8++ggbNmwwtNZ4enoaWozkZlInAiANvnj5ZWDKFGloqim5ucDXXwPjx0v9ccxwM8vUAZ8AttTYrpyc4nvYh4cD/05wSFSeTpw4gZycHHTu3FmxXuPGjQ2XC5dNua408/W/fvnlF0yePBmLFy+GfzGd3R0dHdGyZUvD/3Xr1oWPjw9OnDhhiDXqgdMGcjOmExWralVg+HDlUaVpacDs2aUeEUX3MKmxRUJIPeuVmsXd3KQe+lysklTgZuaaN/evT1TYV0WvtD4ZgIULF+KFF17A4sWLERsbW/ogicpLnTpA//7KdS5dAv77X+X1+KhYTGps0caNUs96JQMHlnryJ7IgDg6Ao2PFbmYkxhEREXBzcyuyDtzD+vXXXzFkyBD8+uuvhtNWxcnPz8e++z4fp06dQlpaGur9O8trvXr1kJSUZHSb3bt3l13QZJ86dAA6dlSuc/iwNPWGfcyJWy7Yp8bWnDkjTcWtpF07oFkzdeKh8qXCUOqy4Orqirfeegvjxo2Ds7Mz2rRpgxs3buDYsWOGvisl9csvv2DQoEH44osvEBUVZVgLzs3NDd4KHd+dnJzw6quv4ssvv4SjoyNGjhyJRx99FK1atQIgrVc3ePBgtGjRAm3atMHPP/+MY8eOoWbNmqWKk8igXz9pccujR+XrbN4sDdzg3EelwpYaWzNvnnLzZVhY8c2gROXg/fffx5gxYzBhwgTUq1cP/fv3N6u/jJzvvvsO+fn5GDFiBIKCggzbqFGjFG/n7u6Ot956C8888wzatGkDT09PLFq0yFDev39/vP/++xg3bhyaN2+OCxcu4OWXXy51nEQGWq20one1asr1li0rftQqmcS1n2zA3btAuxg9kHoNW+M+hptjnumKnp7Ae+8BlSurGyCVGa7l83Dmz5+P119/HWlpaRUdiir4frFQ//wDTJ0KpKfL19FqpZFT93WeB4C7eXfRbn47AMDWwVvtYlZhrv1kZ9xcBfa++F/s7TlJPqHRaKRfCExoiIgqVpUqwIgRwH0d44vQ66UFiP/+2+hqNyc37B22F3uH7bWLhKakmNTYglWriu8Y/MQT0tTdRERU8cLCgBdfVB7qnZcHfPWVtFYUmYVJjbXbtw9QmBYegNQpuGtXdeIhsmCDBw+2m1NPZAUaNQKee065TlYWMGuW8hQdZMCkxpolJwPz5yMr3wlhv3yMsF8+Rlb+A82ZQUHAoEFc14mIyBK1bi21pCvJyABmzgSuX0dWXhbCZoUhbFYYsvKy1InRijCpsVa3bklTa+flQQgNLmT64kKmL4S4L3nx8JDO27KDIBGR5YqLAzp1Uq5z5w4wcybErZu4cOcCLty5ADsZ51MiTGqskU4nzU+i1HPewUHqOe/np15cRERUchqNNIdNixbK9f75R1pOgWQxqbE2ubnSm/rficZkPfssEBGhTkxERPRwNBpgyJAiQ7iLMLl6MRViUmNN9Hrg+++LDPEromtX6TwtERFZD0dHafHLf5fsKNYtJjgPYlJjLYQAfv4ZOHJEuV6jRsV3OiMis3Xo0AGvv/56RYchKywsDLNmzaroMKisODkBr7xiXkv7F18ADzErty1iUmMtVqwAtm8vvt6gQcrzHhBVkMGDByM+Pr6iwyCyfM7OwMiRQHi4cr20NGDGDA73vg+//azBmjXA6tWyxRqNQH3f66hftwAaVxcVAyOyHbm5uRUdAtE9rq7Aa68BNWoYXa2BBvXzKqN+XmVooJFGRc2YAVy4UEGBWhYmNZZuwwZpcTMF7lXccOyEFsdOOMDdXZ2wiMrali1b0KpVK7i4uCAoKAhvv/028vPzAQArV66Ej48PCgoKAACHDh2CRqPB22+/bbj9Cy+8gGeffdbw//bt2xETEwM3NzeEhITgtddeg06nM5SHhYXhww8/xMCBA+Hl5YXhw4fLxpafn4+RI0fC29sbvr6+eP/9942G096+fRsDBw5E5cqV4e7uju7du+PMmTOG8kmTJqFJkyZG9zlr1iyEhYUZ/i9syZoxYwaCgoJQtWpVjBgxAnl595Y+uX79Onr16gU3NzeEh4fj559/NvPVJavk7g688YY0+3DhVcIRx270xbEbfeEuHKUrMzOBzz4DTpyomDgtCJMaS5aYCCxZolynMJv39VUlJLJcOp38lp1tft27d4uvW9auXLmCHj16oGXLljh8+DC++eYb/Pe//8VHH30EAIiJiUFGRgYOHjwIQEqAfH19kZiYaLiPLVu2oEOHDgCAc+fOoVu3bujTpw+OHDmCRYsWYfv27Rg5cqTR486YMQORkZE4ePAg3n//fdn4FixYAEdHR+zZswdffPEFPv/8c/zwww+G8sGDB2Pfvn1YsWIFdu3aBSEEevToYZSQmGPz5s04d+4cNm/ejAULFmD+/PmYP3++0eNcunQJmzdvxtKlSzFnzpyHWumcrEBhYlOrlnK9nBxpSYXilsyxcY4VHQDJ2LED+PVX5ToODsBLLwEhIerERBbN01O+rEcPaYmwQv7+0uzrprRvL+XThcLCio4iLes5v+bMmYOQkBDMnj0bGo0GdevWRUpKCt566y1MmDAB3t7eaNKkCRITE9GiRQskJibijTfewOTJk5GZmYk7d+7g7NmzaN++PQBg6tSp+M9//mPo4BsREYEvv/wS7du3xzfffGNYsbpTp04YM2ZMsfGFhIRg5syZ0Gg0qFOnDv766y/MnDkTw4YNw5kzZ7BixQrs2LEDrf8ddfjzzz8jJCQEy5YtQ9++fc1+HSpXrozZs2fDwcEBdevWRc+ePbFx40YMGzYMp0+fxpo1a7Bnzx60bNkSAPDf//4X9cwdKUPWy9UVGDVKms7j9Gn5egUFwA8/SDMQd+yoXnwWhC01lmjHDuDHH5XraDTA0KFAvXrIygIaNJA2uS8qIkt24sQJREdHQ3Pfch5t2rRBZmYmLv+7mF/79u2RmJgIIQS2bduGJ598EvXq1cP27duxZcsWBAcHI+LfESOHDx/G/Pnz4enpadji4uKg1+tx/vx5w2O0KG6ys389+uijRrFFR0fjzJkzKCgowIkTJ+Do6IioqChDedWqVVGnTh2cKOHpgAYNGsDBwcHwf1BQkKElpvBxmjdvbiivW7cufHx8SvQYZKVcXIBXX0VW3Vpo4LcEDfyWIEuTX7SeEMDChcBvv5X9rw8rwJYaS7NpE7BokXKdwkma/j24CQEcPw7DZbJPmZnyZfd9TwJQHgX64OC55ORSh1SmOnTogP/7v//D4cOH4eTkhLp166JDhw5ITEzE7du3Da00AJCZmYkXX3wRr732WpH7qXFfx0sPDw9VYtdqtUWmtDd1asrJyXjtNo1GA71eX66xkRVxdoYYPhzHZ7wFABBQOOCvWwfcuCF9V7jYzwASJjWWJCEB+OOP4us9+yxw369CIkBa6qui65ZWvXr18Ntvv0EIYWgR2bFjBypVqoTq1asDuNevZubMmYYEpkOHDvjkk09w+/Zto9NIzZo1w/Hjx/HII4+USXxJSUlG/+/evRsRERFwcHBAvXr1kJ+fj6SkJMPpp1u3buHUqVOoX78+AMDPzw+pqalGz+/QoUMliqFu3brIz8/H/v37DaefTp06xVXH7c0Dia+igweldQJHjADspEWPp58sgRDSPDTmJDRPPw20bVv+MRGVgzt37uDQoUNG26VLl/DKK6/g0qVLePXVV3Hy5EksX74cEydOxOjRo6H9t+mocuXKaNy4MX7++WdDh+B27drhwIEDOH36tFFLzVtvvYWdO3di5MiROHToEM6cOYPly5cX6ShsrosXL2L06NE4deoUfv31V3z11VcYNWoUAKm/Tu/evTFs2DBs374dhw8fxrPPPotq1aqhd+/eAKTk68aNG5g2bRrOnTuHr7/+GmvWrClRDHXq1EG3bt3w4osvIikpCfv378cLL7wANze3Uj0nsgFx3Yqvc/EiMHWq9NcOMKmpaEJII5zu78Upp08fu+38RbYhMTERTZs2NdomT56MatWqYfXq1dizZw8iIyPx0ksvYejQoXjvvfeMbt++fXsUFBQYkpoqVaqgfv36CAwMRJ06dQz1GjdujC1btuD06dOIiYlB06ZNMWHCBAQHB5cq7oEDB+Lu3bto1aoVRowYgVGjRhkNAZ83bx6aN2+Oxx57DNHR0RBCYPXq1YbTSfXq1cOcOXPw9ddfIzIyEnv27MHYsWNLHMe8efMQHByM9u3b48knn8Tw4cPh7+9fqudENqBnT2DAAKlLgpK0NGDaNOCBFkdbpBF2snZ5eno6vL29cefOHXh5eVV0OJK8POD//g84cKD4un37ArGxJot0unsjXzIz1TldQBUjOzsb58+fR3h4uGEED5Ecvl9sjy5XB8+p0gE/c3wmPJw9pO+Q//s/6TulOB07St8nD3a0s2Al+f5mS01F0emkdTvMSWieeUY2oSEiIjvXrBkwZgxgzg/2zZuBzz+XZiK2QUxqKsKtW8D06cB9M46apNEAgwdLE4cUUy00VNqKa4UkIiLrpdFoEOodilDvUKNpBhAeDrz9NlCtWvF3cvYs8PHHynPeWCkmNWpLTgY+/bT4Bci0WuCFF4Do6GLv0t1dutvkZHCZBCIiG+bu5I7k15OR/Hoy3J0eOOBXrQqMGwc0bFj8Hd25I7XY/PknYEPTBjCpUdPu3VILTXHNfk5OwMsvA2ZODEZERARAmn14xAiga9fi6woBrFwpJTe3b5d/bCpgUqMGvV4a4TRvHpBvYgbI+3l6AqNHA40bqxMbERHZFq1WGi07bJh5E++dOQN8+KE0r42VY1JT3rKygC+/lFbbLo6vL/DWW0DNmiV6iLt3gZYtpe3BxQiJiMh23M27i5bft0TL71vibl4xB/wWLaR+NuYM+9fpgLlzpR/fVrzeDmcULk/JycB330kdg4sTFgaMHAlUqlTih9Hr7y3MakOnRomI6AF6oce+lH2Gy8UKDgbeeUdKVg4fLr7+7t3AyZPAwIHSgoJWhi015UEIqWXm00/NS2gaN5ZOOZUioSEiIlLk5ib103zqKfPmp0lLk84w/PST1TX/s6WmrOl0wIIF5mXEANC9O9C7N8diExFR+dFogC5dgNq1ge+/lxa7LM62bcBffwH9+wNNm1rF9xRbasrSqVPARx+Zl9A4OUmduOLjreKNQmSvEhMTodFoLHbhyPnz58PHThYrpDIQGgq89x7QqpV59dPSgG+/BebMMe/MQwVjUlMWcnOBRYukYXH//FN8/cqVpQ7BHLJNdqRDhw54/fXXi1zPL2Uilbm6As8/DwwZIl02x5EjwKRJwNq1xY/irUA8/fSwzp+XOmBdu2Ze/bp1gaFDzZvOmohUU1BQAI1GY1gVnMimaTTAo48CdepIXSZOnCj+Nrm5wO+/S6el+vaV+oNa2JkGfnpLKz8fWL5c6gxsTkKj0QC9egGjRpVLQuPrK21E1m7w4MGIj4/H5MmT4efnBy8vL7z00kvIzc011OnQoQNGjhyJkSNHwtvbG76+vnj//fdx//q8OTk5GDt2LKpVqwYPDw9ERUUhMTHRUF7YQrRixQrUr18fLi4uuHjxomxcO3bsQOPGjeHq6opHH30UR48eNSr/7bff0KBBA7i4uCAsLAyfffaZUblGo8GyZcuMrvPx8cH8+fMBAMnJydBoNPj999/RsWNHuLu7IzIyErt27TK6zfz581GjRg24u7vjiSeewC0rOCVAZcvX3Re+7mV0wK9cWfpe+s9/zJvTBpD648yZI61fmJJSNnGUEbbUlEZKirQi6qVL5tX38pKWPKhTp1zC8fAwr88X2TZdrk62zEHrAFdHV7PqajVauDm5Kdb1cC7fpeA3btwIV1dXJCYmIjk5GUOGDEHVqlXx8ccfG+osWLAAQ4cOxZ49e7Bv3z4MHz4cNWrUwLBhwwAAI0eOxPHjx7Fw4UIEBwfjjz/+QLdu3fDXX38hIiICAJCVlYVPP/0UP/zwA6pWrQp/hfk83nzzTXzxxRcIDAzEO++8g169euH06dNwcnLC/v370a9fP0yaNAn9+/fHzp078corr6Bq1aoYPHhwiZ77u+++ixkzZiAiIgLvvvsuBgwYgLNnz8LR0RFJSUkYOnQopk6divj4eCQkJGDixIklf4HJank4e+DGm2V8wNdogHbtgPr1gR9/lIZ0m+PECeCDD4DWraUf7ZUrl21cpcCkpqSEAH74Abhyxbz69epJ5y55uonKmedUT9myHhE9sOqZVYb//Wf4IyvP9ARb7UPbI3FwouH/sC/CcDPrplEdMVGgPDk7O+P//u//4O7ujgYNGuCDDz7Am2++iQ8//NBweigkJAQzZ86ERqNBnTp18Ndff2HmzJkYNmwYLl68iHnz5uHixYsIDg4GAIwdOxYJCQmYN28epkyZAgDIy8vDnDlzEBkZWWxMEydORJcuXQBICVX16tXxxx9/oF+/fvj888/RuXNnvP/++wCA2rVr4/jx45g+fXqJk5qxY8eiZ8+eAIDJkyejQYMGOHv2LOrWrYsvvvgC3bp1w7hx4wyPs3PnTiQkJJToMYhM8vUFXn8dSEqSZsHPzCz+NkIAO3ZIt+nQQRrR6yl/LCpvPP1UUhoN8OyzxZ9HdHKShsGV0+kmIlsWGRkJ9/tWZ42OjkZmZiYu3dc6+uijjxqtUhwdHY0zZ86goKAAf/31FwoKClC7dm14enoati1btuDcuXOG2zg7O6OxmUuSRN+3uGyVKlVQp04dnPi3H8KJEyfQpk0bo/pt2rQxxFMS98cTFBQEALh+/brhcaKiomTjInpohX1tPvgAeOA9rSg/X5qf7d13gVWrgJyc8otRAVtqSqNmTSkbXb3adHlYmNSrPDBQlXDu3pXCAYA1a6R5lsj+ZI6X/1XloDWecOv62OuydbUa4986yaOSHyquQl5eXrhjYjHXtLQ0eHt7l8ljFMrMzISDgwP2798PhwcmG/O871ekm5ubUWJUnjQajVGfH0BqKXqQk5OT0W0AQM+pwulfd/PuovvP0gF/zX/WGJ0qLlMeHtKswo8+CixcaP7ZiexsYMUKYPNmoEcP6bSWo3qpBpOa0urZU5qU6P5+NVqtdF6xWzfpskr0emDLlnuXyT6VpJ9LedVVUqdOHaxbt67I9QcOHEDt2rWNrjt8+DDu3r0Lt38z9N27d8PT0xMhISGGOklJSUa32b17NyIiIuDg4ICmTZuioKAA169fR0xMTJnEv3v3btSoUQMAcPv2bZw+fRr16tUDANSrVw87duwwqr9jxw7Url3bkFT5+fnh6tWrhvIzZ84gq4Rr7NSrV8/k8yb7oRd6bLmwxXC53NWuLc1rs307sGyZNMGsOTIypFNYDRuat/ZUGeHpp9JydJRaYwoz0ML1NXr0UDWhIbIWL7/8Mk6fPo3XXnsNR44cwalTp/D555/j119/xZgxY4zq5ubmYujQoTh+/DhWr16NiRMnYuTIkUbDrS9evIjRo0fj1KlT+PXXX/HVV19h1KhRAKS+Jv/5z38wcOBA/P777zh//jz27NmDqVOnYtWqVSiNDz74ABs3bsTRo0cxePBg+Pr6Ij4+HgAwZswYbNy4ER9++CFOnz6NBQsWYPbs2Rg7dqzh9p06dcLs2bNx8OBB7Nu3Dy+99JJRq4w5XnvtNSQkJGDGjBk4c+YMZs+ezf40VP60WqnF5aOPgM6dzf+Oa9tW1YQGYFLzcKpVk5Y4iIuTziPe9yuSiIzVrFkTW7duxcmTJxEbG4uoqCgsXrwYS5YsQbdu3Yzqdu7cGREREWjXrh369++Pxx9/HJMmTTKqM3DgQNy9exetWrXCiBEjMGrUKAwfPtxQPm/ePAwcOBBjxoxBnTp1EB8fj7179xpaW0rqk08+wahRo9C8eXOkpqbizz//hLOzMwCgWbNmWLx4MRYuXIiGDRtiwoQJ+OCDD4w6CX/22WcICQlBTEwMnnnmGYwdO9ao35A5Hn30UXz//ff44osvEBkZiXXr1uG9994r1fMhKjF3d6BfP2kSvuImj3Vyks5oqEwjHjzJa6PS09Ph7e2NO3fuwMvGOu7qdPc6m2dmSqdCyTZlZ2fj/PnzCA8Ph6u5M4FamcGDByMtLa3InC7369ChA5o0aYJZs2apFpc1sof3i73R5eoMIx0zx2eW+/QKii5ckE5JHT9etCwuDnjyyTJ5mJJ8f7OlhoiIiEouNFQa4fvGG9IAmUJublLf0grAjsJERERUenXrAm+/LS3mvGwZEBUlnaqqAExqbEQFvX+IylzhsgFK7l/ugMjeuDtZ4AFfowGaNJHWg6rAYbhMamyAh4f5o+yIiMh6eTh7QPeOBR/wtdoKHQHMPjVERERkE5jUEFkhzjBL5rCTwa1EBjz9ZAOys4E+faTLv/0GcOSm7XJ2doZWq0VKSgr8/Pzg7Oys2jT/ZF2EELhx4wY0Gk2JJ/kjy5Wdn40+i6UD/m/9foOrIw/492NSYwMKCu4tQ1XCtfPIymi1WoSHh+Pq1atISUmp6HDIwmk0GlSvXr3I+ldkvQr0BVh9ZrXhMhljUkNkZZydnVGjRg3k5+eXeAVosi9OTk5MaMiuMKkhskKFpxR4WoGI6B52FCYiIiKbwKSGiIiIbAKTGiIiIrIJdtOnpnC+hvT09AqOpOzdP5twejpHQBER2Spdrg7Ili6np6ejwNn2D/iF39vmzLukEXYyO9Ply5cREhJS0WEQERFRKVy6dAnVq1dXrGM3SY1er0dKSgoqVapU7pOVpaenIyQkBJcuXYKXl1e5PhaVDe4z68L9ZV24v6yPJe0zIQQyMjIQHBwMbTHrStnN6SetVltshlfWvLy8KvzNQCXDfWZduL+sC/eX9bGUfebt7W1WPXYUJiIiIpvApIaIiIhsApOacuDi4oKJEyfCxcWlokMhM3GfWRfuL+vC/WV9rHWf2U1HYSIiIrJtbKkhIiIim8CkhoiIiGwCkxoiIiKyCUxqiIiIyCYwqSEiIiKbwKSmBDIyMvD6668jNDQUbm5uaN26Nfbu3WsoF0JgwoQJCAoKgpubG2JjY3HmzBmj+/jnn3/wn//8B15eXvDx8cHQoUORmZmp9lOxC8Xtr8GDB0Oj0Rht3bp1M7oP7q/ys3XrVvTq1QvBwcHQaDRYtmyZUXlZfZ6OHDmCmJgYuLq6IiQkBNOmTSvvp2aTymJ/hYWFFfnMffLJJ0Z1uL/KTnH77Pfff0fXrl1RtWpVaDQaHDp0qMh9ZGdnY8SIEahatSo8PT3Rp08fXLt2zajOxYsX0bNnT7i7u8Pf3x9vvvkm8vPzy/GZyWNSUwIvvPAC1q9fjx9//BF//fUXunbtitjYWFy5cgUAMG3aNHz55ZeYO3cukpKS4OHhgbi4OGRnZxvu4z//+Q+OHTuG9evXY+XKldi6dSuGDx9eUU/JphW3vwCgW7duuHr1qmH79ddfje6D+6v86HQ6REZG4uuvvzZZXhafp/T0dHTt2hWhoaHYv38/pk+fjkmTJuG7774r9+dna8pifwHABx98YPSZe/XVVw1l3F9lq7h9ptPp0LZtW3z66aey9/HGG2/gzz//xJIlS7BlyxakpKTgySefNJQXFBSgZ8+eyM3Nxc6dO7FgwQLMnz8fEyZMKPPnYxZBZsnKyhIODg5i5cqVRtc3a9ZMvPvuu0Kv14vAwEAxffp0Q1laWppwcXERv/76qxBCiOPHjwsAYu/evYY6a9asERqNRly5ckWdJ2InittfQggxaNAg0bt3b9n74P5SDwDxxx9/GP4vq8/TnDlzROXKlUVOTo6hzltvvSXq1KlTzs/ItpVmfwkhRGhoqJg5c6bs/XJ/lZ8H99n9zp8/LwCIgwcPGl2flpYmnJycxJIlSwzXnThxQgAQu3btEkIIsXr1aqHVakVqaqqhzjfffCO8vLyM9qNa2FJjpvz8fBQUFMDV1dXoejc3N2zfvh3nz59HamoqYmNjDWXe3t6IiorCrl27AAC7du2Cj48PWrRoYagTGxsLrVaLpKQkdZ6InShufxVKTEyEv78/6tSpg5dffhm3bt0ylHF/VZyy+jzt2rUL7dq1g7Ozs6FOXFwcTp06hdu3b6v0bGyfOfur0CeffIKqVauiadOmmD59utFpCu4vy7J//37k5eUZ7de6deuiRo0aRp/DRo0aISAgwFAnLi4O6enpOHbsmOoxM6kxU6VKlRAdHY0PP/wQKSkpKCgowE8//YRdu3bh6tWrSE1NBQCjHVv4f2FZamoq/P39jcodHR1RpUoVQx0qG8XtL0A69fS///0PGzduxKeffootW7age/fuKCgoAMD9VZHK6vOUmppq8j7ufwx6eObsLwB47bXXsHDhQmzevBkvvvgipkyZgnHjxhndD/eX5UhNTYWzszN8fHyMrn/wc2hJ+8xR9Ue0Yj/++COef/55VKtWDQ4ODmjWrBkGDBiA/fv3V3RoZEJx++vpp5821G3UqBEaN26MWrVqITExEZ07d66osIls1ujRow2XGzduDGdnZ7z44ouYOnWq1a0xRJaJLTUlUKtWLWzZsgWZmZm4dOkS9uzZg7y8PNSsWROBgYEAUKRX+LVr1wxlgYGBuH79ulF5fn4+/vnnH0MdKjtK+8uUmjVrwtfXF2fPngXA/VWRyurzFBgYaPI+7n8Menjm7C9ToqKikJ+fj+TkZMP9cH9ZjsDAQOTm5iItLc3o+gc/h5a0z5jUlIKHhweCgoJw+/ZtrF27Fr1790Z4eDgCAwOxceNGQ7309HQkJSUhOjoaABAdHY20tDSjlp1NmzZBr9cjKipK9edhL0ztL1MuX76MW7duISgoCAD3V0Uqq89TdHQ0tm7diry8PEOd9evXo06dOqhcubJKz8b2mbO/TDl06BC0Wq3hNCL3l2Vp3rw5nJycjPbrqVOncPHiRaPP4V9//WX0A2P9+vXw8vJC/fr1VY+Zo59KICEhQaxZs0b8/fffYt26dSIyMlJERUWJ3NxcIYQQn3zyifDx8RHLly8XR44cEb179xbh4eHi7t27hvvo1q2baNq0qUhKShLbt28XERERYsCAARX1lGya0v7KyMgQY8eOFbt27RLnz58XGzZsEM2aNRMREREiOzvbcB/cX+UnIyNDHDx4UBw8eFAAEJ9//rk4ePCguHDhghCibD5PaWlpIiAgQDz33HPi6NGjYuHChcLd3V18++23qj9fa/ew+2vnzp1i5syZ4tChQ+LcuXPip59+En5+fmLgwIGGx+D+KlvF7bNbt26JgwcPilWrVgkAYuHCheLgwYPi6tWrhvt46aWXRI0aNcSmTZvEvn37RHR0tIiOjjaU5+fni4YNG4quXbuKQ4cOiYSEBOHn5yfGjx+v+vMVQggmNSWwaNEiUbNmTeHs7CwCAwPFiBEjRFpamqFcr9eL999/XwQEBAgXFxfRuXNncerUKaP7uHXrlhgwYIDw9PQUXl5eYsiQISIjI0Ptp2IXlPZXVlaW6Nq1q/Dz8xNOTk4iNDRUDBs2zGhYohDcX+Vp8+bNAkCRbdCgQUKIsvs8HT58WLRt21a4uLiIatWqiU8++UStp2hTHnZ/7d+/X0RFRQlvb2/h6uoq6tWrJ6ZMmWL0I0II7q+yVNw+mzdvnsnyiRMnGu7j7t274pVXXhGVK1cW7u7u4oknnjBKeoQQIjk5WXTv3l24ubkJX19fMWbMGJGXl6fiM71HI4QQ6rULEREREZUP9qkhIiIim8CkhoiIiGwCkxoiIiKyCUxqiIiIyCYwqSEiIiKbwKSGiIiIbAKTGiIiIrIJTGqIiIjIJjCpISIiIpvApIaIiIhsApMaIiIisgn/D7IXj2fAD6vKAAAAAElFTkSuQmCC\",","      \"text/plain\": [","       \"\u003cFigure size 640x480 with 1 Axes\u003e\"","      ]","     },","     \"metadata\": {},","     \"output_type\": \"display_data\"","    },","    {","     \"name\": \"stdout\",","     \"output_type\": \"stream\",","     \"text\": [","      \"The 95.0% confidence interval for variance is (3.50, 4.17)\\n\"","     ]","    }","   ],","   \"source\": [","    \"import numpy as np\\n\",","    \"import scipy.stats\\n\",","    \"import matplotlib.pyplot as plt\\n\",","    \"\\n\",","    \"# Function to calculate confidence interval for variance\\n\",","    \"def confidence_interval_variance(data, confidence):\\n\",","    \"    n = len(data)\\n\",","    \"    var = np.var(data, ddof=1)  # sample variance with Bessel's correction\\n\",","    \"    chi2_lower = scipy.stats.chi2.ppf((1 - confidence) / 2, df=n-1)\\n\",","    \"    chi2_upper = scipy.stats.chi2.ppf((1 + confidence) / 2, df=n-1)\\n\",","    \"    lower = (n - 1) * var / chi2_upper\\n\",","    \"    upper = (n - 1) * var / chi2_lower\\n\",","    \"    return lower, upper, chi2_lower, chi2_upper\\n\",","    \"\\n\",","    \"# Generate some random data\\n\",","    \"data = np.random.normal(loc=10, scale=2, size=1000)\\n\",","    \"\\n\",","    \"# Calculate the confidence interval for the variance\\n\",","    \"confidence = 0.95\\n\",","    \"lower, upper, chi2_lower, chi2_upper = confidence_interval_variance(data, confidence)\\n\",","    \"\\n\",","    \"# Plot chi-square distribution\\n\",","    \"df = len(data) - 1\\n\",","    \"x = np.linspace(scipy.stats.chi2.ppf(0.01, df), scipy.stats.chi2.ppf(0.99, df), 100)\\n\",","    \"plt.plot(x, scipy.stats.chi2.pdf(x, df), 'r-', lw=5, alpha=0.6, label='chi2 pdf')\\n\",","    \"\\n\",","    \"# Plot confidence intervals\\n\",","    \"plt.axvline(x=chi2_lower, color='blue', linestyle='--', label='Lower bound')\\n\",","    \"plt.axvline(x=chi2_upper, color='green', linestyle='--', label='Upper bound')\\n\",","    \"\\n\",","    \"plt.title('Chi-square distribution with bounds of confidence interval')\\n\",","    \"plt.legend()\\n\",","    \"plt.show()\\n\",","    \"\\n\",","    \"print(f\\\"The {confidence*100}% confidence interval for variance is ({lower:.2f}, {upper:.2f})\\\")\\n\"","   ]","  },","  {","   \"cell_type\": \"code\",","   \"execution_count\": null,","   \"id\": \"ba2ffb6b\",","   \"metadata\": {},","   \"outputs\": [],","   \"source\": []","  },","  {","   \"cell_type\": \"markdown\",","   \"id\": \"86a0f196\",","   \"metadata\": {},","   \"source\": [","    \"**Exercise 4**\\n\",","    \"\\n\",","    \"Implement a python function called bootstrap that accepts three arguments: data, num_samples, and statistic. Your function should perform bootstrap sampling on the data (resampling with replacement) the specified number of times, applying the provided statistical function to each sample, and return an array of the calculated statistic for each sample.\\n\",","    \"\\n\",","    \"Test this function using a randomly generated data and numpy's mean as the statistic. Calculate and print the mean and standard deviation of the bootstrap samples' statistic.\"","   ]","  },","  {","   \"cell_type\": \"code\",","   \"execution_count\": 15,","   \"id\": \"e7be4438\",","   \"metadata\": {},","   \"outputs\": [","    {","     \"data\": {","      \"image/png\": \"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\",","      \"text/plain\": [","       \"\u003cFigure size 640x480 with 1 Axes\u003e\"","      ]","     },","     \"metadata\": {},","     \"output_type\": \"display_data\"","    },","    {","     \"name\": \"stdout\",","     \"output_type\": \"stream\",","     \"text\": [","      \"Bootstrap samples statistic mean: 9.98\\n\",","      \"Bootstrap samples statistic std dev: 0.06\\n\"","     ]","    }","   ],","   \"source\": [","    \"import numpy as np\\n\",","    \"import matplotlib.pyplot as plt\\n\",","    \"\\n\",","    \"# Function to perform bootstrap sampling\\n\",","    \"def bootstrap(data, num_samples, statistic):\\n\",","    \"    bootstrap_samples_stat = []\\n\",","    \"    for _ in range(num_samples):\\n\",","    \"        sample = np.random.choice(data, len(data), replace=True)\\n\",","    \"        bootstrap_samples_stat.append(statistic(sample))\\n\",","    \"    return np.array(bootstrap_samples_stat)\\n\",","    \"\\n\",","    \"# Generate some random data\\n\",","    \"data = np.random.normal(loc=10, scale=2, size=1000)\\n\",","    \"\\n\",","    \"# Perform bootstrapping and calculate statistics for each sample\\n\",","    \"bootstrap_samples_stat = bootstrap(data, num_samples=1000, statistic=np.mean)\\n\",","    \"\\n\",","    \"# Plot histogram of bootstrap sample statistics\\n\",","    \"plt.hist(bootstrap_samples_stat, bins=30, density=True, alpha=0.6, color='g')\\n\",","    \"\\n\",","    \"# Add line for the mean of the bootstrap sample statistics\\n\",","    \"plt.axvline(np.mean(bootstrap_samples_stat), color='r', linestyle='dashed', linewidth=2)\\n\",","    \"\\n\",","    \"# Show the plot\\n\",","    \"plt.title(\\\"Histogram of Bootstrap Sample Means\\\")\\n\",","    \"plt.xlabel(\\\"Sample Mean\\\")\\n\",","    \"plt.ylabel(\\\"Frequency\\\")\\n\",","    \"plt.show()\\n\",","    \"\\n\",","    \"print(f\\\"Bootstrap samples statistic mean: {np.mean(bootstrap_samples_stat):.2f}\\\")\\n\",","    \"print(f\\\"Bootstrap samples statistic std dev: {np.std(bootstrap_samples_stat):.2f}\\\")\\n\"","   ]","  },","  {","   \"cell_type\": \"code\",","   \"execution_count\": null,","   \"id\": \"c0650786\",","   \"metadata\": {},","   \"outputs\": [],","   \"source\": []","  }"," ],"," \"metadata\": {","  \"kernelspec\": {","   \"display_name\": \"Python 3 (ipykernel)\",","   \"language\": \"python\",","   \"name\": \"python3\"","  },","  \"language_info\": {","   \"codemirror_mode\": {","    \"name\": \"ipython\",","    \"version\": 3","   },","   \"file_extension\": \".py\",","   \"mimetype\": \"text/x-python\",","   \"name\": \"python\",","   \"nbconvert_exporter\": \"python\",","   \"pygments_lexer\": \"ipython3\",","   \"version\": \"3.11.4\"","  }"," },"," \"nbformat\": 4,"," \"nbformat_minor\": 5","}"],"stylingDirectives":null,"colorizedLines":null,"csv":null,"csvError":null,"dependabotInfo":{"showConfigurationBanner":false,"configFilePath":null,"networkDependabotPath":"/MathforDataScience/DSR_Statistics1/network/updates","dismissConfigurationNoticePath":"/settings/dismiss-notice/dependabot_configuration_notice","configurationNoticeDismissed":false},"displayName":"Sampling - Exercises.ipynb","displayUrl":"https://notebooks.githubusercontent.com/view/ipynb?browser=chrome\u0026bypass_fastly=true\u0026color_mode=auto\u0026commit=4bdf4da0692b0574b35b13389bf9db0802909d04\u0026device=unknown_device\u0026docs_host=https%3A%2F%2Fdocs.github.com\u0026enc_url=68747470733a2f2f7261772e67697468756275736572636f6e74656e742e636f6d2f4d617468666f7244617461536369656e63652f4453525f53746174697374696373312f346264663464613036393262303537346233356231333338396266396462303830323930396430342f365f25323053616d706c696e672f53616d706c696e672532302d2532304578657263697365732e6970796e62\u0026logged_in=true\u0026nwo=MathforDataScience%2FDSR_Statistics1\u0026path=6_+Sampling%2FSampling+-+Exercises.ipynb\u0026platform=windows\u0026repository_id=661665397\u0026repository_type=Repository\u0026version=127","headerInfo":{"blobSize":"107 KB","deleteTooltip":"Delete this file","editTooltip":"Edit this file","ghDesktopPath":"https://desktop.github.com","isGitLfs":false,"onBranch":true,"shortPath":"667e5b7","siteNavLoginPath":"/login?return_to=https%3A%2F%2Fgithub.com%2FMathforDataScience%2FDSR_Statistics1%2Fblob%2Fmain%2F6_%2520Sampling%2FSampling%2520-%2520Exercises.ipynb","isCSV":false,"isRichtext":false,"toc":null,"lineInfo":{"truncatedLoc":"447","truncatedSloc":"447"},"mode":"file"},"image":false,"isCodeownersFile":null,"isPlain":false,"isValidLegacyIssueTemplate":false,"issueTemplate":null,"discussionTemplate":null,"language":"Jupyter Notebook","languageID":185,"large":false,"planSupportInfo":{"repoIsFork":null,"repoOwnedByCurrentUser":null,"requestFullPath":"/MathforDataScience/DSR_Statistics1/blob/main/6_%20Sampling/Sampling%20-%20Exercises.ipynb","showFreeOrgGatedFeatureMessage":null,"showPlanSupportBanner":null,"upgradeDataAttributes":null,"upgradePath":null},"publishBannersInfo":{"dismissActionNoticePath":"/settings/dismiss-notice/publish_action_from_dockerfile","releasePath":"/MathforDataScience/DSR_Statistics1/releases/new?marketplace=true","showPublishActionBanner":false},"rawBlobUrl":"https://github.com/MathforDataScience/DSR_Statistics1/raw/main/6_%20Sampling/Sampling%20-%20Exercises.ipynb","renderImageOrRaw":false,"richText":null,"renderedFileInfo":{"identityUUID":"f8aba945-064f-4aaf-abbe-c23853482397","renderFileType":"ipynb","size":109339},"shortPath":null,"symbolsEnabled":true,"tabSize":8,"topBannersInfo":{"overridingGlobalFundingFile":false,"globalPreferredFundingPath":null,"showInvalidCitationWarning":false,"citationHelpUrl":"https://docs.github.com/github/creating-cloning-and-archiving-repositories/creating-a-repository-on-github/about-citation-files","actionsOnboardingTip":null},"truncated":false,"viewable":true,"workflowRedirectUrl":null,"symbols":{"timed_out":false,"not_analyzed":true,"symbols":[]}},"copilotInfo":{"documentationUrl":"https://docs.github.com/copilot/overview-of-github-copilot/about-github-copilot-for-individuals","notices":{"codeViewPopover":{"dismissed":false,"dismissPath":"/settings/dismiss-notice/code_view_copilot_popover"}},"userAccess":{"hasSubscriptionEnded":false,"orgHasCFBAccess":false,"userHasCFIAccess":false,"userHasOrgs":false,"userIsOrgAdmin":false,"userIsOrgMember":false,"business":null,"featureRequestInfo":null}},"copilotAccessAllowed":false,"csrf_tokens":{"/MathforDataScience/DSR_Statistics1/branches":{"post":"9vYQTrmCQzrBIDl7aoVIgO4q7KZdQVI1PzHgEXGDUylpG01MIQ7CKNobY5Y6dVGv0uVHRMPUplo723LLnXEWpg"},"/repos/preferences":{"post":"NHBTiWVvEN4iTlkp68AJ9iBBndsRlHc5AGc44LOGvcMvJo-4mX4l1bRJWp9v02w4MopFHcsASEUe8voBOdYuLg"}}},"title":"DSR_Statistics1/6_ Sampling/Sampling - Exercises.ipynb at main · MathforDataScience/DSR_Statistics1","appPayload":{"helpUrl":"https://docs.github.com","findFileWorkerPath":"/assets-cdn/worker/find-file-worker-1583894afd38.js","findInFileWorkerPath":"/assets-cdn/worker/find-in-file-worker-3a63a487027b.js","githubDevUrl":"https://github.dev/","enabled_features":{"code_nav_ui_events":false,"overview_shared_code_dropdown_button":false,"react_blob_overlay":true,"copilot_conversational_ux_embedding_update":false,"copilot_smell_icebreaker_ux":true,"copilot_workspace":false}}}</script>
  <div data-target="react-app.reactRoot"><style data-styled="true" data-styled-version="5.3.6">.jUaXMC{font-weight:600;font-size:32px;margin:0;display:-webkit-box;display:-webkit-flex;display:-ms-flexbox;display:flex;font-size:14px;}/*!sc*/
.jUaXMC:where([data-variant='large']){font:var(--text-title-shorthand-large,600 32px / 1.5 -apple-system,BlinkMacSystemFont,"Segoe UI","Noto Sans",Helvetica,Arial,sans-serif,"Apple Color Emoji","Segoe UI Emoji");}/*!sc*/
.jUaXMC:where([data-variant='medium']){font:var(--text-title-shorthand-medium,600 20px / 1.6 -apple-system,BlinkMacSystemFont,"Segoe UI","Noto Sans",Helvetica,Arial,sans-serif,"Apple Color Emoji","Segoe UI Emoji");}/*!sc*/
.jUaXMC:where([data-variant='small']){font:var(--text-title-shorthand-small,600 16px / 1.5 -apple-system,BlinkMacSystemFont,"Segoe UI","Noto Sans",Helvetica,Arial,sans-serif,"Apple Color Emoji","Segoe UI Emoji");}/*!sc*/
.fReAGt{font-weight:600;font-size:32px;margin:0;font-size:16px;margin-left:8px;}/*!sc*/
.fReAGt:where([data-variant='large']){font:var(--text-title-shorthand-large,600 32px / 1.5 -apple-system,BlinkMacSystemFont,"Segoe UI","Noto Sans",Helvetica,Arial,sans-serif,"Apple Color Emoji","Segoe UI Emoji");}/*!sc*/
.fReAGt:where([data-variant='medium']){font:var(--text-title-shorthand-medium,600 20px / 1.6 -apple-system,BlinkMacSystemFont,"Segoe UI","Noto Sans",Helvetica,Arial,sans-serif,"Apple Color Emoji","Segoe UI Emoji");}/*!sc*/
.fReAGt:where([data-variant='small']){font:var(--text-title-shorthand-small,600 16px / 1.5 -apple-system,BlinkMacSystemFont,"Segoe UI","Noto Sans",Helvetica,Arial,sans-serif,"Apple Color Emoji","Segoe UI Emoji");}/*!sc*/
.fpGZrB{font-weight:600;font-size:32px;margin:0;}/*!sc*/
.fpGZrB:where([data-variant='large']){font:var(--text-title-shorthand-large,600 32px / 1.5 -apple-system,BlinkMacSystemFont,"Segoe UI","Noto Sans",Helvetica,Arial,sans-serif,"Apple Color Emoji","Segoe UI Emoji");}/*!sc*/
.fpGZrB:where([data-variant='medium']){font:var(--text-title-shorthand-medium,600 20px / 1.6 -apple-system,BlinkMacSystemFont,"Segoe UI","Noto Sans",Helvetica,Arial,sans-serif,"Apple Color Emoji","Segoe UI Emoji");}/*!sc*/
.fpGZrB:where([data-variant='small']){font:var(--text-title-shorthand-small,600 16px / 1.5 -apple-system,BlinkMacSystemFont,"Segoe UI","Noto Sans",Helvetica,Arial,sans-serif,"Apple Color Emoji","Segoe UI Emoji");}/*!sc*/
.eqidDl{font-weight:600;font-size:32px;margin:0;font-weight:600;display:inline-block;max-width:100%;font-size:16px;}/*!sc*/
.eqidDl:where([data-variant='large']){font:var(--text-title-shorthand-large,600 32px / 1.5 -apple-system,BlinkMacSystemFont,"Segoe UI","Noto Sans",Helvetica,Arial,sans-serif,"Apple Color Emoji","Segoe UI Emoji");}/*!sc*/
.eqidDl:where([data-variant='medium']){font:var(--text-title-shorthand-medium,600 20px / 1.6 -apple-system,BlinkMacSystemFont,"Segoe UI","Noto Sans",Helvetica,Arial,sans-serif,"Apple Color Emoji","Segoe UI Emoji");}/*!sc*/
.eqidDl:where([data-variant='small']){font:var(--text-title-shorthand-small,600 16px / 1.5 -apple-system,BlinkMacSystemFont,"Segoe UI","Noto Sans",Helvetica,Arial,sans-serif,"Apple Color Emoji","Segoe UI Emoji");}/*!sc*/
.eDVSKn{font-weight:600;font-size:32px;margin:0;font-weight:600;display:inline-block;max-width:100%;font-size:14px;}/*!sc*/
.eDVSKn:where([data-variant='large']){font:var(--text-title-shorthand-large,600 32px / 1.5 -apple-system,BlinkMacSystemFont,"Segoe UI","Noto Sans",Helvetica,Arial,sans-serif,"Apple Color Emoji","Segoe UI Emoji");}/*!sc*/
.eDVSKn:where([data-variant='medium']){font:var(--text-title-shorthand-medium,600 20px / 1.6 -apple-system,BlinkMacSystemFont,"Segoe UI","Noto Sans",Helvetica,Arial,sans-serif,"Apple Color Emoji","Segoe UI Emoji");}/*!sc*/
.eDVSKn:where([data-variant='small']){font:var(--text-title-shorthand-small,600 16px / 1.5 -apple-system,BlinkMacSystemFont,"Segoe UI","Noto Sans",Helvetica,Arial,sans-serif,"Apple Color Emoji","Segoe UI Emoji");}/*!sc*/
data-styled.g1[id="Heading__StyledHeading-sc-1c1dgg0-0"]{content:"jUaXMC,fReAGt,fpGZrB,eqidDl,eDVSKn,"}/*!sc*/
.fSWWem{padding:0;}/*!sc*/
.kPPmzM{max-width:100%;margin-left:auto;margin-right:auto;display:-webkit-box;display:-webkit-flex;display:-ms-flexbox;display:flex;-webkit-flex-wrap:wrap;-ms-flex-wrap:wrap;flex-wrap:wrap;}/*!sc*/
.cIAPDV{display:-webkit-box;display:-webkit-flex;display:-ms-flexbox;display:flex;-webkit-flex:1 1 100%;-ms-flex:1 1 100%;flex:1 1 100%;-webkit-flex-wrap:wrap;-ms-flex-wrap:wrap;flex-wrap:wrap;max-width:100%;}/*!sc*/
.gvCnwW{width:100%;}/*!sc*/
@media screen and (min-width:544px){.gvCnwW{width:100%;}}/*!sc*/
@media screen and (min-width:768px){.gvCnwW{width:auto;}}/*!sc*/
.hgUFaY{display:-webkit-box;display:-webkit-flex;display:-ms-flexbox;display:flex;-webkit-order:1;-ms-flex-order:1;order:1;width:100%;margin-left:0;margin-right:0;-webkit-flex-direction:column;-ms-flex-direction:column;flex-direction:column;margin-bottom:0;min-width:0;}/*!sc*/
@media screen and (min-width:544px){.hgUFaY{-webkit-flex-direction:column;-ms-flex-direction:column;flex-direction:column;}}/*!sc*/
@media screen and (min-width:768px){.hgUFaY{width:auto;margin-top:0 !important;margin-bottom:0 !important;position:-webkit-sticky;position:sticky;top:0px;max-height:100vh !important;-webkit-flex-direction:row;-ms-flex-direction:row;flex-direction:row;margin-right:0;height:100vh;}}/*!sc*/
@media print,screen and (max-width:1011px) and (min-width:768px){.hgUFaY{display:none;}}/*!sc*/
.eUyHuk{margin-left:0;margin-right:0;display:none;margin-top:0;}/*!sc*/
@media screen and (min-width:768px){.eUyHuk{margin-left:0 !important;margin-right:0 !important;}}/*!sc*/
.gNdDUH{--pane-min-width:256px;--pane-max-width-diff:511px;--pane-max-width:calc(100vw - var(--pane-max-width-diff));width:100%;padding:0;}/*!sc*/
@media screen and (min-width:544px){}/*!sc*/
@media screen and (min-width:768px){.gNdDUH{width:clamp(var(--pane-min-width),var(--pane-width),var(--pane-max-width));overflow:auto;}}/*!sc*/
@media screen and (min-width:1280px){.gNdDUH{--pane-max-width-diff:959px;}}/*!sc*/
.jywUSN{max-height:100%;height:100%;display:-webkit-box;display:-webkit-flex;display:-ms-flexbox;display:flex;-webkit-flex-direction:column;-ms-flex-direction:column;flex-direction:column;}/*!sc*/
@media screen and (max-width:768px){.jywUSN{display:none;}}/*!sc*/
@media screen and (min-width:768px){.jywUSN{max-height:100vh;height:100vh;}}/*!sc*/
.hBSSUC{display:-webkit-box;display:-webkit-flex;display:-ms-flexbox;display:flex;-webkit-flex-direction:column;-ms-flex-direction:column;flex-direction:column;-webkit-align-items:center;-webkit-box-align:center;-ms-flex-align:center;align-items:center;padding-left:16px;padding-right:16px;padding-bottom:8px;padding-top:16px;}/*!sc*/
.iPurHz{display:-webkit-box;display:-webkit-flex;display:-ms-flexbox;display:flex;width:100%;margin-bottom:16px;-webkit-align-items:center;-webkit-box-align:center;-ms-flex-align:center;align-items:center;}/*!sc*/
.kkrdEu{-webkit-box-pack:center;-webkit-justify-content:center;-ms-flex-pack:center;justify-content:center;}/*!sc*/
.trpoQ{display:-webkit-box;display:-webkit-flex;display:-ms-flexbox;display:flex;pointer-events:none;}/*!sc*/
.hVHHYa{margin-left:24px;margin-right:24px;display:-webkit-box;display:-webkit-flex;display:-ms-flexbox;display:flex;width:100%;}/*!sc*/
.idZfsJ{-webkit-box-flex:1;-webkit-flex-grow:1;-ms-flex-positive:1;flex-grow:1;}/*!sc*/
.bKgizp{display:-webkit-box;display:-webkit-flex;display:-ms-flexbox;display:flex;width:100%;}/*!sc*/
.iPGYsi{margin-right:4px;color:var(--fgColor-muted,var(--color-fg-muted,#656d76));}/*!sc*/
.caeYDk{font-size:14px;min-width:0;overflow:hidden;text-overflow:ellipsis;white-space:nowrap;}/*!sc*/
.jahcnb{margin-left:8px;white-space:nowrap;}/*!sc*/
.jahcnb:hover button:not(:hover){border-left-color:var(--button-default-borderColor-hover,var(--color-btn-hover-border));}/*!sc*/
.ccToMy{margin-left:16px;margin-right:16px;margin-bottom:12px;}/*!sc*/
@media screen and (max-width:768px){.ccToMy{display:none;}}/*!sc*/
.cNvKlH{margin-right:-6px;}/*!sc*/
.cLfAnm{-webkit-box-flex:1;-webkit-flex-grow:1;-ms-flex-positive:1;flex-grow:1;max-height:100% !important;overflow-y:auto;-webkit-scrollbar-gutter:stable;-moz-scrollbar-gutter:stable;-ms-scrollbar-gutter:stable;scrollbar-gutter:stable;}/*!sc*/
@media screen and (max-width:768px){.cLfAnm{display:none;}}/*!sc*/
.erWCJP{padding-left:16px;padding-right:16px;padding-bottom:8px;}/*!sc*/
.hAeDYA{height:100%;position:relative;display:none;margin-left:0;}/*!sc*/
.fjdBNx{position:absolute;inset:0 -2px;cursor:col-resize;background-color:transparent;-webkit-transition-delay:0.1s;transition-delay:0.1s;}/*!sc*/
.fjdBNx:hover{background-color:var(--bgColor-neutral-muted,var(--color-neutral-muted,rgba(175,184,193,0.2)));}/*!sc*/
.emFMJu{display:-webkit-box;display:-webkit-flex;display:-ms-flexbox;display:flex;-webkit-flex-direction:column;-ms-flex-direction:column;flex-direction:column;-webkit-order:2;-ms-flex-order:2;order:2;-webkit-flex-basis:0;-ms-flex-preferred-size:0;flex-basis:0;-webkit-box-flex:1;-webkit-flex-grow:1;-ms-flex-positive:1;flex-grow:1;-webkit-flex-shrink:1;-ms-flex-negative:1;flex-shrink:1;min-width:1px;margin-right:auto;}/*!sc*/
@media print{.emFMJu{display:-webkit-box !important;display:-webkit-flex !important;display:-ms-flexbox !important;display:flex !important;}}/*!sc*/
.hlUAHL{width:100%;max-width:100%;margin-left:auto;margin-right:auto;-webkit-box-flex:1;-webkit-flex-grow:1;-ms-flex-positive:1;flex-grow:1;padding:0;}/*!sc*/
.iStsmI{margin-left:auto;margin-right:auto;-webkit-flex-direction:column;-ms-flex-direction:column;flex-direction:column;padding-bottom:40px;max-width:100%;margin-top:0;}/*!sc*/
.eIgvIk{display:inherit;}/*!sc*/
.eVFfWF{width:100%;}/*!sc*/
.fywjmm{display:-webkit-box;display:-webkit-flex;display:-ms-flexbox;display:flex;gap:8px;-webkit-flex-direction:column;-ms-flex-direction:column;flex-direction:column;width:100%;}/*!sc*/
.dyczTK{display:-webkit-box;display:-webkit-flex;display:-ms-flexbox;display:flex;-webkit-align-items:start;-webkit-box-align:start;-ms-flex-align:start;align-items:start;-webkit-box-pack:justify;-webkit-justify-content:space-between;-ms-flex-pack:justify;justify-content:space-between;gap:8px;}/*!sc*/
.kszRgZ{-webkit-align-self:center;-ms-flex-item-align:center;align-self:center;display:-webkit-box;display:-webkit-flex;display:-ms-flexbox;display:flex;padding-right:8px;min-width:0;}/*!sc*/
.eTvGbF{display:-webkit-box;display:-webkit-flex;display:-ms-flexbox;display:flex;-webkit-flex-direction:row;-ms-flex-direction:row;flex-direction:row;font-size:16px;min-width:0;-webkit-flex-shrink:1;-ms-flex-negative:1;flex-shrink:1;-webkit-flex-wrap:wrap;-ms-flex-wrap:wrap;flex-wrap:wrap;max-width:100%;-webkit-align-items:center;-webkit-box-align:center;-ms-flex-align:center;align-items:center;}/*!sc*/
.kzRgrI{max-width:100%;}/*!sc*/
.cmAPIB{max-width:100%;list-style:none;display:inline-block;}/*!sc*/
.jwXCBK{display:inline-block;max-width:100%;}/*!sc*/
.gtBUEp{min-height:32px;display:-webkit-box;display:-webkit-flex;display:-ms-flexbox;display:flex;-webkit-align-items:start;-webkit-box-align:start;-ms-flex-align:start;align-items:start;}/*!sc*/
.hVZtwF{margin-left:16px;margin-right:16px;}/*!sc*/
.cMYnca{display:-webkit-box;display:-webkit-flex;display:-ms-flexbox;display:flex;-webkit-flex-direction:column;-ms-flex-direction:column;flex-direction:column;}/*!sc*/
.brJRqk{display:-webkit-box;display:-webkit-flex;display:-ms-flexbox;display:flex;-webkit-flex-direction:row;-ms-flex-direction:row;flex-direction:row;-webkit-flex-wrap:wrap;-ms-flex-wrap:wrap;flex-wrap:wrap;-webkit-box-pack:justify;-webkit-justify-content:space-between;-ms-flex-pack:justify;justify-content:space-between;-webkit-align-items:center;-webkit-box-align:center;-ms-flex-align:center;align-items:center;gap:8px;min-width:273px;padding:8px;}/*!sc*/
@media screen and (min-width:544px){.brJRqk{-webkit-flex-wrap:nowrap;-ms-flex-wrap:nowrap;flex-wrap:nowrap;}}/*!sc*/
.iJmJly{display:-webkit-box;display:-webkit-flex;display:-ms-flexbox;display:flex;-webkit-flex-direction:row;-ms-flex-direction:row;flex-direction:row;}/*!sc*/
.jACbi{width:100%;height:-webkit-fit-content;height:-moz-fit-content;height:fit-content;min-width:0;margin-right:0;}/*!sc*/
.gIJuDf{height:40px;padding-left:4px;padding-bottom:16px;}/*!sc*/
.fleZSW{-webkit-align-items:center;-webkit-box-align:center;-ms-flex-align:center;align-items:center;}/*!sc*/
.BnySK{font-size:12px;-webkit-flex:auto;-ms-flex:auto;flex:auto;padding-right:16px;color:var(--fgColor-muted,var(--color-fg-muted,#656d76));min-width:0;}/*!sc*/
.VHzRk{top:0px;z-index:4;background:var(--bgColor-default,var(--color-canvas-default));position:-webkit-sticky;position:sticky;}/*!sc*/
.ePiodO{display:-webkit-box;display:-webkit-flex;display:-ms-flexbox;display:flex;-webkit-flex-direction:column;-ms-flex-direction:column;flex-direction:column;width:100%;position:absolute;}/*!sc*/
.kQJlnf{display:none;min-width:0;padding-top:8px;padding-bottom:8px;}/*!sc*/
.gJICKO{margin-right:8px;margin-left:16px;text-overflow:ellipsis;overflow:hidden;display:-webkit-box;display:-webkit-flex;display:-ms-flexbox;display:flex;-webkit-flex-direction:row;-ms-flex-direction:row;flex-direction:row;-webkit-align-items:center;-webkit-box-align:center;-ms-flex-align:center;align-items:center;-webkit-box-pack:justify;-webkit-justify-content:space-between;-ms-flex-pack:justify;justify-content:space-between;width:100%;}/*!sc*/
.iZJewz{display:-webkit-box;display:-webkit-flex;display:-ms-flexbox;display:flex;-webkit-flex-direction:row;-ms-flex-direction:row;flex-direction:row;font-size:14px;min-width:0;-webkit-flex-shrink:1;-ms-flex-negative:1;flex-shrink:1;-webkit-flex-wrap:wrap;-ms-flex-wrap:wrap;flex-wrap:wrap;max-width:100%;-webkit-align-items:center;-webkit-box-align:center;-ms-flex-align:center;align-items:center;}/*!sc*/
.jfjHXm{padding-left:8px;padding-top:8px;padding-bottom:8px;display:-webkit-box;display:-webkit-flex;display:-ms-flexbox;display:flex;-webkit-flex:1;-ms-flex:1;flex:1;-webkit-align-items:center;-webkit-box-align:center;-ms-flex-align:center;align-items:center;-webkit-box-pack:justify;-webkit-justify-content:space-between;-ms-flex-pack:justify;justify-content:space-between;background-color:var(--bgColor-muted,var(--color-canvas-subtle,#f6f8fa));border:1px solid var(--borderColor-default,var(--color-border-default));border-radius:6px 6px 0px 0px;}/*!sc*/
.bfkNRF{display:-webkit-box;display:-webkit-flex;display:-ms-flexbox;display:flex;-webkit-align-items:center;-webkit-box-align:center;-ms-flex-align:center;align-items:center;gap:8px;min-width:0;}/*!sc*/
.fXBLEV{display:block;position:relative;-webkit-box-flex:1;-webkit-flex-grow:1;-ms-flex-positive:1;flex-grow:1;margin-top:-1px;margin-bottom:-1px;--separator-color:transparent;}/*!sc*/
.fXBLEV:not(:last-child){margin-right:1px;}/*!sc*/
.fXBLEV:not(:last-child):after{background-color:var(--separator-color);content:"";position:absolute;right:-2px;top:8px;bottom:8px;width:1px;}/*!sc*/
.fXBLEV:focus-within:has(:focus-visible){--separator-color:transparent;}/*!sc*/
.fXBLEV:first-child{margin-left:-1px;}/*!sc*/
.fXBLEV:last-child{margin-right:-1px;}/*!sc*/
.gMPsNT{display:block;position:relative;-webkit-box-flex:1;-webkit-flex-grow:1;-ms-flex-positive:1;flex-grow:1;margin-top:-1px;margin-bottom:-1px;--separator-color:var(--borderColor-default,var(--color-border-default,#d0d7de));}/*!sc*/
.gMPsNT:not(:last-child){margin-right:1px;}/*!sc*/
.gMPsNT:not(:last-child):after{background-color:var(--separator-color);content:"";position:absolute;right:-2px;top:8px;bottom:8px;width:1px;}/*!sc*/
.gMPsNT:focus-within:has(:focus-visible){--separator-color:transparent;}/*!sc*/
.gMPsNT:first-child{margin-left:-1px;}/*!sc*/
.gMPsNT:last-child{margin-right:-1px;}/*!sc*/
.iBylDf{display:-webkit-box;display:-webkit-flex;display:-ms-flexbox;display:flex;-webkit-align-items:center;-webkit-box-align:center;-ms-flex-align:center;align-items:center;gap:8px;margin-right:8px;}/*!sc*/
.kSGBPx{gap:8px;}/*!sc*/
.ytOJl{border:1px solid;border-top:none;border-color:var(--borderColor-default,var(--color-border-default,#d0d7de));border-radius:0px 0px 6px 6px;min-width:273px;}/*!sc*/
.eJsjkT{background-color:var(--bgColor-default,var(--color-canvas-default));border:0px;border-width:0;border-radius:0px 0px 6px 6px;padding:0;min-width:0;margin-top:46px;overflow:auto;}/*!sc*/
.aZrVR{position:fixed;top:0;right:0;height:100%;width:15px;-webkit-transition:-webkit-transform 0.3s;-webkit-transition:transform 0.3s;transition:transform 0.3s;z-index:1;}/*!sc*/
.aZrVR:hover{-webkit-transform:scaleX(1.5);-ms-transform:scaleX(1.5);transform:scaleX(1.5);}/*!sc*/
.bAzdCq{display:-webkit-box;display:-webkit-flex;display:-ms-flexbox;display:flex;-webkit-flex-direction:column;-ms-flex-direction:column;flex-direction:column;-webkit-align-items:center;-webkit-box-align:center;-ms-flex-align:center;align-items:center;padding-top:16px;padding-bottom:16px;}/*!sc*/
.ioTNdO{display:-webkit-inline-box;display:-webkit-inline-flex;display:-ms-inline-flexbox;display:inline-flex;}/*!sc*/
data-styled.g2[id="Box-sc-g0xbh4-0"]{content:"fSWWem,kPPmzM,cIAPDV,gvCnwW,hgUFaY,eUyHuk,gNdDUH,jywUSN,hBSSUC,iPurHz,kkrdEu,trpoQ,hVHHYa,idZfsJ,bKgizp,iPGYsi,caeYDk,jahcnb,ccToMy,cNvKlH,cLfAnm,erWCJP,hAeDYA,fjdBNx,emFMJu,hlUAHL,iStsmI,eIgvIk,eVFfWF,fywjmm,dyczTK,kszRgZ,eTvGbF,kzRgrI,cmAPIB,jwXCBK,gtBUEp,hVZtwF,cMYnca,brJRqk,iJmJly,jACbi,gIJuDf,fleZSW,BnySK,VHzRk,ePiodO,kQJlnf,gJICKO,iZJewz,jfjHXm,bfkNRF,fXBLEV,gMPsNT,iBylDf,kSGBPx,ytOJl,eJsjkT,aZrVR,bAzdCq,ioTNdO,"}/*!sc*/
.jGoVeP{border-radius:6px;border:1px solid;border-color:transparent;font-family:inherit;font-weight:500;font-size:14px;cursor:pointer;-webkit-appearance:none;-moz-appearance:none;appearance:none;-webkit-user-select:none;-moz-user-select:none;-ms-user-select:none;user-select:none;-webkit-text-decoration:none;text-decoration:none;text-align:center;display:-webkit-box;display:-webkit-flex;display:-ms-flexbox;display:flex;-webkit-align-items:center;-webkit-box-align:center;-ms-flex-align:center;align-items:center;-webkit-box-pack:justify;-webkit-justify-content:space-between;-ms-flex-pack:justify;justify-content:space-between;height:32px;padding:0 12px;gap:8px;min-width:-webkit-max-content;min-width:-moz-max-content;min-width:max-content;-webkit-transition:80ms cubic-bezier(0.65,0,0.35,1);transition:80ms cubic-bezier(0.65,0,0.35,1);-webkit-transition-property:color,fill,background-color,border-color;transition-property:color,fill,background-color,border-color;color:var(--button-default-fgColor-rest,var(--color-btn-text,#24292f));background-color:transparent;box-shadow:none;}/*!sc*/
.jGoVeP:focus:not(:disabled){box-shadow:none;outline:2px solid var(--fgColor-accent,var(--color-accent-fg,#0969da));outline-offset:-2px;}/*!sc*/
.jGoVeP:focus:not(:disabled):not(:focus-visible){outline:solid 1px transparent;}/*!sc*/
.jGoVeP:focus-visible:not(:disabled){box-shadow:none;outline:2px solid var(--fgColor-accent,var(--color-accent-fg,#0969da));outline-offset:-2px;}/*!sc*/
.jGoVeP[href]{display:-webkit-inline-box;display:-webkit-inline-flex;display:-ms-inline-flexbox;display:inline-flex;}/*!sc*/
.jGoVeP[href]:hover{-webkit-text-decoration:none;text-decoration:none;}/*!sc*/
.jGoVeP:hover{-webkit-transition-duration:80ms;transition-duration:80ms;}/*!sc*/
.jGoVeP:active{-webkit-transition:none;transition:none;}/*!sc*/
.jGoVeP[data-inactive]{cursor:auto;}/*!sc*/
.jGoVeP:disabled{cursor:not-allowed;box-shadow:none;color:var(--fgColor-disabled,var(--color-primer-fg-disabled,#8c959f));}/*!sc*/
.jGoVeP:disabled [data-component=ButtonCounter],.jGoVeP:disabled [data-component="leadingVisual"],.jGoVeP:disabled [data-component="trailingAction"]{color:inherit;}/*!sc*/
@media (forced-colors:active){.jGoVeP:focus{outline:solid 1px transparent;}}/*!sc*/
.jGoVeP [data-component=ButtonCounter]{font-size:12px;}/*!sc*/
.jGoVeP[data-component=IconButton]{display:inline-grid;padding:unset;place-content:center;width:32px;min-width:unset;}/*!sc*/
.jGoVeP[data-size="small"]{padding:0 8px;height:28px;gap:4px;font-size:12px;}/*!sc*/
.jGoVeP[data-size="small"] [data-component="text"]{line-height:calc(20 / 12);}/*!sc*/
.jGoVeP[data-size="small"] [data-component=ButtonCounter]{font-size:12px;}/*!sc*/
.jGoVeP[data-size="small"] [data-component="buttonContent"] > :not(:last-child){margin-right:4px;}/*!sc*/
.jGoVeP[data-size="small"][data-component=IconButton]{width:28px;padding:unset;}/*!sc*/
.jGoVeP[data-size="large"]{padding:0 16px;height:40px;gap:8px;}/*!sc*/
.jGoVeP[data-size="large"] [data-component="buttonContent"] > :not(:last-child){margin-right:8px;}/*!sc*/
.jGoVeP[data-size="large"][data-component=IconButton]{width:40px;padding:unset;}/*!sc*/
.jGoVeP[data-block="block"]{width:100%;}/*!sc*/
.jGoVeP[data-label-wrap="true"]{min-width:-webkit-fit-content;min-width:-moz-fit-content;min-width:fit-content;height:unset;min-height:var(--control-medium-size,2rem);}/*!sc*/
.jGoVeP[data-label-wrap="true"] [data-component="buttonContent"]{-webkit-flex:1 1 auto;-ms-flex:1 1 auto;flex:1 1 auto;-webkit-align-self:stretch;-ms-flex-item-align:stretch;align-self:stretch;padding-block:calc(var(--control-medium-paddingBlock,0.375rem) - 2px);}/*!sc*/
.jGoVeP[data-label-wrap="true"] [data-component="text"]{white-space:unset;word-break:break-word;}/*!sc*/
.jGoVeP[data-label-wrap="true"][data-size="small"]{height:unset;min-height:var(--control-small-size,1.75rem);}/*!sc*/
.jGoVeP[data-label-wrap="true"][data-size="small"] [data-component="buttonContent"]{padding-block:calc(var(--control-small-paddingBlock,0.25rem) - 2px);}/*!sc*/
.jGoVeP[data-label-wrap="true"][data-size="large"]{height:unset;min-height:var(--control-large-size,2.5rem);padding-inline:var(--control-large-paddingInline-spacious,1rem);}/*!sc*/
.jGoVeP[data-label-wrap="true"][data-size="large"] [data-component="buttonContent"]{padding-block:calc(var(--control-large-paddingBlock,0.625rem) - 2px);}/*!sc*/
.jGoVeP[data-inactive]:not([disabled]){background-color:var(--button-inactive-bgColor,var(--button-inactive-bgColor-rest,var(--color-btn-inactive-bg,#eaeef2)));border-color:var(--button-inactive-bgColor,var(--button-inactive-bgColor-rest,var(--color-btn-inactive-bg,#eaeef2)));color:var(--button-inactive-fgColor,var(--button-inactive-fgColor-rest,var(--color-btn-inactive-text,#57606a)));}/*!sc*/
.jGoVeP[data-inactive]:not([disabled]):focus-visible{box-shadow:none;}/*!sc*/
.jGoVeP [data-component="leadingVisual"]{grid-area:leadingVisual;color:var(--fgColor-muted,var(--color-fg-muted,#656d76));}/*!sc*/
.jGoVeP [data-component="text"]{grid-area:text;line-height:calc(20/14);white-space:nowrap;}/*!sc*/
.jGoVeP [data-component="trailingVisual"]{grid-area:trailingVisual;}/*!sc*/
.jGoVeP [data-component="trailingAction"]{margin-right:-4px;color:var(--fgColor-muted,var(--color-fg-muted,#656d76));}/*!sc*/
.jGoVeP [data-component="buttonContent"]{-webkit-flex:1 0 auto;-ms-flex:1 0 auto;flex:1 0 auto;display:grid;grid-template-areas:"leadingVisual text trailingVisual";grid-template-columns:min-content minmax(0,auto) min-content;-webkit-align-items:center;-webkit-box-align:center;-ms-flex-align:center;align-items:center;-webkit-align-content:center;-ms-flex-line-pack:center;align-content:center;}/*!sc*/
.jGoVeP [data-component="buttonContent"] > :not(:last-child){margin-right:8px;}/*!sc*/
.jGoVeP [data-component="loadingSpinner"]{grid-area:text;margin-right:0px !important;place-self:center;}/*!sc*/
.jGoVeP [data-component="loadingSpinner"] + [data-component="text"]{visibility:hidden;}/*!sc*/
.jGoVeP:hover:not([disabled]){background-color:var(--control-transparent-bgColor-hover,var(--color-action-list-item-default-hover-bg,rgba(208,215,222,0.32)));}/*!sc*/
.jGoVeP:active:not([disabled]){background-color:var(--control-transparent-bgColor-active,var(--color-action-list-item-default-active-bg,rgba(208,215,222,0.48)));}/*!sc*/
.jGoVeP[aria-expanded=true]{background-color:var(--control-transparent-bgColor-selected,var(--color-action-list-item-default-selected-bg,rgba(208,215,222,0.24)));}/*!sc*/
.jGoVeP[data-component="IconButton"][data-no-visuals]{color:var(--fgColor-muted,var(--color-fg-muted,#656d76));}/*!sc*/
.jGoVeP[data-no-visuals]{color:var(--fgColor-accent,var(--color-accent-fg,#0969da));}/*!sc*/
.jGoVeP:has([data-component="ButtonCounter"]){color:var(--button-default-fgColor-rest,var(--color-btn-text,#24292f));}/*!sc*/
.jGoVeP:disabled[data-no-visuals]{color:var(--fgColor-disabled,var(--color-primer-fg-disabled,#8c959f));}/*!sc*/
.jGoVeP:disabled[data-no-visuals] [data-component=ButtonCounter]{color:inherit;}/*!sc*/
.jGoVeP{color:var(--fgColor-muted,var(--color-fg-muted,#656d76));padding-left:8px;padding-right:8px;display:none;}/*!sc*/
@media screen and (max-width:768px){.jGoVeP{display:block;}}/*!sc*/
.cRDVgI{border-radius:6px;border:1px solid;border-color:transparent;font-family:inherit;font-weight:500;font-size:14px;cursor:pointer;-webkit-appearance:none;-moz-appearance:none;appearance:none;-webkit-user-select:none;-moz-user-select:none;-ms-user-select:none;user-select:none;-webkit-text-decoration:none;text-decoration:none;text-align:center;display:-webkit-box;display:-webkit-flex;display:-ms-flexbox;display:flex;-webkit-align-items:center;-webkit-box-align:center;-ms-flex-align:center;align-items:center;-webkit-box-pack:justify;-webkit-justify-content:space-between;-ms-flex-pack:justify;justify-content:space-between;height:32px;padding:0 12px;gap:8px;min-width:-webkit-max-content;min-width:-moz-max-content;min-width:max-content;-webkit-transition:80ms cubic-bezier(0.65,0,0.35,1);transition:80ms cubic-bezier(0.65,0,0.35,1);-webkit-transition-property:color,fill,background-color,border-color;transition-property:color,fill,background-color,border-color;color:var(--button-default-fgColor-rest,var(--color-btn-text,#24292f));background-color:transparent;box-shadow:none;}/*!sc*/
.cRDVgI:focus:not(:disabled){box-shadow:none;outline:2px solid var(--fgColor-accent,var(--color-accent-fg,#0969da));outline-offset:-2px;}/*!sc*/
.cRDVgI:focus:not(:disabled):not(:focus-visible){outline:solid 1px transparent;}/*!sc*/
.cRDVgI:focus-visible:not(:disabled){box-shadow:none;outline:2px solid var(--fgColor-accent,var(--color-accent-fg,#0969da));outline-offset:-2px;}/*!sc*/
.cRDVgI[href]{display:-webkit-inline-box;display:-webkit-inline-flex;display:-ms-inline-flexbox;display:inline-flex;}/*!sc*/
.cRDVgI[href]:hover{-webkit-text-decoration:none;text-decoration:none;}/*!sc*/
.cRDVgI:hover{-webkit-transition-duration:80ms;transition-duration:80ms;}/*!sc*/
.cRDVgI:active{-webkit-transition:none;transition:none;}/*!sc*/
.cRDVgI[data-inactive]{cursor:auto;}/*!sc*/
.cRDVgI:disabled{cursor:not-allowed;box-shadow:none;color:var(--fgColor-disabled,var(--color-primer-fg-disabled,#8c959f));}/*!sc*/
.cRDVgI:disabled [data-component=ButtonCounter],.cRDVgI:disabled [data-component="leadingVisual"],.cRDVgI:disabled [data-component="trailingAction"]{color:inherit;}/*!sc*/
@media (forced-colors:active){.cRDVgI:focus{outline:solid 1px transparent;}}/*!sc*/
.cRDVgI [data-component=ButtonCounter]{font-size:12px;}/*!sc*/
.cRDVgI[data-component=IconButton]{display:inline-grid;padding:unset;place-content:center;width:32px;min-width:unset;}/*!sc*/
.cRDVgI[data-size="small"]{padding:0 8px;height:28px;gap:4px;font-size:12px;}/*!sc*/
.cRDVgI[data-size="small"] [data-component="text"]{line-height:calc(20 / 12);}/*!sc*/
.cRDVgI[data-size="small"] [data-component=ButtonCounter]{font-size:12px;}/*!sc*/
.cRDVgI[data-size="small"] [data-component="buttonContent"] > :not(:last-child){margin-right:4px;}/*!sc*/
.cRDVgI[data-size="small"][data-component=IconButton]{width:28px;padding:unset;}/*!sc*/
.cRDVgI[data-size="large"]{padding:0 16px;height:40px;gap:8px;}/*!sc*/
.cRDVgI[data-size="large"] [data-component="buttonContent"] > :not(:last-child){margin-right:8px;}/*!sc*/
.cRDVgI[data-size="large"][data-component=IconButton]{width:40px;padding:unset;}/*!sc*/
.cRDVgI[data-block="block"]{width:100%;}/*!sc*/
.cRDVgI[data-label-wrap="true"]{min-width:-webkit-fit-content;min-width:-moz-fit-content;min-width:fit-content;height:unset;min-height:var(--control-medium-size,2rem);}/*!sc*/
.cRDVgI[data-label-wrap="true"] [data-component="buttonContent"]{-webkit-flex:1 1 auto;-ms-flex:1 1 auto;flex:1 1 auto;-webkit-align-self:stretch;-ms-flex-item-align:stretch;align-self:stretch;padding-block:calc(var(--control-medium-paddingBlock,0.375rem) - 2px);}/*!sc*/
.cRDVgI[data-label-wrap="true"] [data-component="text"]{white-space:unset;word-break:break-word;}/*!sc*/
.cRDVgI[data-label-wrap="true"][data-size="small"]{height:unset;min-height:var(--control-small-size,1.75rem);}/*!sc*/
.cRDVgI[data-label-wrap="true"][data-size="small"] [data-component="buttonContent"]{padding-block:calc(var(--control-small-paddingBlock,0.25rem) - 2px);}/*!sc*/
.cRDVgI[data-label-wrap="true"][data-size="large"]{height:unset;min-height:var(--control-large-size,2.5rem);padding-inline:var(--control-large-paddingInline-spacious,1rem);}/*!sc*/
.cRDVgI[data-label-wrap="true"][data-size="large"] [data-component="buttonContent"]{padding-block:calc(var(--control-large-paddingBlock,0.625rem) - 2px);}/*!sc*/
.cRDVgI[data-inactive]:not([disabled]){background-color:var(--button-inactive-bgColor,var(--button-inactive-bgColor-rest,var(--color-btn-inactive-bg,#eaeef2)));border-color:var(--button-inactive-bgColor,var(--button-inactive-bgColor-rest,var(--color-btn-inactive-bg,#eaeef2)));color:var(--button-inactive-fgColor,var(--button-inactive-fgColor-rest,var(--color-btn-inactive-text,#57606a)));}/*!sc*/
.cRDVgI[data-inactive]:not([disabled]):focus-visible{box-shadow:none;}/*!sc*/
.cRDVgI [data-component="leadingVisual"]{grid-area:leadingVisual;color:var(--fgColor-muted,var(--color-fg-muted,#656d76));}/*!sc*/
.cRDVgI [data-component="text"]{grid-area:text;line-height:calc(20/14);white-space:nowrap;}/*!sc*/
.cRDVgI [data-component="trailingVisual"]{grid-area:trailingVisual;}/*!sc*/
.cRDVgI [data-component="trailingAction"]{margin-right:-4px;color:var(--fgColor-muted,var(--color-fg-muted,#656d76));}/*!sc*/
.cRDVgI [data-component="buttonContent"]{-webkit-flex:1 0 auto;-ms-flex:1 0 auto;flex:1 0 auto;display:grid;grid-template-areas:"leadingVisual text trailingVisual";grid-template-columns:min-content minmax(0,auto) min-content;-webkit-align-items:center;-webkit-box-align:center;-ms-flex-align:center;align-items:center;-webkit-align-content:center;-ms-flex-line-pack:center;align-content:center;}/*!sc*/
.cRDVgI [data-component="buttonContent"] > :not(:last-child){margin-right:8px;}/*!sc*/
.cRDVgI [data-component="loadingSpinner"]{grid-area:text;margin-right:0px !important;place-self:center;}/*!sc*/
.cRDVgI [data-component="loadingSpinner"] + [data-component="text"]{visibility:hidden;}/*!sc*/
.cRDVgI:hover:not([disabled]){background-color:var(--control-transparent-bgColor-hover,var(--color-action-list-item-default-hover-bg,rgba(208,215,222,0.32)));}/*!sc*/
.cRDVgI:active:not([disabled]){background-color:var(--control-transparent-bgColor-active,var(--color-action-list-item-default-active-bg,rgba(208,215,222,0.48)));}/*!sc*/
.cRDVgI[aria-expanded=true]{background-color:var(--control-transparent-bgColor-selected,var(--color-action-list-item-default-selected-bg,rgba(208,215,222,0.24)));}/*!sc*/
.cRDVgI[data-component="IconButton"][data-no-visuals]{color:var(--fgColor-muted,var(--color-fg-muted,#656d76));}/*!sc*/
.cRDVgI[data-no-visuals]{color:var(--fgColor-muted,var(--color-fg-muted,#656d76));height:32px;position:relative;}/*!sc*/
@media screen and (max-width:768px){.cRDVgI[data-no-visuals]{display:none;}}/*!sc*/
.cRDVgI:has([data-component="ButtonCounter"]){color:var(--button-default-fgColor-rest,var(--color-btn-text,#24292f));}/*!sc*/
.cRDVgI:disabled[data-no-visuals]{color:var(--fgColor-disabled,var(--color-primer-fg-disabled,#8c959f));}/*!sc*/
.cRDVgI:disabled[data-no-visuals] [data-component=ButtonCounter]{color:inherit;}/*!sc*/
.jwBfae{border-radius:6px;border:1px solid;border-color:var(--button-default-borderColor-rest,var(--button-default-borderColor-rest,var(--color-btn-border,rgba(31,35,40,0.15))));font-family:inherit;font-weight:500;font-size:14px;cursor:pointer;-webkit-appearance:none;-moz-appearance:none;appearance:none;-webkit-user-select:none;-moz-user-select:none;-ms-user-select:none;user-select:none;-webkit-text-decoration:none;text-decoration:none;text-align:center;display:-webkit-box;display:-webkit-flex;display:-ms-flexbox;display:flex;-webkit-align-items:center;-webkit-box-align:center;-ms-flex-align:center;align-items:center;-webkit-box-pack:justify;-webkit-justify-content:space-between;-ms-flex-pack:justify;justify-content:space-between;height:32px;padding:0 12px;gap:8px;min-width:-webkit-max-content;min-width:-moz-max-content;min-width:max-content;-webkit-transition:80ms cubic-bezier(0.65,0,0.35,1);transition:80ms cubic-bezier(0.65,0,0.35,1);-webkit-transition-property:color,fill,background-color,border-color;transition-property:color,fill,background-color,border-color;color:var(--button-default-fgColor-rest,var(--color-btn-text,#24292f));background-color:var(--button-default-bgColor-rest,var(--color-btn-bg,#f6f8fa));box-shadow:var(--button-default-shadow-resting,var(--color-btn-shadow,0 1px 0 rgba(31,35,40,0.04))),var(--button-default-shadow-inset,var(--color-btn-inset-shadow,inset 0 1px 0 rgba(255,255,255,0.25)));}/*!sc*/
.jwBfae:focus:not(:disabled){box-shadow:none;outline:2px solid var(--fgColor-accent,var(--color-accent-fg,#0969da));outline-offset:-2px;}/*!sc*/
.jwBfae:focus:not(:disabled):not(:focus-visible){outline:solid 1px transparent;}/*!sc*/
.jwBfae:focus-visible:not(:disabled){box-shadow:none;outline:2px solid var(--fgColor-accent,var(--color-accent-fg,#0969da));outline-offset:-2px;}/*!sc*/
.jwBfae[href]{display:-webkit-inline-box;display:-webkit-inline-flex;display:-ms-inline-flexbox;display:inline-flex;}/*!sc*/
.jwBfae[href]:hover{-webkit-text-decoration:none;text-decoration:none;}/*!sc*/
.jwBfae:hover{-webkit-transition-duration:80ms;transition-duration:80ms;}/*!sc*/
.jwBfae:active{-webkit-transition:none;transition:none;}/*!sc*/
.jwBfae[data-inactive]{cursor:auto;}/*!sc*/
.jwBfae:disabled{cursor:not-allowed;box-shadow:none;color:var(--fgColor-disabled,var(--color-primer-fg-disabled,#8c959f));border-color:var(--button-default-borderColor-disabled,var(--button-default-borderColor-rest,var(--color-btn-border,rgba(31,35,40,0.15))));background-color:var(--button-default-bgColor-disabled,var(--control-bgColor-disabled,var(--color-input-disabled-bg,rgba(175,184,193,0.2))));}/*!sc*/
.jwBfae:disabled [data-component=ButtonCounter]{color:inherit;}/*!sc*/
@media (forced-colors:active){.jwBfae:focus{outline:solid 1px transparent;}}/*!sc*/
.jwBfae [data-component=ButtonCounter]{font-size:12px;background-color:var(--buttonCounter-default-bgColor-rest,var(--color-btn-counter-bg,rgba(31,35,40,0.08)));}/*!sc*/
.jwBfae[data-component=IconButton]{display:inline-grid;padding:unset;place-content:center;width:32px;min-width:unset;}/*!sc*/
.jwBfae[data-size="small"]{padding:0 8px;height:28px;gap:4px;font-size:12px;}/*!sc*/
.jwBfae[data-size="small"] [data-component="text"]{line-height:calc(20 / 12);}/*!sc*/
.jwBfae[data-size="small"] [data-component=ButtonCounter]{font-size:12px;}/*!sc*/
.jwBfae[data-size="small"] [data-component="buttonContent"] > :not(:last-child){margin-right:4px;}/*!sc*/
.jwBfae[data-size="small"][data-component=IconButton]{width:28px;padding:unset;}/*!sc*/
.jwBfae[data-size="large"]{padding:0 16px;height:40px;gap:8px;}/*!sc*/
.jwBfae[data-size="large"] [data-component="buttonContent"] > :not(:last-child){margin-right:8px;}/*!sc*/
.jwBfae[data-size="large"][data-component=IconButton]{width:40px;padding:unset;}/*!sc*/
.jwBfae[data-block="block"]{width:100%;}/*!sc*/
.jwBfae[data-label-wrap="true"]{min-width:-webkit-fit-content;min-width:-moz-fit-content;min-width:fit-content;height:unset;min-height:var(--control-medium-size,2rem);}/*!sc*/
.jwBfae[data-label-wrap="true"] [data-component="buttonContent"]{-webkit-flex:1 1 auto;-ms-flex:1 1 auto;flex:1 1 auto;-webkit-align-self:stretch;-ms-flex-item-align:stretch;align-self:stretch;padding-block:calc(var(--control-medium-paddingBlock,0.375rem) - 2px);}/*!sc*/
.jwBfae[data-label-wrap="true"] [data-component="text"]{white-space:unset;word-break:break-word;}/*!sc*/
.jwBfae[data-label-wrap="true"][data-size="small"]{height:unset;min-height:var(--control-small-size,1.75rem);}/*!sc*/
.jwBfae[data-label-wrap="true"][data-size="small"] [data-component="buttonContent"]{padding-block:calc(var(--control-small-paddingBlock,0.25rem) - 2px);}/*!sc*/
.jwBfae[data-label-wrap="true"][data-size="large"]{height:unset;min-height:var(--control-large-size,2.5rem);padding-inline:var(--control-large-paddingInline-spacious,1rem);}/*!sc*/
.jwBfae[data-label-wrap="true"][data-size="large"] [data-component="buttonContent"]{padding-block:calc(var(--control-large-paddingBlock,0.625rem) - 2px);}/*!sc*/
.jwBfae[data-inactive]:not([disabled]){background-color:var(--button-inactive-bgColor,var(--button-inactive-bgColor-rest,var(--color-btn-inactive-bg,#eaeef2)));border-color:var(--button-inactive-bgColor,var(--button-inactive-bgColor-rest,var(--color-btn-inactive-bg,#eaeef2)));color:var(--button-inactive-fgColor,var(--button-inactive-fgColor-rest,var(--color-btn-inactive-text,#57606a)));}/*!sc*/
.jwBfae[data-inactive]:not([disabled]):focus-visible{box-shadow:none;}/*!sc*/
.jwBfae [data-component="leadingVisual"]{grid-area:leadingVisual;}/*!sc*/
.jwBfae [data-component="text"]{grid-area:text;line-height:calc(20/14);white-space:nowrap;}/*!sc*/
.jwBfae [data-component="trailingVisual"]{grid-area:trailingVisual;}/*!sc*/
.jwBfae [data-component="trailingAction"]{margin-right:-4px;}/*!sc*/
.jwBfae [data-component="buttonContent"]{-webkit-flex:1 0 auto;-ms-flex:1 0 auto;flex:1 0 auto;display:grid;grid-template-areas:"leadingVisual text trailingVisual";grid-template-columns:min-content minmax(0,auto) min-content;-webkit-align-items:center;-webkit-box-align:center;-ms-flex-align:center;align-items:center;-webkit-align-content:center;-ms-flex-line-pack:center;align-content:center;}/*!sc*/
.jwBfae [data-component="buttonContent"] > :not(:last-child){margin-right:8px;}/*!sc*/
.jwBfae [data-component="loadingSpinner"]{grid-area:text;margin-right:0px !important;place-self:center;}/*!sc*/
.jwBfae [data-component="loadingSpinner"] + [data-component="text"]{visibility:hidden;}/*!sc*/
.jwBfae:hover:not([disabled]):not([data-inactive]){background-color:var(--button-default-bgColor-hover,var(--color-btn-hover-bg,#f3f4f6));border-color:var(--button-default-borderColor-hover,var(--button-default-borderColor-hover,var(--color-btn-hover-border,rgba(31,35,40,0.15))));}/*!sc*/
.jwBfae:active:not([disabled]):not([data-inactive]){background-color:var(--button-default-bgColor-active,var(--color-btn-active-bg,hsla(220,14%,93%,1)));border-color:var(--button-default-borderColor-active,var(--button-default-borderColor-active,var(--color-btn-active-border,rgba(31,35,40,0.15))));}/*!sc*/
.jwBfae[aria-expanded=true]{background-color:var(--button-default-bgColor-active,var(--color-btn-active-bg,hsla(220,14%,93%,1)));border-color:var(--button-default-borderColor-active,var(--button-default-borderColor-active,var(--color-btn-active-border,rgba(31,35,40,0.15))));}/*!sc*/
.jwBfae [data-component="leadingVisual"],.jwBfae [data-component="trailingVisual"],.jwBfae [data-component="trailingAction"]{color:var(--button-color,var(--fgColor-muted,var(--color-fg-muted,#656d76)));}/*!sc*/
.jwBfae[data-component="IconButton"][data-no-visuals]{color:var(--fgColor-muted,var(--color-fg-muted,#656d76));}/*!sc*/
.jwBfae{display:-webkit-box;display:-webkit-flex;display:-ms-flexbox;display:flex;min-width:0;}/*!sc*/
.jwBfae svg{color:var(--fgColor-muted,var(--color-fg-muted,#656d76));}/*!sc*/
.jwBfae > span{width:inherit;}/*!sc*/
.YkvTm{border-radius:6px;border:1px solid;border-color:var(--button-default-borderColor-rest,var(--button-default-borderColor-rest,var(--color-btn-border,rgba(31,35,40,0.15))));font-family:inherit;font-weight:500;font-size:14px;cursor:pointer;-webkit-appearance:none;-moz-appearance:none;appearance:none;-webkit-user-select:none;-moz-user-select:none;-ms-user-select:none;user-select:none;-webkit-text-decoration:none;text-decoration:none;text-align:center;display:-webkit-box;display:-webkit-flex;display:-ms-flexbox;display:flex;-webkit-align-items:center;-webkit-box-align:center;-ms-flex-align:center;align-items:center;-webkit-box-pack:justify;-webkit-justify-content:space-between;-ms-flex-pack:justify;justify-content:space-between;height:32px;padding:0 12px;gap:8px;min-width:-webkit-max-content;min-width:-moz-max-content;min-width:max-content;-webkit-transition:80ms cubic-bezier(0.65,0,0.35,1);transition:80ms cubic-bezier(0.65,0,0.35,1);-webkit-transition-property:color,fill,background-color,border-color;transition-property:color,fill,background-color,border-color;color:var(--button-default-fgColor-rest,var(--color-btn-text,#24292f));background-color:var(--button-default-bgColor-rest,var(--color-btn-bg,#f6f8fa));box-shadow:var(--button-default-shadow-resting,var(--color-btn-shadow,0 1px 0 rgba(31,35,40,0.04))),var(--button-default-shadow-inset,var(--color-btn-inset-shadow,inset 0 1px 0 rgba(255,255,255,0.25)));}/*!sc*/
.YkvTm:focus:not(:disabled){box-shadow:none;outline:2px solid var(--fgColor-accent,var(--color-accent-fg,#0969da));outline-offset:-2px;}/*!sc*/
.YkvTm:focus:not(:disabled):not(:focus-visible){outline:solid 1px transparent;}/*!sc*/
.YkvTm:focus-visible:not(:disabled){box-shadow:none;outline:2px solid var(--fgColor-accent,var(--color-accent-fg,#0969da));outline-offset:-2px;}/*!sc*/
.YkvTm[href]{display:-webkit-inline-box;display:-webkit-inline-flex;display:-ms-inline-flexbox;display:inline-flex;}/*!sc*/
.YkvTm[href]:hover{-webkit-text-decoration:none;text-decoration:none;}/*!sc*/
.YkvTm:hover{-webkit-transition-duration:80ms;transition-duration:80ms;}/*!sc*/
.YkvTm:active{-webkit-transition:none;transition:none;}/*!sc*/
.YkvTm[data-inactive]{cursor:auto;}/*!sc*/
.YkvTm:disabled{cursor:not-allowed;box-shadow:none;color:var(--fgColor-disabled,var(--color-primer-fg-disabled,#8c959f));border-color:var(--button-default-borderColor-disabled,var(--button-default-borderColor-rest,var(--color-btn-border,rgba(31,35,40,0.15))));background-color:var(--button-default-bgColor-disabled,var(--control-bgColor-disabled,var(--color-input-disabled-bg,rgba(175,184,193,0.2))));}/*!sc*/
.YkvTm:disabled [data-component=ButtonCounter]{color:inherit;}/*!sc*/
@media (forced-colors:active){.YkvTm:focus{outline:solid 1px transparent;}}/*!sc*/
.YkvTm [data-component=ButtonCounter]{font-size:12px;background-color:var(--buttonCounter-default-bgColor-rest,var(--color-btn-counter-bg,rgba(31,35,40,0.08)));}/*!sc*/
.YkvTm[data-component=IconButton]{display:inline-grid;padding:unset;place-content:center;width:32px;min-width:unset;}/*!sc*/
.YkvTm[data-size="small"]{padding:0 8px;height:28px;gap:4px;font-size:12px;}/*!sc*/
.YkvTm[data-size="small"] [data-component="text"]{line-height:calc(20 / 12);}/*!sc*/
.YkvTm[data-size="small"] [data-component=ButtonCounter]{font-size:12px;}/*!sc*/
.YkvTm[data-size="small"] [data-component="buttonContent"] > :not(:last-child){margin-right:4px;}/*!sc*/
.YkvTm[data-size="small"][data-component=IconButton]{width:28px;padding:unset;}/*!sc*/
.YkvTm[data-size="large"]{padding:0 16px;height:40px;gap:8px;}/*!sc*/
.YkvTm[data-size="large"] [data-component="buttonContent"] > :not(:last-child){margin-right:8px;}/*!sc*/
.YkvTm[data-size="large"][data-component=IconButton]{width:40px;padding:unset;}/*!sc*/
.YkvTm[data-block="block"]{width:100%;}/*!sc*/
.YkvTm[data-label-wrap="true"]{min-width:-webkit-fit-content;min-width:-moz-fit-content;min-width:fit-content;height:unset;min-height:var(--control-medium-size,2rem);}/*!sc*/
.YkvTm[data-label-wrap="true"] [data-component="buttonContent"]{-webkit-flex:1 1 auto;-ms-flex:1 1 auto;flex:1 1 auto;-webkit-align-self:stretch;-ms-flex-item-align:stretch;align-self:stretch;padding-block:calc(var(--control-medium-paddingBlock,0.375rem) - 2px);}/*!sc*/
.YkvTm[data-label-wrap="true"] [data-component="text"]{white-space:unset;word-break:break-word;}/*!sc*/
.YkvTm[data-label-wrap="true"][data-size="small"]{height:unset;min-height:var(--control-small-size,1.75rem);}/*!sc*/
.YkvTm[data-label-wrap="true"][data-size="small"] [data-component="buttonContent"]{padding-block:calc(var(--control-small-paddingBlock,0.25rem) - 2px);}/*!sc*/
.YkvTm[data-label-wrap="true"][data-size="large"]{height:unset;min-height:var(--control-large-size,2.5rem);padding-inline:var(--control-large-paddingInline-spacious,1rem);}/*!sc*/
.YkvTm[data-label-wrap="true"][data-size="large"] [data-component="buttonContent"]{padding-block:calc(var(--control-large-paddingBlock,0.625rem) - 2px);}/*!sc*/
.YkvTm[data-inactive]:not([disabled]){background-color:var(--button-inactive-bgColor,var(--button-inactive-bgColor-rest,var(--color-btn-inactive-bg,#eaeef2)));border-color:var(--button-inactive-bgColor,var(--button-inactive-bgColor-rest,var(--color-btn-inactive-bg,#eaeef2)));color:var(--button-inactive-fgColor,var(--button-inactive-fgColor-rest,var(--color-btn-inactive-text,#57606a)));}/*!sc*/
.YkvTm[data-inactive]:not([disabled]):focus-visible{box-shadow:none;}/*!sc*/
.YkvTm [data-component="leadingVisual"]{grid-area:leadingVisual;}/*!sc*/
.YkvTm [data-component="text"]{grid-area:text;line-height:calc(20/14);white-space:nowrap;}/*!sc*/
.YkvTm [data-component="trailingVisual"]{grid-area:trailingVisual;}/*!sc*/
.YkvTm [data-component="trailingAction"]{margin-right:-4px;}/*!sc*/
.YkvTm [data-component="buttonContent"]{-webkit-flex:1 0 auto;-ms-flex:1 0 auto;flex:1 0 auto;display:grid;grid-template-areas:"leadingVisual text trailingVisual";grid-template-columns:min-content minmax(0,auto) min-content;-webkit-align-items:center;-webkit-box-align:center;-ms-flex-align:center;align-items:center;-webkit-align-content:center;-ms-flex-line-pack:center;align-content:center;}/*!sc*/
.YkvTm [data-component="buttonContent"] > :not(:last-child){margin-right:8px;}/*!sc*/
.YkvTm [data-component="loadingSpinner"]{grid-area:text;margin-right:0px !important;place-self:center;}/*!sc*/
.YkvTm [data-component="loadingSpinner"] + [data-component="text"]{visibility:hidden;}/*!sc*/
.YkvTm:hover:not([disabled]):not([data-inactive]){background-color:var(--button-default-bgColor-hover,var(--color-btn-hover-bg,#f3f4f6));border-color:var(--button-default-borderColor-hover,var(--button-default-borderColor-hover,var(--color-btn-hover-border,rgba(31,35,40,0.15))));}/*!sc*/
.YkvTm:active:not([disabled]):not([data-inactive]){background-color:var(--button-default-bgColor-active,var(--color-btn-active-bg,hsla(220,14%,93%,1)));border-color:var(--button-default-borderColor-active,var(--button-default-borderColor-active,var(--color-btn-active-border,rgba(31,35,40,0.15))));}/*!sc*/
.YkvTm[aria-expanded=true]{background-color:var(--button-default-bgColor-active,var(--color-btn-active-bg,hsla(220,14%,93%,1)));border-color:var(--button-default-borderColor-active,var(--button-default-borderColor-active,var(--color-btn-active-border,rgba(31,35,40,0.15))));}/*!sc*/
.YkvTm [data-component="leadingVisual"],.YkvTm [data-component="trailingVisual"],.YkvTm [data-component="trailingAction"]{color:var(--button-color,var(--fgColor-muted,var(--color-fg-muted,#656d76)));}/*!sc*/
.YkvTm[data-component="IconButton"][data-no-visuals]{color:var(--fgColor-muted,var(--color-fg-muted,#656d76));}/*!sc*/
.YkvTm[data-no-visuals]{color:var(--fgColor-muted,var(--color-fg-subtle,#6e7781));border-top-right-radius:0;border-bottom-right-radius:0;border-right:0;}/*!sc*/
.klDWQA{border-radius:6px;border:1px solid;border-color:var(--button-default-borderColor-rest,var(--button-default-borderColor-rest,var(--color-btn-border,rgba(31,35,40,0.15))));font-family:inherit;font-weight:500;font-size:14px;cursor:pointer;-webkit-appearance:none;-moz-appearance:none;appearance:none;-webkit-user-select:none;-moz-user-select:none;-ms-user-select:none;user-select:none;-webkit-text-decoration:none;text-decoration:none;text-align:center;display:-webkit-box;display:-webkit-flex;display:-ms-flexbox;display:flex;-webkit-align-items:center;-webkit-box-align:center;-ms-flex-align:center;align-items:center;-webkit-box-pack:justify;-webkit-justify-content:space-between;-ms-flex-pack:justify;justify-content:space-between;height:32px;padding:0 12px;gap:8px;min-width:-webkit-max-content;min-width:-moz-max-content;min-width:max-content;-webkit-transition:80ms cubic-bezier(0.65,0,0.35,1);transition:80ms cubic-bezier(0.65,0,0.35,1);-webkit-transition-property:color,fill,background-color,border-color;transition-property:color,fill,background-color,border-color;color:var(--button-default-fgColor-rest,var(--color-btn-text,#24292f));background-color:var(--button-default-bgColor-rest,var(--color-btn-bg,#f6f8fa));box-shadow:var(--button-default-shadow-resting,var(--color-btn-shadow,0 1px 0 rgba(31,35,40,0.04))),var(--button-default-shadow-inset,var(--color-btn-inset-shadow,inset 0 1px 0 rgba(255,255,255,0.25)));}/*!sc*/
.klDWQA:focus:not(:disabled){box-shadow:none;outline:2px solid var(--fgColor-accent,var(--color-accent-fg,#0969da));outline-offset:-2px;}/*!sc*/
.klDWQA:focus:not(:disabled):not(:focus-visible){outline:solid 1px transparent;}/*!sc*/
.klDWQA:focus-visible:not(:disabled){box-shadow:none;outline:2px solid var(--fgColor-accent,var(--color-accent-fg,#0969da));outline-offset:-2px;}/*!sc*/
.klDWQA[href]{display:-webkit-inline-box;display:-webkit-inline-flex;display:-ms-inline-flexbox;display:inline-flex;}/*!sc*/
.klDWQA[href]:hover{-webkit-text-decoration:none;text-decoration:none;}/*!sc*/
.klDWQA:hover{-webkit-transition-duration:80ms;transition-duration:80ms;}/*!sc*/
.klDWQA:active{-webkit-transition:none;transition:none;}/*!sc*/
.klDWQA[data-inactive]{cursor:auto;}/*!sc*/
.klDWQA:disabled{cursor:not-allowed;box-shadow:none;color:var(--fgColor-disabled,var(--color-primer-fg-disabled,#8c959f));border-color:var(--button-default-borderColor-disabled,var(--button-default-borderColor-rest,var(--color-btn-border,rgba(31,35,40,0.15))));background-color:var(--button-default-bgColor-disabled,var(--control-bgColor-disabled,var(--color-input-disabled-bg,rgba(175,184,193,0.2))));}/*!sc*/
.klDWQA:disabled [data-component=ButtonCounter]{color:inherit;}/*!sc*/
@media (forced-colors:active){.klDWQA:focus{outline:solid 1px transparent;}}/*!sc*/
.klDWQA [data-component=ButtonCounter]{font-size:12px;background-color:var(--buttonCounter-default-bgColor-rest,var(--color-btn-counter-bg,rgba(31,35,40,0.08)));}/*!sc*/
.klDWQA[data-component=IconButton]{display:inline-grid;padding:unset;place-content:center;width:32px;min-width:unset;}/*!sc*/
.klDWQA[data-size="small"]{padding:0 8px;height:28px;gap:4px;font-size:12px;}/*!sc*/
.klDWQA[data-size="small"] [data-component="text"]{line-height:calc(20 / 12);}/*!sc*/
.klDWQA[data-size="small"] [data-component=ButtonCounter]{font-size:12px;}/*!sc*/
.klDWQA[data-size="small"] [data-component="buttonContent"] > :not(:last-child){margin-right:4px;}/*!sc*/
.klDWQA[data-size="small"][data-component=IconButton]{width:28px;padding:unset;}/*!sc*/
.klDWQA[data-size="large"]{padding:0 16px;height:40px;gap:8px;}/*!sc*/
.klDWQA[data-size="large"] [data-component="buttonContent"] > :not(:last-child){margin-right:8px;}/*!sc*/
.klDWQA[data-size="large"][data-component=IconButton]{width:40px;padding:unset;}/*!sc*/
.klDWQA[data-block="block"]{width:100%;}/*!sc*/
.klDWQA[data-label-wrap="true"]{min-width:-webkit-fit-content;min-width:-moz-fit-content;min-width:fit-content;height:unset;min-height:var(--control-medium-size,2rem);}/*!sc*/
.klDWQA[data-label-wrap="true"] [data-component="buttonContent"]{-webkit-flex:1 1 auto;-ms-flex:1 1 auto;flex:1 1 auto;-webkit-align-self:stretch;-ms-flex-item-align:stretch;align-self:stretch;padding-block:calc(var(--control-medium-paddingBlock,0.375rem) - 2px);}/*!sc*/
.klDWQA[data-label-wrap="true"] [data-component="text"]{white-space:unset;word-break:break-word;}/*!sc*/
.klDWQA[data-label-wrap="true"][data-size="small"]{height:unset;min-height:var(--control-small-size,1.75rem);}/*!sc*/
.klDWQA[data-label-wrap="true"][data-size="small"] [data-component="buttonContent"]{padding-block:calc(var(--control-small-paddingBlock,0.25rem) - 2px);}/*!sc*/
.klDWQA[data-label-wrap="true"][data-size="large"]{height:unset;min-height:var(--control-large-size,2.5rem);padding-inline:var(--control-large-paddingInline-spacious,1rem);}/*!sc*/
.klDWQA[data-label-wrap="true"][data-size="large"] [data-component="buttonContent"]{padding-block:calc(var(--control-large-paddingBlock,0.625rem) - 2px);}/*!sc*/
.klDWQA[data-inactive]:not([disabled]){background-color:var(--button-inactive-bgColor,var(--button-inactive-bgColor-rest,var(--color-btn-inactive-bg,#eaeef2)));border-color:var(--button-inactive-bgColor,var(--button-inactive-bgColor-rest,var(--color-btn-inactive-bg,#eaeef2)));color:var(--button-inactive-fgColor,var(--button-inactive-fgColor-rest,var(--color-btn-inactive-text,#57606a)));}/*!sc*/
.klDWQA[data-inactive]:not([disabled]):focus-visible{box-shadow:none;}/*!sc*/
.klDWQA [data-component="leadingVisual"]{grid-area:leadingVisual;}/*!sc*/
.klDWQA [data-component="text"]{grid-area:text;line-height:calc(20/14);white-space:nowrap;}/*!sc*/
.klDWQA [data-component="trailingVisual"]{grid-area:trailingVisual;}/*!sc*/
.klDWQA [data-component="trailingAction"]{margin-right:-4px;}/*!sc*/
.klDWQA [data-component="buttonContent"]{-webkit-flex:1 0 auto;-ms-flex:1 0 auto;flex:1 0 auto;display:grid;grid-template-areas:"leadingVisual text trailingVisual";grid-template-columns:min-content minmax(0,auto) min-content;-webkit-align-items:center;-webkit-box-align:center;-ms-flex-align:center;align-items:center;-webkit-align-content:center;-ms-flex-line-pack:center;align-content:center;}/*!sc*/
.klDWQA [data-component="buttonContent"] > :not(:last-child){margin-right:8px;}/*!sc*/
.klDWQA [data-component="loadingSpinner"]{grid-area:text;margin-right:0px !important;place-self:center;}/*!sc*/
.klDWQA [data-component="loadingSpinner"] + [data-component="text"]{visibility:hidden;}/*!sc*/
.klDWQA:hover:not([disabled]):not([data-inactive]){background-color:var(--button-default-bgColor-hover,var(--color-btn-hover-bg,#f3f4f6));border-color:var(--button-default-borderColor-hover,var(--button-default-borderColor-hover,var(--color-btn-hover-border,rgba(31,35,40,0.15))));}/*!sc*/
.klDWQA:active:not([disabled]):not([data-inactive]){background-color:var(--button-default-bgColor-active,var(--color-btn-active-bg,hsla(220,14%,93%,1)));border-color:var(--button-default-borderColor-active,var(--button-default-borderColor-active,var(--color-btn-active-border,rgba(31,35,40,0.15))));}/*!sc*/
.klDWQA[aria-expanded=true]{background-color:var(--button-default-bgColor-active,var(--color-btn-active-bg,hsla(220,14%,93%,1)));border-color:var(--button-default-borderColor-active,var(--button-default-borderColor-active,var(--color-btn-active-border,rgba(31,35,40,0.15))));}/*!sc*/
.klDWQA [data-component="leadingVisual"],.klDWQA [data-component="trailingVisual"],.klDWQA [data-component="trailingAction"]{color:var(--button-color,var(--fgColor-muted,var(--color-fg-muted,#656d76)));}/*!sc*/
.klDWQA[data-component="IconButton"][data-no-visuals]{color:var(--fgColor-muted,var(--color-fg-muted,#656d76));}/*!sc*/
.klDWQA[data-no-visuals]{color:var(--fgColor-muted,var(--color-fg-subtle,#6e7781));font-size:14px;font-weight:400;-webkit-flex-shrink:0;-ms-flex-negative:0;flex-shrink:0;border-top-left-radius:0;border-bottom-left-radius:0;}/*!sc*/
.emYRmJ{border-radius:6px;border:1px solid;border-color:transparent;font-family:inherit;font-weight:500;font-size:14px;cursor:pointer;-webkit-appearance:none;-moz-appearance:none;appearance:none;-webkit-user-select:none;-moz-user-select:none;-ms-user-select:none;user-select:none;-webkit-text-decoration:none;text-decoration:none;text-align:center;display:-webkit-box;display:-webkit-flex;display:-ms-flexbox;display:flex;-webkit-align-items:center;-webkit-box-align:center;-ms-flex-align:center;align-items:center;-webkit-box-pack:justify;-webkit-justify-content:space-between;-ms-flex-pack:justify;justify-content:space-between;height:32px;padding:0 12px;gap:8px;min-width:-webkit-max-content;min-width:-moz-max-content;min-width:max-content;-webkit-transition:80ms cubic-bezier(0.65,0,0.35,1);transition:80ms cubic-bezier(0.65,0,0.35,1);-webkit-transition-property:color,fill,background-color,border-color;transition-property:color,fill,background-color,border-color;color:var(--button-default-fgColor-rest,var(--color-btn-text,#24292f));background-color:transparent;box-shadow:none;}/*!sc*/
.emYRmJ:focus:not(:disabled){box-shadow:none;outline:2px solid var(--fgColor-accent,var(--color-accent-fg,#0969da));outline-offset:-2px;}/*!sc*/
.emYRmJ:focus:not(:disabled):not(:focus-visible){outline:solid 1px transparent;}/*!sc*/
.emYRmJ:focus-visible:not(:disabled){box-shadow:none;outline:2px solid var(--fgColor-accent,var(--color-accent-fg,#0969da));outline-offset:-2px;}/*!sc*/
.emYRmJ[href]{display:-webkit-inline-box;display:-webkit-inline-flex;display:-ms-inline-flexbox;display:inline-flex;}/*!sc*/
.emYRmJ[href]:hover{-webkit-text-decoration:none;text-decoration:none;}/*!sc*/
.emYRmJ:hover{-webkit-transition-duration:80ms;transition-duration:80ms;}/*!sc*/
.emYRmJ:active{-webkit-transition:none;transition:none;}/*!sc*/
.emYRmJ[data-inactive]{cursor:auto;}/*!sc*/
.emYRmJ:disabled{cursor:not-allowed;box-shadow:none;color:var(--fgColor-disabled,var(--color-primer-fg-disabled,#8c959f));}/*!sc*/
.emYRmJ:disabled [data-component=ButtonCounter],.emYRmJ:disabled [data-component="leadingVisual"],.emYRmJ:disabled [data-component="trailingAction"]{color:inherit;}/*!sc*/
@media (forced-colors:active){.emYRmJ:focus{outline:solid 1px transparent;}}/*!sc*/
.emYRmJ [data-component=ButtonCounter]{font-size:12px;}/*!sc*/
.emYRmJ[data-component=IconButton]{display:inline-grid;padding:unset;place-content:center;width:32px;min-width:unset;}/*!sc*/
.emYRmJ[data-size="small"]{padding:0 8px;height:28px;gap:4px;font-size:12px;}/*!sc*/
.emYRmJ[data-size="small"] [data-component="text"]{line-height:calc(20 / 12);}/*!sc*/
.emYRmJ[data-size="small"] [data-component=ButtonCounter]{font-size:12px;}/*!sc*/
.emYRmJ[data-size="small"] [data-component="buttonContent"] > :not(:last-child){margin-right:4px;}/*!sc*/
.emYRmJ[data-size="small"][data-component=IconButton]{width:28px;padding:unset;}/*!sc*/
.emYRmJ[data-size="large"]{padding:0 16px;height:40px;gap:8px;}/*!sc*/
.emYRmJ[data-size="large"] [data-component="buttonContent"] > :not(:last-child){margin-right:8px;}/*!sc*/
.emYRmJ[data-size="large"][data-component=IconButton]{width:40px;padding:unset;}/*!sc*/
.emYRmJ[data-block="block"]{width:100%;}/*!sc*/
.emYRmJ[data-label-wrap="true"]{min-width:-webkit-fit-content;min-width:-moz-fit-content;min-width:fit-content;height:unset;min-height:var(--control-medium-size,2rem);}/*!sc*/
.emYRmJ[data-label-wrap="true"] [data-component="buttonContent"]{-webkit-flex:1 1 auto;-ms-flex:1 1 auto;flex:1 1 auto;-webkit-align-self:stretch;-ms-flex-item-align:stretch;align-self:stretch;padding-block:calc(var(--control-medium-paddingBlock,0.375rem) - 2px);}/*!sc*/
.emYRmJ[data-label-wrap="true"] [data-component="text"]{white-space:unset;word-break:break-word;}/*!sc*/
.emYRmJ[data-label-wrap="true"][data-size="small"]{height:unset;min-height:var(--control-small-size,1.75rem);}/*!sc*/
.emYRmJ[data-label-wrap="true"][data-size="small"] [data-component="buttonContent"]{padding-block:calc(var(--control-small-paddingBlock,0.25rem) - 2px);}/*!sc*/
.emYRmJ[data-label-wrap="true"][data-size="large"]{height:unset;min-height:var(--control-large-size,2.5rem);padding-inline:var(--control-large-paddingInline-spacious,1rem);}/*!sc*/
.emYRmJ[data-label-wrap="true"][data-size="large"] [data-component="buttonContent"]{padding-block:calc(var(--control-large-paddingBlock,0.625rem) - 2px);}/*!sc*/
.emYRmJ[data-inactive]:not([disabled]){background-color:var(--button-inactive-bgColor,var(--button-inactive-bgColor-rest,var(--color-btn-inactive-bg,#eaeef2)));border-color:var(--button-inactive-bgColor,var(--button-inactive-bgColor-rest,var(--color-btn-inactive-bg,#eaeef2)));color:var(--button-inactive-fgColor,var(--button-inactive-fgColor-rest,var(--color-btn-inactive-text,#57606a)));}/*!sc*/
.emYRmJ[data-inactive]:not([disabled]):focus-visible{box-shadow:none;}/*!sc*/
.emYRmJ [data-component="leadingVisual"]{grid-area:leadingVisual;color:var(--fgColor-muted,var(--color-fg-muted,#656d76));}/*!sc*/
.emYRmJ [data-component="text"]{grid-area:text;line-height:calc(20/14);white-space:nowrap;}/*!sc*/
.emYRmJ [data-component="trailingVisual"]{grid-area:trailingVisual;}/*!sc*/
.emYRmJ [data-component="trailingAction"]{margin-right:-4px;color:var(--fgColor-muted,var(--color-fg-muted,#656d76));}/*!sc*/
.emYRmJ [data-component="buttonContent"]{-webkit-flex:1 0 auto;-ms-flex:1 0 auto;flex:1 0 auto;display:grid;grid-template-areas:"leadingVisual text trailingVisual";grid-template-columns:min-content minmax(0,auto) min-content;-webkit-align-items:center;-webkit-box-align:center;-ms-flex-align:center;align-items:center;-webkit-align-content:center;-ms-flex-line-pack:center;align-content:center;}/*!sc*/
.emYRmJ [data-component="buttonContent"] > :not(:last-child){margin-right:8px;}/*!sc*/
.emYRmJ [data-component="loadingSpinner"]{grid-area:text;margin-right:0px !important;place-self:center;}/*!sc*/
.emYRmJ [data-component="loadingSpinner"] + [data-component="text"]{visibility:hidden;}/*!sc*/
.emYRmJ:hover:not([disabled]){background-color:var(--control-transparent-bgColor-hover,var(--color-action-list-item-default-hover-bg,rgba(208,215,222,0.32)));}/*!sc*/
.emYRmJ:active:not([disabled]){background-color:var(--control-transparent-bgColor-active,var(--color-action-list-item-default-active-bg,rgba(208,215,222,0.48)));}/*!sc*/
.emYRmJ[aria-expanded=true]{background-color:var(--control-transparent-bgColor-selected,var(--color-action-list-item-default-selected-bg,rgba(208,215,222,0.24)));}/*!sc*/
.emYRmJ[data-component="IconButton"][data-no-visuals]{color:var(--fgColor-muted,var(--color-fg-muted,#656d76));}/*!sc*/
.emYRmJ[data-no-visuals]{color:var(--fgColor-accent,var(--color-accent-fg,#0969da));}/*!sc*/
.emYRmJ:has([data-component="ButtonCounter"]){color:var(--button-default-fgColor-rest,var(--color-btn-text,#24292f));}/*!sc*/
.emYRmJ:disabled[data-no-visuals]{color:var(--fgColor-disabled,var(--color-primer-fg-disabled,#8c959f));}/*!sc*/
.emYRmJ:disabled[data-no-visuals] [data-component=ButtonCounter]{color:inherit;}/*!sc*/
.jFcVkf{border-radius:6px;border:1px solid;border-color:var(--button-default-borderColor-rest,var(--button-default-borderColor-rest,var(--color-btn-border,rgba(31,35,40,0.15))));font-family:inherit;font-weight:500;font-size:14px;cursor:pointer;-webkit-appearance:none;-moz-appearance:none;appearance:none;-webkit-user-select:none;-moz-user-select:none;-ms-user-select:none;user-select:none;-webkit-text-decoration:none;text-decoration:none;text-align:center;display:-webkit-box;display:-webkit-flex;display:-ms-flexbox;display:flex;-webkit-align-items:center;-webkit-box-align:center;-ms-flex-align:center;align-items:center;-webkit-box-pack:justify;-webkit-justify-content:space-between;-ms-flex-pack:justify;justify-content:space-between;height:32px;padding:0 12px;gap:8px;min-width:-webkit-max-content;min-width:-moz-max-content;min-width:max-content;-webkit-transition:80ms cubic-bezier(0.65,0,0.35,1);transition:80ms cubic-bezier(0.65,0,0.35,1);-webkit-transition-property:color,fill,background-color,border-color;transition-property:color,fill,background-color,border-color;color:var(--button-default-fgColor-rest,var(--color-btn-text,#24292f));background-color:var(--button-default-bgColor-rest,var(--color-btn-bg,#f6f8fa));box-shadow:var(--button-default-shadow-resting,var(--color-btn-shadow,0 1px 0 rgba(31,35,40,0.04))),var(--button-default-shadow-inset,var(--color-btn-inset-shadow,inset 0 1px 0 rgba(255,255,255,0.25)));}/*!sc*/
.jFcVkf:focus:not(:disabled){box-shadow:none;outline:2px solid var(--fgColor-accent,var(--color-accent-fg,#0969da));outline-offset:-2px;}/*!sc*/
.jFcVkf:focus:not(:disabled):not(:focus-visible){outline:solid 1px transparent;}/*!sc*/
.jFcVkf:focus-visible:not(:disabled){box-shadow:none;outline:2px solid var(--fgColor-accent,var(--color-accent-fg,#0969da));outline-offset:-2px;}/*!sc*/
.jFcVkf[href]{display:-webkit-inline-box;display:-webkit-inline-flex;display:-ms-inline-flexbox;display:inline-flex;}/*!sc*/
.jFcVkf[href]:hover{-webkit-text-decoration:none;text-decoration:none;}/*!sc*/
.jFcVkf:hover{-webkit-transition-duration:80ms;transition-duration:80ms;}/*!sc*/
.jFcVkf:active{-webkit-transition:none;transition:none;}/*!sc*/
.jFcVkf[data-inactive]{cursor:auto;}/*!sc*/
.jFcVkf:disabled{cursor:not-allowed;box-shadow:none;color:var(--fgColor-disabled,var(--color-primer-fg-disabled,#8c959f));border-color:var(--button-default-borderColor-disabled,var(--button-default-borderColor-rest,var(--color-btn-border,rgba(31,35,40,0.15))));background-color:var(--button-default-bgColor-disabled,var(--control-bgColor-disabled,var(--color-input-disabled-bg,rgba(175,184,193,0.2))));}/*!sc*/
.jFcVkf:disabled [data-component=ButtonCounter]{color:inherit;}/*!sc*/
@media (forced-colors:active){.jFcVkf:focus{outline:solid 1px transparent;}}/*!sc*/
.jFcVkf [data-component=ButtonCounter]{font-size:12px;background-color:var(--buttonCounter-default-bgColor-rest,var(--color-btn-counter-bg,rgba(31,35,40,0.08)));}/*!sc*/
.jFcVkf[data-component=IconButton]{display:inline-grid;padding:unset;place-content:center;width:32px;min-width:unset;}/*!sc*/
.jFcVkf[data-size="small"]{padding:0 8px;height:28px;gap:4px;font-size:12px;}/*!sc*/
.jFcVkf[data-size="small"] [data-component="text"]{line-height:calc(20 / 12);}/*!sc*/
.jFcVkf[data-size="small"] [data-component=ButtonCounter]{font-size:12px;}/*!sc*/
.jFcVkf[data-size="small"] [data-component="buttonContent"] > :not(:last-child){margin-right:4px;}/*!sc*/
.jFcVkf[data-size="small"][data-component=IconButton]{width:28px;padding:unset;}/*!sc*/
.jFcVkf[data-size="large"]{padding:0 16px;height:40px;gap:8px;}/*!sc*/
.jFcVkf[data-size="large"] [data-component="buttonContent"] > :not(:last-child){margin-right:8px;}/*!sc*/
.jFcVkf[data-size="large"][data-component=IconButton]{width:40px;padding:unset;}/*!sc*/
.jFcVkf[data-block="block"]{width:100%;}/*!sc*/
.jFcVkf[data-label-wrap="true"]{min-width:-webkit-fit-content;min-width:-moz-fit-content;min-width:fit-content;height:unset;min-height:var(--control-medium-size,2rem);}/*!sc*/
.jFcVkf[data-label-wrap="true"] [data-component="buttonContent"]{-webkit-flex:1 1 auto;-ms-flex:1 1 auto;flex:1 1 auto;-webkit-align-self:stretch;-ms-flex-item-align:stretch;align-self:stretch;padding-block:calc(var(--control-medium-paddingBlock,0.375rem) - 2px);}/*!sc*/
.jFcVkf[data-label-wrap="true"] [data-component="text"]{white-space:unset;word-break:break-word;}/*!sc*/
.jFcVkf[data-label-wrap="true"][data-size="small"]{height:unset;min-height:var(--control-small-size,1.75rem);}/*!sc*/
.jFcVkf[data-label-wrap="true"][data-size="small"] [data-component="buttonContent"]{padding-block:calc(var(--control-small-paddingBlock,0.25rem) - 2px);}/*!sc*/
.jFcVkf[data-label-wrap="true"][data-size="large"]{height:unset;min-height:var(--control-large-size,2.5rem);padding-inline:var(--control-large-paddingInline-spacious,1rem);}/*!sc*/
.jFcVkf[data-label-wrap="true"][data-size="large"] [data-component="buttonContent"]{padding-block:calc(var(--control-large-paddingBlock,0.625rem) - 2px);}/*!sc*/
.jFcVkf[data-inactive]:not([disabled]){background-color:var(--button-inactive-bgColor,var(--button-inactive-bgColor-rest,var(--color-btn-inactive-bg,#eaeef2)));border-color:var(--button-inactive-bgColor,var(--button-inactive-bgColor-rest,var(--color-btn-inactive-bg,#eaeef2)));color:var(--button-inactive-fgColor,var(--button-inactive-fgColor-rest,var(--color-btn-inactive-text,#57606a)));}/*!sc*/
.jFcVkf[data-inactive]:not([disabled]):focus-visible{box-shadow:none;}/*!sc*/
.jFcVkf [data-component="leadingVisual"]{grid-area:leadingVisual;}/*!sc*/
.jFcVkf [data-component="text"]{grid-area:text;line-height:calc(20/14);white-space:nowrap;}/*!sc*/
.jFcVkf [data-component="trailingVisual"]{grid-area:trailingVisual;}/*!sc*/
.jFcVkf [data-component="trailingAction"]{margin-right:-4px;}/*!sc*/
.jFcVkf [data-component="buttonContent"]{-webkit-flex:1 0 auto;-ms-flex:1 0 auto;flex:1 0 auto;display:grid;grid-template-areas:"leadingVisual text trailingVisual";grid-template-columns:min-content minmax(0,auto) min-content;-webkit-align-items:center;-webkit-box-align:center;-ms-flex-align:center;align-items:center;-webkit-align-content:center;-ms-flex-line-pack:center;align-content:center;}/*!sc*/
.jFcVkf [data-component="buttonContent"] > :not(:last-child){margin-right:8px;}/*!sc*/
.jFcVkf [data-component="loadingSpinner"]{grid-area:text;margin-right:0px !important;place-self:center;}/*!sc*/
.jFcVkf [data-component="loadingSpinner"] + [data-component="text"]{visibility:hidden;}/*!sc*/
.jFcVkf:hover:not([disabled]):not([data-inactive]){background-color:var(--button-default-bgColor-hover,var(--color-btn-hover-bg,#f3f4f6));border-color:var(--button-default-borderColor-hover,var(--button-default-borderColor-hover,var(--color-btn-hover-border,rgba(31,35,40,0.15))));}/*!sc*/
.jFcVkf:active:not([disabled]):not([data-inactive]){background-color:var(--button-default-bgColor-active,var(--color-btn-active-bg,hsla(220,14%,93%,1)));border-color:var(--button-default-borderColor-active,var(--button-default-borderColor-active,var(--color-btn-active-border,rgba(31,35,40,0.15))));}/*!sc*/
.jFcVkf[aria-expanded=true]{background-color:var(--button-default-bgColor-active,var(--color-btn-active-bg,hsla(220,14%,93%,1)));border-color:var(--button-default-borderColor-active,var(--button-default-borderColor-active,var(--color-btn-active-border,rgba(31,35,40,0.15))));}/*!sc*/
.jFcVkf [data-component="leadingVisual"],.jFcVkf [data-component="trailingVisual"],.jFcVkf [data-component="trailingAction"]{color:var(--button-color,var(--fgColor-muted,var(--color-fg-muted,#656d76)));}/*!sc*/
.jFcVkf[data-component="IconButton"][data-no-visuals]{color:var(--fgColor-muted,var(--color-fg-muted,#656d76));}/*!sc*/
.jFcVkf[data-no-visuals]{border-top-left-radius:0;border-bottom-left-radius:0;display:none;}/*!sc*/
.kuXPuQ{border-radius:6px;border:1px solid;border-color:var(--button-default-borderColor-rest,var(--button-default-borderColor-rest,var(--color-btn-border,rgba(31,35,40,0.15))));font-family:inherit;font-weight:500;font-size:14px;cursor:pointer;-webkit-appearance:none;-moz-appearance:none;appearance:none;-webkit-user-select:none;-moz-user-select:none;-ms-user-select:none;user-select:none;-webkit-text-decoration:none;text-decoration:none;text-align:center;display:-webkit-box;display:-webkit-flex;display:-ms-flexbox;display:flex;-webkit-align-items:center;-webkit-box-align:center;-ms-flex-align:center;align-items:center;-webkit-box-pack:justify;-webkit-justify-content:space-between;-ms-flex-pack:justify;justify-content:space-between;height:32px;padding:0 12px;gap:8px;min-width:-webkit-max-content;min-width:-moz-max-content;min-width:max-content;-webkit-transition:80ms cubic-bezier(0.65,0,0.35,1);transition:80ms cubic-bezier(0.65,0,0.35,1);-webkit-transition-property:color,fill,background-color,border-color;transition-property:color,fill,background-color,border-color;color:var(--button-default-fgColor-rest,var(--color-btn-text,#24292f));background-color:var(--button-default-bgColor-rest,var(--color-btn-bg,#f6f8fa));box-shadow:var(--button-default-shadow-resting,var(--color-btn-shadow,0 1px 0 rgba(31,35,40,0.04))),var(--button-default-shadow-inset,var(--color-btn-inset-shadow,inset 0 1px 0 rgba(255,255,255,0.25)));}/*!sc*/
.kuXPuQ:focus:not(:disabled){box-shadow:none;outline:2px solid var(--fgColor-accent,var(--color-accent-fg,#0969da));outline-offset:-2px;}/*!sc*/
.kuXPuQ:focus:not(:disabled):not(:focus-visible){outline:solid 1px transparent;}/*!sc*/
.kuXPuQ:focus-visible:not(:disabled){box-shadow:none;outline:2px solid var(--fgColor-accent,var(--color-accent-fg,#0969da));outline-offset:-2px;}/*!sc*/
.kuXPuQ[href]{display:-webkit-inline-box;display:-webkit-inline-flex;display:-ms-inline-flexbox;display:inline-flex;}/*!sc*/
.kuXPuQ[href]:hover{-webkit-text-decoration:none;text-decoration:none;}/*!sc*/
.kuXPuQ:hover{-webkit-transition-duration:80ms;transition-duration:80ms;}/*!sc*/
.kuXPuQ:active{-webkit-transition:none;transition:none;}/*!sc*/
.kuXPuQ[data-inactive]{cursor:auto;}/*!sc*/
.kuXPuQ:disabled{cursor:not-allowed;box-shadow:none;color:var(--fgColor-disabled,var(--color-primer-fg-disabled,#8c959f));border-color:var(--button-default-borderColor-disabled,var(--button-default-borderColor-rest,var(--color-btn-border,rgba(31,35,40,0.15))));background-color:var(--button-default-bgColor-disabled,var(--control-bgColor-disabled,var(--color-input-disabled-bg,rgba(175,184,193,0.2))));}/*!sc*/
.kuXPuQ:disabled [data-component=ButtonCounter]{color:inherit;}/*!sc*/
@media (forced-colors:active){.kuXPuQ:focus{outline:solid 1px transparent;}}/*!sc*/
.kuXPuQ [data-component=ButtonCounter]{font-size:12px;background-color:var(--buttonCounter-default-bgColor-rest,var(--color-btn-counter-bg,rgba(31,35,40,0.08)));}/*!sc*/
.kuXPuQ[data-component=IconButton]{display:inline-grid;padding:unset;place-content:center;width:32px;min-width:unset;}/*!sc*/
.kuXPuQ[data-size="small"]{padding:0 8px;height:28px;gap:4px;font-size:12px;}/*!sc*/
.kuXPuQ[data-size="small"] [data-component="text"]{line-height:calc(20 / 12);}/*!sc*/
.kuXPuQ[data-size="small"] [data-component=ButtonCounter]{font-size:12px;}/*!sc*/
.kuXPuQ[data-size="small"] [data-component="buttonContent"] > :not(:last-child){margin-right:4px;}/*!sc*/
.kuXPuQ[data-size="small"][data-component=IconButton]{width:28px;padding:unset;}/*!sc*/
.kuXPuQ[data-size="large"]{padding:0 16px;height:40px;gap:8px;}/*!sc*/
.kuXPuQ[data-size="large"] [data-component="buttonContent"] > :not(:last-child){margin-right:8px;}/*!sc*/
.kuXPuQ[data-size="large"][data-component=IconButton]{width:40px;padding:unset;}/*!sc*/
.kuXPuQ[data-block="block"]{width:100%;}/*!sc*/
.kuXPuQ[data-label-wrap="true"]{min-width:-webkit-fit-content;min-width:-moz-fit-content;min-width:fit-content;height:unset;min-height:var(--control-medium-size,2rem);}/*!sc*/
.kuXPuQ[data-label-wrap="true"] [data-component="buttonContent"]{-webkit-flex:1 1 auto;-ms-flex:1 1 auto;flex:1 1 auto;-webkit-align-self:stretch;-ms-flex-item-align:stretch;align-self:stretch;padding-block:calc(var(--control-medium-paddingBlock,0.375rem) - 2px);}/*!sc*/
.kuXPuQ[data-label-wrap="true"] [data-component="text"]{white-space:unset;word-break:break-word;}/*!sc*/
.kuXPuQ[data-label-wrap="true"][data-size="small"]{height:unset;min-height:var(--control-small-size,1.75rem);}/*!sc*/
.kuXPuQ[data-label-wrap="true"][data-size="small"] [data-component="buttonContent"]{padding-block:calc(var(--control-small-paddingBlock,0.25rem) - 2px);}/*!sc*/
.kuXPuQ[data-label-wrap="true"][data-size="large"]{height:unset;min-height:var(--control-large-size,2.5rem);padding-inline:var(--control-large-paddingInline-spacious,1rem);}/*!sc*/
.kuXPuQ[data-label-wrap="true"][data-size="large"] [data-component="buttonContent"]{padding-block:calc(var(--control-large-paddingBlock,0.625rem) - 2px);}/*!sc*/
.kuXPuQ[data-inactive]:not([disabled]){background-color:var(--button-inactive-bgColor,var(--button-inactive-bgColor-rest,var(--color-btn-inactive-bg,#eaeef2)));border-color:var(--button-inactive-bgColor,var(--button-inactive-bgColor-rest,var(--color-btn-inactive-bg,#eaeef2)));color:var(--button-inactive-fgColor,var(--button-inactive-fgColor-rest,var(--color-btn-inactive-text,#57606a)));}/*!sc*/
.kuXPuQ[data-inactive]:not([disabled]):focus-visible{box-shadow:none;}/*!sc*/
.kuXPuQ [data-component="leadingVisual"]{grid-area:leadingVisual;}/*!sc*/
.kuXPuQ [data-component="text"]{grid-area:text;line-height:calc(20/14);white-space:nowrap;}/*!sc*/
.kuXPuQ [data-component="trailingVisual"]{grid-area:trailingVisual;}/*!sc*/
.kuXPuQ [data-component="trailingAction"]{margin-right:-4px;}/*!sc*/
.kuXPuQ [data-component="buttonContent"]{-webkit-flex:1 0 auto;-ms-flex:1 0 auto;flex:1 0 auto;display:grid;grid-template-areas:"leadingVisual text trailingVisual";grid-template-columns:min-content minmax(0,auto) min-content;-webkit-align-items:center;-webkit-box-align:center;-ms-flex-align:center;align-items:center;-webkit-align-content:center;-ms-flex-line-pack:center;align-content:center;}/*!sc*/
.kuXPuQ [data-component="buttonContent"] > :not(:last-child){margin-right:8px;}/*!sc*/
.kuXPuQ [data-component="loadingSpinner"]{grid-area:text;margin-right:0px !important;place-self:center;}/*!sc*/
.kuXPuQ [data-component="loadingSpinner"] + [data-component="text"]{visibility:hidden;}/*!sc*/
.kuXPuQ:hover:not([disabled]):not([data-inactive]){background-color:var(--button-default-bgColor-hover,var(--color-btn-hover-bg,#f3f4f6));border-color:var(--button-default-borderColor-hover,var(--button-default-borderColor-hover,var(--color-btn-hover-border,rgba(31,35,40,0.15))));}/*!sc*/
.kuXPuQ:active:not([disabled]):not([data-inactive]){background-color:var(--button-default-bgColor-active,var(--color-btn-active-bg,hsla(220,14%,93%,1)));border-color:var(--button-default-borderColor-active,var(--button-default-borderColor-active,var(--color-btn-active-border,rgba(31,35,40,0.15))));}/*!sc*/
.kuXPuQ[aria-expanded=true]{background-color:var(--button-default-bgColor-active,var(--color-btn-active-bg,hsla(220,14%,93%,1)));border-color:var(--button-default-borderColor-active,var(--button-default-borderColor-active,var(--color-btn-active-border,rgba(31,35,40,0.15))));}/*!sc*/
.kuXPuQ [data-component="leadingVisual"],.kuXPuQ [data-component="trailingVisual"],.kuXPuQ [data-component="trailingAction"]{color:var(--button-color,var(--fgColor-muted,var(--color-fg-muted,#656d76)));}/*!sc*/
.kuXPuQ[data-component="IconButton"][data-no-visuals]{color:var(--fgColor-muted,var(--color-fg-muted,#656d76));}/*!sc*/
.kuXPuQ[data-no-visuals]{color:var(--fgColor-muted,var(--color-fg-muted,#656d76));}/*!sc*/
.jKgwhU{border-radius:6px;border:1px solid;border-color:transparent;font-family:inherit;font-weight:500;font-size:14px;cursor:pointer;-webkit-appearance:none;-moz-appearance:none;appearance:none;-webkit-user-select:none;-moz-user-select:none;-ms-user-select:none;user-select:none;-webkit-text-decoration:none;text-decoration:none;text-align:center;display:-webkit-box;display:-webkit-flex;display:-ms-flexbox;display:flex;-webkit-align-items:center;-webkit-box-align:center;-ms-flex-align:center;align-items:center;-webkit-box-pack:justify;-webkit-justify-content:space-between;-ms-flex-pack:justify;justify-content:space-between;height:32px;padding:0 12px;gap:8px;min-width:-webkit-max-content;min-width:-moz-max-content;min-width:max-content;-webkit-transition:80ms cubic-bezier(0.65,0,0.35,1);transition:80ms cubic-bezier(0.65,0,0.35,1);-webkit-transition-property:color,fill,background-color,border-color;transition-property:color,fill,background-color,border-color;color:var(--button-default-fgColor-rest,var(--color-btn-text,#24292f));background-color:transparent;box-shadow:none;}/*!sc*/
.jKgwhU:focus:not(:disabled){box-shadow:none;outline:2px solid var(--fgColor-accent,var(--color-accent-fg,#0969da));outline-offset:-2px;}/*!sc*/
.jKgwhU:focus:not(:disabled):not(:focus-visible){outline:solid 1px transparent;}/*!sc*/
.jKgwhU:focus-visible:not(:disabled){box-shadow:none;outline:2px solid var(--fgColor-accent,var(--color-accent-fg,#0969da));outline-offset:-2px;}/*!sc*/
.jKgwhU[href]{display:-webkit-inline-box;display:-webkit-inline-flex;display:-ms-inline-flexbox;display:inline-flex;}/*!sc*/
.jKgwhU[href]:hover{-webkit-text-decoration:none;text-decoration:none;}/*!sc*/
.jKgwhU:hover{-webkit-transition-duration:80ms;transition-duration:80ms;}/*!sc*/
.jKgwhU:active{-webkit-transition:none;transition:none;}/*!sc*/
.jKgwhU[data-inactive]{cursor:auto;}/*!sc*/
.jKgwhU:disabled{cursor:not-allowed;box-shadow:none;color:var(--fgColor-disabled,var(--color-primer-fg-disabled,#8c959f));}/*!sc*/
.jKgwhU:disabled [data-component=ButtonCounter],.jKgwhU:disabled [data-component="leadingVisual"],.jKgwhU:disabled [data-component="trailingAction"]{color:inherit;}/*!sc*/
@media (forced-colors:active){.jKgwhU:focus{outline:solid 1px transparent;}}/*!sc*/
.jKgwhU [data-component=ButtonCounter]{font-size:12px;}/*!sc*/
.jKgwhU[data-component=IconButton]{display:inline-grid;padding:unset;place-content:center;width:32px;min-width:unset;}/*!sc*/
.jKgwhU[data-size="small"]{padding:0 8px;height:28px;gap:4px;font-size:12px;color:var(--fgColor-default,var(--color-fg-default,#1F2328));display:none;}/*!sc*/
.jKgwhU[data-size="small"] [data-component="text"]{line-height:calc(20 / 12);}/*!sc*/
.jKgwhU[data-size="small"] [data-component=ButtonCounter]{font-size:12px;}/*!sc*/
.jKgwhU[data-size="small"] [data-component="buttonContent"] > :not(:last-child){margin-right:4px;}/*!sc*/
.jKgwhU[data-size="small"][data-component=IconButton]{width:28px;padding:unset;}/*!sc*/
@media screen and (min-width:544px){.jKgwhU[data-size="small"]{display:none;}}/*!sc*/
@media screen and (min-width:768px){.jKgwhU[data-size="small"]{display:none;}}/*!sc*/
@media screen and (min-width:1012px){.jKgwhU[data-size="small"]{display:none;}}/*!sc*/
@media screen and (min-width:1280px){.jKgwhU[data-size="small"]{display:block;}}/*!sc*/
.jKgwhU[data-size="large"]{padding:0 16px;height:40px;gap:8px;}/*!sc*/
.jKgwhU[data-size="large"] [data-component="buttonContent"] > :not(:last-child){margin-right:8px;}/*!sc*/
.jKgwhU[data-size="large"][data-component=IconButton]{width:40px;padding:unset;}/*!sc*/
.jKgwhU[data-block="block"]{width:100%;}/*!sc*/
.jKgwhU[data-label-wrap="true"]{min-width:-webkit-fit-content;min-width:-moz-fit-content;min-width:fit-content;height:unset;min-height:var(--control-medium-size,2rem);}/*!sc*/
.jKgwhU[data-label-wrap="true"] [data-component="buttonContent"]{-webkit-flex:1 1 auto;-ms-flex:1 1 auto;flex:1 1 auto;-webkit-align-self:stretch;-ms-flex-item-align:stretch;align-self:stretch;padding-block:calc(var(--control-medium-paddingBlock,0.375rem) - 2px);}/*!sc*/
.jKgwhU[data-label-wrap="true"] [data-component="text"]{white-space:unset;word-break:break-word;}/*!sc*/
.jKgwhU[data-label-wrap="true"][data-size="small"]{height:unset;min-height:var(--control-small-size,1.75rem);}/*!sc*/
.jKgwhU[data-label-wrap="true"][data-size="small"] [data-component="buttonContent"]{padding-block:calc(var(--control-small-paddingBlock,0.25rem) - 2px);}/*!sc*/
.jKgwhU[data-label-wrap="true"][data-size="large"]{height:unset;min-height:var(--control-large-size,2.5rem);padding-inline:var(--control-large-paddingInline-spacious,1rem);}/*!sc*/
.jKgwhU[data-label-wrap="true"][data-size="large"] [data-component="buttonContent"]{padding-block:calc(var(--control-large-paddingBlock,0.625rem) - 2px);}/*!sc*/
.jKgwhU[data-inactive]:not([disabled]){background-color:var(--button-inactive-bgColor,var(--button-inactive-bgColor-rest,var(--color-btn-inactive-bg,#eaeef2)));border-color:var(--button-inactive-bgColor,var(--button-inactive-bgColor-rest,var(--color-btn-inactive-bg,#eaeef2)));color:var(--button-inactive-fgColor,var(--button-inactive-fgColor-rest,var(--color-btn-inactive-text,#57606a)));}/*!sc*/
.jKgwhU[data-inactive]:not([disabled]):focus-visible{box-shadow:none;}/*!sc*/
.jKgwhU [data-component="leadingVisual"]{grid-area:leadingVisual;color:var(--fgColor-muted,var(--color-fg-muted,#656d76));}/*!sc*/
.jKgwhU [data-component="text"]{grid-area:text;line-height:calc(20/14);white-space:nowrap;}/*!sc*/
.jKgwhU [data-component="trailingVisual"]{grid-area:trailingVisual;}/*!sc*/
.jKgwhU [data-component="trailingAction"]{margin-right:-4px;color:var(--fgColor-muted,var(--color-fg-muted,#656d76));}/*!sc*/
.jKgwhU [data-component="buttonContent"]{-webkit-flex:1 0 auto;-ms-flex:1 0 auto;flex:1 0 auto;display:grid;grid-template-areas:"leadingVisual text trailingVisual";grid-template-columns:min-content minmax(0,auto) min-content;-webkit-align-items:center;-webkit-box-align:center;-ms-flex-align:center;align-items:center;-webkit-align-content:center;-ms-flex-line-pack:center;align-content:center;}/*!sc*/
.jKgwhU [data-component="buttonContent"] > :not(:last-child){margin-right:8px;}/*!sc*/
.jKgwhU [data-component="loadingSpinner"]{grid-area:text;margin-right:0px !important;place-self:center;}/*!sc*/
.jKgwhU [data-component="loadingSpinner"] + [data-component="text"]{visibility:hidden;}/*!sc*/
.jKgwhU:hover:not([disabled]){background-color:var(--control-transparent-bgColor-hover,var(--color-action-list-item-default-hover-bg,rgba(208,215,222,0.32)));}/*!sc*/
.jKgwhU:active:not([disabled]){background-color:var(--control-transparent-bgColor-active,var(--color-action-list-item-default-active-bg,rgba(208,215,222,0.48)));}/*!sc*/
.jKgwhU[aria-expanded=true]{background-color:var(--control-transparent-bgColor-selected,var(--color-action-list-item-default-selected-bg,rgba(208,215,222,0.24)));}/*!sc*/
.jKgwhU[data-component="IconButton"][data-no-visuals]{color:var(--fgColor-muted,var(--color-fg-muted,#656d76));}/*!sc*/
.jKgwhU[data-no-visuals]{color:var(--fgColor-accent,var(--color-accent-fg,#0969da));}/*!sc*/
.jKgwhU:has([data-component="ButtonCounter"]){color:var(--button-default-fgColor-rest,var(--color-btn-text,#24292f));}/*!sc*/
.jKgwhU:disabled[data-no-visuals]{color:var(--fgColor-disabled,var(--color-primer-fg-disabled,#8c959f));}/*!sc*/
.jKgwhU:disabled[data-no-visuals] [data-component=ButtonCounter]{color:inherit;}/*!sc*/
.bDTxaK{border-radius:6px;border:1px solid;border-color:transparent;font-family:inherit;font-weight:500;font-size:14px;cursor:pointer;-webkit-appearance:none;-moz-appearance:none;appearance:none;-webkit-user-select:none;-moz-user-select:none;-ms-user-select:none;user-select:none;-webkit-text-decoration:none;text-decoration:none;text-align:center;display:-webkit-box;display:-webkit-flex;display:-ms-flexbox;display:flex;-webkit-align-items:center;-webkit-box-align:center;-ms-flex-align:center;align-items:center;-webkit-box-pack:justify;-webkit-justify-content:space-between;-ms-flex-pack:justify;justify-content:space-between;height:32px;padding:0 12px;gap:8px;min-width:-webkit-max-content;min-width:-moz-max-content;min-width:max-content;-webkit-transition:80ms cubic-bezier(0.65,0,0.35,1);transition:80ms cubic-bezier(0.65,0,0.35,1);-webkit-transition-property:color,fill,background-color,border-color;transition-property:color,fill,background-color,border-color;color:var(--button-default-fgColor-rest,var(--color-btn-text,#24292f));background-color:transparent;box-shadow:none;}/*!sc*/
.bDTxaK:focus:not(:disabled){box-shadow:none;outline:2px solid var(--fgColor-accent,var(--color-accent-fg,#0969da));outline-offset:-2px;}/*!sc*/
.bDTxaK:focus:not(:disabled):not(:focus-visible){outline:solid 1px transparent;}/*!sc*/
.bDTxaK:focus-visible:not(:disabled){box-shadow:none;outline:2px solid var(--fgColor-accent,var(--color-accent-fg,#0969da));outline-offset:-2px;}/*!sc*/
.bDTxaK[href]{display:-webkit-inline-box;display:-webkit-inline-flex;display:-ms-inline-flexbox;display:inline-flex;}/*!sc*/
.bDTxaK[href]:hover{-webkit-text-decoration:none;text-decoration:none;}/*!sc*/
.bDTxaK:hover{-webkit-transition-duration:80ms;transition-duration:80ms;}/*!sc*/
.bDTxaK:active{-webkit-transition:none;transition:none;}/*!sc*/
.bDTxaK[data-inactive]{cursor:auto;}/*!sc*/
.bDTxaK:disabled{cursor:not-allowed;box-shadow:none;color:var(--fgColor-disabled,var(--color-primer-fg-disabled,#8c959f));}/*!sc*/
.bDTxaK:disabled [data-component=ButtonCounter],.bDTxaK:disabled [data-component="leadingVisual"],.bDTxaK:disabled [data-component="trailingAction"]{color:inherit;}/*!sc*/
@media (forced-colors:active){.bDTxaK:focus{outline:solid 1px transparent;}}/*!sc*/
.bDTxaK [data-component=ButtonCounter]{font-size:12px;}/*!sc*/
.bDTxaK[data-component=IconButton]{display:inline-grid;padding:unset;place-content:center;width:32px;min-width:unset;}/*!sc*/
.bDTxaK[data-size="small"]{padding:0 8px;height:28px;gap:4px;font-size:12px;color:var(--fgColor-default,var(--color-fg-default,#1F2328));margin-left:8px;}/*!sc*/
.bDTxaK[data-size="small"] [data-component="text"]{line-height:calc(20 / 12);}/*!sc*/
.bDTxaK[data-size="small"] [data-component=ButtonCounter]{font-size:12px;}/*!sc*/
.bDTxaK[data-size="small"] [data-component="buttonContent"] > :not(:last-child){margin-right:4px;}/*!sc*/
.bDTxaK[data-size="small"][data-component=IconButton]{width:28px;padding:unset;}/*!sc*/
.bDTxaK[data-size="large"]{padding:0 16px;height:40px;gap:8px;}/*!sc*/
.bDTxaK[data-size="large"] [data-component="buttonContent"] > :not(:last-child){margin-right:8px;}/*!sc*/
.bDTxaK[data-size="large"][data-component=IconButton]{width:40px;padding:unset;}/*!sc*/
.bDTxaK[data-block="block"]{width:100%;}/*!sc*/
.bDTxaK[data-label-wrap="true"]{min-width:-webkit-fit-content;min-width:-moz-fit-content;min-width:fit-content;height:unset;min-height:var(--control-medium-size,2rem);}/*!sc*/
.bDTxaK[data-label-wrap="true"] [data-component="buttonContent"]{-webkit-flex:1 1 auto;-ms-flex:1 1 auto;flex:1 1 auto;-webkit-align-self:stretch;-ms-flex-item-align:stretch;align-self:stretch;padding-block:calc(var(--control-medium-paddingBlock,0.375rem) - 2px);}/*!sc*/
.bDTxaK[data-label-wrap="true"] [data-component="text"]{white-space:unset;word-break:break-word;}/*!sc*/
.bDTxaK[data-label-wrap="true"][data-size="small"]{height:unset;min-height:var(--control-small-size,1.75rem);}/*!sc*/
.bDTxaK[data-label-wrap="true"][data-size="small"] [data-component="buttonContent"]{padding-block:calc(var(--control-small-paddingBlock,0.25rem) - 2px);}/*!sc*/
.bDTxaK[data-label-wrap="true"][data-size="large"]{height:unset;min-height:var(--control-large-size,2.5rem);padding-inline:var(--control-large-paddingInline-spacious,1rem);}/*!sc*/
.bDTxaK[data-label-wrap="true"][data-size="large"] [data-component="buttonContent"]{padding-block:calc(var(--control-large-paddingBlock,0.625rem) - 2px);}/*!sc*/
.bDTxaK[data-inactive]:not([disabled]){background-color:var(--button-inactive-bgColor,var(--button-inactive-bgColor-rest,var(--color-btn-inactive-bg,#eaeef2)));border-color:var(--button-inactive-bgColor,var(--button-inactive-bgColor-rest,var(--color-btn-inactive-bg,#eaeef2)));color:var(--button-inactive-fgColor,var(--button-inactive-fgColor-rest,var(--color-btn-inactive-text,#57606a)));}/*!sc*/
.bDTxaK[data-inactive]:not([disabled]):focus-visible{box-shadow:none;}/*!sc*/
.bDTxaK [data-component="leadingVisual"]{grid-area:leadingVisual;color:var(--fgColor-muted,var(--color-fg-muted,#656d76));}/*!sc*/
.bDTxaK [data-component="text"]{grid-area:text;line-height:calc(20/14);white-space:nowrap;}/*!sc*/
.bDTxaK [data-component="trailingVisual"]{grid-area:trailingVisual;}/*!sc*/
.bDTxaK [data-component="trailingAction"]{margin-right:-4px;color:var(--fgColor-muted,var(--color-fg-muted,#656d76));}/*!sc*/
.bDTxaK [data-component="buttonContent"]{-webkit-flex:1 0 auto;-ms-flex:1 0 auto;flex:1 0 auto;display:grid;grid-template-areas:"leadingVisual text trailingVisual";grid-template-columns:min-content minmax(0,auto) min-content;-webkit-align-items:center;-webkit-box-align:center;-ms-flex-align:center;align-items:center;-webkit-align-content:center;-ms-flex-line-pack:center;align-content:center;}/*!sc*/
.bDTxaK [data-component="buttonContent"] > :not(:last-child){margin-right:8px;}/*!sc*/
.bDTxaK [data-component="loadingSpinner"]{grid-area:text;margin-right:0px !important;place-self:center;}/*!sc*/
.bDTxaK [data-component="loadingSpinner"] + [data-component="text"]{visibility:hidden;}/*!sc*/
.bDTxaK:hover:not([disabled]){background-color:var(--control-transparent-bgColor-hover,var(--color-action-list-item-default-hover-bg,rgba(208,215,222,0.32)));}/*!sc*/
.bDTxaK:active:not([disabled]){background-color:var(--control-transparent-bgColor-active,var(--color-action-list-item-default-active-bg,rgba(208,215,222,0.48)));}/*!sc*/
.bDTxaK[aria-expanded=true]{background-color:var(--control-transparent-bgColor-selected,var(--color-action-list-item-default-selected-bg,rgba(208,215,222,0.24)));}/*!sc*/
.bDTxaK[data-component="IconButton"][data-no-visuals]{color:var(--fgColor-muted,var(--color-fg-muted,#656d76));}/*!sc*/
.bDTxaK[data-no-visuals]{color:var(--fgColor-accent,var(--color-accent-fg,#0969da));}/*!sc*/
.bDTxaK:has([data-component="ButtonCounter"]){color:var(--button-default-fgColor-rest,var(--color-btn-text,#24292f));}/*!sc*/
.bDTxaK:disabled[data-no-visuals]{color:var(--fgColor-disabled,var(--color-primer-fg-disabled,#8c959f));}/*!sc*/
.bDTxaK:disabled[data-no-visuals] [data-component=ButtonCounter]{color:inherit;}/*!sc*/
.jUNlHb{border-radius:6px;border:1px solid;border-color:var(--button-default-borderColor-rest,var(--button-default-borderColor-rest,var(--color-btn-border,rgba(31,35,40,0.15))));font-family:inherit;font-weight:500;font-size:14px;cursor:pointer;-webkit-appearance:none;-moz-appearance:none;appearance:none;-webkit-user-select:none;-moz-user-select:none;-ms-user-select:none;user-select:none;-webkit-text-decoration:none;text-decoration:none;text-align:center;display:-webkit-box;display:-webkit-flex;display:-ms-flexbox;display:flex;-webkit-align-items:center;-webkit-box-align:center;-ms-flex-align:center;align-items:center;-webkit-box-pack:justify;-webkit-justify-content:space-between;-ms-flex-pack:justify;justify-content:space-between;height:32px;padding:0 12px;gap:8px;min-width:-webkit-max-content;min-width:-moz-max-content;min-width:max-content;-webkit-transition:80ms cubic-bezier(0.65,0,0.35,1);transition:80ms cubic-bezier(0.65,0,0.35,1);-webkit-transition-property:color,fill,background-color,border-color;transition-property:color,fill,background-color,border-color;color:var(--button-default-fgColor-rest,var(--color-btn-text,#24292f));background-color:var(--button-default-bgColor-rest,var(--color-btn-bg,#f6f8fa));box-shadow:var(--button-default-shadow-resting,var(--color-btn-shadow,0 1px 0 rgba(31,35,40,0.04))),var(--button-default-shadow-inset,var(--color-btn-inset-shadow,inset 0 1px 0 rgba(255,255,255,0.25)));padding-left:8px;padding-right:8px;}/*!sc*/
.jUNlHb:focus:not(:disabled){box-shadow:none;outline:2px solid var(--fgColor-accent,var(--color-accent-fg,#0969da));outline-offset:-2px;}/*!sc*/
.jUNlHb:focus:not(:disabled):not(:focus-visible){outline:solid 1px transparent;}/*!sc*/
.jUNlHb:focus-visible:not(:disabled){box-shadow:none;outline:2px solid var(--fgColor-accent,var(--color-accent-fg,#0969da));outline-offset:-2px;}/*!sc*/
.jUNlHb[href]{display:-webkit-inline-box;display:-webkit-inline-flex;display:-ms-inline-flexbox;display:inline-flex;}/*!sc*/
.jUNlHb[href]:hover{-webkit-text-decoration:none;text-decoration:none;}/*!sc*/
.jUNlHb:hover{-webkit-transition-duration:80ms;transition-duration:80ms;}/*!sc*/
.jUNlHb:active{-webkit-transition:none;transition:none;}/*!sc*/
.jUNlHb[data-inactive]{cursor:auto;}/*!sc*/
.jUNlHb:disabled{cursor:not-allowed;box-shadow:none;color:var(--fgColor-disabled,var(--color-primer-fg-disabled,#8c959f));border-color:var(--button-default-borderColor-disabled,var(--button-default-borderColor-rest,var(--color-btn-border,rgba(31,35,40,0.15))));background-color:var(--button-default-bgColor-disabled,var(--control-bgColor-disabled,var(--color-input-disabled-bg,rgba(175,184,193,0.2))));}/*!sc*/
.jUNlHb:disabled [data-component=ButtonCounter]{color:inherit;}/*!sc*/
@media (forced-colors:active){.jUNlHb:focus{outline:solid 1px transparent;}}/*!sc*/
.jUNlHb [data-component=ButtonCounter]{font-size:12px;background-color:var(--buttonCounter-default-bgColor-rest,var(--color-btn-counter-bg,rgba(31,35,40,0.08)));}/*!sc*/
.jUNlHb[data-component=IconButton]{display:inline-grid;padding:unset;place-content:center;width:32px;min-width:unset;}/*!sc*/
.jUNlHb[data-size="small"]{padding:0 8px;height:28px;gap:4px;font-size:12px;}/*!sc*/
.jUNlHb[data-size="small"] [data-component="text"]{line-height:calc(20 / 12);}/*!sc*/
.jUNlHb[data-size="small"] [data-component=ButtonCounter]{font-size:12px;}/*!sc*/
.jUNlHb[data-size="small"] [data-component="buttonContent"] > :not(:last-child){margin-right:4px;}/*!sc*/
.jUNlHb[data-size="small"][data-component=IconButton]{width:28px;padding:unset;}/*!sc*/
.jUNlHb[data-size="large"]{padding:0 16px;height:40px;gap:8px;}/*!sc*/
.jUNlHb[data-size="large"] [data-component="buttonContent"] > :not(:last-child){margin-right:8px;}/*!sc*/
.jUNlHb[data-size="large"][data-component=IconButton]{width:40px;padding:unset;}/*!sc*/
.jUNlHb[data-block="block"]{width:100%;}/*!sc*/
.jUNlHb[data-label-wrap="true"]{min-width:-webkit-fit-content;min-width:-moz-fit-content;min-width:fit-content;height:unset;min-height:var(--control-medium-size,2rem);}/*!sc*/
.jUNlHb[data-label-wrap="true"] [data-component="buttonContent"]{-webkit-flex:1 1 auto;-ms-flex:1 1 auto;flex:1 1 auto;-webkit-align-self:stretch;-ms-flex-item-align:stretch;align-self:stretch;padding-block:calc(var(--control-medium-paddingBlock,0.375rem) - 2px);}/*!sc*/
.jUNlHb[data-label-wrap="true"] [data-component="text"]{white-space:unset;word-break:break-word;}/*!sc*/
.jUNlHb[data-label-wrap="true"][data-size="small"]{height:unset;min-height:var(--control-small-size,1.75rem);}/*!sc*/
.jUNlHb[data-label-wrap="true"][data-size="small"] [data-component="buttonContent"]{padding-block:calc(var(--control-small-paddingBlock,0.25rem) - 2px);}/*!sc*/
.jUNlHb[data-label-wrap="true"][data-size="large"]{height:unset;min-height:var(--control-large-size,2.5rem);padding-inline:var(--control-large-paddingInline-spacious,1rem);}/*!sc*/
.jUNlHb[data-label-wrap="true"][data-size="large"] [data-component="buttonContent"]{padding-block:calc(var(--control-large-paddingBlock,0.625rem) - 2px);}/*!sc*/
.jUNlHb[data-inactive]:not([disabled]){background-color:var(--button-inactive-bgColor,var(--button-inactive-bgColor-rest,var(--color-btn-inactive-bg,#eaeef2)));border-color:var(--button-inactive-bgColor,var(--button-inactive-bgColor-rest,var(--color-btn-inactive-bg,#eaeef2)));color:var(--button-inactive-fgColor,var(--button-inactive-fgColor-rest,var(--color-btn-inactive-text,#57606a)));}/*!sc*/
.jUNlHb[data-inactive]:not([disabled]):focus-visible{box-shadow:none;}/*!sc*/
.jUNlHb [data-component="leadingVisual"]{grid-area:leadingVisual;}/*!sc*/
.jUNlHb [data-component="text"]{grid-area:text;line-height:calc(20/14);white-space:nowrap;}/*!sc*/
.jUNlHb [data-component="trailingVisual"]{grid-area:trailingVisual;}/*!sc*/
.jUNlHb [data-component="trailingAction"]{margin-right:-4px;}/*!sc*/
.jUNlHb [data-component="buttonContent"]{-webkit-flex:1 0 auto;-ms-flex:1 0 auto;flex:1 0 auto;display:grid;grid-template-areas:"leadingVisual text trailingVisual";grid-template-columns:min-content minmax(0,auto) min-content;-webkit-align-items:center;-webkit-box-align:center;-ms-flex-align:center;align-items:center;-webkit-align-content:center;-ms-flex-line-pack:center;align-content:center;}/*!sc*/
.jUNlHb [data-component="buttonContent"] > :not(:last-child){margin-right:8px;}/*!sc*/
.jUNlHb [data-component="loadingSpinner"]{grid-area:text;margin-right:0px !important;place-self:center;}/*!sc*/
.jUNlHb [data-component="loadingSpinner"] + [data-component="text"]{visibility:hidden;}/*!sc*/
.jUNlHb:hover:not([disabled]):not([data-inactive]){background-color:var(--button-default-bgColor-hover,var(--color-btn-hover-bg,#f3f4f6));border-color:var(--button-default-borderColor-hover,var(--button-default-borderColor-hover,var(--color-btn-hover-border,rgba(31,35,40,0.15))));}/*!sc*/
.jUNlHb:active:not([disabled]):not([data-inactive]){background-color:var(--button-default-bgColor-active,var(--color-btn-active-bg,hsla(220,14%,93%,1)));border-color:var(--button-default-borderColor-active,var(--button-default-borderColor-active,var(--color-btn-active-border,rgba(31,35,40,0.15))));}/*!sc*/
.jUNlHb[aria-expanded=true]{background-color:var(--button-default-bgColor-active,var(--color-btn-active-bg,hsla(220,14%,93%,1)));border-color:var(--button-default-borderColor-active,var(--button-default-borderColor-active,var(--color-btn-active-border,rgba(31,35,40,0.15))));}/*!sc*/
.jUNlHb [data-component="leadingVisual"],.jUNlHb [data-component="trailingVisual"],.jUNlHb [data-component="trailingAction"]{color:var(--button-color,var(--fgColor-muted,var(--color-fg-muted,#656d76)));}/*!sc*/
.jUNlHb[data-component="IconButton"][data-no-visuals]{color:var(--fgColor-muted,var(--color-fg-muted,#656d76));}/*!sc*/
.jUNlHb linkButtonSx:hover:not([disabled]){-webkit-text-decoration:none;text-decoration:none;}/*!sc*/
.jUNlHb linkButtonSx:focus:not([disabled]){-webkit-text-decoration:none;text-decoration:none;}/*!sc*/
.jUNlHb linkButtonSx:active:not([disabled]){-webkit-text-decoration:none;text-decoration:none;}/*!sc*/
.feqCqy{border-radius:6px;border:1px solid;border-color:var(--button-default-borderColor-rest,var(--button-default-borderColor-rest,var(--color-btn-border,rgba(31,35,40,0.15))));font-family:inherit;font-weight:500;font-size:14px;cursor:pointer;-webkit-appearance:none;-moz-appearance:none;appearance:none;-webkit-user-select:none;-moz-user-select:none;-ms-user-select:none;user-select:none;-webkit-text-decoration:none;text-decoration:none;text-align:center;display:-webkit-box;display:-webkit-flex;display:-ms-flexbox;display:flex;-webkit-align-items:center;-webkit-box-align:center;-ms-flex-align:center;align-items:center;-webkit-box-pack:justify;-webkit-justify-content:space-between;-ms-flex-pack:justify;justify-content:space-between;height:32px;padding:0 12px;gap:8px;min-width:-webkit-max-content;min-width:-moz-max-content;min-width:max-content;-webkit-transition:80ms cubic-bezier(0.65,0,0.35,1);transition:80ms cubic-bezier(0.65,0,0.35,1);-webkit-transition-property:color,fill,background-color,border-color;transition-property:color,fill,background-color,border-color;color:var(--button-default-fgColor-rest,var(--color-btn-text,#24292f));background-color:var(--button-default-bgColor-rest,var(--color-btn-bg,#f6f8fa));box-shadow:var(--button-default-shadow-resting,var(--color-btn-shadow,0 1px 0 rgba(31,35,40,0.04))),var(--button-default-shadow-inset,var(--color-btn-inset-shadow,inset 0 1px 0 rgba(255,255,255,0.25)));}/*!sc*/
.feqCqy:focus:not(:disabled){box-shadow:none;outline:2px solid var(--fgColor-accent,var(--color-accent-fg,#0969da));outline-offset:-2px;}/*!sc*/
.feqCqy:focus:not(:disabled):not(:focus-visible){outline:solid 1px transparent;}/*!sc*/
.feqCqy:focus-visible:not(:disabled){box-shadow:none;outline:2px solid var(--fgColor-accent,var(--color-accent-fg,#0969da));outline-offset:-2px;}/*!sc*/
.feqCqy[href]{display:-webkit-inline-box;display:-webkit-inline-flex;display:-ms-inline-flexbox;display:inline-flex;}/*!sc*/
.feqCqy[href]:hover{-webkit-text-decoration:none;text-decoration:none;}/*!sc*/
.feqCqy:hover{-webkit-transition-duration:80ms;transition-duration:80ms;}/*!sc*/
.feqCqy:active{-webkit-transition:none;transition:none;}/*!sc*/
.feqCqy[data-inactive]{cursor:auto;}/*!sc*/
.feqCqy:disabled{cursor:not-allowed;box-shadow:none;color:var(--fgColor-disabled,var(--color-primer-fg-disabled,#8c959f));border-color:var(--button-default-borderColor-disabled,var(--button-default-borderColor-rest,var(--color-btn-border,rgba(31,35,40,0.15))));background-color:var(--button-default-bgColor-disabled,var(--control-bgColor-disabled,var(--color-input-disabled-bg,rgba(175,184,193,0.2))));}/*!sc*/
.feqCqy:disabled [data-component=ButtonCounter]{color:inherit;}/*!sc*/
@media (forced-colors:active){.feqCqy:focus{outline:solid 1px transparent;}}/*!sc*/
.feqCqy [data-component=ButtonCounter]{font-size:12px;background-color:var(--buttonCounter-default-bgColor-rest,var(--color-btn-counter-bg,rgba(31,35,40,0.08)));}/*!sc*/
.feqCqy[data-component=IconButton]{display:inline-grid;padding:unset;place-content:center;width:32px;min-width:unset;}/*!sc*/
.feqCqy[data-size="small"]{padding:0 8px;height:28px;gap:4px;font-size:12px;}/*!sc*/
.feqCqy[data-size="small"] [data-component="text"]{line-height:calc(20 / 12);}/*!sc*/
.feqCqy[data-size="small"] [data-component=ButtonCounter]{font-size:12px;}/*!sc*/
.feqCqy[data-size="small"] [data-component="buttonContent"] > :not(:last-child){margin-right:4px;}/*!sc*/
.feqCqy[data-size="small"][data-component=IconButton]{width:28px;padding:unset;}/*!sc*/
.feqCqy[data-size="large"]{padding:0 16px;height:40px;gap:8px;}/*!sc*/
.feqCqy[data-size="large"] [data-component="buttonContent"] > :not(:last-child){margin-right:8px;}/*!sc*/
.feqCqy[data-size="large"][data-component=IconButton]{width:40px;padding:unset;}/*!sc*/
.feqCqy[data-block="block"]{width:100%;}/*!sc*/
.feqCqy[data-label-wrap="true"]{min-width:-webkit-fit-content;min-width:-moz-fit-content;min-width:fit-content;height:unset;min-height:var(--control-medium-size,2rem);}/*!sc*/
.feqCqy[data-label-wrap="true"] [data-component="buttonContent"]{-webkit-flex:1 1 auto;-ms-flex:1 1 auto;flex:1 1 auto;-webkit-align-self:stretch;-ms-flex-item-align:stretch;align-self:stretch;padding-block:calc(var(--control-medium-paddingBlock,0.375rem) - 2px);}/*!sc*/
.feqCqy[data-label-wrap="true"] [data-component="text"]{white-space:unset;word-break:break-word;}/*!sc*/
.feqCqy[data-label-wrap="true"][data-size="small"]{height:unset;min-height:var(--control-small-size,1.75rem);}/*!sc*/
.feqCqy[data-label-wrap="true"][data-size="small"] [data-component="buttonContent"]{padding-block:calc(var(--control-small-paddingBlock,0.25rem) - 2px);}/*!sc*/
.feqCqy[data-label-wrap="true"][data-size="large"]{height:unset;min-height:var(--control-large-size,2.5rem);padding-inline:var(--control-large-paddingInline-spacious,1rem);}/*!sc*/
.feqCqy[data-label-wrap="true"][data-size="large"] [data-component="buttonContent"]{padding-block:calc(var(--control-large-paddingBlock,0.625rem) - 2px);}/*!sc*/
.feqCqy[data-inactive]:not([disabled]){background-color:var(--button-inactive-bgColor,var(--button-inactive-bgColor-rest,var(--color-btn-inactive-bg,#eaeef2)));border-color:var(--button-inactive-bgColor,var(--button-inactive-bgColor-rest,var(--color-btn-inactive-bg,#eaeef2)));color:var(--button-inactive-fgColor,var(--button-inactive-fgColor-rest,var(--color-btn-inactive-text,#57606a)));}/*!sc*/
.feqCqy[data-inactive]:not([disabled]):focus-visible{box-shadow:none;}/*!sc*/
.feqCqy [data-component="leadingVisual"]{grid-area:leadingVisual;}/*!sc*/
.feqCqy [data-component="text"]{grid-area:text;line-height:calc(20/14);white-space:nowrap;}/*!sc*/
.feqCqy [data-component="trailingVisual"]{grid-area:trailingVisual;}/*!sc*/
.feqCqy [data-component="trailingAction"]{margin-right:-4px;}/*!sc*/
.feqCqy [data-component="buttonContent"]{-webkit-flex:1 0 auto;-ms-flex:1 0 auto;flex:1 0 auto;display:grid;grid-template-areas:"leadingVisual text trailingVisual";grid-template-columns:min-content minmax(0,auto) min-content;-webkit-align-items:center;-webkit-box-align:center;-ms-flex-align:center;align-items:center;-webkit-align-content:center;-ms-flex-line-pack:center;align-content:center;}/*!sc*/
.feqCqy [data-component="buttonContent"] > :not(:last-child){margin-right:8px;}/*!sc*/
.feqCqy [data-component="loadingSpinner"]{grid-area:text;margin-right:0px !important;place-self:center;}/*!sc*/
.feqCqy [data-component="loadingSpinner"] + [data-component="text"]{visibility:hidden;}/*!sc*/
.feqCqy:hover:not([disabled]):not([data-inactive]){background-color:var(--button-default-bgColor-hover,var(--color-btn-hover-bg,#f3f4f6));border-color:var(--button-default-borderColor-hover,var(--button-default-borderColor-hover,var(--color-btn-hover-border,rgba(31,35,40,0.15))));}/*!sc*/
.feqCqy:active:not([disabled]):not([data-inactive]){background-color:var(--button-default-bgColor-active,var(--color-btn-active-bg,hsla(220,14%,93%,1)));border-color:var(--button-default-borderColor-active,var(--button-default-borderColor-active,var(--color-btn-active-border,rgba(31,35,40,0.15))));}/*!sc*/
.feqCqy[aria-expanded=true]{background-color:var(--button-default-bgColor-active,var(--color-btn-active-bg,hsla(220,14%,93%,1)));border-color:var(--button-default-borderColor-active,var(--button-default-borderColor-active,var(--color-btn-active-border,rgba(31,35,40,0.15))));}/*!sc*/
.feqCqy [data-component="leadingVisual"],.feqCqy [data-component="trailingVisual"],.feqCqy [data-component="trailingAction"]{color:var(--button-color,var(--fgColor-muted,var(--color-fg-muted,#656d76)));}/*!sc*/
.feqCqy[data-component="IconButton"][data-no-visuals]{color:var(--fgColor-muted,var(--color-fg-muted,#656d76));}/*!sc*/
.bfWknm{border-radius:6px;border:1px solid;border-color:var(--button-default-borderColor-rest,var(--button-default-borderColor-rest,var(--color-btn-border,rgba(31,35,40,0.15))));font-family:inherit;font-weight:500;font-size:14px;cursor:pointer;-webkit-appearance:none;-moz-appearance:none;appearance:none;-webkit-user-select:none;-moz-user-select:none;-ms-user-select:none;user-select:none;-webkit-text-decoration:none;text-decoration:none;text-align:center;display:-webkit-box;display:-webkit-flex;display:-ms-flexbox;display:flex;-webkit-align-items:center;-webkit-box-align:center;-ms-flex-align:center;align-items:center;-webkit-box-pack:justify;-webkit-justify-content:space-between;-ms-flex-pack:justify;justify-content:space-between;height:32px;padding:0 12px;gap:8px;min-width:-webkit-max-content;min-width:-moz-max-content;min-width:max-content;-webkit-transition:80ms cubic-bezier(0.65,0,0.35,1);transition:80ms cubic-bezier(0.65,0,0.35,1);-webkit-transition-property:color,fill,background-color,border-color;transition-property:color,fill,background-color,border-color;color:var(--button-default-fgColor-rest,var(--color-btn-text,#24292f));background-color:var(--button-default-bgColor-rest,var(--color-btn-bg,#f6f8fa));box-shadow:var(--button-default-shadow-resting,var(--color-btn-shadow,0 1px 0 rgba(31,35,40,0.04))),var(--button-default-shadow-inset,var(--color-btn-inset-shadow,inset 0 1px 0 rgba(255,255,255,0.25)));}/*!sc*/
.bfWknm:focus:not(:disabled){box-shadow:none;outline:2px solid var(--fgColor-accent,var(--color-accent-fg,#0969da));outline-offset:-2px;}/*!sc*/
.bfWknm:focus:not(:disabled):not(:focus-visible){outline:solid 1px transparent;}/*!sc*/
.bfWknm:focus-visible:not(:disabled){box-shadow:none;outline:2px solid var(--fgColor-accent,var(--color-accent-fg,#0969da));outline-offset:-2px;}/*!sc*/
.bfWknm[href]{display:-webkit-inline-box;display:-webkit-inline-flex;display:-ms-inline-flexbox;display:inline-flex;}/*!sc*/
.bfWknm[href]:hover{-webkit-text-decoration:none;text-decoration:none;}/*!sc*/
.bfWknm:hover{-webkit-transition-duration:80ms;transition-duration:80ms;}/*!sc*/
.bfWknm:active{-webkit-transition:none;transition:none;}/*!sc*/
.bfWknm[data-inactive]{cursor:auto;}/*!sc*/
.bfWknm:disabled{cursor:not-allowed;box-shadow:none;color:var(--fgColor-disabled,var(--color-primer-fg-disabled,#8c959f));border-color:var(--button-default-borderColor-disabled,var(--button-default-borderColor-rest,var(--color-btn-border,rgba(31,35,40,0.15))));background-color:var(--button-default-bgColor-disabled,var(--control-bgColor-disabled,var(--color-input-disabled-bg,rgba(175,184,193,0.2))));}/*!sc*/
.bfWknm:disabled [data-component=ButtonCounter]{color:inherit;}/*!sc*/
@media (forced-colors:active){.bfWknm:focus{outline:solid 1px transparent;}}/*!sc*/
.bfWknm [data-component=ButtonCounter]{font-size:12px;background-color:var(--buttonCounter-default-bgColor-rest,var(--color-btn-counter-bg,rgba(31,35,40,0.08)));}/*!sc*/
.bfWknm[data-component=IconButton]{display:inline-grid;padding:unset;place-content:center;width:32px;min-width:unset;}/*!sc*/
.bfWknm[data-size="small"]{padding:0 8px;height:28px;gap:4px;font-size:12px;}/*!sc*/
.bfWknm[data-size="small"] [data-component="text"]{line-height:calc(20 / 12);}/*!sc*/
.bfWknm[data-size="small"] [data-component=ButtonCounter]{font-size:12px;}/*!sc*/
.bfWknm[data-size="small"] [data-component="buttonContent"] > :not(:last-child){margin-right:4px;}/*!sc*/
.bfWknm[data-size="small"][data-component=IconButton]{width:28px;padding:unset;}/*!sc*/
.bfWknm[data-size="large"]{padding:0 16px;height:40px;gap:8px;}/*!sc*/
.bfWknm[data-size="large"] [data-component="buttonContent"] > :not(:last-child){margin-right:8px;}/*!sc*/
.bfWknm[data-size="large"][data-component=IconButton]{width:40px;padding:unset;}/*!sc*/
.bfWknm[data-block="block"]{width:100%;}/*!sc*/
.bfWknm[data-label-wrap="true"]{min-width:-webkit-fit-content;min-width:-moz-fit-content;min-width:fit-content;height:unset;min-height:var(--control-medium-size,2rem);}/*!sc*/
.bfWknm[data-label-wrap="true"] [data-component="buttonContent"]{-webkit-flex:1 1 auto;-ms-flex:1 1 auto;flex:1 1 auto;-webkit-align-self:stretch;-ms-flex-item-align:stretch;align-self:stretch;padding-block:calc(var(--control-medium-paddingBlock,0.375rem) - 2px);}/*!sc*/
.bfWknm[data-label-wrap="true"] [data-component="text"]{white-space:unset;word-break:break-word;}/*!sc*/
.bfWknm[data-label-wrap="true"][data-size="small"]{height:unset;min-height:var(--control-small-size,1.75rem);}/*!sc*/
.bfWknm[data-label-wrap="true"][data-size="small"] [data-component="buttonContent"]{padding-block:calc(var(--control-small-paddingBlock,0.25rem) - 2px);}/*!sc*/
.bfWknm[data-label-wrap="true"][data-size="large"]{height:unset;min-height:var(--control-large-size,2.5rem);padding-inline:var(--control-large-paddingInline-spacious,1rem);}/*!sc*/
.bfWknm[data-label-wrap="true"][data-size="large"] [data-component="buttonContent"]{padding-block:calc(var(--control-large-paddingBlock,0.625rem) - 2px);}/*!sc*/
.bfWknm[data-inactive]:not([disabled]){background-color:var(--button-inactive-bgColor,var(--button-inactive-bgColor-rest,var(--color-btn-inactive-bg,#eaeef2)));border-color:var(--button-inactive-bgColor,var(--button-inactive-bgColor-rest,var(--color-btn-inactive-bg,#eaeef2)));color:var(--button-inactive-fgColor,var(--button-inactive-fgColor-rest,var(--color-btn-inactive-text,#57606a)));}/*!sc*/
.bfWknm[data-inactive]:not([disabled]):focus-visible{box-shadow:none;}/*!sc*/
.bfWknm [data-component="leadingVisual"]{grid-area:leadingVisual;}/*!sc*/
.bfWknm [data-component="text"]{grid-area:text;line-height:calc(20/14);white-space:nowrap;}/*!sc*/
.bfWknm [data-component="trailingVisual"]{grid-area:trailingVisual;}/*!sc*/
.bfWknm [data-component="trailingAction"]{margin-right:-4px;}/*!sc*/
.bfWknm [data-component="buttonContent"]{-webkit-flex:1 0 auto;-ms-flex:1 0 auto;flex:1 0 auto;display:grid;grid-template-areas:"leadingVisual text trailingVisual";grid-template-columns:min-content minmax(0,auto) min-content;-webkit-align-items:center;-webkit-box-align:center;-ms-flex-align:center;align-items:center;-webkit-align-content:center;-ms-flex-line-pack:center;align-content:center;}/*!sc*/
.bfWknm [data-component="buttonContent"] > :not(:last-child){margin-right:8px;}/*!sc*/
.bfWknm [data-component="loadingSpinner"]{grid-area:text;margin-right:0px !important;place-self:center;}/*!sc*/
.bfWknm [data-component="loadingSpinner"] + [data-component="text"]{visibility:hidden;}/*!sc*/
.bfWknm:hover:not([disabled]):not([data-inactive]){background-color:var(--button-default-bgColor-hover,var(--color-btn-hover-bg,#f3f4f6));border-color:var(--button-default-borderColor-hover,var(--button-default-borderColor-hover,var(--color-btn-hover-border,rgba(31,35,40,0.15))));}/*!sc*/
.bfWknm:active:not([disabled]):not([data-inactive]){background-color:var(--button-default-bgColor-active,var(--color-btn-active-bg,hsla(220,14%,93%,1)));border-color:var(--button-default-borderColor-active,var(--button-default-borderColor-active,var(--color-btn-active-border,rgba(31,35,40,0.15))));}/*!sc*/
.bfWknm[aria-expanded=true]{background-color:var(--button-default-bgColor-active,var(--color-btn-active-bg,hsla(220,14%,93%,1)));border-color:var(--button-default-borderColor-active,var(--button-default-borderColor-active,var(--color-btn-active-border,rgba(31,35,40,0.15))));}/*!sc*/
.bfWknm [data-component="leadingVisual"],.bfWknm [data-component="trailingVisual"],.bfWknm [data-component="trailingAction"]{color:var(--button-color,var(--fgColor-muted,var(--color-fg-muted,#656d76)));}/*!sc*/
.bfWknm[data-component="IconButton"][data-no-visuals]{color:var(--fgColor-muted,var(--color-fg-muted,#656d76));}/*!sc*/
.bfWknm[data-size="small"][data-no-visuals]{border-top-left-radius:0;border-bottom-left-radius:0;}/*!sc*/
.eBqjKw{border-radius:6px;border:1px solid;border-color:var(--button-default-borderColor-rest,var(--button-default-borderColor-rest,var(--color-btn-border,rgba(31,35,40,0.15))));font-family:inherit;font-weight:500;font-size:14px;cursor:pointer;-webkit-appearance:none;-moz-appearance:none;appearance:none;-webkit-user-select:none;-moz-user-select:none;-ms-user-select:none;user-select:none;-webkit-text-decoration:none;text-decoration:none;text-align:center;display:-webkit-box;display:-webkit-flex;display:-ms-flexbox;display:flex;-webkit-align-items:center;-webkit-box-align:center;-ms-flex-align:center;align-items:center;-webkit-box-pack:justify;-webkit-justify-content:space-between;-ms-flex-pack:justify;justify-content:space-between;height:32px;padding:0 12px;gap:8px;min-width:-webkit-max-content;min-width:-moz-max-content;min-width:max-content;-webkit-transition:80ms cubic-bezier(0.65,0,0.35,1);transition:80ms cubic-bezier(0.65,0,0.35,1);-webkit-transition-property:color,fill,background-color,border-color;transition-property:color,fill,background-color,border-color;color:var(--button-default-fgColor-rest,var(--color-btn-text,#24292f));background-color:var(--button-default-bgColor-rest,var(--color-btn-bg,#f6f8fa));box-shadow:var(--button-default-shadow-resting,var(--color-btn-shadow,0 1px 0 rgba(31,35,40,0.04))),var(--button-default-shadow-inset,var(--color-btn-inset-shadow,inset 0 1px 0 rgba(255,255,255,0.25)));}/*!sc*/
.eBqjKw:focus:not(:disabled){box-shadow:none;outline:2px solid var(--fgColor-accent,var(--color-accent-fg,#0969da));outline-offset:-2px;}/*!sc*/
.eBqjKw:focus:not(:disabled):not(:focus-visible){outline:solid 1px transparent;}/*!sc*/
.eBqjKw:focus-visible:not(:disabled){box-shadow:none;outline:2px solid var(--fgColor-accent,var(--color-accent-fg,#0969da));outline-offset:-2px;}/*!sc*/
.eBqjKw[href]{display:-webkit-inline-box;display:-webkit-inline-flex;display:-ms-inline-flexbox;display:inline-flex;}/*!sc*/
.eBqjKw[href]:hover{-webkit-text-decoration:none;text-decoration:none;}/*!sc*/
.eBqjKw:hover{-webkit-transition-duration:80ms;transition-duration:80ms;}/*!sc*/
.eBqjKw:active{-webkit-transition:none;transition:none;}/*!sc*/
.eBqjKw[data-inactive]{cursor:auto;}/*!sc*/
.eBqjKw:disabled{cursor:not-allowed;box-shadow:none;color:var(--fgColor-disabled,var(--color-primer-fg-disabled,#8c959f));border-color:var(--button-default-borderColor-disabled,var(--button-default-borderColor-rest,var(--color-btn-border,rgba(31,35,40,0.15))));background-color:var(--button-default-bgColor-disabled,var(--control-bgColor-disabled,var(--color-input-disabled-bg,rgba(175,184,193,0.2))));}/*!sc*/
.eBqjKw:disabled [data-component=ButtonCounter]{color:inherit;}/*!sc*/
@media (forced-colors:active){.eBqjKw:focus{outline:solid 1px transparent;}}/*!sc*/
.eBqjKw [data-component=ButtonCounter]{font-size:12px;background-color:var(--buttonCounter-default-bgColor-rest,var(--color-btn-counter-bg,rgba(31,35,40,0.08)));}/*!sc*/
.eBqjKw[data-component=IconButton]{display:inline-grid;padding:unset;place-content:center;width:32px;min-width:unset;}/*!sc*/
.eBqjKw[data-size="small"]{padding:0 8px;height:28px;gap:4px;font-size:12px;}/*!sc*/
.eBqjKw[data-size="small"] [data-component="text"]{line-height:calc(20 / 12);}/*!sc*/
.eBqjKw[data-size="small"] [data-component=ButtonCounter]{font-size:12px;}/*!sc*/
.eBqjKw[data-size="small"] [data-component="buttonContent"] > :not(:last-child){margin-right:4px;}/*!sc*/
.eBqjKw[data-size="small"][data-component=IconButton]{width:28px;padding:unset;}/*!sc*/
.eBqjKw[data-size="large"]{padding:0 16px;height:40px;gap:8px;}/*!sc*/
.eBqjKw[data-size="large"] [data-component="buttonContent"] > :not(:last-child){margin-right:8px;}/*!sc*/
.eBqjKw[data-size="large"][data-component=IconButton]{width:40px;padding:unset;}/*!sc*/
.eBqjKw[data-block="block"]{width:100%;}/*!sc*/
.eBqjKw[data-label-wrap="true"]{min-width:-webkit-fit-content;min-width:-moz-fit-content;min-width:fit-content;height:unset;min-height:var(--control-medium-size,2rem);}/*!sc*/
.eBqjKw[data-label-wrap="true"] [data-component="buttonContent"]{-webkit-flex:1 1 auto;-ms-flex:1 1 auto;flex:1 1 auto;-webkit-align-self:stretch;-ms-flex-item-align:stretch;align-self:stretch;padding-block:calc(var(--control-medium-paddingBlock,0.375rem) - 2px);}/*!sc*/
.eBqjKw[data-label-wrap="true"] [data-component="text"]{white-space:unset;word-break:break-word;}/*!sc*/
.eBqjKw[data-label-wrap="true"][data-size="small"]{height:unset;min-height:var(--control-small-size,1.75rem);}/*!sc*/
.eBqjKw[data-label-wrap="true"][data-size="small"] [data-component="buttonContent"]{padding-block:calc(var(--control-small-paddingBlock,0.25rem) - 2px);}/*!sc*/
.eBqjKw[data-label-wrap="true"][data-size="large"]{height:unset;min-height:var(--control-large-size,2.5rem);padding-inline:var(--control-large-paddingInline-spacious,1rem);}/*!sc*/
.eBqjKw[data-label-wrap="true"][data-size="large"] [data-component="buttonContent"]{padding-block:calc(var(--control-large-paddingBlock,0.625rem) - 2px);}/*!sc*/
.eBqjKw[data-inactive]:not([disabled]){background-color:var(--button-inactive-bgColor,var(--button-inactive-bgColor-rest,var(--color-btn-inactive-bg,#eaeef2)));border-color:var(--button-inactive-bgColor,var(--button-inactive-bgColor-rest,var(--color-btn-inactive-bg,#eaeef2)));color:var(--button-inactive-fgColor,var(--button-inactive-fgColor-rest,var(--color-btn-inactive-text,#57606a)));}/*!sc*/
.eBqjKw[data-inactive]:not([disabled]):focus-visible{box-shadow:none;}/*!sc*/
.eBqjKw [data-component="leadingVisual"]{grid-area:leadingVisual;}/*!sc*/
.eBqjKw [data-component="text"]{grid-area:text;line-height:calc(20/14);white-space:nowrap;}/*!sc*/
.eBqjKw [data-component="trailingVisual"]{grid-area:trailingVisual;}/*!sc*/
.eBqjKw [data-component="trailingAction"]{margin-right:-4px;}/*!sc*/
.eBqjKw [data-component="buttonContent"]{-webkit-flex:1 0 auto;-ms-flex:1 0 auto;flex:1 0 auto;display:grid;grid-template-areas:"leadingVisual text trailingVisual";grid-template-columns:min-content minmax(0,auto) min-content;-webkit-align-items:center;-webkit-box-align:center;-ms-flex-align:center;align-items:center;-webkit-align-content:center;-ms-flex-line-pack:center;align-content:center;}/*!sc*/
.eBqjKw [data-component="buttonContent"] > :not(:last-child){margin-right:8px;}/*!sc*/
.eBqjKw [data-component="loadingSpinner"]{grid-area:text;margin-right:0px !important;place-self:center;}/*!sc*/
.eBqjKw [data-component="loadingSpinner"] + [data-component="text"]{visibility:hidden;}/*!sc*/
.eBqjKw:hover:not([disabled]):not([data-inactive]){background-color:var(--button-default-bgColor-hover,var(--color-btn-hover-bg,#f3f4f6));border-color:var(--button-default-borderColor-hover,var(--button-default-borderColor-hover,var(--color-btn-hover-border,rgba(31,35,40,0.15))));}/*!sc*/
.eBqjKw:active:not([disabled]):not([data-inactive]){background-color:var(--button-default-bgColor-active,var(--color-btn-active-bg,hsla(220,14%,93%,1)));border-color:var(--button-default-borderColor-active,var(--button-default-borderColor-active,var(--color-btn-active-border,rgba(31,35,40,0.15))));}/*!sc*/
.eBqjKw[aria-expanded=true]{background-color:var(--button-default-bgColor-active,var(--color-btn-active-bg,hsla(220,14%,93%,1)));border-color:var(--button-default-borderColor-active,var(--button-default-borderColor-active,var(--color-btn-active-border,rgba(31,35,40,0.15))));}/*!sc*/
.eBqjKw [data-component="leadingVisual"],.eBqjKw [data-component="trailingVisual"],.eBqjKw [data-component="trailingAction"]{color:var(--button-color,var(--fgColor-muted,var(--color-fg-muted,#656d76)));}/*!sc*/
.eBqjKw[data-component="IconButton"][data-no-visuals]{color:var(--fgColor-muted,var(--color-fg-muted,#656d76));}/*!sc*/
.eBqjKw[data-size="small"][data-no-visuals]{border-top-right-radius:0;border-bottom-right-radius:0;border-right-width:0;}/*!sc*/
.eBqjKw[data-size="small"][data-no-visuals]:hover:not([disabled]){-webkit-text-decoration:none;text-decoration:none;}/*!sc*/
.eBqjKw[data-size="small"][data-no-visuals]:focus:not([disabled]){-webkit-text-decoration:none;text-decoration:none;}/*!sc*/
.eBqjKw[data-size="small"][data-no-visuals]:active:not([disabled]){-webkit-text-decoration:none;text-decoration:none;}/*!sc*/
.eEspxX{border-radius:6px;border:1px solid;border-color:transparent;font-family:inherit;font-weight:500;font-size:14px;cursor:pointer;-webkit-appearance:none;-moz-appearance:none;appearance:none;-webkit-user-select:none;-moz-user-select:none;-ms-user-select:none;user-select:none;-webkit-text-decoration:none;text-decoration:none;text-align:center;display:-webkit-box;display:-webkit-flex;display:-ms-flexbox;display:flex;-webkit-align-items:center;-webkit-box-align:center;-ms-flex-align:center;align-items:center;-webkit-box-pack:justify;-webkit-justify-content:space-between;-ms-flex-pack:justify;justify-content:space-between;height:32px;padding:0 12px;gap:8px;min-width:-webkit-max-content;min-width:-moz-max-content;min-width:max-content;-webkit-transition:80ms cubic-bezier(0.65,0,0.35,1);transition:80ms cubic-bezier(0.65,0,0.35,1);-webkit-transition-property:color,fill,background-color,border-color;transition-property:color,fill,background-color,border-color;color:var(--button-default-fgColor-rest,var(--color-btn-text,#24292f));background-color:transparent;box-shadow:none;}/*!sc*/
.eEspxX:focus:not(:disabled){box-shadow:none;outline:2px solid var(--fgColor-accent,var(--color-accent-fg,#0969da));outline-offset:-2px;}/*!sc*/
.eEspxX:focus:not(:disabled):not(:focus-visible){outline:solid 1px transparent;}/*!sc*/
.eEspxX:focus-visible:not(:disabled){box-shadow:none;outline:2px solid var(--fgColor-accent,var(--color-accent-fg,#0969da));outline-offset:-2px;}/*!sc*/
.eEspxX[href]{display:-webkit-inline-box;display:-webkit-inline-flex;display:-ms-inline-flexbox;display:inline-flex;}/*!sc*/
.eEspxX[href]:hover{-webkit-text-decoration:none;text-decoration:none;}/*!sc*/
.eEspxX:hover{-webkit-transition-duration:80ms;transition-duration:80ms;}/*!sc*/
.eEspxX:active{-webkit-transition:none;transition:none;}/*!sc*/
.eEspxX[data-inactive]{cursor:auto;}/*!sc*/
.eEspxX:disabled{cursor:not-allowed;box-shadow:none;color:var(--fgColor-disabled,var(--color-primer-fg-disabled,#8c959f));}/*!sc*/
.eEspxX:disabled [data-component=ButtonCounter],.eEspxX:disabled [data-component="leadingVisual"],.eEspxX:disabled [data-component="trailingAction"]{color:inherit;}/*!sc*/
@media (forced-colors:active){.eEspxX:focus{outline:solid 1px transparent;}}/*!sc*/
.eEspxX [data-component=ButtonCounter]{font-size:12px;}/*!sc*/
.eEspxX[data-component=IconButton]{display:inline-grid;padding:unset;place-content:center;width:32px;min-width:unset;}/*!sc*/
.eEspxX[data-size="small"]{padding:0 8px;height:28px;gap:4px;font-size:12px;}/*!sc*/
.eEspxX[data-size="small"] [data-component="text"]{line-height:calc(20 / 12);}/*!sc*/
.eEspxX[data-size="small"] [data-component=ButtonCounter]{font-size:12px;}/*!sc*/
.eEspxX[data-size="small"] [data-component="buttonContent"] > :not(:last-child){margin-right:4px;}/*!sc*/
.eEspxX[data-size="small"][data-component=IconButton]{width:28px;padding:unset;}/*!sc*/
.eEspxX[data-size="large"]{padding:0 16px;height:40px;gap:8px;}/*!sc*/
.eEspxX[data-size="large"] [data-component="buttonContent"] > :not(:last-child){margin-right:8px;}/*!sc*/
.eEspxX[data-size="large"][data-component=IconButton]{width:40px;padding:unset;}/*!sc*/
.eEspxX[data-block="block"]{width:100%;}/*!sc*/
.eEspxX[data-label-wrap="true"]{min-width:-webkit-fit-content;min-width:-moz-fit-content;min-width:fit-content;height:unset;min-height:var(--control-medium-size,2rem);}/*!sc*/
.eEspxX[data-label-wrap="true"] [data-component="buttonContent"]{-webkit-flex:1 1 auto;-ms-flex:1 1 auto;flex:1 1 auto;-webkit-align-self:stretch;-ms-flex-item-align:stretch;align-self:stretch;padding-block:calc(var(--control-medium-paddingBlock,0.375rem) - 2px);}/*!sc*/
.eEspxX[data-label-wrap="true"] [data-component="text"]{white-space:unset;word-break:break-word;}/*!sc*/
.eEspxX[data-label-wrap="true"][data-size="small"]{height:unset;min-height:var(--control-small-size,1.75rem);}/*!sc*/
.eEspxX[data-label-wrap="true"][data-size="small"] [data-component="buttonContent"]{padding-block:calc(var(--control-small-paddingBlock,0.25rem) - 2px);}/*!sc*/
.eEspxX[data-label-wrap="true"][data-size="large"]{height:unset;min-height:var(--control-large-size,2.5rem);padding-inline:var(--control-large-paddingInline-spacious,1rem);}/*!sc*/
.eEspxX[data-label-wrap="true"][data-size="large"] [data-component="buttonContent"]{padding-block:calc(var(--control-large-paddingBlock,0.625rem) - 2px);}/*!sc*/
.eEspxX[data-inactive]:not([disabled]){background-color:var(--button-inactive-bgColor,var(--button-inactive-bgColor-rest,var(--color-btn-inactive-bg,#eaeef2)));border-color:var(--button-inactive-bgColor,var(--button-inactive-bgColor-rest,var(--color-btn-inactive-bg,#eaeef2)));color:var(--button-inactive-fgColor,var(--button-inactive-fgColor-rest,var(--color-btn-inactive-text,#57606a)));}/*!sc*/
.eEspxX[data-inactive]:not([disabled]):focus-visible{box-shadow:none;}/*!sc*/
.eEspxX [data-component="leadingVisual"]{grid-area:leadingVisual;color:var(--fgColor-muted,var(--color-fg-muted,#656d76));}/*!sc*/
.eEspxX [data-component="text"]{grid-area:text;line-height:calc(20/14);white-space:nowrap;}/*!sc*/
.eEspxX [data-component="trailingVisual"]{grid-area:trailingVisual;}/*!sc*/
.eEspxX [data-component="trailingAction"]{margin-right:-4px;color:var(--fgColor-muted,var(--color-fg-muted,#656d76));}/*!sc*/
.eEspxX [data-component="buttonContent"]{-webkit-flex:1 0 auto;-ms-flex:1 0 auto;flex:1 0 auto;display:grid;grid-template-areas:"leadingVisual text trailingVisual";grid-template-columns:min-content minmax(0,auto) min-content;-webkit-align-items:center;-webkit-box-align:center;-ms-flex-align:center;align-items:center;-webkit-align-content:center;-ms-flex-line-pack:center;align-content:center;}/*!sc*/
.eEspxX [data-component="buttonContent"] > :not(:last-child){margin-right:8px;}/*!sc*/
.eEspxX [data-component="loadingSpinner"]{grid-area:text;margin-right:0px !important;place-self:center;}/*!sc*/
.eEspxX [data-component="loadingSpinner"] + [data-component="text"]{visibility:hidden;}/*!sc*/
.eEspxX:hover:not([disabled]){background-color:var(--control-transparent-bgColor-hover,var(--color-action-list-item-default-hover-bg,rgba(208,215,222,0.32)));}/*!sc*/
.eEspxX:active:not([disabled]){background-color:var(--control-transparent-bgColor-active,var(--color-action-list-item-default-active-bg,rgba(208,215,222,0.48)));}/*!sc*/
.eEspxX[aria-expanded=true]{background-color:var(--control-transparent-bgColor-selected,var(--color-action-list-item-default-selected-bg,rgba(208,215,222,0.24)));}/*!sc*/
.eEspxX[data-component="IconButton"][data-no-visuals]{color:var(--fgColor-muted,var(--color-fg-muted,#656d76));}/*!sc*/
.eEspxX[data-no-visuals]{color:var(--fgColor-accent,var(--color-accent-fg,#0969da));}/*!sc*/
.eEspxX:has([data-component="ButtonCounter"]){color:var(--button-default-fgColor-rest,var(--color-btn-text,#24292f));}/*!sc*/
.eEspxX:disabled[data-no-visuals]{color:var(--fgColor-disabled,var(--color-primer-fg-disabled,#8c959f));}/*!sc*/
.eEspxX:disabled[data-no-visuals] [data-component=ButtonCounter]{color:inherit;}/*!sc*/
.eEspxX[data-size="small"][data-no-visuals]{color:var(--fgColor-muted,var(--color-fg-muted,#656d76));}/*!sc*/
data-styled.g4[id="types__StyledButton-sc-ws60qy-0"]{content:"jGoVeP,cRDVgI,jwBfae,YkvTm,klDWQA,emYRmJ,jFcVkf,kuXPuQ,jKgwhU,bDTxaK,jUNlHb,feqCqy,bfWknm,eBqjKw,eEspxX,"}/*!sc*/
.hPEVNM{-webkit-animation:rotate-keyframes 1s linear infinite;animation:rotate-keyframes 1s linear infinite;}/*!sc*/
@-webkit-keyframes rotate-keyframes{100%{-webkit-transform:rotate(360deg);-ms-transform:rotate(360deg);transform:rotate(360deg);}}/*!sc*/
@keyframes rotate-keyframes{100%{-webkit-transform:rotate(360deg);-ms-transform:rotate(360deg);transform:rotate(360deg);}}/*!sc*/
data-styled.g6[id="Spinner__StyledSpinner-sc-1knt686-0"]{content:"hPEVNM,"}/*!sc*/
.rTZSs{position:absolute;width:1px;height:1px;padding:0;margin:-1px;overflow:hidden;-webkit-clip:rect(0,0,0,0);clip:rect(0,0,0,0);white-space:nowrap;border-width:0;}/*!sc*/
data-styled.g7[id="_VisuallyHidden__VisuallyHidden-sc-11jhm7a-0"]{content:"rTZSs,"}/*!sc*/
.ipyMWB{color:var(--fgColor-accent,var(--color-accent-fg,#0969da));-webkit-text-decoration:none;text-decoration:none;font-weight:600;}/*!sc*/
[data-a11y-link-underlines='true'] .Link__StyledLink-sc-14289xe-0[data-inline='true']{-webkit-text-decoration:underline;text-decoration:underline;}/*!sc*/
.ipyMWB:hover{-webkit-text-decoration:underline;text-decoration:underline;}/*!sc*/
.ipyMWB:is(button){display:inline-block;padding:0;font-size:inherit;white-space:nowrap;cursor:pointer;-webkit-user-select:none;-moz-user-select:none;-ms-user-select:none;user-select:none;background-color:transparent;border:0;-webkit-appearance:none;-moz-appearance:none;appearance:none;}/*!sc*/
.jmkYvv{color:var(--fgColor-accent,var(--color-accent-fg,#0969da));-webkit-text-decoration:none;text-decoration:none;font-weight:400;}/*!sc*/
[data-a11y-link-underlines='true'] .Link__StyledLink-sc-14289xe-0[data-inline='true']{-webkit-text-decoration:underline;text-decoration:underline;}/*!sc*/
.jmkYvv:hover{-webkit-text-decoration:underline;text-decoration:underline;}/*!sc*/
.jmkYvv:is(button){display:inline-block;padding:0;font-size:inherit;white-space:nowrap;cursor:pointer;-webkit-user-select:none;-moz-user-select:none;-ms-user-select:none;user-select:none;background-color:transparent;border:0;-webkit-appearance:none;-moz-appearance:none;appearance:none;}/*!sc*/
.dheQRw{color:var(--fgColor-accent,var(--color-accent-fg,#0969da));-webkit-text-decoration:none;text-decoration:none;}/*!sc*/
[data-a11y-link-underlines='true'] .Link__StyledLink-sc-14289xe-0[data-inline='true']{-webkit-text-decoration:underline;text-decoration:underline;}/*!sc*/
.dheQRw:hover{-webkit-text-decoration:underline;text-decoration:underline;}/*!sc*/
.dheQRw:is(button){display:inline-block;padding:0;font-size:inherit;white-space:nowrap;cursor:pointer;-webkit-user-select:none;-moz-user-select:none;-ms-user-select:none;user-select:none;background-color:transparent;border:0;-webkit-appearance:none;-moz-appearance:none;appearance:none;}/*!sc*/
data-styled.g9[id="Link__StyledLink-sc-14289xe-0"]{content:"ipyMWB,jmkYvv,dheQRw,"}/*!sc*/
.gNgnVl{position:relative;display:inline-block;}/*!sc*/
.gNgnVl::after{position:absolute;z-index:1000000;display:none;padding:0.5em 0.75em;font:normal normal 11px/1.5 -apple-system,BlinkMacSystemFont,"Segoe UI","Noto Sans",Helvetica,Arial,sans-serif,"Apple Color Emoji","Segoe UI Emoji";-webkit-font-smoothing:subpixel-antialiased;color:var(--tooltip-fgColor,var(--fgColor-onEmphasis,var(--color-fg-on-emphasis,#ffffff)));text-align:center;-webkit-text-decoration:none;text-decoration:none;text-shadow:none;text-transform:none;-webkit-letter-spacing:normal;-moz-letter-spacing:normal;-ms-letter-spacing:normal;letter-spacing:normal;word-wrap:break-word;white-space:pre;pointer-events:none;content:attr(aria-label);background:var(--tooltip-bgColor,var(--bgColor-emphasis,var(--color-neutral-emphasis-plus,#24292f)));border-radius:6px;opacity:0;}/*!sc*/
@-webkit-keyframes tooltip-appear{from{opacity:0;}to{opacity:1;}}/*!sc*/
@keyframes tooltip-appear{from{opacity:0;}to{opacity:1;}}/*!sc*/
.gNgnVl:hover::after,.gNgnVl:active::after,.gNgnVl:focus::after,.gNgnVl:focus-within::after{display:inline-block;-webkit-text-decoration:none;text-decoration:none;-webkit-animation-name:tooltip-appear;animation-name:tooltip-appear;-webkit-animation-duration:0.1s;animation-duration:0.1s;-webkit-animation-fill-mode:forwards;animation-fill-mode:forwards;-webkit-animation-timing-function:ease-in;animation-timing-function:ease-in;-webkit-animation-delay:0s;animation-delay:0s;}/*!sc*/
.gNgnVl.tooltipped-no-delay:hover::after,.gNgnVl.tooltipped-no-delay:active::after,.gNgnVl.tooltipped-no-delay:focus::after,.gNgnVl.tooltipped-no-delay:focus-within::after{-webkit-animation-delay:0s;animation-delay:0s;}/*!sc*/
.gNgnVl.tooltipped-multiline:hover::after,.gNgnVl.tooltipped-multiline:active::after,.gNgnVl.tooltipped-multiline:focus::after,.gNgnVl.tooltipped-multiline:focus-within::after{display:table-cell;}/*!sc*/
.gNgnVl.tooltipped-s::after,.gNgnVl.tooltipped-se::after,.gNgnVl.tooltipped-sw::after{top:100%;right:50%;margin-top:6px;}/*!sc*/
.gNgnVl.tooltipped-se::after{right:auto;left:50%;margin-left:-16px;}/*!sc*/
.gNgnVl.tooltipped-sw::after{margin-right:-16px;}/*!sc*/
.gNgnVl.tooltipped-n::after,.gNgnVl.tooltipped-ne::after,.gNgnVl.tooltipped-nw::after{right:50%;bottom:100%;margin-bottom:6px;}/*!sc*/
.gNgnVl.tooltipped-ne::after{right:auto;left:50%;margin-left:-16px;}/*!sc*/
.gNgnVl.tooltipped-nw::after{margin-right:-16px;}/*!sc*/
.gNgnVl.tooltipped-s::after,.gNgnVl.tooltipped-n::after{-webkit-transform:translateX(50%);-ms-transform:translateX(50%);transform:translateX(50%);}/*!sc*/
.gNgnVl.tooltipped-w::after{right:100%;bottom:50%;margin-right:6px;-webkit-transform:translateY(50%);-ms-transform:translateY(50%);transform:translateY(50%);}/*!sc*/
.gNgnVl.tooltipped-e::after{bottom:50%;left:100%;margin-left:6px;-webkit-transform:translateY(50%);-ms-transform:translateY(50%);transform:translateY(50%);}/*!sc*/
.gNgnVl.tooltipped-multiline::after{width:-webkit-max-content;width:-moz-max-content;width:max-content;max-width:250px;word-wrap:break-word;white-space:pre-line;border-collapse:separate;}/*!sc*/
.gNgnVl.tooltipped-multiline.tooltipped-s::after,.gNgnVl.tooltipped-multiline.tooltipped-n::after{right:auto;left:50%;-webkit-transform:translateX(-50%);-ms-transform:translateX(-50%);transform:translateX(-50%);}/*!sc*/
.gNgnVl.tooltipped-multiline.tooltipped-w::after,.gNgnVl.tooltipped-multiline.tooltipped-e::after{right:100%;}/*!sc*/
.gNgnVl.tooltipped-align-right-2::after{right:0;margin-right:0;}/*!sc*/
.gNgnVl.tooltipped-align-left-2::after{left:0;margin-left:0;}/*!sc*/
data-styled.g10[id="Tooltip__TooltipBase-sc-17tf59c-0"]{content:"gNgnVl,"}/*!sc*/
.fUpWeN{display:inline-block;overflow:hidden;text-overflow:ellipsis;vertical-align:top;white-space:nowrap;max-width:125px;max-width:100%;}/*!sc*/
data-styled.g14[id="Truncate__StyledTruncate-sc-23o1d2-0"]{content:"fUpWeN,"}/*!sc*/
.cXNreu{font-size:14px;line-height:20px;color:var(--fgColor-default,var(--color-fg-default,#1F2328));vertical-align:middle;background-color:var(--bgColor-default,var(--color-canvas-default,#ffffff));border:1px solid var(--control-borderColor-rest,var(--borderColor-default,var(--color-border-default,#d0d7de)));border-radius:6px;outline:none;box-shadow:var(--shadow-inset,var(--color-primer-shadow-inset,inset 0 1px 0 rgba(208,215,222,0.2)));display:-webkit-inline-box;display:-webkit-inline-flex;display:-ms-inline-flexbox;display:inline-flex;-webkit-align-items:stretch;-webkit-box-align:stretch;-ms-flex-align:stretch;align-items:stretch;min-height:32px;overflow:hidden;display:-webkit-box;display:-webkit-flex;display:-ms-flexbox;display:flex;min-width:160px;}/*!sc*/
.cXNreu input,.cXNreu textarea{cursor:text;}/*!sc*/
.cXNreu select{cursor:pointer;}/*!sc*/
.cXNreu input::-webkit-input-placeholder,.cXNreu textarea::-webkit-input-placeholder,.cXNreu select::-webkit-input-placeholder{color:var(---control-fgColor-placeholder,var(--fgColor-muted,var(--color-fg-muted,#656d76)));}/*!sc*/
.cXNreu input::-moz-placeholder,.cXNreu textarea::-moz-placeholder,.cXNreu select::-moz-placeholder{color:var(---control-fgColor-placeholder,var(--fgColor-muted,var(--color-fg-muted,#656d76)));}/*!sc*/
.cXNreu input:-ms-input-placeholder,.cXNreu textarea:-ms-input-placeholder,.cXNreu select:-ms-input-placeholder{color:var(---control-fgColor-placeholder,var(--fgColor-muted,var(--color-fg-muted,#656d76)));}/*!sc*/
.cXNreu input::placeholder,.cXNreu textarea::placeholder,.cXNreu select::placeholder{color:var(---control-fgColor-placeholder,var(--fgColor-muted,var(--color-fg-muted,#656d76)));}/*!sc*/
.cXNreu:focus-within{border-color:var(--fgColor-accent,var(--color-accent-fg,#0969da));outline:2px solid var(--fgColor-accent,var(--color-accent-fg,#0969da));outline-offset:-1px;}/*!sc*/
.cXNreu > textarea{padding:12px;}/*!sc*/
@media (min-width:768px){.cXNreu{font-size:14px;}}/*!sc*/
data-styled.g17[id="TextInputWrapper__TextInputBaseWrapper-sc-1mqhpbi-0"]{content:"cXNreu,"}/*!sc*/
.jbzqwE{background-repeat:no-repeat;background-position:right 8px center;padding-left:12px;padding-right:12px;display:-webkit-box;display:-webkit-flex;display:-ms-flexbox;display:flex;min-width:160px;}/*!sc*/
.jbzqwE > :not(:last-child){margin-right:8px;}/*!sc*/
.jbzqwE .TextInput-icon,.jbzqwE .TextInput-action{-webkit-align-self:center;-ms-flex-item-align:center;align-self:center;color:var(--fgColor-muted,var(--color-fg-muted,#656d76));-webkit-flex-shrink:0;-ms-flex-negative:0;flex-shrink:0;}/*!sc*/
.jbzqwE > input,.jbzqwE > select{padding-left:0;padding-right:0;}/*!sc*/
data-styled.g18[id="TextInputWrapper-sc-1mqhpbi-1"]{content:"jbzqwE,"}/*!sc*/
.cDLBls{border:0;font-size:inherit;font-family:inherit;background-color:transparent;-webkit-appearance:none;color:inherit;width:100%;}/*!sc*/
.cDLBls:focus{outline:0;}/*!sc*/
data-styled.g19[id="UnstyledTextInput-sc-14ypya-0"]{content:"cDLBls,"}/*!sc*/
.bOMzPg{min-width:0;}/*!sc*/
.bOMzPg:where([data-size='small']){font-size:var(--text-body-size-small,0.75rem);line-height:var(--text-body-lineHeight-small,1.6666);}/*!sc*/
.bOMzPg:where([data-size='medium']){font-size:var(--text-body-size-medium,0.875rem);line-height:var(--text-body-lineHeight-medium,1.4285);}/*!sc*/
.bOMzPg:where([data-size='large']){font-size:var(--text-body-size-large,1rem);line-height:var(--text-body-lineHeight-large,1.5);}/*!sc*/
.bOMzPg:where([data-weight='light']){font-weight:var(--base-text-weight-light,300);}/*!sc*/
.bOMzPg:where([data-weight='normal']){font-weight:var(--base-text-weight-normal,400);}/*!sc*/
.bOMzPg:where([data-weight='medium']){font-weight:var(--base-text-weight-medium,500);}/*!sc*/
.bOMzPg:where([data-weight='semibold']){font-weight:var(--base-text-weight-semibold,600);}/*!sc*/
.fIsVJr{padding-left:4px;padding-right:4px;font-weight:400;color:var(--fgColor-muted,var(--color-fg-muted,#656d76));font-size:16px;}/*!sc*/
.fIsVJr:where([data-size='small']){font-size:var(--text-body-size-small,0.75rem);line-height:var(--text-body-lineHeight-small,1.6666);}/*!sc*/
.fIsVJr:where([data-size='medium']){font-size:var(--text-body-size-medium,0.875rem);line-height:var(--text-body-lineHeight-medium,1.4285);}/*!sc*/
.fIsVJr:where([data-size='large']){font-size:var(--text-body-size-large,1rem);line-height:var(--text-body-lineHeight-large,1.5);}/*!sc*/
.fIsVJr:where([data-weight='light']){font-weight:var(--base-text-weight-light,300);}/*!sc*/
.fIsVJr:where([data-weight='normal']){font-weight:var(--base-text-weight-normal,400);}/*!sc*/
.fIsVJr:where([data-weight='medium']){font-weight:var(--base-text-weight-medium,500);}/*!sc*/
.fIsVJr:where([data-weight='semibold']){font-weight:var(--base-text-weight-semibold,600);}/*!sc*/
.cYjMDB{padding-left:4px;padding-right:4px;font-weight:400;color:var(--fgColor-muted,var(--color-fg-muted,#656d76));font-size:14px;}/*!sc*/
.cYjMDB:where([data-size='small']){font-size:var(--text-body-size-small,0.75rem);line-height:var(--text-body-lineHeight-small,1.6666);}/*!sc*/
.cYjMDB:where([data-size='medium']){font-size:var(--text-body-size-medium,0.875rem);line-height:var(--text-body-lineHeight-medium,1.4285);}/*!sc*/
.cYjMDB:where([data-size='large']){font-size:var(--text-body-size-large,1rem);line-height:var(--text-body-lineHeight-large,1.5);}/*!sc*/
.cYjMDB:where([data-weight='light']){font-weight:var(--base-text-weight-light,300);}/*!sc*/
.cYjMDB:where([data-weight='normal']){font-weight:var(--base-text-weight-normal,400);}/*!sc*/
.cYjMDB:where([data-weight='medium']){font-weight:var(--base-text-weight-medium,500);}/*!sc*/
.cYjMDB:where([data-weight='semibold']){font-weight:var(--base-text-weight-semibold,600);}/*!sc*/
data-styled.g24[id="Text-sc-17v1xeu-0"]{content:"bOMzPg,fIsVJr,cYjMDB,"}/*!sc*/
body[data-page-layout-dragging="true"]{cursor:col-resize;}/*!sc*/
body[data-page-layout-dragging="true"] *{-webkit-user-select:none;-moz-user-select:none;-ms-user-select:none;user-select:none;}/*!sc*/
data-styled.g29[id="sc-global-gbKrvU1"]{content:"sc-global-gbKrvU1,"}/*!sc*/
.dgvcvm{list-style:none;padding:0;margin:0;}/*!sc*/
.dgvcvm .PRIVATE_TreeView-item{outline:none;}/*!sc*/
.dgvcvm .PRIVATE_TreeView-item:focus-visible > div,.dgvcvm .PRIVATE_TreeView-item.focus-visible > div{box-shadow:inset 0 0 0 2px var(--fgColor-accent,var(--color-accent-fg,#0969da));}/*!sc*/
@media (forced-colors:active){.dgvcvm .PRIVATE_TreeView-item:focus-visible > div,.dgvcvm .PRIVATE_TreeView-item.focus-visible > div{outline:2px solid HighlightText;outline-offset:-2;}}/*!sc*/
.dgvcvm .PRIVATE_TreeView-item[data-has-leading-action]{--has-leading-action:1;}/*!sc*/
.dgvcvm .PRIVATE_TreeView-item-container{--level:1;--toggle-width:1rem;--min-item-height:2rem;position:relative;display:grid;--leading-action-width:calc(var(--has-leading-action,0) * 1.5rem);--spacer-width:calc(calc(var(--level) - 1) * (var(--toggle-width) / 2));grid-template-columns:var(--spacer-width) var(--leading-action-width) var(--toggle-width) 1fr;grid-template-areas:'spacer leadingAction toggle content';width:100%;font-size:14px;color:var(--fgColor-default,var(--color-fg-default,#1F2328));border-radius:6px;cursor:pointer;}/*!sc*/
.dgvcvm .PRIVATE_TreeView-item-container:hover{background-color:var(--control-transparent-bgColor-hover,var(--color-action-list-item-default-hover-bg,rgba(208,215,222,0.32)));}/*!sc*/
@media (forced-colors:active){.dgvcvm .PRIVATE_TreeView-item-container:hover{outline:2px solid transparent;outline-offset:-2px;}}/*!sc*/
@media (pointer:coarse){.dgvcvm .PRIVATE_TreeView-item-container{--toggle-width:1.5rem;--min-item-height:2.75rem;}}/*!sc*/
.dgvcvm .PRIVATE_TreeView-item-container:has(.PRIVATE_TreeView-item-skeleton):hover{background-color:transparent;cursor:default;}/*!sc*/
@media (forced-colors:active){.dgvcvm .PRIVATE_TreeView-item-container:has(.PRIVATE_TreeView-item-skeleton):hover{outline:none;}}/*!sc*/
.dgvcvm[data-omit-spacer='true'] .PRIVATE_TreeView-item-container{grid-template-columns:0 0 0 1fr;}/*!sc*/
.dgvcvm .PRIVATE_TreeView-item[aria-current='true'] > .PRIVATE_TreeView-item-container{background-color:var(--control-transparent-bgColor-selected,var(--color-action-list-item-default-selected-bg,rgba(208,215,222,0.24)));}/*!sc*/
.dgvcvm .PRIVATE_TreeView-item[aria-current='true'] > .PRIVATE_TreeView-item-container::after{content:'';position:absolute;top:calc(50% - 0.75rem);left:-8px;width:0.25rem;height:1.5rem;background-color:var(--fgColor-accent,var(--color-accent-fg,#0969da));border-radius:6px;}/*!sc*/
@media (forced-colors:active){.dgvcvm .PRIVATE_TreeView-item[aria-current='true'] > .PRIVATE_TreeView-item-container::after{background-color:HighlightText;}}/*!sc*/
.dgvcvm .PRIVATE_TreeView-item-toggle{grid-area:toggle;display:-webkit-box;display:-webkit-flex;display:-ms-flexbox;display:flex;-webkit-box-pack:center;-webkit-justify-content:center;-ms-flex-pack:center;justify-content:center;-webkit-align-items:flex-start;-webkit-box-align:flex-start;-ms-flex-align:flex-start;align-items:flex-start;padding-top:calc(var(--min-item-height) / 2 - 12px / 2);height:100%;color:var(--fgColor-muted,var(--color-fg-muted,#656d76));}/*!sc*/
.dgvcvm .PRIVATE_TreeView-item-toggle--hover:hover{background-color:var(--control-transparent-bgColor-hover,var(--color-tree-view-item-chevron-hover-bg,rgba(208,215,222,0.32)));}/*!sc*/
.dgvcvm .PRIVATE_TreeView-item-toggle--end{border-top-left-radius:6px;border-bottom-left-radius:6px;}/*!sc*/
.dgvcvm .PRIVATE_TreeView-item-content{grid-area:content;display:-webkit-box;display:-webkit-flex;display:-ms-flexbox;display:flex;height:100%;padding:0 8px;gap:8px;line-height:var(--custom-line-height,var(--text-body-lineHeight-medium,1.4285));padding-top:calc((var(--min-item-height) - var(--custom-line-height,1.3rem)) / 2);padding-bottom:calc((var(--min-item-height) - var(--custom-line-height,1.3rem)) / 2);}/*!sc*/
.dgvcvm .PRIVATE_TreeView-item-content-text{-webkit-flex:1 1 auto;-ms-flex:1 1 auto;flex:1 1 auto;width:0;overflow:hidden;white-space:nowrap;text-overflow:ellipsis;}/*!sc*/
.dgvcvm .PRIVATE_TreeView-item-visual{display:-webkit-box;display:-webkit-flex;display:-ms-flexbox;display:flex;-webkit-align-items:center;-webkit-box-align:center;-ms-flex-align:center;align-items:center;color:var(--fgColor-muted,var(--color-fg-muted,#656d76));height:var(--custom-line-height,1.3rem);}/*!sc*/
.dgvcvm .PRIVATE_TreeView-item-leading-action{display:-webkit-box;display:-webkit-flex;display:-ms-flexbox;display:flex;color:var(--fgColor-muted,var(--color-fg-muted,#656d76));grid-area:leadingAction;}/*!sc*/
.dgvcvm .PRIVATE_TreeView-item-level-line{width:100%;height:100%;border-right:1px solid;border-color:var(--borderColor-muted,var(--color-border-subtle,rgba(31,35,40,0.15)));}/*!sc*/
@media (hover:hover){.dgvcvm .PRIVATE_TreeView-item-level-line{border-color:transparent;}.dgvcvm:hover .PRIVATE_TreeView-item-level-line,.dgvcvm:focus-within .PRIVATE_TreeView-item-level-line{border-color:var(--borderColor-muted,var(--color-border-subtle,rgba(31,35,40,0.15)));}}/*!sc*/
.dgvcvm .PRIVATE_TreeView-directory-icon{display:grid;color:var(--treeViewItem-leadingVisual-bgColor-rest,var(--color-tree-view-item-chevron-directory-fill,#54aeff));}/*!sc*/
.dgvcvm .PRIVATE_VisuallyHidden{position:absolute;width:1px;height:1px;padding:0;margin:-1px;overflow:hidden;-webkit-clip:rect(0,0,0,0);clip:rect(0,0,0,0);white-space:nowrap;border-width:0;}/*!sc*/
data-styled.g45[id="TreeView__UlBox-sc-4ex6b6-0"]{content:"dgvcvm,"}/*!sc*/
.cpVEZe{display:-webkit-inline-box;display:-webkit-inline-flex;display:-ms-inline-flexbox;display:inline-flex;vertical-align:middle;isolation:isolate;}/*!sc*/
.cpVEZe.cpVEZe > *:not([data-loading-wrapper]){margin-inline-end:-1px;position:relative;border-radius:0;}/*!sc*/
.cpVEZe.cpVEZe > *:not([data-loading-wrapper]):first-child{border-top-left-radius:6px;border-bottom-left-radius:6px;}/*!sc*/
.cpVEZe.cpVEZe > *:not([data-loading-wrapper]):last-child{border-top-right-radius:6px;border-bottom-right-radius:6px;}/*!sc*/
.cpVEZe.cpVEZe > *:not([data-loading-wrapper]):focus,.cpVEZe.cpVEZe > *:not([data-loading-wrapper]):active,.cpVEZe.cpVEZe > *:not([data-loading-wrapper]):hover{z-index:1;}/*!sc*/
.cpVEZe [data-loading-wrapper]:first-child button,.cpVEZe [data-loading-wrapper]:first-child a{border-top-left-radius:6px;border-bottom-left-radius:6px;}/*!sc*/
.cpVEZe [data-loading-wrapper]:last-child button,.cpVEZe [data-loading-wrapper]:last-child a{border-top-right-radius:6px;border-bottom-right-radius:6px;}/*!sc*/
.cpVEZe [data-loading-wrapper] > *{margin-inline-end:-1px;position:relative;border-radius:0;}/*!sc*/
.cpVEZe [data-loading-wrapper] > *:focus,.cpVEZe [data-loading-wrapper] > *:active,.cpVEZe [data-loading-wrapper] > *:hover{z-index:1;}/*!sc*/
data-styled.g50[id="ButtonGroup-sc-1gxhls1-0"]{content:"cpVEZe,"}/*!sc*/
.jEdVkE{--segmented-control-button-inner-padding:12px;--segmented-control-button-bg-inset:4px;--segmented-control-outer-radius:6px;background-color:transparent;border-color:transparent;border-radius:var(--segmented-control-outer-radius);border-width:0;color:currentColor;cursor:pointer;font-family:inherit;font-size:inherit;font-weight:600;padding:0;height:100%;width:100%;}/*!sc*/
.jEdVkE .segmentedControl-content{-webkit-align-items:center;-webkit-box-align:center;-ms-flex-align:center;align-items:center;background-color:var(--controlKnob-bgColor-rest,var(--color-segmented-control-button-bg,#ffffff));border-color:var(--controlKnob-borderColor-rest,var(--color-segmented-control-button-hover-active-selected-border,#8c959f));border-style:solid;border-width:1px;border-radius:var(--segmented-control-outer-radius);display:-webkit-box;display:-webkit-flex;display:-ms-flexbox;display:flex;height:100%;-webkit-box-pack:center;-webkit-justify-content:center;-ms-flex-pack:center;justify-content:center;padding-left:var(--segmented-control-button-inner-padding);padding-right:var(--segmented-control-button-inner-padding);}/*!sc*/
.jEdVkE svg{fill:var(--fgColor-muted,var(--color-fg-muted,#656d76));}/*!sc*/
.jEdVkE:focus:focus-visible:not(:last-child):after{width:0;}/*!sc*/
.jEdVkE .segmentedControl-text:after{content:"Preview";display:block;font-weight:600;height:0;overflow:hidden;pointer-events:none;-webkit-user-select:none;-moz-user-select:none;-ms-user-select:none;user-select:none;visibility:hidden;}/*!sc*/
@media (pointer:coarse){.jEdVkE:before{content:"";position:absolute;left:0;right:0;-webkit-transform:translateY(-50%);-ms-transform:translateY(-50%);transform:translateY(-50%);top:50%;min-height:44px;}}/*!sc*/
.TvbfG{--segmented-control-button-inner-padding:12px;--segmented-control-button-bg-inset:4px;--segmented-control-outer-radius:6px;background-color:transparent;border-color:transparent;border-radius:var(--segmented-control-outer-radius);border-width:0;color:currentColor;cursor:pointer;font-family:inherit;font-size:inherit;font-weight:400;padding:var(--segmented-control-button-bg-inset);height:100%;width:100%;}/*!sc*/
.TvbfG .segmentedControl-content{-webkit-align-items:center;-webkit-box-align:center;-ms-flex-align:center;align-items:center;background-color:transparent;border-color:transparent;border-style:solid;border-width:1px;border-radius:calc(var(--segmented-control-outer-radius) - var(--segmented-control-button-bg-inset) / 2);display:-webkit-box;display:-webkit-flex;display:-ms-flexbox;display:flex;height:100%;-webkit-box-pack:center;-webkit-justify-content:center;-ms-flex-pack:center;justify-content:center;padding-left:calc(var(--segmented-control-button-inner-padding) - var(--segmented-control-button-bg-inset));padding-right:calc(var(--segmented-control-button-inner-padding) - var(--segmented-control-button-bg-inset));}/*!sc*/
.TvbfG svg{fill:var(--fgColor-muted,var(--color-fg-muted,#656d76));}/*!sc*/
.TvbfG:hover .segmentedControl-content{background-color:var(--controlTrack-bgColor-hover,var(--color-segmented-control-button-hover-bg,rgba(175,184,193,0.2)));}/*!sc*/
.TvbfG:active .segmentedControl-content{background-color:var(--controlTrack-bgColor-active,var(--color-segmented-control-button-hover-active-bg,rgba(175,184,193,0.4)));}/*!sc*/
.TvbfG:focus:focus-visible:not(:last-child):after{width:0;}/*!sc*/
.TvbfG .segmentedControl-text:after{content:"Code";display:block;font-weight:600;height:0;overflow:hidden;pointer-events:none;-webkit-user-select:none;-moz-user-select:none;-ms-user-select:none;user-select:none;visibility:hidden;}/*!sc*/
@media (pointer:coarse){.TvbfG:before{content:"";position:absolute;left:0;right:0;-webkit-transform:translateY(-50%);-ms-transform:translateY(-50%);transform:translateY(-50%);top:50%;min-height:44px;}}/*!sc*/
.fIktcg{--segmented-control-button-inner-padding:12px;--segmented-control-button-bg-inset:4px;--segmented-control-outer-radius:6px;background-color:transparent;border-color:transparent;border-radius:var(--segmented-control-outer-radius);border-width:0;color:currentColor;cursor:pointer;font-family:inherit;font-size:inherit;font-weight:400;padding:var(--segmented-control-button-bg-inset);height:100%;width:100%;}/*!sc*/
.fIktcg .segmentedControl-content{-webkit-align-items:center;-webkit-box-align:center;-ms-flex-align:center;align-items:center;background-color:transparent;border-color:transparent;border-style:solid;border-width:1px;border-radius:calc(var(--segmented-control-outer-radius) - var(--segmented-control-button-bg-inset) / 2);display:-webkit-box;display:-webkit-flex;display:-ms-flexbox;display:flex;height:100%;-webkit-box-pack:center;-webkit-justify-content:center;-ms-flex-pack:center;justify-content:center;padding-left:calc(var(--segmented-control-button-inner-padding) - var(--segmented-control-button-bg-inset));padding-right:calc(var(--segmented-control-button-inner-padding) - var(--segmented-control-button-bg-inset));}/*!sc*/
.fIktcg svg{fill:var(--fgColor-muted,var(--color-fg-muted,#656d76));}/*!sc*/
.fIktcg:hover .segmentedControl-content{background-color:var(--controlTrack-bgColor-hover,var(--color-segmented-control-button-hover-bg,rgba(175,184,193,0.2)));}/*!sc*/
.fIktcg:active .segmentedControl-content{background-color:var(--controlTrack-bgColor-active,var(--color-segmented-control-button-hover-active-bg,rgba(175,184,193,0.4)));}/*!sc*/
.fIktcg:focus:focus-visible:not(:last-child):after{width:0;}/*!sc*/
.fIktcg .segmentedControl-text:after{content:"Blame";display:block;font-weight:600;height:0;overflow:hidden;pointer-events:none;-webkit-user-select:none;-moz-user-select:none;-ms-user-select:none;user-select:none;visibility:hidden;}/*!sc*/
@media (pointer:coarse){.fIktcg:before{content:"";position:absolute;left:0;right:0;-webkit-transform:translateY(-50%);-ms-transform:translateY(-50%);transform:translateY(-50%);top:50%;min-height:44px;}}/*!sc*/
data-styled.g61[id="SegmentedControlButton__SegmentedControlButtonStyled-sc-8lkgxl-0"]{content:"jEdVkE,TvbfG,fIktcg,"}/*!sc*/
.ehDMvU{background-color:var(--controlTrack-bgColor-rest,var(--color-segmented-control-bg,#eaeef2));border-radius:6px;border:1px solid;border-color:var(--controlTrack-borderColor-rest,transparent);display:-webkit-inline-box;display:-webkit-inline-flex;display:-ms-inline-flexbox;display:inline-flex;font-size:14px;height:28px;margin:0;padding:0;}/*!sc*/
data-styled.g63[id="SegmentedControl__SegmentedControlList-sc-1rzig82-0"]{content:"ehDMvU,"}/*!sc*/
</style><meta data-hydrostats="publish"/> <!-- --> <!-- --> <button hidden="" data-testid="header-permalink-button" data-hotkey-scope="read-only-cursor-text-area"></button><button hidden=""></button><div><div style="--sticky-pane-height:100vh" class="Box-sc-g0xbh4-0 fSWWem"><div class="Box-sc-g0xbh4-0 kPPmzM"><div class="Box-sc-g0xbh4-0 cIAPDV"><div tabindex="0" class="Box-sc-g0xbh4-0 gvCnwW"><div class="Box-sc-g0xbh4-0 hgUFaY"><div class="Box-sc-g0xbh4-0 eUyHuk"></div><div style="--pane-width:320px" class="Box-sc-g0xbh4-0 gNdDUH"><div class="react-tree-pane-contents"><div id="repos-file-tree" class="Box-sc-g0xbh4-0 jywUSN"><div class="Box-sc-g0xbh4-0 hBSSUC"><div class="Box-sc-g0xbh4-0 iPurHz"><h2 class="Heading__StyledHeading-sc-1c1dgg0-0 jUaXMC"><button style="--button-color:fg.muted" type="button" aria-label="Expand file tree" data-testid="expand-file-tree-button-mobile" data-loading="false" aria-describedby=":R59lmdaeb:-loading-announcement" class="types__StyledButton-sc-ws60qy-0 jGoVeP"><span data-component="buttonContent" class="Box-sc-g0xbh4-0 kkrdEu"><span data-component="leadingVisual" class="Box-sc-g0xbh4-0 trpoQ"><svg aria-hidden="true" focusable="false" role="img" class="octicon octicon-arrow-left" viewBox="0 0 16 16" width="16" height="16" fill="currentColor" style="display:inline-block;user-select:none;vertical-align:text-bottom;overflow:visible"><path d="M7.78 12.53a.75.75 0 0 1-1.06 0L2.47 8.28a.75.75 0 0 1 0-1.06l4.25-4.25a.751.751 0 0 1 1.042.018.751.751 0 0 1 .018 1.042L4.81 7h7.44a.75.75 0 0 1 0 1.5H4.81l2.97 2.97a.75.75 0 0 1 0 1.06Z"></path></svg></span><span data-component="text">Files</span></span></button><span role="tooltip" aria-label="Collapse file tree" id="expand-button-file-tree-button" class="Tooltip__TooltipBase-sc-17tf59c-0 gNgnVl tooltipped-se"><button data-component="IconButton" type="button" data-testid="collapse-file-tree-button" aria-expanded="true" aria-controls="repos-file-tree" class="types__StyledButton-sc-ws60qy-0 cRDVgI" data-loading="false" data-no-visuals="true" aria-describedby=":Rp9lmdaeb:-loading-announcement" aria-labelledby="expand-button-file-tree-button"><svg aria-hidden="true" focusable="false" role="img" class="octicon octicon-sidebar-expand" viewBox="0 0 16 16" width="16" height="16" fill="currentColor" style="display:inline-block;user-select:none;vertical-align:text-bottom;overflow:visible"><path d="m4.177 7.823 2.396-2.396A.25.25 0 0 1 7 5.604v4.792a.25.25 0 0 1-.427.177L4.177 8.177a.25.25 0 0 1 0-.354Z"></path><path d="M0 1.75C0 .784.784 0 1.75 0h12.5C15.216 0 16 .784 16 1.75v12.5A1.75 1.75 0 0 1 14.25 16H1.75A1.75 1.75 0 0 1 0 14.25Zm1.75-.25a.25.25 0 0 0-.25.25v12.5c0 .138.112.25.25.25H9.5v-13Zm12.5 13a.25.25 0 0 0 .25-.25V1.75a.25.25 0 0 0-.25-.25H11v13Z"></path></svg></button></span><button hidden="" data-testid="" data-hotkey-scope="read-only-cursor-text-area"></button></h2><h2 class="Heading__StyledHeading-sc-1c1dgg0-0 fReAGt">Files</h2></div><div class="Box-sc-g0xbh4-0 hVHHYa"><div class="Box-sc-g0xbh4-0 idZfsJ"><button type="button" aria-haspopup="true" aria-expanded="false" tabindex="0" aria-label="main branch" data-testid="anchor-button" class="types__StyledButton-sc-ws60qy-0 jwBfae react-repos-tree-pane-ref-selector width-full ref-selector-class" data-loading="false" aria-describedby="branch-picker-repos-header-ref-selector-loading-announcement" id="branch-picker-repos-header-ref-selector"><span data-component="buttonContent" class="Box-sc-g0xbh4-0 kkrdEu"><span data-component="text"><div class="Box-sc-g0xbh4-0 bKgizp"><div class="Box-sc-g0xbh4-0 iPGYsi"><svg aria-hidden="true" focusable="false" role="img" class="octicon octicon-git-branch" viewBox="0 0 16 16" width="16" height="16" fill="currentColor" style="display:inline-block;user-select:none;vertical-align:text-bottom;overflow:visible"><path d="M9.5 3.25a2.25 2.25 0 1 1 3 2.122V6A2.5 2.5 0 0 1 10 8.5H6a1 1 0 0 0-1 1v1.128a2.251 2.251 0 1 1-1.5 0V5.372a2.25 2.25 0 1 1 1.5 0v1.836A2.493 2.493 0 0 1 6 7h4a1 1 0 0 0 1-1v-.628A2.25 2.25 0 0 1 9.5 3.25Zm-6 0a.75.75 0 1 0 1.5 0 .75.75 0 0 0-1.5 0Zm8.25-.75a.75.75 0 1 0 0 1.5.75.75 0 0 0 0-1.5ZM4.25 12a.75.75 0 1 0 0 1.5.75.75 0 0 0 0-1.5Z"></path></svg></div><div class="Box-sc-g0xbh4-0 caeYDk ref-selector-button-text-container"><span class="Text-sc-17v1xeu-0 bOMzPg"> <!-- -->main</span></div></div></span><span data-component="trailingVisual" class="Box-sc-g0xbh4-0 trpoQ"><svg aria-hidden="true" focusable="false" role="img" class="octicon octicon-triangle-down" viewBox="0 0 16 16" width="16" height="16" fill="currentColor" style="display:inline-block;user-select:none;vertical-align:text-bottom;overflow:visible"><path d="m4.427 7.427 3.396 3.396a.25.25 0 0 0 .354 0l3.396-3.396A.25.25 0 0 0 11.396 7H4.604a.25.25 0 0 0-.177.427Z"></path></svg></span></span></button><button hidden="" data-hotkey-scope="read-only-cursor-text-area"></button></div><div class="Box-sc-g0xbh4-0 jahcnb"><span role="tooltip" aria-label="Add file" id=":R6hlmdaeb:" class="Tooltip__TooltipBase-sc-17tf59c-0 gNgnVl tooltipped-s"><a sx="[object Object]" data-component="IconButton" type="button" aria-label="Add file" data-loading="false" data-no-visuals="true" aria-describedby=":Rmhlmdaeb:-loading-announcement" class="types__StyledButton-sc-ws60qy-0 YkvTm" href="/MathforDataScience/DSR_Statistics1/new/main/6_%20Sampling"><svg aria-hidden="true" focusable="false" role="img" class="octicon octicon-plus" viewBox="0 0 16 16" width="16" height="16" fill="currentColor" style="display:inline-block;user-select:none;vertical-align:text-bottom;overflow:visible"><path d="M7.75 2a.75.75 0 0 1 .75.75V7h4.25a.75.75 0 0 1 0 1.5H8.5v4.25a.75.75 0 0 1-1.5 0V8.5H2.75a.75.75 0 0 1 0-1.5H7V2.75A.75.75 0 0 1 7.75 2Z"></path></svg></a></span><button data-component="IconButton" type="button" aria-label="Search this repository" data-loading="false" data-no-visuals="true" aria-describedby=":Rqhlmdaeb:-loading-announcement" class="types__StyledButton-sc-ws60qy-0 klDWQA"><svg aria-hidden="true" focusable="false" role="img" class="octicon octicon-search" viewBox="0 0 16 16" width="16" height="16" fill="currentColor" style="display:inline-block;user-select:none;vertical-align:text-bottom;overflow:visible"><path d="M10.68 11.74a6 6 0 0 1-7.922-8.982 6 6 0 0 1 8.982 7.922l3.04 3.04a.749.749 0 0 1-.326 1.275.749.749 0 0 1-.734-.215ZM11.5 7a4.499 4.499 0 1 0-8.997 0A4.499 4.499 0 0 0 11.5 7Z"></path></svg></button><button hidden="" data-testid="" data-hotkey-scope="read-only-cursor-text-area"></button></div></div></div><div class="Box-sc-g0xbh4-0 ccToMy"><span class="TextInputWrapper__TextInputBaseWrapper-sc-1mqhpbi-0 TextInputWrapper-sc-1mqhpbi-1 cXNreu jbzqwE TextInput-wrapper" aria-busy="false"><span class="TextInput-icon"><svg aria-hidden="true" focusable="false" role="img" class="octicon octicon-search" viewBox="0 0 16 16" width="16" height="16" fill="currentColor" style="display:inline-block;user-select:none;vertical-align:text-bottom;overflow:visible"><path d="M10.68 11.74a6 6 0 0 1-7.922-8.982 6 6 0 0 1 8.982 7.922l3.04 3.04a.749.749 0 0 1-.326 1.275.749.749 0 0 1-.734-.215ZM11.5 7a4.499 4.499 0 1 0-8.997 0A4.499 4.499 0 0 0 11.5 7Z"></path></svg></span><input type="text" aria-label="Go to file" role="combobox" aria-controls="file-results-list" aria-expanded="false" aria-haspopup="dialog" autoCorrect="off" spellcheck="false" placeholder="Go to file" data-component="input" class="UnstyledTextInput-sc-14ypya-0 cDLBls" value=""/><span class="TextInput-icon"><div class="Box-sc-g0xbh4-0 cNvKlH"><kbd>t</kbd></div></span></span></div><button hidden="" data-testid="" data-hotkey-scope="read-only-cursor-text-area"></button><button hidden=""></button><div class="Box-sc-g0xbh4-0 cLfAnm"><div class="react-tree-show-tree-items"><div data-testid="repos-file-tree-container" class="Box-sc-g0xbh4-0 erWCJP"><nav aria-label="File Tree Navigation"><span role="status" aria-live="polite" aria-atomic="true" class="_VisuallyHidden__VisuallyHidden-sc-11jhm7a-0 rTZSs"></span><ul role="tree" aria-label="Files" class="TreeView__UlBox-sc-4ex6b6-0 dgvcvm"><li class="PRIVATE_TreeView-item" tabindex="0" id="2_ Descriptive Statistics-item" role="treeitem" aria-labelledby=":Rqclmdaeb:" aria-describedby=":RqclmdaebH1: :RqclmdaebH2:" aria-level="1" aria-expanded="false" aria-selected="false"><div class="PRIVATE_TreeView-item-container" style="--level:1;content-visibility:auto;contain-intrinsic-size:auto 2rem"><div style="grid-area:spacer;display:flex"><div style="width:100%;display:flex"></div></div><div class="PRIVATE_TreeView-item-toggle PRIVATE_TreeView-item-toggle--hover PRIVATE_TreeView-item-toggle--end"><svg aria-hidden="true" focusable="false" class="octicon octicon-chevron-right" viewBox="0 0 12 12" width="12" height="12" fill="currentColor" style="display:inline-block;user-select:none;vertical-align:text-bottom;overflow:visible"><path d="M4.7 10c-.2 0-.4-.1-.5-.2-.3-.3-.3-.8 0-1.1L6.9 6 4.2 3.3c-.3-.3-.3-.8 0-1.1.3-.3.8-.3 1.1 0l3.3 3.2c.3.3.3.8 0 1.1L5.3 9.7c-.2.2-.4.3-.6.3Z"></path></svg></div><div id=":Rqclmdaeb:" class="PRIVATE_TreeView-item-content"><div class="PRIVATE_VisuallyHidden" aria-hidden="true" id=":RqclmdaebH1:"></div><div class="PRIVATE_TreeView-item-visual" aria-hidden="true"><div class="PRIVATE_TreeView-directory-icon"><svg aria-hidden="true" focusable="false" class="octicon octicon-file-directory-fill" viewBox="0 0 16 16" width="16" height="16" fill="currentColor" style="display:inline-block;user-select:none;vertical-align:text-bottom;overflow:visible"><path d="M1.75 1A1.75 1.75 0 0 0 0 2.75v10.5C0 14.216.784 15 1.75 15h12.5A1.75 1.75 0 0 0 16 13.25v-8.5A1.75 1.75 0 0 0 14.25 3H7.5a.25.25 0 0 1-.2-.1l-.9-1.2C6.07 1.26 5.55 1 5 1H1.75Z"></path></svg></div></div><span class="PRIVATE_TreeView-item-content-text"><span>2_ Descriptive Statistics</span></span></div></div></li><li class="PRIVATE_TreeView-item" tabindex="0" id="3_ Combinatorics-item" role="treeitem" aria-labelledby=":R1aclmdaeb:" aria-describedby=":R1aclmdaebH1: :R1aclmdaebH2:" aria-level="1" aria-expanded="false" aria-selected="false"><div class="PRIVATE_TreeView-item-container" style="--level:1;content-visibility:auto;contain-intrinsic-size:auto 2rem"><div style="grid-area:spacer;display:flex"><div style="width:100%;display:flex"></div></div><div class="PRIVATE_TreeView-item-toggle PRIVATE_TreeView-item-toggle--hover PRIVATE_TreeView-item-toggle--end"><svg aria-hidden="true" focusable="false" class="octicon octicon-chevron-right" viewBox="0 0 12 12" width="12" height="12" fill="currentColor" style="display:inline-block;user-select:none;vertical-align:text-bottom;overflow:visible"><path d="M4.7 10c-.2 0-.4-.1-.5-.2-.3-.3-.3-.8 0-1.1L6.9 6 4.2 3.3c-.3-.3-.3-.8 0-1.1.3-.3.8-.3 1.1 0l3.3 3.2c.3.3.3.8 0 1.1L5.3 9.7c-.2.2-.4.3-.6.3Z"></path></svg></div><div id=":R1aclmdaeb:" class="PRIVATE_TreeView-item-content"><div class="PRIVATE_VisuallyHidden" aria-hidden="true" id=":R1aclmdaebH1:"></div><div class="PRIVATE_TreeView-item-visual" aria-hidden="true"><div class="PRIVATE_TreeView-directory-icon"><svg aria-hidden="true" focusable="false" class="octicon octicon-file-directory-fill" viewBox="0 0 16 16" width="16" height="16" fill="currentColor" style="display:inline-block;user-select:none;vertical-align:text-bottom;overflow:visible"><path d="M1.75 1A1.75 1.75 0 0 0 0 2.75v10.5C0 14.216.784 15 1.75 15h12.5A1.75 1.75 0 0 0 16 13.25v-8.5A1.75 1.75 0 0 0 14.25 3H7.5a.25.25 0 0 1-.2-.1l-.9-1.2C6.07 1.26 5.55 1 5 1H1.75Z"></path></svg></div></div><span class="PRIVATE_TreeView-item-content-text"><span>3_ Combinatorics</span></span></div></div></li><li class="PRIVATE_TreeView-item" tabindex="0" id="4_ Distributions-item" role="treeitem" aria-labelledby=":R1qclmdaeb:" aria-describedby=":R1qclmdaebH1: :R1qclmdaebH2:" aria-level="1" aria-expanded="false" aria-selected="false"><div class="PRIVATE_TreeView-item-container" style="--level:1;content-visibility:auto;contain-intrinsic-size:auto 2rem"><div style="grid-area:spacer;display:flex"><div style="width:100%;display:flex"></div></div><div class="PRIVATE_TreeView-item-toggle PRIVATE_TreeView-item-toggle--hover PRIVATE_TreeView-item-toggle--end"><svg aria-hidden="true" focusable="false" class="octicon octicon-chevron-right" viewBox="0 0 12 12" width="12" height="12" fill="currentColor" style="display:inline-block;user-select:none;vertical-align:text-bottom;overflow:visible"><path d="M4.7 10c-.2 0-.4-.1-.5-.2-.3-.3-.3-.8 0-1.1L6.9 6 4.2 3.3c-.3-.3-.3-.8 0-1.1.3-.3.8-.3 1.1 0l3.3 3.2c.3.3.3.8 0 1.1L5.3 9.7c-.2.2-.4.3-.6.3Z"></path></svg></div><div id=":R1qclmdaeb:" class="PRIVATE_TreeView-item-content"><div class="PRIVATE_VisuallyHidden" aria-hidden="true" id=":R1qclmdaebH1:"></div><div class="PRIVATE_TreeView-item-visual" aria-hidden="true"><div class="PRIVATE_TreeView-directory-icon"><svg aria-hidden="true" focusable="false" class="octicon octicon-file-directory-fill" viewBox="0 0 16 16" width="16" height="16" fill="currentColor" style="display:inline-block;user-select:none;vertical-align:text-bottom;overflow:visible"><path d="M1.75 1A1.75 1.75 0 0 0 0 2.75v10.5C0 14.216.784 15 1.75 15h12.5A1.75 1.75 0 0 0 16 13.25v-8.5A1.75 1.75 0 0 0 14.25 3H7.5a.25.25 0 0 1-.2-.1l-.9-1.2C6.07 1.26 5.55 1 5 1H1.75Z"></path></svg></div></div><span class="PRIVATE_TreeView-item-content-text"><span>4_ Distributions</span></span></div></div></li><li class="PRIVATE_TreeView-item" tabindex="0" id="5_ Conditional Prob-item" role="treeitem" aria-labelledby=":R2aclmdaeb:" aria-describedby=":R2aclmdaebH1: :R2aclmdaebH2:" aria-level="1" aria-expanded="false" aria-selected="false"><div class="PRIVATE_TreeView-item-container" style="--level:1;content-visibility:auto;contain-intrinsic-size:auto 2rem"><div style="grid-area:spacer;display:flex"><div style="width:100%;display:flex"></div></div><div class="PRIVATE_TreeView-item-toggle PRIVATE_TreeView-item-toggle--hover PRIVATE_TreeView-item-toggle--end"><svg aria-hidden="true" focusable="false" class="octicon octicon-chevron-right" viewBox="0 0 12 12" width="12" height="12" fill="currentColor" style="display:inline-block;user-select:none;vertical-align:text-bottom;overflow:visible"><path d="M4.7 10c-.2 0-.4-.1-.5-.2-.3-.3-.3-.8 0-1.1L6.9 6 4.2 3.3c-.3-.3-.3-.8 0-1.1.3-.3.8-.3 1.1 0l3.3 3.2c.3.3.3.8 0 1.1L5.3 9.7c-.2.2-.4.3-.6.3Z"></path></svg></div><div id=":R2aclmdaeb:" class="PRIVATE_TreeView-item-content"><div class="PRIVATE_VisuallyHidden" aria-hidden="true" id=":R2aclmdaebH1:"></div><div class="PRIVATE_TreeView-item-visual" aria-hidden="true"><div class="PRIVATE_TreeView-directory-icon"><svg aria-hidden="true" focusable="false" class="octicon octicon-file-directory-fill" viewBox="0 0 16 16" width="16" height="16" fill="currentColor" style="display:inline-block;user-select:none;vertical-align:text-bottom;overflow:visible"><path d="M1.75 1A1.75 1.75 0 0 0 0 2.75v10.5C0 14.216.784 15 1.75 15h12.5A1.75 1.75 0 0 0 16 13.25v-8.5A1.75 1.75 0 0 0 14.25 3H7.5a.25.25 0 0 1-.2-.1l-.9-1.2C6.07 1.26 5.55 1 5 1H1.75Z"></path></svg></div></div><span class="PRIVATE_TreeView-item-content-text"><span>5_ Conditional Prob</span></span></div></div></li><li class="PRIVATE_TreeView-item" tabindex="0" id="6_ Sampling-item" role="treeitem" aria-labelledby=":R2qclmdaeb:" aria-describedby=":R2qclmdaebH1: :R2qclmdaebH2:" aria-level="1" aria-expanded="true" aria-selected="false"><div class="PRIVATE_TreeView-item-container" style="--level:1;content-visibility:auto;contain-intrinsic-size:auto 2rem"><div style="grid-area:spacer;display:flex"><div style="width:100%;display:flex"></div></div><div class="PRIVATE_TreeView-item-toggle PRIVATE_TreeView-item-toggle--hover PRIVATE_TreeView-item-toggle--end"><svg aria-hidden="true" focusable="false" class="octicon octicon-chevron-down" viewBox="0 0 12 12" width="12" height="12" fill="currentColor" style="display:inline-block;user-select:none;vertical-align:text-bottom;overflow:visible"><path d="M6 8.825c-.2 0-.4-.1-.5-.2l-3.3-3.3c-.3-.3-.3-.8 0-1.1.3-.3.8-.3 1.1 0l2.7 2.7 2.7-2.7c.3-.3.8-.3 1.1 0 .3.3.3.8 0 1.1l-3.2 3.2c-.2.2-.4.3-.6.3Z"></path></svg></div><div id=":R2qclmdaeb:" class="PRIVATE_TreeView-item-content"><div class="PRIVATE_VisuallyHidden" aria-hidden="true" id=":R2qclmdaebH1:"></div><div class="PRIVATE_TreeView-item-visual" aria-hidden="true"><div class="PRIVATE_TreeView-directory-icon"><svg aria-hidden="true" focusable="false" class="octicon octicon-file-directory-open-fill" viewBox="0 0 16 16" width="16" height="16" fill="currentColor" style="display:inline-block;user-select:none;vertical-align:text-bottom;overflow:visible"><path d="M.513 1.513A1.75 1.75 0 0 1 1.75 1h3.5c.55 0 1.07.26 1.4.7l.9 1.2a.25.25 0 0 0 .2.1H13a1 1 0 0 1 1 1v.5H2.75a.75.75 0 0 0 0 1.5h11.978a1 1 0 0 1 .994 1.117L15 13.25A1.75 1.75 0 0 1 13.25 15H1.75A1.75 1.75 0 0 1 0 13.25V2.75c0-.464.184-.91.513-1.237Z"></path></svg></div></div><span class="PRIVATE_TreeView-item-content-text"><span>6_ Sampling</span></span></div></div><ul role="group" style="list-style:none;padding:0;margin:0"><li class="PRIVATE_TreeView-item" tabindex="0" id="6_ Sampling/Sampling - Exercises.ipynb-item" role="treeitem" aria-labelledby=":Rbaqclmdaeb:" aria-describedby=":RbaqclmdaebH1: :RbaqclmdaebH2:" aria-level="2" aria-current="true" aria-selected="false"><div class="PRIVATE_TreeView-item-container" style="--level:2"><div style="grid-area:spacer;display:flex"><div style="width:100%;display:flex"><div class="PRIVATE_TreeView-item-level-line"></div></div></div><div id=":Rbaqclmdaeb:" class="PRIVATE_TreeView-item-content"><div class="PRIVATE_VisuallyHidden" aria-hidden="true" id=":RbaqclmdaebH1:"></div><div class="PRIVATE_TreeView-item-visual" aria-hidden="true"><svg aria-hidden="true" focusable="false" role="img" class="octicon octicon-file" viewBox="0 0 16 16" width="16" height="16" fill="currentColor" style="display:inline-block;user-select:none;vertical-align:text-bottom;overflow:visible"><path d="M2 1.75C2 .784 2.784 0 3.75 0h6.586c.464 0 .909.184 1.237.513l2.914 2.914c.329.328.513.773.513 1.237v9.586A1.75 1.75 0 0 1 13.25 16h-9.5A1.75 1.75 0 0 1 2 14.25Zm1.75-.25a.25.25 0 0 0-.25.25v12.5c0 .138.112.25.25.25h9.5a.25.25 0 0 0 .25-.25V6h-2.75A1.75 1.75 0 0 1 9 4.25V1.5Zm6.75.062V4.25c0 .138.112.25.25.25h2.688l-.011-.013-2.914-2.914-.013-.011Z"></path></svg></div><span class="PRIVATE_TreeView-item-content-text"><span>Sampling - Exercises.ipynb</span></span></div></div></li></ul></li><li class="PRIVATE_TreeView-item" tabindex="0" id="7_ Hypotheses-item" role="treeitem" aria-labelledby=":R3aclmdaeb:" aria-describedby=":R3aclmdaebH1: :R3aclmdaebH2:" aria-level="1" aria-expanded="false" aria-selected="false"><div class="PRIVATE_TreeView-item-container" style="--level:1;content-visibility:auto;contain-intrinsic-size:auto 2rem"><div style="grid-area:spacer;display:flex"><div style="width:100%;display:flex"></div></div><div class="PRIVATE_TreeView-item-toggle PRIVATE_TreeView-item-toggle--hover PRIVATE_TreeView-item-toggle--end"><svg aria-hidden="true" focusable="false" class="octicon octicon-chevron-right" viewBox="0 0 12 12" width="12" height="12" fill="currentColor" style="display:inline-block;user-select:none;vertical-align:text-bottom;overflow:visible"><path d="M4.7 10c-.2 0-.4-.1-.5-.2-.3-.3-.3-.8 0-1.1L6.9 6 4.2 3.3c-.3-.3-.3-.8 0-1.1.3-.3.8-.3 1.1 0l3.3 3.2c.3.3.3.8 0 1.1L5.3 9.7c-.2.2-.4.3-.6.3Z"></path></svg></div><div id=":R3aclmdaeb:" class="PRIVATE_TreeView-item-content"><div class="PRIVATE_VisuallyHidden" aria-hidden="true" id=":R3aclmdaebH1:"></div><div class="PRIVATE_TreeView-item-visual" aria-hidden="true"><div class="PRIVATE_TreeView-directory-icon"><svg aria-hidden="true" focusable="false" class="octicon octicon-file-directory-fill" viewBox="0 0 16 16" width="16" height="16" fill="currentColor" style="display:inline-block;user-select:none;vertical-align:text-bottom;overflow:visible"><path d="M1.75 1A1.75 1.75 0 0 0 0 2.75v10.5C0 14.216.784 15 1.75 15h12.5A1.75 1.75 0 0 0 16 13.25v-8.5A1.75 1.75 0 0 0 14.25 3H7.5a.25.25 0 0 1-.2-.1l-.9-1.2C6.07 1.26 5.55 1 5 1H1.75Z"></path></svg></div></div><span class="PRIVATE_TreeView-item-content-text"><span>7_ Hypotheses</span></span></div></div></li><li class="PRIVATE_TreeView-item" tabindex="0" id="8_ Model Estimation-item" role="treeitem" aria-labelledby=":R3qclmdaeb:" aria-describedby=":R3qclmdaebH1: :R3qclmdaebH2:" aria-level="1" aria-expanded="false" aria-selected="false"><div class="PRIVATE_TreeView-item-container" style="--level:1;content-visibility:auto;contain-intrinsic-size:auto 2rem"><div style="grid-area:spacer;display:flex"><div style="width:100%;display:flex"></div></div><div class="PRIVATE_TreeView-item-toggle PRIVATE_TreeView-item-toggle--hover PRIVATE_TreeView-item-toggle--end"><svg aria-hidden="true" focusable="false" class="octicon octicon-chevron-right" viewBox="0 0 12 12" width="12" height="12" fill="currentColor" style="display:inline-block;user-select:none;vertical-align:text-bottom;overflow:visible"><path d="M4.7 10c-.2 0-.4-.1-.5-.2-.3-.3-.3-.8 0-1.1L6.9 6 4.2 3.3c-.3-.3-.3-.8 0-1.1.3-.3.8-.3 1.1 0l3.3 3.2c.3.3.3.8 0 1.1L5.3 9.7c-.2.2-.4.3-.6.3Z"></path></svg></div><div id=":R3qclmdaeb:" class="PRIVATE_TreeView-item-content"><div class="PRIVATE_VisuallyHidden" aria-hidden="true" id=":R3qclmdaebH1:"></div><div class="PRIVATE_TreeView-item-visual" aria-hidden="true"><div class="PRIVATE_TreeView-directory-icon"><svg aria-hidden="true" focusable="false" class="octicon octicon-file-directory-fill" viewBox="0 0 16 16" width="16" height="16" fill="currentColor" style="display:inline-block;user-select:none;vertical-align:text-bottom;overflow:visible"><path d="M1.75 1A1.75 1.75 0 0 0 0 2.75v10.5C0 14.216.784 15 1.75 15h12.5A1.75 1.75 0 0 0 16 13.25v-8.5A1.75 1.75 0 0 0 14.25 3H7.5a.25.25 0 0 1-.2-.1l-.9-1.2C6.07 1.26 5.55 1 5 1H1.75Z"></path></svg></div></div><span class="PRIVATE_TreeView-item-content-text"><span>8_ Model Estimation</span></span></div></div></li><li class="PRIVATE_TreeView-item" tabindex="0" id="Distributions map.pdf-item" role="treeitem" aria-labelledby=":R4aclmdaeb:" aria-describedby=":R4aclmdaebH1: :R4aclmdaebH2:" aria-level="1" aria-selected="false"><div class="PRIVATE_TreeView-item-container" style="--level:1;content-visibility:auto;contain-intrinsic-size:auto 2rem"><div style="grid-area:spacer;display:flex"><div style="width:100%;display:flex"></div></div><div id=":R4aclmdaeb:" class="PRIVATE_TreeView-item-content"><div class="PRIVATE_VisuallyHidden" aria-hidden="true" id=":R4aclmdaebH1:"></div><div class="PRIVATE_TreeView-item-visual" aria-hidden="true"><svg aria-hidden="true" focusable="false" role="img" class="octicon octicon-file" viewBox="0 0 16 16" width="16" height="16" fill="currentColor" style="display:inline-block;user-select:none;vertical-align:text-bottom;overflow:visible"><path d="M2 1.75C2 .784 2.784 0 3.75 0h6.586c.464 0 .909.184 1.237.513l2.914 2.914c.329.328.513.773.513 1.237v9.586A1.75 1.75 0 0 1 13.25 16h-9.5A1.75 1.75 0 0 1 2 14.25Zm1.75-.25a.25.25 0 0 0-.25.25v12.5c0 .138.112.25.25.25h9.5a.25.25 0 0 0 .25-.25V6h-2.75A1.75 1.75 0 0 1 9 4.25V1.5Zm6.75.062V4.25c0 .138.112.25.25.25h2.688l-.011-.013-2.914-2.914-.013-.011Z"></path></svg></div><span class="PRIVATE_TreeView-item-content-text"><span>Distributions map.pdf</span></span></div></div></li><li class="PRIVATE_TreeView-item" tabindex="0" id="Introduction to Statistics _v22.pdf-item" role="treeitem" aria-labelledby=":R4qclmdaeb:" aria-describedby=":R4qclmdaebH1: :R4qclmdaebH2:" aria-level="1" aria-selected="false"><div class="PRIVATE_TreeView-item-container" style="--level:1;content-visibility:auto;contain-intrinsic-size:auto 2rem"><div style="grid-area:spacer;display:flex"><div style="width:100%;display:flex"></div></div><div id=":R4qclmdaeb:" class="PRIVATE_TreeView-item-content"><div class="PRIVATE_VisuallyHidden" aria-hidden="true" id=":R4qclmdaebH1:"></div><div class="PRIVATE_TreeView-item-visual" aria-hidden="true"><svg aria-hidden="true" focusable="false" role="img" class="octicon octicon-file" viewBox="0 0 16 16" width="16" height="16" fill="currentColor" style="display:inline-block;user-select:none;vertical-align:text-bottom;overflow:visible"><path d="M2 1.75C2 .784 2.784 0 3.75 0h6.586c.464 0 .909.184 1.237.513l2.914 2.914c.329.328.513.773.513 1.237v9.586A1.75 1.75 0 0 1 13.25 16h-9.5A1.75 1.75 0 0 1 2 14.25Zm1.75-.25a.25.25 0 0 0-.25.25v12.5c0 .138.112.25.25.25h9.5a.25.25 0 0 0 .25-.25V6h-2.75A1.75 1.75 0 0 1 9 4.25V1.5Zm6.75.062V4.25c0 .138.112.25.25.25h2.688l-.011-.013-2.914-2.914-.013-.011Z"></path></svg></div><span class="PRIVATE_TreeView-item-content-text"><span>Introduction to Statistics _v22.pdf</span></span></div></div></li><li class="PRIVATE_TreeView-item" tabindex="0" id="README.md-item" role="treeitem" aria-labelledby=":R5aclmdaeb:" aria-describedby=":R5aclmdaebH1: :R5aclmdaebH2:" aria-level="1" aria-selected="false"><div class="PRIVATE_TreeView-item-container" style="--level:1;content-visibility:auto;contain-intrinsic-size:auto 2rem"><div style="grid-area:spacer;display:flex"><div style="width:100%;display:flex"></div></div><div id=":R5aclmdaeb:" class="PRIVATE_TreeView-item-content"><div class="PRIVATE_VisuallyHidden" aria-hidden="true" id=":R5aclmdaebH1:"></div><div class="PRIVATE_TreeView-item-visual" aria-hidden="true"><svg aria-hidden="true" focusable="false" role="img" class="octicon octicon-file" viewBox="0 0 16 16" width="16" height="16" fill="currentColor" style="display:inline-block;user-select:none;vertical-align:text-bottom;overflow:visible"><path d="M2 1.75C2 .784 2.784 0 3.75 0h6.586c.464 0 .909.184 1.237.513l2.914 2.914c.329.328.513.773.513 1.237v9.586A1.75 1.75 0 0 1 13.25 16h-9.5A1.75 1.75 0 0 1 2 14.25Zm1.75-.25a.25.25 0 0 0-.25.25v12.5c0 .138.112.25.25.25h9.5a.25.25 0 0 0 .25-.25V6h-2.75A1.75 1.75 0 0 1 9 4.25V1.5Zm6.75.062V4.25c0 .138.112.25.25.25h2.688l-.011-.013-2.914-2.914-.013-.011Z"></path></svg></div><span class="PRIVATE_TreeView-item-content-text"><span>README.md</span></span></div></div></li><li class="PRIVATE_TreeView-item" tabindex="0" id="StatistialTables.pdf-item" role="treeitem" aria-labelledby=":R5qclmdaeb:" aria-describedby=":R5qclmdaebH1: :R5qclmdaebH2:" aria-level="1" aria-selected="false"><div class="PRIVATE_TreeView-item-container" style="--level:1;content-visibility:auto;contain-intrinsic-size:auto 2rem"><div style="grid-area:spacer;display:flex"><div style="width:100%;display:flex"></div></div><div id=":R5qclmdaeb:" class="PRIVATE_TreeView-item-content"><div class="PRIVATE_VisuallyHidden" aria-hidden="true" id=":R5qclmdaebH1:"></div><div class="PRIVATE_TreeView-item-visual" aria-hidden="true"><svg aria-hidden="true" focusable="false" role="img" class="octicon octicon-file" viewBox="0 0 16 16" width="16" height="16" fill="currentColor" style="display:inline-block;user-select:none;vertical-align:text-bottom;overflow:visible"><path d="M2 1.75C2 .784 2.784 0 3.75 0h6.586c.464 0 .909.184 1.237.513l2.914 2.914c.329.328.513.773.513 1.237v9.586A1.75 1.75 0 0 1 13.25 16h-9.5A1.75 1.75 0 0 1 2 14.25Zm1.75-.25a.25.25 0 0 0-.25.25v12.5c0 .138.112.25.25.25h9.5a.25.25 0 0 0 .25-.25V6h-2.75A1.75 1.75 0 0 1 9 4.25V1.5Zm6.75.062V4.25c0 .138.112.25.25.25h2.688l-.011-.013-2.914-2.914-.013-.011Z"></path></svg></div><span class="PRIVATE_TreeView-item-content-text"><span>StatistialTables.pdf</span></span></div></div></li><li class="PRIVATE_TreeView-item" tabindex="0" id="readme.txt-item" role="treeitem" aria-labelledby=":R6aclmdaeb:" aria-describedby=":R6aclmdaebH1: :R6aclmdaebH2:" aria-level="1" aria-selected="false"><div class="PRIVATE_TreeView-item-container" style="--level:1;content-visibility:auto;contain-intrinsic-size:auto 2rem"><div style="grid-area:spacer;display:flex"><div style="width:100%;display:flex"></div></div><div id=":R6aclmdaeb:" class="PRIVATE_TreeView-item-content"><div class="PRIVATE_VisuallyHidden" aria-hidden="true" id=":R6aclmdaebH1:"></div><div class="PRIVATE_TreeView-item-visual" aria-hidden="true"><svg aria-hidden="true" focusable="false" role="img" class="octicon octicon-file" viewBox="0 0 16 16" width="16" height="16" fill="currentColor" style="display:inline-block;user-select:none;vertical-align:text-bottom;overflow:visible"><path d="M2 1.75C2 .784 2.784 0 3.75 0h6.586c.464 0 .909.184 1.237.513l2.914 2.914c.329.328.513.773.513 1.237v9.586A1.75 1.75 0 0 1 13.25 16h-9.5A1.75 1.75 0 0 1 2 14.25Zm1.75-.25a.25.25 0 0 0-.25.25v12.5c0 .138.112.25.25.25h9.5a.25.25 0 0 0 .25-.25V6h-2.75A1.75 1.75 0 0 1 9 4.25V1.5Zm6.75.062V4.25c0 .138.112.25.25.25h2.688l-.011-.013-2.914-2.914-.013-.011Z"></path></svg></div><span class="PRIVATE_TreeView-item-content-text"><span>readme.txt</span></span></div></div></li><li class="PRIVATE_TreeView-item" tabindex="0" id="requirements.txt-item" role="treeitem" aria-labelledby=":R6qclmdaeb:" aria-describedby=":R6qclmdaebH1: :R6qclmdaebH2:" aria-level="1" aria-selected="false"><div class="PRIVATE_TreeView-item-container" style="--level:1;content-visibility:auto;contain-intrinsic-size:auto 2rem"><div style="grid-area:spacer;display:flex"><div style="width:100%;display:flex"></div></div><div id=":R6qclmdaeb:" class="PRIVATE_TreeView-item-content"><div class="PRIVATE_VisuallyHidden" aria-hidden="true" id=":R6qclmdaebH1:"></div><div class="PRIVATE_TreeView-item-visual" aria-hidden="true"><svg aria-hidden="true" focusable="false" role="img" class="octicon octicon-file" viewBox="0 0 16 16" width="16" height="16" fill="currentColor" style="display:inline-block;user-select:none;vertical-align:text-bottom;overflow:visible"><path d="M2 1.75C2 .784 2.784 0 3.75 0h6.586c.464 0 .909.184 1.237.513l2.914 2.914c.329.328.513.773.513 1.237v9.586A1.75 1.75 0 0 1 13.25 16h-9.5A1.75 1.75 0 0 1 2 14.25Zm1.75-.25a.25.25 0 0 0-.25.25v12.5c0 .138.112.25.25.25h9.5a.25.25 0 0 0 .25-.25V6h-2.75A1.75 1.75 0 0 1 9 4.25V1.5Zm6.75.062V4.25c0 .138.112.25.25.25h2.688l-.011-.013-2.914-2.914-.013-.011Z"></path></svg></div><span class="PRIVATE_TreeView-item-content-text"><span>requirements.txt</span></span></div></div></li></ul></nav></div></div></div></div></div></div><div class="Box-sc-g0xbh4-0 hAeDYA"><div role="slider" aria-label="Draggable pane splitter" aria-valuemin="0" aria-valuemax="0" aria-valuenow="0" aria-valuetext="Pane width 0 pixels" tabindex="0" class="Box-sc-g0xbh4-0 fjdBNx"></div></div></div></div><div class="Box-sc-g0xbh4-0 emFMJu"><div class="Box-sc-g0xbh4-0"></div><div class="Box-sc-g0xbh4-0 hlUAHL"><div data-selector="repos-split-pane-content" tabindex="0" class="Box-sc-g0xbh4-0 iStsmI"><div class="Box-sc-g0xbh4-0 eIgvIk"><div class="Box-sc-g0xbh4-0 eVFfWF container"><div class="px-3 pt-3 pb-0" id="StickyHeader"><div class="Box-sc-g0xbh4-0 fywjmm"><div class="Box-sc-g0xbh4-0 dyczTK"><div class="Box-sc-g0xbh4-0 kszRgZ"><div class="Box-sc-g0xbh4-0 eTvGbF"><nav data-testid="breadcrumbs" aria-labelledby="repos-header-breadcrumb--wide-heading" id="repos-header-breadcrumb--wide" class="Box-sc-g0xbh4-0 kzRgrI"><h2 class="Heading__StyledHeading-sc-1c1dgg0-0 fpGZrB sr-only" data-testid="screen-reader-heading" id="repos-header-breadcrumb--wide-heading">Breadcrumbs</h2><ol class="Box-sc-g0xbh4-0 cmAPIB"><li class="Box-sc-g0xbh4-0 jwXCBK"><a sx="[object Object]" data-testid="breadcrumbs-repo-link" class="Link__StyledLink-sc-14289xe-0 ipyMWB" href="/MathforDataScience/DSR_Statistics1/tree/main">DSR_Statistics1</a></li><li class="Box-sc-g0xbh4-0 jwXCBK"><span aria-hidden="true" class="Text-sc-17v1xeu-0 fIsVJr">/</span><a sx="[object Object]" class="Link__StyledLink-sc-14289xe-0 jmkYvv" href="/MathforDataScience/DSR_Statistics1/tree/main/6_%20Sampling">6_ Sampling</a></li></ol></nav><div data-testid="breadcrumbs-filename" class="Box-sc-g0xbh4-0 jwXCBK"><span aria-hidden="true" class="Text-sc-17v1xeu-0 fIsVJr">/</span><h1 tabindex="-1" id="file-name-id-wide" class="Heading__StyledHeading-sc-1c1dgg0-0 eqidDl">Sampling - Exercises.ipynb</h1></div><div aria-describedby=":R3badaeb:"><button data-component="IconButton" type="button" aria-label="Copy path" tabindex="0" class="types__StyledButton-sc-ws60qy-0 emYRmJ" data-loading="false" data-no-visuals="true" data-size="small" aria-describedby=":Rfbadaeb:-loading-announcement"><svg aria-hidden="true" focusable="false" role="img" class="octicon octicon-copy" viewBox="0 0 16 16" width="16" height="16" fill="currentColor" style="display:inline-block;user-select:none;vertical-align:text-bottom;overflow:visible"><path d="M0 6.75C0 5.784.784 5 1.75 5h1.5a.75.75 0 0 1 0 1.5h-1.5a.25.25 0 0 0-.25.25v7.5c0 .138.112.25.25.25h7.5a.25.25 0 0 0 .25-.25v-1.5a.75.75 0 0 1 1.5 0v1.5A1.75 1.75 0 0 1 9.25 16h-7.5A1.75 1.75 0 0 1 0 14.25Z"></path><path d="M5 1.75C5 .784 5.784 0 6.75 0h7.5C15.216 0 16 .784 16 1.75v7.5A1.75 1.75 0 0 1 14.25 11h-7.5A1.75 1.75 0 0 1 5 9.25Zm1.75-.25a.25.25 0 0 0-.25.25v7.5c0 .138.112.25.25.25h7.5a.25.25 0 0 0 .25-.25v-7.5a.25.25 0 0 0-.25-.25Z"></path></svg></button></div></div></div><div class="react-code-view-header-element--wide"><div class="Box-sc-g0xbh4-0 gtBUEp"><div class="d-flex gap-2"> <button type="button" data-loading="false" data-no-visuals="true" aria-describedby=":Rl9jadaeb:-loading-announcement" class="types__StyledButton-sc-ws60qy-0 jFcVkf"><span data-component="buttonContent" class="Box-sc-g0xbh4-0 kkrdEu"><span data-component="text">Blame</span></span></button><button hidden="" data-testid="" data-hotkey-scope="read-only-cursor-text-area"></button><button data-component="IconButton" type="button" aria-label="More file actions" class="types__StyledButton-sc-ws60qy-0 kuXPuQ js-blob-dropdown-click" title="More file actions" data-testid="more-file-actions-button-nav-menu-wide" aria-haspopup="true" aria-expanded="false" tabindex="0" data-loading="false" data-no-visuals="true" aria-describedby=":R99jadaeb:-loading-announcement" id=":R99jadaeb:"><svg aria-hidden="true" focusable="false" role="img" class="octicon octicon-kebab-horizontal" viewBox="0 0 16 16" width="16" height="16" fill="currentColor" style="display:inline-block;user-select:none;vertical-align:text-bottom;overflow:visible"><path d="M8 9a1.5 1.5 0 1 0 0-3 1.5 1.5 0 0 0 0 3ZM1.5 9a1.5 1.5 0 1 0 0-3 1.5 1.5 0 0 0 0 3Zm13 0a1.5 1.5 0 1 0 0-3 1.5 1.5 0 0 0 0 3Z"></path></svg></button> </div></div></div><div class="react-code-view-header-element--narrow"><div class="Box-sc-g0xbh4-0 gtBUEp"><div class="d-flex gap-2"> <button type="button" data-loading="false" data-no-visuals="true" aria-describedby=":Rl9radaeb:-loading-announcement" class="types__StyledButton-sc-ws60qy-0 jFcVkf"><span data-component="buttonContent" class="Box-sc-g0xbh4-0 kkrdEu"><span data-component="text">Blame</span></span></button><button hidden="" data-testid="" data-hotkey-scope="read-only-cursor-text-area"></button><button data-component="IconButton" type="button" aria-label="More file actions" class="types__StyledButton-sc-ws60qy-0 kuXPuQ js-blob-dropdown-click" title="More file actions" data-testid="more-file-actions-button-nav-menu-narrow" aria-haspopup="true" aria-expanded="false" tabindex="0" data-loading="false" data-no-visuals="true" aria-describedby=":R99radaeb:-loading-announcement" id=":R99radaeb:"><svg aria-hidden="true" focusable="false" role="img" class="octicon octicon-kebab-horizontal" viewBox="0 0 16 16" width="16" height="16" fill="currentColor" style="display:inline-block;user-select:none;vertical-align:text-bottom;overflow:visible"><path d="M8 9a1.5 1.5 0 1 0 0-3 1.5 1.5 0 0 0 0 3ZM1.5 9a1.5 1.5 0 1 0 0-3 1.5 1.5 0 0 0 0 3Zm13 0a1.5 1.5 0 1 0 0-3 1.5 1.5 0 0 0 0 3Z"></path></svg></button> </div></div></div></div></div></div></div></div><div class="Box-sc-g0xbh4-0 hVZtwF react-code-view-bottom-padding"> <div class="Box-sc-g0xbh4-0 cMYnca"></div> <!-- --> <!-- --> </div><div class="Box-sc-g0xbh4-0 hVZtwF"> <!-- --> <!-- --> <div class="d-flex flex-column border rounded-2 mb-3 pl-1"><div class="Box-sc-g0xbh4-0 brJRqk"><h2 class="Heading__StyledHeading-sc-1c1dgg0-0 fpGZrB sr-only" data-testid="screen-reader-heading">Latest commit</h2><div style="width:120px" class="Skeleton Skeleton--text" data-testid="loading"> </div><div class="d-flex flex-shrink-0 gap-2"><div data-testid="latest-commit-details" class="d-none d-sm-flex flex-items-center"></div><div class="d-flex gap-2"><h2 class="Heading__StyledHeading-sc-1c1dgg0-0 fpGZrB sr-only" data-testid="screen-reader-heading">History</h2><a class="types__StyledButton-sc-ws60qy-0 emYRmJ d-none d-lg-flex LinkButton-module__code-view-link-button--xvCGA flex-items-center fgColor-default" href="/MathforDataScience/DSR_Statistics1/commits/main/6_%20Sampling/Sampling%20-%20Exercises.ipynb" data-loading="false" data-size="small" aria-describedby=":R1bdaladaeb:-loading-announcement"><span data-component="buttonContent" class="Box-sc-g0xbh4-0 kkrdEu"><span data-component="leadingVisual" class="Box-sc-g0xbh4-0 trpoQ"><svg aria-hidden="true" focusable="false" role="img" class="octicon octicon-history" viewBox="0 0 16 16" width="16" height="16" fill="currentColor" style="display:inline-block;user-select:none;vertical-align:text-bottom;overflow:visible"><path d="m.427 1.927 1.215 1.215a8.002 8.002 0 1 1-1.6 5.685.75.75 0 1 1 1.493-.154 6.5 6.5 0 1 0 1.18-4.458l1.358 1.358A.25.25 0 0 1 3.896 6H.25A.25.25 0 0 1 0 5.75V2.104a.25.25 0 0 1 .427-.177ZM7.75 4a.75.75 0 0 1 .75.75v2.992l2.028.812a.75.75 0 0 1-.557 1.392l-2.5-1A.751.751 0 0 1 7 8.25v-3.5A.75.75 0 0 1 7.75 4Z"></path></svg></span><span data-component="text"><span class="fgColor-default">History</span></span></span></a><div class="d-sm-none"></div><div class="d-flex d-lg-none"><span role="tooltip" aria-label="History" id="history-icon-button-tooltip" class="Tooltip__TooltipBase-sc-17tf59c-0 gNgnVl tooltipped-n"><a class="types__StyledButton-sc-ws60qy-0 emYRmJ LinkButton-module__code-view-link-button--xvCGA flex-items-center fgColor-default" href="/MathforDataScience/DSR_Statistics1/commits/main/6_%20Sampling/Sampling%20-%20Exercises.ipynb" data-loading="false" data-size="small" aria-describedby=":R6bdaladaeb:-loading-announcement history-icon-button-tooltip"><span data-component="buttonContent" class="Box-sc-g0xbh4-0 kkrdEu"><span data-component="leadingVisual" class="Box-sc-g0xbh4-0 trpoQ"><svg aria-hidden="true" focusable="false" role="img" class="octicon octicon-history" viewBox="0 0 16 16" width="16" height="16" fill="currentColor" style="display:inline-block;user-select:none;vertical-align:text-bottom;overflow:visible"><path d="m.427 1.927 1.215 1.215a8.002 8.002 0 1 1-1.6 5.685.75.75 0 1 1 1.493-.154 6.5 6.5 0 1 0 1.18-4.458l1.358 1.358A.25.25 0 0 1 3.896 6H.25A.25.25 0 0 1 0 5.75V2.104a.25.25 0 0 1 .427-.177ZM7.75 4a.75.75 0 0 1 .75.75v2.992l2.028.812a.75.75 0 0 1-.557 1.392l-2.5-1A.751.751 0 0 1 7 8.25v-3.5A.75.75 0 0 1 7.75 4Z"></path></svg></span></span></a></span></div></div></div></div></div><div class="Box-sc-g0xbh4-0 iJmJly"><div class="Box-sc-g0xbh4-0 jACbi container"><div class="Box-sc-g0xbh4-0 gIJuDf react-code-size-details-banner"><div class="Box-sc-g0xbh4-0 fleZSW react-code-size-details-banner"><div class="Box-sc-g0xbh4-0 BnySK text-mono"><div title="107 KB" data-testid="blob-size" class="Truncate__StyledTruncate-sc-23o1d2-0 fUpWeN"><span>447 lines (447 loc) · 107 KB</span></div></div></div><div class="react-code-size-details-banner"><button style="--button-color:fg.default" type="button" aria-haspopup="true" aria-expanded="false" tabindex="0" data-testid="copilot-popover-button" data-loading="false" data-size="small" aria-describedby=":R9faladaeb:-loading-announcement" id=":R9faladaeb:" class="types__StyledButton-sc-ws60qy-0 jKgwhU"><span data-component="buttonContent" class="Box-sc-g0xbh4-0 kkrdEu"><span data-component="leadingVisual" class="Box-sc-g0xbh4-0 trpoQ"><svg aria-hidden="true" focusable="false" role="img" class="octicon octicon-copilot" viewBox="0 0 16 16" width="16" height="16" fill="currentColor" style="display:inline-block;user-select:none;vertical-align:text-bottom;overflow:visible"><path d="M7.998 15.035c-4.562 0-7.873-2.914-7.998-3.749V9.338c.085-.628.677-1.686 1.588-2.065.013-.07.024-.143.036-.218.029-.183.06-.384.126-.612-.201-.508-.254-1.084-.254-1.656 0-.87.128-1.769.693-2.484.579-.733 1.494-1.124 2.724-1.261 1.206-.134 2.262.034 2.944.765.05.053.096.108.139.165.044-.057.094-.112.143-.165.682-.731 1.738-.899 2.944-.765 1.23.137 2.145.528 2.724 1.261.566.715.693 1.614.693 2.484 0 .572-.053 1.148-.254 1.656.066.228.098.429.126.612.012.076.024.148.037.218.924.385 1.522 1.471 1.591 2.095v1.872c0 .766-3.351 3.795-8.002 3.795Zm0-1.485c2.28 0 4.584-1.11 5.002-1.433V7.862l-.023-.116c-.49.21-1.075.291-1.727.291-1.146 0-2.059-.327-2.71-.991A3.222 3.222 0 0 1 8 6.303a3.24 3.24 0 0 1-.544.743c-.65.664-1.563.991-2.71.991-.652 0-1.236-.081-1.727-.291l-.023.116v4.255c.419.323 2.722 1.433 5.002 1.433ZM6.762 2.83c-.193-.206-.637-.413-1.682-.297-1.019.113-1.479.404-1.713.7-.247.312-.369.789-.369 1.554 0 .793.129 1.171.308 1.371.162.181.519.379 1.442.379.853 0 1.339-.235 1.638-.54.315-.322.527-.827.617-1.553.117-.935-.037-1.395-.241-1.614Zm4.155-.297c-1.044-.116-1.488.091-1.681.297-.204.219-.359.679-.242 1.614.091.726.303 1.231.618 1.553.299.305.784.54 1.638.54.922 0 1.28-.198 1.442-.379.179-.2.308-.578.308-1.371 0-.765-.123-1.242-.37-1.554-.233-.296-.693-.587-1.713-.7Z"></path><path d="M6.25 9.037a.75.75 0 0 1 .75.75v1.501a.75.75 0 0 1-1.5 0V9.787a.75.75 0 0 1 .75-.75Zm4.25.75v1.501a.75.75 0 0 1-1.5 0V9.787a.75.75 0 0 1 1.5 0Z"></path></svg></span><span data-component="text">Code 55% faster with GitHub Copilot</span></span></button></div></div><div class="Box-sc-g0xbh4-0 VHzRk react-blob-view-header-sticky" id="repos-sticky-header"><div class="Box-sc-g0xbh4-0 ePiodO"><div class="react-blob-sticky-header"><div class="Box-sc-g0xbh4-0 kQJlnf"><div class="Box-sc-g0xbh4-0 gJICKO"><div class="Box-sc-g0xbh4-0 iZJewz"><nav data-testid="breadcrumbs" aria-labelledby="sticky-breadcrumb-heading" id="sticky-breadcrumb" class="Box-sc-g0xbh4-0 kzRgrI"><h2 class="Heading__StyledHeading-sc-1c1dgg0-0 fpGZrB sr-only" data-testid="screen-reader-heading" id="sticky-breadcrumb-heading">Breadcrumbs</h2><ol class="Box-sc-g0xbh4-0 cmAPIB"><li class="Box-sc-g0xbh4-0 jwXCBK"><a sx="[object Object]" data-testid="breadcrumbs-repo-link" class="Link__StyledLink-sc-14289xe-0 ipyMWB" href="/MathforDataScience/DSR_Statistics1/tree/main">DSR_Statistics1</a></li><li class="Box-sc-g0xbh4-0 jwXCBK"><span aria-hidden="true" class="Text-sc-17v1xeu-0 cYjMDB">/</span><a sx="[object Object]" class="Link__StyledLink-sc-14289xe-0 jmkYvv" href="/MathforDataScience/DSR_Statistics1/tree/main/6_%20Sampling">6_ Sampling</a></li></ol></nav><div data-testid="breadcrumbs-filename" class="Box-sc-g0xbh4-0 jwXCBK"><span aria-hidden="true" class="Text-sc-17v1xeu-0 cYjMDB">/</span><h1 tabindex="-1" id="sticky-file-name-id" class="Heading__StyledHeading-sc-1c1dgg0-0 eDVSKn">Sampling - Exercises.ipynb</h1></div></div><button style="--button-color:fg.default" type="button" data-loading="false" data-size="small" aria-describedby=":R4mfaladaeb:-loading-announcement" class="types__StyledButton-sc-ws60qy-0 bDTxaK"><span data-component="buttonContent" class="Box-sc-g0xbh4-0 kkrdEu"><span data-component="leadingVisual" class="Box-sc-g0xbh4-0 trpoQ"><svg aria-hidden="true" focusable="false" role="img" class="octicon octicon-arrow-up" viewBox="0 0 16 16" width="16" height="16" fill="currentColor" style="display:inline-block;user-select:none;vertical-align:text-bottom;overflow:visible"><path d="M3.47 7.78a.75.75 0 0 1 0-1.06l4.25-4.25a.75.75 0 0 1 1.06 0l4.25 4.25a.751.751 0 0 1-.018 1.042.751.751 0 0 1-1.042.018L9 4.81v7.44a.75.75 0 0 1-1.5 0V4.81L4.53 7.78a.75.75 0 0 1-1.06 0Z"></path></svg></span><span data-component="text">Top</span></span></button></div></div></div><div class="Box-sc-g0xbh4-0 jfjHXm"><h2 class="Heading__StyledHeading-sc-1c1dgg0-0 fpGZrB sr-only" data-testid="screen-reader-heading">File metadata and controls</h2><div class="Box-sc-g0xbh4-0 bfkNRF"><ul aria-label="File view" class="SegmentedControl__SegmentedControlList-sc-1rzig82-0 ehDMvU"><li class="Box-sc-g0xbh4-0 fXBLEV"><button aria-current="true" type="button" class="SegmentedControlButton__SegmentedControlButtonStyled-sc-8lkgxl-0 jEdVkE"><span class="segmentedControl-content"><div class="Box-sc-g0xbh4-0 segmentedControl-text">Preview</div></span></button></li><li class="Box-sc-g0xbh4-0 gMPsNT"><button aria-current="false" type="button" class="SegmentedControlButton__SegmentedControlButtonStyled-sc-8lkgxl-0 TvbfG"><span class="segmentedControl-content"><div class="Box-sc-g0xbh4-0 segmentedControl-text">Code</div></span></button></li><li class="Box-sc-g0xbh4-0 gMPsNT"><button aria-current="false" type="button" class="SegmentedControlButton__SegmentedControlButtonStyled-sc-8lkgxl-0 fIktcg"><span class="segmentedControl-content"><div class="Box-sc-g0xbh4-0 segmentedControl-text">Blame</div></span></button></li></ul><button hidden="" data-testid="" data-hotkey-scope="read-only-cursor-text-area"></button><button hidden="" data-testid="" data-hotkey-scope="read-only-cursor-text-area"></button><button hidden="" data-testid="" data-hotkey-scope="read-only-cursor-text-area"></button><div class="Box-sc-g0xbh4-0 fleZSW react-code-size-details-in-header"><div class="Box-sc-g0xbh4-0 BnySK text-mono"><div title="107 KB" data-testid="blob-size" class="Truncate__StyledTruncate-sc-23o1d2-0 fUpWeN"><span>447 lines (447 loc) · 107 KB</span></div></div></div><div class="react-code-size-details-in-header"><button style="--button-color:fg.default" type="button" aria-haspopup="true" aria-expanded="false" tabindex="0" data-testid="copilot-popover-button" data-loading="false" data-size="small" aria-describedby=":Rt6faladaeb:-loading-announcement" id=":Rt6faladaeb:" class="types__StyledButton-sc-ws60qy-0 jKgwhU"><span data-component="buttonContent" class="Box-sc-g0xbh4-0 kkrdEu"><span data-component="leadingVisual" class="Box-sc-g0xbh4-0 trpoQ"><svg aria-hidden="true" focusable="false" role="img" class="octicon octicon-copilot" viewBox="0 0 16 16" width="16" height="16" fill="currentColor" style="display:inline-block;user-select:none;vertical-align:text-bottom;overflow:visible"><path d="M7.998 15.035c-4.562 0-7.873-2.914-7.998-3.749V9.338c.085-.628.677-1.686 1.588-2.065.013-.07.024-.143.036-.218.029-.183.06-.384.126-.612-.201-.508-.254-1.084-.254-1.656 0-.87.128-1.769.693-2.484.579-.733 1.494-1.124 2.724-1.261 1.206-.134 2.262.034 2.944.765.05.053.096.108.139.165.044-.057.094-.112.143-.165.682-.731 1.738-.899 2.944-.765 1.23.137 2.145.528 2.724 1.261.566.715.693 1.614.693 2.484 0 .572-.053 1.148-.254 1.656.066.228.098.429.126.612.012.076.024.148.037.218.924.385 1.522 1.471 1.591 2.095v1.872c0 .766-3.351 3.795-8.002 3.795Zm0-1.485c2.28 0 4.584-1.11 5.002-1.433V7.862l-.023-.116c-.49.21-1.075.291-1.727.291-1.146 0-2.059-.327-2.71-.991A3.222 3.222 0 0 1 8 6.303a3.24 3.24 0 0 1-.544.743c-.65.664-1.563.991-2.71.991-.652 0-1.236-.081-1.727-.291l-.023.116v4.255c.419.323 2.722 1.433 5.002 1.433ZM6.762 2.83c-.193-.206-.637-.413-1.682-.297-1.019.113-1.479.404-1.713.7-.247.312-.369.789-.369 1.554 0 .793.129 1.171.308 1.371.162.181.519.379 1.442.379.853 0 1.339-.235 1.638-.54.315-.322.527-.827.617-1.553.117-.935-.037-1.395-.241-1.614Zm4.155-.297c-1.044-.116-1.488.091-1.681.297-.204.219-.359.679-.242 1.614.091.726.303 1.231.618 1.553.299.305.784.54 1.638.54.922 0 1.28-.198 1.442-.379.179-.2.308-.578.308-1.371 0-.765-.123-1.242-.37-1.554-.233-.296-.693-.587-1.713-.7Z"></path><path d="M6.25 9.037a.75.75 0 0 1 .75.75v1.501a.75.75 0 0 1-1.5 0V9.787a.75.75 0 0 1 .75-.75Zm4.25.75v1.501a.75.75 0 0 1-1.5 0V9.787a.75.75 0 0 1 1.5 0Z"></path></svg></span><span data-component="text">Code 55% faster with GitHub Copilot</span></span></button></div></div><div class="Box-sc-g0xbh4-0 iBylDf"><div class="Box-sc-g0xbh4-0 kSGBPx react-blob-header-edit-and-raw-actions"><div class="ButtonGroup-sc-1gxhls1-0 cpVEZe"><a href="https://github.com/MathforDataScience/DSR_Statistics1/raw/main/6_%20Sampling/Sampling%20-%20Exercises.ipynb" data-testid="raw-button" data-loading="false" data-no-visuals="true" data-size="small" aria-describedby=":R1b76faladaeb:-loading-announcement" class="types__StyledButton-sc-ws60qy-0 jUNlHb"><span data-component="buttonContent" class="Box-sc-g0xbh4-0 kkrdEu"><span data-component="text">Raw</span></span></a><button data-component="IconButton" type="button" aria-label="Copy raw content" data-testid="copy-raw-button" data-loading="false" data-no-visuals="true" data-size="small" aria-describedby=":R6b76faladaeb:-loading-announcement" class="types__StyledButton-sc-ws60qy-0 feqCqy"><svg aria-hidden="true" focusable="false" role="img" class="octicon octicon-copy" viewBox="0 0 16 16" width="16" height="16" fill="currentColor" style="display:inline-block;user-select:none;vertical-align:text-bottom;overflow:visible"><path d="M0 6.75C0 5.784.784 5 1.75 5h1.5a.75.75 0 0 1 0 1.5h-1.5a.25.25 0 0 0-.25.25v7.5c0 .138.112.25.25.25h7.5a.25.25 0 0 0 .25-.25v-1.5a.75.75 0 0 1 1.5 0v1.5A1.75 1.75 0 0 1 9.25 16h-7.5A1.75 1.75 0 0 1 0 14.25Z"></path><path d="M5 1.75C5 .784 5.784 0 6.75 0h7.5C15.216 0 16 .784 16 1.75v7.5A1.75 1.75 0 0 1 14.25 11h-7.5A1.75 1.75 0 0 1 5 9.25Zm1.75-.25a.25.25 0 0 0-.25.25v7.5c0 .138.112.25.25.25h7.5a.25.25 0 0 0 .25-.25v-7.5a.25.25 0 0 0-.25-.25Z"></path></svg></button><span role="tooltip" aria-label="Download raw file" id=":R3b76faladaeb:" class="Tooltip__TooltipBase-sc-17tf59c-0 gNgnVl tooltipped-n"><button data-component="IconButton" type="button" aria-label="Download raw content" data-testid="download-raw-button" data-loading="false" data-no-visuals="true" data-size="small" aria-describedby=":R7b76faladaeb:-loading-announcement" class="types__StyledButton-sc-ws60qy-0 bfWknm"><svg aria-hidden="true" focusable="false" role="img" class="octicon octicon-download" viewBox="0 0 16 16" width="16" height="16" fill="currentColor" style="display:inline-block;user-select:none;vertical-align:text-bottom;overflow:visible"><path d="M2.75 14A1.75 1.75 0 0 1 1 12.25v-2.5a.75.75 0 0 1 1.5 0v2.5c0 .138.112.25.25.25h10.5a.25.25 0 0 0 .25-.25v-2.5a.75.75 0 0 1 1.5 0v2.5A1.75 1.75 0 0 1 13.25 14Z"></path><path d="M7.25 7.689V2a.75.75 0 0 1 1.5 0v5.689l1.97-1.969a.749.749 0 1 1 1.06 1.06l-3.25 3.25a.749.749 0 0 1-1.06 0L4.22 6.78a.749.749 0 1 1 1.06-1.06l1.97 1.969Z"></path></svg></button></span></div><button hidden="" data-testid="raw-button-shortcut" data-hotkey-scope="read-only-cursor-text-area"></button><button hidden="" data-testid="copy-raw-button-shortcut" data-hotkey-scope="read-only-cursor-text-area"></button><button hidden="" data-testid="download-raw-button-shortcut" data-hotkey-scope="read-only-cursor-text-area"></button><a class="Link__StyledLink-sc-14289xe-0 dheQRw js-github-dev-shortcut d-none" href="https://github.dev/"></a><button hidden="" data-testid="" data-hotkey-scope="read-only-cursor-text-area"></button><a class="Link__StyledLink-sc-14289xe-0 dheQRw js-github-dev-new-tab-shortcut d-none" href="https://github.dev/" target="_blank"></a><button hidden="" data-testid="" data-hotkey-scope="read-only-cursor-text-area"></button><div class="ButtonGroup-sc-1gxhls1-0 cpVEZe"><span role="tooltip" aria-label="Edit this file" id=":R1l76faladaeb:" class="Tooltip__TooltipBase-sc-17tf59c-0 gNgnVl tooltipped-nw"><a sx="[object Object]" data-component="IconButton" type="button" aria-label="Edit file" data-testid="edit-button" data-loading="false" data-no-visuals="true" data-size="small" aria-describedby=":R5l76faladaeb:-loading-announcement" class="types__StyledButton-sc-ws60qy-0 eBqjKw" href="/MathforDataScience/DSR_Statistics1/edit/main/6_%20Sampling/Sampling%20-%20Exercises.ipynb"><svg aria-hidden="true" focusable="false" role="img" class="octicon octicon-pencil" viewBox="0 0 16 16" width="16" height="16" fill="currentColor" style="display:inline-block;user-select:none;vertical-align:text-bottom;overflow:visible"><path d="M11.013 1.427a1.75 1.75 0 0 1 2.474 0l1.086 1.086a1.75 1.75 0 0 1 0 2.474l-8.61 8.61c-.21.21-.47.364-.756.445l-3.251.93a.75.75 0 0 1-.927-.928l.929-3.25c.081-.286.235-.547.445-.758l8.61-8.61Zm.176 4.823L9.75 4.81l-6.286 6.287a.253.253 0 0 0-.064.108l-.558 1.953 1.953-.558a.253.253 0 0 0 .108-.064Zm1.238-3.763a.25.25 0 0 0-.354 0L10.811 3.75l1.439 1.44 1.263-1.263a.25.25 0 0 0 0-.354Z"></path></svg></a></span><button data-component="IconButton" type="button" aria-label="More edit options" data-testid="more-edit-button" aria-haspopup="true" aria-expanded="false" tabindex="0" data-loading="false" data-no-visuals="true" data-size="small" aria-describedby=":R2l76faladaeb:-loading-announcement" id=":R2l76faladaeb:" class="types__StyledButton-sc-ws60qy-0 feqCqy"><svg aria-hidden="true" focusable="false" role="img" class="octicon octicon-triangle-down" viewBox="0 0 16 16" width="16" height="16" fill="currentColor" style="display:inline-block;user-select:none;vertical-align:text-bottom;overflow:visible"><path d="m4.427 7.427 3.396 3.396a.25.25 0 0 0 .354 0l3.396-3.396A.25.25 0 0 0 11.396 7H4.604a.25.25 0 0 0-.177.427Z"></path></svg></button></div><button hidden="" data-testid="" data-hotkey="e,Shift+E" data-hotkey-scope="read-only-cursor-text-area"></button></div><div class="react-blob-header-edit-and-raw-actions-combined"><button data-component="IconButton" type="button" aria-label="Edit and raw actions" class="types__StyledButton-sc-ws60qy-0 eEspxX js-blob-dropdown-click" title="More file actions" data-testid="more-file-actions-button" aria-haspopup="true" aria-expanded="false" tabindex="0" data-loading="false" data-no-visuals="true" data-size="small" aria-describedby=":R5v6faladaeb:-loading-announcement" id=":R5v6faladaeb:"><svg aria-hidden="true" focusable="false" role="img" class="octicon octicon-kebab-horizontal" viewBox="0 0 16 16" width="16" height="16" fill="currentColor" style="display:inline-block;user-select:none;vertical-align:text-bottom;overflow:visible"><path d="M8 9a1.5 1.5 0 1 0 0-3 1.5 1.5 0 0 0 0 3ZM1.5 9a1.5 1.5 0 1 0 0-3 1.5 1.5 0 0 0 0 3Zm13 0a1.5 1.5 0 1 0 0-3 1.5 1.5 0 0 0 0 3Z"></path></svg></button></div></div></div></div><div></div></div><div class="Box-sc-g0xbh4-0 ytOJl"><section aria-labelledby="file-name-id-wide file-name-id-mobile" class="Box-sc-g0xbh4-0 eJsjkT"><!--$!--><template></template><div data-testid="suspense-spinner" class="Box-sc-g0xbh4-0 bAzdCq"><span class="Box-sc-g0xbh4-0 ioTNdO"><svg height="32px" width="32px" viewBox="0 0 16 16" fill="none" aria-hidden="true" aria-label="Loading" class="Spinner__StyledSpinner-sc-1knt686-0 hPEVNM"><circle cx="8" cy="8" r="7" stroke="currentColor" stroke-opacity="0.25" stroke-width="2" vector-effect="non-scaling-stroke"></circle><path d="M15 8a7.002 7.002 0 00-7-7" stroke="currentColor" stroke-width="2" stroke-linecap="round" vector-effect="non-scaling-stroke"></path></svg></span></div><!--/$--></section></div></div></div> <!-- --> <!-- --> </div></div></div><div class="Box-sc-g0xbh4-0"></div></div></div></div></div><div id="find-result-marks-container" class="Box-sc-g0xbh4-0 aZrVR"></div><button hidden="" data-testid="" data-hotkey-scope="read-only-cursor-text-area"></button><button hidden=""></button></div> <!-- --> <!-- --> <script type="application/json" id="__PRIMER_DATA_:R0:__">{"resolvedServerColorMode":"day"}</script></div>
</react-app>
</turbo-frame>



  </div>

</turbo-frame>

    </main>
  </div>

  </div>

          <footer class="footer pt-8 pb-6 f6 color-fg-muted p-responsive" role="contentinfo" >
  <h2 class='sr-only'>Footer</h2>

  


  <div class="d-flex flex-justify-center flex-items-center flex-column-reverse flex-lg-row flex-wrap flex-lg-nowrap">
    <div class="d-flex flex-items-center flex-shrink-0 mx-2">
      <a aria-label="Homepage" title="GitHub" class="footer-octicon mr-2" href="https://github.com">
        <svg aria-hidden="true" height="24" viewBox="0 0 24 24" version="1.1" width="24" data-view-component="true" class="octicon octicon-mark-github">
    <path d="M12.5.75C6.146.75 1 5.896 1 12.25c0 5.089 3.292 9.387 7.863 10.91.575.101.79-.244.79-.546 0-.273-.014-1.178-.014-2.142-2.889.532-3.636-.704-3.866-1.35-.13-.331-.69-1.352-1.18-1.625-.402-.216-.977-.748-.014-.762.906-.014 1.553.834 1.769 1.179 1.035 1.74 2.688 1.25 3.349.948.1-.747.402-1.25.733-1.538-2.559-.287-5.232-1.279-5.232-5.678 0-1.25.445-2.285 1.178-3.09-.115-.288-.517-1.467.115-3.048 0 0 .963-.302 3.163 1.179.92-.259 1.897-.388 2.875-.388.977 0 1.955.13 2.875.388 2.2-1.495 3.162-1.179 3.162-1.179.633 1.581.23 2.76.115 3.048.733.805 1.179 1.825 1.179 3.09 0 4.413-2.688 5.39-5.247 5.678.417.36.776 1.05.776 2.128 0 1.538-.014 2.774-.014 3.162 0 .302.216.662.79.547C20.709 21.637 24 17.324 24 12.25 24 5.896 18.854.75 12.5.75Z"></path>
</svg>
</a>
      <span>
        &copy; 2024 GitHub,&nbsp;Inc.
      </span>
    </div>

    <nav aria-label="Footer">
      <h3 class="sr-only" id="sr-footer-heading">Footer navigation</h3>

      <ul class="list-style-none d-flex flex-justify-center flex-wrap mb-2 mb-lg-0" aria-labelledby="sr-footer-heading">

          <li class="mx-2">
            <a data-analytics-event="{&quot;category&quot;:&quot;Footer&quot;,&quot;action&quot;:&quot;go to Terms&quot;,&quot;label&quot;:&quot;text:terms&quot;}" href="https://docs.github.com/site-policy/github-terms/github-terms-of-service" data-view-component="true" class="Link--secondary Link">Terms</a>
          </li>

          <li class="mx-2">
            <a data-analytics-event="{&quot;category&quot;:&quot;Footer&quot;,&quot;action&quot;:&quot;go to privacy&quot;,&quot;label&quot;:&quot;text:privacy&quot;}" href="https://docs.github.com/site-policy/privacy-policies/github-privacy-statement" data-view-component="true" class="Link--secondary Link">Privacy</a>
          </li>

          <li class="mx-2">
            <a data-analytics-event="{&quot;category&quot;:&quot;Footer&quot;,&quot;action&quot;:&quot;go to security&quot;,&quot;label&quot;:&quot;text:security&quot;}" href="https://github.com/security" data-view-component="true" class="Link--secondary Link">Security</a>
          </li>

          <li class="mx-2">
            <a data-analytics-event="{&quot;category&quot;:&quot;Footer&quot;,&quot;action&quot;:&quot;go to status&quot;,&quot;label&quot;:&quot;text:status&quot;}" href="https://www.githubstatus.com/" data-view-component="true" class="Link--secondary Link">Status</a>
          </li>

          <li class="mx-2">
            <a data-analytics-event="{&quot;category&quot;:&quot;Footer&quot;,&quot;action&quot;:&quot;go to docs&quot;,&quot;label&quot;:&quot;text:docs&quot;}" href="https://docs.github.com/" data-view-component="true" class="Link--secondary Link">Docs</a>
          </li>

          <li class="mx-2">
            <a data-analytics-event="{&quot;category&quot;:&quot;Footer&quot;,&quot;action&quot;:&quot;go to contact&quot;,&quot;label&quot;:&quot;text:contact&quot;}" href="https://support.github.com?tags=dotcom-footer" data-view-component="true" class="Link--secondary Link">Contact</a>
          </li>

          <li class="mr-3" >
  <cookie-consent-link>
    <button
      type="button"
      class="Link--secondary underline-on-hover border-0 p-0 color-bg-transparent"
      data-action="click:cookie-consent-link#showConsentManagement"
      data-analytics-event="{&quot;location&quot;:&quot;footer&quot;,&quot;action&quot;:&quot;cookies&quot;,&quot;context&quot;:&quot;subfooter&quot;,&quot;tag&quot;:&quot;link&quot;,&quot;label&quot;:&quot;cookies_link_subfooter_footer&quot;}"
    >
      Manage cookies
    </button>
  </cookie-consent-link>
</li>

<li class="mr-3">
  <cookie-consent-link>
    <button
      type="button"
      class="Link--secondary underline-on-hover border-0 p-0 color-bg-transparent"
      data-action="click:cookie-consent-link#showConsentManagement"
      data-analytics-event="{&quot;location&quot;:&quot;footer&quot;,&quot;action&quot;:&quot;dont_share_info&quot;,&quot;context&quot;:&quot;subfooter&quot;,&quot;tag&quot;:&quot;link&quot;,&quot;label&quot;:&quot;dont_share_info_link_subfooter_footer&quot;}"
    >
      Do not share my personal information
    </button>
  </cookie-consent-link>
</li>

      </ul>
    </nav>
  </div>
</footer>




    <ghcc-consent id="ghcc" class="position-fixed bottom-0 left-0" style="z-index: 999999" data-initial-cookie-consent-allowed="" data-cookie-consent-required="true"></ghcc-consent>


  <div id="ajax-error-message" class="ajax-error-message flash flash-error" hidden>
    <svg aria-hidden="true" height="16" viewBox="0 0 16 16" version="1.1" width="16" data-view-component="true" class="octicon octicon-alert">
    <path d="M6.457 1.047c.659-1.234 2.427-1.234 3.086 0l6.082 11.378A1.75 1.75 0 0 1 14.082 15H1.918a1.75 1.75 0 0 1-1.543-2.575Zm1.763.707a.25.25 0 0 0-.44 0L1.698 13.132a.25.25 0 0 0 .22.368h12.164a.25.25 0 0 0 .22-.368Zm.53 3.996v2.5a.75.75 0 0 1-1.5 0v-2.5a.75.75 0 0 1 1.5 0ZM9 11a1 1 0 1 1-2 0 1 1 0 0 1 2 0Z"></path>
</svg>
    <button type="button" class="flash-close js-ajax-error-dismiss" aria-label="Dismiss error">
      <svg aria-hidden="true" height="16" viewBox="0 0 16 16" version="1.1" width="16" data-view-component="true" class="octicon octicon-x">
    <path d="M3.72 3.72a.75.75 0 0 1 1.06 0L8 6.94l3.22-3.22a.749.749 0 0 1 1.275.326.749.749 0 0 1-.215.734L9.06 8l3.22 3.22a.749.749 0 0 1-.326 1.275.749.749 0 0 1-.734-.215L8 9.06l-3.22 3.22a.751.751 0 0 1-1.042-.018.751.751 0 0 1-.018-1.042L6.94 8 3.72 4.78a.75.75 0 0 1 0-1.06Z"></path>
</svg>
    </button>
    You can’t perform that action at this time.
  </div>

    <template id="site-details-dialog">
  <details class="details-reset details-overlay details-overlay-dark lh-default color-fg-default hx_rsm" open>
    <summary role="button" aria-label="Close dialog"></summary>
    <details-dialog class="Box Box--overlay d-flex flex-column anim-fade-in fast hx_rsm-dialog hx_rsm-modal">
      <button class="Box-btn-octicon m-0 btn-octicon position-absolute right-0 top-0" type="button" aria-label="Close dialog" data-close-dialog>
        <svg aria-hidden="true" height="16" viewBox="0 0 16 16" version="1.1" width="16" data-view-component="true" class="octicon octicon-x">
    <path d="M3.72 3.72a.75.75 0 0 1 1.06 0L8 6.94l3.22-3.22a.749.749 0 0 1 1.275.326.749.749 0 0 1-.215.734L9.06 8l3.22 3.22a.749.749 0 0 1-.326 1.275.749.749 0 0 1-.734-.215L8 9.06l-3.22 3.22a.751.751 0 0 1-1.042-.018.751.751 0 0 1-.018-1.042L6.94 8 3.72 4.78a.75.75 0 0 1 0-1.06Z"></path>
</svg>
      </button>
      <div class="octocat-spinner my-6 js-details-dialog-spinner"></div>
    </details-dialog>
  </details>
</template>

    <div class="Popover js-hovercard-content position-absolute" style="display: none; outline: none;">
  <div class="Popover-message Popover-message--bottom-left Popover-message--large Box color-shadow-large" style="width:360px;">
  </div>
</div>

    <template id="snippet-clipboard-copy-button">
  <div class="zeroclipboard-container position-absolute right-0 top-0">
    <clipboard-copy aria-label="Copy" class="ClipboardButton btn js-clipboard-copy m-2 p-0" data-copy-feedback="Copied!" data-tooltip-direction="w">
      <svg aria-hidden="true" height="16" viewBox="0 0 16 16" version="1.1" width="16" data-view-component="true" class="octicon octicon-copy js-clipboard-copy-icon m-2">
    <path d="M0 6.75C0 5.784.784 5 1.75 5h1.5a.75.75 0 0 1 0 1.5h-1.5a.25.25 0 0 0-.25.25v7.5c0 .138.112.25.25.25h7.5a.25.25 0 0 0 .25-.25v-1.5a.75.75 0 0 1 1.5 0v1.5A1.75 1.75 0 0 1 9.25 16h-7.5A1.75 1.75 0 0 1 0 14.25Z"></path><path d="M5 1.75C5 .784 5.784 0 6.75 0h7.5C15.216 0 16 .784 16 1.75v7.5A1.75 1.75 0 0 1 14.25 11h-7.5A1.75 1.75 0 0 1 5 9.25Zm1.75-.25a.25.25 0 0 0-.25.25v7.5c0 .138.112.25.25.25h7.5a.25.25 0 0 0 .25-.25v-7.5a.25.25 0 0 0-.25-.25Z"></path>
</svg>
      <svg aria-hidden="true" height="16" viewBox="0 0 16 16" version="1.1" width="16" data-view-component="true" class="octicon octicon-check js-clipboard-check-icon color-fg-success d-none m-2">
    <path d="M13.78 4.22a.75.75 0 0 1 0 1.06l-7.25 7.25a.75.75 0 0 1-1.06 0L2.22 9.28a.751.751 0 0 1 .018-1.042.751.751 0 0 1 1.042-.018L6 10.94l6.72-6.72a.75.75 0 0 1 1.06 0Z"></path>
</svg>
    </clipboard-copy>
  </div>
</template>
<template id="snippet-clipboard-copy-button-unpositioned">
  <div class="zeroclipboard-container">
    <clipboard-copy aria-label="Copy" class="ClipboardButton btn btn-invisible js-clipboard-copy m-2 p-0 d-flex flex-justify-center flex-items-center" data-copy-feedback="Copied!" data-tooltip-direction="w">
      <svg aria-hidden="true" height="16" viewBox="0 0 16 16" version="1.1" width="16" data-view-component="true" class="octicon octicon-copy js-clipboard-copy-icon">
    <path d="M0 6.75C0 5.784.784 5 1.75 5h1.5a.75.75 0 0 1 0 1.5h-1.5a.25.25 0 0 0-.25.25v7.5c0 .138.112.25.25.25h7.5a.25.25 0 0 0 .25-.25v-1.5a.75.75 0 0 1 1.5 0v1.5A1.75 1.75 0 0 1 9.25 16h-7.5A1.75 1.75 0 0 1 0 14.25Z"></path><path d="M5 1.75C5 .784 5.784 0 6.75 0h7.5C15.216 0 16 .784 16 1.75v7.5A1.75 1.75 0 0 1 14.25 11h-7.5A1.75 1.75 0 0 1 5 9.25Zm1.75-.25a.25.25 0 0 0-.25.25v7.5c0 .138.112.25.25.25h7.5a.25.25 0 0 0 .25-.25v-7.5a.25.25 0 0 0-.25-.25Z"></path>
</svg>
      <svg aria-hidden="true" height="16" viewBox="0 0 16 16" version="1.1" width="16" data-view-component="true" class="octicon octicon-check js-clipboard-check-icon color-fg-success d-none">
    <path d="M13.78 4.22a.75.75 0 0 1 0 1.06l-7.25 7.25a.75.75 0 0 1-1.06 0L2.22 9.28a.751.751 0 0 1 .018-1.042.751.751 0 0 1 1.042-.018L6 10.94l6.72-6.72a.75.75 0 0 1 1.06 0Z"></path>
</svg>
    </clipboard-copy>
  </div>
</template>


    <style>
      .user-mention[href$="/MathforDataScience"] {
        color: var(--color-user-mention-fg);
        background-color: var(--bgColor-attention-muted, var(--color-attention-subtle));
        border-radius: 2px;
        margin-left: -2px;
        margin-right: -2px;
        padding: 0 2px;
      }
    </style>


    </div>

    <div id="js-global-screen-reader-notice" class="sr-only mt-n1" aria-live="polite" aria-atomic="true" ></div>
    <div id="js-global-screen-reader-notice-assertive" class="sr-only mt-n1" aria-live="assertive" aria-atomic="true"></div>
  </body>
</html>

