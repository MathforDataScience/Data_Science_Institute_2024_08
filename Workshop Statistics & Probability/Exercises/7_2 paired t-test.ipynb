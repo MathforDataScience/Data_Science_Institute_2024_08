





<!DOCTYPE html>
<html
  lang="en"
  
  data-color-mode="auto" data-light-theme="light" data-dark-theme="dark"
  data-a11y-animated-images="system" data-a11y-link-underlines="true"
  >



  <head>
    <meta charset="utf-8">
  <link rel="dns-prefetch" href="https://github.githubassets.com">
  <link rel="dns-prefetch" href="https://avatars.githubusercontent.com">
  <link rel="dns-prefetch" href="https://github-cloud.s3.amazonaws.com">
  <link rel="dns-prefetch" href="https://user-images.githubusercontent.com/">
  <link rel="preconnect" href="https://github.githubassets.com" crossorigin>
  <link rel="preconnect" href="https://avatars.githubusercontent.com">

  


  <link crossorigin="anonymous" media="all" rel="stylesheet" href="https://github.githubassets.com/assets/light-efd2f2257c96.css" /><link crossorigin="anonymous" media="all" rel="stylesheet" href="https://github.githubassets.com/assets/dark-6b1e37da2254.css" /><link data-color-theme="dark_dimmed" crossorigin="anonymous" media="all" rel="stylesheet" data-href="https://github.githubassets.com/assets/dark_dimmed-aa16bfa90fb8.css" /><link data-color-theme="dark_high_contrast" crossorigin="anonymous" media="all" rel="stylesheet" data-href="https://github.githubassets.com/assets/dark_high_contrast-f4daad25d8cf.css" /><link data-color-theme="dark_colorblind" crossorigin="anonymous" media="all" rel="stylesheet" data-href="https://github.githubassets.com/assets/dark_colorblind-a4629b2e906b.css" /><link data-color-theme="light_colorblind" crossorigin="anonymous" media="all" rel="stylesheet" data-href="https://github.githubassets.com/assets/light_colorblind-afcc3a6a38dd.css" /><link data-color-theme="light_high_contrast" crossorigin="anonymous" media="all" rel="stylesheet" data-href="https://github.githubassets.com/assets/light_high_contrast-79bca7145393.css" /><link data-color-theme="light_tritanopia" crossorigin="anonymous" media="all" rel="stylesheet" data-href="https://github.githubassets.com/assets/light_tritanopia-fe4137b54b26.css" /><link data-color-theme="dark_tritanopia" crossorigin="anonymous" media="all" rel="stylesheet" data-href="https://github.githubassets.com/assets/dark_tritanopia-1911f0cf0db4.css" />
    <link crossorigin="anonymous" media="all" rel="stylesheet" href="https://github.githubassets.com/assets/primer-primitives-8500c2c7ce5f.css" />
    <link crossorigin="anonymous" media="all" rel="stylesheet" href="https://github.githubassets.com/assets/primer-bbda46ca867f.css" />
    <link crossorigin="anonymous" media="all" rel="stylesheet" href="https://github.githubassets.com/assets/global-6f01bc73955b.css" />
    <link crossorigin="anonymous" media="all" rel="stylesheet" href="https://github.githubassets.com/assets/github-cf4e90581e80.css" />
  <link crossorigin="anonymous" media="all" rel="stylesheet" href="https://github.githubassets.com/assets/repository-992e95451f25.css" />
<link crossorigin="anonymous" media="all" rel="stylesheet" href="https://github.githubassets.com/assets/code-34406d39e629.css" />

  


  <script type="application/json" id="client-env">{"locale":"en","featureFlags":["code_vulnerability_scanning","copilot_beta_features_opt_in","copilot_chat_static_thread_suggestions","copilot_completion_new_domain","copilot_conversational_ux_history_refs","copilot_followup_to_agent","copilot_implicit_context","copilot_smell_icebreaker_ux","custom_inp","experimentation_azure_variant_endpoint","failbot_handle_non_errors","filter_prefetch_suggestions","geojson_azure_maps","ghas_copilot_agents_ga_web_updates","ghost_pilot_confidence_scores","ghost_pilot_screen_reader","hovercard_accessibility","hovercard_longer_activate_timeout","marketing_pages_search_explore_provider","remove_child_patch","repository_suggester_elastic_search","sample_network_conn_type","site_metered_billing_update","ignore_hidden_in_quote_reply"]}</script>
<script crossorigin="anonymous" defer="defer" type="application/javascript" src="https://github.githubassets.com/assets/wp-runtime-6fbed448f391.js"></script>
<script crossorigin="anonymous" defer="defer" type="application/javascript" src="https://github.githubassets.com/assets/vendors-node_modules_dompurify_dist_purify_js-89a69c248502.js"></script>
<script crossorigin="anonymous" defer="defer" type="application/javascript" src="https://github.githubassets.com/assets/vendors-node_modules_oddbird_popover-polyfill_dist_popover_js-56729c905fe2.js"></script>
<script crossorigin="anonymous" defer="defer" type="application/javascript" src="https://github.githubassets.com/assets/vendors-node_modules_github_mini-throttle_dist_index_js-node_modules_smoothscroll-polyfill_di-75db2e-686488490524.js"></script>
<script crossorigin="anonymous" defer="defer" type="application/javascript" src="https://github.githubassets.com/assets/environment-cd098098ff2e.js"></script>
<script crossorigin="anonymous" defer="defer" type="application/javascript" src="https://github.githubassets.com/assets/vendors-node_modules_github_selector-observer_dist_index_esm_js-f690fd9ae3d5.js"></script>
<script crossorigin="anonymous" defer="defer" type="application/javascript" src="https://github.githubassets.com/assets/vendors-node_modules_primer_behaviors_dist_esm_focus-zone_js-c9086a4fb62b.js"></script>
<script crossorigin="anonymous" defer="defer" type="application/javascript" src="https://github.githubassets.com/assets/vendors-node_modules_github_relative-time-element_dist_index_js-f9b958f5f2df.js"></script>
<script crossorigin="anonymous" defer="defer" type="application/javascript" src="https://github.githubassets.com/assets/vendors-node_modules_primer_behaviors_dist_esm_anchored-position_js-node_modules_fzy_js_index-05960a-797b1227c4b8.js"></script>
<script crossorigin="anonymous" defer="defer" type="application/javascript" src="https://github.githubassets.com/assets/vendors-node_modules_github_auto-complete-element_dist_index_js-node_modules_github_details-d-ed9a97-841122a1e9d4.js"></script>
<script crossorigin="anonymous" defer="defer" type="application/javascript" src="https://github.githubassets.com/assets/vendors-node_modules_github_text-expander-element_dist_index_js-cd48220d74d5.js"></script>
<script crossorigin="anonymous" defer="defer" type="application/javascript" src="https://github.githubassets.com/assets/vendors-node_modules_github_mini-throttle_dist_index_js-node_modules_delegated-events_dist_in-3efda3-701acb69193f.js"></script>
<script crossorigin="anonymous" defer="defer" type="application/javascript" src="https://github.githubassets.com/assets/vendors-node_modules_github_filter-input-element_dist_index_js-node_modules_github_remote-inp-2e8678-34feeec9c894.js"></script>
<script crossorigin="anonymous" defer="defer" type="application/javascript" src="https://github.githubassets.com/assets/vendors-node_modules_github_catalyst_lib_index_js-node_modules_github_clipboard-copy-element_-782ca5-54763cd55b96.js"></script>
<script crossorigin="anonymous" defer="defer" type="application/javascript" src="https://github.githubassets.com/assets/vendors-node_modules_github_file-attachment-element_dist_index_js-node_modules_primer_view-co-3959a9-5779869d7165.js"></script>
<script crossorigin="anonymous" defer="defer" type="application/javascript" src="https://github.githubassets.com/assets/app_assets_modules_github_onfocus_ts-ui_packages_trusted-types-policies_policy_ts-ui_packages-6fe316-9d50d6f10c3d.js"></script>
<script crossorigin="anonymous" defer="defer" type="application/javascript" src="https://github.githubassets.com/assets/github-elements-074e91131d8f.js"></script>
<script crossorigin="anonymous" defer="defer" type="application/javascript" src="https://github.githubassets.com/assets/element-registry-a86c410c86af.js"></script>
<script crossorigin="anonymous" defer="defer" type="application/javascript" src="https://github.githubassets.com/assets/vendors-node_modules_github_catalyst_lib_index_js-node_modules_github_hydro-analytics-client_-7901e7-dc88587c14ed.js"></script>
<script crossorigin="anonymous" defer="defer" type="application/javascript" src="https://github.githubassets.com/assets/vendors-node_modules_braintree_browser-detection_dist_browser-detection_js-node_modules_stack-68835d-a18220f1db8d.js"></script>
<script crossorigin="anonymous" defer="defer" type="application/javascript" src="https://github.githubassets.com/assets/vendors-node_modules_lit-html_lit-html_js-ce7225a304c5.js"></script>
<script crossorigin="anonymous" defer="defer" type="application/javascript" src="https://github.githubassets.com/assets/vendors-node_modules_github_mini-throttle_dist_index_js-node_modules_morphdom_dist_morphdom-e-7c534c-f8a5485c982a.js"></script>
<script crossorigin="anonymous" defer="defer" type="application/javascript" src="https://github.githubassets.com/assets/vendors-node_modules_github_turbo_dist_turbo_es2017-esm_js-858e043fcf76.js"></script>
<script crossorigin="anonymous" defer="defer" type="application/javascript" src="https://github.githubassets.com/assets/vendors-node_modules_github_remote-form_dist_index_js-node_modules_delegated-events_dist_inde-893f9f-6cf3320416b8.js"></script>
<script crossorigin="anonymous" defer="defer" type="application/javascript" src="https://github.githubassets.com/assets/vendors-node_modules_scroll-anchoring_dist_scroll-anchoring_esm_js-node_modules_github_hotkey-1a1d91-fa9f29a8514b.js"></script>
<script crossorigin="anonymous" defer="defer" type="application/javascript" src="https://github.githubassets.com/assets/vendors-node_modules_color-convert_index_js-0e07cc183eed.js"></script>
<script crossorigin="anonymous" defer="defer" type="application/javascript" src="https://github.githubassets.com/assets/vendors-node_modules_github_session-resume_dist_index_js-node_modules_primer_behaviors_dist_e-ac74c6-5e03381c44b5.js"></script>
<script crossorigin="anonymous" defer="defer" type="application/javascript" src="https://github.githubassets.com/assets/vendors-node_modules_primer_behaviors_dist_esm_dimensions_js-node_modules_github_jtml_lib_index_js-53b423ede32a.js"></script>
<script crossorigin="anonymous" defer="defer" type="application/javascript" src="https://github.githubassets.com/assets/vendors-node_modules_github_quote-selection_dist_index_js-node_modules_github_textarea-autosi-9e0349-ab4976fc78a6.js"></script>
<script crossorigin="anonymous" defer="defer" type="application/javascript" src="https://github.githubassets.com/assets/ui_packages_updatable-content_updatable-content_ts-e15463ecf7e6.js"></script>
<script crossorigin="anonymous" defer="defer" type="application/javascript" src="https://github.githubassets.com/assets/app_assets_modules_github_behaviors_task-list_ts-app_assets_modules_github_onfocus_ts-app_ass-421cec-f0e1d31bff9a.js"></script>
<script crossorigin="anonymous" defer="defer" type="application/javascript" src="https://github.githubassets.com/assets/app_assets_modules_github_sticky-scroll-into-view_ts-112600808cf9.js"></script>
<script crossorigin="anonymous" defer="defer" type="application/javascript" src="https://github.githubassets.com/assets/app_assets_modules_github_behaviors_ajax-error_ts-app_assets_modules_github_behaviors_include-467754-8b1a4442f9b3.js"></script>
<script crossorigin="anonymous" defer="defer" type="application/javascript" src="https://github.githubassets.com/assets/app_assets_modules_github_behaviors_commenting_edit_ts-app_assets_modules_github_behaviors_ht-83c235-4accd4baf37d.js"></script>
<script crossorigin="anonymous" defer="defer" type="application/javascript" src="https://github.githubassets.com/assets/app_assets_modules_github_blob-anchor_ts-app_assets_modules_github_filter-sort_ts-app_assets_-6deafe-fc95155e233a.js"></script>
<script crossorigin="anonymous" defer="defer" type="application/javascript" src="https://github.githubassets.com/assets/behaviors-53cbd0d1f88e.js"></script>
<script crossorigin="anonymous" defer="defer" type="application/javascript" src="https://github.githubassets.com/assets/vendors-node_modules_delegated-events_dist_index_js-node_modules_github_catalyst_lib_index_js-06ff531-bf7e5a3732fd.js"></script>
<script crossorigin="anonymous" defer="defer" type="application/javascript" src="https://github.githubassets.com/assets/notifications-global-3ddac678adaf.js"></script>
<script crossorigin="anonymous" defer="defer" type="application/javascript" src="https://github.githubassets.com/assets/vendors-node_modules_github_mini-throttle_dist_index_js-node_modules_github_catalyst_lib_inde-dbbea9-e73b311a14f1.js"></script>
<script crossorigin="anonymous" defer="defer" type="application/javascript" src="https://github.githubassets.com/assets/app_assets_modules_github_repositories_get-repo-element_ts-4fc152f40452.js"></script>
<script crossorigin="anonymous" defer="defer" type="application/javascript" src="https://github.githubassets.com/assets/code-menu-a8d08997ac4f.js"></script>
  
  <script crossorigin="anonymous" defer="defer" type="application/javascript" src="https://github.githubassets.com/assets/react-lib-7b7b5264f6c1.js"></script>
<script crossorigin="anonymous" defer="defer" type="application/javascript" src="https://github.githubassets.com/assets/vendors-node_modules_github_mini-throttle_dist_index_js-node_modules_primer_octicons-react_di-b40d97-06881c63f955.js"></script>
<script crossorigin="anonymous" defer="defer" type="application/javascript" src="https://github.githubassets.com/assets/vendors-node_modules_primer_react_lib-esm_Box_Box_js-55a9038b54f0.js"></script>
<script crossorigin="anonymous" defer="defer" type="application/javascript" src="https://github.githubassets.com/assets/vendors-node_modules_primer_react_lib-esm_Button_Button_js-b0edbfb6a9e5.js"></script>
<script crossorigin="anonymous" defer="defer" type="application/javascript" src="https://github.githubassets.com/assets/vendors-node_modules_primer_react_lib-esm_TooltipV2_Tooltip_js-4d5019830e3c.js"></script>
<script crossorigin="anonymous" defer="defer" type="application/javascript" src="https://github.githubassets.com/assets/vendors-node_modules_clsx_dist_clsx_m_js-node_modules_primer_react_node_modules_primer_octico-c56103-e91295e60abd.js"></script>
<script crossorigin="anonymous" defer="defer" type="application/javascript" src="https://github.githubassets.com/assets/vendors-node_modules_primer_react_lib-esm_ActionList_index_js-f646728c385c.js"></script>
<script crossorigin="anonymous" defer="defer" type="application/javascript" src="https://github.githubassets.com/assets/vendors-node_modules_primer_react_lib-esm_ActionMenu_ActionMenu_js-node_modules_primer_react_-5b2420-048f91dcedb3.js"></script>
<script crossorigin="anonymous" defer="defer" type="application/javascript" src="https://github.githubassets.com/assets/vendors-node_modules_primer_react_lib-esm_Text_Text_js-node_modules_primer_react_lib-esm_Text-7845da-adcc76ee8848.js"></script>
<script crossorigin="anonymous" defer="defer" type="application/javascript" src="https://github.githubassets.com/assets/vendors-node_modules_primer_react_lib-esm_FormControl_FormControl_js-1f51ab2bdcca.js"></script>
<script crossorigin="anonymous" defer="defer" type="application/javascript" src="https://github.githubassets.com/assets/vendors-node_modules_react-router-dom_dist_index_js-c5568c29d405.js"></script>
<script crossorigin="anonymous" defer="defer" type="application/javascript" src="https://github.githubassets.com/assets/vendors-node_modules_primer_react_lib-esm_ConfirmationDialog_ConfirmationDialog_js-099e8bfead83.js"></script>
<script crossorigin="anonymous" defer="defer" type="application/javascript" src="https://github.githubassets.com/assets/vendors-node_modules_primer_react_lib-esm_Heading_Heading_js-node_modules_primer_react_lib-es-96435f-69dda7b301fe.js"></script>
<script crossorigin="anonymous" defer="defer" type="application/javascript" src="https://github.githubassets.com/assets/vendors-node_modules_primer_react_lib-esm_TreeView_TreeView_js-163f241772cf.js"></script>
<script crossorigin="anonymous" defer="defer" type="application/javascript" src="https://github.githubassets.com/assets/vendors-node_modules_primer_behaviors_dist_esm_anchored-position_js-node_modules_primer_react-4d507b-85f1dac4ce7d.js"></script>
<script crossorigin="anonymous" defer="defer" type="application/javascript" src="https://github.githubassets.com/assets/vendors-node_modules_primer_react_lib-esm_BranchName_BranchName_js-node_modules_primer_react_-5ab9a5-f0ab9737bc0f.js"></script>
<script crossorigin="anonymous" defer="defer" type="application/javascript" src="https://github.githubassets.com/assets/vendors-node_modules_primer_behaviors_dist_esm_scroll-into-view_js-node_modules_primer_react_-9a1035-bc8622e91c21.js"></script>
<script crossorigin="anonymous" defer="defer" type="application/javascript" src="https://github.githubassets.com/assets/ui_packages_react-core_create-browser-history_ts-ui_packages_safe-storage_safe-storage_ts-ui_-682c2c-7a1e99981675.js"></script>
<script crossorigin="anonymous" defer="defer" type="application/javascript" src="https://github.githubassets.com/assets/ui_packages_react-core_register-app_ts-d92f692cd90a.js"></script>
<script crossorigin="anonymous" defer="defer" type="application/javascript" src="https://github.githubassets.com/assets/ui_packages_paths_index_ts-9eb3412d85a7.js"></script>
<script crossorigin="anonymous" defer="defer" type="application/javascript" src="https://github.githubassets.com/assets/ui_packages_ref-selector_RefSelector_tsx-7b0796d1324c.js"></script>
<script crossorigin="anonymous" defer="defer" type="application/javascript" src="https://github.githubassets.com/assets/ui_packages_commit-attribution_index_ts-ui_packages_commit-checks-status_index_ts-ui_packages-f45efb-a5bb4a693481.js"></script>
<script crossorigin="anonymous" defer="defer" type="application/javascript" src="https://github.githubassets.com/assets/ui_packages_copy-to-clipboard_index_ts-ui_packages_react-core_use-feature-flag_ts-ui_packages-9fa6b6-6e8c63eb2d15.js"></script>
<script crossorigin="anonymous" defer="defer" type="application/javascript" src="https://github.githubassets.com/assets/ui_packages_code-view-shared_hooks_use-canonical-object_ts-ui_packages_code-view-shared_hooks-9a3d65-c2af6875bd6f.js"></script>
<script crossorigin="anonymous" defer="defer" type="application/javascript" src="https://github.githubassets.com/assets/ui_packages_repos-file-tree-view_repos-file-tree-view_ts-ui_packages_feature-request_FeatureR-ec5225-9dd7225109c4.js"></script>
<script crossorigin="anonymous" defer="defer" type="application/javascript" src="https://github.githubassets.com/assets/react-code-view-7e5e7030cc5b.js"></script>
<link crossorigin="anonymous" media="all" rel="stylesheet" href="https://github.githubassets.com/assets/react-code-view.234ae39ff1fa1232236c.module.css" />


  <title>DSR_Statistics1/7_ Hypotheses/7_2 paired t-test.ipynb at main · MathforDataScience/DSR_Statistics1</title>



  <meta name="route-pattern" content="/:user_id/:repository/blob/*name(/*path)" data-turbo-transient>
  <meta name="route-controller" content="blob" data-turbo-transient>
  <meta name="route-action" content="show" data-turbo-transient>

    
  <meta name="current-catalog-service-hash" content="f3abb0cc802f3d7b95fc8762b94bdcb13bf39634c40c357301c4aa1d67a256fb">


  <meta name="request-id" content="89E1:227EF1:683E9CD:6A43245:66BF7621" data-turbo-transient="true" /><meta name="html-safe-nonce" content="d44ab1c2dc7e35ebb11bbaa56f6d0aa429138892f77edd1afdd359eb1f8171be" data-turbo-transient="true" /><meta name="visitor-payload" content="eyJyZWZlcnJlciI6Imh0dHBzOi8vZ2l0aHViLmNvbS9NYXRoZm9yRGF0YVNjaWVuY2UvRFNSX1N0YXRpc3RpY3MxL3RyZWUvbWFpbi83XyUyMEh5cG90aGVzZXMiLCJyZXF1ZXN0X2lkIjoiODlFMToyMjdFRjE6NjgzRTlDRDo2QTQzMjQ1OjY2QkY3NjIxIiwidmlzaXRvcl9pZCI6IjQwMzc2OTk2ODg2OTczMjI2NjkiLCJyZWdpb25fZWRnZSI6ImZyYSIsInJlZ2lvbl9yZW5kZXIiOiJpYWQifQ==" data-turbo-transient="true" /><meta name="visitor-hmac" content="617eaf2aad442ed441bcc289fd93686019336ddd49518eef5f4bfa3194a093eb" data-turbo-transient="true" />


    <meta name="hovercard-subject-tag" content="repository:661665397" data-turbo-transient>


  <meta name="github-keyboard-shortcuts" content="repository,source-code,file-tree,copilot" data-turbo-transient="true" />
  

  <meta name="selected-link" value="repo_source" data-turbo-transient>
  <link rel="assets" href="https://github.githubassets.com/">

    <meta name="google-site-verification" content="Apib7-x98H0j5cPqHWwSMm6dNU4GmODRoqxLiDzdx9I">

<meta name="octolytics-url" content="https://collector.github.com/github/collect" /><meta name="octolytics-actor-id" content="42959174" /><meta name="octolytics-actor-login" content="MathforDataScience" /><meta name="octolytics-actor-hash" content="227888bb3935a56cecdeac8fbaeb23608047deef8e96c837701ebe2439fade7e" />

  <meta name="analytics-location" content="/&lt;user-name&gt;/&lt;repo-name&gt;/blob/show" data-turbo-transient="true" />

  




    <meta name="user-login" content="MathforDataScience">

  <link rel="sudo-modal" href="/sessions/sudo_modal">

    <meta name="viewport" content="width=device-width">

    

      <meta name="description" content="Contribute to MathforDataScience/DSR_Statistics1 development by creating an account on GitHub.">

      <link rel="search" type="application/opensearchdescription+xml" href="/opensearch.xml" title="GitHub">

    <link rel="fluid-icon" href="https://github.com/fluidicon.png" title="GitHub">
    <meta property="fb:app_id" content="1401488693436528">
    <meta name="apple-itunes-app" content="app-id=1477376905, app-argument=https://github.com/MathforDataScience/DSR_Statistics1/blob/main/7_%20Hypotheses/7_2%20paired%20t-test.ipynb" />

      <meta name="twitter:image:src" content="https://opengraph.githubassets.com/49fbaa5bd9c04cc44d052c0a41db63906004c31c66bcde400f1ce0e2c136cc79/MathforDataScience/DSR_Statistics1" /><meta name="twitter:site" content="@github" /><meta name="twitter:card" content="summary_large_image" /><meta name="twitter:title" content="DSR_Statistics1/7_ Hypotheses/7_2 paired t-test.ipynb at main · MathforDataScience/DSR_Statistics1" /><meta name="twitter:description" content="Contribute to MathforDataScience/DSR_Statistics1 development by creating an account on GitHub." />
  <meta property="og:image" content="https://opengraph.githubassets.com/49fbaa5bd9c04cc44d052c0a41db63906004c31c66bcde400f1ce0e2c136cc79/MathforDataScience/DSR_Statistics1" /><meta property="og:image:alt" content="Contribute to MathforDataScience/DSR_Statistics1 development by creating an account on GitHub." /><meta property="og:image:width" content="1200" /><meta property="og:image:height" content="600" /><meta property="og:site_name" content="GitHub" /><meta property="og:type" content="object" /><meta property="og:title" content="DSR_Statistics1/7_ Hypotheses/7_2 paired t-test.ipynb at main · MathforDataScience/DSR_Statistics1" /><meta property="og:url" content="https://github.com/MathforDataScience/DSR_Statistics1/blob/main/7_%20Hypotheses/7_2%20paired%20t-test.ipynb" /><meta property="og:description" content="Contribute to MathforDataScience/DSR_Statistics1 development by creating an account on GitHub." />
  


      <link rel="shared-web-socket" href="wss://alive.github.com/_sockets/u/42959174/ws?session=eyJ2IjoiVjMiLCJ1Ijo0Mjk1OTE3NCwicyI6MTQ0NjE4MDkwNCwiYyI6MzU3NzE5OCwidCI6MTcyMzgyMzY1NX0=--e5644f373b84069e9b478d055ccb5774a543b67aedbec09a6c05e0989a620138" data-refresh-url="/_alive" data-session-id="a00dc8c235cb2d09bde055d46b94400c8d63999f1397e010ac7793b7eee7e4d7">
      <link rel="shared-web-socket-src" href="/assets-cdn/worker/socket-worker-1a9b1a7a6108.js">


      <meta name="hostname" content="github.com">


      <meta name="keyboard-shortcuts-preference" content="all">
      <meta name="hovercards-preference" content="true">

        <meta name="expected-hostname" content="github.com">


  <meta http-equiv="x-pjax-version" content="a878d148896378d00e67dfef2b352b059b3ea0b02ada20e26d5784cb2cf9cbf7" data-turbo-track="reload">
  <meta http-equiv="x-pjax-csp-version" content="43bc2a0e2750a1219c17b5bf1ec22aae37041bbc018bc5e27bb7708f80e7ab88" data-turbo-track="reload">
  <meta http-equiv="x-pjax-css-version" content="2d21d1d7fc96c63650d487b78819572219a98df9016097e18aa73b19581cb3bc" data-turbo-track="reload">
  <meta http-equiv="x-pjax-js-version" content="e0e9ac8831ec7aaa318d110aabcee6e4e8f1148e4f9954adff46936790214fe0" data-turbo-track="reload">

  <meta name="turbo-cache-control" content="no-preview" data-turbo-transient="">

      <meta name="turbo-cache-control" content="no-cache" data-turbo-transient>
    <meta data-hydrostats="publish">
  <meta name="go-import" content="github.com/MathforDataScience/DSR_Statistics1 git https://github.com/MathforDataScience/DSR_Statistics1.git">

  <meta name="octolytics-dimension-user_id" content="42959174" /><meta name="octolytics-dimension-user_login" content="MathforDataScience" /><meta name="octolytics-dimension-repository_id" content="661665397" /><meta name="octolytics-dimension-repository_nwo" content="MathforDataScience/DSR_Statistics1" /><meta name="octolytics-dimension-repository_public" content="true" /><meta name="octolytics-dimension-repository_is_fork" content="false" /><meta name="octolytics-dimension-repository_network_root_id" content="661665397" /><meta name="octolytics-dimension-repository_network_root_nwo" content="MathforDataScience/DSR_Statistics1" />



    

    <meta name="turbo-body-classes" content="logged-in env-production page-responsive">


  <meta name="browser-stats-url" content="https://api.github.com/_private/browser/stats">

  <meta name="browser-errors-url" content="https://api.github.com/_private/browser/errors">

  <link rel="mask-icon" href="https://github.githubassets.com/assets/pinned-octocat-093da3e6fa40.svg" color="#000000">
  <link rel="alternate icon" class="js-site-favicon" type="image/png" href="https://github.githubassets.com/favicons/favicon.png">
  <link rel="icon" class="js-site-favicon" type="image/svg+xml" href="https://github.githubassets.com/favicons/favicon.svg">

<meta name="theme-color" content="#1e2327">
<meta name="color-scheme" content="light dark" />


  <link rel="manifest" href="/manifest.json" crossOrigin="use-credentials">

  </head>

  <body class="logged-in env-production page-responsive" style="word-wrap: break-word;">
    <div data-turbo-body class="logged-in env-production page-responsive" style="word-wrap: break-word;">
      


    <div class="position-relative js-header-wrapper ">
      <a href="#start-of-content" data-skip-target-assigned="false" class="p-3 color-bg-accent-emphasis color-fg-on-emphasis show-on-focus js-skip-to-content">Skip to content</a>

      <span data-view-component="true" class="progress-pjax-loader Progress position-fixed width-full">
    <span style="width: 0%;" data-view-component="true" class="Progress-item progress-pjax-loader-bar left-0 top-0 color-bg-accent-emphasis"></span>
</span>      
      
      <script crossorigin="anonymous" defer="defer" type="application/javascript" src="https://github.githubassets.com/assets/vendors-node_modules_primer_react_lib-esm_Dialog_Dialog_js-node_modules_primer_react_lib-esm_-bd7638-683c833a31df.js"></script>
<script crossorigin="anonymous" defer="defer" type="application/javascript" src="https://github.githubassets.com/assets/keyboard-shortcuts-dialog-15a4cf222dbb.js"></script>

<react-partial
  partial-name="keyboard-shortcuts-dialog"
  data-ssr="false"
>
  
  <script type="application/json" data-target="react-partial.embeddedData">{"props":{"docsUrl":"https://docs.github.com/get-started/accessibility/keyboard-shortcuts"}}</script>
  <div data-target="react-partial.reactRoot"></div>
</react-partial>




      

          

                <header class="AppHeader" role="banner">
  <h2 class="sr-only">Navigation Menu</h2>

    

    <div class="AppHeader-globalBar pb-2 js-global-bar">
      <div class="AppHeader-globalBar-start">
          <deferred-side-panel data-url="/_side-panels/global">
  <include-fragment data-target="deferred-side-panel.fragment">
      <button aria-label="Open global navigation menu" data-action="click:deferred-side-panel#loadPanel click:deferred-side-panel#panelOpened" data-show-dialog-id="dialog-22e31d03-2a1d-4a6a-b549-b858630433c2" id="dialog-show-dialog-22e31d03-2a1d-4a6a-b549-b858630433c2" type="button" data-view-component="true" class="Button Button--iconOnly Button--secondary Button--medium AppHeader-button color-bg-transparent p-0 color-fg-muted">  <svg aria-hidden="true" height="16" viewBox="0 0 16 16" version="1.1" width="16" data-view-component="true" class="octicon octicon-three-bars Button-visual">
    <path d="M1 2.75A.75.75 0 0 1 1.75 2h12.5a.75.75 0 0 1 0 1.5H1.75A.75.75 0 0 1 1 2.75Zm0 5A.75.75 0 0 1 1.75 7h12.5a.75.75 0 0 1 0 1.5H1.75A.75.75 0 0 1 1 7.75ZM1.75 12h12.5a.75.75 0 0 1 0 1.5H1.75a.75.75 0 0 1 0-1.5Z"></path>
</svg>
</button>

<dialog-helper>
  <dialog data-target="deferred-side-panel.panel" id="dialog-22e31d03-2a1d-4a6a-b549-b858630433c2" aria-modal="true" aria-labelledby="dialog-22e31d03-2a1d-4a6a-b549-b858630433c2-title" aria-describedby="dialog-22e31d03-2a1d-4a6a-b549-b858630433c2-description" data-view-component="true" class="Overlay Overlay-whenNarrow Overlay--size-small-portrait Overlay--motion-scaleFade Overlay--placement-left SidePanel">
    <div styles="flex-direction: row;" data-view-component="true" class="Overlay-header">
  <div class="Overlay-headerContentWrap">
    <div class="Overlay-titleWrap">
      <h1 class="Overlay-title sr-only" id="dialog-22e31d03-2a1d-4a6a-b549-b858630433c2-title">
        Global navigation
      </h1>
            <div data-view-component="true" class="d-flex">
      <div data-view-component="true" class="AppHeader-logo position-relative">
        <svg aria-hidden="true" height="24" viewBox="0 0 24 24" version="1.1" width="24" data-view-component="true" class="octicon octicon-mark-github">
    <path d="M12.5.75C6.146.75 1 5.896 1 12.25c0 5.089 3.292 9.387 7.863 10.91.575.101.79-.244.79-.546 0-.273-.014-1.178-.014-2.142-2.889.532-3.636-.704-3.866-1.35-.13-.331-.69-1.352-1.18-1.625-.402-.216-.977-.748-.014-.762.906-.014 1.553.834 1.769 1.179 1.035 1.74 2.688 1.25 3.349.948.1-.747.402-1.25.733-1.538-2.559-.287-5.232-1.279-5.232-5.678 0-1.25.445-2.285 1.178-3.09-.115-.288-.517-1.467.115-3.048 0 0 .963-.302 3.163 1.179.92-.259 1.897-.388 2.875-.388.977 0 1.955.13 2.875.388 2.2-1.495 3.162-1.179 3.162-1.179.633 1.581.23 2.76.115 3.048.733.805 1.179 1.825 1.179 3.09 0 4.413-2.688 5.39-5.247 5.678.417.36.776 1.05.776 2.128 0 1.538-.014 2.774-.014 3.162 0 .302.216.662.79.547C20.709 21.637 24 17.324 24 12.25 24 5.896 18.854.75 12.5.75Z"></path>
</svg>
</div></div>
    </div>
    <div class="Overlay-actionWrap">
      <button data-close-dialog-id="dialog-22e31d03-2a1d-4a6a-b549-b858630433c2" aria-label="Close" type="button" data-view-component="true" class="close-button Overlay-closeButton"><svg aria-hidden="true" height="16" viewBox="0 0 16 16" version="1.1" width="16" data-view-component="true" class="octicon octicon-x">
    <path d="M3.72 3.72a.75.75 0 0 1 1.06 0L8 6.94l3.22-3.22a.749.749 0 0 1 1.275.326.749.749 0 0 1-.215.734L9.06 8l3.22 3.22a.749.749 0 0 1-.326 1.275.749.749 0 0 1-.734-.215L8 9.06l-3.22 3.22a.751.751 0 0 1-1.042-.018.751.751 0 0 1-.018-1.042L6.94 8 3.72 4.78a.75.75 0 0 1 0-1.06Z"></path>
</svg></button>
    </div>
  </div>
  
</div>
      <scrollable-region data-labelled-by="dialog-22e31d03-2a1d-4a6a-b549-b858630433c2-title">
        <div data-view-component="true" class="Overlay-body d-flex flex-column px-2">    <div data-view-component="true" class="d-flex flex-column mb-3">
        <nav aria-label="Site navigation" data-view-component="true" class="ActionList">
  
  <nav-list>
    <ul data-target="nav-list.topLevelList" data-view-component="true" class="ActionListWrap">
        
          
<li data-item-id="" data-targets="nav-list.items" data-view-component="true" class="ActionListItem">
    
    
    <a data-hotkey="g d" data-analytics-event="{&quot;category&quot;:&quot;Global navigation&quot;,&quot;action&quot;:&quot;HOME&quot;,&quot;label&quot;:null}" id="item-c119e40b-acce-4cde-b099-45b5e2279b00" href="/dashboard" data-view-component="true" class="ActionListContent ActionListContent--visual16">
        <span class="ActionListItem-visual ActionListItem-visual--leading">
          <svg aria-hidden="true" height="16" viewBox="0 0 16 16" version="1.1" width="16" data-view-component="true" class="octicon octicon-home">
    <path d="M6.906.664a1.749 1.749 0 0 1 2.187 0l5.25 4.2c.415.332.657.835.657 1.367v7.019A1.75 1.75 0 0 1 13.25 15h-3.5a.75.75 0 0 1-.75-.75V9H7v5.25a.75.75 0 0 1-.75.75h-3.5A1.75 1.75 0 0 1 1 13.25V6.23c0-.531.242-1.034.657-1.366l5.25-4.2Zm1.25 1.171a.25.25 0 0 0-.312 0l-5.25 4.2a.25.25 0 0 0-.094.196v7.019c0 .138.112.25.25.25H5.5V8.25a.75.75 0 0 1 .75-.75h3.5a.75.75 0 0 1 .75.75v5.25h2.75a.25.25 0 0 0 .25-.25V6.23a.25.25 0 0 0-.094-.195Z"></path>
</svg>
        </span>
      
        <span data-view-component="true" class="ActionListItem-label">
          Home
</span>      
</a>
  
</li>

        
          
<li data-item-id="" data-targets="nav-list.items" data-view-component="true" class="ActionListItem">
    
    
    <a data-hotkey="g i" data-analytics-event="{&quot;category&quot;:&quot;Global navigation&quot;,&quot;action&quot;:&quot;ISSUES&quot;,&quot;label&quot;:null}" id="item-76a80ddf-9a67-4e95-8363-e190144c956c" href="/issues" data-view-component="true" class="ActionListContent ActionListContent--visual16">
        <span class="ActionListItem-visual ActionListItem-visual--leading">
          <svg aria-hidden="true" height="16" viewBox="0 0 16 16" version="1.1" width="16" data-view-component="true" class="octicon octicon-issue-opened">
    <path d="M8 9.5a1.5 1.5 0 1 0 0-3 1.5 1.5 0 0 0 0 3Z"></path><path d="M8 0a8 8 0 1 1 0 16A8 8 0 0 1 8 0ZM1.5 8a6.5 6.5 0 1 0 13 0 6.5 6.5 0 0 0-13 0Z"></path>
</svg>
        </span>
      
        <span data-view-component="true" class="ActionListItem-label">
          Issues
</span>      
</a>
  
</li>

        
          
<li data-item-id="" data-targets="nav-list.items" data-view-component="true" class="ActionListItem">
    
    
    <a data-hotkey="g p" data-analytics-event="{&quot;category&quot;:&quot;Global navigation&quot;,&quot;action&quot;:&quot;PULL_REQUESTS&quot;,&quot;label&quot;:null}" id="item-a59a257c-583e-415d-8120-9414f9475992" href="/pulls" data-view-component="true" class="ActionListContent ActionListContent--visual16">
        <span class="ActionListItem-visual ActionListItem-visual--leading">
          <svg aria-hidden="true" height="16" viewBox="0 0 16 16" version="1.1" width="16" data-view-component="true" class="octicon octicon-git-pull-request">
    <path d="M1.5 3.25a2.25 2.25 0 1 1 3 2.122v5.256a2.251 2.251 0 1 1-1.5 0V5.372A2.25 2.25 0 0 1 1.5 3.25Zm5.677-.177L9.573.677A.25.25 0 0 1 10 .854V2.5h1A2.5 2.5 0 0 1 13.5 5v5.628a2.251 2.251 0 1 1-1.5 0V5a1 1 0 0 0-1-1h-1v1.646a.25.25 0 0 1-.427.177L7.177 3.427a.25.25 0 0 1 0-.354ZM3.75 2.5a.75.75 0 1 0 0 1.5.75.75 0 0 0 0-1.5Zm0 9.5a.75.75 0 1 0 0 1.5.75.75 0 0 0 0-1.5Zm8.25.75a.75.75 0 1 0 1.5 0 .75.75 0 0 0-1.5 0Z"></path>
</svg>
        </span>
      
        <span data-view-component="true" class="ActionListItem-label">
          Pull requests
</span>      
</a>
  
</li>

        
          
<li data-item-id="" data-targets="nav-list.items" data-item-id="projects" data-view-component="true" class="ActionListItem">
    
    
    <a data-analytics-event="{&quot;category&quot;:&quot;Global navigation&quot;,&quot;action&quot;:&quot;PROJECTS&quot;,&quot;label&quot;:null}" id="item-1e075903-8cea-4752-859e-4b262f58eceb" href="/projects" data-view-component="true" class="ActionListContent ActionListContent--visual16">
        <span class="ActionListItem-visual ActionListItem-visual--leading">
          <svg aria-hidden="true" height="16" viewBox="0 0 16 16" version="1.1" width="16" data-view-component="true" class="octicon octicon-table">
    <path d="M0 1.75C0 .784.784 0 1.75 0h12.5C15.216 0 16 .784 16 1.75v12.5A1.75 1.75 0 0 1 14.25 16H1.75A1.75 1.75 0 0 1 0 14.25ZM6.5 6.5v8h7.75a.25.25 0 0 0 .25-.25V6.5Zm8-1.5V1.75a.25.25 0 0 0-.25-.25H6.5V5Zm-13 1.5v7.75c0 .138.112.25.25.25H5v-8ZM5 5V1.5H1.75a.25.25 0 0 0-.25.25V5Z"></path>
</svg>
        </span>
      
        <span data-view-component="true" class="ActionListItem-label">
          Projects
</span>      
</a>
  
</li>

        
          
<li data-item-id="" data-targets="nav-list.items" data-view-component="true" class="ActionListItem">
    
    
    <a data-analytics-event="{&quot;category&quot;:&quot;Global navigation&quot;,&quot;action&quot;:&quot;DISCUSSIONS&quot;,&quot;label&quot;:null}" id="item-9f48d58b-2c51-4077-8f4e-d8d540586abe" href="/discussions" data-view-component="true" class="ActionListContent ActionListContent--visual16">
        <span class="ActionListItem-visual ActionListItem-visual--leading">
          <svg aria-hidden="true" height="16" viewBox="0 0 16 16" version="1.1" width="16" data-view-component="true" class="octicon octicon-comment-discussion">
    <path d="M1.75 1h8.5c.966 0 1.75.784 1.75 1.75v5.5A1.75 1.75 0 0 1 10.25 10H7.061l-2.574 2.573A1.458 1.458 0 0 1 2 11.543V10h-.25A1.75 1.75 0 0 1 0 8.25v-5.5C0 1.784.784 1 1.75 1ZM1.5 2.75v5.5c0 .138.112.25.25.25h1a.75.75 0 0 1 .75.75v2.19l2.72-2.72a.749.749 0 0 1 .53-.22h3.5a.25.25 0 0 0 .25-.25v-5.5a.25.25 0 0 0-.25-.25h-8.5a.25.25 0 0 0-.25.25Zm13 2a.25.25 0 0 0-.25-.25h-.5a.75.75 0 0 1 0-1.5h.5c.966 0 1.75.784 1.75 1.75v5.5A1.75 1.75 0 0 1 14.25 12H14v1.543a1.458 1.458 0 0 1-2.487 1.03L9.22 12.28a.749.749 0 0 1 .326-1.275.749.749 0 0 1 .734.215l2.22 2.22v-2.19a.75.75 0 0 1 .75-.75h1a.25.25 0 0 0 .25-.25Z"></path>
</svg>
        </span>
      
        <span data-view-component="true" class="ActionListItem-label">
          Discussions
</span>      
</a>
  
</li>

        
          
<li data-item-id="" data-targets="nav-list.items" data-view-component="true" class="ActionListItem">
    
    
    <a data-analytics-event="{&quot;category&quot;:&quot;Global navigation&quot;,&quot;action&quot;:&quot;CODESPACES&quot;,&quot;label&quot;:null}" id="item-d10cdc24-5866-4dd8-9c66-43afefba0a0a" href="https://github.com/codespaces" data-view-component="true" class="ActionListContent ActionListContent--visual16">
        <span class="ActionListItem-visual ActionListItem-visual--leading">
          <svg aria-hidden="true" height="16" viewBox="0 0 16 16" version="1.1" width="16" data-view-component="true" class="octicon octicon-codespaces">
    <path d="M0 11.25c0-.966.784-1.75 1.75-1.75h12.5c.966 0 1.75.784 1.75 1.75v3A1.75 1.75 0 0 1 14.25 16H1.75A1.75 1.75 0 0 1 0 14.25Zm2-9.5C2 .784 2.784 0 3.75 0h8.5C13.216 0 14 .784 14 1.75v5a1.75 1.75 0 0 1-1.75 1.75h-8.5A1.75 1.75 0 0 1 2 6.75Zm1.75-.25a.25.25 0 0 0-.25.25v5c0 .138.112.25.25.25h8.5a.25.25 0 0 0 .25-.25v-5a.25.25 0 0 0-.25-.25Zm-2 9.5a.25.25 0 0 0-.25.25v3c0 .138.112.25.25.25h12.5a.25.25 0 0 0 .25-.25v-3a.25.25 0 0 0-.25-.25Z"></path><path d="M7 12.75a.75.75 0 0 1 .75-.75h4.5a.75.75 0 0 1 0 1.5h-4.5a.75.75 0 0 1-.75-.75Zm-4 0a.75.75 0 0 1 .75-.75h.5a.75.75 0 0 1 0 1.5h-.5a.75.75 0 0 1-.75-.75Z"></path>
</svg>
        </span>
      
        <span data-view-component="true" class="ActionListItem-label">
          Codespaces
</span>      
</a>
  
</li>

        
          <li role="presentation" aria-hidden="true" data-view-component="true" class="ActionList-sectionDivider"></li>
        
          
<li data-item-id="" data-targets="nav-list.items" data-view-component="true" class="ActionListItem">
    
    
    <a data-analytics-event="{&quot;category&quot;:&quot;Global navigation&quot;,&quot;action&quot;:&quot;EXPLORE&quot;,&quot;label&quot;:null}" id="item-28470c96-a88c-4984-8741-3a5f742ad31d" href="/explore" data-view-component="true" class="ActionListContent ActionListContent--visual16">
        <span class="ActionListItem-visual ActionListItem-visual--leading">
          <svg aria-hidden="true" height="16" viewBox="0 0 16 16" version="1.1" width="16" data-view-component="true" class="octicon octicon-telescope">
    <path d="M14.184 1.143v-.001l1.422 2.464a1.75 1.75 0 0 1-.757 2.451L3.104 11.713a1.75 1.75 0 0 1-2.275-.702l-.447-.775a1.75 1.75 0 0 1 .53-2.32L11.682.573a1.748 1.748 0 0 1 2.502.57Zm-4.709 9.32h-.001l2.644 3.863a.75.75 0 1 1-1.238.848l-1.881-2.75v2.826a.75.75 0 0 1-1.5 0v-2.826l-1.881 2.75a.75.75 0 1 1-1.238-.848l2.049-2.992a.746.746 0 0 1 .293-.253l1.809-.87a.749.749 0 0 1 .944.252ZM9.436 3.92h-.001l-4.97 3.39.942 1.63 5.42-2.61Zm3.091-2.108h.001l-1.85 1.26 1.505 2.605 2.016-.97a.247.247 0 0 0 .13-.151.247.247 0 0 0-.022-.199l-1.422-2.464a.253.253 0 0 0-.161-.119.254.254 0 0 0-.197.038ZM1.756 9.157a.25.25 0 0 0-.075.33l.447.775a.25.25 0 0 0 .325.1l1.598-.769-.83-1.436-1.465 1Z"></path>
</svg>
        </span>
      
        <span data-view-component="true" class="ActionListItem-label">
          Explore
</span>      
</a>
  
</li>

        
          
<li data-item-id="" data-targets="nav-list.items" data-view-component="true" class="ActionListItem">
    
    
    <a data-analytics-event="{&quot;category&quot;:&quot;Global navigation&quot;,&quot;action&quot;:&quot;MARKETPLACE&quot;,&quot;label&quot;:null}" id="item-8ce692fe-5425-411c-92da-9d0f1d8c30e0" href="/marketplace" data-view-component="true" class="ActionListContent ActionListContent--visual16">
        <span class="ActionListItem-visual ActionListItem-visual--leading">
          <svg aria-hidden="true" height="16" viewBox="0 0 16 16" version="1.1" width="16" data-view-component="true" class="octicon octicon-gift">
    <path d="M2 2.75A2.75 2.75 0 0 1 4.75 0c.983 0 1.873.42 2.57 1.232.268.318.497.668.68 1.042.183-.375.411-.725.68-1.044C9.376.42 10.266 0 11.25 0a2.75 2.75 0 0 1 2.45 4h.55c.966 0 1.75.784 1.75 1.75v2c0 .698-.409 1.301-1 1.582v4.918A1.75 1.75 0 0 1 13.25 16H2.75A1.75 1.75 0 0 1 1 14.25V9.332C.409 9.05 0 8.448 0 7.75v-2C0 4.784.784 4 1.75 4h.55c-.192-.375-.3-.8-.3-1.25ZM7.25 9.5H2.5v4.75c0 .138.112.25.25.25h4.5Zm1.5 0v5h4.5a.25.25 0 0 0 .25-.25V9.5Zm0-4V8h5.5a.25.25 0 0 0 .25-.25v-2a.25.25 0 0 0-.25-.25Zm-7 0a.25.25 0 0 0-.25.25v2c0 .138.112.25.25.25h5.5V5.5h-5.5Zm3-4a1.25 1.25 0 0 0 0 2.5h2.309c-.233-.818-.542-1.401-.878-1.793-.43-.502-.915-.707-1.431-.707ZM8.941 4h2.309a1.25 1.25 0 0 0 0-2.5c-.516 0-1 .205-1.43.707-.337.392-.646.975-.879 1.793Z"></path>
</svg>
        </span>
      
        <span data-view-component="true" class="ActionListItem-label">
          Marketplace
</span>      
</a>
  
</li>

</ul>  </nav-list>
</nav>

        <div data-view-component="true" class="my-3 d-flex flex-justify-center height-full">
          <svg style="box-sizing: content-box; color: var(--color-icon-primary);" width="16" height="16" viewBox="0 0 16 16" fill="none" aria-hidden="true" data-view-component="true" class="anim-rotate">
  <circle cx="8" cy="8" r="7" stroke="currentColor" stroke-opacity="0.25" stroke-width="2" vector-effect="non-scaling-stroke" fill="none" />
  <path d="M15 8a7.002 7.002 0 00-7-7" stroke="currentColor" stroke-width="2" stroke-linecap="round" vector-effect="non-scaling-stroke" />
</svg>  <span class="sr-only">Loading</span>

</div>
</div>
      <div data-view-component="true" class="flex-1"></div>


      <div data-view-component="true" class="px-2">      <p class="color-fg-subtle text-small text-light">&copy; 2024 GitHub, Inc.</p>

      <div data-view-component="true" class="d-flex flex-wrap text-small text-light">
          <a target="_blank" href="https://github.com/about" data-view-component="true" class="Link mr-2">About</a>
          <a target="_blank" href="https://github.blog" data-view-component="true" class="Link mr-2">Blog</a>
          <a target="_blank" href="https://docs.github.com/site-policy/github-terms/github-terms-of-service" data-view-component="true" class="Link mr-2">Terms</a>
          <a target="_blank" href="https://docs.github.com/site-policy/privacy-policies/github-privacy-statement" data-view-component="true" class="Link mr-2">Privacy</a>
          <a target="_blank" href="https://github.com/security" data-view-component="true" class="Link mr-2">Security</a>
          <a target="_blank" href="https://www.githubstatus.com/" data-view-component="true" class="Link mr-3">Status</a>

</div></div>
</div>
      </scrollable-region>
      
</dialog></dialog-helper>

  </include-fragment>
</deferred-side-panel>

        <a
          class="AppHeader-logo ml-2"
          href="https://github.com/"
          data-hotkey="g d"
          aria-label="Homepage "
          data-turbo="false"
          data-analytics-event="{&quot;category&quot;:&quot;Header&quot;,&quot;action&quot;:&quot;go to dashboard&quot;,&quot;label&quot;:&quot;icon:logo&quot;}"
        >
          <svg height="32" aria-hidden="true" viewBox="0 0 24 24" version="1.1" width="32" data-view-component="true" class="octicon octicon-mark-github v-align-middle color-fg-default">
    <path d="M12.5.75C6.146.75 1 5.896 1 12.25c0 5.089 3.292 9.387 7.863 10.91.575.101.79-.244.79-.546 0-.273-.014-1.178-.014-2.142-2.889.532-3.636-.704-3.866-1.35-.13-.331-.69-1.352-1.18-1.625-.402-.216-.977-.748-.014-.762.906-.014 1.553.834 1.769 1.179 1.035 1.74 2.688 1.25 3.349.948.1-.747.402-1.25.733-1.538-2.559-.287-5.232-1.279-5.232-5.678 0-1.25.445-2.285 1.178-3.09-.115-.288-.517-1.467.115-3.048 0 0 .963-.302 3.163 1.179.92-.259 1.897-.388 2.875-.388.977 0 1.955.13 2.875.388 2.2-1.495 3.162-1.179 3.162-1.179.633 1.581.23 2.76.115 3.048.733.805 1.179 1.825 1.179 3.09 0 4.413-2.688 5.39-5.247 5.678.417.36.776 1.05.776 2.128 0 1.538-.014 2.774-.014 3.162 0 .302.216.662.79.547C20.709 21.637 24 17.324 24 12.25 24 5.896 18.854.75 12.5.75Z"></path>
</svg>
        </a>

          <div class="AppHeader-context" >
  <div class="AppHeader-context-compact">
      <button aria-expanded="false" aria-haspopup="dialog" aria-label="Page context: MathforDataScience / DSR_Statistics1" id="dialog-show-context-region-dialog" data-show-dialog-id="context-region-dialog" type="button" data-view-component="true" class="AppHeader-context-compact-trigger Truncate Button--secondary Button--medium Button box-shadow-none">  <span class="Button-content">
    <span class="Button-label"><span class="AppHeader-context-compact-lead">
                <span class="AppHeader-context-compact-parentItem">MathforDataScience</span>
                <span class="no-wrap">&nbsp;/</span>

            </span>

            <strong class="AppHeader-context-compact-mainItem d-flex flex-items-center Truncate" >
  <span class="Truncate-text ">DSR_Statistics1</span>

</strong></span>
  </span>
</button>

<dialog-helper>
  <dialog id="context-region-dialog" aria-modal="true" aria-labelledby="context-region-dialog-title" aria-describedby="context-region-dialog-description" data-view-component="true" class="Overlay Overlay-whenNarrow Overlay--size-medium Overlay--motion-scaleFade">
    <div data-view-component="true" class="Overlay-header">
  <div class="Overlay-headerContentWrap">
    <div class="Overlay-titleWrap">
      <h1 class="Overlay-title " id="context-region-dialog-title">
        Navigate back to
      </h1>
        
    </div>
    <div class="Overlay-actionWrap">
      <button data-close-dialog-id="context-region-dialog" aria-label="Close" type="button" data-view-component="true" class="close-button Overlay-closeButton"><svg aria-hidden="true" height="16" viewBox="0 0 16 16" version="1.1" width="16" data-view-component="true" class="octicon octicon-x">
    <path d="M3.72 3.72a.75.75 0 0 1 1.06 0L8 6.94l3.22-3.22a.749.749 0 0 1 1.275.326.749.749 0 0 1-.215.734L9.06 8l3.22 3.22a.749.749 0 0 1-.326 1.275.749.749 0 0 1-.734-.215L8 9.06l-3.22 3.22a.751.751 0 0 1-1.042-.018.751.751 0 0 1-.018-1.042L6.94 8 3.72 4.78a.75.75 0 0 1 0-1.06Z"></path>
</svg></button>
    </div>
  </div>
  
</div>
      <scrollable-region data-labelled-by="context-region-dialog-title">
        <div data-view-component="true" class="Overlay-body">          <ul role="list" class="list-style-none" >
    <li>
      <a data-analytics-event="{&quot;category&quot;:&quot;SiteHeaderComponent&quot;,&quot;action&quot;:&quot;context_region_crumb&quot;,&quot;label&quot;:&quot;MathforDataScience&quot;,&quot;screen_size&quot;:&quot;compact&quot;}" href="/MathforDataScience" data-view-component="true" class="Link--primary Truncate d-flex flex-items-center py-1">
        <span class="AppHeader-context-item-label Truncate-text ">
            <svg aria-hidden="true" height="12" viewBox="0 0 16 16" version="1.1" width="12" data-view-component="true" class="octicon octicon-person mr-1">
    <path d="M10.561 8.073a6.005 6.005 0 0 1 3.432 5.142.75.75 0 1 1-1.498.07 4.5 4.5 0 0 0-8.99 0 .75.75 0 0 1-1.498-.07 6.004 6.004 0 0 1 3.431-5.142 3.999 3.999 0 1 1 5.123 0ZM10.5 5a2.5 2.5 0 1 0-5 0 2.5 2.5 0 0 0 5 0Z"></path>
</svg>

          MathforDataScience
        </span>

</a>
    </li>
    <li>
      <a data-analytics-event="{&quot;category&quot;:&quot;SiteHeaderComponent&quot;,&quot;action&quot;:&quot;context_region_crumb&quot;,&quot;label&quot;:&quot;DSR_Statistics1&quot;,&quot;screen_size&quot;:&quot;compact&quot;}" href="/MathforDataScience/DSR_Statistics1" data-view-component="true" class="Link--primary Truncate d-flex flex-items-center py-1">
        <span class="AppHeader-context-item-label Truncate-text ">
            <svg aria-hidden="true" height="12" viewBox="0 0 16 16" version="1.1" width="12" data-view-component="true" class="octicon octicon-repo mr-1">
    <path d="M2 2.5A2.5 2.5 0 0 1 4.5 0h8.75a.75.75 0 0 1 .75.75v12.5a.75.75 0 0 1-.75.75h-2.5a.75.75 0 0 1 0-1.5h1.75v-2h-8a1 1 0 0 0-.714 1.7.75.75 0 1 1-1.072 1.05A2.495 2.495 0 0 1 2 11.5Zm10.5-1h-8a1 1 0 0 0-1 1v6.708A2.486 2.486 0 0 1 4.5 9h8ZM5 12.25a.25.25 0 0 1 .25-.25h3.5a.25.25 0 0 1 .25.25v3.25a.25.25 0 0 1-.4.2l-1.45-1.087a.249.249 0 0 0-.3 0L5.4 15.7a.25.25 0 0 1-.4-.2Z"></path>
</svg>

          DSR_Statistics1
        </span>

</a>
    </li>
</ul>

</div>
      </scrollable-region>
      
</dialog></dialog-helper>
  </div>

  <div class="AppHeader-context-full">
    <nav role="navigation" aria-label="Page context">
      <ul role="list" class="list-style-none" >
    <li>
      <a data-analytics-event="{&quot;category&quot;:&quot;SiteHeaderComponent&quot;,&quot;action&quot;:&quot;context_region_crumb&quot;,&quot;label&quot;:&quot;MathforDataScience&quot;,&quot;screen_size&quot;:&quot;full&quot;}" data-hovercard-type="user" data-hovercard-url="/users/MathforDataScience/hovercard" data-octo-click="hovercard-link-click" data-octo-dimensions="link_type:self" href="/MathforDataScience" data-view-component="true" class="AppHeader-context-item">
        <span class="AppHeader-context-item-label  ">

          MathforDataScience
        </span>

</a>
        <span class="AppHeader-context-item-separator">/</span>
    </li>
    <li>
      <a data-analytics-event="{&quot;category&quot;:&quot;SiteHeaderComponent&quot;,&quot;action&quot;:&quot;context_region_crumb&quot;,&quot;label&quot;:&quot;DSR_Statistics1&quot;,&quot;screen_size&quot;:&quot;full&quot;}" href="/MathforDataScience/DSR_Statistics1" data-view-component="true" class="AppHeader-context-item">
        <span class="AppHeader-context-item-label  ">

          DSR_Statistics1
        </span>

</a>
    </li>
</ul>

    </nav>
  </div>
</div>

      </div>
      <div class="AppHeader-globalBar-end">
          <div class="AppHeader-search" >
              


<qbsearch-input class="search-input" data-scope="repo:MathforDataScience/DSR_Statistics1" data-custom-scopes-path="/search/custom_scopes" data-delete-custom-scopes-csrf="T2qoksHUVoaNM81PShmUo2-DAqzj-jxoQhQFQ5UCPDkbmJmDeQiSPRodCiqaF3dZmP9L-inEYIJ5cyPNLh84Uw" data-max-custom-scopes="10" data-header-redesign-enabled="true" data-initial-value="" data-blackbird-suggestions-path="/search/suggestions" data-jump-to-suggestions-path="/_graphql/GetSuggestedNavigationDestinations" data-current-repository="MathforDataScience/DSR_Statistics1" data-current-org="" data-current-owner="MathforDataScience" data-logged-in="true" data-copilot-chat-enabled="false" data-nl-search-enabled="false">
  <div
    class="search-input-container search-with-dialog position-relative d-flex flex-row flex-items-center height-auto color-bg-transparent border-0 color-fg-subtle mx-0"
    data-action="click:qbsearch-input#searchInputContainerClicked"
  >
      
            <button type="button" data-action="click:qbsearch-input#handleExpand" class="AppHeader-button AppHeader-search-whenNarrow" aria-label="Search or jump to…" aria-expanded="false" aria-haspopup="dialog">
            <svg aria-hidden="true" height="16" viewBox="0 0 16 16" version="1.1" width="16" data-view-component="true" class="octicon octicon-search">
    <path d="M10.68 11.74a6 6 0 0 1-7.922-8.982 6 6 0 0 1 8.982 7.922l3.04 3.04a.749.749 0 0 1-.326 1.275.749.749 0 0 1-.734-.215ZM11.5 7a4.499 4.499 0 1 0-8.997 0A4.499 4.499 0 0 0 11.5 7Z"></path>
</svg>
          </button>


<div class="AppHeader-search-whenRegular">
  <div class="AppHeader-search-wrap AppHeader-search-wrap--hasTrailing">
    <div class="AppHeader-search-control">
      <label
        for="AppHeader-searchInput"
        aria-label="Search or jump to…"
        class="AppHeader-search-visual--leading"
      >
        <svg aria-hidden="true" height="16" viewBox="0 0 16 16" version="1.1" width="16" data-view-component="true" class="octicon octicon-search">
    <path d="M10.68 11.74a6 6 0 0 1-7.922-8.982 6 6 0 0 1 8.982 7.922l3.04 3.04a.749.749 0 0 1-.326 1.275.749.749 0 0 1-.734-.215ZM11.5 7a4.499 4.499 0 1 0-8.997 0A4.499 4.499 0 0 0 11.5 7Z"></path>
</svg>
      </label>

                <button
            type="button"
            data-target="qbsearch-input.inputButton"
            data-action="click:qbsearch-input#handleExpand"
            class="AppHeader-searchButton form-control input-contrast text-left color-fg-subtle no-wrap"
            data-hotkey="s,/"
            data-analytics-event="{&quot;location&quot;:&quot;navbar&quot;,&quot;action&quot;:&quot;searchbar&quot;,&quot;context&quot;:&quot;global&quot;,&quot;tag&quot;:&quot;input&quot;,&quot;label&quot;:&quot;searchbar_input_global_navbar&quot;}"
            aria-describedby="search-error-message-flash"
          >
            <div class="overflow-hidden">
              <span id="qb-input-query" data-target="qbsearch-input.inputButtonText">
                  Type <kbd class="AppHeader-search-kbd">/</kbd> to search
              </span>
            </div>
          </button>

    </div>


  </div>
</div>

    <input type="hidden" name="type" class="js-site-search-type-field">

    
<div class="Overlay--hidden " data-modal-dialog-overlay>
  <modal-dialog data-action="close:qbsearch-input#handleClose cancel:qbsearch-input#handleClose" data-target="qbsearch-input.searchSuggestionsDialog" role="dialog" id="search-suggestions-dialog" aria-modal="true" aria-labelledby="search-suggestions-dialog-header" data-view-component="true" class="Overlay Overlay--width-medium Overlay--height-auto">
      <h1 id="search-suggestions-dialog-header" class="sr-only">Search code, repositories, users, issues, pull requests...</h1>
    <div class="Overlay-body Overlay-body--paddingNone">
      
          <div data-view-component="true">        <div class="search-suggestions position-absolute width-full color-shadow-large border color-fg-default color-bg-default overflow-hidden d-flex flex-column query-builder-container"
          style="border-radius: 12px;"
          data-target="qbsearch-input.queryBuilderContainer"
          hidden
        >
          <!-- '"` --><!-- </textarea></xmp> --></option></form><form id="query-builder-test-form" action="" accept-charset="UTF-8" method="get">
  <query-builder data-target="qbsearch-input.queryBuilder" id="query-builder-query-builder-test" data-filter-key=":" data-view-component="true" class="QueryBuilder search-query-builder">
    <div class="FormControl FormControl--fullWidth">
      <label id="query-builder-test-label" for="query-builder-test" class="FormControl-label sr-only">
        Search
      </label>
      <div
        class="QueryBuilder-StyledInput width-fit "
        data-target="query-builder.styledInput"
      >
          <span id="query-builder-test-leadingvisual-wrap" class="FormControl-input-leadingVisualWrap QueryBuilder-leadingVisualWrap">
            <svg aria-hidden="true" height="16" viewBox="0 0 16 16" version="1.1" width="16" data-view-component="true" class="octicon octicon-search FormControl-input-leadingVisual">
    <path d="M10.68 11.74a6 6 0 0 1-7.922-8.982 6 6 0 0 1 8.982 7.922l3.04 3.04a.749.749 0 0 1-.326 1.275.749.749 0 0 1-.734-.215ZM11.5 7a4.499 4.499 0 1 0-8.997 0A4.499 4.499 0 0 0 11.5 7Z"></path>
</svg>
          </span>
        <div data-target="query-builder.styledInputContainer" class="QueryBuilder-StyledInputContainer">
          <div
            aria-hidden="true"
            class="QueryBuilder-StyledInputContent"
            data-target="query-builder.styledInputContent"
          ></div>
          <div class="QueryBuilder-InputWrapper">
            <div aria-hidden="true" class="QueryBuilder-Sizer" data-target="query-builder.sizer"></div>
            <input id="query-builder-test" name="query-builder-test" value="" autocomplete="off" type="text" role="combobox" spellcheck="false" aria-expanded="false" aria-describedby="validation-e49b9063-4921-4caa-a986-255833718b7c" data-target="query-builder.input" data-action="
          input:query-builder#inputChange
          blur:query-builder#inputBlur
          keydown:query-builder#inputKeydown
          focus:query-builder#inputFocus
        " data-view-component="true" class="FormControl-input QueryBuilder-Input FormControl-medium" />
          </div>
        </div>
          <span class="sr-only" id="query-builder-test-clear">Clear</span>
          <button role="button" id="query-builder-test-clear-button" aria-labelledby="query-builder-test-clear query-builder-test-label" data-target="query-builder.clearButton" data-action="
                click:query-builder#clear
                focus:query-builder#clearButtonFocus
                blur:query-builder#clearButtonBlur
              " variant="small" hidden="hidden" type="button" data-view-component="true" class="Button Button--iconOnly Button--invisible Button--medium mr-1 px-2 py-0 d-flex flex-items-center rounded-1 color-fg-muted">  <svg aria-hidden="true" height="16" viewBox="0 0 16 16" version="1.1" width="16" data-view-component="true" class="octicon octicon-x-circle-fill Button-visual">
    <path d="M2.343 13.657A8 8 0 1 1 13.658 2.343 8 8 0 0 1 2.343 13.657ZM6.03 4.97a.751.751 0 0 0-1.042.018.751.751 0 0 0-.018 1.042L6.94 8 4.97 9.97a.749.749 0 0 0 .326 1.275.749.749 0 0 0 .734-.215L8 9.06l1.97 1.97a.749.749 0 0 0 1.275-.326.749.749 0 0 0-.215-.734L9.06 8l1.97-1.97a.749.749 0 0 0-.326-1.275.749.749 0 0 0-.734.215L8 6.94Z"></path>
</svg>
</button>

      </div>
      <template id="search-icon">
  <svg aria-hidden="true" height="16" viewBox="0 0 16 16" version="1.1" width="16" data-view-component="true" class="octicon octicon-search">
    <path d="M10.68 11.74a6 6 0 0 1-7.922-8.982 6 6 0 0 1 8.982 7.922l3.04 3.04a.749.749 0 0 1-.326 1.275.749.749 0 0 1-.734-.215ZM11.5 7a4.499 4.499 0 1 0-8.997 0A4.499 4.499 0 0 0 11.5 7Z"></path>
</svg>
</template>

<template id="code-icon">
  <svg aria-hidden="true" height="16" viewBox="0 0 16 16" version="1.1" width="16" data-view-component="true" class="octicon octicon-code">
    <path d="m11.28 3.22 4.25 4.25a.75.75 0 0 1 0 1.06l-4.25 4.25a.749.749 0 0 1-1.275-.326.749.749 0 0 1 .215-.734L13.94 8l-3.72-3.72a.749.749 0 0 1 .326-1.275.749.749 0 0 1 .734.215Zm-6.56 0a.751.751 0 0 1 1.042.018.751.751 0 0 1 .018 1.042L2.06 8l3.72 3.72a.749.749 0 0 1-.326 1.275.749.749 0 0 1-.734-.215L.47 8.53a.75.75 0 0 1 0-1.06Z"></path>
</svg>
</template>

<template id="file-code-icon">
  <svg aria-hidden="true" height="16" viewBox="0 0 16 16" version="1.1" width="16" data-view-component="true" class="octicon octicon-file-code">
    <path d="M4 1.75C4 .784 4.784 0 5.75 0h5.586c.464 0 .909.184 1.237.513l2.914 2.914c.329.328.513.773.513 1.237v8.586A1.75 1.75 0 0 1 14.25 15h-9a.75.75 0 0 1 0-1.5h9a.25.25 0 0 0 .25-.25V6h-2.75A1.75 1.75 0 0 1 10 4.25V1.5H5.75a.25.25 0 0 0-.25.25v2.5a.75.75 0 0 1-1.5 0Zm1.72 4.97a.75.75 0 0 1 1.06 0l2 2a.75.75 0 0 1 0 1.06l-2 2a.749.749 0 0 1-1.275-.326.749.749 0 0 1 .215-.734l1.47-1.47-1.47-1.47a.75.75 0 0 1 0-1.06ZM3.28 7.78 1.81 9.25l1.47 1.47a.751.751 0 0 1-.018 1.042.751.751 0 0 1-1.042.018l-2-2a.75.75 0 0 1 0-1.06l2-2a.751.751 0 0 1 1.042.018.751.751 0 0 1 .018 1.042Zm8.22-6.218V4.25c0 .138.112.25.25.25h2.688l-.011-.013-2.914-2.914-.013-.011Z"></path>
</svg>
</template>

<template id="history-icon">
  <svg aria-hidden="true" height="16" viewBox="0 0 16 16" version="1.1" width="16" data-view-component="true" class="octicon octicon-history">
    <path d="m.427 1.927 1.215 1.215a8.002 8.002 0 1 1-1.6 5.685.75.75 0 1 1 1.493-.154 6.5 6.5 0 1 0 1.18-4.458l1.358 1.358A.25.25 0 0 1 3.896 6H.25A.25.25 0 0 1 0 5.75V2.104a.25.25 0 0 1 .427-.177ZM7.75 4a.75.75 0 0 1 .75.75v2.992l2.028.812a.75.75 0 0 1-.557 1.392l-2.5-1A.751.751 0 0 1 7 8.25v-3.5A.75.75 0 0 1 7.75 4Z"></path>
</svg>
</template>

<template id="repo-icon">
  <svg aria-hidden="true" height="16" viewBox="0 0 16 16" version="1.1" width="16" data-view-component="true" class="octicon octicon-repo">
    <path d="M2 2.5A2.5 2.5 0 0 1 4.5 0h8.75a.75.75 0 0 1 .75.75v12.5a.75.75 0 0 1-.75.75h-2.5a.75.75 0 0 1 0-1.5h1.75v-2h-8a1 1 0 0 0-.714 1.7.75.75 0 1 1-1.072 1.05A2.495 2.495 0 0 1 2 11.5Zm10.5-1h-8a1 1 0 0 0-1 1v6.708A2.486 2.486 0 0 1 4.5 9h8ZM5 12.25a.25.25 0 0 1 .25-.25h3.5a.25.25 0 0 1 .25.25v3.25a.25.25 0 0 1-.4.2l-1.45-1.087a.249.249 0 0 0-.3 0L5.4 15.7a.25.25 0 0 1-.4-.2Z"></path>
</svg>
</template>

<template id="bookmark-icon">
  <svg aria-hidden="true" height="16" viewBox="0 0 16 16" version="1.1" width="16" data-view-component="true" class="octicon octicon-bookmark">
    <path d="M3 2.75C3 1.784 3.784 1 4.75 1h6.5c.966 0 1.75.784 1.75 1.75v11.5a.75.75 0 0 1-1.227.579L8 11.722l-3.773 3.107A.751.751 0 0 1 3 14.25Zm1.75-.25a.25.25 0 0 0-.25.25v9.91l3.023-2.489a.75.75 0 0 1 .954 0l3.023 2.49V2.75a.25.25 0 0 0-.25-.25Z"></path>
</svg>
</template>

<template id="plus-circle-icon">
  <svg aria-hidden="true" height="16" viewBox="0 0 16 16" version="1.1" width="16" data-view-component="true" class="octicon octicon-plus-circle">
    <path d="M8 0a8 8 0 1 1 0 16A8 8 0 0 1 8 0ZM1.5 8a6.5 6.5 0 1 0 13 0 6.5 6.5 0 0 0-13 0Zm7.25-3.25v2.5h2.5a.75.75 0 0 1 0 1.5h-2.5v2.5a.75.75 0 0 1-1.5 0v-2.5h-2.5a.75.75 0 0 1 0-1.5h2.5v-2.5a.75.75 0 0 1 1.5 0Z"></path>
</svg>
</template>

<template id="circle-icon">
  <svg aria-hidden="true" height="16" viewBox="0 0 16 16" version="1.1" width="16" data-view-component="true" class="octicon octicon-dot-fill">
    <path d="M8 4a4 4 0 1 1 0 8 4 4 0 0 1 0-8Z"></path>
</svg>
</template>

<template id="trash-icon">
  <svg aria-hidden="true" height="16" viewBox="0 0 16 16" version="1.1" width="16" data-view-component="true" class="octicon octicon-trash">
    <path d="M11 1.75V3h2.25a.75.75 0 0 1 0 1.5H2.75a.75.75 0 0 1 0-1.5H5V1.75C5 .784 5.784 0 6.75 0h2.5C10.216 0 11 .784 11 1.75ZM4.496 6.675l.66 6.6a.25.25 0 0 0 .249.225h5.19a.25.25 0 0 0 .249-.225l.66-6.6a.75.75 0 0 1 1.492.149l-.66 6.6A1.748 1.748 0 0 1 10.595 15h-5.19a1.75 1.75 0 0 1-1.741-1.575l-.66-6.6a.75.75 0 1 1 1.492-.15ZM6.5 1.75V3h3V1.75a.25.25 0 0 0-.25-.25h-2.5a.25.25 0 0 0-.25.25Z"></path>
</svg>
</template>

<template id="team-icon">
  <svg aria-hidden="true" height="16" viewBox="0 0 16 16" version="1.1" width="16" data-view-component="true" class="octicon octicon-people">
    <path d="M2 5.5a3.5 3.5 0 1 1 5.898 2.549 5.508 5.508 0 0 1 3.034 4.084.75.75 0 1 1-1.482.235 4 4 0 0 0-7.9 0 .75.75 0 0 1-1.482-.236A5.507 5.507 0 0 1 3.102 8.05 3.493 3.493 0 0 1 2 5.5ZM11 4a3.001 3.001 0 0 1 2.22 5.018 5.01 5.01 0 0 1 2.56 3.012.749.749 0 0 1-.885.954.752.752 0 0 1-.549-.514 3.507 3.507 0 0 0-2.522-2.372.75.75 0 0 1-.574-.73v-.352a.75.75 0 0 1 .416-.672A1.5 1.5 0 0 0 11 5.5.75.75 0 0 1 11 4Zm-5.5-.5a2 2 0 1 0-.001 3.999A2 2 0 0 0 5.5 3.5Z"></path>
</svg>
</template>

<template id="project-icon">
  <svg aria-hidden="true" height="16" viewBox="0 0 16 16" version="1.1" width="16" data-view-component="true" class="octicon octicon-project">
    <path d="M1.75 0h12.5C15.216 0 16 .784 16 1.75v12.5A1.75 1.75 0 0 1 14.25 16H1.75A1.75 1.75 0 0 1 0 14.25V1.75C0 .784.784 0 1.75 0ZM1.5 1.75v12.5c0 .138.112.25.25.25h12.5a.25.25 0 0 0 .25-.25V1.75a.25.25 0 0 0-.25-.25H1.75a.25.25 0 0 0-.25.25ZM11.75 3a.75.75 0 0 1 .75.75v7.5a.75.75 0 0 1-1.5 0v-7.5a.75.75 0 0 1 .75-.75Zm-8.25.75a.75.75 0 0 1 1.5 0v5.5a.75.75 0 0 1-1.5 0ZM8 3a.75.75 0 0 1 .75.75v3.5a.75.75 0 0 1-1.5 0v-3.5A.75.75 0 0 1 8 3Z"></path>
</svg>
</template>

<template id="pencil-icon">
  <svg aria-hidden="true" height="16" viewBox="0 0 16 16" version="1.1" width="16" data-view-component="true" class="octicon octicon-pencil">
    <path d="M11.013 1.427a1.75 1.75 0 0 1 2.474 0l1.086 1.086a1.75 1.75 0 0 1 0 2.474l-8.61 8.61c-.21.21-.47.364-.756.445l-3.251.93a.75.75 0 0 1-.927-.928l.929-3.25c.081-.286.235-.547.445-.758l8.61-8.61Zm.176 4.823L9.75 4.81l-6.286 6.287a.253.253 0 0 0-.064.108l-.558 1.953 1.953-.558a.253.253 0 0 0 .108-.064Zm1.238-3.763a.25.25 0 0 0-.354 0L10.811 3.75l1.439 1.44 1.263-1.263a.25.25 0 0 0 0-.354Z"></path>
</svg>
</template>

<template id="copilot-icon">
  <svg aria-hidden="true" height="16" viewBox="0 0 16 16" version="1.1" width="16" data-view-component="true" class="octicon octicon-copilot">
    <path d="M7.998 15.035c-4.562 0-7.873-2.914-7.998-3.749V9.338c.085-.628.677-1.686 1.588-2.065.013-.07.024-.143.036-.218.029-.183.06-.384.126-.612-.201-.508-.254-1.084-.254-1.656 0-.87.128-1.769.693-2.484.579-.733 1.494-1.124 2.724-1.261 1.206-.134 2.262.034 2.944.765.05.053.096.108.139.165.044-.057.094-.112.143-.165.682-.731 1.738-.899 2.944-.765 1.23.137 2.145.528 2.724 1.261.566.715.693 1.614.693 2.484 0 .572-.053 1.148-.254 1.656.066.228.098.429.126.612.012.076.024.148.037.218.924.385 1.522 1.471 1.591 2.095v1.872c0 .766-3.351 3.795-8.002 3.795Zm0-1.485c2.28 0 4.584-1.11 5.002-1.433V7.862l-.023-.116c-.49.21-1.075.291-1.727.291-1.146 0-2.059-.327-2.71-.991A3.222 3.222 0 0 1 8 6.303a3.24 3.24 0 0 1-.544.743c-.65.664-1.563.991-2.71.991-.652 0-1.236-.081-1.727-.291l-.023.116v4.255c.419.323 2.722 1.433 5.002 1.433ZM6.762 2.83c-.193-.206-.637-.413-1.682-.297-1.019.113-1.479.404-1.713.7-.247.312-.369.789-.369 1.554 0 .793.129 1.171.308 1.371.162.181.519.379 1.442.379.853 0 1.339-.235 1.638-.54.315-.322.527-.827.617-1.553.117-.935-.037-1.395-.241-1.614Zm4.155-.297c-1.044-.116-1.488.091-1.681.297-.204.219-.359.679-.242 1.614.091.726.303 1.231.618 1.553.299.305.784.54 1.638.54.922 0 1.28-.198 1.442-.379.179-.2.308-.578.308-1.371 0-.765-.123-1.242-.37-1.554-.233-.296-.693-.587-1.713-.7Z"></path><path d="M6.25 9.037a.75.75 0 0 1 .75.75v1.501a.75.75 0 0 1-1.5 0V9.787a.75.75 0 0 1 .75-.75Zm4.25.75v1.501a.75.75 0 0 1-1.5 0V9.787a.75.75 0 0 1 1.5 0Z"></path>
</svg>
</template>

<template id="copilot-error-icon">
  <svg aria-hidden="true" height="16" viewBox="0 0 16 16" version="1.1" width="16" data-view-component="true" class="octicon octicon-copilot-error">
    <path d="M16 11.24c0 .112-.072.274-.21.467L13 9.688V7.862l-.023-.116c-.49.21-1.075.291-1.727.291-.198 0-.388-.009-.571-.029L6.833 5.226a4.01 4.01 0 0 0 .17-.782c.117-.935-.037-1.395-.241-1.614-.193-.206-.637-.413-1.682-.297-.683.076-1.115.231-1.395.415l-1.257-.91c.579-.564 1.413-.877 2.485-.996 1.206-.134 2.262.034 2.944.765.05.053.096.108.139.165.044-.057.094-.112.143-.165.682-.731 1.738-.899 2.944-.765 1.23.137 2.145.528 2.724 1.261.566.715.693 1.614.693 2.484 0 .572-.053 1.148-.254 1.656.066.228.098.429.126.612.012.076.024.148.037.218.924.385 1.522 1.471 1.591 2.095Zm-5.083-8.707c-1.044-.116-1.488.091-1.681.297-.204.219-.359.679-.242 1.614.091.726.303 1.231.618 1.553.299.305.784.54 1.638.54.922 0 1.28-.198 1.442-.379.179-.2.308-.578.308-1.371 0-.765-.123-1.242-.37-1.554-.233-.296-.693-.587-1.713-.7Zm2.511 11.074c-1.393.776-3.272 1.428-5.43 1.428-4.562 0-7.873-2.914-7.998-3.749V9.338c.085-.628.677-1.686 1.588-2.065.013-.07.024-.143.036-.218.029-.183.06-.384.126-.612-.18-.455-.241-.963-.252-1.475L.31 4.107A.747.747 0 0 1 0 3.509V3.49a.748.748 0 0 1 .625-.73c.156-.026.306.047.435.139l14.667 10.578a.592.592 0 0 1 .227.264.752.752 0 0 1 .046.249v.022a.75.75 0 0 1-1.19.596Zm-1.367-.991L5.635 7.964a5.128 5.128 0 0 1-.889.073c-.652 0-1.236-.081-1.727-.291l-.023.116v4.255c.419.323 2.722 1.433 5.002 1.433 1.539 0 3.089-.505 4.063-.934Z"></path>
</svg>
</template>

<template id="workflow-icon">
  <svg aria-hidden="true" height="16" viewBox="0 0 16 16" version="1.1" width="16" data-view-component="true" class="octicon octicon-workflow">
    <path d="M0 1.75C0 .784.784 0 1.75 0h3.5C6.216 0 7 .784 7 1.75v3.5A1.75 1.75 0 0 1 5.25 7H4v4a1 1 0 0 0 1 1h4v-1.25C9 9.784 9.784 9 10.75 9h3.5c.966 0 1.75.784 1.75 1.75v3.5A1.75 1.75 0 0 1 14.25 16h-3.5A1.75 1.75 0 0 1 9 14.25v-.75H5A2.5 2.5 0 0 1 2.5 11V7h-.75A1.75 1.75 0 0 1 0 5.25Zm1.75-.25a.25.25 0 0 0-.25.25v3.5c0 .138.112.25.25.25h3.5a.25.25 0 0 0 .25-.25v-3.5a.25.25 0 0 0-.25-.25Zm9 9a.25.25 0 0 0-.25.25v3.5c0 .138.112.25.25.25h3.5a.25.25 0 0 0 .25-.25v-3.5a.25.25 0 0 0-.25-.25Z"></path>
</svg>
</template>

<template id="book-icon">
  <svg aria-hidden="true" height="16" viewBox="0 0 16 16" version="1.1" width="16" data-view-component="true" class="octicon octicon-book">
    <path d="M0 1.75A.75.75 0 0 1 .75 1h4.253c1.227 0 2.317.59 3 1.501A3.743 3.743 0 0 1 11.006 1h4.245a.75.75 0 0 1 .75.75v10.5a.75.75 0 0 1-.75.75h-4.507a2.25 2.25 0 0 0-1.591.659l-.622.621a.75.75 0 0 1-1.06 0l-.622-.621A2.25 2.25 0 0 0 5.258 13H.75a.75.75 0 0 1-.75-.75Zm7.251 10.324.004-5.073-.002-2.253A2.25 2.25 0 0 0 5.003 2.5H1.5v9h3.757a3.75 3.75 0 0 1 1.994.574ZM8.755 4.75l-.004 7.322a3.752 3.752 0 0 1 1.992-.572H14.5v-9h-3.495a2.25 2.25 0 0 0-2.25 2.25Z"></path>
</svg>
</template>

<template id="code-review-icon">
  <svg aria-hidden="true" height="16" viewBox="0 0 16 16" version="1.1" width="16" data-view-component="true" class="octicon octicon-code-review">
    <path d="M1.75 1h12.5c.966 0 1.75.784 1.75 1.75v8.5A1.75 1.75 0 0 1 14.25 13H8.061l-2.574 2.573A1.458 1.458 0 0 1 3 14.543V13H1.75A1.75 1.75 0 0 1 0 11.25v-8.5C0 1.784.784 1 1.75 1ZM1.5 2.75v8.5c0 .138.112.25.25.25h2a.75.75 0 0 1 .75.75v2.19l2.72-2.72a.749.749 0 0 1 .53-.22h6.5a.25.25 0 0 0 .25-.25v-8.5a.25.25 0 0 0-.25-.25H1.75a.25.25 0 0 0-.25.25Zm5.28 1.72a.75.75 0 0 1 0 1.06L5.31 7l1.47 1.47a.751.751 0 0 1-.018 1.042.751.751 0 0 1-1.042.018l-2-2a.75.75 0 0 1 0-1.06l2-2a.75.75 0 0 1 1.06 0Zm2.44 0a.75.75 0 0 1 1.06 0l2 2a.75.75 0 0 1 0 1.06l-2 2a.751.751 0 0 1-1.042-.018.751.751 0 0 1-.018-1.042L10.69 7 9.22 5.53a.75.75 0 0 1 0-1.06Z"></path>
</svg>
</template>

<template id="codespaces-icon">
  <svg aria-hidden="true" height="16" viewBox="0 0 16 16" version="1.1" width="16" data-view-component="true" class="octicon octicon-codespaces">
    <path d="M0 11.25c0-.966.784-1.75 1.75-1.75h12.5c.966 0 1.75.784 1.75 1.75v3A1.75 1.75 0 0 1 14.25 16H1.75A1.75 1.75 0 0 1 0 14.25Zm2-9.5C2 .784 2.784 0 3.75 0h8.5C13.216 0 14 .784 14 1.75v5a1.75 1.75 0 0 1-1.75 1.75h-8.5A1.75 1.75 0 0 1 2 6.75Zm1.75-.25a.25.25 0 0 0-.25.25v5c0 .138.112.25.25.25h8.5a.25.25 0 0 0 .25-.25v-5a.25.25 0 0 0-.25-.25Zm-2 9.5a.25.25 0 0 0-.25.25v3c0 .138.112.25.25.25h12.5a.25.25 0 0 0 .25-.25v-3a.25.25 0 0 0-.25-.25Z"></path><path d="M7 12.75a.75.75 0 0 1 .75-.75h4.5a.75.75 0 0 1 0 1.5h-4.5a.75.75 0 0 1-.75-.75Zm-4 0a.75.75 0 0 1 .75-.75h.5a.75.75 0 0 1 0 1.5h-.5a.75.75 0 0 1-.75-.75Z"></path>
</svg>
</template>

<template id="comment-icon">
  <svg aria-hidden="true" height="16" viewBox="0 0 16 16" version="1.1" width="16" data-view-component="true" class="octicon octicon-comment">
    <path d="M1 2.75C1 1.784 1.784 1 2.75 1h10.5c.966 0 1.75.784 1.75 1.75v7.5A1.75 1.75 0 0 1 13.25 12H9.06l-2.573 2.573A1.458 1.458 0 0 1 4 13.543V12H2.75A1.75 1.75 0 0 1 1 10.25Zm1.75-.25a.25.25 0 0 0-.25.25v7.5c0 .138.112.25.25.25h2a.75.75 0 0 1 .75.75v2.19l2.72-2.72a.749.749 0 0 1 .53-.22h4.5a.25.25 0 0 0 .25-.25v-7.5a.25.25 0 0 0-.25-.25Z"></path>
</svg>
</template>

<template id="comment-discussion-icon">
  <svg aria-hidden="true" height="16" viewBox="0 0 16 16" version="1.1" width="16" data-view-component="true" class="octicon octicon-comment-discussion">
    <path d="M1.75 1h8.5c.966 0 1.75.784 1.75 1.75v5.5A1.75 1.75 0 0 1 10.25 10H7.061l-2.574 2.573A1.458 1.458 0 0 1 2 11.543V10h-.25A1.75 1.75 0 0 1 0 8.25v-5.5C0 1.784.784 1 1.75 1ZM1.5 2.75v5.5c0 .138.112.25.25.25h1a.75.75 0 0 1 .75.75v2.19l2.72-2.72a.749.749 0 0 1 .53-.22h3.5a.25.25 0 0 0 .25-.25v-5.5a.25.25 0 0 0-.25-.25h-8.5a.25.25 0 0 0-.25.25Zm13 2a.25.25 0 0 0-.25-.25h-.5a.75.75 0 0 1 0-1.5h.5c.966 0 1.75.784 1.75 1.75v5.5A1.75 1.75 0 0 1 14.25 12H14v1.543a1.458 1.458 0 0 1-2.487 1.03L9.22 12.28a.749.749 0 0 1 .326-1.275.749.749 0 0 1 .734.215l2.22 2.22v-2.19a.75.75 0 0 1 .75-.75h1a.25.25 0 0 0 .25-.25Z"></path>
</svg>
</template>

<template id="organization-icon">
  <svg aria-hidden="true" height="16" viewBox="0 0 16 16" version="1.1" width="16" data-view-component="true" class="octicon octicon-organization">
    <path d="M1.75 16A1.75 1.75 0 0 1 0 14.25V1.75C0 .784.784 0 1.75 0h8.5C11.216 0 12 .784 12 1.75v12.5c0 .085-.006.168-.018.25h2.268a.25.25 0 0 0 .25-.25V8.285a.25.25 0 0 0-.111-.208l-1.055-.703a.749.749 0 1 1 .832-1.248l1.055.703c.487.325.779.871.779 1.456v5.965A1.75 1.75 0 0 1 14.25 16h-3.5a.766.766 0 0 1-.197-.026c-.099.017-.2.026-.303.026h-3a.75.75 0 0 1-.75-.75V14h-1v1.25a.75.75 0 0 1-.75.75Zm-.25-1.75c0 .138.112.25.25.25H4v-1.25a.75.75 0 0 1 .75-.75h2.5a.75.75 0 0 1 .75.75v1.25h2.25a.25.25 0 0 0 .25-.25V1.75a.25.25 0 0 0-.25-.25h-8.5a.25.25 0 0 0-.25.25ZM3.75 6h.5a.75.75 0 0 1 0 1.5h-.5a.75.75 0 0 1 0-1.5ZM3 3.75A.75.75 0 0 1 3.75 3h.5a.75.75 0 0 1 0 1.5h-.5A.75.75 0 0 1 3 3.75Zm4 3A.75.75 0 0 1 7.75 6h.5a.75.75 0 0 1 0 1.5h-.5A.75.75 0 0 1 7 6.75ZM7.75 3h.5a.75.75 0 0 1 0 1.5h-.5a.75.75 0 0 1 0-1.5ZM3 9.75A.75.75 0 0 1 3.75 9h.5a.75.75 0 0 1 0 1.5h-.5A.75.75 0 0 1 3 9.75ZM7.75 9h.5a.75.75 0 0 1 0 1.5h-.5a.75.75 0 0 1 0-1.5Z"></path>
</svg>
</template>

<template id="rocket-icon">
  <svg aria-hidden="true" height="16" viewBox="0 0 16 16" version="1.1" width="16" data-view-component="true" class="octicon octicon-rocket">
    <path d="M14.064 0h.186C15.216 0 16 .784 16 1.75v.186a8.752 8.752 0 0 1-2.564 6.186l-.458.459c-.314.314-.641.616-.979.904v3.207c0 .608-.315 1.172-.833 1.49l-2.774 1.707a.749.749 0 0 1-1.11-.418l-.954-3.102a1.214 1.214 0 0 1-.145-.125L3.754 9.816a1.218 1.218 0 0 1-.124-.145L.528 8.717a.749.749 0 0 1-.418-1.11l1.71-2.774A1.748 1.748 0 0 1 3.31 4h3.204c.288-.338.59-.665.904-.979l.459-.458A8.749 8.749 0 0 1 14.064 0ZM8.938 3.623h-.002l-.458.458c-.76.76-1.437 1.598-2.02 2.5l-1.5 2.317 2.143 2.143 2.317-1.5c.902-.583 1.74-1.26 2.499-2.02l.459-.458a7.25 7.25 0 0 0 2.123-5.127V1.75a.25.25 0 0 0-.25-.25h-.186a7.249 7.249 0 0 0-5.125 2.123ZM3.56 14.56c-.732.732-2.334 1.045-3.005 1.148a.234.234 0 0 1-.201-.064.234.234 0 0 1-.064-.201c.103-.671.416-2.273 1.15-3.003a1.502 1.502 0 1 1 2.12 2.12Zm6.94-3.935c-.088.06-.177.118-.266.175l-2.35 1.521.548 1.783 1.949-1.2a.25.25 0 0 0 .119-.213ZM3.678 8.116 5.2 5.766c.058-.09.117-.178.176-.266H3.309a.25.25 0 0 0-.213.119l-1.2 1.95ZM12 5a1 1 0 1 1-2 0 1 1 0 0 1 2 0Z"></path>
</svg>
</template>

<template id="shield-check-icon">
  <svg aria-hidden="true" height="16" viewBox="0 0 16 16" version="1.1" width="16" data-view-component="true" class="octicon octicon-shield-check">
    <path d="m8.533.133 5.25 1.68A1.75 1.75 0 0 1 15 3.48V7c0 1.566-.32 3.182-1.303 4.682-.983 1.498-2.585 2.813-5.032 3.855a1.697 1.697 0 0 1-1.33 0c-2.447-1.042-4.049-2.357-5.032-3.855C1.32 10.182 1 8.566 1 7V3.48a1.75 1.75 0 0 1 1.217-1.667l5.25-1.68a1.748 1.748 0 0 1 1.066 0Zm-.61 1.429.001.001-5.25 1.68a.251.251 0 0 0-.174.237V7c0 1.36.275 2.666 1.057 3.859.784 1.194 2.121 2.342 4.366 3.298a.196.196 0 0 0 .154 0c2.245-.957 3.582-2.103 4.366-3.297C13.225 9.666 13.5 8.358 13.5 7V3.48a.25.25 0 0 0-.174-.238l-5.25-1.68a.25.25 0 0 0-.153 0ZM11.28 6.28l-3.5 3.5a.75.75 0 0 1-1.06 0l-1.5-1.5a.749.749 0 0 1 .326-1.275.749.749 0 0 1 .734.215l.97.97 2.97-2.97a.751.751 0 0 1 1.042.018.751.751 0 0 1 .018 1.042Z"></path>
</svg>
</template>

<template id="heart-icon">
  <svg aria-hidden="true" height="16" viewBox="0 0 16 16" version="1.1" width="16" data-view-component="true" class="octicon octicon-heart">
    <path d="m8 14.25.345.666a.75.75 0 0 1-.69 0l-.008-.004-.018-.01a7.152 7.152 0 0 1-.31-.17 22.055 22.055 0 0 1-3.434-2.414C2.045 10.731 0 8.35 0 5.5 0 2.836 2.086 1 4.25 1 5.797 1 7.153 1.802 8 3.02 8.847 1.802 10.203 1 11.75 1 13.914 1 16 2.836 16 5.5c0 2.85-2.045 5.231-3.885 6.818a22.066 22.066 0 0 1-3.744 2.584l-.018.01-.006.003h-.002ZM4.25 2.5c-1.336 0-2.75 1.164-2.75 3 0 2.15 1.58 4.144 3.365 5.682A20.58 20.58 0 0 0 8 13.393a20.58 20.58 0 0 0 3.135-2.211C12.92 9.644 14.5 7.65 14.5 5.5c0-1.836-1.414-3-2.75-3-1.373 0-2.609.986-3.029 2.456a.749.749 0 0 1-1.442 0C6.859 3.486 5.623 2.5 4.25 2.5Z"></path>
</svg>
</template>

<template id="server-icon">
  <svg aria-hidden="true" height="16" viewBox="0 0 16 16" version="1.1" width="16" data-view-component="true" class="octicon octicon-server">
    <path d="M1.75 1h12.5c.966 0 1.75.784 1.75 1.75v4c0 .372-.116.717-.314 1 .198.283.314.628.314 1v4a1.75 1.75 0 0 1-1.75 1.75H1.75A1.75 1.75 0 0 1 0 12.75v-4c0-.358.109-.707.314-1a1.739 1.739 0 0 1-.314-1v-4C0 1.784.784 1 1.75 1ZM1.5 2.75v4c0 .138.112.25.25.25h12.5a.25.25 0 0 0 .25-.25v-4a.25.25 0 0 0-.25-.25H1.75a.25.25 0 0 0-.25.25Zm.25 5.75a.25.25 0 0 0-.25.25v4c0 .138.112.25.25.25h12.5a.25.25 0 0 0 .25-.25v-4a.25.25 0 0 0-.25-.25ZM7 4.75A.75.75 0 0 1 7.75 4h4.5a.75.75 0 0 1 0 1.5h-4.5A.75.75 0 0 1 7 4.75ZM7.75 10h4.5a.75.75 0 0 1 0 1.5h-4.5a.75.75 0 0 1 0-1.5ZM3 4.75A.75.75 0 0 1 3.75 4h.5a.75.75 0 0 1 0 1.5h-.5A.75.75 0 0 1 3 4.75ZM3.75 10h.5a.75.75 0 0 1 0 1.5h-.5a.75.75 0 0 1 0-1.5Z"></path>
</svg>
</template>

<template id="globe-icon">
  <svg aria-hidden="true" height="16" viewBox="0 0 16 16" version="1.1" width="16" data-view-component="true" class="octicon octicon-globe">
    <path d="M8 0a8 8 0 1 1 0 16A8 8 0 0 1 8 0ZM5.78 8.75a9.64 9.64 0 0 0 1.363 4.177c.255.426.542.832.857 1.215.245-.296.551-.705.857-1.215A9.64 9.64 0 0 0 10.22 8.75Zm4.44-1.5a9.64 9.64 0 0 0-1.363-4.177c-.307-.51-.612-.919-.857-1.215a9.927 9.927 0 0 0-.857 1.215A9.64 9.64 0 0 0 5.78 7.25Zm-5.944 1.5H1.543a6.507 6.507 0 0 0 4.666 5.5c-.123-.181-.24-.365-.352-.552-.715-1.192-1.437-2.874-1.581-4.948Zm-2.733-1.5h2.733c.144-2.074.866-3.756 1.58-4.948.12-.197.237-.381.353-.552a6.507 6.507 0 0 0-4.666 5.5Zm10.181 1.5c-.144 2.074-.866 3.756-1.58 4.948-.12.197-.237.381-.353.552a6.507 6.507 0 0 0 4.666-5.5Zm2.733-1.5a6.507 6.507 0 0 0-4.666-5.5c.123.181.24.365.353.552.714 1.192 1.436 2.874 1.58 4.948Z"></path>
</svg>
</template>

<template id="issue-opened-icon">
  <svg aria-hidden="true" height="16" viewBox="0 0 16 16" version="1.1" width="16" data-view-component="true" class="octicon octicon-issue-opened">
    <path d="M8 9.5a1.5 1.5 0 1 0 0-3 1.5 1.5 0 0 0 0 3Z"></path><path d="M8 0a8 8 0 1 1 0 16A8 8 0 0 1 8 0ZM1.5 8a6.5 6.5 0 1 0 13 0 6.5 6.5 0 0 0-13 0Z"></path>
</svg>
</template>

<template id="device-mobile-icon">
  <svg aria-hidden="true" height="16" viewBox="0 0 16 16" version="1.1" width="16" data-view-component="true" class="octicon octicon-device-mobile">
    <path d="M3.75 0h8.5C13.216 0 14 .784 14 1.75v12.5A1.75 1.75 0 0 1 12.25 16h-8.5A1.75 1.75 0 0 1 2 14.25V1.75C2 .784 2.784 0 3.75 0ZM3.5 1.75v12.5c0 .138.112.25.25.25h8.5a.25.25 0 0 0 .25-.25V1.75a.25.25 0 0 0-.25-.25h-8.5a.25.25 0 0 0-.25.25ZM8 13a1 1 0 1 1 0-2 1 1 0 0 1 0 2Z"></path>
</svg>
</template>

<template id="package-icon">
  <svg aria-hidden="true" height="16" viewBox="0 0 16 16" version="1.1" width="16" data-view-component="true" class="octicon octicon-package">
    <path d="m8.878.392 5.25 3.045c.54.314.872.89.872 1.514v6.098a1.75 1.75 0 0 1-.872 1.514l-5.25 3.045a1.75 1.75 0 0 1-1.756 0l-5.25-3.045A1.75 1.75 0 0 1 1 11.049V4.951c0-.624.332-1.201.872-1.514L7.122.392a1.75 1.75 0 0 1 1.756 0ZM7.875 1.69l-4.63 2.685L8 7.133l4.755-2.758-4.63-2.685a.248.248 0 0 0-.25 0ZM2.5 5.677v5.372c0 .09.047.171.125.216l4.625 2.683V8.432Zm6.25 8.271 4.625-2.683a.25.25 0 0 0 .125-.216V5.677L8.75 8.432Z"></path>
</svg>
</template>

<template id="credit-card-icon">
  <svg aria-hidden="true" height="16" viewBox="0 0 16 16" version="1.1" width="16" data-view-component="true" class="octicon octicon-credit-card">
    <path d="M10.75 9a.75.75 0 0 0 0 1.5h1.5a.75.75 0 0 0 0-1.5h-1.5Z"></path><path d="M0 3.75C0 2.784.784 2 1.75 2h12.5c.966 0 1.75.784 1.75 1.75v8.5A1.75 1.75 0 0 1 14.25 14H1.75A1.75 1.75 0 0 1 0 12.25ZM14.5 6.5h-13v5.75c0 .138.112.25.25.25h12.5a.25.25 0 0 0 .25-.25Zm0-2.75a.25.25 0 0 0-.25-.25H1.75a.25.25 0 0 0-.25.25V5h13Z"></path>
</svg>
</template>

<template id="play-icon">
  <svg aria-hidden="true" height="16" viewBox="0 0 16 16" version="1.1" width="16" data-view-component="true" class="octicon octicon-play">
    <path d="M8 0a8 8 0 1 1 0 16A8 8 0 0 1 8 0ZM1.5 8a6.5 6.5 0 1 0 13 0 6.5 6.5 0 0 0-13 0Zm4.879-2.773 4.264 2.559a.25.25 0 0 1 0 .428l-4.264 2.559A.25.25 0 0 1 6 10.559V5.442a.25.25 0 0 1 .379-.215Z"></path>
</svg>
</template>

<template id="gift-icon">
  <svg aria-hidden="true" height="16" viewBox="0 0 16 16" version="1.1" width="16" data-view-component="true" class="octicon octicon-gift">
    <path d="M2 2.75A2.75 2.75 0 0 1 4.75 0c.983 0 1.873.42 2.57 1.232.268.318.497.668.68 1.042.183-.375.411-.725.68-1.044C9.376.42 10.266 0 11.25 0a2.75 2.75 0 0 1 2.45 4h.55c.966 0 1.75.784 1.75 1.75v2c0 .698-.409 1.301-1 1.582v4.918A1.75 1.75 0 0 1 13.25 16H2.75A1.75 1.75 0 0 1 1 14.25V9.332C.409 9.05 0 8.448 0 7.75v-2C0 4.784.784 4 1.75 4h.55c-.192-.375-.3-.8-.3-1.25ZM7.25 9.5H2.5v4.75c0 .138.112.25.25.25h4.5Zm1.5 0v5h4.5a.25.25 0 0 0 .25-.25V9.5Zm0-4V8h5.5a.25.25 0 0 0 .25-.25v-2a.25.25 0 0 0-.25-.25Zm-7 0a.25.25 0 0 0-.25.25v2c0 .138.112.25.25.25h5.5V5.5h-5.5Zm3-4a1.25 1.25 0 0 0 0 2.5h2.309c-.233-.818-.542-1.401-.878-1.793-.43-.502-.915-.707-1.431-.707ZM8.941 4h2.309a1.25 1.25 0 0 0 0-2.5c-.516 0-1 .205-1.43.707-.337.392-.646.975-.879 1.793Z"></path>
</svg>
</template>

<template id="code-square-icon">
  <svg aria-hidden="true" height="16" viewBox="0 0 16 16" version="1.1" width="16" data-view-component="true" class="octicon octicon-code-square">
    <path d="M0 1.75C0 .784.784 0 1.75 0h12.5C15.216 0 16 .784 16 1.75v12.5A1.75 1.75 0 0 1 14.25 16H1.75A1.75 1.75 0 0 1 0 14.25Zm1.75-.25a.25.25 0 0 0-.25.25v12.5c0 .138.112.25.25.25h12.5a.25.25 0 0 0 .25-.25V1.75a.25.25 0 0 0-.25-.25Zm7.47 3.97a.75.75 0 0 1 1.06 0l2 2a.75.75 0 0 1 0 1.06l-2 2a.749.749 0 0 1-1.275-.326.749.749 0 0 1 .215-.734L10.69 8 9.22 6.53a.75.75 0 0 1 0-1.06ZM6.78 6.53 5.31 8l1.47 1.47a.749.749 0 0 1-.326 1.275.749.749 0 0 1-.734-.215l-2-2a.75.75 0 0 1 0-1.06l2-2a.751.751 0 0 1 1.042.018.751.751 0 0 1 .018 1.042Z"></path>
</svg>
</template>

<template id="device-desktop-icon">
  <svg aria-hidden="true" height="16" viewBox="0 0 16 16" version="1.1" width="16" data-view-component="true" class="octicon octicon-device-desktop">
    <path d="M14.25 1c.966 0 1.75.784 1.75 1.75v7.5A1.75 1.75 0 0 1 14.25 12h-3.727c.099 1.041.52 1.872 1.292 2.757A.752.752 0 0 1 11.25 16h-6.5a.75.75 0 0 1-.565-1.243c.772-.885 1.192-1.716 1.292-2.757H1.75A1.75 1.75 0 0 1 0 10.25v-7.5C0 1.784.784 1 1.75 1ZM1.75 2.5a.25.25 0 0 0-.25.25v7.5c0 .138.112.25.25.25h12.5a.25.25 0 0 0 .25-.25v-7.5a.25.25 0 0 0-.25-.25ZM9.018 12H6.982a5.72 5.72 0 0 1-.765 2.5h3.566a5.72 5.72 0 0 1-.765-2.5Z"></path>
</svg>
</template>

        <div class="position-relative">
                <ul
                  role="listbox"
                  class="ActionListWrap QueryBuilder-ListWrap"
                  aria-label="Suggestions"
                  data-action="
                    combobox-commit:query-builder#comboboxCommit
                    mousedown:query-builder#resultsMousedown
                  "
                  data-target="query-builder.resultsList"
                  data-persist-list=false
                  id="query-builder-test-results"
                ></ul>
        </div>
      <div class="FormControl-inlineValidation" id="validation-e49b9063-4921-4caa-a986-255833718b7c" hidden="hidden">
        <span class="FormControl-inlineValidation--visual">
          <svg aria-hidden="true" height="12" viewBox="0 0 12 12" version="1.1" width="12" data-view-component="true" class="octicon octicon-alert-fill">
    <path d="M4.855.708c.5-.896 1.79-.896 2.29 0l4.675 8.351a1.312 1.312 0 0 1-1.146 1.954H1.33A1.313 1.313 0 0 1 .183 9.058ZM7 7V3H5v4Zm-1 3a1 1 0 1 0 0-2 1 1 0 0 0 0 2Z"></path>
</svg>
        </span>
        <span></span>
</div>    </div>
    <div data-target="query-builder.screenReaderFeedback" aria-live="polite" aria-atomic="true" class="sr-only"></div>
</query-builder></form>
          <div class="d-flex flex-row color-fg-muted px-3 text-small color-bg-default search-feedback-prompt">
            <a target="_blank" href="https://docs.github.com/search-github/github-code-search/understanding-github-code-search-syntax" data-view-component="true" class="Link color-fg-accent text-normal ml-2">
              Search syntax tips
</a>            <div class="d-flex flex-1"></div>
              <button data-action="click:qbsearch-input#showFeedbackDialog" type="button" data-view-component="true" class="Button--link Button--medium Button color-fg-accent text-normal ml-2">  <span class="Button-content">
    <span class="Button-label">Give feedback</span>
  </span>
</button>
          </div>
        </div>
</div>

    </div>
</modal-dialog></div>
  </div>
  <div data-action="click:qbsearch-input#retract" class="dark-backdrop position-fixed" hidden data-target="qbsearch-input.darkBackdrop"></div>
  <div class="color-fg-default">
    
<dialog-helper>
  <dialog data-target="qbsearch-input.feedbackDialog" data-action="close:qbsearch-input#handleDialogClose cancel:qbsearch-input#handleDialogClose" id="feedback-dialog" aria-modal="true" aria-labelledby="feedback-dialog-title" aria-describedby="feedback-dialog-description" data-view-component="true" class="Overlay Overlay-whenNarrow Overlay--size-medium Overlay--motion-scaleFade">
    <div data-view-component="true" class="Overlay-header">
  <div class="Overlay-headerContentWrap">
    <div class="Overlay-titleWrap">
      <h1 class="Overlay-title " id="feedback-dialog-title">
        Provide feedback
      </h1>
        
    </div>
    <div class="Overlay-actionWrap">
      <button data-close-dialog-id="feedback-dialog" aria-label="Close" type="button" data-view-component="true" class="close-button Overlay-closeButton"><svg aria-hidden="true" height="16" viewBox="0 0 16 16" version="1.1" width="16" data-view-component="true" class="octicon octicon-x">
    <path d="M3.72 3.72a.75.75 0 0 1 1.06 0L8 6.94l3.22-3.22a.749.749 0 0 1 1.275.326.749.749 0 0 1-.215.734L9.06 8l3.22 3.22a.749.749 0 0 1-.326 1.275.749.749 0 0 1-.734-.215L8 9.06l-3.22 3.22a.751.751 0 0 1-1.042-.018.751.751 0 0 1-.018-1.042L6.94 8 3.72 4.78a.75.75 0 0 1 0-1.06Z"></path>
</svg></button>
    </div>
  </div>
  
</div>
      <scrollable-region data-labelled-by="feedback-dialog-title">
        <div data-view-component="true" class="Overlay-body">        <!-- '"` --><!-- </textarea></xmp> --></option></form><form id="code-search-feedback-form" data-turbo="false" action="/search/feedback" accept-charset="UTF-8" method="post"><input type="hidden" name="authenticity_token" value="Frw4sHMBUIXfGEJy45jM7CY8R-TjnoRWsab7xqemQMSQxLaIK7egl7BU2mDq6fdv-Yy13-wdqnogiBedvuIODQ" />
          <p>We read every piece of feedback, and take your input very seriously.</p>
          <textarea name="feedback" class="form-control width-full mb-2" style="height: 120px" id="feedback"></textarea>
          <input name="include_email" id="include_email" aria-label="Include my email address so I can be contacted" class="form-control mr-2" type="checkbox">
          <label for="include_email" style="font-weight: normal">Include my email address so I can be contacted</label>
</form></div>
      </scrollable-region>
      <div data-view-component="true" class="Overlay-footer Overlay-footer--alignEnd">          <button data-close-dialog-id="feedback-dialog" type="button" data-view-component="true" class="btn">    Cancel
</button>
          <button form="code-search-feedback-form" data-action="click:qbsearch-input#submitFeedback" type="submit" data-view-component="true" class="btn-primary btn">    Submit feedback
</button>
</div>
</dialog></dialog-helper>

    <custom-scopes data-target="qbsearch-input.customScopesManager">
    
<dialog-helper>
  <dialog data-target="custom-scopes.customScopesModalDialog" data-action="close:qbsearch-input#handleDialogClose cancel:qbsearch-input#handleDialogClose" id="custom-scopes-dialog" aria-modal="true" aria-labelledby="custom-scopes-dialog-title" aria-describedby="custom-scopes-dialog-description" data-view-component="true" class="Overlay Overlay-whenNarrow Overlay--size-medium Overlay--motion-scaleFade">
    <div data-view-component="true" class="Overlay-header Overlay-header--divided">
  <div class="Overlay-headerContentWrap">
    <div class="Overlay-titleWrap">
      <h1 class="Overlay-title " id="custom-scopes-dialog-title">
        Saved searches
      </h1>
        <h2 id="custom-scopes-dialog-description" class="Overlay-description">Use saved searches to filter your results more quickly</h2>
    </div>
    <div class="Overlay-actionWrap">
      <button data-close-dialog-id="custom-scopes-dialog" aria-label="Close" type="button" data-view-component="true" class="close-button Overlay-closeButton"><svg aria-hidden="true" height="16" viewBox="0 0 16 16" version="1.1" width="16" data-view-component="true" class="octicon octicon-x">
    <path d="M3.72 3.72a.75.75 0 0 1 1.06 0L8 6.94l3.22-3.22a.749.749 0 0 1 1.275.326.749.749 0 0 1-.215.734L9.06 8l3.22 3.22a.749.749 0 0 1-.326 1.275.749.749 0 0 1-.734-.215L8 9.06l-3.22 3.22a.751.751 0 0 1-1.042-.018.751.751 0 0 1-.018-1.042L6.94 8 3.72 4.78a.75.75 0 0 1 0-1.06Z"></path>
</svg></button>
    </div>
  </div>
  
</div>
      <scrollable-region data-labelled-by="custom-scopes-dialog-title">
        <div data-view-component="true" class="Overlay-body">        <div data-target="custom-scopes.customScopesModalDialogFlash"></div>

        <div hidden class="create-custom-scope-form" data-target="custom-scopes.createCustomScopeForm">
        <!-- '"` --><!-- </textarea></xmp> --></option></form><form id="custom-scopes-dialog-form" data-turbo="false" action="/search/custom_scopes" accept-charset="UTF-8" method="post"><input type="hidden" name="authenticity_token" value="93KUSOyPiISJqXfVdIp2V22eJWX5d6EoK660TPDdgvtzgJ-bde8MkxqJIDDB6VsUsPmqgX6cUspity3XuxnVCw" />
          <div data-target="custom-scopes.customScopesModalDialogFlash"></div>

          <input type="hidden" id="custom_scope_id" name="custom_scope_id" data-target="custom-scopes.customScopesIdField">

          <div class="form-group">
            <label for="custom_scope_name">Name</label>
            <auto-check src="/search/custom_scopes/check_name" required>
              <input
                type="text"
                name="custom_scope_name"
                id="custom_scope_name"
                data-target="custom-scopes.customScopesNameField"
                class="form-control"
                autocomplete="off"
                placeholder="github-ruby"
                required
                maxlength="50">
              <input type="hidden" value="N13cwl5EbGjibOxyBa6Eaic6QhHs8oVLN_FMpZRQf96vA9VBhugQVxlW9NNrosgcEwAZYBtKCGrC6GZXy9b5fg" data-csrf="true" />
            </auto-check>
          </div>

          <div class="form-group">
            <label for="custom_scope_query">Query</label>
            <input
              type="text"
              name="custom_scope_query"
              id="custom_scope_query"
              data-target="custom-scopes.customScopesQueryField"
              class="form-control"
              autocomplete="off"
              placeholder="(repo:mona/a OR repo:mona/b) AND lang:python"
              required
              maxlength="500">
          </div>

          <p class="text-small color-fg-muted">
            To see all available qualifiers, see our <a class="Link--inTextBlock" href="https://docs.github.com/search-github/github-code-search/understanding-github-code-search-syntax">documentation</a>.
          </p>
</form>        </div>

        <div data-target="custom-scopes.manageCustomScopesForm">
          <div data-target="custom-scopes.list"></div>
        </div>

</div>
      </scrollable-region>
      <div data-view-component="true" class="Overlay-footer Overlay-footer--alignEnd Overlay-footer--divided">          <button data-action="click:custom-scopes#customScopesCancel" type="button" data-view-component="true" class="btn">    Cancel
</button>
          <button form="custom-scopes-dialog-form" data-action="click:custom-scopes#customScopesSubmit" data-target="custom-scopes.customScopesSubmitButton" type="submit" data-view-component="true" class="btn-primary btn">    Create saved search
</button>
</div>
</dialog></dialog-helper>
    </custom-scopes>
  </div>
</qbsearch-input>    <input type="hidden" value="tmmwENdGZfANeoQf5AtH5qnNdhHtcaxnnMOF2OlLDKemnDTkRgArM4eIW_Gd-NNDcnPFu5YqPL7vRBowCnyRVw" data-csrf="true" class="js-data-jump-to-suggestions-path-csrf" />

          </div>

        <div class="AppHeader-actions position-relative">
             <react-partial-anchor>
      <button id="global-create-menu-anchor" aria-label="Create something new" data-target="react-partial-anchor.anchor" type="button" disabled="disabled" data-view-component="true" class="AppHeader-button global-create-button cursor-wait Button--secondary Button--medium Button width-auto color-fg-muted">  <span class="Button-content">
      <span class="Button-visual Button-leadingVisual">
        <svg aria-hidden="true" height="16" viewBox="0 0 16 16" version="1.1" width="16" data-view-component="true" class="octicon octicon-plus">
    <path d="M7.75 2a.75.75 0 0 1 .75.75V7h4.25a.75.75 0 0 1 0 1.5H8.5v4.25a.75.75 0 0 1-1.5 0V8.5H2.75a.75.75 0 0 1 0-1.5H7V2.75A.75.75 0 0 1 7.75 2Z"></path>
</svg>
      </span>
    <span class="Button-label"><svg aria-hidden="true" height="16" viewBox="0 0 16 16" version="1.1" width="16" data-view-component="true" class="octicon octicon-triangle-down">
    <path d="m4.427 7.427 3.396 3.396a.25.25 0 0 0 .354 0l3.396-3.396A.25.25 0 0 0 11.396 7H4.604a.25.25 0 0 0-.177.427Z"></path>
</svg></span>
  </span>
</button><tool-tip id="tooltip-174a29ea-2b5d-4184-9879-3d7f125c68d3" for="global-create-menu-anchor" popover="manual" data-direction="s" data-type="description" data-view-component="true" class="sr-only position-absolute">Create new...</tool-tip>

      <template data-target="react-partial-anchor.template">
        <script crossorigin="anonymous" defer="defer" type="application/javascript" src="https://github.githubassets.com/assets/vendors-node_modules_primer_react_lib-esm_FeatureFlags_FeatureFlags_js-node_modules_primer_re-7faff4-e1568ba89b9c.js"></script>
<script crossorigin="anonymous" defer="defer" type="application/javascript" src="https://github.githubassets.com/assets/ui_packages_react-core_register-partial_ts-ui_packages_global-create-menu_GlobalCreateMenu_tsx-eda592294bff.js"></script>
<script crossorigin="anonymous" defer="defer" type="application/javascript" src="https://github.githubassets.com/assets/global-create-menu-ea4992326398.js"></script>

<react-partial
  partial-name="global-create-menu"
  data-ssr="false"
>
  
  <script type="application/json" data-target="react-partial.embeddedData">{"props":{"createRepo":true,"importRepo":true,"codespaces":true,"gist":true,"createOrg":true,"createProject":false,"createProjectUrl":"/MathforDataScience?tab=projects","createLegacyProject":false,"createIssue":false,"org":null,"owner":"MathforDataScience","repo":"DSR_Statistics1"}}</script>
  <div data-target="react-partial.reactRoot"></div>
</react-partial>

      </template>
    </react-partial-anchor>


          <a href="/issues" data-analytics-event="{&quot;category&quot;:&quot;Global navigation&quot;,&quot;action&quot;:&quot;ISSUES_HEADER&quot;,&quot;label&quot;:null}" id="icon-button-bc3eea9e-c844-4c50-8d07-6599940eb8d1" aria-labelledby="tooltip-b18b7f45-34ac-4b98-bb5c-ca953e7264d4" data-view-component="true" class="Button Button--iconOnly Button--secondary Button--medium AppHeader-button color-fg-muted">  <svg aria-hidden="true" height="16" viewBox="0 0 16 16" version="1.1" width="16" data-view-component="true" class="octicon octicon-issue-opened Button-visual">
    <path d="M8 9.5a1.5 1.5 0 1 0 0-3 1.5 1.5 0 0 0 0 3Z"></path><path d="M8 0a8 8 0 1 1 0 16A8 8 0 0 1 8 0ZM1.5 8a6.5 6.5 0 1 0 13 0 6.5 6.5 0 0 0-13 0Z"></path>
</svg>
</a><tool-tip id="tooltip-b18b7f45-34ac-4b98-bb5c-ca953e7264d4" for="icon-button-bc3eea9e-c844-4c50-8d07-6599940eb8d1" popover="manual" data-direction="s" data-type="label" data-view-component="true" class="sr-only position-absolute">Issues</tool-tip>

          <a href="/pulls" data-analytics-event="{&quot;category&quot;:&quot;Global navigation&quot;,&quot;action&quot;:&quot;PULL_REQUESTS_HEADER&quot;,&quot;label&quot;:null}" id="icon-button-cc3998ea-9b86-4f93-924b-78185a5e17f7" aria-labelledby="tooltip-a9655f57-0ac4-4685-ba89-f62ac02cd04d" data-view-component="true" class="Button Button--iconOnly Button--secondary Button--medium AppHeader-button color-fg-muted">  <svg aria-hidden="true" height="16" viewBox="0 0 16 16" version="1.1" width="16" data-view-component="true" class="octicon octicon-git-pull-request Button-visual">
    <path d="M1.5 3.25a2.25 2.25 0 1 1 3 2.122v5.256a2.251 2.251 0 1 1-1.5 0V5.372A2.25 2.25 0 0 1 1.5 3.25Zm5.677-.177L9.573.677A.25.25 0 0 1 10 .854V2.5h1A2.5 2.5 0 0 1 13.5 5v5.628a2.251 2.251 0 1 1-1.5 0V5a1 1 0 0 0-1-1h-1v1.646a.25.25 0 0 1-.427.177L7.177 3.427a.25.25 0 0 1 0-.354ZM3.75 2.5a.75.75 0 1 0 0 1.5.75.75 0 0 0 0-1.5Zm0 9.5a.75.75 0 1 0 0 1.5.75.75 0 0 0 0-1.5Zm8.25.75a.75.75 0 1 0 1.5 0 .75.75 0 0 0-1.5 0Z"></path>
</svg>
</a><tool-tip id="tooltip-a9655f57-0ac4-4685-ba89-f62ac02cd04d" for="icon-button-cc3998ea-9b86-4f93-924b-78185a5e17f7" popover="manual" data-direction="s" data-type="label" data-view-component="true" class="sr-only position-absolute">Pull requests</tool-tip>

        </div>

        <notification-indicator data-channel="eyJjIjoibm90aWZpY2F0aW9uLWNoYW5nZWQ6NDI5NTkxNzQiLCJ0IjoxNzIzODIzNjU1fQ==--1c3a078ea4e10d92a25c5f7837448859868975a05719e235a9d6fc3c59879b09" data-indicator-mode="none" data-tooltip-global="You have unread notifications" data-tooltip-unavailable="Notifications are unavailable at the moment." data-tooltip-none="You have no unread notifications" data-header-redesign-enabled="true" data-fetch-indicator-src="/notifications/indicator" data-fetch-indicator-enabled="true" data-view-component="true" class="js-socket-channel">
    <a id="AppHeader-notifications-button" href="/notifications" aria-labelledby="notification-indicator-tooltip" data-hotkey="g n" data-target="notification-indicator.link" data-analytics-event="{&quot;category&quot;:&quot;Global navigation&quot;,&quot;action&quot;:&quot;NOTIFICATIONS_HEADER&quot;,&quot;label&quot;:null}" data-view-component="true" class="Button Button--iconOnly Button--secondary Button--medium AppHeader-button  color-fg-muted">  <svg aria-hidden="true" height="16" viewBox="0 0 16 16" version="1.1" width="16" data-view-component="true" class="octicon octicon-inbox Button-visual">
    <path d="M2.8 2.06A1.75 1.75 0 0 1 4.41 1h7.18c.7 0 1.333.417 1.61 1.06l2.74 6.395c.04.093.06.194.06.295v4.5A1.75 1.75 0 0 1 14.25 15H1.75A1.75 1.75 0 0 1 0 13.25v-4.5c0-.101.02-.202.06-.295Zm1.61.44a.25.25 0 0 0-.23.152L1.887 8H4.75a.75.75 0 0 1 .6.3L6.625 10h2.75l1.275-1.7a.75.75 0 0 1 .6-.3h2.863L11.82 2.652a.25.25 0 0 0-.23-.152Zm10.09 7h-2.875l-1.275 1.7a.75.75 0 0 1-.6.3h-3.5a.75.75 0 0 1-.6-.3L4.375 9.5H1.5v3.75c0 .138.112.25.25.25h12.5a.25.25 0 0 0 .25-.25Z"></path>
</svg>
</a>

    <tool-tip id="notification-indicator-tooltip" data-target="notification-indicator.tooltip" for="AppHeader-notifications-button" popover="manual" data-direction="s" data-type="label" data-view-component="true" class="sr-only position-absolute">Notifications</tool-tip>
</notification-indicator>

        

        <div class="AppHeader-user">
          <deferred-side-panel data-url="/_side-panels/user?repository_id=661665397">
  <include-fragment data-target="deferred-side-panel.fragment">
    <react-partial-anchor
  
>
  <button data-target="react-partial-anchor.anchor" data-login="MathforDataScience" aria-label="Open user navigation menu" type="button" data-view-component="true" class="cursor-wait Button--invisible Button--medium Button Button--invisible-noVisuals color-bg-transparent p-0">  <span class="Button-content">
    <span class="Button-label"><img src="https://avatars.githubusercontent.com/u/42959174?v=4" alt="" size="32" height="32" width="32" data-view-component="true" class="avatar circle" /></span>
  </span>
</button>
  <template data-target="react-partial-anchor.template">
    <script crossorigin="anonymous" defer="defer" type="application/javascript" src="https://github.githubassets.com/assets/global-user-nav-drawer-13d6c248f2c5.js"></script>
<link crossorigin="anonymous" media="all" rel="stylesheet" href="https://github.githubassets.com/assets/primer-react-css.c618884f5114d8c53ed1.module.css" />
<link crossorigin="anonymous" media="all" rel="stylesheet" href="https://github.githubassets.com/assets/global-user-nav-drawer.dd5b95699efad9266028.module.css" />

<react-partial
  partial-name="global-user-nav-drawer"
  data-ssr="false"
>
  
  <script type="application/json" data-target="react-partial.embeddedData">{"props":{"owner":{"login":"MathforDataScience","name":null,"avatarUrl":"https://avatars.githubusercontent.com/u/42959174?v=4"},"drawerId":"global-user-nav-drawer","lazyLoadItemDataFetchUrl":"/_side-panels/user.json","canAddAccount":true,"addAccountPath":"/login?add_account=1\u0026return_to=https%3A%2F%2Fgithub.com%2FMathforDataScience%2FDSR_Statistics1%2Fblob%2Fmain%2F7_%2520Hypotheses%2F7_2%2520paired%2520t-test.ipynb","switchAccountPath":"/switch_account","loginAccountPath":"/login?add_account=1","projectsPath":"/MathforDataScience?tab=projects","gistsUrl":"https://gist.github.com/mine","docsUrl":"https://docs.github.com","yourEnterpriseUrl":null,"enterpriseSettingsUrl":null,"supportUrl":"https://support.github.com","showAccountSwitcher":true,"showEnterprises":true,"showEnterprise":false,"showGists":true,"showSponsors":true,"showFeaturesPreviews":true,"showEnterpriseSettings":false,"createMenuProps":{"createRepo":true,"importRepo":true,"codespaces":true,"gist":true,"createOrg":true,"createProject":false,"createProjectUrl":"/MathforDataScience?tab=projects","createLegacyProject":false,"createIssue":false,"org":null,"owner":"MathforDataScience","repo":"DSR_Statistics1"}}}</script>
  <div data-target="react-partial.reactRoot"></div>
</react-partial>

  </template>
</react-partial-anchor>

  </include-fragment>
</deferred-side-panel>
        </div>

        <div class="position-absolute mt-2">
            
<site-header-logged-in-user-menu>

</site-header-logged-in-user-menu>

        </div>
      </div>
    </div>


      <div class="AppHeader-localBar" >
        <nav data-pjax="#js-repo-pjax-container" aria-label="Repository" data-view-component="true" class="js-repo-nav js-sidenav-container-pjax js-responsive-underlinenav overflow-hidden UnderlineNav">

  <ul data-view-component="true" class="UnderlineNav-body list-style-none">
      <li data-view-component="true" class="d-inline-flex">
  <a id="code-tab" href="/MathforDataScience/DSR_Statistics1" data-tab-item="i0code-tab" data-selected-links="repo_source repo_downloads repo_commits repo_releases repo_tags repo_branches repo_packages repo_deployments repo_attestations /MathforDataScience/DSR_Statistics1" data-pjax="#repo-content-pjax-container" data-turbo-frame="repo-content-turbo-frame" data-hotkey="g c" data-analytics-event="{&quot;category&quot;:&quot;Underline navbar&quot;,&quot;action&quot;:&quot;Click tab&quot;,&quot;label&quot;:&quot;Code&quot;,&quot;target&quot;:&quot;UNDERLINE_NAV.TAB&quot;}" data-view-component="true" class="UnderlineNav-item no-wrap js-responsive-underlinenav-item js-selected-navigation-item">
    
              <svg aria-hidden="true" height="16" viewBox="0 0 16 16" version="1.1" width="16" data-view-component="true" class="octicon octicon-code UnderlineNav-octicon d-none d-sm-inline">
    <path d="m11.28 3.22 4.25 4.25a.75.75 0 0 1 0 1.06l-4.25 4.25a.749.749 0 0 1-1.275-.326.749.749 0 0 1 .215-.734L13.94 8l-3.72-3.72a.749.749 0 0 1 .326-1.275.749.749 0 0 1 .734.215Zm-6.56 0a.751.751 0 0 1 1.042.018.751.751 0 0 1 .018 1.042L2.06 8l3.72 3.72a.749.749 0 0 1-.326 1.275.749.749 0 0 1-.734-.215L.47 8.53a.75.75 0 0 1 0-1.06Z"></path>
</svg>
        <span data-content="Code">Code</span>
          <span id="code-repo-tab-count" data-pjax-replace="" data-turbo-replace="" title="Not available" data-view-component="true" class="Counter"></span>


    
</a></li>
      <li data-view-component="true" class="d-inline-flex">
  <a id="issues-tab" href="/MathforDataScience/DSR_Statistics1/issues" data-tab-item="i1issues-tab" data-selected-links="repo_issues repo_labels repo_milestones /MathforDataScience/DSR_Statistics1/issues /_view_fragments/issues/index/MathforDataScience/DSR_Statistics1/layout" data-pjax="#repo-content-pjax-container" data-turbo-frame="repo-content-turbo-frame" data-hotkey="g i" data-analytics-event="{&quot;category&quot;:&quot;Underline navbar&quot;,&quot;action&quot;:&quot;Click tab&quot;,&quot;label&quot;:&quot;Issues&quot;,&quot;target&quot;:&quot;UNDERLINE_NAV.TAB&quot;}" data-view-component="true" class="UnderlineNav-item no-wrap js-responsive-underlinenav-item js-selected-navigation-item">
    
              <svg aria-hidden="true" height="16" viewBox="0 0 16 16" version="1.1" width="16" data-view-component="true" class="octicon octicon-issue-opened UnderlineNav-octicon d-none d-sm-inline">
    <path d="M8 9.5a1.5 1.5 0 1 0 0-3 1.5 1.5 0 0 0 0 3Z"></path><path d="M8 0a8 8 0 1 1 0 16A8 8 0 0 1 8 0ZM1.5 8a6.5 6.5 0 1 0 13 0 6.5 6.5 0 0 0-13 0Z"></path>
</svg>
        <span data-content="Issues">Issues</span>
          <span id="issues-repo-tab-count" data-pjax-replace="" data-turbo-replace="" title="0" hidden="hidden" data-view-component="true" class="Counter">0</span>


    
</a></li>
      <li data-view-component="true" class="d-inline-flex">
  <a id="pull-requests-tab" href="/MathforDataScience/DSR_Statistics1/pulls" data-tab-item="i2pull-requests-tab" data-selected-links="repo_pulls checks /MathforDataScience/DSR_Statistics1/pulls" data-pjax="#repo-content-pjax-container" data-turbo-frame="repo-content-turbo-frame" data-hotkey="g p" data-analytics-event="{&quot;category&quot;:&quot;Underline navbar&quot;,&quot;action&quot;:&quot;Click tab&quot;,&quot;label&quot;:&quot;Pull requests&quot;,&quot;target&quot;:&quot;UNDERLINE_NAV.TAB&quot;}" data-view-component="true" class="UnderlineNav-item no-wrap js-responsive-underlinenav-item js-selected-navigation-item">
    
              <svg aria-hidden="true" height="16" viewBox="0 0 16 16" version="1.1" width="16" data-view-component="true" class="octicon octicon-git-pull-request UnderlineNav-octicon d-none d-sm-inline">
    <path d="M1.5 3.25a2.25 2.25 0 1 1 3 2.122v5.256a2.251 2.251 0 1 1-1.5 0V5.372A2.25 2.25 0 0 1 1.5 3.25Zm5.677-.177L9.573.677A.25.25 0 0 1 10 .854V2.5h1A2.5 2.5 0 0 1 13.5 5v5.628a2.251 2.251 0 1 1-1.5 0V5a1 1 0 0 0-1-1h-1v1.646a.25.25 0 0 1-.427.177L7.177 3.427a.25.25 0 0 1 0-.354ZM3.75 2.5a.75.75 0 1 0 0 1.5.75.75 0 0 0 0-1.5Zm0 9.5a.75.75 0 1 0 0 1.5.75.75 0 0 0 0-1.5Zm8.25.75a.75.75 0 1 0 1.5 0 .75.75 0 0 0-1.5 0Z"></path>
</svg>
        <span data-content="Pull requests">Pull requests</span>
          <span id="pull-requests-repo-tab-count" data-pjax-replace="" data-turbo-replace="" title="0" hidden="hidden" data-view-component="true" class="Counter">0</span>


    
</a></li>
      <li data-view-component="true" class="d-inline-flex">
  <a id="actions-tab" href="/MathforDataScience/DSR_Statistics1/actions" data-tab-item="i3actions-tab" data-selected-links="repo_actions /MathforDataScience/DSR_Statistics1/actions" data-pjax="#repo-content-pjax-container" data-turbo-frame="repo-content-turbo-frame" data-hotkey="g a" data-analytics-event="{&quot;category&quot;:&quot;Underline navbar&quot;,&quot;action&quot;:&quot;Click tab&quot;,&quot;label&quot;:&quot;Actions&quot;,&quot;target&quot;:&quot;UNDERLINE_NAV.TAB&quot;}" data-view-component="true" class="UnderlineNav-item no-wrap js-responsive-underlinenav-item js-selected-navigation-item">
    
              <svg aria-hidden="true" height="16" viewBox="0 0 16 16" version="1.1" width="16" data-view-component="true" class="octicon octicon-play UnderlineNav-octicon d-none d-sm-inline">
    <path d="M8 0a8 8 0 1 1 0 16A8 8 0 0 1 8 0ZM1.5 8a6.5 6.5 0 1 0 13 0 6.5 6.5 0 0 0-13 0Zm4.879-2.773 4.264 2.559a.25.25 0 0 1 0 .428l-4.264 2.559A.25.25 0 0 1 6 10.559V5.442a.25.25 0 0 1 .379-.215Z"></path>
</svg>
        <span data-content="Actions">Actions</span>
          <span id="actions-repo-tab-count" data-pjax-replace="" data-turbo-replace="" title="Not available" data-view-component="true" class="Counter"></span>


    
</a></li>
      <li data-view-component="true" class="d-inline-flex">
  <a id="projects-tab" href="/MathforDataScience/DSR_Statistics1/projects" data-tab-item="i4projects-tab" data-selected-links="repo_projects new_repo_project repo_project /MathforDataScience/DSR_Statistics1/projects" data-pjax="#repo-content-pjax-container" data-turbo-frame="repo-content-turbo-frame" data-hotkey="g b" data-analytics-event="{&quot;category&quot;:&quot;Underline navbar&quot;,&quot;action&quot;:&quot;Click tab&quot;,&quot;label&quot;:&quot;Projects&quot;,&quot;target&quot;:&quot;UNDERLINE_NAV.TAB&quot;}" data-view-component="true" class="UnderlineNav-item no-wrap js-responsive-underlinenav-item js-selected-navigation-item">
    
              <svg aria-hidden="true" height="16" viewBox="0 0 16 16" version="1.1" width="16" data-view-component="true" class="octicon octicon-table UnderlineNav-octicon d-none d-sm-inline">
    <path d="M0 1.75C0 .784.784 0 1.75 0h12.5C15.216 0 16 .784 16 1.75v12.5A1.75 1.75 0 0 1 14.25 16H1.75A1.75 1.75 0 0 1 0 14.25ZM6.5 6.5v8h7.75a.25.25 0 0 0 .25-.25V6.5Zm8-1.5V1.75a.25.25 0 0 0-.25-.25H6.5V5Zm-13 1.5v7.75c0 .138.112.25.25.25H5v-8ZM5 5V1.5H1.75a.25.25 0 0 0-.25.25V5Z"></path>
</svg>
        <span data-content="Projects">Projects</span>
          <span id="projects-repo-tab-count" data-pjax-replace="" data-turbo-replace="" title="0" hidden="hidden" data-view-component="true" class="Counter">0</span>


    
</a></li>
      <li data-view-component="true" class="d-inline-flex">
  <a id="wiki-tab" href="/MathforDataScience/DSR_Statistics1/wiki" data-tab-item="i5wiki-tab" data-selected-links="repo_wiki /MathforDataScience/DSR_Statistics1/wiki" data-pjax="#repo-content-pjax-container" data-turbo-frame="repo-content-turbo-frame" data-hotkey="g w" data-analytics-event="{&quot;category&quot;:&quot;Underline navbar&quot;,&quot;action&quot;:&quot;Click tab&quot;,&quot;label&quot;:&quot;Wiki&quot;,&quot;target&quot;:&quot;UNDERLINE_NAV.TAB&quot;}" data-view-component="true" class="UnderlineNav-item no-wrap js-responsive-underlinenav-item js-selected-navigation-item">
    
              <svg aria-hidden="true" height="16" viewBox="0 0 16 16" version="1.1" width="16" data-view-component="true" class="octicon octicon-book UnderlineNav-octicon d-none d-sm-inline">
    <path d="M0 1.75A.75.75 0 0 1 .75 1h4.253c1.227 0 2.317.59 3 1.501A3.743 3.743 0 0 1 11.006 1h4.245a.75.75 0 0 1 .75.75v10.5a.75.75 0 0 1-.75.75h-4.507a2.25 2.25 0 0 0-1.591.659l-.622.621a.75.75 0 0 1-1.06 0l-.622-.621A2.25 2.25 0 0 0 5.258 13H.75a.75.75 0 0 1-.75-.75Zm7.251 10.324.004-5.073-.002-2.253A2.25 2.25 0 0 0 5.003 2.5H1.5v9h3.757a3.75 3.75 0 0 1 1.994.574ZM8.755 4.75l-.004 7.322a3.752 3.752 0 0 1 1.992-.572H14.5v-9h-3.495a2.25 2.25 0 0 0-2.25 2.25Z"></path>
</svg>
        <span data-content="Wiki">Wiki</span>
          <span id="wiki-repo-tab-count" data-pjax-replace="" data-turbo-replace="" title="Not available" data-view-component="true" class="Counter"></span>


    
</a></li>
      <li data-view-component="true" class="d-inline-flex">
  <a id="security-tab" href="/MathforDataScience/DSR_Statistics1/security" data-tab-item="i6security-tab" data-selected-links="security overview alerts policy token_scanning code_scanning /MathforDataScience/DSR_Statistics1/security" data-pjax="#repo-content-pjax-container" data-turbo-frame="repo-content-turbo-frame" data-hotkey="g s" data-analytics-event="{&quot;category&quot;:&quot;Underline navbar&quot;,&quot;action&quot;:&quot;Click tab&quot;,&quot;label&quot;:&quot;Security&quot;,&quot;target&quot;:&quot;UNDERLINE_NAV.TAB&quot;}" data-view-component="true" class="UnderlineNav-item no-wrap js-responsive-underlinenav-item js-selected-navigation-item">
    
              <svg aria-hidden="true" height="16" viewBox="0 0 16 16" version="1.1" width="16" data-view-component="true" class="octicon octicon-shield UnderlineNav-octicon d-none d-sm-inline">
    <path d="M7.467.133a1.748 1.748 0 0 1 1.066 0l5.25 1.68A1.75 1.75 0 0 1 15 3.48V7c0 1.566-.32 3.182-1.303 4.682-.983 1.498-2.585 2.813-5.032 3.855a1.697 1.697 0 0 1-1.33 0c-2.447-1.042-4.049-2.357-5.032-3.855C1.32 10.182 1 8.566 1 7V3.48a1.75 1.75 0 0 1 1.217-1.667Zm.61 1.429a.25.25 0 0 0-.153 0l-5.25 1.68a.25.25 0 0 0-.174.238V7c0 1.358.275 2.666 1.057 3.86.784 1.194 2.121 2.34 4.366 3.297a.196.196 0 0 0 .154 0c2.245-.956 3.582-2.104 4.366-3.298C13.225 9.666 13.5 8.36 13.5 7V3.48a.251.251 0 0 0-.174-.237l-5.25-1.68ZM8.75 4.75v3a.75.75 0 0 1-1.5 0v-3a.75.75 0 0 1 1.5 0ZM9 10.5a1 1 0 1 1-2 0 1 1 0 0 1 2 0Z"></path>
</svg>
        <span data-content="Security">Security</span>
          <include-fragment src="/MathforDataScience/DSR_Statistics1/security/overall-count" accept="text/fragment+html"></include-fragment>

    
</a></li>
      <li data-view-component="true" class="d-inline-flex">
  <a id="insights-tab" href="/MathforDataScience/DSR_Statistics1/pulse" data-tab-item="i7insights-tab" data-selected-links="repo_graphs repo_contributors dependency_graph dependabot_updates pulse people community /MathforDataScience/DSR_Statistics1/pulse" data-pjax="#repo-content-pjax-container" data-turbo-frame="repo-content-turbo-frame" data-analytics-event="{&quot;category&quot;:&quot;Underline navbar&quot;,&quot;action&quot;:&quot;Click tab&quot;,&quot;label&quot;:&quot;Insights&quot;,&quot;target&quot;:&quot;UNDERLINE_NAV.TAB&quot;}" data-view-component="true" class="UnderlineNav-item no-wrap js-responsive-underlinenav-item js-selected-navigation-item">
    
              <svg aria-hidden="true" height="16" viewBox="0 0 16 16" version="1.1" width="16" data-view-component="true" class="octicon octicon-graph UnderlineNav-octicon d-none d-sm-inline">
    <path d="M1.5 1.75V13.5h13.75a.75.75 0 0 1 0 1.5H.75a.75.75 0 0 1-.75-.75V1.75a.75.75 0 0 1 1.5 0Zm14.28 2.53-5.25 5.25a.75.75 0 0 1-1.06 0L7 7.06 4.28 9.78a.751.751 0 0 1-1.042-.018.751.751 0 0 1-.018-1.042l3.25-3.25a.75.75 0 0 1 1.06 0L10 7.94l4.72-4.72a.751.751 0 0 1 1.042.018.751.751 0 0 1 .018 1.042Z"></path>
</svg>
        <span data-content="Insights">Insights</span>
          <span id="insights-repo-tab-count" data-pjax-replace="" data-turbo-replace="" title="Not available" data-view-component="true" class="Counter"></span>


    
</a></li>
      <li data-view-component="true" class="d-inline-flex">
  <a id="settings-tab" href="/MathforDataScience/DSR_Statistics1/settings" data-tab-item="i8settings-tab" data-selected-links="code_review_limits codespaces_repository_settings collaborators custom_tabs hooks integration_installations interaction_limits issue_template_editor key_links_settings notifications repo_announcements repo_branch_settings repo_custom_properties repo_keys_settings repo_pages_settings repo_protected_tags_settings repo_rule_insights repo_rules_bypass_requests repo_rulesets repo_settings_copilot_coding_guidelines repo_settings_copilot_content_exclusion repo_settings reported_content repository_actions_settings_add_new_runner repository_actions_settings_general repository_actions_settings_runner_details repository_actions_settings_runners repository_actions_settings repository_environments role_details secrets_settings_actions secrets_settings_codespaces secrets_settings_dependabot secrets security_analysis security_products /MathforDataScience/DSR_Statistics1/settings" data-pjax="#repo-content-pjax-container" data-turbo-frame="repo-content-turbo-frame" data-analytics-event="{&quot;category&quot;:&quot;Underline navbar&quot;,&quot;action&quot;:&quot;Click tab&quot;,&quot;label&quot;:&quot;Settings&quot;,&quot;target&quot;:&quot;UNDERLINE_NAV.TAB&quot;}" data-view-component="true" class="UnderlineNav-item no-wrap js-responsive-underlinenav-item js-selected-navigation-item">
    
              <svg aria-hidden="true" height="16" viewBox="0 0 16 16" version="1.1" width="16" data-view-component="true" class="octicon octicon-gear UnderlineNav-octicon d-none d-sm-inline">
    <path d="M8 0a8.2 8.2 0 0 1 .701.031C9.444.095 9.99.645 10.16 1.29l.288 1.107c.018.066.079.158.212.224.231.114.454.243.668.386.123.082.233.09.299.071l1.103-.303c.644-.176 1.392.021 1.82.63.27.385.506.792.704 1.218.315.675.111 1.422-.364 1.891l-.814.806c-.049.048-.098.147-.088.294.016.257.016.515 0 .772-.01.147.038.246.088.294l.814.806c.475.469.679 1.216.364 1.891a7.977 7.977 0 0 1-.704 1.217c-.428.61-1.176.807-1.82.63l-1.102-.302c-.067-.019-.177-.011-.3.071a5.909 5.909 0 0 1-.668.386c-.133.066-.194.158-.211.224l-.29 1.106c-.168.646-.715 1.196-1.458 1.26a8.006 8.006 0 0 1-1.402 0c-.743-.064-1.289-.614-1.458-1.26l-.289-1.106c-.018-.066-.079-.158-.212-.224a5.738 5.738 0 0 1-.668-.386c-.123-.082-.233-.09-.299-.071l-1.103.303c-.644.176-1.392-.021-1.82-.63a8.12 8.12 0 0 1-.704-1.218c-.315-.675-.111-1.422.363-1.891l.815-.806c.05-.048.098-.147.088-.294a6.214 6.214 0 0 1 0-.772c.01-.147-.038-.246-.088-.294l-.815-.806C.635 6.045.431 5.298.746 4.623a7.92 7.92 0 0 1 .704-1.217c.428-.61 1.176-.807 1.82-.63l1.102.302c.067.019.177.011.3-.071.214-.143.437-.272.668-.386.133-.066.194-.158.211-.224l.29-1.106C6.009.645 6.556.095 7.299.03 7.53.01 7.764 0 8 0Zm-.571 1.525c-.036.003-.108.036-.137.146l-.289 1.105c-.147.561-.549.967-.998 1.189-.173.086-.34.183-.5.29-.417.278-.97.423-1.529.27l-1.103-.303c-.109-.03-.175.016-.195.045-.22.312-.412.644-.573.99-.014.031-.021.11.059.19l.815.806c.411.406.562.957.53 1.456a4.709 4.709 0 0 0 0 .582c.032.499-.119 1.05-.53 1.456l-.815.806c-.081.08-.073.159-.059.19.162.346.353.677.573.989.02.03.085.076.195.046l1.102-.303c.56-.153 1.113-.008 1.53.27.161.107.328.204.501.29.447.222.85.629.997 1.189l.289 1.105c.029.109.101.143.137.146a6.6 6.6 0 0 0 1.142 0c.036-.003.108-.036.137-.146l.289-1.105c.147-.561.549-.967.998-1.189.173-.086.34-.183.5-.29.417-.278.97-.423 1.529-.27l1.103.303c.109.029.175-.016.195-.045.22-.313.411-.644.573-.99.014-.031.021-.11-.059-.19l-.815-.806c-.411-.406-.562-.957-.53-1.456a4.709 4.709 0 0 0 0-.582c-.032-.499.119-1.05.53-1.456l.815-.806c.081-.08.073-.159.059-.19a6.464 6.464 0 0 0-.573-.989c-.02-.03-.085-.076-.195-.046l-1.102.303c-.56.153-1.113.008-1.53-.27a4.44 4.44 0 0 0-.501-.29c-.447-.222-.85-.629-.997-1.189l-.289-1.105c-.029-.11-.101-.143-.137-.146a6.6 6.6 0 0 0-1.142 0ZM11 8a3 3 0 1 1-6 0 3 3 0 0 1 6 0ZM9.5 8a1.5 1.5 0 1 0-3.001.001A1.5 1.5 0 0 0 9.5 8Z"></path>
</svg>
        <span data-content="Settings">Settings</span>
          <span id="settings-repo-tab-count" data-pjax-replace="" data-turbo-replace="" title="Not available" data-view-component="true" class="Counter"></span>


    
</a></li>
</ul>
    <div style="visibility:hidden;" data-view-component="true" class="UnderlineNav-actions js-responsive-underlinenav-overflow position-absolute pr-3 pr-md-4 pr-lg-5 right-0">      <action-menu data-select-variant="none" data-view-component="true">
  <focus-group direction="vertical" mnemonics retain>
    <button id="action-menu-bd778f80-6733-4094-a5ab-f84794966e6a-button" popovertarget="action-menu-bd778f80-6733-4094-a5ab-f84794966e6a-overlay" aria-controls="action-menu-bd778f80-6733-4094-a5ab-f84794966e6a-list" aria-haspopup="true" aria-labelledby="tooltip-e054b3d3-732a-4dfa-be36-c67811bd3fca" type="button" data-view-component="true" class="Button Button--iconOnly Button--secondary Button--medium UnderlineNav-item">  <svg aria-hidden="true" height="16" viewBox="0 0 16 16" version="1.1" width="16" data-view-component="true" class="octicon octicon-kebab-horizontal Button-visual">
    <path d="M8 9a1.5 1.5 0 1 0 0-3 1.5 1.5 0 0 0 0 3ZM1.5 9a1.5 1.5 0 1 0 0-3 1.5 1.5 0 0 0 0 3Zm13 0a1.5 1.5 0 1 0 0-3 1.5 1.5 0 0 0 0 3Z"></path>
</svg>
</button><tool-tip id="tooltip-e054b3d3-732a-4dfa-be36-c67811bd3fca" for="action-menu-bd778f80-6733-4094-a5ab-f84794966e6a-button" popover="manual" data-direction="s" data-type="label" data-view-component="true" class="sr-only position-absolute">Additional navigation options</tool-tip>


<anchored-position id="action-menu-bd778f80-6733-4094-a5ab-f84794966e6a-overlay" anchor="action-menu-bd778f80-6733-4094-a5ab-f84794966e6a-button" align="start" side="outside-bottom" anchor-offset="normal" popover="auto" data-view-component="true">
  <div data-view-component="true" class="Overlay Overlay--size-auto">
    
      <div data-view-component="true" class="Overlay-body Overlay-body--paddingNone">          <action-list>
  <div data-view-component="true">
    <ul aria-labelledby="action-menu-bd778f80-6733-4094-a5ab-f84794966e6a-button" id="action-menu-bd778f80-6733-4094-a5ab-f84794966e6a-list" role="menu" data-view-component="true" class="ActionListWrap--inset ActionListWrap">
        <li hidden="hidden" data-menu-item="i0code-tab" data-targets="action-list.items" role="none" data-view-component="true" class="ActionListItem">
    
    
    <a tabindex="-1" id="item-be0005f1-8b56-4f71-a1ca-2cf804b34d30" href="/MathforDataScience/DSR_Statistics1" role="menuitem" data-view-component="true" class="ActionListContent ActionListContent--visual16">
        <span class="ActionListItem-visual ActionListItem-visual--leading">
          <svg aria-hidden="true" height="16" viewBox="0 0 16 16" version="1.1" width="16" data-view-component="true" class="octicon octicon-code">
    <path d="m11.28 3.22 4.25 4.25a.75.75 0 0 1 0 1.06l-4.25 4.25a.749.749 0 0 1-1.275-.326.749.749 0 0 1 .215-.734L13.94 8l-3.72-3.72a.749.749 0 0 1 .326-1.275.749.749 0 0 1 .734.215Zm-6.56 0a.751.751 0 0 1 1.042.018.751.751 0 0 1 .018 1.042L2.06 8l3.72 3.72a.749.749 0 0 1-.326 1.275.749.749 0 0 1-.734-.215L.47 8.53a.75.75 0 0 1 0-1.06Z"></path>
</svg>
        </span>
      
        <span data-view-component="true" class="ActionListItem-label">
          Code
</span>      
</a>
  
</li>
        <li hidden="hidden" data-menu-item="i1issues-tab" data-targets="action-list.items" role="none" data-view-component="true" class="ActionListItem">
    
    
    <a tabindex="-1" id="item-360c6b09-44a3-4d5e-8f76-1bd63ec1727f" href="/MathforDataScience/DSR_Statistics1/issues" role="menuitem" data-view-component="true" class="ActionListContent ActionListContent--visual16">
        <span class="ActionListItem-visual ActionListItem-visual--leading">
          <svg aria-hidden="true" height="16" viewBox="0 0 16 16" version="1.1" width="16" data-view-component="true" class="octicon octicon-issue-opened">
    <path d="M8 9.5a1.5 1.5 0 1 0 0-3 1.5 1.5 0 0 0 0 3Z"></path><path d="M8 0a8 8 0 1 1 0 16A8 8 0 0 1 8 0ZM1.5 8a6.5 6.5 0 1 0 13 0 6.5 6.5 0 0 0-13 0Z"></path>
</svg>
        </span>
      
        <span data-view-component="true" class="ActionListItem-label">
          Issues
</span>      
</a>
  
</li>
        <li hidden="hidden" data-menu-item="i2pull-requests-tab" data-targets="action-list.items" role="none" data-view-component="true" class="ActionListItem">
    
    
    <a tabindex="-1" id="item-9024465f-26e9-4751-b920-15ca713e3ae2" href="/MathforDataScience/DSR_Statistics1/pulls" role="menuitem" data-view-component="true" class="ActionListContent ActionListContent--visual16">
        <span class="ActionListItem-visual ActionListItem-visual--leading">
          <svg aria-hidden="true" height="16" viewBox="0 0 16 16" version="1.1" width="16" data-view-component="true" class="octicon octicon-git-pull-request">
    <path d="M1.5 3.25a2.25 2.25 0 1 1 3 2.122v5.256a2.251 2.251 0 1 1-1.5 0V5.372A2.25 2.25 0 0 1 1.5 3.25Zm5.677-.177L9.573.677A.25.25 0 0 1 10 .854V2.5h1A2.5 2.5 0 0 1 13.5 5v5.628a2.251 2.251 0 1 1-1.5 0V5a1 1 0 0 0-1-1h-1v1.646a.25.25 0 0 1-.427.177L7.177 3.427a.25.25 0 0 1 0-.354ZM3.75 2.5a.75.75 0 1 0 0 1.5.75.75 0 0 0 0-1.5Zm0 9.5a.75.75 0 1 0 0 1.5.75.75 0 0 0 0-1.5Zm8.25.75a.75.75 0 1 0 1.5 0 .75.75 0 0 0-1.5 0Z"></path>
</svg>
        </span>
      
        <span data-view-component="true" class="ActionListItem-label">
          Pull requests
</span>      
</a>
  
</li>
        <li hidden="hidden" data-menu-item="i3actions-tab" data-targets="action-list.items" role="none" data-view-component="true" class="ActionListItem">
    
    
    <a tabindex="-1" id="item-ac31bf54-873b-4fbf-bb7b-bb3a81d2aef5" href="/MathforDataScience/DSR_Statistics1/actions" role="menuitem" data-view-component="true" class="ActionListContent ActionListContent--visual16">
        <span class="ActionListItem-visual ActionListItem-visual--leading">
          <svg aria-hidden="true" height="16" viewBox="0 0 16 16" version="1.1" width="16" data-view-component="true" class="octicon octicon-play">
    <path d="M8 0a8 8 0 1 1 0 16A8 8 0 0 1 8 0ZM1.5 8a6.5 6.5 0 1 0 13 0 6.5 6.5 0 0 0-13 0Zm4.879-2.773 4.264 2.559a.25.25 0 0 1 0 .428l-4.264 2.559A.25.25 0 0 1 6 10.559V5.442a.25.25 0 0 1 .379-.215Z"></path>
</svg>
        </span>
      
        <span data-view-component="true" class="ActionListItem-label">
          Actions
</span>      
</a>
  
</li>
        <li hidden="hidden" data-menu-item="i4projects-tab" data-targets="action-list.items" role="none" data-view-component="true" class="ActionListItem">
    
    
    <a tabindex="-1" id="item-d0f04a69-f71f-4180-8e9a-005a483785b6" href="/MathforDataScience/DSR_Statistics1/projects" role="menuitem" data-view-component="true" class="ActionListContent ActionListContent--visual16">
        <span class="ActionListItem-visual ActionListItem-visual--leading">
          <svg aria-hidden="true" height="16" viewBox="0 0 16 16" version="1.1" width="16" data-view-component="true" class="octicon octicon-table">
    <path d="M0 1.75C0 .784.784 0 1.75 0h12.5C15.216 0 16 .784 16 1.75v12.5A1.75 1.75 0 0 1 14.25 16H1.75A1.75 1.75 0 0 1 0 14.25ZM6.5 6.5v8h7.75a.25.25 0 0 0 .25-.25V6.5Zm8-1.5V1.75a.25.25 0 0 0-.25-.25H6.5V5Zm-13 1.5v7.75c0 .138.112.25.25.25H5v-8ZM5 5V1.5H1.75a.25.25 0 0 0-.25.25V5Z"></path>
</svg>
        </span>
      
        <span data-view-component="true" class="ActionListItem-label">
          Projects
</span>      
</a>
  
</li>
        <li hidden="hidden" data-menu-item="i5wiki-tab" data-targets="action-list.items" role="none" data-view-component="true" class="ActionListItem">
    
    
    <a tabindex="-1" id="item-6d20224b-b85f-4066-afe7-bccd313fe3f8" href="/MathforDataScience/DSR_Statistics1/wiki" role="menuitem" data-view-component="true" class="ActionListContent ActionListContent--visual16">
        <span class="ActionListItem-visual ActionListItem-visual--leading">
          <svg aria-hidden="true" height="16" viewBox="0 0 16 16" version="1.1" width="16" data-view-component="true" class="octicon octicon-book">
    <path d="M0 1.75A.75.75 0 0 1 .75 1h4.253c1.227 0 2.317.59 3 1.501A3.743 3.743 0 0 1 11.006 1h4.245a.75.75 0 0 1 .75.75v10.5a.75.75 0 0 1-.75.75h-4.507a2.25 2.25 0 0 0-1.591.659l-.622.621a.75.75 0 0 1-1.06 0l-.622-.621A2.25 2.25 0 0 0 5.258 13H.75a.75.75 0 0 1-.75-.75Zm7.251 10.324.004-5.073-.002-2.253A2.25 2.25 0 0 0 5.003 2.5H1.5v9h3.757a3.75 3.75 0 0 1 1.994.574ZM8.755 4.75l-.004 7.322a3.752 3.752 0 0 1 1.992-.572H14.5v-9h-3.495a2.25 2.25 0 0 0-2.25 2.25Z"></path>
</svg>
        </span>
      
        <span data-view-component="true" class="ActionListItem-label">
          Wiki
</span>      
</a>
  
</li>
        <li hidden="hidden" data-menu-item="i6security-tab" data-targets="action-list.items" role="none" data-view-component="true" class="ActionListItem">
    
    
    <a tabindex="-1" id="item-9b2be792-9368-4e74-8fa3-85484131dcec" href="/MathforDataScience/DSR_Statistics1/security" role="menuitem" data-view-component="true" class="ActionListContent ActionListContent--visual16">
        <span class="ActionListItem-visual ActionListItem-visual--leading">
          <svg aria-hidden="true" height="16" viewBox="0 0 16 16" version="1.1" width="16" data-view-component="true" class="octicon octicon-shield">
    <path d="M7.467.133a1.748 1.748 0 0 1 1.066 0l5.25 1.68A1.75 1.75 0 0 1 15 3.48V7c0 1.566-.32 3.182-1.303 4.682-.983 1.498-2.585 2.813-5.032 3.855a1.697 1.697 0 0 1-1.33 0c-2.447-1.042-4.049-2.357-5.032-3.855C1.32 10.182 1 8.566 1 7V3.48a1.75 1.75 0 0 1 1.217-1.667Zm.61 1.429a.25.25 0 0 0-.153 0l-5.25 1.68a.25.25 0 0 0-.174.238V7c0 1.358.275 2.666 1.057 3.86.784 1.194 2.121 2.34 4.366 3.297a.196.196 0 0 0 .154 0c2.245-.956 3.582-2.104 4.366-3.298C13.225 9.666 13.5 8.36 13.5 7V3.48a.251.251 0 0 0-.174-.237l-5.25-1.68ZM8.75 4.75v3a.75.75 0 0 1-1.5 0v-3a.75.75 0 0 1 1.5 0ZM9 10.5a1 1 0 1 1-2 0 1 1 0 0 1 2 0Z"></path>
</svg>
        </span>
      
        <span data-view-component="true" class="ActionListItem-label">
          Security
</span>      
</a>
  
</li>
        <li hidden="hidden" data-menu-item="i7insights-tab" data-targets="action-list.items" role="none" data-view-component="true" class="ActionListItem">
    
    
    <a tabindex="-1" id="item-3857ca07-e34a-4966-b7bc-eda85900c67b" href="/MathforDataScience/DSR_Statistics1/pulse" role="menuitem" data-view-component="true" class="ActionListContent ActionListContent--visual16">
        <span class="ActionListItem-visual ActionListItem-visual--leading">
          <svg aria-hidden="true" height="16" viewBox="0 0 16 16" version="1.1" width="16" data-view-component="true" class="octicon octicon-graph">
    <path d="M1.5 1.75V13.5h13.75a.75.75 0 0 1 0 1.5H.75a.75.75 0 0 1-.75-.75V1.75a.75.75 0 0 1 1.5 0Zm14.28 2.53-5.25 5.25a.75.75 0 0 1-1.06 0L7 7.06 4.28 9.78a.751.751 0 0 1-1.042-.018.751.751 0 0 1-.018-1.042l3.25-3.25a.75.75 0 0 1 1.06 0L10 7.94l4.72-4.72a.751.751 0 0 1 1.042.018.751.751 0 0 1 .018 1.042Z"></path>
</svg>
        </span>
      
        <span data-view-component="true" class="ActionListItem-label">
          Insights
</span>      
</a>
  
</li>
        <li hidden="hidden" data-menu-item="i8settings-tab" data-targets="action-list.items" role="none" data-view-component="true" class="ActionListItem">
    
    
    <a tabindex="-1" id="item-a1926e57-83cc-4eea-a6f5-4f14f2477546" href="/MathforDataScience/DSR_Statistics1/settings" role="menuitem" data-view-component="true" class="ActionListContent ActionListContent--visual16">
        <span class="ActionListItem-visual ActionListItem-visual--leading">
          <svg aria-hidden="true" height="16" viewBox="0 0 16 16" version="1.1" width="16" data-view-component="true" class="octicon octicon-gear">
    <path d="M8 0a8.2 8.2 0 0 1 .701.031C9.444.095 9.99.645 10.16 1.29l.288 1.107c.018.066.079.158.212.224.231.114.454.243.668.386.123.082.233.09.299.071l1.103-.303c.644-.176 1.392.021 1.82.63.27.385.506.792.704 1.218.315.675.111 1.422-.364 1.891l-.814.806c-.049.048-.098.147-.088.294.016.257.016.515 0 .772-.01.147.038.246.088.294l.814.806c.475.469.679 1.216.364 1.891a7.977 7.977 0 0 1-.704 1.217c-.428.61-1.176.807-1.82.63l-1.102-.302c-.067-.019-.177-.011-.3.071a5.909 5.909 0 0 1-.668.386c-.133.066-.194.158-.211.224l-.29 1.106c-.168.646-.715 1.196-1.458 1.26a8.006 8.006 0 0 1-1.402 0c-.743-.064-1.289-.614-1.458-1.26l-.289-1.106c-.018-.066-.079-.158-.212-.224a5.738 5.738 0 0 1-.668-.386c-.123-.082-.233-.09-.299-.071l-1.103.303c-.644.176-1.392-.021-1.82-.63a8.12 8.12 0 0 1-.704-1.218c-.315-.675-.111-1.422.363-1.891l.815-.806c.05-.048.098-.147.088-.294a6.214 6.214 0 0 1 0-.772c.01-.147-.038-.246-.088-.294l-.815-.806C.635 6.045.431 5.298.746 4.623a7.92 7.92 0 0 1 .704-1.217c.428-.61 1.176-.807 1.82-.63l1.102.302c.067.019.177.011.3-.071.214-.143.437-.272.668-.386.133-.066.194-.158.211-.224l.29-1.106C6.009.645 6.556.095 7.299.03 7.53.01 7.764 0 8 0Zm-.571 1.525c-.036.003-.108.036-.137.146l-.289 1.105c-.147.561-.549.967-.998 1.189-.173.086-.34.183-.5.29-.417.278-.97.423-1.529.27l-1.103-.303c-.109-.03-.175.016-.195.045-.22.312-.412.644-.573.99-.014.031-.021.11.059.19l.815.806c.411.406.562.957.53 1.456a4.709 4.709 0 0 0 0 .582c.032.499-.119 1.05-.53 1.456l-.815.806c-.081.08-.073.159-.059.19.162.346.353.677.573.989.02.03.085.076.195.046l1.102-.303c.56-.153 1.113-.008 1.53.27.161.107.328.204.501.29.447.222.85.629.997 1.189l.289 1.105c.029.109.101.143.137.146a6.6 6.6 0 0 0 1.142 0c.036-.003.108-.036.137-.146l.289-1.105c.147-.561.549-.967.998-1.189.173-.086.34-.183.5-.29.417-.278.97-.423 1.529-.27l1.103.303c.109.029.175-.016.195-.045.22-.313.411-.644.573-.99.014-.031.021-.11-.059-.19l-.815-.806c-.411-.406-.562-.957-.53-1.456a4.709 4.709 0 0 0 0-.582c-.032-.499.119-1.05.53-1.456l.815-.806c.081-.08.073-.159.059-.19a6.464 6.464 0 0 0-.573-.989c-.02-.03-.085-.076-.195-.046l-1.102.303c-.56.153-1.113.008-1.53-.27a4.44 4.44 0 0 0-.501-.29c-.447-.222-.85-.629-.997-1.189l-.289-1.105c-.029-.11-.101-.143-.137-.146a6.6 6.6 0 0 0-1.142 0ZM11 8a3 3 0 1 1-6 0 3 3 0 0 1 6 0ZM9.5 8a1.5 1.5 0 1 0-3.001.001A1.5 1.5 0 0 0 9.5 8Z"></path>
</svg>
        </span>
      
        <span data-view-component="true" class="ActionListItem-label">
          Settings
</span>      
</a>
  
</li>
</ul>    
</div></action-list>


</div>
      
</div></anchored-position>  </focus-group>
</action-menu></div>
</nav>
      </div>
</header>


      <div hidden="hidden" data-view-component="true" class="js-stale-session-flash stale-session-flash flash flash-warn flash-full">
  
        <svg aria-hidden="true" height="16" viewBox="0 0 16 16" version="1.1" width="16" data-view-component="true" class="octicon octicon-alert">
    <path d="M6.457 1.047c.659-1.234 2.427-1.234 3.086 0l6.082 11.378A1.75 1.75 0 0 1 14.082 15H1.918a1.75 1.75 0 0 1-1.543-2.575Zm1.763.707a.25.25 0 0 0-.44 0L1.698 13.132a.25.25 0 0 0 .22.368h12.164a.25.25 0 0 0 .22-.368Zm.53 3.996v2.5a.75.75 0 0 1-1.5 0v-2.5a.75.75 0 0 1 1.5 0ZM9 11a1 1 0 1 1-2 0 1 1 0 0 1 2 0Z"></path>
</svg>
        <span class="js-stale-session-flash-signed-in" hidden>You signed in with another tab or window. <a class="Link--inTextBlock" href="">Reload</a> to refresh your session.</span>
        <span class="js-stale-session-flash-signed-out" hidden>You signed out in another tab or window. <a class="Link--inTextBlock" href="">Reload</a> to refresh your session.</span>
        <span class="js-stale-session-flash-switched" hidden>You switched accounts on another tab or window. <a class="Link--inTextBlock" href="">Reload</a> to refresh your session.</span>

    <button id="icon-button-322bf7b6-66b1-492a-a7bd-423a6fba27c9" aria-labelledby="tooltip-41db723e-c822-4f63-9737-9cea4e99ac82" type="button" data-view-component="true" class="Button Button--iconOnly Button--invisible Button--medium flash-close js-flash-close">  <svg aria-hidden="true" height="16" viewBox="0 0 16 16" version="1.1" width="16" data-view-component="true" class="octicon octicon-x Button-visual">
    <path d="M3.72 3.72a.75.75 0 0 1 1.06 0L8 6.94l3.22-3.22a.749.749 0 0 1 1.275.326.749.749 0 0 1-.215.734L9.06 8l3.22 3.22a.749.749 0 0 1-.326 1.275.749.749 0 0 1-.734-.215L8 9.06l-3.22 3.22a.751.751 0 0 1-1.042-.018.751.751 0 0 1-.018-1.042L6.94 8 3.72 4.78a.75.75 0 0 1 0-1.06Z"></path>
</svg>
</button><tool-tip id="tooltip-41db723e-c822-4f63-9737-9cea4e99ac82" for="icon-button-322bf7b6-66b1-492a-a7bd-423a6fba27c9" popover="manual" data-direction="s" data-type="label" data-view-component="true" class="sr-only position-absolute">Dismiss alert</tool-tip>


  
</div>
          
    </div>

  <div id="start-of-content" class="show-on-focus"></div>








    <div id="js-flash-container" class="flash-container" data-turbo-replace>




  <template class="js-flash-template">
    
<div class="flash flash-full   {{ className }}">
  <div >
    <button autofocus class="flash-close js-flash-close" type="button" aria-label="Dismiss this message">
      <svg aria-hidden="true" height="16" viewBox="0 0 16 16" version="1.1" width="16" data-view-component="true" class="octicon octicon-x">
    <path d="M3.72 3.72a.75.75 0 0 1 1.06 0L8 6.94l3.22-3.22a.749.749 0 0 1 1.275.326.749.749 0 0 1-.215.734L9.06 8l3.22 3.22a.749.749 0 0 1-.326 1.275.749.749 0 0 1-.734-.215L8 9.06l-3.22 3.22a.751.751 0 0 1-1.042-.018.751.751 0 0 1-.018-1.042L6.94 8 3.72 4.78a.75.75 0 0 1 0-1.06Z"></path>
</svg>
    </button>
    <div aria-atomic="true" role="alert" class="js-flash-alert">
      
      <div>{{ message }}</div>

    </div>
  </div>
</div>
  </template>
</div>


    
    <notification-shelf-watcher data-base-url="https://github.com/notifications/beta/shelf" data-channel="eyJjIjoibm90aWZpY2F0aW9uLWNoYW5nZWQ6NDI5NTkxNzQiLCJ0IjoxNzIzODIzNjU1fQ==--1c3a078ea4e10d92a25c5f7837448859868975a05719e235a9d6fc3c59879b09" data-view-component="true" class="js-socket-channel"></notification-shelf-watcher>
  <div hidden data-initial data-target="notification-shelf-watcher.placeholder"></div>






  <div
    class="application-main "
    data-commit-hovercards-enabled
    data-discussion-hovercards-enabled
    data-issue-and-pr-hovercards-enabled
  >
        <div itemscope itemtype="http://schema.org/SoftwareSourceCode" class="">
    <main id="js-repo-pjax-container" >
      
      






    
  <div id="repository-container-header" data-turbo-replace hidden></div>




<turbo-frame id="repo-content-turbo-frame" target="_top" data-turbo-action="advance" class="">
    <div id="repo-content-pjax-container" class="repository-content " >
      <a href="https://github.dev/" class="d-none js-github-dev-shortcut" data-hotkey=".,Mod+Alt+.">Open in github.dev</a>
  <a href="https://github.dev/" class="d-none js-github-dev-new-tab-shortcut" data-hotkey="Shift+.,Shift+&gt;,&gt;" target="_blank" rel="noopener noreferrer">Open in a new github.dev tab</a>
    <a class="d-none" data-hotkey=",,Mod+Alt+," target="_blank" href="/codespaces/new/MathforDataScience/DSR_Statistics1/tree/main?resume=1">Open in codespace</a>




    
      
    








<react-app
  app-name="react-code-view"
  initial-path="/MathforDataScience/DSR_Statistics1/blob/main/7_%20Hypotheses/7_2%20paired%20t-test.ipynb"
  style="display: block; min-height: calc(100vh - 64px)" 
  data-ssr="true"
  data-lazy="false"
  data-alternate="false"
>
  
  <script type="application/json" data-target="react-app.embeddedData">{"payload":{"allShortcutsEnabled":true,"fileTree":{"7_ Hypotheses":{"items":[{"name":"7_1 t-2-groups.ipynb","path":"7_ Hypotheses/7_1 t-2-groups.ipynb","contentType":"file"},{"name":"7_2 paired t-test.ipynb","path":"7_ Hypotheses/7_2 paired t-test.ipynb","contentType":"file"},{"name":"7_3_Chi^2.ipynb","path":"7_ Hypotheses/7_3_Chi^2.ipynb","contentType":"file"},{"name":"7_4 F-test.ipynb","path":"7_ Hypotheses/7_4 F-test.ipynb","contentType":"file"},{"name":"Chi^2 and ANOVA.xlsx","path":"7_ Hypotheses/Chi^2 and ANOVA.xlsx","contentType":"file"}],"totalCount":5},"":{"items":[{"name":"2_ Descriptive Statistics","path":"2_ Descriptive Statistics","contentType":"directory"},{"name":"3_ Combinatorics","path":"3_ Combinatorics","contentType":"directory"},{"name":"4_ Distributions","path":"4_ Distributions","contentType":"directory"},{"name":"5_ Conditional Prob","path":"5_ Conditional Prob","contentType":"directory"},{"name":"6_ Sampling","path":"6_ Sampling","contentType":"directory"},{"name":"7_ Hypotheses","path":"7_ Hypotheses","contentType":"directory"},{"name":"8_ Model Estimation","path":"8_ Model Estimation","contentType":"directory"},{"name":"Distributions map.pdf","path":"Distributions map.pdf","contentType":"file"},{"name":"Introduction to Statistics _v22.pdf","path":"Introduction to Statistics _v22.pdf","contentType":"file"},{"name":"README.md","path":"README.md","contentType":"file"},{"name":"StatistialTables.pdf","path":"StatistialTables.pdf","contentType":"file"},{"name":"readme.txt","path":"readme.txt","contentType":"file"},{"name":"requirements.txt","path":"requirements.txt","contentType":"file"}],"totalCount":13}},"fileTreeProcessingTime":15.268995,"foldersToFetch":[],"repo":{"id":661665397,"defaultBranch":"main","name":"DSR_Statistics1","ownerLogin":"MathforDataScience","currentUserCanPush":true,"isFork":false,"isEmpty":false,"createdAt":"2023-07-03T13:27:39.000+02:00","ownerAvatar":"https://avatars.githubusercontent.com/u/42959174?v=4","public":true,"private":false,"isOrgOwned":false},"codeLineWrapEnabled":false,"symbolsExpanded":false,"treeExpanded":true,"refInfo":{"name":"main","listCacheKey":"v0:1713097013.0","canEdit":true,"refType":"branch","currentOid":"4bdf4da0692b0574b35b13389bf9db0802909d04"},"path":"7_ Hypotheses/7_2 paired t-test.ipynb","currentUser":{"id":42959174,"login":"MathforDataScience","userEmail":"hd.stein@web.de"},"blob":{"rawLines":["{"," \"cells\": [","  {","   \"cell_type\": \"code\",","   \"execution_count\": null,","   \"id\": \"2d082122\",","   \"metadata\": {},","   \"outputs\": [],","   \"source\": []","  },","  {","   \"cell_type\": \"markdown\",","   \"id\": \"d944bfc8\",","   \"metadata\": {},","   \"source\": [","    \"## 1. t-Test: Compare means of continuous data between the same group at different times\\n\"","   ]","  },","  {","   \"cell_type\": \"code\",","   \"execution_count\": 1,","   \"id\": \"ac558647\",","   \"metadata\": {},","   \"outputs\": [],","   \"source\": [","    \"import numpy as np\\n\",","    \"from scipy import stats\"","   ]","  },","  {","   \"cell_type\": \"markdown\",","   \"id\": \"d0590efe\",","   \"metadata\": {},","   \"source\": [","    \"**Variant A:**\"","   ]","  },","  {","   \"cell_type\": \"code\",","   \"execution_count\": 96,","   \"id\": \"4ecc9823\",","   \"metadata\": {},","   \"outputs\": [],","   \"source\": [","    \"# Randomly generating test scores for Group A and Group B\\n\",","    \"np.random.seed(0)  # for reproducibility\\n\",","    \"before =  np.random.normal(75, 10, 30) \\n\",","    \"after = np.random.normal(80, 10, 30) \"","   ]","  },","  {","   \"cell_type\": \"code\",","   \"execution_count\": 97,","   \"id\": \"d9944058\",","   \"metadata\": {},","   \"outputs\": [","    {","     \"data\": {","      \"text/plain\": [","       \"(array([92.64052346, 79.00157208, 84.78737984, 97.40893199, 93.6755799 ,\\n\",","       \"        65.2272212 , 84.50088418, 73.48642792, 73.96781148, 79.10598502,\\n\",","       \"        76.44043571, 89.54273507, 82.61037725, 76.21675016, 79.43863233,\\n\",","       \"        78.33674327, 89.94079073, 72.94841736, 78.13067702, 66.45904261,\\n\",","       \"        49.47010184, 81.53618595, 83.64436199, 67.5783498 , 97.69754624,\\n\",","       \"        60.45634325, 75.45758517, 73.1281615 , 90.32779214, 89.6935877 ]),\\n\",","       \" array([81.54947426, 83.7816252 , 71.12214252, 60.19203532, 76.52087851,\\n\",","       \"        81.56348969, 92.30290681, 92.02379849, 76.12673183, 76.97697249,\\n\",","       \"        69.51447035, 65.79982063, 62.93729809, 99.50775395, 74.90347818,\\n\",","       \"        75.61925698, 67.4720464 , 87.77490356, 63.86102152, 77.8725972 ,\\n\",","       \"        71.04533439, 83.86902498, 74.89194862, 68.19367816, 79.71817772,\\n\",","       \"        84.28331871, 80.66517222, 83.02471898, 73.65677906, 76.37258834]))\"","      ]","     },","     \"execution_count\": 97,","     \"metadata\": {},","     \"output_type\": \"execute_result\"","    }","   ],","   \"source\": [","    \"before, after\"","   ]","  },","  {","   \"cell_type\": \"code\",","   \"execution_count\": 98,","   \"id\": \"02a32598\",","   \"metadata\": {},","   \"outputs\": [","    {","     \"name\": \"stdout\",","     \"output_type\": \"stream\",","     \"text\": [","      \"t-statistic: 0.8090320565725655\\n\",","      \"p-value: 0.4250848378045746\\n\"","     ]","    }","   ],","   \"source\": [","    \"t_statistic, p_value = stats.ttest_rel(before, after)\\n\",","    \"\\n\",","    \"print(f\\\"t-statistic: {np.abs(t_statistic)}\\\")\\n\",","    \"print(f\\\"p-value: {p_value}\\\")\"","   ]","  },","  {","   \"cell_type\": \"markdown\",","   \"id\": \"a7c4b426\",","   \"metadata\": {},","   \"source\": [","    \"=\u003e We don't reject H0 (\\\"we choose H0\\\"), i.e. there is no significant difference between these points of time\"","   ]","  },","  {","   \"cell_type\": \"markdown\",","   \"id\": \"623ed9ba\",","   \"metadata\": {},","   \"source\": [","    \"**Graphical depiction:**\"","   ]","  },","  {","   \"cell_type\": \"code\",","   \"execution_count\": 109,","   \"id\": \"48b37d48\",","   \"metadata\": {},","   \"outputs\": [","    {","     \"data\": {","      \"image/png\": \"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\",","      \"text/plain\": [","       \"\u003cFigure size 640x480 with 1 Axes\u003e\"","      ]","     },","     \"metadata\": {},","     \"output_type\": \"display_data\"","    }","   ],","   \"source\": [","    \"import numpy as np\\n\",","    \"import matplotlib.pyplot as plt\\n\",","    \"\\n\",","    \"# Set the parameters\\n\",","    \"alpha = 0.05\\n\",","    \"df1 = 58\\n\",","    \"test_statistic = 0.8090320565725655\\n\",","    \"h0 = \\\"H0\\\"\\n\",","    \"h1 = \\\"H1\\\"\\n\",","    \"p_value = 0.05  # Example p-value, you should replace it with the actual value\\n\",","    \"\\n\",","    \"# Create a figure and axes\\n\",","    \"fig, ax = plt.subplots()\\n\",","    \"\\n\",","    \"# Plot the t-distribution\\n\",","    \"x = np.linspace(-4, 4, 500)\\n\",","    \"y = stats.t.pdf(x, df=df1)\\n\",","    \"ax.plot(x, y, label='t-distribution (df={})'.format(df1))\\n\",","    \"\\n\",","    \"# Shade the region beyond the critical value\\n\",","    \"cv = stats.t.ppf(1 - alpha/2, df=df1)\\n\",","    \"ax.fill_between(x, y, where=(x \u003e= cv), color='red', alpha=0.3, label='Rejection Region')\\n\",","    \"\\n\",","    \"# Plot the test statistic\\n\",","    \"ax.axvline(x=test_statistic, color='black', linestyle='--', label='Test Statistic')\\n\",","    \"\\n\",","    \"# Add labels and title\\n\",","    \"ax.set_xlabel('t-value')\\n\",","    \"ax.set_ylabel('Probability Density')\\n\",","    \"ax.set_title('Paired t-Test')\\n\",","    \"\\n\",","    \"# Add legend\\n\",","    \"ax.legend()\\n\",","    \"\\n\",","    \"# Add text annotations\\n\",","    \"ax.text(test_statistic, 0.2, 'Test Statistic: {:.4f}'.format(test_statistic), ha='right')\\n\",","    \"ax.text(cv, 0.1, 'Critical Value: {:.4f}'.format(cv), ha='right')\\n\",","    \"ax.text(test_statistic, 0.05, 'p-value: {:.4f}'.format(p_value), ha='right')\\n\",","    \"ax.text(0, 0, h0, ha='center')\\n\",","    \"ax.text(cv/2, 0, 'Reject H0', ha='center', color='red')\\n\",","    \"ax.text(cv, -0.1, h1, ha='center')\\n\",","    \"\\n\",","    \"# Show the plot\\n\",","    \"plt.grid(True)\\n\",","    \"plt.show()\\n\"","   ]","  },","  {","   \"cell_type\": \"code\",","   \"execution_count\": null,","   \"id\": \"ee6bf5a6\",","   \"metadata\": {},","   \"outputs\": [],","   \"source\": []","  },","  {","   \"cell_type\": \"code\",","   \"execution_count\": null,","   \"id\": \"144d3c80\",","   \"metadata\": {},","   \"outputs\": [],","   \"source\": []","  },","  {","   \"cell_type\": \"code\",","   \"execution_count\": null,","   \"id\": \"34b941a3\",","   \"metadata\": {},","   \"outputs\": [],","   \"source\": []","  },","  {","   \"cell_type\": \"code\",","   \"execution_count\": null,","   \"id\": \"17856ae7\",","   \"metadata\": {},","   \"outputs\": [],","   \"source\": []","  },","  {","   \"cell_type\": \"markdown\",","   \"id\": \"0278f3ba\",","   \"metadata\": {},","   \"source\": [","    \"**Variant B:**\"","   ]","  },","  {","   \"cell_type\": \"code\",","   \"execution_count\": 100,","   \"id\": \"22f173c3\",","   \"metadata\": {},","   \"outputs\": [],","   \"source\": [","    \"# Randomly generating test scores for Group A and Group B\\n\",","    \"np.random.seed(0)  # for reproducibility\\n\",","    \"before =  np.random.normal(75, 10, 30) \\n\",","    \"after = np.random.normal(100, 10, 30) \"","   ]","  },","  {","   \"cell_type\": \"code\",","   \"execution_count\": 101,","   \"id\": \"e4e67f73\",","   \"metadata\": {},","   \"outputs\": [","    {","     \"data\": {","      \"text/plain\": [","       \"(array([92.64052346, 79.00157208, 84.78737984, 97.40893199, 93.6755799 ,\\n\",","       \"        65.2272212 , 84.50088418, 73.48642792, 73.96781148, 79.10598502,\\n\",","       \"        76.44043571, 89.54273507, 82.61037725, 76.21675016, 79.43863233,\\n\",","       \"        78.33674327, 89.94079073, 72.94841736, 78.13067702, 66.45904261,\\n\",","       \"        49.47010184, 81.53618595, 83.64436199, 67.5783498 , 97.69754624,\\n\",","       \"        60.45634325, 75.45758517, 73.1281615 , 90.32779214, 89.6935877 ]),\\n\",","       \" array([101.54947426, 103.7816252 ,  91.12214252,  80.19203532,\\n\",","       \"         96.52087851, 101.56348969, 112.30290681, 112.02379849,\\n\",","       \"         96.12673183,  96.97697249,  89.51447035,  85.79982063,\\n\",","       \"         82.93729809, 119.50775395,  94.90347818,  95.61925698,\\n\",","       \"         87.4720464 , 107.77490356,  83.86102152,  97.8725972 ,\\n\",","       \"         91.04533439, 103.86902498,  94.89194862,  88.19367816,\\n\",","       \"         99.71817772, 104.28331871, 100.66517222, 103.02471898,\\n\",","       \"         93.65677906,  96.37258834]))\"","      ]","     },","     \"execution_count\": 101,","     \"metadata\": {},","     \"output_type\": \"execute_result\"","    }","   ],","   \"source\": [","    \"before, after\"","   ]","  },","  {","   \"cell_type\": \"code\",","   \"execution_count\": 102,","   \"id\": \"eb6cd756\",","   \"metadata\": {},","   \"outputs\": [],","   \"source\": [","    \"# Perform t-test\\n\",","    \"t_stat, p_val = stats.ttest_ind(group_A_scores, group_B_scores)\"","   ]","  },","  {","   \"cell_type\": \"code\",","   \"execution_count\": 104,","   \"id\": \"b59e086c\",","   \"metadata\": {},","   \"outputs\": [","    {","     \"name\": \"stdout\",","     \"output_type\": \"stream\",","     \"text\": [","      \"t-statistic: 6.1540281317120975\\n\",","      \"p-value: 1.0447509600279374e-06\\n\"","     ]","    }","   ],","   \"source\": [","    \"t_statistic, p_value = stats.ttest_rel(before, after)\\n\",","    \"\\n\",","    \"print(f\\\"t-statistic: {np.abs(t_statistic)}\\\")\\n\",","    \"print(f\\\"p-value: {p_value}\\\")\"","   ]","  },","  {","   \"cell_type\": \"markdown\",","   \"id\": \"bbc1fa29\",","   \"metadata\": {},","   \"source\": [","    \"=\u003e We reject H0 (\\\"we choose H1\\\"), i.e. there is significant difference between these points of time\"","   ]","  },","  {","   \"cell_type\": \"markdown\",","   \"id\": \"39272720\",","   \"metadata\": {},","   \"source\": [","    \"**Graphical depiction:**\"","   ]","  },","  {","   \"cell_type\": \"code\",","   \"execution_count\": 111,","   \"id\": \"071976bd\",","   \"metadata\": {},","   \"outputs\": [","    {","     \"data\": {","      \"image/png\": \"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\",","      \"text/plain\": [","       \"\u003cFigure size 640x480 with 1 Axes\u003e\"","      ]","     },","     \"metadata\": {},","     \"output_type\": \"display_data\"","    }","   ],","   \"source\": [","    \"import numpy as np\\n\",","    \"import matplotlib.pyplot as plt\\n\",","    \"\\n\",","    \"# Set the parameters\\n\",","    \"alpha = 0.05\\n\",","    \"df1 = 29\\n\",","    \"test_statistic = 6.1540281317120975\\n\",","    \"h0 = \\\"H0\\\"\\n\",","    \"h1 = \\\"H1\\\"\\n\",","    \"p_value = 0.05  # Example p-value, you should replace it with the actual value\\n\",","    \"\\n\",","    \"# Create a figure and axes\\n\",","    \"fig, ax = plt.subplots()\\n\",","    \"\\n\",","    \"# Plot the t-distribution\\n\",","    \"x = np.linspace(-4, 4, 500)\\n\",","    \"y = stats.t.pdf(x, df=df1)\\n\",","    \"ax.plot(x, y, label='t-distribution (df={})'.format(df1))\\n\",","    \"\\n\",","    \"# Shade the region beyond the critical value\\n\",","    \"cv = stats.t.ppf(1 - alpha/2, df=df1)\\n\",","    \"ax.fill_between(x, y, where=(x \u003e= cv), color='red', alpha=0.3, label='Rejection Region')\\n\",","    \"\\n\",","    \"# Plot the test statistic\\n\",","    \"ax.axvline(x=test_statistic, color='black', linestyle='--', label='Test Statistic')\\n\",","    \"\\n\",","    \"# Add labels and title\\n\",","    \"ax.set_xlabel('t-value')\\n\",","    \"ax.set_ylabel('Probability Density')\\n\",","    \"ax.set_title('Paired t-Test')\\n\",","    \"\\n\",","    \"# Add legend\\n\",","    \"ax.legend()\\n\",","    \"\\n\",","    \"# Add text annotations\\n\",","    \"ax.text(test_statistic, 0.2, 'Test Statistic: {:.4f}'.format(test_statistic), ha='right')\\n\",","    \"ax.text(cv, 0.1, 'Critical Value: {:.4f}'.format(cv), ha='right')\\n\",","    \"ax.text(test_statistic, 0.05, 'p-value: {:.4f}'.format(p_value), ha='right')\\n\",","    \"ax.text(0, 0, h0, ha='center')\\n\",","    \"ax.text(cv/2, 0, 'Reject H0', ha='center', color='red')\\n\",","    \"ax.text(cv, -0.1, h1, ha='center')\\n\",","    \"\\n\",","    \"# Show the plot\\n\",","    \"plt.grid(True)\\n\",","    \"plt.show()\\n\"","   ]","  },","  {","   \"cell_type\": \"code\",","   \"execution_count\": 112,","   \"id\": \"96297db4\",","   \"metadata\": {},","   \"outputs\": [","    {","     \"data\": {","      \"text/plain\": [","       \"2.045229642132703\"","      ]","     },","     \"execution_count\": 112,","     \"metadata\": {},","     \"output_type\": \"execute_result\"","    }","   ],","   \"source\": [","    \"cv\"","   ]","  },","  {","   \"cell_type\": \"code\",","   \"execution_count\": null,","   \"id\": \"b8d75d30\",","   \"metadata\": {},","   \"outputs\": [],","   \"source\": []","  }"," ],"," \"metadata\": {","  \"kernelspec\": {","   \"display_name\": \"Python 3 (ipykernel)\",","   \"language\": \"python\",","   \"name\": \"python3\"","  },","  \"language_info\": {","   \"codemirror_mode\": {","    \"name\": \"ipython\",","    \"version\": 3","   },","   \"file_extension\": \".py\",","   \"mimetype\": \"text/x-python\",","   \"name\": \"python\",","   \"nbconvert_exporter\": \"python\",","   \"pygments_lexer\": \"ipython3\",","   \"version\": \"3.11.4\"","  }"," },"," \"nbformat\": 4,"," \"nbformat_minor\": 5","}"],"stylingDirectives":null,"colorizedLines":null,"csv":null,"csvError":null,"dependabotInfo":{"showConfigurationBanner":false,"configFilePath":null,"networkDependabotPath":"/MathforDataScience/DSR_Statistics1/network/updates","dismissConfigurationNoticePath":"/settings/dismiss-notice/dependabot_configuration_notice","configurationNoticeDismissed":false},"displayName":"7_2 paired t-test.ipynb","displayUrl":"https://notebooks.githubusercontent.com/view/ipynb?browser=chrome\u0026bypass_fastly=true\u0026color_mode=auto\u0026commit=4bdf4da0692b0574b35b13389bf9db0802909d04\u0026device=unknown_device\u0026docs_host=https%3A%2F%2Fdocs.github.com\u0026enc_url=68747470733a2f2f7261772e67697468756275736572636f6e74656e742e636f6d2f4d617468666f7244617461536369656e63652f4453525f53746174697374696373312f346264663464613036393262303537346233356231333338396266396462303830323930396430342f375f2532304879706f7468657365732f375f32253230706169726564253230742d746573742e6970796e62\u0026logged_in=true\u0026nwo=MathforDataScience%2FDSR_Statistics1\u0026path=7_+Hypotheses%2F7_2+paired+t-test.ipynb\u0026platform=windows\u0026repository_id=661665397\u0026repository_type=Repository\u0026version=127","headerInfo":{"blobSize":"134 KB","deleteTooltip":"Delete this file","editTooltip":"Edit this file","ghDesktopPath":"https://desktop.github.com","isGitLfs":false,"onBranch":true,"shortPath":"72f66aa","siteNavLoginPath":"/login?return_to=https%3A%2F%2Fgithub.com%2FMathforDataScience%2FDSR_Statistics1%2Fblob%2Fmain%2F7_%2520Hypotheses%2F7_2%2520paired%2520t-test.ipynb","isCSV":false,"isRichtext":false,"toc":null,"lineInfo":{"truncatedLoc":"438","truncatedSloc":"438"},"mode":"file"},"image":false,"isCodeownersFile":null,"isPlain":false,"isValidLegacyIssueTemplate":false,"issueTemplate":null,"discussionTemplate":null,"language":"Jupyter Notebook","languageID":185,"large":false,"planSupportInfo":{"repoIsFork":null,"repoOwnedByCurrentUser":null,"requestFullPath":"/MathforDataScience/DSR_Statistics1/blob/main/7_%20Hypotheses/7_2%20paired%20t-test.ipynb","showFreeOrgGatedFeatureMessage":null,"showPlanSupportBanner":null,"upgradeDataAttributes":null,"upgradePath":null},"publishBannersInfo":{"dismissActionNoticePath":"/settings/dismiss-notice/publish_action_from_dockerfile","releasePath":"/MathforDataScience/DSR_Statistics1/releases/new?marketplace=true","showPublishActionBanner":false},"rawBlobUrl":"https://github.com/MathforDataScience/DSR_Statistics1/raw/main/7_%20Hypotheses/7_2%20paired%20t-test.ipynb","renderImageOrRaw":false,"richText":null,"renderedFileInfo":{"identityUUID":"308ff508-8aad-41eb-ae8c-c6df0773f4b9","renderFileType":"ipynb","size":137380},"shortPath":null,"symbolsEnabled":true,"tabSize":8,"topBannersInfo":{"overridingGlobalFundingFile":false,"globalPreferredFundingPath":null,"showInvalidCitationWarning":false,"citationHelpUrl":"https://docs.github.com/github/creating-cloning-and-archiving-repositories/creating-a-repository-on-github/about-citation-files","actionsOnboardingTip":null},"truncated":false,"viewable":true,"workflowRedirectUrl":null,"symbols":{"timed_out":false,"not_analyzed":true,"symbols":[]}},"copilotInfo":{"documentationUrl":"https://docs.github.com/copilot/overview-of-github-copilot/about-github-copilot-for-individuals","notices":{"codeViewPopover":{"dismissed":false,"dismissPath":"/settings/dismiss-notice/code_view_copilot_popover"}},"userAccess":{"hasSubscriptionEnded":false,"orgHasCFBAccess":false,"userHasCFIAccess":false,"userHasOrgs":false,"userIsOrgAdmin":false,"userIsOrgMember":false,"business":null,"featureRequestInfo":null}},"copilotAccessAllowed":false,"csrf_tokens":{"/MathforDataScience/DSR_Statistics1/branches":{"post":"jJAAMvMx3afo3zvlrTMD545bZvZIgNOSCHCi7jVNlyATfV0wa71ctfPkYQj9wxrIspTNFNYVJ_0MmjA02b_Srw"},"/repos/preferences":{"post":"nvUhIvsj_GPDcZ-FlFKaPUrXL3dFL0TXN_RyfZlNhh2Fo_0TBzLJaFV2nDMQQf_zWBz3sZ-7e6spYbCcEx0V8A"}}},"title":"DSR_Statistics1/7_ Hypotheses/7_2 paired t-test.ipynb at main · MathforDataScience/DSR_Statistics1","appPayload":{"helpUrl":"https://docs.github.com","findFileWorkerPath":"/assets-cdn/worker/find-file-worker-1583894afd38.js","findInFileWorkerPath":"/assets-cdn/worker/find-in-file-worker-3a63a487027b.js","githubDevUrl":"https://github.dev/","enabled_features":{"code_nav_ui_events":false,"overview_shared_code_dropdown_button":false,"react_blob_overlay":true,"copilot_conversational_ux_embedding_update":false,"copilot_smell_icebreaker_ux":true,"copilot_workspace":false}}}</script>
  <div data-target="react-app.reactRoot"><style data-styled="true" data-styled-version="5.3.6">.jUaXMC{font-weight:600;font-size:32px;margin:0;display:-webkit-box;display:-webkit-flex;display:-ms-flexbox;display:flex;font-size:14px;}/*!sc*/
.jUaXMC:where([data-variant='large']){font:var(--text-title-shorthand-large,600 32px / 1.5 -apple-system,BlinkMacSystemFont,"Segoe UI","Noto Sans",Helvetica,Arial,sans-serif,"Apple Color Emoji","Segoe UI Emoji");}/*!sc*/
.jUaXMC:where([data-variant='medium']){font:var(--text-title-shorthand-medium,600 20px / 1.6 -apple-system,BlinkMacSystemFont,"Segoe UI","Noto Sans",Helvetica,Arial,sans-serif,"Apple Color Emoji","Segoe UI Emoji");}/*!sc*/
.jUaXMC:where([data-variant='small']){font:var(--text-title-shorthand-small,600 16px / 1.5 -apple-system,BlinkMacSystemFont,"Segoe UI","Noto Sans",Helvetica,Arial,sans-serif,"Apple Color Emoji","Segoe UI Emoji");}/*!sc*/
.fReAGt{font-weight:600;font-size:32px;margin:0;font-size:16px;margin-left:8px;}/*!sc*/
.fReAGt:where([data-variant='large']){font:var(--text-title-shorthand-large,600 32px / 1.5 -apple-system,BlinkMacSystemFont,"Segoe UI","Noto Sans",Helvetica,Arial,sans-serif,"Apple Color Emoji","Segoe UI Emoji");}/*!sc*/
.fReAGt:where([data-variant='medium']){font:var(--text-title-shorthand-medium,600 20px / 1.6 -apple-system,BlinkMacSystemFont,"Segoe UI","Noto Sans",Helvetica,Arial,sans-serif,"Apple Color Emoji","Segoe UI Emoji");}/*!sc*/
.fReAGt:where([data-variant='small']){font:var(--text-title-shorthand-small,600 16px / 1.5 -apple-system,BlinkMacSystemFont,"Segoe UI","Noto Sans",Helvetica,Arial,sans-serif,"Apple Color Emoji","Segoe UI Emoji");}/*!sc*/
.fpGZrB{font-weight:600;font-size:32px;margin:0;}/*!sc*/
.fpGZrB:where([data-variant='large']){font:var(--text-title-shorthand-large,600 32px / 1.5 -apple-system,BlinkMacSystemFont,"Segoe UI","Noto Sans",Helvetica,Arial,sans-serif,"Apple Color Emoji","Segoe UI Emoji");}/*!sc*/
.fpGZrB:where([data-variant='medium']){font:var(--text-title-shorthand-medium,600 20px / 1.6 -apple-system,BlinkMacSystemFont,"Segoe UI","Noto Sans",Helvetica,Arial,sans-serif,"Apple Color Emoji","Segoe UI Emoji");}/*!sc*/
.fpGZrB:where([data-variant='small']){font:var(--text-title-shorthand-small,600 16px / 1.5 -apple-system,BlinkMacSystemFont,"Segoe UI","Noto Sans",Helvetica,Arial,sans-serif,"Apple Color Emoji","Segoe UI Emoji");}/*!sc*/
.eqidDl{font-weight:600;font-size:32px;margin:0;font-weight:600;display:inline-block;max-width:100%;font-size:16px;}/*!sc*/
.eqidDl:where([data-variant='large']){font:var(--text-title-shorthand-large,600 32px / 1.5 -apple-system,BlinkMacSystemFont,"Segoe UI","Noto Sans",Helvetica,Arial,sans-serif,"Apple Color Emoji","Segoe UI Emoji");}/*!sc*/
.eqidDl:where([data-variant='medium']){font:var(--text-title-shorthand-medium,600 20px / 1.6 -apple-system,BlinkMacSystemFont,"Segoe UI","Noto Sans",Helvetica,Arial,sans-serif,"Apple Color Emoji","Segoe UI Emoji");}/*!sc*/
.eqidDl:where([data-variant='small']){font:var(--text-title-shorthand-small,600 16px / 1.5 -apple-system,BlinkMacSystemFont,"Segoe UI","Noto Sans",Helvetica,Arial,sans-serif,"Apple Color Emoji","Segoe UI Emoji");}/*!sc*/
.eDVSKn{font-weight:600;font-size:32px;margin:0;font-weight:600;display:inline-block;max-width:100%;font-size:14px;}/*!sc*/
.eDVSKn:where([data-variant='large']){font:var(--text-title-shorthand-large,600 32px / 1.5 -apple-system,BlinkMacSystemFont,"Segoe UI","Noto Sans",Helvetica,Arial,sans-serif,"Apple Color Emoji","Segoe UI Emoji");}/*!sc*/
.eDVSKn:where([data-variant='medium']){font:var(--text-title-shorthand-medium,600 20px / 1.6 -apple-system,BlinkMacSystemFont,"Segoe UI","Noto Sans",Helvetica,Arial,sans-serif,"Apple Color Emoji","Segoe UI Emoji");}/*!sc*/
.eDVSKn:where([data-variant='small']){font:var(--text-title-shorthand-small,600 16px / 1.5 -apple-system,BlinkMacSystemFont,"Segoe UI","Noto Sans",Helvetica,Arial,sans-serif,"Apple Color Emoji","Segoe UI Emoji");}/*!sc*/
data-styled.g1[id="Heading__StyledHeading-sc-1c1dgg0-0"]{content:"jUaXMC,fReAGt,fpGZrB,eqidDl,eDVSKn,"}/*!sc*/
.fSWWem{padding:0;}/*!sc*/
.kPPmzM{max-width:100%;margin-left:auto;margin-right:auto;display:-webkit-box;display:-webkit-flex;display:-ms-flexbox;display:flex;-webkit-flex-wrap:wrap;-ms-flex-wrap:wrap;flex-wrap:wrap;}/*!sc*/
.cIAPDV{display:-webkit-box;display:-webkit-flex;display:-ms-flexbox;display:flex;-webkit-flex:1 1 100%;-ms-flex:1 1 100%;flex:1 1 100%;-webkit-flex-wrap:wrap;-ms-flex-wrap:wrap;flex-wrap:wrap;max-width:100%;}/*!sc*/
.gvCnwW{width:100%;}/*!sc*/
@media screen and (min-width:544px){.gvCnwW{width:100%;}}/*!sc*/
@media screen and (min-width:768px){.gvCnwW{width:auto;}}/*!sc*/
.hgUFaY{display:-webkit-box;display:-webkit-flex;display:-ms-flexbox;display:flex;-webkit-order:1;-ms-flex-order:1;order:1;width:100%;margin-left:0;margin-right:0;-webkit-flex-direction:column;-ms-flex-direction:column;flex-direction:column;margin-bottom:0;min-width:0;}/*!sc*/
@media screen and (min-width:544px){.hgUFaY{-webkit-flex-direction:column;-ms-flex-direction:column;flex-direction:column;}}/*!sc*/
@media screen and (min-width:768px){.hgUFaY{width:auto;margin-top:0 !important;margin-bottom:0 !important;position:-webkit-sticky;position:sticky;top:0px;max-height:100vh !important;-webkit-flex-direction:row;-ms-flex-direction:row;flex-direction:row;margin-right:0;height:100vh;}}/*!sc*/
@media print,screen and (max-width:1011px) and (min-width:768px){.hgUFaY{display:none;}}/*!sc*/
.eUyHuk{margin-left:0;margin-right:0;display:none;margin-top:0;}/*!sc*/
@media screen and (min-width:768px){.eUyHuk{margin-left:0 !important;margin-right:0 !important;}}/*!sc*/
.gNdDUH{--pane-min-width:256px;--pane-max-width-diff:511px;--pane-max-width:calc(100vw - var(--pane-max-width-diff));width:100%;padding:0;}/*!sc*/
@media screen and (min-width:544px){}/*!sc*/
@media screen and (min-width:768px){.gNdDUH{width:clamp(var(--pane-min-width),var(--pane-width),var(--pane-max-width));overflow:auto;}}/*!sc*/
@media screen and (min-width:1280px){.gNdDUH{--pane-max-width-diff:959px;}}/*!sc*/
.jywUSN{max-height:100%;height:100%;display:-webkit-box;display:-webkit-flex;display:-ms-flexbox;display:flex;-webkit-flex-direction:column;-ms-flex-direction:column;flex-direction:column;}/*!sc*/
@media screen and (max-width:768px){.jywUSN{display:none;}}/*!sc*/
@media screen and (min-width:768px){.jywUSN{max-height:100vh;height:100vh;}}/*!sc*/
.hBSSUC{display:-webkit-box;display:-webkit-flex;display:-ms-flexbox;display:flex;-webkit-flex-direction:column;-ms-flex-direction:column;flex-direction:column;-webkit-align-items:center;-webkit-box-align:center;-ms-flex-align:center;align-items:center;padding-left:16px;padding-right:16px;padding-bottom:8px;padding-top:16px;}/*!sc*/
.iPurHz{display:-webkit-box;display:-webkit-flex;display:-ms-flexbox;display:flex;width:100%;margin-bottom:16px;-webkit-align-items:center;-webkit-box-align:center;-ms-flex-align:center;align-items:center;}/*!sc*/
.kkrdEu{-webkit-box-pack:center;-webkit-justify-content:center;-ms-flex-pack:center;justify-content:center;}/*!sc*/
.trpoQ{display:-webkit-box;display:-webkit-flex;display:-ms-flexbox;display:flex;pointer-events:none;}/*!sc*/
.hVHHYa{margin-left:24px;margin-right:24px;display:-webkit-box;display:-webkit-flex;display:-ms-flexbox;display:flex;width:100%;}/*!sc*/
.idZfsJ{-webkit-box-flex:1;-webkit-flex-grow:1;-ms-flex-positive:1;flex-grow:1;}/*!sc*/
.bKgizp{display:-webkit-box;display:-webkit-flex;display:-ms-flexbox;display:flex;width:100%;}/*!sc*/
.iPGYsi{margin-right:4px;color:var(--fgColor-muted,var(--color-fg-muted,#656d76));}/*!sc*/
.caeYDk{font-size:14px;min-width:0;overflow:hidden;text-overflow:ellipsis;white-space:nowrap;}/*!sc*/
.jahcnb{margin-left:8px;white-space:nowrap;}/*!sc*/
.jahcnb:hover button:not(:hover){border-left-color:var(--button-default-borderColor-hover,var(--color-btn-hover-border));}/*!sc*/
.ccToMy{margin-left:16px;margin-right:16px;margin-bottom:12px;}/*!sc*/
@media screen and (max-width:768px){.ccToMy{display:none;}}/*!sc*/
.cNvKlH{margin-right:-6px;}/*!sc*/
.cLfAnm{-webkit-box-flex:1;-webkit-flex-grow:1;-ms-flex-positive:1;flex-grow:1;max-height:100% !important;overflow-y:auto;-webkit-scrollbar-gutter:stable;-moz-scrollbar-gutter:stable;-ms-scrollbar-gutter:stable;scrollbar-gutter:stable;}/*!sc*/
@media screen and (max-width:768px){.cLfAnm{display:none;}}/*!sc*/
.erWCJP{padding-left:16px;padding-right:16px;padding-bottom:8px;}/*!sc*/
.hAeDYA{height:100%;position:relative;display:none;margin-left:0;}/*!sc*/
.fjdBNx{position:absolute;inset:0 -2px;cursor:col-resize;background-color:transparent;-webkit-transition-delay:0.1s;transition-delay:0.1s;}/*!sc*/
.fjdBNx:hover{background-color:var(--bgColor-neutral-muted,var(--color-neutral-muted,rgba(175,184,193,0.2)));}/*!sc*/
.emFMJu{display:-webkit-box;display:-webkit-flex;display:-ms-flexbox;display:flex;-webkit-flex-direction:column;-ms-flex-direction:column;flex-direction:column;-webkit-order:2;-ms-flex-order:2;order:2;-webkit-flex-basis:0;-ms-flex-preferred-size:0;flex-basis:0;-webkit-box-flex:1;-webkit-flex-grow:1;-ms-flex-positive:1;flex-grow:1;-webkit-flex-shrink:1;-ms-flex-negative:1;flex-shrink:1;min-width:1px;margin-right:auto;}/*!sc*/
@media print{.emFMJu{display:-webkit-box !important;display:-webkit-flex !important;display:-ms-flexbox !important;display:flex !important;}}/*!sc*/
.hlUAHL{width:100%;max-width:100%;margin-left:auto;margin-right:auto;-webkit-box-flex:1;-webkit-flex-grow:1;-ms-flex-positive:1;flex-grow:1;padding:0;}/*!sc*/
.iStsmI{margin-left:auto;margin-right:auto;-webkit-flex-direction:column;-ms-flex-direction:column;flex-direction:column;padding-bottom:40px;max-width:100%;margin-top:0;}/*!sc*/
.eIgvIk{display:inherit;}/*!sc*/
.eVFfWF{width:100%;}/*!sc*/
.fywjmm{display:-webkit-box;display:-webkit-flex;display:-ms-flexbox;display:flex;gap:8px;-webkit-flex-direction:column;-ms-flex-direction:column;flex-direction:column;width:100%;}/*!sc*/
.dyczTK{display:-webkit-box;display:-webkit-flex;display:-ms-flexbox;display:flex;-webkit-align-items:start;-webkit-box-align:start;-ms-flex-align:start;align-items:start;-webkit-box-pack:justify;-webkit-justify-content:space-between;-ms-flex-pack:justify;justify-content:space-between;gap:8px;}/*!sc*/
.kszRgZ{-webkit-align-self:center;-ms-flex-item-align:center;align-self:center;display:-webkit-box;display:-webkit-flex;display:-ms-flexbox;display:flex;padding-right:8px;min-width:0;}/*!sc*/
.eTvGbF{display:-webkit-box;display:-webkit-flex;display:-ms-flexbox;display:flex;-webkit-flex-direction:row;-ms-flex-direction:row;flex-direction:row;font-size:16px;min-width:0;-webkit-flex-shrink:1;-ms-flex-negative:1;flex-shrink:1;-webkit-flex-wrap:wrap;-ms-flex-wrap:wrap;flex-wrap:wrap;max-width:100%;-webkit-align-items:center;-webkit-box-align:center;-ms-flex-align:center;align-items:center;}/*!sc*/
.kzRgrI{max-width:100%;}/*!sc*/
.cmAPIB{max-width:100%;list-style:none;display:inline-block;}/*!sc*/
.jwXCBK{display:inline-block;max-width:100%;}/*!sc*/
.gtBUEp{min-height:32px;display:-webkit-box;display:-webkit-flex;display:-ms-flexbox;display:flex;-webkit-align-items:start;-webkit-box-align:start;-ms-flex-align:start;align-items:start;}/*!sc*/
.hVZtwF{margin-left:16px;margin-right:16px;}/*!sc*/
.cMYnca{display:-webkit-box;display:-webkit-flex;display:-ms-flexbox;display:flex;-webkit-flex-direction:column;-ms-flex-direction:column;flex-direction:column;}/*!sc*/
.brJRqk{display:-webkit-box;display:-webkit-flex;display:-ms-flexbox;display:flex;-webkit-flex-direction:row;-ms-flex-direction:row;flex-direction:row;-webkit-flex-wrap:wrap;-ms-flex-wrap:wrap;flex-wrap:wrap;-webkit-box-pack:justify;-webkit-justify-content:space-between;-ms-flex-pack:justify;justify-content:space-between;-webkit-align-items:center;-webkit-box-align:center;-ms-flex-align:center;align-items:center;gap:8px;min-width:273px;padding:8px;}/*!sc*/
@media screen and (min-width:544px){.brJRqk{-webkit-flex-wrap:nowrap;-ms-flex-wrap:nowrap;flex-wrap:nowrap;}}/*!sc*/
.iJmJly{display:-webkit-box;display:-webkit-flex;display:-ms-flexbox;display:flex;-webkit-flex-direction:row;-ms-flex-direction:row;flex-direction:row;}/*!sc*/
.jACbi{width:100%;height:-webkit-fit-content;height:-moz-fit-content;height:fit-content;min-width:0;margin-right:0;}/*!sc*/
.gIJuDf{height:40px;padding-left:4px;padding-bottom:16px;}/*!sc*/
.fleZSW{-webkit-align-items:center;-webkit-box-align:center;-ms-flex-align:center;align-items:center;}/*!sc*/
.BnySK{font-size:12px;-webkit-flex:auto;-ms-flex:auto;flex:auto;padding-right:16px;color:var(--fgColor-muted,var(--color-fg-muted,#656d76));min-width:0;}/*!sc*/
.VHzRk{top:0px;z-index:4;background:var(--bgColor-default,var(--color-canvas-default));position:-webkit-sticky;position:sticky;}/*!sc*/
.ePiodO{display:-webkit-box;display:-webkit-flex;display:-ms-flexbox;display:flex;-webkit-flex-direction:column;-ms-flex-direction:column;flex-direction:column;width:100%;position:absolute;}/*!sc*/
.kQJlnf{display:none;min-width:0;padding-top:8px;padding-bottom:8px;}/*!sc*/
.gJICKO{margin-right:8px;margin-left:16px;text-overflow:ellipsis;overflow:hidden;display:-webkit-box;display:-webkit-flex;display:-ms-flexbox;display:flex;-webkit-flex-direction:row;-ms-flex-direction:row;flex-direction:row;-webkit-align-items:center;-webkit-box-align:center;-ms-flex-align:center;align-items:center;-webkit-box-pack:justify;-webkit-justify-content:space-between;-ms-flex-pack:justify;justify-content:space-between;width:100%;}/*!sc*/
.iZJewz{display:-webkit-box;display:-webkit-flex;display:-ms-flexbox;display:flex;-webkit-flex-direction:row;-ms-flex-direction:row;flex-direction:row;font-size:14px;min-width:0;-webkit-flex-shrink:1;-ms-flex-negative:1;flex-shrink:1;-webkit-flex-wrap:wrap;-ms-flex-wrap:wrap;flex-wrap:wrap;max-width:100%;-webkit-align-items:center;-webkit-box-align:center;-ms-flex-align:center;align-items:center;}/*!sc*/
.jfjHXm{padding-left:8px;padding-top:8px;padding-bottom:8px;display:-webkit-box;display:-webkit-flex;display:-ms-flexbox;display:flex;-webkit-flex:1;-ms-flex:1;flex:1;-webkit-align-items:center;-webkit-box-align:center;-ms-flex-align:center;align-items:center;-webkit-box-pack:justify;-webkit-justify-content:space-between;-ms-flex-pack:justify;justify-content:space-between;background-color:var(--bgColor-muted,var(--color-canvas-subtle,#f6f8fa));border:1px solid var(--borderColor-default,var(--color-border-default));border-radius:6px 6px 0px 0px;}/*!sc*/
.bfkNRF{display:-webkit-box;display:-webkit-flex;display:-ms-flexbox;display:flex;-webkit-align-items:center;-webkit-box-align:center;-ms-flex-align:center;align-items:center;gap:8px;min-width:0;}/*!sc*/
.fXBLEV{display:block;position:relative;-webkit-box-flex:1;-webkit-flex-grow:1;-ms-flex-positive:1;flex-grow:1;margin-top:-1px;margin-bottom:-1px;--separator-color:transparent;}/*!sc*/
.fXBLEV:not(:last-child){margin-right:1px;}/*!sc*/
.fXBLEV:not(:last-child):after{background-color:var(--separator-color);content:"";position:absolute;right:-2px;top:8px;bottom:8px;width:1px;}/*!sc*/
.fXBLEV:focus-within:has(:focus-visible){--separator-color:transparent;}/*!sc*/
.fXBLEV:first-child{margin-left:-1px;}/*!sc*/
.fXBLEV:last-child{margin-right:-1px;}/*!sc*/
.gMPsNT{display:block;position:relative;-webkit-box-flex:1;-webkit-flex-grow:1;-ms-flex-positive:1;flex-grow:1;margin-top:-1px;margin-bottom:-1px;--separator-color:var(--borderColor-default,var(--color-border-default,#d0d7de));}/*!sc*/
.gMPsNT:not(:last-child){margin-right:1px;}/*!sc*/
.gMPsNT:not(:last-child):after{background-color:var(--separator-color);content:"";position:absolute;right:-2px;top:8px;bottom:8px;width:1px;}/*!sc*/
.gMPsNT:focus-within:has(:focus-visible){--separator-color:transparent;}/*!sc*/
.gMPsNT:first-child{margin-left:-1px;}/*!sc*/
.gMPsNT:last-child{margin-right:-1px;}/*!sc*/
.iBylDf{display:-webkit-box;display:-webkit-flex;display:-ms-flexbox;display:flex;-webkit-align-items:center;-webkit-box-align:center;-ms-flex-align:center;align-items:center;gap:8px;margin-right:8px;}/*!sc*/
.kSGBPx{gap:8px;}/*!sc*/
.ytOJl{border:1px solid;border-top:none;border-color:var(--borderColor-default,var(--color-border-default,#d0d7de));border-radius:0px 0px 6px 6px;min-width:273px;}/*!sc*/
.eJsjkT{background-color:var(--bgColor-default,var(--color-canvas-default));border:0px;border-width:0;border-radius:0px 0px 6px 6px;padding:0;min-width:0;margin-top:46px;overflow:auto;}/*!sc*/
.aZrVR{position:fixed;top:0;right:0;height:100%;width:15px;-webkit-transition:-webkit-transform 0.3s;-webkit-transition:transform 0.3s;transition:transform 0.3s;z-index:1;}/*!sc*/
.aZrVR:hover{-webkit-transform:scaleX(1.5);-ms-transform:scaleX(1.5);transform:scaleX(1.5);}/*!sc*/
.bAzdCq{display:-webkit-box;display:-webkit-flex;display:-ms-flexbox;display:flex;-webkit-flex-direction:column;-ms-flex-direction:column;flex-direction:column;-webkit-align-items:center;-webkit-box-align:center;-ms-flex-align:center;align-items:center;padding-top:16px;padding-bottom:16px;}/*!sc*/
.ioTNdO{display:-webkit-inline-box;display:-webkit-inline-flex;display:-ms-inline-flexbox;display:inline-flex;}/*!sc*/
data-styled.g2[id="Box-sc-g0xbh4-0"]{content:"fSWWem,kPPmzM,cIAPDV,gvCnwW,hgUFaY,eUyHuk,gNdDUH,jywUSN,hBSSUC,iPurHz,kkrdEu,trpoQ,hVHHYa,idZfsJ,bKgizp,iPGYsi,caeYDk,jahcnb,ccToMy,cNvKlH,cLfAnm,erWCJP,hAeDYA,fjdBNx,emFMJu,hlUAHL,iStsmI,eIgvIk,eVFfWF,fywjmm,dyczTK,kszRgZ,eTvGbF,kzRgrI,cmAPIB,jwXCBK,gtBUEp,hVZtwF,cMYnca,brJRqk,iJmJly,jACbi,gIJuDf,fleZSW,BnySK,VHzRk,ePiodO,kQJlnf,gJICKO,iZJewz,jfjHXm,bfkNRF,fXBLEV,gMPsNT,iBylDf,kSGBPx,ytOJl,eJsjkT,aZrVR,bAzdCq,ioTNdO,"}/*!sc*/
.jGoVeP{border-radius:6px;border:1px solid;border-color:transparent;font-family:inherit;font-weight:500;font-size:14px;cursor:pointer;-webkit-appearance:none;-moz-appearance:none;appearance:none;-webkit-user-select:none;-moz-user-select:none;-ms-user-select:none;user-select:none;-webkit-text-decoration:none;text-decoration:none;text-align:center;display:-webkit-box;display:-webkit-flex;display:-ms-flexbox;display:flex;-webkit-align-items:center;-webkit-box-align:center;-ms-flex-align:center;align-items:center;-webkit-box-pack:justify;-webkit-justify-content:space-between;-ms-flex-pack:justify;justify-content:space-between;height:32px;padding:0 12px;gap:8px;min-width:-webkit-max-content;min-width:-moz-max-content;min-width:max-content;-webkit-transition:80ms cubic-bezier(0.65,0,0.35,1);transition:80ms cubic-bezier(0.65,0,0.35,1);-webkit-transition-property:color,fill,background-color,border-color;transition-property:color,fill,background-color,border-color;color:var(--button-default-fgColor-rest,var(--color-btn-text,#24292f));background-color:transparent;box-shadow:none;}/*!sc*/
.jGoVeP:focus:not(:disabled){box-shadow:none;outline:2px solid var(--fgColor-accent,var(--color-accent-fg,#0969da));outline-offset:-2px;}/*!sc*/
.jGoVeP:focus:not(:disabled):not(:focus-visible){outline:solid 1px transparent;}/*!sc*/
.jGoVeP:focus-visible:not(:disabled){box-shadow:none;outline:2px solid var(--fgColor-accent,var(--color-accent-fg,#0969da));outline-offset:-2px;}/*!sc*/
.jGoVeP[href]{display:-webkit-inline-box;display:-webkit-inline-flex;display:-ms-inline-flexbox;display:inline-flex;}/*!sc*/
.jGoVeP[href]:hover{-webkit-text-decoration:none;text-decoration:none;}/*!sc*/
.jGoVeP:hover{-webkit-transition-duration:80ms;transition-duration:80ms;}/*!sc*/
.jGoVeP:active{-webkit-transition:none;transition:none;}/*!sc*/
.jGoVeP[data-inactive]{cursor:auto;}/*!sc*/
.jGoVeP:disabled{cursor:not-allowed;box-shadow:none;color:var(--fgColor-disabled,var(--color-primer-fg-disabled,#8c959f));}/*!sc*/
.jGoVeP:disabled [data-component=ButtonCounter],.jGoVeP:disabled [data-component="leadingVisual"],.jGoVeP:disabled [data-component="trailingAction"]{color:inherit;}/*!sc*/
@media (forced-colors:active){.jGoVeP:focus{outline:solid 1px transparent;}}/*!sc*/
.jGoVeP [data-component=ButtonCounter]{font-size:12px;}/*!sc*/
.jGoVeP[data-component=IconButton]{display:inline-grid;padding:unset;place-content:center;width:32px;min-width:unset;}/*!sc*/
.jGoVeP[data-size="small"]{padding:0 8px;height:28px;gap:4px;font-size:12px;}/*!sc*/
.jGoVeP[data-size="small"] [data-component="text"]{line-height:calc(20 / 12);}/*!sc*/
.jGoVeP[data-size="small"] [data-component=ButtonCounter]{font-size:12px;}/*!sc*/
.jGoVeP[data-size="small"] [data-component="buttonContent"] > :not(:last-child){margin-right:4px;}/*!sc*/
.jGoVeP[data-size="small"][data-component=IconButton]{width:28px;padding:unset;}/*!sc*/
.jGoVeP[data-size="large"]{padding:0 16px;height:40px;gap:8px;}/*!sc*/
.jGoVeP[data-size="large"] [data-component="buttonContent"] > :not(:last-child){margin-right:8px;}/*!sc*/
.jGoVeP[data-size="large"][data-component=IconButton]{width:40px;padding:unset;}/*!sc*/
.jGoVeP[data-block="block"]{width:100%;}/*!sc*/
.jGoVeP[data-label-wrap="true"]{min-width:-webkit-fit-content;min-width:-moz-fit-content;min-width:fit-content;height:unset;min-height:var(--control-medium-size,2rem);}/*!sc*/
.jGoVeP[data-label-wrap="true"] [data-component="buttonContent"]{-webkit-flex:1 1 auto;-ms-flex:1 1 auto;flex:1 1 auto;-webkit-align-self:stretch;-ms-flex-item-align:stretch;align-self:stretch;padding-block:calc(var(--control-medium-paddingBlock,0.375rem) - 2px);}/*!sc*/
.jGoVeP[data-label-wrap="true"] [data-component="text"]{white-space:unset;word-break:break-word;}/*!sc*/
.jGoVeP[data-label-wrap="true"][data-size="small"]{height:unset;min-height:var(--control-small-size,1.75rem);}/*!sc*/
.jGoVeP[data-label-wrap="true"][data-size="small"] [data-component="buttonContent"]{padding-block:calc(var(--control-small-paddingBlock,0.25rem) - 2px);}/*!sc*/
.jGoVeP[data-label-wrap="true"][data-size="large"]{height:unset;min-height:var(--control-large-size,2.5rem);padding-inline:var(--control-large-paddingInline-spacious,1rem);}/*!sc*/
.jGoVeP[data-label-wrap="true"][data-size="large"] [data-component="buttonContent"]{padding-block:calc(var(--control-large-paddingBlock,0.625rem) - 2px);}/*!sc*/
.jGoVeP[data-inactive]:not([disabled]){background-color:var(--button-inactive-bgColor,var(--button-inactive-bgColor-rest,var(--color-btn-inactive-bg,#eaeef2)));border-color:var(--button-inactive-bgColor,var(--button-inactive-bgColor-rest,var(--color-btn-inactive-bg,#eaeef2)));color:var(--button-inactive-fgColor,var(--button-inactive-fgColor-rest,var(--color-btn-inactive-text,#57606a)));}/*!sc*/
.jGoVeP[data-inactive]:not([disabled]):focus-visible{box-shadow:none;}/*!sc*/
.jGoVeP [data-component="leadingVisual"]{grid-area:leadingVisual;color:var(--fgColor-muted,var(--color-fg-muted,#656d76));}/*!sc*/
.jGoVeP [data-component="text"]{grid-area:text;line-height:calc(20/14);white-space:nowrap;}/*!sc*/
.jGoVeP [data-component="trailingVisual"]{grid-area:trailingVisual;}/*!sc*/
.jGoVeP [data-component="trailingAction"]{margin-right:-4px;color:var(--fgColor-muted,var(--color-fg-muted,#656d76));}/*!sc*/
.jGoVeP [data-component="buttonContent"]{-webkit-flex:1 0 auto;-ms-flex:1 0 auto;flex:1 0 auto;display:grid;grid-template-areas:"leadingVisual text trailingVisual";grid-template-columns:min-content minmax(0,auto) min-content;-webkit-align-items:center;-webkit-box-align:center;-ms-flex-align:center;align-items:center;-webkit-align-content:center;-ms-flex-line-pack:center;align-content:center;}/*!sc*/
.jGoVeP [data-component="buttonContent"] > :not(:last-child){margin-right:8px;}/*!sc*/
.jGoVeP [data-component="loadingSpinner"]{grid-area:text;margin-right:0px !important;place-self:center;}/*!sc*/
.jGoVeP [data-component="loadingSpinner"] + [data-component="text"]{visibility:hidden;}/*!sc*/
.jGoVeP:hover:not([disabled]){background-color:var(--control-transparent-bgColor-hover,var(--color-action-list-item-default-hover-bg,rgba(208,215,222,0.32)));}/*!sc*/
.jGoVeP:active:not([disabled]){background-color:var(--control-transparent-bgColor-active,var(--color-action-list-item-default-active-bg,rgba(208,215,222,0.48)));}/*!sc*/
.jGoVeP[aria-expanded=true]{background-color:var(--control-transparent-bgColor-selected,var(--color-action-list-item-default-selected-bg,rgba(208,215,222,0.24)));}/*!sc*/
.jGoVeP[data-component="IconButton"][data-no-visuals]{color:var(--fgColor-muted,var(--color-fg-muted,#656d76));}/*!sc*/
.jGoVeP[data-no-visuals]{color:var(--fgColor-accent,var(--color-accent-fg,#0969da));}/*!sc*/
.jGoVeP:has([data-component="ButtonCounter"]){color:var(--button-default-fgColor-rest,var(--color-btn-text,#24292f));}/*!sc*/
.jGoVeP:disabled[data-no-visuals]{color:var(--fgColor-disabled,var(--color-primer-fg-disabled,#8c959f));}/*!sc*/
.jGoVeP:disabled[data-no-visuals] [data-component=ButtonCounter]{color:inherit;}/*!sc*/
.jGoVeP{color:var(--fgColor-muted,var(--color-fg-muted,#656d76));padding-left:8px;padding-right:8px;display:none;}/*!sc*/
@media screen and (max-width:768px){.jGoVeP{display:block;}}/*!sc*/
.cRDVgI{border-radius:6px;border:1px solid;border-color:transparent;font-family:inherit;font-weight:500;font-size:14px;cursor:pointer;-webkit-appearance:none;-moz-appearance:none;appearance:none;-webkit-user-select:none;-moz-user-select:none;-ms-user-select:none;user-select:none;-webkit-text-decoration:none;text-decoration:none;text-align:center;display:-webkit-box;display:-webkit-flex;display:-ms-flexbox;display:flex;-webkit-align-items:center;-webkit-box-align:center;-ms-flex-align:center;align-items:center;-webkit-box-pack:justify;-webkit-justify-content:space-between;-ms-flex-pack:justify;justify-content:space-between;height:32px;padding:0 12px;gap:8px;min-width:-webkit-max-content;min-width:-moz-max-content;min-width:max-content;-webkit-transition:80ms cubic-bezier(0.65,0,0.35,1);transition:80ms cubic-bezier(0.65,0,0.35,1);-webkit-transition-property:color,fill,background-color,border-color;transition-property:color,fill,background-color,border-color;color:var(--button-default-fgColor-rest,var(--color-btn-text,#24292f));background-color:transparent;box-shadow:none;}/*!sc*/
.cRDVgI:focus:not(:disabled){box-shadow:none;outline:2px solid var(--fgColor-accent,var(--color-accent-fg,#0969da));outline-offset:-2px;}/*!sc*/
.cRDVgI:focus:not(:disabled):not(:focus-visible){outline:solid 1px transparent;}/*!sc*/
.cRDVgI:focus-visible:not(:disabled){box-shadow:none;outline:2px solid var(--fgColor-accent,var(--color-accent-fg,#0969da));outline-offset:-2px;}/*!sc*/
.cRDVgI[href]{display:-webkit-inline-box;display:-webkit-inline-flex;display:-ms-inline-flexbox;display:inline-flex;}/*!sc*/
.cRDVgI[href]:hover{-webkit-text-decoration:none;text-decoration:none;}/*!sc*/
.cRDVgI:hover{-webkit-transition-duration:80ms;transition-duration:80ms;}/*!sc*/
.cRDVgI:active{-webkit-transition:none;transition:none;}/*!sc*/
.cRDVgI[data-inactive]{cursor:auto;}/*!sc*/
.cRDVgI:disabled{cursor:not-allowed;box-shadow:none;color:var(--fgColor-disabled,var(--color-primer-fg-disabled,#8c959f));}/*!sc*/
.cRDVgI:disabled [data-component=ButtonCounter],.cRDVgI:disabled [data-component="leadingVisual"],.cRDVgI:disabled [data-component="trailingAction"]{color:inherit;}/*!sc*/
@media (forced-colors:active){.cRDVgI:focus{outline:solid 1px transparent;}}/*!sc*/
.cRDVgI [data-component=ButtonCounter]{font-size:12px;}/*!sc*/
.cRDVgI[data-component=IconButton]{display:inline-grid;padding:unset;place-content:center;width:32px;min-width:unset;}/*!sc*/
.cRDVgI[data-size="small"]{padding:0 8px;height:28px;gap:4px;font-size:12px;}/*!sc*/
.cRDVgI[data-size="small"] [data-component="text"]{line-height:calc(20 / 12);}/*!sc*/
.cRDVgI[data-size="small"] [data-component=ButtonCounter]{font-size:12px;}/*!sc*/
.cRDVgI[data-size="small"] [data-component="buttonContent"] > :not(:last-child){margin-right:4px;}/*!sc*/
.cRDVgI[data-size="small"][data-component=IconButton]{width:28px;padding:unset;}/*!sc*/
.cRDVgI[data-size="large"]{padding:0 16px;height:40px;gap:8px;}/*!sc*/
.cRDVgI[data-size="large"] [data-component="buttonContent"] > :not(:last-child){margin-right:8px;}/*!sc*/
.cRDVgI[data-size="large"][data-component=IconButton]{width:40px;padding:unset;}/*!sc*/
.cRDVgI[data-block="block"]{width:100%;}/*!sc*/
.cRDVgI[data-label-wrap="true"]{min-width:-webkit-fit-content;min-width:-moz-fit-content;min-width:fit-content;height:unset;min-height:var(--control-medium-size,2rem);}/*!sc*/
.cRDVgI[data-label-wrap="true"] [data-component="buttonContent"]{-webkit-flex:1 1 auto;-ms-flex:1 1 auto;flex:1 1 auto;-webkit-align-self:stretch;-ms-flex-item-align:stretch;align-self:stretch;padding-block:calc(var(--control-medium-paddingBlock,0.375rem) - 2px);}/*!sc*/
.cRDVgI[data-label-wrap="true"] [data-component="text"]{white-space:unset;word-break:break-word;}/*!sc*/
.cRDVgI[data-label-wrap="true"][data-size="small"]{height:unset;min-height:var(--control-small-size,1.75rem);}/*!sc*/
.cRDVgI[data-label-wrap="true"][data-size="small"] [data-component="buttonContent"]{padding-block:calc(var(--control-small-paddingBlock,0.25rem) - 2px);}/*!sc*/
.cRDVgI[data-label-wrap="true"][data-size="large"]{height:unset;min-height:var(--control-large-size,2.5rem);padding-inline:var(--control-large-paddingInline-spacious,1rem);}/*!sc*/
.cRDVgI[data-label-wrap="true"][data-size="large"] [data-component="buttonContent"]{padding-block:calc(var(--control-large-paddingBlock,0.625rem) - 2px);}/*!sc*/
.cRDVgI[data-inactive]:not([disabled]){background-color:var(--button-inactive-bgColor,var(--button-inactive-bgColor-rest,var(--color-btn-inactive-bg,#eaeef2)));border-color:var(--button-inactive-bgColor,var(--button-inactive-bgColor-rest,var(--color-btn-inactive-bg,#eaeef2)));color:var(--button-inactive-fgColor,var(--button-inactive-fgColor-rest,var(--color-btn-inactive-text,#57606a)));}/*!sc*/
.cRDVgI[data-inactive]:not([disabled]):focus-visible{box-shadow:none;}/*!sc*/
.cRDVgI [data-component="leadingVisual"]{grid-area:leadingVisual;color:var(--fgColor-muted,var(--color-fg-muted,#656d76));}/*!sc*/
.cRDVgI [data-component="text"]{grid-area:text;line-height:calc(20/14);white-space:nowrap;}/*!sc*/
.cRDVgI [data-component="trailingVisual"]{grid-area:trailingVisual;}/*!sc*/
.cRDVgI [data-component="trailingAction"]{margin-right:-4px;color:var(--fgColor-muted,var(--color-fg-muted,#656d76));}/*!sc*/
.cRDVgI [data-component="buttonContent"]{-webkit-flex:1 0 auto;-ms-flex:1 0 auto;flex:1 0 auto;display:grid;grid-template-areas:"leadingVisual text trailingVisual";grid-template-columns:min-content minmax(0,auto) min-content;-webkit-align-items:center;-webkit-box-align:center;-ms-flex-align:center;align-items:center;-webkit-align-content:center;-ms-flex-line-pack:center;align-content:center;}/*!sc*/
.cRDVgI [data-component="buttonContent"] > :not(:last-child){margin-right:8px;}/*!sc*/
.cRDVgI [data-component="loadingSpinner"]{grid-area:text;margin-right:0px !important;place-self:center;}/*!sc*/
.cRDVgI [data-component="loadingSpinner"] + [data-component="text"]{visibility:hidden;}/*!sc*/
.cRDVgI:hover:not([disabled]){background-color:var(--control-transparent-bgColor-hover,var(--color-action-list-item-default-hover-bg,rgba(208,215,222,0.32)));}/*!sc*/
.cRDVgI:active:not([disabled]){background-color:var(--control-transparent-bgColor-active,var(--color-action-list-item-default-active-bg,rgba(208,215,222,0.48)));}/*!sc*/
.cRDVgI[aria-expanded=true]{background-color:var(--control-transparent-bgColor-selected,var(--color-action-list-item-default-selected-bg,rgba(208,215,222,0.24)));}/*!sc*/
.cRDVgI[data-component="IconButton"][data-no-visuals]{color:var(--fgColor-muted,var(--color-fg-muted,#656d76));}/*!sc*/
.cRDVgI[data-no-visuals]{color:var(--fgColor-muted,var(--color-fg-muted,#656d76));height:32px;position:relative;}/*!sc*/
@media screen and (max-width:768px){.cRDVgI[data-no-visuals]{display:none;}}/*!sc*/
.cRDVgI:has([data-component="ButtonCounter"]){color:var(--button-default-fgColor-rest,var(--color-btn-text,#24292f));}/*!sc*/
.cRDVgI:disabled[data-no-visuals]{color:var(--fgColor-disabled,var(--color-primer-fg-disabled,#8c959f));}/*!sc*/
.cRDVgI:disabled[data-no-visuals] [data-component=ButtonCounter]{color:inherit;}/*!sc*/
.jwBfae{border-radius:6px;border:1px solid;border-color:var(--button-default-borderColor-rest,var(--button-default-borderColor-rest,var(--color-btn-border,rgba(31,35,40,0.15))));font-family:inherit;font-weight:500;font-size:14px;cursor:pointer;-webkit-appearance:none;-moz-appearance:none;appearance:none;-webkit-user-select:none;-moz-user-select:none;-ms-user-select:none;user-select:none;-webkit-text-decoration:none;text-decoration:none;text-align:center;display:-webkit-box;display:-webkit-flex;display:-ms-flexbox;display:flex;-webkit-align-items:center;-webkit-box-align:center;-ms-flex-align:center;align-items:center;-webkit-box-pack:justify;-webkit-justify-content:space-between;-ms-flex-pack:justify;justify-content:space-between;height:32px;padding:0 12px;gap:8px;min-width:-webkit-max-content;min-width:-moz-max-content;min-width:max-content;-webkit-transition:80ms cubic-bezier(0.65,0,0.35,1);transition:80ms cubic-bezier(0.65,0,0.35,1);-webkit-transition-property:color,fill,background-color,border-color;transition-property:color,fill,background-color,border-color;color:var(--button-default-fgColor-rest,var(--color-btn-text,#24292f));background-color:var(--button-default-bgColor-rest,var(--color-btn-bg,#f6f8fa));box-shadow:var(--button-default-shadow-resting,var(--color-btn-shadow,0 1px 0 rgba(31,35,40,0.04))),var(--button-default-shadow-inset,var(--color-btn-inset-shadow,inset 0 1px 0 rgba(255,255,255,0.25)));}/*!sc*/
.jwBfae:focus:not(:disabled){box-shadow:none;outline:2px solid var(--fgColor-accent,var(--color-accent-fg,#0969da));outline-offset:-2px;}/*!sc*/
.jwBfae:focus:not(:disabled):not(:focus-visible){outline:solid 1px transparent;}/*!sc*/
.jwBfae:focus-visible:not(:disabled){box-shadow:none;outline:2px solid var(--fgColor-accent,var(--color-accent-fg,#0969da));outline-offset:-2px;}/*!sc*/
.jwBfae[href]{display:-webkit-inline-box;display:-webkit-inline-flex;display:-ms-inline-flexbox;display:inline-flex;}/*!sc*/
.jwBfae[href]:hover{-webkit-text-decoration:none;text-decoration:none;}/*!sc*/
.jwBfae:hover{-webkit-transition-duration:80ms;transition-duration:80ms;}/*!sc*/
.jwBfae:active{-webkit-transition:none;transition:none;}/*!sc*/
.jwBfae[data-inactive]{cursor:auto;}/*!sc*/
.jwBfae:disabled{cursor:not-allowed;box-shadow:none;color:var(--fgColor-disabled,var(--color-primer-fg-disabled,#8c959f));border-color:var(--button-default-borderColor-disabled,var(--button-default-borderColor-rest,var(--color-btn-border,rgba(31,35,40,0.15))));background-color:var(--button-default-bgColor-disabled,var(--control-bgColor-disabled,var(--color-input-disabled-bg,rgba(175,184,193,0.2))));}/*!sc*/
.jwBfae:disabled [data-component=ButtonCounter]{color:inherit;}/*!sc*/
@media (forced-colors:active){.jwBfae:focus{outline:solid 1px transparent;}}/*!sc*/
.jwBfae [data-component=ButtonCounter]{font-size:12px;background-color:var(--buttonCounter-default-bgColor-rest,var(--color-btn-counter-bg,rgba(31,35,40,0.08)));}/*!sc*/
.jwBfae[data-component=IconButton]{display:inline-grid;padding:unset;place-content:center;width:32px;min-width:unset;}/*!sc*/
.jwBfae[data-size="small"]{padding:0 8px;height:28px;gap:4px;font-size:12px;}/*!sc*/
.jwBfae[data-size="small"] [data-component="text"]{line-height:calc(20 / 12);}/*!sc*/
.jwBfae[data-size="small"] [data-component=ButtonCounter]{font-size:12px;}/*!sc*/
.jwBfae[data-size="small"] [data-component="buttonContent"] > :not(:last-child){margin-right:4px;}/*!sc*/
.jwBfae[data-size="small"][data-component=IconButton]{width:28px;padding:unset;}/*!sc*/
.jwBfae[data-size="large"]{padding:0 16px;height:40px;gap:8px;}/*!sc*/
.jwBfae[data-size="large"] [data-component="buttonContent"] > :not(:last-child){margin-right:8px;}/*!sc*/
.jwBfae[data-size="large"][data-component=IconButton]{width:40px;padding:unset;}/*!sc*/
.jwBfae[data-block="block"]{width:100%;}/*!sc*/
.jwBfae[data-label-wrap="true"]{min-width:-webkit-fit-content;min-width:-moz-fit-content;min-width:fit-content;height:unset;min-height:var(--control-medium-size,2rem);}/*!sc*/
.jwBfae[data-label-wrap="true"] [data-component="buttonContent"]{-webkit-flex:1 1 auto;-ms-flex:1 1 auto;flex:1 1 auto;-webkit-align-self:stretch;-ms-flex-item-align:stretch;align-self:stretch;padding-block:calc(var(--control-medium-paddingBlock,0.375rem) - 2px);}/*!sc*/
.jwBfae[data-label-wrap="true"] [data-component="text"]{white-space:unset;word-break:break-word;}/*!sc*/
.jwBfae[data-label-wrap="true"][data-size="small"]{height:unset;min-height:var(--control-small-size,1.75rem);}/*!sc*/
.jwBfae[data-label-wrap="true"][data-size="small"] [data-component="buttonContent"]{padding-block:calc(var(--control-small-paddingBlock,0.25rem) - 2px);}/*!sc*/
.jwBfae[data-label-wrap="true"][data-size="large"]{height:unset;min-height:var(--control-large-size,2.5rem);padding-inline:var(--control-large-paddingInline-spacious,1rem);}/*!sc*/
.jwBfae[data-label-wrap="true"][data-size="large"] [data-component="buttonContent"]{padding-block:calc(var(--control-large-paddingBlock,0.625rem) - 2px);}/*!sc*/
.jwBfae[data-inactive]:not([disabled]){background-color:var(--button-inactive-bgColor,var(--button-inactive-bgColor-rest,var(--color-btn-inactive-bg,#eaeef2)));border-color:var(--button-inactive-bgColor,var(--button-inactive-bgColor-rest,var(--color-btn-inactive-bg,#eaeef2)));color:var(--button-inactive-fgColor,var(--button-inactive-fgColor-rest,var(--color-btn-inactive-text,#57606a)));}/*!sc*/
.jwBfae[data-inactive]:not([disabled]):focus-visible{box-shadow:none;}/*!sc*/
.jwBfae [data-component="leadingVisual"]{grid-area:leadingVisual;}/*!sc*/
.jwBfae [data-component="text"]{grid-area:text;line-height:calc(20/14);white-space:nowrap;}/*!sc*/
.jwBfae [data-component="trailingVisual"]{grid-area:trailingVisual;}/*!sc*/
.jwBfae [data-component="trailingAction"]{margin-right:-4px;}/*!sc*/
.jwBfae [data-component="buttonContent"]{-webkit-flex:1 0 auto;-ms-flex:1 0 auto;flex:1 0 auto;display:grid;grid-template-areas:"leadingVisual text trailingVisual";grid-template-columns:min-content minmax(0,auto) min-content;-webkit-align-items:center;-webkit-box-align:center;-ms-flex-align:center;align-items:center;-webkit-align-content:center;-ms-flex-line-pack:center;align-content:center;}/*!sc*/
.jwBfae [data-component="buttonContent"] > :not(:last-child){margin-right:8px;}/*!sc*/
.jwBfae [data-component="loadingSpinner"]{grid-area:text;margin-right:0px !important;place-self:center;}/*!sc*/
.jwBfae [data-component="loadingSpinner"] + [data-component="text"]{visibility:hidden;}/*!sc*/
.jwBfae:hover:not([disabled]):not([data-inactive]){background-color:var(--button-default-bgColor-hover,var(--color-btn-hover-bg,#f3f4f6));border-color:var(--button-default-borderColor-hover,var(--button-default-borderColor-hover,var(--color-btn-hover-border,rgba(31,35,40,0.15))));}/*!sc*/
.jwBfae:active:not([disabled]):not([data-inactive]){background-color:var(--button-default-bgColor-active,var(--color-btn-active-bg,hsla(220,14%,93%,1)));border-color:var(--button-default-borderColor-active,var(--button-default-borderColor-active,var(--color-btn-active-border,rgba(31,35,40,0.15))));}/*!sc*/
.jwBfae[aria-expanded=true]{background-color:var(--button-default-bgColor-active,var(--color-btn-active-bg,hsla(220,14%,93%,1)));border-color:var(--button-default-borderColor-active,var(--button-default-borderColor-active,var(--color-btn-active-border,rgba(31,35,40,0.15))));}/*!sc*/
.jwBfae [data-component="leadingVisual"],.jwBfae [data-component="trailingVisual"],.jwBfae [data-component="trailingAction"]{color:var(--button-color,var(--fgColor-muted,var(--color-fg-muted,#656d76)));}/*!sc*/
.jwBfae[data-component="IconButton"][data-no-visuals]{color:var(--fgColor-muted,var(--color-fg-muted,#656d76));}/*!sc*/
.jwBfae{display:-webkit-box;display:-webkit-flex;display:-ms-flexbox;display:flex;min-width:0;}/*!sc*/
.jwBfae svg{color:var(--fgColor-muted,var(--color-fg-muted,#656d76));}/*!sc*/
.jwBfae > span{width:inherit;}/*!sc*/
.YkvTm{border-radius:6px;border:1px solid;border-color:var(--button-default-borderColor-rest,var(--button-default-borderColor-rest,var(--color-btn-border,rgba(31,35,40,0.15))));font-family:inherit;font-weight:500;font-size:14px;cursor:pointer;-webkit-appearance:none;-moz-appearance:none;appearance:none;-webkit-user-select:none;-moz-user-select:none;-ms-user-select:none;user-select:none;-webkit-text-decoration:none;text-decoration:none;text-align:center;display:-webkit-box;display:-webkit-flex;display:-ms-flexbox;display:flex;-webkit-align-items:center;-webkit-box-align:center;-ms-flex-align:center;align-items:center;-webkit-box-pack:justify;-webkit-justify-content:space-between;-ms-flex-pack:justify;justify-content:space-between;height:32px;padding:0 12px;gap:8px;min-width:-webkit-max-content;min-width:-moz-max-content;min-width:max-content;-webkit-transition:80ms cubic-bezier(0.65,0,0.35,1);transition:80ms cubic-bezier(0.65,0,0.35,1);-webkit-transition-property:color,fill,background-color,border-color;transition-property:color,fill,background-color,border-color;color:var(--button-default-fgColor-rest,var(--color-btn-text,#24292f));background-color:var(--button-default-bgColor-rest,var(--color-btn-bg,#f6f8fa));box-shadow:var(--button-default-shadow-resting,var(--color-btn-shadow,0 1px 0 rgba(31,35,40,0.04))),var(--button-default-shadow-inset,var(--color-btn-inset-shadow,inset 0 1px 0 rgba(255,255,255,0.25)));}/*!sc*/
.YkvTm:focus:not(:disabled){box-shadow:none;outline:2px solid var(--fgColor-accent,var(--color-accent-fg,#0969da));outline-offset:-2px;}/*!sc*/
.YkvTm:focus:not(:disabled):not(:focus-visible){outline:solid 1px transparent;}/*!sc*/
.YkvTm:focus-visible:not(:disabled){box-shadow:none;outline:2px solid var(--fgColor-accent,var(--color-accent-fg,#0969da));outline-offset:-2px;}/*!sc*/
.YkvTm[href]{display:-webkit-inline-box;display:-webkit-inline-flex;display:-ms-inline-flexbox;display:inline-flex;}/*!sc*/
.YkvTm[href]:hover{-webkit-text-decoration:none;text-decoration:none;}/*!sc*/
.YkvTm:hover{-webkit-transition-duration:80ms;transition-duration:80ms;}/*!sc*/
.YkvTm:active{-webkit-transition:none;transition:none;}/*!sc*/
.YkvTm[data-inactive]{cursor:auto;}/*!sc*/
.YkvTm:disabled{cursor:not-allowed;box-shadow:none;color:var(--fgColor-disabled,var(--color-primer-fg-disabled,#8c959f));border-color:var(--button-default-borderColor-disabled,var(--button-default-borderColor-rest,var(--color-btn-border,rgba(31,35,40,0.15))));background-color:var(--button-default-bgColor-disabled,var(--control-bgColor-disabled,var(--color-input-disabled-bg,rgba(175,184,193,0.2))));}/*!sc*/
.YkvTm:disabled [data-component=ButtonCounter]{color:inherit;}/*!sc*/
@media (forced-colors:active){.YkvTm:focus{outline:solid 1px transparent;}}/*!sc*/
.YkvTm [data-component=ButtonCounter]{font-size:12px;background-color:var(--buttonCounter-default-bgColor-rest,var(--color-btn-counter-bg,rgba(31,35,40,0.08)));}/*!sc*/
.YkvTm[data-component=IconButton]{display:inline-grid;padding:unset;place-content:center;width:32px;min-width:unset;}/*!sc*/
.YkvTm[data-size="small"]{padding:0 8px;height:28px;gap:4px;font-size:12px;}/*!sc*/
.YkvTm[data-size="small"] [data-component="text"]{line-height:calc(20 / 12);}/*!sc*/
.YkvTm[data-size="small"] [data-component=ButtonCounter]{font-size:12px;}/*!sc*/
.YkvTm[data-size="small"] [data-component="buttonContent"] > :not(:last-child){margin-right:4px;}/*!sc*/
.YkvTm[data-size="small"][data-component=IconButton]{width:28px;padding:unset;}/*!sc*/
.YkvTm[data-size="large"]{padding:0 16px;height:40px;gap:8px;}/*!sc*/
.YkvTm[data-size="large"] [data-component="buttonContent"] > :not(:last-child){margin-right:8px;}/*!sc*/
.YkvTm[data-size="large"][data-component=IconButton]{width:40px;padding:unset;}/*!sc*/
.YkvTm[data-block="block"]{width:100%;}/*!sc*/
.YkvTm[data-label-wrap="true"]{min-width:-webkit-fit-content;min-width:-moz-fit-content;min-width:fit-content;height:unset;min-height:var(--control-medium-size,2rem);}/*!sc*/
.YkvTm[data-label-wrap="true"] [data-component="buttonContent"]{-webkit-flex:1 1 auto;-ms-flex:1 1 auto;flex:1 1 auto;-webkit-align-self:stretch;-ms-flex-item-align:stretch;align-self:stretch;padding-block:calc(var(--control-medium-paddingBlock,0.375rem) - 2px);}/*!sc*/
.YkvTm[data-label-wrap="true"] [data-component="text"]{white-space:unset;word-break:break-word;}/*!sc*/
.YkvTm[data-label-wrap="true"][data-size="small"]{height:unset;min-height:var(--control-small-size,1.75rem);}/*!sc*/
.YkvTm[data-label-wrap="true"][data-size="small"] [data-component="buttonContent"]{padding-block:calc(var(--control-small-paddingBlock,0.25rem) - 2px);}/*!sc*/
.YkvTm[data-label-wrap="true"][data-size="large"]{height:unset;min-height:var(--control-large-size,2.5rem);padding-inline:var(--control-large-paddingInline-spacious,1rem);}/*!sc*/
.YkvTm[data-label-wrap="true"][data-size="large"] [data-component="buttonContent"]{padding-block:calc(var(--control-large-paddingBlock,0.625rem) - 2px);}/*!sc*/
.YkvTm[data-inactive]:not([disabled]){background-color:var(--button-inactive-bgColor,var(--button-inactive-bgColor-rest,var(--color-btn-inactive-bg,#eaeef2)));border-color:var(--button-inactive-bgColor,var(--button-inactive-bgColor-rest,var(--color-btn-inactive-bg,#eaeef2)));color:var(--button-inactive-fgColor,var(--button-inactive-fgColor-rest,var(--color-btn-inactive-text,#57606a)));}/*!sc*/
.YkvTm[data-inactive]:not([disabled]):focus-visible{box-shadow:none;}/*!sc*/
.YkvTm [data-component="leadingVisual"]{grid-area:leadingVisual;}/*!sc*/
.YkvTm [data-component="text"]{grid-area:text;line-height:calc(20/14);white-space:nowrap;}/*!sc*/
.YkvTm [data-component="trailingVisual"]{grid-area:trailingVisual;}/*!sc*/
.YkvTm [data-component="trailingAction"]{margin-right:-4px;}/*!sc*/
.YkvTm [data-component="buttonContent"]{-webkit-flex:1 0 auto;-ms-flex:1 0 auto;flex:1 0 auto;display:grid;grid-template-areas:"leadingVisual text trailingVisual";grid-template-columns:min-content minmax(0,auto) min-content;-webkit-align-items:center;-webkit-box-align:center;-ms-flex-align:center;align-items:center;-webkit-align-content:center;-ms-flex-line-pack:center;align-content:center;}/*!sc*/
.YkvTm [data-component="buttonContent"] > :not(:last-child){margin-right:8px;}/*!sc*/
.YkvTm [data-component="loadingSpinner"]{grid-area:text;margin-right:0px !important;place-self:center;}/*!sc*/
.YkvTm [data-component="loadingSpinner"] + [data-component="text"]{visibility:hidden;}/*!sc*/
.YkvTm:hover:not([disabled]):not([data-inactive]){background-color:var(--button-default-bgColor-hover,var(--color-btn-hover-bg,#f3f4f6));border-color:var(--button-default-borderColor-hover,var(--button-default-borderColor-hover,var(--color-btn-hover-border,rgba(31,35,40,0.15))));}/*!sc*/
.YkvTm:active:not([disabled]):not([data-inactive]){background-color:var(--button-default-bgColor-active,var(--color-btn-active-bg,hsla(220,14%,93%,1)));border-color:var(--button-default-borderColor-active,var(--button-default-borderColor-active,var(--color-btn-active-border,rgba(31,35,40,0.15))));}/*!sc*/
.YkvTm[aria-expanded=true]{background-color:var(--button-default-bgColor-active,var(--color-btn-active-bg,hsla(220,14%,93%,1)));border-color:var(--button-default-borderColor-active,var(--button-default-borderColor-active,var(--color-btn-active-border,rgba(31,35,40,0.15))));}/*!sc*/
.YkvTm [data-component="leadingVisual"],.YkvTm [data-component="trailingVisual"],.YkvTm [data-component="trailingAction"]{color:var(--button-color,var(--fgColor-muted,var(--color-fg-muted,#656d76)));}/*!sc*/
.YkvTm[data-component="IconButton"][data-no-visuals]{color:var(--fgColor-muted,var(--color-fg-muted,#656d76));}/*!sc*/
.YkvTm[data-no-visuals]{color:var(--fgColor-muted,var(--color-fg-subtle,#6e7781));border-top-right-radius:0;border-bottom-right-radius:0;border-right:0;}/*!sc*/
.klDWQA{border-radius:6px;border:1px solid;border-color:var(--button-default-borderColor-rest,var(--button-default-borderColor-rest,var(--color-btn-border,rgba(31,35,40,0.15))));font-family:inherit;font-weight:500;font-size:14px;cursor:pointer;-webkit-appearance:none;-moz-appearance:none;appearance:none;-webkit-user-select:none;-moz-user-select:none;-ms-user-select:none;user-select:none;-webkit-text-decoration:none;text-decoration:none;text-align:center;display:-webkit-box;display:-webkit-flex;display:-ms-flexbox;display:flex;-webkit-align-items:center;-webkit-box-align:center;-ms-flex-align:center;align-items:center;-webkit-box-pack:justify;-webkit-justify-content:space-between;-ms-flex-pack:justify;justify-content:space-between;height:32px;padding:0 12px;gap:8px;min-width:-webkit-max-content;min-width:-moz-max-content;min-width:max-content;-webkit-transition:80ms cubic-bezier(0.65,0,0.35,1);transition:80ms cubic-bezier(0.65,0,0.35,1);-webkit-transition-property:color,fill,background-color,border-color;transition-property:color,fill,background-color,border-color;color:var(--button-default-fgColor-rest,var(--color-btn-text,#24292f));background-color:var(--button-default-bgColor-rest,var(--color-btn-bg,#f6f8fa));box-shadow:var(--button-default-shadow-resting,var(--color-btn-shadow,0 1px 0 rgba(31,35,40,0.04))),var(--button-default-shadow-inset,var(--color-btn-inset-shadow,inset 0 1px 0 rgba(255,255,255,0.25)));}/*!sc*/
.klDWQA:focus:not(:disabled){box-shadow:none;outline:2px solid var(--fgColor-accent,var(--color-accent-fg,#0969da));outline-offset:-2px;}/*!sc*/
.klDWQA:focus:not(:disabled):not(:focus-visible){outline:solid 1px transparent;}/*!sc*/
.klDWQA:focus-visible:not(:disabled){box-shadow:none;outline:2px solid var(--fgColor-accent,var(--color-accent-fg,#0969da));outline-offset:-2px;}/*!sc*/
.klDWQA[href]{display:-webkit-inline-box;display:-webkit-inline-flex;display:-ms-inline-flexbox;display:inline-flex;}/*!sc*/
.klDWQA[href]:hover{-webkit-text-decoration:none;text-decoration:none;}/*!sc*/
.klDWQA:hover{-webkit-transition-duration:80ms;transition-duration:80ms;}/*!sc*/
.klDWQA:active{-webkit-transition:none;transition:none;}/*!sc*/
.klDWQA[data-inactive]{cursor:auto;}/*!sc*/
.klDWQA:disabled{cursor:not-allowed;box-shadow:none;color:var(--fgColor-disabled,var(--color-primer-fg-disabled,#8c959f));border-color:var(--button-default-borderColor-disabled,var(--button-default-borderColor-rest,var(--color-btn-border,rgba(31,35,40,0.15))));background-color:var(--button-default-bgColor-disabled,var(--control-bgColor-disabled,var(--color-input-disabled-bg,rgba(175,184,193,0.2))));}/*!sc*/
.klDWQA:disabled [data-component=ButtonCounter]{color:inherit;}/*!sc*/
@media (forced-colors:active){.klDWQA:focus{outline:solid 1px transparent;}}/*!sc*/
.klDWQA [data-component=ButtonCounter]{font-size:12px;background-color:var(--buttonCounter-default-bgColor-rest,var(--color-btn-counter-bg,rgba(31,35,40,0.08)));}/*!sc*/
.klDWQA[data-component=IconButton]{display:inline-grid;padding:unset;place-content:center;width:32px;min-width:unset;}/*!sc*/
.klDWQA[data-size="small"]{padding:0 8px;height:28px;gap:4px;font-size:12px;}/*!sc*/
.klDWQA[data-size="small"] [data-component="text"]{line-height:calc(20 / 12);}/*!sc*/
.klDWQA[data-size="small"] [data-component=ButtonCounter]{font-size:12px;}/*!sc*/
.klDWQA[data-size="small"] [data-component="buttonContent"] > :not(:last-child){margin-right:4px;}/*!sc*/
.klDWQA[data-size="small"][data-component=IconButton]{width:28px;padding:unset;}/*!sc*/
.klDWQA[data-size="large"]{padding:0 16px;height:40px;gap:8px;}/*!sc*/
.klDWQA[data-size="large"] [data-component="buttonContent"] > :not(:last-child){margin-right:8px;}/*!sc*/
.klDWQA[data-size="large"][data-component=IconButton]{width:40px;padding:unset;}/*!sc*/
.klDWQA[data-block="block"]{width:100%;}/*!sc*/
.klDWQA[data-label-wrap="true"]{min-width:-webkit-fit-content;min-width:-moz-fit-content;min-width:fit-content;height:unset;min-height:var(--control-medium-size,2rem);}/*!sc*/
.klDWQA[data-label-wrap="true"] [data-component="buttonContent"]{-webkit-flex:1 1 auto;-ms-flex:1 1 auto;flex:1 1 auto;-webkit-align-self:stretch;-ms-flex-item-align:stretch;align-self:stretch;padding-block:calc(var(--control-medium-paddingBlock,0.375rem) - 2px);}/*!sc*/
.klDWQA[data-label-wrap="true"] [data-component="text"]{white-space:unset;word-break:break-word;}/*!sc*/
.klDWQA[data-label-wrap="true"][data-size="small"]{height:unset;min-height:var(--control-small-size,1.75rem);}/*!sc*/
.klDWQA[data-label-wrap="true"][data-size="small"] [data-component="buttonContent"]{padding-block:calc(var(--control-small-paddingBlock,0.25rem) - 2px);}/*!sc*/
.klDWQA[data-label-wrap="true"][data-size="large"]{height:unset;min-height:var(--control-large-size,2.5rem);padding-inline:var(--control-large-paddingInline-spacious,1rem);}/*!sc*/
.klDWQA[data-label-wrap="true"][data-size="large"] [data-component="buttonContent"]{padding-block:calc(var(--control-large-paddingBlock,0.625rem) - 2px);}/*!sc*/
.klDWQA[data-inactive]:not([disabled]){background-color:var(--button-inactive-bgColor,var(--button-inactive-bgColor-rest,var(--color-btn-inactive-bg,#eaeef2)));border-color:var(--button-inactive-bgColor,var(--button-inactive-bgColor-rest,var(--color-btn-inactive-bg,#eaeef2)));color:var(--button-inactive-fgColor,var(--button-inactive-fgColor-rest,var(--color-btn-inactive-text,#57606a)));}/*!sc*/
.klDWQA[data-inactive]:not([disabled]):focus-visible{box-shadow:none;}/*!sc*/
.klDWQA [data-component="leadingVisual"]{grid-area:leadingVisual;}/*!sc*/
.klDWQA [data-component="text"]{grid-area:text;line-height:calc(20/14);white-space:nowrap;}/*!sc*/
.klDWQA [data-component="trailingVisual"]{grid-area:trailingVisual;}/*!sc*/
.klDWQA [data-component="trailingAction"]{margin-right:-4px;}/*!sc*/
.klDWQA [data-component="buttonContent"]{-webkit-flex:1 0 auto;-ms-flex:1 0 auto;flex:1 0 auto;display:grid;grid-template-areas:"leadingVisual text trailingVisual";grid-template-columns:min-content minmax(0,auto) min-content;-webkit-align-items:center;-webkit-box-align:center;-ms-flex-align:center;align-items:center;-webkit-align-content:center;-ms-flex-line-pack:center;align-content:center;}/*!sc*/
.klDWQA [data-component="buttonContent"] > :not(:last-child){margin-right:8px;}/*!sc*/
.klDWQA [data-component="loadingSpinner"]{grid-area:text;margin-right:0px !important;place-self:center;}/*!sc*/
.klDWQA [data-component="loadingSpinner"] + [data-component="text"]{visibility:hidden;}/*!sc*/
.klDWQA:hover:not([disabled]):not([data-inactive]){background-color:var(--button-default-bgColor-hover,var(--color-btn-hover-bg,#f3f4f6));border-color:var(--button-default-borderColor-hover,var(--button-default-borderColor-hover,var(--color-btn-hover-border,rgba(31,35,40,0.15))));}/*!sc*/
.klDWQA:active:not([disabled]):not([data-inactive]){background-color:var(--button-default-bgColor-active,var(--color-btn-active-bg,hsla(220,14%,93%,1)));border-color:var(--button-default-borderColor-active,var(--button-default-borderColor-active,var(--color-btn-active-border,rgba(31,35,40,0.15))));}/*!sc*/
.klDWQA[aria-expanded=true]{background-color:var(--button-default-bgColor-active,var(--color-btn-active-bg,hsla(220,14%,93%,1)));border-color:var(--button-default-borderColor-active,var(--button-default-borderColor-active,var(--color-btn-active-border,rgba(31,35,40,0.15))));}/*!sc*/
.klDWQA [data-component="leadingVisual"],.klDWQA [data-component="trailingVisual"],.klDWQA [data-component="trailingAction"]{color:var(--button-color,var(--fgColor-muted,var(--color-fg-muted,#656d76)));}/*!sc*/
.klDWQA[data-component="IconButton"][data-no-visuals]{color:var(--fgColor-muted,var(--color-fg-muted,#656d76));}/*!sc*/
.klDWQA[data-no-visuals]{color:var(--fgColor-muted,var(--color-fg-subtle,#6e7781));font-size:14px;font-weight:400;-webkit-flex-shrink:0;-ms-flex-negative:0;flex-shrink:0;border-top-left-radius:0;border-bottom-left-radius:0;}/*!sc*/
.emYRmJ{border-radius:6px;border:1px solid;border-color:transparent;font-family:inherit;font-weight:500;font-size:14px;cursor:pointer;-webkit-appearance:none;-moz-appearance:none;appearance:none;-webkit-user-select:none;-moz-user-select:none;-ms-user-select:none;user-select:none;-webkit-text-decoration:none;text-decoration:none;text-align:center;display:-webkit-box;display:-webkit-flex;display:-ms-flexbox;display:flex;-webkit-align-items:center;-webkit-box-align:center;-ms-flex-align:center;align-items:center;-webkit-box-pack:justify;-webkit-justify-content:space-between;-ms-flex-pack:justify;justify-content:space-between;height:32px;padding:0 12px;gap:8px;min-width:-webkit-max-content;min-width:-moz-max-content;min-width:max-content;-webkit-transition:80ms cubic-bezier(0.65,0,0.35,1);transition:80ms cubic-bezier(0.65,0,0.35,1);-webkit-transition-property:color,fill,background-color,border-color;transition-property:color,fill,background-color,border-color;color:var(--button-default-fgColor-rest,var(--color-btn-text,#24292f));background-color:transparent;box-shadow:none;}/*!sc*/
.emYRmJ:focus:not(:disabled){box-shadow:none;outline:2px solid var(--fgColor-accent,var(--color-accent-fg,#0969da));outline-offset:-2px;}/*!sc*/
.emYRmJ:focus:not(:disabled):not(:focus-visible){outline:solid 1px transparent;}/*!sc*/
.emYRmJ:focus-visible:not(:disabled){box-shadow:none;outline:2px solid var(--fgColor-accent,var(--color-accent-fg,#0969da));outline-offset:-2px;}/*!sc*/
.emYRmJ[href]{display:-webkit-inline-box;display:-webkit-inline-flex;display:-ms-inline-flexbox;display:inline-flex;}/*!sc*/
.emYRmJ[href]:hover{-webkit-text-decoration:none;text-decoration:none;}/*!sc*/
.emYRmJ:hover{-webkit-transition-duration:80ms;transition-duration:80ms;}/*!sc*/
.emYRmJ:active{-webkit-transition:none;transition:none;}/*!sc*/
.emYRmJ[data-inactive]{cursor:auto;}/*!sc*/
.emYRmJ:disabled{cursor:not-allowed;box-shadow:none;color:var(--fgColor-disabled,var(--color-primer-fg-disabled,#8c959f));}/*!sc*/
.emYRmJ:disabled [data-component=ButtonCounter],.emYRmJ:disabled [data-component="leadingVisual"],.emYRmJ:disabled [data-component="trailingAction"]{color:inherit;}/*!sc*/
@media (forced-colors:active){.emYRmJ:focus{outline:solid 1px transparent;}}/*!sc*/
.emYRmJ [data-component=ButtonCounter]{font-size:12px;}/*!sc*/
.emYRmJ[data-component=IconButton]{display:inline-grid;padding:unset;place-content:center;width:32px;min-width:unset;}/*!sc*/
.emYRmJ[data-size="small"]{padding:0 8px;height:28px;gap:4px;font-size:12px;}/*!sc*/
.emYRmJ[data-size="small"] [data-component="text"]{line-height:calc(20 / 12);}/*!sc*/
.emYRmJ[data-size="small"] [data-component=ButtonCounter]{font-size:12px;}/*!sc*/
.emYRmJ[data-size="small"] [data-component="buttonContent"] > :not(:last-child){margin-right:4px;}/*!sc*/
.emYRmJ[data-size="small"][data-component=IconButton]{width:28px;padding:unset;}/*!sc*/
.emYRmJ[data-size="large"]{padding:0 16px;height:40px;gap:8px;}/*!sc*/
.emYRmJ[data-size="large"] [data-component="buttonContent"] > :not(:last-child){margin-right:8px;}/*!sc*/
.emYRmJ[data-size="large"][data-component=IconButton]{width:40px;padding:unset;}/*!sc*/
.emYRmJ[data-block="block"]{width:100%;}/*!sc*/
.emYRmJ[data-label-wrap="true"]{min-width:-webkit-fit-content;min-width:-moz-fit-content;min-width:fit-content;height:unset;min-height:var(--control-medium-size,2rem);}/*!sc*/
.emYRmJ[data-label-wrap="true"] [data-component="buttonContent"]{-webkit-flex:1 1 auto;-ms-flex:1 1 auto;flex:1 1 auto;-webkit-align-self:stretch;-ms-flex-item-align:stretch;align-self:stretch;padding-block:calc(var(--control-medium-paddingBlock,0.375rem) - 2px);}/*!sc*/
.emYRmJ[data-label-wrap="true"] [data-component="text"]{white-space:unset;word-break:break-word;}/*!sc*/
.emYRmJ[data-label-wrap="true"][data-size="small"]{height:unset;min-height:var(--control-small-size,1.75rem);}/*!sc*/
.emYRmJ[data-label-wrap="true"][data-size="small"] [data-component="buttonContent"]{padding-block:calc(var(--control-small-paddingBlock,0.25rem) - 2px);}/*!sc*/
.emYRmJ[data-label-wrap="true"][data-size="large"]{height:unset;min-height:var(--control-large-size,2.5rem);padding-inline:var(--control-large-paddingInline-spacious,1rem);}/*!sc*/
.emYRmJ[data-label-wrap="true"][data-size="large"] [data-component="buttonContent"]{padding-block:calc(var(--control-large-paddingBlock,0.625rem) - 2px);}/*!sc*/
.emYRmJ[data-inactive]:not([disabled]){background-color:var(--button-inactive-bgColor,var(--button-inactive-bgColor-rest,var(--color-btn-inactive-bg,#eaeef2)));border-color:var(--button-inactive-bgColor,var(--button-inactive-bgColor-rest,var(--color-btn-inactive-bg,#eaeef2)));color:var(--button-inactive-fgColor,var(--button-inactive-fgColor-rest,var(--color-btn-inactive-text,#57606a)));}/*!sc*/
.emYRmJ[data-inactive]:not([disabled]):focus-visible{box-shadow:none;}/*!sc*/
.emYRmJ [data-component="leadingVisual"]{grid-area:leadingVisual;color:var(--fgColor-muted,var(--color-fg-muted,#656d76));}/*!sc*/
.emYRmJ [data-component="text"]{grid-area:text;line-height:calc(20/14);white-space:nowrap;}/*!sc*/
.emYRmJ [data-component="trailingVisual"]{grid-area:trailingVisual;}/*!sc*/
.emYRmJ [data-component="trailingAction"]{margin-right:-4px;color:var(--fgColor-muted,var(--color-fg-muted,#656d76));}/*!sc*/
.emYRmJ [data-component="buttonContent"]{-webkit-flex:1 0 auto;-ms-flex:1 0 auto;flex:1 0 auto;display:grid;grid-template-areas:"leadingVisual text trailingVisual";grid-template-columns:min-content minmax(0,auto) min-content;-webkit-align-items:center;-webkit-box-align:center;-ms-flex-align:center;align-items:center;-webkit-align-content:center;-ms-flex-line-pack:center;align-content:center;}/*!sc*/
.emYRmJ [data-component="buttonContent"] > :not(:last-child){margin-right:8px;}/*!sc*/
.emYRmJ [data-component="loadingSpinner"]{grid-area:text;margin-right:0px !important;place-self:center;}/*!sc*/
.emYRmJ [data-component="loadingSpinner"] + [data-component="text"]{visibility:hidden;}/*!sc*/
.emYRmJ:hover:not([disabled]){background-color:var(--control-transparent-bgColor-hover,var(--color-action-list-item-default-hover-bg,rgba(208,215,222,0.32)));}/*!sc*/
.emYRmJ:active:not([disabled]){background-color:var(--control-transparent-bgColor-active,var(--color-action-list-item-default-active-bg,rgba(208,215,222,0.48)));}/*!sc*/
.emYRmJ[aria-expanded=true]{background-color:var(--control-transparent-bgColor-selected,var(--color-action-list-item-default-selected-bg,rgba(208,215,222,0.24)));}/*!sc*/
.emYRmJ[data-component="IconButton"][data-no-visuals]{color:var(--fgColor-muted,var(--color-fg-muted,#656d76));}/*!sc*/
.emYRmJ[data-no-visuals]{color:var(--fgColor-accent,var(--color-accent-fg,#0969da));}/*!sc*/
.emYRmJ:has([data-component="ButtonCounter"]){color:var(--button-default-fgColor-rest,var(--color-btn-text,#24292f));}/*!sc*/
.emYRmJ:disabled[data-no-visuals]{color:var(--fgColor-disabled,var(--color-primer-fg-disabled,#8c959f));}/*!sc*/
.emYRmJ:disabled[data-no-visuals] [data-component=ButtonCounter]{color:inherit;}/*!sc*/
.jFcVkf{border-radius:6px;border:1px solid;border-color:var(--button-default-borderColor-rest,var(--button-default-borderColor-rest,var(--color-btn-border,rgba(31,35,40,0.15))));font-family:inherit;font-weight:500;font-size:14px;cursor:pointer;-webkit-appearance:none;-moz-appearance:none;appearance:none;-webkit-user-select:none;-moz-user-select:none;-ms-user-select:none;user-select:none;-webkit-text-decoration:none;text-decoration:none;text-align:center;display:-webkit-box;display:-webkit-flex;display:-ms-flexbox;display:flex;-webkit-align-items:center;-webkit-box-align:center;-ms-flex-align:center;align-items:center;-webkit-box-pack:justify;-webkit-justify-content:space-between;-ms-flex-pack:justify;justify-content:space-between;height:32px;padding:0 12px;gap:8px;min-width:-webkit-max-content;min-width:-moz-max-content;min-width:max-content;-webkit-transition:80ms cubic-bezier(0.65,0,0.35,1);transition:80ms cubic-bezier(0.65,0,0.35,1);-webkit-transition-property:color,fill,background-color,border-color;transition-property:color,fill,background-color,border-color;color:var(--button-default-fgColor-rest,var(--color-btn-text,#24292f));background-color:var(--button-default-bgColor-rest,var(--color-btn-bg,#f6f8fa));box-shadow:var(--button-default-shadow-resting,var(--color-btn-shadow,0 1px 0 rgba(31,35,40,0.04))),var(--button-default-shadow-inset,var(--color-btn-inset-shadow,inset 0 1px 0 rgba(255,255,255,0.25)));}/*!sc*/
.jFcVkf:focus:not(:disabled){box-shadow:none;outline:2px solid var(--fgColor-accent,var(--color-accent-fg,#0969da));outline-offset:-2px;}/*!sc*/
.jFcVkf:focus:not(:disabled):not(:focus-visible){outline:solid 1px transparent;}/*!sc*/
.jFcVkf:focus-visible:not(:disabled){box-shadow:none;outline:2px solid var(--fgColor-accent,var(--color-accent-fg,#0969da));outline-offset:-2px;}/*!sc*/
.jFcVkf[href]{display:-webkit-inline-box;display:-webkit-inline-flex;display:-ms-inline-flexbox;display:inline-flex;}/*!sc*/
.jFcVkf[href]:hover{-webkit-text-decoration:none;text-decoration:none;}/*!sc*/
.jFcVkf:hover{-webkit-transition-duration:80ms;transition-duration:80ms;}/*!sc*/
.jFcVkf:active{-webkit-transition:none;transition:none;}/*!sc*/
.jFcVkf[data-inactive]{cursor:auto;}/*!sc*/
.jFcVkf:disabled{cursor:not-allowed;box-shadow:none;color:var(--fgColor-disabled,var(--color-primer-fg-disabled,#8c959f));border-color:var(--button-default-borderColor-disabled,var(--button-default-borderColor-rest,var(--color-btn-border,rgba(31,35,40,0.15))));background-color:var(--button-default-bgColor-disabled,var(--control-bgColor-disabled,var(--color-input-disabled-bg,rgba(175,184,193,0.2))));}/*!sc*/
.jFcVkf:disabled [data-component=ButtonCounter]{color:inherit;}/*!sc*/
@media (forced-colors:active){.jFcVkf:focus{outline:solid 1px transparent;}}/*!sc*/
.jFcVkf [data-component=ButtonCounter]{font-size:12px;background-color:var(--buttonCounter-default-bgColor-rest,var(--color-btn-counter-bg,rgba(31,35,40,0.08)));}/*!sc*/
.jFcVkf[data-component=IconButton]{display:inline-grid;padding:unset;place-content:center;width:32px;min-width:unset;}/*!sc*/
.jFcVkf[data-size="small"]{padding:0 8px;height:28px;gap:4px;font-size:12px;}/*!sc*/
.jFcVkf[data-size="small"] [data-component="text"]{line-height:calc(20 / 12);}/*!sc*/
.jFcVkf[data-size="small"] [data-component=ButtonCounter]{font-size:12px;}/*!sc*/
.jFcVkf[data-size="small"] [data-component="buttonContent"] > :not(:last-child){margin-right:4px;}/*!sc*/
.jFcVkf[data-size="small"][data-component=IconButton]{width:28px;padding:unset;}/*!sc*/
.jFcVkf[data-size="large"]{padding:0 16px;height:40px;gap:8px;}/*!sc*/
.jFcVkf[data-size="large"] [data-component="buttonContent"] > :not(:last-child){margin-right:8px;}/*!sc*/
.jFcVkf[data-size="large"][data-component=IconButton]{width:40px;padding:unset;}/*!sc*/
.jFcVkf[data-block="block"]{width:100%;}/*!sc*/
.jFcVkf[data-label-wrap="true"]{min-width:-webkit-fit-content;min-width:-moz-fit-content;min-width:fit-content;height:unset;min-height:var(--control-medium-size,2rem);}/*!sc*/
.jFcVkf[data-label-wrap="true"] [data-component="buttonContent"]{-webkit-flex:1 1 auto;-ms-flex:1 1 auto;flex:1 1 auto;-webkit-align-self:stretch;-ms-flex-item-align:stretch;align-self:stretch;padding-block:calc(var(--control-medium-paddingBlock,0.375rem) - 2px);}/*!sc*/
.jFcVkf[data-label-wrap="true"] [data-component="text"]{white-space:unset;word-break:break-word;}/*!sc*/
.jFcVkf[data-label-wrap="true"][data-size="small"]{height:unset;min-height:var(--control-small-size,1.75rem);}/*!sc*/
.jFcVkf[data-label-wrap="true"][data-size="small"] [data-component="buttonContent"]{padding-block:calc(var(--control-small-paddingBlock,0.25rem) - 2px);}/*!sc*/
.jFcVkf[data-label-wrap="true"][data-size="large"]{height:unset;min-height:var(--control-large-size,2.5rem);padding-inline:var(--control-large-paddingInline-spacious,1rem);}/*!sc*/
.jFcVkf[data-label-wrap="true"][data-size="large"] [data-component="buttonContent"]{padding-block:calc(var(--control-large-paddingBlock,0.625rem) - 2px);}/*!sc*/
.jFcVkf[data-inactive]:not([disabled]){background-color:var(--button-inactive-bgColor,var(--button-inactive-bgColor-rest,var(--color-btn-inactive-bg,#eaeef2)));border-color:var(--button-inactive-bgColor,var(--button-inactive-bgColor-rest,var(--color-btn-inactive-bg,#eaeef2)));color:var(--button-inactive-fgColor,var(--button-inactive-fgColor-rest,var(--color-btn-inactive-text,#57606a)));}/*!sc*/
.jFcVkf[data-inactive]:not([disabled]):focus-visible{box-shadow:none;}/*!sc*/
.jFcVkf [data-component="leadingVisual"]{grid-area:leadingVisual;}/*!sc*/
.jFcVkf [data-component="text"]{grid-area:text;line-height:calc(20/14);white-space:nowrap;}/*!sc*/
.jFcVkf [data-component="trailingVisual"]{grid-area:trailingVisual;}/*!sc*/
.jFcVkf [data-component="trailingAction"]{margin-right:-4px;}/*!sc*/
.jFcVkf [data-component="buttonContent"]{-webkit-flex:1 0 auto;-ms-flex:1 0 auto;flex:1 0 auto;display:grid;grid-template-areas:"leadingVisual text trailingVisual";grid-template-columns:min-content minmax(0,auto) min-content;-webkit-align-items:center;-webkit-box-align:center;-ms-flex-align:center;align-items:center;-webkit-align-content:center;-ms-flex-line-pack:center;align-content:center;}/*!sc*/
.jFcVkf [data-component="buttonContent"] > :not(:last-child){margin-right:8px;}/*!sc*/
.jFcVkf [data-component="loadingSpinner"]{grid-area:text;margin-right:0px !important;place-self:center;}/*!sc*/
.jFcVkf [data-component="loadingSpinner"] + [data-component="text"]{visibility:hidden;}/*!sc*/
.jFcVkf:hover:not([disabled]):not([data-inactive]){background-color:var(--button-default-bgColor-hover,var(--color-btn-hover-bg,#f3f4f6));border-color:var(--button-default-borderColor-hover,var(--button-default-borderColor-hover,var(--color-btn-hover-border,rgba(31,35,40,0.15))));}/*!sc*/
.jFcVkf:active:not([disabled]):not([data-inactive]){background-color:var(--button-default-bgColor-active,var(--color-btn-active-bg,hsla(220,14%,93%,1)));border-color:var(--button-default-borderColor-active,var(--button-default-borderColor-active,var(--color-btn-active-border,rgba(31,35,40,0.15))));}/*!sc*/
.jFcVkf[aria-expanded=true]{background-color:var(--button-default-bgColor-active,var(--color-btn-active-bg,hsla(220,14%,93%,1)));border-color:var(--button-default-borderColor-active,var(--button-default-borderColor-active,var(--color-btn-active-border,rgba(31,35,40,0.15))));}/*!sc*/
.jFcVkf [data-component="leadingVisual"],.jFcVkf [data-component="trailingVisual"],.jFcVkf [data-component="trailingAction"]{color:var(--button-color,var(--fgColor-muted,var(--color-fg-muted,#656d76)));}/*!sc*/
.jFcVkf[data-component="IconButton"][data-no-visuals]{color:var(--fgColor-muted,var(--color-fg-muted,#656d76));}/*!sc*/
.jFcVkf[data-no-visuals]{border-top-left-radius:0;border-bottom-left-radius:0;display:none;}/*!sc*/
.kuXPuQ{border-radius:6px;border:1px solid;border-color:var(--button-default-borderColor-rest,var(--button-default-borderColor-rest,var(--color-btn-border,rgba(31,35,40,0.15))));font-family:inherit;font-weight:500;font-size:14px;cursor:pointer;-webkit-appearance:none;-moz-appearance:none;appearance:none;-webkit-user-select:none;-moz-user-select:none;-ms-user-select:none;user-select:none;-webkit-text-decoration:none;text-decoration:none;text-align:center;display:-webkit-box;display:-webkit-flex;display:-ms-flexbox;display:flex;-webkit-align-items:center;-webkit-box-align:center;-ms-flex-align:center;align-items:center;-webkit-box-pack:justify;-webkit-justify-content:space-between;-ms-flex-pack:justify;justify-content:space-between;height:32px;padding:0 12px;gap:8px;min-width:-webkit-max-content;min-width:-moz-max-content;min-width:max-content;-webkit-transition:80ms cubic-bezier(0.65,0,0.35,1);transition:80ms cubic-bezier(0.65,0,0.35,1);-webkit-transition-property:color,fill,background-color,border-color;transition-property:color,fill,background-color,border-color;color:var(--button-default-fgColor-rest,var(--color-btn-text,#24292f));background-color:var(--button-default-bgColor-rest,var(--color-btn-bg,#f6f8fa));box-shadow:var(--button-default-shadow-resting,var(--color-btn-shadow,0 1px 0 rgba(31,35,40,0.04))),var(--button-default-shadow-inset,var(--color-btn-inset-shadow,inset 0 1px 0 rgba(255,255,255,0.25)));}/*!sc*/
.kuXPuQ:focus:not(:disabled){box-shadow:none;outline:2px solid var(--fgColor-accent,var(--color-accent-fg,#0969da));outline-offset:-2px;}/*!sc*/
.kuXPuQ:focus:not(:disabled):not(:focus-visible){outline:solid 1px transparent;}/*!sc*/
.kuXPuQ:focus-visible:not(:disabled){box-shadow:none;outline:2px solid var(--fgColor-accent,var(--color-accent-fg,#0969da));outline-offset:-2px;}/*!sc*/
.kuXPuQ[href]{display:-webkit-inline-box;display:-webkit-inline-flex;display:-ms-inline-flexbox;display:inline-flex;}/*!sc*/
.kuXPuQ[href]:hover{-webkit-text-decoration:none;text-decoration:none;}/*!sc*/
.kuXPuQ:hover{-webkit-transition-duration:80ms;transition-duration:80ms;}/*!sc*/
.kuXPuQ:active{-webkit-transition:none;transition:none;}/*!sc*/
.kuXPuQ[data-inactive]{cursor:auto;}/*!sc*/
.kuXPuQ:disabled{cursor:not-allowed;box-shadow:none;color:var(--fgColor-disabled,var(--color-primer-fg-disabled,#8c959f));border-color:var(--button-default-borderColor-disabled,var(--button-default-borderColor-rest,var(--color-btn-border,rgba(31,35,40,0.15))));background-color:var(--button-default-bgColor-disabled,var(--control-bgColor-disabled,var(--color-input-disabled-bg,rgba(175,184,193,0.2))));}/*!sc*/
.kuXPuQ:disabled [data-component=ButtonCounter]{color:inherit;}/*!sc*/
@media (forced-colors:active){.kuXPuQ:focus{outline:solid 1px transparent;}}/*!sc*/
.kuXPuQ [data-component=ButtonCounter]{font-size:12px;background-color:var(--buttonCounter-default-bgColor-rest,var(--color-btn-counter-bg,rgba(31,35,40,0.08)));}/*!sc*/
.kuXPuQ[data-component=IconButton]{display:inline-grid;padding:unset;place-content:center;width:32px;min-width:unset;}/*!sc*/
.kuXPuQ[data-size="small"]{padding:0 8px;height:28px;gap:4px;font-size:12px;}/*!sc*/
.kuXPuQ[data-size="small"] [data-component="text"]{line-height:calc(20 / 12);}/*!sc*/
.kuXPuQ[data-size="small"] [data-component=ButtonCounter]{font-size:12px;}/*!sc*/
.kuXPuQ[data-size="small"] [data-component="buttonContent"] > :not(:last-child){margin-right:4px;}/*!sc*/
.kuXPuQ[data-size="small"][data-component=IconButton]{width:28px;padding:unset;}/*!sc*/
.kuXPuQ[data-size="large"]{padding:0 16px;height:40px;gap:8px;}/*!sc*/
.kuXPuQ[data-size="large"] [data-component="buttonContent"] > :not(:last-child){margin-right:8px;}/*!sc*/
.kuXPuQ[data-size="large"][data-component=IconButton]{width:40px;padding:unset;}/*!sc*/
.kuXPuQ[data-block="block"]{width:100%;}/*!sc*/
.kuXPuQ[data-label-wrap="true"]{min-width:-webkit-fit-content;min-width:-moz-fit-content;min-width:fit-content;height:unset;min-height:var(--control-medium-size,2rem);}/*!sc*/
.kuXPuQ[data-label-wrap="true"] [data-component="buttonContent"]{-webkit-flex:1 1 auto;-ms-flex:1 1 auto;flex:1 1 auto;-webkit-align-self:stretch;-ms-flex-item-align:stretch;align-self:stretch;padding-block:calc(var(--control-medium-paddingBlock,0.375rem) - 2px);}/*!sc*/
.kuXPuQ[data-label-wrap="true"] [data-component="text"]{white-space:unset;word-break:break-word;}/*!sc*/
.kuXPuQ[data-label-wrap="true"][data-size="small"]{height:unset;min-height:var(--control-small-size,1.75rem);}/*!sc*/
.kuXPuQ[data-label-wrap="true"][data-size="small"] [data-component="buttonContent"]{padding-block:calc(var(--control-small-paddingBlock,0.25rem) - 2px);}/*!sc*/
.kuXPuQ[data-label-wrap="true"][data-size="large"]{height:unset;min-height:var(--control-large-size,2.5rem);padding-inline:var(--control-large-paddingInline-spacious,1rem);}/*!sc*/
.kuXPuQ[data-label-wrap="true"][data-size="large"] [data-component="buttonContent"]{padding-block:calc(var(--control-large-paddingBlock,0.625rem) - 2px);}/*!sc*/
.kuXPuQ[data-inactive]:not([disabled]){background-color:var(--button-inactive-bgColor,var(--button-inactive-bgColor-rest,var(--color-btn-inactive-bg,#eaeef2)));border-color:var(--button-inactive-bgColor,var(--button-inactive-bgColor-rest,var(--color-btn-inactive-bg,#eaeef2)));color:var(--button-inactive-fgColor,var(--button-inactive-fgColor-rest,var(--color-btn-inactive-text,#57606a)));}/*!sc*/
.kuXPuQ[data-inactive]:not([disabled]):focus-visible{box-shadow:none;}/*!sc*/
.kuXPuQ [data-component="leadingVisual"]{grid-area:leadingVisual;}/*!sc*/
.kuXPuQ [data-component="text"]{grid-area:text;line-height:calc(20/14);white-space:nowrap;}/*!sc*/
.kuXPuQ [data-component="trailingVisual"]{grid-area:trailingVisual;}/*!sc*/
.kuXPuQ [data-component="trailingAction"]{margin-right:-4px;}/*!sc*/
.kuXPuQ [data-component="buttonContent"]{-webkit-flex:1 0 auto;-ms-flex:1 0 auto;flex:1 0 auto;display:grid;grid-template-areas:"leadingVisual text trailingVisual";grid-template-columns:min-content minmax(0,auto) min-content;-webkit-align-items:center;-webkit-box-align:center;-ms-flex-align:center;align-items:center;-webkit-align-content:center;-ms-flex-line-pack:center;align-content:center;}/*!sc*/
.kuXPuQ [data-component="buttonContent"] > :not(:last-child){margin-right:8px;}/*!sc*/
.kuXPuQ [data-component="loadingSpinner"]{grid-area:text;margin-right:0px !important;place-self:center;}/*!sc*/
.kuXPuQ [data-component="loadingSpinner"] + [data-component="text"]{visibility:hidden;}/*!sc*/
.kuXPuQ:hover:not([disabled]):not([data-inactive]){background-color:var(--button-default-bgColor-hover,var(--color-btn-hover-bg,#f3f4f6));border-color:var(--button-default-borderColor-hover,var(--button-default-borderColor-hover,var(--color-btn-hover-border,rgba(31,35,40,0.15))));}/*!sc*/
.kuXPuQ:active:not([disabled]):not([data-inactive]){background-color:var(--button-default-bgColor-active,var(--color-btn-active-bg,hsla(220,14%,93%,1)));border-color:var(--button-default-borderColor-active,var(--button-default-borderColor-active,var(--color-btn-active-border,rgba(31,35,40,0.15))));}/*!sc*/
.kuXPuQ[aria-expanded=true]{background-color:var(--button-default-bgColor-active,var(--color-btn-active-bg,hsla(220,14%,93%,1)));border-color:var(--button-default-borderColor-active,var(--button-default-borderColor-active,var(--color-btn-active-border,rgba(31,35,40,0.15))));}/*!sc*/
.kuXPuQ [data-component="leadingVisual"],.kuXPuQ [data-component="trailingVisual"],.kuXPuQ [data-component="trailingAction"]{color:var(--button-color,var(--fgColor-muted,var(--color-fg-muted,#656d76)));}/*!sc*/
.kuXPuQ[data-component="IconButton"][data-no-visuals]{color:var(--fgColor-muted,var(--color-fg-muted,#656d76));}/*!sc*/
.kuXPuQ[data-no-visuals]{color:var(--fgColor-muted,var(--color-fg-muted,#656d76));}/*!sc*/
.jKgwhU{border-radius:6px;border:1px solid;border-color:transparent;font-family:inherit;font-weight:500;font-size:14px;cursor:pointer;-webkit-appearance:none;-moz-appearance:none;appearance:none;-webkit-user-select:none;-moz-user-select:none;-ms-user-select:none;user-select:none;-webkit-text-decoration:none;text-decoration:none;text-align:center;display:-webkit-box;display:-webkit-flex;display:-ms-flexbox;display:flex;-webkit-align-items:center;-webkit-box-align:center;-ms-flex-align:center;align-items:center;-webkit-box-pack:justify;-webkit-justify-content:space-between;-ms-flex-pack:justify;justify-content:space-between;height:32px;padding:0 12px;gap:8px;min-width:-webkit-max-content;min-width:-moz-max-content;min-width:max-content;-webkit-transition:80ms cubic-bezier(0.65,0,0.35,1);transition:80ms cubic-bezier(0.65,0,0.35,1);-webkit-transition-property:color,fill,background-color,border-color;transition-property:color,fill,background-color,border-color;color:var(--button-default-fgColor-rest,var(--color-btn-text,#24292f));background-color:transparent;box-shadow:none;}/*!sc*/
.jKgwhU:focus:not(:disabled){box-shadow:none;outline:2px solid var(--fgColor-accent,var(--color-accent-fg,#0969da));outline-offset:-2px;}/*!sc*/
.jKgwhU:focus:not(:disabled):not(:focus-visible){outline:solid 1px transparent;}/*!sc*/
.jKgwhU:focus-visible:not(:disabled){box-shadow:none;outline:2px solid var(--fgColor-accent,var(--color-accent-fg,#0969da));outline-offset:-2px;}/*!sc*/
.jKgwhU[href]{display:-webkit-inline-box;display:-webkit-inline-flex;display:-ms-inline-flexbox;display:inline-flex;}/*!sc*/
.jKgwhU[href]:hover{-webkit-text-decoration:none;text-decoration:none;}/*!sc*/
.jKgwhU:hover{-webkit-transition-duration:80ms;transition-duration:80ms;}/*!sc*/
.jKgwhU:active{-webkit-transition:none;transition:none;}/*!sc*/
.jKgwhU[data-inactive]{cursor:auto;}/*!sc*/
.jKgwhU:disabled{cursor:not-allowed;box-shadow:none;color:var(--fgColor-disabled,var(--color-primer-fg-disabled,#8c959f));}/*!sc*/
.jKgwhU:disabled [data-component=ButtonCounter],.jKgwhU:disabled [data-component="leadingVisual"],.jKgwhU:disabled [data-component="trailingAction"]{color:inherit;}/*!sc*/
@media (forced-colors:active){.jKgwhU:focus{outline:solid 1px transparent;}}/*!sc*/
.jKgwhU [data-component=ButtonCounter]{font-size:12px;}/*!sc*/
.jKgwhU[data-component=IconButton]{display:inline-grid;padding:unset;place-content:center;width:32px;min-width:unset;}/*!sc*/
.jKgwhU[data-size="small"]{padding:0 8px;height:28px;gap:4px;font-size:12px;color:var(--fgColor-default,var(--color-fg-default,#1F2328));display:none;}/*!sc*/
.jKgwhU[data-size="small"] [data-component="text"]{line-height:calc(20 / 12);}/*!sc*/
.jKgwhU[data-size="small"] [data-component=ButtonCounter]{font-size:12px;}/*!sc*/
.jKgwhU[data-size="small"] [data-component="buttonContent"] > :not(:last-child){margin-right:4px;}/*!sc*/
.jKgwhU[data-size="small"][data-component=IconButton]{width:28px;padding:unset;}/*!sc*/
@media screen and (min-width:544px){.jKgwhU[data-size="small"]{display:none;}}/*!sc*/
@media screen and (min-width:768px){.jKgwhU[data-size="small"]{display:none;}}/*!sc*/
@media screen and (min-width:1012px){.jKgwhU[data-size="small"]{display:none;}}/*!sc*/
@media screen and (min-width:1280px){.jKgwhU[data-size="small"]{display:block;}}/*!sc*/
.jKgwhU[data-size="large"]{padding:0 16px;height:40px;gap:8px;}/*!sc*/
.jKgwhU[data-size="large"] [data-component="buttonContent"] > :not(:last-child){margin-right:8px;}/*!sc*/
.jKgwhU[data-size="large"][data-component=IconButton]{width:40px;padding:unset;}/*!sc*/
.jKgwhU[data-block="block"]{width:100%;}/*!sc*/
.jKgwhU[data-label-wrap="true"]{min-width:-webkit-fit-content;min-width:-moz-fit-content;min-width:fit-content;height:unset;min-height:var(--control-medium-size,2rem);}/*!sc*/
.jKgwhU[data-label-wrap="true"] [data-component="buttonContent"]{-webkit-flex:1 1 auto;-ms-flex:1 1 auto;flex:1 1 auto;-webkit-align-self:stretch;-ms-flex-item-align:stretch;align-self:stretch;padding-block:calc(var(--control-medium-paddingBlock,0.375rem) - 2px);}/*!sc*/
.jKgwhU[data-label-wrap="true"] [data-component="text"]{white-space:unset;word-break:break-word;}/*!sc*/
.jKgwhU[data-label-wrap="true"][data-size="small"]{height:unset;min-height:var(--control-small-size,1.75rem);}/*!sc*/
.jKgwhU[data-label-wrap="true"][data-size="small"] [data-component="buttonContent"]{padding-block:calc(var(--control-small-paddingBlock,0.25rem) - 2px);}/*!sc*/
.jKgwhU[data-label-wrap="true"][data-size="large"]{height:unset;min-height:var(--control-large-size,2.5rem);padding-inline:var(--control-large-paddingInline-spacious,1rem);}/*!sc*/
.jKgwhU[data-label-wrap="true"][data-size="large"] [data-component="buttonContent"]{padding-block:calc(var(--control-large-paddingBlock,0.625rem) - 2px);}/*!sc*/
.jKgwhU[data-inactive]:not([disabled]){background-color:var(--button-inactive-bgColor,var(--button-inactive-bgColor-rest,var(--color-btn-inactive-bg,#eaeef2)));border-color:var(--button-inactive-bgColor,var(--button-inactive-bgColor-rest,var(--color-btn-inactive-bg,#eaeef2)));color:var(--button-inactive-fgColor,var(--button-inactive-fgColor-rest,var(--color-btn-inactive-text,#57606a)));}/*!sc*/
.jKgwhU[data-inactive]:not([disabled]):focus-visible{box-shadow:none;}/*!sc*/
.jKgwhU [data-component="leadingVisual"]{grid-area:leadingVisual;color:var(--fgColor-muted,var(--color-fg-muted,#656d76));}/*!sc*/
.jKgwhU [data-component="text"]{grid-area:text;line-height:calc(20/14);white-space:nowrap;}/*!sc*/
.jKgwhU [data-component="trailingVisual"]{grid-area:trailingVisual;}/*!sc*/
.jKgwhU [data-component="trailingAction"]{margin-right:-4px;color:var(--fgColor-muted,var(--color-fg-muted,#656d76));}/*!sc*/
.jKgwhU [data-component="buttonContent"]{-webkit-flex:1 0 auto;-ms-flex:1 0 auto;flex:1 0 auto;display:grid;grid-template-areas:"leadingVisual text trailingVisual";grid-template-columns:min-content minmax(0,auto) min-content;-webkit-align-items:center;-webkit-box-align:center;-ms-flex-align:center;align-items:center;-webkit-align-content:center;-ms-flex-line-pack:center;align-content:center;}/*!sc*/
.jKgwhU [data-component="buttonContent"] > :not(:last-child){margin-right:8px;}/*!sc*/
.jKgwhU [data-component="loadingSpinner"]{grid-area:text;margin-right:0px !important;place-self:center;}/*!sc*/
.jKgwhU [data-component="loadingSpinner"] + [data-component="text"]{visibility:hidden;}/*!sc*/
.jKgwhU:hover:not([disabled]){background-color:var(--control-transparent-bgColor-hover,var(--color-action-list-item-default-hover-bg,rgba(208,215,222,0.32)));}/*!sc*/
.jKgwhU:active:not([disabled]){background-color:var(--control-transparent-bgColor-active,var(--color-action-list-item-default-active-bg,rgba(208,215,222,0.48)));}/*!sc*/
.jKgwhU[aria-expanded=true]{background-color:var(--control-transparent-bgColor-selected,var(--color-action-list-item-default-selected-bg,rgba(208,215,222,0.24)));}/*!sc*/
.jKgwhU[data-component="IconButton"][data-no-visuals]{color:var(--fgColor-muted,var(--color-fg-muted,#656d76));}/*!sc*/
.jKgwhU[data-no-visuals]{color:var(--fgColor-accent,var(--color-accent-fg,#0969da));}/*!sc*/
.jKgwhU:has([data-component="ButtonCounter"]){color:var(--button-default-fgColor-rest,var(--color-btn-text,#24292f));}/*!sc*/
.jKgwhU:disabled[data-no-visuals]{color:var(--fgColor-disabled,var(--color-primer-fg-disabled,#8c959f));}/*!sc*/
.jKgwhU:disabled[data-no-visuals] [data-component=ButtonCounter]{color:inherit;}/*!sc*/
.bDTxaK{border-radius:6px;border:1px solid;border-color:transparent;font-family:inherit;font-weight:500;font-size:14px;cursor:pointer;-webkit-appearance:none;-moz-appearance:none;appearance:none;-webkit-user-select:none;-moz-user-select:none;-ms-user-select:none;user-select:none;-webkit-text-decoration:none;text-decoration:none;text-align:center;display:-webkit-box;display:-webkit-flex;display:-ms-flexbox;display:flex;-webkit-align-items:center;-webkit-box-align:center;-ms-flex-align:center;align-items:center;-webkit-box-pack:justify;-webkit-justify-content:space-between;-ms-flex-pack:justify;justify-content:space-between;height:32px;padding:0 12px;gap:8px;min-width:-webkit-max-content;min-width:-moz-max-content;min-width:max-content;-webkit-transition:80ms cubic-bezier(0.65,0,0.35,1);transition:80ms cubic-bezier(0.65,0,0.35,1);-webkit-transition-property:color,fill,background-color,border-color;transition-property:color,fill,background-color,border-color;color:var(--button-default-fgColor-rest,var(--color-btn-text,#24292f));background-color:transparent;box-shadow:none;}/*!sc*/
.bDTxaK:focus:not(:disabled){box-shadow:none;outline:2px solid var(--fgColor-accent,var(--color-accent-fg,#0969da));outline-offset:-2px;}/*!sc*/
.bDTxaK:focus:not(:disabled):not(:focus-visible){outline:solid 1px transparent;}/*!sc*/
.bDTxaK:focus-visible:not(:disabled){box-shadow:none;outline:2px solid var(--fgColor-accent,var(--color-accent-fg,#0969da));outline-offset:-2px;}/*!sc*/
.bDTxaK[href]{display:-webkit-inline-box;display:-webkit-inline-flex;display:-ms-inline-flexbox;display:inline-flex;}/*!sc*/
.bDTxaK[href]:hover{-webkit-text-decoration:none;text-decoration:none;}/*!sc*/
.bDTxaK:hover{-webkit-transition-duration:80ms;transition-duration:80ms;}/*!sc*/
.bDTxaK:active{-webkit-transition:none;transition:none;}/*!sc*/
.bDTxaK[data-inactive]{cursor:auto;}/*!sc*/
.bDTxaK:disabled{cursor:not-allowed;box-shadow:none;color:var(--fgColor-disabled,var(--color-primer-fg-disabled,#8c959f));}/*!sc*/
.bDTxaK:disabled [data-component=ButtonCounter],.bDTxaK:disabled [data-component="leadingVisual"],.bDTxaK:disabled [data-component="trailingAction"]{color:inherit;}/*!sc*/
@media (forced-colors:active){.bDTxaK:focus{outline:solid 1px transparent;}}/*!sc*/
.bDTxaK [data-component=ButtonCounter]{font-size:12px;}/*!sc*/
.bDTxaK[data-component=IconButton]{display:inline-grid;padding:unset;place-content:center;width:32px;min-width:unset;}/*!sc*/
.bDTxaK[data-size="small"]{padding:0 8px;height:28px;gap:4px;font-size:12px;color:var(--fgColor-default,var(--color-fg-default,#1F2328));margin-left:8px;}/*!sc*/
.bDTxaK[data-size="small"] [data-component="text"]{line-height:calc(20 / 12);}/*!sc*/
.bDTxaK[data-size="small"] [data-component=ButtonCounter]{font-size:12px;}/*!sc*/
.bDTxaK[data-size="small"] [data-component="buttonContent"] > :not(:last-child){margin-right:4px;}/*!sc*/
.bDTxaK[data-size="small"][data-component=IconButton]{width:28px;padding:unset;}/*!sc*/
.bDTxaK[data-size="large"]{padding:0 16px;height:40px;gap:8px;}/*!sc*/
.bDTxaK[data-size="large"] [data-component="buttonContent"] > :not(:last-child){margin-right:8px;}/*!sc*/
.bDTxaK[data-size="large"][data-component=IconButton]{width:40px;padding:unset;}/*!sc*/
.bDTxaK[data-block="block"]{width:100%;}/*!sc*/
.bDTxaK[data-label-wrap="true"]{min-width:-webkit-fit-content;min-width:-moz-fit-content;min-width:fit-content;height:unset;min-height:var(--control-medium-size,2rem);}/*!sc*/
.bDTxaK[data-label-wrap="true"] [data-component="buttonContent"]{-webkit-flex:1 1 auto;-ms-flex:1 1 auto;flex:1 1 auto;-webkit-align-self:stretch;-ms-flex-item-align:stretch;align-self:stretch;padding-block:calc(var(--control-medium-paddingBlock,0.375rem) - 2px);}/*!sc*/
.bDTxaK[data-label-wrap="true"] [data-component="text"]{white-space:unset;word-break:break-word;}/*!sc*/
.bDTxaK[data-label-wrap="true"][data-size="small"]{height:unset;min-height:var(--control-small-size,1.75rem);}/*!sc*/
.bDTxaK[data-label-wrap="true"][data-size="small"] [data-component="buttonContent"]{padding-block:calc(var(--control-small-paddingBlock,0.25rem) - 2px);}/*!sc*/
.bDTxaK[data-label-wrap="true"][data-size="large"]{height:unset;min-height:var(--control-large-size,2.5rem);padding-inline:var(--control-large-paddingInline-spacious,1rem);}/*!sc*/
.bDTxaK[data-label-wrap="true"][data-size="large"] [data-component="buttonContent"]{padding-block:calc(var(--control-large-paddingBlock,0.625rem) - 2px);}/*!sc*/
.bDTxaK[data-inactive]:not([disabled]){background-color:var(--button-inactive-bgColor,var(--button-inactive-bgColor-rest,var(--color-btn-inactive-bg,#eaeef2)));border-color:var(--button-inactive-bgColor,var(--button-inactive-bgColor-rest,var(--color-btn-inactive-bg,#eaeef2)));color:var(--button-inactive-fgColor,var(--button-inactive-fgColor-rest,var(--color-btn-inactive-text,#57606a)));}/*!sc*/
.bDTxaK[data-inactive]:not([disabled]):focus-visible{box-shadow:none;}/*!sc*/
.bDTxaK [data-component="leadingVisual"]{grid-area:leadingVisual;color:var(--fgColor-muted,var(--color-fg-muted,#656d76));}/*!sc*/
.bDTxaK [data-component="text"]{grid-area:text;line-height:calc(20/14);white-space:nowrap;}/*!sc*/
.bDTxaK [data-component="trailingVisual"]{grid-area:trailingVisual;}/*!sc*/
.bDTxaK [data-component="trailingAction"]{margin-right:-4px;color:var(--fgColor-muted,var(--color-fg-muted,#656d76));}/*!sc*/
.bDTxaK [data-component="buttonContent"]{-webkit-flex:1 0 auto;-ms-flex:1 0 auto;flex:1 0 auto;display:grid;grid-template-areas:"leadingVisual text trailingVisual";grid-template-columns:min-content minmax(0,auto) min-content;-webkit-align-items:center;-webkit-box-align:center;-ms-flex-align:center;align-items:center;-webkit-align-content:center;-ms-flex-line-pack:center;align-content:center;}/*!sc*/
.bDTxaK [data-component="buttonContent"] > :not(:last-child){margin-right:8px;}/*!sc*/
.bDTxaK [data-component="loadingSpinner"]{grid-area:text;margin-right:0px !important;place-self:center;}/*!sc*/
.bDTxaK [data-component="loadingSpinner"] + [data-component="text"]{visibility:hidden;}/*!sc*/
.bDTxaK:hover:not([disabled]){background-color:var(--control-transparent-bgColor-hover,var(--color-action-list-item-default-hover-bg,rgba(208,215,222,0.32)));}/*!sc*/
.bDTxaK:active:not([disabled]){background-color:var(--control-transparent-bgColor-active,var(--color-action-list-item-default-active-bg,rgba(208,215,222,0.48)));}/*!sc*/
.bDTxaK[aria-expanded=true]{background-color:var(--control-transparent-bgColor-selected,var(--color-action-list-item-default-selected-bg,rgba(208,215,222,0.24)));}/*!sc*/
.bDTxaK[data-component="IconButton"][data-no-visuals]{color:var(--fgColor-muted,var(--color-fg-muted,#656d76));}/*!sc*/
.bDTxaK[data-no-visuals]{color:var(--fgColor-accent,var(--color-accent-fg,#0969da));}/*!sc*/
.bDTxaK:has([data-component="ButtonCounter"]){color:var(--button-default-fgColor-rest,var(--color-btn-text,#24292f));}/*!sc*/
.bDTxaK:disabled[data-no-visuals]{color:var(--fgColor-disabled,var(--color-primer-fg-disabled,#8c959f));}/*!sc*/
.bDTxaK:disabled[data-no-visuals] [data-component=ButtonCounter]{color:inherit;}/*!sc*/
.jUNlHb{border-radius:6px;border:1px solid;border-color:var(--button-default-borderColor-rest,var(--button-default-borderColor-rest,var(--color-btn-border,rgba(31,35,40,0.15))));font-family:inherit;font-weight:500;font-size:14px;cursor:pointer;-webkit-appearance:none;-moz-appearance:none;appearance:none;-webkit-user-select:none;-moz-user-select:none;-ms-user-select:none;user-select:none;-webkit-text-decoration:none;text-decoration:none;text-align:center;display:-webkit-box;display:-webkit-flex;display:-ms-flexbox;display:flex;-webkit-align-items:center;-webkit-box-align:center;-ms-flex-align:center;align-items:center;-webkit-box-pack:justify;-webkit-justify-content:space-between;-ms-flex-pack:justify;justify-content:space-between;height:32px;padding:0 12px;gap:8px;min-width:-webkit-max-content;min-width:-moz-max-content;min-width:max-content;-webkit-transition:80ms cubic-bezier(0.65,0,0.35,1);transition:80ms cubic-bezier(0.65,0,0.35,1);-webkit-transition-property:color,fill,background-color,border-color;transition-property:color,fill,background-color,border-color;color:var(--button-default-fgColor-rest,var(--color-btn-text,#24292f));background-color:var(--button-default-bgColor-rest,var(--color-btn-bg,#f6f8fa));box-shadow:var(--button-default-shadow-resting,var(--color-btn-shadow,0 1px 0 rgba(31,35,40,0.04))),var(--button-default-shadow-inset,var(--color-btn-inset-shadow,inset 0 1px 0 rgba(255,255,255,0.25)));padding-left:8px;padding-right:8px;}/*!sc*/
.jUNlHb:focus:not(:disabled){box-shadow:none;outline:2px solid var(--fgColor-accent,var(--color-accent-fg,#0969da));outline-offset:-2px;}/*!sc*/
.jUNlHb:focus:not(:disabled):not(:focus-visible){outline:solid 1px transparent;}/*!sc*/
.jUNlHb:focus-visible:not(:disabled){box-shadow:none;outline:2px solid var(--fgColor-accent,var(--color-accent-fg,#0969da));outline-offset:-2px;}/*!sc*/
.jUNlHb[href]{display:-webkit-inline-box;display:-webkit-inline-flex;display:-ms-inline-flexbox;display:inline-flex;}/*!sc*/
.jUNlHb[href]:hover{-webkit-text-decoration:none;text-decoration:none;}/*!sc*/
.jUNlHb:hover{-webkit-transition-duration:80ms;transition-duration:80ms;}/*!sc*/
.jUNlHb:active{-webkit-transition:none;transition:none;}/*!sc*/
.jUNlHb[data-inactive]{cursor:auto;}/*!sc*/
.jUNlHb:disabled{cursor:not-allowed;box-shadow:none;color:var(--fgColor-disabled,var(--color-primer-fg-disabled,#8c959f));border-color:var(--button-default-borderColor-disabled,var(--button-default-borderColor-rest,var(--color-btn-border,rgba(31,35,40,0.15))));background-color:var(--button-default-bgColor-disabled,var(--control-bgColor-disabled,var(--color-input-disabled-bg,rgba(175,184,193,0.2))));}/*!sc*/
.jUNlHb:disabled [data-component=ButtonCounter]{color:inherit;}/*!sc*/
@media (forced-colors:active){.jUNlHb:focus{outline:solid 1px transparent;}}/*!sc*/
.jUNlHb [data-component=ButtonCounter]{font-size:12px;background-color:var(--buttonCounter-default-bgColor-rest,var(--color-btn-counter-bg,rgba(31,35,40,0.08)));}/*!sc*/
.jUNlHb[data-component=IconButton]{display:inline-grid;padding:unset;place-content:center;width:32px;min-width:unset;}/*!sc*/
.jUNlHb[data-size="small"]{padding:0 8px;height:28px;gap:4px;font-size:12px;}/*!sc*/
.jUNlHb[data-size="small"] [data-component="text"]{line-height:calc(20 / 12);}/*!sc*/
.jUNlHb[data-size="small"] [data-component=ButtonCounter]{font-size:12px;}/*!sc*/
.jUNlHb[data-size="small"] [data-component="buttonContent"] > :not(:last-child){margin-right:4px;}/*!sc*/
.jUNlHb[data-size="small"][data-component=IconButton]{width:28px;padding:unset;}/*!sc*/
.jUNlHb[data-size="large"]{padding:0 16px;height:40px;gap:8px;}/*!sc*/
.jUNlHb[data-size="large"] [data-component="buttonContent"] > :not(:last-child){margin-right:8px;}/*!sc*/
.jUNlHb[data-size="large"][data-component=IconButton]{width:40px;padding:unset;}/*!sc*/
.jUNlHb[data-block="block"]{width:100%;}/*!sc*/
.jUNlHb[data-label-wrap="true"]{min-width:-webkit-fit-content;min-width:-moz-fit-content;min-width:fit-content;height:unset;min-height:var(--control-medium-size,2rem);}/*!sc*/
.jUNlHb[data-label-wrap="true"] [data-component="buttonContent"]{-webkit-flex:1 1 auto;-ms-flex:1 1 auto;flex:1 1 auto;-webkit-align-self:stretch;-ms-flex-item-align:stretch;align-self:stretch;padding-block:calc(var(--control-medium-paddingBlock,0.375rem) - 2px);}/*!sc*/
.jUNlHb[data-label-wrap="true"] [data-component="text"]{white-space:unset;word-break:break-word;}/*!sc*/
.jUNlHb[data-label-wrap="true"][data-size="small"]{height:unset;min-height:var(--control-small-size,1.75rem);}/*!sc*/
.jUNlHb[data-label-wrap="true"][data-size="small"] [data-component="buttonContent"]{padding-block:calc(var(--control-small-paddingBlock,0.25rem) - 2px);}/*!sc*/
.jUNlHb[data-label-wrap="true"][data-size="large"]{height:unset;min-height:var(--control-large-size,2.5rem);padding-inline:var(--control-large-paddingInline-spacious,1rem);}/*!sc*/
.jUNlHb[data-label-wrap="true"][data-size="large"] [data-component="buttonContent"]{padding-block:calc(var(--control-large-paddingBlock,0.625rem) - 2px);}/*!sc*/
.jUNlHb[data-inactive]:not([disabled]){background-color:var(--button-inactive-bgColor,var(--button-inactive-bgColor-rest,var(--color-btn-inactive-bg,#eaeef2)));border-color:var(--button-inactive-bgColor,var(--button-inactive-bgColor-rest,var(--color-btn-inactive-bg,#eaeef2)));color:var(--button-inactive-fgColor,var(--button-inactive-fgColor-rest,var(--color-btn-inactive-text,#57606a)));}/*!sc*/
.jUNlHb[data-inactive]:not([disabled]):focus-visible{box-shadow:none;}/*!sc*/
.jUNlHb [data-component="leadingVisual"]{grid-area:leadingVisual;}/*!sc*/
.jUNlHb [data-component="text"]{grid-area:text;line-height:calc(20/14);white-space:nowrap;}/*!sc*/
.jUNlHb [data-component="trailingVisual"]{grid-area:trailingVisual;}/*!sc*/
.jUNlHb [data-component="trailingAction"]{margin-right:-4px;}/*!sc*/
.jUNlHb [data-component="buttonContent"]{-webkit-flex:1 0 auto;-ms-flex:1 0 auto;flex:1 0 auto;display:grid;grid-template-areas:"leadingVisual text trailingVisual";grid-template-columns:min-content minmax(0,auto) min-content;-webkit-align-items:center;-webkit-box-align:center;-ms-flex-align:center;align-items:center;-webkit-align-content:center;-ms-flex-line-pack:center;align-content:center;}/*!sc*/
.jUNlHb [data-component="buttonContent"] > :not(:last-child){margin-right:8px;}/*!sc*/
.jUNlHb [data-component="loadingSpinner"]{grid-area:text;margin-right:0px !important;place-self:center;}/*!sc*/
.jUNlHb [data-component="loadingSpinner"] + [data-component="text"]{visibility:hidden;}/*!sc*/
.jUNlHb:hover:not([disabled]):not([data-inactive]){background-color:var(--button-default-bgColor-hover,var(--color-btn-hover-bg,#f3f4f6));border-color:var(--button-default-borderColor-hover,var(--button-default-borderColor-hover,var(--color-btn-hover-border,rgba(31,35,40,0.15))));}/*!sc*/
.jUNlHb:active:not([disabled]):not([data-inactive]){background-color:var(--button-default-bgColor-active,var(--color-btn-active-bg,hsla(220,14%,93%,1)));border-color:var(--button-default-borderColor-active,var(--button-default-borderColor-active,var(--color-btn-active-border,rgba(31,35,40,0.15))));}/*!sc*/
.jUNlHb[aria-expanded=true]{background-color:var(--button-default-bgColor-active,var(--color-btn-active-bg,hsla(220,14%,93%,1)));border-color:var(--button-default-borderColor-active,var(--button-default-borderColor-active,var(--color-btn-active-border,rgba(31,35,40,0.15))));}/*!sc*/
.jUNlHb [data-component="leadingVisual"],.jUNlHb [data-component="trailingVisual"],.jUNlHb [data-component="trailingAction"]{color:var(--button-color,var(--fgColor-muted,var(--color-fg-muted,#656d76)));}/*!sc*/
.jUNlHb[data-component="IconButton"][data-no-visuals]{color:var(--fgColor-muted,var(--color-fg-muted,#656d76));}/*!sc*/
.jUNlHb linkButtonSx:hover:not([disabled]){-webkit-text-decoration:none;text-decoration:none;}/*!sc*/
.jUNlHb linkButtonSx:focus:not([disabled]){-webkit-text-decoration:none;text-decoration:none;}/*!sc*/
.jUNlHb linkButtonSx:active:not([disabled]){-webkit-text-decoration:none;text-decoration:none;}/*!sc*/
.feqCqy{border-radius:6px;border:1px solid;border-color:var(--button-default-borderColor-rest,var(--button-default-borderColor-rest,var(--color-btn-border,rgba(31,35,40,0.15))));font-family:inherit;font-weight:500;font-size:14px;cursor:pointer;-webkit-appearance:none;-moz-appearance:none;appearance:none;-webkit-user-select:none;-moz-user-select:none;-ms-user-select:none;user-select:none;-webkit-text-decoration:none;text-decoration:none;text-align:center;display:-webkit-box;display:-webkit-flex;display:-ms-flexbox;display:flex;-webkit-align-items:center;-webkit-box-align:center;-ms-flex-align:center;align-items:center;-webkit-box-pack:justify;-webkit-justify-content:space-between;-ms-flex-pack:justify;justify-content:space-between;height:32px;padding:0 12px;gap:8px;min-width:-webkit-max-content;min-width:-moz-max-content;min-width:max-content;-webkit-transition:80ms cubic-bezier(0.65,0,0.35,1);transition:80ms cubic-bezier(0.65,0,0.35,1);-webkit-transition-property:color,fill,background-color,border-color;transition-property:color,fill,background-color,border-color;color:var(--button-default-fgColor-rest,var(--color-btn-text,#24292f));background-color:var(--button-default-bgColor-rest,var(--color-btn-bg,#f6f8fa));box-shadow:var(--button-default-shadow-resting,var(--color-btn-shadow,0 1px 0 rgba(31,35,40,0.04))),var(--button-default-shadow-inset,var(--color-btn-inset-shadow,inset 0 1px 0 rgba(255,255,255,0.25)));}/*!sc*/
.feqCqy:focus:not(:disabled){box-shadow:none;outline:2px solid var(--fgColor-accent,var(--color-accent-fg,#0969da));outline-offset:-2px;}/*!sc*/
.feqCqy:focus:not(:disabled):not(:focus-visible){outline:solid 1px transparent;}/*!sc*/
.feqCqy:focus-visible:not(:disabled){box-shadow:none;outline:2px solid var(--fgColor-accent,var(--color-accent-fg,#0969da));outline-offset:-2px;}/*!sc*/
.feqCqy[href]{display:-webkit-inline-box;display:-webkit-inline-flex;display:-ms-inline-flexbox;display:inline-flex;}/*!sc*/
.feqCqy[href]:hover{-webkit-text-decoration:none;text-decoration:none;}/*!sc*/
.feqCqy:hover{-webkit-transition-duration:80ms;transition-duration:80ms;}/*!sc*/
.feqCqy:active{-webkit-transition:none;transition:none;}/*!sc*/
.feqCqy[data-inactive]{cursor:auto;}/*!sc*/
.feqCqy:disabled{cursor:not-allowed;box-shadow:none;color:var(--fgColor-disabled,var(--color-primer-fg-disabled,#8c959f));border-color:var(--button-default-borderColor-disabled,var(--button-default-borderColor-rest,var(--color-btn-border,rgba(31,35,40,0.15))));background-color:var(--button-default-bgColor-disabled,var(--control-bgColor-disabled,var(--color-input-disabled-bg,rgba(175,184,193,0.2))));}/*!sc*/
.feqCqy:disabled [data-component=ButtonCounter]{color:inherit;}/*!sc*/
@media (forced-colors:active){.feqCqy:focus{outline:solid 1px transparent;}}/*!sc*/
.feqCqy [data-component=ButtonCounter]{font-size:12px;background-color:var(--buttonCounter-default-bgColor-rest,var(--color-btn-counter-bg,rgba(31,35,40,0.08)));}/*!sc*/
.feqCqy[data-component=IconButton]{display:inline-grid;padding:unset;place-content:center;width:32px;min-width:unset;}/*!sc*/
.feqCqy[data-size="small"]{padding:0 8px;height:28px;gap:4px;font-size:12px;}/*!sc*/
.feqCqy[data-size="small"] [data-component="text"]{line-height:calc(20 / 12);}/*!sc*/
.feqCqy[data-size="small"] [data-component=ButtonCounter]{font-size:12px;}/*!sc*/
.feqCqy[data-size="small"] [data-component="buttonContent"] > :not(:last-child){margin-right:4px;}/*!sc*/
.feqCqy[data-size="small"][data-component=IconButton]{width:28px;padding:unset;}/*!sc*/
.feqCqy[data-size="large"]{padding:0 16px;height:40px;gap:8px;}/*!sc*/
.feqCqy[data-size="large"] [data-component="buttonContent"] > :not(:last-child){margin-right:8px;}/*!sc*/
.feqCqy[data-size="large"][data-component=IconButton]{width:40px;padding:unset;}/*!sc*/
.feqCqy[data-block="block"]{width:100%;}/*!sc*/
.feqCqy[data-label-wrap="true"]{min-width:-webkit-fit-content;min-width:-moz-fit-content;min-width:fit-content;height:unset;min-height:var(--control-medium-size,2rem);}/*!sc*/
.feqCqy[data-label-wrap="true"] [data-component="buttonContent"]{-webkit-flex:1 1 auto;-ms-flex:1 1 auto;flex:1 1 auto;-webkit-align-self:stretch;-ms-flex-item-align:stretch;align-self:stretch;padding-block:calc(var(--control-medium-paddingBlock,0.375rem) - 2px);}/*!sc*/
.feqCqy[data-label-wrap="true"] [data-component="text"]{white-space:unset;word-break:break-word;}/*!sc*/
.feqCqy[data-label-wrap="true"][data-size="small"]{height:unset;min-height:var(--control-small-size,1.75rem);}/*!sc*/
.feqCqy[data-label-wrap="true"][data-size="small"] [data-component="buttonContent"]{padding-block:calc(var(--control-small-paddingBlock,0.25rem) - 2px);}/*!sc*/
.feqCqy[data-label-wrap="true"][data-size="large"]{height:unset;min-height:var(--control-large-size,2.5rem);padding-inline:var(--control-large-paddingInline-spacious,1rem);}/*!sc*/
.feqCqy[data-label-wrap="true"][data-size="large"] [data-component="buttonContent"]{padding-block:calc(var(--control-large-paddingBlock,0.625rem) - 2px);}/*!sc*/
.feqCqy[data-inactive]:not([disabled]){background-color:var(--button-inactive-bgColor,var(--button-inactive-bgColor-rest,var(--color-btn-inactive-bg,#eaeef2)));border-color:var(--button-inactive-bgColor,var(--button-inactive-bgColor-rest,var(--color-btn-inactive-bg,#eaeef2)));color:var(--button-inactive-fgColor,var(--button-inactive-fgColor-rest,var(--color-btn-inactive-text,#57606a)));}/*!sc*/
.feqCqy[data-inactive]:not([disabled]):focus-visible{box-shadow:none;}/*!sc*/
.feqCqy [data-component="leadingVisual"]{grid-area:leadingVisual;}/*!sc*/
.feqCqy [data-component="text"]{grid-area:text;line-height:calc(20/14);white-space:nowrap;}/*!sc*/
.feqCqy [data-component="trailingVisual"]{grid-area:trailingVisual;}/*!sc*/
.feqCqy [data-component="trailingAction"]{margin-right:-4px;}/*!sc*/
.feqCqy [data-component="buttonContent"]{-webkit-flex:1 0 auto;-ms-flex:1 0 auto;flex:1 0 auto;display:grid;grid-template-areas:"leadingVisual text trailingVisual";grid-template-columns:min-content minmax(0,auto) min-content;-webkit-align-items:center;-webkit-box-align:center;-ms-flex-align:center;align-items:center;-webkit-align-content:center;-ms-flex-line-pack:center;align-content:center;}/*!sc*/
.feqCqy [data-component="buttonContent"] > :not(:last-child){margin-right:8px;}/*!sc*/
.feqCqy [data-component="loadingSpinner"]{grid-area:text;margin-right:0px !important;place-self:center;}/*!sc*/
.feqCqy [data-component="loadingSpinner"] + [data-component="text"]{visibility:hidden;}/*!sc*/
.feqCqy:hover:not([disabled]):not([data-inactive]){background-color:var(--button-default-bgColor-hover,var(--color-btn-hover-bg,#f3f4f6));border-color:var(--button-default-borderColor-hover,var(--button-default-borderColor-hover,var(--color-btn-hover-border,rgba(31,35,40,0.15))));}/*!sc*/
.feqCqy:active:not([disabled]):not([data-inactive]){background-color:var(--button-default-bgColor-active,var(--color-btn-active-bg,hsla(220,14%,93%,1)));border-color:var(--button-default-borderColor-active,var(--button-default-borderColor-active,var(--color-btn-active-border,rgba(31,35,40,0.15))));}/*!sc*/
.feqCqy[aria-expanded=true]{background-color:var(--button-default-bgColor-active,var(--color-btn-active-bg,hsla(220,14%,93%,1)));border-color:var(--button-default-borderColor-active,var(--button-default-borderColor-active,var(--color-btn-active-border,rgba(31,35,40,0.15))));}/*!sc*/
.feqCqy [data-component="leadingVisual"],.feqCqy [data-component="trailingVisual"],.feqCqy [data-component="trailingAction"]{color:var(--button-color,var(--fgColor-muted,var(--color-fg-muted,#656d76)));}/*!sc*/
.feqCqy[data-component="IconButton"][data-no-visuals]{color:var(--fgColor-muted,var(--color-fg-muted,#656d76));}/*!sc*/
.bfWknm{border-radius:6px;border:1px solid;border-color:var(--button-default-borderColor-rest,var(--button-default-borderColor-rest,var(--color-btn-border,rgba(31,35,40,0.15))));font-family:inherit;font-weight:500;font-size:14px;cursor:pointer;-webkit-appearance:none;-moz-appearance:none;appearance:none;-webkit-user-select:none;-moz-user-select:none;-ms-user-select:none;user-select:none;-webkit-text-decoration:none;text-decoration:none;text-align:center;display:-webkit-box;display:-webkit-flex;display:-ms-flexbox;display:flex;-webkit-align-items:center;-webkit-box-align:center;-ms-flex-align:center;align-items:center;-webkit-box-pack:justify;-webkit-justify-content:space-between;-ms-flex-pack:justify;justify-content:space-between;height:32px;padding:0 12px;gap:8px;min-width:-webkit-max-content;min-width:-moz-max-content;min-width:max-content;-webkit-transition:80ms cubic-bezier(0.65,0,0.35,1);transition:80ms cubic-bezier(0.65,0,0.35,1);-webkit-transition-property:color,fill,background-color,border-color;transition-property:color,fill,background-color,border-color;color:var(--button-default-fgColor-rest,var(--color-btn-text,#24292f));background-color:var(--button-default-bgColor-rest,var(--color-btn-bg,#f6f8fa));box-shadow:var(--button-default-shadow-resting,var(--color-btn-shadow,0 1px 0 rgba(31,35,40,0.04))),var(--button-default-shadow-inset,var(--color-btn-inset-shadow,inset 0 1px 0 rgba(255,255,255,0.25)));}/*!sc*/
.bfWknm:focus:not(:disabled){box-shadow:none;outline:2px solid var(--fgColor-accent,var(--color-accent-fg,#0969da));outline-offset:-2px;}/*!sc*/
.bfWknm:focus:not(:disabled):not(:focus-visible){outline:solid 1px transparent;}/*!sc*/
.bfWknm:focus-visible:not(:disabled){box-shadow:none;outline:2px solid var(--fgColor-accent,var(--color-accent-fg,#0969da));outline-offset:-2px;}/*!sc*/
.bfWknm[href]{display:-webkit-inline-box;display:-webkit-inline-flex;display:-ms-inline-flexbox;display:inline-flex;}/*!sc*/
.bfWknm[href]:hover{-webkit-text-decoration:none;text-decoration:none;}/*!sc*/
.bfWknm:hover{-webkit-transition-duration:80ms;transition-duration:80ms;}/*!sc*/
.bfWknm:active{-webkit-transition:none;transition:none;}/*!sc*/
.bfWknm[data-inactive]{cursor:auto;}/*!sc*/
.bfWknm:disabled{cursor:not-allowed;box-shadow:none;color:var(--fgColor-disabled,var(--color-primer-fg-disabled,#8c959f));border-color:var(--button-default-borderColor-disabled,var(--button-default-borderColor-rest,var(--color-btn-border,rgba(31,35,40,0.15))));background-color:var(--button-default-bgColor-disabled,var(--control-bgColor-disabled,var(--color-input-disabled-bg,rgba(175,184,193,0.2))));}/*!sc*/
.bfWknm:disabled [data-component=ButtonCounter]{color:inherit;}/*!sc*/
@media (forced-colors:active){.bfWknm:focus{outline:solid 1px transparent;}}/*!sc*/
.bfWknm [data-component=ButtonCounter]{font-size:12px;background-color:var(--buttonCounter-default-bgColor-rest,var(--color-btn-counter-bg,rgba(31,35,40,0.08)));}/*!sc*/
.bfWknm[data-component=IconButton]{display:inline-grid;padding:unset;place-content:center;width:32px;min-width:unset;}/*!sc*/
.bfWknm[data-size="small"]{padding:0 8px;height:28px;gap:4px;font-size:12px;}/*!sc*/
.bfWknm[data-size="small"] [data-component="text"]{line-height:calc(20 / 12);}/*!sc*/
.bfWknm[data-size="small"] [data-component=ButtonCounter]{font-size:12px;}/*!sc*/
.bfWknm[data-size="small"] [data-component="buttonContent"] > :not(:last-child){margin-right:4px;}/*!sc*/
.bfWknm[data-size="small"][data-component=IconButton]{width:28px;padding:unset;}/*!sc*/
.bfWknm[data-size="large"]{padding:0 16px;height:40px;gap:8px;}/*!sc*/
.bfWknm[data-size="large"] [data-component="buttonContent"] > :not(:last-child){margin-right:8px;}/*!sc*/
.bfWknm[data-size="large"][data-component=IconButton]{width:40px;padding:unset;}/*!sc*/
.bfWknm[data-block="block"]{width:100%;}/*!sc*/
.bfWknm[data-label-wrap="true"]{min-width:-webkit-fit-content;min-width:-moz-fit-content;min-width:fit-content;height:unset;min-height:var(--control-medium-size,2rem);}/*!sc*/
.bfWknm[data-label-wrap="true"] [data-component="buttonContent"]{-webkit-flex:1 1 auto;-ms-flex:1 1 auto;flex:1 1 auto;-webkit-align-self:stretch;-ms-flex-item-align:stretch;align-self:stretch;padding-block:calc(var(--control-medium-paddingBlock,0.375rem) - 2px);}/*!sc*/
.bfWknm[data-label-wrap="true"] [data-component="text"]{white-space:unset;word-break:break-word;}/*!sc*/
.bfWknm[data-label-wrap="true"][data-size="small"]{height:unset;min-height:var(--control-small-size,1.75rem);}/*!sc*/
.bfWknm[data-label-wrap="true"][data-size="small"] [data-component="buttonContent"]{padding-block:calc(var(--control-small-paddingBlock,0.25rem) - 2px);}/*!sc*/
.bfWknm[data-label-wrap="true"][data-size="large"]{height:unset;min-height:var(--control-large-size,2.5rem);padding-inline:var(--control-large-paddingInline-spacious,1rem);}/*!sc*/
.bfWknm[data-label-wrap="true"][data-size="large"] [data-component="buttonContent"]{padding-block:calc(var(--control-large-paddingBlock,0.625rem) - 2px);}/*!sc*/
.bfWknm[data-inactive]:not([disabled]){background-color:var(--button-inactive-bgColor,var(--button-inactive-bgColor-rest,var(--color-btn-inactive-bg,#eaeef2)));border-color:var(--button-inactive-bgColor,var(--button-inactive-bgColor-rest,var(--color-btn-inactive-bg,#eaeef2)));color:var(--button-inactive-fgColor,var(--button-inactive-fgColor-rest,var(--color-btn-inactive-text,#57606a)));}/*!sc*/
.bfWknm[data-inactive]:not([disabled]):focus-visible{box-shadow:none;}/*!sc*/
.bfWknm [data-component="leadingVisual"]{grid-area:leadingVisual;}/*!sc*/
.bfWknm [data-component="text"]{grid-area:text;line-height:calc(20/14);white-space:nowrap;}/*!sc*/
.bfWknm [data-component="trailingVisual"]{grid-area:trailingVisual;}/*!sc*/
.bfWknm [data-component="trailingAction"]{margin-right:-4px;}/*!sc*/
.bfWknm [data-component="buttonContent"]{-webkit-flex:1 0 auto;-ms-flex:1 0 auto;flex:1 0 auto;display:grid;grid-template-areas:"leadingVisual text trailingVisual";grid-template-columns:min-content minmax(0,auto) min-content;-webkit-align-items:center;-webkit-box-align:center;-ms-flex-align:center;align-items:center;-webkit-align-content:center;-ms-flex-line-pack:center;align-content:center;}/*!sc*/
.bfWknm [data-component="buttonContent"] > :not(:last-child){margin-right:8px;}/*!sc*/
.bfWknm [data-component="loadingSpinner"]{grid-area:text;margin-right:0px !important;place-self:center;}/*!sc*/
.bfWknm [data-component="loadingSpinner"] + [data-component="text"]{visibility:hidden;}/*!sc*/
.bfWknm:hover:not([disabled]):not([data-inactive]){background-color:var(--button-default-bgColor-hover,var(--color-btn-hover-bg,#f3f4f6));border-color:var(--button-default-borderColor-hover,var(--button-default-borderColor-hover,var(--color-btn-hover-border,rgba(31,35,40,0.15))));}/*!sc*/
.bfWknm:active:not([disabled]):not([data-inactive]){background-color:var(--button-default-bgColor-active,var(--color-btn-active-bg,hsla(220,14%,93%,1)));border-color:var(--button-default-borderColor-active,var(--button-default-borderColor-active,var(--color-btn-active-border,rgba(31,35,40,0.15))));}/*!sc*/
.bfWknm[aria-expanded=true]{background-color:var(--button-default-bgColor-active,var(--color-btn-active-bg,hsla(220,14%,93%,1)));border-color:var(--button-default-borderColor-active,var(--button-default-borderColor-active,var(--color-btn-active-border,rgba(31,35,40,0.15))));}/*!sc*/
.bfWknm [data-component="leadingVisual"],.bfWknm [data-component="trailingVisual"],.bfWknm [data-component="trailingAction"]{color:var(--button-color,var(--fgColor-muted,var(--color-fg-muted,#656d76)));}/*!sc*/
.bfWknm[data-component="IconButton"][data-no-visuals]{color:var(--fgColor-muted,var(--color-fg-muted,#656d76));}/*!sc*/
.bfWknm[data-size="small"][data-no-visuals]{border-top-left-radius:0;border-bottom-left-radius:0;}/*!sc*/
.eBqjKw{border-radius:6px;border:1px solid;border-color:var(--button-default-borderColor-rest,var(--button-default-borderColor-rest,var(--color-btn-border,rgba(31,35,40,0.15))));font-family:inherit;font-weight:500;font-size:14px;cursor:pointer;-webkit-appearance:none;-moz-appearance:none;appearance:none;-webkit-user-select:none;-moz-user-select:none;-ms-user-select:none;user-select:none;-webkit-text-decoration:none;text-decoration:none;text-align:center;display:-webkit-box;display:-webkit-flex;display:-ms-flexbox;display:flex;-webkit-align-items:center;-webkit-box-align:center;-ms-flex-align:center;align-items:center;-webkit-box-pack:justify;-webkit-justify-content:space-between;-ms-flex-pack:justify;justify-content:space-between;height:32px;padding:0 12px;gap:8px;min-width:-webkit-max-content;min-width:-moz-max-content;min-width:max-content;-webkit-transition:80ms cubic-bezier(0.65,0,0.35,1);transition:80ms cubic-bezier(0.65,0,0.35,1);-webkit-transition-property:color,fill,background-color,border-color;transition-property:color,fill,background-color,border-color;color:var(--button-default-fgColor-rest,var(--color-btn-text,#24292f));background-color:var(--button-default-bgColor-rest,var(--color-btn-bg,#f6f8fa));box-shadow:var(--button-default-shadow-resting,var(--color-btn-shadow,0 1px 0 rgba(31,35,40,0.04))),var(--button-default-shadow-inset,var(--color-btn-inset-shadow,inset 0 1px 0 rgba(255,255,255,0.25)));}/*!sc*/
.eBqjKw:focus:not(:disabled){box-shadow:none;outline:2px solid var(--fgColor-accent,var(--color-accent-fg,#0969da));outline-offset:-2px;}/*!sc*/
.eBqjKw:focus:not(:disabled):not(:focus-visible){outline:solid 1px transparent;}/*!sc*/
.eBqjKw:focus-visible:not(:disabled){box-shadow:none;outline:2px solid var(--fgColor-accent,var(--color-accent-fg,#0969da));outline-offset:-2px;}/*!sc*/
.eBqjKw[href]{display:-webkit-inline-box;display:-webkit-inline-flex;display:-ms-inline-flexbox;display:inline-flex;}/*!sc*/
.eBqjKw[href]:hover{-webkit-text-decoration:none;text-decoration:none;}/*!sc*/
.eBqjKw:hover{-webkit-transition-duration:80ms;transition-duration:80ms;}/*!sc*/
.eBqjKw:active{-webkit-transition:none;transition:none;}/*!sc*/
.eBqjKw[data-inactive]{cursor:auto;}/*!sc*/
.eBqjKw:disabled{cursor:not-allowed;box-shadow:none;color:var(--fgColor-disabled,var(--color-primer-fg-disabled,#8c959f));border-color:var(--button-default-borderColor-disabled,var(--button-default-borderColor-rest,var(--color-btn-border,rgba(31,35,40,0.15))));background-color:var(--button-default-bgColor-disabled,var(--control-bgColor-disabled,var(--color-input-disabled-bg,rgba(175,184,193,0.2))));}/*!sc*/
.eBqjKw:disabled [data-component=ButtonCounter]{color:inherit;}/*!sc*/
@media (forced-colors:active){.eBqjKw:focus{outline:solid 1px transparent;}}/*!sc*/
.eBqjKw [data-component=ButtonCounter]{font-size:12px;background-color:var(--buttonCounter-default-bgColor-rest,var(--color-btn-counter-bg,rgba(31,35,40,0.08)));}/*!sc*/
.eBqjKw[data-component=IconButton]{display:inline-grid;padding:unset;place-content:center;width:32px;min-width:unset;}/*!sc*/
.eBqjKw[data-size="small"]{padding:0 8px;height:28px;gap:4px;font-size:12px;}/*!sc*/
.eBqjKw[data-size="small"] [data-component="text"]{line-height:calc(20 / 12);}/*!sc*/
.eBqjKw[data-size="small"] [data-component=ButtonCounter]{font-size:12px;}/*!sc*/
.eBqjKw[data-size="small"] [data-component="buttonContent"] > :not(:last-child){margin-right:4px;}/*!sc*/
.eBqjKw[data-size="small"][data-component=IconButton]{width:28px;padding:unset;}/*!sc*/
.eBqjKw[data-size="large"]{padding:0 16px;height:40px;gap:8px;}/*!sc*/
.eBqjKw[data-size="large"] [data-component="buttonContent"] > :not(:last-child){margin-right:8px;}/*!sc*/
.eBqjKw[data-size="large"][data-component=IconButton]{width:40px;padding:unset;}/*!sc*/
.eBqjKw[data-block="block"]{width:100%;}/*!sc*/
.eBqjKw[data-label-wrap="true"]{min-width:-webkit-fit-content;min-width:-moz-fit-content;min-width:fit-content;height:unset;min-height:var(--control-medium-size,2rem);}/*!sc*/
.eBqjKw[data-label-wrap="true"] [data-component="buttonContent"]{-webkit-flex:1 1 auto;-ms-flex:1 1 auto;flex:1 1 auto;-webkit-align-self:stretch;-ms-flex-item-align:stretch;align-self:stretch;padding-block:calc(var(--control-medium-paddingBlock,0.375rem) - 2px);}/*!sc*/
.eBqjKw[data-label-wrap="true"] [data-component="text"]{white-space:unset;word-break:break-word;}/*!sc*/
.eBqjKw[data-label-wrap="true"][data-size="small"]{height:unset;min-height:var(--control-small-size,1.75rem);}/*!sc*/
.eBqjKw[data-label-wrap="true"][data-size="small"] [data-component="buttonContent"]{padding-block:calc(var(--control-small-paddingBlock,0.25rem) - 2px);}/*!sc*/
.eBqjKw[data-label-wrap="true"][data-size="large"]{height:unset;min-height:var(--control-large-size,2.5rem);padding-inline:var(--control-large-paddingInline-spacious,1rem);}/*!sc*/
.eBqjKw[data-label-wrap="true"][data-size="large"] [data-component="buttonContent"]{padding-block:calc(var(--control-large-paddingBlock,0.625rem) - 2px);}/*!sc*/
.eBqjKw[data-inactive]:not([disabled]){background-color:var(--button-inactive-bgColor,var(--button-inactive-bgColor-rest,var(--color-btn-inactive-bg,#eaeef2)));border-color:var(--button-inactive-bgColor,var(--button-inactive-bgColor-rest,var(--color-btn-inactive-bg,#eaeef2)));color:var(--button-inactive-fgColor,var(--button-inactive-fgColor-rest,var(--color-btn-inactive-text,#57606a)));}/*!sc*/
.eBqjKw[data-inactive]:not([disabled]):focus-visible{box-shadow:none;}/*!sc*/
.eBqjKw [data-component="leadingVisual"]{grid-area:leadingVisual;}/*!sc*/
.eBqjKw [data-component="text"]{grid-area:text;line-height:calc(20/14);white-space:nowrap;}/*!sc*/
.eBqjKw [data-component="trailingVisual"]{grid-area:trailingVisual;}/*!sc*/
.eBqjKw [data-component="trailingAction"]{margin-right:-4px;}/*!sc*/
.eBqjKw [data-component="buttonContent"]{-webkit-flex:1 0 auto;-ms-flex:1 0 auto;flex:1 0 auto;display:grid;grid-template-areas:"leadingVisual text trailingVisual";grid-template-columns:min-content minmax(0,auto) min-content;-webkit-align-items:center;-webkit-box-align:center;-ms-flex-align:center;align-items:center;-webkit-align-content:center;-ms-flex-line-pack:center;align-content:center;}/*!sc*/
.eBqjKw [data-component="buttonContent"] > :not(:last-child){margin-right:8px;}/*!sc*/
.eBqjKw [data-component="loadingSpinner"]{grid-area:text;margin-right:0px !important;place-self:center;}/*!sc*/
.eBqjKw [data-component="loadingSpinner"] + [data-component="text"]{visibility:hidden;}/*!sc*/
.eBqjKw:hover:not([disabled]):not([data-inactive]){background-color:var(--button-default-bgColor-hover,var(--color-btn-hover-bg,#f3f4f6));border-color:var(--button-default-borderColor-hover,var(--button-default-borderColor-hover,var(--color-btn-hover-border,rgba(31,35,40,0.15))));}/*!sc*/
.eBqjKw:active:not([disabled]):not([data-inactive]){background-color:var(--button-default-bgColor-active,var(--color-btn-active-bg,hsla(220,14%,93%,1)));border-color:var(--button-default-borderColor-active,var(--button-default-borderColor-active,var(--color-btn-active-border,rgba(31,35,40,0.15))));}/*!sc*/
.eBqjKw[aria-expanded=true]{background-color:var(--button-default-bgColor-active,var(--color-btn-active-bg,hsla(220,14%,93%,1)));border-color:var(--button-default-borderColor-active,var(--button-default-borderColor-active,var(--color-btn-active-border,rgba(31,35,40,0.15))));}/*!sc*/
.eBqjKw [data-component="leadingVisual"],.eBqjKw [data-component="trailingVisual"],.eBqjKw [data-component="trailingAction"]{color:var(--button-color,var(--fgColor-muted,var(--color-fg-muted,#656d76)));}/*!sc*/
.eBqjKw[data-component="IconButton"][data-no-visuals]{color:var(--fgColor-muted,var(--color-fg-muted,#656d76));}/*!sc*/
.eBqjKw[data-size="small"][data-no-visuals]{border-top-right-radius:0;border-bottom-right-radius:0;border-right-width:0;}/*!sc*/
.eBqjKw[data-size="small"][data-no-visuals]:hover:not([disabled]){-webkit-text-decoration:none;text-decoration:none;}/*!sc*/
.eBqjKw[data-size="small"][data-no-visuals]:focus:not([disabled]){-webkit-text-decoration:none;text-decoration:none;}/*!sc*/
.eBqjKw[data-size="small"][data-no-visuals]:active:not([disabled]){-webkit-text-decoration:none;text-decoration:none;}/*!sc*/
.eEspxX{border-radius:6px;border:1px solid;border-color:transparent;font-family:inherit;font-weight:500;font-size:14px;cursor:pointer;-webkit-appearance:none;-moz-appearance:none;appearance:none;-webkit-user-select:none;-moz-user-select:none;-ms-user-select:none;user-select:none;-webkit-text-decoration:none;text-decoration:none;text-align:center;display:-webkit-box;display:-webkit-flex;display:-ms-flexbox;display:flex;-webkit-align-items:center;-webkit-box-align:center;-ms-flex-align:center;align-items:center;-webkit-box-pack:justify;-webkit-justify-content:space-between;-ms-flex-pack:justify;justify-content:space-between;height:32px;padding:0 12px;gap:8px;min-width:-webkit-max-content;min-width:-moz-max-content;min-width:max-content;-webkit-transition:80ms cubic-bezier(0.65,0,0.35,1);transition:80ms cubic-bezier(0.65,0,0.35,1);-webkit-transition-property:color,fill,background-color,border-color;transition-property:color,fill,background-color,border-color;color:var(--button-default-fgColor-rest,var(--color-btn-text,#24292f));background-color:transparent;box-shadow:none;}/*!sc*/
.eEspxX:focus:not(:disabled){box-shadow:none;outline:2px solid var(--fgColor-accent,var(--color-accent-fg,#0969da));outline-offset:-2px;}/*!sc*/
.eEspxX:focus:not(:disabled):not(:focus-visible){outline:solid 1px transparent;}/*!sc*/
.eEspxX:focus-visible:not(:disabled){box-shadow:none;outline:2px solid var(--fgColor-accent,var(--color-accent-fg,#0969da));outline-offset:-2px;}/*!sc*/
.eEspxX[href]{display:-webkit-inline-box;display:-webkit-inline-flex;display:-ms-inline-flexbox;display:inline-flex;}/*!sc*/
.eEspxX[href]:hover{-webkit-text-decoration:none;text-decoration:none;}/*!sc*/
.eEspxX:hover{-webkit-transition-duration:80ms;transition-duration:80ms;}/*!sc*/
.eEspxX:active{-webkit-transition:none;transition:none;}/*!sc*/
.eEspxX[data-inactive]{cursor:auto;}/*!sc*/
.eEspxX:disabled{cursor:not-allowed;box-shadow:none;color:var(--fgColor-disabled,var(--color-primer-fg-disabled,#8c959f));}/*!sc*/
.eEspxX:disabled [data-component=ButtonCounter],.eEspxX:disabled [data-component="leadingVisual"],.eEspxX:disabled [data-component="trailingAction"]{color:inherit;}/*!sc*/
@media (forced-colors:active){.eEspxX:focus{outline:solid 1px transparent;}}/*!sc*/
.eEspxX [data-component=ButtonCounter]{font-size:12px;}/*!sc*/
.eEspxX[data-component=IconButton]{display:inline-grid;padding:unset;place-content:center;width:32px;min-width:unset;}/*!sc*/
.eEspxX[data-size="small"]{padding:0 8px;height:28px;gap:4px;font-size:12px;}/*!sc*/
.eEspxX[data-size="small"] [data-component="text"]{line-height:calc(20 / 12);}/*!sc*/
.eEspxX[data-size="small"] [data-component=ButtonCounter]{font-size:12px;}/*!sc*/
.eEspxX[data-size="small"] [data-component="buttonContent"] > :not(:last-child){margin-right:4px;}/*!sc*/
.eEspxX[data-size="small"][data-component=IconButton]{width:28px;padding:unset;}/*!sc*/
.eEspxX[data-size="large"]{padding:0 16px;height:40px;gap:8px;}/*!sc*/
.eEspxX[data-size="large"] [data-component="buttonContent"] > :not(:last-child){margin-right:8px;}/*!sc*/
.eEspxX[data-size="large"][data-component=IconButton]{width:40px;padding:unset;}/*!sc*/
.eEspxX[data-block="block"]{width:100%;}/*!sc*/
.eEspxX[data-label-wrap="true"]{min-width:-webkit-fit-content;min-width:-moz-fit-content;min-width:fit-content;height:unset;min-height:var(--control-medium-size,2rem);}/*!sc*/
.eEspxX[data-label-wrap="true"] [data-component="buttonContent"]{-webkit-flex:1 1 auto;-ms-flex:1 1 auto;flex:1 1 auto;-webkit-align-self:stretch;-ms-flex-item-align:stretch;align-self:stretch;padding-block:calc(var(--control-medium-paddingBlock,0.375rem) - 2px);}/*!sc*/
.eEspxX[data-label-wrap="true"] [data-component="text"]{white-space:unset;word-break:break-word;}/*!sc*/
.eEspxX[data-label-wrap="true"][data-size="small"]{height:unset;min-height:var(--control-small-size,1.75rem);}/*!sc*/
.eEspxX[data-label-wrap="true"][data-size="small"] [data-component="buttonContent"]{padding-block:calc(var(--control-small-paddingBlock,0.25rem) - 2px);}/*!sc*/
.eEspxX[data-label-wrap="true"][data-size="large"]{height:unset;min-height:var(--control-large-size,2.5rem);padding-inline:var(--control-large-paddingInline-spacious,1rem);}/*!sc*/
.eEspxX[data-label-wrap="true"][data-size="large"] [data-component="buttonContent"]{padding-block:calc(var(--control-large-paddingBlock,0.625rem) - 2px);}/*!sc*/
.eEspxX[data-inactive]:not([disabled]){background-color:var(--button-inactive-bgColor,var(--button-inactive-bgColor-rest,var(--color-btn-inactive-bg,#eaeef2)));border-color:var(--button-inactive-bgColor,var(--button-inactive-bgColor-rest,var(--color-btn-inactive-bg,#eaeef2)));color:var(--button-inactive-fgColor,var(--button-inactive-fgColor-rest,var(--color-btn-inactive-text,#57606a)));}/*!sc*/
.eEspxX[data-inactive]:not([disabled]):focus-visible{box-shadow:none;}/*!sc*/
.eEspxX [data-component="leadingVisual"]{grid-area:leadingVisual;color:var(--fgColor-muted,var(--color-fg-muted,#656d76));}/*!sc*/
.eEspxX [data-component="text"]{grid-area:text;line-height:calc(20/14);white-space:nowrap;}/*!sc*/
.eEspxX [data-component="trailingVisual"]{grid-area:trailingVisual;}/*!sc*/
.eEspxX [data-component="trailingAction"]{margin-right:-4px;color:var(--fgColor-muted,var(--color-fg-muted,#656d76));}/*!sc*/
.eEspxX [data-component="buttonContent"]{-webkit-flex:1 0 auto;-ms-flex:1 0 auto;flex:1 0 auto;display:grid;grid-template-areas:"leadingVisual text trailingVisual";grid-template-columns:min-content minmax(0,auto) min-content;-webkit-align-items:center;-webkit-box-align:center;-ms-flex-align:center;align-items:center;-webkit-align-content:center;-ms-flex-line-pack:center;align-content:center;}/*!sc*/
.eEspxX [data-component="buttonContent"] > :not(:last-child){margin-right:8px;}/*!sc*/
.eEspxX [data-component="loadingSpinner"]{grid-area:text;margin-right:0px !important;place-self:center;}/*!sc*/
.eEspxX [data-component="loadingSpinner"] + [data-component="text"]{visibility:hidden;}/*!sc*/
.eEspxX:hover:not([disabled]){background-color:var(--control-transparent-bgColor-hover,var(--color-action-list-item-default-hover-bg,rgba(208,215,222,0.32)));}/*!sc*/
.eEspxX:active:not([disabled]){background-color:var(--control-transparent-bgColor-active,var(--color-action-list-item-default-active-bg,rgba(208,215,222,0.48)));}/*!sc*/
.eEspxX[aria-expanded=true]{background-color:var(--control-transparent-bgColor-selected,var(--color-action-list-item-default-selected-bg,rgba(208,215,222,0.24)));}/*!sc*/
.eEspxX[data-component="IconButton"][data-no-visuals]{color:var(--fgColor-muted,var(--color-fg-muted,#656d76));}/*!sc*/
.eEspxX[data-no-visuals]{color:var(--fgColor-accent,var(--color-accent-fg,#0969da));}/*!sc*/
.eEspxX:has([data-component="ButtonCounter"]){color:var(--button-default-fgColor-rest,var(--color-btn-text,#24292f));}/*!sc*/
.eEspxX:disabled[data-no-visuals]{color:var(--fgColor-disabled,var(--color-primer-fg-disabled,#8c959f));}/*!sc*/
.eEspxX:disabled[data-no-visuals] [data-component=ButtonCounter]{color:inherit;}/*!sc*/
.eEspxX[data-size="small"][data-no-visuals]{color:var(--fgColor-muted,var(--color-fg-muted,#656d76));}/*!sc*/
data-styled.g4[id="types__StyledButton-sc-ws60qy-0"]{content:"jGoVeP,cRDVgI,jwBfae,YkvTm,klDWQA,emYRmJ,jFcVkf,kuXPuQ,jKgwhU,bDTxaK,jUNlHb,feqCqy,bfWknm,eBqjKw,eEspxX,"}/*!sc*/
.hPEVNM{-webkit-animation:rotate-keyframes 1s linear infinite;animation:rotate-keyframes 1s linear infinite;}/*!sc*/
@-webkit-keyframes rotate-keyframes{100%{-webkit-transform:rotate(360deg);-ms-transform:rotate(360deg);transform:rotate(360deg);}}/*!sc*/
@keyframes rotate-keyframes{100%{-webkit-transform:rotate(360deg);-ms-transform:rotate(360deg);transform:rotate(360deg);}}/*!sc*/
data-styled.g6[id="Spinner__StyledSpinner-sc-1knt686-0"]{content:"hPEVNM,"}/*!sc*/
.rTZSs{position:absolute;width:1px;height:1px;padding:0;margin:-1px;overflow:hidden;-webkit-clip:rect(0,0,0,0);clip:rect(0,0,0,0);white-space:nowrap;border-width:0;}/*!sc*/
data-styled.g7[id="_VisuallyHidden__VisuallyHidden-sc-11jhm7a-0"]{content:"rTZSs,"}/*!sc*/
.ipyMWB{color:var(--fgColor-accent,var(--color-accent-fg,#0969da));-webkit-text-decoration:none;text-decoration:none;font-weight:600;}/*!sc*/
[data-a11y-link-underlines='true'] .Link__StyledLink-sc-14289xe-0[data-inline='true']{-webkit-text-decoration:underline;text-decoration:underline;}/*!sc*/
.ipyMWB:hover{-webkit-text-decoration:underline;text-decoration:underline;}/*!sc*/
.ipyMWB:is(button){display:inline-block;padding:0;font-size:inherit;white-space:nowrap;cursor:pointer;-webkit-user-select:none;-moz-user-select:none;-ms-user-select:none;user-select:none;background-color:transparent;border:0;-webkit-appearance:none;-moz-appearance:none;appearance:none;}/*!sc*/
.jmkYvv{color:var(--fgColor-accent,var(--color-accent-fg,#0969da));-webkit-text-decoration:none;text-decoration:none;font-weight:400;}/*!sc*/
[data-a11y-link-underlines='true'] .Link__StyledLink-sc-14289xe-0[data-inline='true']{-webkit-text-decoration:underline;text-decoration:underline;}/*!sc*/
.jmkYvv:hover{-webkit-text-decoration:underline;text-decoration:underline;}/*!sc*/
.jmkYvv:is(button){display:inline-block;padding:0;font-size:inherit;white-space:nowrap;cursor:pointer;-webkit-user-select:none;-moz-user-select:none;-ms-user-select:none;user-select:none;background-color:transparent;border:0;-webkit-appearance:none;-moz-appearance:none;appearance:none;}/*!sc*/
.dheQRw{color:var(--fgColor-accent,var(--color-accent-fg,#0969da));-webkit-text-decoration:none;text-decoration:none;}/*!sc*/
[data-a11y-link-underlines='true'] .Link__StyledLink-sc-14289xe-0[data-inline='true']{-webkit-text-decoration:underline;text-decoration:underline;}/*!sc*/
.dheQRw:hover{-webkit-text-decoration:underline;text-decoration:underline;}/*!sc*/
.dheQRw:is(button){display:inline-block;padding:0;font-size:inherit;white-space:nowrap;cursor:pointer;-webkit-user-select:none;-moz-user-select:none;-ms-user-select:none;user-select:none;background-color:transparent;border:0;-webkit-appearance:none;-moz-appearance:none;appearance:none;}/*!sc*/
data-styled.g9[id="Link__StyledLink-sc-14289xe-0"]{content:"ipyMWB,jmkYvv,dheQRw,"}/*!sc*/
.gNgnVl{position:relative;display:inline-block;}/*!sc*/
.gNgnVl::after{position:absolute;z-index:1000000;display:none;padding:0.5em 0.75em;font:normal normal 11px/1.5 -apple-system,BlinkMacSystemFont,"Segoe UI","Noto Sans",Helvetica,Arial,sans-serif,"Apple Color Emoji","Segoe UI Emoji";-webkit-font-smoothing:subpixel-antialiased;color:var(--tooltip-fgColor,var(--fgColor-onEmphasis,var(--color-fg-on-emphasis,#ffffff)));text-align:center;-webkit-text-decoration:none;text-decoration:none;text-shadow:none;text-transform:none;-webkit-letter-spacing:normal;-moz-letter-spacing:normal;-ms-letter-spacing:normal;letter-spacing:normal;word-wrap:break-word;white-space:pre;pointer-events:none;content:attr(aria-label);background:var(--tooltip-bgColor,var(--bgColor-emphasis,var(--color-neutral-emphasis-plus,#24292f)));border-radius:6px;opacity:0;}/*!sc*/
@-webkit-keyframes tooltip-appear{from{opacity:0;}to{opacity:1;}}/*!sc*/
@keyframes tooltip-appear{from{opacity:0;}to{opacity:1;}}/*!sc*/
.gNgnVl:hover::after,.gNgnVl:active::after,.gNgnVl:focus::after,.gNgnVl:focus-within::after{display:inline-block;-webkit-text-decoration:none;text-decoration:none;-webkit-animation-name:tooltip-appear;animation-name:tooltip-appear;-webkit-animation-duration:0.1s;animation-duration:0.1s;-webkit-animation-fill-mode:forwards;animation-fill-mode:forwards;-webkit-animation-timing-function:ease-in;animation-timing-function:ease-in;-webkit-animation-delay:0s;animation-delay:0s;}/*!sc*/
.gNgnVl.tooltipped-no-delay:hover::after,.gNgnVl.tooltipped-no-delay:active::after,.gNgnVl.tooltipped-no-delay:focus::after,.gNgnVl.tooltipped-no-delay:focus-within::after{-webkit-animation-delay:0s;animation-delay:0s;}/*!sc*/
.gNgnVl.tooltipped-multiline:hover::after,.gNgnVl.tooltipped-multiline:active::after,.gNgnVl.tooltipped-multiline:focus::after,.gNgnVl.tooltipped-multiline:focus-within::after{display:table-cell;}/*!sc*/
.gNgnVl.tooltipped-s::after,.gNgnVl.tooltipped-se::after,.gNgnVl.tooltipped-sw::after{top:100%;right:50%;margin-top:6px;}/*!sc*/
.gNgnVl.tooltipped-se::after{right:auto;left:50%;margin-left:-16px;}/*!sc*/
.gNgnVl.tooltipped-sw::after{margin-right:-16px;}/*!sc*/
.gNgnVl.tooltipped-n::after,.gNgnVl.tooltipped-ne::after,.gNgnVl.tooltipped-nw::after{right:50%;bottom:100%;margin-bottom:6px;}/*!sc*/
.gNgnVl.tooltipped-ne::after{right:auto;left:50%;margin-left:-16px;}/*!sc*/
.gNgnVl.tooltipped-nw::after{margin-right:-16px;}/*!sc*/
.gNgnVl.tooltipped-s::after,.gNgnVl.tooltipped-n::after{-webkit-transform:translateX(50%);-ms-transform:translateX(50%);transform:translateX(50%);}/*!sc*/
.gNgnVl.tooltipped-w::after{right:100%;bottom:50%;margin-right:6px;-webkit-transform:translateY(50%);-ms-transform:translateY(50%);transform:translateY(50%);}/*!sc*/
.gNgnVl.tooltipped-e::after{bottom:50%;left:100%;margin-left:6px;-webkit-transform:translateY(50%);-ms-transform:translateY(50%);transform:translateY(50%);}/*!sc*/
.gNgnVl.tooltipped-multiline::after{width:-webkit-max-content;width:-moz-max-content;width:max-content;max-width:250px;word-wrap:break-word;white-space:pre-line;border-collapse:separate;}/*!sc*/
.gNgnVl.tooltipped-multiline.tooltipped-s::after,.gNgnVl.tooltipped-multiline.tooltipped-n::after{right:auto;left:50%;-webkit-transform:translateX(-50%);-ms-transform:translateX(-50%);transform:translateX(-50%);}/*!sc*/
.gNgnVl.tooltipped-multiline.tooltipped-w::after,.gNgnVl.tooltipped-multiline.tooltipped-e::after{right:100%;}/*!sc*/
.gNgnVl.tooltipped-align-right-2::after{right:0;margin-right:0;}/*!sc*/
.gNgnVl.tooltipped-align-left-2::after{left:0;margin-left:0;}/*!sc*/
data-styled.g10[id="Tooltip__TooltipBase-sc-17tf59c-0"]{content:"gNgnVl,"}/*!sc*/
.fUpWeN{display:inline-block;overflow:hidden;text-overflow:ellipsis;vertical-align:top;white-space:nowrap;max-width:125px;max-width:100%;}/*!sc*/
data-styled.g14[id="Truncate__StyledTruncate-sc-23o1d2-0"]{content:"fUpWeN,"}/*!sc*/
.cXNreu{font-size:14px;line-height:20px;color:var(--fgColor-default,var(--color-fg-default,#1F2328));vertical-align:middle;background-color:var(--bgColor-default,var(--color-canvas-default,#ffffff));border:1px solid var(--control-borderColor-rest,var(--borderColor-default,var(--color-border-default,#d0d7de)));border-radius:6px;outline:none;box-shadow:var(--shadow-inset,var(--color-primer-shadow-inset,inset 0 1px 0 rgba(208,215,222,0.2)));display:-webkit-inline-box;display:-webkit-inline-flex;display:-ms-inline-flexbox;display:inline-flex;-webkit-align-items:stretch;-webkit-box-align:stretch;-ms-flex-align:stretch;align-items:stretch;min-height:32px;overflow:hidden;display:-webkit-box;display:-webkit-flex;display:-ms-flexbox;display:flex;min-width:160px;}/*!sc*/
.cXNreu input,.cXNreu textarea{cursor:text;}/*!sc*/
.cXNreu select{cursor:pointer;}/*!sc*/
.cXNreu input::-webkit-input-placeholder,.cXNreu textarea::-webkit-input-placeholder,.cXNreu select::-webkit-input-placeholder{color:var(---control-fgColor-placeholder,var(--fgColor-muted,var(--color-fg-muted,#656d76)));}/*!sc*/
.cXNreu input::-moz-placeholder,.cXNreu textarea::-moz-placeholder,.cXNreu select::-moz-placeholder{color:var(---control-fgColor-placeholder,var(--fgColor-muted,var(--color-fg-muted,#656d76)));}/*!sc*/
.cXNreu input:-ms-input-placeholder,.cXNreu textarea:-ms-input-placeholder,.cXNreu select:-ms-input-placeholder{color:var(---control-fgColor-placeholder,var(--fgColor-muted,var(--color-fg-muted,#656d76)));}/*!sc*/
.cXNreu input::placeholder,.cXNreu textarea::placeholder,.cXNreu select::placeholder{color:var(---control-fgColor-placeholder,var(--fgColor-muted,var(--color-fg-muted,#656d76)));}/*!sc*/
.cXNreu:focus-within{border-color:var(--fgColor-accent,var(--color-accent-fg,#0969da));outline:2px solid var(--fgColor-accent,var(--color-accent-fg,#0969da));outline-offset:-1px;}/*!sc*/
.cXNreu > textarea{padding:12px;}/*!sc*/
@media (min-width:768px){.cXNreu{font-size:14px;}}/*!sc*/
data-styled.g17[id="TextInputWrapper__TextInputBaseWrapper-sc-1mqhpbi-0"]{content:"cXNreu,"}/*!sc*/
.jbzqwE{background-repeat:no-repeat;background-position:right 8px center;padding-left:12px;padding-right:12px;display:-webkit-box;display:-webkit-flex;display:-ms-flexbox;display:flex;min-width:160px;}/*!sc*/
.jbzqwE > :not(:last-child){margin-right:8px;}/*!sc*/
.jbzqwE .TextInput-icon,.jbzqwE .TextInput-action{-webkit-align-self:center;-ms-flex-item-align:center;align-self:center;color:var(--fgColor-muted,var(--color-fg-muted,#656d76));-webkit-flex-shrink:0;-ms-flex-negative:0;flex-shrink:0;}/*!sc*/
.jbzqwE > input,.jbzqwE > select{padding-left:0;padding-right:0;}/*!sc*/
data-styled.g18[id="TextInputWrapper-sc-1mqhpbi-1"]{content:"jbzqwE,"}/*!sc*/
.cDLBls{border:0;font-size:inherit;font-family:inherit;background-color:transparent;-webkit-appearance:none;color:inherit;width:100%;}/*!sc*/
.cDLBls:focus{outline:0;}/*!sc*/
data-styled.g19[id="UnstyledTextInput-sc-14ypya-0"]{content:"cDLBls,"}/*!sc*/
.bOMzPg{min-width:0;}/*!sc*/
.bOMzPg:where([data-size='small']){font-size:var(--text-body-size-small,0.75rem);line-height:var(--text-body-lineHeight-small,1.6666);}/*!sc*/
.bOMzPg:where([data-size='medium']){font-size:var(--text-body-size-medium,0.875rem);line-height:var(--text-body-lineHeight-medium,1.4285);}/*!sc*/
.bOMzPg:where([data-size='large']){font-size:var(--text-body-size-large,1rem);line-height:var(--text-body-lineHeight-large,1.5);}/*!sc*/
.bOMzPg:where([data-weight='light']){font-weight:var(--base-text-weight-light,300);}/*!sc*/
.bOMzPg:where([data-weight='normal']){font-weight:var(--base-text-weight-normal,400);}/*!sc*/
.bOMzPg:where([data-weight='medium']){font-weight:var(--base-text-weight-medium,500);}/*!sc*/
.bOMzPg:where([data-weight='semibold']){font-weight:var(--base-text-weight-semibold,600);}/*!sc*/
.fIsVJr{padding-left:4px;padding-right:4px;font-weight:400;color:var(--fgColor-muted,var(--color-fg-muted,#656d76));font-size:16px;}/*!sc*/
.fIsVJr:where([data-size='small']){font-size:var(--text-body-size-small,0.75rem);line-height:var(--text-body-lineHeight-small,1.6666);}/*!sc*/
.fIsVJr:where([data-size='medium']){font-size:var(--text-body-size-medium,0.875rem);line-height:var(--text-body-lineHeight-medium,1.4285);}/*!sc*/
.fIsVJr:where([data-size='large']){font-size:var(--text-body-size-large,1rem);line-height:var(--text-body-lineHeight-large,1.5);}/*!sc*/
.fIsVJr:where([data-weight='light']){font-weight:var(--base-text-weight-light,300);}/*!sc*/
.fIsVJr:where([data-weight='normal']){font-weight:var(--base-text-weight-normal,400);}/*!sc*/
.fIsVJr:where([data-weight='medium']){font-weight:var(--base-text-weight-medium,500);}/*!sc*/
.fIsVJr:where([data-weight='semibold']){font-weight:var(--base-text-weight-semibold,600);}/*!sc*/
.cYjMDB{padding-left:4px;padding-right:4px;font-weight:400;color:var(--fgColor-muted,var(--color-fg-muted,#656d76));font-size:14px;}/*!sc*/
.cYjMDB:where([data-size='small']){font-size:var(--text-body-size-small,0.75rem);line-height:var(--text-body-lineHeight-small,1.6666);}/*!sc*/
.cYjMDB:where([data-size='medium']){font-size:var(--text-body-size-medium,0.875rem);line-height:var(--text-body-lineHeight-medium,1.4285);}/*!sc*/
.cYjMDB:where([data-size='large']){font-size:var(--text-body-size-large,1rem);line-height:var(--text-body-lineHeight-large,1.5);}/*!sc*/
.cYjMDB:where([data-weight='light']){font-weight:var(--base-text-weight-light,300);}/*!sc*/
.cYjMDB:where([data-weight='normal']){font-weight:var(--base-text-weight-normal,400);}/*!sc*/
.cYjMDB:where([data-weight='medium']){font-weight:var(--base-text-weight-medium,500);}/*!sc*/
.cYjMDB:where([data-weight='semibold']){font-weight:var(--base-text-weight-semibold,600);}/*!sc*/
data-styled.g24[id="Text-sc-17v1xeu-0"]{content:"bOMzPg,fIsVJr,cYjMDB,"}/*!sc*/
body[data-page-layout-dragging="true"]{cursor:col-resize;}/*!sc*/
body[data-page-layout-dragging="true"] *{-webkit-user-select:none;-moz-user-select:none;-ms-user-select:none;user-select:none;}/*!sc*/
data-styled.g29[id="sc-global-gbKrvU1"]{content:"sc-global-gbKrvU1,"}/*!sc*/
.dgvcvm{list-style:none;padding:0;margin:0;}/*!sc*/
.dgvcvm .PRIVATE_TreeView-item{outline:none;}/*!sc*/
.dgvcvm .PRIVATE_TreeView-item:focus-visible > div,.dgvcvm .PRIVATE_TreeView-item.focus-visible > div{box-shadow:inset 0 0 0 2px var(--fgColor-accent,var(--color-accent-fg,#0969da));}/*!sc*/
@media (forced-colors:active){.dgvcvm .PRIVATE_TreeView-item:focus-visible > div,.dgvcvm .PRIVATE_TreeView-item.focus-visible > div{outline:2px solid HighlightText;outline-offset:-2;}}/*!sc*/
.dgvcvm .PRIVATE_TreeView-item[data-has-leading-action]{--has-leading-action:1;}/*!sc*/
.dgvcvm .PRIVATE_TreeView-item-container{--level:1;--toggle-width:1rem;--min-item-height:2rem;position:relative;display:grid;--leading-action-width:calc(var(--has-leading-action,0) * 1.5rem);--spacer-width:calc(calc(var(--level) - 1) * (var(--toggle-width) / 2));grid-template-columns:var(--spacer-width) var(--leading-action-width) var(--toggle-width) 1fr;grid-template-areas:'spacer leadingAction toggle content';width:100%;font-size:14px;color:var(--fgColor-default,var(--color-fg-default,#1F2328));border-radius:6px;cursor:pointer;}/*!sc*/
.dgvcvm .PRIVATE_TreeView-item-container:hover{background-color:var(--control-transparent-bgColor-hover,var(--color-action-list-item-default-hover-bg,rgba(208,215,222,0.32)));}/*!sc*/
@media (forced-colors:active){.dgvcvm .PRIVATE_TreeView-item-container:hover{outline:2px solid transparent;outline-offset:-2px;}}/*!sc*/
@media (pointer:coarse){.dgvcvm .PRIVATE_TreeView-item-container{--toggle-width:1.5rem;--min-item-height:2.75rem;}}/*!sc*/
.dgvcvm .PRIVATE_TreeView-item-container:has(.PRIVATE_TreeView-item-skeleton):hover{background-color:transparent;cursor:default;}/*!sc*/
@media (forced-colors:active){.dgvcvm .PRIVATE_TreeView-item-container:has(.PRIVATE_TreeView-item-skeleton):hover{outline:none;}}/*!sc*/
.dgvcvm[data-omit-spacer='true'] .PRIVATE_TreeView-item-container{grid-template-columns:0 0 0 1fr;}/*!sc*/
.dgvcvm .PRIVATE_TreeView-item[aria-current='true'] > .PRIVATE_TreeView-item-container{background-color:var(--control-transparent-bgColor-selected,var(--color-action-list-item-default-selected-bg,rgba(208,215,222,0.24)));}/*!sc*/
.dgvcvm .PRIVATE_TreeView-item[aria-current='true'] > .PRIVATE_TreeView-item-container::after{content:'';position:absolute;top:calc(50% - 0.75rem);left:-8px;width:0.25rem;height:1.5rem;background-color:var(--fgColor-accent,var(--color-accent-fg,#0969da));border-radius:6px;}/*!sc*/
@media (forced-colors:active){.dgvcvm .PRIVATE_TreeView-item[aria-current='true'] > .PRIVATE_TreeView-item-container::after{background-color:HighlightText;}}/*!sc*/
.dgvcvm .PRIVATE_TreeView-item-toggle{grid-area:toggle;display:-webkit-box;display:-webkit-flex;display:-ms-flexbox;display:flex;-webkit-box-pack:center;-webkit-justify-content:center;-ms-flex-pack:center;justify-content:center;-webkit-align-items:flex-start;-webkit-box-align:flex-start;-ms-flex-align:flex-start;align-items:flex-start;padding-top:calc(var(--min-item-height) / 2 - 12px / 2);height:100%;color:var(--fgColor-muted,var(--color-fg-muted,#656d76));}/*!sc*/
.dgvcvm .PRIVATE_TreeView-item-toggle--hover:hover{background-color:var(--control-transparent-bgColor-hover,var(--color-tree-view-item-chevron-hover-bg,rgba(208,215,222,0.32)));}/*!sc*/
.dgvcvm .PRIVATE_TreeView-item-toggle--end{border-top-left-radius:6px;border-bottom-left-radius:6px;}/*!sc*/
.dgvcvm .PRIVATE_TreeView-item-content{grid-area:content;display:-webkit-box;display:-webkit-flex;display:-ms-flexbox;display:flex;height:100%;padding:0 8px;gap:8px;line-height:var(--custom-line-height,var(--text-body-lineHeight-medium,1.4285));padding-top:calc((var(--min-item-height) - var(--custom-line-height,1.3rem)) / 2);padding-bottom:calc((var(--min-item-height) - var(--custom-line-height,1.3rem)) / 2);}/*!sc*/
.dgvcvm .PRIVATE_TreeView-item-content-text{-webkit-flex:1 1 auto;-ms-flex:1 1 auto;flex:1 1 auto;width:0;overflow:hidden;white-space:nowrap;text-overflow:ellipsis;}/*!sc*/
.dgvcvm .PRIVATE_TreeView-item-visual{display:-webkit-box;display:-webkit-flex;display:-ms-flexbox;display:flex;-webkit-align-items:center;-webkit-box-align:center;-ms-flex-align:center;align-items:center;color:var(--fgColor-muted,var(--color-fg-muted,#656d76));height:var(--custom-line-height,1.3rem);}/*!sc*/
.dgvcvm .PRIVATE_TreeView-item-leading-action{display:-webkit-box;display:-webkit-flex;display:-ms-flexbox;display:flex;color:var(--fgColor-muted,var(--color-fg-muted,#656d76));grid-area:leadingAction;}/*!sc*/
.dgvcvm .PRIVATE_TreeView-item-level-line{width:100%;height:100%;border-right:1px solid;border-color:var(--borderColor-muted,var(--color-border-subtle,rgba(31,35,40,0.15)));}/*!sc*/
@media (hover:hover){.dgvcvm .PRIVATE_TreeView-item-level-line{border-color:transparent;}.dgvcvm:hover .PRIVATE_TreeView-item-level-line,.dgvcvm:focus-within .PRIVATE_TreeView-item-level-line{border-color:var(--borderColor-muted,var(--color-border-subtle,rgba(31,35,40,0.15)));}}/*!sc*/
.dgvcvm .PRIVATE_TreeView-directory-icon{display:grid;color:var(--treeViewItem-leadingVisual-bgColor-rest,var(--color-tree-view-item-chevron-directory-fill,#54aeff));}/*!sc*/
.dgvcvm .PRIVATE_VisuallyHidden{position:absolute;width:1px;height:1px;padding:0;margin:-1px;overflow:hidden;-webkit-clip:rect(0,0,0,0);clip:rect(0,0,0,0);white-space:nowrap;border-width:0;}/*!sc*/
data-styled.g45[id="TreeView__UlBox-sc-4ex6b6-0"]{content:"dgvcvm,"}/*!sc*/
.cpVEZe{display:-webkit-inline-box;display:-webkit-inline-flex;display:-ms-inline-flexbox;display:inline-flex;vertical-align:middle;isolation:isolate;}/*!sc*/
.cpVEZe.cpVEZe > *:not([data-loading-wrapper]){margin-inline-end:-1px;position:relative;border-radius:0;}/*!sc*/
.cpVEZe.cpVEZe > *:not([data-loading-wrapper]):first-child{border-top-left-radius:6px;border-bottom-left-radius:6px;}/*!sc*/
.cpVEZe.cpVEZe > *:not([data-loading-wrapper]):last-child{border-top-right-radius:6px;border-bottom-right-radius:6px;}/*!sc*/
.cpVEZe.cpVEZe > *:not([data-loading-wrapper]):focus,.cpVEZe.cpVEZe > *:not([data-loading-wrapper]):active,.cpVEZe.cpVEZe > *:not([data-loading-wrapper]):hover{z-index:1;}/*!sc*/
.cpVEZe [data-loading-wrapper]:first-child button,.cpVEZe [data-loading-wrapper]:first-child a{border-top-left-radius:6px;border-bottom-left-radius:6px;}/*!sc*/
.cpVEZe [data-loading-wrapper]:last-child button,.cpVEZe [data-loading-wrapper]:last-child a{border-top-right-radius:6px;border-bottom-right-radius:6px;}/*!sc*/
.cpVEZe [data-loading-wrapper] > *{margin-inline-end:-1px;position:relative;border-radius:0;}/*!sc*/
.cpVEZe [data-loading-wrapper] > *:focus,.cpVEZe [data-loading-wrapper] > *:active,.cpVEZe [data-loading-wrapper] > *:hover{z-index:1;}/*!sc*/
data-styled.g50[id="ButtonGroup-sc-1gxhls1-0"]{content:"cpVEZe,"}/*!sc*/
.jEdVkE{--segmented-control-button-inner-padding:12px;--segmented-control-button-bg-inset:4px;--segmented-control-outer-radius:6px;background-color:transparent;border-color:transparent;border-radius:var(--segmented-control-outer-radius);border-width:0;color:currentColor;cursor:pointer;font-family:inherit;font-size:inherit;font-weight:600;padding:0;height:100%;width:100%;}/*!sc*/
.jEdVkE .segmentedControl-content{-webkit-align-items:center;-webkit-box-align:center;-ms-flex-align:center;align-items:center;background-color:var(--controlKnob-bgColor-rest,var(--color-segmented-control-button-bg,#ffffff));border-color:var(--controlKnob-borderColor-rest,var(--color-segmented-control-button-hover-active-selected-border,#8c959f));border-style:solid;border-width:1px;border-radius:var(--segmented-control-outer-radius);display:-webkit-box;display:-webkit-flex;display:-ms-flexbox;display:flex;height:100%;-webkit-box-pack:center;-webkit-justify-content:center;-ms-flex-pack:center;justify-content:center;padding-left:var(--segmented-control-button-inner-padding);padding-right:var(--segmented-control-button-inner-padding);}/*!sc*/
.jEdVkE svg{fill:var(--fgColor-muted,var(--color-fg-muted,#656d76));}/*!sc*/
.jEdVkE:focus:focus-visible:not(:last-child):after{width:0;}/*!sc*/
.jEdVkE .segmentedControl-text:after{content:"Preview";display:block;font-weight:600;height:0;overflow:hidden;pointer-events:none;-webkit-user-select:none;-moz-user-select:none;-ms-user-select:none;user-select:none;visibility:hidden;}/*!sc*/
@media (pointer:coarse){.jEdVkE:before{content:"";position:absolute;left:0;right:0;-webkit-transform:translateY(-50%);-ms-transform:translateY(-50%);transform:translateY(-50%);top:50%;min-height:44px;}}/*!sc*/
.TvbfG{--segmented-control-button-inner-padding:12px;--segmented-control-button-bg-inset:4px;--segmented-control-outer-radius:6px;background-color:transparent;border-color:transparent;border-radius:var(--segmented-control-outer-radius);border-width:0;color:currentColor;cursor:pointer;font-family:inherit;font-size:inherit;font-weight:400;padding:var(--segmented-control-button-bg-inset);height:100%;width:100%;}/*!sc*/
.TvbfG .segmentedControl-content{-webkit-align-items:center;-webkit-box-align:center;-ms-flex-align:center;align-items:center;background-color:transparent;border-color:transparent;border-style:solid;border-width:1px;border-radius:calc(var(--segmented-control-outer-radius) - var(--segmented-control-button-bg-inset) / 2);display:-webkit-box;display:-webkit-flex;display:-ms-flexbox;display:flex;height:100%;-webkit-box-pack:center;-webkit-justify-content:center;-ms-flex-pack:center;justify-content:center;padding-left:calc(var(--segmented-control-button-inner-padding) - var(--segmented-control-button-bg-inset));padding-right:calc(var(--segmented-control-button-inner-padding) - var(--segmented-control-button-bg-inset));}/*!sc*/
.TvbfG svg{fill:var(--fgColor-muted,var(--color-fg-muted,#656d76));}/*!sc*/
.TvbfG:hover .segmentedControl-content{background-color:var(--controlTrack-bgColor-hover,var(--color-segmented-control-button-hover-bg,rgba(175,184,193,0.2)));}/*!sc*/
.TvbfG:active .segmentedControl-content{background-color:var(--controlTrack-bgColor-active,var(--color-segmented-control-button-hover-active-bg,rgba(175,184,193,0.4)));}/*!sc*/
.TvbfG:focus:focus-visible:not(:last-child):after{width:0;}/*!sc*/
.TvbfG .segmentedControl-text:after{content:"Code";display:block;font-weight:600;height:0;overflow:hidden;pointer-events:none;-webkit-user-select:none;-moz-user-select:none;-ms-user-select:none;user-select:none;visibility:hidden;}/*!sc*/
@media (pointer:coarse){.TvbfG:before{content:"";position:absolute;left:0;right:0;-webkit-transform:translateY(-50%);-ms-transform:translateY(-50%);transform:translateY(-50%);top:50%;min-height:44px;}}/*!sc*/
.fIktcg{--segmented-control-button-inner-padding:12px;--segmented-control-button-bg-inset:4px;--segmented-control-outer-radius:6px;background-color:transparent;border-color:transparent;border-radius:var(--segmented-control-outer-radius);border-width:0;color:currentColor;cursor:pointer;font-family:inherit;font-size:inherit;font-weight:400;padding:var(--segmented-control-button-bg-inset);height:100%;width:100%;}/*!sc*/
.fIktcg .segmentedControl-content{-webkit-align-items:center;-webkit-box-align:center;-ms-flex-align:center;align-items:center;background-color:transparent;border-color:transparent;border-style:solid;border-width:1px;border-radius:calc(var(--segmented-control-outer-radius) - var(--segmented-control-button-bg-inset) / 2);display:-webkit-box;display:-webkit-flex;display:-ms-flexbox;display:flex;height:100%;-webkit-box-pack:center;-webkit-justify-content:center;-ms-flex-pack:center;justify-content:center;padding-left:calc(var(--segmented-control-button-inner-padding) - var(--segmented-control-button-bg-inset));padding-right:calc(var(--segmented-control-button-inner-padding) - var(--segmented-control-button-bg-inset));}/*!sc*/
.fIktcg svg{fill:var(--fgColor-muted,var(--color-fg-muted,#656d76));}/*!sc*/
.fIktcg:hover .segmentedControl-content{background-color:var(--controlTrack-bgColor-hover,var(--color-segmented-control-button-hover-bg,rgba(175,184,193,0.2)));}/*!sc*/
.fIktcg:active .segmentedControl-content{background-color:var(--controlTrack-bgColor-active,var(--color-segmented-control-button-hover-active-bg,rgba(175,184,193,0.4)));}/*!sc*/
.fIktcg:focus:focus-visible:not(:last-child):after{width:0;}/*!sc*/
.fIktcg .segmentedControl-text:after{content:"Blame";display:block;font-weight:600;height:0;overflow:hidden;pointer-events:none;-webkit-user-select:none;-moz-user-select:none;-ms-user-select:none;user-select:none;visibility:hidden;}/*!sc*/
@media (pointer:coarse){.fIktcg:before{content:"";position:absolute;left:0;right:0;-webkit-transform:translateY(-50%);-ms-transform:translateY(-50%);transform:translateY(-50%);top:50%;min-height:44px;}}/*!sc*/
data-styled.g61[id="SegmentedControlButton__SegmentedControlButtonStyled-sc-8lkgxl-0"]{content:"jEdVkE,TvbfG,fIktcg,"}/*!sc*/
.ehDMvU{background-color:var(--controlTrack-bgColor-rest,var(--color-segmented-control-bg,#eaeef2));border-radius:6px;border:1px solid;border-color:var(--controlTrack-borderColor-rest,transparent);display:-webkit-inline-box;display:-webkit-inline-flex;display:-ms-inline-flexbox;display:inline-flex;font-size:14px;height:28px;margin:0;padding:0;}/*!sc*/
data-styled.g63[id="SegmentedControl__SegmentedControlList-sc-1rzig82-0"]{content:"ehDMvU,"}/*!sc*/
</style><meta data-hydrostats="publish"/> <!-- --> <!-- --> <button hidden="" data-testid="header-permalink-button" data-hotkey-scope="read-only-cursor-text-area"></button><button hidden=""></button><div><div style="--sticky-pane-height:100vh" class="Box-sc-g0xbh4-0 fSWWem"><div class="Box-sc-g0xbh4-0 kPPmzM"><div class="Box-sc-g0xbh4-0 cIAPDV"><div tabindex="0" class="Box-sc-g0xbh4-0 gvCnwW"><div class="Box-sc-g0xbh4-0 hgUFaY"><div class="Box-sc-g0xbh4-0 eUyHuk"></div><div style="--pane-width:320px" class="Box-sc-g0xbh4-0 gNdDUH"><div class="react-tree-pane-contents"><div id="repos-file-tree" class="Box-sc-g0xbh4-0 jywUSN"><div class="Box-sc-g0xbh4-0 hBSSUC"><div class="Box-sc-g0xbh4-0 iPurHz"><h2 class="Heading__StyledHeading-sc-1c1dgg0-0 jUaXMC"><button style="--button-color:fg.muted" type="button" aria-label="Expand file tree" data-testid="expand-file-tree-button-mobile" data-loading="false" aria-describedby=":R59lmdaeb:-loading-announcement" class="types__StyledButton-sc-ws60qy-0 jGoVeP"><span data-component="buttonContent" class="Box-sc-g0xbh4-0 kkrdEu"><span data-component="leadingVisual" class="Box-sc-g0xbh4-0 trpoQ"><svg aria-hidden="true" focusable="false" role="img" class="octicon octicon-arrow-left" viewBox="0 0 16 16" width="16" height="16" fill="currentColor" style="display:inline-block;user-select:none;vertical-align:text-bottom;overflow:visible"><path d="M7.78 12.53a.75.75 0 0 1-1.06 0L2.47 8.28a.75.75 0 0 1 0-1.06l4.25-4.25a.751.751 0 0 1 1.042.018.751.751 0 0 1 .018 1.042L4.81 7h7.44a.75.75 0 0 1 0 1.5H4.81l2.97 2.97a.75.75 0 0 1 0 1.06Z"></path></svg></span><span data-component="text">Files</span></span></button><span role="tooltip" aria-label="Collapse file tree" id="expand-button-file-tree-button" class="Tooltip__TooltipBase-sc-17tf59c-0 gNgnVl tooltipped-se"><button data-component="IconButton" type="button" data-testid="collapse-file-tree-button" aria-expanded="true" aria-controls="repos-file-tree" class="types__StyledButton-sc-ws60qy-0 cRDVgI" data-loading="false" data-no-visuals="true" aria-describedby=":Rp9lmdaeb:-loading-announcement" aria-labelledby="expand-button-file-tree-button"><svg aria-hidden="true" focusable="false" role="img" class="octicon octicon-sidebar-expand" viewBox="0 0 16 16" width="16" height="16" fill="currentColor" style="display:inline-block;user-select:none;vertical-align:text-bottom;overflow:visible"><path d="m4.177 7.823 2.396-2.396A.25.25 0 0 1 7 5.604v4.792a.25.25 0 0 1-.427.177L4.177 8.177a.25.25 0 0 1 0-.354Z"></path><path d="M0 1.75C0 .784.784 0 1.75 0h12.5C15.216 0 16 .784 16 1.75v12.5A1.75 1.75 0 0 1 14.25 16H1.75A1.75 1.75 0 0 1 0 14.25Zm1.75-.25a.25.25 0 0 0-.25.25v12.5c0 .138.112.25.25.25H9.5v-13Zm12.5 13a.25.25 0 0 0 .25-.25V1.75a.25.25 0 0 0-.25-.25H11v13Z"></path></svg></button></span><button hidden="" data-testid="" data-hotkey-scope="read-only-cursor-text-area"></button></h2><h2 class="Heading__StyledHeading-sc-1c1dgg0-0 fReAGt">Files</h2></div><div class="Box-sc-g0xbh4-0 hVHHYa"><div class="Box-sc-g0xbh4-0 idZfsJ"><button type="button" aria-haspopup="true" aria-expanded="false" tabindex="0" aria-label="main branch" data-testid="anchor-button" class="types__StyledButton-sc-ws60qy-0 jwBfae react-repos-tree-pane-ref-selector width-full ref-selector-class" data-loading="false" aria-describedby="branch-picker-repos-header-ref-selector-loading-announcement" id="branch-picker-repos-header-ref-selector"><span data-component="buttonContent" class="Box-sc-g0xbh4-0 kkrdEu"><span data-component="text"><div class="Box-sc-g0xbh4-0 bKgizp"><div class="Box-sc-g0xbh4-0 iPGYsi"><svg aria-hidden="true" focusable="false" role="img" class="octicon octicon-git-branch" viewBox="0 0 16 16" width="16" height="16" fill="currentColor" style="display:inline-block;user-select:none;vertical-align:text-bottom;overflow:visible"><path d="M9.5 3.25a2.25 2.25 0 1 1 3 2.122V6A2.5 2.5 0 0 1 10 8.5H6a1 1 0 0 0-1 1v1.128a2.251 2.251 0 1 1-1.5 0V5.372a2.25 2.25 0 1 1 1.5 0v1.836A2.493 2.493 0 0 1 6 7h4a1 1 0 0 0 1-1v-.628A2.25 2.25 0 0 1 9.5 3.25Zm-6 0a.75.75 0 1 0 1.5 0 .75.75 0 0 0-1.5 0Zm8.25-.75a.75.75 0 1 0 0 1.5.75.75 0 0 0 0-1.5ZM4.25 12a.75.75 0 1 0 0 1.5.75.75 0 0 0 0-1.5Z"></path></svg></div><div class="Box-sc-g0xbh4-0 caeYDk ref-selector-button-text-container"><span class="Text-sc-17v1xeu-0 bOMzPg"> <!-- -->main</span></div></div></span><span data-component="trailingVisual" class="Box-sc-g0xbh4-0 trpoQ"><svg aria-hidden="true" focusable="false" role="img" class="octicon octicon-triangle-down" viewBox="0 0 16 16" width="16" height="16" fill="currentColor" style="display:inline-block;user-select:none;vertical-align:text-bottom;overflow:visible"><path d="m4.427 7.427 3.396 3.396a.25.25 0 0 0 .354 0l3.396-3.396A.25.25 0 0 0 11.396 7H4.604a.25.25 0 0 0-.177.427Z"></path></svg></span></span></button><button hidden="" data-hotkey-scope="read-only-cursor-text-area"></button></div><div class="Box-sc-g0xbh4-0 jahcnb"><span role="tooltip" aria-label="Add file" id=":R6hlmdaeb:" class="Tooltip__TooltipBase-sc-17tf59c-0 gNgnVl tooltipped-s"><a sx="[object Object]" data-component="IconButton" type="button" aria-label="Add file" data-loading="false" data-no-visuals="true" aria-describedby=":Rmhlmdaeb:-loading-announcement" class="types__StyledButton-sc-ws60qy-0 YkvTm" href="/MathforDataScience/DSR_Statistics1/new/main/7_%20Hypotheses"><svg aria-hidden="true" focusable="false" role="img" class="octicon octicon-plus" viewBox="0 0 16 16" width="16" height="16" fill="currentColor" style="display:inline-block;user-select:none;vertical-align:text-bottom;overflow:visible"><path d="M7.75 2a.75.75 0 0 1 .75.75V7h4.25a.75.75 0 0 1 0 1.5H8.5v4.25a.75.75 0 0 1-1.5 0V8.5H2.75a.75.75 0 0 1 0-1.5H7V2.75A.75.75 0 0 1 7.75 2Z"></path></svg></a></span><button data-component="IconButton" type="button" aria-label="Search this repository" data-loading="false" data-no-visuals="true" aria-describedby=":Rqhlmdaeb:-loading-announcement" class="types__StyledButton-sc-ws60qy-0 klDWQA"><svg aria-hidden="true" focusable="false" role="img" class="octicon octicon-search" viewBox="0 0 16 16" width="16" height="16" fill="currentColor" style="display:inline-block;user-select:none;vertical-align:text-bottom;overflow:visible"><path d="M10.68 11.74a6 6 0 0 1-7.922-8.982 6 6 0 0 1 8.982 7.922l3.04 3.04a.749.749 0 0 1-.326 1.275.749.749 0 0 1-.734-.215ZM11.5 7a4.499 4.499 0 1 0-8.997 0A4.499 4.499 0 0 0 11.5 7Z"></path></svg></button><button hidden="" data-testid="" data-hotkey-scope="read-only-cursor-text-area"></button></div></div></div><div class="Box-sc-g0xbh4-0 ccToMy"><span class="TextInputWrapper__TextInputBaseWrapper-sc-1mqhpbi-0 TextInputWrapper-sc-1mqhpbi-1 cXNreu jbzqwE TextInput-wrapper" aria-busy="false"><span class="TextInput-icon"><svg aria-hidden="true" focusable="false" role="img" class="octicon octicon-search" viewBox="0 0 16 16" width="16" height="16" fill="currentColor" style="display:inline-block;user-select:none;vertical-align:text-bottom;overflow:visible"><path d="M10.68 11.74a6 6 0 0 1-7.922-8.982 6 6 0 0 1 8.982 7.922l3.04 3.04a.749.749 0 0 1-.326 1.275.749.749 0 0 1-.734-.215ZM11.5 7a4.499 4.499 0 1 0-8.997 0A4.499 4.499 0 0 0 11.5 7Z"></path></svg></span><input type="text" aria-label="Go to file" role="combobox" aria-controls="file-results-list" aria-expanded="false" aria-haspopup="dialog" autoCorrect="off" spellcheck="false" placeholder="Go to file" data-component="input" class="UnstyledTextInput-sc-14ypya-0 cDLBls" value=""/><span class="TextInput-icon"><div class="Box-sc-g0xbh4-0 cNvKlH"><kbd>t</kbd></div></span></span></div><button hidden="" data-testid="" data-hotkey-scope="read-only-cursor-text-area"></button><button hidden=""></button><div class="Box-sc-g0xbh4-0 cLfAnm"><div class="react-tree-show-tree-items"><div data-testid="repos-file-tree-container" class="Box-sc-g0xbh4-0 erWCJP"><nav aria-label="File Tree Navigation"><span role="status" aria-live="polite" aria-atomic="true" class="_VisuallyHidden__VisuallyHidden-sc-11jhm7a-0 rTZSs"></span><ul role="tree" aria-label="Files" class="TreeView__UlBox-sc-4ex6b6-0 dgvcvm"><li class="PRIVATE_TreeView-item" tabindex="0" id="2_ Descriptive Statistics-item" role="treeitem" aria-labelledby=":Rqclmdaeb:" aria-describedby=":RqclmdaebH1: :RqclmdaebH2:" aria-level="1" aria-expanded="false" aria-selected="false"><div class="PRIVATE_TreeView-item-container" style="--level:1;content-visibility:auto;contain-intrinsic-size:auto 2rem"><div style="grid-area:spacer;display:flex"><div style="width:100%;display:flex"></div></div><div class="PRIVATE_TreeView-item-toggle PRIVATE_TreeView-item-toggle--hover PRIVATE_TreeView-item-toggle--end"><svg aria-hidden="true" focusable="false" class="octicon octicon-chevron-right" viewBox="0 0 12 12" width="12" height="12" fill="currentColor" style="display:inline-block;user-select:none;vertical-align:text-bottom;overflow:visible"><path d="M4.7 10c-.2 0-.4-.1-.5-.2-.3-.3-.3-.8 0-1.1L6.9 6 4.2 3.3c-.3-.3-.3-.8 0-1.1.3-.3.8-.3 1.1 0l3.3 3.2c.3.3.3.8 0 1.1L5.3 9.7c-.2.2-.4.3-.6.3Z"></path></svg></div><div id=":Rqclmdaeb:" class="PRIVATE_TreeView-item-content"><div class="PRIVATE_VisuallyHidden" aria-hidden="true" id=":RqclmdaebH1:"></div><div class="PRIVATE_TreeView-item-visual" aria-hidden="true"><div class="PRIVATE_TreeView-directory-icon"><svg aria-hidden="true" focusable="false" class="octicon octicon-file-directory-fill" viewBox="0 0 16 16" width="16" height="16" fill="currentColor" style="display:inline-block;user-select:none;vertical-align:text-bottom;overflow:visible"><path d="M1.75 1A1.75 1.75 0 0 0 0 2.75v10.5C0 14.216.784 15 1.75 15h12.5A1.75 1.75 0 0 0 16 13.25v-8.5A1.75 1.75 0 0 0 14.25 3H7.5a.25.25 0 0 1-.2-.1l-.9-1.2C6.07 1.26 5.55 1 5 1H1.75Z"></path></svg></div></div><span class="PRIVATE_TreeView-item-content-text"><span>2_ Descriptive Statistics</span></span></div></div></li><li class="PRIVATE_TreeView-item" tabindex="0" id="3_ Combinatorics-item" role="treeitem" aria-labelledby=":R1aclmdaeb:" aria-describedby=":R1aclmdaebH1: :R1aclmdaebH2:" aria-level="1" aria-expanded="false" aria-selected="false"><div class="PRIVATE_TreeView-item-container" style="--level:1;content-visibility:auto;contain-intrinsic-size:auto 2rem"><div style="grid-area:spacer;display:flex"><div style="width:100%;display:flex"></div></div><div class="PRIVATE_TreeView-item-toggle PRIVATE_TreeView-item-toggle--hover PRIVATE_TreeView-item-toggle--end"><svg aria-hidden="true" focusable="false" class="octicon octicon-chevron-right" viewBox="0 0 12 12" width="12" height="12" fill="currentColor" style="display:inline-block;user-select:none;vertical-align:text-bottom;overflow:visible"><path d="M4.7 10c-.2 0-.4-.1-.5-.2-.3-.3-.3-.8 0-1.1L6.9 6 4.2 3.3c-.3-.3-.3-.8 0-1.1.3-.3.8-.3 1.1 0l3.3 3.2c.3.3.3.8 0 1.1L5.3 9.7c-.2.2-.4.3-.6.3Z"></path></svg></div><div id=":R1aclmdaeb:" class="PRIVATE_TreeView-item-content"><div class="PRIVATE_VisuallyHidden" aria-hidden="true" id=":R1aclmdaebH1:"></div><div class="PRIVATE_TreeView-item-visual" aria-hidden="true"><div class="PRIVATE_TreeView-directory-icon"><svg aria-hidden="true" focusable="false" class="octicon octicon-file-directory-fill" viewBox="0 0 16 16" width="16" height="16" fill="currentColor" style="display:inline-block;user-select:none;vertical-align:text-bottom;overflow:visible"><path d="M1.75 1A1.75 1.75 0 0 0 0 2.75v10.5C0 14.216.784 15 1.75 15h12.5A1.75 1.75 0 0 0 16 13.25v-8.5A1.75 1.75 0 0 0 14.25 3H7.5a.25.25 0 0 1-.2-.1l-.9-1.2C6.07 1.26 5.55 1 5 1H1.75Z"></path></svg></div></div><span class="PRIVATE_TreeView-item-content-text"><span>3_ Combinatorics</span></span></div></div></li><li class="PRIVATE_TreeView-item" tabindex="0" id="4_ Distributions-item" role="treeitem" aria-labelledby=":R1qclmdaeb:" aria-describedby=":R1qclmdaebH1: :R1qclmdaebH2:" aria-level="1" aria-expanded="false" aria-selected="false"><div class="PRIVATE_TreeView-item-container" style="--level:1;content-visibility:auto;contain-intrinsic-size:auto 2rem"><div style="grid-area:spacer;display:flex"><div style="width:100%;display:flex"></div></div><div class="PRIVATE_TreeView-item-toggle PRIVATE_TreeView-item-toggle--hover PRIVATE_TreeView-item-toggle--end"><svg aria-hidden="true" focusable="false" class="octicon octicon-chevron-right" viewBox="0 0 12 12" width="12" height="12" fill="currentColor" style="display:inline-block;user-select:none;vertical-align:text-bottom;overflow:visible"><path d="M4.7 10c-.2 0-.4-.1-.5-.2-.3-.3-.3-.8 0-1.1L6.9 6 4.2 3.3c-.3-.3-.3-.8 0-1.1.3-.3.8-.3 1.1 0l3.3 3.2c.3.3.3.8 0 1.1L5.3 9.7c-.2.2-.4.3-.6.3Z"></path></svg></div><div id=":R1qclmdaeb:" class="PRIVATE_TreeView-item-content"><div class="PRIVATE_VisuallyHidden" aria-hidden="true" id=":R1qclmdaebH1:"></div><div class="PRIVATE_TreeView-item-visual" aria-hidden="true"><div class="PRIVATE_TreeView-directory-icon"><svg aria-hidden="true" focusable="false" class="octicon octicon-file-directory-fill" viewBox="0 0 16 16" width="16" height="16" fill="currentColor" style="display:inline-block;user-select:none;vertical-align:text-bottom;overflow:visible"><path d="M1.75 1A1.75 1.75 0 0 0 0 2.75v10.5C0 14.216.784 15 1.75 15h12.5A1.75 1.75 0 0 0 16 13.25v-8.5A1.75 1.75 0 0 0 14.25 3H7.5a.25.25 0 0 1-.2-.1l-.9-1.2C6.07 1.26 5.55 1 5 1H1.75Z"></path></svg></div></div><span class="PRIVATE_TreeView-item-content-text"><span>4_ Distributions</span></span></div></div></li><li class="PRIVATE_TreeView-item" tabindex="0" id="5_ Conditional Prob-item" role="treeitem" aria-labelledby=":R2aclmdaeb:" aria-describedby=":R2aclmdaebH1: :R2aclmdaebH2:" aria-level="1" aria-expanded="false" aria-selected="false"><div class="PRIVATE_TreeView-item-container" style="--level:1;content-visibility:auto;contain-intrinsic-size:auto 2rem"><div style="grid-area:spacer;display:flex"><div style="width:100%;display:flex"></div></div><div class="PRIVATE_TreeView-item-toggle PRIVATE_TreeView-item-toggle--hover PRIVATE_TreeView-item-toggle--end"><svg aria-hidden="true" focusable="false" class="octicon octicon-chevron-right" viewBox="0 0 12 12" width="12" height="12" fill="currentColor" style="display:inline-block;user-select:none;vertical-align:text-bottom;overflow:visible"><path d="M4.7 10c-.2 0-.4-.1-.5-.2-.3-.3-.3-.8 0-1.1L6.9 6 4.2 3.3c-.3-.3-.3-.8 0-1.1.3-.3.8-.3 1.1 0l3.3 3.2c.3.3.3.8 0 1.1L5.3 9.7c-.2.2-.4.3-.6.3Z"></path></svg></div><div id=":R2aclmdaeb:" class="PRIVATE_TreeView-item-content"><div class="PRIVATE_VisuallyHidden" aria-hidden="true" id=":R2aclmdaebH1:"></div><div class="PRIVATE_TreeView-item-visual" aria-hidden="true"><div class="PRIVATE_TreeView-directory-icon"><svg aria-hidden="true" focusable="false" class="octicon octicon-file-directory-fill" viewBox="0 0 16 16" width="16" height="16" fill="currentColor" style="display:inline-block;user-select:none;vertical-align:text-bottom;overflow:visible"><path d="M1.75 1A1.75 1.75 0 0 0 0 2.75v10.5C0 14.216.784 15 1.75 15h12.5A1.75 1.75 0 0 0 16 13.25v-8.5A1.75 1.75 0 0 0 14.25 3H7.5a.25.25 0 0 1-.2-.1l-.9-1.2C6.07 1.26 5.55 1 5 1H1.75Z"></path></svg></div></div><span class="PRIVATE_TreeView-item-content-text"><span>5_ Conditional Prob</span></span></div></div></li><li class="PRIVATE_TreeView-item" tabindex="0" id="6_ Sampling-item" role="treeitem" aria-labelledby=":R2qclmdaeb:" aria-describedby=":R2qclmdaebH1: :R2qclmdaebH2:" aria-level="1" aria-expanded="false" aria-selected="false"><div class="PRIVATE_TreeView-item-container" style="--level:1;content-visibility:auto;contain-intrinsic-size:auto 2rem"><div style="grid-area:spacer;display:flex"><div style="width:100%;display:flex"></div></div><div class="PRIVATE_TreeView-item-toggle PRIVATE_TreeView-item-toggle--hover PRIVATE_TreeView-item-toggle--end"><svg aria-hidden="true" focusable="false" class="octicon octicon-chevron-right" viewBox="0 0 12 12" width="12" height="12" fill="currentColor" style="display:inline-block;user-select:none;vertical-align:text-bottom;overflow:visible"><path d="M4.7 10c-.2 0-.4-.1-.5-.2-.3-.3-.3-.8 0-1.1L6.9 6 4.2 3.3c-.3-.3-.3-.8 0-1.1.3-.3.8-.3 1.1 0l3.3 3.2c.3.3.3.8 0 1.1L5.3 9.7c-.2.2-.4.3-.6.3Z"></path></svg></div><div id=":R2qclmdaeb:" class="PRIVATE_TreeView-item-content"><div class="PRIVATE_VisuallyHidden" aria-hidden="true" id=":R2qclmdaebH1:"></div><div class="PRIVATE_TreeView-item-visual" aria-hidden="true"><div class="PRIVATE_TreeView-directory-icon"><svg aria-hidden="true" focusable="false" class="octicon octicon-file-directory-fill" viewBox="0 0 16 16" width="16" height="16" fill="currentColor" style="display:inline-block;user-select:none;vertical-align:text-bottom;overflow:visible"><path d="M1.75 1A1.75 1.75 0 0 0 0 2.75v10.5C0 14.216.784 15 1.75 15h12.5A1.75 1.75 0 0 0 16 13.25v-8.5A1.75 1.75 0 0 0 14.25 3H7.5a.25.25 0 0 1-.2-.1l-.9-1.2C6.07 1.26 5.55 1 5 1H1.75Z"></path></svg></div></div><span class="PRIVATE_TreeView-item-content-text"><span>6_ Sampling</span></span></div></div></li><li class="PRIVATE_TreeView-item" tabindex="0" id="7_ Hypotheses-item" role="treeitem" aria-labelledby=":R3aclmdaeb:" aria-describedby=":R3aclmdaebH1: :R3aclmdaebH2:" aria-level="1" aria-expanded="true" aria-selected="false"><div class="PRIVATE_TreeView-item-container" style="--level:1;content-visibility:auto;contain-intrinsic-size:auto 2rem"><div style="grid-area:spacer;display:flex"><div style="width:100%;display:flex"></div></div><div class="PRIVATE_TreeView-item-toggle PRIVATE_TreeView-item-toggle--hover PRIVATE_TreeView-item-toggle--end"><svg aria-hidden="true" focusable="false" class="octicon octicon-chevron-down" viewBox="0 0 12 12" width="12" height="12" fill="currentColor" style="display:inline-block;user-select:none;vertical-align:text-bottom;overflow:visible"><path d="M6 8.825c-.2 0-.4-.1-.5-.2l-3.3-3.3c-.3-.3-.3-.8 0-1.1.3-.3.8-.3 1.1 0l2.7 2.7 2.7-2.7c.3-.3.8-.3 1.1 0 .3.3.3.8 0 1.1l-3.2 3.2c-.2.2-.4.3-.6.3Z"></path></svg></div><div id=":R3aclmdaeb:" class="PRIVATE_TreeView-item-content"><div class="PRIVATE_VisuallyHidden" aria-hidden="true" id=":R3aclmdaebH1:"></div><div class="PRIVATE_TreeView-item-visual" aria-hidden="true"><div class="PRIVATE_TreeView-directory-icon"><svg aria-hidden="true" focusable="false" class="octicon octicon-file-directory-open-fill" viewBox="0 0 16 16" width="16" height="16" fill="currentColor" style="display:inline-block;user-select:none;vertical-align:text-bottom;overflow:visible"><path d="M.513 1.513A1.75 1.75 0 0 1 1.75 1h3.5c.55 0 1.07.26 1.4.7l.9 1.2a.25.25 0 0 0 .2.1H13a1 1 0 0 1 1 1v.5H2.75a.75.75 0 0 0 0 1.5h11.978a1 1 0 0 1 .994 1.117L15 13.25A1.75 1.75 0 0 1 13.25 15H1.75A1.75 1.75 0 0 1 0 13.25V2.75c0-.464.184-.91.513-1.237Z"></path></svg></div></div><span class="PRIVATE_TreeView-item-content-text"><span>7_ Hypotheses</span></span></div></div><ul role="group" style="list-style:none;padding:0;margin:0"><li class="PRIVATE_TreeView-item" tabindex="0" id="7_ Hypotheses/7_1 t-2-groups.ipynb-item" role="treeitem" aria-labelledby=":Rbbaclmdaeb:" aria-describedby=":RbbaclmdaebH1: :RbbaclmdaebH2:" aria-level="2" aria-selected="false"><div class="PRIVATE_TreeView-item-container" style="--level:2;content-visibility:auto;contain-intrinsic-size:auto 2rem"><div style="grid-area:spacer;display:flex"><div style="width:100%;display:flex"><div class="PRIVATE_TreeView-item-level-line"></div></div></div><div id=":Rbbaclmdaeb:" class="PRIVATE_TreeView-item-content"><div class="PRIVATE_VisuallyHidden" aria-hidden="true" id=":RbbaclmdaebH1:"></div><div class="PRIVATE_TreeView-item-visual" aria-hidden="true"><svg aria-hidden="true" focusable="false" role="img" class="octicon octicon-file" viewBox="0 0 16 16" width="16" height="16" fill="currentColor" style="display:inline-block;user-select:none;vertical-align:text-bottom;overflow:visible"><path d="M2 1.75C2 .784 2.784 0 3.75 0h6.586c.464 0 .909.184 1.237.513l2.914 2.914c.329.328.513.773.513 1.237v9.586A1.75 1.75 0 0 1 13.25 16h-9.5A1.75 1.75 0 0 1 2 14.25Zm1.75-.25a.25.25 0 0 0-.25.25v12.5c0 .138.112.25.25.25h9.5a.25.25 0 0 0 .25-.25V6h-2.75A1.75 1.75 0 0 1 9 4.25V1.5Zm6.75.062V4.25c0 .138.112.25.25.25h2.688l-.011-.013-2.914-2.914-.013-.011Z"></path></svg></div><span class="PRIVATE_TreeView-item-content-text"><span>7_1 t-2-groups.ipynb</span></span></div></div></li><li class="PRIVATE_TreeView-item" tabindex="0" id="7_ Hypotheses/7_2 paired t-test.ipynb-item" role="treeitem" aria-labelledby=":Rjbaclmdaeb:" aria-describedby=":RjbaclmdaebH1: :RjbaclmdaebH2:" aria-level="2" aria-current="true" aria-selected="false"><div class="PRIVATE_TreeView-item-container" style="--level:2"><div style="grid-area:spacer;display:flex"><div style="width:100%;display:flex"><div class="PRIVATE_TreeView-item-level-line"></div></div></div><div id=":Rjbaclmdaeb:" class="PRIVATE_TreeView-item-content"><div class="PRIVATE_VisuallyHidden" aria-hidden="true" id=":RjbaclmdaebH1:"></div><div class="PRIVATE_TreeView-item-visual" aria-hidden="true"><svg aria-hidden="true" focusable="false" role="img" class="octicon octicon-file" viewBox="0 0 16 16" width="16" height="16" fill="currentColor" style="display:inline-block;user-select:none;vertical-align:text-bottom;overflow:visible"><path d="M2 1.75C2 .784 2.784 0 3.75 0h6.586c.464 0 .909.184 1.237.513l2.914 2.914c.329.328.513.773.513 1.237v9.586A1.75 1.75 0 0 1 13.25 16h-9.5A1.75 1.75 0 0 1 2 14.25Zm1.75-.25a.25.25 0 0 0-.25.25v12.5c0 .138.112.25.25.25h9.5a.25.25 0 0 0 .25-.25V6h-2.75A1.75 1.75 0 0 1 9 4.25V1.5Zm6.75.062V4.25c0 .138.112.25.25.25h2.688l-.011-.013-2.914-2.914-.013-.011Z"></path></svg></div><span class="PRIVATE_TreeView-item-content-text"><span>7_2 paired t-test.ipynb</span></span></div></div></li><li class="PRIVATE_TreeView-item" tabindex="0" id="7_ Hypotheses/7_3_Chi^2.ipynb-item" role="treeitem" aria-labelledby=":Rrbaclmdaeb:" aria-describedby=":RrbaclmdaebH1: :RrbaclmdaebH2:" aria-level="2" aria-selected="false"><div class="PRIVATE_TreeView-item-container" style="--level:2;content-visibility:auto;contain-intrinsic-size:auto 2rem"><div style="grid-area:spacer;display:flex"><div style="width:100%;display:flex"><div class="PRIVATE_TreeView-item-level-line"></div></div></div><div id=":Rrbaclmdaeb:" class="PRIVATE_TreeView-item-content"><div class="PRIVATE_VisuallyHidden" aria-hidden="true" id=":RrbaclmdaebH1:"></div><div class="PRIVATE_TreeView-item-visual" aria-hidden="true"><svg aria-hidden="true" focusable="false" role="img" class="octicon octicon-file" viewBox="0 0 16 16" width="16" height="16" fill="currentColor" style="display:inline-block;user-select:none;vertical-align:text-bottom;overflow:visible"><path d="M2 1.75C2 .784 2.784 0 3.75 0h6.586c.464 0 .909.184 1.237.513l2.914 2.914c.329.328.513.773.513 1.237v9.586A1.75 1.75 0 0 1 13.25 16h-9.5A1.75 1.75 0 0 1 2 14.25Zm1.75-.25a.25.25 0 0 0-.25.25v12.5c0 .138.112.25.25.25h9.5a.25.25 0 0 0 .25-.25V6h-2.75A1.75 1.75 0 0 1 9 4.25V1.5Zm6.75.062V4.25c0 .138.112.25.25.25h2.688l-.011-.013-2.914-2.914-.013-.011Z"></path></svg></div><span class="PRIVATE_TreeView-item-content-text"><span>7_3_Chi^2.ipynb</span></span></div></div></li><li class="PRIVATE_TreeView-item" tabindex="0" id="7_ Hypotheses/7_4 F-test.ipynb-item" role="treeitem" aria-labelledby=":R13baclmdaeb:" aria-describedby=":R13baclmdaebH1: :R13baclmdaebH2:" aria-level="2" aria-selected="false"><div class="PRIVATE_TreeView-item-container" style="--level:2;content-visibility:auto;contain-intrinsic-size:auto 2rem"><div style="grid-area:spacer;display:flex"><div style="width:100%;display:flex"><div class="PRIVATE_TreeView-item-level-line"></div></div></div><div id=":R13baclmdaeb:" class="PRIVATE_TreeView-item-content"><div class="PRIVATE_VisuallyHidden" aria-hidden="true" id=":R13baclmdaebH1:"></div><div class="PRIVATE_TreeView-item-visual" aria-hidden="true"><svg aria-hidden="true" focusable="false" role="img" class="octicon octicon-file" viewBox="0 0 16 16" width="16" height="16" fill="currentColor" style="display:inline-block;user-select:none;vertical-align:text-bottom;overflow:visible"><path d="M2 1.75C2 .784 2.784 0 3.75 0h6.586c.464 0 .909.184 1.237.513l2.914 2.914c.329.328.513.773.513 1.237v9.586A1.75 1.75 0 0 1 13.25 16h-9.5A1.75 1.75 0 0 1 2 14.25Zm1.75-.25a.25.25 0 0 0-.25.25v12.5c0 .138.112.25.25.25h9.5a.25.25 0 0 0 .25-.25V6h-2.75A1.75 1.75 0 0 1 9 4.25V1.5Zm6.75.062V4.25c0 .138.112.25.25.25h2.688l-.011-.013-2.914-2.914-.013-.011Z"></path></svg></div><span class="PRIVATE_TreeView-item-content-text"><span>7_4 F-test.ipynb</span></span></div></div></li><li class="PRIVATE_TreeView-item" tabindex="0" id="7_ Hypotheses/Chi^2 and ANOVA.xlsx-item" role="treeitem" aria-labelledby=":R1bbaclmdaeb:" aria-describedby=":R1bbaclmdaebH1: :R1bbaclmdaebH2:" aria-level="2" aria-selected="false"><div class="PRIVATE_TreeView-item-container" style="--level:2;content-visibility:auto;contain-intrinsic-size:auto 2rem"><div style="grid-area:spacer;display:flex"><div style="width:100%;display:flex"><div class="PRIVATE_TreeView-item-level-line"></div></div></div><div id=":R1bbaclmdaeb:" class="PRIVATE_TreeView-item-content"><div class="PRIVATE_VisuallyHidden" aria-hidden="true" id=":R1bbaclmdaebH1:"></div><div class="PRIVATE_TreeView-item-visual" aria-hidden="true"><svg aria-hidden="true" focusable="false" role="img" class="octicon octicon-file" viewBox="0 0 16 16" width="16" height="16" fill="currentColor" style="display:inline-block;user-select:none;vertical-align:text-bottom;overflow:visible"><path d="M2 1.75C2 .784 2.784 0 3.75 0h6.586c.464 0 .909.184 1.237.513l2.914 2.914c.329.328.513.773.513 1.237v9.586A1.75 1.75 0 0 1 13.25 16h-9.5A1.75 1.75 0 0 1 2 14.25Zm1.75-.25a.25.25 0 0 0-.25.25v12.5c0 .138.112.25.25.25h9.5a.25.25 0 0 0 .25-.25V6h-2.75A1.75 1.75 0 0 1 9 4.25V1.5Zm6.75.062V4.25c0 .138.112.25.25.25h2.688l-.011-.013-2.914-2.914-.013-.011Z"></path></svg></div><span class="PRIVATE_TreeView-item-content-text"><span>Chi^2 and ANOVA.xlsx</span></span></div></div></li></ul></li><li class="PRIVATE_TreeView-item" tabindex="0" id="8_ Model Estimation-item" role="treeitem" aria-labelledby=":R3qclmdaeb:" aria-describedby=":R3qclmdaebH1: :R3qclmdaebH2:" aria-level="1" aria-expanded="false" aria-selected="false"><div class="PRIVATE_TreeView-item-container" style="--level:1;content-visibility:auto;contain-intrinsic-size:auto 2rem"><div style="grid-area:spacer;display:flex"><div style="width:100%;display:flex"></div></div><div class="PRIVATE_TreeView-item-toggle PRIVATE_TreeView-item-toggle--hover PRIVATE_TreeView-item-toggle--end"><svg aria-hidden="true" focusable="false" class="octicon octicon-chevron-right" viewBox="0 0 12 12" width="12" height="12" fill="currentColor" style="display:inline-block;user-select:none;vertical-align:text-bottom;overflow:visible"><path d="M4.7 10c-.2 0-.4-.1-.5-.2-.3-.3-.3-.8 0-1.1L6.9 6 4.2 3.3c-.3-.3-.3-.8 0-1.1.3-.3.8-.3 1.1 0l3.3 3.2c.3.3.3.8 0 1.1L5.3 9.7c-.2.2-.4.3-.6.3Z"></path></svg></div><div id=":R3qclmdaeb:" class="PRIVATE_TreeView-item-content"><div class="PRIVATE_VisuallyHidden" aria-hidden="true" id=":R3qclmdaebH1:"></div><div class="PRIVATE_TreeView-item-visual" aria-hidden="true"><div class="PRIVATE_TreeView-directory-icon"><svg aria-hidden="true" focusable="false" class="octicon octicon-file-directory-fill" viewBox="0 0 16 16" width="16" height="16" fill="currentColor" style="display:inline-block;user-select:none;vertical-align:text-bottom;overflow:visible"><path d="M1.75 1A1.75 1.75 0 0 0 0 2.75v10.5C0 14.216.784 15 1.75 15h12.5A1.75 1.75 0 0 0 16 13.25v-8.5A1.75 1.75 0 0 0 14.25 3H7.5a.25.25 0 0 1-.2-.1l-.9-1.2C6.07 1.26 5.55 1 5 1H1.75Z"></path></svg></div></div><span class="PRIVATE_TreeView-item-content-text"><span>8_ Model Estimation</span></span></div></div></li><li class="PRIVATE_TreeView-item" tabindex="0" id="Distributions map.pdf-item" role="treeitem" aria-labelledby=":R4aclmdaeb:" aria-describedby=":R4aclmdaebH1: :R4aclmdaebH2:" aria-level="1" aria-selected="false"><div class="PRIVATE_TreeView-item-container" style="--level:1;content-visibility:auto;contain-intrinsic-size:auto 2rem"><div style="grid-area:spacer;display:flex"><div style="width:100%;display:flex"></div></div><div id=":R4aclmdaeb:" class="PRIVATE_TreeView-item-content"><div class="PRIVATE_VisuallyHidden" aria-hidden="true" id=":R4aclmdaebH1:"></div><div class="PRIVATE_TreeView-item-visual" aria-hidden="true"><svg aria-hidden="true" focusable="false" role="img" class="octicon octicon-file" viewBox="0 0 16 16" width="16" height="16" fill="currentColor" style="display:inline-block;user-select:none;vertical-align:text-bottom;overflow:visible"><path d="M2 1.75C2 .784 2.784 0 3.75 0h6.586c.464 0 .909.184 1.237.513l2.914 2.914c.329.328.513.773.513 1.237v9.586A1.75 1.75 0 0 1 13.25 16h-9.5A1.75 1.75 0 0 1 2 14.25Zm1.75-.25a.25.25 0 0 0-.25.25v12.5c0 .138.112.25.25.25h9.5a.25.25 0 0 0 .25-.25V6h-2.75A1.75 1.75 0 0 1 9 4.25V1.5Zm6.75.062V4.25c0 .138.112.25.25.25h2.688l-.011-.013-2.914-2.914-.013-.011Z"></path></svg></div><span class="PRIVATE_TreeView-item-content-text"><span>Distributions map.pdf</span></span></div></div></li><li class="PRIVATE_TreeView-item" tabindex="0" id="Introduction to Statistics _v22.pdf-item" role="treeitem" aria-labelledby=":R4qclmdaeb:" aria-describedby=":R4qclmdaebH1: :R4qclmdaebH2:" aria-level="1" aria-selected="false"><div class="PRIVATE_TreeView-item-container" style="--level:1;content-visibility:auto;contain-intrinsic-size:auto 2rem"><div style="grid-area:spacer;display:flex"><div style="width:100%;display:flex"></div></div><div id=":R4qclmdaeb:" class="PRIVATE_TreeView-item-content"><div class="PRIVATE_VisuallyHidden" aria-hidden="true" id=":R4qclmdaebH1:"></div><div class="PRIVATE_TreeView-item-visual" aria-hidden="true"><svg aria-hidden="true" focusable="false" role="img" class="octicon octicon-file" viewBox="0 0 16 16" width="16" height="16" fill="currentColor" style="display:inline-block;user-select:none;vertical-align:text-bottom;overflow:visible"><path d="M2 1.75C2 .784 2.784 0 3.75 0h6.586c.464 0 .909.184 1.237.513l2.914 2.914c.329.328.513.773.513 1.237v9.586A1.75 1.75 0 0 1 13.25 16h-9.5A1.75 1.75 0 0 1 2 14.25Zm1.75-.25a.25.25 0 0 0-.25.25v12.5c0 .138.112.25.25.25h9.5a.25.25 0 0 0 .25-.25V6h-2.75A1.75 1.75 0 0 1 9 4.25V1.5Zm6.75.062V4.25c0 .138.112.25.25.25h2.688l-.011-.013-2.914-2.914-.013-.011Z"></path></svg></div><span class="PRIVATE_TreeView-item-content-text"><span>Introduction to Statistics _v22.pdf</span></span></div></div></li><li class="PRIVATE_TreeView-item" tabindex="0" id="README.md-item" role="treeitem" aria-labelledby=":R5aclmdaeb:" aria-describedby=":R5aclmdaebH1: :R5aclmdaebH2:" aria-level="1" aria-selected="false"><div class="PRIVATE_TreeView-item-container" style="--level:1;content-visibility:auto;contain-intrinsic-size:auto 2rem"><div style="grid-area:spacer;display:flex"><div style="width:100%;display:flex"></div></div><div id=":R5aclmdaeb:" class="PRIVATE_TreeView-item-content"><div class="PRIVATE_VisuallyHidden" aria-hidden="true" id=":R5aclmdaebH1:"></div><div class="PRIVATE_TreeView-item-visual" aria-hidden="true"><svg aria-hidden="true" focusable="false" role="img" class="octicon octicon-file" viewBox="0 0 16 16" width="16" height="16" fill="currentColor" style="display:inline-block;user-select:none;vertical-align:text-bottom;overflow:visible"><path d="M2 1.75C2 .784 2.784 0 3.75 0h6.586c.464 0 .909.184 1.237.513l2.914 2.914c.329.328.513.773.513 1.237v9.586A1.75 1.75 0 0 1 13.25 16h-9.5A1.75 1.75 0 0 1 2 14.25Zm1.75-.25a.25.25 0 0 0-.25.25v12.5c0 .138.112.25.25.25h9.5a.25.25 0 0 0 .25-.25V6h-2.75A1.75 1.75 0 0 1 9 4.25V1.5Zm6.75.062V4.25c0 .138.112.25.25.25h2.688l-.011-.013-2.914-2.914-.013-.011Z"></path></svg></div><span class="PRIVATE_TreeView-item-content-text"><span>README.md</span></span></div></div></li><li class="PRIVATE_TreeView-item" tabindex="0" id="StatistialTables.pdf-item" role="treeitem" aria-labelledby=":R5qclmdaeb:" aria-describedby=":R5qclmdaebH1: :R5qclmdaebH2:" aria-level="1" aria-selected="false"><div class="PRIVATE_TreeView-item-container" style="--level:1;content-visibility:auto;contain-intrinsic-size:auto 2rem"><div style="grid-area:spacer;display:flex"><div style="width:100%;display:flex"></div></div><div id=":R5qclmdaeb:" class="PRIVATE_TreeView-item-content"><div class="PRIVATE_VisuallyHidden" aria-hidden="true" id=":R5qclmdaebH1:"></div><div class="PRIVATE_TreeView-item-visual" aria-hidden="true"><svg aria-hidden="true" focusable="false" role="img" class="octicon octicon-file" viewBox="0 0 16 16" width="16" height="16" fill="currentColor" style="display:inline-block;user-select:none;vertical-align:text-bottom;overflow:visible"><path d="M2 1.75C2 .784 2.784 0 3.75 0h6.586c.464 0 .909.184 1.237.513l2.914 2.914c.329.328.513.773.513 1.237v9.586A1.75 1.75 0 0 1 13.25 16h-9.5A1.75 1.75 0 0 1 2 14.25Zm1.75-.25a.25.25 0 0 0-.25.25v12.5c0 .138.112.25.25.25h9.5a.25.25 0 0 0 .25-.25V6h-2.75A1.75 1.75 0 0 1 9 4.25V1.5Zm6.75.062V4.25c0 .138.112.25.25.25h2.688l-.011-.013-2.914-2.914-.013-.011Z"></path></svg></div><span class="PRIVATE_TreeView-item-content-text"><span>StatistialTables.pdf</span></span></div></div></li><li class="PRIVATE_TreeView-item" tabindex="0" id="readme.txt-item" role="treeitem" aria-labelledby=":R6aclmdaeb:" aria-describedby=":R6aclmdaebH1: :R6aclmdaebH2:" aria-level="1" aria-selected="false"><div class="PRIVATE_TreeView-item-container" style="--level:1;content-visibility:auto;contain-intrinsic-size:auto 2rem"><div style="grid-area:spacer;display:flex"><div style="width:100%;display:flex"></div></div><div id=":R6aclmdaeb:" class="PRIVATE_TreeView-item-content"><div class="PRIVATE_VisuallyHidden" aria-hidden="true" id=":R6aclmdaebH1:"></div><div class="PRIVATE_TreeView-item-visual" aria-hidden="true"><svg aria-hidden="true" focusable="false" role="img" class="octicon octicon-file" viewBox="0 0 16 16" width="16" height="16" fill="currentColor" style="display:inline-block;user-select:none;vertical-align:text-bottom;overflow:visible"><path d="M2 1.75C2 .784 2.784 0 3.75 0h6.586c.464 0 .909.184 1.237.513l2.914 2.914c.329.328.513.773.513 1.237v9.586A1.75 1.75 0 0 1 13.25 16h-9.5A1.75 1.75 0 0 1 2 14.25Zm1.75-.25a.25.25 0 0 0-.25.25v12.5c0 .138.112.25.25.25h9.5a.25.25 0 0 0 .25-.25V6h-2.75A1.75 1.75 0 0 1 9 4.25V1.5Zm6.75.062V4.25c0 .138.112.25.25.25h2.688l-.011-.013-2.914-2.914-.013-.011Z"></path></svg></div><span class="PRIVATE_TreeView-item-content-text"><span>readme.txt</span></span></div></div></li><li class="PRIVATE_TreeView-item" tabindex="0" id="requirements.txt-item" role="treeitem" aria-labelledby=":R6qclmdaeb:" aria-describedby=":R6qclmdaebH1: :R6qclmdaebH2:" aria-level="1" aria-selected="false"><div class="PRIVATE_TreeView-item-container" style="--level:1;content-visibility:auto;contain-intrinsic-size:auto 2rem"><div style="grid-area:spacer;display:flex"><div style="width:100%;display:flex"></div></div><div id=":R6qclmdaeb:" class="PRIVATE_TreeView-item-content"><div class="PRIVATE_VisuallyHidden" aria-hidden="true" id=":R6qclmdaebH1:"></div><div class="PRIVATE_TreeView-item-visual" aria-hidden="true"><svg aria-hidden="true" focusable="false" role="img" class="octicon octicon-file" viewBox="0 0 16 16" width="16" height="16" fill="currentColor" style="display:inline-block;user-select:none;vertical-align:text-bottom;overflow:visible"><path d="M2 1.75C2 .784 2.784 0 3.75 0h6.586c.464 0 .909.184 1.237.513l2.914 2.914c.329.328.513.773.513 1.237v9.586A1.75 1.75 0 0 1 13.25 16h-9.5A1.75 1.75 0 0 1 2 14.25Zm1.75-.25a.25.25 0 0 0-.25.25v12.5c0 .138.112.25.25.25h9.5a.25.25 0 0 0 .25-.25V6h-2.75A1.75 1.75 0 0 1 9 4.25V1.5Zm6.75.062V4.25c0 .138.112.25.25.25h2.688l-.011-.013-2.914-2.914-.013-.011Z"></path></svg></div><span class="PRIVATE_TreeView-item-content-text"><span>requirements.txt</span></span></div></div></li></ul></nav></div></div></div></div></div></div><div class="Box-sc-g0xbh4-0 hAeDYA"><div role="slider" aria-label="Draggable pane splitter" aria-valuemin="0" aria-valuemax="0" aria-valuenow="0" aria-valuetext="Pane width 0 pixels" tabindex="0" class="Box-sc-g0xbh4-0 fjdBNx"></div></div></div></div><div class="Box-sc-g0xbh4-0 emFMJu"><div class="Box-sc-g0xbh4-0"></div><div class="Box-sc-g0xbh4-0 hlUAHL"><div data-selector="repos-split-pane-content" tabindex="0" class="Box-sc-g0xbh4-0 iStsmI"><div class="Box-sc-g0xbh4-0 eIgvIk"><div class="Box-sc-g0xbh4-0 eVFfWF container"><div class="px-3 pt-3 pb-0" id="StickyHeader"><div class="Box-sc-g0xbh4-0 fywjmm"><div class="Box-sc-g0xbh4-0 dyczTK"><div class="Box-sc-g0xbh4-0 kszRgZ"><div class="Box-sc-g0xbh4-0 eTvGbF"><nav data-testid="breadcrumbs" aria-labelledby="repos-header-breadcrumb--wide-heading" id="repos-header-breadcrumb--wide" class="Box-sc-g0xbh4-0 kzRgrI"><h2 class="Heading__StyledHeading-sc-1c1dgg0-0 fpGZrB sr-only" data-testid="screen-reader-heading" id="repos-header-breadcrumb--wide-heading">Breadcrumbs</h2><ol class="Box-sc-g0xbh4-0 cmAPIB"><li class="Box-sc-g0xbh4-0 jwXCBK"><a sx="[object Object]" data-testid="breadcrumbs-repo-link" class="Link__StyledLink-sc-14289xe-0 ipyMWB" href="/MathforDataScience/DSR_Statistics1/tree/main">DSR_Statistics1</a></li><li class="Box-sc-g0xbh4-0 jwXCBK"><span aria-hidden="true" class="Text-sc-17v1xeu-0 fIsVJr">/</span><a sx="[object Object]" class="Link__StyledLink-sc-14289xe-0 jmkYvv" href="/MathforDataScience/DSR_Statistics1/tree/main/7_%20Hypotheses">7_ Hypotheses</a></li></ol></nav><div data-testid="breadcrumbs-filename" class="Box-sc-g0xbh4-0 jwXCBK"><span aria-hidden="true" class="Text-sc-17v1xeu-0 fIsVJr">/</span><h1 tabindex="-1" id="file-name-id-wide" class="Heading__StyledHeading-sc-1c1dgg0-0 eqidDl">7_2 paired t-test.ipynb</h1></div><div aria-describedby=":R3badaeb:"><button data-component="IconButton" type="button" aria-label="Copy path" tabindex="0" class="types__StyledButton-sc-ws60qy-0 emYRmJ" data-loading="false" data-no-visuals="true" data-size="small" aria-describedby=":Rfbadaeb:-loading-announcement"><svg aria-hidden="true" focusable="false" role="img" class="octicon octicon-copy" viewBox="0 0 16 16" width="16" height="16" fill="currentColor" style="display:inline-block;user-select:none;vertical-align:text-bottom;overflow:visible"><path d="M0 6.75C0 5.784.784 5 1.75 5h1.5a.75.75 0 0 1 0 1.5h-1.5a.25.25 0 0 0-.25.25v7.5c0 .138.112.25.25.25h7.5a.25.25 0 0 0 .25-.25v-1.5a.75.75 0 0 1 1.5 0v1.5A1.75 1.75 0 0 1 9.25 16h-7.5A1.75 1.75 0 0 1 0 14.25Z"></path><path d="M5 1.75C5 .784 5.784 0 6.75 0h7.5C15.216 0 16 .784 16 1.75v7.5A1.75 1.75 0 0 1 14.25 11h-7.5A1.75 1.75 0 0 1 5 9.25Zm1.75-.25a.25.25 0 0 0-.25.25v7.5c0 .138.112.25.25.25h7.5a.25.25 0 0 0 .25-.25v-7.5a.25.25 0 0 0-.25-.25Z"></path></svg></button></div></div></div><div class="react-code-view-header-element--wide"><div class="Box-sc-g0xbh4-0 gtBUEp"><div class="d-flex gap-2"> <button type="button" data-loading="false" data-no-visuals="true" aria-describedby=":Rl9jadaeb:-loading-announcement" class="types__StyledButton-sc-ws60qy-0 jFcVkf"><span data-component="buttonContent" class="Box-sc-g0xbh4-0 kkrdEu"><span data-component="text">Blame</span></span></button><button hidden="" data-testid="" data-hotkey-scope="read-only-cursor-text-area"></button><button data-component="IconButton" type="button" aria-label="More file actions" class="types__StyledButton-sc-ws60qy-0 kuXPuQ js-blob-dropdown-click" title="More file actions" data-testid="more-file-actions-button-nav-menu-wide" aria-haspopup="true" aria-expanded="false" tabindex="0" data-loading="false" data-no-visuals="true" aria-describedby=":R99jadaeb:-loading-announcement" id=":R99jadaeb:"><svg aria-hidden="true" focusable="false" role="img" class="octicon octicon-kebab-horizontal" viewBox="0 0 16 16" width="16" height="16" fill="currentColor" style="display:inline-block;user-select:none;vertical-align:text-bottom;overflow:visible"><path d="M8 9a1.5 1.5 0 1 0 0-3 1.5 1.5 0 0 0 0 3ZM1.5 9a1.5 1.5 0 1 0 0-3 1.5 1.5 0 0 0 0 3Zm13 0a1.5 1.5 0 1 0 0-3 1.5 1.5 0 0 0 0 3Z"></path></svg></button> </div></div></div><div class="react-code-view-header-element--narrow"><div class="Box-sc-g0xbh4-0 gtBUEp"><div class="d-flex gap-2"> <button type="button" data-loading="false" data-no-visuals="true" aria-describedby=":Rl9radaeb:-loading-announcement" class="types__StyledButton-sc-ws60qy-0 jFcVkf"><span data-component="buttonContent" class="Box-sc-g0xbh4-0 kkrdEu"><span data-component="text">Blame</span></span></button><button hidden="" data-testid="" data-hotkey-scope="read-only-cursor-text-area"></button><button data-component="IconButton" type="button" aria-label="More file actions" class="types__StyledButton-sc-ws60qy-0 kuXPuQ js-blob-dropdown-click" title="More file actions" data-testid="more-file-actions-button-nav-menu-narrow" aria-haspopup="true" aria-expanded="false" tabindex="0" data-loading="false" data-no-visuals="true" aria-describedby=":R99radaeb:-loading-announcement" id=":R99radaeb:"><svg aria-hidden="true" focusable="false" role="img" class="octicon octicon-kebab-horizontal" viewBox="0 0 16 16" width="16" height="16" fill="currentColor" style="display:inline-block;user-select:none;vertical-align:text-bottom;overflow:visible"><path d="M8 9a1.5 1.5 0 1 0 0-3 1.5 1.5 0 0 0 0 3ZM1.5 9a1.5 1.5 0 1 0 0-3 1.5 1.5 0 0 0 0 3Zm13 0a1.5 1.5 0 1 0 0-3 1.5 1.5 0 0 0 0 3Z"></path></svg></button> </div></div></div></div></div></div></div></div><div class="Box-sc-g0xbh4-0 hVZtwF react-code-view-bottom-padding"> <div class="Box-sc-g0xbh4-0 cMYnca"></div> <!-- --> <!-- --> </div><div class="Box-sc-g0xbh4-0 hVZtwF"> <!-- --> <!-- --> <div class="d-flex flex-column border rounded-2 mb-3 pl-1"><div class="Box-sc-g0xbh4-0 brJRqk"><h2 class="Heading__StyledHeading-sc-1c1dgg0-0 fpGZrB sr-only" data-testid="screen-reader-heading">Latest commit</h2><div style="width:120px" class="Skeleton Skeleton--text" data-testid="loading"> </div><div class="d-flex flex-shrink-0 gap-2"><div data-testid="latest-commit-details" class="d-none d-sm-flex flex-items-center"></div><div class="d-flex gap-2"><h2 class="Heading__StyledHeading-sc-1c1dgg0-0 fpGZrB sr-only" data-testid="screen-reader-heading">History</h2><a class="types__StyledButton-sc-ws60qy-0 emYRmJ d-none d-lg-flex LinkButton-module__code-view-link-button--xvCGA flex-items-center fgColor-default" href="/MathforDataScience/DSR_Statistics1/commits/main/7_%20Hypotheses/7_2%20paired%20t-test.ipynb" data-loading="false" data-size="small" aria-describedby=":R1bdaladaeb:-loading-announcement"><span data-component="buttonContent" class="Box-sc-g0xbh4-0 kkrdEu"><span data-component="leadingVisual" class="Box-sc-g0xbh4-0 trpoQ"><svg aria-hidden="true" focusable="false" role="img" class="octicon octicon-history" viewBox="0 0 16 16" width="16" height="16" fill="currentColor" style="display:inline-block;user-select:none;vertical-align:text-bottom;overflow:visible"><path d="m.427 1.927 1.215 1.215a8.002 8.002 0 1 1-1.6 5.685.75.75 0 1 1 1.493-.154 6.5 6.5 0 1 0 1.18-4.458l1.358 1.358A.25.25 0 0 1 3.896 6H.25A.25.25 0 0 1 0 5.75V2.104a.25.25 0 0 1 .427-.177ZM7.75 4a.75.75 0 0 1 .75.75v2.992l2.028.812a.75.75 0 0 1-.557 1.392l-2.5-1A.751.751 0 0 1 7 8.25v-3.5A.75.75 0 0 1 7.75 4Z"></path></svg></span><span data-component="text"><span class="fgColor-default">History</span></span></span></a><div class="d-sm-none"></div><div class="d-flex d-lg-none"><span role="tooltip" aria-label="History" id="history-icon-button-tooltip" class="Tooltip__TooltipBase-sc-17tf59c-0 gNgnVl tooltipped-n"><a class="types__StyledButton-sc-ws60qy-0 emYRmJ LinkButton-module__code-view-link-button--xvCGA flex-items-center fgColor-default" href="/MathforDataScience/DSR_Statistics1/commits/main/7_%20Hypotheses/7_2%20paired%20t-test.ipynb" data-loading="false" data-size="small" aria-describedby=":R6bdaladaeb:-loading-announcement history-icon-button-tooltip"><span data-component="buttonContent" class="Box-sc-g0xbh4-0 kkrdEu"><span data-component="leadingVisual" class="Box-sc-g0xbh4-0 trpoQ"><svg aria-hidden="true" focusable="false" role="img" class="octicon octicon-history" viewBox="0 0 16 16" width="16" height="16" fill="currentColor" style="display:inline-block;user-select:none;vertical-align:text-bottom;overflow:visible"><path d="m.427 1.927 1.215 1.215a8.002 8.002 0 1 1-1.6 5.685.75.75 0 1 1 1.493-.154 6.5 6.5 0 1 0 1.18-4.458l1.358 1.358A.25.25 0 0 1 3.896 6H.25A.25.25 0 0 1 0 5.75V2.104a.25.25 0 0 1 .427-.177ZM7.75 4a.75.75 0 0 1 .75.75v2.992l2.028.812a.75.75 0 0 1-.557 1.392l-2.5-1A.751.751 0 0 1 7 8.25v-3.5A.75.75 0 0 1 7.75 4Z"></path></svg></span></span></a></span></div></div></div></div></div><div class="Box-sc-g0xbh4-0 iJmJly"><div class="Box-sc-g0xbh4-0 jACbi container"><div class="Box-sc-g0xbh4-0 gIJuDf react-code-size-details-banner"><div class="Box-sc-g0xbh4-0 fleZSW react-code-size-details-banner"><div class="Box-sc-g0xbh4-0 BnySK text-mono"><div title="134 KB" data-testid="blob-size" class="Truncate__StyledTruncate-sc-23o1d2-0 fUpWeN"><span>438 lines (438 loc) · 134 KB</span></div></div></div><div class="react-code-size-details-banner"><button style="--button-color:fg.default" type="button" aria-haspopup="true" aria-expanded="false" tabindex="0" data-testid="copilot-popover-button" data-loading="false" data-size="small" aria-describedby=":R9faladaeb:-loading-announcement" id=":R9faladaeb:" class="types__StyledButton-sc-ws60qy-0 jKgwhU"><span data-component="buttonContent" class="Box-sc-g0xbh4-0 kkrdEu"><span data-component="leadingVisual" class="Box-sc-g0xbh4-0 trpoQ"><svg aria-hidden="true" focusable="false" role="img" class="octicon octicon-copilot" viewBox="0 0 16 16" width="16" height="16" fill="currentColor" style="display:inline-block;user-select:none;vertical-align:text-bottom;overflow:visible"><path d="M7.998 15.035c-4.562 0-7.873-2.914-7.998-3.749V9.338c.085-.628.677-1.686 1.588-2.065.013-.07.024-.143.036-.218.029-.183.06-.384.126-.612-.201-.508-.254-1.084-.254-1.656 0-.87.128-1.769.693-2.484.579-.733 1.494-1.124 2.724-1.261 1.206-.134 2.262.034 2.944.765.05.053.096.108.139.165.044-.057.094-.112.143-.165.682-.731 1.738-.899 2.944-.765 1.23.137 2.145.528 2.724 1.261.566.715.693 1.614.693 2.484 0 .572-.053 1.148-.254 1.656.066.228.098.429.126.612.012.076.024.148.037.218.924.385 1.522 1.471 1.591 2.095v1.872c0 .766-3.351 3.795-8.002 3.795Zm0-1.485c2.28 0 4.584-1.11 5.002-1.433V7.862l-.023-.116c-.49.21-1.075.291-1.727.291-1.146 0-2.059-.327-2.71-.991A3.222 3.222 0 0 1 8 6.303a3.24 3.24 0 0 1-.544.743c-.65.664-1.563.991-2.71.991-.652 0-1.236-.081-1.727-.291l-.023.116v4.255c.419.323 2.722 1.433 5.002 1.433ZM6.762 2.83c-.193-.206-.637-.413-1.682-.297-1.019.113-1.479.404-1.713.7-.247.312-.369.789-.369 1.554 0 .793.129 1.171.308 1.371.162.181.519.379 1.442.379.853 0 1.339-.235 1.638-.54.315-.322.527-.827.617-1.553.117-.935-.037-1.395-.241-1.614Zm4.155-.297c-1.044-.116-1.488.091-1.681.297-.204.219-.359.679-.242 1.614.091.726.303 1.231.618 1.553.299.305.784.54 1.638.54.922 0 1.28-.198 1.442-.379.179-.2.308-.578.308-1.371 0-.765-.123-1.242-.37-1.554-.233-.296-.693-.587-1.713-.7Z"></path><path d="M6.25 9.037a.75.75 0 0 1 .75.75v1.501a.75.75 0 0 1-1.5 0V9.787a.75.75 0 0 1 .75-.75Zm4.25.75v1.501a.75.75 0 0 1-1.5 0V9.787a.75.75 0 0 1 1.5 0Z"></path></svg></span><span data-component="text">Code 55% faster with GitHub Copilot</span></span></button></div></div><div class="Box-sc-g0xbh4-0 VHzRk react-blob-view-header-sticky" id="repos-sticky-header"><div class="Box-sc-g0xbh4-0 ePiodO"><div class="react-blob-sticky-header"><div class="Box-sc-g0xbh4-0 kQJlnf"><div class="Box-sc-g0xbh4-0 gJICKO"><div class="Box-sc-g0xbh4-0 iZJewz"><nav data-testid="breadcrumbs" aria-labelledby="sticky-breadcrumb-heading" id="sticky-breadcrumb" class="Box-sc-g0xbh4-0 kzRgrI"><h2 class="Heading__StyledHeading-sc-1c1dgg0-0 fpGZrB sr-only" data-testid="screen-reader-heading" id="sticky-breadcrumb-heading">Breadcrumbs</h2><ol class="Box-sc-g0xbh4-0 cmAPIB"><li class="Box-sc-g0xbh4-0 jwXCBK"><a sx="[object Object]" data-testid="breadcrumbs-repo-link" class="Link__StyledLink-sc-14289xe-0 ipyMWB" href="/MathforDataScience/DSR_Statistics1/tree/main">DSR_Statistics1</a></li><li class="Box-sc-g0xbh4-0 jwXCBK"><span aria-hidden="true" class="Text-sc-17v1xeu-0 cYjMDB">/</span><a sx="[object Object]" class="Link__StyledLink-sc-14289xe-0 jmkYvv" href="/MathforDataScience/DSR_Statistics1/tree/main/7_%20Hypotheses">7_ Hypotheses</a></li></ol></nav><div data-testid="breadcrumbs-filename" class="Box-sc-g0xbh4-0 jwXCBK"><span aria-hidden="true" class="Text-sc-17v1xeu-0 cYjMDB">/</span><h1 tabindex="-1" id="sticky-file-name-id" class="Heading__StyledHeading-sc-1c1dgg0-0 eDVSKn">7_2 paired t-test.ipynb</h1></div></div><button style="--button-color:fg.default" type="button" data-loading="false" data-size="small" aria-describedby=":R4mfaladaeb:-loading-announcement" class="types__StyledButton-sc-ws60qy-0 bDTxaK"><span data-component="buttonContent" class="Box-sc-g0xbh4-0 kkrdEu"><span data-component="leadingVisual" class="Box-sc-g0xbh4-0 trpoQ"><svg aria-hidden="true" focusable="false" role="img" class="octicon octicon-arrow-up" viewBox="0 0 16 16" width="16" height="16" fill="currentColor" style="display:inline-block;user-select:none;vertical-align:text-bottom;overflow:visible"><path d="M3.47 7.78a.75.75 0 0 1 0-1.06l4.25-4.25a.75.75 0 0 1 1.06 0l4.25 4.25a.751.751 0 0 1-.018 1.042.751.751 0 0 1-1.042.018L9 4.81v7.44a.75.75 0 0 1-1.5 0V4.81L4.53 7.78a.75.75 0 0 1-1.06 0Z"></path></svg></span><span data-component="text">Top</span></span></button></div></div></div><div class="Box-sc-g0xbh4-0 jfjHXm"><h2 class="Heading__StyledHeading-sc-1c1dgg0-0 fpGZrB sr-only" data-testid="screen-reader-heading">File metadata and controls</h2><div class="Box-sc-g0xbh4-0 bfkNRF"><ul aria-label="File view" class="SegmentedControl__SegmentedControlList-sc-1rzig82-0 ehDMvU"><li class="Box-sc-g0xbh4-0 fXBLEV"><button aria-current="true" type="button" class="SegmentedControlButton__SegmentedControlButtonStyled-sc-8lkgxl-0 jEdVkE"><span class="segmentedControl-content"><div class="Box-sc-g0xbh4-0 segmentedControl-text">Preview</div></span></button></li><li class="Box-sc-g0xbh4-0 gMPsNT"><button aria-current="false" type="button" class="SegmentedControlButton__SegmentedControlButtonStyled-sc-8lkgxl-0 TvbfG"><span class="segmentedControl-content"><div class="Box-sc-g0xbh4-0 segmentedControl-text">Code</div></span></button></li><li class="Box-sc-g0xbh4-0 gMPsNT"><button aria-current="false" type="button" class="SegmentedControlButton__SegmentedControlButtonStyled-sc-8lkgxl-0 fIktcg"><span class="segmentedControl-content"><div class="Box-sc-g0xbh4-0 segmentedControl-text">Blame</div></span></button></li></ul><button hidden="" data-testid="" data-hotkey-scope="read-only-cursor-text-area"></button><button hidden="" data-testid="" data-hotkey-scope="read-only-cursor-text-area"></button><button hidden="" data-testid="" data-hotkey-scope="read-only-cursor-text-area"></button><div class="Box-sc-g0xbh4-0 fleZSW react-code-size-details-in-header"><div class="Box-sc-g0xbh4-0 BnySK text-mono"><div title="134 KB" data-testid="blob-size" class="Truncate__StyledTruncate-sc-23o1d2-0 fUpWeN"><span>438 lines (438 loc) · 134 KB</span></div></div></div><div class="react-code-size-details-in-header"><button style="--button-color:fg.default" type="button" aria-haspopup="true" aria-expanded="false" tabindex="0" data-testid="copilot-popover-button" data-loading="false" data-size="small" aria-describedby=":Rt6faladaeb:-loading-announcement" id=":Rt6faladaeb:" class="types__StyledButton-sc-ws60qy-0 jKgwhU"><span data-component="buttonContent" class="Box-sc-g0xbh4-0 kkrdEu"><span data-component="leadingVisual" class="Box-sc-g0xbh4-0 trpoQ"><svg aria-hidden="true" focusable="false" role="img" class="octicon octicon-copilot" viewBox="0 0 16 16" width="16" height="16" fill="currentColor" style="display:inline-block;user-select:none;vertical-align:text-bottom;overflow:visible"><path d="M7.998 15.035c-4.562 0-7.873-2.914-7.998-3.749V9.338c.085-.628.677-1.686 1.588-2.065.013-.07.024-.143.036-.218.029-.183.06-.384.126-.612-.201-.508-.254-1.084-.254-1.656 0-.87.128-1.769.693-2.484.579-.733 1.494-1.124 2.724-1.261 1.206-.134 2.262.034 2.944.765.05.053.096.108.139.165.044-.057.094-.112.143-.165.682-.731 1.738-.899 2.944-.765 1.23.137 2.145.528 2.724 1.261.566.715.693 1.614.693 2.484 0 .572-.053 1.148-.254 1.656.066.228.098.429.126.612.012.076.024.148.037.218.924.385 1.522 1.471 1.591 2.095v1.872c0 .766-3.351 3.795-8.002 3.795Zm0-1.485c2.28 0 4.584-1.11 5.002-1.433V7.862l-.023-.116c-.49.21-1.075.291-1.727.291-1.146 0-2.059-.327-2.71-.991A3.222 3.222 0 0 1 8 6.303a3.24 3.24 0 0 1-.544.743c-.65.664-1.563.991-2.71.991-.652 0-1.236-.081-1.727-.291l-.023.116v4.255c.419.323 2.722 1.433 5.002 1.433ZM6.762 2.83c-.193-.206-.637-.413-1.682-.297-1.019.113-1.479.404-1.713.7-.247.312-.369.789-.369 1.554 0 .793.129 1.171.308 1.371.162.181.519.379 1.442.379.853 0 1.339-.235 1.638-.54.315-.322.527-.827.617-1.553.117-.935-.037-1.395-.241-1.614Zm4.155-.297c-1.044-.116-1.488.091-1.681.297-.204.219-.359.679-.242 1.614.091.726.303 1.231.618 1.553.299.305.784.54 1.638.54.922 0 1.28-.198 1.442-.379.179-.2.308-.578.308-1.371 0-.765-.123-1.242-.37-1.554-.233-.296-.693-.587-1.713-.7Z"></path><path d="M6.25 9.037a.75.75 0 0 1 .75.75v1.501a.75.75 0 0 1-1.5 0V9.787a.75.75 0 0 1 .75-.75Zm4.25.75v1.501a.75.75 0 0 1-1.5 0V9.787a.75.75 0 0 1 1.5 0Z"></path></svg></span><span data-component="text">Code 55% faster with GitHub Copilot</span></span></button></div></div><div class="Box-sc-g0xbh4-0 iBylDf"><div class="Box-sc-g0xbh4-0 kSGBPx react-blob-header-edit-and-raw-actions"><div class="ButtonGroup-sc-1gxhls1-0 cpVEZe"><a href="https://github.com/MathforDataScience/DSR_Statistics1/raw/main/7_%20Hypotheses/7_2%20paired%20t-test.ipynb" data-testid="raw-button" data-loading="false" data-no-visuals="true" data-size="small" aria-describedby=":R1b76faladaeb:-loading-announcement" class="types__StyledButton-sc-ws60qy-0 jUNlHb"><span data-component="buttonContent" class="Box-sc-g0xbh4-0 kkrdEu"><span data-component="text">Raw</span></span></a><button data-component="IconButton" type="button" aria-label="Copy raw content" data-testid="copy-raw-button" data-loading="false" data-no-visuals="true" data-size="small" aria-describedby=":R6b76faladaeb:-loading-announcement" class="types__StyledButton-sc-ws60qy-0 feqCqy"><svg aria-hidden="true" focusable="false" role="img" class="octicon octicon-copy" viewBox="0 0 16 16" width="16" height="16" fill="currentColor" style="display:inline-block;user-select:none;vertical-align:text-bottom;overflow:visible"><path d="M0 6.75C0 5.784.784 5 1.75 5h1.5a.75.75 0 0 1 0 1.5h-1.5a.25.25 0 0 0-.25.25v7.5c0 .138.112.25.25.25h7.5a.25.25 0 0 0 .25-.25v-1.5a.75.75 0 0 1 1.5 0v1.5A1.75 1.75 0 0 1 9.25 16h-7.5A1.75 1.75 0 0 1 0 14.25Z"></path><path d="M5 1.75C5 .784 5.784 0 6.75 0h7.5C15.216 0 16 .784 16 1.75v7.5A1.75 1.75 0 0 1 14.25 11h-7.5A1.75 1.75 0 0 1 5 9.25Zm1.75-.25a.25.25 0 0 0-.25.25v7.5c0 .138.112.25.25.25h7.5a.25.25 0 0 0 .25-.25v-7.5a.25.25 0 0 0-.25-.25Z"></path></svg></button><span role="tooltip" aria-label="Download raw file" id=":R3b76faladaeb:" class="Tooltip__TooltipBase-sc-17tf59c-0 gNgnVl tooltipped-n"><button data-component="IconButton" type="button" aria-label="Download raw content" data-testid="download-raw-button" data-loading="false" data-no-visuals="true" data-size="small" aria-describedby=":R7b76faladaeb:-loading-announcement" class="types__StyledButton-sc-ws60qy-0 bfWknm"><svg aria-hidden="true" focusable="false" role="img" class="octicon octicon-download" viewBox="0 0 16 16" width="16" height="16" fill="currentColor" style="display:inline-block;user-select:none;vertical-align:text-bottom;overflow:visible"><path d="M2.75 14A1.75 1.75 0 0 1 1 12.25v-2.5a.75.75 0 0 1 1.5 0v2.5c0 .138.112.25.25.25h10.5a.25.25 0 0 0 .25-.25v-2.5a.75.75 0 0 1 1.5 0v2.5A1.75 1.75 0 0 1 13.25 14Z"></path><path d="M7.25 7.689V2a.75.75 0 0 1 1.5 0v5.689l1.97-1.969a.749.749 0 1 1 1.06 1.06l-3.25 3.25a.749.749 0 0 1-1.06 0L4.22 6.78a.749.749 0 1 1 1.06-1.06l1.97 1.969Z"></path></svg></button></span></div><button hidden="" data-testid="raw-button-shortcut" data-hotkey-scope="read-only-cursor-text-area"></button><button hidden="" data-testid="copy-raw-button-shortcut" data-hotkey-scope="read-only-cursor-text-area"></button><button hidden="" data-testid="download-raw-button-shortcut" data-hotkey-scope="read-only-cursor-text-area"></button><a class="Link__StyledLink-sc-14289xe-0 dheQRw js-github-dev-shortcut d-none" href="https://github.dev/"></a><button hidden="" data-testid="" data-hotkey-scope="read-only-cursor-text-area"></button><a class="Link__StyledLink-sc-14289xe-0 dheQRw js-github-dev-new-tab-shortcut d-none" href="https://github.dev/" target="_blank"></a><button hidden="" data-testid="" data-hotkey-scope="read-only-cursor-text-area"></button><div class="ButtonGroup-sc-1gxhls1-0 cpVEZe"><span role="tooltip" aria-label="Edit this file" id=":R1l76faladaeb:" class="Tooltip__TooltipBase-sc-17tf59c-0 gNgnVl tooltipped-nw"><a sx="[object Object]" data-component="IconButton" type="button" aria-label="Edit file" data-testid="edit-button" data-loading="false" data-no-visuals="true" data-size="small" aria-describedby=":R5l76faladaeb:-loading-announcement" class="types__StyledButton-sc-ws60qy-0 eBqjKw" href="/MathforDataScience/DSR_Statistics1/edit/main/7_%20Hypotheses/7_2%20paired%20t-test.ipynb"><svg aria-hidden="true" focusable="false" role="img" class="octicon octicon-pencil" viewBox="0 0 16 16" width="16" height="16" fill="currentColor" style="display:inline-block;user-select:none;vertical-align:text-bottom;overflow:visible"><path d="M11.013 1.427a1.75 1.75 0 0 1 2.474 0l1.086 1.086a1.75 1.75 0 0 1 0 2.474l-8.61 8.61c-.21.21-.47.364-.756.445l-3.251.93a.75.75 0 0 1-.927-.928l.929-3.25c.081-.286.235-.547.445-.758l8.61-8.61Zm.176 4.823L9.75 4.81l-6.286 6.287a.253.253 0 0 0-.064.108l-.558 1.953 1.953-.558a.253.253 0 0 0 .108-.064Zm1.238-3.763a.25.25 0 0 0-.354 0L10.811 3.75l1.439 1.44 1.263-1.263a.25.25 0 0 0 0-.354Z"></path></svg></a></span><button data-component="IconButton" type="button" aria-label="More edit options" data-testid="more-edit-button" aria-haspopup="true" aria-expanded="false" tabindex="0" data-loading="false" data-no-visuals="true" data-size="small" aria-describedby=":R2l76faladaeb:-loading-announcement" id=":R2l76faladaeb:" class="types__StyledButton-sc-ws60qy-0 feqCqy"><svg aria-hidden="true" focusable="false" role="img" class="octicon octicon-triangle-down" viewBox="0 0 16 16" width="16" height="16" fill="currentColor" style="display:inline-block;user-select:none;vertical-align:text-bottom;overflow:visible"><path d="m4.427 7.427 3.396 3.396a.25.25 0 0 0 .354 0l3.396-3.396A.25.25 0 0 0 11.396 7H4.604a.25.25 0 0 0-.177.427Z"></path></svg></button></div><button hidden="" data-testid="" data-hotkey="e,Shift+E" data-hotkey-scope="read-only-cursor-text-area"></button></div><div class="react-blob-header-edit-and-raw-actions-combined"><button data-component="IconButton" type="button" aria-label="Edit and raw actions" class="types__StyledButton-sc-ws60qy-0 eEspxX js-blob-dropdown-click" title="More file actions" data-testid="more-file-actions-button" aria-haspopup="true" aria-expanded="false" tabindex="0" data-loading="false" data-no-visuals="true" data-size="small" aria-describedby=":R5v6faladaeb:-loading-announcement" id=":R5v6faladaeb:"><svg aria-hidden="true" focusable="false" role="img" class="octicon octicon-kebab-horizontal" viewBox="0 0 16 16" width="16" height="16" fill="currentColor" style="display:inline-block;user-select:none;vertical-align:text-bottom;overflow:visible"><path d="M8 9a1.5 1.5 0 1 0 0-3 1.5 1.5 0 0 0 0 3ZM1.5 9a1.5 1.5 0 1 0 0-3 1.5 1.5 0 0 0 0 3Zm13 0a1.5 1.5 0 1 0 0-3 1.5 1.5 0 0 0 0 3Z"></path></svg></button></div></div></div></div><div></div></div><div class="Box-sc-g0xbh4-0 ytOJl"><section aria-labelledby="file-name-id-wide file-name-id-mobile" class="Box-sc-g0xbh4-0 eJsjkT"><!--$!--><template></template><div data-testid="suspense-spinner" class="Box-sc-g0xbh4-0 bAzdCq"><span class="Box-sc-g0xbh4-0 ioTNdO"><svg height="32px" width="32px" viewBox="0 0 16 16" fill="none" aria-hidden="true" aria-label="Loading" class="Spinner__StyledSpinner-sc-1knt686-0 hPEVNM"><circle cx="8" cy="8" r="7" stroke="currentColor" stroke-opacity="0.25" stroke-width="2" vector-effect="non-scaling-stroke"></circle><path d="M15 8a7.002 7.002 0 00-7-7" stroke="currentColor" stroke-width="2" stroke-linecap="round" vector-effect="non-scaling-stroke"></path></svg></span></div><!--/$--></section></div></div></div> <!-- --> <!-- --> </div></div></div><div class="Box-sc-g0xbh4-0"></div></div></div></div></div><div id="find-result-marks-container" class="Box-sc-g0xbh4-0 aZrVR"></div><button hidden="" data-testid="" data-hotkey-scope="read-only-cursor-text-area"></button><button hidden=""></button></div> <!-- --> <!-- --> <script type="application/json" id="__PRIMER_DATA_:R0:__">{"resolvedServerColorMode":"day"}</script></div>
</react-app>
</turbo-frame>



  </div>

</turbo-frame>

    </main>
  </div>

  </div>

          <footer class="footer pt-8 pb-6 f6 color-fg-muted p-responsive" role="contentinfo" >
  <h2 class='sr-only'>Footer</h2>

  


  <div class="d-flex flex-justify-center flex-items-center flex-column-reverse flex-lg-row flex-wrap flex-lg-nowrap">
    <div class="d-flex flex-items-center flex-shrink-0 mx-2">
      <a aria-label="Homepage" title="GitHub" class="footer-octicon mr-2" href="https://github.com">
        <svg aria-hidden="true" height="24" viewBox="0 0 24 24" version="1.1" width="24" data-view-component="true" class="octicon octicon-mark-github">
    <path d="M12.5.75C6.146.75 1 5.896 1 12.25c0 5.089 3.292 9.387 7.863 10.91.575.101.79-.244.79-.546 0-.273-.014-1.178-.014-2.142-2.889.532-3.636-.704-3.866-1.35-.13-.331-.69-1.352-1.18-1.625-.402-.216-.977-.748-.014-.762.906-.014 1.553.834 1.769 1.179 1.035 1.74 2.688 1.25 3.349.948.1-.747.402-1.25.733-1.538-2.559-.287-5.232-1.279-5.232-5.678 0-1.25.445-2.285 1.178-3.09-.115-.288-.517-1.467.115-3.048 0 0 .963-.302 3.163 1.179.92-.259 1.897-.388 2.875-.388.977 0 1.955.13 2.875.388 2.2-1.495 3.162-1.179 3.162-1.179.633 1.581.23 2.76.115 3.048.733.805 1.179 1.825 1.179 3.09 0 4.413-2.688 5.39-5.247 5.678.417.36.776 1.05.776 2.128 0 1.538-.014 2.774-.014 3.162 0 .302.216.662.79.547C20.709 21.637 24 17.324 24 12.25 24 5.896 18.854.75 12.5.75Z"></path>
</svg>
</a>
      <span>
        &copy; 2024 GitHub,&nbsp;Inc.
      </span>
    </div>

    <nav aria-label="Footer">
      <h3 class="sr-only" id="sr-footer-heading">Footer navigation</h3>

      <ul class="list-style-none d-flex flex-justify-center flex-wrap mb-2 mb-lg-0" aria-labelledby="sr-footer-heading">

          <li class="mx-2">
            <a data-analytics-event="{&quot;category&quot;:&quot;Footer&quot;,&quot;action&quot;:&quot;go to Terms&quot;,&quot;label&quot;:&quot;text:terms&quot;}" href="https://docs.github.com/site-policy/github-terms/github-terms-of-service" data-view-component="true" class="Link--secondary Link">Terms</a>
          </li>

          <li class="mx-2">
            <a data-analytics-event="{&quot;category&quot;:&quot;Footer&quot;,&quot;action&quot;:&quot;go to privacy&quot;,&quot;label&quot;:&quot;text:privacy&quot;}" href="https://docs.github.com/site-policy/privacy-policies/github-privacy-statement" data-view-component="true" class="Link--secondary Link">Privacy</a>
          </li>

          <li class="mx-2">
            <a data-analytics-event="{&quot;category&quot;:&quot;Footer&quot;,&quot;action&quot;:&quot;go to security&quot;,&quot;label&quot;:&quot;text:security&quot;}" href="https://github.com/security" data-view-component="true" class="Link--secondary Link">Security</a>
          </li>

          <li class="mx-2">
            <a data-analytics-event="{&quot;category&quot;:&quot;Footer&quot;,&quot;action&quot;:&quot;go to status&quot;,&quot;label&quot;:&quot;text:status&quot;}" href="https://www.githubstatus.com/" data-view-component="true" class="Link--secondary Link">Status</a>
          </li>

          <li class="mx-2">
            <a data-analytics-event="{&quot;category&quot;:&quot;Footer&quot;,&quot;action&quot;:&quot;go to docs&quot;,&quot;label&quot;:&quot;text:docs&quot;}" href="https://docs.github.com/" data-view-component="true" class="Link--secondary Link">Docs</a>
          </li>

          <li class="mx-2">
            <a data-analytics-event="{&quot;category&quot;:&quot;Footer&quot;,&quot;action&quot;:&quot;go to contact&quot;,&quot;label&quot;:&quot;text:contact&quot;}" href="https://support.github.com?tags=dotcom-footer" data-view-component="true" class="Link--secondary Link">Contact</a>
          </li>

          <li class="mr-3" >
  <cookie-consent-link>
    <button
      type="button"
      class="Link--secondary underline-on-hover border-0 p-0 color-bg-transparent"
      data-action="click:cookie-consent-link#showConsentManagement"
      data-analytics-event="{&quot;location&quot;:&quot;footer&quot;,&quot;action&quot;:&quot;cookies&quot;,&quot;context&quot;:&quot;subfooter&quot;,&quot;tag&quot;:&quot;link&quot;,&quot;label&quot;:&quot;cookies_link_subfooter_footer&quot;}"
    >
      Manage cookies
    </button>
  </cookie-consent-link>
</li>

<li class="mr-3">
  <cookie-consent-link>
    <button
      type="button"
      class="Link--secondary underline-on-hover border-0 p-0 color-bg-transparent"
      data-action="click:cookie-consent-link#showConsentManagement"
      data-analytics-event="{&quot;location&quot;:&quot;footer&quot;,&quot;action&quot;:&quot;dont_share_info&quot;,&quot;context&quot;:&quot;subfooter&quot;,&quot;tag&quot;:&quot;link&quot;,&quot;label&quot;:&quot;dont_share_info_link_subfooter_footer&quot;}"
    >
      Do not share my personal information
    </button>
  </cookie-consent-link>
</li>

      </ul>
    </nav>
  </div>
</footer>




    <ghcc-consent id="ghcc" class="position-fixed bottom-0 left-0" style="z-index: 999999" data-initial-cookie-consent-allowed="" data-cookie-consent-required="true"></ghcc-consent>


  <div id="ajax-error-message" class="ajax-error-message flash flash-error" hidden>
    <svg aria-hidden="true" height="16" viewBox="0 0 16 16" version="1.1" width="16" data-view-component="true" class="octicon octicon-alert">
    <path d="M6.457 1.047c.659-1.234 2.427-1.234 3.086 0l6.082 11.378A1.75 1.75 0 0 1 14.082 15H1.918a1.75 1.75 0 0 1-1.543-2.575Zm1.763.707a.25.25 0 0 0-.44 0L1.698 13.132a.25.25 0 0 0 .22.368h12.164a.25.25 0 0 0 .22-.368Zm.53 3.996v2.5a.75.75 0 0 1-1.5 0v-2.5a.75.75 0 0 1 1.5 0ZM9 11a1 1 0 1 1-2 0 1 1 0 0 1 2 0Z"></path>
</svg>
    <button type="button" class="flash-close js-ajax-error-dismiss" aria-label="Dismiss error">
      <svg aria-hidden="true" height="16" viewBox="0 0 16 16" version="1.1" width="16" data-view-component="true" class="octicon octicon-x">
    <path d="M3.72 3.72a.75.75 0 0 1 1.06 0L8 6.94l3.22-3.22a.749.749 0 0 1 1.275.326.749.749 0 0 1-.215.734L9.06 8l3.22 3.22a.749.749 0 0 1-.326 1.275.749.749 0 0 1-.734-.215L8 9.06l-3.22 3.22a.751.751 0 0 1-1.042-.018.751.751 0 0 1-.018-1.042L6.94 8 3.72 4.78a.75.75 0 0 1 0-1.06Z"></path>
</svg>
    </button>
    You can’t perform that action at this time.
  </div>

    <template id="site-details-dialog">
  <details class="details-reset details-overlay details-overlay-dark lh-default color-fg-default hx_rsm" open>
    <summary role="button" aria-label="Close dialog"></summary>
    <details-dialog class="Box Box--overlay d-flex flex-column anim-fade-in fast hx_rsm-dialog hx_rsm-modal">
      <button class="Box-btn-octicon m-0 btn-octicon position-absolute right-0 top-0" type="button" aria-label="Close dialog" data-close-dialog>
        <svg aria-hidden="true" height="16" viewBox="0 0 16 16" version="1.1" width="16" data-view-component="true" class="octicon octicon-x">
    <path d="M3.72 3.72a.75.75 0 0 1 1.06 0L8 6.94l3.22-3.22a.749.749 0 0 1 1.275.326.749.749 0 0 1-.215.734L9.06 8l3.22 3.22a.749.749 0 0 1-.326 1.275.749.749 0 0 1-.734-.215L8 9.06l-3.22 3.22a.751.751 0 0 1-1.042-.018.751.751 0 0 1-.018-1.042L6.94 8 3.72 4.78a.75.75 0 0 1 0-1.06Z"></path>
</svg>
      </button>
      <div class="octocat-spinner my-6 js-details-dialog-spinner"></div>
    </details-dialog>
  </details>
</template>

    <div class="Popover js-hovercard-content position-absolute" style="display: none; outline: none;">
  <div class="Popover-message Popover-message--bottom-left Popover-message--large Box color-shadow-large" style="width:360px;">
  </div>
</div>

    <template id="snippet-clipboard-copy-button">
  <div class="zeroclipboard-container position-absolute right-0 top-0">
    <clipboard-copy aria-label="Copy" class="ClipboardButton btn js-clipboard-copy m-2 p-0" data-copy-feedback="Copied!" data-tooltip-direction="w">
      <svg aria-hidden="true" height="16" viewBox="0 0 16 16" version="1.1" width="16" data-view-component="true" class="octicon octicon-copy js-clipboard-copy-icon m-2">
    <path d="M0 6.75C0 5.784.784 5 1.75 5h1.5a.75.75 0 0 1 0 1.5h-1.5a.25.25 0 0 0-.25.25v7.5c0 .138.112.25.25.25h7.5a.25.25 0 0 0 .25-.25v-1.5a.75.75 0 0 1 1.5 0v1.5A1.75 1.75 0 0 1 9.25 16h-7.5A1.75 1.75 0 0 1 0 14.25Z"></path><path d="M5 1.75C5 .784 5.784 0 6.75 0h7.5C15.216 0 16 .784 16 1.75v7.5A1.75 1.75 0 0 1 14.25 11h-7.5A1.75 1.75 0 0 1 5 9.25Zm1.75-.25a.25.25 0 0 0-.25.25v7.5c0 .138.112.25.25.25h7.5a.25.25 0 0 0 .25-.25v-7.5a.25.25 0 0 0-.25-.25Z"></path>
</svg>
      <svg aria-hidden="true" height="16" viewBox="0 0 16 16" version="1.1" width="16" data-view-component="true" class="octicon octicon-check js-clipboard-check-icon color-fg-success d-none m-2">
    <path d="M13.78 4.22a.75.75 0 0 1 0 1.06l-7.25 7.25a.75.75 0 0 1-1.06 0L2.22 9.28a.751.751 0 0 1 .018-1.042.751.751 0 0 1 1.042-.018L6 10.94l6.72-6.72a.75.75 0 0 1 1.06 0Z"></path>
</svg>
    </clipboard-copy>
  </div>
</template>
<template id="snippet-clipboard-copy-button-unpositioned">
  <div class="zeroclipboard-container">
    <clipboard-copy aria-label="Copy" class="ClipboardButton btn btn-invisible js-clipboard-copy m-2 p-0 d-flex flex-justify-center flex-items-center" data-copy-feedback="Copied!" data-tooltip-direction="w">
      <svg aria-hidden="true" height="16" viewBox="0 0 16 16" version="1.1" width="16" data-view-component="true" class="octicon octicon-copy js-clipboard-copy-icon">
    <path d="M0 6.75C0 5.784.784 5 1.75 5h1.5a.75.75 0 0 1 0 1.5h-1.5a.25.25 0 0 0-.25.25v7.5c0 .138.112.25.25.25h7.5a.25.25 0 0 0 .25-.25v-1.5a.75.75 0 0 1 1.5 0v1.5A1.75 1.75 0 0 1 9.25 16h-7.5A1.75 1.75 0 0 1 0 14.25Z"></path><path d="M5 1.75C5 .784 5.784 0 6.75 0h7.5C15.216 0 16 .784 16 1.75v7.5A1.75 1.75 0 0 1 14.25 11h-7.5A1.75 1.75 0 0 1 5 9.25Zm1.75-.25a.25.25 0 0 0-.25.25v7.5c0 .138.112.25.25.25h7.5a.25.25 0 0 0 .25-.25v-7.5a.25.25 0 0 0-.25-.25Z"></path>
</svg>
      <svg aria-hidden="true" height="16" viewBox="0 0 16 16" version="1.1" width="16" data-view-component="true" class="octicon octicon-check js-clipboard-check-icon color-fg-success d-none">
    <path d="M13.78 4.22a.75.75 0 0 1 0 1.06l-7.25 7.25a.75.75 0 0 1-1.06 0L2.22 9.28a.751.751 0 0 1 .018-1.042.751.751 0 0 1 1.042-.018L6 10.94l6.72-6.72a.75.75 0 0 1 1.06 0Z"></path>
</svg>
    </clipboard-copy>
  </div>
</template>


    <style>
      .user-mention[href$="/MathforDataScience"] {
        color: var(--color-user-mention-fg);
        background-color: var(--bgColor-attention-muted, var(--color-attention-subtle));
        border-radius: 2px;
        margin-left: -2px;
        margin-right: -2px;
        padding: 0 2px;
      }
    </style>


    </div>

    <div id="js-global-screen-reader-notice" class="sr-only mt-n1" aria-live="polite" aria-atomic="true" ></div>
    <div id="js-global-screen-reader-notice-assertive" class="sr-only mt-n1" aria-live="assertive" aria-atomic="true"></div>
  </body>
</html>

