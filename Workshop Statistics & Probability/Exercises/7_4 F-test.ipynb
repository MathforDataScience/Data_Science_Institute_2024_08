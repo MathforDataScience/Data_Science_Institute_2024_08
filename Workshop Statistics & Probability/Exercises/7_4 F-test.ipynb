





<!DOCTYPE html>
<html
  lang="en"
  
  data-color-mode="auto" data-light-theme="light" data-dark-theme="dark"
  data-a11y-animated-images="system" data-a11y-link-underlines="true"
  >



  <head>
    <meta charset="utf-8">
  <link rel="dns-prefetch" href="https://github.githubassets.com">
  <link rel="dns-prefetch" href="https://avatars.githubusercontent.com">
  <link rel="dns-prefetch" href="https://github-cloud.s3.amazonaws.com">
  <link rel="dns-prefetch" href="https://user-images.githubusercontent.com/">
  <link rel="preconnect" href="https://github.githubassets.com" crossorigin>
  <link rel="preconnect" href="https://avatars.githubusercontent.com">

  


  <link crossorigin="anonymous" media="all" rel="stylesheet" href="https://github.githubassets.com/assets/light-efd2f2257c96.css" /><link crossorigin="anonymous" media="all" rel="stylesheet" href="https://github.githubassets.com/assets/dark-6b1e37da2254.css" /><link data-color-theme="dark_dimmed" crossorigin="anonymous" media="all" rel="stylesheet" data-href="https://github.githubassets.com/assets/dark_dimmed-aa16bfa90fb8.css" /><link data-color-theme="dark_high_contrast" crossorigin="anonymous" media="all" rel="stylesheet" data-href="https://github.githubassets.com/assets/dark_high_contrast-f4daad25d8cf.css" /><link data-color-theme="dark_colorblind" crossorigin="anonymous" media="all" rel="stylesheet" data-href="https://github.githubassets.com/assets/dark_colorblind-a4629b2e906b.css" /><link data-color-theme="light_colorblind" crossorigin="anonymous" media="all" rel="stylesheet" data-href="https://github.githubassets.com/assets/light_colorblind-afcc3a6a38dd.css" /><link data-color-theme="light_high_contrast" crossorigin="anonymous" media="all" rel="stylesheet" data-href="https://github.githubassets.com/assets/light_high_contrast-79bca7145393.css" /><link data-color-theme="light_tritanopia" crossorigin="anonymous" media="all" rel="stylesheet" data-href="https://github.githubassets.com/assets/light_tritanopia-fe4137b54b26.css" /><link data-color-theme="dark_tritanopia" crossorigin="anonymous" media="all" rel="stylesheet" data-href="https://github.githubassets.com/assets/dark_tritanopia-1911f0cf0db4.css" />
    <link crossorigin="anonymous" media="all" rel="stylesheet" href="https://github.githubassets.com/assets/primer-primitives-8500c2c7ce5f.css" />
    <link crossorigin="anonymous" media="all" rel="stylesheet" href="https://github.githubassets.com/assets/primer-bbda46ca867f.css" />
    <link crossorigin="anonymous" media="all" rel="stylesheet" href="https://github.githubassets.com/assets/global-6f01bc73955b.css" />
    <link crossorigin="anonymous" media="all" rel="stylesheet" href="https://github.githubassets.com/assets/github-cf4e90581e80.css" />
  <link crossorigin="anonymous" media="all" rel="stylesheet" href="https://github.githubassets.com/assets/repository-992e95451f25.css" />
<link crossorigin="anonymous" media="all" rel="stylesheet" href="https://github.githubassets.com/assets/code-34406d39e629.css" />

  


  <script type="application/json" id="client-env">{"locale":"en","featureFlags":["code_vulnerability_scanning","copilot_beta_features_opt_in","copilot_chat_static_thread_suggestions","copilot_completion_new_domain","copilot_conversational_ux_history_refs","copilot_followup_to_agent","copilot_implicit_context","copilot_smell_icebreaker_ux","custom_inp","experimentation_azure_variant_endpoint","failbot_handle_non_errors","filter_prefetch_suggestions","geojson_azure_maps","ghas_copilot_agents_ga_web_updates","ghost_pilot_confidence_scores","ghost_pilot_screen_reader","hovercard_accessibility","hovercard_longer_activate_timeout","marketing_pages_search_explore_provider","remove_child_patch","repository_suggester_elastic_search","sample_network_conn_type","site_metered_billing_update","ignore_hidden_in_quote_reply"]}</script>
<script crossorigin="anonymous" defer="defer" type="application/javascript" src="https://github.githubassets.com/assets/wp-runtime-6fbed448f391.js"></script>
<script crossorigin="anonymous" defer="defer" type="application/javascript" src="https://github.githubassets.com/assets/vendors-node_modules_dompurify_dist_purify_js-89a69c248502.js"></script>
<script crossorigin="anonymous" defer="defer" type="application/javascript" src="https://github.githubassets.com/assets/vendors-node_modules_oddbird_popover-polyfill_dist_popover_js-56729c905fe2.js"></script>
<script crossorigin="anonymous" defer="defer" type="application/javascript" src="https://github.githubassets.com/assets/vendors-node_modules_github_mini-throttle_dist_index_js-node_modules_smoothscroll-polyfill_di-75db2e-686488490524.js"></script>
<script crossorigin="anonymous" defer="defer" type="application/javascript" src="https://github.githubassets.com/assets/environment-cd098098ff2e.js"></script>
<script crossorigin="anonymous" defer="defer" type="application/javascript" src="https://github.githubassets.com/assets/vendors-node_modules_github_selector-observer_dist_index_esm_js-f690fd9ae3d5.js"></script>
<script crossorigin="anonymous" defer="defer" type="application/javascript" src="https://github.githubassets.com/assets/vendors-node_modules_primer_behaviors_dist_esm_focus-zone_js-c9086a4fb62b.js"></script>
<script crossorigin="anonymous" defer="defer" type="application/javascript" src="https://github.githubassets.com/assets/vendors-node_modules_github_relative-time-element_dist_index_js-f9b958f5f2df.js"></script>
<script crossorigin="anonymous" defer="defer" type="application/javascript" src="https://github.githubassets.com/assets/vendors-node_modules_primer_behaviors_dist_esm_anchored-position_js-node_modules_fzy_js_index-05960a-797b1227c4b8.js"></script>
<script crossorigin="anonymous" defer="defer" type="application/javascript" src="https://github.githubassets.com/assets/vendors-node_modules_github_auto-complete-element_dist_index_js-node_modules_github_details-d-ed9a97-841122a1e9d4.js"></script>
<script crossorigin="anonymous" defer="defer" type="application/javascript" src="https://github.githubassets.com/assets/vendors-node_modules_github_text-expander-element_dist_index_js-cd48220d74d5.js"></script>
<script crossorigin="anonymous" defer="defer" type="application/javascript" src="https://github.githubassets.com/assets/vendors-node_modules_github_mini-throttle_dist_index_js-node_modules_delegated-events_dist_in-3efda3-701acb69193f.js"></script>
<script crossorigin="anonymous" defer="defer" type="application/javascript" src="https://github.githubassets.com/assets/vendors-node_modules_github_filter-input-element_dist_index_js-node_modules_github_remote-inp-2e8678-34feeec9c894.js"></script>
<script crossorigin="anonymous" defer="defer" type="application/javascript" src="https://github.githubassets.com/assets/vendors-node_modules_github_catalyst_lib_index_js-node_modules_github_clipboard-copy-element_-782ca5-54763cd55b96.js"></script>
<script crossorigin="anonymous" defer="defer" type="application/javascript" src="https://github.githubassets.com/assets/vendors-node_modules_github_file-attachment-element_dist_index_js-node_modules_primer_view-co-3959a9-5779869d7165.js"></script>
<script crossorigin="anonymous" defer="defer" type="application/javascript" src="https://github.githubassets.com/assets/app_assets_modules_github_onfocus_ts-ui_packages_trusted-types-policies_policy_ts-ui_packages-6fe316-9d50d6f10c3d.js"></script>
<script crossorigin="anonymous" defer="defer" type="application/javascript" src="https://github.githubassets.com/assets/github-elements-074e91131d8f.js"></script>
<script crossorigin="anonymous" defer="defer" type="application/javascript" src="https://github.githubassets.com/assets/element-registry-a86c410c86af.js"></script>
<script crossorigin="anonymous" defer="defer" type="application/javascript" src="https://github.githubassets.com/assets/vendors-node_modules_github_catalyst_lib_index_js-node_modules_github_hydro-analytics-client_-7901e7-dc88587c14ed.js"></script>
<script crossorigin="anonymous" defer="defer" type="application/javascript" src="https://github.githubassets.com/assets/vendors-node_modules_braintree_browser-detection_dist_browser-detection_js-node_modules_stack-68835d-a18220f1db8d.js"></script>
<script crossorigin="anonymous" defer="defer" type="application/javascript" src="https://github.githubassets.com/assets/vendors-node_modules_lit-html_lit-html_js-ce7225a304c5.js"></script>
<script crossorigin="anonymous" defer="defer" type="application/javascript" src="https://github.githubassets.com/assets/vendors-node_modules_github_mini-throttle_dist_index_js-node_modules_morphdom_dist_morphdom-e-7c534c-f8a5485c982a.js"></script>
<script crossorigin="anonymous" defer="defer" type="application/javascript" src="https://github.githubassets.com/assets/vendors-node_modules_github_turbo_dist_turbo_es2017-esm_js-858e043fcf76.js"></script>
<script crossorigin="anonymous" defer="defer" type="application/javascript" src="https://github.githubassets.com/assets/vendors-node_modules_github_remote-form_dist_index_js-node_modules_delegated-events_dist_inde-893f9f-6cf3320416b8.js"></script>
<script crossorigin="anonymous" defer="defer" type="application/javascript" src="https://github.githubassets.com/assets/vendors-node_modules_scroll-anchoring_dist_scroll-anchoring_esm_js-node_modules_github_hotkey-1a1d91-fa9f29a8514b.js"></script>
<script crossorigin="anonymous" defer="defer" type="application/javascript" src="https://github.githubassets.com/assets/vendors-node_modules_color-convert_index_js-0e07cc183eed.js"></script>
<script crossorigin="anonymous" defer="defer" type="application/javascript" src="https://github.githubassets.com/assets/vendors-node_modules_github_session-resume_dist_index_js-node_modules_primer_behaviors_dist_e-ac74c6-5e03381c44b5.js"></script>
<script crossorigin="anonymous" defer="defer" type="application/javascript" src="https://github.githubassets.com/assets/vendors-node_modules_primer_behaviors_dist_esm_dimensions_js-node_modules_github_jtml_lib_index_js-53b423ede32a.js"></script>
<script crossorigin="anonymous" defer="defer" type="application/javascript" src="https://github.githubassets.com/assets/vendors-node_modules_github_quote-selection_dist_index_js-node_modules_github_textarea-autosi-9e0349-ab4976fc78a6.js"></script>
<script crossorigin="anonymous" defer="defer" type="application/javascript" src="https://github.githubassets.com/assets/ui_packages_updatable-content_updatable-content_ts-e15463ecf7e6.js"></script>
<script crossorigin="anonymous" defer="defer" type="application/javascript" src="https://github.githubassets.com/assets/app_assets_modules_github_behaviors_task-list_ts-app_assets_modules_github_onfocus_ts-app_ass-421cec-f0e1d31bff9a.js"></script>
<script crossorigin="anonymous" defer="defer" type="application/javascript" src="https://github.githubassets.com/assets/app_assets_modules_github_sticky-scroll-into-view_ts-112600808cf9.js"></script>
<script crossorigin="anonymous" defer="defer" type="application/javascript" src="https://github.githubassets.com/assets/app_assets_modules_github_behaviors_ajax-error_ts-app_assets_modules_github_behaviors_include-467754-8b1a4442f9b3.js"></script>
<script crossorigin="anonymous" defer="defer" type="application/javascript" src="https://github.githubassets.com/assets/app_assets_modules_github_behaviors_commenting_edit_ts-app_assets_modules_github_behaviors_ht-83c235-4accd4baf37d.js"></script>
<script crossorigin="anonymous" defer="defer" type="application/javascript" src="https://github.githubassets.com/assets/app_assets_modules_github_blob-anchor_ts-app_assets_modules_github_filter-sort_ts-app_assets_-6deafe-fc95155e233a.js"></script>
<script crossorigin="anonymous" defer="defer" type="application/javascript" src="https://github.githubassets.com/assets/behaviors-53cbd0d1f88e.js"></script>
<script crossorigin="anonymous" defer="defer" type="application/javascript" src="https://github.githubassets.com/assets/vendors-node_modules_delegated-events_dist_index_js-node_modules_github_catalyst_lib_index_js-06ff531-bf7e5a3732fd.js"></script>
<script crossorigin="anonymous" defer="defer" type="application/javascript" src="https://github.githubassets.com/assets/notifications-global-3ddac678adaf.js"></script>
<script crossorigin="anonymous" defer="defer" type="application/javascript" src="https://github.githubassets.com/assets/vendors-node_modules_github_mini-throttle_dist_index_js-node_modules_github_catalyst_lib_inde-dbbea9-e73b311a14f1.js"></script>
<script crossorigin="anonymous" defer="defer" type="application/javascript" src="https://github.githubassets.com/assets/app_assets_modules_github_repositories_get-repo-element_ts-4fc152f40452.js"></script>
<script crossorigin="anonymous" defer="defer" type="application/javascript" src="https://github.githubassets.com/assets/code-menu-a8d08997ac4f.js"></script>
  
  <script crossorigin="anonymous" defer="defer" type="application/javascript" src="https://github.githubassets.com/assets/react-lib-7b7b5264f6c1.js"></script>
<script crossorigin="anonymous" defer="defer" type="application/javascript" src="https://github.githubassets.com/assets/vendors-node_modules_github_mini-throttle_dist_index_js-node_modules_primer_octicons-react_di-b40d97-06881c63f955.js"></script>
<script crossorigin="anonymous" defer="defer" type="application/javascript" src="https://github.githubassets.com/assets/vendors-node_modules_primer_react_lib-esm_Box_Box_js-55a9038b54f0.js"></script>
<script crossorigin="anonymous" defer="defer" type="application/javascript" src="https://github.githubassets.com/assets/vendors-node_modules_primer_react_lib-esm_Button_Button_js-b0edbfb6a9e5.js"></script>
<script crossorigin="anonymous" defer="defer" type="application/javascript" src="https://github.githubassets.com/assets/vendors-node_modules_primer_react_lib-esm_TooltipV2_Tooltip_js-4d5019830e3c.js"></script>
<script crossorigin="anonymous" defer="defer" type="application/javascript" src="https://github.githubassets.com/assets/vendors-node_modules_clsx_dist_clsx_m_js-node_modules_primer_react_node_modules_primer_octico-c56103-e91295e60abd.js"></script>
<script crossorigin="anonymous" defer="defer" type="application/javascript" src="https://github.githubassets.com/assets/vendors-node_modules_primer_react_lib-esm_ActionList_index_js-f646728c385c.js"></script>
<script crossorigin="anonymous" defer="defer" type="application/javascript" src="https://github.githubassets.com/assets/vendors-node_modules_primer_react_lib-esm_ActionMenu_ActionMenu_js-node_modules_primer_react_-5b2420-048f91dcedb3.js"></script>
<script crossorigin="anonymous" defer="defer" type="application/javascript" src="https://github.githubassets.com/assets/vendors-node_modules_primer_react_lib-esm_Text_Text_js-node_modules_primer_react_lib-esm_Text-7845da-adcc76ee8848.js"></script>
<script crossorigin="anonymous" defer="defer" type="application/javascript" src="https://github.githubassets.com/assets/vendors-node_modules_primer_react_lib-esm_FormControl_FormControl_js-1f51ab2bdcca.js"></script>
<script crossorigin="anonymous" defer="defer" type="application/javascript" src="https://github.githubassets.com/assets/vendors-node_modules_react-router-dom_dist_index_js-c5568c29d405.js"></script>
<script crossorigin="anonymous" defer="defer" type="application/javascript" src="https://github.githubassets.com/assets/vendors-node_modules_primer_react_lib-esm_ConfirmationDialog_ConfirmationDialog_js-099e8bfead83.js"></script>
<script crossorigin="anonymous" defer="defer" type="application/javascript" src="https://github.githubassets.com/assets/vendors-node_modules_primer_react_lib-esm_Heading_Heading_js-node_modules_primer_react_lib-es-96435f-69dda7b301fe.js"></script>
<script crossorigin="anonymous" defer="defer" type="application/javascript" src="https://github.githubassets.com/assets/vendors-node_modules_primer_react_lib-esm_TreeView_TreeView_js-163f241772cf.js"></script>
<script crossorigin="anonymous" defer="defer" type="application/javascript" src="https://github.githubassets.com/assets/vendors-node_modules_primer_behaviors_dist_esm_anchored-position_js-node_modules_primer_react-4d507b-85f1dac4ce7d.js"></script>
<script crossorigin="anonymous" defer="defer" type="application/javascript" src="https://github.githubassets.com/assets/vendors-node_modules_primer_react_lib-esm_BranchName_BranchName_js-node_modules_primer_react_-5ab9a5-f0ab9737bc0f.js"></script>
<script crossorigin="anonymous" defer="defer" type="application/javascript" src="https://github.githubassets.com/assets/vendors-node_modules_primer_behaviors_dist_esm_scroll-into-view_js-node_modules_primer_react_-9a1035-bc8622e91c21.js"></script>
<script crossorigin="anonymous" defer="defer" type="application/javascript" src="https://github.githubassets.com/assets/ui_packages_react-core_create-browser-history_ts-ui_packages_safe-storage_safe-storage_ts-ui_-682c2c-7a1e99981675.js"></script>
<script crossorigin="anonymous" defer="defer" type="application/javascript" src="https://github.githubassets.com/assets/ui_packages_react-core_register-app_ts-d92f692cd90a.js"></script>
<script crossorigin="anonymous" defer="defer" type="application/javascript" src="https://github.githubassets.com/assets/ui_packages_paths_index_ts-9eb3412d85a7.js"></script>
<script crossorigin="anonymous" defer="defer" type="application/javascript" src="https://github.githubassets.com/assets/ui_packages_ref-selector_RefSelector_tsx-7b0796d1324c.js"></script>
<script crossorigin="anonymous" defer="defer" type="application/javascript" src="https://github.githubassets.com/assets/ui_packages_commit-attribution_index_ts-ui_packages_commit-checks-status_index_ts-ui_packages-f45efb-a5bb4a693481.js"></script>
<script crossorigin="anonymous" defer="defer" type="application/javascript" src="https://github.githubassets.com/assets/ui_packages_copy-to-clipboard_index_ts-ui_packages_react-core_use-feature-flag_ts-ui_packages-9fa6b6-6e8c63eb2d15.js"></script>
<script crossorigin="anonymous" defer="defer" type="application/javascript" src="https://github.githubassets.com/assets/ui_packages_code-view-shared_hooks_use-canonical-object_ts-ui_packages_code-view-shared_hooks-9a3d65-c2af6875bd6f.js"></script>
<script crossorigin="anonymous" defer="defer" type="application/javascript" src="https://github.githubassets.com/assets/ui_packages_repos-file-tree-view_repos-file-tree-view_ts-ui_packages_feature-request_FeatureR-ec5225-9dd7225109c4.js"></script>
<script crossorigin="anonymous" defer="defer" type="application/javascript" src="https://github.githubassets.com/assets/react-code-view-7e5e7030cc5b.js"></script>
<link crossorigin="anonymous" media="all" rel="stylesheet" href="https://github.githubassets.com/assets/react-code-view.234ae39ff1fa1232236c.module.css" />


  <title>DSR_Statistics1/7_ Hypotheses/7_4 F-test.ipynb at main · MathforDataScience/DSR_Statistics1</title>



  <meta name="route-pattern" content="/:user_id/:repository/blob/*name(/*path)" data-turbo-transient>
  <meta name="route-controller" content="blob" data-turbo-transient>
  <meta name="route-action" content="show" data-turbo-transient>

    
  <meta name="current-catalog-service-hash" content="f3abb0cc802f3d7b95fc8762b94bdcb13bf39634c40c357301c4aa1d67a256fb">


  <meta name="request-id" content="89E1:227EF1:6841398:6A45CE3:66BF762D" data-turbo-transient="true" /><meta name="html-safe-nonce" content="d44ab1c2dc7e35ebb11bbaa56f6d0aa429138892f77edd1afdd359eb1f8171be" data-turbo-transient="true" /><meta name="visitor-payload" content="eyJyZWZlcnJlciI6Imh0dHBzOi8vZ2l0aHViLmNvbS9NYXRoZm9yRGF0YVNjaWVuY2UvRFNSX1N0YXRpc3RpY3MxL3RyZWUvbWFpbi83XyUyMEh5cG90aGVzZXMiLCJyZXF1ZXN0X2lkIjoiODlFMToyMjdFRjE6Njg0MTM5ODo2QTQ1Q0UzOjY2QkY3NjJEIiwidmlzaXRvcl9pZCI6IjQwMzc2OTk2ODg2OTczMjI2NjkiLCJyZWdpb25fZWRnZSI6ImZyYSIsInJlZ2lvbl9yZW5kZXIiOiJpYWQifQ==" data-turbo-transient="true" /><meta name="visitor-hmac" content="9e1e27ba96f2f941eff51cf67356d64629759997b6042869b6d05820c6cac1e8" data-turbo-transient="true" />


    <meta name="hovercard-subject-tag" content="repository:661665397" data-turbo-transient>


  <meta name="github-keyboard-shortcuts" content="repository,source-code,file-tree,copilot" data-turbo-transient="true" />
  

  <meta name="selected-link" value="repo_source" data-turbo-transient>
  <link rel="assets" href="https://github.githubassets.com/">

    <meta name="google-site-verification" content="Apib7-x98H0j5cPqHWwSMm6dNU4GmODRoqxLiDzdx9I">

<meta name="octolytics-url" content="https://collector.github.com/github/collect" /><meta name="octolytics-actor-id" content="42959174" /><meta name="octolytics-actor-login" content="MathforDataScience" /><meta name="octolytics-actor-hash" content="227888bb3935a56cecdeac8fbaeb23608047deef8e96c837701ebe2439fade7e" />

  <meta name="analytics-location" content="/&lt;user-name&gt;/&lt;repo-name&gt;/blob/show" data-turbo-transient="true" />

  




    <meta name="user-login" content="MathforDataScience">

  <link rel="sudo-modal" href="/sessions/sudo_modal">

    <meta name="viewport" content="width=device-width">

    

      <meta name="description" content="Contribute to MathforDataScience/DSR_Statistics1 development by creating an account on GitHub.">

      <link rel="search" type="application/opensearchdescription+xml" href="/opensearch.xml" title="GitHub">

    <link rel="fluid-icon" href="https://github.com/fluidicon.png" title="GitHub">
    <meta property="fb:app_id" content="1401488693436528">
    <meta name="apple-itunes-app" content="app-id=1477376905, app-argument=https://github.com/MathforDataScience/DSR_Statistics1/blob/main/7_%20Hypotheses/7_4%20F-test.ipynb" />

      <meta name="twitter:image:src" content="https://opengraph.githubassets.com/49fbaa5bd9c04cc44d052c0a41db63906004c31c66bcde400f1ce0e2c136cc79/MathforDataScience/DSR_Statistics1" /><meta name="twitter:site" content="@github" /><meta name="twitter:card" content="summary_large_image" /><meta name="twitter:title" content="DSR_Statistics1/7_ Hypotheses/7_4 F-test.ipynb at main · MathforDataScience/DSR_Statistics1" /><meta name="twitter:description" content="Contribute to MathforDataScience/DSR_Statistics1 development by creating an account on GitHub." />
  <meta property="og:image" content="https://opengraph.githubassets.com/49fbaa5bd9c04cc44d052c0a41db63906004c31c66bcde400f1ce0e2c136cc79/MathforDataScience/DSR_Statistics1" /><meta property="og:image:alt" content="Contribute to MathforDataScience/DSR_Statistics1 development by creating an account on GitHub." /><meta property="og:image:width" content="1200" /><meta property="og:image:height" content="600" /><meta property="og:site_name" content="GitHub" /><meta property="og:type" content="object" /><meta property="og:title" content="DSR_Statistics1/7_ Hypotheses/7_4 F-test.ipynb at main · MathforDataScience/DSR_Statistics1" /><meta property="og:url" content="https://github.com/MathforDataScience/DSR_Statistics1/blob/main/7_%20Hypotheses/7_4%20F-test.ipynb" /><meta property="og:description" content="Contribute to MathforDataScience/DSR_Statistics1 development by creating an account on GitHub." />
  


      <link rel="shared-web-socket" href="wss://alive.github.com/_sockets/u/42959174/ws?session=eyJ2IjoiVjMiLCJ1Ijo0Mjk1OTE3NCwicyI6MTQ0NjE4MDkwNCwiYyI6MTExMzcwNjU2MywidCI6MTcyMzgyMzY2Nn0=--186d3fcf3ca1c97862e893a1d7c57037f8bc2ea7013adadf6ad71d569802781d" data-refresh-url="/_alive" data-session-id="a00dc8c235cb2d09bde055d46b94400c8d63999f1397e010ac7793b7eee7e4d7">
      <link rel="shared-web-socket-src" href="/assets-cdn/worker/socket-worker-1a9b1a7a6108.js">


      <meta name="hostname" content="github.com">


      <meta name="keyboard-shortcuts-preference" content="all">
      <meta name="hovercards-preference" content="true">

        <meta name="expected-hostname" content="github.com">


  <meta http-equiv="x-pjax-version" content="a878d148896378d00e67dfef2b352b059b3ea0b02ada20e26d5784cb2cf9cbf7" data-turbo-track="reload">
  <meta http-equiv="x-pjax-csp-version" content="43bc2a0e2750a1219c17b5bf1ec22aae37041bbc018bc5e27bb7708f80e7ab88" data-turbo-track="reload">
  <meta http-equiv="x-pjax-css-version" content="2d21d1d7fc96c63650d487b78819572219a98df9016097e18aa73b19581cb3bc" data-turbo-track="reload">
  <meta http-equiv="x-pjax-js-version" content="e0e9ac8831ec7aaa318d110aabcee6e4e8f1148e4f9954adff46936790214fe0" data-turbo-track="reload">

  <meta name="turbo-cache-control" content="no-preview" data-turbo-transient="">

      <meta name="turbo-cache-control" content="no-cache" data-turbo-transient>
    <meta data-hydrostats="publish">
  <meta name="go-import" content="github.com/MathforDataScience/DSR_Statistics1 git https://github.com/MathforDataScience/DSR_Statistics1.git">

  <meta name="octolytics-dimension-user_id" content="42959174" /><meta name="octolytics-dimension-user_login" content="MathforDataScience" /><meta name="octolytics-dimension-repository_id" content="661665397" /><meta name="octolytics-dimension-repository_nwo" content="MathforDataScience/DSR_Statistics1" /><meta name="octolytics-dimension-repository_public" content="true" /><meta name="octolytics-dimension-repository_is_fork" content="false" /><meta name="octolytics-dimension-repository_network_root_id" content="661665397" /><meta name="octolytics-dimension-repository_network_root_nwo" content="MathforDataScience/DSR_Statistics1" />



    

    <meta name="turbo-body-classes" content="logged-in env-production page-responsive">


  <meta name="browser-stats-url" content="https://api.github.com/_private/browser/stats">

  <meta name="browser-errors-url" content="https://api.github.com/_private/browser/errors">

  <link rel="mask-icon" href="https://github.githubassets.com/assets/pinned-octocat-093da3e6fa40.svg" color="#000000">
  <link rel="alternate icon" class="js-site-favicon" type="image/png" href="https://github.githubassets.com/favicons/favicon.png">
  <link rel="icon" class="js-site-favicon" type="image/svg+xml" href="https://github.githubassets.com/favicons/favicon.svg">

<meta name="theme-color" content="#1e2327">
<meta name="color-scheme" content="light dark" />


  <link rel="manifest" href="/manifest.json" crossOrigin="use-credentials">

  </head>

  <body class="logged-in env-production page-responsive" style="word-wrap: break-word;">
    <div data-turbo-body class="logged-in env-production page-responsive" style="word-wrap: break-word;">
      


    <div class="position-relative js-header-wrapper ">
      <a href="#start-of-content" data-skip-target-assigned="false" class="p-3 color-bg-accent-emphasis color-fg-on-emphasis show-on-focus js-skip-to-content">Skip to content</a>

      <span data-view-component="true" class="progress-pjax-loader Progress position-fixed width-full">
    <span style="width: 0%;" data-view-component="true" class="Progress-item progress-pjax-loader-bar left-0 top-0 color-bg-accent-emphasis"></span>
</span>      
      
      <script crossorigin="anonymous" defer="defer" type="application/javascript" src="https://github.githubassets.com/assets/vendors-node_modules_primer_react_lib-esm_Dialog_Dialog_js-node_modules_primer_react_lib-esm_-bd7638-683c833a31df.js"></script>
<script crossorigin="anonymous" defer="defer" type="application/javascript" src="https://github.githubassets.com/assets/keyboard-shortcuts-dialog-15a4cf222dbb.js"></script>

<react-partial
  partial-name="keyboard-shortcuts-dialog"
  data-ssr="false"
>
  
  <script type="application/json" data-target="react-partial.embeddedData">{"props":{"docsUrl":"https://docs.github.com/get-started/accessibility/keyboard-shortcuts"}}</script>
  <div data-target="react-partial.reactRoot"></div>
</react-partial>




      

          

                <header class="AppHeader" role="banner">
  <h2 class="sr-only">Navigation Menu</h2>

    

    <div class="AppHeader-globalBar pb-2 js-global-bar">
      <div class="AppHeader-globalBar-start">
          <deferred-side-panel data-url="/_side-panels/global">
  <include-fragment data-target="deferred-side-panel.fragment">
      <button aria-label="Open global navigation menu" data-action="click:deferred-side-panel#loadPanel click:deferred-side-panel#panelOpened" data-show-dialog-id="dialog-f78e5ca8-f776-4aa8-961e-4cb8e46d070d" id="dialog-show-dialog-f78e5ca8-f776-4aa8-961e-4cb8e46d070d" type="button" data-view-component="true" class="Button Button--iconOnly Button--secondary Button--medium AppHeader-button color-bg-transparent p-0 color-fg-muted">  <svg aria-hidden="true" height="16" viewBox="0 0 16 16" version="1.1" width="16" data-view-component="true" class="octicon octicon-three-bars Button-visual">
    <path d="M1 2.75A.75.75 0 0 1 1.75 2h12.5a.75.75 0 0 1 0 1.5H1.75A.75.75 0 0 1 1 2.75Zm0 5A.75.75 0 0 1 1.75 7h12.5a.75.75 0 0 1 0 1.5H1.75A.75.75 0 0 1 1 7.75ZM1.75 12h12.5a.75.75 0 0 1 0 1.5H1.75a.75.75 0 0 1 0-1.5Z"></path>
</svg>
</button>

<dialog-helper>
  <dialog data-target="deferred-side-panel.panel" id="dialog-f78e5ca8-f776-4aa8-961e-4cb8e46d070d" aria-modal="true" aria-labelledby="dialog-f78e5ca8-f776-4aa8-961e-4cb8e46d070d-title" aria-describedby="dialog-f78e5ca8-f776-4aa8-961e-4cb8e46d070d-description" data-view-component="true" class="Overlay Overlay-whenNarrow Overlay--size-small-portrait Overlay--motion-scaleFade Overlay--placement-left SidePanel">
    <div styles="flex-direction: row;" data-view-component="true" class="Overlay-header">
  <div class="Overlay-headerContentWrap">
    <div class="Overlay-titleWrap">
      <h1 class="Overlay-title sr-only" id="dialog-f78e5ca8-f776-4aa8-961e-4cb8e46d070d-title">
        Global navigation
      </h1>
            <div data-view-component="true" class="d-flex">
      <div data-view-component="true" class="AppHeader-logo position-relative">
        <svg aria-hidden="true" height="24" viewBox="0 0 24 24" version="1.1" width="24" data-view-component="true" class="octicon octicon-mark-github">
    <path d="M12.5.75C6.146.75 1 5.896 1 12.25c0 5.089 3.292 9.387 7.863 10.91.575.101.79-.244.79-.546 0-.273-.014-1.178-.014-2.142-2.889.532-3.636-.704-3.866-1.35-.13-.331-.69-1.352-1.18-1.625-.402-.216-.977-.748-.014-.762.906-.014 1.553.834 1.769 1.179 1.035 1.74 2.688 1.25 3.349.948.1-.747.402-1.25.733-1.538-2.559-.287-5.232-1.279-5.232-5.678 0-1.25.445-2.285 1.178-3.09-.115-.288-.517-1.467.115-3.048 0 0 .963-.302 3.163 1.179.92-.259 1.897-.388 2.875-.388.977 0 1.955.13 2.875.388 2.2-1.495 3.162-1.179 3.162-1.179.633 1.581.23 2.76.115 3.048.733.805 1.179 1.825 1.179 3.09 0 4.413-2.688 5.39-5.247 5.678.417.36.776 1.05.776 2.128 0 1.538-.014 2.774-.014 3.162 0 .302.216.662.79.547C20.709 21.637 24 17.324 24 12.25 24 5.896 18.854.75 12.5.75Z"></path>
</svg>
</div></div>
    </div>
    <div class="Overlay-actionWrap">
      <button data-close-dialog-id="dialog-f78e5ca8-f776-4aa8-961e-4cb8e46d070d" aria-label="Close" type="button" data-view-component="true" class="close-button Overlay-closeButton"><svg aria-hidden="true" height="16" viewBox="0 0 16 16" version="1.1" width="16" data-view-component="true" class="octicon octicon-x">
    <path d="M3.72 3.72a.75.75 0 0 1 1.06 0L8 6.94l3.22-3.22a.749.749 0 0 1 1.275.326.749.749 0 0 1-.215.734L9.06 8l3.22 3.22a.749.749 0 0 1-.326 1.275.749.749 0 0 1-.734-.215L8 9.06l-3.22 3.22a.751.751 0 0 1-1.042-.018.751.751 0 0 1-.018-1.042L6.94 8 3.72 4.78a.75.75 0 0 1 0-1.06Z"></path>
</svg></button>
    </div>
  </div>
  
</div>
      <scrollable-region data-labelled-by="dialog-f78e5ca8-f776-4aa8-961e-4cb8e46d070d-title">
        <div data-view-component="true" class="Overlay-body d-flex flex-column px-2">    <div data-view-component="true" class="d-flex flex-column mb-3">
        <nav aria-label="Site navigation" data-view-component="true" class="ActionList">
  
  <nav-list>
    <ul data-target="nav-list.topLevelList" data-view-component="true" class="ActionListWrap">
        
          
<li data-item-id="" data-targets="nav-list.items" data-view-component="true" class="ActionListItem">
    
    
    <a data-hotkey="g d" data-analytics-event="{&quot;category&quot;:&quot;Global navigation&quot;,&quot;action&quot;:&quot;HOME&quot;,&quot;label&quot;:null}" id="item-1b1c59a6-d39e-42e2-bdde-c3b46dd628a1" href="/dashboard" data-view-component="true" class="ActionListContent ActionListContent--visual16">
        <span class="ActionListItem-visual ActionListItem-visual--leading">
          <svg aria-hidden="true" height="16" viewBox="0 0 16 16" version="1.1" width="16" data-view-component="true" class="octicon octicon-home">
    <path d="M6.906.664a1.749 1.749 0 0 1 2.187 0l5.25 4.2c.415.332.657.835.657 1.367v7.019A1.75 1.75 0 0 1 13.25 15h-3.5a.75.75 0 0 1-.75-.75V9H7v5.25a.75.75 0 0 1-.75.75h-3.5A1.75 1.75 0 0 1 1 13.25V6.23c0-.531.242-1.034.657-1.366l5.25-4.2Zm1.25 1.171a.25.25 0 0 0-.312 0l-5.25 4.2a.25.25 0 0 0-.094.196v7.019c0 .138.112.25.25.25H5.5V8.25a.75.75 0 0 1 .75-.75h3.5a.75.75 0 0 1 .75.75v5.25h2.75a.25.25 0 0 0 .25-.25V6.23a.25.25 0 0 0-.094-.195Z"></path>
</svg>
        </span>
      
        <span data-view-component="true" class="ActionListItem-label">
          Home
</span>      
</a>
  
</li>

        
          
<li data-item-id="" data-targets="nav-list.items" data-view-component="true" class="ActionListItem">
    
    
    <a data-hotkey="g i" data-analytics-event="{&quot;category&quot;:&quot;Global navigation&quot;,&quot;action&quot;:&quot;ISSUES&quot;,&quot;label&quot;:null}" id="item-15755df8-bdda-4462-aa58-af74152b40c6" href="/issues" data-view-component="true" class="ActionListContent ActionListContent--visual16">
        <span class="ActionListItem-visual ActionListItem-visual--leading">
          <svg aria-hidden="true" height="16" viewBox="0 0 16 16" version="1.1" width="16" data-view-component="true" class="octicon octicon-issue-opened">
    <path d="M8 9.5a1.5 1.5 0 1 0 0-3 1.5 1.5 0 0 0 0 3Z"></path><path d="M8 0a8 8 0 1 1 0 16A8 8 0 0 1 8 0ZM1.5 8a6.5 6.5 0 1 0 13 0 6.5 6.5 0 0 0-13 0Z"></path>
</svg>
        </span>
      
        <span data-view-component="true" class="ActionListItem-label">
          Issues
</span>      
</a>
  
</li>

        
          
<li data-item-id="" data-targets="nav-list.items" data-view-component="true" class="ActionListItem">
    
    
    <a data-hotkey="g p" data-analytics-event="{&quot;category&quot;:&quot;Global navigation&quot;,&quot;action&quot;:&quot;PULL_REQUESTS&quot;,&quot;label&quot;:null}" id="item-ca394484-9f53-4b19-8671-526313f5b0f5" href="/pulls" data-view-component="true" class="ActionListContent ActionListContent--visual16">
        <span class="ActionListItem-visual ActionListItem-visual--leading">
          <svg aria-hidden="true" height="16" viewBox="0 0 16 16" version="1.1" width="16" data-view-component="true" class="octicon octicon-git-pull-request">
    <path d="M1.5 3.25a2.25 2.25 0 1 1 3 2.122v5.256a2.251 2.251 0 1 1-1.5 0V5.372A2.25 2.25 0 0 1 1.5 3.25Zm5.677-.177L9.573.677A.25.25 0 0 1 10 .854V2.5h1A2.5 2.5 0 0 1 13.5 5v5.628a2.251 2.251 0 1 1-1.5 0V5a1 1 0 0 0-1-1h-1v1.646a.25.25 0 0 1-.427.177L7.177 3.427a.25.25 0 0 1 0-.354ZM3.75 2.5a.75.75 0 1 0 0 1.5.75.75 0 0 0 0-1.5Zm0 9.5a.75.75 0 1 0 0 1.5.75.75 0 0 0 0-1.5Zm8.25.75a.75.75 0 1 0 1.5 0 .75.75 0 0 0-1.5 0Z"></path>
</svg>
        </span>
      
        <span data-view-component="true" class="ActionListItem-label">
          Pull requests
</span>      
</a>
  
</li>

        
          
<li data-item-id="" data-targets="nav-list.items" data-item-id="projects" data-view-component="true" class="ActionListItem">
    
    
    <a data-analytics-event="{&quot;category&quot;:&quot;Global navigation&quot;,&quot;action&quot;:&quot;PROJECTS&quot;,&quot;label&quot;:null}" id="item-30bffdcd-dd00-4730-b4f7-8c7b8e074457" href="/projects" data-view-component="true" class="ActionListContent ActionListContent--visual16">
        <span class="ActionListItem-visual ActionListItem-visual--leading">
          <svg aria-hidden="true" height="16" viewBox="0 0 16 16" version="1.1" width="16" data-view-component="true" class="octicon octicon-table">
    <path d="M0 1.75C0 .784.784 0 1.75 0h12.5C15.216 0 16 .784 16 1.75v12.5A1.75 1.75 0 0 1 14.25 16H1.75A1.75 1.75 0 0 1 0 14.25ZM6.5 6.5v8h7.75a.25.25 0 0 0 .25-.25V6.5Zm8-1.5V1.75a.25.25 0 0 0-.25-.25H6.5V5Zm-13 1.5v7.75c0 .138.112.25.25.25H5v-8ZM5 5V1.5H1.75a.25.25 0 0 0-.25.25V5Z"></path>
</svg>
        </span>
      
        <span data-view-component="true" class="ActionListItem-label">
          Projects
</span>      
</a>
  
</li>

        
          
<li data-item-id="" data-targets="nav-list.items" data-view-component="true" class="ActionListItem">
    
    
    <a data-analytics-event="{&quot;category&quot;:&quot;Global navigation&quot;,&quot;action&quot;:&quot;DISCUSSIONS&quot;,&quot;label&quot;:null}" id="item-f5d847bf-6a9b-4eaa-ab29-afd153caf8f4" href="/discussions" data-view-component="true" class="ActionListContent ActionListContent--visual16">
        <span class="ActionListItem-visual ActionListItem-visual--leading">
          <svg aria-hidden="true" height="16" viewBox="0 0 16 16" version="1.1" width="16" data-view-component="true" class="octicon octicon-comment-discussion">
    <path d="M1.75 1h8.5c.966 0 1.75.784 1.75 1.75v5.5A1.75 1.75 0 0 1 10.25 10H7.061l-2.574 2.573A1.458 1.458 0 0 1 2 11.543V10h-.25A1.75 1.75 0 0 1 0 8.25v-5.5C0 1.784.784 1 1.75 1ZM1.5 2.75v5.5c0 .138.112.25.25.25h1a.75.75 0 0 1 .75.75v2.19l2.72-2.72a.749.749 0 0 1 .53-.22h3.5a.25.25 0 0 0 .25-.25v-5.5a.25.25 0 0 0-.25-.25h-8.5a.25.25 0 0 0-.25.25Zm13 2a.25.25 0 0 0-.25-.25h-.5a.75.75 0 0 1 0-1.5h.5c.966 0 1.75.784 1.75 1.75v5.5A1.75 1.75 0 0 1 14.25 12H14v1.543a1.458 1.458 0 0 1-2.487 1.03L9.22 12.28a.749.749 0 0 1 .326-1.275.749.749 0 0 1 .734.215l2.22 2.22v-2.19a.75.75 0 0 1 .75-.75h1a.25.25 0 0 0 .25-.25Z"></path>
</svg>
        </span>
      
        <span data-view-component="true" class="ActionListItem-label">
          Discussions
</span>      
</a>
  
</li>

        
          
<li data-item-id="" data-targets="nav-list.items" data-view-component="true" class="ActionListItem">
    
    
    <a data-analytics-event="{&quot;category&quot;:&quot;Global navigation&quot;,&quot;action&quot;:&quot;CODESPACES&quot;,&quot;label&quot;:null}" id="item-9d6493db-97f2-488f-9c26-ad96a396d6a3" href="https://github.com/codespaces" data-view-component="true" class="ActionListContent ActionListContent--visual16">
        <span class="ActionListItem-visual ActionListItem-visual--leading">
          <svg aria-hidden="true" height="16" viewBox="0 0 16 16" version="1.1" width="16" data-view-component="true" class="octicon octicon-codespaces">
    <path d="M0 11.25c0-.966.784-1.75 1.75-1.75h12.5c.966 0 1.75.784 1.75 1.75v3A1.75 1.75 0 0 1 14.25 16H1.75A1.75 1.75 0 0 1 0 14.25Zm2-9.5C2 .784 2.784 0 3.75 0h8.5C13.216 0 14 .784 14 1.75v5a1.75 1.75 0 0 1-1.75 1.75h-8.5A1.75 1.75 0 0 1 2 6.75Zm1.75-.25a.25.25 0 0 0-.25.25v5c0 .138.112.25.25.25h8.5a.25.25 0 0 0 .25-.25v-5a.25.25 0 0 0-.25-.25Zm-2 9.5a.25.25 0 0 0-.25.25v3c0 .138.112.25.25.25h12.5a.25.25 0 0 0 .25-.25v-3a.25.25 0 0 0-.25-.25Z"></path><path d="M7 12.75a.75.75 0 0 1 .75-.75h4.5a.75.75 0 0 1 0 1.5h-4.5a.75.75 0 0 1-.75-.75Zm-4 0a.75.75 0 0 1 .75-.75h.5a.75.75 0 0 1 0 1.5h-.5a.75.75 0 0 1-.75-.75Z"></path>
</svg>
        </span>
      
        <span data-view-component="true" class="ActionListItem-label">
          Codespaces
</span>      
</a>
  
</li>

        
          <li role="presentation" aria-hidden="true" data-view-component="true" class="ActionList-sectionDivider"></li>
        
          
<li data-item-id="" data-targets="nav-list.items" data-view-component="true" class="ActionListItem">
    
    
    <a data-analytics-event="{&quot;category&quot;:&quot;Global navigation&quot;,&quot;action&quot;:&quot;EXPLORE&quot;,&quot;label&quot;:null}" id="item-3f9dbf80-12a3-4b18-a703-811d71e85807" href="/explore" data-view-component="true" class="ActionListContent ActionListContent--visual16">
        <span class="ActionListItem-visual ActionListItem-visual--leading">
          <svg aria-hidden="true" height="16" viewBox="0 0 16 16" version="1.1" width="16" data-view-component="true" class="octicon octicon-telescope">
    <path d="M14.184 1.143v-.001l1.422 2.464a1.75 1.75 0 0 1-.757 2.451L3.104 11.713a1.75 1.75 0 0 1-2.275-.702l-.447-.775a1.75 1.75 0 0 1 .53-2.32L11.682.573a1.748 1.748 0 0 1 2.502.57Zm-4.709 9.32h-.001l2.644 3.863a.75.75 0 1 1-1.238.848l-1.881-2.75v2.826a.75.75 0 0 1-1.5 0v-2.826l-1.881 2.75a.75.75 0 1 1-1.238-.848l2.049-2.992a.746.746 0 0 1 .293-.253l1.809-.87a.749.749 0 0 1 .944.252ZM9.436 3.92h-.001l-4.97 3.39.942 1.63 5.42-2.61Zm3.091-2.108h.001l-1.85 1.26 1.505 2.605 2.016-.97a.247.247 0 0 0 .13-.151.247.247 0 0 0-.022-.199l-1.422-2.464a.253.253 0 0 0-.161-.119.254.254 0 0 0-.197.038ZM1.756 9.157a.25.25 0 0 0-.075.33l.447.775a.25.25 0 0 0 .325.1l1.598-.769-.83-1.436-1.465 1Z"></path>
</svg>
        </span>
      
        <span data-view-component="true" class="ActionListItem-label">
          Explore
</span>      
</a>
  
</li>

        
          
<li data-item-id="" data-targets="nav-list.items" data-view-component="true" class="ActionListItem">
    
    
    <a data-analytics-event="{&quot;category&quot;:&quot;Global navigation&quot;,&quot;action&quot;:&quot;MARKETPLACE&quot;,&quot;label&quot;:null}" id="item-3189c540-14d2-46c4-aa17-a34c9b18fbcb" href="/marketplace" data-view-component="true" class="ActionListContent ActionListContent--visual16">
        <span class="ActionListItem-visual ActionListItem-visual--leading">
          <svg aria-hidden="true" height="16" viewBox="0 0 16 16" version="1.1" width="16" data-view-component="true" class="octicon octicon-gift">
    <path d="M2 2.75A2.75 2.75 0 0 1 4.75 0c.983 0 1.873.42 2.57 1.232.268.318.497.668.68 1.042.183-.375.411-.725.68-1.044C9.376.42 10.266 0 11.25 0a2.75 2.75 0 0 1 2.45 4h.55c.966 0 1.75.784 1.75 1.75v2c0 .698-.409 1.301-1 1.582v4.918A1.75 1.75 0 0 1 13.25 16H2.75A1.75 1.75 0 0 1 1 14.25V9.332C.409 9.05 0 8.448 0 7.75v-2C0 4.784.784 4 1.75 4h.55c-.192-.375-.3-.8-.3-1.25ZM7.25 9.5H2.5v4.75c0 .138.112.25.25.25h4.5Zm1.5 0v5h4.5a.25.25 0 0 0 .25-.25V9.5Zm0-4V8h5.5a.25.25 0 0 0 .25-.25v-2a.25.25 0 0 0-.25-.25Zm-7 0a.25.25 0 0 0-.25.25v2c0 .138.112.25.25.25h5.5V5.5h-5.5Zm3-4a1.25 1.25 0 0 0 0 2.5h2.309c-.233-.818-.542-1.401-.878-1.793-.43-.502-.915-.707-1.431-.707ZM8.941 4h2.309a1.25 1.25 0 0 0 0-2.5c-.516 0-1 .205-1.43.707-.337.392-.646.975-.879 1.793Z"></path>
</svg>
        </span>
      
        <span data-view-component="true" class="ActionListItem-label">
          Marketplace
</span>      
</a>
  
</li>

</ul>  </nav-list>
</nav>

        <div data-view-component="true" class="my-3 d-flex flex-justify-center height-full">
          <svg style="box-sizing: content-box; color: var(--color-icon-primary);" width="16" height="16" viewBox="0 0 16 16" fill="none" aria-hidden="true" data-view-component="true" class="anim-rotate">
  <circle cx="8" cy="8" r="7" stroke="currentColor" stroke-opacity="0.25" stroke-width="2" vector-effect="non-scaling-stroke" fill="none" />
  <path d="M15 8a7.002 7.002 0 00-7-7" stroke="currentColor" stroke-width="2" stroke-linecap="round" vector-effect="non-scaling-stroke" />
</svg>  <span class="sr-only">Loading</span>

</div>
</div>
      <div data-view-component="true" class="flex-1"></div>


      <div data-view-component="true" class="px-2">      <p class="color-fg-subtle text-small text-light">&copy; 2024 GitHub, Inc.</p>

      <div data-view-component="true" class="d-flex flex-wrap text-small text-light">
          <a target="_blank" href="https://github.com/about" data-view-component="true" class="Link mr-2">About</a>
          <a target="_blank" href="https://github.blog" data-view-component="true" class="Link mr-2">Blog</a>
          <a target="_blank" href="https://docs.github.com/site-policy/github-terms/github-terms-of-service" data-view-component="true" class="Link mr-2">Terms</a>
          <a target="_blank" href="https://docs.github.com/site-policy/privacy-policies/github-privacy-statement" data-view-component="true" class="Link mr-2">Privacy</a>
          <a target="_blank" href="https://github.com/security" data-view-component="true" class="Link mr-2">Security</a>
          <a target="_blank" href="https://www.githubstatus.com/" data-view-component="true" class="Link mr-3">Status</a>

</div></div>
</div>
      </scrollable-region>
      
</dialog></dialog-helper>

  </include-fragment>
</deferred-side-panel>

        <a
          class="AppHeader-logo ml-2"
          href="https://github.com/"
          data-hotkey="g d"
          aria-label="Homepage "
          data-turbo="false"
          data-analytics-event="{&quot;category&quot;:&quot;Header&quot;,&quot;action&quot;:&quot;go to dashboard&quot;,&quot;label&quot;:&quot;icon:logo&quot;}"
        >
          <svg height="32" aria-hidden="true" viewBox="0 0 24 24" version="1.1" width="32" data-view-component="true" class="octicon octicon-mark-github v-align-middle color-fg-default">
    <path d="M12.5.75C6.146.75 1 5.896 1 12.25c0 5.089 3.292 9.387 7.863 10.91.575.101.79-.244.79-.546 0-.273-.014-1.178-.014-2.142-2.889.532-3.636-.704-3.866-1.35-.13-.331-.69-1.352-1.18-1.625-.402-.216-.977-.748-.014-.762.906-.014 1.553.834 1.769 1.179 1.035 1.74 2.688 1.25 3.349.948.1-.747.402-1.25.733-1.538-2.559-.287-5.232-1.279-5.232-5.678 0-1.25.445-2.285 1.178-3.09-.115-.288-.517-1.467.115-3.048 0 0 .963-.302 3.163 1.179.92-.259 1.897-.388 2.875-.388.977 0 1.955.13 2.875.388 2.2-1.495 3.162-1.179 3.162-1.179.633 1.581.23 2.76.115 3.048.733.805 1.179 1.825 1.179 3.09 0 4.413-2.688 5.39-5.247 5.678.417.36.776 1.05.776 2.128 0 1.538-.014 2.774-.014 3.162 0 .302.216.662.79.547C20.709 21.637 24 17.324 24 12.25 24 5.896 18.854.75 12.5.75Z"></path>
</svg>
        </a>

          <div class="AppHeader-context" >
  <div class="AppHeader-context-compact">
      <button aria-expanded="false" aria-haspopup="dialog" aria-label="Page context: MathforDataScience / DSR_Statistics1" id="dialog-show-context-region-dialog" data-show-dialog-id="context-region-dialog" type="button" data-view-component="true" class="AppHeader-context-compact-trigger Truncate Button--secondary Button--medium Button box-shadow-none">  <span class="Button-content">
    <span class="Button-label"><span class="AppHeader-context-compact-lead">
                <span class="AppHeader-context-compact-parentItem">MathforDataScience</span>
                <span class="no-wrap">&nbsp;/</span>

            </span>

            <strong class="AppHeader-context-compact-mainItem d-flex flex-items-center Truncate" >
  <span class="Truncate-text ">DSR_Statistics1</span>

</strong></span>
  </span>
</button>

<dialog-helper>
  <dialog id="context-region-dialog" aria-modal="true" aria-labelledby="context-region-dialog-title" aria-describedby="context-region-dialog-description" data-view-component="true" class="Overlay Overlay-whenNarrow Overlay--size-medium Overlay--motion-scaleFade">
    <div data-view-component="true" class="Overlay-header">
  <div class="Overlay-headerContentWrap">
    <div class="Overlay-titleWrap">
      <h1 class="Overlay-title " id="context-region-dialog-title">
        Navigate back to
      </h1>
        
    </div>
    <div class="Overlay-actionWrap">
      <button data-close-dialog-id="context-region-dialog" aria-label="Close" type="button" data-view-component="true" class="close-button Overlay-closeButton"><svg aria-hidden="true" height="16" viewBox="0 0 16 16" version="1.1" width="16" data-view-component="true" class="octicon octicon-x">
    <path d="M3.72 3.72a.75.75 0 0 1 1.06 0L8 6.94l3.22-3.22a.749.749 0 0 1 1.275.326.749.749 0 0 1-.215.734L9.06 8l3.22 3.22a.749.749 0 0 1-.326 1.275.749.749 0 0 1-.734-.215L8 9.06l-3.22 3.22a.751.751 0 0 1-1.042-.018.751.751 0 0 1-.018-1.042L6.94 8 3.72 4.78a.75.75 0 0 1 0-1.06Z"></path>
</svg></button>
    </div>
  </div>
  
</div>
      <scrollable-region data-labelled-by="context-region-dialog-title">
        <div data-view-component="true" class="Overlay-body">          <ul role="list" class="list-style-none" >
    <li>
      <a data-analytics-event="{&quot;category&quot;:&quot;SiteHeaderComponent&quot;,&quot;action&quot;:&quot;context_region_crumb&quot;,&quot;label&quot;:&quot;MathforDataScience&quot;,&quot;screen_size&quot;:&quot;compact&quot;}" href="/MathforDataScience" data-view-component="true" class="Link--primary Truncate d-flex flex-items-center py-1">
        <span class="AppHeader-context-item-label Truncate-text ">
            <svg aria-hidden="true" height="12" viewBox="0 0 16 16" version="1.1" width="12" data-view-component="true" class="octicon octicon-person mr-1">
    <path d="M10.561 8.073a6.005 6.005 0 0 1 3.432 5.142.75.75 0 1 1-1.498.07 4.5 4.5 0 0 0-8.99 0 .75.75 0 0 1-1.498-.07 6.004 6.004 0 0 1 3.431-5.142 3.999 3.999 0 1 1 5.123 0ZM10.5 5a2.5 2.5 0 1 0-5 0 2.5 2.5 0 0 0 5 0Z"></path>
</svg>

          MathforDataScience
        </span>

</a>
    </li>
    <li>
      <a data-analytics-event="{&quot;category&quot;:&quot;SiteHeaderComponent&quot;,&quot;action&quot;:&quot;context_region_crumb&quot;,&quot;label&quot;:&quot;DSR_Statistics1&quot;,&quot;screen_size&quot;:&quot;compact&quot;}" href="/MathforDataScience/DSR_Statistics1" data-view-component="true" class="Link--primary Truncate d-flex flex-items-center py-1">
        <span class="AppHeader-context-item-label Truncate-text ">
            <svg aria-hidden="true" height="12" viewBox="0 0 16 16" version="1.1" width="12" data-view-component="true" class="octicon octicon-repo mr-1">
    <path d="M2 2.5A2.5 2.5 0 0 1 4.5 0h8.75a.75.75 0 0 1 .75.75v12.5a.75.75 0 0 1-.75.75h-2.5a.75.75 0 0 1 0-1.5h1.75v-2h-8a1 1 0 0 0-.714 1.7.75.75 0 1 1-1.072 1.05A2.495 2.495 0 0 1 2 11.5Zm10.5-1h-8a1 1 0 0 0-1 1v6.708A2.486 2.486 0 0 1 4.5 9h8ZM5 12.25a.25.25 0 0 1 .25-.25h3.5a.25.25 0 0 1 .25.25v3.25a.25.25 0 0 1-.4.2l-1.45-1.087a.249.249 0 0 0-.3 0L5.4 15.7a.25.25 0 0 1-.4-.2Z"></path>
</svg>

          DSR_Statistics1
        </span>

</a>
    </li>
</ul>

</div>
      </scrollable-region>
      
</dialog></dialog-helper>
  </div>

  <div class="AppHeader-context-full">
    <nav role="navigation" aria-label="Page context">
      <ul role="list" class="list-style-none" >
    <li>
      <a data-analytics-event="{&quot;category&quot;:&quot;SiteHeaderComponent&quot;,&quot;action&quot;:&quot;context_region_crumb&quot;,&quot;label&quot;:&quot;MathforDataScience&quot;,&quot;screen_size&quot;:&quot;full&quot;}" data-hovercard-type="user" data-hovercard-url="/users/MathforDataScience/hovercard" data-octo-click="hovercard-link-click" data-octo-dimensions="link_type:self" href="/MathforDataScience" data-view-component="true" class="AppHeader-context-item">
        <span class="AppHeader-context-item-label  ">

          MathforDataScience
        </span>

</a>
        <span class="AppHeader-context-item-separator">/</span>
    </li>
    <li>
      <a data-analytics-event="{&quot;category&quot;:&quot;SiteHeaderComponent&quot;,&quot;action&quot;:&quot;context_region_crumb&quot;,&quot;label&quot;:&quot;DSR_Statistics1&quot;,&quot;screen_size&quot;:&quot;full&quot;}" href="/MathforDataScience/DSR_Statistics1" data-view-component="true" class="AppHeader-context-item">
        <span class="AppHeader-context-item-label  ">

          DSR_Statistics1
        </span>

</a>
    </li>
</ul>

    </nav>
  </div>
</div>

      </div>
      <div class="AppHeader-globalBar-end">
          <div class="AppHeader-search" >
              


<qbsearch-input class="search-input" data-scope="repo:MathforDataScience/DSR_Statistics1" data-custom-scopes-path="/search/custom_scopes" data-delete-custom-scopes-csrf="my4CXFzPQaRzmkXZNuwDBoDQUISxgkLkfDDB0cg7ckrP3DNN5BOFH-S0grzm4uD8d6wZ0nu8Hg5HV-dfcyZ2IA" data-max-custom-scopes="10" data-header-redesign-enabled="true" data-initial-value="" data-blackbird-suggestions-path="/search/suggestions" data-jump-to-suggestions-path="/_graphql/GetSuggestedNavigationDestinations" data-current-repository="MathforDataScience/DSR_Statistics1" data-current-org="" data-current-owner="MathforDataScience" data-logged-in="true" data-copilot-chat-enabled="false" data-nl-search-enabled="false">
  <div
    class="search-input-container search-with-dialog position-relative d-flex flex-row flex-items-center height-auto color-bg-transparent border-0 color-fg-subtle mx-0"
    data-action="click:qbsearch-input#searchInputContainerClicked"
  >
      
            <button type="button" data-action="click:qbsearch-input#handleExpand" class="AppHeader-button AppHeader-search-whenNarrow" aria-label="Search or jump to…" aria-expanded="false" aria-haspopup="dialog">
            <svg aria-hidden="true" height="16" viewBox="0 0 16 16" version="1.1" width="16" data-view-component="true" class="octicon octicon-search">
    <path d="M10.68 11.74a6 6 0 0 1-7.922-8.982 6 6 0 0 1 8.982 7.922l3.04 3.04a.749.749 0 0 1-.326 1.275.749.749 0 0 1-.734-.215ZM11.5 7a4.499 4.499 0 1 0-8.997 0A4.499 4.499 0 0 0 11.5 7Z"></path>
</svg>
          </button>


<div class="AppHeader-search-whenRegular">
  <div class="AppHeader-search-wrap AppHeader-search-wrap--hasTrailing">
    <div class="AppHeader-search-control">
      <label
        for="AppHeader-searchInput"
        aria-label="Search or jump to…"
        class="AppHeader-search-visual--leading"
      >
        <svg aria-hidden="true" height="16" viewBox="0 0 16 16" version="1.1" width="16" data-view-component="true" class="octicon octicon-search">
    <path d="M10.68 11.74a6 6 0 0 1-7.922-8.982 6 6 0 0 1 8.982 7.922l3.04 3.04a.749.749 0 0 1-.326 1.275.749.749 0 0 1-.734-.215ZM11.5 7a4.499 4.499 0 1 0-8.997 0A4.499 4.499 0 0 0 11.5 7Z"></path>
</svg>
      </label>

                <button
            type="button"
            data-target="qbsearch-input.inputButton"
            data-action="click:qbsearch-input#handleExpand"
            class="AppHeader-searchButton form-control input-contrast text-left color-fg-subtle no-wrap"
            data-hotkey="s,/"
            data-analytics-event="{&quot;location&quot;:&quot;navbar&quot;,&quot;action&quot;:&quot;searchbar&quot;,&quot;context&quot;:&quot;global&quot;,&quot;tag&quot;:&quot;input&quot;,&quot;label&quot;:&quot;searchbar_input_global_navbar&quot;}"
            aria-describedby="search-error-message-flash"
          >
            <div class="overflow-hidden">
              <span id="qb-input-query" data-target="qbsearch-input.inputButtonText">
                  Type <kbd class="AppHeader-search-kbd">/</kbd> to search
              </span>
            </div>
          </button>

    </div>


  </div>
</div>

    <input type="hidden" name="type" class="js-site-search-type-field">

    
<div class="Overlay--hidden " data-modal-dialog-overlay>
  <modal-dialog data-action="close:qbsearch-input#handleClose cancel:qbsearch-input#handleClose" data-target="qbsearch-input.searchSuggestionsDialog" role="dialog" id="search-suggestions-dialog" aria-modal="true" aria-labelledby="search-suggestions-dialog-header" data-view-component="true" class="Overlay Overlay--width-medium Overlay--height-auto">
      <h1 id="search-suggestions-dialog-header" class="sr-only">Search code, repositories, users, issues, pull requests...</h1>
    <div class="Overlay-body Overlay-body--paddingNone">
      
          <div data-view-component="true">        <div class="search-suggestions position-absolute width-full color-shadow-large border color-fg-default color-bg-default overflow-hidden d-flex flex-column query-builder-container"
          style="border-radius: 12px;"
          data-target="qbsearch-input.queryBuilderContainer"
          hidden
        >
          <!-- '"` --><!-- </textarea></xmp> --></option></form><form id="query-builder-test-form" action="" accept-charset="UTF-8" method="get">
  <query-builder data-target="qbsearch-input.queryBuilder" id="query-builder-query-builder-test" data-filter-key=":" data-view-component="true" class="QueryBuilder search-query-builder">
    <div class="FormControl FormControl--fullWidth">
      <label id="query-builder-test-label" for="query-builder-test" class="FormControl-label sr-only">
        Search
      </label>
      <div
        class="QueryBuilder-StyledInput width-fit "
        data-target="query-builder.styledInput"
      >
          <span id="query-builder-test-leadingvisual-wrap" class="FormControl-input-leadingVisualWrap QueryBuilder-leadingVisualWrap">
            <svg aria-hidden="true" height="16" viewBox="0 0 16 16" version="1.1" width="16" data-view-component="true" class="octicon octicon-search FormControl-input-leadingVisual">
    <path d="M10.68 11.74a6 6 0 0 1-7.922-8.982 6 6 0 0 1 8.982 7.922l3.04 3.04a.749.749 0 0 1-.326 1.275.749.749 0 0 1-.734-.215ZM11.5 7a4.499 4.499 0 1 0-8.997 0A4.499 4.499 0 0 0 11.5 7Z"></path>
</svg>
          </span>
        <div data-target="query-builder.styledInputContainer" class="QueryBuilder-StyledInputContainer">
          <div
            aria-hidden="true"
            class="QueryBuilder-StyledInputContent"
            data-target="query-builder.styledInputContent"
          ></div>
          <div class="QueryBuilder-InputWrapper">
            <div aria-hidden="true" class="QueryBuilder-Sizer" data-target="query-builder.sizer"></div>
            <input id="query-builder-test" name="query-builder-test" value="" autocomplete="off" type="text" role="combobox" spellcheck="false" aria-expanded="false" aria-describedby="validation-08cb3b2b-779a-48cd-b2b3-399982060e03" data-target="query-builder.input" data-action="
          input:query-builder#inputChange
          blur:query-builder#inputBlur
          keydown:query-builder#inputKeydown
          focus:query-builder#inputFocus
        " data-view-component="true" class="FormControl-input QueryBuilder-Input FormControl-medium" />
          </div>
        </div>
          <span class="sr-only" id="query-builder-test-clear">Clear</span>
          <button role="button" id="query-builder-test-clear-button" aria-labelledby="query-builder-test-clear query-builder-test-label" data-target="query-builder.clearButton" data-action="
                click:query-builder#clear
                focus:query-builder#clearButtonFocus
                blur:query-builder#clearButtonBlur
              " variant="small" hidden="hidden" type="button" data-view-component="true" class="Button Button--iconOnly Button--invisible Button--medium mr-1 px-2 py-0 d-flex flex-items-center rounded-1 color-fg-muted">  <svg aria-hidden="true" height="16" viewBox="0 0 16 16" version="1.1" width="16" data-view-component="true" class="octicon octicon-x-circle-fill Button-visual">
    <path d="M2.343 13.657A8 8 0 1 1 13.658 2.343 8 8 0 0 1 2.343 13.657ZM6.03 4.97a.751.751 0 0 0-1.042.018.751.751 0 0 0-.018 1.042L6.94 8 4.97 9.97a.749.749 0 0 0 .326 1.275.749.749 0 0 0 .734-.215L8 9.06l1.97 1.97a.749.749 0 0 0 1.275-.326.749.749 0 0 0-.215-.734L9.06 8l1.97-1.97a.749.749 0 0 0-.326-1.275.749.749 0 0 0-.734.215L8 6.94Z"></path>
</svg>
</button>

      </div>
      <template id="search-icon">
  <svg aria-hidden="true" height="16" viewBox="0 0 16 16" version="1.1" width="16" data-view-component="true" class="octicon octicon-search">
    <path d="M10.68 11.74a6 6 0 0 1-7.922-8.982 6 6 0 0 1 8.982 7.922l3.04 3.04a.749.749 0 0 1-.326 1.275.749.749 0 0 1-.734-.215ZM11.5 7a4.499 4.499 0 1 0-8.997 0A4.499 4.499 0 0 0 11.5 7Z"></path>
</svg>
</template>

<template id="code-icon">
  <svg aria-hidden="true" height="16" viewBox="0 0 16 16" version="1.1" width="16" data-view-component="true" class="octicon octicon-code">
    <path d="m11.28 3.22 4.25 4.25a.75.75 0 0 1 0 1.06l-4.25 4.25a.749.749 0 0 1-1.275-.326.749.749 0 0 1 .215-.734L13.94 8l-3.72-3.72a.749.749 0 0 1 .326-1.275.749.749 0 0 1 .734.215Zm-6.56 0a.751.751 0 0 1 1.042.018.751.751 0 0 1 .018 1.042L2.06 8l3.72 3.72a.749.749 0 0 1-.326 1.275.749.749 0 0 1-.734-.215L.47 8.53a.75.75 0 0 1 0-1.06Z"></path>
</svg>
</template>

<template id="file-code-icon">
  <svg aria-hidden="true" height="16" viewBox="0 0 16 16" version="1.1" width="16" data-view-component="true" class="octicon octicon-file-code">
    <path d="M4 1.75C4 .784 4.784 0 5.75 0h5.586c.464 0 .909.184 1.237.513l2.914 2.914c.329.328.513.773.513 1.237v8.586A1.75 1.75 0 0 1 14.25 15h-9a.75.75 0 0 1 0-1.5h9a.25.25 0 0 0 .25-.25V6h-2.75A1.75 1.75 0 0 1 10 4.25V1.5H5.75a.25.25 0 0 0-.25.25v2.5a.75.75 0 0 1-1.5 0Zm1.72 4.97a.75.75 0 0 1 1.06 0l2 2a.75.75 0 0 1 0 1.06l-2 2a.749.749 0 0 1-1.275-.326.749.749 0 0 1 .215-.734l1.47-1.47-1.47-1.47a.75.75 0 0 1 0-1.06ZM3.28 7.78 1.81 9.25l1.47 1.47a.751.751 0 0 1-.018 1.042.751.751 0 0 1-1.042.018l-2-2a.75.75 0 0 1 0-1.06l2-2a.751.751 0 0 1 1.042.018.751.751 0 0 1 .018 1.042Zm8.22-6.218V4.25c0 .138.112.25.25.25h2.688l-.011-.013-2.914-2.914-.013-.011Z"></path>
</svg>
</template>

<template id="history-icon">
  <svg aria-hidden="true" height="16" viewBox="0 0 16 16" version="1.1" width="16" data-view-component="true" class="octicon octicon-history">
    <path d="m.427 1.927 1.215 1.215a8.002 8.002 0 1 1-1.6 5.685.75.75 0 1 1 1.493-.154 6.5 6.5 0 1 0 1.18-4.458l1.358 1.358A.25.25 0 0 1 3.896 6H.25A.25.25 0 0 1 0 5.75V2.104a.25.25 0 0 1 .427-.177ZM7.75 4a.75.75 0 0 1 .75.75v2.992l2.028.812a.75.75 0 0 1-.557 1.392l-2.5-1A.751.751 0 0 1 7 8.25v-3.5A.75.75 0 0 1 7.75 4Z"></path>
</svg>
</template>

<template id="repo-icon">
  <svg aria-hidden="true" height="16" viewBox="0 0 16 16" version="1.1" width="16" data-view-component="true" class="octicon octicon-repo">
    <path d="M2 2.5A2.5 2.5 0 0 1 4.5 0h8.75a.75.75 0 0 1 .75.75v12.5a.75.75 0 0 1-.75.75h-2.5a.75.75 0 0 1 0-1.5h1.75v-2h-8a1 1 0 0 0-.714 1.7.75.75 0 1 1-1.072 1.05A2.495 2.495 0 0 1 2 11.5Zm10.5-1h-8a1 1 0 0 0-1 1v6.708A2.486 2.486 0 0 1 4.5 9h8ZM5 12.25a.25.25 0 0 1 .25-.25h3.5a.25.25 0 0 1 .25.25v3.25a.25.25 0 0 1-.4.2l-1.45-1.087a.249.249 0 0 0-.3 0L5.4 15.7a.25.25 0 0 1-.4-.2Z"></path>
</svg>
</template>

<template id="bookmark-icon">
  <svg aria-hidden="true" height="16" viewBox="0 0 16 16" version="1.1" width="16" data-view-component="true" class="octicon octicon-bookmark">
    <path d="M3 2.75C3 1.784 3.784 1 4.75 1h6.5c.966 0 1.75.784 1.75 1.75v11.5a.75.75 0 0 1-1.227.579L8 11.722l-3.773 3.107A.751.751 0 0 1 3 14.25Zm1.75-.25a.25.25 0 0 0-.25.25v9.91l3.023-2.489a.75.75 0 0 1 .954 0l3.023 2.49V2.75a.25.25 0 0 0-.25-.25Z"></path>
</svg>
</template>

<template id="plus-circle-icon">
  <svg aria-hidden="true" height="16" viewBox="0 0 16 16" version="1.1" width="16" data-view-component="true" class="octicon octicon-plus-circle">
    <path d="M8 0a8 8 0 1 1 0 16A8 8 0 0 1 8 0ZM1.5 8a6.5 6.5 0 1 0 13 0 6.5 6.5 0 0 0-13 0Zm7.25-3.25v2.5h2.5a.75.75 0 0 1 0 1.5h-2.5v2.5a.75.75 0 0 1-1.5 0v-2.5h-2.5a.75.75 0 0 1 0-1.5h2.5v-2.5a.75.75 0 0 1 1.5 0Z"></path>
</svg>
</template>

<template id="circle-icon">
  <svg aria-hidden="true" height="16" viewBox="0 0 16 16" version="1.1" width="16" data-view-component="true" class="octicon octicon-dot-fill">
    <path d="M8 4a4 4 0 1 1 0 8 4 4 0 0 1 0-8Z"></path>
</svg>
</template>

<template id="trash-icon">
  <svg aria-hidden="true" height="16" viewBox="0 0 16 16" version="1.1" width="16" data-view-component="true" class="octicon octicon-trash">
    <path d="M11 1.75V3h2.25a.75.75 0 0 1 0 1.5H2.75a.75.75 0 0 1 0-1.5H5V1.75C5 .784 5.784 0 6.75 0h2.5C10.216 0 11 .784 11 1.75ZM4.496 6.675l.66 6.6a.25.25 0 0 0 .249.225h5.19a.25.25 0 0 0 .249-.225l.66-6.6a.75.75 0 0 1 1.492.149l-.66 6.6A1.748 1.748 0 0 1 10.595 15h-5.19a1.75 1.75 0 0 1-1.741-1.575l-.66-6.6a.75.75 0 1 1 1.492-.15ZM6.5 1.75V3h3V1.75a.25.25 0 0 0-.25-.25h-2.5a.25.25 0 0 0-.25.25Z"></path>
</svg>
</template>

<template id="team-icon">
  <svg aria-hidden="true" height="16" viewBox="0 0 16 16" version="1.1" width="16" data-view-component="true" class="octicon octicon-people">
    <path d="M2 5.5a3.5 3.5 0 1 1 5.898 2.549 5.508 5.508 0 0 1 3.034 4.084.75.75 0 1 1-1.482.235 4 4 0 0 0-7.9 0 .75.75 0 0 1-1.482-.236A5.507 5.507 0 0 1 3.102 8.05 3.493 3.493 0 0 1 2 5.5ZM11 4a3.001 3.001 0 0 1 2.22 5.018 5.01 5.01 0 0 1 2.56 3.012.749.749 0 0 1-.885.954.752.752 0 0 1-.549-.514 3.507 3.507 0 0 0-2.522-2.372.75.75 0 0 1-.574-.73v-.352a.75.75 0 0 1 .416-.672A1.5 1.5 0 0 0 11 5.5.75.75 0 0 1 11 4Zm-5.5-.5a2 2 0 1 0-.001 3.999A2 2 0 0 0 5.5 3.5Z"></path>
</svg>
</template>

<template id="project-icon">
  <svg aria-hidden="true" height="16" viewBox="0 0 16 16" version="1.1" width="16" data-view-component="true" class="octicon octicon-project">
    <path d="M1.75 0h12.5C15.216 0 16 .784 16 1.75v12.5A1.75 1.75 0 0 1 14.25 16H1.75A1.75 1.75 0 0 1 0 14.25V1.75C0 .784.784 0 1.75 0ZM1.5 1.75v12.5c0 .138.112.25.25.25h12.5a.25.25 0 0 0 .25-.25V1.75a.25.25 0 0 0-.25-.25H1.75a.25.25 0 0 0-.25.25ZM11.75 3a.75.75 0 0 1 .75.75v7.5a.75.75 0 0 1-1.5 0v-7.5a.75.75 0 0 1 .75-.75Zm-8.25.75a.75.75 0 0 1 1.5 0v5.5a.75.75 0 0 1-1.5 0ZM8 3a.75.75 0 0 1 .75.75v3.5a.75.75 0 0 1-1.5 0v-3.5A.75.75 0 0 1 8 3Z"></path>
</svg>
</template>

<template id="pencil-icon">
  <svg aria-hidden="true" height="16" viewBox="0 0 16 16" version="1.1" width="16" data-view-component="true" class="octicon octicon-pencil">
    <path d="M11.013 1.427a1.75 1.75 0 0 1 2.474 0l1.086 1.086a1.75 1.75 0 0 1 0 2.474l-8.61 8.61c-.21.21-.47.364-.756.445l-3.251.93a.75.75 0 0 1-.927-.928l.929-3.25c.081-.286.235-.547.445-.758l8.61-8.61Zm.176 4.823L9.75 4.81l-6.286 6.287a.253.253 0 0 0-.064.108l-.558 1.953 1.953-.558a.253.253 0 0 0 .108-.064Zm1.238-3.763a.25.25 0 0 0-.354 0L10.811 3.75l1.439 1.44 1.263-1.263a.25.25 0 0 0 0-.354Z"></path>
</svg>
</template>

<template id="copilot-icon">
  <svg aria-hidden="true" height="16" viewBox="0 0 16 16" version="1.1" width="16" data-view-component="true" class="octicon octicon-copilot">
    <path d="M7.998 15.035c-4.562 0-7.873-2.914-7.998-3.749V9.338c.085-.628.677-1.686 1.588-2.065.013-.07.024-.143.036-.218.029-.183.06-.384.126-.612-.201-.508-.254-1.084-.254-1.656 0-.87.128-1.769.693-2.484.579-.733 1.494-1.124 2.724-1.261 1.206-.134 2.262.034 2.944.765.05.053.096.108.139.165.044-.057.094-.112.143-.165.682-.731 1.738-.899 2.944-.765 1.23.137 2.145.528 2.724 1.261.566.715.693 1.614.693 2.484 0 .572-.053 1.148-.254 1.656.066.228.098.429.126.612.012.076.024.148.037.218.924.385 1.522 1.471 1.591 2.095v1.872c0 .766-3.351 3.795-8.002 3.795Zm0-1.485c2.28 0 4.584-1.11 5.002-1.433V7.862l-.023-.116c-.49.21-1.075.291-1.727.291-1.146 0-2.059-.327-2.71-.991A3.222 3.222 0 0 1 8 6.303a3.24 3.24 0 0 1-.544.743c-.65.664-1.563.991-2.71.991-.652 0-1.236-.081-1.727-.291l-.023.116v4.255c.419.323 2.722 1.433 5.002 1.433ZM6.762 2.83c-.193-.206-.637-.413-1.682-.297-1.019.113-1.479.404-1.713.7-.247.312-.369.789-.369 1.554 0 .793.129 1.171.308 1.371.162.181.519.379 1.442.379.853 0 1.339-.235 1.638-.54.315-.322.527-.827.617-1.553.117-.935-.037-1.395-.241-1.614Zm4.155-.297c-1.044-.116-1.488.091-1.681.297-.204.219-.359.679-.242 1.614.091.726.303 1.231.618 1.553.299.305.784.54 1.638.54.922 0 1.28-.198 1.442-.379.179-.2.308-.578.308-1.371 0-.765-.123-1.242-.37-1.554-.233-.296-.693-.587-1.713-.7Z"></path><path d="M6.25 9.037a.75.75 0 0 1 .75.75v1.501a.75.75 0 0 1-1.5 0V9.787a.75.75 0 0 1 .75-.75Zm4.25.75v1.501a.75.75 0 0 1-1.5 0V9.787a.75.75 0 0 1 1.5 0Z"></path>
</svg>
</template>

<template id="copilot-error-icon">
  <svg aria-hidden="true" height="16" viewBox="0 0 16 16" version="1.1" width="16" data-view-component="true" class="octicon octicon-copilot-error">
    <path d="M16 11.24c0 .112-.072.274-.21.467L13 9.688V7.862l-.023-.116c-.49.21-1.075.291-1.727.291-.198 0-.388-.009-.571-.029L6.833 5.226a4.01 4.01 0 0 0 .17-.782c.117-.935-.037-1.395-.241-1.614-.193-.206-.637-.413-1.682-.297-.683.076-1.115.231-1.395.415l-1.257-.91c.579-.564 1.413-.877 2.485-.996 1.206-.134 2.262.034 2.944.765.05.053.096.108.139.165.044-.057.094-.112.143-.165.682-.731 1.738-.899 2.944-.765 1.23.137 2.145.528 2.724 1.261.566.715.693 1.614.693 2.484 0 .572-.053 1.148-.254 1.656.066.228.098.429.126.612.012.076.024.148.037.218.924.385 1.522 1.471 1.591 2.095Zm-5.083-8.707c-1.044-.116-1.488.091-1.681.297-.204.219-.359.679-.242 1.614.091.726.303 1.231.618 1.553.299.305.784.54 1.638.54.922 0 1.28-.198 1.442-.379.179-.2.308-.578.308-1.371 0-.765-.123-1.242-.37-1.554-.233-.296-.693-.587-1.713-.7Zm2.511 11.074c-1.393.776-3.272 1.428-5.43 1.428-4.562 0-7.873-2.914-7.998-3.749V9.338c.085-.628.677-1.686 1.588-2.065.013-.07.024-.143.036-.218.029-.183.06-.384.126-.612-.18-.455-.241-.963-.252-1.475L.31 4.107A.747.747 0 0 1 0 3.509V3.49a.748.748 0 0 1 .625-.73c.156-.026.306.047.435.139l14.667 10.578a.592.592 0 0 1 .227.264.752.752 0 0 1 .046.249v.022a.75.75 0 0 1-1.19.596Zm-1.367-.991L5.635 7.964a5.128 5.128 0 0 1-.889.073c-.652 0-1.236-.081-1.727-.291l-.023.116v4.255c.419.323 2.722 1.433 5.002 1.433 1.539 0 3.089-.505 4.063-.934Z"></path>
</svg>
</template>

<template id="workflow-icon">
  <svg aria-hidden="true" height="16" viewBox="0 0 16 16" version="1.1" width="16" data-view-component="true" class="octicon octicon-workflow">
    <path d="M0 1.75C0 .784.784 0 1.75 0h3.5C6.216 0 7 .784 7 1.75v3.5A1.75 1.75 0 0 1 5.25 7H4v4a1 1 0 0 0 1 1h4v-1.25C9 9.784 9.784 9 10.75 9h3.5c.966 0 1.75.784 1.75 1.75v3.5A1.75 1.75 0 0 1 14.25 16h-3.5A1.75 1.75 0 0 1 9 14.25v-.75H5A2.5 2.5 0 0 1 2.5 11V7h-.75A1.75 1.75 0 0 1 0 5.25Zm1.75-.25a.25.25 0 0 0-.25.25v3.5c0 .138.112.25.25.25h3.5a.25.25 0 0 0 .25-.25v-3.5a.25.25 0 0 0-.25-.25Zm9 9a.25.25 0 0 0-.25.25v3.5c0 .138.112.25.25.25h3.5a.25.25 0 0 0 .25-.25v-3.5a.25.25 0 0 0-.25-.25Z"></path>
</svg>
</template>

<template id="book-icon">
  <svg aria-hidden="true" height="16" viewBox="0 0 16 16" version="1.1" width="16" data-view-component="true" class="octicon octicon-book">
    <path d="M0 1.75A.75.75 0 0 1 .75 1h4.253c1.227 0 2.317.59 3 1.501A3.743 3.743 0 0 1 11.006 1h4.245a.75.75 0 0 1 .75.75v10.5a.75.75 0 0 1-.75.75h-4.507a2.25 2.25 0 0 0-1.591.659l-.622.621a.75.75 0 0 1-1.06 0l-.622-.621A2.25 2.25 0 0 0 5.258 13H.75a.75.75 0 0 1-.75-.75Zm7.251 10.324.004-5.073-.002-2.253A2.25 2.25 0 0 0 5.003 2.5H1.5v9h3.757a3.75 3.75 0 0 1 1.994.574ZM8.755 4.75l-.004 7.322a3.752 3.752 0 0 1 1.992-.572H14.5v-9h-3.495a2.25 2.25 0 0 0-2.25 2.25Z"></path>
</svg>
</template>

<template id="code-review-icon">
  <svg aria-hidden="true" height="16" viewBox="0 0 16 16" version="1.1" width="16" data-view-component="true" class="octicon octicon-code-review">
    <path d="M1.75 1h12.5c.966 0 1.75.784 1.75 1.75v8.5A1.75 1.75 0 0 1 14.25 13H8.061l-2.574 2.573A1.458 1.458 0 0 1 3 14.543V13H1.75A1.75 1.75 0 0 1 0 11.25v-8.5C0 1.784.784 1 1.75 1ZM1.5 2.75v8.5c0 .138.112.25.25.25h2a.75.75 0 0 1 .75.75v2.19l2.72-2.72a.749.749 0 0 1 .53-.22h6.5a.25.25 0 0 0 .25-.25v-8.5a.25.25 0 0 0-.25-.25H1.75a.25.25 0 0 0-.25.25Zm5.28 1.72a.75.75 0 0 1 0 1.06L5.31 7l1.47 1.47a.751.751 0 0 1-.018 1.042.751.751 0 0 1-1.042.018l-2-2a.75.75 0 0 1 0-1.06l2-2a.75.75 0 0 1 1.06 0Zm2.44 0a.75.75 0 0 1 1.06 0l2 2a.75.75 0 0 1 0 1.06l-2 2a.751.751 0 0 1-1.042-.018.751.751 0 0 1-.018-1.042L10.69 7 9.22 5.53a.75.75 0 0 1 0-1.06Z"></path>
</svg>
</template>

<template id="codespaces-icon">
  <svg aria-hidden="true" height="16" viewBox="0 0 16 16" version="1.1" width="16" data-view-component="true" class="octicon octicon-codespaces">
    <path d="M0 11.25c0-.966.784-1.75 1.75-1.75h12.5c.966 0 1.75.784 1.75 1.75v3A1.75 1.75 0 0 1 14.25 16H1.75A1.75 1.75 0 0 1 0 14.25Zm2-9.5C2 .784 2.784 0 3.75 0h8.5C13.216 0 14 .784 14 1.75v5a1.75 1.75 0 0 1-1.75 1.75h-8.5A1.75 1.75 0 0 1 2 6.75Zm1.75-.25a.25.25 0 0 0-.25.25v5c0 .138.112.25.25.25h8.5a.25.25 0 0 0 .25-.25v-5a.25.25 0 0 0-.25-.25Zm-2 9.5a.25.25 0 0 0-.25.25v3c0 .138.112.25.25.25h12.5a.25.25 0 0 0 .25-.25v-3a.25.25 0 0 0-.25-.25Z"></path><path d="M7 12.75a.75.75 0 0 1 .75-.75h4.5a.75.75 0 0 1 0 1.5h-4.5a.75.75 0 0 1-.75-.75Zm-4 0a.75.75 0 0 1 .75-.75h.5a.75.75 0 0 1 0 1.5h-.5a.75.75 0 0 1-.75-.75Z"></path>
</svg>
</template>

<template id="comment-icon">
  <svg aria-hidden="true" height="16" viewBox="0 0 16 16" version="1.1" width="16" data-view-component="true" class="octicon octicon-comment">
    <path d="M1 2.75C1 1.784 1.784 1 2.75 1h10.5c.966 0 1.75.784 1.75 1.75v7.5A1.75 1.75 0 0 1 13.25 12H9.06l-2.573 2.573A1.458 1.458 0 0 1 4 13.543V12H2.75A1.75 1.75 0 0 1 1 10.25Zm1.75-.25a.25.25 0 0 0-.25.25v7.5c0 .138.112.25.25.25h2a.75.75 0 0 1 .75.75v2.19l2.72-2.72a.749.749 0 0 1 .53-.22h4.5a.25.25 0 0 0 .25-.25v-7.5a.25.25 0 0 0-.25-.25Z"></path>
</svg>
</template>

<template id="comment-discussion-icon">
  <svg aria-hidden="true" height="16" viewBox="0 0 16 16" version="1.1" width="16" data-view-component="true" class="octicon octicon-comment-discussion">
    <path d="M1.75 1h8.5c.966 0 1.75.784 1.75 1.75v5.5A1.75 1.75 0 0 1 10.25 10H7.061l-2.574 2.573A1.458 1.458 0 0 1 2 11.543V10h-.25A1.75 1.75 0 0 1 0 8.25v-5.5C0 1.784.784 1 1.75 1ZM1.5 2.75v5.5c0 .138.112.25.25.25h1a.75.75 0 0 1 .75.75v2.19l2.72-2.72a.749.749 0 0 1 .53-.22h3.5a.25.25 0 0 0 .25-.25v-5.5a.25.25 0 0 0-.25-.25h-8.5a.25.25 0 0 0-.25.25Zm13 2a.25.25 0 0 0-.25-.25h-.5a.75.75 0 0 1 0-1.5h.5c.966 0 1.75.784 1.75 1.75v5.5A1.75 1.75 0 0 1 14.25 12H14v1.543a1.458 1.458 0 0 1-2.487 1.03L9.22 12.28a.749.749 0 0 1 .326-1.275.749.749 0 0 1 .734.215l2.22 2.22v-2.19a.75.75 0 0 1 .75-.75h1a.25.25 0 0 0 .25-.25Z"></path>
</svg>
</template>

<template id="organization-icon">
  <svg aria-hidden="true" height="16" viewBox="0 0 16 16" version="1.1" width="16" data-view-component="true" class="octicon octicon-organization">
    <path d="M1.75 16A1.75 1.75 0 0 1 0 14.25V1.75C0 .784.784 0 1.75 0h8.5C11.216 0 12 .784 12 1.75v12.5c0 .085-.006.168-.018.25h2.268a.25.25 0 0 0 .25-.25V8.285a.25.25 0 0 0-.111-.208l-1.055-.703a.749.749 0 1 1 .832-1.248l1.055.703c.487.325.779.871.779 1.456v5.965A1.75 1.75 0 0 1 14.25 16h-3.5a.766.766 0 0 1-.197-.026c-.099.017-.2.026-.303.026h-3a.75.75 0 0 1-.75-.75V14h-1v1.25a.75.75 0 0 1-.75.75Zm-.25-1.75c0 .138.112.25.25.25H4v-1.25a.75.75 0 0 1 .75-.75h2.5a.75.75 0 0 1 .75.75v1.25h2.25a.25.25 0 0 0 .25-.25V1.75a.25.25 0 0 0-.25-.25h-8.5a.25.25 0 0 0-.25.25ZM3.75 6h.5a.75.75 0 0 1 0 1.5h-.5a.75.75 0 0 1 0-1.5ZM3 3.75A.75.75 0 0 1 3.75 3h.5a.75.75 0 0 1 0 1.5h-.5A.75.75 0 0 1 3 3.75Zm4 3A.75.75 0 0 1 7.75 6h.5a.75.75 0 0 1 0 1.5h-.5A.75.75 0 0 1 7 6.75ZM7.75 3h.5a.75.75 0 0 1 0 1.5h-.5a.75.75 0 0 1 0-1.5ZM3 9.75A.75.75 0 0 1 3.75 9h.5a.75.75 0 0 1 0 1.5h-.5A.75.75 0 0 1 3 9.75ZM7.75 9h.5a.75.75 0 0 1 0 1.5h-.5a.75.75 0 0 1 0-1.5Z"></path>
</svg>
</template>

<template id="rocket-icon">
  <svg aria-hidden="true" height="16" viewBox="0 0 16 16" version="1.1" width="16" data-view-component="true" class="octicon octicon-rocket">
    <path d="M14.064 0h.186C15.216 0 16 .784 16 1.75v.186a8.752 8.752 0 0 1-2.564 6.186l-.458.459c-.314.314-.641.616-.979.904v3.207c0 .608-.315 1.172-.833 1.49l-2.774 1.707a.749.749 0 0 1-1.11-.418l-.954-3.102a1.214 1.214 0 0 1-.145-.125L3.754 9.816a1.218 1.218 0 0 1-.124-.145L.528 8.717a.749.749 0 0 1-.418-1.11l1.71-2.774A1.748 1.748 0 0 1 3.31 4h3.204c.288-.338.59-.665.904-.979l.459-.458A8.749 8.749 0 0 1 14.064 0ZM8.938 3.623h-.002l-.458.458c-.76.76-1.437 1.598-2.02 2.5l-1.5 2.317 2.143 2.143 2.317-1.5c.902-.583 1.74-1.26 2.499-2.02l.459-.458a7.25 7.25 0 0 0 2.123-5.127V1.75a.25.25 0 0 0-.25-.25h-.186a7.249 7.249 0 0 0-5.125 2.123ZM3.56 14.56c-.732.732-2.334 1.045-3.005 1.148a.234.234 0 0 1-.201-.064.234.234 0 0 1-.064-.201c.103-.671.416-2.273 1.15-3.003a1.502 1.502 0 1 1 2.12 2.12Zm6.94-3.935c-.088.06-.177.118-.266.175l-2.35 1.521.548 1.783 1.949-1.2a.25.25 0 0 0 .119-.213ZM3.678 8.116 5.2 5.766c.058-.09.117-.178.176-.266H3.309a.25.25 0 0 0-.213.119l-1.2 1.95ZM12 5a1 1 0 1 1-2 0 1 1 0 0 1 2 0Z"></path>
</svg>
</template>

<template id="shield-check-icon">
  <svg aria-hidden="true" height="16" viewBox="0 0 16 16" version="1.1" width="16" data-view-component="true" class="octicon octicon-shield-check">
    <path d="m8.533.133 5.25 1.68A1.75 1.75 0 0 1 15 3.48V7c0 1.566-.32 3.182-1.303 4.682-.983 1.498-2.585 2.813-5.032 3.855a1.697 1.697 0 0 1-1.33 0c-2.447-1.042-4.049-2.357-5.032-3.855C1.32 10.182 1 8.566 1 7V3.48a1.75 1.75 0 0 1 1.217-1.667l5.25-1.68a1.748 1.748 0 0 1 1.066 0Zm-.61 1.429.001.001-5.25 1.68a.251.251 0 0 0-.174.237V7c0 1.36.275 2.666 1.057 3.859.784 1.194 2.121 2.342 4.366 3.298a.196.196 0 0 0 .154 0c2.245-.957 3.582-2.103 4.366-3.297C13.225 9.666 13.5 8.358 13.5 7V3.48a.25.25 0 0 0-.174-.238l-5.25-1.68a.25.25 0 0 0-.153 0ZM11.28 6.28l-3.5 3.5a.75.75 0 0 1-1.06 0l-1.5-1.5a.749.749 0 0 1 .326-1.275.749.749 0 0 1 .734.215l.97.97 2.97-2.97a.751.751 0 0 1 1.042.018.751.751 0 0 1 .018 1.042Z"></path>
</svg>
</template>

<template id="heart-icon">
  <svg aria-hidden="true" height="16" viewBox="0 0 16 16" version="1.1" width="16" data-view-component="true" class="octicon octicon-heart">
    <path d="m8 14.25.345.666a.75.75 0 0 1-.69 0l-.008-.004-.018-.01a7.152 7.152 0 0 1-.31-.17 22.055 22.055 0 0 1-3.434-2.414C2.045 10.731 0 8.35 0 5.5 0 2.836 2.086 1 4.25 1 5.797 1 7.153 1.802 8 3.02 8.847 1.802 10.203 1 11.75 1 13.914 1 16 2.836 16 5.5c0 2.85-2.045 5.231-3.885 6.818a22.066 22.066 0 0 1-3.744 2.584l-.018.01-.006.003h-.002ZM4.25 2.5c-1.336 0-2.75 1.164-2.75 3 0 2.15 1.58 4.144 3.365 5.682A20.58 20.58 0 0 0 8 13.393a20.58 20.58 0 0 0 3.135-2.211C12.92 9.644 14.5 7.65 14.5 5.5c0-1.836-1.414-3-2.75-3-1.373 0-2.609.986-3.029 2.456a.749.749 0 0 1-1.442 0C6.859 3.486 5.623 2.5 4.25 2.5Z"></path>
</svg>
</template>

<template id="server-icon">
  <svg aria-hidden="true" height="16" viewBox="0 0 16 16" version="1.1" width="16" data-view-component="true" class="octicon octicon-server">
    <path d="M1.75 1h12.5c.966 0 1.75.784 1.75 1.75v4c0 .372-.116.717-.314 1 .198.283.314.628.314 1v4a1.75 1.75 0 0 1-1.75 1.75H1.75A1.75 1.75 0 0 1 0 12.75v-4c0-.358.109-.707.314-1a1.739 1.739 0 0 1-.314-1v-4C0 1.784.784 1 1.75 1ZM1.5 2.75v4c0 .138.112.25.25.25h12.5a.25.25 0 0 0 .25-.25v-4a.25.25 0 0 0-.25-.25H1.75a.25.25 0 0 0-.25.25Zm.25 5.75a.25.25 0 0 0-.25.25v4c0 .138.112.25.25.25h12.5a.25.25 0 0 0 .25-.25v-4a.25.25 0 0 0-.25-.25ZM7 4.75A.75.75 0 0 1 7.75 4h4.5a.75.75 0 0 1 0 1.5h-4.5A.75.75 0 0 1 7 4.75ZM7.75 10h4.5a.75.75 0 0 1 0 1.5h-4.5a.75.75 0 0 1 0-1.5ZM3 4.75A.75.75 0 0 1 3.75 4h.5a.75.75 0 0 1 0 1.5h-.5A.75.75 0 0 1 3 4.75ZM3.75 10h.5a.75.75 0 0 1 0 1.5h-.5a.75.75 0 0 1 0-1.5Z"></path>
</svg>
</template>

<template id="globe-icon">
  <svg aria-hidden="true" height="16" viewBox="0 0 16 16" version="1.1" width="16" data-view-component="true" class="octicon octicon-globe">
    <path d="M8 0a8 8 0 1 1 0 16A8 8 0 0 1 8 0ZM5.78 8.75a9.64 9.64 0 0 0 1.363 4.177c.255.426.542.832.857 1.215.245-.296.551-.705.857-1.215A9.64 9.64 0 0 0 10.22 8.75Zm4.44-1.5a9.64 9.64 0 0 0-1.363-4.177c-.307-.51-.612-.919-.857-1.215a9.927 9.927 0 0 0-.857 1.215A9.64 9.64 0 0 0 5.78 7.25Zm-5.944 1.5H1.543a6.507 6.507 0 0 0 4.666 5.5c-.123-.181-.24-.365-.352-.552-.715-1.192-1.437-2.874-1.581-4.948Zm-2.733-1.5h2.733c.144-2.074.866-3.756 1.58-4.948.12-.197.237-.381.353-.552a6.507 6.507 0 0 0-4.666 5.5Zm10.181 1.5c-.144 2.074-.866 3.756-1.58 4.948-.12.197-.237.381-.353.552a6.507 6.507 0 0 0 4.666-5.5Zm2.733-1.5a6.507 6.507 0 0 0-4.666-5.5c.123.181.24.365.353.552.714 1.192 1.436 2.874 1.58 4.948Z"></path>
</svg>
</template>

<template id="issue-opened-icon">
  <svg aria-hidden="true" height="16" viewBox="0 0 16 16" version="1.1" width="16" data-view-component="true" class="octicon octicon-issue-opened">
    <path d="M8 9.5a1.5 1.5 0 1 0 0-3 1.5 1.5 0 0 0 0 3Z"></path><path d="M8 0a8 8 0 1 1 0 16A8 8 0 0 1 8 0ZM1.5 8a6.5 6.5 0 1 0 13 0 6.5 6.5 0 0 0-13 0Z"></path>
</svg>
</template>

<template id="device-mobile-icon">
  <svg aria-hidden="true" height="16" viewBox="0 0 16 16" version="1.1" width="16" data-view-component="true" class="octicon octicon-device-mobile">
    <path d="M3.75 0h8.5C13.216 0 14 .784 14 1.75v12.5A1.75 1.75 0 0 1 12.25 16h-8.5A1.75 1.75 0 0 1 2 14.25V1.75C2 .784 2.784 0 3.75 0ZM3.5 1.75v12.5c0 .138.112.25.25.25h8.5a.25.25 0 0 0 .25-.25V1.75a.25.25 0 0 0-.25-.25h-8.5a.25.25 0 0 0-.25.25ZM8 13a1 1 0 1 1 0-2 1 1 0 0 1 0 2Z"></path>
</svg>
</template>

<template id="package-icon">
  <svg aria-hidden="true" height="16" viewBox="0 0 16 16" version="1.1" width="16" data-view-component="true" class="octicon octicon-package">
    <path d="m8.878.392 5.25 3.045c.54.314.872.89.872 1.514v6.098a1.75 1.75 0 0 1-.872 1.514l-5.25 3.045a1.75 1.75 0 0 1-1.756 0l-5.25-3.045A1.75 1.75 0 0 1 1 11.049V4.951c0-.624.332-1.201.872-1.514L7.122.392a1.75 1.75 0 0 1 1.756 0ZM7.875 1.69l-4.63 2.685L8 7.133l4.755-2.758-4.63-2.685a.248.248 0 0 0-.25 0ZM2.5 5.677v5.372c0 .09.047.171.125.216l4.625 2.683V8.432Zm6.25 8.271 4.625-2.683a.25.25 0 0 0 .125-.216V5.677L8.75 8.432Z"></path>
</svg>
</template>

<template id="credit-card-icon">
  <svg aria-hidden="true" height="16" viewBox="0 0 16 16" version="1.1" width="16" data-view-component="true" class="octicon octicon-credit-card">
    <path d="M10.75 9a.75.75 0 0 0 0 1.5h1.5a.75.75 0 0 0 0-1.5h-1.5Z"></path><path d="M0 3.75C0 2.784.784 2 1.75 2h12.5c.966 0 1.75.784 1.75 1.75v8.5A1.75 1.75 0 0 1 14.25 14H1.75A1.75 1.75 0 0 1 0 12.25ZM14.5 6.5h-13v5.75c0 .138.112.25.25.25h12.5a.25.25 0 0 0 .25-.25Zm0-2.75a.25.25 0 0 0-.25-.25H1.75a.25.25 0 0 0-.25.25V5h13Z"></path>
</svg>
</template>

<template id="play-icon">
  <svg aria-hidden="true" height="16" viewBox="0 0 16 16" version="1.1" width="16" data-view-component="true" class="octicon octicon-play">
    <path d="M8 0a8 8 0 1 1 0 16A8 8 0 0 1 8 0ZM1.5 8a6.5 6.5 0 1 0 13 0 6.5 6.5 0 0 0-13 0Zm4.879-2.773 4.264 2.559a.25.25 0 0 1 0 .428l-4.264 2.559A.25.25 0 0 1 6 10.559V5.442a.25.25 0 0 1 .379-.215Z"></path>
</svg>
</template>

<template id="gift-icon">
  <svg aria-hidden="true" height="16" viewBox="0 0 16 16" version="1.1" width="16" data-view-component="true" class="octicon octicon-gift">
    <path d="M2 2.75A2.75 2.75 0 0 1 4.75 0c.983 0 1.873.42 2.57 1.232.268.318.497.668.68 1.042.183-.375.411-.725.68-1.044C9.376.42 10.266 0 11.25 0a2.75 2.75 0 0 1 2.45 4h.55c.966 0 1.75.784 1.75 1.75v2c0 .698-.409 1.301-1 1.582v4.918A1.75 1.75 0 0 1 13.25 16H2.75A1.75 1.75 0 0 1 1 14.25V9.332C.409 9.05 0 8.448 0 7.75v-2C0 4.784.784 4 1.75 4h.55c-.192-.375-.3-.8-.3-1.25ZM7.25 9.5H2.5v4.75c0 .138.112.25.25.25h4.5Zm1.5 0v5h4.5a.25.25 0 0 0 .25-.25V9.5Zm0-4V8h5.5a.25.25 0 0 0 .25-.25v-2a.25.25 0 0 0-.25-.25Zm-7 0a.25.25 0 0 0-.25.25v2c0 .138.112.25.25.25h5.5V5.5h-5.5Zm3-4a1.25 1.25 0 0 0 0 2.5h2.309c-.233-.818-.542-1.401-.878-1.793-.43-.502-.915-.707-1.431-.707ZM8.941 4h2.309a1.25 1.25 0 0 0 0-2.5c-.516 0-1 .205-1.43.707-.337.392-.646.975-.879 1.793Z"></path>
</svg>
</template>

<template id="code-square-icon">
  <svg aria-hidden="true" height="16" viewBox="0 0 16 16" version="1.1" width="16" data-view-component="true" class="octicon octicon-code-square">
    <path d="M0 1.75C0 .784.784 0 1.75 0h12.5C15.216 0 16 .784 16 1.75v12.5A1.75 1.75 0 0 1 14.25 16H1.75A1.75 1.75 0 0 1 0 14.25Zm1.75-.25a.25.25 0 0 0-.25.25v12.5c0 .138.112.25.25.25h12.5a.25.25 0 0 0 .25-.25V1.75a.25.25 0 0 0-.25-.25Zm7.47 3.97a.75.75 0 0 1 1.06 0l2 2a.75.75 0 0 1 0 1.06l-2 2a.749.749 0 0 1-1.275-.326.749.749 0 0 1 .215-.734L10.69 8 9.22 6.53a.75.75 0 0 1 0-1.06ZM6.78 6.53 5.31 8l1.47 1.47a.749.749 0 0 1-.326 1.275.749.749 0 0 1-.734-.215l-2-2a.75.75 0 0 1 0-1.06l2-2a.751.751 0 0 1 1.042.018.751.751 0 0 1 .018 1.042Z"></path>
</svg>
</template>

<template id="device-desktop-icon">
  <svg aria-hidden="true" height="16" viewBox="0 0 16 16" version="1.1" width="16" data-view-component="true" class="octicon octicon-device-desktop">
    <path d="M14.25 1c.966 0 1.75.784 1.75 1.75v7.5A1.75 1.75 0 0 1 14.25 12h-3.727c.099 1.041.52 1.872 1.292 2.757A.752.752 0 0 1 11.25 16h-6.5a.75.75 0 0 1-.565-1.243c.772-.885 1.192-1.716 1.292-2.757H1.75A1.75 1.75 0 0 1 0 10.25v-7.5C0 1.784.784 1 1.75 1ZM1.75 2.5a.25.25 0 0 0-.25.25v7.5c0 .138.112.25.25.25h12.5a.25.25 0 0 0 .25-.25v-7.5a.25.25 0 0 0-.25-.25ZM9.018 12H6.982a5.72 5.72 0 0 1-.765 2.5h3.566a5.72 5.72 0 0 1-.765-2.5Z"></path>
</svg>
</template>

        <div class="position-relative">
                <ul
                  role="listbox"
                  class="ActionListWrap QueryBuilder-ListWrap"
                  aria-label="Suggestions"
                  data-action="
                    combobox-commit:query-builder#comboboxCommit
                    mousedown:query-builder#resultsMousedown
                  "
                  data-target="query-builder.resultsList"
                  data-persist-list=false
                  id="query-builder-test-results"
                ></ul>
        </div>
      <div class="FormControl-inlineValidation" id="validation-08cb3b2b-779a-48cd-b2b3-399982060e03" hidden="hidden">
        <span class="FormControl-inlineValidation--visual">
          <svg aria-hidden="true" height="12" viewBox="0 0 12 12" version="1.1" width="12" data-view-component="true" class="octicon octicon-alert-fill">
    <path d="M4.855.708c.5-.896 1.79-.896 2.29 0l4.675 8.351a1.312 1.312 0 0 1-1.146 1.954H1.33A1.313 1.313 0 0 1 .183 9.058ZM7 7V3H5v4Zm-1 3a1 1 0 1 0 0-2 1 1 0 0 0 0 2Z"></path>
</svg>
        </span>
        <span></span>
</div>    </div>
    <div data-target="query-builder.screenReaderFeedback" aria-live="polite" aria-atomic="true" class="sr-only"></div>
</query-builder></form>
          <div class="d-flex flex-row color-fg-muted px-3 text-small color-bg-default search-feedback-prompt">
            <a target="_blank" href="https://docs.github.com/search-github/github-code-search/understanding-github-code-search-syntax" data-view-component="true" class="Link color-fg-accent text-normal ml-2">
              Search syntax tips
</a>            <div class="d-flex flex-1"></div>
              <button data-action="click:qbsearch-input#showFeedbackDialog" type="button" data-view-component="true" class="Button--link Button--medium Button color-fg-accent text-normal ml-2">  <span class="Button-content">
    <span class="Button-label">Give feedback</span>
  </span>
</button>
          </div>
        </div>
</div>

    </div>
</modal-dialog></div>
  </div>
  <div data-action="click:qbsearch-input#retract" class="dark-backdrop position-fixed" hidden data-target="qbsearch-input.darkBackdrop"></div>
  <div class="color-fg-default">
    
<dialog-helper>
  <dialog data-target="qbsearch-input.feedbackDialog" data-action="close:qbsearch-input#handleDialogClose cancel:qbsearch-input#handleDialogClose" id="feedback-dialog" aria-modal="true" aria-labelledby="feedback-dialog-title" aria-describedby="feedback-dialog-description" data-view-component="true" class="Overlay Overlay-whenNarrow Overlay--size-medium Overlay--motion-scaleFade">
    <div data-view-component="true" class="Overlay-header">
  <div class="Overlay-headerContentWrap">
    <div class="Overlay-titleWrap">
      <h1 class="Overlay-title " id="feedback-dialog-title">
        Provide feedback
      </h1>
        
    </div>
    <div class="Overlay-actionWrap">
      <button data-close-dialog-id="feedback-dialog" aria-label="Close" type="button" data-view-component="true" class="close-button Overlay-closeButton"><svg aria-hidden="true" height="16" viewBox="0 0 16 16" version="1.1" width="16" data-view-component="true" class="octicon octicon-x">
    <path d="M3.72 3.72a.75.75 0 0 1 1.06 0L8 6.94l3.22-3.22a.749.749 0 0 1 1.275.326.749.749 0 0 1-.215.734L9.06 8l3.22 3.22a.749.749 0 0 1-.326 1.275.749.749 0 0 1-.734-.215L8 9.06l-3.22 3.22a.751.751 0 0 1-1.042-.018.751.751 0 0 1-.018-1.042L6.94 8 3.72 4.78a.75.75 0 0 1 0-1.06Z"></path>
</svg></button>
    </div>
  </div>
  
</div>
      <scrollable-region data-labelled-by="feedback-dialog-title">
        <div data-view-component="true" class="Overlay-body">        <!-- '"` --><!-- </textarea></xmp> --></option></form><form id="code-search-feedback-form" data-turbo="false" action="/search/feedback" accept-charset="UTF-8" method="post"><input type="hidden" name="authenticity_token" value="mndcLZNw02slpQ7uhi0jRP0D99rsxrbrQdrWQiHLqVocD9IVy8YjeUrplvyPXBjHIrMF4eNFmMfQ9DoZOI_nkw" />
          <p>We read every piece of feedback, and take your input very seriously.</p>
          <textarea name="feedback" class="form-control width-full mb-2" style="height: 120px" id="feedback"></textarea>
          <input name="include_email" id="include_email" aria-label="Include my email address so I can be contacted" class="form-control mr-2" type="checkbox">
          <label for="include_email" style="font-weight: normal">Include my email address so I can be contacted</label>
</form></div>
      </scrollable-region>
      <div data-view-component="true" class="Overlay-footer Overlay-footer--alignEnd">          <button data-close-dialog-id="feedback-dialog" type="button" data-view-component="true" class="btn">    Cancel
</button>
          <button form="code-search-feedback-form" data-action="click:qbsearch-input#submitFeedback" type="submit" data-view-component="true" class="btn-primary btn">    Submit feedback
</button>
</div>
</dialog></dialog-helper>

    <custom-scopes data-target="qbsearch-input.customScopesManager">
    
<dialog-helper>
  <dialog data-target="custom-scopes.customScopesModalDialog" data-action="close:qbsearch-input#handleDialogClose cancel:qbsearch-input#handleDialogClose" id="custom-scopes-dialog" aria-modal="true" aria-labelledby="custom-scopes-dialog-title" aria-describedby="custom-scopes-dialog-description" data-view-component="true" class="Overlay Overlay-whenNarrow Overlay--size-medium Overlay--motion-scaleFade">
    <div data-view-component="true" class="Overlay-header Overlay-header--divided">
  <div class="Overlay-headerContentWrap">
    <div class="Overlay-titleWrap">
      <h1 class="Overlay-title " id="custom-scopes-dialog-title">
        Saved searches
      </h1>
        <h2 id="custom-scopes-dialog-description" class="Overlay-description">Use saved searches to filter your results more quickly</h2>
    </div>
    <div class="Overlay-actionWrap">
      <button data-close-dialog-id="custom-scopes-dialog" aria-label="Close" type="button" data-view-component="true" class="close-button Overlay-closeButton"><svg aria-hidden="true" height="16" viewBox="0 0 16 16" version="1.1" width="16" data-view-component="true" class="octicon octicon-x">
    <path d="M3.72 3.72a.75.75 0 0 1 1.06 0L8 6.94l3.22-3.22a.749.749 0 0 1 1.275.326.749.749 0 0 1-.215.734L9.06 8l3.22 3.22a.749.749 0 0 1-.326 1.275.749.749 0 0 1-.734-.215L8 9.06l-3.22 3.22a.751.751 0 0 1-1.042-.018.751.751 0 0 1-.018-1.042L6.94 8 3.72 4.78a.75.75 0 0 1 0-1.06Z"></path>
</svg></button>
    </div>
  </div>
  
</div>
      <scrollable-region data-labelled-by="custom-scopes-dialog-title">
        <div data-view-component="true" class="Overlay-body">        <div data-target="custom-scopes.customScopesModalDialogFlash"></div>

        <div hidden class="create-custom-scope-form" data-target="custom-scopes.createCustomScopeForm">
        <!-- '"` --><!-- </textarea></xmp> --></option></form><form id="custom-scopes-dialog-form" data-turbo="false" action="/search/custom_scopes" accept-charset="UTF-8" method="post"><input type="hidden" name="authenticity_token" value="8PdiO1SUWGZtAj1gpArTdd3_B2SMf3IWySJ8kwzZlDZ0BWnozfTccf4iaoURaf42AJiIgAuUgfSAO-UIRx3Dxg" />
          <div data-target="custom-scopes.customScopesModalDialogFlash"></div>

          <input type="hidden" id="custom_scope_id" name="custom_scope_id" data-target="custom-scopes.customScopesIdField">

          <div class="form-group">
            <label for="custom_scope_name">Name</label>
            <auto-check src="/search/custom_scopes/check_name" required>
              <input
                type="text"
                name="custom_scope_name"
                id="custom_scope_name"
                data-target="custom-scopes.customScopesNameField"
                class="form-control"
                autocomplete="off"
                placeholder="github-ruby"
                required
                maxlength="50">
              <input type="hidden" value="knVJxPgvOHgYfY-F9p7fMEpZt0t09OILF77t3GooQAEKK0BHIINER-NHlySYkpNGfmPsOoNMbyrip8cuNa7GoQ" data-csrf="true" />
            </auto-check>
          </div>

          <div class="form-group">
            <label for="custom_scope_query">Query</label>
            <input
              type="text"
              name="custom_scope_query"
              id="custom_scope_query"
              data-target="custom-scopes.customScopesQueryField"
              class="form-control"
              autocomplete="off"
              placeholder="(repo:mona/a OR repo:mona/b) AND lang:python"
              required
              maxlength="500">
          </div>

          <p class="text-small color-fg-muted">
            To see all available qualifiers, see our <a class="Link--inTextBlock" href="https://docs.github.com/search-github/github-code-search/understanding-github-code-search-syntax">documentation</a>.
          </p>
</form>        </div>

        <div data-target="custom-scopes.manageCustomScopesForm">
          <div data-target="custom-scopes.list"></div>
        </div>

</div>
      </scrollable-region>
      <div data-view-component="true" class="Overlay-footer Overlay-footer--alignEnd Overlay-footer--divided">          <button data-action="click:custom-scopes#customScopesCancel" type="button" data-view-component="true" class="btn">    Cancel
</button>
          <button form="custom-scopes-dialog-form" data-action="click:custom-scopes#customScopesSubmit" data-target="custom-scopes.customScopesSubmitButton" type="submit" data-view-component="true" class="btn-primary btn">    Create saved search
</button>
</div>
</dialog></dialog-helper>
    </custom-scopes>
  </div>
</qbsearch-input>    <input type="hidden" value="_QeciMRoRXDtXZX0XPdkowNmdYVTya_KTevDT3DEqwXt8hh8VS4Ls2evSholBPAG2NjGLyiSPxM-bFynk_M29Q" data-csrf="true" class="js-data-jump-to-suggestions-path-csrf" />

          </div>

        <div class="AppHeader-actions position-relative">
             <react-partial-anchor>
      <button id="global-create-menu-anchor" aria-label="Create something new" data-target="react-partial-anchor.anchor" type="button" disabled="disabled" data-view-component="true" class="AppHeader-button global-create-button cursor-wait Button--secondary Button--medium Button width-auto color-fg-muted">  <span class="Button-content">
      <span class="Button-visual Button-leadingVisual">
        <svg aria-hidden="true" height="16" viewBox="0 0 16 16" version="1.1" width="16" data-view-component="true" class="octicon octicon-plus">
    <path d="M7.75 2a.75.75 0 0 1 .75.75V7h4.25a.75.75 0 0 1 0 1.5H8.5v4.25a.75.75 0 0 1-1.5 0V8.5H2.75a.75.75 0 0 1 0-1.5H7V2.75A.75.75 0 0 1 7.75 2Z"></path>
</svg>
      </span>
    <span class="Button-label"><svg aria-hidden="true" height="16" viewBox="0 0 16 16" version="1.1" width="16" data-view-component="true" class="octicon octicon-triangle-down">
    <path d="m4.427 7.427 3.396 3.396a.25.25 0 0 0 .354 0l3.396-3.396A.25.25 0 0 0 11.396 7H4.604a.25.25 0 0 0-.177.427Z"></path>
</svg></span>
  </span>
</button><tool-tip id="tooltip-075c3bec-bd37-43cc-b525-3d91686a1e5d" for="global-create-menu-anchor" popover="manual" data-direction="s" data-type="description" data-view-component="true" class="sr-only position-absolute">Create new...</tool-tip>

      <template data-target="react-partial-anchor.template">
        <script crossorigin="anonymous" defer="defer" type="application/javascript" src="https://github.githubassets.com/assets/vendors-node_modules_primer_react_lib-esm_FeatureFlags_FeatureFlags_js-node_modules_primer_re-7faff4-e1568ba89b9c.js"></script>
<script crossorigin="anonymous" defer="defer" type="application/javascript" src="https://github.githubassets.com/assets/ui_packages_react-core_register-partial_ts-ui_packages_global-create-menu_GlobalCreateMenu_tsx-eda592294bff.js"></script>
<script crossorigin="anonymous" defer="defer" type="application/javascript" src="https://github.githubassets.com/assets/global-create-menu-ea4992326398.js"></script>

<react-partial
  partial-name="global-create-menu"
  data-ssr="false"
>
  
  <script type="application/json" data-target="react-partial.embeddedData">{"props":{"createRepo":true,"importRepo":true,"codespaces":true,"gist":true,"createOrg":true,"createProject":false,"createProjectUrl":"/MathforDataScience?tab=projects","createLegacyProject":false,"createIssue":false,"org":null,"owner":"MathforDataScience","repo":"DSR_Statistics1"}}</script>
  <div data-target="react-partial.reactRoot"></div>
</react-partial>

      </template>
    </react-partial-anchor>


          <a href="/issues" data-analytics-event="{&quot;category&quot;:&quot;Global navigation&quot;,&quot;action&quot;:&quot;ISSUES_HEADER&quot;,&quot;label&quot;:null}" id="icon-button-73d4f6a8-c422-488b-a1e2-65e90e0bc2d2" aria-labelledby="tooltip-fa009299-a08b-4da0-81f1-43985b4030ed" data-view-component="true" class="Button Button--iconOnly Button--secondary Button--medium AppHeader-button color-fg-muted">  <svg aria-hidden="true" height="16" viewBox="0 0 16 16" version="1.1" width="16" data-view-component="true" class="octicon octicon-issue-opened Button-visual">
    <path d="M8 9.5a1.5 1.5 0 1 0 0-3 1.5 1.5 0 0 0 0 3Z"></path><path d="M8 0a8 8 0 1 1 0 16A8 8 0 0 1 8 0ZM1.5 8a6.5 6.5 0 1 0 13 0 6.5 6.5 0 0 0-13 0Z"></path>
</svg>
</a><tool-tip id="tooltip-fa009299-a08b-4da0-81f1-43985b4030ed" for="icon-button-73d4f6a8-c422-488b-a1e2-65e90e0bc2d2" popover="manual" data-direction="s" data-type="label" data-view-component="true" class="sr-only position-absolute">Issues</tool-tip>

          <a href="/pulls" data-analytics-event="{&quot;category&quot;:&quot;Global navigation&quot;,&quot;action&quot;:&quot;PULL_REQUESTS_HEADER&quot;,&quot;label&quot;:null}" id="icon-button-99b3ff8d-3845-4f21-8fe3-223aae5dccec" aria-labelledby="tooltip-cc9d89b7-8ab7-4186-8c93-3248e5c32690" data-view-component="true" class="Button Button--iconOnly Button--secondary Button--medium AppHeader-button color-fg-muted">  <svg aria-hidden="true" height="16" viewBox="0 0 16 16" version="1.1" width="16" data-view-component="true" class="octicon octicon-git-pull-request Button-visual">
    <path d="M1.5 3.25a2.25 2.25 0 1 1 3 2.122v5.256a2.251 2.251 0 1 1-1.5 0V5.372A2.25 2.25 0 0 1 1.5 3.25Zm5.677-.177L9.573.677A.25.25 0 0 1 10 .854V2.5h1A2.5 2.5 0 0 1 13.5 5v5.628a2.251 2.251 0 1 1-1.5 0V5a1 1 0 0 0-1-1h-1v1.646a.25.25 0 0 1-.427.177L7.177 3.427a.25.25 0 0 1 0-.354ZM3.75 2.5a.75.75 0 1 0 0 1.5.75.75 0 0 0 0-1.5Zm0 9.5a.75.75 0 1 0 0 1.5.75.75 0 0 0 0-1.5Zm8.25.75a.75.75 0 1 0 1.5 0 .75.75 0 0 0-1.5 0Z"></path>
</svg>
</a><tool-tip id="tooltip-cc9d89b7-8ab7-4186-8c93-3248e5c32690" for="icon-button-99b3ff8d-3845-4f21-8fe3-223aae5dccec" popover="manual" data-direction="s" data-type="label" data-view-component="true" class="sr-only position-absolute">Pull requests</tool-tip>

        </div>

        <notification-indicator data-channel="eyJjIjoibm90aWZpY2F0aW9uLWNoYW5nZWQ6NDI5NTkxNzQiLCJ0IjoxNzIzODIzNjY2fQ==--39f0973a3b0e90775a58a40e8e79413b18de4f5015e07377521e67e2c32385c9" data-indicator-mode="none" data-tooltip-global="You have unread notifications" data-tooltip-unavailable="Notifications are unavailable at the moment." data-tooltip-none="You have no unread notifications" data-header-redesign-enabled="true" data-fetch-indicator-src="/notifications/indicator" data-fetch-indicator-enabled="true" data-view-component="true" class="js-socket-channel">
    <a id="AppHeader-notifications-button" href="/notifications" aria-labelledby="notification-indicator-tooltip" data-hotkey="g n" data-target="notification-indicator.link" data-analytics-event="{&quot;category&quot;:&quot;Global navigation&quot;,&quot;action&quot;:&quot;NOTIFICATIONS_HEADER&quot;,&quot;label&quot;:null}" data-view-component="true" class="Button Button--iconOnly Button--secondary Button--medium AppHeader-button  color-fg-muted">  <svg aria-hidden="true" height="16" viewBox="0 0 16 16" version="1.1" width="16" data-view-component="true" class="octicon octicon-inbox Button-visual">
    <path d="M2.8 2.06A1.75 1.75 0 0 1 4.41 1h7.18c.7 0 1.333.417 1.61 1.06l2.74 6.395c.04.093.06.194.06.295v4.5A1.75 1.75 0 0 1 14.25 15H1.75A1.75 1.75 0 0 1 0 13.25v-4.5c0-.101.02-.202.06-.295Zm1.61.44a.25.25 0 0 0-.23.152L1.887 8H4.75a.75.75 0 0 1 .6.3L6.625 10h2.75l1.275-1.7a.75.75 0 0 1 .6-.3h2.863L11.82 2.652a.25.25 0 0 0-.23-.152Zm10.09 7h-2.875l-1.275 1.7a.75.75 0 0 1-.6.3h-3.5a.75.75 0 0 1-.6-.3L4.375 9.5H1.5v3.75c0 .138.112.25.25.25h12.5a.25.25 0 0 0 .25-.25Z"></path>
</svg>
</a>

    <tool-tip id="notification-indicator-tooltip" data-target="notification-indicator.tooltip" for="AppHeader-notifications-button" popover="manual" data-direction="s" data-type="label" data-view-component="true" class="sr-only position-absolute">Notifications</tool-tip>
</notification-indicator>

        

        <div class="AppHeader-user">
          <deferred-side-panel data-url="/_side-panels/user?repository_id=661665397">
  <include-fragment data-target="deferred-side-panel.fragment">
    <react-partial-anchor
  
>
  <button data-target="react-partial-anchor.anchor" data-login="MathforDataScience" aria-label="Open user navigation menu" type="button" data-view-component="true" class="cursor-wait Button--invisible Button--medium Button Button--invisible-noVisuals color-bg-transparent p-0">  <span class="Button-content">
    <span class="Button-label"><img src="https://avatars.githubusercontent.com/u/42959174?v=4" alt="" size="32" height="32" width="32" data-view-component="true" class="avatar circle" /></span>
  </span>
</button>
  <template data-target="react-partial-anchor.template">
    <script crossorigin="anonymous" defer="defer" type="application/javascript" src="https://github.githubassets.com/assets/global-user-nav-drawer-13d6c248f2c5.js"></script>
<link crossorigin="anonymous" media="all" rel="stylesheet" href="https://github.githubassets.com/assets/primer-react-css.c618884f5114d8c53ed1.module.css" />
<link crossorigin="anonymous" media="all" rel="stylesheet" href="https://github.githubassets.com/assets/global-user-nav-drawer.dd5b95699efad9266028.module.css" />

<react-partial
  partial-name="global-user-nav-drawer"
  data-ssr="false"
>
  
  <script type="application/json" data-target="react-partial.embeddedData">{"props":{"owner":{"login":"MathforDataScience","name":null,"avatarUrl":"https://avatars.githubusercontent.com/u/42959174?v=4"},"drawerId":"global-user-nav-drawer","lazyLoadItemDataFetchUrl":"/_side-panels/user.json","canAddAccount":true,"addAccountPath":"/login?add_account=1\u0026return_to=https%3A%2F%2Fgithub.com%2FMathforDataScience%2FDSR_Statistics1%2Fblob%2Fmain%2F7_%2520Hypotheses%2F7_4%2520F-test.ipynb","switchAccountPath":"/switch_account","loginAccountPath":"/login?add_account=1","projectsPath":"/MathforDataScience?tab=projects","gistsUrl":"https://gist.github.com/mine","docsUrl":"https://docs.github.com","yourEnterpriseUrl":null,"enterpriseSettingsUrl":null,"supportUrl":"https://support.github.com","showAccountSwitcher":true,"showEnterprises":true,"showEnterprise":false,"showGists":true,"showSponsors":true,"showFeaturesPreviews":true,"showEnterpriseSettings":false,"createMenuProps":{"createRepo":true,"importRepo":true,"codespaces":true,"gist":true,"createOrg":true,"createProject":false,"createProjectUrl":"/MathforDataScience?tab=projects","createLegacyProject":false,"createIssue":false,"org":null,"owner":"MathforDataScience","repo":"DSR_Statistics1"}}}</script>
  <div data-target="react-partial.reactRoot"></div>
</react-partial>

  </template>
</react-partial-anchor>

  </include-fragment>
</deferred-side-panel>
        </div>

        <div class="position-absolute mt-2">
            
<site-header-logged-in-user-menu>

</site-header-logged-in-user-menu>

        </div>
      </div>
    </div>


      <div class="AppHeader-localBar" >
        <nav data-pjax="#js-repo-pjax-container" aria-label="Repository" data-view-component="true" class="js-repo-nav js-sidenav-container-pjax js-responsive-underlinenav overflow-hidden UnderlineNav">

  <ul data-view-component="true" class="UnderlineNav-body list-style-none">
      <li data-view-component="true" class="d-inline-flex">
  <a id="code-tab" href="/MathforDataScience/DSR_Statistics1" data-tab-item="i0code-tab" data-selected-links="repo_source repo_downloads repo_commits repo_releases repo_tags repo_branches repo_packages repo_deployments repo_attestations /MathforDataScience/DSR_Statistics1" data-pjax="#repo-content-pjax-container" data-turbo-frame="repo-content-turbo-frame" data-hotkey="g c" data-analytics-event="{&quot;category&quot;:&quot;Underline navbar&quot;,&quot;action&quot;:&quot;Click tab&quot;,&quot;label&quot;:&quot;Code&quot;,&quot;target&quot;:&quot;UNDERLINE_NAV.TAB&quot;}" data-view-component="true" class="UnderlineNav-item no-wrap js-responsive-underlinenav-item js-selected-navigation-item">
    
              <svg aria-hidden="true" height="16" viewBox="0 0 16 16" version="1.1" width="16" data-view-component="true" class="octicon octicon-code UnderlineNav-octicon d-none d-sm-inline">
    <path d="m11.28 3.22 4.25 4.25a.75.75 0 0 1 0 1.06l-4.25 4.25a.749.749 0 0 1-1.275-.326.749.749 0 0 1 .215-.734L13.94 8l-3.72-3.72a.749.749 0 0 1 .326-1.275.749.749 0 0 1 .734.215Zm-6.56 0a.751.751 0 0 1 1.042.018.751.751 0 0 1 .018 1.042L2.06 8l3.72 3.72a.749.749 0 0 1-.326 1.275.749.749 0 0 1-.734-.215L.47 8.53a.75.75 0 0 1 0-1.06Z"></path>
</svg>
        <span data-content="Code">Code</span>
          <span id="code-repo-tab-count" data-pjax-replace="" data-turbo-replace="" title="Not available" data-view-component="true" class="Counter"></span>


    
</a></li>
      <li data-view-component="true" class="d-inline-flex">
  <a id="issues-tab" href="/MathforDataScience/DSR_Statistics1/issues" data-tab-item="i1issues-tab" data-selected-links="repo_issues repo_labels repo_milestones /MathforDataScience/DSR_Statistics1/issues /_view_fragments/issues/index/MathforDataScience/DSR_Statistics1/layout" data-pjax="#repo-content-pjax-container" data-turbo-frame="repo-content-turbo-frame" data-hotkey="g i" data-analytics-event="{&quot;category&quot;:&quot;Underline navbar&quot;,&quot;action&quot;:&quot;Click tab&quot;,&quot;label&quot;:&quot;Issues&quot;,&quot;target&quot;:&quot;UNDERLINE_NAV.TAB&quot;}" data-view-component="true" class="UnderlineNav-item no-wrap js-responsive-underlinenav-item js-selected-navigation-item">
    
              <svg aria-hidden="true" height="16" viewBox="0 0 16 16" version="1.1" width="16" data-view-component="true" class="octicon octicon-issue-opened UnderlineNav-octicon d-none d-sm-inline">
    <path d="M8 9.5a1.5 1.5 0 1 0 0-3 1.5 1.5 0 0 0 0 3Z"></path><path d="M8 0a8 8 0 1 1 0 16A8 8 0 0 1 8 0ZM1.5 8a6.5 6.5 0 1 0 13 0 6.5 6.5 0 0 0-13 0Z"></path>
</svg>
        <span data-content="Issues">Issues</span>
          <span id="issues-repo-tab-count" data-pjax-replace="" data-turbo-replace="" title="0" hidden="hidden" data-view-component="true" class="Counter">0</span>


    
</a></li>
      <li data-view-component="true" class="d-inline-flex">
  <a id="pull-requests-tab" href="/MathforDataScience/DSR_Statistics1/pulls" data-tab-item="i2pull-requests-tab" data-selected-links="repo_pulls checks /MathforDataScience/DSR_Statistics1/pulls" data-pjax="#repo-content-pjax-container" data-turbo-frame="repo-content-turbo-frame" data-hotkey="g p" data-analytics-event="{&quot;category&quot;:&quot;Underline navbar&quot;,&quot;action&quot;:&quot;Click tab&quot;,&quot;label&quot;:&quot;Pull requests&quot;,&quot;target&quot;:&quot;UNDERLINE_NAV.TAB&quot;}" data-view-component="true" class="UnderlineNav-item no-wrap js-responsive-underlinenav-item js-selected-navigation-item">
    
              <svg aria-hidden="true" height="16" viewBox="0 0 16 16" version="1.1" width="16" data-view-component="true" class="octicon octicon-git-pull-request UnderlineNav-octicon d-none d-sm-inline">
    <path d="M1.5 3.25a2.25 2.25 0 1 1 3 2.122v5.256a2.251 2.251 0 1 1-1.5 0V5.372A2.25 2.25 0 0 1 1.5 3.25Zm5.677-.177L9.573.677A.25.25 0 0 1 10 .854V2.5h1A2.5 2.5 0 0 1 13.5 5v5.628a2.251 2.251 0 1 1-1.5 0V5a1 1 0 0 0-1-1h-1v1.646a.25.25 0 0 1-.427.177L7.177 3.427a.25.25 0 0 1 0-.354ZM3.75 2.5a.75.75 0 1 0 0 1.5.75.75 0 0 0 0-1.5Zm0 9.5a.75.75 0 1 0 0 1.5.75.75 0 0 0 0-1.5Zm8.25.75a.75.75 0 1 0 1.5 0 .75.75 0 0 0-1.5 0Z"></path>
</svg>
        <span data-content="Pull requests">Pull requests</span>
          <span id="pull-requests-repo-tab-count" data-pjax-replace="" data-turbo-replace="" title="0" hidden="hidden" data-view-component="true" class="Counter">0</span>


    
</a></li>
      <li data-view-component="true" class="d-inline-flex">
  <a id="actions-tab" href="/MathforDataScience/DSR_Statistics1/actions" data-tab-item="i3actions-tab" data-selected-links="repo_actions /MathforDataScience/DSR_Statistics1/actions" data-pjax="#repo-content-pjax-container" data-turbo-frame="repo-content-turbo-frame" data-hotkey="g a" data-analytics-event="{&quot;category&quot;:&quot;Underline navbar&quot;,&quot;action&quot;:&quot;Click tab&quot;,&quot;label&quot;:&quot;Actions&quot;,&quot;target&quot;:&quot;UNDERLINE_NAV.TAB&quot;}" data-view-component="true" class="UnderlineNav-item no-wrap js-responsive-underlinenav-item js-selected-navigation-item">
    
              <svg aria-hidden="true" height="16" viewBox="0 0 16 16" version="1.1" width="16" data-view-component="true" class="octicon octicon-play UnderlineNav-octicon d-none d-sm-inline">
    <path d="M8 0a8 8 0 1 1 0 16A8 8 0 0 1 8 0ZM1.5 8a6.5 6.5 0 1 0 13 0 6.5 6.5 0 0 0-13 0Zm4.879-2.773 4.264 2.559a.25.25 0 0 1 0 .428l-4.264 2.559A.25.25 0 0 1 6 10.559V5.442a.25.25 0 0 1 .379-.215Z"></path>
</svg>
        <span data-content="Actions">Actions</span>
          <span id="actions-repo-tab-count" data-pjax-replace="" data-turbo-replace="" title="Not available" data-view-component="true" class="Counter"></span>


    
</a></li>
      <li data-view-component="true" class="d-inline-flex">
  <a id="projects-tab" href="/MathforDataScience/DSR_Statistics1/projects" data-tab-item="i4projects-tab" data-selected-links="repo_projects new_repo_project repo_project /MathforDataScience/DSR_Statistics1/projects" data-pjax="#repo-content-pjax-container" data-turbo-frame="repo-content-turbo-frame" data-hotkey="g b" data-analytics-event="{&quot;category&quot;:&quot;Underline navbar&quot;,&quot;action&quot;:&quot;Click tab&quot;,&quot;label&quot;:&quot;Projects&quot;,&quot;target&quot;:&quot;UNDERLINE_NAV.TAB&quot;}" data-view-component="true" class="UnderlineNav-item no-wrap js-responsive-underlinenav-item js-selected-navigation-item">
    
              <svg aria-hidden="true" height="16" viewBox="0 0 16 16" version="1.1" width="16" data-view-component="true" class="octicon octicon-table UnderlineNav-octicon d-none d-sm-inline">
    <path d="M0 1.75C0 .784.784 0 1.75 0h12.5C15.216 0 16 .784 16 1.75v12.5A1.75 1.75 0 0 1 14.25 16H1.75A1.75 1.75 0 0 1 0 14.25ZM6.5 6.5v8h7.75a.25.25 0 0 0 .25-.25V6.5Zm8-1.5V1.75a.25.25 0 0 0-.25-.25H6.5V5Zm-13 1.5v7.75c0 .138.112.25.25.25H5v-8ZM5 5V1.5H1.75a.25.25 0 0 0-.25.25V5Z"></path>
</svg>
        <span data-content="Projects">Projects</span>
          <span id="projects-repo-tab-count" data-pjax-replace="" data-turbo-replace="" title="0" hidden="hidden" data-view-component="true" class="Counter">0</span>


    
</a></li>
      <li data-view-component="true" class="d-inline-flex">
  <a id="wiki-tab" href="/MathforDataScience/DSR_Statistics1/wiki" data-tab-item="i5wiki-tab" data-selected-links="repo_wiki /MathforDataScience/DSR_Statistics1/wiki" data-pjax="#repo-content-pjax-container" data-turbo-frame="repo-content-turbo-frame" data-hotkey="g w" data-analytics-event="{&quot;category&quot;:&quot;Underline navbar&quot;,&quot;action&quot;:&quot;Click tab&quot;,&quot;label&quot;:&quot;Wiki&quot;,&quot;target&quot;:&quot;UNDERLINE_NAV.TAB&quot;}" data-view-component="true" class="UnderlineNav-item no-wrap js-responsive-underlinenav-item js-selected-navigation-item">
    
              <svg aria-hidden="true" height="16" viewBox="0 0 16 16" version="1.1" width="16" data-view-component="true" class="octicon octicon-book UnderlineNav-octicon d-none d-sm-inline">
    <path d="M0 1.75A.75.75 0 0 1 .75 1h4.253c1.227 0 2.317.59 3 1.501A3.743 3.743 0 0 1 11.006 1h4.245a.75.75 0 0 1 .75.75v10.5a.75.75 0 0 1-.75.75h-4.507a2.25 2.25 0 0 0-1.591.659l-.622.621a.75.75 0 0 1-1.06 0l-.622-.621A2.25 2.25 0 0 0 5.258 13H.75a.75.75 0 0 1-.75-.75Zm7.251 10.324.004-5.073-.002-2.253A2.25 2.25 0 0 0 5.003 2.5H1.5v9h3.757a3.75 3.75 0 0 1 1.994.574ZM8.755 4.75l-.004 7.322a3.752 3.752 0 0 1 1.992-.572H14.5v-9h-3.495a2.25 2.25 0 0 0-2.25 2.25Z"></path>
</svg>
        <span data-content="Wiki">Wiki</span>
          <span id="wiki-repo-tab-count" data-pjax-replace="" data-turbo-replace="" title="Not available" data-view-component="true" class="Counter"></span>


    
</a></li>
      <li data-view-component="true" class="d-inline-flex">
  <a id="security-tab" href="/MathforDataScience/DSR_Statistics1/security" data-tab-item="i6security-tab" data-selected-links="security overview alerts policy token_scanning code_scanning /MathforDataScience/DSR_Statistics1/security" data-pjax="#repo-content-pjax-container" data-turbo-frame="repo-content-turbo-frame" data-hotkey="g s" data-analytics-event="{&quot;category&quot;:&quot;Underline navbar&quot;,&quot;action&quot;:&quot;Click tab&quot;,&quot;label&quot;:&quot;Security&quot;,&quot;target&quot;:&quot;UNDERLINE_NAV.TAB&quot;}" data-view-component="true" class="UnderlineNav-item no-wrap js-responsive-underlinenav-item js-selected-navigation-item">
    
              <svg aria-hidden="true" height="16" viewBox="0 0 16 16" version="1.1" width="16" data-view-component="true" class="octicon octicon-shield UnderlineNav-octicon d-none d-sm-inline">
    <path d="M7.467.133a1.748 1.748 0 0 1 1.066 0l5.25 1.68A1.75 1.75 0 0 1 15 3.48V7c0 1.566-.32 3.182-1.303 4.682-.983 1.498-2.585 2.813-5.032 3.855a1.697 1.697 0 0 1-1.33 0c-2.447-1.042-4.049-2.357-5.032-3.855C1.32 10.182 1 8.566 1 7V3.48a1.75 1.75 0 0 1 1.217-1.667Zm.61 1.429a.25.25 0 0 0-.153 0l-5.25 1.68a.25.25 0 0 0-.174.238V7c0 1.358.275 2.666 1.057 3.86.784 1.194 2.121 2.34 4.366 3.297a.196.196 0 0 0 .154 0c2.245-.956 3.582-2.104 4.366-3.298C13.225 9.666 13.5 8.36 13.5 7V3.48a.251.251 0 0 0-.174-.237l-5.25-1.68ZM8.75 4.75v3a.75.75 0 0 1-1.5 0v-3a.75.75 0 0 1 1.5 0ZM9 10.5a1 1 0 1 1-2 0 1 1 0 0 1 2 0Z"></path>
</svg>
        <span data-content="Security">Security</span>
          <include-fragment src="/MathforDataScience/DSR_Statistics1/security/overall-count" accept="text/fragment+html"></include-fragment>

    
</a></li>
      <li data-view-component="true" class="d-inline-flex">
  <a id="insights-tab" href="/MathforDataScience/DSR_Statistics1/pulse" data-tab-item="i7insights-tab" data-selected-links="repo_graphs repo_contributors dependency_graph dependabot_updates pulse people community /MathforDataScience/DSR_Statistics1/pulse" data-pjax="#repo-content-pjax-container" data-turbo-frame="repo-content-turbo-frame" data-analytics-event="{&quot;category&quot;:&quot;Underline navbar&quot;,&quot;action&quot;:&quot;Click tab&quot;,&quot;label&quot;:&quot;Insights&quot;,&quot;target&quot;:&quot;UNDERLINE_NAV.TAB&quot;}" data-view-component="true" class="UnderlineNav-item no-wrap js-responsive-underlinenav-item js-selected-navigation-item">
    
              <svg aria-hidden="true" height="16" viewBox="0 0 16 16" version="1.1" width="16" data-view-component="true" class="octicon octicon-graph UnderlineNav-octicon d-none d-sm-inline">
    <path d="M1.5 1.75V13.5h13.75a.75.75 0 0 1 0 1.5H.75a.75.75 0 0 1-.75-.75V1.75a.75.75 0 0 1 1.5 0Zm14.28 2.53-5.25 5.25a.75.75 0 0 1-1.06 0L7 7.06 4.28 9.78a.751.751 0 0 1-1.042-.018.751.751 0 0 1-.018-1.042l3.25-3.25a.75.75 0 0 1 1.06 0L10 7.94l4.72-4.72a.751.751 0 0 1 1.042.018.751.751 0 0 1 .018 1.042Z"></path>
</svg>
        <span data-content="Insights">Insights</span>
          <span id="insights-repo-tab-count" data-pjax-replace="" data-turbo-replace="" title="Not available" data-view-component="true" class="Counter"></span>


    
</a></li>
      <li data-view-component="true" class="d-inline-flex">
  <a id="settings-tab" href="/MathforDataScience/DSR_Statistics1/settings" data-tab-item="i8settings-tab" data-selected-links="code_review_limits codespaces_repository_settings collaborators custom_tabs hooks integration_installations interaction_limits issue_template_editor key_links_settings notifications repo_announcements repo_branch_settings repo_custom_properties repo_keys_settings repo_pages_settings repo_protected_tags_settings repo_rule_insights repo_rules_bypass_requests repo_rulesets repo_settings_copilot_coding_guidelines repo_settings_copilot_content_exclusion repo_settings reported_content repository_actions_settings_add_new_runner repository_actions_settings_general repository_actions_settings_runner_details repository_actions_settings_runners repository_actions_settings repository_environments role_details secrets_settings_actions secrets_settings_codespaces secrets_settings_dependabot secrets security_analysis security_products /MathforDataScience/DSR_Statistics1/settings" data-pjax="#repo-content-pjax-container" data-turbo-frame="repo-content-turbo-frame" data-analytics-event="{&quot;category&quot;:&quot;Underline navbar&quot;,&quot;action&quot;:&quot;Click tab&quot;,&quot;label&quot;:&quot;Settings&quot;,&quot;target&quot;:&quot;UNDERLINE_NAV.TAB&quot;}" data-view-component="true" class="UnderlineNav-item no-wrap js-responsive-underlinenav-item js-selected-navigation-item">
    
              <svg aria-hidden="true" height="16" viewBox="0 0 16 16" version="1.1" width="16" data-view-component="true" class="octicon octicon-gear UnderlineNav-octicon d-none d-sm-inline">
    <path d="M8 0a8.2 8.2 0 0 1 .701.031C9.444.095 9.99.645 10.16 1.29l.288 1.107c.018.066.079.158.212.224.231.114.454.243.668.386.123.082.233.09.299.071l1.103-.303c.644-.176 1.392.021 1.82.63.27.385.506.792.704 1.218.315.675.111 1.422-.364 1.891l-.814.806c-.049.048-.098.147-.088.294.016.257.016.515 0 .772-.01.147.038.246.088.294l.814.806c.475.469.679 1.216.364 1.891a7.977 7.977 0 0 1-.704 1.217c-.428.61-1.176.807-1.82.63l-1.102-.302c-.067-.019-.177-.011-.3.071a5.909 5.909 0 0 1-.668.386c-.133.066-.194.158-.211.224l-.29 1.106c-.168.646-.715 1.196-1.458 1.26a8.006 8.006 0 0 1-1.402 0c-.743-.064-1.289-.614-1.458-1.26l-.289-1.106c-.018-.066-.079-.158-.212-.224a5.738 5.738 0 0 1-.668-.386c-.123-.082-.233-.09-.299-.071l-1.103.303c-.644.176-1.392-.021-1.82-.63a8.12 8.12 0 0 1-.704-1.218c-.315-.675-.111-1.422.363-1.891l.815-.806c.05-.048.098-.147.088-.294a6.214 6.214 0 0 1 0-.772c.01-.147-.038-.246-.088-.294l-.815-.806C.635 6.045.431 5.298.746 4.623a7.92 7.92 0 0 1 .704-1.217c.428-.61 1.176-.807 1.82-.63l1.102.302c.067.019.177.011.3-.071.214-.143.437-.272.668-.386.133-.066.194-.158.211-.224l.29-1.106C6.009.645 6.556.095 7.299.03 7.53.01 7.764 0 8 0Zm-.571 1.525c-.036.003-.108.036-.137.146l-.289 1.105c-.147.561-.549.967-.998 1.189-.173.086-.34.183-.5.29-.417.278-.97.423-1.529.27l-1.103-.303c-.109-.03-.175.016-.195.045-.22.312-.412.644-.573.99-.014.031-.021.11.059.19l.815.806c.411.406.562.957.53 1.456a4.709 4.709 0 0 0 0 .582c.032.499-.119 1.05-.53 1.456l-.815.806c-.081.08-.073.159-.059.19.162.346.353.677.573.989.02.03.085.076.195.046l1.102-.303c.56-.153 1.113-.008 1.53.27.161.107.328.204.501.29.447.222.85.629.997 1.189l.289 1.105c.029.109.101.143.137.146a6.6 6.6 0 0 0 1.142 0c.036-.003.108-.036.137-.146l.289-1.105c.147-.561.549-.967.998-1.189.173-.086.34-.183.5-.29.417-.278.97-.423 1.529-.27l1.103.303c.109.029.175-.016.195-.045.22-.313.411-.644.573-.99.014-.031.021-.11-.059-.19l-.815-.806c-.411-.406-.562-.957-.53-1.456a4.709 4.709 0 0 0 0-.582c-.032-.499.119-1.05.53-1.456l.815-.806c.081-.08.073-.159.059-.19a6.464 6.464 0 0 0-.573-.989c-.02-.03-.085-.076-.195-.046l-1.102.303c-.56.153-1.113.008-1.53-.27a4.44 4.44 0 0 0-.501-.29c-.447-.222-.85-.629-.997-1.189l-.289-1.105c-.029-.11-.101-.143-.137-.146a6.6 6.6 0 0 0-1.142 0ZM11 8a3 3 0 1 1-6 0 3 3 0 0 1 6 0ZM9.5 8a1.5 1.5 0 1 0-3.001.001A1.5 1.5 0 0 0 9.5 8Z"></path>
</svg>
        <span data-content="Settings">Settings</span>
          <span id="settings-repo-tab-count" data-pjax-replace="" data-turbo-replace="" title="Not available" data-view-component="true" class="Counter"></span>


    
</a></li>
</ul>
    <div style="visibility:hidden;" data-view-component="true" class="UnderlineNav-actions js-responsive-underlinenav-overflow position-absolute pr-3 pr-md-4 pr-lg-5 right-0">      <action-menu data-select-variant="none" data-view-component="true">
  <focus-group direction="vertical" mnemonics retain>
    <button id="action-menu-f0351714-9d06-4da9-a6af-6f2ca51c1d85-button" popovertarget="action-menu-f0351714-9d06-4da9-a6af-6f2ca51c1d85-overlay" aria-controls="action-menu-f0351714-9d06-4da9-a6af-6f2ca51c1d85-list" aria-haspopup="true" aria-labelledby="tooltip-bb15700b-9522-4e55-abd8-3ee231bd038b" type="button" data-view-component="true" class="Button Button--iconOnly Button--secondary Button--medium UnderlineNav-item">  <svg aria-hidden="true" height="16" viewBox="0 0 16 16" version="1.1" width="16" data-view-component="true" class="octicon octicon-kebab-horizontal Button-visual">
    <path d="M8 9a1.5 1.5 0 1 0 0-3 1.5 1.5 0 0 0 0 3ZM1.5 9a1.5 1.5 0 1 0 0-3 1.5 1.5 0 0 0 0 3Zm13 0a1.5 1.5 0 1 0 0-3 1.5 1.5 0 0 0 0 3Z"></path>
</svg>
</button><tool-tip id="tooltip-bb15700b-9522-4e55-abd8-3ee231bd038b" for="action-menu-f0351714-9d06-4da9-a6af-6f2ca51c1d85-button" popover="manual" data-direction="s" data-type="label" data-view-component="true" class="sr-only position-absolute">Additional navigation options</tool-tip>


<anchored-position id="action-menu-f0351714-9d06-4da9-a6af-6f2ca51c1d85-overlay" anchor="action-menu-f0351714-9d06-4da9-a6af-6f2ca51c1d85-button" align="start" side="outside-bottom" anchor-offset="normal" popover="auto" data-view-component="true">
  <div data-view-component="true" class="Overlay Overlay--size-auto">
    
      <div data-view-component="true" class="Overlay-body Overlay-body--paddingNone">          <action-list>
  <div data-view-component="true">
    <ul aria-labelledby="action-menu-f0351714-9d06-4da9-a6af-6f2ca51c1d85-button" id="action-menu-f0351714-9d06-4da9-a6af-6f2ca51c1d85-list" role="menu" data-view-component="true" class="ActionListWrap--inset ActionListWrap">
        <li hidden="hidden" data-menu-item="i0code-tab" data-targets="action-list.items" role="none" data-view-component="true" class="ActionListItem">
    
    
    <a tabindex="-1" id="item-932c51f3-d72f-46f6-bed9-979642cf60d4" href="/MathforDataScience/DSR_Statistics1" role="menuitem" data-view-component="true" class="ActionListContent ActionListContent--visual16">
        <span class="ActionListItem-visual ActionListItem-visual--leading">
          <svg aria-hidden="true" height="16" viewBox="0 0 16 16" version="1.1" width="16" data-view-component="true" class="octicon octicon-code">
    <path d="m11.28 3.22 4.25 4.25a.75.75 0 0 1 0 1.06l-4.25 4.25a.749.749 0 0 1-1.275-.326.749.749 0 0 1 .215-.734L13.94 8l-3.72-3.72a.749.749 0 0 1 .326-1.275.749.749 0 0 1 .734.215Zm-6.56 0a.751.751 0 0 1 1.042.018.751.751 0 0 1 .018 1.042L2.06 8l3.72 3.72a.749.749 0 0 1-.326 1.275.749.749 0 0 1-.734-.215L.47 8.53a.75.75 0 0 1 0-1.06Z"></path>
</svg>
        </span>
      
        <span data-view-component="true" class="ActionListItem-label">
          Code
</span>      
</a>
  
</li>
        <li hidden="hidden" data-menu-item="i1issues-tab" data-targets="action-list.items" role="none" data-view-component="true" class="ActionListItem">
    
    
    <a tabindex="-1" id="item-d548c2df-a2c7-4f06-b1ce-b826e17b661c" href="/MathforDataScience/DSR_Statistics1/issues" role="menuitem" data-view-component="true" class="ActionListContent ActionListContent--visual16">
        <span class="ActionListItem-visual ActionListItem-visual--leading">
          <svg aria-hidden="true" height="16" viewBox="0 0 16 16" version="1.1" width="16" data-view-component="true" class="octicon octicon-issue-opened">
    <path d="M8 9.5a1.5 1.5 0 1 0 0-3 1.5 1.5 0 0 0 0 3Z"></path><path d="M8 0a8 8 0 1 1 0 16A8 8 0 0 1 8 0ZM1.5 8a6.5 6.5 0 1 0 13 0 6.5 6.5 0 0 0-13 0Z"></path>
</svg>
        </span>
      
        <span data-view-component="true" class="ActionListItem-label">
          Issues
</span>      
</a>
  
</li>
        <li hidden="hidden" data-menu-item="i2pull-requests-tab" data-targets="action-list.items" role="none" data-view-component="true" class="ActionListItem">
    
    
    <a tabindex="-1" id="item-4502c43d-a4db-48d6-bf43-db0c723c5638" href="/MathforDataScience/DSR_Statistics1/pulls" role="menuitem" data-view-component="true" class="ActionListContent ActionListContent--visual16">
        <span class="ActionListItem-visual ActionListItem-visual--leading">
          <svg aria-hidden="true" height="16" viewBox="0 0 16 16" version="1.1" width="16" data-view-component="true" class="octicon octicon-git-pull-request">
    <path d="M1.5 3.25a2.25 2.25 0 1 1 3 2.122v5.256a2.251 2.251 0 1 1-1.5 0V5.372A2.25 2.25 0 0 1 1.5 3.25Zm5.677-.177L9.573.677A.25.25 0 0 1 10 .854V2.5h1A2.5 2.5 0 0 1 13.5 5v5.628a2.251 2.251 0 1 1-1.5 0V5a1 1 0 0 0-1-1h-1v1.646a.25.25 0 0 1-.427.177L7.177 3.427a.25.25 0 0 1 0-.354ZM3.75 2.5a.75.75 0 1 0 0 1.5.75.75 0 0 0 0-1.5Zm0 9.5a.75.75 0 1 0 0 1.5.75.75 0 0 0 0-1.5Zm8.25.75a.75.75 0 1 0 1.5 0 .75.75 0 0 0-1.5 0Z"></path>
</svg>
        </span>
      
        <span data-view-component="true" class="ActionListItem-label">
          Pull requests
</span>      
</a>
  
</li>
        <li hidden="hidden" data-menu-item="i3actions-tab" data-targets="action-list.items" role="none" data-view-component="true" class="ActionListItem">
    
    
    <a tabindex="-1" id="item-16990520-b607-43c7-bc01-b943bf5d1bba" href="/MathforDataScience/DSR_Statistics1/actions" role="menuitem" data-view-component="true" class="ActionListContent ActionListContent--visual16">
        <span class="ActionListItem-visual ActionListItem-visual--leading">
          <svg aria-hidden="true" height="16" viewBox="0 0 16 16" version="1.1" width="16" data-view-component="true" class="octicon octicon-play">
    <path d="M8 0a8 8 0 1 1 0 16A8 8 0 0 1 8 0ZM1.5 8a6.5 6.5 0 1 0 13 0 6.5 6.5 0 0 0-13 0Zm4.879-2.773 4.264 2.559a.25.25 0 0 1 0 .428l-4.264 2.559A.25.25 0 0 1 6 10.559V5.442a.25.25 0 0 1 .379-.215Z"></path>
</svg>
        </span>
      
        <span data-view-component="true" class="ActionListItem-label">
          Actions
</span>      
</a>
  
</li>
        <li hidden="hidden" data-menu-item="i4projects-tab" data-targets="action-list.items" role="none" data-view-component="true" class="ActionListItem">
    
    
    <a tabindex="-1" id="item-30fd6b02-4aee-42bd-b1c1-c5114d90bd7d" href="/MathforDataScience/DSR_Statistics1/projects" role="menuitem" data-view-component="true" class="ActionListContent ActionListContent--visual16">
        <span class="ActionListItem-visual ActionListItem-visual--leading">
          <svg aria-hidden="true" height="16" viewBox="0 0 16 16" version="1.1" width="16" data-view-component="true" class="octicon octicon-table">
    <path d="M0 1.75C0 .784.784 0 1.75 0h12.5C15.216 0 16 .784 16 1.75v12.5A1.75 1.75 0 0 1 14.25 16H1.75A1.75 1.75 0 0 1 0 14.25ZM6.5 6.5v8h7.75a.25.25 0 0 0 .25-.25V6.5Zm8-1.5V1.75a.25.25 0 0 0-.25-.25H6.5V5Zm-13 1.5v7.75c0 .138.112.25.25.25H5v-8ZM5 5V1.5H1.75a.25.25 0 0 0-.25.25V5Z"></path>
</svg>
        </span>
      
        <span data-view-component="true" class="ActionListItem-label">
          Projects
</span>      
</a>
  
</li>
        <li hidden="hidden" data-menu-item="i5wiki-tab" data-targets="action-list.items" role="none" data-view-component="true" class="ActionListItem">
    
    
    <a tabindex="-1" id="item-612c6283-229d-4ed5-9907-c7cd03ff60c1" href="/MathforDataScience/DSR_Statistics1/wiki" role="menuitem" data-view-component="true" class="ActionListContent ActionListContent--visual16">
        <span class="ActionListItem-visual ActionListItem-visual--leading">
          <svg aria-hidden="true" height="16" viewBox="0 0 16 16" version="1.1" width="16" data-view-component="true" class="octicon octicon-book">
    <path d="M0 1.75A.75.75 0 0 1 .75 1h4.253c1.227 0 2.317.59 3 1.501A3.743 3.743 0 0 1 11.006 1h4.245a.75.75 0 0 1 .75.75v10.5a.75.75 0 0 1-.75.75h-4.507a2.25 2.25 0 0 0-1.591.659l-.622.621a.75.75 0 0 1-1.06 0l-.622-.621A2.25 2.25 0 0 0 5.258 13H.75a.75.75 0 0 1-.75-.75Zm7.251 10.324.004-5.073-.002-2.253A2.25 2.25 0 0 0 5.003 2.5H1.5v9h3.757a3.75 3.75 0 0 1 1.994.574ZM8.755 4.75l-.004 7.322a3.752 3.752 0 0 1 1.992-.572H14.5v-9h-3.495a2.25 2.25 0 0 0-2.25 2.25Z"></path>
</svg>
        </span>
      
        <span data-view-component="true" class="ActionListItem-label">
          Wiki
</span>      
</a>
  
</li>
        <li hidden="hidden" data-menu-item="i6security-tab" data-targets="action-list.items" role="none" data-view-component="true" class="ActionListItem">
    
    
    <a tabindex="-1" id="item-19a05366-f6a3-475e-a0e2-ea7c5c8d6c05" href="/MathforDataScience/DSR_Statistics1/security" role="menuitem" data-view-component="true" class="ActionListContent ActionListContent--visual16">
        <span class="ActionListItem-visual ActionListItem-visual--leading">
          <svg aria-hidden="true" height="16" viewBox="0 0 16 16" version="1.1" width="16" data-view-component="true" class="octicon octicon-shield">
    <path d="M7.467.133a1.748 1.748 0 0 1 1.066 0l5.25 1.68A1.75 1.75 0 0 1 15 3.48V7c0 1.566-.32 3.182-1.303 4.682-.983 1.498-2.585 2.813-5.032 3.855a1.697 1.697 0 0 1-1.33 0c-2.447-1.042-4.049-2.357-5.032-3.855C1.32 10.182 1 8.566 1 7V3.48a1.75 1.75 0 0 1 1.217-1.667Zm.61 1.429a.25.25 0 0 0-.153 0l-5.25 1.68a.25.25 0 0 0-.174.238V7c0 1.358.275 2.666 1.057 3.86.784 1.194 2.121 2.34 4.366 3.297a.196.196 0 0 0 .154 0c2.245-.956 3.582-2.104 4.366-3.298C13.225 9.666 13.5 8.36 13.5 7V3.48a.251.251 0 0 0-.174-.237l-5.25-1.68ZM8.75 4.75v3a.75.75 0 0 1-1.5 0v-3a.75.75 0 0 1 1.5 0ZM9 10.5a1 1 0 1 1-2 0 1 1 0 0 1 2 0Z"></path>
</svg>
        </span>
      
        <span data-view-component="true" class="ActionListItem-label">
          Security
</span>      
</a>
  
</li>
        <li hidden="hidden" data-menu-item="i7insights-tab" data-targets="action-list.items" role="none" data-view-component="true" class="ActionListItem">
    
    
    <a tabindex="-1" id="item-768f53ab-7a08-4c61-be8f-142d226aad8c" href="/MathforDataScience/DSR_Statistics1/pulse" role="menuitem" data-view-component="true" class="ActionListContent ActionListContent--visual16">
        <span class="ActionListItem-visual ActionListItem-visual--leading">
          <svg aria-hidden="true" height="16" viewBox="0 0 16 16" version="1.1" width="16" data-view-component="true" class="octicon octicon-graph">
    <path d="M1.5 1.75V13.5h13.75a.75.75 0 0 1 0 1.5H.75a.75.75 0 0 1-.75-.75V1.75a.75.75 0 0 1 1.5 0Zm14.28 2.53-5.25 5.25a.75.75 0 0 1-1.06 0L7 7.06 4.28 9.78a.751.751 0 0 1-1.042-.018.751.751 0 0 1-.018-1.042l3.25-3.25a.75.75 0 0 1 1.06 0L10 7.94l4.72-4.72a.751.751 0 0 1 1.042.018.751.751 0 0 1 .018 1.042Z"></path>
</svg>
        </span>
      
        <span data-view-component="true" class="ActionListItem-label">
          Insights
</span>      
</a>
  
</li>
        <li hidden="hidden" data-menu-item="i8settings-tab" data-targets="action-list.items" role="none" data-view-component="true" class="ActionListItem">
    
    
    <a tabindex="-1" id="item-af5d8e35-791f-460a-af56-8cbc5751bdea" href="/MathforDataScience/DSR_Statistics1/settings" role="menuitem" data-view-component="true" class="ActionListContent ActionListContent--visual16">
        <span class="ActionListItem-visual ActionListItem-visual--leading">
          <svg aria-hidden="true" height="16" viewBox="0 0 16 16" version="1.1" width="16" data-view-component="true" class="octicon octicon-gear">
    <path d="M8 0a8.2 8.2 0 0 1 .701.031C9.444.095 9.99.645 10.16 1.29l.288 1.107c.018.066.079.158.212.224.231.114.454.243.668.386.123.082.233.09.299.071l1.103-.303c.644-.176 1.392.021 1.82.63.27.385.506.792.704 1.218.315.675.111 1.422-.364 1.891l-.814.806c-.049.048-.098.147-.088.294.016.257.016.515 0 .772-.01.147.038.246.088.294l.814.806c.475.469.679 1.216.364 1.891a7.977 7.977 0 0 1-.704 1.217c-.428.61-1.176.807-1.82.63l-1.102-.302c-.067-.019-.177-.011-.3.071a5.909 5.909 0 0 1-.668.386c-.133.066-.194.158-.211.224l-.29 1.106c-.168.646-.715 1.196-1.458 1.26a8.006 8.006 0 0 1-1.402 0c-.743-.064-1.289-.614-1.458-1.26l-.289-1.106c-.018-.066-.079-.158-.212-.224a5.738 5.738 0 0 1-.668-.386c-.123-.082-.233-.09-.299-.071l-1.103.303c-.644.176-1.392-.021-1.82-.63a8.12 8.12 0 0 1-.704-1.218c-.315-.675-.111-1.422.363-1.891l.815-.806c.05-.048.098-.147.088-.294a6.214 6.214 0 0 1 0-.772c.01-.147-.038-.246-.088-.294l-.815-.806C.635 6.045.431 5.298.746 4.623a7.92 7.92 0 0 1 .704-1.217c.428-.61 1.176-.807 1.82-.63l1.102.302c.067.019.177.011.3-.071.214-.143.437-.272.668-.386.133-.066.194-.158.211-.224l.29-1.106C6.009.645 6.556.095 7.299.03 7.53.01 7.764 0 8 0Zm-.571 1.525c-.036.003-.108.036-.137.146l-.289 1.105c-.147.561-.549.967-.998 1.189-.173.086-.34.183-.5.29-.417.278-.97.423-1.529.27l-1.103-.303c-.109-.03-.175.016-.195.045-.22.312-.412.644-.573.99-.014.031-.021.11.059.19l.815.806c.411.406.562.957.53 1.456a4.709 4.709 0 0 0 0 .582c.032.499-.119 1.05-.53 1.456l-.815.806c-.081.08-.073.159-.059.19.162.346.353.677.573.989.02.03.085.076.195.046l1.102-.303c.56-.153 1.113-.008 1.53.27.161.107.328.204.501.29.447.222.85.629.997 1.189l.289 1.105c.029.109.101.143.137.146a6.6 6.6 0 0 0 1.142 0c.036-.003.108-.036.137-.146l.289-1.105c.147-.561.549-.967.998-1.189.173-.086.34-.183.5-.29.417-.278.97-.423 1.529-.27l1.103.303c.109.029.175-.016.195-.045.22-.313.411-.644.573-.99.014-.031.021-.11-.059-.19l-.815-.806c-.411-.406-.562-.957-.53-1.456a4.709 4.709 0 0 0 0-.582c-.032-.499.119-1.05.53-1.456l.815-.806c.081-.08.073-.159.059-.19a6.464 6.464 0 0 0-.573-.989c-.02-.03-.085-.076-.195-.046l-1.102.303c-.56.153-1.113.008-1.53-.27a4.44 4.44 0 0 0-.501-.29c-.447-.222-.85-.629-.997-1.189l-.289-1.105c-.029-.11-.101-.143-.137-.146a6.6 6.6 0 0 0-1.142 0ZM11 8a3 3 0 1 1-6 0 3 3 0 0 1 6 0ZM9.5 8a1.5 1.5 0 1 0-3.001.001A1.5 1.5 0 0 0 9.5 8Z"></path>
</svg>
        </span>
      
        <span data-view-component="true" class="ActionListItem-label">
          Settings
</span>      
</a>
  
</li>
</ul>    
</div></action-list>


</div>
      
</div></anchored-position>  </focus-group>
</action-menu></div>
</nav>
      </div>
</header>


      <div hidden="hidden" data-view-component="true" class="js-stale-session-flash stale-session-flash flash flash-warn flash-full">
  
        <svg aria-hidden="true" height="16" viewBox="0 0 16 16" version="1.1" width="16" data-view-component="true" class="octicon octicon-alert">
    <path d="M6.457 1.047c.659-1.234 2.427-1.234 3.086 0l6.082 11.378A1.75 1.75 0 0 1 14.082 15H1.918a1.75 1.75 0 0 1-1.543-2.575Zm1.763.707a.25.25 0 0 0-.44 0L1.698 13.132a.25.25 0 0 0 .22.368h12.164a.25.25 0 0 0 .22-.368Zm.53 3.996v2.5a.75.75 0 0 1-1.5 0v-2.5a.75.75 0 0 1 1.5 0ZM9 11a1 1 0 1 1-2 0 1 1 0 0 1 2 0Z"></path>
</svg>
        <span class="js-stale-session-flash-signed-in" hidden>You signed in with another tab or window. <a class="Link--inTextBlock" href="">Reload</a> to refresh your session.</span>
        <span class="js-stale-session-flash-signed-out" hidden>You signed out in another tab or window. <a class="Link--inTextBlock" href="">Reload</a> to refresh your session.</span>
        <span class="js-stale-session-flash-switched" hidden>You switched accounts on another tab or window. <a class="Link--inTextBlock" href="">Reload</a> to refresh your session.</span>

    <button id="icon-button-a68c833d-29b3-4ea0-afd2-ed49d17e445c" aria-labelledby="tooltip-6217aa81-532c-4815-9fd0-f6da08fefe0a" type="button" data-view-component="true" class="Button Button--iconOnly Button--invisible Button--medium flash-close js-flash-close">  <svg aria-hidden="true" height="16" viewBox="0 0 16 16" version="1.1" width="16" data-view-component="true" class="octicon octicon-x Button-visual">
    <path d="M3.72 3.72a.75.75 0 0 1 1.06 0L8 6.94l3.22-3.22a.749.749 0 0 1 1.275.326.749.749 0 0 1-.215.734L9.06 8l3.22 3.22a.749.749 0 0 1-.326 1.275.749.749 0 0 1-.734-.215L8 9.06l-3.22 3.22a.751.751 0 0 1-1.042-.018.751.751 0 0 1-.018-1.042L6.94 8 3.72 4.78a.75.75 0 0 1 0-1.06Z"></path>
</svg>
</button><tool-tip id="tooltip-6217aa81-532c-4815-9fd0-f6da08fefe0a" for="icon-button-a68c833d-29b3-4ea0-afd2-ed49d17e445c" popover="manual" data-direction="s" data-type="label" data-view-component="true" class="sr-only position-absolute">Dismiss alert</tool-tip>


  
</div>
          
    </div>

  <div id="start-of-content" class="show-on-focus"></div>








    <div id="js-flash-container" class="flash-container" data-turbo-replace>




  <template class="js-flash-template">
    
<div class="flash flash-full   {{ className }}">
  <div >
    <button autofocus class="flash-close js-flash-close" type="button" aria-label="Dismiss this message">
      <svg aria-hidden="true" height="16" viewBox="0 0 16 16" version="1.1" width="16" data-view-component="true" class="octicon octicon-x">
    <path d="M3.72 3.72a.75.75 0 0 1 1.06 0L8 6.94l3.22-3.22a.749.749 0 0 1 1.275.326.749.749 0 0 1-.215.734L9.06 8l3.22 3.22a.749.749 0 0 1-.326 1.275.749.749 0 0 1-.734-.215L8 9.06l-3.22 3.22a.751.751 0 0 1-1.042-.018.751.751 0 0 1-.018-1.042L6.94 8 3.72 4.78a.75.75 0 0 1 0-1.06Z"></path>
</svg>
    </button>
    <div aria-atomic="true" role="alert" class="js-flash-alert">
      
      <div>{{ message }}</div>

    </div>
  </div>
</div>
  </template>
</div>


    
    <notification-shelf-watcher data-base-url="https://github.com/notifications/beta/shelf" data-channel="eyJjIjoibm90aWZpY2F0aW9uLWNoYW5nZWQ6NDI5NTkxNzQiLCJ0IjoxNzIzODIzNjY2fQ==--39f0973a3b0e90775a58a40e8e79413b18de4f5015e07377521e67e2c32385c9" data-view-component="true" class="js-socket-channel"></notification-shelf-watcher>
  <div hidden data-initial data-target="notification-shelf-watcher.placeholder"></div>






  <div
    class="application-main "
    data-commit-hovercards-enabled
    data-discussion-hovercards-enabled
    data-issue-and-pr-hovercards-enabled
  >
        <div itemscope itemtype="http://schema.org/SoftwareSourceCode" class="">
    <main id="js-repo-pjax-container" >
      
      






    
  <div id="repository-container-header" data-turbo-replace hidden></div>




<turbo-frame id="repo-content-turbo-frame" target="_top" data-turbo-action="advance" class="">
    <div id="repo-content-pjax-container" class="repository-content " >
      <a href="https://github.dev/" class="d-none js-github-dev-shortcut" data-hotkey=".,Mod+Alt+.">Open in github.dev</a>
  <a href="https://github.dev/" class="d-none js-github-dev-new-tab-shortcut" data-hotkey="Shift+.,Shift+&gt;,&gt;" target="_blank" rel="noopener noreferrer">Open in a new github.dev tab</a>
    <a class="d-none" data-hotkey=",,Mod+Alt+," target="_blank" href="/codespaces/new/MathforDataScience/DSR_Statistics1/tree/main?resume=1">Open in codespace</a>




    
      
    








<react-app
  app-name="react-code-view"
  initial-path="/MathforDataScience/DSR_Statistics1/blob/main/7_%20Hypotheses/7_4%20F-test.ipynb"
  style="display: block; min-height: calc(100vh - 64px)" 
  data-ssr="true"
  data-lazy="false"
  data-alternate="false"
>
  
  <script type="application/json" data-target="react-app.embeddedData">{"payload":{"allShortcutsEnabled":true,"fileTree":{"7_ Hypotheses":{"items":[{"name":"7_1 t-2-groups.ipynb","path":"7_ Hypotheses/7_1 t-2-groups.ipynb","contentType":"file"},{"name":"7_2 paired t-test.ipynb","path":"7_ Hypotheses/7_2 paired t-test.ipynb","contentType":"file"},{"name":"7_3_Chi^2.ipynb","path":"7_ Hypotheses/7_3_Chi^2.ipynb","contentType":"file"},{"name":"7_4 F-test.ipynb","path":"7_ Hypotheses/7_4 F-test.ipynb","contentType":"file"},{"name":"Chi^2 and ANOVA.xlsx","path":"7_ Hypotheses/Chi^2 and ANOVA.xlsx","contentType":"file"}],"totalCount":5},"":{"items":[{"name":"2_ Descriptive Statistics","path":"2_ Descriptive Statistics","contentType":"directory"},{"name":"3_ Combinatorics","path":"3_ Combinatorics","contentType":"directory"},{"name":"4_ Distributions","path":"4_ Distributions","contentType":"directory"},{"name":"5_ Conditional Prob","path":"5_ Conditional Prob","contentType":"directory"},{"name":"6_ Sampling","path":"6_ Sampling","contentType":"directory"},{"name":"7_ Hypotheses","path":"7_ Hypotheses","contentType":"directory"},{"name":"8_ Model Estimation","path":"8_ Model Estimation","contentType":"directory"},{"name":"Distributions map.pdf","path":"Distributions map.pdf","contentType":"file"},{"name":"Introduction to Statistics _v22.pdf","path":"Introduction to Statistics _v22.pdf","contentType":"file"},{"name":"README.md","path":"README.md","contentType":"file"},{"name":"StatistialTables.pdf","path":"StatistialTables.pdf","contentType":"file"},{"name":"readme.txt","path":"readme.txt","contentType":"file"},{"name":"requirements.txt","path":"requirements.txt","contentType":"file"}],"totalCount":13}},"fileTreeProcessingTime":12.167055,"foldersToFetch":[],"repo":{"id":661665397,"defaultBranch":"main","name":"DSR_Statistics1","ownerLogin":"MathforDataScience","currentUserCanPush":true,"isFork":false,"isEmpty":false,"createdAt":"2023-07-03T13:27:39.000+02:00","ownerAvatar":"https://avatars.githubusercontent.com/u/42959174?v=4","public":true,"private":false,"isOrgOwned":false},"codeLineWrapEnabled":false,"symbolsExpanded":false,"treeExpanded":true,"refInfo":{"name":"main","listCacheKey":"v0:1713097013.0","canEdit":true,"refType":"branch","currentOid":"4bdf4da0692b0574b35b13389bf9db0802909d04"},"path":"7_ Hypotheses/7_4 F-test.ipynb","currentUser":{"id":42959174,"login":"MathforDataScience","userEmail":"hd.stein@web.de"},"blob":{"rawLines":["{"," \"cells\": [","  {","   \"cell_type\": \"markdown\",","   \"id\": \"bf899515\",","   \"metadata\": {},","   \"source\": [","    \"***don't reject H0:***\"","   ]","  },","  {","   \"cell_type\": \"code\",","   \"execution_count\": 4,","   \"id\": \"820d1aff\",","   \"metadata\": {},","   \"outputs\": [","    {","     \"name\": \"stdout\",","     \"output_type\": \"stream\",","     \"text\": [","      \"Test statistic: 0.2837261275904103\\n\",","      \"p-value: 0.7562784116739912\\n\"","     ]","    }","   ],","   \"source\": [","    \"# Import the necessary packages\\n\",","    \"import scipy.stats as stats\\n\",","    \"import numpy as np\\n\",","    \"\\n\",","    \"# Sample data\\n\",","    \"group1 = [82, 93, 61, 74, 69, 70, 53]\\n\",","    \"group2 = [71, 62, 85, 94, 78, 66, 71]\\n\",","    \"group3 = [64, 73, 87, 91, 56, 78, 87]\\n\",","    \"\\n\",","    \"# Perform the one-way ANOVA\\n\",","    \"statistic, pvalue = stats.f_oneway(group1, group2, group3)\\n\",","    \"\\n\",","    \"# Print the test statistic and p-value\\n\",","    \"print(\\\"Test statistic:\\\", statistic)\\n\",","    \"print(\\\"p-value:\\\", pvalue)\"","   ]","  },","  {","   \"cell_type\": \"code\",","   \"execution_count\": 1,","   \"id\": \"5f2a59aa\",","   \"metadata\": {},","   \"outputs\": [","    {","     \"data\": {","      \"image/png\": \"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\",","      \"text/plain\": [","       \"\u003cFigure size 640x480 with 1 Axes\u003e\"","      ]","     },","     \"metadata\": {},","     \"output_type\": \"display_data\"","    }","   ],","   \"source\": [","    \"import numpy as np\\n\",","    \"import matplotlib.pyplot as plt\\n\",","    \"from scipy.stats import f\\n\",","    \"\\n\",","    \"# Constants\\n\",","    \"alpha = 0.05\\n\",","    \"df1 = 2\\n\",","    \"df2 = 18\\n\",","    \"test_statistic = 0.283726128\\n\",","    \"\\n\",","    \"# Create an array of x values\\n\",","    \"x = np.linspace(0, 5, 1000)\\n\",","    \"\\n\",","    \"# Create an array of y values representing the probability density function (PDF)\\n\",","    \"y = f.pdf(x, df1, df2)\\n\",","    \"\\n\",","    \"# Calculate critical value at alpha level\\n\",","    \"critical_value = f.ppf(1 - alpha, df1, df2)\\n\",","    \"\\n\",","    \"# Create two subplots\\n\",","    \"fig, ax = plt.subplots()\\n\",","    \"\\n\",","    \"# Plot the PDF\\n\",","    \"ax.plot(x, y, 'k', label='F-distribution')\\n\",","    \"\\n\",","    \"plt.vlines([critical_value], 0, 0.4, colors='r', label='Significance level')\\n\",","    \"\\n\",","    \"\\n\",","    \"# Highlight the area under the curve past the critical value\\n\",","    \"x_fill = np.linspace(critical_value, 5, 100)\\n\",","    \"y_fill = f.pdf(x_fill, df1, df2)\\n\",","    \"ax.fill_between(x_fill, 0, y_fill, alpha=0.5, color='red', label='Rejection Region (alpha)')\\n\",","    \"\\n\",","    \"# Plot the test statistic\\n\",","    \"ax.plot([test_statistic, test_statistic], [0, f.pdf(test_statistic, df1, df2)], 'b--', label='Test statistic')\\n\",","    \"\\n\",","    \"# Set title and labels\\n\",","    \"ax.set_title('One-way ANOVA F-test')\\n\",","    \"ax.set_xlabel('Value')\\n\",","    \"ax.set_ylabel('Density')\\n\",","    \"\\n\",","    \"# Add legend\\n\",","    \"ax.legend()\\n\",","    \"\\n\",","    \"# Show plot\\n\",","    \"plt.grid(True)\\n\",","    \"plt.show()\\n\"","   ]","  },","  {","   \"cell_type\": \"code\",","   \"execution_count\": 30,","   \"id\": \"96d00dbb\",","   \"metadata\": {},","   \"outputs\": [","    {","     \"name\": \"stdout\",","     \"output_type\": \"stream\",","     \"text\": [","      \"Critical value: 3.554557145661787\\n\"","     ]","    }","   ],","   \"source\": [","    \"print(\\\"Critical value:\\\", critical_value)\"","   ]","  },","  {","   \"cell_type\": \"markdown\",","   \"id\": \"01ab2f61\",","   \"metadata\": {},","   \"source\": [","    \"***reject H0 (H1):***\"","   ]","  },","  {","   \"cell_type\": \"code\",","   \"execution_count\": 27,","   \"id\": \"d8c78182\",","   \"metadata\": {},","   \"outputs\": [","    {","     \"name\": \"stdout\",","     \"output_type\": \"stream\",","     \"text\": [","      \"Test statistic: 4.482229319048109\\n\",","      \"p-value: 0.02632250379579181\\n\"","     ]","    }","   ],","   \"source\": [","    \"# Import the necessary packages\\n\",","    \"import scipy.stats as stats\\n\",","    \"import numpy as np\\n\",","    \"\\n\",","    \"# Sample data\\n\",","    \"group1 = [62, 53, 73, 54, 69, 70, 43]\\n\",","    \"group2 = [71, 62, 85, 74, 78, 66, 61]\\n\",","    \"group3 = [54, 63, 95, 91, 95, 78, 87]\\n\",","    \"\\n\",","    \"# Perform the one-way ANOVA\\n\",","    \"statistic, pvalue = stats.f_oneway(group1, group2, group3)\\n\",","    \"\\n\",","    \"# Print the test statistic and p-value\\n\",","    \"print(\\\"Test statistic:\\\", statistic)\\n\",","    \"print(\\\"p-value:\\\", pvalue)\"","   ]","  },","  {","   \"cell_type\": \"code\",","   \"execution_count\": 28,","   \"id\": \"a86e65ac\",","   \"metadata\": {},","   \"outputs\": [","    {","     \"data\": {","      \"image/png\": \"iVBORw0KGgoAAAANSUhEUgAAAjcAAAHHCAYAAABDUnkqAAAAOXRFWHRTb2Z0d2FyZQBNYXRwbG90bGliIHZlcnNpb24zLjcuMSwgaHR0cHM6Ly9tYXRwbG90bGliLm9yZy/bCgiHAAAACXBIWXMAAA9hAAAPYQGoP6dpAACG4UlEQVR4nO3dd1QUVxsG8GeX3hVFQEDBLiogdhRbrFgwJgYVG589EguxxoJoYsESNRpbrLFXEmNFbMTe0KjYFStiowssu/P9Qdi4UqQsDCzP75w5sjN37rxzWdl3770zIxEEQQARERGRhpCKHQARERGROjG5ISIiIo3C5IaIiIg0CpMbIiIi0ihMboiIiEijMLkhIiIijcLkhoiIiDQKkxsiIiLSKExuiIiISKMwuSEiKuHWr18PiUSCx48fix0KkVowuaECdfPmTfTp0wc2NjbQ09ND+fLl4e3tjZs3b4odWpEnl8tRvnx5SCQSHDx4MNMy06dPh0QigaWlJRITEzNst7e3R+fOnTOsT0hIwMyZM+Hk5ARDQ0OYmZnB3d0dGzduxMdPZBk5ciQkEgnu37+fZZyTJ0+GRCLB9evXcxV7Zk6cOAGJRJLp0rNnz8/uP2vWLAQFBeX4eHlx5swZTJ8+HdHR0QV6HAL+/PNPuLq6Ql9fHxUqVIC/vz9SU1NztK9CoUBgYCAcHBygr68PJycnbN26NUOZ9evXo2vXrrCzs4ORkRFq166NH3/8EUlJSZnW++rVKwwdOhQ2NjbQ19eHvb09Bg4cmO9zJfVickMFZs+ePXB1dUVISAh8fHzw66+/YuDAgTh+/DhcXV2xd+9esUMs0o4dO4aXL1/C3t4emzdvzrZsVFQUli9fnqN6X716hUaNGmH69OmoU6cOFi1ahJkzZ0IqlaJ///7o1asX5HI5AMDb2xsAsGXLlizr27p1K+rUqQMnJ6c8xZ6ZkSNH4vfff1dZfH19P7tfYSU3AQEBTG4K2MGDB9GtWzeUKlUKv/zyC7p164Yff/wR3333XY72nzx5MiZMmIC2bdvil19+QYUKFdC7d29s27ZNWSYxMRE+Pj54/fo1hg0bhkWLFqFhw4bw9/dHx44d8emjF58+fYoGDRrg4MGDGDZsGH799VcMGjQIr1+/Vuu5kxoIRAXg/v37gqGhoVCjRg0hKipKZdvr16+FGjVqCEZGRsKDBw9EirDo69evn+Dq6iosXrxYMDIyEuLj4zOU8ff3FwAILi4ugqWlpZCYmKiyvWLFikKnTp1U1rVv316QSqXCH3/8kaG+sWPHCgCEOXPmKNdVqVJFqFGjRqYxnjlzJkP5nMaemePHjwsAhJ07d+ao/KeMjIyE/v3752nfnJo3b54AQHj06FGBHqcwrVu3rsidk6Ojo+Ds7CzIZDLlusmTJwsSiUQIDw/Pdt9nz54JOjo6wogRI5TrFAqF4O7uLtja2gqpqamCIAhCcnKycPr06Qz7BwQECACE4OBglfUdO3YUHBwchDdv3uTn1KgQMLmhAjF06FABgHDq1KlMt588eVIAIAwdOlS5Lv2D+t69e0L//v0FMzMzwdTUVBgwYICQkJCQoY7ff/9dcHV1FfT19YXSpUsLXl5ewpMnTz4b25gxYwRzc3NBoVAo1/n6+goAhMWLFyvXRUZGCgCEX3/9VRCEtD+EU6dOFVxdXQVTU1PB0NBQaNasmXDs2DHlPgqFQqhYsaLQtWvXDMf98OGDYGpqKgwZMuSzMSYmJgomJiZCYGCg8PLlS0EqlQqbN2/OUC69zfbs2SMAEBYsWKCy/dPk5uzZswIA4X//+1+mx5XJZELVqlWF0qVLKxOl9GNcvnw5Q3lfX19BIpEIERERuY49M/lJbgBkWD5OdJ49eyb4+PgI5cqVE3R1dQVHR0dhzZo1GepZsmSJ4OjoKBgYGAilSpUS6tWrp4w/vS0+XXKbFKQnEydPnhSGDBkimJubCyYmJkLfvn2Fd+/eZbvvzp07BQDCiRMnMmxbsWKFAED4559/BEEQhGvXrgn9+/cXHBwcBD09PcHS0lLw8fHJ8OGcWXIDQPD3989wjIoVK2ZIIN+/fy+MGjVKsLW1FXR1dYXKlSsLc+bMEeRyuUq5Fy9eCOHh4UJKSkq253jz5k0BgLBs2TKV9c+fPxcACDNnzsx2/2XLlgkAhJs3b6qs37JliwBACA0NzXb/69evCwCEJUuWKNeFh4er/D348OHDZ8+DxMNhKSoQ+/btg729Pdzd3TPd3rx5c9jb22P//v0Ztn3zzTeIi4vD7Nmz8c0332D9+vUICAhQKfPTTz+hX79+qFq1KhYuXIjRo0cjJCQEzZs3/+xwgbu7O969e6cy7yc0NBRSqRShoaEq69JjBYDY2Fj89ttvaNmyJebOnYvp06fj9evXaN++PcLCwgAAEokEffr0wcGDB/Hu3bsMbRIbG4s+ffpkGx+QNtcgPj4ePXv2hJWVFVq2bJnt8I67uztat26NwMBAfPjwIcty+/btAwD069cv0+3a2tro3bs33r9/j9OnTwPIemhKLpdjx44dcHd3R4UKFfIce2bi4uLw5s0blUWhUGS7z++//w49PT24u7srh7KGDh0KIG0ornHjxjh69Ch8fX2xePFiVKlSBQMHDsSiRYuUdaxevRojR46Eo6MjFi1ahICAALi4uOD8+fMAgO7du6NXr14AgJ9//ll5HAsLi1ydXzpfX1+Eh4dj+vTp6NevHzZv3oxu3bplGA75WKdOnWBsbIwdO3Zk2LZ9+3bUqlULtWvXBgAEBwfj4cOH8PHxwS+//IKePXti27Zt8PDwyPYYuZGYmIgWLVpg06ZN6NevH5YsWYKmTZti0qRJ8PPzUyk7adIk1KxZE8+fP8+2zqtXrwIA6tevr7K+fPnysLW1VW7Pbn8jIyPUrFlTZX3Dhg1V6s9KZGQkAKBs2bLKdUePHgUAWFpa4osvvoCBgQEMDAzQsWNHTsQuisTOrkjzREdHCwAET0/PbMt17dpVACDExsYKgvDft+JPexW+/PJLoUyZMsrXjx8/FrS0tISffvpJpdw///wjaGtrZ1j/qaioKJVvYNHR0YJUKhV69OghWFpaKsuNHDlSpYcnNTVVSE5OVqnr/fv3gqWlpUrMd+7cEQAIy5cvz3C+9vb2Kj1GWencubPQtGlT5etVq1YJ2traGYb40tvs9evXyt6whQsXKrd/2nPTrVs3AYDw/v37LI+d3gv08bfWBg0aCLa2tirfxA8dOiQAEFauXJmn2DOT3nOT2ZKT3pGshqUGDhwoWFtbZ+ix6Nmzp2BmZqbspfL09BRq1aqV7THUMSyV3lNSr149lW//gYGBAoBMhww/1qtXL6FcuXLK4RVBEJS9ZDNmzFCu+3SYUhAEYevWrRl6VfPTczNz5kzByMhIuHv3rkq5iRMnClpaWiq9qf37989R26W3cWY9sQ0aNBAaN26c7f6dOnUSKlWqlGF9QkKCAECYOHFitvu3adNGMDU1Vfl/MnLkSAGAUKZMGaFDhw7C9u3bhXnz5gnGxsZC5cqVM+1dJvGw54bULi4uDgBgYmKSbbn07bGxsSrrhw0bpvLa3d0db9++VZbbs2cPFAoFvvnmG5Vv9lZWVqhatSqOHz+e7XEtLCxQo0YNnDp1CgBw+vRpaGlpYdy4cXj16hXu3bsHIK3nplmzZpBIJAAALS0t6OrqAki7yuLdu3dITU1F/fr1ceXKFWX91apVQ6NGjVR6K969e4eDBw/C29tbWV9W3r59i8OHDyt7CADgq6++gkQiyfTberrmzZujVatW2fbe5OR3k9nvpU+fPnj27JmyzYC0nhxdXV306NEj37F/atq0aQgODlZZrKyscrz/xwRBwO7du9GlSxcIgqDynmnfvj1iYmKUv79SpUrh2bNnuHjxYp6OlVtDhgyBjo6O8vXw4cOhra2NAwcOZLufl5cXoqKicOLECeW6Xbt2QaFQwMvLS7nOwMBA+XNSUhLevHmDxo0bA4DKezY/du7cCXd3d5QuXVqlbdu0aQO5XK7ynlm/fj0EQYC9vX22daa/f/X09DJs09fXz7Z3Mn3/rPb9uP7MzJo1C0ePHsWcOXNQqlQp5fr4+HgAgJWVFfbv349vvvkGY8eOxerVq/HgwYNsJ91T4WNyQ2qX/uGY/kGalaw+aD8e4gCA0qVLAwDev38PALh37x4EQUDVqlVhYWGhsoSHhyMqKgpA2h+jyMhI5fLxFQ3u7u7KYafQ0FDUr18f9evXh7m5OUJDQxEbG4tr165lGFbbsGEDnJycoK+vjzJlysDCwgL79+9HTEyMSrl+/frh9OnTiIiIAJD2ASCTydC3b9/PtF7a0IJMJkPdunVx//593L9/H+/evcuQMGVm+vTpiIyMxIoVKzLdnpPfTWa/l549e0JLS0v5BzwpKQl79+5Fx44dlb+f/Mb+sTp16qBNmzYqS/oHU0xMjMrv9dPhv0+9fv0a0dHRWLVqVYb3i4+PDwAo3zMTJkyAsbExGjZsiKpVq2LEiBHK4bmCULVqVZXXxsbGsLa2Vg5zZHWuHTp0gJmZGbZv367cd/v27XBxcUG1atWU6969e4dRo0bB0tISBgYGsLCwgIODg7Judbh37x4OHTqUoW3btGkD4L+2zY30pCw5OTnDtqSkJJWkLav9s9r34/o/tX37dkyZMgUDBw7E8OHDM43pm2++gVT630dnjx49oK2tjTNnzmQbExUubbEDIM1jZmYGa2trlfueZOb69euwsbGBqampynotLa1Mywv/zhFQKBTK+6dkVtbY2BgAMH/+fJW5OhUrVlR+aDRr1gyrV6/Gw4cPERoaCnd3d0gkEjRr1gyhoaEoX748FAqFSnKzadMmDBgwAN26dcO4ceNQrlw5aGlpYfbs2Xjw4IFKDD179sSYMWOwefNm/PDDD9i0aRPq16+P6tWrZ9smAJRJQNOmTTPd/vDhQ1SqVCnTbc2bN0fLli0RGBiYoQcMAGrWrImgoCBcv35dOZfoU+m/N0dHR+W6cuXKoW3btti9ezeWLVuGffv2IS4uTjkfRx2x59SoUaOwYcMG5esWLVqo9GB8Kn2uTp8+fdC/f/9My6Rfxl6zZk3cuXMHf/31Fw4dOoTdu3fj119/xbRp0zLM+yoMWZ2rnp4eunXrhr179+LXX3/Fq1evcPr0acyaNUtl/2+++QZnzpzBuHHj4OLiAmNjYygUCnTo0OGzc5iykn6bgHQKhQJt27bF+PHjMy3/cbKVU9bW1gCAly9fws7OTmXby5cvlXNnstv/+PHjEARBpaf05cuXANLm7nwqODgY/fr1Q6dOnTL9cpC+j6Wlpcp6LS0tlClTRvnli4oGJjdUIDp37ozVq1fj77//RrNmzTJsDw0NxePHj5UTPnOjcuXKEAQBDg4O2f7h7Nevn8qxP/62lp60BAcH4+LFi5g4cSKAtORg+fLlKF++PIyMjFCvXj3lPrt27UKlSpWwZ88elT+Y/v7+GY5tbm6OTp06YfPmzfD29sbp06dVJq5m5dGjRzhz5gx8fX3RokULlW0KhQJ9+/bFli1bMGXKlCzrmD59Olq2bImVK1dm2Na5c2fMnj0bGzduzDS5kcvl2LJlC0qXLp0hQfH29sahQ4dw8OBBbNmyBaampujSpYtaY8+J8ePHq0zK/rjnKLMhPwsLC5iYmEAulyt7E7JjZGQELy8veHl5ISUlBd27d8dPP/2ESZMmQV9f/7PDirlx7949tGrVSvk6Pj4eL1++hIeHB4Dsz9XLywsbNmxASEgIwsPDIQiCypDU+/fvERISgoCAAEybNk3lmDlRunTpDJPzU1JSlAlCusqVKyM+Pj5HbZtTLi4uAIBLly6pJDIvXrzAs2fPMGTIkM/u/9tvvyE8PFwlSU+fGJ5e/8frv/zyS9SvXx87duyAtnbGj8b0vwWfToZOSUnBmzdv8jypnAqIeNN9SJPdvXtXMDAwEBwdHTNM4nz79q3g6OgoGBoaCvfv31eu/3hy7Mc+nex4//59QUtLS+jdu3eGybkKhSLH96CwsbERqlevLkgkEuXlt+fPnxcACNWqVRO++OILlfLdu3cXKlWqpDKp9ty5c4JEIhEqVqyYof70ibk9evQQtLW1hVevXn02ppkzZ2Y5kVIQBKFt27Yq95zJqs1atmwpWFlZCZaWlhnuc9OmTRtBKpUK+/bty1D/hAkTBADC7NmzM2yLi4sTDA0Nhfbt2wt6enrCgAED8hV7ZvJ7nxtLS8tMJ7IPGDBA0NXVVV4i/bGPJzpn9t4ZN26cIJVKlRPfly9fLgAQrl69mqcYBeHzE4qDgoI+W0dKSopgbm4u+Pj4CI0bNxYaNmyosj0mJkYAIEyfPl1l/bfffpthsnBmE4rr168v1K1bV2XfX375JcMl9tOnTxcACIcOHcoQ4/v371XuU5PTS8EFQRBq1KghODs7q0yanjJliiCRSIRbt24p10VHRwvh4eFCdHS0ct3Tp0+zvM+NjY2NSp23bt0SypQpI9SqVSvby/CTkpKEcuXKCZUqVRI+fPigXL9y5UoBgLBjx47PnhMVHiY3VGB27Ngh6OjoCNbW1sKUKVOENWvWCFOnThXKly8v6OrqCrt371Ypn9PkRhAEYfbs2QIAwc3NTQgMDBSWL18ujB8/Xqhataowb968HMXXs2dPAYBQp04d5TqZTCYYGRll+qGwdu1aAYDQtWtXYeXKlcLEiROFUqVKCbVq1co0uUlOThbKlCkjABA6duyYo5hq1KghuLi4ZLk9/cMl/Z4zWbXZx1cdfZrcvHjxQqhZs6YglUqFPn36CCtXrhSWLFkitGzZUgAgeHl5qfzx/1jv3r2V9X56g7Pcxp6Z/CY3Hh4egpGRkbBgwQJh69atwrlz5wRBSLtnUcWKFQVDQ0Nh1KhRwsqVK4XZs2cLPXr0EEqXLq3c39XVVfDw8BB++ukn4bfffhO+//57QU9PT+jSpYuyzIULFwQAgoeHh7Bx40Zh69atypsUpv8+jh8/nm2c6e/pOnXqCO7u7sIvv/wi+Pr6ClKpVGjWrFmOrqgTBEEYNGiQYGxsLEgkkgz3OBIEQWjevLlgaGgoTJ48Wfj111+Fbt26Cc7OzjlKbtLvmdO9e3dh+fLlwrBhwwQHBwehbNmyKslNQkKC4OrqKmhrawuDBg0Sli9fLsyfP1/o37+/YGRkpPLezOnVUoIgCPv27RMkEonQunVrYdWqVcLIkSMFqVQqDB48ONO2XLduncr6cePGCQCEIUOGCKtXrxY6deokAFC551JsbKxgZ2cnSKVSYc6cOcLvv/+uspw5c0alzg0bNggAhAYNGghLliwRxo4dK+jo6Aju7u5Z/p8hcTC5oQJ1/fp1oVevXoK1tbWgo6MjWFlZCb169cr0G3RukhtBEITdu3cLzZo1E4yMjAQjIyOhRo0awogRI4Q7d+7kKLb0G30NHz5cZX2bNm0EAEJISIjKeoVCIcyaNUuoWLGioKenJ9StW1f466+/hP79+2ea3AjCf9+St2zZ8tl4Ll++LAAQpk6dmmWZx48fCwCEMWPGCIKQdZsJgiC0aNEi0+RGENJ6YaZPny7UqlVLMDAwEExMTISmTZsK69evz/aDdf/+/QIAwdraWqUHKy+xZya/yc3t27eF5s2bCwYGBhl6GF69eiWMGDFCsLOzU74Xv/jiC2HVqlXKMitXrhSaN28ulClTRtDT0xMqV64sjBs3ToiJiVE5zsyZMwUbGxtBKpWqvDe///77HN1B99Ob+JUuXVowNjYWvL29hbdv3+b4fIODgwUAgkQiEZ4+fZph+7Nnz4Qvv/xSKFWqlGBmZib06NFDePHiRY6SG7lcLkyYMEEoW7asssfu/v37md7ELy4uTpg0aZJQpUoVQVdXVyhbtqzg5uYmzJ8/X6WXJjfJjSAIwt69ewUXFxdBT09PsLW1FaZMmZKh1yer5EYulyv/v+rq6gq1atUSNm3apFLm0aNHWd564NP3T7qtW7cKzs7Oypsi+vr6Knv1qOiQCIKa7uRERBmMGTMGa9asQWRkJAwNDcUOhwpYw4YNUbFiRezcuTPbcuvXr4ePjw8uXryY4UZ1RJR/nFBMVECSkpKwadMmfPXVV0xsSoD02wd8fHUTEYmDyQ2RmkVFReHo0aPYtWsX3r59i1GjRokdEhUCU1PTTO+tQkSFj8kNkZrdunUL3t7eKFeuHJYsWZLhslMiIipYnHNDREREGoWPXyAiIiKNwuSGiIiINEqJm3OjUCjw4sULmJiYqPU26kRERFRwBEFAXFwcypcvr/Lw0syUuOTmxYsXGR7ERkRERMXD06dPYWtrm22ZEpfcmJiYAEhrnE+fRp1fMpkMR44cQbt27aCjo6PWuuk/bOfCwXYuHGznwsO2LhwF1c6xsbGws7NTfo5np8QlN+lDUaampgWS3BgaGsLU1JT/cQoQ27lwsJ0LB9u58LCtC0dBt3NOppRwQjERERFpFCY3REREpFGY3BAREZFGKXFzboiIigu5XA6ZTCZ2GBpDJpNBW1sbSUlJkMvlYoejsfLTzrq6up+9zDsnmNwQERUxgiAgMjIS0dHRYoeiUQRBgJWVFZ4+fcr7nBWg/LSzVCqFg4MDdHV18xUDkxsioiImPbEpV64cDA0N+UGsJgqFAvHx8TA2NlZL7wBlLq/tnH6T3ZcvX6JChQr5et8zuSEiKkLkcrkysSlTpozY4WgUhUKBlJQU6OvrM7kpQPlpZwsLC7x48QKpqan5uoycv10ioiIkfY6NoaGhyJEQFb704aj8zolickNEVARxKIpKInW975ncEBERkUYRNbk5deoUunTpgvLly0MikSAoKOiz+5w4cQKurq7Q09NDlSpVsH79+gKPk4iICoe9vT0WLVqkfJ3Tz4bcatmyJUaPHp3lcQvyWFTwRE1uEhIS4OzsjGXLluWo/KNHj9CpUye0atUKYWFhGD16NAYNGoTDhw8XcKRERPQ5AwYMgEQiybDcv38/z3W+fPkSHTt2zFHZ3CRCe/bswcyZM/McV2ZOnDgBiUSS4RL+gjgWZU/Uq6U6duyY4zctAKxYsQIODg5YsGABAKBmzZr4+++/8fPPP6N9+/YFFWaOvXnzBhEREWKHQUQkmg4dOmDdunUq6ywsLPJcn5WVVX5DUpGSkgIAMDc3V2u92SnMY1GaYnUp+NmzZ9GmTRuVde3bt8+2uy85ORnJycnK17GxsQDSrkhQ550/9+3bh6+++gpVq1bFoEGD1FYvZZT+e+OdWwsW27lwfNrOMpkMgiBAoVBAoVCIGVquCYIAXV1dlCtXLsO2zM4lKioKgwYNQkhICKysrDBjxgxlPenltbS0sHv3bnTr1g0pKSn4/vvvsWfPHrx//x6WlpYYOnQoJk6ciEqVKgEAvvzySwBAxYoV8fDhQwQEBOCPP/7At99+i9mzZyMiIgIymQwtW7aEs7Mzfv75Z2U8sbGx6NmzJ/bt24dSpUph0qRJ+PbbbwEAjx8/RuXKlXH58mW4uLgAAKKjo1GmTBmEhITA3t4erVq1AgCULl0aANCvXz+sW7cOrVu3VjnW+/fvMXr0aPz1119ITk5G8+bNsXjxYlStWhUAsH79evj5+WHr1q3w8/PD06dP0bRpU6xduxbW1tb5+yUVAkEQlP/m9j2sUCggCAJkMhm0tLRUtuXmb1GxSm4iIyNhaWmpss7S0hKxsbH48OEDDAwMMuwze/ZsBAQEZFh/5MgRtV5q+f79ewDAgwcP8Mcff/AyzkIQHBwsdgglAtu5cKS3s7a2NqysrBAfH4+UlBQIgoDExERRYsrtDQRlMhlSU1OVXyI/p2/fvoiMjMSff/4JHR0dTJgwAVFRUUhKSlKp48OHD4iNjcUvv/yCP/74A2vWrIGtrS2eP3+O58+fIzY2FkePHkXVqlWxbNkyfPHFF9DS0kJsbCySk5Nx//597NixAxs2bIBUKkVcXBxSU1ORkpKiPI5CocD8+fMxZswYjB07FseOHcPo0aNhY2ODVq1aIT4+HkDadIr0feLi4gAAiYmJMDMzw8aNG9GvXz9cvHgRJiYm0NfXR2xsbIZj9e3bFw8fPsTmzZthYmKCgIAAeHh44Ny5c9DR0UFSUhISExMRGBiIX3/9FVKpFEOHDsXo0aOxevXqHP8+xJbePrmRkpKCDx8+4NSpU0hNTVXZlpv/B8UqucmLSZMmwc/PT/k6NjYWdnZ2aNeuHUxNTdV6rFmzZuHhw4fQ19eHh4eHWuum/8hkMgQHB6Nt27b5uskTZY/tXDg+beekpCQ8ffoUxsbG0NfXR0JCAmxtbUWJLTY2FkZGRjkur6Ojg8OHD6vE26FDB+zYsSND2bt37+Lo0aM4d+4cGjRoAABYt24datWqBX19fZW/zwYGBjA1NUVUVBSqV6+O9u3bQyKRoHbt2soy6eWtrKyUPSAAoKenh5SUFGzevBlly5ZFXFwcTExMoK2tDV1dXeV+UqkUbm5u8Pf3BwC4urri8uXLWLVqFTw9PWFsbAwAMDIyUu6T3ithaGiI0qVLw8bGBgBQqVIllCpVShnDx8e6d+8eDh48iNDQULi5uQEAtm7diooVK+LYsWPo0aMH9PX1IZPJsGrVKlSuXBkA8N1332HmzJlq/9wqCIIgKNs5t5d2JyUlwcDAAM2bN4e+vr7KtpwmzUAxS26srKzw6tUrlXWvXr2Cqalppr02QNobW09PL8N6HR0dtf/Bbt68OR4+fIjTp08ru0ap4BTE75AyYjsXjvR2lsvlkEgkkEqlykUsuT2+RCJBq1atsHz5cuU6IyMjbN26FUOHDlWuO3jwIN69ewdtbW00aNBAeQxHR0eUKlVKef6fxuHj44O2bduiZs2a6NChAzp37ox27dplG7NEIkHFihVhaWmpTEbSP3A/PY6bm1uG14sWLVKp89OfP16XWZmP45BKpbhz5w60tbXRpEkTZRkLCwtUr14dd+7cUe5raGiokqSVL18eUVFRxeLOyh+3c27jlUqlkEgkmf7dyc3foWKV3DRp0gQHDhxQWRccHIwmTZqIFJGq5s2bY/369QgNDRU7FCLSEIaGhsohETGOnVtGRkaoUqWKyrquXbuiUaNGytc2NjY4cuRIrut2dXXFo0ePcPDgQRw9ehTffPMN2rRpg127dn02pvxK/5BOn08CFOx8tE8/yCUSicqxKXuiJjfx8fEqlwg+evQIYWFhMDc3R4UKFTBp0iQ8f/4cGzduBAAMGzYMS5cuxfjx4/G///0Px44dw44dO7B//36xTkFF8+bNAQCXL19WdskREeWHRCJRy4ezmExMTDL8PaxRowZSU1Nx+fJl5bDUnTt3PvskdFNTU3h5ecHLywtff/01OnTogHfv3sHc3FzZ85VX586dy/C6Zs2aAP674uvly5eoW7cuACAsLEylfE4eHVCzZk2kpqbi/PnzymGpt2/f4s6dO3B0dMxz7KRK1P6tS5cuoW7duso3ip+fH+rWrYtp06YBSHsTPXnyRFnewcEB+/fvR3BwMJydnbFgwQL89ttvReIycACoUKECLC0tIZfLcfr0abHDISIqsqpXr44OHTpg6NChOH/+PC5fvoxBgwZlOcUAABYuXIitW7fi9u3buHv3Lnbu3AkrKyvl/BZ7e3uEhIQgMjJSeZFHbpw+fRqBgYG4e/culi1bhp07d2LUqFEA0ub9NG7cGHPmzEF4eDhOnjyJKVOmqOxfsWJFSCQS/PXXX3j9+nWmPW5Vq1aFp6cnBg8ejL///hvXrl1Dnz59YGNjA09Pz1zHTJkTNblp2bIlBEHIsKTfdXj9+vU4ceJEhn2uXr2K5ORkPHjwAAMGDCj0uLNTq1YtAMDJkydFjoSIqGhbt24dypcvjxYtWqB79+4YMmRIppeRpzMxMUFgYCDq16+PBg0a4PHjxzhw4IByyGjBggUIDg6GnZ2d8ktzbnz//ffKL90//vgjFi5cqPLlee3atUhNTUW9evUwevRo/Pjjjyr729jYICAgABMnToSlpSV8fX2zPO969eqhc+fOaNKkCQRBwIEDBzi3TY0kQgkbxIuNjYWZmRliYmLUPutcJpNh7NixWLJkCRo3boyzZ8+qtX5KI5PJcODAAXh4ePCPQQFiOxeOT9s5KSkJjx49goODQ4arRSh/FAoFYmNjYWpqWiwm5hZX+Wnn7N7/ufn85m9XzdJ7bi5duiTaJEAiIqKSjMmNmllaWqJixYpITU3FmTNnxA6HiIioxGFyUwDc3d0BcN4NERGRGJjcFIAWLVoAQIbJ0ERERFTwmNwUgPSem4sXLyIhIUHkaIiIiEoWJjcFwMHBAXZ2dpDJZLxiioiIqJAxuSkAEomEQ1NEREQiYXJTQFq2bAmAk4qJiIgKG5ObApKe3Jw/f57zboiIiAoRk5sCUqlSJVSoUAEymYxPCSciIipETG4KiEQiwRdffAEACAkJETkaIiKikkNb7AA0WZs2bbBu3TomN0SUfzExQGJi4R3P0BAwMyu8431kwIABiI6ORlBQUIEdo2XLlnBxccGiRYsK7BiFrbDO6e3bt6hZsyYuXLgAe3v7HO/Xs2dPNGjQAN9//33BBfcvJjcFqHXr1gCAsLAwvH37FmXKlBE5IiIqlmJigJkzgTdvCu+YZcsCU6fmKsEZMGAANmzYAADQ1taGra0tevTogRkzZuTqIaCLFy+GOp/pnP6hv3DhQuW6PXv2FMoDYdXVJjlRWOf0008/wdPTM1eJDQBMmTIFzZs3x6BBg2BWwIkzk5sCZGVlhVq1auHmzZs4fvw4vv76a7FDIqLiKDExLbExMEjrUSms4yUm5rr3pkOHDli3bh1kMhkuX76M/v37QyKRYO7cuTmuo6A/+ADA3Ny8wI+RTh1tkhOFcU6JiYlYs2YNDh8+nOt9a9eujcqVK2PTpk0YMWJEAUT3H865KWCcd0NEamNoCJiYFPySjwRKT08PVlZWsLOzQ7du3dCmTRsEBwcrtysUCsyePRsODg4wMDCAs7Mzdu3apVLHgAED0K1btxzvo1AoEBgYiCpVqkBPTw8VKlTATz/9pKzr5MmTWLx4MbS0tFC6dGk8fvwYLVu2xOjRo5V1JCcnY+TIkShXrhz09fXRrFkzXLx4Ubm9ZcuWGDlyJMaPHw9zc3NYWVlh+vTphdYmcXFx8Pb2hpGREaytrfHzzz9nOIfCOKcDBw5AT08PjRs3zrDtwoULaNmyJYyMjNCwYUNcunQJq1atQteuXZVlunTpgm3btuWo3fKDyU0BS09ujh49KnIkRESF68aNGzhz5gx0dXWV62bPno2NGzdixYoVuHnzJsaMGYM+ffpke0+wz+0zadIkzJkzB1OnTsWtW7ewZcsWWFpaAkgb4mrSpAkGDx6M58+f4/bt27Czs8twjPHjx2P37t3YsGEDrly5gipVqqB9+/Z49+6dssyGDRtgZGSE8+fPIzAwEDNmzFBJUgqyTfz8/HD69Gn8+eefCA4ORmhoKK5cuZLtsQrinEJDQ1GvXr0M68+dO4cWLVqgU6dOCAsLQ7Vq1TBz5kzMnTsXAQEBynINGzbEhQsXkJycnKP2yisOSxWwFi1aQCqV4v79+3jy5AkqVKggdkhERAXmr7/+grGxMVJTU5GcnAypVIqlS5cCSOtJmDVrFo4ePYomTZoASLttxt9//42VK1cq7+z+sc/t4+rqisWLF2Pp0qXo378/AKBy5cpo1qwZgLQhLl1dXRgaGsLKygqGhobQ0tJSOUZCQgKWL1+O9evXo2PHjgCA1atXIzg4GGvWrMG4ceMAAE5OTvD39wcAVK1aFUuXLkVISAjatm1boG0SFxeHDRs2YMuWLcovzOvWrUP58uWzPGZBnVNERESmx/Xz80OPHj0wbtw4KBQKfPXVVxg0aBA8PT1Rt25dZbny5csjJSUFkZGRqFixYrbtlh9MbgqYmZkZGjRogPPnzyMkJAQ+Pj5ih0REVGBatWqF5cuXIyEhAT///DO0tbXx1VdfAQDu37+PxMTEDB+cKSkpKh+AH/vcPuHh4UhOTlZ+6OfFgwcPIJPJ0LRpU+U6HR0dNGzYEOHh4cp1Tk5OKvtZW1sjKirqs/Xnt00ePnwImUyGhg0bKrebmZmhevXqhX5OHz58yDAR+tmzZzh79izmz5+vXKetrQ1BEFR6bQDAwMAAQNrcnYLE5KYQtGnThskNEZUIRkZGqFKlCgBg7dq1cHZ2xpo1azBw4EDEx8cDAPbv3w8bGxuV/fT09DKt73P7REdHq/kMsvbplUgSiQQKheKz+6m7TdQpt+dUtmxZvH//XmVderLk6uqqXHfv3j00bNgQderUUSmbPiRmYWGRr7g/h3NuCsHHk4rVeXkjEVFRJpVK8cMPP2DKlCn48OEDHB0doaenhydPnqBKlSoqS2bzYAB8dp+qVavCwMAg24s2dHV1IZfLs9xeuXJl6Orq4vTp08p1MpkMFy9ehKOjY94bIBN5aZNKlSpBR0dHZTJwTEwM7t69W+jnVLduXdy6dUtlXUxMDLS0tCCRSACkJTBLly6FYSYT02/cuAFbW1uULVs2zzHkBJObQtCkSRPo6+sjMjJSpTuQiEjT9ejRA1paWli2bBlMTEwwduxYjBkzBhs2bMCDBw9w5coV/PLLL8p7wXzqc/vo6+tjwoQJGD9+PDZu3IgHDx7g3LlzWLNmjbIOe3t7nD9/Ho8fP8bbt28z9EwYGRlh+PDhGDduHA4dOoRbt25h8ODBSExMxMCBA0VvExMTE/Tv3x/jxo3D8ePHcfPmTQwcOBBSqVSZUHyqoM6pffv2uHnzpkrvjYuLC+RyOQIDA3H79m307t0bFSpUwK1btxAREaGyf2hoKNq1a5fn4+cUh6UKQfoleEePHkVISIjavwkQUQlRWHcoVuNxtLW14evri8DAQAwfPhwzZ86EhYUFZs+ejYcPH6JUqVJwdXXFDz/8kGUdn9tn6tSp0NbWxrRp0/DixQtYW1tj2LBhyv3Hjh2L/v37o3bt2vjw4QMePHiQ4Rhz5syBQqFA3759ERcXh/r16+Pw4cMoXbq02toiP22ycOFCDBs2DJ07d4apqSnGjx+Pp0+fZnsjwII4pzp16sDV1RU7duzA0KFDAQBVqlTBjBkzsHjxYsyaNQteXl5YsWIFevTogQ4dOii/1CclJSEoKAiHDh3K8/FzSiKUsHGS2NhYmJmZISYmBqampmqtWyaT4cCBA/Dw8MgwjjlnzhxMmjQJXbt2xR9//KHW45Y02bUzqQ/buXB82s5JSUl49OgRHBwc/vvgKiZ3KFaXXr16QUtLC5s2bVJrvQqFArGxsTA1NYVUWrwHLhISEmBjY4MFCxYUSO9Sdvbv349x48bhxo0bmbZjVu28fPly7N27F0eOHMmy7kzf///Kzec3e24KSfq8mxMnTiA1NRXa2mx6IsohM7O0REPDny2VmpqKu3fv4uzZs8peAUpz9epV3L59Gw0bNkRMTAxmzJgBAPD09Cz0WDp16oR79+7h+fPnWc6VyoyOjg5++eWXAozsP/yELSSurq4wNzfHu3fvcP78eZXL84iIPsvMTLQHWRaWGzduwM3NDa1atVIZVqI08+fPx507d6Crq4t69eohNDS0wCfmZuXjOyHn1KBBg9QfSBaY3BQSLS0ttGnTBjt27MCRI0eY3BARfcLFxaXA739SXNWtWxeXL18WO4xio3gPOhYz7du3B4A8PXCMiIiIcobJTSFKv/zt4sWLKs/2ICIiIvVhclOIbG1tUatWLSgUCj5Ik4iIqIAwuSlkHJoiIiIqWExuCtnHyU0Ju8UQERFRoWByU8jc3d2hr6+P58+fZ3g+BxEREeUfk5tCZmBggObNmwPg0BQREVFBYHIjAs67ISIiKjhMbkSQntycOnUKHz58EDkaIiLKqfXr16NUqVL5qsPe3h6LFi1SSzyUOSY3InB0dISNjQ2SkpIQGhoqdjhERPkikUiyXaZPn56vuoOCgvIdX17qyCwJ8fLywt27d3O0f1aJ0MWLFzFkyJBcx0M5x+RGBBKJhENTRKQxXr58qVwWLVoEU1NTlXVjx44VO0S1MTAwQLly5fJVh4WFBQwNDdUUEWWGyY1ImNwQkaawsrJSLmZmZpBIJCrrtm3bhpo1a0JfXx81atTAr7/+qtw3JSUFvr6+sLa2hr6+PipWrIjZs2cDSOs5AYAvv/wSEolE+fpTOa1DS0sLTk5OAIAHDx7A09MTlpaWMDY2RoMGDVRurtqyZUtERERgzJgxyh4oIGNvzLVr19CqVSuYmJjA1NQU9erVw6VLl3DixAn4+PggJiYmQw/Wpz1C0dHRGDp0KCwtLaGvr4/atWvjr7/+yuuvg8AHZ4qmTZs2kEqluHnzJp4+fZqrx8YTUcmTkJD1Ni0tQF8/Z2WlUsDA4PNljYxyF19WNm/ejGnTpmHp0qWoW7curl69isGDB8PIyAj9+/fHkiVL8Oeff2LHjh2oUKECnj59iqdPnwJIG74pV64c1q1bhw4dOkBLSyvTY+S0jnbt2ikfzBkfHw8PDw/89NNP0NPTw8aNG9GlSxfcuXMHFSpUwJ49e+Ds7IwhQ4Zg8ODBWZ6ft7c36tati+XLl0NLSwthYWHQ0dGBm5sbFi1ahGnTpuHOnTsAAGNj4wz7KxQKdOzYEXFxcdi0aRMqV66MW7duZXmulDNMbkRibm6Oxo0b48yZMzhw4ACGDh0qdkhEVIRl8rmo5OEB7N//3+ty5YCsHq7dogVw4sR/r+3tgTdvMpZT1z1G/f39sWDBAnTv3h0A4ODggFu3bmHlypXo378/njx5gqpVq6JZs2aQSCSoWLGicl8LCwsAQKlSpWBlZZXlMXJTR2xsLADA2dkZzs7OynIzZ87E3r178eeff8LX1xfm5ubQ0tKCiYnJZ489btw41KhRAwBQtWpV5baPe7GycvToUVy4cAHh4eGoVq0aAKBSpUpZlqec4bCUiDp16gQA2P/xXyUiIg2RkJCABw8eYODAgTA2NlYuP/74Ix48eAAAGDBgAMLCwlC9enWMHDkSR44cyfVx8lJHfHw8xo4di5o1a6JUqVIwNjZGeHg4njx5kqtj+/n5YdCgQWjTpg3mzJmjPK+cCgsLg62trTKxIfVgciMiDw8PAEBISAiSkpJEjoaIirL4+KyX3btVy0ZFZV324EHVso8fZ15OPTGnVbR69WqEhYUplxs3buDcuXMAAFdXVzx69AgzZ87Ehw8f8M033+Drr7/O1XHyUsfYsWOxd+9ezJo1C6GhoQgLC0OdOnWQkpKSq2NPnz4dN2/eRKdOnXDs2DE4Ojpi7969Od7f4OMxQlIbDkuJyNnZGTY2Nnj+/DlOnDiBDh06iB0SERVRuZkDU1Blc8vS0hLly5fHw4cP4e3tnWU5U1NTeHl5wcvLC19//TU6dOiAd+/ewdzcHDo6OpDL5Z89Vm7rOH36NAYMGIAvv/wSQFoi9vjxY5Uyurq6OTp2tWrVUK1aNYwZMwa9evXCunXr8OWXX+ZofycnJzx79gx3795l740asedGRBKJRNl7w6EpItJEAQEBmD17NpYsWYK7d+/in3/+wbp167Bw4UIAwMKFC7F161bcvn0bd+/exc6dO2FlZaW8Isne3h4hISGIjIzE+/fvMz1GbuqIjo4GkDY3Zs+ePQgLC8O1a9fQu3dvKBQKlXrt7e1x6tQpPH/+HG8ymZj04cMH+Pr64sSJE4iIiMDp06dx8eJF1KxZU7l/fHw8QkJC8ObNG+Vk5o+1aNECzZs3x1dffYXg4GA8evQIBw8exKFDh/LS3PQvJjci+3jeDZ8STkSaZtCgQfjtt9+wbt061KlTBy1atMD69evh4OAAADAxMUFgYCDq16+PBg0a4PHjxzhw4ACk0rSPpwULFiA4OBh2dnaoW7dupsfIaR0VK1ZUPttv4cKFKF26NNzc3NClSxe0b98erq6uKvXOmDEDjx8/RuXKlZUTkz+mpaWFt2/fol+/fqhWrRq++eYbdOzYEQEBAQAANzc3DBs2DF5eXrCwsEBgYGCm8e/evRsNGjRAr1694OjoiPHjx+eox4iyJhFK2CdqbGwszMzMEBMTA1NTU7XWLZPJcODAAXh4eEBHRydH+8THx6NMmTJISUlBeHi4csY9ZS0v7Uy5x3YuHJ+2c1JSEh49egQHBwfof3x9N+WbQqFAbGwsTE1NlYkPqV9+2jm7939uPr/52xWZsbExWrZsCYBDU0REROrA5KYI4LwbIiIi9WFyUwSkz7sJDQ1FTEyMyNEQEREVb0xuioAqVaqgWrVqSE1NRXBwsNjhEBERFWtMbooI3q2YiIhIPZjcFBHpyc2BAwcy3GuBiIiIco7JTRHh7u4OExMTREVF4dKlS2KHQ0REVGwxuSkidHV1lY9f+OOPP0SOhoiIqPhiclOEeHp6AmByQ0RElB+iJzfLli2Dvb099PX10ahRI1y4cCHb8osWLUL16tVhYGAAOzs7jBkzRmOeqO3h4QEtLS3cvHkTDx48EDscIiK1kkgkCAoKUmud06dPh4uLS4Z1lpaWyuMNGDAA3bp1U+txC9uJEycgkUiUz8YqDI8fP4ZEIkFYWFihHVNdRE1utm/fDj8/P/j7++PKlStwdnZG+/btERUVlWn5LVu2YOLEifD390d4eDjWrFmD7du344cffijkyAtG6dKl0aJFCwDsvSGi4uX169cYPnw4KlSoAD09PVhZWaF9+/Y4ffq0sszLly/RsWNHtR537NixCAkJUb4ODw9HQEAAVq5cqTze4sWLsX79erUel4o2UZObhQsXYvDgwfDx8YGjoyNWrFgBQ0NDrF27NtPyZ86cQdOmTdG7d2/Y29ujXbt26NWr12d7e4qT9KEpdX+7ISIqSF999RWuXr2KDRs24O7du/jzzz/RsmVLvH37VlnGysoKenp6aj2usbExypQpo3yd3uvt6empPJ6ZmZnyCeFUMoiW3KSkpODy5cto06bNf8FIpWjTpg3Onj2b6T5ubm64fPmyMpl5+PCh8oFzWUlOTkZsbKzKAqQ9rK4glvzWnX4up0+fxsuXLwsszuK+FOTvkAvbWex2FgQBCoWi2Czv3r1DaGgoZs+ejRYtWsDOzg7169fHhAkT0LlzZ2U5iUSCPXv2KF///fffcHFxgb6+PurXr489e/ZAIpHgypUrUCgUOHbsGCQSCYKDg1G/fn0YGhrCzc0N4eHhyjr8/f3h4uKi/LlLly7KzxOJRAKFQoH+/fvD09MT6c+JlsvlmDt3LqpUqQI9PT1UqFABP/74o7LO8ePHo1q1ajA0NESlSpUwZcoUJCcnZzjmhg0bYG9vDzMzM3h5eSEmJkZZJjU1NdtjREREoEePHihVqhTMzc3RtWtXPHz4MNt2BqDy+tSpU3B3d1dO0/juu+8QFxcHhUKBSZMmoVGjRhnqcHZ2RkBAgPL1qlWrULNmTejr66NGjRpYtmxZtsfMyZLeznl9HwuCkO3/lZzQznFJNXvz5g3kcjksLS1V1ltaWuL27duZ7tO7d2+8efMGzZo1gyAISE1NxbBhw7Idlpo9e7by8fMfO3LkCAwNDfN3ElnI712G7e3t8fjxY8yePRtffPGFmqLSPLybc+FgOxeO9HbW1taGlZUV4uPjkZKS8l+BhITCDcjIKMdFFQoFjI2NsXPnTjg6OmbbO/PhwwflF82uXbuibdu2WLFiBZ4+fYoJEyYAABISEhAbG4vExEQAwA8//ICAgACUKVMGfn5+GDBgAA4fPgwg7QusXC5HbGwsBg8eDEtLS4wYMUL5ORIbGwuZTIbU1FTExcUBSBvK2rhxI2bNmoXGjRsjMjIS9+7dU3751dXVxS+//AJra2vcvHkTo0ePho6ODkaNGqU85oMHD7B7925s2bIF0dHR+N///ocZM2Zg6tSpAAB/f/8sjyGTydC+fXs0aNAA+/fvh7a2NubPn48OHTrg77//hq6uboZ2S2+LuLg4SKVSPHr0CB4eHpg8eTIWLVqEN2/eYPz48Rg2bBiWLVuGrl27Ys6cObh27RocHBwApA3ZXb9+HevWrUNsbCx27NgBf39/BAYGwsnJCdevX8eoUaMglUrRq1cvxMfHq/w+ciu9vXMjJSUFHz58wKlTp5CampppG+SIIJLnz58LAIQzZ86orB83bpzQsGHDTPc5fvy4YGlpKaxevVq4fv26sGfPHsHOzk6YMWNGlsdJSkoSYmJilMvTp08FAMKbN2+ElJQUtS4JCQlCUFCQkJCQkK96Jk+eLAAQunbtqvYYNWFRVztzYTsXheXTdo6NjRVu3rwpJCQkCHK5XLkIQKEuHx87J8uOHTuE0qVLC/r6+oKbm5swceJE4erVqyplAAi7d+8W5HK5sGzZMqFMmTIq57ly5UoBgHD58mVBLpcLISEhAgDhyJEjyjL79u0TACj3mzZtmuDs7Kzcvnv3bgGfxN+vXz+ha9euQmpqqvDkyRNBT09PWLlyZY7PLTAwUKhXr57y9bRp0wRDQ0MhOjpauW7s2LFCo0aNBLlcLkRHR2d7jA0bNgjVq1cXUlNTles+fPggGBgYCAcPHsx0n/S2ePv2rSCXy4X//e9/wuDBg1XKnDx5UpBKpcq2cXZ2FgICApTbJ06cqIxRLpcLlStXFjZt2qRSx4wZM4QmTZoIcrlcePDggcrvI6dLamqq8P79e5Xzy+mSkJAg3Lx5U4iNjc3wf+XNmzcCACEmJuazOYZoPTdly5aFlpYWXr16pbL+1atXsLKyynSfqVOnom/fvhg0aBAAoE6dOkhISMCQIUMwefJkSKUZR9n09PQy/Raho6MDHR0dNZxJRvmtu3v37vjpp59w9OhRpKamwsDAQI3RaY6C/B3Sf9jOhSO9neVyOSQSCaRSaaZ/0wpLbo/do0cPdOnSBaGhoTh37hwOHjyIefPm4bfffsOAAQNU6pVKpbh37x6cnJxUetAbN26sUiY9BhcXF+XPNjY2ANJ6/ytUqACJRKIS76f/AmlXaaUvd+/eRXJyMtq2bZvlOW7fvh1LlizBgwcPEB8fj9TUVJiamirLSyQS5XBUuvLlyyMqKgpSqRR37tzJ9hj//PMP7t+/r7I/ACQlJeHRo0eZ7vPxeUmlUly/fh3Xr1/Hli1blGWEf4eBIiIiULNmTXh7e2Pt2rWYNm0aBEHAtm3b4OfnB6lUioSEBDx48ACDBw/G0KFDlXWkpqbCzMxMpf1z+15MH85Kfx/nRvpwYmZ/d3Lzd0i05EZXVxf16tVDSEiI8hI9hUKBkJAQ+Pr6ZrpPYmJihobS0tICAOUYnyaoW7cu7Ozs8PTpUxw9elQ5hkxEJdi/QwRFmb6+Ptq2bYu2bdti6tSpGDRoEPz9/VWSm7z4+EMtPZnJ62Nq9PX1s91+9uxZeHt7IyAgAO3bt4eZmRm2bduGBQsWZBlTelzpMX3uC2l8fDzq1auHzZs3Z9hmYWGRk9NAfHw8hg4dipEjR2bYVqFCBQBAr169MGHCBFy5cgUfPnzA06dP4eXlpdwfAFavXo1GjRqp7J/+uVqciZbcAICfnx/69++P+vXro2HDhli0aBESEhLg4+MDAOjXrx9sbGwwe/ZsAECXLl2wcOFC1K1bF40aNcL9+/cxdepUdOnSRSN+GekkEgm6du2KZcuW4Y8//mByQ0S5mgNTVDg6OmZ55Wf16tWxadMmJCcnK3vXL168WOAxVa5cGQYGBggJCVGOAnzszJkzqFixIiZPnqxcFxERkatjVK1aNdtjuLq6Yvv27ShXrhxMTU1zfxL/1nHr1i1UqVIlyzK2trZo0aIFNm/ejA8fPqBt27YoV64cgLT5reXLl8fDhw/h7e2dpxiKMlGTGy8vL7x+/RrTpk1DZGQkXFxccOjQIeUk4ydPnqj01EyZMgUSiQRTpkzB8+fPYWFhgS5duuCnn34S6xQKjKenJ5YtW4Z9+/ZBLpdrVPJGRJrl7du36NGjB/73v//ByckJJiYmuHTpEgIDA5W3t/hU7969MXnyZAwZMgQTJ07EkydPMH/+fAD/9c4UBH19fYwfPx7jx4+Hrq4umjZtitevX+PmzZsYOHAgqlatiidPnmDbtm3KCb979+7N9TEmTJiQ5TG8vb0xb948eHp6YsaMGbC1tUVERAT27NmD8ePHw9bW9rPHmDBhAho3bgxfX18MGjQIRkZGuHXrFoKDg7F06VJlOW9vb/j7+yMlJQU///yzSh0BAQEYOXIkzMzM0KFDByQnJ+PSpUt4//49/Pz8cnXORY2oyQ0A+Pr6ZjkMdeLECZXX2tra8Pf3h7+/fyFEJq4WLVrA1NQUUVFROHfuHJo2bSp2SEREmTI2NkajRo3w888/48GDB5DJZLCzs8PgwYOzvJrV1NQU+/btw/Dhw+Hi4oI6depg2rRp6N2792eHjvJrypQp0NHRwbRp0/DixQtYW1tj2LBhAICuXbtizJgx8PX1RXJyMjp16oSpU6di+vTpuTrG1KlToa2tnekxDA0NcerUKUyYMAHdu3dHXFwcbGxs8MUXX+S4J8fJyQknT57E5MmT4e7uDkEQULlyZeWwU7qvv/4avr6+0NLSynCX5kGDBsHQ0BDz5s3DuHHjYGRkhDp16mD06NG5OteiSCJo0mSVHIiNjYWZmRliYmLy3B2YFZlMprzvjjomYPbp0webN2/GmDFjsHDhQjVEqBnU3c6UObZz4fi0ndMnlTo4OBT4h3xRs3nzZvj4+CAmJqZALqRQKBSIjY1VmRxM6pefds7u/Z+bz2/+douwr776CgCwe/dujZowTUQEABs3bsTff/+NR48eISgoCBMmTMA333zDK0Qp35jcFGEdOnSAkZERnjx5gkuXLokdDhGRWkVGRqJPnz6oWbMmxowZgx49emDVqlVih0UagMlNEWZgYKB8HMPu3btFjoaISL3Gjx+Px48fK4cifv755wK7czyVLExuijgOTREREeUOk5sizsPDA/r6+rh//z6uX78udjhERERFHpObIs7ExATt27cHwKEpIiKinGByUwx8PDRFRERE2WNyUwx06dIFOjo6uHXrFsLDw8UOh4iIqEhjclMMlCpVCm3atAHA3hsiIqLPYXJTTHBoiog01YkTJyCRSBAdHZ1tOXt7eyxatEhtx23ZsmWBP2pgwIABGR57QAWPyU0x4enpCS0tLYSFheHBgwdih0NElEFkZCS+++47VKpUCXp6erCzs0OXLl0QEhKS7X5ubm54+fIlzMzMAADr169HqVKlMpS7ePEihgwZUhChk4ZhclNMlC1bFq1atQIA7NixQ+RoiIhUPX78GPXq1cOxY8cwb948/PPPPzh06BBatWqFESNGZLmfTCaDrq4urKysPvs0cAsLC97kj3KEyU0x0rNnTwDAtm3bRI6EiEjVt99+C4lEggsXLuCrr75CtWrVUKtWLfj5+eHcuXPKchKJBMuXL0fXrl1hZGSEn376SWVY6sSJE8qHZ0okEkgkEuUTuT8dloqOjsbQoUNhaWkJfX191K5dG3/99RcA4O3bt+jVqxdsbGxgaGiIOnXqYOvWrTk+n7t370IikeD27dsq63/++WdUrlwZACCXyzFw4EA4ODjAwMAA1atXx+LFi7OtN7OhNRcXF5WnjkdHR2PQoEGwsLCAqakpWrdujWvXruU4dmJyU6x8+eWX0NHRwfXr13Hr1i2xwyGiQpSQkpDlkpSalOOyH2QfclQ2N969e4dDhw5hxIgRMDIyyrD90yGm6dOn48svv8Q///yD//3vfyrb3NzcsGjRIpiamuLly5d4+fIlxo4dm6FOhUKBjh074vTp09i0aRNu3bqFOXPmQEtLC0Da06Xr1auH/fv348aNGxgyZAj69++Py5cv5+icqlWrhvr162Pz5s0q6zdv3ozevXsrY7C1tcXOnTtx69YtTJs2DT/88EO+e9d79OiBqKgoHDx4EJcvX4arqyu++OILvHv3Ll/1liTaYgdAOWdubo727dvjr7/+wvbt2xEQECB2SERUSIxnG2e5zaOqB/b33q98XW5+OSTKEjMt26JiC5wYcEL52n6xPd4kvslQTvDP+eNe7t+/D0EQUKNGjRyV7927N3x8fJSvHz58qPxZV1cXZmZmkEgksLKyyrKOo0eP4sKFCwgPD0e1atUAAJUqVVJut7GxUUmKvvvuOxw6dAhBQUHKIf7P8fb2xtKlSzFz5kwAab05ly9fxqZNmwAAOjo6Kn+HHRwccPbsWezYsQPffPNNjo7xqb///hsXLlxAVFQU9PT0AADz589HUFAQdu3axTlHOcSem2Lm46EpPmuKiIqC3P4tql+/fr6PGRYWBltbW2Vi8ym5XI6ZM2eiTp06MDc3h7GxMY4cOYJnz57l+Bg9e/bE48ePlcNqmzdvhqurq0oSt2zZMtSrVw8WFhYwNjbGqlWr8OTJkzyf17Vr1xAfH48yZcrA2NhYuTx69IgXk+QCe26Kma5du0JfXx93795FWFgY6tatK3ZIRFQI4ifFZ7lNS6ql8jpqbFSWZaUS1e+0j0c9zldcAFC1atVM56dkJbOhq9wyMDDIdvu8efOwePFiLFq0CHXq1IGRkRFGjRqFlJSUHB/DysoKrVu3xpYtW9C4cWNs2bIFw4cPV27ftm0bxo4diwULFqBJkyYwMTHBvHnzcP78+SzrlEqlGZJBmUym/Dk+Ph7W1tY4ceJEhn0zu4KMMsfkppgxMTFB586dsWvXLmzbto3JDVEJYaSb84SgoMpmJX3IfNmyZRg5cmSG5CU6OjpXH8y6urqQy+XZlnFycsKzZ89w9+7dTHtvTp8+DU9PT/Tp0wdA2vyYe/fuoWrVqjmOA0gbmho/fjx69eqFhw8fKnvP04/h5uaGb7/9Vrnuc70rFhYWePnypfJ1bGwsHj16pHzt6uqKyMhIaGtrw97ePlex0n84LFUMcWiKiIqaZcuWQS6Xo2HDhti9ezfu3buH8PBwLFmyBE2aNMlVXfb29oiPj0dISAjevHmDxMSM84datGiB5s2b46uvvkJwcDAePXqEgwcP4tChQwDSepOCg4Nx5swZhIeHY+jQoXj16lWuz6t79+6Ii4vD8OHD0apVK5QvX165rWrVqrh06RIOHz6Mu3fvYurUqbh48WK29bVu3Rq///47QkND8c8//6B///7KSdAA0KZNGzRp0gTdunXDkSNH8PjxY5w5cwaTJ0/GpUuXch1/ScXkphjy8PCAsbExnjx5onKJJRGRWCpVqoQrV66gVatW+P7771G7dm20bdsWISEhWL58ea7qcnNzw7Bhw+Dl5QULCwsEBgZmWm737t1o0KABevXqBUdHR4wfP17Z4zNlyhS4urqiffv2aNmyJaysrODp6Znr8zIxMUGXLl1w7do1eHt7q2wbOnQounfvDi8vLzRq1Ahv375V6cXJzKRJk9CiRQt07twZnTp1Qrdu3ZSXlgNpl8ofOHAAzZs3h4+PD6pVq4aePXsiIiIClpaWuY6/pJIIJeyrf2xsLMzMzBATEwNTU1O11i2TyXDgwAF4eHhAR0dHrXV/qm/fvti0aRNGjhz52fsqaJrCbOeSjO1cOD5t56SkJDx69AgODg7Q19cXOzyNolAoEBsbC1NTU0il/G5fUPLTztm9/3Pz+c3fbjGVPjS1Y8eOz45NExERlSRMboqptm3bonTp0oiMjMx0Vj0REVFJxeSmmNLV1cXXX38NAMobShERERGTm2Ktb9++AIBdu3ZlejUBERFRScTkphhr2rSp8pLJP/74Q+xwiEiNSti1HkQA1Pe+Z3JTjEmlUuUNqn7//XeRoyEidUi/Mo29sVQSpd9B+uN7/+QF71BczPXt2xc//vgjjhw5glevXvE+CETFnJaWFkqVKoWoqLRHKBgaGkIikYgclWZQKBRISUlBUlISLwUvQHltZ4VCgdevX8PQ0BDa2vlLT5jcFHPVqlVDw4YNceHCBWzduhWjR48WOyQiyqf0p2GnJzikHoIg4MOHDzAwMGDCWIDy085SqRQVKlTI9++HyY0G6Nu3Ly5cuIDff/+dyQ2RBpBIJLC2tka5cuVUHqpI+SOTyXDq1Ck0b96cN6YsQPlpZ11dXbX0qjG50QA9e/bEmDFjcOXKFdy6dQuOjo5ih0REaqClpZXvuQf0Hy0tLaSmpkJfX5/JTQEqCu3MQUcNULZsWXTs2BEAJxYTERExudEQ6fe82bx5MxQKhcjREBERiYfJjYbo0qULzMzM8PTpU5w8eVLscIiIiETD5EZD6Ovro0ePHgA4NEVERCUbkxsN0q9fPwDAzp07ER8fL3I0RERE4mByo0GaNWuGKlWqID4+Hjt37hQ7HCIiIlEwudEgEokE//vf/wAAa9asETkaIiIicTC50TD9+/eHVCrF6dOncefOHbHDISIiKnRMbjRM+fLllfe8Wbt2rcjREBERFT4mNxpo4MCBAIANGzbw1u1ERFTiMLnRQJ07d0a5cuXw6tUrHDx4UOxwiIiIChWTGw2ko6OjvGMxJxYTEVFJw+RGQ6VfNbV//35ERkaKHA0REVHhYXKjoRwdHdG4cWPI5XJs3LhR7HCIiIgKDZMbDZY+sXjt2rUQBEHkaIiIiAoHkxsN5uXlBUNDQ9y5cwenT58WOxwiIqJCweRGg5mYmKBnz54AgJUrV4ocDRERUeFgcqPhhg0bBgDYsWMH3rx5I3I0REREBY/JjYarX78+XF1dkZKSgnXr1okdDhERUYFjcqPhJBIJhg8fDiBtaEqhUIgcERERUcFiclMC9OrVC6ampnjw4AGOHj0qdjhEREQFislNCWBkZIR+/foBAFasWCFyNERERAWLyU0JkT6x+M8//8Tz589FjoaIiKjgMLkpIWrVqgV3d3fI5XKsXr1a7HCIiIgKjOjJzbJly2Bvbw99fX00atQIFy5cyLZ8dHQ0RowYAWtra+jp6aFatWo4cOBAIUVbvKVPLF69ejVSU1NFjoaIiKhgiJrcbN++HX5+fvD398eVK1fg7OyM9u3bIyoqKtPyKSkpaNu2LR4/foxdu3bhzp07WL16NWxsbAo58uKpe/fusLCwwIsXL7Bv3z6xwyEiIioQoiY3CxcuxODBg+Hj4wNHR0esWLEChoaGWLt2babl165di3fv3iEoKAhNmzaFvb09WrRoAWdn50KOvHjS09NTPi18+fLlIkdDRERUMLTFOnBKSgouX76MSZMmKddJpVK0adMGZ8+ezXSfP//8E02aNMGIESPwxx9/wMLCAr1798aECROgpaWV6T7JyclITk5Wvo6NjQUAyGQyyGQyNZ4RlPWpu151+t///ofAwEAEBwfj+vXrqFmzptgh5VpxaGdNwHYuHGznwsO2LhwF1c65qU+05ObNmzeQy+WwtLRUWW9paYnbt29nus/Dhw9x7NgxeHt748CBA7h//z6+/fZbyGQy+Pv7Z7rP7NmzERAQkGH9kSNHYGhomP8TyURwcHCB1KsuDRo0wIULFzBhwgTlVVTFUVFvZ03Bdi4cbOfCw7YuHOpu58TExByXFS25yQuFQoFy5cph1apV0NLSQr169fD8+XPMmzcvy+Rm0qRJ8PPzU76OjY2FnZ0d2rVrB1NTU7XGJ5PJEBwcjLZt20JHR0etdauToaEh2rVrh1OnTmHDhg0oXbq02CHlSnFp5+KO7Vw42M6Fh21dOAqqndNHXnJCtOSmbNmy0NLSwqtXr1TWv3r1ClZWVpnuY21tDR0dHZUhqJo1ayIyMhIpKSnQ1dXNsI+enh709PQyrNfR0SmwN3dB1q0Obdq0gZOTE65fv46NGzdi7NixYoeUJ0W9nTUF27lwsJ0LD9u6cKi7nXNTl2gTinV1dVGvXj2EhIQo1ykUCoSEhKBJkyaZ7tO0aVPcv39f5flId+/ehbW1daaJDWVOIpFg5MiRAIClS5fysnAiItIool4t5efnh9WrV2PDhg0IDw/H8OHDkZCQAB8fHwBAv379VCYcDx8+HO/evcOoUaNw9+5d7N+/H7NmzcKIESPEOoViq3fv3ihTpgwiIiLw559/ih0OERGR2oia3Hh5eWH+/PmYNm0aXFxcEBYWhkOHDiknGT958gQvX75Ulrezs8Phw4dx8eJFODk5YeTIkRg1ahQmTpwo1ikUWwYGBhg6dCgAYPHixSJHQ0REpD6iTyj29fWFr69vpttOnDiRYV2TJk1w7ty5Ao6qZPj2228RGBiIU6dOISwsDC4uLmKHRERElG+iP36BxGNjY4Ovv/4aAHtviIhIczC5KeHSJxZv2bIly8deEBERFSdMbkq4xo0bo2HDhkhJSeEjGYiISCMwuSnhJBIJvv/+ewDAL7/8kqs7QBIRERVFeUpuHj58qO44SETdu3eHg4MD3r59i/Xr14sdDhERUb7kKbmpUqUKWrVqhU2bNiEpKUndMVEh09bWVvbeLFiwAHK5XOSIiIiI8i5Pyc2VK1fg5OQEPz8/WFlZYejQobhw4YK6Y6NC5OPjgzJlyuDhw4fYs2eP2OEQERHlWZ6SGxcXFyxevBgvXrzA2rVr8fLlSzRr1gy1a9fGwoUL8fr1a3XHSQXM0NBQeb+hefPmQRAEkSMiIiLKm3xNKNbW1kb37t2xc+dOzJ07F/fv38fYsWNhZ2eHfv36qdxdmIq+ESNGQF9fHxcvXsTJkyfFDoeIiChP8pXcXLp0Cd9++y2sra2xcOFCjB07Fg8ePEBwcDBevHgBT09PdcVJhcDCwkL5XK958+aJHA0REVHe5Cm5WbhwIerUqQM3Nze8ePECGzduREREBH788Uc4ODjA3d0d69evx5UrV9QdLxUwPz8/SKVSHDhwADdu3BA7HCIiolzLU3KzfPly9O7dGxEREQgKCkLnzp0hlapWVa5cOaxZs0YtQVLhqVKlCrp37w6AvTdERFQ85Sm5CQ4OxoQJE2Btba2yXhAEPHnyBACgq6uL/v375z9CKnTjx48HkPZIhsePH4sbDBERUS7lKbmpXLky3rx5k2H9u3fv4ODgkO+gSFwNGjRA27ZtkZqairlz54odDhERUa7kKbnJ6jLh+Ph46Ovr5ysgKhqmTJkCAFi7di2eP38ucjREREQ5p52bwn5+fgDSnkc0bdo0GBoaKrfJ5XKcP38eLi4uag2QxNG8eXM0b94cp06dwrx587Bo0SKxQyIiIsqRXCU3V69eBZDWc/PPP/9AV1dXuU1XVxfOzs4YO3aseiMk0UyZMgXt2rXDqlWrMGnSJFhaWoodEhER0WflKrk5fvw4gLRb9S9evBimpqYFEhQVDW3atEHDhg1x4cIF/Pzzz5gzZ47YIREREX1WnubcrFu3jolNCSCRSDB16lQAwLJly/D27VuRIyIiIvq8HPfcdO/eHevXr4epqanyPihZ4YMXNUenTp3g7OyMa9euYcmSJQgICBA7JCIiomzluOfGzMwMEolE+XN2C2kOiUSivHJq8eLFiImJETkiIiKi7OW452bdunWZ/kyar3v37qhZsybCw8OxePFiTJs2TeyQiIiIspSnOTcfPnxAYmKi8nVERAQWLVqEI0eOqC0wKjqkUin8/f0BAAsWLMC7d+9EjoiIiChreUpuPD09sXHjRgBAdHQ0GjZsiAULFsDT0xPLly9Xa4BUNPTo0QN16tRBbGwsFixYIHY4REREWcpTcnPlyhW4u7sDAHbt2gUrKytERERg48aNWLJkiVoDpKJBKpVixowZANLm3rx+/VrkiIiIiDKXp+QmMTERJiYmAIAjR46ge/fukEqlaNy4MSIiItQaIBUdnp6eqFevHhISEvjMKSIiKrLylNxUqVIFQUFBePr0KQ4fPox27doBAKKionj/Gw0mkUgwc+ZMAGn3vXnx4oXIEREREWWUp+Rm2rRpGDt2LOzt7dGoUSM0adIEQFovTt26ddUaIBUtHTp0gJubG5KSkjB79myxwyEiIsogT8nN119/jSdPnuDSpUs4dOiQcv0XX3yBn3/+WW3BUdEjkUjw448/AgBWrVqFJ0+eiBwRERGRqjwlNwBgZWWFunXrQir9r4qGDRuiRo0aagmMiq5WrVqhdevWSElJUQ5TERERFRV5Sm4SEhIwdepUuLm5oUqVKqhUqZLKQpovPalZt24dbt++LXI0RERE/8nVU8HTDRo0CCdPnkTfvn1hbW2tfCwDlRxubm7o2rUr/vzzT0yaNAl79+4VOyQiIiIAeUxuDh48iP3796Np06bqjoeKkTlz5uCvv/5CUFAQTp8+zfcDEREVCXkalipdujTMzc3VHQsVMzVr1sTAgQMBAOPGjYMgCCJHRERElMfkZubMmZg2bZrK86WoZJo+fToMDQ1x9uxZBAUFiR0OERFR3pKbBQsW4PDhw7C0tESdOnXg6uqqslDJUb58eXz//fcAgIkTJ0Imk4kcERERlXR5mnPTrVs3NYdBxdm4ceOwYsUK3L17F2vWrMGwYcPEDomIiEqwPCU3/v7+6o6DijETExP4+/vD19cX06dPR58+fWBsbCx2WEREVELl+SZ+0dHR+O233zBp0iS8e/cOQNrTwp8/f6624Kj4GDJkCKpUqYJXr17xoZpERCSqPCU3169fR7Vq1TB37lzMnz8f0dHRAIA9e/Zg0qRJ6oyPigkdHR0EBgYCAObPn4/Hjx+LGxAREZVYeUpu/Pz8MGDAANy7dw/6+vrK9R4eHjh16pTagqPipVu3bmjVqhWSkpIwfvx4scMhIqISKk/JzcWLFzF06NAM621sbBAZGZnvoKh4kkgkWLRoEaRSKXbu3MlEl4iIRJGn5EZPTw+xsbEZ1t+9excWFhb5DoqKLycnJwwZMgQAMGrUKMjlcpEjIiKikiZPyU3Xrl0xY8YM5T1NJBIJnjx5ggkTJuCrr75Sa4BU/MyYMQOlSpVCWFgY1q5dK3Y4RERUwuT5Jn7x8fGwsLDAhw8f0KJFC1SpUgUmJib46aef1B0jFTMWFhbK2wVMnjwZMTExIkdEREQlSZ7uc2NmZobg4GCcPn0a165dQ3x8PFxdXdGmTRt1x0fF1IgRI7By5Urcvn0bM2bMwIIFC8QOiYiISohcJzcKhQLr16/Hnj178PjxY0gkEjg4OMDKygqCIEAikRREnFTM6OjoYOHChfDw8MCSJUswcOBAODo6ih0WERGVALkalhIEAV27dsWgQYPw/Plz1KlTB7Vq1UJERAQGDBiAL7/8sqDipGKoY8eO8PT0RGpqKr799ls+NZyIiApFrpKb9evX49SpUwgJCcHVq1exdetWbNu2DdeuXcPRo0dx7NgxbNy4saBipWJo8eLFMDAwwMmTJ7Fp0yaxwyEiohIgV8nN1q1b8cMPP6BVq1YZtrVu3RoTJ07E5s2b1RYcFX8VK1bEtGnTAABjx47F+/fvRY6IiIg0Xa6Sm+vXr6NDhw5Zbu/YsSOuXbuW76BIs/j5+aFGjRqIiorClClTxA6HiIg0XK6Sm3fv3sHS0jLL7ZaWlvxmThno6uri119/BQAsX74cly5dEjkiIiLSZLlKbuRyObS1s77ASktLC6mpqfkOijRPq1at4O3tDUEQMHz4cN65mIiICkyuLgUXBAEDBgyAnp5eptuTk5PVEhRppvnz5+Ovv/7CpUuXsHz5cvj6+oodEhERaaBc9dz0798f5cqVg5mZWaZLuXLl0K9fv4KKlYo5KysrzJo1CwAwadIkPHnyROSIiIhIE+Wq52bdunUFFQeVEMOGDcOWLVtw+vRpDBs2DPv37+eNH4mISK3y9GwpdVu2bBns7e2hr6+PRo0a4cKFCznab9u2bZBIJOjWrVvBBkhqI5VK8dtvv0FXVxcHDx7Eli1bxA6JiIg0jOjJzfbt2+Hn5wd/f39cuXIFzs7OaN++PaKiorLd7/Hjxxg7dizc3d0LKVJSlxo1aijvfTNq1Ci8fv1a5IiIiEiTiJ7cLFy4EIMHD4aPjw8cHR2xYsUKGBoaYu3atVnuI5fL4e3tjYCAAFSqVKkQoyV1GT9+PJycnPD27VuMGjVK7HCIiEiDiJrcpKSk4PLlyypPE5dKpWjTpg3Onj2b5X4zZsxAuXLlMHDgwMIIkwqAjo4O1qxZA6lUiq1bt2L//v1ih0RERBoi108FV6c3b95ALpdnuDGgpaUlbt++nek+f//9N9asWYOwsLAcHSM5OVnlEvXY2FgAgEwmg0wmy1vgWUivT931aipnZ2eMGjUKP//8M4YOHYqrV6+iVKlSn92P7Vw42M6Fg+1ceNjWhaOg2jk39Yma3ORWXFwc+vbti9WrV6Ns2bI52mf27NkICAjIsP7IkSMwNDRUd4gAgODg4AKpVxM1btwY1tbWeP78Oby8vHI1RMV2Lhxs58JRnNtZKykJnXv2BAD8tW0b5Pr6IkeUveLc1sWJuts5MTExx2UlgiAIaj16LqSkpMDQ0BC7du1SueKpf//+iI6Oxh9//KFSPiwsDHXr1oWWlpZynUKhAJA2nHXnzh1UrlxZZZ/Mem7s7Ozw5s0bmJqaqvV8ZDIZgoOD0bZtW+jo6Ki1bk129uxZtGrVCgqFAjt37oSnp2e25dnOhYPtXDg0op0TEqBTujQAQPb+PWBkJHJAmdOIti4GCqqdY2NjUbZsWcTExHz281vUnhtdXV3Uq1cPISEhyuRGoVAgJCQk07vX1qhRA//884/KuilTpiAuLg6LFy+GnZ1dhn309PQyvaOyjo5Ogb25C7JuTdS8eXOMGzcOc+fOxbfffosWLVrAwsLis/uxnQsH27lwFOt2/ihuHR0dlddFUbFu62JE3e2cm7pEH5by8/ND//79Ub9+fTRs2BCLFi1CQkICfHx8AAD9+vWDjY0NZs+eDX19fdSuXVtl//Q5Gp+up+IlICAA+/fvx40bNzBs2DDs2rWLN/cjIqI8ET258fLywuvXrzFt2jRERkbCxcUFhw4dUk4yfvLkCaRS0a9YpwKmp6eHjRs3omHDhtizZw+2bNkCb29vscMiIqJiSPTkBgB8fX2zfIjiiRMnst13/fr16g+IRFG3bl34+/tj6tSp8PX1RYsWLWBrayt2WEREVMywS4SKlIkTJ6JBgwaIjo5Gv379IJfLxQ6JiIiKGSY3VKRoa2tj06ZNMDIywvHjxxEYGCh2SEREVMwwuaEip1q1avjll18AAFOnTsX58+dFjoiIiIoTJjdUJA0YMABeXl6Qy+Xo1auX8s7SREREn8PkhookiUSCFStWoGLFinj06BG+/fZbsUMiIqJigskNFVmlSpXCli1boKWlhc2bN+P3338XOyQiIioGmNxQkebm5gZ/f38AwLfffot79+6JHBERERV1TG6oyPvhhx/QvHlzxMfHo0ePHvjw4YPYIRERURHG5IaKPC0tLWzZsgUWFha4du1arp4cTkREJQ+TGyoWbGxssHXrVkilUqxfvx5Hjx4VOyQiIiqimNxQsfHFF19gxowZAIBVq1YhLCxM3ICIiKhIYnJDxcqkSZPg4eGBlJQU9OrVC9HR0WKHRERERQyTGypWpFIp1q5dCwsLCzx48AA+Pj4QBEHssIiIqAhhckPFjrm5OSZMmABdXV0EBQVh9uzZYodERERFCJMbKpaqVKmCRYsWAQCmTJmCffv2iRsQEREVGUxuqNgaNGgQhg8fDkEQ4O3tjVu3bokdEhERFQFMbqhYW7x4MVq0aIG4uDh4enri/fv3YodEREQiY3JDxZqOjg527tyJihUr4v79+/Dy8kJqaqrYYRERkYiY3FCxZ2FhgT/++AOGhoYIDg7G+PHjxQ6JiIhExOSGNIKzszM2btwIAPj555/x22+/iRwRERGJhckNaYyvvvpK+QTxYcOG4ciRIyJHREREYmByQxrF398fffr0gVwux9dff41//vlH7JCIiKiQMbkhjSKRSPDbb78pr6Dy8PDAixcvxA6LiIgKEZMb0jh6enrYu3cvatSogWfPnqFTp06Ii4sTOywiIiokTG5II5UuXRoHDhxAuXLlEBYWhp49e/IScSKiEoLJDWksBwcH7Nu3DwYGBjhw4ACGDBnCh2wSEZUATG5IozVs2BBbt26FVCrFunXrMGHCBLFDIiKiAsbkhjSep6en8r438+bNQ2BgoMgRERFRQWJyQyWCj48P5s2bBwCYMGEC1qxZI3JERERUUJjcUIkxduxY5bDUkCFDsHfvXpEjIiKigsDkhkqU2bNnY+DAgVAoFOjZsyeCg4PFDomIiNSMyQ2VKBKJBCtWrED37t2RkpKCrl274vjx42KHRUREasTkhkocbW1tbN26FZ06dUJSUhI6d+6M0NBQscMiIiI1YXJDJZKuri527dqFdu3aITExER4eHjh79qzYYRERkRowuaESS19fH0FBQWjdujXi4+PRoUMHXLp0SeywiIgon5jcUIlmYGCAP//8E+7u7oiNjUW7du2Y4BARFXNMbqjEMzIywv79+9GkSRO8f/8eX3zxBc6cOSN2WERElEdMbogAmJiY4PDhw2jevLmyB4dXURERFU9Mboj+ZWJigoMHD6Jt27ZISEiAh4cHDh06JHZYRESUS0xuiD5iaGiIP//8E507d0ZSUhK6du2KoKAgscMiIqJcYHJD9Al9fX3s3r0bX3/9NWQyGb7++mts2bJF7LCIiCiHmNwQZUJXVxdbt25Fnz59IJfL4e3tjUWLFokdFhER5QCTG6IsaGtrY8OGDfjuu+8AAGPGjMHEiRMhCILIkRERUXaY3BBlQyqVYvHixZg1axYAYO7cuRgwYABkMpnIkRERUVaY3BB9hkQiwaRJk7B27VpoaWlh48aN8PT0REJCgtihERFRJpjcEOWQj48PgoKCYGBggIMHD6J169Z49eqV2GEREdEnmNwQ5ULnzp0REhICc3NzXLhwAY0aNcKNGzfEDouIiD7C5IYol5o0aYKzZ8+iatWqiIiIgJubG2/2R0RUhDC5IcqDatWq4dy5c2jRogXi4uLQqVMnLF26VOywiIgITG6I8szc3BxHjhyBj48PFAoFvvvuO3z33XdITU0VOzQiohKNyQ1RPujq6mLNmjWYO3cuJBIJli5dig4dOuDNmzdih0ZEVGIxuSHKJ4lEgvHjx2P37t0wMjJCSEgI6tevj6tXr4odGhFRicTkhkhNvvzyS5w7dw5VqlRRTjT+/fffxQ6LiKjEYXJDpEa1a9fGxYsX4eHhgaSkJPTr1w+jRo3iHY2JiAoRkxsiNStVqhT27duHadOmAQCWLFmCL774As+fPxc5MiKikoHJDVEBkEqlCAgIQFBQEExMTBAaGgoXFxccPHhQ7NCIiDRekUhuli1bBnt7e+jr66NRo0a4cOFClmVXr14Nd3d3lC5dGqVLl0abNm2yLU8kJk9PT1y5cgWurq548+YNPDw8MGHCBA5TEREVINGTm+3bt8PPzw/+/v64cuUKnJ2d0b59e0RFRWVa/sSJE+jVqxeOHz+Os2fPws7ODu3atWOXPxVZVapUwZkzZ+Dr6wsACAwMRIsWLRARESFyZEREmkn05GbhwoUYPHgwfHx84OjoiBUrVsDQ0BBr167NtPzmzZvx7bffwsXFBTVq1MBvv/0GhUKBkJCQQo6cKOf09PTwyy+/YNeuXTAzM8PZs2dRt25d7N27V+zQiIg0jqjJTUpKCi5fvow2bdoo10mlUrRp0wZnz57NUR2JiYmQyWQwNzcvqDCJ1Oarr77C1atX0aBBA7x//x7du3fHwIEDERcXJ3ZoREQaQ1vMg7958wZyuRyWlpYq6y0tLXH79u0c1TFhwgSUL19eJUH6WHJyMpKTk5WvY2NjAQAymUzt8x7S6+N8ioJV3NvZ1tYWx48fh7+/PxYuXIi1a9fi+PHjWLt2LZo2bSp2eErFvZ2LC41oZ5kMOsofZUARPReNaOtioKDaOTf1iZrc5NecOXOwbds2nDhxAvr6+pmWmT17NgICAjKsP3LkCAwNDQskruDg4AKpl1QV93Z2d3eHubk5Fi1ahEePHqF169bo3r07evbsCR0dnc9XUEiKezsXF8W5nbWSktD5358PHz4MeRZ/j4uK4tzWxYm62zkxMTHHZSWCIAhqPXoupKSkwNDQELt27UK3bt2U6/v374/o6Gj88ccfWe47f/58/Pjjjzh69Cjq16+fZbnMem7s7Ozw5s0bmJqaquU80slkMgQHB6Nt27ZF6sNJ02haO8fGxsLPzw8bN24EADg7O2PdunWoXbu2qHFpWjsXVRrRzgkJ0CldGgAge/8eMDISOaDMaURbFwMF1c6xsbEoW7YsYmJiPvv5LWrPja6uLurVq4eQkBBlcpM+OTj9ypLMBAYG4qeffsLhw4ezTWyAtImcenp6Gdbr6OgU2Ju7IOum/2hKO5cpUwYbNmyAp6cnhgwZgmvXrqFRo0aYPHkyJk2aBF1dXVHj05R2LuqKdTt/FLeOjo7K66KoWLd1MaLuds5NXaJfLeXn54fVq1djw4YNCA8Px/Dhw5GQkAAfHx8AQL9+/TBp0iRl+blz52Lq1KlYu3Yt7O3tERkZicjISMTHx4t1CkRq0b17d9y4cQNdu3aFTCbD9OnTUa9ePVy8eFHs0IiIihXRkxsvLy/Mnz8f06ZNg4uLC8LCwnDo0CHlJOMnT57g5cuXyvLLly9HSkoKvv76a1hbWyuX+fPni3UKRGpjZWWFoKAgbNu2DRYWFrhx4wYaN26MsWPH5mq8mYioJBM9uQEAX19fREREIDk5GefPn0ejRo2U206cOIH169crXz9+/BiCIGRYpk+fXviBExUAiUQCLy8v3Lp1C97e3lAoFFiwYAGcnJxw9OhRscMjIiryikRyQ0QZlS1bFps2bcJff/0FGxsbPHjwAG3btkXPnj15R24iomwwuSEq4jp16oSbN29i5MiRkEql2L59O2rUqIGFCxfyfh1ERJlgckNUDJiZmWHx4sW4dOkSGjdujPj4eHz//feoV68e/v77b7HDIyIqUpjcEBUjdevWxenTp/Hbb7+hTJky+Oeff+Du7o5+/frh2bNnYodHRFQkMLkhKmakUikGDhyIO3fuYPDgwQCA33//HdWqVcP06dORkJAgcoREROJickNUTJUpUwarVq3ChQsX0KxZM3z48AEBAQGoVq0aNmzYAIVCIXaIRESiYHJDVMw1aNAAp06dws6dO+Hg4IAXL15gwIABaNCgAU6cOCF2eEREhY7JDZEGkEgk+Prrr3Hr1i0EBgbC1NQUV65cQatWrdCxY0dcvXpV7BCJiAoNkxsiDaKvr49x48bh3r17GD58OLS1tXHo0CG4urrCy8sLd+/eFTtEIqICx+SGSAOVK1cOv/76K8LDw9G7d29IJBLs2LEDjo6OGDRoEJ4+fSp2iEREBYbJDZEGq1KlCjZv3oywsDB06dIFcrkca9asQdWqVeHr68skh4g0EpMbohLAyckJf/75J06fPo0WLVogOTkZy5YtQ+XKlTF06FA8evRI7BCJiNSGyQ1RCeLm5objx4/j2LFjaNWqFWQyGVatWoWqVavCx8cH9+7dEztEIqJ8Y3JDVMJIJBK0atUKx44dQ2hoKNq1awe5XI7169ejRo0a8Pb2RlhYmNhhEhHlGZMbohKsWbNmOHz4MM6fP4/OnTtDoVBgy5YtqFu3rvISckEQxA6TiChXmNwQERo2bIh9+/bhypUr6NWrF7S0tBASEoKAgAC4urpiw4YNSElJETtMIqIcYXJDREp169bFli1b8ODBA4waNQr6+vq4efMmBgwYAAcHB8yePRuvX78WO0wiomwxuSGiDCpWrIh58+bht99+w6xZs1C+fHm8ePECP/zwA2xtbdGvXz9cuHBB7DCJiDLF5IaIsmRsbIyxY8fi0aNH2LBhA+rXr4+UlBT8/vvvaNSoERo0aIANGzYgKSlJ7FCJiJSY3BDRZ+nq6qJfv364ePEizp8/j759+0JXVxeXLl3CgAEDYGtriwkTJvBSciIqEpjcEFGuNGzYEBs3bsSzZ88wa9Ys2NnZ4e3btwgMDES1atXQvHlzbNiwAQkJCWKHSkQlFJMbIsoTCwsLTJo0CQ8fPsTevXvh4eEBqVSK0NBQDBgwANbW1hg6dCguXLjAy8mJqFAxuSGifNHW1ka3bt2wf/9+RERE4Mcff0SlSpUQFxeHVatWoVGjRnB2dsbChQvx8uVLscMlohKAyQ0RqY2trS0mT56Me/fu4dixY/D29oa+vj7++ecffP/997C1tUXbtm2xfv16xMbGih0uEWkoJjdEpHZSqRStWrXCpk2b8PLlS/z6669wc3ODQqHA0aNH4ePjA0tLS3zzzTf4448/eINAIlIrJjdEVKBKlSqF4cOH4/Tp03j48CF+/PFH1KhRA0lJSdi5cye6desGKysrDBw4EAcPHmSiQ0T5xuSGiAqNg4MDJk+ejFu3buHy5cvw8/ODtbU13r9/j7Vr18LDwwPlypVDv3798Oeff/L+OUSUJ0xuiKjQSSQSuLq6YsGCBXj69CmOHTuGb7/9FlZWVoiJicHvv/8OT09PWFhYoFevXti1axfi4+PFDpuIigkmN0QkKi0tLbRq1QrLli3D8+fPERoaitGjR8PW1hbx8fHYtm0bevTogbJly6Jjx45YtmwZIiIixA6biIowJjdEVGRIpVI0a9YMP//8MyIiInDu3DmMGzcOlSpVQnJyMg4dOgRfX1/Y29vDyckJkydPxtmzZyGXy8UOnYiKECY3RFQkSaVSNGrUCIGBgbh//z5u3bqFuXPnwt3dHVKpFP/88w9mzZoFNzc3WFtbo3///tiyZQuioqLEDp2IRKYtdgBERJ8jkUhQs2ZN1KxZE+PHj8fbt29x6NAh7Nu3D4cOHcLr16+xceNGbNy4EQDg4uKCdu3aoW3btmjWrBn09fVFPgMiKkxMboio2ClTpgy8vb3h7e0NmUyGv//+G4cOHcKRI0cQFhamXAIDA6Gvr48WLVqgbdu2aNu2LWrXrg2plJ3WRJqMyQ0RFWs6Ojpo1aoVWrVqhblz5+LVq1c4evQogoODceTIEbx8+RKHDx/G4cOHAaQlRu7u7mjZsiVatGgBJycnJjtEGobJDRFpFEtLS2WvjiAIuHnzpjLROXXqFN6+fYugoCAEBQUBSLvJ4MfJjouLC7S0tMQ9CSLKFyY3RKSxJBIJateujdq1a2PMmDFISUnB5cuXcfLkSZw8eRJ///03oqOjsW/fPuzbtw8AYGpqiiZNmqBJkyZwc3NDo0aNYGpqKvKZEFFuMLkhohJDV1dXmbhMnDgRqampuHr1Kk6cOIGTJ08iNDQUsbGxKsNYEokEtWrVUu7XpEkTVK9eHRKJROSzIaKsMLkhohJLW1sbDRo0QIMGDTBu3DjI5XJcu3YNZ8+eVS4PHz7EjRs3cOPGDaxevRoAULp0aTRu3BgNGzZE/fr1Ua9ePVhbW4t8NkSUjskNEdG/tLS04OrqCldXV4wYMQIA8OrVK5Vk59KlS3j//j0OHjyIgwcPKve1trZWJjr16tVD/fr1YWVlJdapEJVoTG6IiLJhaWmJbt26oVu3bgAAmUyGa9eu4dy5c7h06RIuXbqE8PBwvHz5UmXuDgCUL18e9erVg6urK5ydneHk5AQHBwdenUVUwJjcEBHlgo6ODurXr4/69esr1yUkJODatWu4dOkSLl++jEuXLuH27dt48eIFXrx4oZLwGBkZoU6dOnBycoKzszMcHR2RkJAgxqkQaSwmN0RE+WRkZAQ3Nze4ubkp18XHxyMsLAyXL19GWFgYrl+/jps3byIhIQHnzp3DuXPnVOr44Ycf4OTkhNq1ayvvxlyjRg0YGxsX9ukQFXtMboiICoCxsTGaNWuGZs2aKdelpqbi3r17uHbtGq5fv65cnj59ioiICERERKj08gCAnZ0datasCUdHR2XSU7NmTZQtW7awT4mo2GByQ0RUSLS1tZXJSc+ePQGkzeHZsWMHrK2tcfPmTdy6dQvh4eEIDw9HVFQUnj59iqdPn+LIkSMqdZUtWxY1a9ZEtWrVULVqVVSpUgVVq1ZF5cqVYWRkJMbpERUZTG6IiERmbGwMd3d3tG7dWmX9u3fvlInOx0lPREQE3rx5g9DQUISGhmaor3z58spkp0qVKiqJD4e5qCRgckNEVESZm5ujadOmaNq0qcr6hIQE3LlzB+Hh4bh//z7u37+Pe/fu4f79+3j79q1yIvOpU6cy1GllZQV7e/tMlwoVKsDAwKCwTo+owDC5ISIqZoyMjJT34/nU+/fvVZKd9H/v37+PN2/eIDIyEpGRkRkmNKfLKvmxs7ODra0tH0VBxQKTGyIiDVK6dGnlXZc/9f79ezx8+BARERF4/PixyvLo0SPEx8d/NvkxMTGBra2tylKxbFkM/Hf727dvYW5oyMdTkKiY3BARlRClS5dW3kH5U4Ig4P379xmSnvTE59mzZ4iOjkZcXJxy7k86Q0CZ3FSoWBEKfX3Y2tjAxtYWNjY2sLa2hpWVFaysrFR+Njc3ZxJEBYLJDRERQSKRwNzcHObm5pkOdwFp9+55/vw5nj17hmfPnil/fvnkPoycgwEAwjwgKSkJ9x88wP0HD7I9po6ODizLlYN1+fLKhOfTJMjCwgIWFhYwNTVlIkQ5xuSGiIhyxNjYGNWrV0f16tVVNyQkAP9ehZXUtStemJvj2bt3eB4Tg2exsXgVH4/IpCS8TEpCZFISIpOT8S4lBTKZDM+eP8ez588/e2wdHR2ULVMGFuXKoWzZssqkJ6ufy5QpA21tfsSVVPzNExGR2ujr66NSxYqoVLFi5gUEAZDLkZyYiKiYGETGxCAyNhYvY2MRmZCAyMTEtATo32ToTUoK4lNTIZPJ8DIyEi8jI3McS+lSpVC2bFmYlykDc3NzmJmZITY2FhcuXICFhQVKly6t7K1K/7l06dLQ09NTU2uQWJjcEBFR4ZFIAG1t6Jmaws7UFHZ2dlmXFQQgNRUfEhPxJjYWb+Li8Do+Pm1JSMCbDx/wOikJr5OT8SYlBa+Tk/H6314hAcD76Gi8j44G7t9XqfbAgQPZhmhoaAjz0qVR+pPEx8zMTLmYmppm+VpfX59DaCJjckNERPmSlJqEr3qn/bxbLoe+uiqWSAAdHRiYmcHOzAzZpEFp/u0Vkicn411cHF7HxeFNfDzeJybiXWIi3iQn42KlSjC/ehUx/yZB71NS8C4lBe9kMkT/mxQlJiYiMTExR8NlmdHW1s406fn0Z1NTU5iYmMDY2DjLRU9Pj4lSHjC5ISKifJEr5DhQ7d+fwwXxAvm3V0hLWxsWRkawsLJS2SyTSnHA2RketWtDR6H4b8O/PUSKlBTEJCTgfUIC3iUk4F1iYlpi9OED3n34gJjkZMTIZIiVyRAjkyEmNVXl5ziZDALSniH29u1bvH37Nt+npKWlBWNj488mQemLiYkJjIyMYGRkBENDQxgYGMDQ0FC5fPxaR0dHYxMnJjdERFSy/dtDJNXRQWkjI5QGUCk3+ysUacmRTIb4Dx8Qk5iI2A8fEPPvEpuUlJYYJScjNjkZMSkpaUlSaioSUlMR//EilyNOposkRSwAQC43QkxMDGJiYtR+2lKpNMvEJ6ev9fX1M/yrra2NqKgotcebG0xuiIiI8kMqBXR1IdXVhamREfJ8D+d/h9USEiUw/jlt1d2+/aCQxyI+OVl1SUn5b5HJECeTIV4uVyZJiXI5ElNT8UEuT/v5o0UhpPWuKRQKxMfHIz4+Xi3N8LGqVatiwIABaq83p4pEcrNs2TLMmzcPkZGRcHZ2xi+//IKGDRtmWX7nzp2YOnUqHj9+jKpVq2Lu3Lnw8PAoxIiJiIjU7N9hNejrKFeVt7WFka4sf/UqFGmLXA5BLodMJkNiUhISU1LwQSZDYnJy2s8pKUiUyZD4778fUlPTXstkaYlSetL07/JBLkdS+r8KBT589LPYj+kQPbnZvn07/Pz8sGLFCjRq1AiLFi1C+/btcefOHZQrVy5D+TNnzqBXr16YPXs2OnfujC1btqBbt264cuUKateuLcIZEBERFWFSadqirQ0JAF0AumZmKFUQxxIEyF68wIHOnQui9hyTinp0AAsXLsTgwYPh4+MDR0dHrFixAoaGhli7dm2m5RcvXowOHTpg3LhxqFmzJmbOnAlXV1csXbq0kCMnIiIiFRJJ2iIyUXtuUlJScPnyZUyaNEm5TiqVok2bNjh79mym+5w9exZ+fn4q69q3b4+goKBMyycnJyM5OVn5OjY2bZKWTCaDTJbPrr5PpNen7npJFdu5cLCdC4cmtLMs9b/YZXI5ZAUw+VUdZFpaaf/GxgJyucjRZE0m0/3v59hYyHRSRIwm9wrqPZ2b+kRNbt68eQO5XA5LS0uV9ZaWlrh9+3am+0RGRmZaPjKLu1bOnj0bAQEBGdYfOXIEhoaGeYw8e8HBwQVSL6liOxcOtnPhKO7tHOQSBAA46SJqGDkS7O4udgifFdT2DwDASbiJHEneqfs9nZiYmOOyos+5KWiTJk1S6emJjY2FnZ0d2rVrp/YJTzKZDMHBwWjbti10dHQ+vwPlCdu5cLCdC4dGtXNqKpCLD6DCJktNRfC5c2jbuDF0+NypAqNsZzW/p9NHXnJC1N9u2bJloaWlhVevXqmsf/XqFaw+uflSOisrq1yV19PTy/Q5ITo6OgX2h6Qg66b/sJ0LB9u5cGhEO+voAAYGYkeRtX+HNXTMzYt/Wxdl6e2s5vd0buoSdUKxrq4u6tWrh5CQEOU6hUKBkJAQNGnSJNN9mjRpolIeSOv6yqo8ERERlSyi98v5+fmhf//+qF+/Pho2bIhFixYhISEBPj4+AIB+/frBxsYGs2fPBgCMGjUKLVq0wIIFC9CpUyds27YNly5dwqpVq8Q8DSIiIioiRE9uvLy88Pr1a0ybNg2RkZFwcXHBoUOHlJOGnzx5Aqn0vw4mNzc3bNmyBVOmTMEPP/yAqlWrIigoiPe4ISIiIgBFILkBAF9fX/j6+ma67cSJExnW9ejRAz169CjgqIiIiKg4Ev0mfkRERETqxOSGiIiINAqTGyIiItIoTG6IiIhIozC5ISIiIo3C5IaIiIg0CpMbIiIi0ihMboiIiEijMLkhIiIijVIk7lBcmARBAJC7R6fnlEwmQ2JiImJjY/nE2QLEdi4cbOfCwXYuPGzrwlFQ7Zz+uZ3+OZ6dEpfcxMXFAQDs7OxEjoSIiIhyKy4uDmZmZtmWkQg5SYE0iEKhwIsXL2BiYgKJRKLWumNjY2FnZ4enT5/C1NRUrXXTf9jOhYPtXDjYzoWHbV04CqqdBUFAXFwcypcvr/JA7cyUuJ4bqVQKW1vbAj2Gqakp/+MUArZz4WA7Fw62c+FhWxeOgmjnz/XYpOOEYiIiItIoTG6IiIhIozC5USM9PT34+/tDT09P7FA0Gtu5cLCdCwfbufCwrQtHUWjnEjehmIiIiDQbe26IiIhIozC5ISIiIo3C5IaIiIg0CpMbIiIi0ihMbtRk2bJlsLe3h76+Pho1aoQLFy6IHZLGOXXqFLp06YLy5ctDIpEgKChI7JA00uzZs9GgQQOYmJigXLly6NatG+7cuSN2WBpn+fLlcHJyUt7orEmTJjh48KDYYWm8OXPmQCKRYPTo0WKHolGmT58OiUSistSoUUO0eJjcqMH27dvh5+cHf39/XLlyBc7Ozmjfvj2ioqLEDk2jJCQkwNnZGcuWLRM7FI128uRJjBgxAufOnUNwcDBkMhnatWuHhIQEsUPTKLa2tpgzZw4uX76MS5cuoXXr1vD09MTNmzfFDk1jXbx4EStXroSTk5PYoWikWrVq4eXLl8rl77//Fi0WXgquBo0aNUKDBg2wdOlSAGnPr7Kzs8N3332HiRMnihydZpJIJNi7dy+6desmdiga7/Xr1yhXrhxOnjyJ5s2bix2ORjM3N8e8efMwcOBAsUPROPHx8XB1dcWvv/6KH3/8ES4uLli0aJHYYWmM6dOnIygoCGFhYWKHAoA9N/mWkpKCy5cvo02bNsp1UqkUbdq0wdmzZ0WMjEg9YmJiAKR98FLBkMvl2LZtGxISEtCkSROxw9FII0aMQKdOnVT+VpN63bt3D+XLl0elSpXg7e2NJ0+eiBZLiXtwprq9efMGcrkclpaWKustLS1x+/ZtkaIiUg+FQoHRo0ejadOmqF27ttjhaJx//vkHTZo0QVJSEoyNjbF37144OjqKHZbG2bZtG65cuYKLFy+KHYrGatSoEdavX4/q1avj5cuXCAgIgLu7O27cuAETE5NCj4fJDRFlacSIEbhx44aoY+earHr16ggLC0NMTAx27dqF/v374+TJk0xw1Ojp06cYNWoUgoODoa+vL3Y4Gqtjx47Kn52cnNCoUSNUrFgRO3bsEGWYlclNPpUtWxZaWlp49eqVyvpXr17ByspKpKiI8s/X1xd//fUXTp06BVtbW7HD0Ui6urqoUqUKAKBevXq4ePEiFi9ejJUrV4ocmea4fPkyoqKi4Orqqlwnl8tx6tQpLF26FMnJydDS0hIxQs1UqlQpVKtWDffv3xfl+Jxzk0+6urqoV68eQkJClOsUCgVCQkI4dk7FkiAI8PX1xd69e3Hs2DE4ODiIHVKJoVAokJycLHYYGuWLL77AP//8g7CwMOVSv359eHt7IywsjIlNAYmPj8eDBw9gbW0tyvHZc6MGfn5+6N+/P+rXr4+GDRti0aJFSEhIgI+Pj9ihaZT4+HiVbwGPHj1CWFgYzM3NUaFCBREj0ywjRozAli1b8Mcff8DExASRkZEAADMzMxgYGIgcneaYNGkSOnbsiAoVKiAuLg5btmzBiRMncPjwYbFD0ygmJiYZ5osZGRmhTJkynEemRmPHjkWXLl1QsWJFvHjxAv7+/tDS0kKvXr1EiYfJjRp4eXnh9evXmDZtGiIjI+Hi4oJDhw5lmGRM+XPp0iW0atVK+drPzw8A0L9/f6xfv16kqDTP8uXLAQAtW7ZUWb9u3ToMGDCg8APSUFFRUejXrx9evnwJMzMzODk54fDhw2jbtq3YoRHl2rNnz9CrVy+8ffsWFhYWaNasGc6dOwcLCwtR4uF9boiIiEijcM4NERERaRQmN0RERKRRmNwQERGRRmFyQ0RERBqFyQ0RERFpFCY3REREpFGY3BAREZFGYXJDRBqhZcuWGD16tNhhEFERwOSGiETXpUsXdOjQIdNtoaGhkEgkuH79eiFHRUTFFZMbIhLdwIEDERwcjGfPnmXYtm7dOtSvXx9OTk4iREZExRGTGyISXefOnWFhYZHhGWHx8fHYuXMnunXrhl69esHGxgaGhoaoU6cOtm7dmm2dEokEQUFBKutKlSqlcoynT5/im2++QalSpWBubg5PT088fvxYPSdFRKJhckNEotPW1ka/fv2wfv16fPy4u507d0Iul6NPnz6oV68e9u/fjxs3bmDIkCHo27cvLly4kOdjymQytG/fHiYmJggNDcXp06dhbGyMDh06ICUlRR2nRUQiYXJDREXC//73Pzx48AAnT55Urlu3bh2++uorVKxYEWPHjoWLiwsqVaqE7777Dh06dMCOHTvyfLzt27dDoVDgt99+Q506dVCzZk2sW7cOT548wYkTJ9RwRkQkFiY3RFQk1KhRA25ubli7di0A4P79+wgNDcXAgQMhl8sxc+ZM1KlTB+bm5jA2Nsbhw4fx5MmTPB/v2rVruH//PkxMTGBsbAxjY2OYm5sjKSkJDx48UNdpEZEItMUOgIgo3cCBA/Hdd99h2bJlWLduHSpXrowWLVpg7ty5WLx4MRYtWoQ6derAyMgIo0ePznb4SCKRqAxxAWlDUeni4+NRr149bN68OcO+FhYW6jspIip0TG6IqMj45ptvMGrUKGzZsgUbN27E8OHDIZFIcPr0aXh6eqJPnz4AAIVCgbt378LR0THLuiwsLPDy5Uvl63v37iExMVH52tXVFdu3b0e5cuVgampacCdFRIWOw1JEVGQYGxvDy8sLkyZNwsuXLzFgwAAAQNWqVREcHIwzZ84gPDwcQ4cOxatXr7Ktq3Xr1li6dCmuXr2KS5cuYdiwYdDR0VFu9/b2RtmyZeHp6YnQ0FA8evQIJ06cwMiRIzO9JJ2Iig8mN0RUpAwcOBDv379H+/btUb58eQDAlClT4Orqivbt26Nly5awsrJCt27dsq1nwYIFsLOzg7u7O3r37o2xY8fC0NBQud3Q0BCnTp1ChQoV0L17d9SsWRMDBw5EUlISe3KIijmJ8OmgNBEREVExxp4bIiIi0ihMboiIiEijMLkhIiIijcLkhoiIiDQKkxsiIiLSKExuiIiISKMwuSEiIiKNwuSGiIiINAqTGyIiItIoTG6IiIhIozC5ISIiIo3C5IaIiIg0yv8BKXTpSVoYuoIAAAAASUVORK5CYII=\",","      \"text/plain\": [","       \"\u003cFigure size 640x480 with 1 Axes\u003e\"","      ]","     },","     \"metadata\": {},","     \"output_type\": \"display_data\"","    }","   ],","   \"source\": [","    \"import numpy as np\\n\",","    \"import matplotlib.pyplot as plt\\n\",","    \"from scipy.stats import f\\n\",","    \"\\n\",","    \"# Constants\\n\",","    \"alpha = 0.05\\n\",","    \"df1 = 2\\n\",","    \"df2 = 18\\n\",","    \"test_statistic = 4.482229319048109\\n\",","    \"\\n\",","    \"# Create an array of x values\\n\",","    \"x = np.linspace(0, 5, 1000)\\n\",","    \"\\n\",","    \"# Create an array of y values representing the probability density function (PDF)\\n\",","    \"y = f.pdf(x, df1, df2)\\n\",","    \"\\n\",","    \"# Calculate critical value at alpha level\\n\",","    \"critical_value = f.ppf(1 - alpha, df1, df2)\\n\",","    \"\\n\",","    \"# Calculate p-value\\n\",","    \"p_value = 1 - f.cdf(test_statistic, df1, df2)\\n\",","    \"\\n\",","    \"# Create the plot\\n\",","    \"fig, ax = plt.subplots()\\n\",","    \"\\n\",","    \"# Plot the PDF\\n\",","    \"ax.plot(x, y, 'k', label='F-distribution')\\n\",","    \"\\n\",","    \"# Highlight the area under the curve past the critical value\\n\",","    \"x_fill = np.linspace(critical_value, 5, 100)\\n\",","    \"y_fill = f.pdf(x_fill, df1, df2)\\n\",","    \"ax.fill_between(x_fill, 0, y_fill, alpha=0.5, color='red', label='Rejection Region ($\\\\\\\\alpha$)')\\n\",","    \"\\n\",","    \"# Plot the test statistic\\n\",","    \"ax.plot([test_statistic, test_statistic], [0, f.pdf(test_statistic, df1, df2)], 'b--', label='Test statistic')\\n\",","    \"ax.vlines(critical_value, 0, 0.4, colors='r', label='Significance level')\\n\",","    \"# Plot the critical value\\n\",","    \"ax.plot([critical_value, critical_value], [0, f.pdf(critical_value, df1, df2)], 'g--', label='Critical value')\\n\",","    \"\\n\",","    \"# Set title and labels\\n\",","    \"ax.set_title(f'One-way ANOVA F-test, p-value: {p_value:.3f}')\\n\",","    \"ax.set_xlabel('Value')\\n\",","    \"ax.set_ylabel('Density')\\n\",","    \"\\n\",","    \"# Add legend\\n\",","    \"ax.legend()\\n\",","    \"\\n\",","    \"# Show plot\\n\",","    \"plt.grid(True)\\n\",","    \"plt.show()\\n\"","   ]","  },","  {","   \"cell_type\": \"code\",","   \"execution_count\": 31,","   \"id\": \"c4c76438\",","   \"metadata\": {},","   \"outputs\": [","    {","     \"name\": \"stdout\",","     \"output_type\": \"stream\",","     \"text\": [","      \"Critical value: 3.554557145661787\\n\"","     ]","    }","   ],","   \"source\": [","    \"print(\\\"Critical value:\\\", critical_value)\"","   ]","  },","  {","   \"cell_type\": \"markdown\",","   \"id\": \"04ac43c2\",","   \"metadata\": {},","   \"source\": [","    \"**Exercise for F:**\\n\",","    \"\\n\",","    \"Based on the F example, try new data points and find data point configurations, where H0 is very close of being rejected or is just rejected. Generate figure according to the given figures.\"","   ]","  },","  {","   \"cell_type\": \"code\",","   \"execution_count\": null,","   \"id\": \"46e7ee94\",","   \"metadata\": {},","   \"outputs\": [],","   \"source\": []","  }"," ],"," \"metadata\": {","  \"kernelspec\": {","   \"display_name\": \"Python 3 (ipykernel)\",","   \"language\": \"python\",","   \"name\": \"python3\"","  },","  \"language_info\": {","   \"codemirror_mode\": {","    \"name\": \"ipython\",","    \"version\": 3","   },","   \"file_extension\": \".py\",","   \"mimetype\": \"text/x-python\",","   \"name\": \"python\",","   \"nbconvert_exporter\": \"python\",","   \"pygments_lexer\": \"ipython3\",","   \"version\": \"3.11.4\"","  }"," },"," \"nbformat\": 4,"," \"nbformat_minor\": 5","}"],"stylingDirectives":null,"colorizedLines":null,"csv":null,"csvError":null,"dependabotInfo":{"showConfigurationBanner":false,"configFilePath":null,"networkDependabotPath":"/MathforDataScience/DSR_Statistics1/network/updates","dismissConfigurationNoticePath":"/settings/dismiss-notice/dependabot_configuration_notice","configurationNoticeDismissed":false},"displayName":"7_4 F-test.ipynb","displayUrl":"https://notebooks.githubusercontent.com/view/ipynb?browser=chrome\u0026bypass_fastly=true\u0026color_mode=auto\u0026commit=4bdf4da0692b0574b35b13389bf9db0802909d04\u0026device=unknown_device\u0026docs_host=https%3A%2F%2Fdocs.github.com\u0026enc_url=68747470733a2f2f7261772e67697468756275736572636f6e74656e742e636f6d2f4d617468666f7244617461536369656e63652f4453525f53746174697374696373312f346264663464613036393262303537346233356231333338396266396462303830323930396430342f375f2532304879706f7468657365732f375f34253230462d746573742e6970796e62\u0026logged_in=true\u0026nwo=MathforDataScience%2FDSR_Statistics1\u0026path=7_+Hypotheses%2F7_4+F-test.ipynb\u0026platform=windows\u0026repository_id=661665397\u0026repository_type=Repository\u0026version=127","headerInfo":{"blobSize":"95.5 KB","deleteTooltip":"Delete this file","editTooltip":"Edit this file","ghDesktopPath":"https://desktop.github.com","isGitLfs":false,"onBranch":true,"shortPath":"5d7137f","siteNavLoginPath":"/login?return_to=https%3A%2F%2Fgithub.com%2FMathforDataScience%2FDSR_Statistics1%2Fblob%2Fmain%2F7_%2520Hypotheses%2F7_4%2520F-test.ipynb","isCSV":false,"isRichtext":false,"toc":null,"lineInfo":{"truncatedLoc":"298","truncatedSloc":"298"},"mode":"file"},"image":false,"isCodeownersFile":null,"isPlain":false,"isValidLegacyIssueTemplate":false,"issueTemplate":null,"discussionTemplate":null,"language":"Jupyter Notebook","languageID":185,"large":false,"planSupportInfo":{"repoIsFork":null,"repoOwnedByCurrentUser":null,"requestFullPath":"/MathforDataScience/DSR_Statistics1/blob/main/7_%20Hypotheses/7_4%20F-test.ipynb","showFreeOrgGatedFeatureMessage":null,"showPlanSupportBanner":null,"upgradeDataAttributes":null,"upgradePath":null},"publishBannersInfo":{"dismissActionNoticePath":"/settings/dismiss-notice/publish_action_from_dockerfile","releasePath":"/MathforDataScience/DSR_Statistics1/releases/new?marketplace=true","showPublishActionBanner":false},"rawBlobUrl":"https://github.com/MathforDataScience/DSR_Statistics1/raw/main/7_%20Hypotheses/7_4%20F-test.ipynb","renderImageOrRaw":false,"richText":null,"renderedFileInfo":{"identityUUID":"f6478419-0379-4d05-ac5f-7a6ba66b6aa9","renderFileType":"ipynb","size":97827},"shortPath":null,"symbolsEnabled":true,"tabSize":8,"topBannersInfo":{"overridingGlobalFundingFile":false,"globalPreferredFundingPath":null,"showInvalidCitationWarning":false,"citationHelpUrl":"https://docs.github.com/github/creating-cloning-and-archiving-repositories/creating-a-repository-on-github/about-citation-files","actionsOnboardingTip":null},"truncated":false,"viewable":true,"workflowRedirectUrl":null,"symbols":{"timed_out":false,"not_analyzed":true,"symbols":[]}},"copilotInfo":{"documentationUrl":"https://docs.github.com/copilot/overview-of-github-copilot/about-github-copilot-for-individuals","notices":{"codeViewPopover":{"dismissed":false,"dismissPath":"/settings/dismiss-notice/code_view_copilot_popover"}},"userAccess":{"hasSubscriptionEnded":false,"orgHasCFBAccess":false,"userHasCFIAccess":false,"userHasOrgs":false,"userIsOrgAdmin":false,"userIsOrgMember":false,"business":null,"featureRequestInfo":null}},"copilotAccessAllowed":false,"csrf_tokens":{"/MathforDataScience/DSR_Statistics1/branches":{"post":"pArml_eD0823r3sqN18GC-U0ftWfl0TQOgwRbR4Mgug757uVbw9S36yUIcdnrx8k2fvVNwECsL8-5oO38v7HZw"},"/repos/preferences":{"post":"DLoEf3iexovjZy__-axFNyHikqlDgfmdikR2sIw7xX4X7NhOhI_zgHVgLEl9vyD5MylKb5kVxuGU0bRRBmtWkw"}}},"title":"DSR_Statistics1/7_ Hypotheses/7_4 F-test.ipynb at main · MathforDataScience/DSR_Statistics1","appPayload":{"helpUrl":"https://docs.github.com","findFileWorkerPath":"/assets-cdn/worker/find-file-worker-1583894afd38.js","findInFileWorkerPath":"/assets-cdn/worker/find-in-file-worker-3a63a487027b.js","githubDevUrl":"https://github.dev/","enabled_features":{"code_nav_ui_events":false,"overview_shared_code_dropdown_button":false,"react_blob_overlay":true,"copilot_conversational_ux_embedding_update":false,"copilot_smell_icebreaker_ux":true,"copilot_workspace":false}}}</script>
  <div data-target="react-app.reactRoot"><style data-styled="true" data-styled-version="5.3.6">.jUaXMC{font-weight:600;font-size:32px;margin:0;display:-webkit-box;display:-webkit-flex;display:-ms-flexbox;display:flex;font-size:14px;}/*!sc*/
.jUaXMC:where([data-variant='large']){font:var(--text-title-shorthand-large,600 32px / 1.5 -apple-system,BlinkMacSystemFont,"Segoe UI","Noto Sans",Helvetica,Arial,sans-serif,"Apple Color Emoji","Segoe UI Emoji");}/*!sc*/
.jUaXMC:where([data-variant='medium']){font:var(--text-title-shorthand-medium,600 20px / 1.6 -apple-system,BlinkMacSystemFont,"Segoe UI","Noto Sans",Helvetica,Arial,sans-serif,"Apple Color Emoji","Segoe UI Emoji");}/*!sc*/
.jUaXMC:where([data-variant='small']){font:var(--text-title-shorthand-small,600 16px / 1.5 -apple-system,BlinkMacSystemFont,"Segoe UI","Noto Sans",Helvetica,Arial,sans-serif,"Apple Color Emoji","Segoe UI Emoji");}/*!sc*/
.fReAGt{font-weight:600;font-size:32px;margin:0;font-size:16px;margin-left:8px;}/*!sc*/
.fReAGt:where([data-variant='large']){font:var(--text-title-shorthand-large,600 32px / 1.5 -apple-system,BlinkMacSystemFont,"Segoe UI","Noto Sans",Helvetica,Arial,sans-serif,"Apple Color Emoji","Segoe UI Emoji");}/*!sc*/
.fReAGt:where([data-variant='medium']){font:var(--text-title-shorthand-medium,600 20px / 1.6 -apple-system,BlinkMacSystemFont,"Segoe UI","Noto Sans",Helvetica,Arial,sans-serif,"Apple Color Emoji","Segoe UI Emoji");}/*!sc*/
.fReAGt:where([data-variant='small']){font:var(--text-title-shorthand-small,600 16px / 1.5 -apple-system,BlinkMacSystemFont,"Segoe UI","Noto Sans",Helvetica,Arial,sans-serif,"Apple Color Emoji","Segoe UI Emoji");}/*!sc*/
.fpGZrB{font-weight:600;font-size:32px;margin:0;}/*!sc*/
.fpGZrB:where([data-variant='large']){font:var(--text-title-shorthand-large,600 32px / 1.5 -apple-system,BlinkMacSystemFont,"Segoe UI","Noto Sans",Helvetica,Arial,sans-serif,"Apple Color Emoji","Segoe UI Emoji");}/*!sc*/
.fpGZrB:where([data-variant='medium']){font:var(--text-title-shorthand-medium,600 20px / 1.6 -apple-system,BlinkMacSystemFont,"Segoe UI","Noto Sans",Helvetica,Arial,sans-serif,"Apple Color Emoji","Segoe UI Emoji");}/*!sc*/
.fpGZrB:where([data-variant='small']){font:var(--text-title-shorthand-small,600 16px / 1.5 -apple-system,BlinkMacSystemFont,"Segoe UI","Noto Sans",Helvetica,Arial,sans-serif,"Apple Color Emoji","Segoe UI Emoji");}/*!sc*/
.eqidDl{font-weight:600;font-size:32px;margin:0;font-weight:600;display:inline-block;max-width:100%;font-size:16px;}/*!sc*/
.eqidDl:where([data-variant='large']){font:var(--text-title-shorthand-large,600 32px / 1.5 -apple-system,BlinkMacSystemFont,"Segoe UI","Noto Sans",Helvetica,Arial,sans-serif,"Apple Color Emoji","Segoe UI Emoji");}/*!sc*/
.eqidDl:where([data-variant='medium']){font:var(--text-title-shorthand-medium,600 20px / 1.6 -apple-system,BlinkMacSystemFont,"Segoe UI","Noto Sans",Helvetica,Arial,sans-serif,"Apple Color Emoji","Segoe UI Emoji");}/*!sc*/
.eqidDl:where([data-variant='small']){font:var(--text-title-shorthand-small,600 16px / 1.5 -apple-system,BlinkMacSystemFont,"Segoe UI","Noto Sans",Helvetica,Arial,sans-serif,"Apple Color Emoji","Segoe UI Emoji");}/*!sc*/
.eDVSKn{font-weight:600;font-size:32px;margin:0;font-weight:600;display:inline-block;max-width:100%;font-size:14px;}/*!sc*/
.eDVSKn:where([data-variant='large']){font:var(--text-title-shorthand-large,600 32px / 1.5 -apple-system,BlinkMacSystemFont,"Segoe UI","Noto Sans",Helvetica,Arial,sans-serif,"Apple Color Emoji","Segoe UI Emoji");}/*!sc*/
.eDVSKn:where([data-variant='medium']){font:var(--text-title-shorthand-medium,600 20px / 1.6 -apple-system,BlinkMacSystemFont,"Segoe UI","Noto Sans",Helvetica,Arial,sans-serif,"Apple Color Emoji","Segoe UI Emoji");}/*!sc*/
.eDVSKn:where([data-variant='small']){font:var(--text-title-shorthand-small,600 16px / 1.5 -apple-system,BlinkMacSystemFont,"Segoe UI","Noto Sans",Helvetica,Arial,sans-serif,"Apple Color Emoji","Segoe UI Emoji");}/*!sc*/
data-styled.g1[id="Heading__StyledHeading-sc-1c1dgg0-0"]{content:"jUaXMC,fReAGt,fpGZrB,eqidDl,eDVSKn,"}/*!sc*/
.fSWWem{padding:0;}/*!sc*/
.kPPmzM{max-width:100%;margin-left:auto;margin-right:auto;display:-webkit-box;display:-webkit-flex;display:-ms-flexbox;display:flex;-webkit-flex-wrap:wrap;-ms-flex-wrap:wrap;flex-wrap:wrap;}/*!sc*/
.cIAPDV{display:-webkit-box;display:-webkit-flex;display:-ms-flexbox;display:flex;-webkit-flex:1 1 100%;-ms-flex:1 1 100%;flex:1 1 100%;-webkit-flex-wrap:wrap;-ms-flex-wrap:wrap;flex-wrap:wrap;max-width:100%;}/*!sc*/
.gvCnwW{width:100%;}/*!sc*/
@media screen and (min-width:544px){.gvCnwW{width:100%;}}/*!sc*/
@media screen and (min-width:768px){.gvCnwW{width:auto;}}/*!sc*/
.hgUFaY{display:-webkit-box;display:-webkit-flex;display:-ms-flexbox;display:flex;-webkit-order:1;-ms-flex-order:1;order:1;width:100%;margin-left:0;margin-right:0;-webkit-flex-direction:column;-ms-flex-direction:column;flex-direction:column;margin-bottom:0;min-width:0;}/*!sc*/
@media screen and (min-width:544px){.hgUFaY{-webkit-flex-direction:column;-ms-flex-direction:column;flex-direction:column;}}/*!sc*/
@media screen and (min-width:768px){.hgUFaY{width:auto;margin-top:0 !important;margin-bottom:0 !important;position:-webkit-sticky;position:sticky;top:0px;max-height:100vh !important;-webkit-flex-direction:row;-ms-flex-direction:row;flex-direction:row;margin-right:0;height:100vh;}}/*!sc*/
@media print,screen and (max-width:1011px) and (min-width:768px){.hgUFaY{display:none;}}/*!sc*/
.eUyHuk{margin-left:0;margin-right:0;display:none;margin-top:0;}/*!sc*/
@media screen and (min-width:768px){.eUyHuk{margin-left:0 !important;margin-right:0 !important;}}/*!sc*/
.gNdDUH{--pane-min-width:256px;--pane-max-width-diff:511px;--pane-max-width:calc(100vw - var(--pane-max-width-diff));width:100%;padding:0;}/*!sc*/
@media screen and (min-width:544px){}/*!sc*/
@media screen and (min-width:768px){.gNdDUH{width:clamp(var(--pane-min-width),var(--pane-width),var(--pane-max-width));overflow:auto;}}/*!sc*/
@media screen and (min-width:1280px){.gNdDUH{--pane-max-width-diff:959px;}}/*!sc*/
.jywUSN{max-height:100%;height:100%;display:-webkit-box;display:-webkit-flex;display:-ms-flexbox;display:flex;-webkit-flex-direction:column;-ms-flex-direction:column;flex-direction:column;}/*!sc*/
@media screen and (max-width:768px){.jywUSN{display:none;}}/*!sc*/
@media screen and (min-width:768px){.jywUSN{max-height:100vh;height:100vh;}}/*!sc*/
.hBSSUC{display:-webkit-box;display:-webkit-flex;display:-ms-flexbox;display:flex;-webkit-flex-direction:column;-ms-flex-direction:column;flex-direction:column;-webkit-align-items:center;-webkit-box-align:center;-ms-flex-align:center;align-items:center;padding-left:16px;padding-right:16px;padding-bottom:8px;padding-top:16px;}/*!sc*/
.iPurHz{display:-webkit-box;display:-webkit-flex;display:-ms-flexbox;display:flex;width:100%;margin-bottom:16px;-webkit-align-items:center;-webkit-box-align:center;-ms-flex-align:center;align-items:center;}/*!sc*/
.kkrdEu{-webkit-box-pack:center;-webkit-justify-content:center;-ms-flex-pack:center;justify-content:center;}/*!sc*/
.trpoQ{display:-webkit-box;display:-webkit-flex;display:-ms-flexbox;display:flex;pointer-events:none;}/*!sc*/
.hVHHYa{margin-left:24px;margin-right:24px;display:-webkit-box;display:-webkit-flex;display:-ms-flexbox;display:flex;width:100%;}/*!sc*/
.idZfsJ{-webkit-box-flex:1;-webkit-flex-grow:1;-ms-flex-positive:1;flex-grow:1;}/*!sc*/
.bKgizp{display:-webkit-box;display:-webkit-flex;display:-ms-flexbox;display:flex;width:100%;}/*!sc*/
.iPGYsi{margin-right:4px;color:var(--fgColor-muted,var(--color-fg-muted,#656d76));}/*!sc*/
.caeYDk{font-size:14px;min-width:0;overflow:hidden;text-overflow:ellipsis;white-space:nowrap;}/*!sc*/
.jahcnb{margin-left:8px;white-space:nowrap;}/*!sc*/
.jahcnb:hover button:not(:hover){border-left-color:var(--button-default-borderColor-hover,var(--color-btn-hover-border));}/*!sc*/
.ccToMy{margin-left:16px;margin-right:16px;margin-bottom:12px;}/*!sc*/
@media screen and (max-width:768px){.ccToMy{display:none;}}/*!sc*/
.cNvKlH{margin-right:-6px;}/*!sc*/
.cLfAnm{-webkit-box-flex:1;-webkit-flex-grow:1;-ms-flex-positive:1;flex-grow:1;max-height:100% !important;overflow-y:auto;-webkit-scrollbar-gutter:stable;-moz-scrollbar-gutter:stable;-ms-scrollbar-gutter:stable;scrollbar-gutter:stable;}/*!sc*/
@media screen and (max-width:768px){.cLfAnm{display:none;}}/*!sc*/
.erWCJP{padding-left:16px;padding-right:16px;padding-bottom:8px;}/*!sc*/
.hAeDYA{height:100%;position:relative;display:none;margin-left:0;}/*!sc*/
.fjdBNx{position:absolute;inset:0 -2px;cursor:col-resize;background-color:transparent;-webkit-transition-delay:0.1s;transition-delay:0.1s;}/*!sc*/
.fjdBNx:hover{background-color:var(--bgColor-neutral-muted,var(--color-neutral-muted,rgba(175,184,193,0.2)));}/*!sc*/
.emFMJu{display:-webkit-box;display:-webkit-flex;display:-ms-flexbox;display:flex;-webkit-flex-direction:column;-ms-flex-direction:column;flex-direction:column;-webkit-order:2;-ms-flex-order:2;order:2;-webkit-flex-basis:0;-ms-flex-preferred-size:0;flex-basis:0;-webkit-box-flex:1;-webkit-flex-grow:1;-ms-flex-positive:1;flex-grow:1;-webkit-flex-shrink:1;-ms-flex-negative:1;flex-shrink:1;min-width:1px;margin-right:auto;}/*!sc*/
@media print{.emFMJu{display:-webkit-box !important;display:-webkit-flex !important;display:-ms-flexbox !important;display:flex !important;}}/*!sc*/
.hlUAHL{width:100%;max-width:100%;margin-left:auto;margin-right:auto;-webkit-box-flex:1;-webkit-flex-grow:1;-ms-flex-positive:1;flex-grow:1;padding:0;}/*!sc*/
.iStsmI{margin-left:auto;margin-right:auto;-webkit-flex-direction:column;-ms-flex-direction:column;flex-direction:column;padding-bottom:40px;max-width:100%;margin-top:0;}/*!sc*/
.eIgvIk{display:inherit;}/*!sc*/
.eVFfWF{width:100%;}/*!sc*/
.fywjmm{display:-webkit-box;display:-webkit-flex;display:-ms-flexbox;display:flex;gap:8px;-webkit-flex-direction:column;-ms-flex-direction:column;flex-direction:column;width:100%;}/*!sc*/
.dyczTK{display:-webkit-box;display:-webkit-flex;display:-ms-flexbox;display:flex;-webkit-align-items:start;-webkit-box-align:start;-ms-flex-align:start;align-items:start;-webkit-box-pack:justify;-webkit-justify-content:space-between;-ms-flex-pack:justify;justify-content:space-between;gap:8px;}/*!sc*/
.kszRgZ{-webkit-align-self:center;-ms-flex-item-align:center;align-self:center;display:-webkit-box;display:-webkit-flex;display:-ms-flexbox;display:flex;padding-right:8px;min-width:0;}/*!sc*/
.eTvGbF{display:-webkit-box;display:-webkit-flex;display:-ms-flexbox;display:flex;-webkit-flex-direction:row;-ms-flex-direction:row;flex-direction:row;font-size:16px;min-width:0;-webkit-flex-shrink:1;-ms-flex-negative:1;flex-shrink:1;-webkit-flex-wrap:wrap;-ms-flex-wrap:wrap;flex-wrap:wrap;max-width:100%;-webkit-align-items:center;-webkit-box-align:center;-ms-flex-align:center;align-items:center;}/*!sc*/
.kzRgrI{max-width:100%;}/*!sc*/
.cmAPIB{max-width:100%;list-style:none;display:inline-block;}/*!sc*/
.jwXCBK{display:inline-block;max-width:100%;}/*!sc*/
.gtBUEp{min-height:32px;display:-webkit-box;display:-webkit-flex;display:-ms-flexbox;display:flex;-webkit-align-items:start;-webkit-box-align:start;-ms-flex-align:start;align-items:start;}/*!sc*/
.hVZtwF{margin-left:16px;margin-right:16px;}/*!sc*/
.cMYnca{display:-webkit-box;display:-webkit-flex;display:-ms-flexbox;display:flex;-webkit-flex-direction:column;-ms-flex-direction:column;flex-direction:column;}/*!sc*/
.brJRqk{display:-webkit-box;display:-webkit-flex;display:-ms-flexbox;display:flex;-webkit-flex-direction:row;-ms-flex-direction:row;flex-direction:row;-webkit-flex-wrap:wrap;-ms-flex-wrap:wrap;flex-wrap:wrap;-webkit-box-pack:justify;-webkit-justify-content:space-between;-ms-flex-pack:justify;justify-content:space-between;-webkit-align-items:center;-webkit-box-align:center;-ms-flex-align:center;align-items:center;gap:8px;min-width:273px;padding:8px;}/*!sc*/
@media screen and (min-width:544px){.brJRqk{-webkit-flex-wrap:nowrap;-ms-flex-wrap:nowrap;flex-wrap:nowrap;}}/*!sc*/
.iJmJly{display:-webkit-box;display:-webkit-flex;display:-ms-flexbox;display:flex;-webkit-flex-direction:row;-ms-flex-direction:row;flex-direction:row;}/*!sc*/
.jACbi{width:100%;height:-webkit-fit-content;height:-moz-fit-content;height:fit-content;min-width:0;margin-right:0;}/*!sc*/
.gIJuDf{height:40px;padding-left:4px;padding-bottom:16px;}/*!sc*/
.fleZSW{-webkit-align-items:center;-webkit-box-align:center;-ms-flex-align:center;align-items:center;}/*!sc*/
.BnySK{font-size:12px;-webkit-flex:auto;-ms-flex:auto;flex:auto;padding-right:16px;color:var(--fgColor-muted,var(--color-fg-muted,#656d76));min-width:0;}/*!sc*/
.VHzRk{top:0px;z-index:4;background:var(--bgColor-default,var(--color-canvas-default));position:-webkit-sticky;position:sticky;}/*!sc*/
.ePiodO{display:-webkit-box;display:-webkit-flex;display:-ms-flexbox;display:flex;-webkit-flex-direction:column;-ms-flex-direction:column;flex-direction:column;width:100%;position:absolute;}/*!sc*/
.kQJlnf{display:none;min-width:0;padding-top:8px;padding-bottom:8px;}/*!sc*/
.gJICKO{margin-right:8px;margin-left:16px;text-overflow:ellipsis;overflow:hidden;display:-webkit-box;display:-webkit-flex;display:-ms-flexbox;display:flex;-webkit-flex-direction:row;-ms-flex-direction:row;flex-direction:row;-webkit-align-items:center;-webkit-box-align:center;-ms-flex-align:center;align-items:center;-webkit-box-pack:justify;-webkit-justify-content:space-between;-ms-flex-pack:justify;justify-content:space-between;width:100%;}/*!sc*/
.iZJewz{display:-webkit-box;display:-webkit-flex;display:-ms-flexbox;display:flex;-webkit-flex-direction:row;-ms-flex-direction:row;flex-direction:row;font-size:14px;min-width:0;-webkit-flex-shrink:1;-ms-flex-negative:1;flex-shrink:1;-webkit-flex-wrap:wrap;-ms-flex-wrap:wrap;flex-wrap:wrap;max-width:100%;-webkit-align-items:center;-webkit-box-align:center;-ms-flex-align:center;align-items:center;}/*!sc*/
.jfjHXm{padding-left:8px;padding-top:8px;padding-bottom:8px;display:-webkit-box;display:-webkit-flex;display:-ms-flexbox;display:flex;-webkit-flex:1;-ms-flex:1;flex:1;-webkit-align-items:center;-webkit-box-align:center;-ms-flex-align:center;align-items:center;-webkit-box-pack:justify;-webkit-justify-content:space-between;-ms-flex-pack:justify;justify-content:space-between;background-color:var(--bgColor-muted,var(--color-canvas-subtle,#f6f8fa));border:1px solid var(--borderColor-default,var(--color-border-default));border-radius:6px 6px 0px 0px;}/*!sc*/
.bfkNRF{display:-webkit-box;display:-webkit-flex;display:-ms-flexbox;display:flex;-webkit-align-items:center;-webkit-box-align:center;-ms-flex-align:center;align-items:center;gap:8px;min-width:0;}/*!sc*/
.fXBLEV{display:block;position:relative;-webkit-box-flex:1;-webkit-flex-grow:1;-ms-flex-positive:1;flex-grow:1;margin-top:-1px;margin-bottom:-1px;--separator-color:transparent;}/*!sc*/
.fXBLEV:not(:last-child){margin-right:1px;}/*!sc*/
.fXBLEV:not(:last-child):after{background-color:var(--separator-color);content:"";position:absolute;right:-2px;top:8px;bottom:8px;width:1px;}/*!sc*/
.fXBLEV:focus-within:has(:focus-visible){--separator-color:transparent;}/*!sc*/
.fXBLEV:first-child{margin-left:-1px;}/*!sc*/
.fXBLEV:last-child{margin-right:-1px;}/*!sc*/
.gMPsNT{display:block;position:relative;-webkit-box-flex:1;-webkit-flex-grow:1;-ms-flex-positive:1;flex-grow:1;margin-top:-1px;margin-bottom:-1px;--separator-color:var(--borderColor-default,var(--color-border-default,#d0d7de));}/*!sc*/
.gMPsNT:not(:last-child){margin-right:1px;}/*!sc*/
.gMPsNT:not(:last-child):after{background-color:var(--separator-color);content:"";position:absolute;right:-2px;top:8px;bottom:8px;width:1px;}/*!sc*/
.gMPsNT:focus-within:has(:focus-visible){--separator-color:transparent;}/*!sc*/
.gMPsNT:first-child{margin-left:-1px;}/*!sc*/
.gMPsNT:last-child{margin-right:-1px;}/*!sc*/
.iBylDf{display:-webkit-box;display:-webkit-flex;display:-ms-flexbox;display:flex;-webkit-align-items:center;-webkit-box-align:center;-ms-flex-align:center;align-items:center;gap:8px;margin-right:8px;}/*!sc*/
.kSGBPx{gap:8px;}/*!sc*/
.ytOJl{border:1px solid;border-top:none;border-color:var(--borderColor-default,var(--color-border-default,#d0d7de));border-radius:0px 0px 6px 6px;min-width:273px;}/*!sc*/
.eJsjkT{background-color:var(--bgColor-default,var(--color-canvas-default));border:0px;border-width:0;border-radius:0px 0px 6px 6px;padding:0;min-width:0;margin-top:46px;overflow:auto;}/*!sc*/
.aZrVR{position:fixed;top:0;right:0;height:100%;width:15px;-webkit-transition:-webkit-transform 0.3s;-webkit-transition:transform 0.3s;transition:transform 0.3s;z-index:1;}/*!sc*/
.aZrVR:hover{-webkit-transform:scaleX(1.5);-ms-transform:scaleX(1.5);transform:scaleX(1.5);}/*!sc*/
.bAzdCq{display:-webkit-box;display:-webkit-flex;display:-ms-flexbox;display:flex;-webkit-flex-direction:column;-ms-flex-direction:column;flex-direction:column;-webkit-align-items:center;-webkit-box-align:center;-ms-flex-align:center;align-items:center;padding-top:16px;padding-bottom:16px;}/*!sc*/
.ioTNdO{display:-webkit-inline-box;display:-webkit-inline-flex;display:-ms-inline-flexbox;display:inline-flex;}/*!sc*/
data-styled.g2[id="Box-sc-g0xbh4-0"]{content:"fSWWem,kPPmzM,cIAPDV,gvCnwW,hgUFaY,eUyHuk,gNdDUH,jywUSN,hBSSUC,iPurHz,kkrdEu,trpoQ,hVHHYa,idZfsJ,bKgizp,iPGYsi,caeYDk,jahcnb,ccToMy,cNvKlH,cLfAnm,erWCJP,hAeDYA,fjdBNx,emFMJu,hlUAHL,iStsmI,eIgvIk,eVFfWF,fywjmm,dyczTK,kszRgZ,eTvGbF,kzRgrI,cmAPIB,jwXCBK,gtBUEp,hVZtwF,cMYnca,brJRqk,iJmJly,jACbi,gIJuDf,fleZSW,BnySK,VHzRk,ePiodO,kQJlnf,gJICKO,iZJewz,jfjHXm,bfkNRF,fXBLEV,gMPsNT,iBylDf,kSGBPx,ytOJl,eJsjkT,aZrVR,bAzdCq,ioTNdO,"}/*!sc*/
.jGoVeP{border-radius:6px;border:1px solid;border-color:transparent;font-family:inherit;font-weight:500;font-size:14px;cursor:pointer;-webkit-appearance:none;-moz-appearance:none;appearance:none;-webkit-user-select:none;-moz-user-select:none;-ms-user-select:none;user-select:none;-webkit-text-decoration:none;text-decoration:none;text-align:center;display:-webkit-box;display:-webkit-flex;display:-ms-flexbox;display:flex;-webkit-align-items:center;-webkit-box-align:center;-ms-flex-align:center;align-items:center;-webkit-box-pack:justify;-webkit-justify-content:space-between;-ms-flex-pack:justify;justify-content:space-between;height:32px;padding:0 12px;gap:8px;min-width:-webkit-max-content;min-width:-moz-max-content;min-width:max-content;-webkit-transition:80ms cubic-bezier(0.65,0,0.35,1);transition:80ms cubic-bezier(0.65,0,0.35,1);-webkit-transition-property:color,fill,background-color,border-color;transition-property:color,fill,background-color,border-color;color:var(--button-default-fgColor-rest,var(--color-btn-text,#24292f));background-color:transparent;box-shadow:none;}/*!sc*/
.jGoVeP:focus:not(:disabled){box-shadow:none;outline:2px solid var(--fgColor-accent,var(--color-accent-fg,#0969da));outline-offset:-2px;}/*!sc*/
.jGoVeP:focus:not(:disabled):not(:focus-visible){outline:solid 1px transparent;}/*!sc*/
.jGoVeP:focus-visible:not(:disabled){box-shadow:none;outline:2px solid var(--fgColor-accent,var(--color-accent-fg,#0969da));outline-offset:-2px;}/*!sc*/
.jGoVeP[href]{display:-webkit-inline-box;display:-webkit-inline-flex;display:-ms-inline-flexbox;display:inline-flex;}/*!sc*/
.jGoVeP[href]:hover{-webkit-text-decoration:none;text-decoration:none;}/*!sc*/
.jGoVeP:hover{-webkit-transition-duration:80ms;transition-duration:80ms;}/*!sc*/
.jGoVeP:active{-webkit-transition:none;transition:none;}/*!sc*/
.jGoVeP[data-inactive]{cursor:auto;}/*!sc*/
.jGoVeP:disabled{cursor:not-allowed;box-shadow:none;color:var(--fgColor-disabled,var(--color-primer-fg-disabled,#8c959f));}/*!sc*/
.jGoVeP:disabled [data-component=ButtonCounter],.jGoVeP:disabled [data-component="leadingVisual"],.jGoVeP:disabled [data-component="trailingAction"]{color:inherit;}/*!sc*/
@media (forced-colors:active){.jGoVeP:focus{outline:solid 1px transparent;}}/*!sc*/
.jGoVeP [data-component=ButtonCounter]{font-size:12px;}/*!sc*/
.jGoVeP[data-component=IconButton]{display:inline-grid;padding:unset;place-content:center;width:32px;min-width:unset;}/*!sc*/
.jGoVeP[data-size="small"]{padding:0 8px;height:28px;gap:4px;font-size:12px;}/*!sc*/
.jGoVeP[data-size="small"] [data-component="text"]{line-height:calc(20 / 12);}/*!sc*/
.jGoVeP[data-size="small"] [data-component=ButtonCounter]{font-size:12px;}/*!sc*/
.jGoVeP[data-size="small"] [data-component="buttonContent"] > :not(:last-child){margin-right:4px;}/*!sc*/
.jGoVeP[data-size="small"][data-component=IconButton]{width:28px;padding:unset;}/*!sc*/
.jGoVeP[data-size="large"]{padding:0 16px;height:40px;gap:8px;}/*!sc*/
.jGoVeP[data-size="large"] [data-component="buttonContent"] > :not(:last-child){margin-right:8px;}/*!sc*/
.jGoVeP[data-size="large"][data-component=IconButton]{width:40px;padding:unset;}/*!sc*/
.jGoVeP[data-block="block"]{width:100%;}/*!sc*/
.jGoVeP[data-label-wrap="true"]{min-width:-webkit-fit-content;min-width:-moz-fit-content;min-width:fit-content;height:unset;min-height:var(--control-medium-size,2rem);}/*!sc*/
.jGoVeP[data-label-wrap="true"] [data-component="buttonContent"]{-webkit-flex:1 1 auto;-ms-flex:1 1 auto;flex:1 1 auto;-webkit-align-self:stretch;-ms-flex-item-align:stretch;align-self:stretch;padding-block:calc(var(--control-medium-paddingBlock,0.375rem) - 2px);}/*!sc*/
.jGoVeP[data-label-wrap="true"] [data-component="text"]{white-space:unset;word-break:break-word;}/*!sc*/
.jGoVeP[data-label-wrap="true"][data-size="small"]{height:unset;min-height:var(--control-small-size,1.75rem);}/*!sc*/
.jGoVeP[data-label-wrap="true"][data-size="small"] [data-component="buttonContent"]{padding-block:calc(var(--control-small-paddingBlock,0.25rem) - 2px);}/*!sc*/
.jGoVeP[data-label-wrap="true"][data-size="large"]{height:unset;min-height:var(--control-large-size,2.5rem);padding-inline:var(--control-large-paddingInline-spacious,1rem);}/*!sc*/
.jGoVeP[data-label-wrap="true"][data-size="large"] [data-component="buttonContent"]{padding-block:calc(var(--control-large-paddingBlock,0.625rem) - 2px);}/*!sc*/
.jGoVeP[data-inactive]:not([disabled]){background-color:var(--button-inactive-bgColor,var(--button-inactive-bgColor-rest,var(--color-btn-inactive-bg,#eaeef2)));border-color:var(--button-inactive-bgColor,var(--button-inactive-bgColor-rest,var(--color-btn-inactive-bg,#eaeef2)));color:var(--button-inactive-fgColor,var(--button-inactive-fgColor-rest,var(--color-btn-inactive-text,#57606a)));}/*!sc*/
.jGoVeP[data-inactive]:not([disabled]):focus-visible{box-shadow:none;}/*!sc*/
.jGoVeP [data-component="leadingVisual"]{grid-area:leadingVisual;color:var(--fgColor-muted,var(--color-fg-muted,#656d76));}/*!sc*/
.jGoVeP [data-component="text"]{grid-area:text;line-height:calc(20/14);white-space:nowrap;}/*!sc*/
.jGoVeP [data-component="trailingVisual"]{grid-area:trailingVisual;}/*!sc*/
.jGoVeP [data-component="trailingAction"]{margin-right:-4px;color:var(--fgColor-muted,var(--color-fg-muted,#656d76));}/*!sc*/
.jGoVeP [data-component="buttonContent"]{-webkit-flex:1 0 auto;-ms-flex:1 0 auto;flex:1 0 auto;display:grid;grid-template-areas:"leadingVisual text trailingVisual";grid-template-columns:min-content minmax(0,auto) min-content;-webkit-align-items:center;-webkit-box-align:center;-ms-flex-align:center;align-items:center;-webkit-align-content:center;-ms-flex-line-pack:center;align-content:center;}/*!sc*/
.jGoVeP [data-component="buttonContent"] > :not(:last-child){margin-right:8px;}/*!sc*/
.jGoVeP [data-component="loadingSpinner"]{grid-area:text;margin-right:0px !important;place-self:center;}/*!sc*/
.jGoVeP [data-component="loadingSpinner"] + [data-component="text"]{visibility:hidden;}/*!sc*/
.jGoVeP:hover:not([disabled]){background-color:var(--control-transparent-bgColor-hover,var(--color-action-list-item-default-hover-bg,rgba(208,215,222,0.32)));}/*!sc*/
.jGoVeP:active:not([disabled]){background-color:var(--control-transparent-bgColor-active,var(--color-action-list-item-default-active-bg,rgba(208,215,222,0.48)));}/*!sc*/
.jGoVeP[aria-expanded=true]{background-color:var(--control-transparent-bgColor-selected,var(--color-action-list-item-default-selected-bg,rgba(208,215,222,0.24)));}/*!sc*/
.jGoVeP[data-component="IconButton"][data-no-visuals]{color:var(--fgColor-muted,var(--color-fg-muted,#656d76));}/*!sc*/
.jGoVeP[data-no-visuals]{color:var(--fgColor-accent,var(--color-accent-fg,#0969da));}/*!sc*/
.jGoVeP:has([data-component="ButtonCounter"]){color:var(--button-default-fgColor-rest,var(--color-btn-text,#24292f));}/*!sc*/
.jGoVeP:disabled[data-no-visuals]{color:var(--fgColor-disabled,var(--color-primer-fg-disabled,#8c959f));}/*!sc*/
.jGoVeP:disabled[data-no-visuals] [data-component=ButtonCounter]{color:inherit;}/*!sc*/
.jGoVeP{color:var(--fgColor-muted,var(--color-fg-muted,#656d76));padding-left:8px;padding-right:8px;display:none;}/*!sc*/
@media screen and (max-width:768px){.jGoVeP{display:block;}}/*!sc*/
.cRDVgI{border-radius:6px;border:1px solid;border-color:transparent;font-family:inherit;font-weight:500;font-size:14px;cursor:pointer;-webkit-appearance:none;-moz-appearance:none;appearance:none;-webkit-user-select:none;-moz-user-select:none;-ms-user-select:none;user-select:none;-webkit-text-decoration:none;text-decoration:none;text-align:center;display:-webkit-box;display:-webkit-flex;display:-ms-flexbox;display:flex;-webkit-align-items:center;-webkit-box-align:center;-ms-flex-align:center;align-items:center;-webkit-box-pack:justify;-webkit-justify-content:space-between;-ms-flex-pack:justify;justify-content:space-between;height:32px;padding:0 12px;gap:8px;min-width:-webkit-max-content;min-width:-moz-max-content;min-width:max-content;-webkit-transition:80ms cubic-bezier(0.65,0,0.35,1);transition:80ms cubic-bezier(0.65,0,0.35,1);-webkit-transition-property:color,fill,background-color,border-color;transition-property:color,fill,background-color,border-color;color:var(--button-default-fgColor-rest,var(--color-btn-text,#24292f));background-color:transparent;box-shadow:none;}/*!sc*/
.cRDVgI:focus:not(:disabled){box-shadow:none;outline:2px solid var(--fgColor-accent,var(--color-accent-fg,#0969da));outline-offset:-2px;}/*!sc*/
.cRDVgI:focus:not(:disabled):not(:focus-visible){outline:solid 1px transparent;}/*!sc*/
.cRDVgI:focus-visible:not(:disabled){box-shadow:none;outline:2px solid var(--fgColor-accent,var(--color-accent-fg,#0969da));outline-offset:-2px;}/*!sc*/
.cRDVgI[href]{display:-webkit-inline-box;display:-webkit-inline-flex;display:-ms-inline-flexbox;display:inline-flex;}/*!sc*/
.cRDVgI[href]:hover{-webkit-text-decoration:none;text-decoration:none;}/*!sc*/
.cRDVgI:hover{-webkit-transition-duration:80ms;transition-duration:80ms;}/*!sc*/
.cRDVgI:active{-webkit-transition:none;transition:none;}/*!sc*/
.cRDVgI[data-inactive]{cursor:auto;}/*!sc*/
.cRDVgI:disabled{cursor:not-allowed;box-shadow:none;color:var(--fgColor-disabled,var(--color-primer-fg-disabled,#8c959f));}/*!sc*/
.cRDVgI:disabled [data-component=ButtonCounter],.cRDVgI:disabled [data-component="leadingVisual"],.cRDVgI:disabled [data-component="trailingAction"]{color:inherit;}/*!sc*/
@media (forced-colors:active){.cRDVgI:focus{outline:solid 1px transparent;}}/*!sc*/
.cRDVgI [data-component=ButtonCounter]{font-size:12px;}/*!sc*/
.cRDVgI[data-component=IconButton]{display:inline-grid;padding:unset;place-content:center;width:32px;min-width:unset;}/*!sc*/
.cRDVgI[data-size="small"]{padding:0 8px;height:28px;gap:4px;font-size:12px;}/*!sc*/
.cRDVgI[data-size="small"] [data-component="text"]{line-height:calc(20 / 12);}/*!sc*/
.cRDVgI[data-size="small"] [data-component=ButtonCounter]{font-size:12px;}/*!sc*/
.cRDVgI[data-size="small"] [data-component="buttonContent"] > :not(:last-child){margin-right:4px;}/*!sc*/
.cRDVgI[data-size="small"][data-component=IconButton]{width:28px;padding:unset;}/*!sc*/
.cRDVgI[data-size="large"]{padding:0 16px;height:40px;gap:8px;}/*!sc*/
.cRDVgI[data-size="large"] [data-component="buttonContent"] > :not(:last-child){margin-right:8px;}/*!sc*/
.cRDVgI[data-size="large"][data-component=IconButton]{width:40px;padding:unset;}/*!sc*/
.cRDVgI[data-block="block"]{width:100%;}/*!sc*/
.cRDVgI[data-label-wrap="true"]{min-width:-webkit-fit-content;min-width:-moz-fit-content;min-width:fit-content;height:unset;min-height:var(--control-medium-size,2rem);}/*!sc*/
.cRDVgI[data-label-wrap="true"] [data-component="buttonContent"]{-webkit-flex:1 1 auto;-ms-flex:1 1 auto;flex:1 1 auto;-webkit-align-self:stretch;-ms-flex-item-align:stretch;align-self:stretch;padding-block:calc(var(--control-medium-paddingBlock,0.375rem) - 2px);}/*!sc*/
.cRDVgI[data-label-wrap="true"] [data-component="text"]{white-space:unset;word-break:break-word;}/*!sc*/
.cRDVgI[data-label-wrap="true"][data-size="small"]{height:unset;min-height:var(--control-small-size,1.75rem);}/*!sc*/
.cRDVgI[data-label-wrap="true"][data-size="small"] [data-component="buttonContent"]{padding-block:calc(var(--control-small-paddingBlock,0.25rem) - 2px);}/*!sc*/
.cRDVgI[data-label-wrap="true"][data-size="large"]{height:unset;min-height:var(--control-large-size,2.5rem);padding-inline:var(--control-large-paddingInline-spacious,1rem);}/*!sc*/
.cRDVgI[data-label-wrap="true"][data-size="large"] [data-component="buttonContent"]{padding-block:calc(var(--control-large-paddingBlock,0.625rem) - 2px);}/*!sc*/
.cRDVgI[data-inactive]:not([disabled]){background-color:var(--button-inactive-bgColor,var(--button-inactive-bgColor-rest,var(--color-btn-inactive-bg,#eaeef2)));border-color:var(--button-inactive-bgColor,var(--button-inactive-bgColor-rest,var(--color-btn-inactive-bg,#eaeef2)));color:var(--button-inactive-fgColor,var(--button-inactive-fgColor-rest,var(--color-btn-inactive-text,#57606a)));}/*!sc*/
.cRDVgI[data-inactive]:not([disabled]):focus-visible{box-shadow:none;}/*!sc*/
.cRDVgI [data-component="leadingVisual"]{grid-area:leadingVisual;color:var(--fgColor-muted,var(--color-fg-muted,#656d76));}/*!sc*/
.cRDVgI [data-component="text"]{grid-area:text;line-height:calc(20/14);white-space:nowrap;}/*!sc*/
.cRDVgI [data-component="trailingVisual"]{grid-area:trailingVisual;}/*!sc*/
.cRDVgI [data-component="trailingAction"]{margin-right:-4px;color:var(--fgColor-muted,var(--color-fg-muted,#656d76));}/*!sc*/
.cRDVgI [data-component="buttonContent"]{-webkit-flex:1 0 auto;-ms-flex:1 0 auto;flex:1 0 auto;display:grid;grid-template-areas:"leadingVisual text trailingVisual";grid-template-columns:min-content minmax(0,auto) min-content;-webkit-align-items:center;-webkit-box-align:center;-ms-flex-align:center;align-items:center;-webkit-align-content:center;-ms-flex-line-pack:center;align-content:center;}/*!sc*/
.cRDVgI [data-component="buttonContent"] > :not(:last-child){margin-right:8px;}/*!sc*/
.cRDVgI [data-component="loadingSpinner"]{grid-area:text;margin-right:0px !important;place-self:center;}/*!sc*/
.cRDVgI [data-component="loadingSpinner"] + [data-component="text"]{visibility:hidden;}/*!sc*/
.cRDVgI:hover:not([disabled]){background-color:var(--control-transparent-bgColor-hover,var(--color-action-list-item-default-hover-bg,rgba(208,215,222,0.32)));}/*!sc*/
.cRDVgI:active:not([disabled]){background-color:var(--control-transparent-bgColor-active,var(--color-action-list-item-default-active-bg,rgba(208,215,222,0.48)));}/*!sc*/
.cRDVgI[aria-expanded=true]{background-color:var(--control-transparent-bgColor-selected,var(--color-action-list-item-default-selected-bg,rgba(208,215,222,0.24)));}/*!sc*/
.cRDVgI[data-component="IconButton"][data-no-visuals]{color:var(--fgColor-muted,var(--color-fg-muted,#656d76));}/*!sc*/
.cRDVgI[data-no-visuals]{color:var(--fgColor-muted,var(--color-fg-muted,#656d76));height:32px;position:relative;}/*!sc*/
@media screen and (max-width:768px){.cRDVgI[data-no-visuals]{display:none;}}/*!sc*/
.cRDVgI:has([data-component="ButtonCounter"]){color:var(--button-default-fgColor-rest,var(--color-btn-text,#24292f));}/*!sc*/
.cRDVgI:disabled[data-no-visuals]{color:var(--fgColor-disabled,var(--color-primer-fg-disabled,#8c959f));}/*!sc*/
.cRDVgI:disabled[data-no-visuals] [data-component=ButtonCounter]{color:inherit;}/*!sc*/
.jwBfae{border-radius:6px;border:1px solid;border-color:var(--button-default-borderColor-rest,var(--button-default-borderColor-rest,var(--color-btn-border,rgba(31,35,40,0.15))));font-family:inherit;font-weight:500;font-size:14px;cursor:pointer;-webkit-appearance:none;-moz-appearance:none;appearance:none;-webkit-user-select:none;-moz-user-select:none;-ms-user-select:none;user-select:none;-webkit-text-decoration:none;text-decoration:none;text-align:center;display:-webkit-box;display:-webkit-flex;display:-ms-flexbox;display:flex;-webkit-align-items:center;-webkit-box-align:center;-ms-flex-align:center;align-items:center;-webkit-box-pack:justify;-webkit-justify-content:space-between;-ms-flex-pack:justify;justify-content:space-between;height:32px;padding:0 12px;gap:8px;min-width:-webkit-max-content;min-width:-moz-max-content;min-width:max-content;-webkit-transition:80ms cubic-bezier(0.65,0,0.35,1);transition:80ms cubic-bezier(0.65,0,0.35,1);-webkit-transition-property:color,fill,background-color,border-color;transition-property:color,fill,background-color,border-color;color:var(--button-default-fgColor-rest,var(--color-btn-text,#24292f));background-color:var(--button-default-bgColor-rest,var(--color-btn-bg,#f6f8fa));box-shadow:var(--button-default-shadow-resting,var(--color-btn-shadow,0 1px 0 rgba(31,35,40,0.04))),var(--button-default-shadow-inset,var(--color-btn-inset-shadow,inset 0 1px 0 rgba(255,255,255,0.25)));}/*!sc*/
.jwBfae:focus:not(:disabled){box-shadow:none;outline:2px solid var(--fgColor-accent,var(--color-accent-fg,#0969da));outline-offset:-2px;}/*!sc*/
.jwBfae:focus:not(:disabled):not(:focus-visible){outline:solid 1px transparent;}/*!sc*/
.jwBfae:focus-visible:not(:disabled){box-shadow:none;outline:2px solid var(--fgColor-accent,var(--color-accent-fg,#0969da));outline-offset:-2px;}/*!sc*/
.jwBfae[href]{display:-webkit-inline-box;display:-webkit-inline-flex;display:-ms-inline-flexbox;display:inline-flex;}/*!sc*/
.jwBfae[href]:hover{-webkit-text-decoration:none;text-decoration:none;}/*!sc*/
.jwBfae:hover{-webkit-transition-duration:80ms;transition-duration:80ms;}/*!sc*/
.jwBfae:active{-webkit-transition:none;transition:none;}/*!sc*/
.jwBfae[data-inactive]{cursor:auto;}/*!sc*/
.jwBfae:disabled{cursor:not-allowed;box-shadow:none;color:var(--fgColor-disabled,var(--color-primer-fg-disabled,#8c959f));border-color:var(--button-default-borderColor-disabled,var(--button-default-borderColor-rest,var(--color-btn-border,rgba(31,35,40,0.15))));background-color:var(--button-default-bgColor-disabled,var(--control-bgColor-disabled,var(--color-input-disabled-bg,rgba(175,184,193,0.2))));}/*!sc*/
.jwBfae:disabled [data-component=ButtonCounter]{color:inherit;}/*!sc*/
@media (forced-colors:active){.jwBfae:focus{outline:solid 1px transparent;}}/*!sc*/
.jwBfae [data-component=ButtonCounter]{font-size:12px;background-color:var(--buttonCounter-default-bgColor-rest,var(--color-btn-counter-bg,rgba(31,35,40,0.08)));}/*!sc*/
.jwBfae[data-component=IconButton]{display:inline-grid;padding:unset;place-content:center;width:32px;min-width:unset;}/*!sc*/
.jwBfae[data-size="small"]{padding:0 8px;height:28px;gap:4px;font-size:12px;}/*!sc*/
.jwBfae[data-size="small"] [data-component="text"]{line-height:calc(20 / 12);}/*!sc*/
.jwBfae[data-size="small"] [data-component=ButtonCounter]{font-size:12px;}/*!sc*/
.jwBfae[data-size="small"] [data-component="buttonContent"] > :not(:last-child){margin-right:4px;}/*!sc*/
.jwBfae[data-size="small"][data-component=IconButton]{width:28px;padding:unset;}/*!sc*/
.jwBfae[data-size="large"]{padding:0 16px;height:40px;gap:8px;}/*!sc*/
.jwBfae[data-size="large"] [data-component="buttonContent"] > :not(:last-child){margin-right:8px;}/*!sc*/
.jwBfae[data-size="large"][data-component=IconButton]{width:40px;padding:unset;}/*!sc*/
.jwBfae[data-block="block"]{width:100%;}/*!sc*/
.jwBfae[data-label-wrap="true"]{min-width:-webkit-fit-content;min-width:-moz-fit-content;min-width:fit-content;height:unset;min-height:var(--control-medium-size,2rem);}/*!sc*/
.jwBfae[data-label-wrap="true"] [data-component="buttonContent"]{-webkit-flex:1 1 auto;-ms-flex:1 1 auto;flex:1 1 auto;-webkit-align-self:stretch;-ms-flex-item-align:stretch;align-self:stretch;padding-block:calc(var(--control-medium-paddingBlock,0.375rem) - 2px);}/*!sc*/
.jwBfae[data-label-wrap="true"] [data-component="text"]{white-space:unset;word-break:break-word;}/*!sc*/
.jwBfae[data-label-wrap="true"][data-size="small"]{height:unset;min-height:var(--control-small-size,1.75rem);}/*!sc*/
.jwBfae[data-label-wrap="true"][data-size="small"] [data-component="buttonContent"]{padding-block:calc(var(--control-small-paddingBlock,0.25rem) - 2px);}/*!sc*/
.jwBfae[data-label-wrap="true"][data-size="large"]{height:unset;min-height:var(--control-large-size,2.5rem);padding-inline:var(--control-large-paddingInline-spacious,1rem);}/*!sc*/
.jwBfae[data-label-wrap="true"][data-size="large"] [data-component="buttonContent"]{padding-block:calc(var(--control-large-paddingBlock,0.625rem) - 2px);}/*!sc*/
.jwBfae[data-inactive]:not([disabled]){background-color:var(--button-inactive-bgColor,var(--button-inactive-bgColor-rest,var(--color-btn-inactive-bg,#eaeef2)));border-color:var(--button-inactive-bgColor,var(--button-inactive-bgColor-rest,var(--color-btn-inactive-bg,#eaeef2)));color:var(--button-inactive-fgColor,var(--button-inactive-fgColor-rest,var(--color-btn-inactive-text,#57606a)));}/*!sc*/
.jwBfae[data-inactive]:not([disabled]):focus-visible{box-shadow:none;}/*!sc*/
.jwBfae [data-component="leadingVisual"]{grid-area:leadingVisual;}/*!sc*/
.jwBfae [data-component="text"]{grid-area:text;line-height:calc(20/14);white-space:nowrap;}/*!sc*/
.jwBfae [data-component="trailingVisual"]{grid-area:trailingVisual;}/*!sc*/
.jwBfae [data-component="trailingAction"]{margin-right:-4px;}/*!sc*/
.jwBfae [data-component="buttonContent"]{-webkit-flex:1 0 auto;-ms-flex:1 0 auto;flex:1 0 auto;display:grid;grid-template-areas:"leadingVisual text trailingVisual";grid-template-columns:min-content minmax(0,auto) min-content;-webkit-align-items:center;-webkit-box-align:center;-ms-flex-align:center;align-items:center;-webkit-align-content:center;-ms-flex-line-pack:center;align-content:center;}/*!sc*/
.jwBfae [data-component="buttonContent"] > :not(:last-child){margin-right:8px;}/*!sc*/
.jwBfae [data-component="loadingSpinner"]{grid-area:text;margin-right:0px !important;place-self:center;}/*!sc*/
.jwBfae [data-component="loadingSpinner"] + [data-component="text"]{visibility:hidden;}/*!sc*/
.jwBfae:hover:not([disabled]):not([data-inactive]){background-color:var(--button-default-bgColor-hover,var(--color-btn-hover-bg,#f3f4f6));border-color:var(--button-default-borderColor-hover,var(--button-default-borderColor-hover,var(--color-btn-hover-border,rgba(31,35,40,0.15))));}/*!sc*/
.jwBfae:active:not([disabled]):not([data-inactive]){background-color:var(--button-default-bgColor-active,var(--color-btn-active-bg,hsla(220,14%,93%,1)));border-color:var(--button-default-borderColor-active,var(--button-default-borderColor-active,var(--color-btn-active-border,rgba(31,35,40,0.15))));}/*!sc*/
.jwBfae[aria-expanded=true]{background-color:var(--button-default-bgColor-active,var(--color-btn-active-bg,hsla(220,14%,93%,1)));border-color:var(--button-default-borderColor-active,var(--button-default-borderColor-active,var(--color-btn-active-border,rgba(31,35,40,0.15))));}/*!sc*/
.jwBfae [data-component="leadingVisual"],.jwBfae [data-component="trailingVisual"],.jwBfae [data-component="trailingAction"]{color:var(--button-color,var(--fgColor-muted,var(--color-fg-muted,#656d76)));}/*!sc*/
.jwBfae[data-component="IconButton"][data-no-visuals]{color:var(--fgColor-muted,var(--color-fg-muted,#656d76));}/*!sc*/
.jwBfae{display:-webkit-box;display:-webkit-flex;display:-ms-flexbox;display:flex;min-width:0;}/*!sc*/
.jwBfae svg{color:var(--fgColor-muted,var(--color-fg-muted,#656d76));}/*!sc*/
.jwBfae > span{width:inherit;}/*!sc*/
.YkvTm{border-radius:6px;border:1px solid;border-color:var(--button-default-borderColor-rest,var(--button-default-borderColor-rest,var(--color-btn-border,rgba(31,35,40,0.15))));font-family:inherit;font-weight:500;font-size:14px;cursor:pointer;-webkit-appearance:none;-moz-appearance:none;appearance:none;-webkit-user-select:none;-moz-user-select:none;-ms-user-select:none;user-select:none;-webkit-text-decoration:none;text-decoration:none;text-align:center;display:-webkit-box;display:-webkit-flex;display:-ms-flexbox;display:flex;-webkit-align-items:center;-webkit-box-align:center;-ms-flex-align:center;align-items:center;-webkit-box-pack:justify;-webkit-justify-content:space-between;-ms-flex-pack:justify;justify-content:space-between;height:32px;padding:0 12px;gap:8px;min-width:-webkit-max-content;min-width:-moz-max-content;min-width:max-content;-webkit-transition:80ms cubic-bezier(0.65,0,0.35,1);transition:80ms cubic-bezier(0.65,0,0.35,1);-webkit-transition-property:color,fill,background-color,border-color;transition-property:color,fill,background-color,border-color;color:var(--button-default-fgColor-rest,var(--color-btn-text,#24292f));background-color:var(--button-default-bgColor-rest,var(--color-btn-bg,#f6f8fa));box-shadow:var(--button-default-shadow-resting,var(--color-btn-shadow,0 1px 0 rgba(31,35,40,0.04))),var(--button-default-shadow-inset,var(--color-btn-inset-shadow,inset 0 1px 0 rgba(255,255,255,0.25)));}/*!sc*/
.YkvTm:focus:not(:disabled){box-shadow:none;outline:2px solid var(--fgColor-accent,var(--color-accent-fg,#0969da));outline-offset:-2px;}/*!sc*/
.YkvTm:focus:not(:disabled):not(:focus-visible){outline:solid 1px transparent;}/*!sc*/
.YkvTm:focus-visible:not(:disabled){box-shadow:none;outline:2px solid var(--fgColor-accent,var(--color-accent-fg,#0969da));outline-offset:-2px;}/*!sc*/
.YkvTm[href]{display:-webkit-inline-box;display:-webkit-inline-flex;display:-ms-inline-flexbox;display:inline-flex;}/*!sc*/
.YkvTm[href]:hover{-webkit-text-decoration:none;text-decoration:none;}/*!sc*/
.YkvTm:hover{-webkit-transition-duration:80ms;transition-duration:80ms;}/*!sc*/
.YkvTm:active{-webkit-transition:none;transition:none;}/*!sc*/
.YkvTm[data-inactive]{cursor:auto;}/*!sc*/
.YkvTm:disabled{cursor:not-allowed;box-shadow:none;color:var(--fgColor-disabled,var(--color-primer-fg-disabled,#8c959f));border-color:var(--button-default-borderColor-disabled,var(--button-default-borderColor-rest,var(--color-btn-border,rgba(31,35,40,0.15))));background-color:var(--button-default-bgColor-disabled,var(--control-bgColor-disabled,var(--color-input-disabled-bg,rgba(175,184,193,0.2))));}/*!sc*/
.YkvTm:disabled [data-component=ButtonCounter]{color:inherit;}/*!sc*/
@media (forced-colors:active){.YkvTm:focus{outline:solid 1px transparent;}}/*!sc*/
.YkvTm [data-component=ButtonCounter]{font-size:12px;background-color:var(--buttonCounter-default-bgColor-rest,var(--color-btn-counter-bg,rgba(31,35,40,0.08)));}/*!sc*/
.YkvTm[data-component=IconButton]{display:inline-grid;padding:unset;place-content:center;width:32px;min-width:unset;}/*!sc*/
.YkvTm[data-size="small"]{padding:0 8px;height:28px;gap:4px;font-size:12px;}/*!sc*/
.YkvTm[data-size="small"] [data-component="text"]{line-height:calc(20 / 12);}/*!sc*/
.YkvTm[data-size="small"] [data-component=ButtonCounter]{font-size:12px;}/*!sc*/
.YkvTm[data-size="small"] [data-component="buttonContent"] > :not(:last-child){margin-right:4px;}/*!sc*/
.YkvTm[data-size="small"][data-component=IconButton]{width:28px;padding:unset;}/*!sc*/
.YkvTm[data-size="large"]{padding:0 16px;height:40px;gap:8px;}/*!sc*/
.YkvTm[data-size="large"] [data-component="buttonContent"] > :not(:last-child){margin-right:8px;}/*!sc*/
.YkvTm[data-size="large"][data-component=IconButton]{width:40px;padding:unset;}/*!sc*/
.YkvTm[data-block="block"]{width:100%;}/*!sc*/
.YkvTm[data-label-wrap="true"]{min-width:-webkit-fit-content;min-width:-moz-fit-content;min-width:fit-content;height:unset;min-height:var(--control-medium-size,2rem);}/*!sc*/
.YkvTm[data-label-wrap="true"] [data-component="buttonContent"]{-webkit-flex:1 1 auto;-ms-flex:1 1 auto;flex:1 1 auto;-webkit-align-self:stretch;-ms-flex-item-align:stretch;align-self:stretch;padding-block:calc(var(--control-medium-paddingBlock,0.375rem) - 2px);}/*!sc*/
.YkvTm[data-label-wrap="true"] [data-component="text"]{white-space:unset;word-break:break-word;}/*!sc*/
.YkvTm[data-label-wrap="true"][data-size="small"]{height:unset;min-height:var(--control-small-size,1.75rem);}/*!sc*/
.YkvTm[data-label-wrap="true"][data-size="small"] [data-component="buttonContent"]{padding-block:calc(var(--control-small-paddingBlock,0.25rem) - 2px);}/*!sc*/
.YkvTm[data-label-wrap="true"][data-size="large"]{height:unset;min-height:var(--control-large-size,2.5rem);padding-inline:var(--control-large-paddingInline-spacious,1rem);}/*!sc*/
.YkvTm[data-label-wrap="true"][data-size="large"] [data-component="buttonContent"]{padding-block:calc(var(--control-large-paddingBlock,0.625rem) - 2px);}/*!sc*/
.YkvTm[data-inactive]:not([disabled]){background-color:var(--button-inactive-bgColor,var(--button-inactive-bgColor-rest,var(--color-btn-inactive-bg,#eaeef2)));border-color:var(--button-inactive-bgColor,var(--button-inactive-bgColor-rest,var(--color-btn-inactive-bg,#eaeef2)));color:var(--button-inactive-fgColor,var(--button-inactive-fgColor-rest,var(--color-btn-inactive-text,#57606a)));}/*!sc*/
.YkvTm[data-inactive]:not([disabled]):focus-visible{box-shadow:none;}/*!sc*/
.YkvTm [data-component="leadingVisual"]{grid-area:leadingVisual;}/*!sc*/
.YkvTm [data-component="text"]{grid-area:text;line-height:calc(20/14);white-space:nowrap;}/*!sc*/
.YkvTm [data-component="trailingVisual"]{grid-area:trailingVisual;}/*!sc*/
.YkvTm [data-component="trailingAction"]{margin-right:-4px;}/*!sc*/
.YkvTm [data-component="buttonContent"]{-webkit-flex:1 0 auto;-ms-flex:1 0 auto;flex:1 0 auto;display:grid;grid-template-areas:"leadingVisual text trailingVisual";grid-template-columns:min-content minmax(0,auto) min-content;-webkit-align-items:center;-webkit-box-align:center;-ms-flex-align:center;align-items:center;-webkit-align-content:center;-ms-flex-line-pack:center;align-content:center;}/*!sc*/
.YkvTm [data-component="buttonContent"] > :not(:last-child){margin-right:8px;}/*!sc*/
.YkvTm [data-component="loadingSpinner"]{grid-area:text;margin-right:0px !important;place-self:center;}/*!sc*/
.YkvTm [data-component="loadingSpinner"] + [data-component="text"]{visibility:hidden;}/*!sc*/
.YkvTm:hover:not([disabled]):not([data-inactive]){background-color:var(--button-default-bgColor-hover,var(--color-btn-hover-bg,#f3f4f6));border-color:var(--button-default-borderColor-hover,var(--button-default-borderColor-hover,var(--color-btn-hover-border,rgba(31,35,40,0.15))));}/*!sc*/
.YkvTm:active:not([disabled]):not([data-inactive]){background-color:var(--button-default-bgColor-active,var(--color-btn-active-bg,hsla(220,14%,93%,1)));border-color:var(--button-default-borderColor-active,var(--button-default-borderColor-active,var(--color-btn-active-border,rgba(31,35,40,0.15))));}/*!sc*/
.YkvTm[aria-expanded=true]{background-color:var(--button-default-bgColor-active,var(--color-btn-active-bg,hsla(220,14%,93%,1)));border-color:var(--button-default-borderColor-active,var(--button-default-borderColor-active,var(--color-btn-active-border,rgba(31,35,40,0.15))));}/*!sc*/
.YkvTm [data-component="leadingVisual"],.YkvTm [data-component="trailingVisual"],.YkvTm [data-component="trailingAction"]{color:var(--button-color,var(--fgColor-muted,var(--color-fg-muted,#656d76)));}/*!sc*/
.YkvTm[data-component="IconButton"][data-no-visuals]{color:var(--fgColor-muted,var(--color-fg-muted,#656d76));}/*!sc*/
.YkvTm[data-no-visuals]{color:var(--fgColor-muted,var(--color-fg-subtle,#6e7781));border-top-right-radius:0;border-bottom-right-radius:0;border-right:0;}/*!sc*/
.klDWQA{border-radius:6px;border:1px solid;border-color:var(--button-default-borderColor-rest,var(--button-default-borderColor-rest,var(--color-btn-border,rgba(31,35,40,0.15))));font-family:inherit;font-weight:500;font-size:14px;cursor:pointer;-webkit-appearance:none;-moz-appearance:none;appearance:none;-webkit-user-select:none;-moz-user-select:none;-ms-user-select:none;user-select:none;-webkit-text-decoration:none;text-decoration:none;text-align:center;display:-webkit-box;display:-webkit-flex;display:-ms-flexbox;display:flex;-webkit-align-items:center;-webkit-box-align:center;-ms-flex-align:center;align-items:center;-webkit-box-pack:justify;-webkit-justify-content:space-between;-ms-flex-pack:justify;justify-content:space-between;height:32px;padding:0 12px;gap:8px;min-width:-webkit-max-content;min-width:-moz-max-content;min-width:max-content;-webkit-transition:80ms cubic-bezier(0.65,0,0.35,1);transition:80ms cubic-bezier(0.65,0,0.35,1);-webkit-transition-property:color,fill,background-color,border-color;transition-property:color,fill,background-color,border-color;color:var(--button-default-fgColor-rest,var(--color-btn-text,#24292f));background-color:var(--button-default-bgColor-rest,var(--color-btn-bg,#f6f8fa));box-shadow:var(--button-default-shadow-resting,var(--color-btn-shadow,0 1px 0 rgba(31,35,40,0.04))),var(--button-default-shadow-inset,var(--color-btn-inset-shadow,inset 0 1px 0 rgba(255,255,255,0.25)));}/*!sc*/
.klDWQA:focus:not(:disabled){box-shadow:none;outline:2px solid var(--fgColor-accent,var(--color-accent-fg,#0969da));outline-offset:-2px;}/*!sc*/
.klDWQA:focus:not(:disabled):not(:focus-visible){outline:solid 1px transparent;}/*!sc*/
.klDWQA:focus-visible:not(:disabled){box-shadow:none;outline:2px solid var(--fgColor-accent,var(--color-accent-fg,#0969da));outline-offset:-2px;}/*!sc*/
.klDWQA[href]{display:-webkit-inline-box;display:-webkit-inline-flex;display:-ms-inline-flexbox;display:inline-flex;}/*!sc*/
.klDWQA[href]:hover{-webkit-text-decoration:none;text-decoration:none;}/*!sc*/
.klDWQA:hover{-webkit-transition-duration:80ms;transition-duration:80ms;}/*!sc*/
.klDWQA:active{-webkit-transition:none;transition:none;}/*!sc*/
.klDWQA[data-inactive]{cursor:auto;}/*!sc*/
.klDWQA:disabled{cursor:not-allowed;box-shadow:none;color:var(--fgColor-disabled,var(--color-primer-fg-disabled,#8c959f));border-color:var(--button-default-borderColor-disabled,var(--button-default-borderColor-rest,var(--color-btn-border,rgba(31,35,40,0.15))));background-color:var(--button-default-bgColor-disabled,var(--control-bgColor-disabled,var(--color-input-disabled-bg,rgba(175,184,193,0.2))));}/*!sc*/
.klDWQA:disabled [data-component=ButtonCounter]{color:inherit;}/*!sc*/
@media (forced-colors:active){.klDWQA:focus{outline:solid 1px transparent;}}/*!sc*/
.klDWQA [data-component=ButtonCounter]{font-size:12px;background-color:var(--buttonCounter-default-bgColor-rest,var(--color-btn-counter-bg,rgba(31,35,40,0.08)));}/*!sc*/
.klDWQA[data-component=IconButton]{display:inline-grid;padding:unset;place-content:center;width:32px;min-width:unset;}/*!sc*/
.klDWQA[data-size="small"]{padding:0 8px;height:28px;gap:4px;font-size:12px;}/*!sc*/
.klDWQA[data-size="small"] [data-component="text"]{line-height:calc(20 / 12);}/*!sc*/
.klDWQA[data-size="small"] [data-component=ButtonCounter]{font-size:12px;}/*!sc*/
.klDWQA[data-size="small"] [data-component="buttonContent"] > :not(:last-child){margin-right:4px;}/*!sc*/
.klDWQA[data-size="small"][data-component=IconButton]{width:28px;padding:unset;}/*!sc*/
.klDWQA[data-size="large"]{padding:0 16px;height:40px;gap:8px;}/*!sc*/
.klDWQA[data-size="large"] [data-component="buttonContent"] > :not(:last-child){margin-right:8px;}/*!sc*/
.klDWQA[data-size="large"][data-component=IconButton]{width:40px;padding:unset;}/*!sc*/
.klDWQA[data-block="block"]{width:100%;}/*!sc*/
.klDWQA[data-label-wrap="true"]{min-width:-webkit-fit-content;min-width:-moz-fit-content;min-width:fit-content;height:unset;min-height:var(--control-medium-size,2rem);}/*!sc*/
.klDWQA[data-label-wrap="true"] [data-component="buttonContent"]{-webkit-flex:1 1 auto;-ms-flex:1 1 auto;flex:1 1 auto;-webkit-align-self:stretch;-ms-flex-item-align:stretch;align-self:stretch;padding-block:calc(var(--control-medium-paddingBlock,0.375rem) - 2px);}/*!sc*/
.klDWQA[data-label-wrap="true"] [data-component="text"]{white-space:unset;word-break:break-word;}/*!sc*/
.klDWQA[data-label-wrap="true"][data-size="small"]{height:unset;min-height:var(--control-small-size,1.75rem);}/*!sc*/
.klDWQA[data-label-wrap="true"][data-size="small"] [data-component="buttonContent"]{padding-block:calc(var(--control-small-paddingBlock,0.25rem) - 2px);}/*!sc*/
.klDWQA[data-label-wrap="true"][data-size="large"]{height:unset;min-height:var(--control-large-size,2.5rem);padding-inline:var(--control-large-paddingInline-spacious,1rem);}/*!sc*/
.klDWQA[data-label-wrap="true"][data-size="large"] [data-component="buttonContent"]{padding-block:calc(var(--control-large-paddingBlock,0.625rem) - 2px);}/*!sc*/
.klDWQA[data-inactive]:not([disabled]){background-color:var(--button-inactive-bgColor,var(--button-inactive-bgColor-rest,var(--color-btn-inactive-bg,#eaeef2)));border-color:var(--button-inactive-bgColor,var(--button-inactive-bgColor-rest,var(--color-btn-inactive-bg,#eaeef2)));color:var(--button-inactive-fgColor,var(--button-inactive-fgColor-rest,var(--color-btn-inactive-text,#57606a)));}/*!sc*/
.klDWQA[data-inactive]:not([disabled]):focus-visible{box-shadow:none;}/*!sc*/
.klDWQA [data-component="leadingVisual"]{grid-area:leadingVisual;}/*!sc*/
.klDWQA [data-component="text"]{grid-area:text;line-height:calc(20/14);white-space:nowrap;}/*!sc*/
.klDWQA [data-component="trailingVisual"]{grid-area:trailingVisual;}/*!sc*/
.klDWQA [data-component="trailingAction"]{margin-right:-4px;}/*!sc*/
.klDWQA [data-component="buttonContent"]{-webkit-flex:1 0 auto;-ms-flex:1 0 auto;flex:1 0 auto;display:grid;grid-template-areas:"leadingVisual text trailingVisual";grid-template-columns:min-content minmax(0,auto) min-content;-webkit-align-items:center;-webkit-box-align:center;-ms-flex-align:center;align-items:center;-webkit-align-content:center;-ms-flex-line-pack:center;align-content:center;}/*!sc*/
.klDWQA [data-component="buttonContent"] > :not(:last-child){margin-right:8px;}/*!sc*/
.klDWQA [data-component="loadingSpinner"]{grid-area:text;margin-right:0px !important;place-self:center;}/*!sc*/
.klDWQA [data-component="loadingSpinner"] + [data-component="text"]{visibility:hidden;}/*!sc*/
.klDWQA:hover:not([disabled]):not([data-inactive]){background-color:var(--button-default-bgColor-hover,var(--color-btn-hover-bg,#f3f4f6));border-color:var(--button-default-borderColor-hover,var(--button-default-borderColor-hover,var(--color-btn-hover-border,rgba(31,35,40,0.15))));}/*!sc*/
.klDWQA:active:not([disabled]):not([data-inactive]){background-color:var(--button-default-bgColor-active,var(--color-btn-active-bg,hsla(220,14%,93%,1)));border-color:var(--button-default-borderColor-active,var(--button-default-borderColor-active,var(--color-btn-active-border,rgba(31,35,40,0.15))));}/*!sc*/
.klDWQA[aria-expanded=true]{background-color:var(--button-default-bgColor-active,var(--color-btn-active-bg,hsla(220,14%,93%,1)));border-color:var(--button-default-borderColor-active,var(--button-default-borderColor-active,var(--color-btn-active-border,rgba(31,35,40,0.15))));}/*!sc*/
.klDWQA [data-component="leadingVisual"],.klDWQA [data-component="trailingVisual"],.klDWQA [data-component="trailingAction"]{color:var(--button-color,var(--fgColor-muted,var(--color-fg-muted,#656d76)));}/*!sc*/
.klDWQA[data-component="IconButton"][data-no-visuals]{color:var(--fgColor-muted,var(--color-fg-muted,#656d76));}/*!sc*/
.klDWQA[data-no-visuals]{color:var(--fgColor-muted,var(--color-fg-subtle,#6e7781));font-size:14px;font-weight:400;-webkit-flex-shrink:0;-ms-flex-negative:0;flex-shrink:0;border-top-left-radius:0;border-bottom-left-radius:0;}/*!sc*/
.emYRmJ{border-radius:6px;border:1px solid;border-color:transparent;font-family:inherit;font-weight:500;font-size:14px;cursor:pointer;-webkit-appearance:none;-moz-appearance:none;appearance:none;-webkit-user-select:none;-moz-user-select:none;-ms-user-select:none;user-select:none;-webkit-text-decoration:none;text-decoration:none;text-align:center;display:-webkit-box;display:-webkit-flex;display:-ms-flexbox;display:flex;-webkit-align-items:center;-webkit-box-align:center;-ms-flex-align:center;align-items:center;-webkit-box-pack:justify;-webkit-justify-content:space-between;-ms-flex-pack:justify;justify-content:space-between;height:32px;padding:0 12px;gap:8px;min-width:-webkit-max-content;min-width:-moz-max-content;min-width:max-content;-webkit-transition:80ms cubic-bezier(0.65,0,0.35,1);transition:80ms cubic-bezier(0.65,0,0.35,1);-webkit-transition-property:color,fill,background-color,border-color;transition-property:color,fill,background-color,border-color;color:var(--button-default-fgColor-rest,var(--color-btn-text,#24292f));background-color:transparent;box-shadow:none;}/*!sc*/
.emYRmJ:focus:not(:disabled){box-shadow:none;outline:2px solid var(--fgColor-accent,var(--color-accent-fg,#0969da));outline-offset:-2px;}/*!sc*/
.emYRmJ:focus:not(:disabled):not(:focus-visible){outline:solid 1px transparent;}/*!sc*/
.emYRmJ:focus-visible:not(:disabled){box-shadow:none;outline:2px solid var(--fgColor-accent,var(--color-accent-fg,#0969da));outline-offset:-2px;}/*!sc*/
.emYRmJ[href]{display:-webkit-inline-box;display:-webkit-inline-flex;display:-ms-inline-flexbox;display:inline-flex;}/*!sc*/
.emYRmJ[href]:hover{-webkit-text-decoration:none;text-decoration:none;}/*!sc*/
.emYRmJ:hover{-webkit-transition-duration:80ms;transition-duration:80ms;}/*!sc*/
.emYRmJ:active{-webkit-transition:none;transition:none;}/*!sc*/
.emYRmJ[data-inactive]{cursor:auto;}/*!sc*/
.emYRmJ:disabled{cursor:not-allowed;box-shadow:none;color:var(--fgColor-disabled,var(--color-primer-fg-disabled,#8c959f));}/*!sc*/
.emYRmJ:disabled [data-component=ButtonCounter],.emYRmJ:disabled [data-component="leadingVisual"],.emYRmJ:disabled [data-component="trailingAction"]{color:inherit;}/*!sc*/
@media (forced-colors:active){.emYRmJ:focus{outline:solid 1px transparent;}}/*!sc*/
.emYRmJ [data-component=ButtonCounter]{font-size:12px;}/*!sc*/
.emYRmJ[data-component=IconButton]{display:inline-grid;padding:unset;place-content:center;width:32px;min-width:unset;}/*!sc*/
.emYRmJ[data-size="small"]{padding:0 8px;height:28px;gap:4px;font-size:12px;}/*!sc*/
.emYRmJ[data-size="small"] [data-component="text"]{line-height:calc(20 / 12);}/*!sc*/
.emYRmJ[data-size="small"] [data-component=ButtonCounter]{font-size:12px;}/*!sc*/
.emYRmJ[data-size="small"] [data-component="buttonContent"] > :not(:last-child){margin-right:4px;}/*!sc*/
.emYRmJ[data-size="small"][data-component=IconButton]{width:28px;padding:unset;}/*!sc*/
.emYRmJ[data-size="large"]{padding:0 16px;height:40px;gap:8px;}/*!sc*/
.emYRmJ[data-size="large"] [data-component="buttonContent"] > :not(:last-child){margin-right:8px;}/*!sc*/
.emYRmJ[data-size="large"][data-component=IconButton]{width:40px;padding:unset;}/*!sc*/
.emYRmJ[data-block="block"]{width:100%;}/*!sc*/
.emYRmJ[data-label-wrap="true"]{min-width:-webkit-fit-content;min-width:-moz-fit-content;min-width:fit-content;height:unset;min-height:var(--control-medium-size,2rem);}/*!sc*/
.emYRmJ[data-label-wrap="true"] [data-component="buttonContent"]{-webkit-flex:1 1 auto;-ms-flex:1 1 auto;flex:1 1 auto;-webkit-align-self:stretch;-ms-flex-item-align:stretch;align-self:stretch;padding-block:calc(var(--control-medium-paddingBlock,0.375rem) - 2px);}/*!sc*/
.emYRmJ[data-label-wrap="true"] [data-component="text"]{white-space:unset;word-break:break-word;}/*!sc*/
.emYRmJ[data-label-wrap="true"][data-size="small"]{height:unset;min-height:var(--control-small-size,1.75rem);}/*!sc*/
.emYRmJ[data-label-wrap="true"][data-size="small"] [data-component="buttonContent"]{padding-block:calc(var(--control-small-paddingBlock,0.25rem) - 2px);}/*!sc*/
.emYRmJ[data-label-wrap="true"][data-size="large"]{height:unset;min-height:var(--control-large-size,2.5rem);padding-inline:var(--control-large-paddingInline-spacious,1rem);}/*!sc*/
.emYRmJ[data-label-wrap="true"][data-size="large"] [data-component="buttonContent"]{padding-block:calc(var(--control-large-paddingBlock,0.625rem) - 2px);}/*!sc*/
.emYRmJ[data-inactive]:not([disabled]){background-color:var(--button-inactive-bgColor,var(--button-inactive-bgColor-rest,var(--color-btn-inactive-bg,#eaeef2)));border-color:var(--button-inactive-bgColor,var(--button-inactive-bgColor-rest,var(--color-btn-inactive-bg,#eaeef2)));color:var(--button-inactive-fgColor,var(--button-inactive-fgColor-rest,var(--color-btn-inactive-text,#57606a)));}/*!sc*/
.emYRmJ[data-inactive]:not([disabled]):focus-visible{box-shadow:none;}/*!sc*/
.emYRmJ [data-component="leadingVisual"]{grid-area:leadingVisual;color:var(--fgColor-muted,var(--color-fg-muted,#656d76));}/*!sc*/
.emYRmJ [data-component="text"]{grid-area:text;line-height:calc(20/14);white-space:nowrap;}/*!sc*/
.emYRmJ [data-component="trailingVisual"]{grid-area:trailingVisual;}/*!sc*/
.emYRmJ [data-component="trailingAction"]{margin-right:-4px;color:var(--fgColor-muted,var(--color-fg-muted,#656d76));}/*!sc*/
.emYRmJ [data-component="buttonContent"]{-webkit-flex:1 0 auto;-ms-flex:1 0 auto;flex:1 0 auto;display:grid;grid-template-areas:"leadingVisual text trailingVisual";grid-template-columns:min-content minmax(0,auto) min-content;-webkit-align-items:center;-webkit-box-align:center;-ms-flex-align:center;align-items:center;-webkit-align-content:center;-ms-flex-line-pack:center;align-content:center;}/*!sc*/
.emYRmJ [data-component="buttonContent"] > :not(:last-child){margin-right:8px;}/*!sc*/
.emYRmJ [data-component="loadingSpinner"]{grid-area:text;margin-right:0px !important;place-self:center;}/*!sc*/
.emYRmJ [data-component="loadingSpinner"] + [data-component="text"]{visibility:hidden;}/*!sc*/
.emYRmJ:hover:not([disabled]){background-color:var(--control-transparent-bgColor-hover,var(--color-action-list-item-default-hover-bg,rgba(208,215,222,0.32)));}/*!sc*/
.emYRmJ:active:not([disabled]){background-color:var(--control-transparent-bgColor-active,var(--color-action-list-item-default-active-bg,rgba(208,215,222,0.48)));}/*!sc*/
.emYRmJ[aria-expanded=true]{background-color:var(--control-transparent-bgColor-selected,var(--color-action-list-item-default-selected-bg,rgba(208,215,222,0.24)));}/*!sc*/
.emYRmJ[data-component="IconButton"][data-no-visuals]{color:var(--fgColor-muted,var(--color-fg-muted,#656d76));}/*!sc*/
.emYRmJ[data-no-visuals]{color:var(--fgColor-accent,var(--color-accent-fg,#0969da));}/*!sc*/
.emYRmJ:has([data-component="ButtonCounter"]){color:var(--button-default-fgColor-rest,var(--color-btn-text,#24292f));}/*!sc*/
.emYRmJ:disabled[data-no-visuals]{color:var(--fgColor-disabled,var(--color-primer-fg-disabled,#8c959f));}/*!sc*/
.emYRmJ:disabled[data-no-visuals] [data-component=ButtonCounter]{color:inherit;}/*!sc*/
.jFcVkf{border-radius:6px;border:1px solid;border-color:var(--button-default-borderColor-rest,var(--button-default-borderColor-rest,var(--color-btn-border,rgba(31,35,40,0.15))));font-family:inherit;font-weight:500;font-size:14px;cursor:pointer;-webkit-appearance:none;-moz-appearance:none;appearance:none;-webkit-user-select:none;-moz-user-select:none;-ms-user-select:none;user-select:none;-webkit-text-decoration:none;text-decoration:none;text-align:center;display:-webkit-box;display:-webkit-flex;display:-ms-flexbox;display:flex;-webkit-align-items:center;-webkit-box-align:center;-ms-flex-align:center;align-items:center;-webkit-box-pack:justify;-webkit-justify-content:space-between;-ms-flex-pack:justify;justify-content:space-between;height:32px;padding:0 12px;gap:8px;min-width:-webkit-max-content;min-width:-moz-max-content;min-width:max-content;-webkit-transition:80ms cubic-bezier(0.65,0,0.35,1);transition:80ms cubic-bezier(0.65,0,0.35,1);-webkit-transition-property:color,fill,background-color,border-color;transition-property:color,fill,background-color,border-color;color:var(--button-default-fgColor-rest,var(--color-btn-text,#24292f));background-color:var(--button-default-bgColor-rest,var(--color-btn-bg,#f6f8fa));box-shadow:var(--button-default-shadow-resting,var(--color-btn-shadow,0 1px 0 rgba(31,35,40,0.04))),var(--button-default-shadow-inset,var(--color-btn-inset-shadow,inset 0 1px 0 rgba(255,255,255,0.25)));}/*!sc*/
.jFcVkf:focus:not(:disabled){box-shadow:none;outline:2px solid var(--fgColor-accent,var(--color-accent-fg,#0969da));outline-offset:-2px;}/*!sc*/
.jFcVkf:focus:not(:disabled):not(:focus-visible){outline:solid 1px transparent;}/*!sc*/
.jFcVkf:focus-visible:not(:disabled){box-shadow:none;outline:2px solid var(--fgColor-accent,var(--color-accent-fg,#0969da));outline-offset:-2px;}/*!sc*/
.jFcVkf[href]{display:-webkit-inline-box;display:-webkit-inline-flex;display:-ms-inline-flexbox;display:inline-flex;}/*!sc*/
.jFcVkf[href]:hover{-webkit-text-decoration:none;text-decoration:none;}/*!sc*/
.jFcVkf:hover{-webkit-transition-duration:80ms;transition-duration:80ms;}/*!sc*/
.jFcVkf:active{-webkit-transition:none;transition:none;}/*!sc*/
.jFcVkf[data-inactive]{cursor:auto;}/*!sc*/
.jFcVkf:disabled{cursor:not-allowed;box-shadow:none;color:var(--fgColor-disabled,var(--color-primer-fg-disabled,#8c959f));border-color:var(--button-default-borderColor-disabled,var(--button-default-borderColor-rest,var(--color-btn-border,rgba(31,35,40,0.15))));background-color:var(--button-default-bgColor-disabled,var(--control-bgColor-disabled,var(--color-input-disabled-bg,rgba(175,184,193,0.2))));}/*!sc*/
.jFcVkf:disabled [data-component=ButtonCounter]{color:inherit;}/*!sc*/
@media (forced-colors:active){.jFcVkf:focus{outline:solid 1px transparent;}}/*!sc*/
.jFcVkf [data-component=ButtonCounter]{font-size:12px;background-color:var(--buttonCounter-default-bgColor-rest,var(--color-btn-counter-bg,rgba(31,35,40,0.08)));}/*!sc*/
.jFcVkf[data-component=IconButton]{display:inline-grid;padding:unset;place-content:center;width:32px;min-width:unset;}/*!sc*/
.jFcVkf[data-size="small"]{padding:0 8px;height:28px;gap:4px;font-size:12px;}/*!sc*/
.jFcVkf[data-size="small"] [data-component="text"]{line-height:calc(20 / 12);}/*!sc*/
.jFcVkf[data-size="small"] [data-component=ButtonCounter]{font-size:12px;}/*!sc*/
.jFcVkf[data-size="small"] [data-component="buttonContent"] > :not(:last-child){margin-right:4px;}/*!sc*/
.jFcVkf[data-size="small"][data-component=IconButton]{width:28px;padding:unset;}/*!sc*/
.jFcVkf[data-size="large"]{padding:0 16px;height:40px;gap:8px;}/*!sc*/
.jFcVkf[data-size="large"] [data-component="buttonContent"] > :not(:last-child){margin-right:8px;}/*!sc*/
.jFcVkf[data-size="large"][data-component=IconButton]{width:40px;padding:unset;}/*!sc*/
.jFcVkf[data-block="block"]{width:100%;}/*!sc*/
.jFcVkf[data-label-wrap="true"]{min-width:-webkit-fit-content;min-width:-moz-fit-content;min-width:fit-content;height:unset;min-height:var(--control-medium-size,2rem);}/*!sc*/
.jFcVkf[data-label-wrap="true"] [data-component="buttonContent"]{-webkit-flex:1 1 auto;-ms-flex:1 1 auto;flex:1 1 auto;-webkit-align-self:stretch;-ms-flex-item-align:stretch;align-self:stretch;padding-block:calc(var(--control-medium-paddingBlock,0.375rem) - 2px);}/*!sc*/
.jFcVkf[data-label-wrap="true"] [data-component="text"]{white-space:unset;word-break:break-word;}/*!sc*/
.jFcVkf[data-label-wrap="true"][data-size="small"]{height:unset;min-height:var(--control-small-size,1.75rem);}/*!sc*/
.jFcVkf[data-label-wrap="true"][data-size="small"] [data-component="buttonContent"]{padding-block:calc(var(--control-small-paddingBlock,0.25rem) - 2px);}/*!sc*/
.jFcVkf[data-label-wrap="true"][data-size="large"]{height:unset;min-height:var(--control-large-size,2.5rem);padding-inline:var(--control-large-paddingInline-spacious,1rem);}/*!sc*/
.jFcVkf[data-label-wrap="true"][data-size="large"] [data-component="buttonContent"]{padding-block:calc(var(--control-large-paddingBlock,0.625rem) - 2px);}/*!sc*/
.jFcVkf[data-inactive]:not([disabled]){background-color:var(--button-inactive-bgColor,var(--button-inactive-bgColor-rest,var(--color-btn-inactive-bg,#eaeef2)));border-color:var(--button-inactive-bgColor,var(--button-inactive-bgColor-rest,var(--color-btn-inactive-bg,#eaeef2)));color:var(--button-inactive-fgColor,var(--button-inactive-fgColor-rest,var(--color-btn-inactive-text,#57606a)));}/*!sc*/
.jFcVkf[data-inactive]:not([disabled]):focus-visible{box-shadow:none;}/*!sc*/
.jFcVkf [data-component="leadingVisual"]{grid-area:leadingVisual;}/*!sc*/
.jFcVkf [data-component="text"]{grid-area:text;line-height:calc(20/14);white-space:nowrap;}/*!sc*/
.jFcVkf [data-component="trailingVisual"]{grid-area:trailingVisual;}/*!sc*/
.jFcVkf [data-component="trailingAction"]{margin-right:-4px;}/*!sc*/
.jFcVkf [data-component="buttonContent"]{-webkit-flex:1 0 auto;-ms-flex:1 0 auto;flex:1 0 auto;display:grid;grid-template-areas:"leadingVisual text trailingVisual";grid-template-columns:min-content minmax(0,auto) min-content;-webkit-align-items:center;-webkit-box-align:center;-ms-flex-align:center;align-items:center;-webkit-align-content:center;-ms-flex-line-pack:center;align-content:center;}/*!sc*/
.jFcVkf [data-component="buttonContent"] > :not(:last-child){margin-right:8px;}/*!sc*/
.jFcVkf [data-component="loadingSpinner"]{grid-area:text;margin-right:0px !important;place-self:center;}/*!sc*/
.jFcVkf [data-component="loadingSpinner"] + [data-component="text"]{visibility:hidden;}/*!sc*/
.jFcVkf:hover:not([disabled]):not([data-inactive]){background-color:var(--button-default-bgColor-hover,var(--color-btn-hover-bg,#f3f4f6));border-color:var(--button-default-borderColor-hover,var(--button-default-borderColor-hover,var(--color-btn-hover-border,rgba(31,35,40,0.15))));}/*!sc*/
.jFcVkf:active:not([disabled]):not([data-inactive]){background-color:var(--button-default-bgColor-active,var(--color-btn-active-bg,hsla(220,14%,93%,1)));border-color:var(--button-default-borderColor-active,var(--button-default-borderColor-active,var(--color-btn-active-border,rgba(31,35,40,0.15))));}/*!sc*/
.jFcVkf[aria-expanded=true]{background-color:var(--button-default-bgColor-active,var(--color-btn-active-bg,hsla(220,14%,93%,1)));border-color:var(--button-default-borderColor-active,var(--button-default-borderColor-active,var(--color-btn-active-border,rgba(31,35,40,0.15))));}/*!sc*/
.jFcVkf [data-component="leadingVisual"],.jFcVkf [data-component="trailingVisual"],.jFcVkf [data-component="trailingAction"]{color:var(--button-color,var(--fgColor-muted,var(--color-fg-muted,#656d76)));}/*!sc*/
.jFcVkf[data-component="IconButton"][data-no-visuals]{color:var(--fgColor-muted,var(--color-fg-muted,#656d76));}/*!sc*/
.jFcVkf[data-no-visuals]{border-top-left-radius:0;border-bottom-left-radius:0;display:none;}/*!sc*/
.kuXPuQ{border-radius:6px;border:1px solid;border-color:var(--button-default-borderColor-rest,var(--button-default-borderColor-rest,var(--color-btn-border,rgba(31,35,40,0.15))));font-family:inherit;font-weight:500;font-size:14px;cursor:pointer;-webkit-appearance:none;-moz-appearance:none;appearance:none;-webkit-user-select:none;-moz-user-select:none;-ms-user-select:none;user-select:none;-webkit-text-decoration:none;text-decoration:none;text-align:center;display:-webkit-box;display:-webkit-flex;display:-ms-flexbox;display:flex;-webkit-align-items:center;-webkit-box-align:center;-ms-flex-align:center;align-items:center;-webkit-box-pack:justify;-webkit-justify-content:space-between;-ms-flex-pack:justify;justify-content:space-between;height:32px;padding:0 12px;gap:8px;min-width:-webkit-max-content;min-width:-moz-max-content;min-width:max-content;-webkit-transition:80ms cubic-bezier(0.65,0,0.35,1);transition:80ms cubic-bezier(0.65,0,0.35,1);-webkit-transition-property:color,fill,background-color,border-color;transition-property:color,fill,background-color,border-color;color:var(--button-default-fgColor-rest,var(--color-btn-text,#24292f));background-color:var(--button-default-bgColor-rest,var(--color-btn-bg,#f6f8fa));box-shadow:var(--button-default-shadow-resting,var(--color-btn-shadow,0 1px 0 rgba(31,35,40,0.04))),var(--button-default-shadow-inset,var(--color-btn-inset-shadow,inset 0 1px 0 rgba(255,255,255,0.25)));}/*!sc*/
.kuXPuQ:focus:not(:disabled){box-shadow:none;outline:2px solid var(--fgColor-accent,var(--color-accent-fg,#0969da));outline-offset:-2px;}/*!sc*/
.kuXPuQ:focus:not(:disabled):not(:focus-visible){outline:solid 1px transparent;}/*!sc*/
.kuXPuQ:focus-visible:not(:disabled){box-shadow:none;outline:2px solid var(--fgColor-accent,var(--color-accent-fg,#0969da));outline-offset:-2px;}/*!sc*/
.kuXPuQ[href]{display:-webkit-inline-box;display:-webkit-inline-flex;display:-ms-inline-flexbox;display:inline-flex;}/*!sc*/
.kuXPuQ[href]:hover{-webkit-text-decoration:none;text-decoration:none;}/*!sc*/
.kuXPuQ:hover{-webkit-transition-duration:80ms;transition-duration:80ms;}/*!sc*/
.kuXPuQ:active{-webkit-transition:none;transition:none;}/*!sc*/
.kuXPuQ[data-inactive]{cursor:auto;}/*!sc*/
.kuXPuQ:disabled{cursor:not-allowed;box-shadow:none;color:var(--fgColor-disabled,var(--color-primer-fg-disabled,#8c959f));border-color:var(--button-default-borderColor-disabled,var(--button-default-borderColor-rest,var(--color-btn-border,rgba(31,35,40,0.15))));background-color:var(--button-default-bgColor-disabled,var(--control-bgColor-disabled,var(--color-input-disabled-bg,rgba(175,184,193,0.2))));}/*!sc*/
.kuXPuQ:disabled [data-component=ButtonCounter]{color:inherit;}/*!sc*/
@media (forced-colors:active){.kuXPuQ:focus{outline:solid 1px transparent;}}/*!sc*/
.kuXPuQ [data-component=ButtonCounter]{font-size:12px;background-color:var(--buttonCounter-default-bgColor-rest,var(--color-btn-counter-bg,rgba(31,35,40,0.08)));}/*!sc*/
.kuXPuQ[data-component=IconButton]{display:inline-grid;padding:unset;place-content:center;width:32px;min-width:unset;}/*!sc*/
.kuXPuQ[data-size="small"]{padding:0 8px;height:28px;gap:4px;font-size:12px;}/*!sc*/
.kuXPuQ[data-size="small"] [data-component="text"]{line-height:calc(20 / 12);}/*!sc*/
.kuXPuQ[data-size="small"] [data-component=ButtonCounter]{font-size:12px;}/*!sc*/
.kuXPuQ[data-size="small"] [data-component="buttonContent"] > :not(:last-child){margin-right:4px;}/*!sc*/
.kuXPuQ[data-size="small"][data-component=IconButton]{width:28px;padding:unset;}/*!sc*/
.kuXPuQ[data-size="large"]{padding:0 16px;height:40px;gap:8px;}/*!sc*/
.kuXPuQ[data-size="large"] [data-component="buttonContent"] > :not(:last-child){margin-right:8px;}/*!sc*/
.kuXPuQ[data-size="large"][data-component=IconButton]{width:40px;padding:unset;}/*!sc*/
.kuXPuQ[data-block="block"]{width:100%;}/*!sc*/
.kuXPuQ[data-label-wrap="true"]{min-width:-webkit-fit-content;min-width:-moz-fit-content;min-width:fit-content;height:unset;min-height:var(--control-medium-size,2rem);}/*!sc*/
.kuXPuQ[data-label-wrap="true"] [data-component="buttonContent"]{-webkit-flex:1 1 auto;-ms-flex:1 1 auto;flex:1 1 auto;-webkit-align-self:stretch;-ms-flex-item-align:stretch;align-self:stretch;padding-block:calc(var(--control-medium-paddingBlock,0.375rem) - 2px);}/*!sc*/
.kuXPuQ[data-label-wrap="true"] [data-component="text"]{white-space:unset;word-break:break-word;}/*!sc*/
.kuXPuQ[data-label-wrap="true"][data-size="small"]{height:unset;min-height:var(--control-small-size,1.75rem);}/*!sc*/
.kuXPuQ[data-label-wrap="true"][data-size="small"] [data-component="buttonContent"]{padding-block:calc(var(--control-small-paddingBlock,0.25rem) - 2px);}/*!sc*/
.kuXPuQ[data-label-wrap="true"][data-size="large"]{height:unset;min-height:var(--control-large-size,2.5rem);padding-inline:var(--control-large-paddingInline-spacious,1rem);}/*!sc*/
.kuXPuQ[data-label-wrap="true"][data-size="large"] [data-component="buttonContent"]{padding-block:calc(var(--control-large-paddingBlock,0.625rem) - 2px);}/*!sc*/
.kuXPuQ[data-inactive]:not([disabled]){background-color:var(--button-inactive-bgColor,var(--button-inactive-bgColor-rest,var(--color-btn-inactive-bg,#eaeef2)));border-color:var(--button-inactive-bgColor,var(--button-inactive-bgColor-rest,var(--color-btn-inactive-bg,#eaeef2)));color:var(--button-inactive-fgColor,var(--button-inactive-fgColor-rest,var(--color-btn-inactive-text,#57606a)));}/*!sc*/
.kuXPuQ[data-inactive]:not([disabled]):focus-visible{box-shadow:none;}/*!sc*/
.kuXPuQ [data-component="leadingVisual"]{grid-area:leadingVisual;}/*!sc*/
.kuXPuQ [data-component="text"]{grid-area:text;line-height:calc(20/14);white-space:nowrap;}/*!sc*/
.kuXPuQ [data-component="trailingVisual"]{grid-area:trailingVisual;}/*!sc*/
.kuXPuQ [data-component="trailingAction"]{margin-right:-4px;}/*!sc*/
.kuXPuQ [data-component="buttonContent"]{-webkit-flex:1 0 auto;-ms-flex:1 0 auto;flex:1 0 auto;display:grid;grid-template-areas:"leadingVisual text trailingVisual";grid-template-columns:min-content minmax(0,auto) min-content;-webkit-align-items:center;-webkit-box-align:center;-ms-flex-align:center;align-items:center;-webkit-align-content:center;-ms-flex-line-pack:center;align-content:center;}/*!sc*/
.kuXPuQ [data-component="buttonContent"] > :not(:last-child){margin-right:8px;}/*!sc*/
.kuXPuQ [data-component="loadingSpinner"]{grid-area:text;margin-right:0px !important;place-self:center;}/*!sc*/
.kuXPuQ [data-component="loadingSpinner"] + [data-component="text"]{visibility:hidden;}/*!sc*/
.kuXPuQ:hover:not([disabled]):not([data-inactive]){background-color:var(--button-default-bgColor-hover,var(--color-btn-hover-bg,#f3f4f6));border-color:var(--button-default-borderColor-hover,var(--button-default-borderColor-hover,var(--color-btn-hover-border,rgba(31,35,40,0.15))));}/*!sc*/
.kuXPuQ:active:not([disabled]):not([data-inactive]){background-color:var(--button-default-bgColor-active,var(--color-btn-active-bg,hsla(220,14%,93%,1)));border-color:var(--button-default-borderColor-active,var(--button-default-borderColor-active,var(--color-btn-active-border,rgba(31,35,40,0.15))));}/*!sc*/
.kuXPuQ[aria-expanded=true]{background-color:var(--button-default-bgColor-active,var(--color-btn-active-bg,hsla(220,14%,93%,1)));border-color:var(--button-default-borderColor-active,var(--button-default-borderColor-active,var(--color-btn-active-border,rgba(31,35,40,0.15))));}/*!sc*/
.kuXPuQ [data-component="leadingVisual"],.kuXPuQ [data-component="trailingVisual"],.kuXPuQ [data-component="trailingAction"]{color:var(--button-color,var(--fgColor-muted,var(--color-fg-muted,#656d76)));}/*!sc*/
.kuXPuQ[data-component="IconButton"][data-no-visuals]{color:var(--fgColor-muted,var(--color-fg-muted,#656d76));}/*!sc*/
.kuXPuQ[data-no-visuals]{color:var(--fgColor-muted,var(--color-fg-muted,#656d76));}/*!sc*/
.jKgwhU{border-radius:6px;border:1px solid;border-color:transparent;font-family:inherit;font-weight:500;font-size:14px;cursor:pointer;-webkit-appearance:none;-moz-appearance:none;appearance:none;-webkit-user-select:none;-moz-user-select:none;-ms-user-select:none;user-select:none;-webkit-text-decoration:none;text-decoration:none;text-align:center;display:-webkit-box;display:-webkit-flex;display:-ms-flexbox;display:flex;-webkit-align-items:center;-webkit-box-align:center;-ms-flex-align:center;align-items:center;-webkit-box-pack:justify;-webkit-justify-content:space-between;-ms-flex-pack:justify;justify-content:space-between;height:32px;padding:0 12px;gap:8px;min-width:-webkit-max-content;min-width:-moz-max-content;min-width:max-content;-webkit-transition:80ms cubic-bezier(0.65,0,0.35,1);transition:80ms cubic-bezier(0.65,0,0.35,1);-webkit-transition-property:color,fill,background-color,border-color;transition-property:color,fill,background-color,border-color;color:var(--button-default-fgColor-rest,var(--color-btn-text,#24292f));background-color:transparent;box-shadow:none;}/*!sc*/
.jKgwhU:focus:not(:disabled){box-shadow:none;outline:2px solid var(--fgColor-accent,var(--color-accent-fg,#0969da));outline-offset:-2px;}/*!sc*/
.jKgwhU:focus:not(:disabled):not(:focus-visible){outline:solid 1px transparent;}/*!sc*/
.jKgwhU:focus-visible:not(:disabled){box-shadow:none;outline:2px solid var(--fgColor-accent,var(--color-accent-fg,#0969da));outline-offset:-2px;}/*!sc*/
.jKgwhU[href]{display:-webkit-inline-box;display:-webkit-inline-flex;display:-ms-inline-flexbox;display:inline-flex;}/*!sc*/
.jKgwhU[href]:hover{-webkit-text-decoration:none;text-decoration:none;}/*!sc*/
.jKgwhU:hover{-webkit-transition-duration:80ms;transition-duration:80ms;}/*!sc*/
.jKgwhU:active{-webkit-transition:none;transition:none;}/*!sc*/
.jKgwhU[data-inactive]{cursor:auto;}/*!sc*/
.jKgwhU:disabled{cursor:not-allowed;box-shadow:none;color:var(--fgColor-disabled,var(--color-primer-fg-disabled,#8c959f));}/*!sc*/
.jKgwhU:disabled [data-component=ButtonCounter],.jKgwhU:disabled [data-component="leadingVisual"],.jKgwhU:disabled [data-component="trailingAction"]{color:inherit;}/*!sc*/
@media (forced-colors:active){.jKgwhU:focus{outline:solid 1px transparent;}}/*!sc*/
.jKgwhU [data-component=ButtonCounter]{font-size:12px;}/*!sc*/
.jKgwhU[data-component=IconButton]{display:inline-grid;padding:unset;place-content:center;width:32px;min-width:unset;}/*!sc*/
.jKgwhU[data-size="small"]{padding:0 8px;height:28px;gap:4px;font-size:12px;color:var(--fgColor-default,var(--color-fg-default,#1F2328));display:none;}/*!sc*/
.jKgwhU[data-size="small"] [data-component="text"]{line-height:calc(20 / 12);}/*!sc*/
.jKgwhU[data-size="small"] [data-component=ButtonCounter]{font-size:12px;}/*!sc*/
.jKgwhU[data-size="small"] [data-component="buttonContent"] > :not(:last-child){margin-right:4px;}/*!sc*/
.jKgwhU[data-size="small"][data-component=IconButton]{width:28px;padding:unset;}/*!sc*/
@media screen and (min-width:544px){.jKgwhU[data-size="small"]{display:none;}}/*!sc*/
@media screen and (min-width:768px){.jKgwhU[data-size="small"]{display:none;}}/*!sc*/
@media screen and (min-width:1012px){.jKgwhU[data-size="small"]{display:none;}}/*!sc*/
@media screen and (min-width:1280px){.jKgwhU[data-size="small"]{display:block;}}/*!sc*/
.jKgwhU[data-size="large"]{padding:0 16px;height:40px;gap:8px;}/*!sc*/
.jKgwhU[data-size="large"] [data-component="buttonContent"] > :not(:last-child){margin-right:8px;}/*!sc*/
.jKgwhU[data-size="large"][data-component=IconButton]{width:40px;padding:unset;}/*!sc*/
.jKgwhU[data-block="block"]{width:100%;}/*!sc*/
.jKgwhU[data-label-wrap="true"]{min-width:-webkit-fit-content;min-width:-moz-fit-content;min-width:fit-content;height:unset;min-height:var(--control-medium-size,2rem);}/*!sc*/
.jKgwhU[data-label-wrap="true"] [data-component="buttonContent"]{-webkit-flex:1 1 auto;-ms-flex:1 1 auto;flex:1 1 auto;-webkit-align-self:stretch;-ms-flex-item-align:stretch;align-self:stretch;padding-block:calc(var(--control-medium-paddingBlock,0.375rem) - 2px);}/*!sc*/
.jKgwhU[data-label-wrap="true"] [data-component="text"]{white-space:unset;word-break:break-word;}/*!sc*/
.jKgwhU[data-label-wrap="true"][data-size="small"]{height:unset;min-height:var(--control-small-size,1.75rem);}/*!sc*/
.jKgwhU[data-label-wrap="true"][data-size="small"] [data-component="buttonContent"]{padding-block:calc(var(--control-small-paddingBlock,0.25rem) - 2px);}/*!sc*/
.jKgwhU[data-label-wrap="true"][data-size="large"]{height:unset;min-height:var(--control-large-size,2.5rem);padding-inline:var(--control-large-paddingInline-spacious,1rem);}/*!sc*/
.jKgwhU[data-label-wrap="true"][data-size="large"] [data-component="buttonContent"]{padding-block:calc(var(--control-large-paddingBlock,0.625rem) - 2px);}/*!sc*/
.jKgwhU[data-inactive]:not([disabled]){background-color:var(--button-inactive-bgColor,var(--button-inactive-bgColor-rest,var(--color-btn-inactive-bg,#eaeef2)));border-color:var(--button-inactive-bgColor,var(--button-inactive-bgColor-rest,var(--color-btn-inactive-bg,#eaeef2)));color:var(--button-inactive-fgColor,var(--button-inactive-fgColor-rest,var(--color-btn-inactive-text,#57606a)));}/*!sc*/
.jKgwhU[data-inactive]:not([disabled]):focus-visible{box-shadow:none;}/*!sc*/
.jKgwhU [data-component="leadingVisual"]{grid-area:leadingVisual;color:var(--fgColor-muted,var(--color-fg-muted,#656d76));}/*!sc*/
.jKgwhU [data-component="text"]{grid-area:text;line-height:calc(20/14);white-space:nowrap;}/*!sc*/
.jKgwhU [data-component="trailingVisual"]{grid-area:trailingVisual;}/*!sc*/
.jKgwhU [data-component="trailingAction"]{margin-right:-4px;color:var(--fgColor-muted,var(--color-fg-muted,#656d76));}/*!sc*/
.jKgwhU [data-component="buttonContent"]{-webkit-flex:1 0 auto;-ms-flex:1 0 auto;flex:1 0 auto;display:grid;grid-template-areas:"leadingVisual text trailingVisual";grid-template-columns:min-content minmax(0,auto) min-content;-webkit-align-items:center;-webkit-box-align:center;-ms-flex-align:center;align-items:center;-webkit-align-content:center;-ms-flex-line-pack:center;align-content:center;}/*!sc*/
.jKgwhU [data-component="buttonContent"] > :not(:last-child){margin-right:8px;}/*!sc*/
.jKgwhU [data-component="loadingSpinner"]{grid-area:text;margin-right:0px !important;place-self:center;}/*!sc*/
.jKgwhU [data-component="loadingSpinner"] + [data-component="text"]{visibility:hidden;}/*!sc*/
.jKgwhU:hover:not([disabled]){background-color:var(--control-transparent-bgColor-hover,var(--color-action-list-item-default-hover-bg,rgba(208,215,222,0.32)));}/*!sc*/
.jKgwhU:active:not([disabled]){background-color:var(--control-transparent-bgColor-active,var(--color-action-list-item-default-active-bg,rgba(208,215,222,0.48)));}/*!sc*/
.jKgwhU[aria-expanded=true]{background-color:var(--control-transparent-bgColor-selected,var(--color-action-list-item-default-selected-bg,rgba(208,215,222,0.24)));}/*!sc*/
.jKgwhU[data-component="IconButton"][data-no-visuals]{color:var(--fgColor-muted,var(--color-fg-muted,#656d76));}/*!sc*/
.jKgwhU[data-no-visuals]{color:var(--fgColor-accent,var(--color-accent-fg,#0969da));}/*!sc*/
.jKgwhU:has([data-component="ButtonCounter"]){color:var(--button-default-fgColor-rest,var(--color-btn-text,#24292f));}/*!sc*/
.jKgwhU:disabled[data-no-visuals]{color:var(--fgColor-disabled,var(--color-primer-fg-disabled,#8c959f));}/*!sc*/
.jKgwhU:disabled[data-no-visuals] [data-component=ButtonCounter]{color:inherit;}/*!sc*/
.bDTxaK{border-radius:6px;border:1px solid;border-color:transparent;font-family:inherit;font-weight:500;font-size:14px;cursor:pointer;-webkit-appearance:none;-moz-appearance:none;appearance:none;-webkit-user-select:none;-moz-user-select:none;-ms-user-select:none;user-select:none;-webkit-text-decoration:none;text-decoration:none;text-align:center;display:-webkit-box;display:-webkit-flex;display:-ms-flexbox;display:flex;-webkit-align-items:center;-webkit-box-align:center;-ms-flex-align:center;align-items:center;-webkit-box-pack:justify;-webkit-justify-content:space-between;-ms-flex-pack:justify;justify-content:space-between;height:32px;padding:0 12px;gap:8px;min-width:-webkit-max-content;min-width:-moz-max-content;min-width:max-content;-webkit-transition:80ms cubic-bezier(0.65,0,0.35,1);transition:80ms cubic-bezier(0.65,0,0.35,1);-webkit-transition-property:color,fill,background-color,border-color;transition-property:color,fill,background-color,border-color;color:var(--button-default-fgColor-rest,var(--color-btn-text,#24292f));background-color:transparent;box-shadow:none;}/*!sc*/
.bDTxaK:focus:not(:disabled){box-shadow:none;outline:2px solid var(--fgColor-accent,var(--color-accent-fg,#0969da));outline-offset:-2px;}/*!sc*/
.bDTxaK:focus:not(:disabled):not(:focus-visible){outline:solid 1px transparent;}/*!sc*/
.bDTxaK:focus-visible:not(:disabled){box-shadow:none;outline:2px solid var(--fgColor-accent,var(--color-accent-fg,#0969da));outline-offset:-2px;}/*!sc*/
.bDTxaK[href]{display:-webkit-inline-box;display:-webkit-inline-flex;display:-ms-inline-flexbox;display:inline-flex;}/*!sc*/
.bDTxaK[href]:hover{-webkit-text-decoration:none;text-decoration:none;}/*!sc*/
.bDTxaK:hover{-webkit-transition-duration:80ms;transition-duration:80ms;}/*!sc*/
.bDTxaK:active{-webkit-transition:none;transition:none;}/*!sc*/
.bDTxaK[data-inactive]{cursor:auto;}/*!sc*/
.bDTxaK:disabled{cursor:not-allowed;box-shadow:none;color:var(--fgColor-disabled,var(--color-primer-fg-disabled,#8c959f));}/*!sc*/
.bDTxaK:disabled [data-component=ButtonCounter],.bDTxaK:disabled [data-component="leadingVisual"],.bDTxaK:disabled [data-component="trailingAction"]{color:inherit;}/*!sc*/
@media (forced-colors:active){.bDTxaK:focus{outline:solid 1px transparent;}}/*!sc*/
.bDTxaK [data-component=ButtonCounter]{font-size:12px;}/*!sc*/
.bDTxaK[data-component=IconButton]{display:inline-grid;padding:unset;place-content:center;width:32px;min-width:unset;}/*!sc*/
.bDTxaK[data-size="small"]{padding:0 8px;height:28px;gap:4px;font-size:12px;color:var(--fgColor-default,var(--color-fg-default,#1F2328));margin-left:8px;}/*!sc*/
.bDTxaK[data-size="small"] [data-component="text"]{line-height:calc(20 / 12);}/*!sc*/
.bDTxaK[data-size="small"] [data-component=ButtonCounter]{font-size:12px;}/*!sc*/
.bDTxaK[data-size="small"] [data-component="buttonContent"] > :not(:last-child){margin-right:4px;}/*!sc*/
.bDTxaK[data-size="small"][data-component=IconButton]{width:28px;padding:unset;}/*!sc*/
.bDTxaK[data-size="large"]{padding:0 16px;height:40px;gap:8px;}/*!sc*/
.bDTxaK[data-size="large"] [data-component="buttonContent"] > :not(:last-child){margin-right:8px;}/*!sc*/
.bDTxaK[data-size="large"][data-component=IconButton]{width:40px;padding:unset;}/*!sc*/
.bDTxaK[data-block="block"]{width:100%;}/*!sc*/
.bDTxaK[data-label-wrap="true"]{min-width:-webkit-fit-content;min-width:-moz-fit-content;min-width:fit-content;height:unset;min-height:var(--control-medium-size,2rem);}/*!sc*/
.bDTxaK[data-label-wrap="true"] [data-component="buttonContent"]{-webkit-flex:1 1 auto;-ms-flex:1 1 auto;flex:1 1 auto;-webkit-align-self:stretch;-ms-flex-item-align:stretch;align-self:stretch;padding-block:calc(var(--control-medium-paddingBlock,0.375rem) - 2px);}/*!sc*/
.bDTxaK[data-label-wrap="true"] [data-component="text"]{white-space:unset;word-break:break-word;}/*!sc*/
.bDTxaK[data-label-wrap="true"][data-size="small"]{height:unset;min-height:var(--control-small-size,1.75rem);}/*!sc*/
.bDTxaK[data-label-wrap="true"][data-size="small"] [data-component="buttonContent"]{padding-block:calc(var(--control-small-paddingBlock,0.25rem) - 2px);}/*!sc*/
.bDTxaK[data-label-wrap="true"][data-size="large"]{height:unset;min-height:var(--control-large-size,2.5rem);padding-inline:var(--control-large-paddingInline-spacious,1rem);}/*!sc*/
.bDTxaK[data-label-wrap="true"][data-size="large"] [data-component="buttonContent"]{padding-block:calc(var(--control-large-paddingBlock,0.625rem) - 2px);}/*!sc*/
.bDTxaK[data-inactive]:not([disabled]){background-color:var(--button-inactive-bgColor,var(--button-inactive-bgColor-rest,var(--color-btn-inactive-bg,#eaeef2)));border-color:var(--button-inactive-bgColor,var(--button-inactive-bgColor-rest,var(--color-btn-inactive-bg,#eaeef2)));color:var(--button-inactive-fgColor,var(--button-inactive-fgColor-rest,var(--color-btn-inactive-text,#57606a)));}/*!sc*/
.bDTxaK[data-inactive]:not([disabled]):focus-visible{box-shadow:none;}/*!sc*/
.bDTxaK [data-component="leadingVisual"]{grid-area:leadingVisual;color:var(--fgColor-muted,var(--color-fg-muted,#656d76));}/*!sc*/
.bDTxaK [data-component="text"]{grid-area:text;line-height:calc(20/14);white-space:nowrap;}/*!sc*/
.bDTxaK [data-component="trailingVisual"]{grid-area:trailingVisual;}/*!sc*/
.bDTxaK [data-component="trailingAction"]{margin-right:-4px;color:var(--fgColor-muted,var(--color-fg-muted,#656d76));}/*!sc*/
.bDTxaK [data-component="buttonContent"]{-webkit-flex:1 0 auto;-ms-flex:1 0 auto;flex:1 0 auto;display:grid;grid-template-areas:"leadingVisual text trailingVisual";grid-template-columns:min-content minmax(0,auto) min-content;-webkit-align-items:center;-webkit-box-align:center;-ms-flex-align:center;align-items:center;-webkit-align-content:center;-ms-flex-line-pack:center;align-content:center;}/*!sc*/
.bDTxaK [data-component="buttonContent"] > :not(:last-child){margin-right:8px;}/*!sc*/
.bDTxaK [data-component="loadingSpinner"]{grid-area:text;margin-right:0px !important;place-self:center;}/*!sc*/
.bDTxaK [data-component="loadingSpinner"] + [data-component="text"]{visibility:hidden;}/*!sc*/
.bDTxaK:hover:not([disabled]){background-color:var(--control-transparent-bgColor-hover,var(--color-action-list-item-default-hover-bg,rgba(208,215,222,0.32)));}/*!sc*/
.bDTxaK:active:not([disabled]){background-color:var(--control-transparent-bgColor-active,var(--color-action-list-item-default-active-bg,rgba(208,215,222,0.48)));}/*!sc*/
.bDTxaK[aria-expanded=true]{background-color:var(--control-transparent-bgColor-selected,var(--color-action-list-item-default-selected-bg,rgba(208,215,222,0.24)));}/*!sc*/
.bDTxaK[data-component="IconButton"][data-no-visuals]{color:var(--fgColor-muted,var(--color-fg-muted,#656d76));}/*!sc*/
.bDTxaK[data-no-visuals]{color:var(--fgColor-accent,var(--color-accent-fg,#0969da));}/*!sc*/
.bDTxaK:has([data-component="ButtonCounter"]){color:var(--button-default-fgColor-rest,var(--color-btn-text,#24292f));}/*!sc*/
.bDTxaK:disabled[data-no-visuals]{color:var(--fgColor-disabled,var(--color-primer-fg-disabled,#8c959f));}/*!sc*/
.bDTxaK:disabled[data-no-visuals] [data-component=ButtonCounter]{color:inherit;}/*!sc*/
.jUNlHb{border-radius:6px;border:1px solid;border-color:var(--button-default-borderColor-rest,var(--button-default-borderColor-rest,var(--color-btn-border,rgba(31,35,40,0.15))));font-family:inherit;font-weight:500;font-size:14px;cursor:pointer;-webkit-appearance:none;-moz-appearance:none;appearance:none;-webkit-user-select:none;-moz-user-select:none;-ms-user-select:none;user-select:none;-webkit-text-decoration:none;text-decoration:none;text-align:center;display:-webkit-box;display:-webkit-flex;display:-ms-flexbox;display:flex;-webkit-align-items:center;-webkit-box-align:center;-ms-flex-align:center;align-items:center;-webkit-box-pack:justify;-webkit-justify-content:space-between;-ms-flex-pack:justify;justify-content:space-between;height:32px;padding:0 12px;gap:8px;min-width:-webkit-max-content;min-width:-moz-max-content;min-width:max-content;-webkit-transition:80ms cubic-bezier(0.65,0,0.35,1);transition:80ms cubic-bezier(0.65,0,0.35,1);-webkit-transition-property:color,fill,background-color,border-color;transition-property:color,fill,background-color,border-color;color:var(--button-default-fgColor-rest,var(--color-btn-text,#24292f));background-color:var(--button-default-bgColor-rest,var(--color-btn-bg,#f6f8fa));box-shadow:var(--button-default-shadow-resting,var(--color-btn-shadow,0 1px 0 rgba(31,35,40,0.04))),var(--button-default-shadow-inset,var(--color-btn-inset-shadow,inset 0 1px 0 rgba(255,255,255,0.25)));padding-left:8px;padding-right:8px;}/*!sc*/
.jUNlHb:focus:not(:disabled){box-shadow:none;outline:2px solid var(--fgColor-accent,var(--color-accent-fg,#0969da));outline-offset:-2px;}/*!sc*/
.jUNlHb:focus:not(:disabled):not(:focus-visible){outline:solid 1px transparent;}/*!sc*/
.jUNlHb:focus-visible:not(:disabled){box-shadow:none;outline:2px solid var(--fgColor-accent,var(--color-accent-fg,#0969da));outline-offset:-2px;}/*!sc*/
.jUNlHb[href]{display:-webkit-inline-box;display:-webkit-inline-flex;display:-ms-inline-flexbox;display:inline-flex;}/*!sc*/
.jUNlHb[href]:hover{-webkit-text-decoration:none;text-decoration:none;}/*!sc*/
.jUNlHb:hover{-webkit-transition-duration:80ms;transition-duration:80ms;}/*!sc*/
.jUNlHb:active{-webkit-transition:none;transition:none;}/*!sc*/
.jUNlHb[data-inactive]{cursor:auto;}/*!sc*/
.jUNlHb:disabled{cursor:not-allowed;box-shadow:none;color:var(--fgColor-disabled,var(--color-primer-fg-disabled,#8c959f));border-color:var(--button-default-borderColor-disabled,var(--button-default-borderColor-rest,var(--color-btn-border,rgba(31,35,40,0.15))));background-color:var(--button-default-bgColor-disabled,var(--control-bgColor-disabled,var(--color-input-disabled-bg,rgba(175,184,193,0.2))));}/*!sc*/
.jUNlHb:disabled [data-component=ButtonCounter]{color:inherit;}/*!sc*/
@media (forced-colors:active){.jUNlHb:focus{outline:solid 1px transparent;}}/*!sc*/
.jUNlHb [data-component=ButtonCounter]{font-size:12px;background-color:var(--buttonCounter-default-bgColor-rest,var(--color-btn-counter-bg,rgba(31,35,40,0.08)));}/*!sc*/
.jUNlHb[data-component=IconButton]{display:inline-grid;padding:unset;place-content:center;width:32px;min-width:unset;}/*!sc*/
.jUNlHb[data-size="small"]{padding:0 8px;height:28px;gap:4px;font-size:12px;}/*!sc*/
.jUNlHb[data-size="small"] [data-component="text"]{line-height:calc(20 / 12);}/*!sc*/
.jUNlHb[data-size="small"] [data-component=ButtonCounter]{font-size:12px;}/*!sc*/
.jUNlHb[data-size="small"] [data-component="buttonContent"] > :not(:last-child){margin-right:4px;}/*!sc*/
.jUNlHb[data-size="small"][data-component=IconButton]{width:28px;padding:unset;}/*!sc*/
.jUNlHb[data-size="large"]{padding:0 16px;height:40px;gap:8px;}/*!sc*/
.jUNlHb[data-size="large"] [data-component="buttonContent"] > :not(:last-child){margin-right:8px;}/*!sc*/
.jUNlHb[data-size="large"][data-component=IconButton]{width:40px;padding:unset;}/*!sc*/
.jUNlHb[data-block="block"]{width:100%;}/*!sc*/
.jUNlHb[data-label-wrap="true"]{min-width:-webkit-fit-content;min-width:-moz-fit-content;min-width:fit-content;height:unset;min-height:var(--control-medium-size,2rem);}/*!sc*/
.jUNlHb[data-label-wrap="true"] [data-component="buttonContent"]{-webkit-flex:1 1 auto;-ms-flex:1 1 auto;flex:1 1 auto;-webkit-align-self:stretch;-ms-flex-item-align:stretch;align-self:stretch;padding-block:calc(var(--control-medium-paddingBlock,0.375rem) - 2px);}/*!sc*/
.jUNlHb[data-label-wrap="true"] [data-component="text"]{white-space:unset;word-break:break-word;}/*!sc*/
.jUNlHb[data-label-wrap="true"][data-size="small"]{height:unset;min-height:var(--control-small-size,1.75rem);}/*!sc*/
.jUNlHb[data-label-wrap="true"][data-size="small"] [data-component="buttonContent"]{padding-block:calc(var(--control-small-paddingBlock,0.25rem) - 2px);}/*!sc*/
.jUNlHb[data-label-wrap="true"][data-size="large"]{height:unset;min-height:var(--control-large-size,2.5rem);padding-inline:var(--control-large-paddingInline-spacious,1rem);}/*!sc*/
.jUNlHb[data-label-wrap="true"][data-size="large"] [data-component="buttonContent"]{padding-block:calc(var(--control-large-paddingBlock,0.625rem) - 2px);}/*!sc*/
.jUNlHb[data-inactive]:not([disabled]){background-color:var(--button-inactive-bgColor,var(--button-inactive-bgColor-rest,var(--color-btn-inactive-bg,#eaeef2)));border-color:var(--button-inactive-bgColor,var(--button-inactive-bgColor-rest,var(--color-btn-inactive-bg,#eaeef2)));color:var(--button-inactive-fgColor,var(--button-inactive-fgColor-rest,var(--color-btn-inactive-text,#57606a)));}/*!sc*/
.jUNlHb[data-inactive]:not([disabled]):focus-visible{box-shadow:none;}/*!sc*/
.jUNlHb [data-component="leadingVisual"]{grid-area:leadingVisual;}/*!sc*/
.jUNlHb [data-component="text"]{grid-area:text;line-height:calc(20/14);white-space:nowrap;}/*!sc*/
.jUNlHb [data-component="trailingVisual"]{grid-area:trailingVisual;}/*!sc*/
.jUNlHb [data-component="trailingAction"]{margin-right:-4px;}/*!sc*/
.jUNlHb [data-component="buttonContent"]{-webkit-flex:1 0 auto;-ms-flex:1 0 auto;flex:1 0 auto;display:grid;grid-template-areas:"leadingVisual text trailingVisual";grid-template-columns:min-content minmax(0,auto) min-content;-webkit-align-items:center;-webkit-box-align:center;-ms-flex-align:center;align-items:center;-webkit-align-content:center;-ms-flex-line-pack:center;align-content:center;}/*!sc*/
.jUNlHb [data-component="buttonContent"] > :not(:last-child){margin-right:8px;}/*!sc*/
.jUNlHb [data-component="loadingSpinner"]{grid-area:text;margin-right:0px !important;place-self:center;}/*!sc*/
.jUNlHb [data-component="loadingSpinner"] + [data-component="text"]{visibility:hidden;}/*!sc*/
.jUNlHb:hover:not([disabled]):not([data-inactive]){background-color:var(--button-default-bgColor-hover,var(--color-btn-hover-bg,#f3f4f6));border-color:var(--button-default-borderColor-hover,var(--button-default-borderColor-hover,var(--color-btn-hover-border,rgba(31,35,40,0.15))));}/*!sc*/
.jUNlHb:active:not([disabled]):not([data-inactive]){background-color:var(--button-default-bgColor-active,var(--color-btn-active-bg,hsla(220,14%,93%,1)));border-color:var(--button-default-borderColor-active,var(--button-default-borderColor-active,var(--color-btn-active-border,rgba(31,35,40,0.15))));}/*!sc*/
.jUNlHb[aria-expanded=true]{background-color:var(--button-default-bgColor-active,var(--color-btn-active-bg,hsla(220,14%,93%,1)));border-color:var(--button-default-borderColor-active,var(--button-default-borderColor-active,var(--color-btn-active-border,rgba(31,35,40,0.15))));}/*!sc*/
.jUNlHb [data-component="leadingVisual"],.jUNlHb [data-component="trailingVisual"],.jUNlHb [data-component="trailingAction"]{color:var(--button-color,var(--fgColor-muted,var(--color-fg-muted,#656d76)));}/*!sc*/
.jUNlHb[data-component="IconButton"][data-no-visuals]{color:var(--fgColor-muted,var(--color-fg-muted,#656d76));}/*!sc*/
.jUNlHb linkButtonSx:hover:not([disabled]){-webkit-text-decoration:none;text-decoration:none;}/*!sc*/
.jUNlHb linkButtonSx:focus:not([disabled]){-webkit-text-decoration:none;text-decoration:none;}/*!sc*/
.jUNlHb linkButtonSx:active:not([disabled]){-webkit-text-decoration:none;text-decoration:none;}/*!sc*/
.feqCqy{border-radius:6px;border:1px solid;border-color:var(--button-default-borderColor-rest,var(--button-default-borderColor-rest,var(--color-btn-border,rgba(31,35,40,0.15))));font-family:inherit;font-weight:500;font-size:14px;cursor:pointer;-webkit-appearance:none;-moz-appearance:none;appearance:none;-webkit-user-select:none;-moz-user-select:none;-ms-user-select:none;user-select:none;-webkit-text-decoration:none;text-decoration:none;text-align:center;display:-webkit-box;display:-webkit-flex;display:-ms-flexbox;display:flex;-webkit-align-items:center;-webkit-box-align:center;-ms-flex-align:center;align-items:center;-webkit-box-pack:justify;-webkit-justify-content:space-between;-ms-flex-pack:justify;justify-content:space-between;height:32px;padding:0 12px;gap:8px;min-width:-webkit-max-content;min-width:-moz-max-content;min-width:max-content;-webkit-transition:80ms cubic-bezier(0.65,0,0.35,1);transition:80ms cubic-bezier(0.65,0,0.35,1);-webkit-transition-property:color,fill,background-color,border-color;transition-property:color,fill,background-color,border-color;color:var(--button-default-fgColor-rest,var(--color-btn-text,#24292f));background-color:var(--button-default-bgColor-rest,var(--color-btn-bg,#f6f8fa));box-shadow:var(--button-default-shadow-resting,var(--color-btn-shadow,0 1px 0 rgba(31,35,40,0.04))),var(--button-default-shadow-inset,var(--color-btn-inset-shadow,inset 0 1px 0 rgba(255,255,255,0.25)));}/*!sc*/
.feqCqy:focus:not(:disabled){box-shadow:none;outline:2px solid var(--fgColor-accent,var(--color-accent-fg,#0969da));outline-offset:-2px;}/*!sc*/
.feqCqy:focus:not(:disabled):not(:focus-visible){outline:solid 1px transparent;}/*!sc*/
.feqCqy:focus-visible:not(:disabled){box-shadow:none;outline:2px solid var(--fgColor-accent,var(--color-accent-fg,#0969da));outline-offset:-2px;}/*!sc*/
.feqCqy[href]{display:-webkit-inline-box;display:-webkit-inline-flex;display:-ms-inline-flexbox;display:inline-flex;}/*!sc*/
.feqCqy[href]:hover{-webkit-text-decoration:none;text-decoration:none;}/*!sc*/
.feqCqy:hover{-webkit-transition-duration:80ms;transition-duration:80ms;}/*!sc*/
.feqCqy:active{-webkit-transition:none;transition:none;}/*!sc*/
.feqCqy[data-inactive]{cursor:auto;}/*!sc*/
.feqCqy:disabled{cursor:not-allowed;box-shadow:none;color:var(--fgColor-disabled,var(--color-primer-fg-disabled,#8c959f));border-color:var(--button-default-borderColor-disabled,var(--button-default-borderColor-rest,var(--color-btn-border,rgba(31,35,40,0.15))));background-color:var(--button-default-bgColor-disabled,var(--control-bgColor-disabled,var(--color-input-disabled-bg,rgba(175,184,193,0.2))));}/*!sc*/
.feqCqy:disabled [data-component=ButtonCounter]{color:inherit;}/*!sc*/
@media (forced-colors:active){.feqCqy:focus{outline:solid 1px transparent;}}/*!sc*/
.feqCqy [data-component=ButtonCounter]{font-size:12px;background-color:var(--buttonCounter-default-bgColor-rest,var(--color-btn-counter-bg,rgba(31,35,40,0.08)));}/*!sc*/
.feqCqy[data-component=IconButton]{display:inline-grid;padding:unset;place-content:center;width:32px;min-width:unset;}/*!sc*/
.feqCqy[data-size="small"]{padding:0 8px;height:28px;gap:4px;font-size:12px;}/*!sc*/
.feqCqy[data-size="small"] [data-component="text"]{line-height:calc(20 / 12);}/*!sc*/
.feqCqy[data-size="small"] [data-component=ButtonCounter]{font-size:12px;}/*!sc*/
.feqCqy[data-size="small"] [data-component="buttonContent"] > :not(:last-child){margin-right:4px;}/*!sc*/
.feqCqy[data-size="small"][data-component=IconButton]{width:28px;padding:unset;}/*!sc*/
.feqCqy[data-size="large"]{padding:0 16px;height:40px;gap:8px;}/*!sc*/
.feqCqy[data-size="large"] [data-component="buttonContent"] > :not(:last-child){margin-right:8px;}/*!sc*/
.feqCqy[data-size="large"][data-component=IconButton]{width:40px;padding:unset;}/*!sc*/
.feqCqy[data-block="block"]{width:100%;}/*!sc*/
.feqCqy[data-label-wrap="true"]{min-width:-webkit-fit-content;min-width:-moz-fit-content;min-width:fit-content;height:unset;min-height:var(--control-medium-size,2rem);}/*!sc*/
.feqCqy[data-label-wrap="true"] [data-component="buttonContent"]{-webkit-flex:1 1 auto;-ms-flex:1 1 auto;flex:1 1 auto;-webkit-align-self:stretch;-ms-flex-item-align:stretch;align-self:stretch;padding-block:calc(var(--control-medium-paddingBlock,0.375rem) - 2px);}/*!sc*/
.feqCqy[data-label-wrap="true"] [data-component="text"]{white-space:unset;word-break:break-word;}/*!sc*/
.feqCqy[data-label-wrap="true"][data-size="small"]{height:unset;min-height:var(--control-small-size,1.75rem);}/*!sc*/
.feqCqy[data-label-wrap="true"][data-size="small"] [data-component="buttonContent"]{padding-block:calc(var(--control-small-paddingBlock,0.25rem) - 2px);}/*!sc*/
.feqCqy[data-label-wrap="true"][data-size="large"]{height:unset;min-height:var(--control-large-size,2.5rem);padding-inline:var(--control-large-paddingInline-spacious,1rem);}/*!sc*/
.feqCqy[data-label-wrap="true"][data-size="large"] [data-component="buttonContent"]{padding-block:calc(var(--control-large-paddingBlock,0.625rem) - 2px);}/*!sc*/
.feqCqy[data-inactive]:not([disabled]){background-color:var(--button-inactive-bgColor,var(--button-inactive-bgColor-rest,var(--color-btn-inactive-bg,#eaeef2)));border-color:var(--button-inactive-bgColor,var(--button-inactive-bgColor-rest,var(--color-btn-inactive-bg,#eaeef2)));color:var(--button-inactive-fgColor,var(--button-inactive-fgColor-rest,var(--color-btn-inactive-text,#57606a)));}/*!sc*/
.feqCqy[data-inactive]:not([disabled]):focus-visible{box-shadow:none;}/*!sc*/
.feqCqy [data-component="leadingVisual"]{grid-area:leadingVisual;}/*!sc*/
.feqCqy [data-component="text"]{grid-area:text;line-height:calc(20/14);white-space:nowrap;}/*!sc*/
.feqCqy [data-component="trailingVisual"]{grid-area:trailingVisual;}/*!sc*/
.feqCqy [data-component="trailingAction"]{margin-right:-4px;}/*!sc*/
.feqCqy [data-component="buttonContent"]{-webkit-flex:1 0 auto;-ms-flex:1 0 auto;flex:1 0 auto;display:grid;grid-template-areas:"leadingVisual text trailingVisual";grid-template-columns:min-content minmax(0,auto) min-content;-webkit-align-items:center;-webkit-box-align:center;-ms-flex-align:center;align-items:center;-webkit-align-content:center;-ms-flex-line-pack:center;align-content:center;}/*!sc*/
.feqCqy [data-component="buttonContent"] > :not(:last-child){margin-right:8px;}/*!sc*/
.feqCqy [data-component="loadingSpinner"]{grid-area:text;margin-right:0px !important;place-self:center;}/*!sc*/
.feqCqy [data-component="loadingSpinner"] + [data-component="text"]{visibility:hidden;}/*!sc*/
.feqCqy:hover:not([disabled]):not([data-inactive]){background-color:var(--button-default-bgColor-hover,var(--color-btn-hover-bg,#f3f4f6));border-color:var(--button-default-borderColor-hover,var(--button-default-borderColor-hover,var(--color-btn-hover-border,rgba(31,35,40,0.15))));}/*!sc*/
.feqCqy:active:not([disabled]):not([data-inactive]){background-color:var(--button-default-bgColor-active,var(--color-btn-active-bg,hsla(220,14%,93%,1)));border-color:var(--button-default-borderColor-active,var(--button-default-borderColor-active,var(--color-btn-active-border,rgba(31,35,40,0.15))));}/*!sc*/
.feqCqy[aria-expanded=true]{background-color:var(--button-default-bgColor-active,var(--color-btn-active-bg,hsla(220,14%,93%,1)));border-color:var(--button-default-borderColor-active,var(--button-default-borderColor-active,var(--color-btn-active-border,rgba(31,35,40,0.15))));}/*!sc*/
.feqCqy [data-component="leadingVisual"],.feqCqy [data-component="trailingVisual"],.feqCqy [data-component="trailingAction"]{color:var(--button-color,var(--fgColor-muted,var(--color-fg-muted,#656d76)));}/*!sc*/
.feqCqy[data-component="IconButton"][data-no-visuals]{color:var(--fgColor-muted,var(--color-fg-muted,#656d76));}/*!sc*/
.bfWknm{border-radius:6px;border:1px solid;border-color:var(--button-default-borderColor-rest,var(--button-default-borderColor-rest,var(--color-btn-border,rgba(31,35,40,0.15))));font-family:inherit;font-weight:500;font-size:14px;cursor:pointer;-webkit-appearance:none;-moz-appearance:none;appearance:none;-webkit-user-select:none;-moz-user-select:none;-ms-user-select:none;user-select:none;-webkit-text-decoration:none;text-decoration:none;text-align:center;display:-webkit-box;display:-webkit-flex;display:-ms-flexbox;display:flex;-webkit-align-items:center;-webkit-box-align:center;-ms-flex-align:center;align-items:center;-webkit-box-pack:justify;-webkit-justify-content:space-between;-ms-flex-pack:justify;justify-content:space-between;height:32px;padding:0 12px;gap:8px;min-width:-webkit-max-content;min-width:-moz-max-content;min-width:max-content;-webkit-transition:80ms cubic-bezier(0.65,0,0.35,1);transition:80ms cubic-bezier(0.65,0,0.35,1);-webkit-transition-property:color,fill,background-color,border-color;transition-property:color,fill,background-color,border-color;color:var(--button-default-fgColor-rest,var(--color-btn-text,#24292f));background-color:var(--button-default-bgColor-rest,var(--color-btn-bg,#f6f8fa));box-shadow:var(--button-default-shadow-resting,var(--color-btn-shadow,0 1px 0 rgba(31,35,40,0.04))),var(--button-default-shadow-inset,var(--color-btn-inset-shadow,inset 0 1px 0 rgba(255,255,255,0.25)));}/*!sc*/
.bfWknm:focus:not(:disabled){box-shadow:none;outline:2px solid var(--fgColor-accent,var(--color-accent-fg,#0969da));outline-offset:-2px;}/*!sc*/
.bfWknm:focus:not(:disabled):not(:focus-visible){outline:solid 1px transparent;}/*!sc*/
.bfWknm:focus-visible:not(:disabled){box-shadow:none;outline:2px solid var(--fgColor-accent,var(--color-accent-fg,#0969da));outline-offset:-2px;}/*!sc*/
.bfWknm[href]{display:-webkit-inline-box;display:-webkit-inline-flex;display:-ms-inline-flexbox;display:inline-flex;}/*!sc*/
.bfWknm[href]:hover{-webkit-text-decoration:none;text-decoration:none;}/*!sc*/
.bfWknm:hover{-webkit-transition-duration:80ms;transition-duration:80ms;}/*!sc*/
.bfWknm:active{-webkit-transition:none;transition:none;}/*!sc*/
.bfWknm[data-inactive]{cursor:auto;}/*!sc*/
.bfWknm:disabled{cursor:not-allowed;box-shadow:none;color:var(--fgColor-disabled,var(--color-primer-fg-disabled,#8c959f));border-color:var(--button-default-borderColor-disabled,var(--button-default-borderColor-rest,var(--color-btn-border,rgba(31,35,40,0.15))));background-color:var(--button-default-bgColor-disabled,var(--control-bgColor-disabled,var(--color-input-disabled-bg,rgba(175,184,193,0.2))));}/*!sc*/
.bfWknm:disabled [data-component=ButtonCounter]{color:inherit;}/*!sc*/
@media (forced-colors:active){.bfWknm:focus{outline:solid 1px transparent;}}/*!sc*/
.bfWknm [data-component=ButtonCounter]{font-size:12px;background-color:var(--buttonCounter-default-bgColor-rest,var(--color-btn-counter-bg,rgba(31,35,40,0.08)));}/*!sc*/
.bfWknm[data-component=IconButton]{display:inline-grid;padding:unset;place-content:center;width:32px;min-width:unset;}/*!sc*/
.bfWknm[data-size="small"]{padding:0 8px;height:28px;gap:4px;font-size:12px;}/*!sc*/
.bfWknm[data-size="small"] [data-component="text"]{line-height:calc(20 / 12);}/*!sc*/
.bfWknm[data-size="small"] [data-component=ButtonCounter]{font-size:12px;}/*!sc*/
.bfWknm[data-size="small"] [data-component="buttonContent"] > :not(:last-child){margin-right:4px;}/*!sc*/
.bfWknm[data-size="small"][data-component=IconButton]{width:28px;padding:unset;}/*!sc*/
.bfWknm[data-size="large"]{padding:0 16px;height:40px;gap:8px;}/*!sc*/
.bfWknm[data-size="large"] [data-component="buttonContent"] > :not(:last-child){margin-right:8px;}/*!sc*/
.bfWknm[data-size="large"][data-component=IconButton]{width:40px;padding:unset;}/*!sc*/
.bfWknm[data-block="block"]{width:100%;}/*!sc*/
.bfWknm[data-label-wrap="true"]{min-width:-webkit-fit-content;min-width:-moz-fit-content;min-width:fit-content;height:unset;min-height:var(--control-medium-size,2rem);}/*!sc*/
.bfWknm[data-label-wrap="true"] [data-component="buttonContent"]{-webkit-flex:1 1 auto;-ms-flex:1 1 auto;flex:1 1 auto;-webkit-align-self:stretch;-ms-flex-item-align:stretch;align-self:stretch;padding-block:calc(var(--control-medium-paddingBlock,0.375rem) - 2px);}/*!sc*/
.bfWknm[data-label-wrap="true"] [data-component="text"]{white-space:unset;word-break:break-word;}/*!sc*/
.bfWknm[data-label-wrap="true"][data-size="small"]{height:unset;min-height:var(--control-small-size,1.75rem);}/*!sc*/
.bfWknm[data-label-wrap="true"][data-size="small"] [data-component="buttonContent"]{padding-block:calc(var(--control-small-paddingBlock,0.25rem) - 2px);}/*!sc*/
.bfWknm[data-label-wrap="true"][data-size="large"]{height:unset;min-height:var(--control-large-size,2.5rem);padding-inline:var(--control-large-paddingInline-spacious,1rem);}/*!sc*/
.bfWknm[data-label-wrap="true"][data-size="large"] [data-component="buttonContent"]{padding-block:calc(var(--control-large-paddingBlock,0.625rem) - 2px);}/*!sc*/
.bfWknm[data-inactive]:not([disabled]){background-color:var(--button-inactive-bgColor,var(--button-inactive-bgColor-rest,var(--color-btn-inactive-bg,#eaeef2)));border-color:var(--button-inactive-bgColor,var(--button-inactive-bgColor-rest,var(--color-btn-inactive-bg,#eaeef2)));color:var(--button-inactive-fgColor,var(--button-inactive-fgColor-rest,var(--color-btn-inactive-text,#57606a)));}/*!sc*/
.bfWknm[data-inactive]:not([disabled]):focus-visible{box-shadow:none;}/*!sc*/
.bfWknm [data-component="leadingVisual"]{grid-area:leadingVisual;}/*!sc*/
.bfWknm [data-component="text"]{grid-area:text;line-height:calc(20/14);white-space:nowrap;}/*!sc*/
.bfWknm [data-component="trailingVisual"]{grid-area:trailingVisual;}/*!sc*/
.bfWknm [data-component="trailingAction"]{margin-right:-4px;}/*!sc*/
.bfWknm [data-component="buttonContent"]{-webkit-flex:1 0 auto;-ms-flex:1 0 auto;flex:1 0 auto;display:grid;grid-template-areas:"leadingVisual text trailingVisual";grid-template-columns:min-content minmax(0,auto) min-content;-webkit-align-items:center;-webkit-box-align:center;-ms-flex-align:center;align-items:center;-webkit-align-content:center;-ms-flex-line-pack:center;align-content:center;}/*!sc*/
.bfWknm [data-component="buttonContent"] > :not(:last-child){margin-right:8px;}/*!sc*/
.bfWknm [data-component="loadingSpinner"]{grid-area:text;margin-right:0px !important;place-self:center;}/*!sc*/
.bfWknm [data-component="loadingSpinner"] + [data-component="text"]{visibility:hidden;}/*!sc*/
.bfWknm:hover:not([disabled]):not([data-inactive]){background-color:var(--button-default-bgColor-hover,var(--color-btn-hover-bg,#f3f4f6));border-color:var(--button-default-borderColor-hover,var(--button-default-borderColor-hover,var(--color-btn-hover-border,rgba(31,35,40,0.15))));}/*!sc*/
.bfWknm:active:not([disabled]):not([data-inactive]){background-color:var(--button-default-bgColor-active,var(--color-btn-active-bg,hsla(220,14%,93%,1)));border-color:var(--button-default-borderColor-active,var(--button-default-borderColor-active,var(--color-btn-active-border,rgba(31,35,40,0.15))));}/*!sc*/
.bfWknm[aria-expanded=true]{background-color:var(--button-default-bgColor-active,var(--color-btn-active-bg,hsla(220,14%,93%,1)));border-color:var(--button-default-borderColor-active,var(--button-default-borderColor-active,var(--color-btn-active-border,rgba(31,35,40,0.15))));}/*!sc*/
.bfWknm [data-component="leadingVisual"],.bfWknm [data-component="trailingVisual"],.bfWknm [data-component="trailingAction"]{color:var(--button-color,var(--fgColor-muted,var(--color-fg-muted,#656d76)));}/*!sc*/
.bfWknm[data-component="IconButton"][data-no-visuals]{color:var(--fgColor-muted,var(--color-fg-muted,#656d76));}/*!sc*/
.bfWknm[data-size="small"][data-no-visuals]{border-top-left-radius:0;border-bottom-left-radius:0;}/*!sc*/
.eBqjKw{border-radius:6px;border:1px solid;border-color:var(--button-default-borderColor-rest,var(--button-default-borderColor-rest,var(--color-btn-border,rgba(31,35,40,0.15))));font-family:inherit;font-weight:500;font-size:14px;cursor:pointer;-webkit-appearance:none;-moz-appearance:none;appearance:none;-webkit-user-select:none;-moz-user-select:none;-ms-user-select:none;user-select:none;-webkit-text-decoration:none;text-decoration:none;text-align:center;display:-webkit-box;display:-webkit-flex;display:-ms-flexbox;display:flex;-webkit-align-items:center;-webkit-box-align:center;-ms-flex-align:center;align-items:center;-webkit-box-pack:justify;-webkit-justify-content:space-between;-ms-flex-pack:justify;justify-content:space-between;height:32px;padding:0 12px;gap:8px;min-width:-webkit-max-content;min-width:-moz-max-content;min-width:max-content;-webkit-transition:80ms cubic-bezier(0.65,0,0.35,1);transition:80ms cubic-bezier(0.65,0,0.35,1);-webkit-transition-property:color,fill,background-color,border-color;transition-property:color,fill,background-color,border-color;color:var(--button-default-fgColor-rest,var(--color-btn-text,#24292f));background-color:var(--button-default-bgColor-rest,var(--color-btn-bg,#f6f8fa));box-shadow:var(--button-default-shadow-resting,var(--color-btn-shadow,0 1px 0 rgba(31,35,40,0.04))),var(--button-default-shadow-inset,var(--color-btn-inset-shadow,inset 0 1px 0 rgba(255,255,255,0.25)));}/*!sc*/
.eBqjKw:focus:not(:disabled){box-shadow:none;outline:2px solid var(--fgColor-accent,var(--color-accent-fg,#0969da));outline-offset:-2px;}/*!sc*/
.eBqjKw:focus:not(:disabled):not(:focus-visible){outline:solid 1px transparent;}/*!sc*/
.eBqjKw:focus-visible:not(:disabled){box-shadow:none;outline:2px solid var(--fgColor-accent,var(--color-accent-fg,#0969da));outline-offset:-2px;}/*!sc*/
.eBqjKw[href]{display:-webkit-inline-box;display:-webkit-inline-flex;display:-ms-inline-flexbox;display:inline-flex;}/*!sc*/
.eBqjKw[href]:hover{-webkit-text-decoration:none;text-decoration:none;}/*!sc*/
.eBqjKw:hover{-webkit-transition-duration:80ms;transition-duration:80ms;}/*!sc*/
.eBqjKw:active{-webkit-transition:none;transition:none;}/*!sc*/
.eBqjKw[data-inactive]{cursor:auto;}/*!sc*/
.eBqjKw:disabled{cursor:not-allowed;box-shadow:none;color:var(--fgColor-disabled,var(--color-primer-fg-disabled,#8c959f));border-color:var(--button-default-borderColor-disabled,var(--button-default-borderColor-rest,var(--color-btn-border,rgba(31,35,40,0.15))));background-color:var(--button-default-bgColor-disabled,var(--control-bgColor-disabled,var(--color-input-disabled-bg,rgba(175,184,193,0.2))));}/*!sc*/
.eBqjKw:disabled [data-component=ButtonCounter]{color:inherit;}/*!sc*/
@media (forced-colors:active){.eBqjKw:focus{outline:solid 1px transparent;}}/*!sc*/
.eBqjKw [data-component=ButtonCounter]{font-size:12px;background-color:var(--buttonCounter-default-bgColor-rest,var(--color-btn-counter-bg,rgba(31,35,40,0.08)));}/*!sc*/
.eBqjKw[data-component=IconButton]{display:inline-grid;padding:unset;place-content:center;width:32px;min-width:unset;}/*!sc*/
.eBqjKw[data-size="small"]{padding:0 8px;height:28px;gap:4px;font-size:12px;}/*!sc*/
.eBqjKw[data-size="small"] [data-component="text"]{line-height:calc(20 / 12);}/*!sc*/
.eBqjKw[data-size="small"] [data-component=ButtonCounter]{font-size:12px;}/*!sc*/
.eBqjKw[data-size="small"] [data-component="buttonContent"] > :not(:last-child){margin-right:4px;}/*!sc*/
.eBqjKw[data-size="small"][data-component=IconButton]{width:28px;padding:unset;}/*!sc*/
.eBqjKw[data-size="large"]{padding:0 16px;height:40px;gap:8px;}/*!sc*/
.eBqjKw[data-size="large"] [data-component="buttonContent"] > :not(:last-child){margin-right:8px;}/*!sc*/
.eBqjKw[data-size="large"][data-component=IconButton]{width:40px;padding:unset;}/*!sc*/
.eBqjKw[data-block="block"]{width:100%;}/*!sc*/
.eBqjKw[data-label-wrap="true"]{min-width:-webkit-fit-content;min-width:-moz-fit-content;min-width:fit-content;height:unset;min-height:var(--control-medium-size,2rem);}/*!sc*/
.eBqjKw[data-label-wrap="true"] [data-component="buttonContent"]{-webkit-flex:1 1 auto;-ms-flex:1 1 auto;flex:1 1 auto;-webkit-align-self:stretch;-ms-flex-item-align:stretch;align-self:stretch;padding-block:calc(var(--control-medium-paddingBlock,0.375rem) - 2px);}/*!sc*/
.eBqjKw[data-label-wrap="true"] [data-component="text"]{white-space:unset;word-break:break-word;}/*!sc*/
.eBqjKw[data-label-wrap="true"][data-size="small"]{height:unset;min-height:var(--control-small-size,1.75rem);}/*!sc*/
.eBqjKw[data-label-wrap="true"][data-size="small"] [data-component="buttonContent"]{padding-block:calc(var(--control-small-paddingBlock,0.25rem) - 2px);}/*!sc*/
.eBqjKw[data-label-wrap="true"][data-size="large"]{height:unset;min-height:var(--control-large-size,2.5rem);padding-inline:var(--control-large-paddingInline-spacious,1rem);}/*!sc*/
.eBqjKw[data-label-wrap="true"][data-size="large"] [data-component="buttonContent"]{padding-block:calc(var(--control-large-paddingBlock,0.625rem) - 2px);}/*!sc*/
.eBqjKw[data-inactive]:not([disabled]){background-color:var(--button-inactive-bgColor,var(--button-inactive-bgColor-rest,var(--color-btn-inactive-bg,#eaeef2)));border-color:var(--button-inactive-bgColor,var(--button-inactive-bgColor-rest,var(--color-btn-inactive-bg,#eaeef2)));color:var(--button-inactive-fgColor,var(--button-inactive-fgColor-rest,var(--color-btn-inactive-text,#57606a)));}/*!sc*/
.eBqjKw[data-inactive]:not([disabled]):focus-visible{box-shadow:none;}/*!sc*/
.eBqjKw [data-component="leadingVisual"]{grid-area:leadingVisual;}/*!sc*/
.eBqjKw [data-component="text"]{grid-area:text;line-height:calc(20/14);white-space:nowrap;}/*!sc*/
.eBqjKw [data-component="trailingVisual"]{grid-area:trailingVisual;}/*!sc*/
.eBqjKw [data-component="trailingAction"]{margin-right:-4px;}/*!sc*/
.eBqjKw [data-component="buttonContent"]{-webkit-flex:1 0 auto;-ms-flex:1 0 auto;flex:1 0 auto;display:grid;grid-template-areas:"leadingVisual text trailingVisual";grid-template-columns:min-content minmax(0,auto) min-content;-webkit-align-items:center;-webkit-box-align:center;-ms-flex-align:center;align-items:center;-webkit-align-content:center;-ms-flex-line-pack:center;align-content:center;}/*!sc*/
.eBqjKw [data-component="buttonContent"] > :not(:last-child){margin-right:8px;}/*!sc*/
.eBqjKw [data-component="loadingSpinner"]{grid-area:text;margin-right:0px !important;place-self:center;}/*!sc*/
.eBqjKw [data-component="loadingSpinner"] + [data-component="text"]{visibility:hidden;}/*!sc*/
.eBqjKw:hover:not([disabled]):not([data-inactive]){background-color:var(--button-default-bgColor-hover,var(--color-btn-hover-bg,#f3f4f6));border-color:var(--button-default-borderColor-hover,var(--button-default-borderColor-hover,var(--color-btn-hover-border,rgba(31,35,40,0.15))));}/*!sc*/
.eBqjKw:active:not([disabled]):not([data-inactive]){background-color:var(--button-default-bgColor-active,var(--color-btn-active-bg,hsla(220,14%,93%,1)));border-color:var(--button-default-borderColor-active,var(--button-default-borderColor-active,var(--color-btn-active-border,rgba(31,35,40,0.15))));}/*!sc*/
.eBqjKw[aria-expanded=true]{background-color:var(--button-default-bgColor-active,var(--color-btn-active-bg,hsla(220,14%,93%,1)));border-color:var(--button-default-borderColor-active,var(--button-default-borderColor-active,var(--color-btn-active-border,rgba(31,35,40,0.15))));}/*!sc*/
.eBqjKw [data-component="leadingVisual"],.eBqjKw [data-component="trailingVisual"],.eBqjKw [data-component="trailingAction"]{color:var(--button-color,var(--fgColor-muted,var(--color-fg-muted,#656d76)));}/*!sc*/
.eBqjKw[data-component="IconButton"][data-no-visuals]{color:var(--fgColor-muted,var(--color-fg-muted,#656d76));}/*!sc*/
.eBqjKw[data-size="small"][data-no-visuals]{border-top-right-radius:0;border-bottom-right-radius:0;border-right-width:0;}/*!sc*/
.eBqjKw[data-size="small"][data-no-visuals]:hover:not([disabled]){-webkit-text-decoration:none;text-decoration:none;}/*!sc*/
.eBqjKw[data-size="small"][data-no-visuals]:focus:not([disabled]){-webkit-text-decoration:none;text-decoration:none;}/*!sc*/
.eBqjKw[data-size="small"][data-no-visuals]:active:not([disabled]){-webkit-text-decoration:none;text-decoration:none;}/*!sc*/
.eEspxX{border-radius:6px;border:1px solid;border-color:transparent;font-family:inherit;font-weight:500;font-size:14px;cursor:pointer;-webkit-appearance:none;-moz-appearance:none;appearance:none;-webkit-user-select:none;-moz-user-select:none;-ms-user-select:none;user-select:none;-webkit-text-decoration:none;text-decoration:none;text-align:center;display:-webkit-box;display:-webkit-flex;display:-ms-flexbox;display:flex;-webkit-align-items:center;-webkit-box-align:center;-ms-flex-align:center;align-items:center;-webkit-box-pack:justify;-webkit-justify-content:space-between;-ms-flex-pack:justify;justify-content:space-between;height:32px;padding:0 12px;gap:8px;min-width:-webkit-max-content;min-width:-moz-max-content;min-width:max-content;-webkit-transition:80ms cubic-bezier(0.65,0,0.35,1);transition:80ms cubic-bezier(0.65,0,0.35,1);-webkit-transition-property:color,fill,background-color,border-color;transition-property:color,fill,background-color,border-color;color:var(--button-default-fgColor-rest,var(--color-btn-text,#24292f));background-color:transparent;box-shadow:none;}/*!sc*/
.eEspxX:focus:not(:disabled){box-shadow:none;outline:2px solid var(--fgColor-accent,var(--color-accent-fg,#0969da));outline-offset:-2px;}/*!sc*/
.eEspxX:focus:not(:disabled):not(:focus-visible){outline:solid 1px transparent;}/*!sc*/
.eEspxX:focus-visible:not(:disabled){box-shadow:none;outline:2px solid var(--fgColor-accent,var(--color-accent-fg,#0969da));outline-offset:-2px;}/*!sc*/
.eEspxX[href]{display:-webkit-inline-box;display:-webkit-inline-flex;display:-ms-inline-flexbox;display:inline-flex;}/*!sc*/
.eEspxX[href]:hover{-webkit-text-decoration:none;text-decoration:none;}/*!sc*/
.eEspxX:hover{-webkit-transition-duration:80ms;transition-duration:80ms;}/*!sc*/
.eEspxX:active{-webkit-transition:none;transition:none;}/*!sc*/
.eEspxX[data-inactive]{cursor:auto;}/*!sc*/
.eEspxX:disabled{cursor:not-allowed;box-shadow:none;color:var(--fgColor-disabled,var(--color-primer-fg-disabled,#8c959f));}/*!sc*/
.eEspxX:disabled [data-component=ButtonCounter],.eEspxX:disabled [data-component="leadingVisual"],.eEspxX:disabled [data-component="trailingAction"]{color:inherit;}/*!sc*/
@media (forced-colors:active){.eEspxX:focus{outline:solid 1px transparent;}}/*!sc*/
.eEspxX [data-component=ButtonCounter]{font-size:12px;}/*!sc*/
.eEspxX[data-component=IconButton]{display:inline-grid;padding:unset;place-content:center;width:32px;min-width:unset;}/*!sc*/
.eEspxX[data-size="small"]{padding:0 8px;height:28px;gap:4px;font-size:12px;}/*!sc*/
.eEspxX[data-size="small"] [data-component="text"]{line-height:calc(20 / 12);}/*!sc*/
.eEspxX[data-size="small"] [data-component=ButtonCounter]{font-size:12px;}/*!sc*/
.eEspxX[data-size="small"] [data-component="buttonContent"] > :not(:last-child){margin-right:4px;}/*!sc*/
.eEspxX[data-size="small"][data-component=IconButton]{width:28px;padding:unset;}/*!sc*/
.eEspxX[data-size="large"]{padding:0 16px;height:40px;gap:8px;}/*!sc*/
.eEspxX[data-size="large"] [data-component="buttonContent"] > :not(:last-child){margin-right:8px;}/*!sc*/
.eEspxX[data-size="large"][data-component=IconButton]{width:40px;padding:unset;}/*!sc*/
.eEspxX[data-block="block"]{width:100%;}/*!sc*/
.eEspxX[data-label-wrap="true"]{min-width:-webkit-fit-content;min-width:-moz-fit-content;min-width:fit-content;height:unset;min-height:var(--control-medium-size,2rem);}/*!sc*/
.eEspxX[data-label-wrap="true"] [data-component="buttonContent"]{-webkit-flex:1 1 auto;-ms-flex:1 1 auto;flex:1 1 auto;-webkit-align-self:stretch;-ms-flex-item-align:stretch;align-self:stretch;padding-block:calc(var(--control-medium-paddingBlock,0.375rem) - 2px);}/*!sc*/
.eEspxX[data-label-wrap="true"] [data-component="text"]{white-space:unset;word-break:break-word;}/*!sc*/
.eEspxX[data-label-wrap="true"][data-size="small"]{height:unset;min-height:var(--control-small-size,1.75rem);}/*!sc*/
.eEspxX[data-label-wrap="true"][data-size="small"] [data-component="buttonContent"]{padding-block:calc(var(--control-small-paddingBlock,0.25rem) - 2px);}/*!sc*/
.eEspxX[data-label-wrap="true"][data-size="large"]{height:unset;min-height:var(--control-large-size,2.5rem);padding-inline:var(--control-large-paddingInline-spacious,1rem);}/*!sc*/
.eEspxX[data-label-wrap="true"][data-size="large"] [data-component="buttonContent"]{padding-block:calc(var(--control-large-paddingBlock,0.625rem) - 2px);}/*!sc*/
.eEspxX[data-inactive]:not([disabled]){background-color:var(--button-inactive-bgColor,var(--button-inactive-bgColor-rest,var(--color-btn-inactive-bg,#eaeef2)));border-color:var(--button-inactive-bgColor,var(--button-inactive-bgColor-rest,var(--color-btn-inactive-bg,#eaeef2)));color:var(--button-inactive-fgColor,var(--button-inactive-fgColor-rest,var(--color-btn-inactive-text,#57606a)));}/*!sc*/
.eEspxX[data-inactive]:not([disabled]):focus-visible{box-shadow:none;}/*!sc*/
.eEspxX [data-component="leadingVisual"]{grid-area:leadingVisual;color:var(--fgColor-muted,var(--color-fg-muted,#656d76));}/*!sc*/
.eEspxX [data-component="text"]{grid-area:text;line-height:calc(20/14);white-space:nowrap;}/*!sc*/
.eEspxX [data-component="trailingVisual"]{grid-area:trailingVisual;}/*!sc*/
.eEspxX [data-component="trailingAction"]{margin-right:-4px;color:var(--fgColor-muted,var(--color-fg-muted,#656d76));}/*!sc*/
.eEspxX [data-component="buttonContent"]{-webkit-flex:1 0 auto;-ms-flex:1 0 auto;flex:1 0 auto;display:grid;grid-template-areas:"leadingVisual text trailingVisual";grid-template-columns:min-content minmax(0,auto) min-content;-webkit-align-items:center;-webkit-box-align:center;-ms-flex-align:center;align-items:center;-webkit-align-content:center;-ms-flex-line-pack:center;align-content:center;}/*!sc*/
.eEspxX [data-component="buttonContent"] > :not(:last-child){margin-right:8px;}/*!sc*/
.eEspxX [data-component="loadingSpinner"]{grid-area:text;margin-right:0px !important;place-self:center;}/*!sc*/
.eEspxX [data-component="loadingSpinner"] + [data-component="text"]{visibility:hidden;}/*!sc*/
.eEspxX:hover:not([disabled]){background-color:var(--control-transparent-bgColor-hover,var(--color-action-list-item-default-hover-bg,rgba(208,215,222,0.32)));}/*!sc*/
.eEspxX:active:not([disabled]){background-color:var(--control-transparent-bgColor-active,var(--color-action-list-item-default-active-bg,rgba(208,215,222,0.48)));}/*!sc*/
.eEspxX[aria-expanded=true]{background-color:var(--control-transparent-bgColor-selected,var(--color-action-list-item-default-selected-bg,rgba(208,215,222,0.24)));}/*!sc*/
.eEspxX[data-component="IconButton"][data-no-visuals]{color:var(--fgColor-muted,var(--color-fg-muted,#656d76));}/*!sc*/
.eEspxX[data-no-visuals]{color:var(--fgColor-accent,var(--color-accent-fg,#0969da));}/*!sc*/
.eEspxX:has([data-component="ButtonCounter"]){color:var(--button-default-fgColor-rest,var(--color-btn-text,#24292f));}/*!sc*/
.eEspxX:disabled[data-no-visuals]{color:var(--fgColor-disabled,var(--color-primer-fg-disabled,#8c959f));}/*!sc*/
.eEspxX:disabled[data-no-visuals] [data-component=ButtonCounter]{color:inherit;}/*!sc*/
.eEspxX[data-size="small"][data-no-visuals]{color:var(--fgColor-muted,var(--color-fg-muted,#656d76));}/*!sc*/
data-styled.g4[id="types__StyledButton-sc-ws60qy-0"]{content:"jGoVeP,cRDVgI,jwBfae,YkvTm,klDWQA,emYRmJ,jFcVkf,kuXPuQ,jKgwhU,bDTxaK,jUNlHb,feqCqy,bfWknm,eBqjKw,eEspxX,"}/*!sc*/
.hPEVNM{-webkit-animation:rotate-keyframes 1s linear infinite;animation:rotate-keyframes 1s linear infinite;}/*!sc*/
@-webkit-keyframes rotate-keyframes{100%{-webkit-transform:rotate(360deg);-ms-transform:rotate(360deg);transform:rotate(360deg);}}/*!sc*/
@keyframes rotate-keyframes{100%{-webkit-transform:rotate(360deg);-ms-transform:rotate(360deg);transform:rotate(360deg);}}/*!sc*/
data-styled.g6[id="Spinner__StyledSpinner-sc-1knt686-0"]{content:"hPEVNM,"}/*!sc*/
.rTZSs{position:absolute;width:1px;height:1px;padding:0;margin:-1px;overflow:hidden;-webkit-clip:rect(0,0,0,0);clip:rect(0,0,0,0);white-space:nowrap;border-width:0;}/*!sc*/
data-styled.g7[id="_VisuallyHidden__VisuallyHidden-sc-11jhm7a-0"]{content:"rTZSs,"}/*!sc*/
.ipyMWB{color:var(--fgColor-accent,var(--color-accent-fg,#0969da));-webkit-text-decoration:none;text-decoration:none;font-weight:600;}/*!sc*/
[data-a11y-link-underlines='true'] .Link__StyledLink-sc-14289xe-0[data-inline='true']{-webkit-text-decoration:underline;text-decoration:underline;}/*!sc*/
.ipyMWB:hover{-webkit-text-decoration:underline;text-decoration:underline;}/*!sc*/
.ipyMWB:is(button){display:inline-block;padding:0;font-size:inherit;white-space:nowrap;cursor:pointer;-webkit-user-select:none;-moz-user-select:none;-ms-user-select:none;user-select:none;background-color:transparent;border:0;-webkit-appearance:none;-moz-appearance:none;appearance:none;}/*!sc*/
.jmkYvv{color:var(--fgColor-accent,var(--color-accent-fg,#0969da));-webkit-text-decoration:none;text-decoration:none;font-weight:400;}/*!sc*/
[data-a11y-link-underlines='true'] .Link__StyledLink-sc-14289xe-0[data-inline='true']{-webkit-text-decoration:underline;text-decoration:underline;}/*!sc*/
.jmkYvv:hover{-webkit-text-decoration:underline;text-decoration:underline;}/*!sc*/
.jmkYvv:is(button){display:inline-block;padding:0;font-size:inherit;white-space:nowrap;cursor:pointer;-webkit-user-select:none;-moz-user-select:none;-ms-user-select:none;user-select:none;background-color:transparent;border:0;-webkit-appearance:none;-moz-appearance:none;appearance:none;}/*!sc*/
.dheQRw{color:var(--fgColor-accent,var(--color-accent-fg,#0969da));-webkit-text-decoration:none;text-decoration:none;}/*!sc*/
[data-a11y-link-underlines='true'] .Link__StyledLink-sc-14289xe-0[data-inline='true']{-webkit-text-decoration:underline;text-decoration:underline;}/*!sc*/
.dheQRw:hover{-webkit-text-decoration:underline;text-decoration:underline;}/*!sc*/
.dheQRw:is(button){display:inline-block;padding:0;font-size:inherit;white-space:nowrap;cursor:pointer;-webkit-user-select:none;-moz-user-select:none;-ms-user-select:none;user-select:none;background-color:transparent;border:0;-webkit-appearance:none;-moz-appearance:none;appearance:none;}/*!sc*/
data-styled.g9[id="Link__StyledLink-sc-14289xe-0"]{content:"ipyMWB,jmkYvv,dheQRw,"}/*!sc*/
.gNgnVl{position:relative;display:inline-block;}/*!sc*/
.gNgnVl::after{position:absolute;z-index:1000000;display:none;padding:0.5em 0.75em;font:normal normal 11px/1.5 -apple-system,BlinkMacSystemFont,"Segoe UI","Noto Sans",Helvetica,Arial,sans-serif,"Apple Color Emoji","Segoe UI Emoji";-webkit-font-smoothing:subpixel-antialiased;color:var(--tooltip-fgColor,var(--fgColor-onEmphasis,var(--color-fg-on-emphasis,#ffffff)));text-align:center;-webkit-text-decoration:none;text-decoration:none;text-shadow:none;text-transform:none;-webkit-letter-spacing:normal;-moz-letter-spacing:normal;-ms-letter-spacing:normal;letter-spacing:normal;word-wrap:break-word;white-space:pre;pointer-events:none;content:attr(aria-label);background:var(--tooltip-bgColor,var(--bgColor-emphasis,var(--color-neutral-emphasis-plus,#24292f)));border-radius:6px;opacity:0;}/*!sc*/
@-webkit-keyframes tooltip-appear{from{opacity:0;}to{opacity:1;}}/*!sc*/
@keyframes tooltip-appear{from{opacity:0;}to{opacity:1;}}/*!sc*/
.gNgnVl:hover::after,.gNgnVl:active::after,.gNgnVl:focus::after,.gNgnVl:focus-within::after{display:inline-block;-webkit-text-decoration:none;text-decoration:none;-webkit-animation-name:tooltip-appear;animation-name:tooltip-appear;-webkit-animation-duration:0.1s;animation-duration:0.1s;-webkit-animation-fill-mode:forwards;animation-fill-mode:forwards;-webkit-animation-timing-function:ease-in;animation-timing-function:ease-in;-webkit-animation-delay:0s;animation-delay:0s;}/*!sc*/
.gNgnVl.tooltipped-no-delay:hover::after,.gNgnVl.tooltipped-no-delay:active::after,.gNgnVl.tooltipped-no-delay:focus::after,.gNgnVl.tooltipped-no-delay:focus-within::after{-webkit-animation-delay:0s;animation-delay:0s;}/*!sc*/
.gNgnVl.tooltipped-multiline:hover::after,.gNgnVl.tooltipped-multiline:active::after,.gNgnVl.tooltipped-multiline:focus::after,.gNgnVl.tooltipped-multiline:focus-within::after{display:table-cell;}/*!sc*/
.gNgnVl.tooltipped-s::after,.gNgnVl.tooltipped-se::after,.gNgnVl.tooltipped-sw::after{top:100%;right:50%;margin-top:6px;}/*!sc*/
.gNgnVl.tooltipped-se::after{right:auto;left:50%;margin-left:-16px;}/*!sc*/
.gNgnVl.tooltipped-sw::after{margin-right:-16px;}/*!sc*/
.gNgnVl.tooltipped-n::after,.gNgnVl.tooltipped-ne::after,.gNgnVl.tooltipped-nw::after{right:50%;bottom:100%;margin-bottom:6px;}/*!sc*/
.gNgnVl.tooltipped-ne::after{right:auto;left:50%;margin-left:-16px;}/*!sc*/
.gNgnVl.tooltipped-nw::after{margin-right:-16px;}/*!sc*/
.gNgnVl.tooltipped-s::after,.gNgnVl.tooltipped-n::after{-webkit-transform:translateX(50%);-ms-transform:translateX(50%);transform:translateX(50%);}/*!sc*/
.gNgnVl.tooltipped-w::after{right:100%;bottom:50%;margin-right:6px;-webkit-transform:translateY(50%);-ms-transform:translateY(50%);transform:translateY(50%);}/*!sc*/
.gNgnVl.tooltipped-e::after{bottom:50%;left:100%;margin-left:6px;-webkit-transform:translateY(50%);-ms-transform:translateY(50%);transform:translateY(50%);}/*!sc*/
.gNgnVl.tooltipped-multiline::after{width:-webkit-max-content;width:-moz-max-content;width:max-content;max-width:250px;word-wrap:break-word;white-space:pre-line;border-collapse:separate;}/*!sc*/
.gNgnVl.tooltipped-multiline.tooltipped-s::after,.gNgnVl.tooltipped-multiline.tooltipped-n::after{right:auto;left:50%;-webkit-transform:translateX(-50%);-ms-transform:translateX(-50%);transform:translateX(-50%);}/*!sc*/
.gNgnVl.tooltipped-multiline.tooltipped-w::after,.gNgnVl.tooltipped-multiline.tooltipped-e::after{right:100%;}/*!sc*/
.gNgnVl.tooltipped-align-right-2::after{right:0;margin-right:0;}/*!sc*/
.gNgnVl.tooltipped-align-left-2::after{left:0;margin-left:0;}/*!sc*/
data-styled.g10[id="Tooltip__TooltipBase-sc-17tf59c-0"]{content:"gNgnVl,"}/*!sc*/
.fUpWeN{display:inline-block;overflow:hidden;text-overflow:ellipsis;vertical-align:top;white-space:nowrap;max-width:125px;max-width:100%;}/*!sc*/
data-styled.g14[id="Truncate__StyledTruncate-sc-23o1d2-0"]{content:"fUpWeN,"}/*!sc*/
.cXNreu{font-size:14px;line-height:20px;color:var(--fgColor-default,var(--color-fg-default,#1F2328));vertical-align:middle;background-color:var(--bgColor-default,var(--color-canvas-default,#ffffff));border:1px solid var(--control-borderColor-rest,var(--borderColor-default,var(--color-border-default,#d0d7de)));border-radius:6px;outline:none;box-shadow:var(--shadow-inset,var(--color-primer-shadow-inset,inset 0 1px 0 rgba(208,215,222,0.2)));display:-webkit-inline-box;display:-webkit-inline-flex;display:-ms-inline-flexbox;display:inline-flex;-webkit-align-items:stretch;-webkit-box-align:stretch;-ms-flex-align:stretch;align-items:stretch;min-height:32px;overflow:hidden;display:-webkit-box;display:-webkit-flex;display:-ms-flexbox;display:flex;min-width:160px;}/*!sc*/
.cXNreu input,.cXNreu textarea{cursor:text;}/*!sc*/
.cXNreu select{cursor:pointer;}/*!sc*/
.cXNreu input::-webkit-input-placeholder,.cXNreu textarea::-webkit-input-placeholder,.cXNreu select::-webkit-input-placeholder{color:var(---control-fgColor-placeholder,var(--fgColor-muted,var(--color-fg-muted,#656d76)));}/*!sc*/
.cXNreu input::-moz-placeholder,.cXNreu textarea::-moz-placeholder,.cXNreu select::-moz-placeholder{color:var(---control-fgColor-placeholder,var(--fgColor-muted,var(--color-fg-muted,#656d76)));}/*!sc*/
.cXNreu input:-ms-input-placeholder,.cXNreu textarea:-ms-input-placeholder,.cXNreu select:-ms-input-placeholder{color:var(---control-fgColor-placeholder,var(--fgColor-muted,var(--color-fg-muted,#656d76)));}/*!sc*/
.cXNreu input::placeholder,.cXNreu textarea::placeholder,.cXNreu select::placeholder{color:var(---control-fgColor-placeholder,var(--fgColor-muted,var(--color-fg-muted,#656d76)));}/*!sc*/
.cXNreu:focus-within{border-color:var(--fgColor-accent,var(--color-accent-fg,#0969da));outline:2px solid var(--fgColor-accent,var(--color-accent-fg,#0969da));outline-offset:-1px;}/*!sc*/
.cXNreu > textarea{padding:12px;}/*!sc*/
@media (min-width:768px){.cXNreu{font-size:14px;}}/*!sc*/
data-styled.g17[id="TextInputWrapper__TextInputBaseWrapper-sc-1mqhpbi-0"]{content:"cXNreu,"}/*!sc*/
.jbzqwE{background-repeat:no-repeat;background-position:right 8px center;padding-left:12px;padding-right:12px;display:-webkit-box;display:-webkit-flex;display:-ms-flexbox;display:flex;min-width:160px;}/*!sc*/
.jbzqwE > :not(:last-child){margin-right:8px;}/*!sc*/
.jbzqwE .TextInput-icon,.jbzqwE .TextInput-action{-webkit-align-self:center;-ms-flex-item-align:center;align-self:center;color:var(--fgColor-muted,var(--color-fg-muted,#656d76));-webkit-flex-shrink:0;-ms-flex-negative:0;flex-shrink:0;}/*!sc*/
.jbzqwE > input,.jbzqwE > select{padding-left:0;padding-right:0;}/*!sc*/
data-styled.g18[id="TextInputWrapper-sc-1mqhpbi-1"]{content:"jbzqwE,"}/*!sc*/
.cDLBls{border:0;font-size:inherit;font-family:inherit;background-color:transparent;-webkit-appearance:none;color:inherit;width:100%;}/*!sc*/
.cDLBls:focus{outline:0;}/*!sc*/
data-styled.g19[id="UnstyledTextInput-sc-14ypya-0"]{content:"cDLBls,"}/*!sc*/
.bOMzPg{min-width:0;}/*!sc*/
.bOMzPg:where([data-size='small']){font-size:var(--text-body-size-small,0.75rem);line-height:var(--text-body-lineHeight-small,1.6666);}/*!sc*/
.bOMzPg:where([data-size='medium']){font-size:var(--text-body-size-medium,0.875rem);line-height:var(--text-body-lineHeight-medium,1.4285);}/*!sc*/
.bOMzPg:where([data-size='large']){font-size:var(--text-body-size-large,1rem);line-height:var(--text-body-lineHeight-large,1.5);}/*!sc*/
.bOMzPg:where([data-weight='light']){font-weight:var(--base-text-weight-light,300);}/*!sc*/
.bOMzPg:where([data-weight='normal']){font-weight:var(--base-text-weight-normal,400);}/*!sc*/
.bOMzPg:where([data-weight='medium']){font-weight:var(--base-text-weight-medium,500);}/*!sc*/
.bOMzPg:where([data-weight='semibold']){font-weight:var(--base-text-weight-semibold,600);}/*!sc*/
.fIsVJr{padding-left:4px;padding-right:4px;font-weight:400;color:var(--fgColor-muted,var(--color-fg-muted,#656d76));font-size:16px;}/*!sc*/
.fIsVJr:where([data-size='small']){font-size:var(--text-body-size-small,0.75rem);line-height:var(--text-body-lineHeight-small,1.6666);}/*!sc*/
.fIsVJr:where([data-size='medium']){font-size:var(--text-body-size-medium,0.875rem);line-height:var(--text-body-lineHeight-medium,1.4285);}/*!sc*/
.fIsVJr:where([data-size='large']){font-size:var(--text-body-size-large,1rem);line-height:var(--text-body-lineHeight-large,1.5);}/*!sc*/
.fIsVJr:where([data-weight='light']){font-weight:var(--base-text-weight-light,300);}/*!sc*/
.fIsVJr:where([data-weight='normal']){font-weight:var(--base-text-weight-normal,400);}/*!sc*/
.fIsVJr:where([data-weight='medium']){font-weight:var(--base-text-weight-medium,500);}/*!sc*/
.fIsVJr:where([data-weight='semibold']){font-weight:var(--base-text-weight-semibold,600);}/*!sc*/
.cYjMDB{padding-left:4px;padding-right:4px;font-weight:400;color:var(--fgColor-muted,var(--color-fg-muted,#656d76));font-size:14px;}/*!sc*/
.cYjMDB:where([data-size='small']){font-size:var(--text-body-size-small,0.75rem);line-height:var(--text-body-lineHeight-small,1.6666);}/*!sc*/
.cYjMDB:where([data-size='medium']){font-size:var(--text-body-size-medium,0.875rem);line-height:var(--text-body-lineHeight-medium,1.4285);}/*!sc*/
.cYjMDB:where([data-size='large']){font-size:var(--text-body-size-large,1rem);line-height:var(--text-body-lineHeight-large,1.5);}/*!sc*/
.cYjMDB:where([data-weight='light']){font-weight:var(--base-text-weight-light,300);}/*!sc*/
.cYjMDB:where([data-weight='normal']){font-weight:var(--base-text-weight-normal,400);}/*!sc*/
.cYjMDB:where([data-weight='medium']){font-weight:var(--base-text-weight-medium,500);}/*!sc*/
.cYjMDB:where([data-weight='semibold']){font-weight:var(--base-text-weight-semibold,600);}/*!sc*/
data-styled.g24[id="Text-sc-17v1xeu-0"]{content:"bOMzPg,fIsVJr,cYjMDB,"}/*!sc*/
body[data-page-layout-dragging="true"]{cursor:col-resize;}/*!sc*/
body[data-page-layout-dragging="true"] *{-webkit-user-select:none;-moz-user-select:none;-ms-user-select:none;user-select:none;}/*!sc*/
data-styled.g29[id="sc-global-gbKrvU1"]{content:"sc-global-gbKrvU1,"}/*!sc*/
.dgvcvm{list-style:none;padding:0;margin:0;}/*!sc*/
.dgvcvm .PRIVATE_TreeView-item{outline:none;}/*!sc*/
.dgvcvm .PRIVATE_TreeView-item:focus-visible > div,.dgvcvm .PRIVATE_TreeView-item.focus-visible > div{box-shadow:inset 0 0 0 2px var(--fgColor-accent,var(--color-accent-fg,#0969da));}/*!sc*/
@media (forced-colors:active){.dgvcvm .PRIVATE_TreeView-item:focus-visible > div,.dgvcvm .PRIVATE_TreeView-item.focus-visible > div{outline:2px solid HighlightText;outline-offset:-2;}}/*!sc*/
.dgvcvm .PRIVATE_TreeView-item[data-has-leading-action]{--has-leading-action:1;}/*!sc*/
.dgvcvm .PRIVATE_TreeView-item-container{--level:1;--toggle-width:1rem;--min-item-height:2rem;position:relative;display:grid;--leading-action-width:calc(var(--has-leading-action,0) * 1.5rem);--spacer-width:calc(calc(var(--level) - 1) * (var(--toggle-width) / 2));grid-template-columns:var(--spacer-width) var(--leading-action-width) var(--toggle-width) 1fr;grid-template-areas:'spacer leadingAction toggle content';width:100%;font-size:14px;color:var(--fgColor-default,var(--color-fg-default,#1F2328));border-radius:6px;cursor:pointer;}/*!sc*/
.dgvcvm .PRIVATE_TreeView-item-container:hover{background-color:var(--control-transparent-bgColor-hover,var(--color-action-list-item-default-hover-bg,rgba(208,215,222,0.32)));}/*!sc*/
@media (forced-colors:active){.dgvcvm .PRIVATE_TreeView-item-container:hover{outline:2px solid transparent;outline-offset:-2px;}}/*!sc*/
@media (pointer:coarse){.dgvcvm .PRIVATE_TreeView-item-container{--toggle-width:1.5rem;--min-item-height:2.75rem;}}/*!sc*/
.dgvcvm .PRIVATE_TreeView-item-container:has(.PRIVATE_TreeView-item-skeleton):hover{background-color:transparent;cursor:default;}/*!sc*/
@media (forced-colors:active){.dgvcvm .PRIVATE_TreeView-item-container:has(.PRIVATE_TreeView-item-skeleton):hover{outline:none;}}/*!sc*/
.dgvcvm[data-omit-spacer='true'] .PRIVATE_TreeView-item-container{grid-template-columns:0 0 0 1fr;}/*!sc*/
.dgvcvm .PRIVATE_TreeView-item[aria-current='true'] > .PRIVATE_TreeView-item-container{background-color:var(--control-transparent-bgColor-selected,var(--color-action-list-item-default-selected-bg,rgba(208,215,222,0.24)));}/*!sc*/
.dgvcvm .PRIVATE_TreeView-item[aria-current='true'] > .PRIVATE_TreeView-item-container::after{content:'';position:absolute;top:calc(50% - 0.75rem);left:-8px;width:0.25rem;height:1.5rem;background-color:var(--fgColor-accent,var(--color-accent-fg,#0969da));border-radius:6px;}/*!sc*/
@media (forced-colors:active){.dgvcvm .PRIVATE_TreeView-item[aria-current='true'] > .PRIVATE_TreeView-item-container::after{background-color:HighlightText;}}/*!sc*/
.dgvcvm .PRIVATE_TreeView-item-toggle{grid-area:toggle;display:-webkit-box;display:-webkit-flex;display:-ms-flexbox;display:flex;-webkit-box-pack:center;-webkit-justify-content:center;-ms-flex-pack:center;justify-content:center;-webkit-align-items:flex-start;-webkit-box-align:flex-start;-ms-flex-align:flex-start;align-items:flex-start;padding-top:calc(var(--min-item-height) / 2 - 12px / 2);height:100%;color:var(--fgColor-muted,var(--color-fg-muted,#656d76));}/*!sc*/
.dgvcvm .PRIVATE_TreeView-item-toggle--hover:hover{background-color:var(--control-transparent-bgColor-hover,var(--color-tree-view-item-chevron-hover-bg,rgba(208,215,222,0.32)));}/*!sc*/
.dgvcvm .PRIVATE_TreeView-item-toggle--end{border-top-left-radius:6px;border-bottom-left-radius:6px;}/*!sc*/
.dgvcvm .PRIVATE_TreeView-item-content{grid-area:content;display:-webkit-box;display:-webkit-flex;display:-ms-flexbox;display:flex;height:100%;padding:0 8px;gap:8px;line-height:var(--custom-line-height,var(--text-body-lineHeight-medium,1.4285));padding-top:calc((var(--min-item-height) - var(--custom-line-height,1.3rem)) / 2);padding-bottom:calc((var(--min-item-height) - var(--custom-line-height,1.3rem)) / 2);}/*!sc*/
.dgvcvm .PRIVATE_TreeView-item-content-text{-webkit-flex:1 1 auto;-ms-flex:1 1 auto;flex:1 1 auto;width:0;overflow:hidden;white-space:nowrap;text-overflow:ellipsis;}/*!sc*/
.dgvcvm .PRIVATE_TreeView-item-visual{display:-webkit-box;display:-webkit-flex;display:-ms-flexbox;display:flex;-webkit-align-items:center;-webkit-box-align:center;-ms-flex-align:center;align-items:center;color:var(--fgColor-muted,var(--color-fg-muted,#656d76));height:var(--custom-line-height,1.3rem);}/*!sc*/
.dgvcvm .PRIVATE_TreeView-item-leading-action{display:-webkit-box;display:-webkit-flex;display:-ms-flexbox;display:flex;color:var(--fgColor-muted,var(--color-fg-muted,#656d76));grid-area:leadingAction;}/*!sc*/
.dgvcvm .PRIVATE_TreeView-item-level-line{width:100%;height:100%;border-right:1px solid;border-color:var(--borderColor-muted,var(--color-border-subtle,rgba(31,35,40,0.15)));}/*!sc*/
@media (hover:hover){.dgvcvm .PRIVATE_TreeView-item-level-line{border-color:transparent;}.dgvcvm:hover .PRIVATE_TreeView-item-level-line,.dgvcvm:focus-within .PRIVATE_TreeView-item-level-line{border-color:var(--borderColor-muted,var(--color-border-subtle,rgba(31,35,40,0.15)));}}/*!sc*/
.dgvcvm .PRIVATE_TreeView-directory-icon{display:grid;color:var(--treeViewItem-leadingVisual-bgColor-rest,var(--color-tree-view-item-chevron-directory-fill,#54aeff));}/*!sc*/
.dgvcvm .PRIVATE_VisuallyHidden{position:absolute;width:1px;height:1px;padding:0;margin:-1px;overflow:hidden;-webkit-clip:rect(0,0,0,0);clip:rect(0,0,0,0);white-space:nowrap;border-width:0;}/*!sc*/
data-styled.g45[id="TreeView__UlBox-sc-4ex6b6-0"]{content:"dgvcvm,"}/*!sc*/
.cpVEZe{display:-webkit-inline-box;display:-webkit-inline-flex;display:-ms-inline-flexbox;display:inline-flex;vertical-align:middle;isolation:isolate;}/*!sc*/
.cpVEZe.cpVEZe > *:not([data-loading-wrapper]){margin-inline-end:-1px;position:relative;border-radius:0;}/*!sc*/
.cpVEZe.cpVEZe > *:not([data-loading-wrapper]):first-child{border-top-left-radius:6px;border-bottom-left-radius:6px;}/*!sc*/
.cpVEZe.cpVEZe > *:not([data-loading-wrapper]):last-child{border-top-right-radius:6px;border-bottom-right-radius:6px;}/*!sc*/
.cpVEZe.cpVEZe > *:not([data-loading-wrapper]):focus,.cpVEZe.cpVEZe > *:not([data-loading-wrapper]):active,.cpVEZe.cpVEZe > *:not([data-loading-wrapper]):hover{z-index:1;}/*!sc*/
.cpVEZe [data-loading-wrapper]:first-child button,.cpVEZe [data-loading-wrapper]:first-child a{border-top-left-radius:6px;border-bottom-left-radius:6px;}/*!sc*/
.cpVEZe [data-loading-wrapper]:last-child button,.cpVEZe [data-loading-wrapper]:last-child a{border-top-right-radius:6px;border-bottom-right-radius:6px;}/*!sc*/
.cpVEZe [data-loading-wrapper] > *{margin-inline-end:-1px;position:relative;border-radius:0;}/*!sc*/
.cpVEZe [data-loading-wrapper] > *:focus,.cpVEZe [data-loading-wrapper] > *:active,.cpVEZe [data-loading-wrapper] > *:hover{z-index:1;}/*!sc*/
data-styled.g50[id="ButtonGroup-sc-1gxhls1-0"]{content:"cpVEZe,"}/*!sc*/
.jEdVkE{--segmented-control-button-inner-padding:12px;--segmented-control-button-bg-inset:4px;--segmented-control-outer-radius:6px;background-color:transparent;border-color:transparent;border-radius:var(--segmented-control-outer-radius);border-width:0;color:currentColor;cursor:pointer;font-family:inherit;font-size:inherit;font-weight:600;padding:0;height:100%;width:100%;}/*!sc*/
.jEdVkE .segmentedControl-content{-webkit-align-items:center;-webkit-box-align:center;-ms-flex-align:center;align-items:center;background-color:var(--controlKnob-bgColor-rest,var(--color-segmented-control-button-bg,#ffffff));border-color:var(--controlKnob-borderColor-rest,var(--color-segmented-control-button-hover-active-selected-border,#8c959f));border-style:solid;border-width:1px;border-radius:var(--segmented-control-outer-radius);display:-webkit-box;display:-webkit-flex;display:-ms-flexbox;display:flex;height:100%;-webkit-box-pack:center;-webkit-justify-content:center;-ms-flex-pack:center;justify-content:center;padding-left:var(--segmented-control-button-inner-padding);padding-right:var(--segmented-control-button-inner-padding);}/*!sc*/
.jEdVkE svg{fill:var(--fgColor-muted,var(--color-fg-muted,#656d76));}/*!sc*/
.jEdVkE:focus:focus-visible:not(:last-child):after{width:0;}/*!sc*/
.jEdVkE .segmentedControl-text:after{content:"Preview";display:block;font-weight:600;height:0;overflow:hidden;pointer-events:none;-webkit-user-select:none;-moz-user-select:none;-ms-user-select:none;user-select:none;visibility:hidden;}/*!sc*/
@media (pointer:coarse){.jEdVkE:before{content:"";position:absolute;left:0;right:0;-webkit-transform:translateY(-50%);-ms-transform:translateY(-50%);transform:translateY(-50%);top:50%;min-height:44px;}}/*!sc*/
.TvbfG{--segmented-control-button-inner-padding:12px;--segmented-control-button-bg-inset:4px;--segmented-control-outer-radius:6px;background-color:transparent;border-color:transparent;border-radius:var(--segmented-control-outer-radius);border-width:0;color:currentColor;cursor:pointer;font-family:inherit;font-size:inherit;font-weight:400;padding:var(--segmented-control-button-bg-inset);height:100%;width:100%;}/*!sc*/
.TvbfG .segmentedControl-content{-webkit-align-items:center;-webkit-box-align:center;-ms-flex-align:center;align-items:center;background-color:transparent;border-color:transparent;border-style:solid;border-width:1px;border-radius:calc(var(--segmented-control-outer-radius) - var(--segmented-control-button-bg-inset) / 2);display:-webkit-box;display:-webkit-flex;display:-ms-flexbox;display:flex;height:100%;-webkit-box-pack:center;-webkit-justify-content:center;-ms-flex-pack:center;justify-content:center;padding-left:calc(var(--segmented-control-button-inner-padding) - var(--segmented-control-button-bg-inset));padding-right:calc(var(--segmented-control-button-inner-padding) - var(--segmented-control-button-bg-inset));}/*!sc*/
.TvbfG svg{fill:var(--fgColor-muted,var(--color-fg-muted,#656d76));}/*!sc*/
.TvbfG:hover .segmentedControl-content{background-color:var(--controlTrack-bgColor-hover,var(--color-segmented-control-button-hover-bg,rgba(175,184,193,0.2)));}/*!sc*/
.TvbfG:active .segmentedControl-content{background-color:var(--controlTrack-bgColor-active,var(--color-segmented-control-button-hover-active-bg,rgba(175,184,193,0.4)));}/*!sc*/
.TvbfG:focus:focus-visible:not(:last-child):after{width:0;}/*!sc*/
.TvbfG .segmentedControl-text:after{content:"Code";display:block;font-weight:600;height:0;overflow:hidden;pointer-events:none;-webkit-user-select:none;-moz-user-select:none;-ms-user-select:none;user-select:none;visibility:hidden;}/*!sc*/
@media (pointer:coarse){.TvbfG:before{content:"";position:absolute;left:0;right:0;-webkit-transform:translateY(-50%);-ms-transform:translateY(-50%);transform:translateY(-50%);top:50%;min-height:44px;}}/*!sc*/
.fIktcg{--segmented-control-button-inner-padding:12px;--segmented-control-button-bg-inset:4px;--segmented-control-outer-radius:6px;background-color:transparent;border-color:transparent;border-radius:var(--segmented-control-outer-radius);border-width:0;color:currentColor;cursor:pointer;font-family:inherit;font-size:inherit;font-weight:400;padding:var(--segmented-control-button-bg-inset);height:100%;width:100%;}/*!sc*/
.fIktcg .segmentedControl-content{-webkit-align-items:center;-webkit-box-align:center;-ms-flex-align:center;align-items:center;background-color:transparent;border-color:transparent;border-style:solid;border-width:1px;border-radius:calc(var(--segmented-control-outer-radius) - var(--segmented-control-button-bg-inset) / 2);display:-webkit-box;display:-webkit-flex;display:-ms-flexbox;display:flex;height:100%;-webkit-box-pack:center;-webkit-justify-content:center;-ms-flex-pack:center;justify-content:center;padding-left:calc(var(--segmented-control-button-inner-padding) - var(--segmented-control-button-bg-inset));padding-right:calc(var(--segmented-control-button-inner-padding) - var(--segmented-control-button-bg-inset));}/*!sc*/
.fIktcg svg{fill:var(--fgColor-muted,var(--color-fg-muted,#656d76));}/*!sc*/
.fIktcg:hover .segmentedControl-content{background-color:var(--controlTrack-bgColor-hover,var(--color-segmented-control-button-hover-bg,rgba(175,184,193,0.2)));}/*!sc*/
.fIktcg:active .segmentedControl-content{background-color:var(--controlTrack-bgColor-active,var(--color-segmented-control-button-hover-active-bg,rgba(175,184,193,0.4)));}/*!sc*/
.fIktcg:focus:focus-visible:not(:last-child):after{width:0;}/*!sc*/
.fIktcg .segmentedControl-text:after{content:"Blame";display:block;font-weight:600;height:0;overflow:hidden;pointer-events:none;-webkit-user-select:none;-moz-user-select:none;-ms-user-select:none;user-select:none;visibility:hidden;}/*!sc*/
@media (pointer:coarse){.fIktcg:before{content:"";position:absolute;left:0;right:0;-webkit-transform:translateY(-50%);-ms-transform:translateY(-50%);transform:translateY(-50%);top:50%;min-height:44px;}}/*!sc*/
data-styled.g61[id="SegmentedControlButton__SegmentedControlButtonStyled-sc-8lkgxl-0"]{content:"jEdVkE,TvbfG,fIktcg,"}/*!sc*/
.ehDMvU{background-color:var(--controlTrack-bgColor-rest,var(--color-segmented-control-bg,#eaeef2));border-radius:6px;border:1px solid;border-color:var(--controlTrack-borderColor-rest,transparent);display:-webkit-inline-box;display:-webkit-inline-flex;display:-ms-inline-flexbox;display:inline-flex;font-size:14px;height:28px;margin:0;padding:0;}/*!sc*/
data-styled.g63[id="SegmentedControl__SegmentedControlList-sc-1rzig82-0"]{content:"ehDMvU,"}/*!sc*/
</style><meta data-hydrostats="publish"/> <!-- --> <!-- --> <button hidden="" data-testid="header-permalink-button" data-hotkey-scope="read-only-cursor-text-area"></button><button hidden=""></button><div><div style="--sticky-pane-height:100vh" class="Box-sc-g0xbh4-0 fSWWem"><div class="Box-sc-g0xbh4-0 kPPmzM"><div class="Box-sc-g0xbh4-0 cIAPDV"><div tabindex="0" class="Box-sc-g0xbh4-0 gvCnwW"><div class="Box-sc-g0xbh4-0 hgUFaY"><div class="Box-sc-g0xbh4-0 eUyHuk"></div><div style="--pane-width:320px" class="Box-sc-g0xbh4-0 gNdDUH"><div class="react-tree-pane-contents"><div id="repos-file-tree" class="Box-sc-g0xbh4-0 jywUSN"><div class="Box-sc-g0xbh4-0 hBSSUC"><div class="Box-sc-g0xbh4-0 iPurHz"><h2 class="Heading__StyledHeading-sc-1c1dgg0-0 jUaXMC"><button style="--button-color:fg.muted" type="button" aria-label="Expand file tree" data-testid="expand-file-tree-button-mobile" data-loading="false" aria-describedby=":R59lmdaeb:-loading-announcement" class="types__StyledButton-sc-ws60qy-0 jGoVeP"><span data-component="buttonContent" class="Box-sc-g0xbh4-0 kkrdEu"><span data-component="leadingVisual" class="Box-sc-g0xbh4-0 trpoQ"><svg aria-hidden="true" focusable="false" role="img" class="octicon octicon-arrow-left" viewBox="0 0 16 16" width="16" height="16" fill="currentColor" style="display:inline-block;user-select:none;vertical-align:text-bottom;overflow:visible"><path d="M7.78 12.53a.75.75 0 0 1-1.06 0L2.47 8.28a.75.75 0 0 1 0-1.06l4.25-4.25a.751.751 0 0 1 1.042.018.751.751 0 0 1 .018 1.042L4.81 7h7.44a.75.75 0 0 1 0 1.5H4.81l2.97 2.97a.75.75 0 0 1 0 1.06Z"></path></svg></span><span data-component="text">Files</span></span></button><span role="tooltip" aria-label="Collapse file tree" id="expand-button-file-tree-button" class="Tooltip__TooltipBase-sc-17tf59c-0 gNgnVl tooltipped-se"><button data-component="IconButton" type="button" data-testid="collapse-file-tree-button" aria-expanded="true" aria-controls="repos-file-tree" class="types__StyledButton-sc-ws60qy-0 cRDVgI" data-loading="false" data-no-visuals="true" aria-describedby=":Rp9lmdaeb:-loading-announcement" aria-labelledby="expand-button-file-tree-button"><svg aria-hidden="true" focusable="false" role="img" class="octicon octicon-sidebar-expand" viewBox="0 0 16 16" width="16" height="16" fill="currentColor" style="display:inline-block;user-select:none;vertical-align:text-bottom;overflow:visible"><path d="m4.177 7.823 2.396-2.396A.25.25 0 0 1 7 5.604v4.792a.25.25 0 0 1-.427.177L4.177 8.177a.25.25 0 0 1 0-.354Z"></path><path d="M0 1.75C0 .784.784 0 1.75 0h12.5C15.216 0 16 .784 16 1.75v12.5A1.75 1.75 0 0 1 14.25 16H1.75A1.75 1.75 0 0 1 0 14.25Zm1.75-.25a.25.25 0 0 0-.25.25v12.5c0 .138.112.25.25.25H9.5v-13Zm12.5 13a.25.25 0 0 0 .25-.25V1.75a.25.25 0 0 0-.25-.25H11v13Z"></path></svg></button></span><button hidden="" data-testid="" data-hotkey-scope="read-only-cursor-text-area"></button></h2><h2 class="Heading__StyledHeading-sc-1c1dgg0-0 fReAGt">Files</h2></div><div class="Box-sc-g0xbh4-0 hVHHYa"><div class="Box-sc-g0xbh4-0 idZfsJ"><button type="button" aria-haspopup="true" aria-expanded="false" tabindex="0" aria-label="main branch" data-testid="anchor-button" class="types__StyledButton-sc-ws60qy-0 jwBfae react-repos-tree-pane-ref-selector width-full ref-selector-class" data-loading="false" aria-describedby="branch-picker-repos-header-ref-selector-loading-announcement" id="branch-picker-repos-header-ref-selector"><span data-component="buttonContent" class="Box-sc-g0xbh4-0 kkrdEu"><span data-component="text"><div class="Box-sc-g0xbh4-0 bKgizp"><div class="Box-sc-g0xbh4-0 iPGYsi"><svg aria-hidden="true" focusable="false" role="img" class="octicon octicon-git-branch" viewBox="0 0 16 16" width="16" height="16" fill="currentColor" style="display:inline-block;user-select:none;vertical-align:text-bottom;overflow:visible"><path d="M9.5 3.25a2.25 2.25 0 1 1 3 2.122V6A2.5 2.5 0 0 1 10 8.5H6a1 1 0 0 0-1 1v1.128a2.251 2.251 0 1 1-1.5 0V5.372a2.25 2.25 0 1 1 1.5 0v1.836A2.493 2.493 0 0 1 6 7h4a1 1 0 0 0 1-1v-.628A2.25 2.25 0 0 1 9.5 3.25Zm-6 0a.75.75 0 1 0 1.5 0 .75.75 0 0 0-1.5 0Zm8.25-.75a.75.75 0 1 0 0 1.5.75.75 0 0 0 0-1.5ZM4.25 12a.75.75 0 1 0 0 1.5.75.75 0 0 0 0-1.5Z"></path></svg></div><div class="Box-sc-g0xbh4-0 caeYDk ref-selector-button-text-container"><span class="Text-sc-17v1xeu-0 bOMzPg"> <!-- -->main</span></div></div></span><span data-component="trailingVisual" class="Box-sc-g0xbh4-0 trpoQ"><svg aria-hidden="true" focusable="false" role="img" class="octicon octicon-triangle-down" viewBox="0 0 16 16" width="16" height="16" fill="currentColor" style="display:inline-block;user-select:none;vertical-align:text-bottom;overflow:visible"><path d="m4.427 7.427 3.396 3.396a.25.25 0 0 0 .354 0l3.396-3.396A.25.25 0 0 0 11.396 7H4.604a.25.25 0 0 0-.177.427Z"></path></svg></span></span></button><button hidden="" data-hotkey-scope="read-only-cursor-text-area"></button></div><div class="Box-sc-g0xbh4-0 jahcnb"><span role="tooltip" aria-label="Add file" id=":R6hlmdaeb:" class="Tooltip__TooltipBase-sc-17tf59c-0 gNgnVl tooltipped-s"><a sx="[object Object]" data-component="IconButton" type="button" aria-label="Add file" data-loading="false" data-no-visuals="true" aria-describedby=":Rmhlmdaeb:-loading-announcement" class="types__StyledButton-sc-ws60qy-0 YkvTm" href="/MathforDataScience/DSR_Statistics1/new/main/7_%20Hypotheses"><svg aria-hidden="true" focusable="false" role="img" class="octicon octicon-plus" viewBox="0 0 16 16" width="16" height="16" fill="currentColor" style="display:inline-block;user-select:none;vertical-align:text-bottom;overflow:visible"><path d="M7.75 2a.75.75 0 0 1 .75.75V7h4.25a.75.75 0 0 1 0 1.5H8.5v4.25a.75.75 0 0 1-1.5 0V8.5H2.75a.75.75 0 0 1 0-1.5H7V2.75A.75.75 0 0 1 7.75 2Z"></path></svg></a></span><button data-component="IconButton" type="button" aria-label="Search this repository" data-loading="false" data-no-visuals="true" aria-describedby=":Rqhlmdaeb:-loading-announcement" class="types__StyledButton-sc-ws60qy-0 klDWQA"><svg aria-hidden="true" focusable="false" role="img" class="octicon octicon-search" viewBox="0 0 16 16" width="16" height="16" fill="currentColor" style="display:inline-block;user-select:none;vertical-align:text-bottom;overflow:visible"><path d="M10.68 11.74a6 6 0 0 1-7.922-8.982 6 6 0 0 1 8.982 7.922l3.04 3.04a.749.749 0 0 1-.326 1.275.749.749 0 0 1-.734-.215ZM11.5 7a4.499 4.499 0 1 0-8.997 0A4.499 4.499 0 0 0 11.5 7Z"></path></svg></button><button hidden="" data-testid="" data-hotkey-scope="read-only-cursor-text-area"></button></div></div></div><div class="Box-sc-g0xbh4-0 ccToMy"><span class="TextInputWrapper__TextInputBaseWrapper-sc-1mqhpbi-0 TextInputWrapper-sc-1mqhpbi-1 cXNreu jbzqwE TextInput-wrapper" aria-busy="false"><span class="TextInput-icon"><svg aria-hidden="true" focusable="false" role="img" class="octicon octicon-search" viewBox="0 0 16 16" width="16" height="16" fill="currentColor" style="display:inline-block;user-select:none;vertical-align:text-bottom;overflow:visible"><path d="M10.68 11.74a6 6 0 0 1-7.922-8.982 6 6 0 0 1 8.982 7.922l3.04 3.04a.749.749 0 0 1-.326 1.275.749.749 0 0 1-.734-.215ZM11.5 7a4.499 4.499 0 1 0-8.997 0A4.499 4.499 0 0 0 11.5 7Z"></path></svg></span><input type="text" aria-label="Go to file" role="combobox" aria-controls="file-results-list" aria-expanded="false" aria-haspopup="dialog" autoCorrect="off" spellcheck="false" placeholder="Go to file" data-component="input" class="UnstyledTextInput-sc-14ypya-0 cDLBls" value=""/><span class="TextInput-icon"><div class="Box-sc-g0xbh4-0 cNvKlH"><kbd>t</kbd></div></span></span></div><button hidden="" data-testid="" data-hotkey-scope="read-only-cursor-text-area"></button><button hidden=""></button><div class="Box-sc-g0xbh4-0 cLfAnm"><div class="react-tree-show-tree-items"><div data-testid="repos-file-tree-container" class="Box-sc-g0xbh4-0 erWCJP"><nav aria-label="File Tree Navigation"><span role="status" aria-live="polite" aria-atomic="true" class="_VisuallyHidden__VisuallyHidden-sc-11jhm7a-0 rTZSs"></span><ul role="tree" aria-label="Files" class="TreeView__UlBox-sc-4ex6b6-0 dgvcvm"><li class="PRIVATE_TreeView-item" tabindex="0" id="2_ Descriptive Statistics-item" role="treeitem" aria-labelledby=":Rqclmdaeb:" aria-describedby=":RqclmdaebH1: :RqclmdaebH2:" aria-level="1" aria-expanded="false" aria-selected="false"><div class="PRIVATE_TreeView-item-container" style="--level:1;content-visibility:auto;contain-intrinsic-size:auto 2rem"><div style="grid-area:spacer;display:flex"><div style="width:100%;display:flex"></div></div><div class="PRIVATE_TreeView-item-toggle PRIVATE_TreeView-item-toggle--hover PRIVATE_TreeView-item-toggle--end"><svg aria-hidden="true" focusable="false" class="octicon octicon-chevron-right" viewBox="0 0 12 12" width="12" height="12" fill="currentColor" style="display:inline-block;user-select:none;vertical-align:text-bottom;overflow:visible"><path d="M4.7 10c-.2 0-.4-.1-.5-.2-.3-.3-.3-.8 0-1.1L6.9 6 4.2 3.3c-.3-.3-.3-.8 0-1.1.3-.3.8-.3 1.1 0l3.3 3.2c.3.3.3.8 0 1.1L5.3 9.7c-.2.2-.4.3-.6.3Z"></path></svg></div><div id=":Rqclmdaeb:" class="PRIVATE_TreeView-item-content"><div class="PRIVATE_VisuallyHidden" aria-hidden="true" id=":RqclmdaebH1:"></div><div class="PRIVATE_TreeView-item-visual" aria-hidden="true"><div class="PRIVATE_TreeView-directory-icon"><svg aria-hidden="true" focusable="false" class="octicon octicon-file-directory-fill" viewBox="0 0 16 16" width="16" height="16" fill="currentColor" style="display:inline-block;user-select:none;vertical-align:text-bottom;overflow:visible"><path d="M1.75 1A1.75 1.75 0 0 0 0 2.75v10.5C0 14.216.784 15 1.75 15h12.5A1.75 1.75 0 0 0 16 13.25v-8.5A1.75 1.75 0 0 0 14.25 3H7.5a.25.25 0 0 1-.2-.1l-.9-1.2C6.07 1.26 5.55 1 5 1H1.75Z"></path></svg></div></div><span class="PRIVATE_TreeView-item-content-text"><span>2_ Descriptive Statistics</span></span></div></div></li><li class="PRIVATE_TreeView-item" tabindex="0" id="3_ Combinatorics-item" role="treeitem" aria-labelledby=":R1aclmdaeb:" aria-describedby=":R1aclmdaebH1: :R1aclmdaebH2:" aria-level="1" aria-expanded="false" aria-selected="false"><div class="PRIVATE_TreeView-item-container" style="--level:1;content-visibility:auto;contain-intrinsic-size:auto 2rem"><div style="grid-area:spacer;display:flex"><div style="width:100%;display:flex"></div></div><div class="PRIVATE_TreeView-item-toggle PRIVATE_TreeView-item-toggle--hover PRIVATE_TreeView-item-toggle--end"><svg aria-hidden="true" focusable="false" class="octicon octicon-chevron-right" viewBox="0 0 12 12" width="12" height="12" fill="currentColor" style="display:inline-block;user-select:none;vertical-align:text-bottom;overflow:visible"><path d="M4.7 10c-.2 0-.4-.1-.5-.2-.3-.3-.3-.8 0-1.1L6.9 6 4.2 3.3c-.3-.3-.3-.8 0-1.1.3-.3.8-.3 1.1 0l3.3 3.2c.3.3.3.8 0 1.1L5.3 9.7c-.2.2-.4.3-.6.3Z"></path></svg></div><div id=":R1aclmdaeb:" class="PRIVATE_TreeView-item-content"><div class="PRIVATE_VisuallyHidden" aria-hidden="true" id=":R1aclmdaebH1:"></div><div class="PRIVATE_TreeView-item-visual" aria-hidden="true"><div class="PRIVATE_TreeView-directory-icon"><svg aria-hidden="true" focusable="false" class="octicon octicon-file-directory-fill" viewBox="0 0 16 16" width="16" height="16" fill="currentColor" style="display:inline-block;user-select:none;vertical-align:text-bottom;overflow:visible"><path d="M1.75 1A1.75 1.75 0 0 0 0 2.75v10.5C0 14.216.784 15 1.75 15h12.5A1.75 1.75 0 0 0 16 13.25v-8.5A1.75 1.75 0 0 0 14.25 3H7.5a.25.25 0 0 1-.2-.1l-.9-1.2C6.07 1.26 5.55 1 5 1H1.75Z"></path></svg></div></div><span class="PRIVATE_TreeView-item-content-text"><span>3_ Combinatorics</span></span></div></div></li><li class="PRIVATE_TreeView-item" tabindex="0" id="4_ Distributions-item" role="treeitem" aria-labelledby=":R1qclmdaeb:" aria-describedby=":R1qclmdaebH1: :R1qclmdaebH2:" aria-level="1" aria-expanded="false" aria-selected="false"><div class="PRIVATE_TreeView-item-container" style="--level:1;content-visibility:auto;contain-intrinsic-size:auto 2rem"><div style="grid-area:spacer;display:flex"><div style="width:100%;display:flex"></div></div><div class="PRIVATE_TreeView-item-toggle PRIVATE_TreeView-item-toggle--hover PRIVATE_TreeView-item-toggle--end"><svg aria-hidden="true" focusable="false" class="octicon octicon-chevron-right" viewBox="0 0 12 12" width="12" height="12" fill="currentColor" style="display:inline-block;user-select:none;vertical-align:text-bottom;overflow:visible"><path d="M4.7 10c-.2 0-.4-.1-.5-.2-.3-.3-.3-.8 0-1.1L6.9 6 4.2 3.3c-.3-.3-.3-.8 0-1.1.3-.3.8-.3 1.1 0l3.3 3.2c.3.3.3.8 0 1.1L5.3 9.7c-.2.2-.4.3-.6.3Z"></path></svg></div><div id=":R1qclmdaeb:" class="PRIVATE_TreeView-item-content"><div class="PRIVATE_VisuallyHidden" aria-hidden="true" id=":R1qclmdaebH1:"></div><div class="PRIVATE_TreeView-item-visual" aria-hidden="true"><div class="PRIVATE_TreeView-directory-icon"><svg aria-hidden="true" focusable="false" class="octicon octicon-file-directory-fill" viewBox="0 0 16 16" width="16" height="16" fill="currentColor" style="display:inline-block;user-select:none;vertical-align:text-bottom;overflow:visible"><path d="M1.75 1A1.75 1.75 0 0 0 0 2.75v10.5C0 14.216.784 15 1.75 15h12.5A1.75 1.75 0 0 0 16 13.25v-8.5A1.75 1.75 0 0 0 14.25 3H7.5a.25.25 0 0 1-.2-.1l-.9-1.2C6.07 1.26 5.55 1 5 1H1.75Z"></path></svg></div></div><span class="PRIVATE_TreeView-item-content-text"><span>4_ Distributions</span></span></div></div></li><li class="PRIVATE_TreeView-item" tabindex="0" id="5_ Conditional Prob-item" role="treeitem" aria-labelledby=":R2aclmdaeb:" aria-describedby=":R2aclmdaebH1: :R2aclmdaebH2:" aria-level="1" aria-expanded="false" aria-selected="false"><div class="PRIVATE_TreeView-item-container" style="--level:1;content-visibility:auto;contain-intrinsic-size:auto 2rem"><div style="grid-area:spacer;display:flex"><div style="width:100%;display:flex"></div></div><div class="PRIVATE_TreeView-item-toggle PRIVATE_TreeView-item-toggle--hover PRIVATE_TreeView-item-toggle--end"><svg aria-hidden="true" focusable="false" class="octicon octicon-chevron-right" viewBox="0 0 12 12" width="12" height="12" fill="currentColor" style="display:inline-block;user-select:none;vertical-align:text-bottom;overflow:visible"><path d="M4.7 10c-.2 0-.4-.1-.5-.2-.3-.3-.3-.8 0-1.1L6.9 6 4.2 3.3c-.3-.3-.3-.8 0-1.1.3-.3.8-.3 1.1 0l3.3 3.2c.3.3.3.8 0 1.1L5.3 9.7c-.2.2-.4.3-.6.3Z"></path></svg></div><div id=":R2aclmdaeb:" class="PRIVATE_TreeView-item-content"><div class="PRIVATE_VisuallyHidden" aria-hidden="true" id=":R2aclmdaebH1:"></div><div class="PRIVATE_TreeView-item-visual" aria-hidden="true"><div class="PRIVATE_TreeView-directory-icon"><svg aria-hidden="true" focusable="false" class="octicon octicon-file-directory-fill" viewBox="0 0 16 16" width="16" height="16" fill="currentColor" style="display:inline-block;user-select:none;vertical-align:text-bottom;overflow:visible"><path d="M1.75 1A1.75 1.75 0 0 0 0 2.75v10.5C0 14.216.784 15 1.75 15h12.5A1.75 1.75 0 0 0 16 13.25v-8.5A1.75 1.75 0 0 0 14.25 3H7.5a.25.25 0 0 1-.2-.1l-.9-1.2C6.07 1.26 5.55 1 5 1H1.75Z"></path></svg></div></div><span class="PRIVATE_TreeView-item-content-text"><span>5_ Conditional Prob</span></span></div></div></li><li class="PRIVATE_TreeView-item" tabindex="0" id="6_ Sampling-item" role="treeitem" aria-labelledby=":R2qclmdaeb:" aria-describedby=":R2qclmdaebH1: :R2qclmdaebH2:" aria-level="1" aria-expanded="false" aria-selected="false"><div class="PRIVATE_TreeView-item-container" style="--level:1;content-visibility:auto;contain-intrinsic-size:auto 2rem"><div style="grid-area:spacer;display:flex"><div style="width:100%;display:flex"></div></div><div class="PRIVATE_TreeView-item-toggle PRIVATE_TreeView-item-toggle--hover PRIVATE_TreeView-item-toggle--end"><svg aria-hidden="true" focusable="false" class="octicon octicon-chevron-right" viewBox="0 0 12 12" width="12" height="12" fill="currentColor" style="display:inline-block;user-select:none;vertical-align:text-bottom;overflow:visible"><path d="M4.7 10c-.2 0-.4-.1-.5-.2-.3-.3-.3-.8 0-1.1L6.9 6 4.2 3.3c-.3-.3-.3-.8 0-1.1.3-.3.8-.3 1.1 0l3.3 3.2c.3.3.3.8 0 1.1L5.3 9.7c-.2.2-.4.3-.6.3Z"></path></svg></div><div id=":R2qclmdaeb:" class="PRIVATE_TreeView-item-content"><div class="PRIVATE_VisuallyHidden" aria-hidden="true" id=":R2qclmdaebH1:"></div><div class="PRIVATE_TreeView-item-visual" aria-hidden="true"><div class="PRIVATE_TreeView-directory-icon"><svg aria-hidden="true" focusable="false" class="octicon octicon-file-directory-fill" viewBox="0 0 16 16" width="16" height="16" fill="currentColor" style="display:inline-block;user-select:none;vertical-align:text-bottom;overflow:visible"><path d="M1.75 1A1.75 1.75 0 0 0 0 2.75v10.5C0 14.216.784 15 1.75 15h12.5A1.75 1.75 0 0 0 16 13.25v-8.5A1.75 1.75 0 0 0 14.25 3H7.5a.25.25 0 0 1-.2-.1l-.9-1.2C6.07 1.26 5.55 1 5 1H1.75Z"></path></svg></div></div><span class="PRIVATE_TreeView-item-content-text"><span>6_ Sampling</span></span></div></div></li><li class="PRIVATE_TreeView-item" tabindex="0" id="7_ Hypotheses-item" role="treeitem" aria-labelledby=":R3aclmdaeb:" aria-describedby=":R3aclmdaebH1: :R3aclmdaebH2:" aria-level="1" aria-expanded="true" aria-selected="false"><div class="PRIVATE_TreeView-item-container" style="--level:1;content-visibility:auto;contain-intrinsic-size:auto 2rem"><div style="grid-area:spacer;display:flex"><div style="width:100%;display:flex"></div></div><div class="PRIVATE_TreeView-item-toggle PRIVATE_TreeView-item-toggle--hover PRIVATE_TreeView-item-toggle--end"><svg aria-hidden="true" focusable="false" class="octicon octicon-chevron-down" viewBox="0 0 12 12" width="12" height="12" fill="currentColor" style="display:inline-block;user-select:none;vertical-align:text-bottom;overflow:visible"><path d="M6 8.825c-.2 0-.4-.1-.5-.2l-3.3-3.3c-.3-.3-.3-.8 0-1.1.3-.3.8-.3 1.1 0l2.7 2.7 2.7-2.7c.3-.3.8-.3 1.1 0 .3.3.3.8 0 1.1l-3.2 3.2c-.2.2-.4.3-.6.3Z"></path></svg></div><div id=":R3aclmdaeb:" class="PRIVATE_TreeView-item-content"><div class="PRIVATE_VisuallyHidden" aria-hidden="true" id=":R3aclmdaebH1:"></div><div class="PRIVATE_TreeView-item-visual" aria-hidden="true"><div class="PRIVATE_TreeView-directory-icon"><svg aria-hidden="true" focusable="false" class="octicon octicon-file-directory-open-fill" viewBox="0 0 16 16" width="16" height="16" fill="currentColor" style="display:inline-block;user-select:none;vertical-align:text-bottom;overflow:visible"><path d="M.513 1.513A1.75 1.75 0 0 1 1.75 1h3.5c.55 0 1.07.26 1.4.7l.9 1.2a.25.25 0 0 0 .2.1H13a1 1 0 0 1 1 1v.5H2.75a.75.75 0 0 0 0 1.5h11.978a1 1 0 0 1 .994 1.117L15 13.25A1.75 1.75 0 0 1 13.25 15H1.75A1.75 1.75 0 0 1 0 13.25V2.75c0-.464.184-.91.513-1.237Z"></path></svg></div></div><span class="PRIVATE_TreeView-item-content-text"><span>7_ Hypotheses</span></span></div></div><ul role="group" style="list-style:none;padding:0;margin:0"><li class="PRIVATE_TreeView-item" tabindex="0" id="7_ Hypotheses/7_1 t-2-groups.ipynb-item" role="treeitem" aria-labelledby=":Rbbaclmdaeb:" aria-describedby=":RbbaclmdaebH1: :RbbaclmdaebH2:" aria-level="2" aria-selected="false"><div class="PRIVATE_TreeView-item-container" style="--level:2;content-visibility:auto;contain-intrinsic-size:auto 2rem"><div style="grid-area:spacer;display:flex"><div style="width:100%;display:flex"><div class="PRIVATE_TreeView-item-level-line"></div></div></div><div id=":Rbbaclmdaeb:" class="PRIVATE_TreeView-item-content"><div class="PRIVATE_VisuallyHidden" aria-hidden="true" id=":RbbaclmdaebH1:"></div><div class="PRIVATE_TreeView-item-visual" aria-hidden="true"><svg aria-hidden="true" focusable="false" role="img" class="octicon octicon-file" viewBox="0 0 16 16" width="16" height="16" fill="currentColor" style="display:inline-block;user-select:none;vertical-align:text-bottom;overflow:visible"><path d="M2 1.75C2 .784 2.784 0 3.75 0h6.586c.464 0 .909.184 1.237.513l2.914 2.914c.329.328.513.773.513 1.237v9.586A1.75 1.75 0 0 1 13.25 16h-9.5A1.75 1.75 0 0 1 2 14.25Zm1.75-.25a.25.25 0 0 0-.25.25v12.5c0 .138.112.25.25.25h9.5a.25.25 0 0 0 .25-.25V6h-2.75A1.75 1.75 0 0 1 9 4.25V1.5Zm6.75.062V4.25c0 .138.112.25.25.25h2.688l-.011-.013-2.914-2.914-.013-.011Z"></path></svg></div><span class="PRIVATE_TreeView-item-content-text"><span>7_1 t-2-groups.ipynb</span></span></div></div></li><li class="PRIVATE_TreeView-item" tabindex="0" id="7_ Hypotheses/7_2 paired t-test.ipynb-item" role="treeitem" aria-labelledby=":Rjbaclmdaeb:" aria-describedby=":RjbaclmdaebH1: :RjbaclmdaebH2:" aria-level="2" aria-selected="false"><div class="PRIVATE_TreeView-item-container" style="--level:2;content-visibility:auto;contain-intrinsic-size:auto 2rem"><div style="grid-area:spacer;display:flex"><div style="width:100%;display:flex"><div class="PRIVATE_TreeView-item-level-line"></div></div></div><div id=":Rjbaclmdaeb:" class="PRIVATE_TreeView-item-content"><div class="PRIVATE_VisuallyHidden" aria-hidden="true" id=":RjbaclmdaebH1:"></div><div class="PRIVATE_TreeView-item-visual" aria-hidden="true"><svg aria-hidden="true" focusable="false" role="img" class="octicon octicon-file" viewBox="0 0 16 16" width="16" height="16" fill="currentColor" style="display:inline-block;user-select:none;vertical-align:text-bottom;overflow:visible"><path d="M2 1.75C2 .784 2.784 0 3.75 0h6.586c.464 0 .909.184 1.237.513l2.914 2.914c.329.328.513.773.513 1.237v9.586A1.75 1.75 0 0 1 13.25 16h-9.5A1.75 1.75 0 0 1 2 14.25Zm1.75-.25a.25.25 0 0 0-.25.25v12.5c0 .138.112.25.25.25h9.5a.25.25 0 0 0 .25-.25V6h-2.75A1.75 1.75 0 0 1 9 4.25V1.5Zm6.75.062V4.25c0 .138.112.25.25.25h2.688l-.011-.013-2.914-2.914-.013-.011Z"></path></svg></div><span class="PRIVATE_TreeView-item-content-text"><span>7_2 paired t-test.ipynb</span></span></div></div></li><li class="PRIVATE_TreeView-item" tabindex="0" id="7_ Hypotheses/7_3_Chi^2.ipynb-item" role="treeitem" aria-labelledby=":Rrbaclmdaeb:" aria-describedby=":RrbaclmdaebH1: :RrbaclmdaebH2:" aria-level="2" aria-selected="false"><div class="PRIVATE_TreeView-item-container" style="--level:2;content-visibility:auto;contain-intrinsic-size:auto 2rem"><div style="grid-area:spacer;display:flex"><div style="width:100%;display:flex"><div class="PRIVATE_TreeView-item-level-line"></div></div></div><div id=":Rrbaclmdaeb:" class="PRIVATE_TreeView-item-content"><div class="PRIVATE_VisuallyHidden" aria-hidden="true" id=":RrbaclmdaebH1:"></div><div class="PRIVATE_TreeView-item-visual" aria-hidden="true"><svg aria-hidden="true" focusable="false" role="img" class="octicon octicon-file" viewBox="0 0 16 16" width="16" height="16" fill="currentColor" style="display:inline-block;user-select:none;vertical-align:text-bottom;overflow:visible"><path d="M2 1.75C2 .784 2.784 0 3.75 0h6.586c.464 0 .909.184 1.237.513l2.914 2.914c.329.328.513.773.513 1.237v9.586A1.75 1.75 0 0 1 13.25 16h-9.5A1.75 1.75 0 0 1 2 14.25Zm1.75-.25a.25.25 0 0 0-.25.25v12.5c0 .138.112.25.25.25h9.5a.25.25 0 0 0 .25-.25V6h-2.75A1.75 1.75 0 0 1 9 4.25V1.5Zm6.75.062V4.25c0 .138.112.25.25.25h2.688l-.011-.013-2.914-2.914-.013-.011Z"></path></svg></div><span class="PRIVATE_TreeView-item-content-text"><span>7_3_Chi^2.ipynb</span></span></div></div></li><li class="PRIVATE_TreeView-item" tabindex="0" id="7_ Hypotheses/7_4 F-test.ipynb-item" role="treeitem" aria-labelledby=":R13baclmdaeb:" aria-describedby=":R13baclmdaebH1: :R13baclmdaebH2:" aria-level="2" aria-current="true" aria-selected="false"><div class="PRIVATE_TreeView-item-container" style="--level:2"><div style="grid-area:spacer;display:flex"><div style="width:100%;display:flex"><div class="PRIVATE_TreeView-item-level-line"></div></div></div><div id=":R13baclmdaeb:" class="PRIVATE_TreeView-item-content"><div class="PRIVATE_VisuallyHidden" aria-hidden="true" id=":R13baclmdaebH1:"></div><div class="PRIVATE_TreeView-item-visual" aria-hidden="true"><svg aria-hidden="true" focusable="false" role="img" class="octicon octicon-file" viewBox="0 0 16 16" width="16" height="16" fill="currentColor" style="display:inline-block;user-select:none;vertical-align:text-bottom;overflow:visible"><path d="M2 1.75C2 .784 2.784 0 3.75 0h6.586c.464 0 .909.184 1.237.513l2.914 2.914c.329.328.513.773.513 1.237v9.586A1.75 1.75 0 0 1 13.25 16h-9.5A1.75 1.75 0 0 1 2 14.25Zm1.75-.25a.25.25 0 0 0-.25.25v12.5c0 .138.112.25.25.25h9.5a.25.25 0 0 0 .25-.25V6h-2.75A1.75 1.75 0 0 1 9 4.25V1.5Zm6.75.062V4.25c0 .138.112.25.25.25h2.688l-.011-.013-2.914-2.914-.013-.011Z"></path></svg></div><span class="PRIVATE_TreeView-item-content-text"><span>7_4 F-test.ipynb</span></span></div></div></li><li class="PRIVATE_TreeView-item" tabindex="0" id="7_ Hypotheses/Chi^2 and ANOVA.xlsx-item" role="treeitem" aria-labelledby=":R1bbaclmdaeb:" aria-describedby=":R1bbaclmdaebH1: :R1bbaclmdaebH2:" aria-level="2" aria-selected="false"><div class="PRIVATE_TreeView-item-container" style="--level:2;content-visibility:auto;contain-intrinsic-size:auto 2rem"><div style="grid-area:spacer;display:flex"><div style="width:100%;display:flex"><div class="PRIVATE_TreeView-item-level-line"></div></div></div><div id=":R1bbaclmdaeb:" class="PRIVATE_TreeView-item-content"><div class="PRIVATE_VisuallyHidden" aria-hidden="true" id=":R1bbaclmdaebH1:"></div><div class="PRIVATE_TreeView-item-visual" aria-hidden="true"><svg aria-hidden="true" focusable="false" role="img" class="octicon octicon-file" viewBox="0 0 16 16" width="16" height="16" fill="currentColor" style="display:inline-block;user-select:none;vertical-align:text-bottom;overflow:visible"><path d="M2 1.75C2 .784 2.784 0 3.75 0h6.586c.464 0 .909.184 1.237.513l2.914 2.914c.329.328.513.773.513 1.237v9.586A1.75 1.75 0 0 1 13.25 16h-9.5A1.75 1.75 0 0 1 2 14.25Zm1.75-.25a.25.25 0 0 0-.25.25v12.5c0 .138.112.25.25.25h9.5a.25.25 0 0 0 .25-.25V6h-2.75A1.75 1.75 0 0 1 9 4.25V1.5Zm6.75.062V4.25c0 .138.112.25.25.25h2.688l-.011-.013-2.914-2.914-.013-.011Z"></path></svg></div><span class="PRIVATE_TreeView-item-content-text"><span>Chi^2 and ANOVA.xlsx</span></span></div></div></li></ul></li><li class="PRIVATE_TreeView-item" tabindex="0" id="8_ Model Estimation-item" role="treeitem" aria-labelledby=":R3qclmdaeb:" aria-describedby=":R3qclmdaebH1: :R3qclmdaebH2:" aria-level="1" aria-expanded="false" aria-selected="false"><div class="PRIVATE_TreeView-item-container" style="--level:1;content-visibility:auto;contain-intrinsic-size:auto 2rem"><div style="grid-area:spacer;display:flex"><div style="width:100%;display:flex"></div></div><div class="PRIVATE_TreeView-item-toggle PRIVATE_TreeView-item-toggle--hover PRIVATE_TreeView-item-toggle--end"><svg aria-hidden="true" focusable="false" class="octicon octicon-chevron-right" viewBox="0 0 12 12" width="12" height="12" fill="currentColor" style="display:inline-block;user-select:none;vertical-align:text-bottom;overflow:visible"><path d="M4.7 10c-.2 0-.4-.1-.5-.2-.3-.3-.3-.8 0-1.1L6.9 6 4.2 3.3c-.3-.3-.3-.8 0-1.1.3-.3.8-.3 1.1 0l3.3 3.2c.3.3.3.8 0 1.1L5.3 9.7c-.2.2-.4.3-.6.3Z"></path></svg></div><div id=":R3qclmdaeb:" class="PRIVATE_TreeView-item-content"><div class="PRIVATE_VisuallyHidden" aria-hidden="true" id=":R3qclmdaebH1:"></div><div class="PRIVATE_TreeView-item-visual" aria-hidden="true"><div class="PRIVATE_TreeView-directory-icon"><svg aria-hidden="true" focusable="false" class="octicon octicon-file-directory-fill" viewBox="0 0 16 16" width="16" height="16" fill="currentColor" style="display:inline-block;user-select:none;vertical-align:text-bottom;overflow:visible"><path d="M1.75 1A1.75 1.75 0 0 0 0 2.75v10.5C0 14.216.784 15 1.75 15h12.5A1.75 1.75 0 0 0 16 13.25v-8.5A1.75 1.75 0 0 0 14.25 3H7.5a.25.25 0 0 1-.2-.1l-.9-1.2C6.07 1.26 5.55 1 5 1H1.75Z"></path></svg></div></div><span class="PRIVATE_TreeView-item-content-text"><span>8_ Model Estimation</span></span></div></div></li><li class="PRIVATE_TreeView-item" tabindex="0" id="Distributions map.pdf-item" role="treeitem" aria-labelledby=":R4aclmdaeb:" aria-describedby=":R4aclmdaebH1: :R4aclmdaebH2:" aria-level="1" aria-selected="false"><div class="PRIVATE_TreeView-item-container" style="--level:1;content-visibility:auto;contain-intrinsic-size:auto 2rem"><div style="grid-area:spacer;display:flex"><div style="width:100%;display:flex"></div></div><div id=":R4aclmdaeb:" class="PRIVATE_TreeView-item-content"><div class="PRIVATE_VisuallyHidden" aria-hidden="true" id=":R4aclmdaebH1:"></div><div class="PRIVATE_TreeView-item-visual" aria-hidden="true"><svg aria-hidden="true" focusable="false" role="img" class="octicon octicon-file" viewBox="0 0 16 16" width="16" height="16" fill="currentColor" style="display:inline-block;user-select:none;vertical-align:text-bottom;overflow:visible"><path d="M2 1.75C2 .784 2.784 0 3.75 0h6.586c.464 0 .909.184 1.237.513l2.914 2.914c.329.328.513.773.513 1.237v9.586A1.75 1.75 0 0 1 13.25 16h-9.5A1.75 1.75 0 0 1 2 14.25Zm1.75-.25a.25.25 0 0 0-.25.25v12.5c0 .138.112.25.25.25h9.5a.25.25 0 0 0 .25-.25V6h-2.75A1.75 1.75 0 0 1 9 4.25V1.5Zm6.75.062V4.25c0 .138.112.25.25.25h2.688l-.011-.013-2.914-2.914-.013-.011Z"></path></svg></div><span class="PRIVATE_TreeView-item-content-text"><span>Distributions map.pdf</span></span></div></div></li><li class="PRIVATE_TreeView-item" tabindex="0" id="Introduction to Statistics _v22.pdf-item" role="treeitem" aria-labelledby=":R4qclmdaeb:" aria-describedby=":R4qclmdaebH1: :R4qclmdaebH2:" aria-level="1" aria-selected="false"><div class="PRIVATE_TreeView-item-container" style="--level:1;content-visibility:auto;contain-intrinsic-size:auto 2rem"><div style="grid-area:spacer;display:flex"><div style="width:100%;display:flex"></div></div><div id=":R4qclmdaeb:" class="PRIVATE_TreeView-item-content"><div class="PRIVATE_VisuallyHidden" aria-hidden="true" id=":R4qclmdaebH1:"></div><div class="PRIVATE_TreeView-item-visual" aria-hidden="true"><svg aria-hidden="true" focusable="false" role="img" class="octicon octicon-file" viewBox="0 0 16 16" width="16" height="16" fill="currentColor" style="display:inline-block;user-select:none;vertical-align:text-bottom;overflow:visible"><path d="M2 1.75C2 .784 2.784 0 3.75 0h6.586c.464 0 .909.184 1.237.513l2.914 2.914c.329.328.513.773.513 1.237v9.586A1.75 1.75 0 0 1 13.25 16h-9.5A1.75 1.75 0 0 1 2 14.25Zm1.75-.25a.25.25 0 0 0-.25.25v12.5c0 .138.112.25.25.25h9.5a.25.25 0 0 0 .25-.25V6h-2.75A1.75 1.75 0 0 1 9 4.25V1.5Zm6.75.062V4.25c0 .138.112.25.25.25h2.688l-.011-.013-2.914-2.914-.013-.011Z"></path></svg></div><span class="PRIVATE_TreeView-item-content-text"><span>Introduction to Statistics _v22.pdf</span></span></div></div></li><li class="PRIVATE_TreeView-item" tabindex="0" id="README.md-item" role="treeitem" aria-labelledby=":R5aclmdaeb:" aria-describedby=":R5aclmdaebH1: :R5aclmdaebH2:" aria-level="1" aria-selected="false"><div class="PRIVATE_TreeView-item-container" style="--level:1;content-visibility:auto;contain-intrinsic-size:auto 2rem"><div style="grid-area:spacer;display:flex"><div style="width:100%;display:flex"></div></div><div id=":R5aclmdaeb:" class="PRIVATE_TreeView-item-content"><div class="PRIVATE_VisuallyHidden" aria-hidden="true" id=":R5aclmdaebH1:"></div><div class="PRIVATE_TreeView-item-visual" aria-hidden="true"><svg aria-hidden="true" focusable="false" role="img" class="octicon octicon-file" viewBox="0 0 16 16" width="16" height="16" fill="currentColor" style="display:inline-block;user-select:none;vertical-align:text-bottom;overflow:visible"><path d="M2 1.75C2 .784 2.784 0 3.75 0h6.586c.464 0 .909.184 1.237.513l2.914 2.914c.329.328.513.773.513 1.237v9.586A1.75 1.75 0 0 1 13.25 16h-9.5A1.75 1.75 0 0 1 2 14.25Zm1.75-.25a.25.25 0 0 0-.25.25v12.5c0 .138.112.25.25.25h9.5a.25.25 0 0 0 .25-.25V6h-2.75A1.75 1.75 0 0 1 9 4.25V1.5Zm6.75.062V4.25c0 .138.112.25.25.25h2.688l-.011-.013-2.914-2.914-.013-.011Z"></path></svg></div><span class="PRIVATE_TreeView-item-content-text"><span>README.md</span></span></div></div></li><li class="PRIVATE_TreeView-item" tabindex="0" id="StatistialTables.pdf-item" role="treeitem" aria-labelledby=":R5qclmdaeb:" aria-describedby=":R5qclmdaebH1: :R5qclmdaebH2:" aria-level="1" aria-selected="false"><div class="PRIVATE_TreeView-item-container" style="--level:1;content-visibility:auto;contain-intrinsic-size:auto 2rem"><div style="grid-area:spacer;display:flex"><div style="width:100%;display:flex"></div></div><div id=":R5qclmdaeb:" class="PRIVATE_TreeView-item-content"><div class="PRIVATE_VisuallyHidden" aria-hidden="true" id=":R5qclmdaebH1:"></div><div class="PRIVATE_TreeView-item-visual" aria-hidden="true"><svg aria-hidden="true" focusable="false" role="img" class="octicon octicon-file" viewBox="0 0 16 16" width="16" height="16" fill="currentColor" style="display:inline-block;user-select:none;vertical-align:text-bottom;overflow:visible"><path d="M2 1.75C2 .784 2.784 0 3.75 0h6.586c.464 0 .909.184 1.237.513l2.914 2.914c.329.328.513.773.513 1.237v9.586A1.75 1.75 0 0 1 13.25 16h-9.5A1.75 1.75 0 0 1 2 14.25Zm1.75-.25a.25.25 0 0 0-.25.25v12.5c0 .138.112.25.25.25h9.5a.25.25 0 0 0 .25-.25V6h-2.75A1.75 1.75 0 0 1 9 4.25V1.5Zm6.75.062V4.25c0 .138.112.25.25.25h2.688l-.011-.013-2.914-2.914-.013-.011Z"></path></svg></div><span class="PRIVATE_TreeView-item-content-text"><span>StatistialTables.pdf</span></span></div></div></li><li class="PRIVATE_TreeView-item" tabindex="0" id="readme.txt-item" role="treeitem" aria-labelledby=":R6aclmdaeb:" aria-describedby=":R6aclmdaebH1: :R6aclmdaebH2:" aria-level="1" aria-selected="false"><div class="PRIVATE_TreeView-item-container" style="--level:1;content-visibility:auto;contain-intrinsic-size:auto 2rem"><div style="grid-area:spacer;display:flex"><div style="width:100%;display:flex"></div></div><div id=":R6aclmdaeb:" class="PRIVATE_TreeView-item-content"><div class="PRIVATE_VisuallyHidden" aria-hidden="true" id=":R6aclmdaebH1:"></div><div class="PRIVATE_TreeView-item-visual" aria-hidden="true"><svg aria-hidden="true" focusable="false" role="img" class="octicon octicon-file" viewBox="0 0 16 16" width="16" height="16" fill="currentColor" style="display:inline-block;user-select:none;vertical-align:text-bottom;overflow:visible"><path d="M2 1.75C2 .784 2.784 0 3.75 0h6.586c.464 0 .909.184 1.237.513l2.914 2.914c.329.328.513.773.513 1.237v9.586A1.75 1.75 0 0 1 13.25 16h-9.5A1.75 1.75 0 0 1 2 14.25Zm1.75-.25a.25.25 0 0 0-.25.25v12.5c0 .138.112.25.25.25h9.5a.25.25 0 0 0 .25-.25V6h-2.75A1.75 1.75 0 0 1 9 4.25V1.5Zm6.75.062V4.25c0 .138.112.25.25.25h2.688l-.011-.013-2.914-2.914-.013-.011Z"></path></svg></div><span class="PRIVATE_TreeView-item-content-text"><span>readme.txt</span></span></div></div></li><li class="PRIVATE_TreeView-item" tabindex="0" id="requirements.txt-item" role="treeitem" aria-labelledby=":R6qclmdaeb:" aria-describedby=":R6qclmdaebH1: :R6qclmdaebH2:" aria-level="1" aria-selected="false"><div class="PRIVATE_TreeView-item-container" style="--level:1;content-visibility:auto;contain-intrinsic-size:auto 2rem"><div style="grid-area:spacer;display:flex"><div style="width:100%;display:flex"></div></div><div id=":R6qclmdaeb:" class="PRIVATE_TreeView-item-content"><div class="PRIVATE_VisuallyHidden" aria-hidden="true" id=":R6qclmdaebH1:"></div><div class="PRIVATE_TreeView-item-visual" aria-hidden="true"><svg aria-hidden="true" focusable="false" role="img" class="octicon octicon-file" viewBox="0 0 16 16" width="16" height="16" fill="currentColor" style="display:inline-block;user-select:none;vertical-align:text-bottom;overflow:visible"><path d="M2 1.75C2 .784 2.784 0 3.75 0h6.586c.464 0 .909.184 1.237.513l2.914 2.914c.329.328.513.773.513 1.237v9.586A1.75 1.75 0 0 1 13.25 16h-9.5A1.75 1.75 0 0 1 2 14.25Zm1.75-.25a.25.25 0 0 0-.25.25v12.5c0 .138.112.25.25.25h9.5a.25.25 0 0 0 .25-.25V6h-2.75A1.75 1.75 0 0 1 9 4.25V1.5Zm6.75.062V4.25c0 .138.112.25.25.25h2.688l-.011-.013-2.914-2.914-.013-.011Z"></path></svg></div><span class="PRIVATE_TreeView-item-content-text"><span>requirements.txt</span></span></div></div></li></ul></nav></div></div></div></div></div></div><div class="Box-sc-g0xbh4-0 hAeDYA"><div role="slider" aria-label="Draggable pane splitter" aria-valuemin="0" aria-valuemax="0" aria-valuenow="0" aria-valuetext="Pane width 0 pixels" tabindex="0" class="Box-sc-g0xbh4-0 fjdBNx"></div></div></div></div><div class="Box-sc-g0xbh4-0 emFMJu"><div class="Box-sc-g0xbh4-0"></div><div class="Box-sc-g0xbh4-0 hlUAHL"><div data-selector="repos-split-pane-content" tabindex="0" class="Box-sc-g0xbh4-0 iStsmI"><div class="Box-sc-g0xbh4-0 eIgvIk"><div class="Box-sc-g0xbh4-0 eVFfWF container"><div class="px-3 pt-3 pb-0" id="StickyHeader"><div class="Box-sc-g0xbh4-0 fywjmm"><div class="Box-sc-g0xbh4-0 dyczTK"><div class="Box-sc-g0xbh4-0 kszRgZ"><div class="Box-sc-g0xbh4-0 eTvGbF"><nav data-testid="breadcrumbs" aria-labelledby="repos-header-breadcrumb--wide-heading" id="repos-header-breadcrumb--wide" class="Box-sc-g0xbh4-0 kzRgrI"><h2 class="Heading__StyledHeading-sc-1c1dgg0-0 fpGZrB sr-only" data-testid="screen-reader-heading" id="repos-header-breadcrumb--wide-heading">Breadcrumbs</h2><ol class="Box-sc-g0xbh4-0 cmAPIB"><li class="Box-sc-g0xbh4-0 jwXCBK"><a sx="[object Object]" data-testid="breadcrumbs-repo-link" class="Link__StyledLink-sc-14289xe-0 ipyMWB" href="/MathforDataScience/DSR_Statistics1/tree/main">DSR_Statistics1</a></li><li class="Box-sc-g0xbh4-0 jwXCBK"><span aria-hidden="true" class="Text-sc-17v1xeu-0 fIsVJr">/</span><a sx="[object Object]" class="Link__StyledLink-sc-14289xe-0 jmkYvv" href="/MathforDataScience/DSR_Statistics1/tree/main/7_%20Hypotheses">7_ Hypotheses</a></li></ol></nav><div data-testid="breadcrumbs-filename" class="Box-sc-g0xbh4-0 jwXCBK"><span aria-hidden="true" class="Text-sc-17v1xeu-0 fIsVJr">/</span><h1 tabindex="-1" id="file-name-id-wide" class="Heading__StyledHeading-sc-1c1dgg0-0 eqidDl">7_4 F-test.ipynb</h1></div><div aria-describedby=":R3badaeb:"><button data-component="IconButton" type="button" aria-label="Copy path" tabindex="0" class="types__StyledButton-sc-ws60qy-0 emYRmJ" data-loading="false" data-no-visuals="true" data-size="small" aria-describedby=":Rfbadaeb:-loading-announcement"><svg aria-hidden="true" focusable="false" role="img" class="octicon octicon-copy" viewBox="0 0 16 16" width="16" height="16" fill="currentColor" style="display:inline-block;user-select:none;vertical-align:text-bottom;overflow:visible"><path d="M0 6.75C0 5.784.784 5 1.75 5h1.5a.75.75 0 0 1 0 1.5h-1.5a.25.25 0 0 0-.25.25v7.5c0 .138.112.25.25.25h7.5a.25.25 0 0 0 .25-.25v-1.5a.75.75 0 0 1 1.5 0v1.5A1.75 1.75 0 0 1 9.25 16h-7.5A1.75 1.75 0 0 1 0 14.25Z"></path><path d="M5 1.75C5 .784 5.784 0 6.75 0h7.5C15.216 0 16 .784 16 1.75v7.5A1.75 1.75 0 0 1 14.25 11h-7.5A1.75 1.75 0 0 1 5 9.25Zm1.75-.25a.25.25 0 0 0-.25.25v7.5c0 .138.112.25.25.25h7.5a.25.25 0 0 0 .25-.25v-7.5a.25.25 0 0 0-.25-.25Z"></path></svg></button></div></div></div><div class="react-code-view-header-element--wide"><div class="Box-sc-g0xbh4-0 gtBUEp"><div class="d-flex gap-2"> <button type="button" data-loading="false" data-no-visuals="true" aria-describedby=":Rl9jadaeb:-loading-announcement" class="types__StyledButton-sc-ws60qy-0 jFcVkf"><span data-component="buttonContent" class="Box-sc-g0xbh4-0 kkrdEu"><span data-component="text">Blame</span></span></button><button hidden="" data-testid="" data-hotkey-scope="read-only-cursor-text-area"></button><button data-component="IconButton" type="button" aria-label="More file actions" class="types__StyledButton-sc-ws60qy-0 kuXPuQ js-blob-dropdown-click" title="More file actions" data-testid="more-file-actions-button-nav-menu-wide" aria-haspopup="true" aria-expanded="false" tabindex="0" data-loading="false" data-no-visuals="true" aria-describedby=":R99jadaeb:-loading-announcement" id=":R99jadaeb:"><svg aria-hidden="true" focusable="false" role="img" class="octicon octicon-kebab-horizontal" viewBox="0 0 16 16" width="16" height="16" fill="currentColor" style="display:inline-block;user-select:none;vertical-align:text-bottom;overflow:visible"><path d="M8 9a1.5 1.5 0 1 0 0-3 1.5 1.5 0 0 0 0 3ZM1.5 9a1.5 1.5 0 1 0 0-3 1.5 1.5 0 0 0 0 3Zm13 0a1.5 1.5 0 1 0 0-3 1.5 1.5 0 0 0 0 3Z"></path></svg></button> </div></div></div><div class="react-code-view-header-element--narrow"><div class="Box-sc-g0xbh4-0 gtBUEp"><div class="d-flex gap-2"> <button type="button" data-loading="false" data-no-visuals="true" aria-describedby=":Rl9radaeb:-loading-announcement" class="types__StyledButton-sc-ws60qy-0 jFcVkf"><span data-component="buttonContent" class="Box-sc-g0xbh4-0 kkrdEu"><span data-component="text">Blame</span></span></button><button hidden="" data-testid="" data-hotkey-scope="read-only-cursor-text-area"></button><button data-component="IconButton" type="button" aria-label="More file actions" class="types__StyledButton-sc-ws60qy-0 kuXPuQ js-blob-dropdown-click" title="More file actions" data-testid="more-file-actions-button-nav-menu-narrow" aria-haspopup="true" aria-expanded="false" tabindex="0" data-loading="false" data-no-visuals="true" aria-describedby=":R99radaeb:-loading-announcement" id=":R99radaeb:"><svg aria-hidden="true" focusable="false" role="img" class="octicon octicon-kebab-horizontal" viewBox="0 0 16 16" width="16" height="16" fill="currentColor" style="display:inline-block;user-select:none;vertical-align:text-bottom;overflow:visible"><path d="M8 9a1.5 1.5 0 1 0 0-3 1.5 1.5 0 0 0 0 3ZM1.5 9a1.5 1.5 0 1 0 0-3 1.5 1.5 0 0 0 0 3Zm13 0a1.5 1.5 0 1 0 0-3 1.5 1.5 0 0 0 0 3Z"></path></svg></button> </div></div></div></div></div></div></div></div><div class="Box-sc-g0xbh4-0 hVZtwF react-code-view-bottom-padding"> <div class="Box-sc-g0xbh4-0 cMYnca"></div> <!-- --> <!-- --> </div><div class="Box-sc-g0xbh4-0 hVZtwF"> <!-- --> <!-- --> <div class="d-flex flex-column border rounded-2 mb-3 pl-1"><div class="Box-sc-g0xbh4-0 brJRqk"><h2 class="Heading__StyledHeading-sc-1c1dgg0-0 fpGZrB sr-only" data-testid="screen-reader-heading">Latest commit</h2><div style="width:120px" class="Skeleton Skeleton--text" data-testid="loading"> </div><div class="d-flex flex-shrink-0 gap-2"><div data-testid="latest-commit-details" class="d-none d-sm-flex flex-items-center"></div><div class="d-flex gap-2"><h2 class="Heading__StyledHeading-sc-1c1dgg0-0 fpGZrB sr-only" data-testid="screen-reader-heading">History</h2><a class="types__StyledButton-sc-ws60qy-0 emYRmJ d-none d-lg-flex LinkButton-module__code-view-link-button--xvCGA flex-items-center fgColor-default" href="/MathforDataScience/DSR_Statistics1/commits/main/7_%20Hypotheses/7_4%20F-test.ipynb" data-loading="false" data-size="small" aria-describedby=":R1bdaladaeb:-loading-announcement"><span data-component="buttonContent" class="Box-sc-g0xbh4-0 kkrdEu"><span data-component="leadingVisual" class="Box-sc-g0xbh4-0 trpoQ"><svg aria-hidden="true" focusable="false" role="img" class="octicon octicon-history" viewBox="0 0 16 16" width="16" height="16" fill="currentColor" style="display:inline-block;user-select:none;vertical-align:text-bottom;overflow:visible"><path d="m.427 1.927 1.215 1.215a8.002 8.002 0 1 1-1.6 5.685.75.75 0 1 1 1.493-.154 6.5 6.5 0 1 0 1.18-4.458l1.358 1.358A.25.25 0 0 1 3.896 6H.25A.25.25 0 0 1 0 5.75V2.104a.25.25 0 0 1 .427-.177ZM7.75 4a.75.75 0 0 1 .75.75v2.992l2.028.812a.75.75 0 0 1-.557 1.392l-2.5-1A.751.751 0 0 1 7 8.25v-3.5A.75.75 0 0 1 7.75 4Z"></path></svg></span><span data-component="text"><span class="fgColor-default">History</span></span></span></a><div class="d-sm-none"></div><div class="d-flex d-lg-none"><span role="tooltip" aria-label="History" id="history-icon-button-tooltip" class="Tooltip__TooltipBase-sc-17tf59c-0 gNgnVl tooltipped-n"><a class="types__StyledButton-sc-ws60qy-0 emYRmJ LinkButton-module__code-view-link-button--xvCGA flex-items-center fgColor-default" href="/MathforDataScience/DSR_Statistics1/commits/main/7_%20Hypotheses/7_4%20F-test.ipynb" data-loading="false" data-size="small" aria-describedby=":R6bdaladaeb:-loading-announcement history-icon-button-tooltip"><span data-component="buttonContent" class="Box-sc-g0xbh4-0 kkrdEu"><span data-component="leadingVisual" class="Box-sc-g0xbh4-0 trpoQ"><svg aria-hidden="true" focusable="false" role="img" class="octicon octicon-history" viewBox="0 0 16 16" width="16" height="16" fill="currentColor" style="display:inline-block;user-select:none;vertical-align:text-bottom;overflow:visible"><path d="m.427 1.927 1.215 1.215a8.002 8.002 0 1 1-1.6 5.685.75.75 0 1 1 1.493-.154 6.5 6.5 0 1 0 1.18-4.458l1.358 1.358A.25.25 0 0 1 3.896 6H.25A.25.25 0 0 1 0 5.75V2.104a.25.25 0 0 1 .427-.177ZM7.75 4a.75.75 0 0 1 .75.75v2.992l2.028.812a.75.75 0 0 1-.557 1.392l-2.5-1A.751.751 0 0 1 7 8.25v-3.5A.75.75 0 0 1 7.75 4Z"></path></svg></span></span></a></span></div></div></div></div></div><div class="Box-sc-g0xbh4-0 iJmJly"><div class="Box-sc-g0xbh4-0 jACbi container"><div class="Box-sc-g0xbh4-0 gIJuDf react-code-size-details-banner"><div class="Box-sc-g0xbh4-0 fleZSW react-code-size-details-banner"><div class="Box-sc-g0xbh4-0 BnySK text-mono"><div title="95.5 KB" data-testid="blob-size" class="Truncate__StyledTruncate-sc-23o1d2-0 fUpWeN"><span>298 lines (298 loc) · 95.5 KB</span></div></div></div><div class="react-code-size-details-banner"><button style="--button-color:fg.default" type="button" aria-haspopup="true" aria-expanded="false" tabindex="0" data-testid="copilot-popover-button" data-loading="false" data-size="small" aria-describedby=":R9faladaeb:-loading-announcement" id=":R9faladaeb:" class="types__StyledButton-sc-ws60qy-0 jKgwhU"><span data-component="buttonContent" class="Box-sc-g0xbh4-0 kkrdEu"><span data-component="leadingVisual" class="Box-sc-g0xbh4-0 trpoQ"><svg aria-hidden="true" focusable="false" role="img" class="octicon octicon-copilot" viewBox="0 0 16 16" width="16" height="16" fill="currentColor" style="display:inline-block;user-select:none;vertical-align:text-bottom;overflow:visible"><path d="M7.998 15.035c-4.562 0-7.873-2.914-7.998-3.749V9.338c.085-.628.677-1.686 1.588-2.065.013-.07.024-.143.036-.218.029-.183.06-.384.126-.612-.201-.508-.254-1.084-.254-1.656 0-.87.128-1.769.693-2.484.579-.733 1.494-1.124 2.724-1.261 1.206-.134 2.262.034 2.944.765.05.053.096.108.139.165.044-.057.094-.112.143-.165.682-.731 1.738-.899 2.944-.765 1.23.137 2.145.528 2.724 1.261.566.715.693 1.614.693 2.484 0 .572-.053 1.148-.254 1.656.066.228.098.429.126.612.012.076.024.148.037.218.924.385 1.522 1.471 1.591 2.095v1.872c0 .766-3.351 3.795-8.002 3.795Zm0-1.485c2.28 0 4.584-1.11 5.002-1.433V7.862l-.023-.116c-.49.21-1.075.291-1.727.291-1.146 0-2.059-.327-2.71-.991A3.222 3.222 0 0 1 8 6.303a3.24 3.24 0 0 1-.544.743c-.65.664-1.563.991-2.71.991-.652 0-1.236-.081-1.727-.291l-.023.116v4.255c.419.323 2.722 1.433 5.002 1.433ZM6.762 2.83c-.193-.206-.637-.413-1.682-.297-1.019.113-1.479.404-1.713.7-.247.312-.369.789-.369 1.554 0 .793.129 1.171.308 1.371.162.181.519.379 1.442.379.853 0 1.339-.235 1.638-.54.315-.322.527-.827.617-1.553.117-.935-.037-1.395-.241-1.614Zm4.155-.297c-1.044-.116-1.488.091-1.681.297-.204.219-.359.679-.242 1.614.091.726.303 1.231.618 1.553.299.305.784.54 1.638.54.922 0 1.28-.198 1.442-.379.179-.2.308-.578.308-1.371 0-.765-.123-1.242-.37-1.554-.233-.296-.693-.587-1.713-.7Z"></path><path d="M6.25 9.037a.75.75 0 0 1 .75.75v1.501a.75.75 0 0 1-1.5 0V9.787a.75.75 0 0 1 .75-.75Zm4.25.75v1.501a.75.75 0 0 1-1.5 0V9.787a.75.75 0 0 1 1.5 0Z"></path></svg></span><span data-component="text">Code 55% faster with GitHub Copilot</span></span></button></div></div><div class="Box-sc-g0xbh4-0 VHzRk react-blob-view-header-sticky" id="repos-sticky-header"><div class="Box-sc-g0xbh4-0 ePiodO"><div class="react-blob-sticky-header"><div class="Box-sc-g0xbh4-0 kQJlnf"><div class="Box-sc-g0xbh4-0 gJICKO"><div class="Box-sc-g0xbh4-0 iZJewz"><nav data-testid="breadcrumbs" aria-labelledby="sticky-breadcrumb-heading" id="sticky-breadcrumb" class="Box-sc-g0xbh4-0 kzRgrI"><h2 class="Heading__StyledHeading-sc-1c1dgg0-0 fpGZrB sr-only" data-testid="screen-reader-heading" id="sticky-breadcrumb-heading">Breadcrumbs</h2><ol class="Box-sc-g0xbh4-0 cmAPIB"><li class="Box-sc-g0xbh4-0 jwXCBK"><a sx="[object Object]" data-testid="breadcrumbs-repo-link" class="Link__StyledLink-sc-14289xe-0 ipyMWB" href="/MathforDataScience/DSR_Statistics1/tree/main">DSR_Statistics1</a></li><li class="Box-sc-g0xbh4-0 jwXCBK"><span aria-hidden="true" class="Text-sc-17v1xeu-0 cYjMDB">/</span><a sx="[object Object]" class="Link__StyledLink-sc-14289xe-0 jmkYvv" href="/MathforDataScience/DSR_Statistics1/tree/main/7_%20Hypotheses">7_ Hypotheses</a></li></ol></nav><div data-testid="breadcrumbs-filename" class="Box-sc-g0xbh4-0 jwXCBK"><span aria-hidden="true" class="Text-sc-17v1xeu-0 cYjMDB">/</span><h1 tabindex="-1" id="sticky-file-name-id" class="Heading__StyledHeading-sc-1c1dgg0-0 eDVSKn">7_4 F-test.ipynb</h1></div></div><button style="--button-color:fg.default" type="button" data-loading="false" data-size="small" aria-describedby=":R4mfaladaeb:-loading-announcement" class="types__StyledButton-sc-ws60qy-0 bDTxaK"><span data-component="buttonContent" class="Box-sc-g0xbh4-0 kkrdEu"><span data-component="leadingVisual" class="Box-sc-g0xbh4-0 trpoQ"><svg aria-hidden="true" focusable="false" role="img" class="octicon octicon-arrow-up" viewBox="0 0 16 16" width="16" height="16" fill="currentColor" style="display:inline-block;user-select:none;vertical-align:text-bottom;overflow:visible"><path d="M3.47 7.78a.75.75 0 0 1 0-1.06l4.25-4.25a.75.75 0 0 1 1.06 0l4.25 4.25a.751.751 0 0 1-.018 1.042.751.751 0 0 1-1.042.018L9 4.81v7.44a.75.75 0 0 1-1.5 0V4.81L4.53 7.78a.75.75 0 0 1-1.06 0Z"></path></svg></span><span data-component="text">Top</span></span></button></div></div></div><div class="Box-sc-g0xbh4-0 jfjHXm"><h2 class="Heading__StyledHeading-sc-1c1dgg0-0 fpGZrB sr-only" data-testid="screen-reader-heading">File metadata and controls</h2><div class="Box-sc-g0xbh4-0 bfkNRF"><ul aria-label="File view" class="SegmentedControl__SegmentedControlList-sc-1rzig82-0 ehDMvU"><li class="Box-sc-g0xbh4-0 fXBLEV"><button aria-current="true" type="button" class="SegmentedControlButton__SegmentedControlButtonStyled-sc-8lkgxl-0 jEdVkE"><span class="segmentedControl-content"><div class="Box-sc-g0xbh4-0 segmentedControl-text">Preview</div></span></button></li><li class="Box-sc-g0xbh4-0 gMPsNT"><button aria-current="false" type="button" class="SegmentedControlButton__SegmentedControlButtonStyled-sc-8lkgxl-0 TvbfG"><span class="segmentedControl-content"><div class="Box-sc-g0xbh4-0 segmentedControl-text">Code</div></span></button></li><li class="Box-sc-g0xbh4-0 gMPsNT"><button aria-current="false" type="button" class="SegmentedControlButton__SegmentedControlButtonStyled-sc-8lkgxl-0 fIktcg"><span class="segmentedControl-content"><div class="Box-sc-g0xbh4-0 segmentedControl-text">Blame</div></span></button></li></ul><button hidden="" data-testid="" data-hotkey-scope="read-only-cursor-text-area"></button><button hidden="" data-testid="" data-hotkey-scope="read-only-cursor-text-area"></button><button hidden="" data-testid="" data-hotkey-scope="read-only-cursor-text-area"></button><div class="Box-sc-g0xbh4-0 fleZSW react-code-size-details-in-header"><div class="Box-sc-g0xbh4-0 BnySK text-mono"><div title="95.5 KB" data-testid="blob-size" class="Truncate__StyledTruncate-sc-23o1d2-0 fUpWeN"><span>298 lines (298 loc) · 95.5 KB</span></div></div></div><div class="react-code-size-details-in-header"><button style="--button-color:fg.default" type="button" aria-haspopup="true" aria-expanded="false" tabindex="0" data-testid="copilot-popover-button" data-loading="false" data-size="small" aria-describedby=":Rt6faladaeb:-loading-announcement" id=":Rt6faladaeb:" class="types__StyledButton-sc-ws60qy-0 jKgwhU"><span data-component="buttonContent" class="Box-sc-g0xbh4-0 kkrdEu"><span data-component="leadingVisual" class="Box-sc-g0xbh4-0 trpoQ"><svg aria-hidden="true" focusable="false" role="img" class="octicon octicon-copilot" viewBox="0 0 16 16" width="16" height="16" fill="currentColor" style="display:inline-block;user-select:none;vertical-align:text-bottom;overflow:visible"><path d="M7.998 15.035c-4.562 0-7.873-2.914-7.998-3.749V9.338c.085-.628.677-1.686 1.588-2.065.013-.07.024-.143.036-.218.029-.183.06-.384.126-.612-.201-.508-.254-1.084-.254-1.656 0-.87.128-1.769.693-2.484.579-.733 1.494-1.124 2.724-1.261 1.206-.134 2.262.034 2.944.765.05.053.096.108.139.165.044-.057.094-.112.143-.165.682-.731 1.738-.899 2.944-.765 1.23.137 2.145.528 2.724 1.261.566.715.693 1.614.693 2.484 0 .572-.053 1.148-.254 1.656.066.228.098.429.126.612.012.076.024.148.037.218.924.385 1.522 1.471 1.591 2.095v1.872c0 .766-3.351 3.795-8.002 3.795Zm0-1.485c2.28 0 4.584-1.11 5.002-1.433V7.862l-.023-.116c-.49.21-1.075.291-1.727.291-1.146 0-2.059-.327-2.71-.991A3.222 3.222 0 0 1 8 6.303a3.24 3.24 0 0 1-.544.743c-.65.664-1.563.991-2.71.991-.652 0-1.236-.081-1.727-.291l-.023.116v4.255c.419.323 2.722 1.433 5.002 1.433ZM6.762 2.83c-.193-.206-.637-.413-1.682-.297-1.019.113-1.479.404-1.713.7-.247.312-.369.789-.369 1.554 0 .793.129 1.171.308 1.371.162.181.519.379 1.442.379.853 0 1.339-.235 1.638-.54.315-.322.527-.827.617-1.553.117-.935-.037-1.395-.241-1.614Zm4.155-.297c-1.044-.116-1.488.091-1.681.297-.204.219-.359.679-.242 1.614.091.726.303 1.231.618 1.553.299.305.784.54 1.638.54.922 0 1.28-.198 1.442-.379.179-.2.308-.578.308-1.371 0-.765-.123-1.242-.37-1.554-.233-.296-.693-.587-1.713-.7Z"></path><path d="M6.25 9.037a.75.75 0 0 1 .75.75v1.501a.75.75 0 0 1-1.5 0V9.787a.75.75 0 0 1 .75-.75Zm4.25.75v1.501a.75.75 0 0 1-1.5 0V9.787a.75.75 0 0 1 1.5 0Z"></path></svg></span><span data-component="text">Code 55% faster with GitHub Copilot</span></span></button></div></div><div class="Box-sc-g0xbh4-0 iBylDf"><div class="Box-sc-g0xbh4-0 kSGBPx react-blob-header-edit-and-raw-actions"><div class="ButtonGroup-sc-1gxhls1-0 cpVEZe"><a href="https://github.com/MathforDataScience/DSR_Statistics1/raw/main/7_%20Hypotheses/7_4%20F-test.ipynb" data-testid="raw-button" data-loading="false" data-no-visuals="true" data-size="small" aria-describedby=":R1b76faladaeb:-loading-announcement" class="types__StyledButton-sc-ws60qy-0 jUNlHb"><span data-component="buttonContent" class="Box-sc-g0xbh4-0 kkrdEu"><span data-component="text">Raw</span></span></a><button data-component="IconButton" type="button" aria-label="Copy raw content" data-testid="copy-raw-button" data-loading="false" data-no-visuals="true" data-size="small" aria-describedby=":R6b76faladaeb:-loading-announcement" class="types__StyledButton-sc-ws60qy-0 feqCqy"><svg aria-hidden="true" focusable="false" role="img" class="octicon octicon-copy" viewBox="0 0 16 16" width="16" height="16" fill="currentColor" style="display:inline-block;user-select:none;vertical-align:text-bottom;overflow:visible"><path d="M0 6.75C0 5.784.784 5 1.75 5h1.5a.75.75 0 0 1 0 1.5h-1.5a.25.25 0 0 0-.25.25v7.5c0 .138.112.25.25.25h7.5a.25.25 0 0 0 .25-.25v-1.5a.75.75 0 0 1 1.5 0v1.5A1.75 1.75 0 0 1 9.25 16h-7.5A1.75 1.75 0 0 1 0 14.25Z"></path><path d="M5 1.75C5 .784 5.784 0 6.75 0h7.5C15.216 0 16 .784 16 1.75v7.5A1.75 1.75 0 0 1 14.25 11h-7.5A1.75 1.75 0 0 1 5 9.25Zm1.75-.25a.25.25 0 0 0-.25.25v7.5c0 .138.112.25.25.25h7.5a.25.25 0 0 0 .25-.25v-7.5a.25.25 0 0 0-.25-.25Z"></path></svg></button><span role="tooltip" aria-label="Download raw file" id=":R3b76faladaeb:" class="Tooltip__TooltipBase-sc-17tf59c-0 gNgnVl tooltipped-n"><button data-component="IconButton" type="button" aria-label="Download raw content" data-testid="download-raw-button" data-loading="false" data-no-visuals="true" data-size="small" aria-describedby=":R7b76faladaeb:-loading-announcement" class="types__StyledButton-sc-ws60qy-0 bfWknm"><svg aria-hidden="true" focusable="false" role="img" class="octicon octicon-download" viewBox="0 0 16 16" width="16" height="16" fill="currentColor" style="display:inline-block;user-select:none;vertical-align:text-bottom;overflow:visible"><path d="M2.75 14A1.75 1.75 0 0 1 1 12.25v-2.5a.75.75 0 0 1 1.5 0v2.5c0 .138.112.25.25.25h10.5a.25.25 0 0 0 .25-.25v-2.5a.75.75 0 0 1 1.5 0v2.5A1.75 1.75 0 0 1 13.25 14Z"></path><path d="M7.25 7.689V2a.75.75 0 0 1 1.5 0v5.689l1.97-1.969a.749.749 0 1 1 1.06 1.06l-3.25 3.25a.749.749 0 0 1-1.06 0L4.22 6.78a.749.749 0 1 1 1.06-1.06l1.97 1.969Z"></path></svg></button></span></div><button hidden="" data-testid="raw-button-shortcut" data-hotkey-scope="read-only-cursor-text-area"></button><button hidden="" data-testid="copy-raw-button-shortcut" data-hotkey-scope="read-only-cursor-text-area"></button><button hidden="" data-testid="download-raw-button-shortcut" data-hotkey-scope="read-only-cursor-text-area"></button><a class="Link__StyledLink-sc-14289xe-0 dheQRw js-github-dev-shortcut d-none" href="https://github.dev/"></a><button hidden="" data-testid="" data-hotkey-scope="read-only-cursor-text-area"></button><a class="Link__StyledLink-sc-14289xe-0 dheQRw js-github-dev-new-tab-shortcut d-none" href="https://github.dev/" target="_blank"></a><button hidden="" data-testid="" data-hotkey-scope="read-only-cursor-text-area"></button><div class="ButtonGroup-sc-1gxhls1-0 cpVEZe"><span role="tooltip" aria-label="Edit this file" id=":R1l76faladaeb:" class="Tooltip__TooltipBase-sc-17tf59c-0 gNgnVl tooltipped-nw"><a sx="[object Object]" data-component="IconButton" type="button" aria-label="Edit file" data-testid="edit-button" data-loading="false" data-no-visuals="true" data-size="small" aria-describedby=":R5l76faladaeb:-loading-announcement" class="types__StyledButton-sc-ws60qy-0 eBqjKw" href="/MathforDataScience/DSR_Statistics1/edit/main/7_%20Hypotheses/7_4%20F-test.ipynb"><svg aria-hidden="true" focusable="false" role="img" class="octicon octicon-pencil" viewBox="0 0 16 16" width="16" height="16" fill="currentColor" style="display:inline-block;user-select:none;vertical-align:text-bottom;overflow:visible"><path d="M11.013 1.427a1.75 1.75 0 0 1 2.474 0l1.086 1.086a1.75 1.75 0 0 1 0 2.474l-8.61 8.61c-.21.21-.47.364-.756.445l-3.251.93a.75.75 0 0 1-.927-.928l.929-3.25c.081-.286.235-.547.445-.758l8.61-8.61Zm.176 4.823L9.75 4.81l-6.286 6.287a.253.253 0 0 0-.064.108l-.558 1.953 1.953-.558a.253.253 0 0 0 .108-.064Zm1.238-3.763a.25.25 0 0 0-.354 0L10.811 3.75l1.439 1.44 1.263-1.263a.25.25 0 0 0 0-.354Z"></path></svg></a></span><button data-component="IconButton" type="button" aria-label="More edit options" data-testid="more-edit-button" aria-haspopup="true" aria-expanded="false" tabindex="0" data-loading="false" data-no-visuals="true" data-size="small" aria-describedby=":R2l76faladaeb:-loading-announcement" id=":R2l76faladaeb:" class="types__StyledButton-sc-ws60qy-0 feqCqy"><svg aria-hidden="true" focusable="false" role="img" class="octicon octicon-triangle-down" viewBox="0 0 16 16" width="16" height="16" fill="currentColor" style="display:inline-block;user-select:none;vertical-align:text-bottom;overflow:visible"><path d="m4.427 7.427 3.396 3.396a.25.25 0 0 0 .354 0l3.396-3.396A.25.25 0 0 0 11.396 7H4.604a.25.25 0 0 0-.177.427Z"></path></svg></button></div><button hidden="" data-testid="" data-hotkey="e,Shift+E" data-hotkey-scope="read-only-cursor-text-area"></button></div><div class="react-blob-header-edit-and-raw-actions-combined"><button data-component="IconButton" type="button" aria-label="Edit and raw actions" class="types__StyledButton-sc-ws60qy-0 eEspxX js-blob-dropdown-click" title="More file actions" data-testid="more-file-actions-button" aria-haspopup="true" aria-expanded="false" tabindex="0" data-loading="false" data-no-visuals="true" data-size="small" aria-describedby=":R5v6faladaeb:-loading-announcement" id=":R5v6faladaeb:"><svg aria-hidden="true" focusable="false" role="img" class="octicon octicon-kebab-horizontal" viewBox="0 0 16 16" width="16" height="16" fill="currentColor" style="display:inline-block;user-select:none;vertical-align:text-bottom;overflow:visible"><path d="M8 9a1.5 1.5 0 1 0 0-3 1.5 1.5 0 0 0 0 3ZM1.5 9a1.5 1.5 0 1 0 0-3 1.5 1.5 0 0 0 0 3Zm13 0a1.5 1.5 0 1 0 0-3 1.5 1.5 0 0 0 0 3Z"></path></svg></button></div></div></div></div><div></div></div><div class="Box-sc-g0xbh4-0 ytOJl"><section aria-labelledby="file-name-id-wide file-name-id-mobile" class="Box-sc-g0xbh4-0 eJsjkT"><!--$!--><template></template><div data-testid="suspense-spinner" class="Box-sc-g0xbh4-0 bAzdCq"><span class="Box-sc-g0xbh4-0 ioTNdO"><svg height="32px" width="32px" viewBox="0 0 16 16" fill="none" aria-hidden="true" aria-label="Loading" class="Spinner__StyledSpinner-sc-1knt686-0 hPEVNM"><circle cx="8" cy="8" r="7" stroke="currentColor" stroke-opacity="0.25" stroke-width="2" vector-effect="non-scaling-stroke"></circle><path d="M15 8a7.002 7.002 0 00-7-7" stroke="currentColor" stroke-width="2" stroke-linecap="round" vector-effect="non-scaling-stroke"></path></svg></span></div><!--/$--></section></div></div></div> <!-- --> <!-- --> </div></div></div><div class="Box-sc-g0xbh4-0"></div></div></div></div></div><div id="find-result-marks-container" class="Box-sc-g0xbh4-0 aZrVR"></div><button hidden="" data-testid="" data-hotkey-scope="read-only-cursor-text-area"></button><button hidden=""></button></div> <!-- --> <!-- --> <script type="application/json" id="__PRIMER_DATA_:R0:__">{"resolvedServerColorMode":"day"}</script></div>
</react-app>
</turbo-frame>



  </div>

</turbo-frame>

    </main>
  </div>

  </div>

          <footer class="footer pt-8 pb-6 f6 color-fg-muted p-responsive" role="contentinfo" >
  <h2 class='sr-only'>Footer</h2>

  


  <div class="d-flex flex-justify-center flex-items-center flex-column-reverse flex-lg-row flex-wrap flex-lg-nowrap">
    <div class="d-flex flex-items-center flex-shrink-0 mx-2">
      <a aria-label="Homepage" title="GitHub" class="footer-octicon mr-2" href="https://github.com">
        <svg aria-hidden="true" height="24" viewBox="0 0 24 24" version="1.1" width="24" data-view-component="true" class="octicon octicon-mark-github">
    <path d="M12.5.75C6.146.75 1 5.896 1 12.25c0 5.089 3.292 9.387 7.863 10.91.575.101.79-.244.79-.546 0-.273-.014-1.178-.014-2.142-2.889.532-3.636-.704-3.866-1.35-.13-.331-.69-1.352-1.18-1.625-.402-.216-.977-.748-.014-.762.906-.014 1.553.834 1.769 1.179 1.035 1.74 2.688 1.25 3.349.948.1-.747.402-1.25.733-1.538-2.559-.287-5.232-1.279-5.232-5.678 0-1.25.445-2.285 1.178-3.09-.115-.288-.517-1.467.115-3.048 0 0 .963-.302 3.163 1.179.92-.259 1.897-.388 2.875-.388.977 0 1.955.13 2.875.388 2.2-1.495 3.162-1.179 3.162-1.179.633 1.581.23 2.76.115 3.048.733.805 1.179 1.825 1.179 3.09 0 4.413-2.688 5.39-5.247 5.678.417.36.776 1.05.776 2.128 0 1.538-.014 2.774-.014 3.162 0 .302.216.662.79.547C20.709 21.637 24 17.324 24 12.25 24 5.896 18.854.75 12.5.75Z"></path>
</svg>
</a>
      <span>
        &copy; 2024 GitHub,&nbsp;Inc.
      </span>
    </div>

    <nav aria-label="Footer">
      <h3 class="sr-only" id="sr-footer-heading">Footer navigation</h3>

      <ul class="list-style-none d-flex flex-justify-center flex-wrap mb-2 mb-lg-0" aria-labelledby="sr-footer-heading">

          <li class="mx-2">
            <a data-analytics-event="{&quot;category&quot;:&quot;Footer&quot;,&quot;action&quot;:&quot;go to Terms&quot;,&quot;label&quot;:&quot;text:terms&quot;}" href="https://docs.github.com/site-policy/github-terms/github-terms-of-service" data-view-component="true" class="Link--secondary Link">Terms</a>
          </li>

          <li class="mx-2">
            <a data-analytics-event="{&quot;category&quot;:&quot;Footer&quot;,&quot;action&quot;:&quot;go to privacy&quot;,&quot;label&quot;:&quot;text:privacy&quot;}" href="https://docs.github.com/site-policy/privacy-policies/github-privacy-statement" data-view-component="true" class="Link--secondary Link">Privacy</a>
          </li>

          <li class="mx-2">
            <a data-analytics-event="{&quot;category&quot;:&quot;Footer&quot;,&quot;action&quot;:&quot;go to security&quot;,&quot;label&quot;:&quot;text:security&quot;}" href="https://github.com/security" data-view-component="true" class="Link--secondary Link">Security</a>
          </li>

          <li class="mx-2">
            <a data-analytics-event="{&quot;category&quot;:&quot;Footer&quot;,&quot;action&quot;:&quot;go to status&quot;,&quot;label&quot;:&quot;text:status&quot;}" href="https://www.githubstatus.com/" data-view-component="true" class="Link--secondary Link">Status</a>
          </li>

          <li class="mx-2">
            <a data-analytics-event="{&quot;category&quot;:&quot;Footer&quot;,&quot;action&quot;:&quot;go to docs&quot;,&quot;label&quot;:&quot;text:docs&quot;}" href="https://docs.github.com/" data-view-component="true" class="Link--secondary Link">Docs</a>
          </li>

          <li class="mx-2">
            <a data-analytics-event="{&quot;category&quot;:&quot;Footer&quot;,&quot;action&quot;:&quot;go to contact&quot;,&quot;label&quot;:&quot;text:contact&quot;}" href="https://support.github.com?tags=dotcom-footer" data-view-component="true" class="Link--secondary Link">Contact</a>
          </li>

          <li class="mr-3" >
  <cookie-consent-link>
    <button
      type="button"
      class="Link--secondary underline-on-hover border-0 p-0 color-bg-transparent"
      data-action="click:cookie-consent-link#showConsentManagement"
      data-analytics-event="{&quot;location&quot;:&quot;footer&quot;,&quot;action&quot;:&quot;cookies&quot;,&quot;context&quot;:&quot;subfooter&quot;,&quot;tag&quot;:&quot;link&quot;,&quot;label&quot;:&quot;cookies_link_subfooter_footer&quot;}"
    >
      Manage cookies
    </button>
  </cookie-consent-link>
</li>

<li class="mr-3">
  <cookie-consent-link>
    <button
      type="button"
      class="Link--secondary underline-on-hover border-0 p-0 color-bg-transparent"
      data-action="click:cookie-consent-link#showConsentManagement"
      data-analytics-event="{&quot;location&quot;:&quot;footer&quot;,&quot;action&quot;:&quot;dont_share_info&quot;,&quot;context&quot;:&quot;subfooter&quot;,&quot;tag&quot;:&quot;link&quot;,&quot;label&quot;:&quot;dont_share_info_link_subfooter_footer&quot;}"
    >
      Do not share my personal information
    </button>
  </cookie-consent-link>
</li>

      </ul>
    </nav>
  </div>
</footer>




    <ghcc-consent id="ghcc" class="position-fixed bottom-0 left-0" style="z-index: 999999" data-initial-cookie-consent-allowed="" data-cookie-consent-required="true"></ghcc-consent>


  <div id="ajax-error-message" class="ajax-error-message flash flash-error" hidden>
    <svg aria-hidden="true" height="16" viewBox="0 0 16 16" version="1.1" width="16" data-view-component="true" class="octicon octicon-alert">
    <path d="M6.457 1.047c.659-1.234 2.427-1.234 3.086 0l6.082 11.378A1.75 1.75 0 0 1 14.082 15H1.918a1.75 1.75 0 0 1-1.543-2.575Zm1.763.707a.25.25 0 0 0-.44 0L1.698 13.132a.25.25 0 0 0 .22.368h12.164a.25.25 0 0 0 .22-.368Zm.53 3.996v2.5a.75.75 0 0 1-1.5 0v-2.5a.75.75 0 0 1 1.5 0ZM9 11a1 1 0 1 1-2 0 1 1 0 0 1 2 0Z"></path>
</svg>
    <button type="button" class="flash-close js-ajax-error-dismiss" aria-label="Dismiss error">
      <svg aria-hidden="true" height="16" viewBox="0 0 16 16" version="1.1" width="16" data-view-component="true" class="octicon octicon-x">
    <path d="M3.72 3.72a.75.75 0 0 1 1.06 0L8 6.94l3.22-3.22a.749.749 0 0 1 1.275.326.749.749 0 0 1-.215.734L9.06 8l3.22 3.22a.749.749 0 0 1-.326 1.275.749.749 0 0 1-.734-.215L8 9.06l-3.22 3.22a.751.751 0 0 1-1.042-.018.751.751 0 0 1-.018-1.042L6.94 8 3.72 4.78a.75.75 0 0 1 0-1.06Z"></path>
</svg>
    </button>
    You can’t perform that action at this time.
  </div>

    <template id="site-details-dialog">
  <details class="details-reset details-overlay details-overlay-dark lh-default color-fg-default hx_rsm" open>
    <summary role="button" aria-label="Close dialog"></summary>
    <details-dialog class="Box Box--overlay d-flex flex-column anim-fade-in fast hx_rsm-dialog hx_rsm-modal">
      <button class="Box-btn-octicon m-0 btn-octicon position-absolute right-0 top-0" type="button" aria-label="Close dialog" data-close-dialog>
        <svg aria-hidden="true" height="16" viewBox="0 0 16 16" version="1.1" width="16" data-view-component="true" class="octicon octicon-x">
    <path d="M3.72 3.72a.75.75 0 0 1 1.06 0L8 6.94l3.22-3.22a.749.749 0 0 1 1.275.326.749.749 0 0 1-.215.734L9.06 8l3.22 3.22a.749.749 0 0 1-.326 1.275.749.749 0 0 1-.734-.215L8 9.06l-3.22 3.22a.751.751 0 0 1-1.042-.018.751.751 0 0 1-.018-1.042L6.94 8 3.72 4.78a.75.75 0 0 1 0-1.06Z"></path>
</svg>
      </button>
      <div class="octocat-spinner my-6 js-details-dialog-spinner"></div>
    </details-dialog>
  </details>
</template>

    <div class="Popover js-hovercard-content position-absolute" style="display: none; outline: none;">
  <div class="Popover-message Popover-message--bottom-left Popover-message--large Box color-shadow-large" style="width:360px;">
  </div>
</div>

    <template id="snippet-clipboard-copy-button">
  <div class="zeroclipboard-container position-absolute right-0 top-0">
    <clipboard-copy aria-label="Copy" class="ClipboardButton btn js-clipboard-copy m-2 p-0" data-copy-feedback="Copied!" data-tooltip-direction="w">
      <svg aria-hidden="true" height="16" viewBox="0 0 16 16" version="1.1" width="16" data-view-component="true" class="octicon octicon-copy js-clipboard-copy-icon m-2">
    <path d="M0 6.75C0 5.784.784 5 1.75 5h1.5a.75.75 0 0 1 0 1.5h-1.5a.25.25 0 0 0-.25.25v7.5c0 .138.112.25.25.25h7.5a.25.25 0 0 0 .25-.25v-1.5a.75.75 0 0 1 1.5 0v1.5A1.75 1.75 0 0 1 9.25 16h-7.5A1.75 1.75 0 0 1 0 14.25Z"></path><path d="M5 1.75C5 .784 5.784 0 6.75 0h7.5C15.216 0 16 .784 16 1.75v7.5A1.75 1.75 0 0 1 14.25 11h-7.5A1.75 1.75 0 0 1 5 9.25Zm1.75-.25a.25.25 0 0 0-.25.25v7.5c0 .138.112.25.25.25h7.5a.25.25 0 0 0 .25-.25v-7.5a.25.25 0 0 0-.25-.25Z"></path>
</svg>
      <svg aria-hidden="true" height="16" viewBox="0 0 16 16" version="1.1" width="16" data-view-component="true" class="octicon octicon-check js-clipboard-check-icon color-fg-success d-none m-2">
    <path d="M13.78 4.22a.75.75 0 0 1 0 1.06l-7.25 7.25a.75.75 0 0 1-1.06 0L2.22 9.28a.751.751 0 0 1 .018-1.042.751.751 0 0 1 1.042-.018L6 10.94l6.72-6.72a.75.75 0 0 1 1.06 0Z"></path>
</svg>
    </clipboard-copy>
  </div>
</template>
<template id="snippet-clipboard-copy-button-unpositioned">
  <div class="zeroclipboard-container">
    <clipboard-copy aria-label="Copy" class="ClipboardButton btn btn-invisible js-clipboard-copy m-2 p-0 d-flex flex-justify-center flex-items-center" data-copy-feedback="Copied!" data-tooltip-direction="w">
      <svg aria-hidden="true" height="16" viewBox="0 0 16 16" version="1.1" width="16" data-view-component="true" class="octicon octicon-copy js-clipboard-copy-icon">
    <path d="M0 6.75C0 5.784.784 5 1.75 5h1.5a.75.75 0 0 1 0 1.5h-1.5a.25.25 0 0 0-.25.25v7.5c0 .138.112.25.25.25h7.5a.25.25 0 0 0 .25-.25v-1.5a.75.75 0 0 1 1.5 0v1.5A1.75 1.75 0 0 1 9.25 16h-7.5A1.75 1.75 0 0 1 0 14.25Z"></path><path d="M5 1.75C5 .784 5.784 0 6.75 0h7.5C15.216 0 16 .784 16 1.75v7.5A1.75 1.75 0 0 1 14.25 11h-7.5A1.75 1.75 0 0 1 5 9.25Zm1.75-.25a.25.25 0 0 0-.25.25v7.5c0 .138.112.25.25.25h7.5a.25.25 0 0 0 .25-.25v-7.5a.25.25 0 0 0-.25-.25Z"></path>
</svg>
      <svg aria-hidden="true" height="16" viewBox="0 0 16 16" version="1.1" width="16" data-view-component="true" class="octicon octicon-check js-clipboard-check-icon color-fg-success d-none">
    <path d="M13.78 4.22a.75.75 0 0 1 0 1.06l-7.25 7.25a.75.75 0 0 1-1.06 0L2.22 9.28a.751.751 0 0 1 .018-1.042.751.751 0 0 1 1.042-.018L6 10.94l6.72-6.72a.75.75 0 0 1 1.06 0Z"></path>
</svg>
    </clipboard-copy>
  </div>
</template>


    <style>
      .user-mention[href$="/MathforDataScience"] {
        color: var(--color-user-mention-fg);
        background-color: var(--bgColor-attention-muted, var(--color-attention-subtle));
        border-radius: 2px;
        margin-left: -2px;
        margin-right: -2px;
        padding: 0 2px;
      }
    </style>


    </div>

    <div id="js-global-screen-reader-notice" class="sr-only mt-n1" aria-live="polite" aria-atomic="true" ></div>
    <div id="js-global-screen-reader-notice-assertive" class="sr-only mt-n1" aria-live="assertive" aria-atomic="true"></div>
  </body>
</html>

