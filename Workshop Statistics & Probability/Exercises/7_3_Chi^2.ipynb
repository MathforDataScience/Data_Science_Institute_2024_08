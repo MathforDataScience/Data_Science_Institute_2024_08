





<!DOCTYPE html>
<html
  lang="en"
  
  data-color-mode="auto" data-light-theme="light" data-dark-theme="dark"
  data-a11y-animated-images="system" data-a11y-link-underlines="true"
  >



  <head>
    <meta charset="utf-8">
  <link rel="dns-prefetch" href="https://github.githubassets.com">
  <link rel="dns-prefetch" href="https://avatars.githubusercontent.com">
  <link rel="dns-prefetch" href="https://github-cloud.s3.amazonaws.com">
  <link rel="dns-prefetch" href="https://user-images.githubusercontent.com/">
  <link rel="preconnect" href="https://github.githubassets.com" crossorigin>
  <link rel="preconnect" href="https://avatars.githubusercontent.com">

  


  <link crossorigin="anonymous" media="all" rel="stylesheet" href="https://github.githubassets.com/assets/light-efd2f2257c96.css" /><link crossorigin="anonymous" media="all" rel="stylesheet" href="https://github.githubassets.com/assets/dark-6b1e37da2254.css" /><link data-color-theme="dark_dimmed" crossorigin="anonymous" media="all" rel="stylesheet" data-href="https://github.githubassets.com/assets/dark_dimmed-aa16bfa90fb8.css" /><link data-color-theme="dark_high_contrast" crossorigin="anonymous" media="all" rel="stylesheet" data-href="https://github.githubassets.com/assets/dark_high_contrast-f4daad25d8cf.css" /><link data-color-theme="dark_colorblind" crossorigin="anonymous" media="all" rel="stylesheet" data-href="https://github.githubassets.com/assets/dark_colorblind-a4629b2e906b.css" /><link data-color-theme="light_colorblind" crossorigin="anonymous" media="all" rel="stylesheet" data-href="https://github.githubassets.com/assets/light_colorblind-afcc3a6a38dd.css" /><link data-color-theme="light_high_contrast" crossorigin="anonymous" media="all" rel="stylesheet" data-href="https://github.githubassets.com/assets/light_high_contrast-79bca7145393.css" /><link data-color-theme="light_tritanopia" crossorigin="anonymous" media="all" rel="stylesheet" data-href="https://github.githubassets.com/assets/light_tritanopia-fe4137b54b26.css" /><link data-color-theme="dark_tritanopia" crossorigin="anonymous" media="all" rel="stylesheet" data-href="https://github.githubassets.com/assets/dark_tritanopia-1911f0cf0db4.css" />
    <link crossorigin="anonymous" media="all" rel="stylesheet" href="https://github.githubassets.com/assets/primer-primitives-8500c2c7ce5f.css" />
    <link crossorigin="anonymous" media="all" rel="stylesheet" href="https://github.githubassets.com/assets/primer-bbda46ca867f.css" />
    <link crossorigin="anonymous" media="all" rel="stylesheet" href="https://github.githubassets.com/assets/global-6f01bc73955b.css" />
    <link crossorigin="anonymous" media="all" rel="stylesheet" href="https://github.githubassets.com/assets/github-cf4e90581e80.css" />
  <link crossorigin="anonymous" media="all" rel="stylesheet" href="https://github.githubassets.com/assets/repository-992e95451f25.css" />
<link crossorigin="anonymous" media="all" rel="stylesheet" href="https://github.githubassets.com/assets/code-34406d39e629.css" />

  


  <script type="application/json" id="client-env">{"locale":"en","featureFlags":["code_vulnerability_scanning","copilot_beta_features_opt_in","copilot_chat_static_thread_suggestions","copilot_completion_new_domain","copilot_conversational_ux_history_refs","copilot_followup_to_agent","copilot_implicit_context","copilot_smell_icebreaker_ux","custom_inp","experimentation_azure_variant_endpoint","failbot_handle_non_errors","filter_prefetch_suggestions","geojson_azure_maps","ghas_copilot_agents_ga_web_updates","ghost_pilot_confidence_scores","ghost_pilot_screen_reader","hovercard_accessibility","hovercard_longer_activate_timeout","marketing_pages_search_explore_provider","remove_child_patch","report_hydro_web_vitals","repository_suggester_elastic_search","sample_network_conn_type","site_metered_billing_update","ignore_hidden_in_quote_reply"]}</script>
<script crossorigin="anonymous" defer="defer" type="application/javascript" src="https://github.githubassets.com/assets/wp-runtime-6fbed448f391.js"></script>
<script crossorigin="anonymous" defer="defer" type="application/javascript" src="https://github.githubassets.com/assets/vendors-node_modules_dompurify_dist_purify_js-89a69c248502.js"></script>
<script crossorigin="anonymous" defer="defer" type="application/javascript" src="https://github.githubassets.com/assets/vendors-node_modules_oddbird_popover-polyfill_dist_popover_js-56729c905fe2.js"></script>
<script crossorigin="anonymous" defer="defer" type="application/javascript" src="https://github.githubassets.com/assets/vendors-node_modules_github_mini-throttle_dist_index_js-node_modules_smoothscroll-polyfill_di-75db2e-686488490524.js"></script>
<script crossorigin="anonymous" defer="defer" type="application/javascript" src="https://github.githubassets.com/assets/environment-cd098098ff2e.js"></script>
<script crossorigin="anonymous" defer="defer" type="application/javascript" src="https://github.githubassets.com/assets/vendors-node_modules_github_selector-observer_dist_index_esm_js-f690fd9ae3d5.js"></script>
<script crossorigin="anonymous" defer="defer" type="application/javascript" src="https://github.githubassets.com/assets/vendors-node_modules_primer_behaviors_dist_esm_focus-zone_js-c9086a4fb62b.js"></script>
<script crossorigin="anonymous" defer="defer" type="application/javascript" src="https://github.githubassets.com/assets/vendors-node_modules_github_relative-time-element_dist_index_js-f9b958f5f2df.js"></script>
<script crossorigin="anonymous" defer="defer" type="application/javascript" src="https://github.githubassets.com/assets/vendors-node_modules_primer_behaviors_dist_esm_anchored-position_js-node_modules_fzy_js_index-05960a-797b1227c4b8.js"></script>
<script crossorigin="anonymous" defer="defer" type="application/javascript" src="https://github.githubassets.com/assets/vendors-node_modules_github_auto-complete-element_dist_index_js-node_modules_github_details-d-ed9a97-841122a1e9d4.js"></script>
<script crossorigin="anonymous" defer="defer" type="application/javascript" src="https://github.githubassets.com/assets/vendors-node_modules_github_text-expander-element_dist_index_js-cd48220d74d5.js"></script>
<script crossorigin="anonymous" defer="defer" type="application/javascript" src="https://github.githubassets.com/assets/vendors-node_modules_github_mini-throttle_dist_index_js-node_modules_delegated-events_dist_in-3efda3-701acb69193f.js"></script>
<script crossorigin="anonymous" defer="defer" type="application/javascript" src="https://github.githubassets.com/assets/vendors-node_modules_github_filter-input-element_dist_index_js-node_modules_github_remote-inp-2e8678-34feeec9c894.js"></script>
<script crossorigin="anonymous" defer="defer" type="application/javascript" src="https://github.githubassets.com/assets/vendors-node_modules_github_catalyst_lib_index_js-node_modules_github_clipboard-copy-element_-782ca5-54763cd55b96.js"></script>
<script crossorigin="anonymous" defer="defer" type="application/javascript" src="https://github.githubassets.com/assets/vendors-node_modules_github_file-attachment-element_dist_index_js-node_modules_primer_view-co-3959a9-5779869d7165.js"></script>
<script crossorigin="anonymous" defer="defer" type="application/javascript" src="https://github.githubassets.com/assets/app_assets_modules_github_onfocus_ts-ui_packages_trusted-types-policies_policy_ts-ui_packages-6fe316-9d50d6f10c3d.js"></script>
<script crossorigin="anonymous" defer="defer" type="application/javascript" src="https://github.githubassets.com/assets/github-elements-074e91131d8f.js"></script>
<script crossorigin="anonymous" defer="defer" type="application/javascript" src="https://github.githubassets.com/assets/element-registry-a86c410c86af.js"></script>
<script crossorigin="anonymous" defer="defer" type="application/javascript" src="https://github.githubassets.com/assets/vendors-node_modules_github_catalyst_lib_index_js-node_modules_github_hydro-analytics-client_-7901e7-dc88587c14ed.js"></script>
<script crossorigin="anonymous" defer="defer" type="application/javascript" src="https://github.githubassets.com/assets/vendors-node_modules_braintree_browser-detection_dist_browser-detection_js-node_modules_stack-68835d-a18220f1db8d.js"></script>
<script crossorigin="anonymous" defer="defer" type="application/javascript" src="https://github.githubassets.com/assets/vendors-node_modules_lit-html_lit-html_js-ce7225a304c5.js"></script>
<script crossorigin="anonymous" defer="defer" type="application/javascript" src="https://github.githubassets.com/assets/vendors-node_modules_github_mini-throttle_dist_index_js-node_modules_morphdom_dist_morphdom-e-7c534c-f8a5485c982a.js"></script>
<script crossorigin="anonymous" defer="defer" type="application/javascript" src="https://github.githubassets.com/assets/vendors-node_modules_github_turbo_dist_turbo_es2017-esm_js-858e043fcf76.js"></script>
<script crossorigin="anonymous" defer="defer" type="application/javascript" src="https://github.githubassets.com/assets/vendors-node_modules_github_remote-form_dist_index_js-node_modules_delegated-events_dist_inde-893f9f-6cf3320416b8.js"></script>
<script crossorigin="anonymous" defer="defer" type="application/javascript" src="https://github.githubassets.com/assets/vendors-node_modules_scroll-anchoring_dist_scroll-anchoring_esm_js-node_modules_github_hotkey-1a1d91-fa9f29a8514b.js"></script>
<script crossorigin="anonymous" defer="defer" type="application/javascript" src="https://github.githubassets.com/assets/vendors-node_modules_color-convert_index_js-0e07cc183eed.js"></script>
<script crossorigin="anonymous" defer="defer" type="application/javascript" src="https://github.githubassets.com/assets/vendors-node_modules_github_session-resume_dist_index_js-node_modules_primer_behaviors_dist_e-ac74c6-5e03381c44b5.js"></script>
<script crossorigin="anonymous" defer="defer" type="application/javascript" src="https://github.githubassets.com/assets/vendors-node_modules_primer_behaviors_dist_esm_dimensions_js-node_modules_github_jtml_lib_index_js-53b423ede32a.js"></script>
<script crossorigin="anonymous" defer="defer" type="application/javascript" src="https://github.githubassets.com/assets/vendors-node_modules_github_quote-selection_dist_index_js-node_modules_github_textarea-autosi-9e0349-ab4976fc78a6.js"></script>
<script crossorigin="anonymous" defer="defer" type="application/javascript" src="https://github.githubassets.com/assets/ui_packages_updatable-content_updatable-content_ts-e15463ecf7e6.js"></script>
<script crossorigin="anonymous" defer="defer" type="application/javascript" src="https://github.githubassets.com/assets/app_assets_modules_github_behaviors_task-list_ts-app_assets_modules_github_onfocus_ts-app_ass-421cec-f0e1d31bff9a.js"></script>
<script crossorigin="anonymous" defer="defer" type="application/javascript" src="https://github.githubassets.com/assets/app_assets_modules_github_sticky-scroll-into-view_ts-112600808cf9.js"></script>
<script crossorigin="anonymous" defer="defer" type="application/javascript" src="https://github.githubassets.com/assets/app_assets_modules_github_behaviors_ajax-error_ts-app_assets_modules_github_behaviors_include-467754-8b1a4442f9b3.js"></script>
<script crossorigin="anonymous" defer="defer" type="application/javascript" src="https://github.githubassets.com/assets/app_assets_modules_github_behaviors_commenting_edit_ts-app_assets_modules_github_behaviors_ht-83c235-4accd4baf37d.js"></script>
<script crossorigin="anonymous" defer="defer" type="application/javascript" src="https://github.githubassets.com/assets/app_assets_modules_github_blob-anchor_ts-app_assets_modules_github_filter-sort_ts-app_assets_-6deafe-fc95155e233a.js"></script>
<script crossorigin="anonymous" defer="defer" type="application/javascript" src="https://github.githubassets.com/assets/behaviors-53cbd0d1f88e.js"></script>
<script crossorigin="anonymous" defer="defer" type="application/javascript" src="https://github.githubassets.com/assets/vendors-node_modules_delegated-events_dist_index_js-node_modules_github_catalyst_lib_index_js-06ff531-bf7e5a3732fd.js"></script>
<script crossorigin="anonymous" defer="defer" type="application/javascript" src="https://github.githubassets.com/assets/notifications-global-3ddac678adaf.js"></script>
<script crossorigin="anonymous" defer="defer" type="application/javascript" src="https://github.githubassets.com/assets/vendors-node_modules_github_mini-throttle_dist_index_js-node_modules_github_catalyst_lib_inde-dbbea9-e73b311a14f1.js"></script>
<script crossorigin="anonymous" defer="defer" type="application/javascript" src="https://github.githubassets.com/assets/app_assets_modules_github_repositories_get-repo-element_ts-4fc152f40452.js"></script>
<script crossorigin="anonymous" defer="defer" type="application/javascript" src="https://github.githubassets.com/assets/code-menu-a8d08997ac4f.js"></script>
  
  <script crossorigin="anonymous" defer="defer" type="application/javascript" src="https://github.githubassets.com/assets/react-lib-7b7b5264f6c1.js"></script>
<script crossorigin="anonymous" defer="defer" type="application/javascript" src="https://github.githubassets.com/assets/vendors-node_modules_github_mini-throttle_dist_index_js-node_modules_primer_octicons-react_di-b40d97-06881c63f955.js"></script>
<script crossorigin="anonymous" defer="defer" type="application/javascript" src="https://github.githubassets.com/assets/vendors-node_modules_primer_react_lib-esm_Box_Box_js-55a9038b54f0.js"></script>
<script crossorigin="anonymous" defer="defer" type="application/javascript" src="https://github.githubassets.com/assets/vendors-node_modules_primer_react_lib-esm_Button_Button_js-b0edbfb6a9e5.js"></script>
<script crossorigin="anonymous" defer="defer" type="application/javascript" src="https://github.githubassets.com/assets/vendors-node_modules_primer_react_lib-esm_TooltipV2_Tooltip_js-4d5019830e3c.js"></script>
<script crossorigin="anonymous" defer="defer" type="application/javascript" src="https://github.githubassets.com/assets/vendors-node_modules_clsx_dist_clsx_m_js-node_modules_primer_react_node_modules_primer_octico-c56103-e91295e60abd.js"></script>
<script crossorigin="anonymous" defer="defer" type="application/javascript" src="https://github.githubassets.com/assets/vendors-node_modules_primer_react_lib-esm_ActionList_index_js-f646728c385c.js"></script>
<script crossorigin="anonymous" defer="defer" type="application/javascript" src="https://github.githubassets.com/assets/vendors-node_modules_primer_react_lib-esm_ActionMenu_ActionMenu_js-node_modules_primer_react_-5b2420-048f91dcedb3.js"></script>
<script crossorigin="anonymous" defer="defer" type="application/javascript" src="https://github.githubassets.com/assets/vendors-node_modules_primer_react_lib-esm_Text_Text_js-node_modules_primer_react_lib-esm_Text-7845da-adcc76ee8848.js"></script>
<script crossorigin="anonymous" defer="defer" type="application/javascript" src="https://github.githubassets.com/assets/vendors-node_modules_primer_react_lib-esm_FormControl_FormControl_js-1f51ab2bdcca.js"></script>
<script crossorigin="anonymous" defer="defer" type="application/javascript" src="https://github.githubassets.com/assets/vendors-node_modules_react-router-dom_dist_index_js-c5568c29d405.js"></script>
<script crossorigin="anonymous" defer="defer" type="application/javascript" src="https://github.githubassets.com/assets/vendors-node_modules_primer_react_lib-esm_ConfirmationDialog_ConfirmationDialog_js-099e8bfead83.js"></script>
<script crossorigin="anonymous" defer="defer" type="application/javascript" src="https://github.githubassets.com/assets/vendors-node_modules_primer_react_lib-esm_Heading_Heading_js-node_modules_primer_react_lib-es-96435f-69dda7b301fe.js"></script>
<script crossorigin="anonymous" defer="defer" type="application/javascript" src="https://github.githubassets.com/assets/vendors-node_modules_primer_react_lib-esm_TreeView_TreeView_js-163f241772cf.js"></script>
<script crossorigin="anonymous" defer="defer" type="application/javascript" src="https://github.githubassets.com/assets/vendors-node_modules_primer_behaviors_dist_esm_anchored-position_js-node_modules_primer_react-4d507b-85f1dac4ce7d.js"></script>
<script crossorigin="anonymous" defer="defer" type="application/javascript" src="https://github.githubassets.com/assets/vendors-node_modules_primer_react_lib-esm_BranchName_BranchName_js-node_modules_primer_react_-5ab9a5-f0ab9737bc0f.js"></script>
<script crossorigin="anonymous" defer="defer" type="application/javascript" src="https://github.githubassets.com/assets/vendors-node_modules_primer_behaviors_dist_esm_scroll-into-view_js-node_modules_primer_react_-9a1035-bc8622e91c21.js"></script>
<script crossorigin="anonymous" defer="defer" type="application/javascript" src="https://github.githubassets.com/assets/ui_packages_react-core_create-browser-history_ts-ui_packages_safe-storage_safe-storage_ts-ui_-682c2c-7a1e99981675.js"></script>
<script crossorigin="anonymous" defer="defer" type="application/javascript" src="https://github.githubassets.com/assets/ui_packages_react-core_register-app_ts-d92f692cd90a.js"></script>
<script crossorigin="anonymous" defer="defer" type="application/javascript" src="https://github.githubassets.com/assets/ui_packages_paths_index_ts-9eb3412d85a7.js"></script>
<script crossorigin="anonymous" defer="defer" type="application/javascript" src="https://github.githubassets.com/assets/ui_packages_ref-selector_RefSelector_tsx-7b0796d1324c.js"></script>
<script crossorigin="anonymous" defer="defer" type="application/javascript" src="https://github.githubassets.com/assets/ui_packages_commit-attribution_index_ts-ui_packages_commit-checks-status_index_ts-ui_packages-f45efb-a5bb4a693481.js"></script>
<script crossorigin="anonymous" defer="defer" type="application/javascript" src="https://github.githubassets.com/assets/ui_packages_copy-to-clipboard_index_ts-ui_packages_react-core_use-feature-flag_ts-ui_packages-9fa6b6-6e8c63eb2d15.js"></script>
<script crossorigin="anonymous" defer="defer" type="application/javascript" src="https://github.githubassets.com/assets/ui_packages_code-view-shared_hooks_use-canonical-object_ts-ui_packages_code-view-shared_hooks-9a3d65-c2af6875bd6f.js"></script>
<script crossorigin="anonymous" defer="defer" type="application/javascript" src="https://github.githubassets.com/assets/ui_packages_repos-file-tree-view_repos-file-tree-view_ts-ui_packages_feature-request_FeatureR-ec5225-9dd7225109c4.js"></script>
<script crossorigin="anonymous" defer="defer" type="application/javascript" src="https://github.githubassets.com/assets/react-code-view-7e5e7030cc5b.js"></script>
<link crossorigin="anonymous" media="all" rel="stylesheet" href="https://github.githubassets.com/assets/react-code-view.234ae39ff1fa1232236c.module.css" />


  <title>DSR_Statistics1/7_ Hypotheses/7_3_Chi^2.ipynb at main · MathforDataScience/DSR_Statistics1</title>



  <meta name="route-pattern" content="/:user_id/:repository/blob/*name(/*path)" data-turbo-transient>
  <meta name="route-controller" content="blob" data-turbo-transient>
  <meta name="route-action" content="show" data-turbo-transient>

    
  <meta name="current-catalog-service-hash" content="f3abb0cc802f3d7b95fc8762b94bdcb13bf39634c40c357301c4aa1d67a256fb">


  <meta name="request-id" content="89E1:227EF1:683FF3F:6A44860:66BF7627" data-turbo-transient="true" /><meta name="html-safe-nonce" content="d44ab1c2dc7e35ebb11bbaa56f6d0aa429138892f77edd1afdd359eb1f8171be" data-turbo-transient="true" /><meta name="visitor-payload" content="eyJyZWZlcnJlciI6Imh0dHBzOi8vZ2l0aHViLmNvbS9NYXRoZm9yRGF0YVNjaWVuY2UvRFNSX1N0YXRpc3RpY3MxL3RyZWUvbWFpbi83XyUyMEh5cG90aGVzZXMiLCJyZXF1ZXN0X2lkIjoiODlFMToyMjdFRjE6NjgzRkYzRjo2QTQ0ODYwOjY2QkY3NjI3IiwidmlzaXRvcl9pZCI6IjQwMzc2OTk2ODg2OTczMjI2NjkiLCJyZWdpb25fZWRnZSI6ImZyYSIsInJlZ2lvbl9yZW5kZXIiOiJpYWQifQ==" data-turbo-transient="true" /><meta name="visitor-hmac" content="30c4df5543d01df697a9987b7c5493c4e1d4ea8da7ff70a5613c20ce846e5a48" data-turbo-transient="true" />


    <meta name="hovercard-subject-tag" content="repository:661665397" data-turbo-transient>


  <meta name="github-keyboard-shortcuts" content="repository,source-code,file-tree,copilot" data-turbo-transient="true" />
  

  <meta name="selected-link" value="repo_source" data-turbo-transient>
  <link rel="assets" href="https://github.githubassets.com/">

    <meta name="google-site-verification" content="Apib7-x98H0j5cPqHWwSMm6dNU4GmODRoqxLiDzdx9I">

<meta name="octolytics-url" content="https://collector.github.com/github/collect" /><meta name="octolytics-actor-id" content="42959174" /><meta name="octolytics-actor-login" content="MathforDataScience" /><meta name="octolytics-actor-hash" content="227888bb3935a56cecdeac8fbaeb23608047deef8e96c837701ebe2439fade7e" />

  <meta name="analytics-location" content="/&lt;user-name&gt;/&lt;repo-name&gt;/blob/show" data-turbo-transient="true" />

  




    <meta name="user-login" content="MathforDataScience">

  <link rel="sudo-modal" href="/sessions/sudo_modal">

    <meta name="viewport" content="width=device-width">

    

      <meta name="description" content="Contribute to MathforDataScience/DSR_Statistics1 development by creating an account on GitHub.">

      <link rel="search" type="application/opensearchdescription+xml" href="/opensearch.xml" title="GitHub">

    <link rel="fluid-icon" href="https://github.com/fluidicon.png" title="GitHub">
    <meta property="fb:app_id" content="1401488693436528">
    <meta name="apple-itunes-app" content="app-id=1477376905, app-argument=https://github.com/MathforDataScience/DSR_Statistics1/blob/main/7_%20Hypotheses/7_3_Chi%5E2.ipynb" />

      <meta name="twitter:image:src" content="https://opengraph.githubassets.com/49fbaa5bd9c04cc44d052c0a41db63906004c31c66bcde400f1ce0e2c136cc79/MathforDataScience/DSR_Statistics1" /><meta name="twitter:site" content="@github" /><meta name="twitter:card" content="summary_large_image" /><meta name="twitter:title" content="DSR_Statistics1/7_ Hypotheses/7_3_Chi^2.ipynb at main · MathforDataScience/DSR_Statistics1" /><meta name="twitter:description" content="Contribute to MathforDataScience/DSR_Statistics1 development by creating an account on GitHub." />
  <meta property="og:image" content="https://opengraph.githubassets.com/49fbaa5bd9c04cc44d052c0a41db63906004c31c66bcde400f1ce0e2c136cc79/MathforDataScience/DSR_Statistics1" /><meta property="og:image:alt" content="Contribute to MathforDataScience/DSR_Statistics1 development by creating an account on GitHub." /><meta property="og:image:width" content="1200" /><meta property="og:image:height" content="600" /><meta property="og:site_name" content="GitHub" /><meta property="og:type" content="object" /><meta property="og:title" content="DSR_Statistics1/7_ Hypotheses/7_3_Chi^2.ipynb at main · MathforDataScience/DSR_Statistics1" /><meta property="og:url" content="https://github.com/MathforDataScience/DSR_Statistics1/blob/main/7_%20Hypotheses/7_3_Chi%5E2.ipynb" /><meta property="og:description" content="Contribute to MathforDataScience/DSR_Statistics1 development by creating an account on GitHub." />
  


      <link rel="shared-web-socket" href="wss://alive.github.com/_sockets/u/42959174/ws?session=eyJ2IjoiVjMiLCJ1Ijo0Mjk1OTE3NCwicyI6MTQ0NjE4MDkwNCwiYyI6NDEwOTA2MjQ2NywidCI6MTcyMzgyMzY2MX0=--43f02ab8c896d358129f36fb5c8a669ae448c4f2e241bfee8175bcb3c8b48fd2" data-refresh-url="/_alive" data-session-id="a00dc8c235cb2d09bde055d46b94400c8d63999f1397e010ac7793b7eee7e4d7">
      <link rel="shared-web-socket-src" href="/assets-cdn/worker/socket-worker-1a9b1a7a6108.js">


      <meta name="hostname" content="github.com">


      <meta name="keyboard-shortcuts-preference" content="all">
      <meta name="hovercards-preference" content="true">

        <meta name="expected-hostname" content="github.com">


  <meta http-equiv="x-pjax-version" content="a878d148896378d00e67dfef2b352b059b3ea0b02ada20e26d5784cb2cf9cbf7" data-turbo-track="reload">
  <meta http-equiv="x-pjax-csp-version" content="43bc2a0e2750a1219c17b5bf1ec22aae37041bbc018bc5e27bb7708f80e7ab88" data-turbo-track="reload">
  <meta http-equiv="x-pjax-css-version" content="2d21d1d7fc96c63650d487b78819572219a98df9016097e18aa73b19581cb3bc" data-turbo-track="reload">
  <meta http-equiv="x-pjax-js-version" content="e0e9ac8831ec7aaa318d110aabcee6e4e8f1148e4f9954adff46936790214fe0" data-turbo-track="reload">

  <meta name="turbo-cache-control" content="no-preview" data-turbo-transient="">

      <meta name="turbo-cache-control" content="no-cache" data-turbo-transient>
    <meta data-hydrostats="publish">
  <meta name="go-import" content="github.com/MathforDataScience/DSR_Statistics1 git https://github.com/MathforDataScience/DSR_Statistics1.git">

  <meta name="octolytics-dimension-user_id" content="42959174" /><meta name="octolytics-dimension-user_login" content="MathforDataScience" /><meta name="octolytics-dimension-repository_id" content="661665397" /><meta name="octolytics-dimension-repository_nwo" content="MathforDataScience/DSR_Statistics1" /><meta name="octolytics-dimension-repository_public" content="true" /><meta name="octolytics-dimension-repository_is_fork" content="false" /><meta name="octolytics-dimension-repository_network_root_id" content="661665397" /><meta name="octolytics-dimension-repository_network_root_nwo" content="MathforDataScience/DSR_Statistics1" />



    

    <meta name="turbo-body-classes" content="logged-in env-production page-responsive">


  <meta name="browser-stats-url" content="https://api.github.com/_private/browser/stats">

  <meta name="browser-errors-url" content="https://api.github.com/_private/browser/errors">

  <link rel="mask-icon" href="https://github.githubassets.com/assets/pinned-octocat-093da3e6fa40.svg" color="#000000">
  <link rel="alternate icon" class="js-site-favicon" type="image/png" href="https://github.githubassets.com/favicons/favicon.png">
  <link rel="icon" class="js-site-favicon" type="image/svg+xml" href="https://github.githubassets.com/favicons/favicon.svg">

<meta name="theme-color" content="#1e2327">
<meta name="color-scheme" content="light dark" />


  <link rel="manifest" href="/manifest.json" crossOrigin="use-credentials">

  </head>

  <body class="logged-in env-production page-responsive" style="word-wrap: break-word;">
    <div data-turbo-body class="logged-in env-production page-responsive" style="word-wrap: break-word;">
      


    <div class="position-relative js-header-wrapper ">
      <a href="#start-of-content" data-skip-target-assigned="false" class="p-3 color-bg-accent-emphasis color-fg-on-emphasis show-on-focus js-skip-to-content">Skip to content</a>

      <span data-view-component="true" class="progress-pjax-loader Progress position-fixed width-full">
    <span style="width: 0%;" data-view-component="true" class="Progress-item progress-pjax-loader-bar left-0 top-0 color-bg-accent-emphasis"></span>
</span>      
      
      <script crossorigin="anonymous" defer="defer" type="application/javascript" src="https://github.githubassets.com/assets/vendors-node_modules_primer_react_lib-esm_Dialog_Dialog_js-node_modules_primer_react_lib-esm_-bd7638-683c833a31df.js"></script>
<script crossorigin="anonymous" defer="defer" type="application/javascript" src="https://github.githubassets.com/assets/keyboard-shortcuts-dialog-15a4cf222dbb.js"></script>

<react-partial
  partial-name="keyboard-shortcuts-dialog"
  data-ssr="false"
>
  
  <script type="application/json" data-target="react-partial.embeddedData">{"props":{"docsUrl":"https://docs.github.com/get-started/accessibility/keyboard-shortcuts"}}</script>
  <div data-target="react-partial.reactRoot"></div>
</react-partial>




      

          

                <header class="AppHeader" role="banner">
  <h2 class="sr-only">Navigation Menu</h2>

    

    <div class="AppHeader-globalBar pb-2 js-global-bar">
      <div class="AppHeader-globalBar-start">
          <deferred-side-panel data-url="/_side-panels/global">
  <include-fragment data-target="deferred-side-panel.fragment">
      <button aria-label="Open global navigation menu" data-action="click:deferred-side-panel#loadPanel click:deferred-side-panel#panelOpened" data-show-dialog-id="dialog-4a2388bd-37e9-4ea8-bf4a-95fdc2f7d503" id="dialog-show-dialog-4a2388bd-37e9-4ea8-bf4a-95fdc2f7d503" type="button" data-view-component="true" class="Button Button--iconOnly Button--secondary Button--medium AppHeader-button color-bg-transparent p-0 color-fg-muted">  <svg aria-hidden="true" height="16" viewBox="0 0 16 16" version="1.1" width="16" data-view-component="true" class="octicon octicon-three-bars Button-visual">
    <path d="M1 2.75A.75.75 0 0 1 1.75 2h12.5a.75.75 0 0 1 0 1.5H1.75A.75.75 0 0 1 1 2.75Zm0 5A.75.75 0 0 1 1.75 7h12.5a.75.75 0 0 1 0 1.5H1.75A.75.75 0 0 1 1 7.75ZM1.75 12h12.5a.75.75 0 0 1 0 1.5H1.75a.75.75 0 0 1 0-1.5Z"></path>
</svg>
</button>

<dialog-helper>
  <dialog data-target="deferred-side-panel.panel" id="dialog-4a2388bd-37e9-4ea8-bf4a-95fdc2f7d503" aria-modal="true" aria-labelledby="dialog-4a2388bd-37e9-4ea8-bf4a-95fdc2f7d503-title" aria-describedby="dialog-4a2388bd-37e9-4ea8-bf4a-95fdc2f7d503-description" data-view-component="true" class="Overlay Overlay-whenNarrow Overlay--size-small-portrait Overlay--motion-scaleFade Overlay--placement-left SidePanel">
    <div styles="flex-direction: row;" data-view-component="true" class="Overlay-header">
  <div class="Overlay-headerContentWrap">
    <div class="Overlay-titleWrap">
      <h1 class="Overlay-title sr-only" id="dialog-4a2388bd-37e9-4ea8-bf4a-95fdc2f7d503-title">
        Global navigation
      </h1>
            <div data-view-component="true" class="d-flex">
      <div data-view-component="true" class="AppHeader-logo position-relative">
        <svg aria-hidden="true" height="24" viewBox="0 0 24 24" version="1.1" width="24" data-view-component="true" class="octicon octicon-mark-github">
    <path d="M12.5.75C6.146.75 1 5.896 1 12.25c0 5.089 3.292 9.387 7.863 10.91.575.101.79-.244.79-.546 0-.273-.014-1.178-.014-2.142-2.889.532-3.636-.704-3.866-1.35-.13-.331-.69-1.352-1.18-1.625-.402-.216-.977-.748-.014-.762.906-.014 1.553.834 1.769 1.179 1.035 1.74 2.688 1.25 3.349.948.1-.747.402-1.25.733-1.538-2.559-.287-5.232-1.279-5.232-5.678 0-1.25.445-2.285 1.178-3.09-.115-.288-.517-1.467.115-3.048 0 0 .963-.302 3.163 1.179.92-.259 1.897-.388 2.875-.388.977 0 1.955.13 2.875.388 2.2-1.495 3.162-1.179 3.162-1.179.633 1.581.23 2.76.115 3.048.733.805 1.179 1.825 1.179 3.09 0 4.413-2.688 5.39-5.247 5.678.417.36.776 1.05.776 2.128 0 1.538-.014 2.774-.014 3.162 0 .302.216.662.79.547C20.709 21.637 24 17.324 24 12.25 24 5.896 18.854.75 12.5.75Z"></path>
</svg>
</div></div>
    </div>
    <div class="Overlay-actionWrap">
      <button data-close-dialog-id="dialog-4a2388bd-37e9-4ea8-bf4a-95fdc2f7d503" aria-label="Close" type="button" data-view-component="true" class="close-button Overlay-closeButton"><svg aria-hidden="true" height="16" viewBox="0 0 16 16" version="1.1" width="16" data-view-component="true" class="octicon octicon-x">
    <path d="M3.72 3.72a.75.75 0 0 1 1.06 0L8 6.94l3.22-3.22a.749.749 0 0 1 1.275.326.749.749 0 0 1-.215.734L9.06 8l3.22 3.22a.749.749 0 0 1-.326 1.275.749.749 0 0 1-.734-.215L8 9.06l-3.22 3.22a.751.751 0 0 1-1.042-.018.751.751 0 0 1-.018-1.042L6.94 8 3.72 4.78a.75.75 0 0 1 0-1.06Z"></path>
</svg></button>
    </div>
  </div>
  
</div>
      <scrollable-region data-labelled-by="dialog-4a2388bd-37e9-4ea8-bf4a-95fdc2f7d503-title">
        <div data-view-component="true" class="Overlay-body d-flex flex-column px-2">    <div data-view-component="true" class="d-flex flex-column mb-3">
        <nav aria-label="Site navigation" data-view-component="true" class="ActionList">
  
  <nav-list>
    <ul data-target="nav-list.topLevelList" data-view-component="true" class="ActionListWrap">
        
          
<li data-item-id="" data-targets="nav-list.items" data-view-component="true" class="ActionListItem">
    
    
    <a data-hotkey="g d" data-analytics-event="{&quot;category&quot;:&quot;Global navigation&quot;,&quot;action&quot;:&quot;HOME&quot;,&quot;label&quot;:null}" id="item-40b532ca-ab2c-43d8-b562-bad4d0b66365" href="/dashboard" data-view-component="true" class="ActionListContent ActionListContent--visual16">
        <span class="ActionListItem-visual ActionListItem-visual--leading">
          <svg aria-hidden="true" height="16" viewBox="0 0 16 16" version="1.1" width="16" data-view-component="true" class="octicon octicon-home">
    <path d="M6.906.664a1.749 1.749 0 0 1 2.187 0l5.25 4.2c.415.332.657.835.657 1.367v7.019A1.75 1.75 0 0 1 13.25 15h-3.5a.75.75 0 0 1-.75-.75V9H7v5.25a.75.75 0 0 1-.75.75h-3.5A1.75 1.75 0 0 1 1 13.25V6.23c0-.531.242-1.034.657-1.366l5.25-4.2Zm1.25 1.171a.25.25 0 0 0-.312 0l-5.25 4.2a.25.25 0 0 0-.094.196v7.019c0 .138.112.25.25.25H5.5V8.25a.75.75 0 0 1 .75-.75h3.5a.75.75 0 0 1 .75.75v5.25h2.75a.25.25 0 0 0 .25-.25V6.23a.25.25 0 0 0-.094-.195Z"></path>
</svg>
        </span>
      
        <span data-view-component="true" class="ActionListItem-label">
          Home
</span>      
</a>
  
</li>

        
          
<li data-item-id="" data-targets="nav-list.items" data-view-component="true" class="ActionListItem">
    
    
    <a data-hotkey="g i" data-analytics-event="{&quot;category&quot;:&quot;Global navigation&quot;,&quot;action&quot;:&quot;ISSUES&quot;,&quot;label&quot;:null}" id="item-8f42fcfc-7899-46a7-ae5d-a87c6f65c253" href="/issues" data-view-component="true" class="ActionListContent ActionListContent--visual16">
        <span class="ActionListItem-visual ActionListItem-visual--leading">
          <svg aria-hidden="true" height="16" viewBox="0 0 16 16" version="1.1" width="16" data-view-component="true" class="octicon octicon-issue-opened">
    <path d="M8 9.5a1.5 1.5 0 1 0 0-3 1.5 1.5 0 0 0 0 3Z"></path><path d="M8 0a8 8 0 1 1 0 16A8 8 0 0 1 8 0ZM1.5 8a6.5 6.5 0 1 0 13 0 6.5 6.5 0 0 0-13 0Z"></path>
</svg>
        </span>
      
        <span data-view-component="true" class="ActionListItem-label">
          Issues
</span>      
</a>
  
</li>

        
          
<li data-item-id="" data-targets="nav-list.items" data-view-component="true" class="ActionListItem">
    
    
    <a data-hotkey="g p" data-analytics-event="{&quot;category&quot;:&quot;Global navigation&quot;,&quot;action&quot;:&quot;PULL_REQUESTS&quot;,&quot;label&quot;:null}" id="item-0a39d557-f1d6-4a91-8bc8-7e490742807c" href="/pulls" data-view-component="true" class="ActionListContent ActionListContent--visual16">
        <span class="ActionListItem-visual ActionListItem-visual--leading">
          <svg aria-hidden="true" height="16" viewBox="0 0 16 16" version="1.1" width="16" data-view-component="true" class="octicon octicon-git-pull-request">
    <path d="M1.5 3.25a2.25 2.25 0 1 1 3 2.122v5.256a2.251 2.251 0 1 1-1.5 0V5.372A2.25 2.25 0 0 1 1.5 3.25Zm5.677-.177L9.573.677A.25.25 0 0 1 10 .854V2.5h1A2.5 2.5 0 0 1 13.5 5v5.628a2.251 2.251 0 1 1-1.5 0V5a1 1 0 0 0-1-1h-1v1.646a.25.25 0 0 1-.427.177L7.177 3.427a.25.25 0 0 1 0-.354ZM3.75 2.5a.75.75 0 1 0 0 1.5.75.75 0 0 0 0-1.5Zm0 9.5a.75.75 0 1 0 0 1.5.75.75 0 0 0 0-1.5Zm8.25.75a.75.75 0 1 0 1.5 0 .75.75 0 0 0-1.5 0Z"></path>
</svg>
        </span>
      
        <span data-view-component="true" class="ActionListItem-label">
          Pull requests
</span>      
</a>
  
</li>

        
          
<li data-item-id="" data-targets="nav-list.items" data-item-id="projects" data-view-component="true" class="ActionListItem">
    
    
    <a data-analytics-event="{&quot;category&quot;:&quot;Global navigation&quot;,&quot;action&quot;:&quot;PROJECTS&quot;,&quot;label&quot;:null}" id="item-9584b98f-5f93-4612-a1d7-fb1ed8fb143d" href="/projects" data-view-component="true" class="ActionListContent ActionListContent--visual16">
        <span class="ActionListItem-visual ActionListItem-visual--leading">
          <svg aria-hidden="true" height="16" viewBox="0 0 16 16" version="1.1" width="16" data-view-component="true" class="octicon octicon-table">
    <path d="M0 1.75C0 .784.784 0 1.75 0h12.5C15.216 0 16 .784 16 1.75v12.5A1.75 1.75 0 0 1 14.25 16H1.75A1.75 1.75 0 0 1 0 14.25ZM6.5 6.5v8h7.75a.25.25 0 0 0 .25-.25V6.5Zm8-1.5V1.75a.25.25 0 0 0-.25-.25H6.5V5Zm-13 1.5v7.75c0 .138.112.25.25.25H5v-8ZM5 5V1.5H1.75a.25.25 0 0 0-.25.25V5Z"></path>
</svg>
        </span>
      
        <span data-view-component="true" class="ActionListItem-label">
          Projects
</span>      
</a>
  
</li>

        
          
<li data-item-id="" data-targets="nav-list.items" data-view-component="true" class="ActionListItem">
    
    
    <a data-analytics-event="{&quot;category&quot;:&quot;Global navigation&quot;,&quot;action&quot;:&quot;DISCUSSIONS&quot;,&quot;label&quot;:null}" id="item-39a6d769-f53c-4e4e-9e1b-41a0e61f73cf" href="/discussions" data-view-component="true" class="ActionListContent ActionListContent--visual16">
        <span class="ActionListItem-visual ActionListItem-visual--leading">
          <svg aria-hidden="true" height="16" viewBox="0 0 16 16" version="1.1" width="16" data-view-component="true" class="octicon octicon-comment-discussion">
    <path d="M1.75 1h8.5c.966 0 1.75.784 1.75 1.75v5.5A1.75 1.75 0 0 1 10.25 10H7.061l-2.574 2.573A1.458 1.458 0 0 1 2 11.543V10h-.25A1.75 1.75 0 0 1 0 8.25v-5.5C0 1.784.784 1 1.75 1ZM1.5 2.75v5.5c0 .138.112.25.25.25h1a.75.75 0 0 1 .75.75v2.19l2.72-2.72a.749.749 0 0 1 .53-.22h3.5a.25.25 0 0 0 .25-.25v-5.5a.25.25 0 0 0-.25-.25h-8.5a.25.25 0 0 0-.25.25Zm13 2a.25.25 0 0 0-.25-.25h-.5a.75.75 0 0 1 0-1.5h.5c.966 0 1.75.784 1.75 1.75v5.5A1.75 1.75 0 0 1 14.25 12H14v1.543a1.458 1.458 0 0 1-2.487 1.03L9.22 12.28a.749.749 0 0 1 .326-1.275.749.749 0 0 1 .734.215l2.22 2.22v-2.19a.75.75 0 0 1 .75-.75h1a.25.25 0 0 0 .25-.25Z"></path>
</svg>
        </span>
      
        <span data-view-component="true" class="ActionListItem-label">
          Discussions
</span>      
</a>
  
</li>

        
          
<li data-item-id="" data-targets="nav-list.items" data-view-component="true" class="ActionListItem">
    
    
    <a data-analytics-event="{&quot;category&quot;:&quot;Global navigation&quot;,&quot;action&quot;:&quot;CODESPACES&quot;,&quot;label&quot;:null}" id="item-a8f430df-dd1d-430d-b04b-2509488e5c08" href="https://github.com/codespaces" data-view-component="true" class="ActionListContent ActionListContent--visual16">
        <span class="ActionListItem-visual ActionListItem-visual--leading">
          <svg aria-hidden="true" height="16" viewBox="0 0 16 16" version="1.1" width="16" data-view-component="true" class="octicon octicon-codespaces">
    <path d="M0 11.25c0-.966.784-1.75 1.75-1.75h12.5c.966 0 1.75.784 1.75 1.75v3A1.75 1.75 0 0 1 14.25 16H1.75A1.75 1.75 0 0 1 0 14.25Zm2-9.5C2 .784 2.784 0 3.75 0h8.5C13.216 0 14 .784 14 1.75v5a1.75 1.75 0 0 1-1.75 1.75h-8.5A1.75 1.75 0 0 1 2 6.75Zm1.75-.25a.25.25 0 0 0-.25.25v5c0 .138.112.25.25.25h8.5a.25.25 0 0 0 .25-.25v-5a.25.25 0 0 0-.25-.25Zm-2 9.5a.25.25 0 0 0-.25.25v3c0 .138.112.25.25.25h12.5a.25.25 0 0 0 .25-.25v-3a.25.25 0 0 0-.25-.25Z"></path><path d="M7 12.75a.75.75 0 0 1 .75-.75h4.5a.75.75 0 0 1 0 1.5h-4.5a.75.75 0 0 1-.75-.75Zm-4 0a.75.75 0 0 1 .75-.75h.5a.75.75 0 0 1 0 1.5h-.5a.75.75 0 0 1-.75-.75Z"></path>
</svg>
        </span>
      
        <span data-view-component="true" class="ActionListItem-label">
          Codespaces
</span>      
</a>
  
</li>

        
          <li role="presentation" aria-hidden="true" data-view-component="true" class="ActionList-sectionDivider"></li>
        
          
<li data-item-id="" data-targets="nav-list.items" data-view-component="true" class="ActionListItem">
    
    
    <a data-analytics-event="{&quot;category&quot;:&quot;Global navigation&quot;,&quot;action&quot;:&quot;EXPLORE&quot;,&quot;label&quot;:null}" id="item-afeb2652-c451-454d-9d24-46affe28c284" href="/explore" data-view-component="true" class="ActionListContent ActionListContent--visual16">
        <span class="ActionListItem-visual ActionListItem-visual--leading">
          <svg aria-hidden="true" height="16" viewBox="0 0 16 16" version="1.1" width="16" data-view-component="true" class="octicon octicon-telescope">
    <path d="M14.184 1.143v-.001l1.422 2.464a1.75 1.75 0 0 1-.757 2.451L3.104 11.713a1.75 1.75 0 0 1-2.275-.702l-.447-.775a1.75 1.75 0 0 1 .53-2.32L11.682.573a1.748 1.748 0 0 1 2.502.57Zm-4.709 9.32h-.001l2.644 3.863a.75.75 0 1 1-1.238.848l-1.881-2.75v2.826a.75.75 0 0 1-1.5 0v-2.826l-1.881 2.75a.75.75 0 1 1-1.238-.848l2.049-2.992a.746.746 0 0 1 .293-.253l1.809-.87a.749.749 0 0 1 .944.252ZM9.436 3.92h-.001l-4.97 3.39.942 1.63 5.42-2.61Zm3.091-2.108h.001l-1.85 1.26 1.505 2.605 2.016-.97a.247.247 0 0 0 .13-.151.247.247 0 0 0-.022-.199l-1.422-2.464a.253.253 0 0 0-.161-.119.254.254 0 0 0-.197.038ZM1.756 9.157a.25.25 0 0 0-.075.33l.447.775a.25.25 0 0 0 .325.1l1.598-.769-.83-1.436-1.465 1Z"></path>
</svg>
        </span>
      
        <span data-view-component="true" class="ActionListItem-label">
          Explore
</span>      
</a>
  
</li>

        
          
<li data-item-id="" data-targets="nav-list.items" data-view-component="true" class="ActionListItem">
    
    
    <a data-analytics-event="{&quot;category&quot;:&quot;Global navigation&quot;,&quot;action&quot;:&quot;MARKETPLACE&quot;,&quot;label&quot;:null}" id="item-ba82d8a0-28a6-4a95-adcb-9c2d2d948b0c" href="/marketplace" data-view-component="true" class="ActionListContent ActionListContent--visual16">
        <span class="ActionListItem-visual ActionListItem-visual--leading">
          <svg aria-hidden="true" height="16" viewBox="0 0 16 16" version="1.1" width="16" data-view-component="true" class="octicon octicon-gift">
    <path d="M2 2.75A2.75 2.75 0 0 1 4.75 0c.983 0 1.873.42 2.57 1.232.268.318.497.668.68 1.042.183-.375.411-.725.68-1.044C9.376.42 10.266 0 11.25 0a2.75 2.75 0 0 1 2.45 4h.55c.966 0 1.75.784 1.75 1.75v2c0 .698-.409 1.301-1 1.582v4.918A1.75 1.75 0 0 1 13.25 16H2.75A1.75 1.75 0 0 1 1 14.25V9.332C.409 9.05 0 8.448 0 7.75v-2C0 4.784.784 4 1.75 4h.55c-.192-.375-.3-.8-.3-1.25ZM7.25 9.5H2.5v4.75c0 .138.112.25.25.25h4.5Zm1.5 0v5h4.5a.25.25 0 0 0 .25-.25V9.5Zm0-4V8h5.5a.25.25 0 0 0 .25-.25v-2a.25.25 0 0 0-.25-.25Zm-7 0a.25.25 0 0 0-.25.25v2c0 .138.112.25.25.25h5.5V5.5h-5.5Zm3-4a1.25 1.25 0 0 0 0 2.5h2.309c-.233-.818-.542-1.401-.878-1.793-.43-.502-.915-.707-1.431-.707ZM8.941 4h2.309a1.25 1.25 0 0 0 0-2.5c-.516 0-1 .205-1.43.707-.337.392-.646.975-.879 1.793Z"></path>
</svg>
        </span>
      
        <span data-view-component="true" class="ActionListItem-label">
          Marketplace
</span>      
</a>
  
</li>

</ul>  </nav-list>
</nav>

        <div data-view-component="true" class="my-3 d-flex flex-justify-center height-full">
          <svg style="box-sizing: content-box; color: var(--color-icon-primary);" width="16" height="16" viewBox="0 0 16 16" fill="none" aria-hidden="true" data-view-component="true" class="anim-rotate">
  <circle cx="8" cy="8" r="7" stroke="currentColor" stroke-opacity="0.25" stroke-width="2" vector-effect="non-scaling-stroke" fill="none" />
  <path d="M15 8a7.002 7.002 0 00-7-7" stroke="currentColor" stroke-width="2" stroke-linecap="round" vector-effect="non-scaling-stroke" />
</svg>  <span class="sr-only">Loading</span>

</div>
</div>
      <div data-view-component="true" class="flex-1"></div>


      <div data-view-component="true" class="px-2">      <p class="color-fg-subtle text-small text-light">&copy; 2024 GitHub, Inc.</p>

      <div data-view-component="true" class="d-flex flex-wrap text-small text-light">
          <a target="_blank" href="https://github.com/about" data-view-component="true" class="Link mr-2">About</a>
          <a target="_blank" href="https://github.blog" data-view-component="true" class="Link mr-2">Blog</a>
          <a target="_blank" href="https://docs.github.com/site-policy/github-terms/github-terms-of-service" data-view-component="true" class="Link mr-2">Terms</a>
          <a target="_blank" href="https://docs.github.com/site-policy/privacy-policies/github-privacy-statement" data-view-component="true" class="Link mr-2">Privacy</a>
          <a target="_blank" href="https://github.com/security" data-view-component="true" class="Link mr-2">Security</a>
          <a target="_blank" href="https://www.githubstatus.com/" data-view-component="true" class="Link mr-3">Status</a>

</div></div>
</div>
      </scrollable-region>
      
</dialog></dialog-helper>

  </include-fragment>
</deferred-side-panel>

        <a
          class="AppHeader-logo ml-2"
          href="https://github.com/"
          data-hotkey="g d"
          aria-label="Homepage "
          data-turbo="false"
          data-analytics-event="{&quot;category&quot;:&quot;Header&quot;,&quot;action&quot;:&quot;go to dashboard&quot;,&quot;label&quot;:&quot;icon:logo&quot;}"
        >
          <svg height="32" aria-hidden="true" viewBox="0 0 24 24" version="1.1" width="32" data-view-component="true" class="octicon octicon-mark-github v-align-middle color-fg-default">
    <path d="M12.5.75C6.146.75 1 5.896 1 12.25c0 5.089 3.292 9.387 7.863 10.91.575.101.79-.244.79-.546 0-.273-.014-1.178-.014-2.142-2.889.532-3.636-.704-3.866-1.35-.13-.331-.69-1.352-1.18-1.625-.402-.216-.977-.748-.014-.762.906-.014 1.553.834 1.769 1.179 1.035 1.74 2.688 1.25 3.349.948.1-.747.402-1.25.733-1.538-2.559-.287-5.232-1.279-5.232-5.678 0-1.25.445-2.285 1.178-3.09-.115-.288-.517-1.467.115-3.048 0 0 .963-.302 3.163 1.179.92-.259 1.897-.388 2.875-.388.977 0 1.955.13 2.875.388 2.2-1.495 3.162-1.179 3.162-1.179.633 1.581.23 2.76.115 3.048.733.805 1.179 1.825 1.179 3.09 0 4.413-2.688 5.39-5.247 5.678.417.36.776 1.05.776 2.128 0 1.538-.014 2.774-.014 3.162 0 .302.216.662.79.547C20.709 21.637 24 17.324 24 12.25 24 5.896 18.854.75 12.5.75Z"></path>
</svg>
        </a>

          <div class="AppHeader-context" >
  <div class="AppHeader-context-compact">
      <button aria-expanded="false" aria-haspopup="dialog" aria-label="Page context: MathforDataScience / DSR_Statistics1" id="dialog-show-context-region-dialog" data-show-dialog-id="context-region-dialog" type="button" data-view-component="true" class="AppHeader-context-compact-trigger Truncate Button--secondary Button--medium Button box-shadow-none">  <span class="Button-content">
    <span class="Button-label"><span class="AppHeader-context-compact-lead">
                <span class="AppHeader-context-compact-parentItem">MathforDataScience</span>
                <span class="no-wrap">&nbsp;/</span>

            </span>

            <strong class="AppHeader-context-compact-mainItem d-flex flex-items-center Truncate" >
  <span class="Truncate-text ">DSR_Statistics1</span>

</strong></span>
  </span>
</button>

<dialog-helper>
  <dialog id="context-region-dialog" aria-modal="true" aria-labelledby="context-region-dialog-title" aria-describedby="context-region-dialog-description" data-view-component="true" class="Overlay Overlay-whenNarrow Overlay--size-medium Overlay--motion-scaleFade">
    <div data-view-component="true" class="Overlay-header">
  <div class="Overlay-headerContentWrap">
    <div class="Overlay-titleWrap">
      <h1 class="Overlay-title " id="context-region-dialog-title">
        Navigate back to
      </h1>
        
    </div>
    <div class="Overlay-actionWrap">
      <button data-close-dialog-id="context-region-dialog" aria-label="Close" type="button" data-view-component="true" class="close-button Overlay-closeButton"><svg aria-hidden="true" height="16" viewBox="0 0 16 16" version="1.1" width="16" data-view-component="true" class="octicon octicon-x">
    <path d="M3.72 3.72a.75.75 0 0 1 1.06 0L8 6.94l3.22-3.22a.749.749 0 0 1 1.275.326.749.749 0 0 1-.215.734L9.06 8l3.22 3.22a.749.749 0 0 1-.326 1.275.749.749 0 0 1-.734-.215L8 9.06l-3.22 3.22a.751.751 0 0 1-1.042-.018.751.751 0 0 1-.018-1.042L6.94 8 3.72 4.78a.75.75 0 0 1 0-1.06Z"></path>
</svg></button>
    </div>
  </div>
  
</div>
      <scrollable-region data-labelled-by="context-region-dialog-title">
        <div data-view-component="true" class="Overlay-body">          <ul role="list" class="list-style-none" >
    <li>
      <a data-analytics-event="{&quot;category&quot;:&quot;SiteHeaderComponent&quot;,&quot;action&quot;:&quot;context_region_crumb&quot;,&quot;label&quot;:&quot;MathforDataScience&quot;,&quot;screen_size&quot;:&quot;compact&quot;}" href="/MathforDataScience" data-view-component="true" class="Link--primary Truncate d-flex flex-items-center py-1">
        <span class="AppHeader-context-item-label Truncate-text ">
            <svg aria-hidden="true" height="12" viewBox="0 0 16 16" version="1.1" width="12" data-view-component="true" class="octicon octicon-person mr-1">
    <path d="M10.561 8.073a6.005 6.005 0 0 1 3.432 5.142.75.75 0 1 1-1.498.07 4.5 4.5 0 0 0-8.99 0 .75.75 0 0 1-1.498-.07 6.004 6.004 0 0 1 3.431-5.142 3.999 3.999 0 1 1 5.123 0ZM10.5 5a2.5 2.5 0 1 0-5 0 2.5 2.5 0 0 0 5 0Z"></path>
</svg>

          MathforDataScience
        </span>

</a>
    </li>
    <li>
      <a data-analytics-event="{&quot;category&quot;:&quot;SiteHeaderComponent&quot;,&quot;action&quot;:&quot;context_region_crumb&quot;,&quot;label&quot;:&quot;DSR_Statistics1&quot;,&quot;screen_size&quot;:&quot;compact&quot;}" href="/MathforDataScience/DSR_Statistics1" data-view-component="true" class="Link--primary Truncate d-flex flex-items-center py-1">
        <span class="AppHeader-context-item-label Truncate-text ">
            <svg aria-hidden="true" height="12" viewBox="0 0 16 16" version="1.1" width="12" data-view-component="true" class="octicon octicon-repo mr-1">
    <path d="M2 2.5A2.5 2.5 0 0 1 4.5 0h8.75a.75.75 0 0 1 .75.75v12.5a.75.75 0 0 1-.75.75h-2.5a.75.75 0 0 1 0-1.5h1.75v-2h-8a1 1 0 0 0-.714 1.7.75.75 0 1 1-1.072 1.05A2.495 2.495 0 0 1 2 11.5Zm10.5-1h-8a1 1 0 0 0-1 1v6.708A2.486 2.486 0 0 1 4.5 9h8ZM5 12.25a.25.25 0 0 1 .25-.25h3.5a.25.25 0 0 1 .25.25v3.25a.25.25 0 0 1-.4.2l-1.45-1.087a.249.249 0 0 0-.3 0L5.4 15.7a.25.25 0 0 1-.4-.2Z"></path>
</svg>

          DSR_Statistics1
        </span>

</a>
    </li>
</ul>

</div>
      </scrollable-region>
      
</dialog></dialog-helper>
  </div>

  <div class="AppHeader-context-full">
    <nav role="navigation" aria-label="Page context">
      <ul role="list" class="list-style-none" >
    <li>
      <a data-analytics-event="{&quot;category&quot;:&quot;SiteHeaderComponent&quot;,&quot;action&quot;:&quot;context_region_crumb&quot;,&quot;label&quot;:&quot;MathforDataScience&quot;,&quot;screen_size&quot;:&quot;full&quot;}" data-hovercard-type="user" data-hovercard-url="/users/MathforDataScience/hovercard" data-octo-click="hovercard-link-click" data-octo-dimensions="link_type:self" href="/MathforDataScience" data-view-component="true" class="AppHeader-context-item">
        <span class="AppHeader-context-item-label  ">

          MathforDataScience
        </span>

</a>
        <span class="AppHeader-context-item-separator">/</span>
    </li>
    <li>
      <a data-analytics-event="{&quot;category&quot;:&quot;SiteHeaderComponent&quot;,&quot;action&quot;:&quot;context_region_crumb&quot;,&quot;label&quot;:&quot;DSR_Statistics1&quot;,&quot;screen_size&quot;:&quot;full&quot;}" href="/MathforDataScience/DSR_Statistics1" data-view-component="true" class="AppHeader-context-item">
        <span class="AppHeader-context-item-label  ">

          DSR_Statistics1
        </span>

</a>
    </li>
</ul>

    </nav>
  </div>
</div>

      </div>
      <div class="AppHeader-globalBar-end">
          <div class="AppHeader-search" >
              


<qbsearch-input class="search-input" data-scope="repo:MathforDataScience/DSR_Statistics1" data-custom-scopes-path="/search/custom_scopes" data-delete-custom-scopes-csrf="j03JOIheTEFK65VHusN87EgMukkHwUMX78B6dvhPyPbbv_gpMIKI-t3FUiJqzZ8Wv3DzH83_H_3Up1z4Q1LMnA" data-max-custom-scopes="10" data-header-redesign-enabled="true" data-initial-value="" data-blackbird-suggestions-path="/search/suggestions" data-jump-to-suggestions-path="/_graphql/GetSuggestedNavigationDestinations" data-current-repository="MathforDataScience/DSR_Statistics1" data-current-org="" data-current-owner="MathforDataScience" data-logged-in="true" data-copilot-chat-enabled="false" data-nl-search-enabled="false">
  <div
    class="search-input-container search-with-dialog position-relative d-flex flex-row flex-items-center height-auto color-bg-transparent border-0 color-fg-subtle mx-0"
    data-action="click:qbsearch-input#searchInputContainerClicked"
  >
      
            <button type="button" data-action="click:qbsearch-input#handleExpand" class="AppHeader-button AppHeader-search-whenNarrow" aria-label="Search or jump to…" aria-expanded="false" aria-haspopup="dialog">
            <svg aria-hidden="true" height="16" viewBox="0 0 16 16" version="1.1" width="16" data-view-component="true" class="octicon octicon-search">
    <path d="M10.68 11.74a6 6 0 0 1-7.922-8.982 6 6 0 0 1 8.982 7.922l3.04 3.04a.749.749 0 0 1-.326 1.275.749.749 0 0 1-.734-.215ZM11.5 7a4.499 4.499 0 1 0-8.997 0A4.499 4.499 0 0 0 11.5 7Z"></path>
</svg>
          </button>


<div class="AppHeader-search-whenRegular">
  <div class="AppHeader-search-wrap AppHeader-search-wrap--hasTrailing">
    <div class="AppHeader-search-control">
      <label
        for="AppHeader-searchInput"
        aria-label="Search or jump to…"
        class="AppHeader-search-visual--leading"
      >
        <svg aria-hidden="true" height="16" viewBox="0 0 16 16" version="1.1" width="16" data-view-component="true" class="octicon octicon-search">
    <path d="M10.68 11.74a6 6 0 0 1-7.922-8.982 6 6 0 0 1 8.982 7.922l3.04 3.04a.749.749 0 0 1-.326 1.275.749.749 0 0 1-.734-.215ZM11.5 7a4.499 4.499 0 1 0-8.997 0A4.499 4.499 0 0 0 11.5 7Z"></path>
</svg>
      </label>

                <button
            type="button"
            data-target="qbsearch-input.inputButton"
            data-action="click:qbsearch-input#handleExpand"
            class="AppHeader-searchButton form-control input-contrast text-left color-fg-subtle no-wrap"
            data-hotkey="s,/"
            data-analytics-event="{&quot;location&quot;:&quot;navbar&quot;,&quot;action&quot;:&quot;searchbar&quot;,&quot;context&quot;:&quot;global&quot;,&quot;tag&quot;:&quot;input&quot;,&quot;label&quot;:&quot;searchbar_input_global_navbar&quot;}"
            aria-describedby="search-error-message-flash"
          >
            <div class="overflow-hidden">
              <span id="qb-input-query" data-target="qbsearch-input.inputButtonText">
                  Type <kbd class="AppHeader-search-kbd">/</kbd> to search
              </span>
            </div>
          </button>

    </div>


  </div>
</div>

    <input type="hidden" name="type" class="js-site-search-type-field">

    
<div class="Overlay--hidden " data-modal-dialog-overlay>
  <modal-dialog data-action="close:qbsearch-input#handleClose cancel:qbsearch-input#handleClose" data-target="qbsearch-input.searchSuggestionsDialog" role="dialog" id="search-suggestions-dialog" aria-modal="true" aria-labelledby="search-suggestions-dialog-header" data-view-component="true" class="Overlay Overlay--width-medium Overlay--height-auto">
      <h1 id="search-suggestions-dialog-header" class="sr-only">Search code, repositories, users, issues, pull requests...</h1>
    <div class="Overlay-body Overlay-body--paddingNone">
      
          <div data-view-component="true">        <div class="search-suggestions position-absolute width-full color-shadow-large border color-fg-default color-bg-default overflow-hidden d-flex flex-column query-builder-container"
          style="border-radius: 12px;"
          data-target="qbsearch-input.queryBuilderContainer"
          hidden
        >
          <!-- '"` --><!-- </textarea></xmp> --></option></form><form id="query-builder-test-form" action="" accept-charset="UTF-8" method="get">
  <query-builder data-target="qbsearch-input.queryBuilder" id="query-builder-query-builder-test" data-filter-key=":" data-view-component="true" class="QueryBuilder search-query-builder">
    <div class="FormControl FormControl--fullWidth">
      <label id="query-builder-test-label" for="query-builder-test" class="FormControl-label sr-only">
        Search
      </label>
      <div
        class="QueryBuilder-StyledInput width-fit "
        data-target="query-builder.styledInput"
      >
          <span id="query-builder-test-leadingvisual-wrap" class="FormControl-input-leadingVisualWrap QueryBuilder-leadingVisualWrap">
            <svg aria-hidden="true" height="16" viewBox="0 0 16 16" version="1.1" width="16" data-view-component="true" class="octicon octicon-search FormControl-input-leadingVisual">
    <path d="M10.68 11.74a6 6 0 0 1-7.922-8.982 6 6 0 0 1 8.982 7.922l3.04 3.04a.749.749 0 0 1-.326 1.275.749.749 0 0 1-.734-.215ZM11.5 7a4.499 4.499 0 1 0-8.997 0A4.499 4.499 0 0 0 11.5 7Z"></path>
</svg>
          </span>
        <div data-target="query-builder.styledInputContainer" class="QueryBuilder-StyledInputContainer">
          <div
            aria-hidden="true"
            class="QueryBuilder-StyledInputContent"
            data-target="query-builder.styledInputContent"
          ></div>
          <div class="QueryBuilder-InputWrapper">
            <div aria-hidden="true" class="QueryBuilder-Sizer" data-target="query-builder.sizer"></div>
            <input id="query-builder-test" name="query-builder-test" value="" autocomplete="off" type="text" role="combobox" spellcheck="false" aria-expanded="false" aria-describedby="validation-6ce4e90b-1e94-47ee-9fe9-afea368ee06d" data-target="query-builder.input" data-action="
          input:query-builder#inputChange
          blur:query-builder#inputBlur
          keydown:query-builder#inputKeydown
          focus:query-builder#inputFocus
        " data-view-component="true" class="FormControl-input QueryBuilder-Input FormControl-medium" />
          </div>
        </div>
          <span class="sr-only" id="query-builder-test-clear">Clear</span>
          <button role="button" id="query-builder-test-clear-button" aria-labelledby="query-builder-test-clear query-builder-test-label" data-target="query-builder.clearButton" data-action="
                click:query-builder#clear
                focus:query-builder#clearButtonFocus
                blur:query-builder#clearButtonBlur
              " variant="small" hidden="hidden" type="button" data-view-component="true" class="Button Button--iconOnly Button--invisible Button--medium mr-1 px-2 py-0 d-flex flex-items-center rounded-1 color-fg-muted">  <svg aria-hidden="true" height="16" viewBox="0 0 16 16" version="1.1" width="16" data-view-component="true" class="octicon octicon-x-circle-fill Button-visual">
    <path d="M2.343 13.657A8 8 0 1 1 13.658 2.343 8 8 0 0 1 2.343 13.657ZM6.03 4.97a.751.751 0 0 0-1.042.018.751.751 0 0 0-.018 1.042L6.94 8 4.97 9.97a.749.749 0 0 0 .326 1.275.749.749 0 0 0 .734-.215L8 9.06l1.97 1.97a.749.749 0 0 0 1.275-.326.749.749 0 0 0-.215-.734L9.06 8l1.97-1.97a.749.749 0 0 0-.326-1.275.749.749 0 0 0-.734.215L8 6.94Z"></path>
</svg>
</button>

      </div>
      <template id="search-icon">
  <svg aria-hidden="true" height="16" viewBox="0 0 16 16" version="1.1" width="16" data-view-component="true" class="octicon octicon-search">
    <path d="M10.68 11.74a6 6 0 0 1-7.922-8.982 6 6 0 0 1 8.982 7.922l3.04 3.04a.749.749 0 0 1-.326 1.275.749.749 0 0 1-.734-.215ZM11.5 7a4.499 4.499 0 1 0-8.997 0A4.499 4.499 0 0 0 11.5 7Z"></path>
</svg>
</template>

<template id="code-icon">
  <svg aria-hidden="true" height="16" viewBox="0 0 16 16" version="1.1" width="16" data-view-component="true" class="octicon octicon-code">
    <path d="m11.28 3.22 4.25 4.25a.75.75 0 0 1 0 1.06l-4.25 4.25a.749.749 0 0 1-1.275-.326.749.749 0 0 1 .215-.734L13.94 8l-3.72-3.72a.749.749 0 0 1 .326-1.275.749.749 0 0 1 .734.215Zm-6.56 0a.751.751 0 0 1 1.042.018.751.751 0 0 1 .018 1.042L2.06 8l3.72 3.72a.749.749 0 0 1-.326 1.275.749.749 0 0 1-.734-.215L.47 8.53a.75.75 0 0 1 0-1.06Z"></path>
</svg>
</template>

<template id="file-code-icon">
  <svg aria-hidden="true" height="16" viewBox="0 0 16 16" version="1.1" width="16" data-view-component="true" class="octicon octicon-file-code">
    <path d="M4 1.75C4 .784 4.784 0 5.75 0h5.586c.464 0 .909.184 1.237.513l2.914 2.914c.329.328.513.773.513 1.237v8.586A1.75 1.75 0 0 1 14.25 15h-9a.75.75 0 0 1 0-1.5h9a.25.25 0 0 0 .25-.25V6h-2.75A1.75 1.75 0 0 1 10 4.25V1.5H5.75a.25.25 0 0 0-.25.25v2.5a.75.75 0 0 1-1.5 0Zm1.72 4.97a.75.75 0 0 1 1.06 0l2 2a.75.75 0 0 1 0 1.06l-2 2a.749.749 0 0 1-1.275-.326.749.749 0 0 1 .215-.734l1.47-1.47-1.47-1.47a.75.75 0 0 1 0-1.06ZM3.28 7.78 1.81 9.25l1.47 1.47a.751.751 0 0 1-.018 1.042.751.751 0 0 1-1.042.018l-2-2a.75.75 0 0 1 0-1.06l2-2a.751.751 0 0 1 1.042.018.751.751 0 0 1 .018 1.042Zm8.22-6.218V4.25c0 .138.112.25.25.25h2.688l-.011-.013-2.914-2.914-.013-.011Z"></path>
</svg>
</template>

<template id="history-icon">
  <svg aria-hidden="true" height="16" viewBox="0 0 16 16" version="1.1" width="16" data-view-component="true" class="octicon octicon-history">
    <path d="m.427 1.927 1.215 1.215a8.002 8.002 0 1 1-1.6 5.685.75.75 0 1 1 1.493-.154 6.5 6.5 0 1 0 1.18-4.458l1.358 1.358A.25.25 0 0 1 3.896 6H.25A.25.25 0 0 1 0 5.75V2.104a.25.25 0 0 1 .427-.177ZM7.75 4a.75.75 0 0 1 .75.75v2.992l2.028.812a.75.75 0 0 1-.557 1.392l-2.5-1A.751.751 0 0 1 7 8.25v-3.5A.75.75 0 0 1 7.75 4Z"></path>
</svg>
</template>

<template id="repo-icon">
  <svg aria-hidden="true" height="16" viewBox="0 0 16 16" version="1.1" width="16" data-view-component="true" class="octicon octicon-repo">
    <path d="M2 2.5A2.5 2.5 0 0 1 4.5 0h8.75a.75.75 0 0 1 .75.75v12.5a.75.75 0 0 1-.75.75h-2.5a.75.75 0 0 1 0-1.5h1.75v-2h-8a1 1 0 0 0-.714 1.7.75.75 0 1 1-1.072 1.05A2.495 2.495 0 0 1 2 11.5Zm10.5-1h-8a1 1 0 0 0-1 1v6.708A2.486 2.486 0 0 1 4.5 9h8ZM5 12.25a.25.25 0 0 1 .25-.25h3.5a.25.25 0 0 1 .25.25v3.25a.25.25 0 0 1-.4.2l-1.45-1.087a.249.249 0 0 0-.3 0L5.4 15.7a.25.25 0 0 1-.4-.2Z"></path>
</svg>
</template>

<template id="bookmark-icon">
  <svg aria-hidden="true" height="16" viewBox="0 0 16 16" version="1.1" width="16" data-view-component="true" class="octicon octicon-bookmark">
    <path d="M3 2.75C3 1.784 3.784 1 4.75 1h6.5c.966 0 1.75.784 1.75 1.75v11.5a.75.75 0 0 1-1.227.579L8 11.722l-3.773 3.107A.751.751 0 0 1 3 14.25Zm1.75-.25a.25.25 0 0 0-.25.25v9.91l3.023-2.489a.75.75 0 0 1 .954 0l3.023 2.49V2.75a.25.25 0 0 0-.25-.25Z"></path>
</svg>
</template>

<template id="plus-circle-icon">
  <svg aria-hidden="true" height="16" viewBox="0 0 16 16" version="1.1" width="16" data-view-component="true" class="octicon octicon-plus-circle">
    <path d="M8 0a8 8 0 1 1 0 16A8 8 0 0 1 8 0ZM1.5 8a6.5 6.5 0 1 0 13 0 6.5 6.5 0 0 0-13 0Zm7.25-3.25v2.5h2.5a.75.75 0 0 1 0 1.5h-2.5v2.5a.75.75 0 0 1-1.5 0v-2.5h-2.5a.75.75 0 0 1 0-1.5h2.5v-2.5a.75.75 0 0 1 1.5 0Z"></path>
</svg>
</template>

<template id="circle-icon">
  <svg aria-hidden="true" height="16" viewBox="0 0 16 16" version="1.1" width="16" data-view-component="true" class="octicon octicon-dot-fill">
    <path d="M8 4a4 4 0 1 1 0 8 4 4 0 0 1 0-8Z"></path>
</svg>
</template>

<template id="trash-icon">
  <svg aria-hidden="true" height="16" viewBox="0 0 16 16" version="1.1" width="16" data-view-component="true" class="octicon octicon-trash">
    <path d="M11 1.75V3h2.25a.75.75 0 0 1 0 1.5H2.75a.75.75 0 0 1 0-1.5H5V1.75C5 .784 5.784 0 6.75 0h2.5C10.216 0 11 .784 11 1.75ZM4.496 6.675l.66 6.6a.25.25 0 0 0 .249.225h5.19a.25.25 0 0 0 .249-.225l.66-6.6a.75.75 0 0 1 1.492.149l-.66 6.6A1.748 1.748 0 0 1 10.595 15h-5.19a1.75 1.75 0 0 1-1.741-1.575l-.66-6.6a.75.75 0 1 1 1.492-.15ZM6.5 1.75V3h3V1.75a.25.25 0 0 0-.25-.25h-2.5a.25.25 0 0 0-.25.25Z"></path>
</svg>
</template>

<template id="team-icon">
  <svg aria-hidden="true" height="16" viewBox="0 0 16 16" version="1.1" width="16" data-view-component="true" class="octicon octicon-people">
    <path d="M2 5.5a3.5 3.5 0 1 1 5.898 2.549 5.508 5.508 0 0 1 3.034 4.084.75.75 0 1 1-1.482.235 4 4 0 0 0-7.9 0 .75.75 0 0 1-1.482-.236A5.507 5.507 0 0 1 3.102 8.05 3.493 3.493 0 0 1 2 5.5ZM11 4a3.001 3.001 0 0 1 2.22 5.018 5.01 5.01 0 0 1 2.56 3.012.749.749 0 0 1-.885.954.752.752 0 0 1-.549-.514 3.507 3.507 0 0 0-2.522-2.372.75.75 0 0 1-.574-.73v-.352a.75.75 0 0 1 .416-.672A1.5 1.5 0 0 0 11 5.5.75.75 0 0 1 11 4Zm-5.5-.5a2 2 0 1 0-.001 3.999A2 2 0 0 0 5.5 3.5Z"></path>
</svg>
</template>

<template id="project-icon">
  <svg aria-hidden="true" height="16" viewBox="0 0 16 16" version="1.1" width="16" data-view-component="true" class="octicon octicon-project">
    <path d="M1.75 0h12.5C15.216 0 16 .784 16 1.75v12.5A1.75 1.75 0 0 1 14.25 16H1.75A1.75 1.75 0 0 1 0 14.25V1.75C0 .784.784 0 1.75 0ZM1.5 1.75v12.5c0 .138.112.25.25.25h12.5a.25.25 0 0 0 .25-.25V1.75a.25.25 0 0 0-.25-.25H1.75a.25.25 0 0 0-.25.25ZM11.75 3a.75.75 0 0 1 .75.75v7.5a.75.75 0 0 1-1.5 0v-7.5a.75.75 0 0 1 .75-.75Zm-8.25.75a.75.75 0 0 1 1.5 0v5.5a.75.75 0 0 1-1.5 0ZM8 3a.75.75 0 0 1 .75.75v3.5a.75.75 0 0 1-1.5 0v-3.5A.75.75 0 0 1 8 3Z"></path>
</svg>
</template>

<template id="pencil-icon">
  <svg aria-hidden="true" height="16" viewBox="0 0 16 16" version="1.1" width="16" data-view-component="true" class="octicon octicon-pencil">
    <path d="M11.013 1.427a1.75 1.75 0 0 1 2.474 0l1.086 1.086a1.75 1.75 0 0 1 0 2.474l-8.61 8.61c-.21.21-.47.364-.756.445l-3.251.93a.75.75 0 0 1-.927-.928l.929-3.25c.081-.286.235-.547.445-.758l8.61-8.61Zm.176 4.823L9.75 4.81l-6.286 6.287a.253.253 0 0 0-.064.108l-.558 1.953 1.953-.558a.253.253 0 0 0 .108-.064Zm1.238-3.763a.25.25 0 0 0-.354 0L10.811 3.75l1.439 1.44 1.263-1.263a.25.25 0 0 0 0-.354Z"></path>
</svg>
</template>

<template id="copilot-icon">
  <svg aria-hidden="true" height="16" viewBox="0 0 16 16" version="1.1" width="16" data-view-component="true" class="octicon octicon-copilot">
    <path d="M7.998 15.035c-4.562 0-7.873-2.914-7.998-3.749V9.338c.085-.628.677-1.686 1.588-2.065.013-.07.024-.143.036-.218.029-.183.06-.384.126-.612-.201-.508-.254-1.084-.254-1.656 0-.87.128-1.769.693-2.484.579-.733 1.494-1.124 2.724-1.261 1.206-.134 2.262.034 2.944.765.05.053.096.108.139.165.044-.057.094-.112.143-.165.682-.731 1.738-.899 2.944-.765 1.23.137 2.145.528 2.724 1.261.566.715.693 1.614.693 2.484 0 .572-.053 1.148-.254 1.656.066.228.098.429.126.612.012.076.024.148.037.218.924.385 1.522 1.471 1.591 2.095v1.872c0 .766-3.351 3.795-8.002 3.795Zm0-1.485c2.28 0 4.584-1.11 5.002-1.433V7.862l-.023-.116c-.49.21-1.075.291-1.727.291-1.146 0-2.059-.327-2.71-.991A3.222 3.222 0 0 1 8 6.303a3.24 3.24 0 0 1-.544.743c-.65.664-1.563.991-2.71.991-.652 0-1.236-.081-1.727-.291l-.023.116v4.255c.419.323 2.722 1.433 5.002 1.433ZM6.762 2.83c-.193-.206-.637-.413-1.682-.297-1.019.113-1.479.404-1.713.7-.247.312-.369.789-.369 1.554 0 .793.129 1.171.308 1.371.162.181.519.379 1.442.379.853 0 1.339-.235 1.638-.54.315-.322.527-.827.617-1.553.117-.935-.037-1.395-.241-1.614Zm4.155-.297c-1.044-.116-1.488.091-1.681.297-.204.219-.359.679-.242 1.614.091.726.303 1.231.618 1.553.299.305.784.54 1.638.54.922 0 1.28-.198 1.442-.379.179-.2.308-.578.308-1.371 0-.765-.123-1.242-.37-1.554-.233-.296-.693-.587-1.713-.7Z"></path><path d="M6.25 9.037a.75.75 0 0 1 .75.75v1.501a.75.75 0 0 1-1.5 0V9.787a.75.75 0 0 1 .75-.75Zm4.25.75v1.501a.75.75 0 0 1-1.5 0V9.787a.75.75 0 0 1 1.5 0Z"></path>
</svg>
</template>

<template id="copilot-error-icon">
  <svg aria-hidden="true" height="16" viewBox="0 0 16 16" version="1.1" width="16" data-view-component="true" class="octicon octicon-copilot-error">
    <path d="M16 11.24c0 .112-.072.274-.21.467L13 9.688V7.862l-.023-.116c-.49.21-1.075.291-1.727.291-.198 0-.388-.009-.571-.029L6.833 5.226a4.01 4.01 0 0 0 .17-.782c.117-.935-.037-1.395-.241-1.614-.193-.206-.637-.413-1.682-.297-.683.076-1.115.231-1.395.415l-1.257-.91c.579-.564 1.413-.877 2.485-.996 1.206-.134 2.262.034 2.944.765.05.053.096.108.139.165.044-.057.094-.112.143-.165.682-.731 1.738-.899 2.944-.765 1.23.137 2.145.528 2.724 1.261.566.715.693 1.614.693 2.484 0 .572-.053 1.148-.254 1.656.066.228.098.429.126.612.012.076.024.148.037.218.924.385 1.522 1.471 1.591 2.095Zm-5.083-8.707c-1.044-.116-1.488.091-1.681.297-.204.219-.359.679-.242 1.614.091.726.303 1.231.618 1.553.299.305.784.54 1.638.54.922 0 1.28-.198 1.442-.379.179-.2.308-.578.308-1.371 0-.765-.123-1.242-.37-1.554-.233-.296-.693-.587-1.713-.7Zm2.511 11.074c-1.393.776-3.272 1.428-5.43 1.428-4.562 0-7.873-2.914-7.998-3.749V9.338c.085-.628.677-1.686 1.588-2.065.013-.07.024-.143.036-.218.029-.183.06-.384.126-.612-.18-.455-.241-.963-.252-1.475L.31 4.107A.747.747 0 0 1 0 3.509V3.49a.748.748 0 0 1 .625-.73c.156-.026.306.047.435.139l14.667 10.578a.592.592 0 0 1 .227.264.752.752 0 0 1 .046.249v.022a.75.75 0 0 1-1.19.596Zm-1.367-.991L5.635 7.964a5.128 5.128 0 0 1-.889.073c-.652 0-1.236-.081-1.727-.291l-.023.116v4.255c.419.323 2.722 1.433 5.002 1.433 1.539 0 3.089-.505 4.063-.934Z"></path>
</svg>
</template>

<template id="workflow-icon">
  <svg aria-hidden="true" height="16" viewBox="0 0 16 16" version="1.1" width="16" data-view-component="true" class="octicon octicon-workflow">
    <path d="M0 1.75C0 .784.784 0 1.75 0h3.5C6.216 0 7 .784 7 1.75v3.5A1.75 1.75 0 0 1 5.25 7H4v4a1 1 0 0 0 1 1h4v-1.25C9 9.784 9.784 9 10.75 9h3.5c.966 0 1.75.784 1.75 1.75v3.5A1.75 1.75 0 0 1 14.25 16h-3.5A1.75 1.75 0 0 1 9 14.25v-.75H5A2.5 2.5 0 0 1 2.5 11V7h-.75A1.75 1.75 0 0 1 0 5.25Zm1.75-.25a.25.25 0 0 0-.25.25v3.5c0 .138.112.25.25.25h3.5a.25.25 0 0 0 .25-.25v-3.5a.25.25 0 0 0-.25-.25Zm9 9a.25.25 0 0 0-.25.25v3.5c0 .138.112.25.25.25h3.5a.25.25 0 0 0 .25-.25v-3.5a.25.25 0 0 0-.25-.25Z"></path>
</svg>
</template>

<template id="book-icon">
  <svg aria-hidden="true" height="16" viewBox="0 0 16 16" version="1.1" width="16" data-view-component="true" class="octicon octicon-book">
    <path d="M0 1.75A.75.75 0 0 1 .75 1h4.253c1.227 0 2.317.59 3 1.501A3.743 3.743 0 0 1 11.006 1h4.245a.75.75 0 0 1 .75.75v10.5a.75.75 0 0 1-.75.75h-4.507a2.25 2.25 0 0 0-1.591.659l-.622.621a.75.75 0 0 1-1.06 0l-.622-.621A2.25 2.25 0 0 0 5.258 13H.75a.75.75 0 0 1-.75-.75Zm7.251 10.324.004-5.073-.002-2.253A2.25 2.25 0 0 0 5.003 2.5H1.5v9h3.757a3.75 3.75 0 0 1 1.994.574ZM8.755 4.75l-.004 7.322a3.752 3.752 0 0 1 1.992-.572H14.5v-9h-3.495a2.25 2.25 0 0 0-2.25 2.25Z"></path>
</svg>
</template>

<template id="code-review-icon">
  <svg aria-hidden="true" height="16" viewBox="0 0 16 16" version="1.1" width="16" data-view-component="true" class="octicon octicon-code-review">
    <path d="M1.75 1h12.5c.966 0 1.75.784 1.75 1.75v8.5A1.75 1.75 0 0 1 14.25 13H8.061l-2.574 2.573A1.458 1.458 0 0 1 3 14.543V13H1.75A1.75 1.75 0 0 1 0 11.25v-8.5C0 1.784.784 1 1.75 1ZM1.5 2.75v8.5c0 .138.112.25.25.25h2a.75.75 0 0 1 .75.75v2.19l2.72-2.72a.749.749 0 0 1 .53-.22h6.5a.25.25 0 0 0 .25-.25v-8.5a.25.25 0 0 0-.25-.25H1.75a.25.25 0 0 0-.25.25Zm5.28 1.72a.75.75 0 0 1 0 1.06L5.31 7l1.47 1.47a.751.751 0 0 1-.018 1.042.751.751 0 0 1-1.042.018l-2-2a.75.75 0 0 1 0-1.06l2-2a.75.75 0 0 1 1.06 0Zm2.44 0a.75.75 0 0 1 1.06 0l2 2a.75.75 0 0 1 0 1.06l-2 2a.751.751 0 0 1-1.042-.018.751.751 0 0 1-.018-1.042L10.69 7 9.22 5.53a.75.75 0 0 1 0-1.06Z"></path>
</svg>
</template>

<template id="codespaces-icon">
  <svg aria-hidden="true" height="16" viewBox="0 0 16 16" version="1.1" width="16" data-view-component="true" class="octicon octicon-codespaces">
    <path d="M0 11.25c0-.966.784-1.75 1.75-1.75h12.5c.966 0 1.75.784 1.75 1.75v3A1.75 1.75 0 0 1 14.25 16H1.75A1.75 1.75 0 0 1 0 14.25Zm2-9.5C2 .784 2.784 0 3.75 0h8.5C13.216 0 14 .784 14 1.75v5a1.75 1.75 0 0 1-1.75 1.75h-8.5A1.75 1.75 0 0 1 2 6.75Zm1.75-.25a.25.25 0 0 0-.25.25v5c0 .138.112.25.25.25h8.5a.25.25 0 0 0 .25-.25v-5a.25.25 0 0 0-.25-.25Zm-2 9.5a.25.25 0 0 0-.25.25v3c0 .138.112.25.25.25h12.5a.25.25 0 0 0 .25-.25v-3a.25.25 0 0 0-.25-.25Z"></path><path d="M7 12.75a.75.75 0 0 1 .75-.75h4.5a.75.75 0 0 1 0 1.5h-4.5a.75.75 0 0 1-.75-.75Zm-4 0a.75.75 0 0 1 .75-.75h.5a.75.75 0 0 1 0 1.5h-.5a.75.75 0 0 1-.75-.75Z"></path>
</svg>
</template>

<template id="comment-icon">
  <svg aria-hidden="true" height="16" viewBox="0 0 16 16" version="1.1" width="16" data-view-component="true" class="octicon octicon-comment">
    <path d="M1 2.75C1 1.784 1.784 1 2.75 1h10.5c.966 0 1.75.784 1.75 1.75v7.5A1.75 1.75 0 0 1 13.25 12H9.06l-2.573 2.573A1.458 1.458 0 0 1 4 13.543V12H2.75A1.75 1.75 0 0 1 1 10.25Zm1.75-.25a.25.25 0 0 0-.25.25v7.5c0 .138.112.25.25.25h2a.75.75 0 0 1 .75.75v2.19l2.72-2.72a.749.749 0 0 1 .53-.22h4.5a.25.25 0 0 0 .25-.25v-7.5a.25.25 0 0 0-.25-.25Z"></path>
</svg>
</template>

<template id="comment-discussion-icon">
  <svg aria-hidden="true" height="16" viewBox="0 0 16 16" version="1.1" width="16" data-view-component="true" class="octicon octicon-comment-discussion">
    <path d="M1.75 1h8.5c.966 0 1.75.784 1.75 1.75v5.5A1.75 1.75 0 0 1 10.25 10H7.061l-2.574 2.573A1.458 1.458 0 0 1 2 11.543V10h-.25A1.75 1.75 0 0 1 0 8.25v-5.5C0 1.784.784 1 1.75 1ZM1.5 2.75v5.5c0 .138.112.25.25.25h1a.75.75 0 0 1 .75.75v2.19l2.72-2.72a.749.749 0 0 1 .53-.22h3.5a.25.25 0 0 0 .25-.25v-5.5a.25.25 0 0 0-.25-.25h-8.5a.25.25 0 0 0-.25.25Zm13 2a.25.25 0 0 0-.25-.25h-.5a.75.75 0 0 1 0-1.5h.5c.966 0 1.75.784 1.75 1.75v5.5A1.75 1.75 0 0 1 14.25 12H14v1.543a1.458 1.458 0 0 1-2.487 1.03L9.22 12.28a.749.749 0 0 1 .326-1.275.749.749 0 0 1 .734.215l2.22 2.22v-2.19a.75.75 0 0 1 .75-.75h1a.25.25 0 0 0 .25-.25Z"></path>
</svg>
</template>

<template id="organization-icon">
  <svg aria-hidden="true" height="16" viewBox="0 0 16 16" version="1.1" width="16" data-view-component="true" class="octicon octicon-organization">
    <path d="M1.75 16A1.75 1.75 0 0 1 0 14.25V1.75C0 .784.784 0 1.75 0h8.5C11.216 0 12 .784 12 1.75v12.5c0 .085-.006.168-.018.25h2.268a.25.25 0 0 0 .25-.25V8.285a.25.25 0 0 0-.111-.208l-1.055-.703a.749.749 0 1 1 .832-1.248l1.055.703c.487.325.779.871.779 1.456v5.965A1.75 1.75 0 0 1 14.25 16h-3.5a.766.766 0 0 1-.197-.026c-.099.017-.2.026-.303.026h-3a.75.75 0 0 1-.75-.75V14h-1v1.25a.75.75 0 0 1-.75.75Zm-.25-1.75c0 .138.112.25.25.25H4v-1.25a.75.75 0 0 1 .75-.75h2.5a.75.75 0 0 1 .75.75v1.25h2.25a.25.25 0 0 0 .25-.25V1.75a.25.25 0 0 0-.25-.25h-8.5a.25.25 0 0 0-.25.25ZM3.75 6h.5a.75.75 0 0 1 0 1.5h-.5a.75.75 0 0 1 0-1.5ZM3 3.75A.75.75 0 0 1 3.75 3h.5a.75.75 0 0 1 0 1.5h-.5A.75.75 0 0 1 3 3.75Zm4 3A.75.75 0 0 1 7.75 6h.5a.75.75 0 0 1 0 1.5h-.5A.75.75 0 0 1 7 6.75ZM7.75 3h.5a.75.75 0 0 1 0 1.5h-.5a.75.75 0 0 1 0-1.5ZM3 9.75A.75.75 0 0 1 3.75 9h.5a.75.75 0 0 1 0 1.5h-.5A.75.75 0 0 1 3 9.75ZM7.75 9h.5a.75.75 0 0 1 0 1.5h-.5a.75.75 0 0 1 0-1.5Z"></path>
</svg>
</template>

<template id="rocket-icon">
  <svg aria-hidden="true" height="16" viewBox="0 0 16 16" version="1.1" width="16" data-view-component="true" class="octicon octicon-rocket">
    <path d="M14.064 0h.186C15.216 0 16 .784 16 1.75v.186a8.752 8.752 0 0 1-2.564 6.186l-.458.459c-.314.314-.641.616-.979.904v3.207c0 .608-.315 1.172-.833 1.49l-2.774 1.707a.749.749 0 0 1-1.11-.418l-.954-3.102a1.214 1.214 0 0 1-.145-.125L3.754 9.816a1.218 1.218 0 0 1-.124-.145L.528 8.717a.749.749 0 0 1-.418-1.11l1.71-2.774A1.748 1.748 0 0 1 3.31 4h3.204c.288-.338.59-.665.904-.979l.459-.458A8.749 8.749 0 0 1 14.064 0ZM8.938 3.623h-.002l-.458.458c-.76.76-1.437 1.598-2.02 2.5l-1.5 2.317 2.143 2.143 2.317-1.5c.902-.583 1.74-1.26 2.499-2.02l.459-.458a7.25 7.25 0 0 0 2.123-5.127V1.75a.25.25 0 0 0-.25-.25h-.186a7.249 7.249 0 0 0-5.125 2.123ZM3.56 14.56c-.732.732-2.334 1.045-3.005 1.148a.234.234 0 0 1-.201-.064.234.234 0 0 1-.064-.201c.103-.671.416-2.273 1.15-3.003a1.502 1.502 0 1 1 2.12 2.12Zm6.94-3.935c-.088.06-.177.118-.266.175l-2.35 1.521.548 1.783 1.949-1.2a.25.25 0 0 0 .119-.213ZM3.678 8.116 5.2 5.766c.058-.09.117-.178.176-.266H3.309a.25.25 0 0 0-.213.119l-1.2 1.95ZM12 5a1 1 0 1 1-2 0 1 1 0 0 1 2 0Z"></path>
</svg>
</template>

<template id="shield-check-icon">
  <svg aria-hidden="true" height="16" viewBox="0 0 16 16" version="1.1" width="16" data-view-component="true" class="octicon octicon-shield-check">
    <path d="m8.533.133 5.25 1.68A1.75 1.75 0 0 1 15 3.48V7c0 1.566-.32 3.182-1.303 4.682-.983 1.498-2.585 2.813-5.032 3.855a1.697 1.697 0 0 1-1.33 0c-2.447-1.042-4.049-2.357-5.032-3.855C1.32 10.182 1 8.566 1 7V3.48a1.75 1.75 0 0 1 1.217-1.667l5.25-1.68a1.748 1.748 0 0 1 1.066 0Zm-.61 1.429.001.001-5.25 1.68a.251.251 0 0 0-.174.237V7c0 1.36.275 2.666 1.057 3.859.784 1.194 2.121 2.342 4.366 3.298a.196.196 0 0 0 .154 0c2.245-.957 3.582-2.103 4.366-3.297C13.225 9.666 13.5 8.358 13.5 7V3.48a.25.25 0 0 0-.174-.238l-5.25-1.68a.25.25 0 0 0-.153 0ZM11.28 6.28l-3.5 3.5a.75.75 0 0 1-1.06 0l-1.5-1.5a.749.749 0 0 1 .326-1.275.749.749 0 0 1 .734.215l.97.97 2.97-2.97a.751.751 0 0 1 1.042.018.751.751 0 0 1 .018 1.042Z"></path>
</svg>
</template>

<template id="heart-icon">
  <svg aria-hidden="true" height="16" viewBox="0 0 16 16" version="1.1" width="16" data-view-component="true" class="octicon octicon-heart">
    <path d="m8 14.25.345.666a.75.75 0 0 1-.69 0l-.008-.004-.018-.01a7.152 7.152 0 0 1-.31-.17 22.055 22.055 0 0 1-3.434-2.414C2.045 10.731 0 8.35 0 5.5 0 2.836 2.086 1 4.25 1 5.797 1 7.153 1.802 8 3.02 8.847 1.802 10.203 1 11.75 1 13.914 1 16 2.836 16 5.5c0 2.85-2.045 5.231-3.885 6.818a22.066 22.066 0 0 1-3.744 2.584l-.018.01-.006.003h-.002ZM4.25 2.5c-1.336 0-2.75 1.164-2.75 3 0 2.15 1.58 4.144 3.365 5.682A20.58 20.58 0 0 0 8 13.393a20.58 20.58 0 0 0 3.135-2.211C12.92 9.644 14.5 7.65 14.5 5.5c0-1.836-1.414-3-2.75-3-1.373 0-2.609.986-3.029 2.456a.749.749 0 0 1-1.442 0C6.859 3.486 5.623 2.5 4.25 2.5Z"></path>
</svg>
</template>

<template id="server-icon">
  <svg aria-hidden="true" height="16" viewBox="0 0 16 16" version="1.1" width="16" data-view-component="true" class="octicon octicon-server">
    <path d="M1.75 1h12.5c.966 0 1.75.784 1.75 1.75v4c0 .372-.116.717-.314 1 .198.283.314.628.314 1v4a1.75 1.75 0 0 1-1.75 1.75H1.75A1.75 1.75 0 0 1 0 12.75v-4c0-.358.109-.707.314-1a1.739 1.739 0 0 1-.314-1v-4C0 1.784.784 1 1.75 1ZM1.5 2.75v4c0 .138.112.25.25.25h12.5a.25.25 0 0 0 .25-.25v-4a.25.25 0 0 0-.25-.25H1.75a.25.25 0 0 0-.25.25Zm.25 5.75a.25.25 0 0 0-.25.25v4c0 .138.112.25.25.25h12.5a.25.25 0 0 0 .25-.25v-4a.25.25 0 0 0-.25-.25ZM7 4.75A.75.75 0 0 1 7.75 4h4.5a.75.75 0 0 1 0 1.5h-4.5A.75.75 0 0 1 7 4.75ZM7.75 10h4.5a.75.75 0 0 1 0 1.5h-4.5a.75.75 0 0 1 0-1.5ZM3 4.75A.75.75 0 0 1 3.75 4h.5a.75.75 0 0 1 0 1.5h-.5A.75.75 0 0 1 3 4.75ZM3.75 10h.5a.75.75 0 0 1 0 1.5h-.5a.75.75 0 0 1 0-1.5Z"></path>
</svg>
</template>

<template id="globe-icon">
  <svg aria-hidden="true" height="16" viewBox="0 0 16 16" version="1.1" width="16" data-view-component="true" class="octicon octicon-globe">
    <path d="M8 0a8 8 0 1 1 0 16A8 8 0 0 1 8 0ZM5.78 8.75a9.64 9.64 0 0 0 1.363 4.177c.255.426.542.832.857 1.215.245-.296.551-.705.857-1.215A9.64 9.64 0 0 0 10.22 8.75Zm4.44-1.5a9.64 9.64 0 0 0-1.363-4.177c-.307-.51-.612-.919-.857-1.215a9.927 9.927 0 0 0-.857 1.215A9.64 9.64 0 0 0 5.78 7.25Zm-5.944 1.5H1.543a6.507 6.507 0 0 0 4.666 5.5c-.123-.181-.24-.365-.352-.552-.715-1.192-1.437-2.874-1.581-4.948Zm-2.733-1.5h2.733c.144-2.074.866-3.756 1.58-4.948.12-.197.237-.381.353-.552a6.507 6.507 0 0 0-4.666 5.5Zm10.181 1.5c-.144 2.074-.866 3.756-1.58 4.948-.12.197-.237.381-.353.552a6.507 6.507 0 0 0 4.666-5.5Zm2.733-1.5a6.507 6.507 0 0 0-4.666-5.5c.123.181.24.365.353.552.714 1.192 1.436 2.874 1.58 4.948Z"></path>
</svg>
</template>

<template id="issue-opened-icon">
  <svg aria-hidden="true" height="16" viewBox="0 0 16 16" version="1.1" width="16" data-view-component="true" class="octicon octicon-issue-opened">
    <path d="M8 9.5a1.5 1.5 0 1 0 0-3 1.5 1.5 0 0 0 0 3Z"></path><path d="M8 0a8 8 0 1 1 0 16A8 8 0 0 1 8 0ZM1.5 8a6.5 6.5 0 1 0 13 0 6.5 6.5 0 0 0-13 0Z"></path>
</svg>
</template>

<template id="device-mobile-icon">
  <svg aria-hidden="true" height="16" viewBox="0 0 16 16" version="1.1" width="16" data-view-component="true" class="octicon octicon-device-mobile">
    <path d="M3.75 0h8.5C13.216 0 14 .784 14 1.75v12.5A1.75 1.75 0 0 1 12.25 16h-8.5A1.75 1.75 0 0 1 2 14.25V1.75C2 .784 2.784 0 3.75 0ZM3.5 1.75v12.5c0 .138.112.25.25.25h8.5a.25.25 0 0 0 .25-.25V1.75a.25.25 0 0 0-.25-.25h-8.5a.25.25 0 0 0-.25.25ZM8 13a1 1 0 1 1 0-2 1 1 0 0 1 0 2Z"></path>
</svg>
</template>

<template id="package-icon">
  <svg aria-hidden="true" height="16" viewBox="0 0 16 16" version="1.1" width="16" data-view-component="true" class="octicon octicon-package">
    <path d="m8.878.392 5.25 3.045c.54.314.872.89.872 1.514v6.098a1.75 1.75 0 0 1-.872 1.514l-5.25 3.045a1.75 1.75 0 0 1-1.756 0l-5.25-3.045A1.75 1.75 0 0 1 1 11.049V4.951c0-.624.332-1.201.872-1.514L7.122.392a1.75 1.75 0 0 1 1.756 0ZM7.875 1.69l-4.63 2.685L8 7.133l4.755-2.758-4.63-2.685a.248.248 0 0 0-.25 0ZM2.5 5.677v5.372c0 .09.047.171.125.216l4.625 2.683V8.432Zm6.25 8.271 4.625-2.683a.25.25 0 0 0 .125-.216V5.677L8.75 8.432Z"></path>
</svg>
</template>

<template id="credit-card-icon">
  <svg aria-hidden="true" height="16" viewBox="0 0 16 16" version="1.1" width="16" data-view-component="true" class="octicon octicon-credit-card">
    <path d="M10.75 9a.75.75 0 0 0 0 1.5h1.5a.75.75 0 0 0 0-1.5h-1.5Z"></path><path d="M0 3.75C0 2.784.784 2 1.75 2h12.5c.966 0 1.75.784 1.75 1.75v8.5A1.75 1.75 0 0 1 14.25 14H1.75A1.75 1.75 0 0 1 0 12.25ZM14.5 6.5h-13v5.75c0 .138.112.25.25.25h12.5a.25.25 0 0 0 .25-.25Zm0-2.75a.25.25 0 0 0-.25-.25H1.75a.25.25 0 0 0-.25.25V5h13Z"></path>
</svg>
</template>

<template id="play-icon">
  <svg aria-hidden="true" height="16" viewBox="0 0 16 16" version="1.1" width="16" data-view-component="true" class="octicon octicon-play">
    <path d="M8 0a8 8 0 1 1 0 16A8 8 0 0 1 8 0ZM1.5 8a6.5 6.5 0 1 0 13 0 6.5 6.5 0 0 0-13 0Zm4.879-2.773 4.264 2.559a.25.25 0 0 1 0 .428l-4.264 2.559A.25.25 0 0 1 6 10.559V5.442a.25.25 0 0 1 .379-.215Z"></path>
</svg>
</template>

<template id="gift-icon">
  <svg aria-hidden="true" height="16" viewBox="0 0 16 16" version="1.1" width="16" data-view-component="true" class="octicon octicon-gift">
    <path d="M2 2.75A2.75 2.75 0 0 1 4.75 0c.983 0 1.873.42 2.57 1.232.268.318.497.668.68 1.042.183-.375.411-.725.68-1.044C9.376.42 10.266 0 11.25 0a2.75 2.75 0 0 1 2.45 4h.55c.966 0 1.75.784 1.75 1.75v2c0 .698-.409 1.301-1 1.582v4.918A1.75 1.75 0 0 1 13.25 16H2.75A1.75 1.75 0 0 1 1 14.25V9.332C.409 9.05 0 8.448 0 7.75v-2C0 4.784.784 4 1.75 4h.55c-.192-.375-.3-.8-.3-1.25ZM7.25 9.5H2.5v4.75c0 .138.112.25.25.25h4.5Zm1.5 0v5h4.5a.25.25 0 0 0 .25-.25V9.5Zm0-4V8h5.5a.25.25 0 0 0 .25-.25v-2a.25.25 0 0 0-.25-.25Zm-7 0a.25.25 0 0 0-.25.25v2c0 .138.112.25.25.25h5.5V5.5h-5.5Zm3-4a1.25 1.25 0 0 0 0 2.5h2.309c-.233-.818-.542-1.401-.878-1.793-.43-.502-.915-.707-1.431-.707ZM8.941 4h2.309a1.25 1.25 0 0 0 0-2.5c-.516 0-1 .205-1.43.707-.337.392-.646.975-.879 1.793Z"></path>
</svg>
</template>

<template id="code-square-icon">
  <svg aria-hidden="true" height="16" viewBox="0 0 16 16" version="1.1" width="16" data-view-component="true" class="octicon octicon-code-square">
    <path d="M0 1.75C0 .784.784 0 1.75 0h12.5C15.216 0 16 .784 16 1.75v12.5A1.75 1.75 0 0 1 14.25 16H1.75A1.75 1.75 0 0 1 0 14.25Zm1.75-.25a.25.25 0 0 0-.25.25v12.5c0 .138.112.25.25.25h12.5a.25.25 0 0 0 .25-.25V1.75a.25.25 0 0 0-.25-.25Zm7.47 3.97a.75.75 0 0 1 1.06 0l2 2a.75.75 0 0 1 0 1.06l-2 2a.749.749 0 0 1-1.275-.326.749.749 0 0 1 .215-.734L10.69 8 9.22 6.53a.75.75 0 0 1 0-1.06ZM6.78 6.53 5.31 8l1.47 1.47a.749.749 0 0 1-.326 1.275.749.749 0 0 1-.734-.215l-2-2a.75.75 0 0 1 0-1.06l2-2a.751.751 0 0 1 1.042.018.751.751 0 0 1 .018 1.042Z"></path>
</svg>
</template>

<template id="device-desktop-icon">
  <svg aria-hidden="true" height="16" viewBox="0 0 16 16" version="1.1" width="16" data-view-component="true" class="octicon octicon-device-desktop">
    <path d="M14.25 1c.966 0 1.75.784 1.75 1.75v7.5A1.75 1.75 0 0 1 14.25 12h-3.727c.099 1.041.52 1.872 1.292 2.757A.752.752 0 0 1 11.25 16h-6.5a.75.75 0 0 1-.565-1.243c.772-.885 1.192-1.716 1.292-2.757H1.75A1.75 1.75 0 0 1 0 10.25v-7.5C0 1.784.784 1 1.75 1ZM1.75 2.5a.25.25 0 0 0-.25.25v7.5c0 .138.112.25.25.25h12.5a.25.25 0 0 0 .25-.25v-7.5a.25.25 0 0 0-.25-.25ZM9.018 12H6.982a5.72 5.72 0 0 1-.765 2.5h3.566a5.72 5.72 0 0 1-.765-2.5Z"></path>
</svg>
</template>

        <div class="position-relative">
                <ul
                  role="listbox"
                  class="ActionListWrap QueryBuilder-ListWrap"
                  aria-label="Suggestions"
                  data-action="
                    combobox-commit:query-builder#comboboxCommit
                    mousedown:query-builder#resultsMousedown
                  "
                  data-target="query-builder.resultsList"
                  data-persist-list=false
                  id="query-builder-test-results"
                ></ul>
        </div>
      <div class="FormControl-inlineValidation" id="validation-6ce4e90b-1e94-47ee-9fe9-afea368ee06d" hidden="hidden">
        <span class="FormControl-inlineValidation--visual">
          <svg aria-hidden="true" height="12" viewBox="0 0 12 12" version="1.1" width="12" data-view-component="true" class="octicon octicon-alert-fill">
    <path d="M4.855.708c.5-.896 1.79-.896 2.29 0l4.675 8.351a1.312 1.312 0 0 1-1.146 1.954H1.33A1.313 1.313 0 0 1 .183 9.058ZM7 7V3H5v4Zm-1 3a1 1 0 1 0 0-2 1 1 0 0 0 0 2Z"></path>
</svg>
        </span>
        <span></span>
</div>    </div>
    <div data-target="query-builder.screenReaderFeedback" aria-live="polite" aria-atomic="true" class="sr-only"></div>
</query-builder></form>
          <div class="d-flex flex-row color-fg-muted px-3 text-small color-bg-default search-feedback-prompt">
            <a target="_blank" href="https://docs.github.com/search-github/github-code-search/understanding-github-code-search-syntax" data-view-component="true" class="Link color-fg-accent text-normal ml-2">
              Search syntax tips
</a>            <div class="d-flex flex-1"></div>
              <button data-action="click:qbsearch-input#showFeedbackDialog" type="button" data-view-component="true" class="Button--link Button--medium Button color-fg-accent text-normal ml-2">  <span class="Button-content">
    <span class="Button-label">Give feedback</span>
  </span>
</button>
          </div>
        </div>
</div>

    </div>
</modal-dialog></div>
  </div>
  <div data-action="click:qbsearch-input#retract" class="dark-backdrop position-fixed" hidden data-target="qbsearch-input.darkBackdrop"></div>
  <div class="color-fg-default">
    
<dialog-helper>
  <dialog data-target="qbsearch-input.feedbackDialog" data-action="close:qbsearch-input#handleDialogClose cancel:qbsearch-input#handleDialogClose" id="feedback-dialog" aria-modal="true" aria-labelledby="feedback-dialog-title" aria-describedby="feedback-dialog-description" data-view-component="true" class="Overlay Overlay-whenNarrow Overlay--size-medium Overlay--motion-scaleFade">
    <div data-view-component="true" class="Overlay-header">
  <div class="Overlay-headerContentWrap">
    <div class="Overlay-titleWrap">
      <h1 class="Overlay-title " id="feedback-dialog-title">
        Provide feedback
      </h1>
        
    </div>
    <div class="Overlay-actionWrap">
      <button data-close-dialog-id="feedback-dialog" aria-label="Close" type="button" data-view-component="true" class="close-button Overlay-closeButton"><svg aria-hidden="true" height="16" viewBox="0 0 16 16" version="1.1" width="16" data-view-component="true" class="octicon octicon-x">
    <path d="M3.72 3.72a.75.75 0 0 1 1.06 0L8 6.94l3.22-3.22a.749.749 0 0 1 1.275.326.749.749 0 0 1-.215.734L9.06 8l3.22 3.22a.749.749 0 0 1-.326 1.275.749.749 0 0 1-.734-.215L8 9.06l-3.22 3.22a.751.751 0 0 1-1.042-.018.751.751 0 0 1-.018-1.042L6.94 8 3.72 4.78a.75.75 0 0 1 0-1.06Z"></path>
</svg></button>
    </div>
  </div>
  
</div>
      <scrollable-region data-labelled-by="feedback-dialog-title">
        <div data-view-component="true" class="Overlay-body">        <!-- '"` --><!-- </textarea></xmp> --></option></form><form id="code-search-feedback-form" data-turbo="false" action="/search/feedback" accept-charset="UTF-8" method="post"><input type="hidden" name="authenticity_token" value="IRerGe7gGurRCI5i5fxJF8t0_QJ2PJuwN0OjSnpmUyKnbyUhtlbq-L5EFnDsjXKUFMQPOXm_tZymbU8RYyId6w" />
          <p>We read every piece of feedback, and take your input very seriously.</p>
          <textarea name="feedback" class="form-control width-full mb-2" style="height: 120px" id="feedback"></textarea>
          <input name="include_email" id="include_email" aria-label="Include my email address so I can be contacted" class="form-control mr-2" type="checkbox">
          <label for="include_email" style="font-weight: normal">Include my email address so I can be contacted</label>
</form></div>
      </scrollable-region>
      <div data-view-component="true" class="Overlay-footer Overlay-footer--alignEnd">          <button data-close-dialog-id="feedback-dialog" type="button" data-view-component="true" class="btn">    Cancel
</button>
          <button form="code-search-feedback-form" data-action="click:qbsearch-input#submitFeedback" type="submit" data-view-component="true" class="btn-primary btn">    Submit feedback
</button>
</div>
</dialog></dialog-helper>

    <custom-scopes data-target="qbsearch-input.customScopesManager">
    
<dialog-helper>
  <dialog data-target="custom-scopes.customScopesModalDialog" data-action="close:qbsearch-input#handleDialogClose cancel:qbsearch-input#handleDialogClose" id="custom-scopes-dialog" aria-modal="true" aria-labelledby="custom-scopes-dialog-title" aria-describedby="custom-scopes-dialog-description" data-view-component="true" class="Overlay Overlay-whenNarrow Overlay--size-medium Overlay--motion-scaleFade">
    <div data-view-component="true" class="Overlay-header Overlay-header--divided">
  <div class="Overlay-headerContentWrap">
    <div class="Overlay-titleWrap">
      <h1 class="Overlay-title " id="custom-scopes-dialog-title">
        Saved searches
      </h1>
        <h2 id="custom-scopes-dialog-description" class="Overlay-description">Use saved searches to filter your results more quickly</h2>
    </div>
    <div class="Overlay-actionWrap">
      <button data-close-dialog-id="custom-scopes-dialog" aria-label="Close" type="button" data-view-component="true" class="close-button Overlay-closeButton"><svg aria-hidden="true" height="16" viewBox="0 0 16 16" version="1.1" width="16" data-view-component="true" class="octicon octicon-x">
    <path d="M3.72 3.72a.75.75 0 0 1 1.06 0L8 6.94l3.22-3.22a.749.749 0 0 1 1.275.326.749.749 0 0 1-.215.734L9.06 8l3.22 3.22a.749.749 0 0 1-.326 1.275.749.749 0 0 1-.734-.215L8 9.06l-3.22 3.22a.751.751 0 0 1-1.042-.018.751.751 0 0 1-.018-1.042L6.94 8 3.72 4.78a.75.75 0 0 1 0-1.06Z"></path>
</svg></button>
    </div>
  </div>
  
</div>
      <scrollable-region data-labelled-by="custom-scopes-dialog-title">
        <div data-view-component="true" class="Overlay-body">        <div data-target="custom-scopes.customScopesModalDialogFlash"></div>

        <div hidden class="create-custom-scope-form" data-target="custom-scopes.createCustomScopeForm">
        <!-- '"` --><!-- </textarea></xmp> --></option></form><form id="custom-scopes-dialog-form" data-turbo="false" action="/search/custom_scopes" accept-charset="UTF-8" method="post"><input type="hidden" name="authenticity_token" value="A3sCjqQKK0Uktr7EXO3jsoPEd2ovzeDsyPeLQnElO9yHiQldPWqvUreW6SHpjs7xXqP4jqgmEw6B7hLZOuFsLA" />
          <div data-target="custom-scopes.customScopesModalDialogFlash"></div>

          <input type="hidden" id="custom_scope_id" name="custom_scope_id" data-target="custom-scopes.customScopesIdField">

          <div class="form-group">
            <label for="custom_scope_name">Name</label>
            <auto-check src="/search/custom_scopes/check_name" required>
              <input
                type="text"
                name="custom_scope_name"
                id="custom_scope_name"
                data-target="custom-scopes.customScopesNameField"
                class="form-control"
                autocomplete="off"
                placeholder="github-ruby"
                required
                maxlength="50">
              <input type="hidden" value="mYVKXgRXt3v2GOGK2l6La1O1qMJzRZdY-1umpsE7t_IB20Pd3PvLRA0i-Su0UscdZ4_zs4T9GnkOQoxUnr0xUg" data-csrf="true" />
            </auto-check>
          </div>

          <div class="form-group">
            <label for="custom_scope_query">Query</label>
            <input
              type="text"
              name="custom_scope_query"
              id="custom_scope_query"
              data-target="custom-scopes.customScopesQueryField"
              class="form-control"
              autocomplete="off"
              placeholder="(repo:mona/a OR repo:mona/b) AND lang:python"
              required
              maxlength="500">
          </div>

          <p class="text-small color-fg-muted">
            To see all available qualifiers, see our <a class="Link--inTextBlock" href="https://docs.github.com/search-github/github-code-search/understanding-github-code-search-syntax">documentation</a>.
          </p>
</form>        </div>

        <div data-target="custom-scopes.manageCustomScopesForm">
          <div data-target="custom-scopes.list"></div>
        </div>

</div>
      </scrollable-region>
      <div data-view-component="true" class="Overlay-footer Overlay-footer--alignEnd Overlay-footer--divided">          <button data-action="click:custom-scopes#customScopesCancel" type="button" data-view-component="true" class="btn">    Cancel
</button>
          <button form="custom-scopes-dialog-form" data-action="click:custom-scopes#customScopesSubmit" data-target="custom-scopes.customScopesSubmitButton" type="submit" data-view-component="true" class="btn-primary btn">    Create saved search
</button>
</div>
</dialog></dialog-helper>
    </custom-scopes>
  </div>
</qbsearch-input>    <input type="hidden" value="Eu4WlwZXUbAJQVSLFaQ-zp9F1CYsVhdOCGkvlWh2KvsCG5JjlxEfc4Ozi2VsV6prRPtnjFcNh5d77rB9i0G3Cw" data-csrf="true" class="js-data-jump-to-suggestions-path-csrf" />

          </div>

        <div class="AppHeader-actions position-relative">
             <react-partial-anchor>
      <button id="global-create-menu-anchor" aria-label="Create something new" data-target="react-partial-anchor.anchor" type="button" disabled="disabled" data-view-component="true" class="AppHeader-button global-create-button cursor-wait Button--secondary Button--medium Button width-auto color-fg-muted">  <span class="Button-content">
      <span class="Button-visual Button-leadingVisual">
        <svg aria-hidden="true" height="16" viewBox="0 0 16 16" version="1.1" width="16" data-view-component="true" class="octicon octicon-plus">
    <path d="M7.75 2a.75.75 0 0 1 .75.75V7h4.25a.75.75 0 0 1 0 1.5H8.5v4.25a.75.75 0 0 1-1.5 0V8.5H2.75a.75.75 0 0 1 0-1.5H7V2.75A.75.75 0 0 1 7.75 2Z"></path>
</svg>
      </span>
    <span class="Button-label"><svg aria-hidden="true" height="16" viewBox="0 0 16 16" version="1.1" width="16" data-view-component="true" class="octicon octicon-triangle-down">
    <path d="m4.427 7.427 3.396 3.396a.25.25 0 0 0 .354 0l3.396-3.396A.25.25 0 0 0 11.396 7H4.604a.25.25 0 0 0-.177.427Z"></path>
</svg></span>
  </span>
</button><tool-tip id="tooltip-caae4577-70bd-4272-a015-764f494a9725" for="global-create-menu-anchor" popover="manual" data-direction="s" data-type="description" data-view-component="true" class="sr-only position-absolute">Create new...</tool-tip>

      <template data-target="react-partial-anchor.template">
        <script crossorigin="anonymous" defer="defer" type="application/javascript" src="https://github.githubassets.com/assets/vendors-node_modules_primer_react_lib-esm_FeatureFlags_FeatureFlags_js-node_modules_primer_re-7faff4-e1568ba89b9c.js"></script>
<script crossorigin="anonymous" defer="defer" type="application/javascript" src="https://github.githubassets.com/assets/ui_packages_react-core_register-partial_ts-ui_packages_global-create-menu_GlobalCreateMenu_tsx-eda592294bff.js"></script>
<script crossorigin="anonymous" defer="defer" type="application/javascript" src="https://github.githubassets.com/assets/global-create-menu-ea4992326398.js"></script>

<react-partial
  partial-name="global-create-menu"
  data-ssr="false"
>
  
  <script type="application/json" data-target="react-partial.embeddedData">{"props":{"createRepo":true,"importRepo":true,"codespaces":true,"gist":true,"createOrg":true,"createProject":false,"createProjectUrl":"/MathforDataScience?tab=projects","createLegacyProject":false,"createIssue":false,"org":null,"owner":"MathforDataScience","repo":"DSR_Statistics1"}}</script>
  <div data-target="react-partial.reactRoot"></div>
</react-partial>

      </template>
    </react-partial-anchor>


          <a href="/issues" data-analytics-event="{&quot;category&quot;:&quot;Global navigation&quot;,&quot;action&quot;:&quot;ISSUES_HEADER&quot;,&quot;label&quot;:null}" id="icon-button-e312e32d-9cd4-4c68-8fd6-bd1f3c0e7aeb" aria-labelledby="tooltip-d637abb9-6f34-403d-9ab0-ba90d795680f" data-view-component="true" class="Button Button--iconOnly Button--secondary Button--medium AppHeader-button color-fg-muted">  <svg aria-hidden="true" height="16" viewBox="0 0 16 16" version="1.1" width="16" data-view-component="true" class="octicon octicon-issue-opened Button-visual">
    <path d="M8 9.5a1.5 1.5 0 1 0 0-3 1.5 1.5 0 0 0 0 3Z"></path><path d="M8 0a8 8 0 1 1 0 16A8 8 0 0 1 8 0ZM1.5 8a6.5 6.5 0 1 0 13 0 6.5 6.5 0 0 0-13 0Z"></path>
</svg>
</a><tool-tip id="tooltip-d637abb9-6f34-403d-9ab0-ba90d795680f" for="icon-button-e312e32d-9cd4-4c68-8fd6-bd1f3c0e7aeb" popover="manual" data-direction="s" data-type="label" data-view-component="true" class="sr-only position-absolute">Issues</tool-tip>

          <a href="/pulls" data-analytics-event="{&quot;category&quot;:&quot;Global navigation&quot;,&quot;action&quot;:&quot;PULL_REQUESTS_HEADER&quot;,&quot;label&quot;:null}" id="icon-button-d922d864-b533-44bc-842b-8432533bb847" aria-labelledby="tooltip-6430ff95-4235-4de3-a0ed-b4fdfaf3249c" data-view-component="true" class="Button Button--iconOnly Button--secondary Button--medium AppHeader-button color-fg-muted">  <svg aria-hidden="true" height="16" viewBox="0 0 16 16" version="1.1" width="16" data-view-component="true" class="octicon octicon-git-pull-request Button-visual">
    <path d="M1.5 3.25a2.25 2.25 0 1 1 3 2.122v5.256a2.251 2.251 0 1 1-1.5 0V5.372A2.25 2.25 0 0 1 1.5 3.25Zm5.677-.177L9.573.677A.25.25 0 0 1 10 .854V2.5h1A2.5 2.5 0 0 1 13.5 5v5.628a2.251 2.251 0 1 1-1.5 0V5a1 1 0 0 0-1-1h-1v1.646a.25.25 0 0 1-.427.177L7.177 3.427a.25.25 0 0 1 0-.354ZM3.75 2.5a.75.75 0 1 0 0 1.5.75.75 0 0 0 0-1.5Zm0 9.5a.75.75 0 1 0 0 1.5.75.75 0 0 0 0-1.5Zm8.25.75a.75.75 0 1 0 1.5 0 .75.75 0 0 0-1.5 0Z"></path>
</svg>
</a><tool-tip id="tooltip-6430ff95-4235-4de3-a0ed-b4fdfaf3249c" for="icon-button-d922d864-b533-44bc-842b-8432533bb847" popover="manual" data-direction="s" data-type="label" data-view-component="true" class="sr-only position-absolute">Pull requests</tool-tip>

        </div>

        <notification-indicator data-channel="eyJjIjoibm90aWZpY2F0aW9uLWNoYW5nZWQ6NDI5NTkxNzQiLCJ0IjoxNzIzODIzNjYxfQ==--e55960dd438e202f4077265831f0e2db39a6e7a746427c846a5b4cfbd5ae6b43" data-indicator-mode="none" data-tooltip-global="You have unread notifications" data-tooltip-unavailable="Notifications are unavailable at the moment." data-tooltip-none="You have no unread notifications" data-header-redesign-enabled="true" data-fetch-indicator-src="/notifications/indicator" data-fetch-indicator-enabled="true" data-view-component="true" class="js-socket-channel">
    <a id="AppHeader-notifications-button" href="/notifications" aria-labelledby="notification-indicator-tooltip" data-hotkey="g n" data-target="notification-indicator.link" data-analytics-event="{&quot;category&quot;:&quot;Global navigation&quot;,&quot;action&quot;:&quot;NOTIFICATIONS_HEADER&quot;,&quot;label&quot;:null}" data-view-component="true" class="Button Button--iconOnly Button--secondary Button--medium AppHeader-button  color-fg-muted">  <svg aria-hidden="true" height="16" viewBox="0 0 16 16" version="1.1" width="16" data-view-component="true" class="octicon octicon-inbox Button-visual">
    <path d="M2.8 2.06A1.75 1.75 0 0 1 4.41 1h7.18c.7 0 1.333.417 1.61 1.06l2.74 6.395c.04.093.06.194.06.295v4.5A1.75 1.75 0 0 1 14.25 15H1.75A1.75 1.75 0 0 1 0 13.25v-4.5c0-.101.02-.202.06-.295Zm1.61.44a.25.25 0 0 0-.23.152L1.887 8H4.75a.75.75 0 0 1 .6.3L6.625 10h2.75l1.275-1.7a.75.75 0 0 1 .6-.3h2.863L11.82 2.652a.25.25 0 0 0-.23-.152Zm10.09 7h-2.875l-1.275 1.7a.75.75 0 0 1-.6.3h-3.5a.75.75 0 0 1-.6-.3L4.375 9.5H1.5v3.75c0 .138.112.25.25.25h12.5a.25.25 0 0 0 .25-.25Z"></path>
</svg>
</a>

    <tool-tip id="notification-indicator-tooltip" data-target="notification-indicator.tooltip" for="AppHeader-notifications-button" popover="manual" data-direction="s" data-type="label" data-view-component="true" class="sr-only position-absolute">Notifications</tool-tip>
</notification-indicator>

        

        <div class="AppHeader-user">
          <deferred-side-panel data-url="/_side-panels/user?repository_id=661665397">
  <include-fragment data-target="deferred-side-panel.fragment">
    <react-partial-anchor
  
>
  <button data-target="react-partial-anchor.anchor" data-login="MathforDataScience" aria-label="Open user navigation menu" type="button" data-view-component="true" class="cursor-wait Button--invisible Button--medium Button Button--invisible-noVisuals color-bg-transparent p-0">  <span class="Button-content">
    <span class="Button-label"><img src="https://avatars.githubusercontent.com/u/42959174?v=4" alt="" size="32" height="32" width="32" data-view-component="true" class="avatar circle" /></span>
  </span>
</button>
  <template data-target="react-partial-anchor.template">
    <script crossorigin="anonymous" defer="defer" type="application/javascript" src="https://github.githubassets.com/assets/global-user-nav-drawer-13d6c248f2c5.js"></script>
<link crossorigin="anonymous" media="all" rel="stylesheet" href="https://github.githubassets.com/assets/primer-react-css.c618884f5114d8c53ed1.module.css" />
<link crossorigin="anonymous" media="all" rel="stylesheet" href="https://github.githubassets.com/assets/global-user-nav-drawer.dd5b95699efad9266028.module.css" />

<react-partial
  partial-name="global-user-nav-drawer"
  data-ssr="false"
>
  
  <script type="application/json" data-target="react-partial.embeddedData">{"props":{"owner":{"login":"MathforDataScience","name":null,"avatarUrl":"https://avatars.githubusercontent.com/u/42959174?v=4"},"drawerId":"global-user-nav-drawer","lazyLoadItemDataFetchUrl":"/_side-panels/user.json","canAddAccount":true,"addAccountPath":"/login?add_account=1\u0026return_to=https%3A%2F%2Fgithub.com%2FMathforDataScience%2FDSR_Statistics1%2Fblob%2Fmain%2F7_%2520Hypotheses%2F7_3_Chi%255E2.ipynb","switchAccountPath":"/switch_account","loginAccountPath":"/login?add_account=1","projectsPath":"/MathforDataScience?tab=projects","gistsUrl":"https://gist.github.com/mine","docsUrl":"https://docs.github.com","yourEnterpriseUrl":null,"enterpriseSettingsUrl":null,"supportUrl":"https://support.github.com","showAccountSwitcher":true,"showEnterprises":true,"showEnterprise":false,"showGists":true,"showSponsors":true,"showFeaturesPreviews":true,"showEnterpriseSettings":false,"createMenuProps":{"createRepo":true,"importRepo":true,"codespaces":true,"gist":true,"createOrg":true,"createProject":false,"createProjectUrl":"/MathforDataScience?tab=projects","createLegacyProject":false,"createIssue":false,"org":null,"owner":"MathforDataScience","repo":"DSR_Statistics1"}}}</script>
  <div data-target="react-partial.reactRoot"></div>
</react-partial>

  </template>
</react-partial-anchor>

  </include-fragment>
</deferred-side-panel>
        </div>

        <div class="position-absolute mt-2">
            
<site-header-logged-in-user-menu>

</site-header-logged-in-user-menu>

        </div>
      </div>
    </div>


      <div class="AppHeader-localBar" >
        <nav data-pjax="#js-repo-pjax-container" aria-label="Repository" data-view-component="true" class="js-repo-nav js-sidenav-container-pjax js-responsive-underlinenav overflow-hidden UnderlineNav">

  <ul data-view-component="true" class="UnderlineNav-body list-style-none">
      <li data-view-component="true" class="d-inline-flex">
  <a id="code-tab" href="/MathforDataScience/DSR_Statistics1" data-tab-item="i0code-tab" data-selected-links="repo_source repo_downloads repo_commits repo_releases repo_tags repo_branches repo_packages repo_deployments repo_attestations /MathforDataScience/DSR_Statistics1" data-pjax="#repo-content-pjax-container" data-turbo-frame="repo-content-turbo-frame" data-hotkey="g c" data-analytics-event="{&quot;category&quot;:&quot;Underline navbar&quot;,&quot;action&quot;:&quot;Click tab&quot;,&quot;label&quot;:&quot;Code&quot;,&quot;target&quot;:&quot;UNDERLINE_NAV.TAB&quot;}" data-view-component="true" class="UnderlineNav-item no-wrap js-responsive-underlinenav-item js-selected-navigation-item">
    
              <svg aria-hidden="true" height="16" viewBox="0 0 16 16" version="1.1" width="16" data-view-component="true" class="octicon octicon-code UnderlineNav-octicon d-none d-sm-inline">
    <path d="m11.28 3.22 4.25 4.25a.75.75 0 0 1 0 1.06l-4.25 4.25a.749.749 0 0 1-1.275-.326.749.749 0 0 1 .215-.734L13.94 8l-3.72-3.72a.749.749 0 0 1 .326-1.275.749.749 0 0 1 .734.215Zm-6.56 0a.751.751 0 0 1 1.042.018.751.751 0 0 1 .018 1.042L2.06 8l3.72 3.72a.749.749 0 0 1-.326 1.275.749.749 0 0 1-.734-.215L.47 8.53a.75.75 0 0 1 0-1.06Z"></path>
</svg>
        <span data-content="Code">Code</span>
          <span id="code-repo-tab-count" data-pjax-replace="" data-turbo-replace="" title="Not available" data-view-component="true" class="Counter"></span>


    
</a></li>
      <li data-view-component="true" class="d-inline-flex">
  <a id="issues-tab" href="/MathforDataScience/DSR_Statistics1/issues" data-tab-item="i1issues-tab" data-selected-links="repo_issues repo_labels repo_milestones /MathforDataScience/DSR_Statistics1/issues /_view_fragments/issues/index/MathforDataScience/DSR_Statistics1/layout" data-pjax="#repo-content-pjax-container" data-turbo-frame="repo-content-turbo-frame" data-hotkey="g i" data-analytics-event="{&quot;category&quot;:&quot;Underline navbar&quot;,&quot;action&quot;:&quot;Click tab&quot;,&quot;label&quot;:&quot;Issues&quot;,&quot;target&quot;:&quot;UNDERLINE_NAV.TAB&quot;}" data-view-component="true" class="UnderlineNav-item no-wrap js-responsive-underlinenav-item js-selected-navigation-item">
    
              <svg aria-hidden="true" height="16" viewBox="0 0 16 16" version="1.1" width="16" data-view-component="true" class="octicon octicon-issue-opened UnderlineNav-octicon d-none d-sm-inline">
    <path d="M8 9.5a1.5 1.5 0 1 0 0-3 1.5 1.5 0 0 0 0 3Z"></path><path d="M8 0a8 8 0 1 1 0 16A8 8 0 0 1 8 0ZM1.5 8a6.5 6.5 0 1 0 13 0 6.5 6.5 0 0 0-13 0Z"></path>
</svg>
        <span data-content="Issues">Issues</span>
          <span id="issues-repo-tab-count" data-pjax-replace="" data-turbo-replace="" title="0" hidden="hidden" data-view-component="true" class="Counter">0</span>


    
</a></li>
      <li data-view-component="true" class="d-inline-flex">
  <a id="pull-requests-tab" href="/MathforDataScience/DSR_Statistics1/pulls" data-tab-item="i2pull-requests-tab" data-selected-links="repo_pulls checks /MathforDataScience/DSR_Statistics1/pulls" data-pjax="#repo-content-pjax-container" data-turbo-frame="repo-content-turbo-frame" data-hotkey="g p" data-analytics-event="{&quot;category&quot;:&quot;Underline navbar&quot;,&quot;action&quot;:&quot;Click tab&quot;,&quot;label&quot;:&quot;Pull requests&quot;,&quot;target&quot;:&quot;UNDERLINE_NAV.TAB&quot;}" data-view-component="true" class="UnderlineNav-item no-wrap js-responsive-underlinenav-item js-selected-navigation-item">
    
              <svg aria-hidden="true" height="16" viewBox="0 0 16 16" version="1.1" width="16" data-view-component="true" class="octicon octicon-git-pull-request UnderlineNav-octicon d-none d-sm-inline">
    <path d="M1.5 3.25a2.25 2.25 0 1 1 3 2.122v5.256a2.251 2.251 0 1 1-1.5 0V5.372A2.25 2.25 0 0 1 1.5 3.25Zm5.677-.177L9.573.677A.25.25 0 0 1 10 .854V2.5h1A2.5 2.5 0 0 1 13.5 5v5.628a2.251 2.251 0 1 1-1.5 0V5a1 1 0 0 0-1-1h-1v1.646a.25.25 0 0 1-.427.177L7.177 3.427a.25.25 0 0 1 0-.354ZM3.75 2.5a.75.75 0 1 0 0 1.5.75.75 0 0 0 0-1.5Zm0 9.5a.75.75 0 1 0 0 1.5.75.75 0 0 0 0-1.5Zm8.25.75a.75.75 0 1 0 1.5 0 .75.75 0 0 0-1.5 0Z"></path>
</svg>
        <span data-content="Pull requests">Pull requests</span>
          <span id="pull-requests-repo-tab-count" data-pjax-replace="" data-turbo-replace="" title="0" hidden="hidden" data-view-component="true" class="Counter">0</span>


    
</a></li>
      <li data-view-component="true" class="d-inline-flex">
  <a id="actions-tab" href="/MathforDataScience/DSR_Statistics1/actions" data-tab-item="i3actions-tab" data-selected-links="repo_actions /MathforDataScience/DSR_Statistics1/actions" data-pjax="#repo-content-pjax-container" data-turbo-frame="repo-content-turbo-frame" data-hotkey="g a" data-analytics-event="{&quot;category&quot;:&quot;Underline navbar&quot;,&quot;action&quot;:&quot;Click tab&quot;,&quot;label&quot;:&quot;Actions&quot;,&quot;target&quot;:&quot;UNDERLINE_NAV.TAB&quot;}" data-view-component="true" class="UnderlineNav-item no-wrap js-responsive-underlinenav-item js-selected-navigation-item">
    
              <svg aria-hidden="true" height="16" viewBox="0 0 16 16" version="1.1" width="16" data-view-component="true" class="octicon octicon-play UnderlineNav-octicon d-none d-sm-inline">
    <path d="M8 0a8 8 0 1 1 0 16A8 8 0 0 1 8 0ZM1.5 8a6.5 6.5 0 1 0 13 0 6.5 6.5 0 0 0-13 0Zm4.879-2.773 4.264 2.559a.25.25 0 0 1 0 .428l-4.264 2.559A.25.25 0 0 1 6 10.559V5.442a.25.25 0 0 1 .379-.215Z"></path>
</svg>
        <span data-content="Actions">Actions</span>
          <span id="actions-repo-tab-count" data-pjax-replace="" data-turbo-replace="" title="Not available" data-view-component="true" class="Counter"></span>


    
</a></li>
      <li data-view-component="true" class="d-inline-flex">
  <a id="projects-tab" href="/MathforDataScience/DSR_Statistics1/projects" data-tab-item="i4projects-tab" data-selected-links="repo_projects new_repo_project repo_project /MathforDataScience/DSR_Statistics1/projects" data-pjax="#repo-content-pjax-container" data-turbo-frame="repo-content-turbo-frame" data-hotkey="g b" data-analytics-event="{&quot;category&quot;:&quot;Underline navbar&quot;,&quot;action&quot;:&quot;Click tab&quot;,&quot;label&quot;:&quot;Projects&quot;,&quot;target&quot;:&quot;UNDERLINE_NAV.TAB&quot;}" data-view-component="true" class="UnderlineNav-item no-wrap js-responsive-underlinenav-item js-selected-navigation-item">
    
              <svg aria-hidden="true" height="16" viewBox="0 0 16 16" version="1.1" width="16" data-view-component="true" class="octicon octicon-table UnderlineNav-octicon d-none d-sm-inline">
    <path d="M0 1.75C0 .784.784 0 1.75 0h12.5C15.216 0 16 .784 16 1.75v12.5A1.75 1.75 0 0 1 14.25 16H1.75A1.75 1.75 0 0 1 0 14.25ZM6.5 6.5v8h7.75a.25.25 0 0 0 .25-.25V6.5Zm8-1.5V1.75a.25.25 0 0 0-.25-.25H6.5V5Zm-13 1.5v7.75c0 .138.112.25.25.25H5v-8ZM5 5V1.5H1.75a.25.25 0 0 0-.25.25V5Z"></path>
</svg>
        <span data-content="Projects">Projects</span>
          <span id="projects-repo-tab-count" data-pjax-replace="" data-turbo-replace="" title="0" hidden="hidden" data-view-component="true" class="Counter">0</span>


    
</a></li>
      <li data-view-component="true" class="d-inline-flex">
  <a id="wiki-tab" href="/MathforDataScience/DSR_Statistics1/wiki" data-tab-item="i5wiki-tab" data-selected-links="repo_wiki /MathforDataScience/DSR_Statistics1/wiki" data-pjax="#repo-content-pjax-container" data-turbo-frame="repo-content-turbo-frame" data-hotkey="g w" data-analytics-event="{&quot;category&quot;:&quot;Underline navbar&quot;,&quot;action&quot;:&quot;Click tab&quot;,&quot;label&quot;:&quot;Wiki&quot;,&quot;target&quot;:&quot;UNDERLINE_NAV.TAB&quot;}" data-view-component="true" class="UnderlineNav-item no-wrap js-responsive-underlinenav-item js-selected-navigation-item">
    
              <svg aria-hidden="true" height="16" viewBox="0 0 16 16" version="1.1" width="16" data-view-component="true" class="octicon octicon-book UnderlineNav-octicon d-none d-sm-inline">
    <path d="M0 1.75A.75.75 0 0 1 .75 1h4.253c1.227 0 2.317.59 3 1.501A3.743 3.743 0 0 1 11.006 1h4.245a.75.75 0 0 1 .75.75v10.5a.75.75 0 0 1-.75.75h-4.507a2.25 2.25 0 0 0-1.591.659l-.622.621a.75.75 0 0 1-1.06 0l-.622-.621A2.25 2.25 0 0 0 5.258 13H.75a.75.75 0 0 1-.75-.75Zm7.251 10.324.004-5.073-.002-2.253A2.25 2.25 0 0 0 5.003 2.5H1.5v9h3.757a3.75 3.75 0 0 1 1.994.574ZM8.755 4.75l-.004 7.322a3.752 3.752 0 0 1 1.992-.572H14.5v-9h-3.495a2.25 2.25 0 0 0-2.25 2.25Z"></path>
</svg>
        <span data-content="Wiki">Wiki</span>
          <span id="wiki-repo-tab-count" data-pjax-replace="" data-turbo-replace="" title="Not available" data-view-component="true" class="Counter"></span>


    
</a></li>
      <li data-view-component="true" class="d-inline-flex">
  <a id="security-tab" href="/MathforDataScience/DSR_Statistics1/security" data-tab-item="i6security-tab" data-selected-links="security overview alerts policy token_scanning code_scanning /MathforDataScience/DSR_Statistics1/security" data-pjax="#repo-content-pjax-container" data-turbo-frame="repo-content-turbo-frame" data-hotkey="g s" data-analytics-event="{&quot;category&quot;:&quot;Underline navbar&quot;,&quot;action&quot;:&quot;Click tab&quot;,&quot;label&quot;:&quot;Security&quot;,&quot;target&quot;:&quot;UNDERLINE_NAV.TAB&quot;}" data-view-component="true" class="UnderlineNav-item no-wrap js-responsive-underlinenav-item js-selected-navigation-item">
    
              <svg aria-hidden="true" height="16" viewBox="0 0 16 16" version="1.1" width="16" data-view-component="true" class="octicon octicon-shield UnderlineNav-octicon d-none d-sm-inline">
    <path d="M7.467.133a1.748 1.748 0 0 1 1.066 0l5.25 1.68A1.75 1.75 0 0 1 15 3.48V7c0 1.566-.32 3.182-1.303 4.682-.983 1.498-2.585 2.813-5.032 3.855a1.697 1.697 0 0 1-1.33 0c-2.447-1.042-4.049-2.357-5.032-3.855C1.32 10.182 1 8.566 1 7V3.48a1.75 1.75 0 0 1 1.217-1.667Zm.61 1.429a.25.25 0 0 0-.153 0l-5.25 1.68a.25.25 0 0 0-.174.238V7c0 1.358.275 2.666 1.057 3.86.784 1.194 2.121 2.34 4.366 3.297a.196.196 0 0 0 .154 0c2.245-.956 3.582-2.104 4.366-3.298C13.225 9.666 13.5 8.36 13.5 7V3.48a.251.251 0 0 0-.174-.237l-5.25-1.68ZM8.75 4.75v3a.75.75 0 0 1-1.5 0v-3a.75.75 0 0 1 1.5 0ZM9 10.5a1 1 0 1 1-2 0 1 1 0 0 1 2 0Z"></path>
</svg>
        <span data-content="Security">Security</span>
          <include-fragment src="/MathforDataScience/DSR_Statistics1/security/overall-count" accept="text/fragment+html"></include-fragment>

    
</a></li>
      <li data-view-component="true" class="d-inline-flex">
  <a id="insights-tab" href="/MathforDataScience/DSR_Statistics1/pulse" data-tab-item="i7insights-tab" data-selected-links="repo_graphs repo_contributors dependency_graph dependabot_updates pulse people community /MathforDataScience/DSR_Statistics1/pulse" data-pjax="#repo-content-pjax-container" data-turbo-frame="repo-content-turbo-frame" data-analytics-event="{&quot;category&quot;:&quot;Underline navbar&quot;,&quot;action&quot;:&quot;Click tab&quot;,&quot;label&quot;:&quot;Insights&quot;,&quot;target&quot;:&quot;UNDERLINE_NAV.TAB&quot;}" data-view-component="true" class="UnderlineNav-item no-wrap js-responsive-underlinenav-item js-selected-navigation-item">
    
              <svg aria-hidden="true" height="16" viewBox="0 0 16 16" version="1.1" width="16" data-view-component="true" class="octicon octicon-graph UnderlineNav-octicon d-none d-sm-inline">
    <path d="M1.5 1.75V13.5h13.75a.75.75 0 0 1 0 1.5H.75a.75.75 0 0 1-.75-.75V1.75a.75.75 0 0 1 1.5 0Zm14.28 2.53-5.25 5.25a.75.75 0 0 1-1.06 0L7 7.06 4.28 9.78a.751.751 0 0 1-1.042-.018.751.751 0 0 1-.018-1.042l3.25-3.25a.75.75 0 0 1 1.06 0L10 7.94l4.72-4.72a.751.751 0 0 1 1.042.018.751.751 0 0 1 .018 1.042Z"></path>
</svg>
        <span data-content="Insights">Insights</span>
          <span id="insights-repo-tab-count" data-pjax-replace="" data-turbo-replace="" title="Not available" data-view-component="true" class="Counter"></span>


    
</a></li>
      <li data-view-component="true" class="d-inline-flex">
  <a id="settings-tab" href="/MathforDataScience/DSR_Statistics1/settings" data-tab-item="i8settings-tab" data-selected-links="code_review_limits codespaces_repository_settings collaborators custom_tabs hooks integration_installations interaction_limits issue_template_editor key_links_settings notifications repo_announcements repo_branch_settings repo_custom_properties repo_keys_settings repo_pages_settings repo_protected_tags_settings repo_rule_insights repo_rules_bypass_requests repo_rulesets repo_settings_copilot_coding_guidelines repo_settings_copilot_content_exclusion repo_settings reported_content repository_actions_settings_add_new_runner repository_actions_settings_general repository_actions_settings_runner_details repository_actions_settings_runners repository_actions_settings repository_environments role_details secrets_settings_actions secrets_settings_codespaces secrets_settings_dependabot secrets security_analysis security_products /MathforDataScience/DSR_Statistics1/settings" data-pjax="#repo-content-pjax-container" data-turbo-frame="repo-content-turbo-frame" data-analytics-event="{&quot;category&quot;:&quot;Underline navbar&quot;,&quot;action&quot;:&quot;Click tab&quot;,&quot;label&quot;:&quot;Settings&quot;,&quot;target&quot;:&quot;UNDERLINE_NAV.TAB&quot;}" data-view-component="true" class="UnderlineNav-item no-wrap js-responsive-underlinenav-item js-selected-navigation-item">
    
              <svg aria-hidden="true" height="16" viewBox="0 0 16 16" version="1.1" width="16" data-view-component="true" class="octicon octicon-gear UnderlineNav-octicon d-none d-sm-inline">
    <path d="M8 0a8.2 8.2 0 0 1 .701.031C9.444.095 9.99.645 10.16 1.29l.288 1.107c.018.066.079.158.212.224.231.114.454.243.668.386.123.082.233.09.299.071l1.103-.303c.644-.176 1.392.021 1.82.63.27.385.506.792.704 1.218.315.675.111 1.422-.364 1.891l-.814.806c-.049.048-.098.147-.088.294.016.257.016.515 0 .772-.01.147.038.246.088.294l.814.806c.475.469.679 1.216.364 1.891a7.977 7.977 0 0 1-.704 1.217c-.428.61-1.176.807-1.82.63l-1.102-.302c-.067-.019-.177-.011-.3.071a5.909 5.909 0 0 1-.668.386c-.133.066-.194.158-.211.224l-.29 1.106c-.168.646-.715 1.196-1.458 1.26a8.006 8.006 0 0 1-1.402 0c-.743-.064-1.289-.614-1.458-1.26l-.289-1.106c-.018-.066-.079-.158-.212-.224a5.738 5.738 0 0 1-.668-.386c-.123-.082-.233-.09-.299-.071l-1.103.303c-.644.176-1.392-.021-1.82-.63a8.12 8.12 0 0 1-.704-1.218c-.315-.675-.111-1.422.363-1.891l.815-.806c.05-.048.098-.147.088-.294a6.214 6.214 0 0 1 0-.772c.01-.147-.038-.246-.088-.294l-.815-.806C.635 6.045.431 5.298.746 4.623a7.92 7.92 0 0 1 .704-1.217c.428-.61 1.176-.807 1.82-.63l1.102.302c.067.019.177.011.3-.071.214-.143.437-.272.668-.386.133-.066.194-.158.211-.224l.29-1.106C6.009.645 6.556.095 7.299.03 7.53.01 7.764 0 8 0Zm-.571 1.525c-.036.003-.108.036-.137.146l-.289 1.105c-.147.561-.549.967-.998 1.189-.173.086-.34.183-.5.29-.417.278-.97.423-1.529.27l-1.103-.303c-.109-.03-.175.016-.195.045-.22.312-.412.644-.573.99-.014.031-.021.11.059.19l.815.806c.411.406.562.957.53 1.456a4.709 4.709 0 0 0 0 .582c.032.499-.119 1.05-.53 1.456l-.815.806c-.081.08-.073.159-.059.19.162.346.353.677.573.989.02.03.085.076.195.046l1.102-.303c.56-.153 1.113-.008 1.53.27.161.107.328.204.501.29.447.222.85.629.997 1.189l.289 1.105c.029.109.101.143.137.146a6.6 6.6 0 0 0 1.142 0c.036-.003.108-.036.137-.146l.289-1.105c.147-.561.549-.967.998-1.189.173-.086.34-.183.5-.29.417-.278.97-.423 1.529-.27l1.103.303c.109.029.175-.016.195-.045.22-.313.411-.644.573-.99.014-.031.021-.11-.059-.19l-.815-.806c-.411-.406-.562-.957-.53-1.456a4.709 4.709 0 0 0 0-.582c-.032-.499.119-1.05.53-1.456l.815-.806c.081-.08.073-.159.059-.19a6.464 6.464 0 0 0-.573-.989c-.02-.03-.085-.076-.195-.046l-1.102.303c-.56.153-1.113.008-1.53-.27a4.44 4.44 0 0 0-.501-.29c-.447-.222-.85-.629-.997-1.189l-.289-1.105c-.029-.11-.101-.143-.137-.146a6.6 6.6 0 0 0-1.142 0ZM11 8a3 3 0 1 1-6 0 3 3 0 0 1 6 0ZM9.5 8a1.5 1.5 0 1 0-3.001.001A1.5 1.5 0 0 0 9.5 8Z"></path>
</svg>
        <span data-content="Settings">Settings</span>
          <span id="settings-repo-tab-count" data-pjax-replace="" data-turbo-replace="" title="Not available" data-view-component="true" class="Counter"></span>


    
</a></li>
</ul>
    <div style="visibility:hidden;" data-view-component="true" class="UnderlineNav-actions js-responsive-underlinenav-overflow position-absolute pr-3 pr-md-4 pr-lg-5 right-0">      <action-menu data-select-variant="none" data-view-component="true">
  <focus-group direction="vertical" mnemonics retain>
    <button id="action-menu-2d419882-7e8e-4441-a768-5dc142d96fa3-button" popovertarget="action-menu-2d419882-7e8e-4441-a768-5dc142d96fa3-overlay" aria-controls="action-menu-2d419882-7e8e-4441-a768-5dc142d96fa3-list" aria-haspopup="true" aria-labelledby="tooltip-6636a655-aa62-41f6-8989-6b06651f8d2b" type="button" data-view-component="true" class="Button Button--iconOnly Button--secondary Button--medium UnderlineNav-item">  <svg aria-hidden="true" height="16" viewBox="0 0 16 16" version="1.1" width="16" data-view-component="true" class="octicon octicon-kebab-horizontal Button-visual">
    <path d="M8 9a1.5 1.5 0 1 0 0-3 1.5 1.5 0 0 0 0 3ZM1.5 9a1.5 1.5 0 1 0 0-3 1.5 1.5 0 0 0 0 3Zm13 0a1.5 1.5 0 1 0 0-3 1.5 1.5 0 0 0 0 3Z"></path>
</svg>
</button><tool-tip id="tooltip-6636a655-aa62-41f6-8989-6b06651f8d2b" for="action-menu-2d419882-7e8e-4441-a768-5dc142d96fa3-button" popover="manual" data-direction="s" data-type="label" data-view-component="true" class="sr-only position-absolute">Additional navigation options</tool-tip>


<anchored-position id="action-menu-2d419882-7e8e-4441-a768-5dc142d96fa3-overlay" anchor="action-menu-2d419882-7e8e-4441-a768-5dc142d96fa3-button" align="start" side="outside-bottom" anchor-offset="normal" popover="auto" data-view-component="true">
  <div data-view-component="true" class="Overlay Overlay--size-auto">
    
      <div data-view-component="true" class="Overlay-body Overlay-body--paddingNone">          <action-list>
  <div data-view-component="true">
    <ul aria-labelledby="action-menu-2d419882-7e8e-4441-a768-5dc142d96fa3-button" id="action-menu-2d419882-7e8e-4441-a768-5dc142d96fa3-list" role="menu" data-view-component="true" class="ActionListWrap--inset ActionListWrap">
        <li hidden="hidden" data-menu-item="i0code-tab" data-targets="action-list.items" role="none" data-view-component="true" class="ActionListItem">
    
    
    <a tabindex="-1" id="item-130b0e77-687f-401c-bcf8-fa035b932839" href="/MathforDataScience/DSR_Statistics1" role="menuitem" data-view-component="true" class="ActionListContent ActionListContent--visual16">
        <span class="ActionListItem-visual ActionListItem-visual--leading">
          <svg aria-hidden="true" height="16" viewBox="0 0 16 16" version="1.1" width="16" data-view-component="true" class="octicon octicon-code">
    <path d="m11.28 3.22 4.25 4.25a.75.75 0 0 1 0 1.06l-4.25 4.25a.749.749 0 0 1-1.275-.326.749.749 0 0 1 .215-.734L13.94 8l-3.72-3.72a.749.749 0 0 1 .326-1.275.749.749 0 0 1 .734.215Zm-6.56 0a.751.751 0 0 1 1.042.018.751.751 0 0 1 .018 1.042L2.06 8l3.72 3.72a.749.749 0 0 1-.326 1.275.749.749 0 0 1-.734-.215L.47 8.53a.75.75 0 0 1 0-1.06Z"></path>
</svg>
        </span>
      
        <span data-view-component="true" class="ActionListItem-label">
          Code
</span>      
</a>
  
</li>
        <li hidden="hidden" data-menu-item="i1issues-tab" data-targets="action-list.items" role="none" data-view-component="true" class="ActionListItem">
    
    
    <a tabindex="-1" id="item-bd53c2d8-8f6c-4ad3-ac34-5725350f7012" href="/MathforDataScience/DSR_Statistics1/issues" role="menuitem" data-view-component="true" class="ActionListContent ActionListContent--visual16">
        <span class="ActionListItem-visual ActionListItem-visual--leading">
          <svg aria-hidden="true" height="16" viewBox="0 0 16 16" version="1.1" width="16" data-view-component="true" class="octicon octicon-issue-opened">
    <path d="M8 9.5a1.5 1.5 0 1 0 0-3 1.5 1.5 0 0 0 0 3Z"></path><path d="M8 0a8 8 0 1 1 0 16A8 8 0 0 1 8 0ZM1.5 8a6.5 6.5 0 1 0 13 0 6.5 6.5 0 0 0-13 0Z"></path>
</svg>
        </span>
      
        <span data-view-component="true" class="ActionListItem-label">
          Issues
</span>      
</a>
  
</li>
        <li hidden="hidden" data-menu-item="i2pull-requests-tab" data-targets="action-list.items" role="none" data-view-component="true" class="ActionListItem">
    
    
    <a tabindex="-1" id="item-42337971-b9ff-45cb-8a6c-cd13cc105ab0" href="/MathforDataScience/DSR_Statistics1/pulls" role="menuitem" data-view-component="true" class="ActionListContent ActionListContent--visual16">
        <span class="ActionListItem-visual ActionListItem-visual--leading">
          <svg aria-hidden="true" height="16" viewBox="0 0 16 16" version="1.1" width="16" data-view-component="true" class="octicon octicon-git-pull-request">
    <path d="M1.5 3.25a2.25 2.25 0 1 1 3 2.122v5.256a2.251 2.251 0 1 1-1.5 0V5.372A2.25 2.25 0 0 1 1.5 3.25Zm5.677-.177L9.573.677A.25.25 0 0 1 10 .854V2.5h1A2.5 2.5 0 0 1 13.5 5v5.628a2.251 2.251 0 1 1-1.5 0V5a1 1 0 0 0-1-1h-1v1.646a.25.25 0 0 1-.427.177L7.177 3.427a.25.25 0 0 1 0-.354ZM3.75 2.5a.75.75 0 1 0 0 1.5.75.75 0 0 0 0-1.5Zm0 9.5a.75.75 0 1 0 0 1.5.75.75 0 0 0 0-1.5Zm8.25.75a.75.75 0 1 0 1.5 0 .75.75 0 0 0-1.5 0Z"></path>
</svg>
        </span>
      
        <span data-view-component="true" class="ActionListItem-label">
          Pull requests
</span>      
</a>
  
</li>
        <li hidden="hidden" data-menu-item="i3actions-tab" data-targets="action-list.items" role="none" data-view-component="true" class="ActionListItem">
    
    
    <a tabindex="-1" id="item-c71f2964-44ae-4683-b7ee-4734c5d309a9" href="/MathforDataScience/DSR_Statistics1/actions" role="menuitem" data-view-component="true" class="ActionListContent ActionListContent--visual16">
        <span class="ActionListItem-visual ActionListItem-visual--leading">
          <svg aria-hidden="true" height="16" viewBox="0 0 16 16" version="1.1" width="16" data-view-component="true" class="octicon octicon-play">
    <path d="M8 0a8 8 0 1 1 0 16A8 8 0 0 1 8 0ZM1.5 8a6.5 6.5 0 1 0 13 0 6.5 6.5 0 0 0-13 0Zm4.879-2.773 4.264 2.559a.25.25 0 0 1 0 .428l-4.264 2.559A.25.25 0 0 1 6 10.559V5.442a.25.25 0 0 1 .379-.215Z"></path>
</svg>
        </span>
      
        <span data-view-component="true" class="ActionListItem-label">
          Actions
</span>      
</a>
  
</li>
        <li hidden="hidden" data-menu-item="i4projects-tab" data-targets="action-list.items" role="none" data-view-component="true" class="ActionListItem">
    
    
    <a tabindex="-1" id="item-24a70dd8-67db-4722-8833-e82a68055a54" href="/MathforDataScience/DSR_Statistics1/projects" role="menuitem" data-view-component="true" class="ActionListContent ActionListContent--visual16">
        <span class="ActionListItem-visual ActionListItem-visual--leading">
          <svg aria-hidden="true" height="16" viewBox="0 0 16 16" version="1.1" width="16" data-view-component="true" class="octicon octicon-table">
    <path d="M0 1.75C0 .784.784 0 1.75 0h12.5C15.216 0 16 .784 16 1.75v12.5A1.75 1.75 0 0 1 14.25 16H1.75A1.75 1.75 0 0 1 0 14.25ZM6.5 6.5v8h7.75a.25.25 0 0 0 .25-.25V6.5Zm8-1.5V1.75a.25.25 0 0 0-.25-.25H6.5V5Zm-13 1.5v7.75c0 .138.112.25.25.25H5v-8ZM5 5V1.5H1.75a.25.25 0 0 0-.25.25V5Z"></path>
</svg>
        </span>
      
        <span data-view-component="true" class="ActionListItem-label">
          Projects
</span>      
</a>
  
</li>
        <li hidden="hidden" data-menu-item="i5wiki-tab" data-targets="action-list.items" role="none" data-view-component="true" class="ActionListItem">
    
    
    <a tabindex="-1" id="item-e025b711-c724-4445-8152-400911ca5c04" href="/MathforDataScience/DSR_Statistics1/wiki" role="menuitem" data-view-component="true" class="ActionListContent ActionListContent--visual16">
        <span class="ActionListItem-visual ActionListItem-visual--leading">
          <svg aria-hidden="true" height="16" viewBox="0 0 16 16" version="1.1" width="16" data-view-component="true" class="octicon octicon-book">
    <path d="M0 1.75A.75.75 0 0 1 .75 1h4.253c1.227 0 2.317.59 3 1.501A3.743 3.743 0 0 1 11.006 1h4.245a.75.75 0 0 1 .75.75v10.5a.75.75 0 0 1-.75.75h-4.507a2.25 2.25 0 0 0-1.591.659l-.622.621a.75.75 0 0 1-1.06 0l-.622-.621A2.25 2.25 0 0 0 5.258 13H.75a.75.75 0 0 1-.75-.75Zm7.251 10.324.004-5.073-.002-2.253A2.25 2.25 0 0 0 5.003 2.5H1.5v9h3.757a3.75 3.75 0 0 1 1.994.574ZM8.755 4.75l-.004 7.322a3.752 3.752 0 0 1 1.992-.572H14.5v-9h-3.495a2.25 2.25 0 0 0-2.25 2.25Z"></path>
</svg>
        </span>
      
        <span data-view-component="true" class="ActionListItem-label">
          Wiki
</span>      
</a>
  
</li>
        <li hidden="hidden" data-menu-item="i6security-tab" data-targets="action-list.items" role="none" data-view-component="true" class="ActionListItem">
    
    
    <a tabindex="-1" id="item-16b496f0-a438-47c3-8cea-5d81685355d3" href="/MathforDataScience/DSR_Statistics1/security" role="menuitem" data-view-component="true" class="ActionListContent ActionListContent--visual16">
        <span class="ActionListItem-visual ActionListItem-visual--leading">
          <svg aria-hidden="true" height="16" viewBox="0 0 16 16" version="1.1" width="16" data-view-component="true" class="octicon octicon-shield">
    <path d="M7.467.133a1.748 1.748 0 0 1 1.066 0l5.25 1.68A1.75 1.75 0 0 1 15 3.48V7c0 1.566-.32 3.182-1.303 4.682-.983 1.498-2.585 2.813-5.032 3.855a1.697 1.697 0 0 1-1.33 0c-2.447-1.042-4.049-2.357-5.032-3.855C1.32 10.182 1 8.566 1 7V3.48a1.75 1.75 0 0 1 1.217-1.667Zm.61 1.429a.25.25 0 0 0-.153 0l-5.25 1.68a.25.25 0 0 0-.174.238V7c0 1.358.275 2.666 1.057 3.86.784 1.194 2.121 2.34 4.366 3.297a.196.196 0 0 0 .154 0c2.245-.956 3.582-2.104 4.366-3.298C13.225 9.666 13.5 8.36 13.5 7V3.48a.251.251 0 0 0-.174-.237l-5.25-1.68ZM8.75 4.75v3a.75.75 0 0 1-1.5 0v-3a.75.75 0 0 1 1.5 0ZM9 10.5a1 1 0 1 1-2 0 1 1 0 0 1 2 0Z"></path>
</svg>
        </span>
      
        <span data-view-component="true" class="ActionListItem-label">
          Security
</span>      
</a>
  
</li>
        <li hidden="hidden" data-menu-item="i7insights-tab" data-targets="action-list.items" role="none" data-view-component="true" class="ActionListItem">
    
    
    <a tabindex="-1" id="item-f45aa2fc-3d47-4c16-9b16-99c66f2449bf" href="/MathforDataScience/DSR_Statistics1/pulse" role="menuitem" data-view-component="true" class="ActionListContent ActionListContent--visual16">
        <span class="ActionListItem-visual ActionListItem-visual--leading">
          <svg aria-hidden="true" height="16" viewBox="0 0 16 16" version="1.1" width="16" data-view-component="true" class="octicon octicon-graph">
    <path d="M1.5 1.75V13.5h13.75a.75.75 0 0 1 0 1.5H.75a.75.75 0 0 1-.75-.75V1.75a.75.75 0 0 1 1.5 0Zm14.28 2.53-5.25 5.25a.75.75 0 0 1-1.06 0L7 7.06 4.28 9.78a.751.751 0 0 1-1.042-.018.751.751 0 0 1-.018-1.042l3.25-3.25a.75.75 0 0 1 1.06 0L10 7.94l4.72-4.72a.751.751 0 0 1 1.042.018.751.751 0 0 1 .018 1.042Z"></path>
</svg>
        </span>
      
        <span data-view-component="true" class="ActionListItem-label">
          Insights
</span>      
</a>
  
</li>
        <li hidden="hidden" data-menu-item="i8settings-tab" data-targets="action-list.items" role="none" data-view-component="true" class="ActionListItem">
    
    
    <a tabindex="-1" id="item-aceb3743-dd10-4daf-a6ef-9ce360e80a12" href="/MathforDataScience/DSR_Statistics1/settings" role="menuitem" data-view-component="true" class="ActionListContent ActionListContent--visual16">
        <span class="ActionListItem-visual ActionListItem-visual--leading">
          <svg aria-hidden="true" height="16" viewBox="0 0 16 16" version="1.1" width="16" data-view-component="true" class="octicon octicon-gear">
    <path d="M8 0a8.2 8.2 0 0 1 .701.031C9.444.095 9.99.645 10.16 1.29l.288 1.107c.018.066.079.158.212.224.231.114.454.243.668.386.123.082.233.09.299.071l1.103-.303c.644-.176 1.392.021 1.82.63.27.385.506.792.704 1.218.315.675.111 1.422-.364 1.891l-.814.806c-.049.048-.098.147-.088.294.016.257.016.515 0 .772-.01.147.038.246.088.294l.814.806c.475.469.679 1.216.364 1.891a7.977 7.977 0 0 1-.704 1.217c-.428.61-1.176.807-1.82.63l-1.102-.302c-.067-.019-.177-.011-.3.071a5.909 5.909 0 0 1-.668.386c-.133.066-.194.158-.211.224l-.29 1.106c-.168.646-.715 1.196-1.458 1.26a8.006 8.006 0 0 1-1.402 0c-.743-.064-1.289-.614-1.458-1.26l-.289-1.106c-.018-.066-.079-.158-.212-.224a5.738 5.738 0 0 1-.668-.386c-.123-.082-.233-.09-.299-.071l-1.103.303c-.644.176-1.392-.021-1.82-.63a8.12 8.12 0 0 1-.704-1.218c-.315-.675-.111-1.422.363-1.891l.815-.806c.05-.048.098-.147.088-.294a6.214 6.214 0 0 1 0-.772c.01-.147-.038-.246-.088-.294l-.815-.806C.635 6.045.431 5.298.746 4.623a7.92 7.92 0 0 1 .704-1.217c.428-.61 1.176-.807 1.82-.63l1.102.302c.067.019.177.011.3-.071.214-.143.437-.272.668-.386.133-.066.194-.158.211-.224l.29-1.106C6.009.645 6.556.095 7.299.03 7.53.01 7.764 0 8 0Zm-.571 1.525c-.036.003-.108.036-.137.146l-.289 1.105c-.147.561-.549.967-.998 1.189-.173.086-.34.183-.5.29-.417.278-.97.423-1.529.27l-1.103-.303c-.109-.03-.175.016-.195.045-.22.312-.412.644-.573.99-.014.031-.021.11.059.19l.815.806c.411.406.562.957.53 1.456a4.709 4.709 0 0 0 0 .582c.032.499-.119 1.05-.53 1.456l-.815.806c-.081.08-.073.159-.059.19.162.346.353.677.573.989.02.03.085.076.195.046l1.102-.303c.56-.153 1.113-.008 1.53.27.161.107.328.204.501.29.447.222.85.629.997 1.189l.289 1.105c.029.109.101.143.137.146a6.6 6.6 0 0 0 1.142 0c.036-.003.108-.036.137-.146l.289-1.105c.147-.561.549-.967.998-1.189.173-.086.34-.183.5-.29.417-.278.97-.423 1.529-.27l1.103.303c.109.029.175-.016.195-.045.22-.313.411-.644.573-.99.014-.031.021-.11-.059-.19l-.815-.806c-.411-.406-.562-.957-.53-1.456a4.709 4.709 0 0 0 0-.582c-.032-.499.119-1.05.53-1.456l.815-.806c.081-.08.073-.159.059-.19a6.464 6.464 0 0 0-.573-.989c-.02-.03-.085-.076-.195-.046l-1.102.303c-.56.153-1.113.008-1.53-.27a4.44 4.44 0 0 0-.501-.29c-.447-.222-.85-.629-.997-1.189l-.289-1.105c-.029-.11-.101-.143-.137-.146a6.6 6.6 0 0 0-1.142 0ZM11 8a3 3 0 1 1-6 0 3 3 0 0 1 6 0ZM9.5 8a1.5 1.5 0 1 0-3.001.001A1.5 1.5 0 0 0 9.5 8Z"></path>
</svg>
        </span>
      
        <span data-view-component="true" class="ActionListItem-label">
          Settings
</span>      
</a>
  
</li>
</ul>    
</div></action-list>


</div>
      
</div></anchored-position>  </focus-group>
</action-menu></div>
</nav>
      </div>
</header>


      <div hidden="hidden" data-view-component="true" class="js-stale-session-flash stale-session-flash flash flash-warn flash-full">
  
        <svg aria-hidden="true" height="16" viewBox="0 0 16 16" version="1.1" width="16" data-view-component="true" class="octicon octicon-alert">
    <path d="M6.457 1.047c.659-1.234 2.427-1.234 3.086 0l6.082 11.378A1.75 1.75 0 0 1 14.082 15H1.918a1.75 1.75 0 0 1-1.543-2.575Zm1.763.707a.25.25 0 0 0-.44 0L1.698 13.132a.25.25 0 0 0 .22.368h12.164a.25.25 0 0 0 .22-.368Zm.53 3.996v2.5a.75.75 0 0 1-1.5 0v-2.5a.75.75 0 0 1 1.5 0ZM9 11a1 1 0 1 1-2 0 1 1 0 0 1 2 0Z"></path>
</svg>
        <span class="js-stale-session-flash-signed-in" hidden>You signed in with another tab or window. <a class="Link--inTextBlock" href="">Reload</a> to refresh your session.</span>
        <span class="js-stale-session-flash-signed-out" hidden>You signed out in another tab or window. <a class="Link--inTextBlock" href="">Reload</a> to refresh your session.</span>
        <span class="js-stale-session-flash-switched" hidden>You switched accounts on another tab or window. <a class="Link--inTextBlock" href="">Reload</a> to refresh your session.</span>

    <button id="icon-button-2470fddc-9528-46e0-b625-a39c269b56df" aria-labelledby="tooltip-b7ffe051-486c-4511-b8f7-0bf2c2405c8d" type="button" data-view-component="true" class="Button Button--iconOnly Button--invisible Button--medium flash-close js-flash-close">  <svg aria-hidden="true" height="16" viewBox="0 0 16 16" version="1.1" width="16" data-view-component="true" class="octicon octicon-x Button-visual">
    <path d="M3.72 3.72a.75.75 0 0 1 1.06 0L8 6.94l3.22-3.22a.749.749 0 0 1 1.275.326.749.749 0 0 1-.215.734L9.06 8l3.22 3.22a.749.749 0 0 1-.326 1.275.749.749 0 0 1-.734-.215L8 9.06l-3.22 3.22a.751.751 0 0 1-1.042-.018.751.751 0 0 1-.018-1.042L6.94 8 3.72 4.78a.75.75 0 0 1 0-1.06Z"></path>
</svg>
</button><tool-tip id="tooltip-b7ffe051-486c-4511-b8f7-0bf2c2405c8d" for="icon-button-2470fddc-9528-46e0-b625-a39c269b56df" popover="manual" data-direction="s" data-type="label" data-view-component="true" class="sr-only position-absolute">Dismiss alert</tool-tip>


  
</div>
          
    </div>

  <div id="start-of-content" class="show-on-focus"></div>








    <div id="js-flash-container" class="flash-container" data-turbo-replace>




  <template class="js-flash-template">
    
<div class="flash flash-full   {{ className }}">
  <div >
    <button autofocus class="flash-close js-flash-close" type="button" aria-label="Dismiss this message">
      <svg aria-hidden="true" height="16" viewBox="0 0 16 16" version="1.1" width="16" data-view-component="true" class="octicon octicon-x">
    <path d="M3.72 3.72a.75.75 0 0 1 1.06 0L8 6.94l3.22-3.22a.749.749 0 0 1 1.275.326.749.749 0 0 1-.215.734L9.06 8l3.22 3.22a.749.749 0 0 1-.326 1.275.749.749 0 0 1-.734-.215L8 9.06l-3.22 3.22a.751.751 0 0 1-1.042-.018.751.751 0 0 1-.018-1.042L6.94 8 3.72 4.78a.75.75 0 0 1 0-1.06Z"></path>
</svg>
    </button>
    <div aria-atomic="true" role="alert" class="js-flash-alert">
      
      <div>{{ message }}</div>

    </div>
  </div>
</div>
  </template>
</div>


    
    <notification-shelf-watcher data-base-url="https://github.com/notifications/beta/shelf" data-channel="eyJjIjoibm90aWZpY2F0aW9uLWNoYW5nZWQ6NDI5NTkxNzQiLCJ0IjoxNzIzODIzNjYxfQ==--e55960dd438e202f4077265831f0e2db39a6e7a746427c846a5b4cfbd5ae6b43" data-view-component="true" class="js-socket-channel"></notification-shelf-watcher>
  <div hidden data-initial data-target="notification-shelf-watcher.placeholder"></div>






  <div
    class="application-main "
    data-commit-hovercards-enabled
    data-discussion-hovercards-enabled
    data-issue-and-pr-hovercards-enabled
  >
        <div itemscope itemtype="http://schema.org/SoftwareSourceCode" class="">
    <main id="js-repo-pjax-container" >
      
      






    
  <div id="repository-container-header" data-turbo-replace hidden></div>




<turbo-frame id="repo-content-turbo-frame" target="_top" data-turbo-action="advance" class="">
    <div id="repo-content-pjax-container" class="repository-content " >
      <a href="https://github.dev/" class="d-none js-github-dev-shortcut" data-hotkey=".,Mod+Alt+.">Open in github.dev</a>
  <a href="https://github.dev/" class="d-none js-github-dev-new-tab-shortcut" data-hotkey="Shift+.,Shift+&gt;,&gt;" target="_blank" rel="noopener noreferrer">Open in a new github.dev tab</a>
    <a class="d-none" data-hotkey=",,Mod+Alt+," target="_blank" href="/codespaces/new/MathforDataScience/DSR_Statistics1/tree/main?resume=1">Open in codespace</a>




    
      
    








<react-app
  app-name="react-code-view"
  initial-path="/MathforDataScience/DSR_Statistics1/blob/main/7_%20Hypotheses/7_3_Chi%5E2.ipynb"
  style="display: block; min-height: calc(100vh - 64px)" 
  data-ssr="true"
  data-lazy="false"
  data-alternate="false"
>
  
  <script type="application/json" data-target="react-app.embeddedData">{"payload":{"allShortcutsEnabled":true,"fileTree":{"7_ Hypotheses":{"items":[{"name":"7_1 t-2-groups.ipynb","path":"7_ Hypotheses/7_1 t-2-groups.ipynb","contentType":"file"},{"name":"7_2 paired t-test.ipynb","path":"7_ Hypotheses/7_2 paired t-test.ipynb","contentType":"file"},{"name":"7_3_Chi^2.ipynb","path":"7_ Hypotheses/7_3_Chi^2.ipynb","contentType":"file"},{"name":"7_4 F-test.ipynb","path":"7_ Hypotheses/7_4 F-test.ipynb","contentType":"file"},{"name":"Chi^2 and ANOVA.xlsx","path":"7_ Hypotheses/Chi^2 and ANOVA.xlsx","contentType":"file"}],"totalCount":5},"":{"items":[{"name":"2_ Descriptive Statistics","path":"2_ Descriptive Statistics","contentType":"directory"},{"name":"3_ Combinatorics","path":"3_ Combinatorics","contentType":"directory"},{"name":"4_ Distributions","path":"4_ Distributions","contentType":"directory"},{"name":"5_ Conditional Prob","path":"5_ Conditional Prob","contentType":"directory"},{"name":"6_ Sampling","path":"6_ Sampling","contentType":"directory"},{"name":"7_ Hypotheses","path":"7_ Hypotheses","contentType":"directory"},{"name":"8_ Model Estimation","path":"8_ Model Estimation","contentType":"directory"},{"name":"Distributions map.pdf","path":"Distributions map.pdf","contentType":"file"},{"name":"Introduction to Statistics _v22.pdf","path":"Introduction to Statistics _v22.pdf","contentType":"file"},{"name":"README.md","path":"README.md","contentType":"file"},{"name":"StatistialTables.pdf","path":"StatistialTables.pdf","contentType":"file"},{"name":"readme.txt","path":"readme.txt","contentType":"file"},{"name":"requirements.txt","path":"requirements.txt","contentType":"file"}],"totalCount":13}},"fileTreeProcessingTime":4.6451080000000005,"foldersToFetch":[],"repo":{"id":661665397,"defaultBranch":"main","name":"DSR_Statistics1","ownerLogin":"MathforDataScience","currentUserCanPush":true,"isFork":false,"isEmpty":false,"createdAt":"2023-07-03T13:27:39.000+02:00","ownerAvatar":"https://avatars.githubusercontent.com/u/42959174?v=4","public":true,"private":false,"isOrgOwned":false},"codeLineWrapEnabled":false,"symbolsExpanded":false,"treeExpanded":true,"refInfo":{"name":"main","listCacheKey":"v0:1713097013.0","canEdit":true,"refType":"branch","currentOid":"4bdf4da0692b0574b35b13389bf9db0802909d04"},"path":"7_ Hypotheses/7_3_Chi^2.ipynb","currentUser":{"id":42959174,"login":"MathforDataScience","userEmail":"hd.stein@web.de"},"blob":{"rawLines":["{"," \"cells\": [","  {","   \"cell_type\": \"code\",","   \"execution_count\": null,","   \"id\": \"b2252f08\",","   \"metadata\": {},","   \"outputs\": [],","   \"source\": []","  },","  {","   \"cell_type\": \"markdown\",","   \"id\": \"160ee836\",","   \"metadata\": {},","   \"source\": [","    \"## 3. chi^2-independence test: Compare independence of categorical data between 2 or more groups\"","   ]","  },","  {","   \"cell_type\": \"code\",","   \"execution_count\": 11,","   \"id\": \"e6c1b1ce\",","   \"metadata\": {},","   \"outputs\": [],","   \"source\": [","    \"import numpy as np\\n\",","    \"import scipy.stats as stats\"","   ]","  },","  {","   \"cell_type\": \"code\",","   \"execution_count\": 57,","   \"id\": \"6ed617c3\",","   \"metadata\": {},","   \"outputs\": [","    {","     \"data\": {","      \"text/plain\": [","       \"([560, 495, 553, 547, 512],\\n\",","       \" [369, 385, 358, 361, 393],\\n\",","       \" [209, 226, 248, 268, 285],\\n\",","       \" [267, 277, 304, 328, 340],\\n\",","       \" [64, 70, 93, 77, 126])\"","      ]","     },","     \"execution_count\": 57,","     \"metadata\": {},","     \"output_type\": \"execute_result\"","    }","   ],","   \"source\": [","    \"# H0 can be rejected (\\\"H1\\\"):\\n\",","    \"group1 = [560, 495, 553, 547, 512]\\n\",","    \"group2 = [369, 385, 358, 361, 393]\\n\",","    \"group3 = [209, 226, 248, 268, 285]\\n\",","    \"group4 = [267, 277, 304, 328, 340]\\n\",","    \"group5 = [64, 70, 93, 77, 126]\\n\",","    \"\\n\",","    \"group1, group2, group3, group4, group5\"","   ]","  },","  {","   \"cell_type\": \"code\",","   \"execution_count\": 64,","   \"id\": \"c5910c0b\",","   \"metadata\": {},","   \"outputs\": [","    {","     \"name\": \"stdout\",","     \"output_type\": \"stream\",","     \"text\": [","      \"Chi-square statistic = 46.781260095528516\\n\",","      \"p-value = 7.365702337013401e-05\\n\",","      \"Degrees of freedom = 16\\n\",","      \"Expected contingency table = [[507.81892417 502.28788075 537.89397278 546.53622813 572.46299417]\\n\",","      \" [355.30187946 351.43201555 376.34426442 382.39092677 400.5309138 ]\\n\",","      \" [235.34465327 232.78133506 249.28269605 253.28788075 265.30343487]\\n\",","      \" [288.65897602 285.51497084 305.75450421 310.66701231 325.40453662]\\n\",","      \" [ 81.87556708  80.9837978   86.72456254  88.11795204  92.29812054]]\\n\",","      \"The null hypothesis can be rejected\\n\"","     ]","    }","   ],","   \"source\": [","    \"# Creating a contingency table\\n\",","    \"data = np.array([group1, group2, group3, group4, group5])\\n\",","    \"\\n\",","    \"# Performing chi-square test\\n\",","    \"chi_2, p, dof, expected = stats.chi2_contingency(data)\\n\",","    \"\\n\",","    \"print(\\\"Chi-square statistic =\\\", chi_2)\\n\",","    \"print(\\\"p-value =\\\", p)\\n\",","    \"print(\\\"Degrees of freedom =\\\", dof)\\n\",","    \"print(\\\"Expected contingency table =\\\", expected)\\n\",","    \"\\n\",","    \"# Significance level\\n\",","    \"alpha = 0.05\\n\",","    \"\\n\",","    \"# Rejecting or accepting null hypothesis\\n\",","    \"if p \u003c alpha:\\n\",","    \"    print(\\\"The null hypothesis can be rejected\\\")\\n\",","    \"else:\\n\",","    \"    print(\\\"The null hypothesis cannot be rejected\\\")\"","   ]","  },","  {","   \"cell_type\": \"code\",","   \"execution_count\": 65,","   \"id\": \"a07a19dc\",","   \"metadata\": {},","   \"outputs\": [","    {","     \"data\": {","      \"image/png\": \"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\",","      \"text/plain\": [","       \"\u003cFigure size 640x480 with 1 Axes\u003e\"","      ]","     },","     \"metadata\": {},","     \"output_type\": \"display_data\"","    },","    {","     \"name\": \"stdout\",","     \"output_type\": \"stream\",","     \"text\": [","      \"Chi-square statistic = 46.781260095528516\\n\",","      \"p-value = 7.365702337013401e-05\\n\",","      \"Degrees of freedom = 16\\n\",","      \"Critical value = 26.29622760486423\\n\",","      \"The null hypothesis can be rejected\\n\"","     ]","    }","   ],","   \"source\": [","    \"import numpy as np\\n\",","    \"import matplotlib.pyplot as plt\\n\",","    \"from scipy.stats import chi2\\n\",","    \"\\n\",","    \"# Constants\\n\",","    \"alpha = 0.05\\n\",","    \"df = 16\\n\",","    \"test_statistic = 46.781260095528516\\n\",","    \"p_value = chi2.sf(test_statistic, df)  # The survival function (1 - cdf) but more accurate for small p\\n\",","    \"\\n\",","    \"# Plotting the chi-square distribution\\n\",","    \"x = np.linspace(chi2.ppf(0.01, df), chi2.ppf(0.99, df), 1000)\\n\",","    \"plt.plot(x, chi2.pdf(x, df), 'r-', label='χ2 pdf')\\n\",","    \"\\n\",","    \"# Indicating the critical region\\n\",","    \"crit_value = chi2.ppf(1-alpha, df)\\n\",","    \"plt.fill_between(x, chi2.pdf(x, df), where=(x \u003e= crit_value), color='red', alpha=0.25)\\n\",","    \"\\n\",","    \"# Indicating the test statistic\\n\",","    \"plt.axvline(test_statistic, color='blue', linestyle='dashed', linewidth=1.5, label='Test statistic')\\n\",","    \"\\n\",","    \"# Adding labels\\n\",","    \"plt.title('Chi-Squared Test')\\n\",","    \"plt.xlabel('Value')\\n\",","    \"plt.ylabel('Frequency')\\n\",","    \"plt.legend()\\n\",","    \"\\n\",","    \"# Display the plot\\n\",","    \"plt.grid()\\n\",","    \"plt.show()\\n\",","    \"\\n\",","    \"# Display the p-value\\n\",","    \"#print(f\\\"p-value = {p_value}\\\")\\n\",","    \"\\n\",","    \"print(\\\"Chi-square statistic =\\\", chi_2)\\n\",","    \"print(\\\"p-value =\\\", p_value)\\n\",","    \"print(\\\"Degrees of freedom =\\\", df)\\n\",","    \"print(\\\"Critical value =\\\", crit_value)\\n\",","    \"\\n\",","    \"#print(\\\"Expected contingency table =\\\", expected)\\n\",","    \"\\n\",","    \"# Rejecting or accepting null hypothesis\\n\",","    \"if p_value \u003c alpha:\\n\",","    \"    print(\\\"The null hypothesis can be rejected\\\")\\n\",","    \"else:\\n\",","    \"    print(\\\"The null hypothesis cannot be rejected\\\")\\n\"","   ]","  },","  {","   \"cell_type\": \"code\",","   \"execution_count\": null,","   \"id\": \"9db3ee54\",","   \"metadata\": {},","   \"outputs\": [],","   \"source\": []","  },","  {","   \"cell_type\": \"code\",","   \"execution_count\": 67,","   \"id\": \"87a9f587\",","   \"metadata\": {},","   \"outputs\": [","    {","     \"data\": {","      \"text/plain\": [","       \"([350, 495, 553, 590, 512],\\n\",","       \" [349, 485, 533, 587, 382],\\n\",","       \" [348, 485, 533, 587, 382],\\n\",","       \" [347, 484, 530, 587, 382],\\n\",","       \" [346, 480, 530, 587, 382])\"","      ]","     },","     \"execution_count\": 67,","     \"metadata\": {},","     \"output_type\": \"execute_result\"","    }","   ],","   \"source\": [","    \"# H0 can't be rejected (\\\"H0\\\"):\\n\",","    \"group1 = [350, 495, 553, 590, 512]\\n\",","    \"group2 = [349, 485, 533, 587, 382]\\n\",","    \"group3 = [348, 485, 533, 587, 382]\\n\",","    \"group4 = [347, 484, 530, 587, 382]\\n\",","    \"group5 = [346, 480, 530, 587, 382]\\n\",","    \"\\n\",","    \"# H0 can be rejected (\\\"H1\\\"):\\n\",","    \"#group1 = [560, 495, 553, 547, 512]\\n\",","    \"#group2 = [369, 385, 358, 361, 393]\\n\",","    \"#group3 = [209, 226, 248, 268, 285]\\n\",","    \"#group4 = [267, 277, 304, 328, 340]\\n\",","    \"#group5 = [64, 70, 93, 77, 126]\\n\",","    \"\\n\",","    \"group1, group2, group3, group4, group5\"","   ]","  },","  {","   \"cell_type\": \"code\",","   \"execution_count\": 68,","   \"id\": \"69c7c8fe\",","   \"metadata\": {},","   \"outputs\": [","    {","     \"name\": \"stdout\",","     \"output_type\": \"stream\",","     \"text\": [","      \"Chi-square statistic = 23.517290473280553\\n\",","      \"p-value = 0.10059032960589742\\n\",","      \"Degrees of freedom = 16\\n\",","      \"Expected contingency table = [[367.83358701 513.48723152 566.33688483 621.08912566 431.25317098]\\n\",","      \" [343.7037037  479.80246914 529.18518519 580.34567901 402.96296296]\\n\",","      \" [343.55657027 479.59707424 528.95865043 580.09724336 402.79046169]\\n\",","      \" [342.82090309 478.57009978 527.82597666 578.85506511 401.92795535]\\n\",","      \" [342.08523592 477.54312532 526.69330289 577.61288686 401.06544901]]\\n\",","      \"The null hypothesis cannot be rejected\\n\"","     ]","    }","   ],","   \"source\": [","    \"# Creating a contingency table\\n\",","    \"data = np.array([group1, group2, group3, group4, group5])\\n\",","    \"\\n\",","    \"# Performing chi-square test\\n\",","    \"chi_2, p, dof, expected = stats.chi2_contingency(data)\\n\",","    \"\\n\",","    \"print(\\\"Chi-square statistic =\\\", chi_2)\\n\",","    \"print(\\\"p-value =\\\", p)\\n\",","    \"print(\\\"Degrees of freedom =\\\", dof)\\n\",","    \"print(\\\"Expected contingency table =\\\", expected)\\n\",","    \"\\n\",","    \"# Significance level\\n\",","    \"alpha = 0.05\\n\",","    \"\\n\",","    \"# Rejecting or accepting null hypothesis\\n\",","    \"if p \u003c alpha:\\n\",","    \"    print(\\\"The null hypothesis can be rejected\\\")\\n\",","    \"else:\\n\",","    \"    print(\\\"The null hypothesis cannot be rejected\\\")\"","   ]","  },","  {","   \"cell_type\": \"code\",","   \"execution_count\": 69,","   \"id\": \"114064b7\",","   \"metadata\": {},","   \"outputs\": [","    {","     \"data\": {","      \"image/png\": \"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\",","      \"text/plain\": [","       \"\u003cFigure size 640x480 with 1 Axes\u003e\"","      ]","     },","     \"metadata\": {},","     \"output_type\": \"display_data\"","    },","    {","     \"name\": \"stdout\",","     \"output_type\": \"stream\",","     \"text\": [","      \"Chi-square statistic = 23.517290473280553\\n\",","      \"p-value = 0.10059032960589742\\n\",","      \"Degrees of freedom = 16\\n\",","      \"The null hypothesis cannot be rejected\\n\"","     ]","    }","   ],","   \"source\": [","    \"import numpy as np\\n\",","    \"import matplotlib.pyplot as plt\\n\",","    \"from scipy.stats import chi2\\n\",","    \"\\n\",","    \"# Constants\\n\",","    \"alpha = 0.05\\n\",","    \"df = 16\\n\",","    \"test_statistic = 23.517290473280553\\n\",","    \"p_value = chi2.sf(test_statistic, df)  # The survival function (1 - cdf) but more accurate for small p\\n\",","    \"\\n\",","    \"# Plotting the chi-square distribution\\n\",","    \"x = np.linspace(chi2.ppf(0.01, df), chi2.ppf(0.99, df), 1000)\\n\",","    \"plt.plot(x, chi2.pdf(x, df), 'r-', label='χ2 pdf')\\n\",","    \"\\n\",","    \"# Indicating the critical region\\n\",","    \"crit_value = chi2.ppf(1-alpha, df)\\n\",","    \"plt.fill_between(x, chi2.pdf(x, df), where=(x \u003e= crit_value), color='red', alpha=0.25)\\n\",","    \"\\n\",","    \"# Indicating the test statistic\\n\",","    \"plt.axvline(test_statistic, color='blue', linestyle='dashed', linewidth=1.5, label='Test statistic')\\n\",","    \"\\n\",","    \"# Adding labels\\n\",","    \"plt.title('Chi-Squared Test')\\n\",","    \"plt.xlabel('Value')\\n\",","    \"plt.ylabel('Frequency')\\n\",","    \"plt.legend()\\n\",","    \"\\n\",","    \"# Display the plot\\n\",","    \"plt.grid()\\n\",","    \"plt.show()\\n\",","    \"\\n\",","    \"# Display the p-value\\n\",","    \"#print(f\\\"p-value = {p_value}\\\")\\n\",","    \"\\n\",","    \"print(\\\"Chi-square statistic =\\\", chi_2)\\n\",","    \"print(\\\"p-value =\\\", p_value)\\n\",","    \"print(\\\"Degrees of freedom =\\\", df)\\n\",","    \"#print(\\\"Expected contingency table =\\\", expected)\\n\",","    \"\\n\",","    \"# Rejecting or accepting null hypothesis\\n\",","    \"if p_value \u003c alpha:\\n\",","    \"    print(\\\"The null hypothesis can be rejected\\\")\\n\",","    \"else:\\n\",","    \"    print(\\\"The null hypothesis cannot be rejected\\\")\\n\"","   ]","  },","  {","   \"cell_type\": \"markdown\",","   \"id\": \"18b62542\",","   \"metadata\": {},","   \"source\": [","    \"**Exercise for chi^2:**\\n\",","    \"\\n\",","    \"Based on the chi^2 example, try new data points and find data point configurations, where H0 is very close of being rejected or is just rejected. Generate figure according to the given figures.\\n\"","   ]","  },","  {","   \"cell_type\": \"code\",","   \"execution_count\": null,","   \"id\": \"86b57c03\",","   \"metadata\": {},","   \"outputs\": [],","   \"source\": []","  }"," ],"," \"metadata\": {","  \"kernelspec\": {","   \"display_name\": \"Python 3 (ipykernel)\",","   \"language\": \"python\",","   \"name\": \"python3\"","  },","  \"language_info\": {","   \"codemirror_mode\": {","    \"name\": \"ipython\",","    \"version\": 3","   },","   \"file_extension\": \".py\",","   \"mimetype\": \"text/x-python\",","   \"name\": \"python\",","   \"nbconvert_exporter\": \"python\",","   \"pygments_lexer\": \"ipython3\",","   \"version\": \"3.11.4\"","  }"," },"," \"nbformat\": 4,"," \"nbformat_minor\": 5","}"],"stylingDirectives":null,"colorizedLines":null,"csv":null,"csvError":null,"dependabotInfo":{"showConfigurationBanner":false,"configFilePath":null,"networkDependabotPath":"/MathforDataScience/DSR_Statistics1/network/updates","dismissConfigurationNoticePath":"/settings/dismiss-notice/dependabot_configuration_notice","configurationNoticeDismissed":false},"displayName":"7_3_Chi^2.ipynb","displayUrl":"https://notebooks.githubusercontent.com/view/ipynb?browser=chrome\u0026bypass_fastly=true\u0026color_mode=auto\u0026commit=4bdf4da0692b0574b35b13389bf9db0802909d04\u0026device=unknown_device\u0026docs_host=https%3A%2F%2Fdocs.github.com\u0026enc_url=68747470733a2f2f7261772e67697468756275736572636f6e74656e742e636f6d2f4d617468666f7244617461536369656e63652f4453525f53746174697374696373312f346264663464613036393262303537346233356231333338396266396462303830323930396430342f375f2532304879706f7468657365732f375f335f436869253545322e6970796e62\u0026logged_in=true\u0026nwo=MathforDataScience%2FDSR_Statistics1\u0026path=7_+Hypotheses%2F7_3_Chi%5E2.ipynb\u0026platform=windows\u0026repository_id=661665397\u0026repository_type=Repository\u0026version=127","headerInfo":{"blobSize":"89.1 KB","deleteTooltip":"Delete this file","editTooltip":"Edit this file","ghDesktopPath":"https://desktop.github.com","isGitLfs":false,"onBranch":true,"shortPath":"deb5d6b","siteNavLoginPath":"/login?return_to=https%3A%2F%2Fgithub.com%2FMathforDataScience%2FDSR_Statistics1%2Fblob%2Fmain%2F7_%2520Hypotheses%2F7_3_Chi%255E2.ipynb","isCSV":false,"isRichtext":false,"toc":null,"lineInfo":{"truncatedLoc":"388","truncatedSloc":"388"},"mode":"file"},"image":false,"isCodeownersFile":null,"isPlain":false,"isValidLegacyIssueTemplate":false,"issueTemplate":null,"discussionTemplate":null,"language":"Jupyter Notebook","languageID":185,"large":false,"planSupportInfo":{"repoIsFork":null,"repoOwnedByCurrentUser":null,"requestFullPath":"/MathforDataScience/DSR_Statistics1/blob/main/7_%20Hypotheses/7_3_Chi%5E2.ipynb","showFreeOrgGatedFeatureMessage":null,"showPlanSupportBanner":null,"upgradeDataAttributes":null,"upgradePath":null},"publishBannersInfo":{"dismissActionNoticePath":"/settings/dismiss-notice/publish_action_from_dockerfile","releasePath":"/MathforDataScience/DSR_Statistics1/releases/new?marketplace=true","showPublishActionBanner":false},"rawBlobUrl":"https://github.com/MathforDataScience/DSR_Statistics1/raw/main/7_%20Hypotheses/7_3_Chi%5E2.ipynb","renderImageOrRaw":false,"richText":null,"renderedFileInfo":{"identityUUID":"88b58b2b-1508-4045-885e-0204154209af","renderFileType":"ipynb","size":91280},"shortPath":null,"symbolsEnabled":true,"tabSize":8,"topBannersInfo":{"overridingGlobalFundingFile":false,"globalPreferredFundingPath":null,"showInvalidCitationWarning":false,"citationHelpUrl":"https://docs.github.com/github/creating-cloning-and-archiving-repositories/creating-a-repository-on-github/about-citation-files","actionsOnboardingTip":null},"truncated":false,"viewable":true,"workflowRedirectUrl":null,"symbols":{"timed_out":false,"not_analyzed":true,"symbols":[]}},"copilotInfo":{"documentationUrl":"https://docs.github.com/copilot/overview-of-github-copilot/about-github-copilot-for-individuals","notices":{"codeViewPopover":{"dismissed":false,"dismissPath":"/settings/dismiss-notice/code_view_copilot_popover"}},"userAccess":{"hasSubscriptionEnded":false,"orgHasCFBAccess":false,"userHasCFIAccess":false,"userHasOrgs":false,"userIsOrgAdmin":false,"userIsOrgMember":false,"business":null,"featureRequestInfo":null}},"copilotAccessAllowed":false,"csrf_tokens":{"/MathforDataScience/DSR_Statistics1/branches":{"post":"0eD7FG6fGaI3h4p-ExCMRWC_HEe3FxjuEpISveeeGYxODaYW9hOYsCy80JND4JVqXHC3pSmC7IEWeIBnC2xcAw"},"/repos/preferences":{"post":"XvEWEqJrwwe4vbI0VeZmw6_7TFwwVixjvpnF60TdNrtFp8ojXnr2DC66sYLR9QMNvTCUmurCEx-gDAcKzo2lVg"}}},"title":"DSR_Statistics1/7_ Hypotheses/7_3_Chi^2.ipynb at main · MathforDataScience/DSR_Statistics1","appPayload":{"helpUrl":"https://docs.github.com","findFileWorkerPath":"/assets-cdn/worker/find-file-worker-1583894afd38.js","findInFileWorkerPath":"/assets-cdn/worker/find-in-file-worker-3a63a487027b.js","githubDevUrl":"https://github.dev/","enabled_features":{"code_nav_ui_events":false,"overview_shared_code_dropdown_button":false,"react_blob_overlay":true,"copilot_conversational_ux_embedding_update":false,"copilot_smell_icebreaker_ux":true,"copilot_workspace":false}}}</script>
  <div data-target="react-app.reactRoot"><style data-styled="true" data-styled-version="5.3.6">.jUaXMC{font-weight:600;font-size:32px;margin:0;display:-webkit-box;display:-webkit-flex;display:-ms-flexbox;display:flex;font-size:14px;}/*!sc*/
.jUaXMC:where([data-variant='large']){font:var(--text-title-shorthand-large,600 32px / 1.5 -apple-system,BlinkMacSystemFont,"Segoe UI","Noto Sans",Helvetica,Arial,sans-serif,"Apple Color Emoji","Segoe UI Emoji");}/*!sc*/
.jUaXMC:where([data-variant='medium']){font:var(--text-title-shorthand-medium,600 20px / 1.6 -apple-system,BlinkMacSystemFont,"Segoe UI","Noto Sans",Helvetica,Arial,sans-serif,"Apple Color Emoji","Segoe UI Emoji");}/*!sc*/
.jUaXMC:where([data-variant='small']){font:var(--text-title-shorthand-small,600 16px / 1.5 -apple-system,BlinkMacSystemFont,"Segoe UI","Noto Sans",Helvetica,Arial,sans-serif,"Apple Color Emoji","Segoe UI Emoji");}/*!sc*/
.fReAGt{font-weight:600;font-size:32px;margin:0;font-size:16px;margin-left:8px;}/*!sc*/
.fReAGt:where([data-variant='large']){font:var(--text-title-shorthand-large,600 32px / 1.5 -apple-system,BlinkMacSystemFont,"Segoe UI","Noto Sans",Helvetica,Arial,sans-serif,"Apple Color Emoji","Segoe UI Emoji");}/*!sc*/
.fReAGt:where([data-variant='medium']){font:var(--text-title-shorthand-medium,600 20px / 1.6 -apple-system,BlinkMacSystemFont,"Segoe UI","Noto Sans",Helvetica,Arial,sans-serif,"Apple Color Emoji","Segoe UI Emoji");}/*!sc*/
.fReAGt:where([data-variant='small']){font:var(--text-title-shorthand-small,600 16px / 1.5 -apple-system,BlinkMacSystemFont,"Segoe UI","Noto Sans",Helvetica,Arial,sans-serif,"Apple Color Emoji","Segoe UI Emoji");}/*!sc*/
.fpGZrB{font-weight:600;font-size:32px;margin:0;}/*!sc*/
.fpGZrB:where([data-variant='large']){font:var(--text-title-shorthand-large,600 32px / 1.5 -apple-system,BlinkMacSystemFont,"Segoe UI","Noto Sans",Helvetica,Arial,sans-serif,"Apple Color Emoji","Segoe UI Emoji");}/*!sc*/
.fpGZrB:where([data-variant='medium']){font:var(--text-title-shorthand-medium,600 20px / 1.6 -apple-system,BlinkMacSystemFont,"Segoe UI","Noto Sans",Helvetica,Arial,sans-serif,"Apple Color Emoji","Segoe UI Emoji");}/*!sc*/
.fpGZrB:where([data-variant='small']){font:var(--text-title-shorthand-small,600 16px / 1.5 -apple-system,BlinkMacSystemFont,"Segoe UI","Noto Sans",Helvetica,Arial,sans-serif,"Apple Color Emoji","Segoe UI Emoji");}/*!sc*/
.eqidDl{font-weight:600;font-size:32px;margin:0;font-weight:600;display:inline-block;max-width:100%;font-size:16px;}/*!sc*/
.eqidDl:where([data-variant='large']){font:var(--text-title-shorthand-large,600 32px / 1.5 -apple-system,BlinkMacSystemFont,"Segoe UI","Noto Sans",Helvetica,Arial,sans-serif,"Apple Color Emoji","Segoe UI Emoji");}/*!sc*/
.eqidDl:where([data-variant='medium']){font:var(--text-title-shorthand-medium,600 20px / 1.6 -apple-system,BlinkMacSystemFont,"Segoe UI","Noto Sans",Helvetica,Arial,sans-serif,"Apple Color Emoji","Segoe UI Emoji");}/*!sc*/
.eqidDl:where([data-variant='small']){font:var(--text-title-shorthand-small,600 16px / 1.5 -apple-system,BlinkMacSystemFont,"Segoe UI","Noto Sans",Helvetica,Arial,sans-serif,"Apple Color Emoji","Segoe UI Emoji");}/*!sc*/
.eDVSKn{font-weight:600;font-size:32px;margin:0;font-weight:600;display:inline-block;max-width:100%;font-size:14px;}/*!sc*/
.eDVSKn:where([data-variant='large']){font:var(--text-title-shorthand-large,600 32px / 1.5 -apple-system,BlinkMacSystemFont,"Segoe UI","Noto Sans",Helvetica,Arial,sans-serif,"Apple Color Emoji","Segoe UI Emoji");}/*!sc*/
.eDVSKn:where([data-variant='medium']){font:var(--text-title-shorthand-medium,600 20px / 1.6 -apple-system,BlinkMacSystemFont,"Segoe UI","Noto Sans",Helvetica,Arial,sans-serif,"Apple Color Emoji","Segoe UI Emoji");}/*!sc*/
.eDVSKn:where([data-variant='small']){font:var(--text-title-shorthand-small,600 16px / 1.5 -apple-system,BlinkMacSystemFont,"Segoe UI","Noto Sans",Helvetica,Arial,sans-serif,"Apple Color Emoji","Segoe UI Emoji");}/*!sc*/
data-styled.g1[id="Heading__StyledHeading-sc-1c1dgg0-0"]{content:"jUaXMC,fReAGt,fpGZrB,eqidDl,eDVSKn,"}/*!sc*/
.fSWWem{padding:0;}/*!sc*/
.kPPmzM{max-width:100%;margin-left:auto;margin-right:auto;display:-webkit-box;display:-webkit-flex;display:-ms-flexbox;display:flex;-webkit-flex-wrap:wrap;-ms-flex-wrap:wrap;flex-wrap:wrap;}/*!sc*/
.cIAPDV{display:-webkit-box;display:-webkit-flex;display:-ms-flexbox;display:flex;-webkit-flex:1 1 100%;-ms-flex:1 1 100%;flex:1 1 100%;-webkit-flex-wrap:wrap;-ms-flex-wrap:wrap;flex-wrap:wrap;max-width:100%;}/*!sc*/
.gvCnwW{width:100%;}/*!sc*/
@media screen and (min-width:544px){.gvCnwW{width:100%;}}/*!sc*/
@media screen and (min-width:768px){.gvCnwW{width:auto;}}/*!sc*/
.hgUFaY{display:-webkit-box;display:-webkit-flex;display:-ms-flexbox;display:flex;-webkit-order:1;-ms-flex-order:1;order:1;width:100%;margin-left:0;margin-right:0;-webkit-flex-direction:column;-ms-flex-direction:column;flex-direction:column;margin-bottom:0;min-width:0;}/*!sc*/
@media screen and (min-width:544px){.hgUFaY{-webkit-flex-direction:column;-ms-flex-direction:column;flex-direction:column;}}/*!sc*/
@media screen and (min-width:768px){.hgUFaY{width:auto;margin-top:0 !important;margin-bottom:0 !important;position:-webkit-sticky;position:sticky;top:0px;max-height:100vh !important;-webkit-flex-direction:row;-ms-flex-direction:row;flex-direction:row;margin-right:0;height:100vh;}}/*!sc*/
@media print,screen and (max-width:1011px) and (min-width:768px){.hgUFaY{display:none;}}/*!sc*/
.eUyHuk{margin-left:0;margin-right:0;display:none;margin-top:0;}/*!sc*/
@media screen and (min-width:768px){.eUyHuk{margin-left:0 !important;margin-right:0 !important;}}/*!sc*/
.gNdDUH{--pane-min-width:256px;--pane-max-width-diff:511px;--pane-max-width:calc(100vw - var(--pane-max-width-diff));width:100%;padding:0;}/*!sc*/
@media screen and (min-width:544px){}/*!sc*/
@media screen and (min-width:768px){.gNdDUH{width:clamp(var(--pane-min-width),var(--pane-width),var(--pane-max-width));overflow:auto;}}/*!sc*/
@media screen and (min-width:1280px){.gNdDUH{--pane-max-width-diff:959px;}}/*!sc*/
.jywUSN{max-height:100%;height:100%;display:-webkit-box;display:-webkit-flex;display:-ms-flexbox;display:flex;-webkit-flex-direction:column;-ms-flex-direction:column;flex-direction:column;}/*!sc*/
@media screen and (max-width:768px){.jywUSN{display:none;}}/*!sc*/
@media screen and (min-width:768px){.jywUSN{max-height:100vh;height:100vh;}}/*!sc*/
.hBSSUC{display:-webkit-box;display:-webkit-flex;display:-ms-flexbox;display:flex;-webkit-flex-direction:column;-ms-flex-direction:column;flex-direction:column;-webkit-align-items:center;-webkit-box-align:center;-ms-flex-align:center;align-items:center;padding-left:16px;padding-right:16px;padding-bottom:8px;padding-top:16px;}/*!sc*/
.iPurHz{display:-webkit-box;display:-webkit-flex;display:-ms-flexbox;display:flex;width:100%;margin-bottom:16px;-webkit-align-items:center;-webkit-box-align:center;-ms-flex-align:center;align-items:center;}/*!sc*/
.kkrdEu{-webkit-box-pack:center;-webkit-justify-content:center;-ms-flex-pack:center;justify-content:center;}/*!sc*/
.trpoQ{display:-webkit-box;display:-webkit-flex;display:-ms-flexbox;display:flex;pointer-events:none;}/*!sc*/
.hVHHYa{margin-left:24px;margin-right:24px;display:-webkit-box;display:-webkit-flex;display:-ms-flexbox;display:flex;width:100%;}/*!sc*/
.idZfsJ{-webkit-box-flex:1;-webkit-flex-grow:1;-ms-flex-positive:1;flex-grow:1;}/*!sc*/
.bKgizp{display:-webkit-box;display:-webkit-flex;display:-ms-flexbox;display:flex;width:100%;}/*!sc*/
.iPGYsi{margin-right:4px;color:var(--fgColor-muted,var(--color-fg-muted,#656d76));}/*!sc*/
.caeYDk{font-size:14px;min-width:0;overflow:hidden;text-overflow:ellipsis;white-space:nowrap;}/*!sc*/
.jahcnb{margin-left:8px;white-space:nowrap;}/*!sc*/
.jahcnb:hover button:not(:hover){border-left-color:var(--button-default-borderColor-hover,var(--color-btn-hover-border));}/*!sc*/
.ccToMy{margin-left:16px;margin-right:16px;margin-bottom:12px;}/*!sc*/
@media screen and (max-width:768px){.ccToMy{display:none;}}/*!sc*/
.cNvKlH{margin-right:-6px;}/*!sc*/
.cLfAnm{-webkit-box-flex:1;-webkit-flex-grow:1;-ms-flex-positive:1;flex-grow:1;max-height:100% !important;overflow-y:auto;-webkit-scrollbar-gutter:stable;-moz-scrollbar-gutter:stable;-ms-scrollbar-gutter:stable;scrollbar-gutter:stable;}/*!sc*/
@media screen and (max-width:768px){.cLfAnm{display:none;}}/*!sc*/
.erWCJP{padding-left:16px;padding-right:16px;padding-bottom:8px;}/*!sc*/
.hAeDYA{height:100%;position:relative;display:none;margin-left:0;}/*!sc*/
.fjdBNx{position:absolute;inset:0 -2px;cursor:col-resize;background-color:transparent;-webkit-transition-delay:0.1s;transition-delay:0.1s;}/*!sc*/
.fjdBNx:hover{background-color:var(--bgColor-neutral-muted,var(--color-neutral-muted,rgba(175,184,193,0.2)));}/*!sc*/
.emFMJu{display:-webkit-box;display:-webkit-flex;display:-ms-flexbox;display:flex;-webkit-flex-direction:column;-ms-flex-direction:column;flex-direction:column;-webkit-order:2;-ms-flex-order:2;order:2;-webkit-flex-basis:0;-ms-flex-preferred-size:0;flex-basis:0;-webkit-box-flex:1;-webkit-flex-grow:1;-ms-flex-positive:1;flex-grow:1;-webkit-flex-shrink:1;-ms-flex-negative:1;flex-shrink:1;min-width:1px;margin-right:auto;}/*!sc*/
@media print{.emFMJu{display:-webkit-box !important;display:-webkit-flex !important;display:-ms-flexbox !important;display:flex !important;}}/*!sc*/
.hlUAHL{width:100%;max-width:100%;margin-left:auto;margin-right:auto;-webkit-box-flex:1;-webkit-flex-grow:1;-ms-flex-positive:1;flex-grow:1;padding:0;}/*!sc*/
.iStsmI{margin-left:auto;margin-right:auto;-webkit-flex-direction:column;-ms-flex-direction:column;flex-direction:column;padding-bottom:40px;max-width:100%;margin-top:0;}/*!sc*/
.eIgvIk{display:inherit;}/*!sc*/
.eVFfWF{width:100%;}/*!sc*/
.fywjmm{display:-webkit-box;display:-webkit-flex;display:-ms-flexbox;display:flex;gap:8px;-webkit-flex-direction:column;-ms-flex-direction:column;flex-direction:column;width:100%;}/*!sc*/
.dyczTK{display:-webkit-box;display:-webkit-flex;display:-ms-flexbox;display:flex;-webkit-align-items:start;-webkit-box-align:start;-ms-flex-align:start;align-items:start;-webkit-box-pack:justify;-webkit-justify-content:space-between;-ms-flex-pack:justify;justify-content:space-between;gap:8px;}/*!sc*/
.kszRgZ{-webkit-align-self:center;-ms-flex-item-align:center;align-self:center;display:-webkit-box;display:-webkit-flex;display:-ms-flexbox;display:flex;padding-right:8px;min-width:0;}/*!sc*/
.eTvGbF{display:-webkit-box;display:-webkit-flex;display:-ms-flexbox;display:flex;-webkit-flex-direction:row;-ms-flex-direction:row;flex-direction:row;font-size:16px;min-width:0;-webkit-flex-shrink:1;-ms-flex-negative:1;flex-shrink:1;-webkit-flex-wrap:wrap;-ms-flex-wrap:wrap;flex-wrap:wrap;max-width:100%;-webkit-align-items:center;-webkit-box-align:center;-ms-flex-align:center;align-items:center;}/*!sc*/
.kzRgrI{max-width:100%;}/*!sc*/
.cmAPIB{max-width:100%;list-style:none;display:inline-block;}/*!sc*/
.jwXCBK{display:inline-block;max-width:100%;}/*!sc*/
.gtBUEp{min-height:32px;display:-webkit-box;display:-webkit-flex;display:-ms-flexbox;display:flex;-webkit-align-items:start;-webkit-box-align:start;-ms-flex-align:start;align-items:start;}/*!sc*/
.hVZtwF{margin-left:16px;margin-right:16px;}/*!sc*/
.cMYnca{display:-webkit-box;display:-webkit-flex;display:-ms-flexbox;display:flex;-webkit-flex-direction:column;-ms-flex-direction:column;flex-direction:column;}/*!sc*/
.brJRqk{display:-webkit-box;display:-webkit-flex;display:-ms-flexbox;display:flex;-webkit-flex-direction:row;-ms-flex-direction:row;flex-direction:row;-webkit-flex-wrap:wrap;-ms-flex-wrap:wrap;flex-wrap:wrap;-webkit-box-pack:justify;-webkit-justify-content:space-between;-ms-flex-pack:justify;justify-content:space-between;-webkit-align-items:center;-webkit-box-align:center;-ms-flex-align:center;align-items:center;gap:8px;min-width:273px;padding:8px;}/*!sc*/
@media screen and (min-width:544px){.brJRqk{-webkit-flex-wrap:nowrap;-ms-flex-wrap:nowrap;flex-wrap:nowrap;}}/*!sc*/
.iJmJly{display:-webkit-box;display:-webkit-flex;display:-ms-flexbox;display:flex;-webkit-flex-direction:row;-ms-flex-direction:row;flex-direction:row;}/*!sc*/
.jACbi{width:100%;height:-webkit-fit-content;height:-moz-fit-content;height:fit-content;min-width:0;margin-right:0;}/*!sc*/
.gIJuDf{height:40px;padding-left:4px;padding-bottom:16px;}/*!sc*/
.fleZSW{-webkit-align-items:center;-webkit-box-align:center;-ms-flex-align:center;align-items:center;}/*!sc*/
.BnySK{font-size:12px;-webkit-flex:auto;-ms-flex:auto;flex:auto;padding-right:16px;color:var(--fgColor-muted,var(--color-fg-muted,#656d76));min-width:0;}/*!sc*/
.VHzRk{top:0px;z-index:4;background:var(--bgColor-default,var(--color-canvas-default));position:-webkit-sticky;position:sticky;}/*!sc*/
.ePiodO{display:-webkit-box;display:-webkit-flex;display:-ms-flexbox;display:flex;-webkit-flex-direction:column;-ms-flex-direction:column;flex-direction:column;width:100%;position:absolute;}/*!sc*/
.kQJlnf{display:none;min-width:0;padding-top:8px;padding-bottom:8px;}/*!sc*/
.gJICKO{margin-right:8px;margin-left:16px;text-overflow:ellipsis;overflow:hidden;display:-webkit-box;display:-webkit-flex;display:-ms-flexbox;display:flex;-webkit-flex-direction:row;-ms-flex-direction:row;flex-direction:row;-webkit-align-items:center;-webkit-box-align:center;-ms-flex-align:center;align-items:center;-webkit-box-pack:justify;-webkit-justify-content:space-between;-ms-flex-pack:justify;justify-content:space-between;width:100%;}/*!sc*/
.iZJewz{display:-webkit-box;display:-webkit-flex;display:-ms-flexbox;display:flex;-webkit-flex-direction:row;-ms-flex-direction:row;flex-direction:row;font-size:14px;min-width:0;-webkit-flex-shrink:1;-ms-flex-negative:1;flex-shrink:1;-webkit-flex-wrap:wrap;-ms-flex-wrap:wrap;flex-wrap:wrap;max-width:100%;-webkit-align-items:center;-webkit-box-align:center;-ms-flex-align:center;align-items:center;}/*!sc*/
.jfjHXm{padding-left:8px;padding-top:8px;padding-bottom:8px;display:-webkit-box;display:-webkit-flex;display:-ms-flexbox;display:flex;-webkit-flex:1;-ms-flex:1;flex:1;-webkit-align-items:center;-webkit-box-align:center;-ms-flex-align:center;align-items:center;-webkit-box-pack:justify;-webkit-justify-content:space-between;-ms-flex-pack:justify;justify-content:space-between;background-color:var(--bgColor-muted,var(--color-canvas-subtle,#f6f8fa));border:1px solid var(--borderColor-default,var(--color-border-default));border-radius:6px 6px 0px 0px;}/*!sc*/
.bfkNRF{display:-webkit-box;display:-webkit-flex;display:-ms-flexbox;display:flex;-webkit-align-items:center;-webkit-box-align:center;-ms-flex-align:center;align-items:center;gap:8px;min-width:0;}/*!sc*/
.fXBLEV{display:block;position:relative;-webkit-box-flex:1;-webkit-flex-grow:1;-ms-flex-positive:1;flex-grow:1;margin-top:-1px;margin-bottom:-1px;--separator-color:transparent;}/*!sc*/
.fXBLEV:not(:last-child){margin-right:1px;}/*!sc*/
.fXBLEV:not(:last-child):after{background-color:var(--separator-color);content:"";position:absolute;right:-2px;top:8px;bottom:8px;width:1px;}/*!sc*/
.fXBLEV:focus-within:has(:focus-visible){--separator-color:transparent;}/*!sc*/
.fXBLEV:first-child{margin-left:-1px;}/*!sc*/
.fXBLEV:last-child{margin-right:-1px;}/*!sc*/
.gMPsNT{display:block;position:relative;-webkit-box-flex:1;-webkit-flex-grow:1;-ms-flex-positive:1;flex-grow:1;margin-top:-1px;margin-bottom:-1px;--separator-color:var(--borderColor-default,var(--color-border-default,#d0d7de));}/*!sc*/
.gMPsNT:not(:last-child){margin-right:1px;}/*!sc*/
.gMPsNT:not(:last-child):after{background-color:var(--separator-color);content:"";position:absolute;right:-2px;top:8px;bottom:8px;width:1px;}/*!sc*/
.gMPsNT:focus-within:has(:focus-visible){--separator-color:transparent;}/*!sc*/
.gMPsNT:first-child{margin-left:-1px;}/*!sc*/
.gMPsNT:last-child{margin-right:-1px;}/*!sc*/
.iBylDf{display:-webkit-box;display:-webkit-flex;display:-ms-flexbox;display:flex;-webkit-align-items:center;-webkit-box-align:center;-ms-flex-align:center;align-items:center;gap:8px;margin-right:8px;}/*!sc*/
.kSGBPx{gap:8px;}/*!sc*/
.ytOJl{border:1px solid;border-top:none;border-color:var(--borderColor-default,var(--color-border-default,#d0d7de));border-radius:0px 0px 6px 6px;min-width:273px;}/*!sc*/
.eJsjkT{background-color:var(--bgColor-default,var(--color-canvas-default));border:0px;border-width:0;border-radius:0px 0px 6px 6px;padding:0;min-width:0;margin-top:46px;overflow:auto;}/*!sc*/
.aZrVR{position:fixed;top:0;right:0;height:100%;width:15px;-webkit-transition:-webkit-transform 0.3s;-webkit-transition:transform 0.3s;transition:transform 0.3s;z-index:1;}/*!sc*/
.aZrVR:hover{-webkit-transform:scaleX(1.5);-ms-transform:scaleX(1.5);transform:scaleX(1.5);}/*!sc*/
.bAzdCq{display:-webkit-box;display:-webkit-flex;display:-ms-flexbox;display:flex;-webkit-flex-direction:column;-ms-flex-direction:column;flex-direction:column;-webkit-align-items:center;-webkit-box-align:center;-ms-flex-align:center;align-items:center;padding-top:16px;padding-bottom:16px;}/*!sc*/
.ioTNdO{display:-webkit-inline-box;display:-webkit-inline-flex;display:-ms-inline-flexbox;display:inline-flex;}/*!sc*/
data-styled.g2[id="Box-sc-g0xbh4-0"]{content:"fSWWem,kPPmzM,cIAPDV,gvCnwW,hgUFaY,eUyHuk,gNdDUH,jywUSN,hBSSUC,iPurHz,kkrdEu,trpoQ,hVHHYa,idZfsJ,bKgizp,iPGYsi,caeYDk,jahcnb,ccToMy,cNvKlH,cLfAnm,erWCJP,hAeDYA,fjdBNx,emFMJu,hlUAHL,iStsmI,eIgvIk,eVFfWF,fywjmm,dyczTK,kszRgZ,eTvGbF,kzRgrI,cmAPIB,jwXCBK,gtBUEp,hVZtwF,cMYnca,brJRqk,iJmJly,jACbi,gIJuDf,fleZSW,BnySK,VHzRk,ePiodO,kQJlnf,gJICKO,iZJewz,jfjHXm,bfkNRF,fXBLEV,gMPsNT,iBylDf,kSGBPx,ytOJl,eJsjkT,aZrVR,bAzdCq,ioTNdO,"}/*!sc*/
.jGoVeP{border-radius:6px;border:1px solid;border-color:transparent;font-family:inherit;font-weight:500;font-size:14px;cursor:pointer;-webkit-appearance:none;-moz-appearance:none;appearance:none;-webkit-user-select:none;-moz-user-select:none;-ms-user-select:none;user-select:none;-webkit-text-decoration:none;text-decoration:none;text-align:center;display:-webkit-box;display:-webkit-flex;display:-ms-flexbox;display:flex;-webkit-align-items:center;-webkit-box-align:center;-ms-flex-align:center;align-items:center;-webkit-box-pack:justify;-webkit-justify-content:space-between;-ms-flex-pack:justify;justify-content:space-between;height:32px;padding:0 12px;gap:8px;min-width:-webkit-max-content;min-width:-moz-max-content;min-width:max-content;-webkit-transition:80ms cubic-bezier(0.65,0,0.35,1);transition:80ms cubic-bezier(0.65,0,0.35,1);-webkit-transition-property:color,fill,background-color,border-color;transition-property:color,fill,background-color,border-color;color:var(--button-default-fgColor-rest,var(--color-btn-text,#24292f));background-color:transparent;box-shadow:none;}/*!sc*/
.jGoVeP:focus:not(:disabled){box-shadow:none;outline:2px solid var(--fgColor-accent,var(--color-accent-fg,#0969da));outline-offset:-2px;}/*!sc*/
.jGoVeP:focus:not(:disabled):not(:focus-visible){outline:solid 1px transparent;}/*!sc*/
.jGoVeP:focus-visible:not(:disabled){box-shadow:none;outline:2px solid var(--fgColor-accent,var(--color-accent-fg,#0969da));outline-offset:-2px;}/*!sc*/
.jGoVeP[href]{display:-webkit-inline-box;display:-webkit-inline-flex;display:-ms-inline-flexbox;display:inline-flex;}/*!sc*/
.jGoVeP[href]:hover{-webkit-text-decoration:none;text-decoration:none;}/*!sc*/
.jGoVeP:hover{-webkit-transition-duration:80ms;transition-duration:80ms;}/*!sc*/
.jGoVeP:active{-webkit-transition:none;transition:none;}/*!sc*/
.jGoVeP[data-inactive]{cursor:auto;}/*!sc*/
.jGoVeP:disabled{cursor:not-allowed;box-shadow:none;color:var(--fgColor-disabled,var(--color-primer-fg-disabled,#8c959f));}/*!sc*/
.jGoVeP:disabled [data-component=ButtonCounter],.jGoVeP:disabled [data-component="leadingVisual"],.jGoVeP:disabled [data-component="trailingAction"]{color:inherit;}/*!sc*/
@media (forced-colors:active){.jGoVeP:focus{outline:solid 1px transparent;}}/*!sc*/
.jGoVeP [data-component=ButtonCounter]{font-size:12px;}/*!sc*/
.jGoVeP[data-component=IconButton]{display:inline-grid;padding:unset;place-content:center;width:32px;min-width:unset;}/*!sc*/
.jGoVeP[data-size="small"]{padding:0 8px;height:28px;gap:4px;font-size:12px;}/*!sc*/
.jGoVeP[data-size="small"] [data-component="text"]{line-height:calc(20 / 12);}/*!sc*/
.jGoVeP[data-size="small"] [data-component=ButtonCounter]{font-size:12px;}/*!sc*/
.jGoVeP[data-size="small"] [data-component="buttonContent"] > :not(:last-child){margin-right:4px;}/*!sc*/
.jGoVeP[data-size="small"][data-component=IconButton]{width:28px;padding:unset;}/*!sc*/
.jGoVeP[data-size="large"]{padding:0 16px;height:40px;gap:8px;}/*!sc*/
.jGoVeP[data-size="large"] [data-component="buttonContent"] > :not(:last-child){margin-right:8px;}/*!sc*/
.jGoVeP[data-size="large"][data-component=IconButton]{width:40px;padding:unset;}/*!sc*/
.jGoVeP[data-block="block"]{width:100%;}/*!sc*/
.jGoVeP[data-label-wrap="true"]{min-width:-webkit-fit-content;min-width:-moz-fit-content;min-width:fit-content;height:unset;min-height:var(--control-medium-size,2rem);}/*!sc*/
.jGoVeP[data-label-wrap="true"] [data-component="buttonContent"]{-webkit-flex:1 1 auto;-ms-flex:1 1 auto;flex:1 1 auto;-webkit-align-self:stretch;-ms-flex-item-align:stretch;align-self:stretch;padding-block:calc(var(--control-medium-paddingBlock,0.375rem) - 2px);}/*!sc*/
.jGoVeP[data-label-wrap="true"] [data-component="text"]{white-space:unset;word-break:break-word;}/*!sc*/
.jGoVeP[data-label-wrap="true"][data-size="small"]{height:unset;min-height:var(--control-small-size,1.75rem);}/*!sc*/
.jGoVeP[data-label-wrap="true"][data-size="small"] [data-component="buttonContent"]{padding-block:calc(var(--control-small-paddingBlock,0.25rem) - 2px);}/*!sc*/
.jGoVeP[data-label-wrap="true"][data-size="large"]{height:unset;min-height:var(--control-large-size,2.5rem);padding-inline:var(--control-large-paddingInline-spacious,1rem);}/*!sc*/
.jGoVeP[data-label-wrap="true"][data-size="large"] [data-component="buttonContent"]{padding-block:calc(var(--control-large-paddingBlock,0.625rem) - 2px);}/*!sc*/
.jGoVeP[data-inactive]:not([disabled]){background-color:var(--button-inactive-bgColor,var(--button-inactive-bgColor-rest,var(--color-btn-inactive-bg,#eaeef2)));border-color:var(--button-inactive-bgColor,var(--button-inactive-bgColor-rest,var(--color-btn-inactive-bg,#eaeef2)));color:var(--button-inactive-fgColor,var(--button-inactive-fgColor-rest,var(--color-btn-inactive-text,#57606a)));}/*!sc*/
.jGoVeP[data-inactive]:not([disabled]):focus-visible{box-shadow:none;}/*!sc*/
.jGoVeP [data-component="leadingVisual"]{grid-area:leadingVisual;color:var(--fgColor-muted,var(--color-fg-muted,#656d76));}/*!sc*/
.jGoVeP [data-component="text"]{grid-area:text;line-height:calc(20/14);white-space:nowrap;}/*!sc*/
.jGoVeP [data-component="trailingVisual"]{grid-area:trailingVisual;}/*!sc*/
.jGoVeP [data-component="trailingAction"]{margin-right:-4px;color:var(--fgColor-muted,var(--color-fg-muted,#656d76));}/*!sc*/
.jGoVeP [data-component="buttonContent"]{-webkit-flex:1 0 auto;-ms-flex:1 0 auto;flex:1 0 auto;display:grid;grid-template-areas:"leadingVisual text trailingVisual";grid-template-columns:min-content minmax(0,auto) min-content;-webkit-align-items:center;-webkit-box-align:center;-ms-flex-align:center;align-items:center;-webkit-align-content:center;-ms-flex-line-pack:center;align-content:center;}/*!sc*/
.jGoVeP [data-component="buttonContent"] > :not(:last-child){margin-right:8px;}/*!sc*/
.jGoVeP [data-component="loadingSpinner"]{grid-area:text;margin-right:0px !important;place-self:center;}/*!sc*/
.jGoVeP [data-component="loadingSpinner"] + [data-component="text"]{visibility:hidden;}/*!sc*/
.jGoVeP:hover:not([disabled]){background-color:var(--control-transparent-bgColor-hover,var(--color-action-list-item-default-hover-bg,rgba(208,215,222,0.32)));}/*!sc*/
.jGoVeP:active:not([disabled]){background-color:var(--control-transparent-bgColor-active,var(--color-action-list-item-default-active-bg,rgba(208,215,222,0.48)));}/*!sc*/
.jGoVeP[aria-expanded=true]{background-color:var(--control-transparent-bgColor-selected,var(--color-action-list-item-default-selected-bg,rgba(208,215,222,0.24)));}/*!sc*/
.jGoVeP[data-component="IconButton"][data-no-visuals]{color:var(--fgColor-muted,var(--color-fg-muted,#656d76));}/*!sc*/
.jGoVeP[data-no-visuals]{color:var(--fgColor-accent,var(--color-accent-fg,#0969da));}/*!sc*/
.jGoVeP:has([data-component="ButtonCounter"]){color:var(--button-default-fgColor-rest,var(--color-btn-text,#24292f));}/*!sc*/
.jGoVeP:disabled[data-no-visuals]{color:var(--fgColor-disabled,var(--color-primer-fg-disabled,#8c959f));}/*!sc*/
.jGoVeP:disabled[data-no-visuals] [data-component=ButtonCounter]{color:inherit;}/*!sc*/
.jGoVeP{color:var(--fgColor-muted,var(--color-fg-muted,#656d76));padding-left:8px;padding-right:8px;display:none;}/*!sc*/
@media screen and (max-width:768px){.jGoVeP{display:block;}}/*!sc*/
.cRDVgI{border-radius:6px;border:1px solid;border-color:transparent;font-family:inherit;font-weight:500;font-size:14px;cursor:pointer;-webkit-appearance:none;-moz-appearance:none;appearance:none;-webkit-user-select:none;-moz-user-select:none;-ms-user-select:none;user-select:none;-webkit-text-decoration:none;text-decoration:none;text-align:center;display:-webkit-box;display:-webkit-flex;display:-ms-flexbox;display:flex;-webkit-align-items:center;-webkit-box-align:center;-ms-flex-align:center;align-items:center;-webkit-box-pack:justify;-webkit-justify-content:space-between;-ms-flex-pack:justify;justify-content:space-between;height:32px;padding:0 12px;gap:8px;min-width:-webkit-max-content;min-width:-moz-max-content;min-width:max-content;-webkit-transition:80ms cubic-bezier(0.65,0,0.35,1);transition:80ms cubic-bezier(0.65,0,0.35,1);-webkit-transition-property:color,fill,background-color,border-color;transition-property:color,fill,background-color,border-color;color:var(--button-default-fgColor-rest,var(--color-btn-text,#24292f));background-color:transparent;box-shadow:none;}/*!sc*/
.cRDVgI:focus:not(:disabled){box-shadow:none;outline:2px solid var(--fgColor-accent,var(--color-accent-fg,#0969da));outline-offset:-2px;}/*!sc*/
.cRDVgI:focus:not(:disabled):not(:focus-visible){outline:solid 1px transparent;}/*!sc*/
.cRDVgI:focus-visible:not(:disabled){box-shadow:none;outline:2px solid var(--fgColor-accent,var(--color-accent-fg,#0969da));outline-offset:-2px;}/*!sc*/
.cRDVgI[href]{display:-webkit-inline-box;display:-webkit-inline-flex;display:-ms-inline-flexbox;display:inline-flex;}/*!sc*/
.cRDVgI[href]:hover{-webkit-text-decoration:none;text-decoration:none;}/*!sc*/
.cRDVgI:hover{-webkit-transition-duration:80ms;transition-duration:80ms;}/*!sc*/
.cRDVgI:active{-webkit-transition:none;transition:none;}/*!sc*/
.cRDVgI[data-inactive]{cursor:auto;}/*!sc*/
.cRDVgI:disabled{cursor:not-allowed;box-shadow:none;color:var(--fgColor-disabled,var(--color-primer-fg-disabled,#8c959f));}/*!sc*/
.cRDVgI:disabled [data-component=ButtonCounter],.cRDVgI:disabled [data-component="leadingVisual"],.cRDVgI:disabled [data-component="trailingAction"]{color:inherit;}/*!sc*/
@media (forced-colors:active){.cRDVgI:focus{outline:solid 1px transparent;}}/*!sc*/
.cRDVgI [data-component=ButtonCounter]{font-size:12px;}/*!sc*/
.cRDVgI[data-component=IconButton]{display:inline-grid;padding:unset;place-content:center;width:32px;min-width:unset;}/*!sc*/
.cRDVgI[data-size="small"]{padding:0 8px;height:28px;gap:4px;font-size:12px;}/*!sc*/
.cRDVgI[data-size="small"] [data-component="text"]{line-height:calc(20 / 12);}/*!sc*/
.cRDVgI[data-size="small"] [data-component=ButtonCounter]{font-size:12px;}/*!sc*/
.cRDVgI[data-size="small"] [data-component="buttonContent"] > :not(:last-child){margin-right:4px;}/*!sc*/
.cRDVgI[data-size="small"][data-component=IconButton]{width:28px;padding:unset;}/*!sc*/
.cRDVgI[data-size="large"]{padding:0 16px;height:40px;gap:8px;}/*!sc*/
.cRDVgI[data-size="large"] [data-component="buttonContent"] > :not(:last-child){margin-right:8px;}/*!sc*/
.cRDVgI[data-size="large"][data-component=IconButton]{width:40px;padding:unset;}/*!sc*/
.cRDVgI[data-block="block"]{width:100%;}/*!sc*/
.cRDVgI[data-label-wrap="true"]{min-width:-webkit-fit-content;min-width:-moz-fit-content;min-width:fit-content;height:unset;min-height:var(--control-medium-size,2rem);}/*!sc*/
.cRDVgI[data-label-wrap="true"] [data-component="buttonContent"]{-webkit-flex:1 1 auto;-ms-flex:1 1 auto;flex:1 1 auto;-webkit-align-self:stretch;-ms-flex-item-align:stretch;align-self:stretch;padding-block:calc(var(--control-medium-paddingBlock,0.375rem) - 2px);}/*!sc*/
.cRDVgI[data-label-wrap="true"] [data-component="text"]{white-space:unset;word-break:break-word;}/*!sc*/
.cRDVgI[data-label-wrap="true"][data-size="small"]{height:unset;min-height:var(--control-small-size,1.75rem);}/*!sc*/
.cRDVgI[data-label-wrap="true"][data-size="small"] [data-component="buttonContent"]{padding-block:calc(var(--control-small-paddingBlock,0.25rem) - 2px);}/*!sc*/
.cRDVgI[data-label-wrap="true"][data-size="large"]{height:unset;min-height:var(--control-large-size,2.5rem);padding-inline:var(--control-large-paddingInline-spacious,1rem);}/*!sc*/
.cRDVgI[data-label-wrap="true"][data-size="large"] [data-component="buttonContent"]{padding-block:calc(var(--control-large-paddingBlock,0.625rem) - 2px);}/*!sc*/
.cRDVgI[data-inactive]:not([disabled]){background-color:var(--button-inactive-bgColor,var(--button-inactive-bgColor-rest,var(--color-btn-inactive-bg,#eaeef2)));border-color:var(--button-inactive-bgColor,var(--button-inactive-bgColor-rest,var(--color-btn-inactive-bg,#eaeef2)));color:var(--button-inactive-fgColor,var(--button-inactive-fgColor-rest,var(--color-btn-inactive-text,#57606a)));}/*!sc*/
.cRDVgI[data-inactive]:not([disabled]):focus-visible{box-shadow:none;}/*!sc*/
.cRDVgI [data-component="leadingVisual"]{grid-area:leadingVisual;color:var(--fgColor-muted,var(--color-fg-muted,#656d76));}/*!sc*/
.cRDVgI [data-component="text"]{grid-area:text;line-height:calc(20/14);white-space:nowrap;}/*!sc*/
.cRDVgI [data-component="trailingVisual"]{grid-area:trailingVisual;}/*!sc*/
.cRDVgI [data-component="trailingAction"]{margin-right:-4px;color:var(--fgColor-muted,var(--color-fg-muted,#656d76));}/*!sc*/
.cRDVgI [data-component="buttonContent"]{-webkit-flex:1 0 auto;-ms-flex:1 0 auto;flex:1 0 auto;display:grid;grid-template-areas:"leadingVisual text trailingVisual";grid-template-columns:min-content minmax(0,auto) min-content;-webkit-align-items:center;-webkit-box-align:center;-ms-flex-align:center;align-items:center;-webkit-align-content:center;-ms-flex-line-pack:center;align-content:center;}/*!sc*/
.cRDVgI [data-component="buttonContent"] > :not(:last-child){margin-right:8px;}/*!sc*/
.cRDVgI [data-component="loadingSpinner"]{grid-area:text;margin-right:0px !important;place-self:center;}/*!sc*/
.cRDVgI [data-component="loadingSpinner"] + [data-component="text"]{visibility:hidden;}/*!sc*/
.cRDVgI:hover:not([disabled]){background-color:var(--control-transparent-bgColor-hover,var(--color-action-list-item-default-hover-bg,rgba(208,215,222,0.32)));}/*!sc*/
.cRDVgI:active:not([disabled]){background-color:var(--control-transparent-bgColor-active,var(--color-action-list-item-default-active-bg,rgba(208,215,222,0.48)));}/*!sc*/
.cRDVgI[aria-expanded=true]{background-color:var(--control-transparent-bgColor-selected,var(--color-action-list-item-default-selected-bg,rgba(208,215,222,0.24)));}/*!sc*/
.cRDVgI[data-component="IconButton"][data-no-visuals]{color:var(--fgColor-muted,var(--color-fg-muted,#656d76));}/*!sc*/
.cRDVgI[data-no-visuals]{color:var(--fgColor-muted,var(--color-fg-muted,#656d76));height:32px;position:relative;}/*!sc*/
@media screen and (max-width:768px){.cRDVgI[data-no-visuals]{display:none;}}/*!sc*/
.cRDVgI:has([data-component="ButtonCounter"]){color:var(--button-default-fgColor-rest,var(--color-btn-text,#24292f));}/*!sc*/
.cRDVgI:disabled[data-no-visuals]{color:var(--fgColor-disabled,var(--color-primer-fg-disabled,#8c959f));}/*!sc*/
.cRDVgI:disabled[data-no-visuals] [data-component=ButtonCounter]{color:inherit;}/*!sc*/
.jwBfae{border-radius:6px;border:1px solid;border-color:var(--button-default-borderColor-rest,var(--button-default-borderColor-rest,var(--color-btn-border,rgba(31,35,40,0.15))));font-family:inherit;font-weight:500;font-size:14px;cursor:pointer;-webkit-appearance:none;-moz-appearance:none;appearance:none;-webkit-user-select:none;-moz-user-select:none;-ms-user-select:none;user-select:none;-webkit-text-decoration:none;text-decoration:none;text-align:center;display:-webkit-box;display:-webkit-flex;display:-ms-flexbox;display:flex;-webkit-align-items:center;-webkit-box-align:center;-ms-flex-align:center;align-items:center;-webkit-box-pack:justify;-webkit-justify-content:space-between;-ms-flex-pack:justify;justify-content:space-between;height:32px;padding:0 12px;gap:8px;min-width:-webkit-max-content;min-width:-moz-max-content;min-width:max-content;-webkit-transition:80ms cubic-bezier(0.65,0,0.35,1);transition:80ms cubic-bezier(0.65,0,0.35,1);-webkit-transition-property:color,fill,background-color,border-color;transition-property:color,fill,background-color,border-color;color:var(--button-default-fgColor-rest,var(--color-btn-text,#24292f));background-color:var(--button-default-bgColor-rest,var(--color-btn-bg,#f6f8fa));box-shadow:var(--button-default-shadow-resting,var(--color-btn-shadow,0 1px 0 rgba(31,35,40,0.04))),var(--button-default-shadow-inset,var(--color-btn-inset-shadow,inset 0 1px 0 rgba(255,255,255,0.25)));}/*!sc*/
.jwBfae:focus:not(:disabled){box-shadow:none;outline:2px solid var(--fgColor-accent,var(--color-accent-fg,#0969da));outline-offset:-2px;}/*!sc*/
.jwBfae:focus:not(:disabled):not(:focus-visible){outline:solid 1px transparent;}/*!sc*/
.jwBfae:focus-visible:not(:disabled){box-shadow:none;outline:2px solid var(--fgColor-accent,var(--color-accent-fg,#0969da));outline-offset:-2px;}/*!sc*/
.jwBfae[href]{display:-webkit-inline-box;display:-webkit-inline-flex;display:-ms-inline-flexbox;display:inline-flex;}/*!sc*/
.jwBfae[href]:hover{-webkit-text-decoration:none;text-decoration:none;}/*!sc*/
.jwBfae:hover{-webkit-transition-duration:80ms;transition-duration:80ms;}/*!sc*/
.jwBfae:active{-webkit-transition:none;transition:none;}/*!sc*/
.jwBfae[data-inactive]{cursor:auto;}/*!sc*/
.jwBfae:disabled{cursor:not-allowed;box-shadow:none;color:var(--fgColor-disabled,var(--color-primer-fg-disabled,#8c959f));border-color:var(--button-default-borderColor-disabled,var(--button-default-borderColor-rest,var(--color-btn-border,rgba(31,35,40,0.15))));background-color:var(--button-default-bgColor-disabled,var(--control-bgColor-disabled,var(--color-input-disabled-bg,rgba(175,184,193,0.2))));}/*!sc*/
.jwBfae:disabled [data-component=ButtonCounter]{color:inherit;}/*!sc*/
@media (forced-colors:active){.jwBfae:focus{outline:solid 1px transparent;}}/*!sc*/
.jwBfae [data-component=ButtonCounter]{font-size:12px;background-color:var(--buttonCounter-default-bgColor-rest,var(--color-btn-counter-bg,rgba(31,35,40,0.08)));}/*!sc*/
.jwBfae[data-component=IconButton]{display:inline-grid;padding:unset;place-content:center;width:32px;min-width:unset;}/*!sc*/
.jwBfae[data-size="small"]{padding:0 8px;height:28px;gap:4px;font-size:12px;}/*!sc*/
.jwBfae[data-size="small"] [data-component="text"]{line-height:calc(20 / 12);}/*!sc*/
.jwBfae[data-size="small"] [data-component=ButtonCounter]{font-size:12px;}/*!sc*/
.jwBfae[data-size="small"] [data-component="buttonContent"] > :not(:last-child){margin-right:4px;}/*!sc*/
.jwBfae[data-size="small"][data-component=IconButton]{width:28px;padding:unset;}/*!sc*/
.jwBfae[data-size="large"]{padding:0 16px;height:40px;gap:8px;}/*!sc*/
.jwBfae[data-size="large"] [data-component="buttonContent"] > :not(:last-child){margin-right:8px;}/*!sc*/
.jwBfae[data-size="large"][data-component=IconButton]{width:40px;padding:unset;}/*!sc*/
.jwBfae[data-block="block"]{width:100%;}/*!sc*/
.jwBfae[data-label-wrap="true"]{min-width:-webkit-fit-content;min-width:-moz-fit-content;min-width:fit-content;height:unset;min-height:var(--control-medium-size,2rem);}/*!sc*/
.jwBfae[data-label-wrap="true"] [data-component="buttonContent"]{-webkit-flex:1 1 auto;-ms-flex:1 1 auto;flex:1 1 auto;-webkit-align-self:stretch;-ms-flex-item-align:stretch;align-self:stretch;padding-block:calc(var(--control-medium-paddingBlock,0.375rem) - 2px);}/*!sc*/
.jwBfae[data-label-wrap="true"] [data-component="text"]{white-space:unset;word-break:break-word;}/*!sc*/
.jwBfae[data-label-wrap="true"][data-size="small"]{height:unset;min-height:var(--control-small-size,1.75rem);}/*!sc*/
.jwBfae[data-label-wrap="true"][data-size="small"] [data-component="buttonContent"]{padding-block:calc(var(--control-small-paddingBlock,0.25rem) - 2px);}/*!sc*/
.jwBfae[data-label-wrap="true"][data-size="large"]{height:unset;min-height:var(--control-large-size,2.5rem);padding-inline:var(--control-large-paddingInline-spacious,1rem);}/*!sc*/
.jwBfae[data-label-wrap="true"][data-size="large"] [data-component="buttonContent"]{padding-block:calc(var(--control-large-paddingBlock,0.625rem) - 2px);}/*!sc*/
.jwBfae[data-inactive]:not([disabled]){background-color:var(--button-inactive-bgColor,var(--button-inactive-bgColor-rest,var(--color-btn-inactive-bg,#eaeef2)));border-color:var(--button-inactive-bgColor,var(--button-inactive-bgColor-rest,var(--color-btn-inactive-bg,#eaeef2)));color:var(--button-inactive-fgColor,var(--button-inactive-fgColor-rest,var(--color-btn-inactive-text,#57606a)));}/*!sc*/
.jwBfae[data-inactive]:not([disabled]):focus-visible{box-shadow:none;}/*!sc*/
.jwBfae [data-component="leadingVisual"]{grid-area:leadingVisual;}/*!sc*/
.jwBfae [data-component="text"]{grid-area:text;line-height:calc(20/14);white-space:nowrap;}/*!sc*/
.jwBfae [data-component="trailingVisual"]{grid-area:trailingVisual;}/*!sc*/
.jwBfae [data-component="trailingAction"]{margin-right:-4px;}/*!sc*/
.jwBfae [data-component="buttonContent"]{-webkit-flex:1 0 auto;-ms-flex:1 0 auto;flex:1 0 auto;display:grid;grid-template-areas:"leadingVisual text trailingVisual";grid-template-columns:min-content minmax(0,auto) min-content;-webkit-align-items:center;-webkit-box-align:center;-ms-flex-align:center;align-items:center;-webkit-align-content:center;-ms-flex-line-pack:center;align-content:center;}/*!sc*/
.jwBfae [data-component="buttonContent"] > :not(:last-child){margin-right:8px;}/*!sc*/
.jwBfae [data-component="loadingSpinner"]{grid-area:text;margin-right:0px !important;place-self:center;}/*!sc*/
.jwBfae [data-component="loadingSpinner"] + [data-component="text"]{visibility:hidden;}/*!sc*/
.jwBfae:hover:not([disabled]):not([data-inactive]){background-color:var(--button-default-bgColor-hover,var(--color-btn-hover-bg,#f3f4f6));border-color:var(--button-default-borderColor-hover,var(--button-default-borderColor-hover,var(--color-btn-hover-border,rgba(31,35,40,0.15))));}/*!sc*/
.jwBfae:active:not([disabled]):not([data-inactive]){background-color:var(--button-default-bgColor-active,var(--color-btn-active-bg,hsla(220,14%,93%,1)));border-color:var(--button-default-borderColor-active,var(--button-default-borderColor-active,var(--color-btn-active-border,rgba(31,35,40,0.15))));}/*!sc*/
.jwBfae[aria-expanded=true]{background-color:var(--button-default-bgColor-active,var(--color-btn-active-bg,hsla(220,14%,93%,1)));border-color:var(--button-default-borderColor-active,var(--button-default-borderColor-active,var(--color-btn-active-border,rgba(31,35,40,0.15))));}/*!sc*/
.jwBfae [data-component="leadingVisual"],.jwBfae [data-component="trailingVisual"],.jwBfae [data-component="trailingAction"]{color:var(--button-color,var(--fgColor-muted,var(--color-fg-muted,#656d76)));}/*!sc*/
.jwBfae[data-component="IconButton"][data-no-visuals]{color:var(--fgColor-muted,var(--color-fg-muted,#656d76));}/*!sc*/
.jwBfae{display:-webkit-box;display:-webkit-flex;display:-ms-flexbox;display:flex;min-width:0;}/*!sc*/
.jwBfae svg{color:var(--fgColor-muted,var(--color-fg-muted,#656d76));}/*!sc*/
.jwBfae > span{width:inherit;}/*!sc*/
.YkvTm{border-radius:6px;border:1px solid;border-color:var(--button-default-borderColor-rest,var(--button-default-borderColor-rest,var(--color-btn-border,rgba(31,35,40,0.15))));font-family:inherit;font-weight:500;font-size:14px;cursor:pointer;-webkit-appearance:none;-moz-appearance:none;appearance:none;-webkit-user-select:none;-moz-user-select:none;-ms-user-select:none;user-select:none;-webkit-text-decoration:none;text-decoration:none;text-align:center;display:-webkit-box;display:-webkit-flex;display:-ms-flexbox;display:flex;-webkit-align-items:center;-webkit-box-align:center;-ms-flex-align:center;align-items:center;-webkit-box-pack:justify;-webkit-justify-content:space-between;-ms-flex-pack:justify;justify-content:space-between;height:32px;padding:0 12px;gap:8px;min-width:-webkit-max-content;min-width:-moz-max-content;min-width:max-content;-webkit-transition:80ms cubic-bezier(0.65,0,0.35,1);transition:80ms cubic-bezier(0.65,0,0.35,1);-webkit-transition-property:color,fill,background-color,border-color;transition-property:color,fill,background-color,border-color;color:var(--button-default-fgColor-rest,var(--color-btn-text,#24292f));background-color:var(--button-default-bgColor-rest,var(--color-btn-bg,#f6f8fa));box-shadow:var(--button-default-shadow-resting,var(--color-btn-shadow,0 1px 0 rgba(31,35,40,0.04))),var(--button-default-shadow-inset,var(--color-btn-inset-shadow,inset 0 1px 0 rgba(255,255,255,0.25)));}/*!sc*/
.YkvTm:focus:not(:disabled){box-shadow:none;outline:2px solid var(--fgColor-accent,var(--color-accent-fg,#0969da));outline-offset:-2px;}/*!sc*/
.YkvTm:focus:not(:disabled):not(:focus-visible){outline:solid 1px transparent;}/*!sc*/
.YkvTm:focus-visible:not(:disabled){box-shadow:none;outline:2px solid var(--fgColor-accent,var(--color-accent-fg,#0969da));outline-offset:-2px;}/*!sc*/
.YkvTm[href]{display:-webkit-inline-box;display:-webkit-inline-flex;display:-ms-inline-flexbox;display:inline-flex;}/*!sc*/
.YkvTm[href]:hover{-webkit-text-decoration:none;text-decoration:none;}/*!sc*/
.YkvTm:hover{-webkit-transition-duration:80ms;transition-duration:80ms;}/*!sc*/
.YkvTm:active{-webkit-transition:none;transition:none;}/*!sc*/
.YkvTm[data-inactive]{cursor:auto;}/*!sc*/
.YkvTm:disabled{cursor:not-allowed;box-shadow:none;color:var(--fgColor-disabled,var(--color-primer-fg-disabled,#8c959f));border-color:var(--button-default-borderColor-disabled,var(--button-default-borderColor-rest,var(--color-btn-border,rgba(31,35,40,0.15))));background-color:var(--button-default-bgColor-disabled,var(--control-bgColor-disabled,var(--color-input-disabled-bg,rgba(175,184,193,0.2))));}/*!sc*/
.YkvTm:disabled [data-component=ButtonCounter]{color:inherit;}/*!sc*/
@media (forced-colors:active){.YkvTm:focus{outline:solid 1px transparent;}}/*!sc*/
.YkvTm [data-component=ButtonCounter]{font-size:12px;background-color:var(--buttonCounter-default-bgColor-rest,var(--color-btn-counter-bg,rgba(31,35,40,0.08)));}/*!sc*/
.YkvTm[data-component=IconButton]{display:inline-grid;padding:unset;place-content:center;width:32px;min-width:unset;}/*!sc*/
.YkvTm[data-size="small"]{padding:0 8px;height:28px;gap:4px;font-size:12px;}/*!sc*/
.YkvTm[data-size="small"] [data-component="text"]{line-height:calc(20 / 12);}/*!sc*/
.YkvTm[data-size="small"] [data-component=ButtonCounter]{font-size:12px;}/*!sc*/
.YkvTm[data-size="small"] [data-component="buttonContent"] > :not(:last-child){margin-right:4px;}/*!sc*/
.YkvTm[data-size="small"][data-component=IconButton]{width:28px;padding:unset;}/*!sc*/
.YkvTm[data-size="large"]{padding:0 16px;height:40px;gap:8px;}/*!sc*/
.YkvTm[data-size="large"] [data-component="buttonContent"] > :not(:last-child){margin-right:8px;}/*!sc*/
.YkvTm[data-size="large"][data-component=IconButton]{width:40px;padding:unset;}/*!sc*/
.YkvTm[data-block="block"]{width:100%;}/*!sc*/
.YkvTm[data-label-wrap="true"]{min-width:-webkit-fit-content;min-width:-moz-fit-content;min-width:fit-content;height:unset;min-height:var(--control-medium-size,2rem);}/*!sc*/
.YkvTm[data-label-wrap="true"] [data-component="buttonContent"]{-webkit-flex:1 1 auto;-ms-flex:1 1 auto;flex:1 1 auto;-webkit-align-self:stretch;-ms-flex-item-align:stretch;align-self:stretch;padding-block:calc(var(--control-medium-paddingBlock,0.375rem) - 2px);}/*!sc*/
.YkvTm[data-label-wrap="true"] [data-component="text"]{white-space:unset;word-break:break-word;}/*!sc*/
.YkvTm[data-label-wrap="true"][data-size="small"]{height:unset;min-height:var(--control-small-size,1.75rem);}/*!sc*/
.YkvTm[data-label-wrap="true"][data-size="small"] [data-component="buttonContent"]{padding-block:calc(var(--control-small-paddingBlock,0.25rem) - 2px);}/*!sc*/
.YkvTm[data-label-wrap="true"][data-size="large"]{height:unset;min-height:var(--control-large-size,2.5rem);padding-inline:var(--control-large-paddingInline-spacious,1rem);}/*!sc*/
.YkvTm[data-label-wrap="true"][data-size="large"] [data-component="buttonContent"]{padding-block:calc(var(--control-large-paddingBlock,0.625rem) - 2px);}/*!sc*/
.YkvTm[data-inactive]:not([disabled]){background-color:var(--button-inactive-bgColor,var(--button-inactive-bgColor-rest,var(--color-btn-inactive-bg,#eaeef2)));border-color:var(--button-inactive-bgColor,var(--button-inactive-bgColor-rest,var(--color-btn-inactive-bg,#eaeef2)));color:var(--button-inactive-fgColor,var(--button-inactive-fgColor-rest,var(--color-btn-inactive-text,#57606a)));}/*!sc*/
.YkvTm[data-inactive]:not([disabled]):focus-visible{box-shadow:none;}/*!sc*/
.YkvTm [data-component="leadingVisual"]{grid-area:leadingVisual;}/*!sc*/
.YkvTm [data-component="text"]{grid-area:text;line-height:calc(20/14);white-space:nowrap;}/*!sc*/
.YkvTm [data-component="trailingVisual"]{grid-area:trailingVisual;}/*!sc*/
.YkvTm [data-component="trailingAction"]{margin-right:-4px;}/*!sc*/
.YkvTm [data-component="buttonContent"]{-webkit-flex:1 0 auto;-ms-flex:1 0 auto;flex:1 0 auto;display:grid;grid-template-areas:"leadingVisual text trailingVisual";grid-template-columns:min-content minmax(0,auto) min-content;-webkit-align-items:center;-webkit-box-align:center;-ms-flex-align:center;align-items:center;-webkit-align-content:center;-ms-flex-line-pack:center;align-content:center;}/*!sc*/
.YkvTm [data-component="buttonContent"] > :not(:last-child){margin-right:8px;}/*!sc*/
.YkvTm [data-component="loadingSpinner"]{grid-area:text;margin-right:0px !important;place-self:center;}/*!sc*/
.YkvTm [data-component="loadingSpinner"] + [data-component="text"]{visibility:hidden;}/*!sc*/
.YkvTm:hover:not([disabled]):not([data-inactive]){background-color:var(--button-default-bgColor-hover,var(--color-btn-hover-bg,#f3f4f6));border-color:var(--button-default-borderColor-hover,var(--button-default-borderColor-hover,var(--color-btn-hover-border,rgba(31,35,40,0.15))));}/*!sc*/
.YkvTm:active:not([disabled]):not([data-inactive]){background-color:var(--button-default-bgColor-active,var(--color-btn-active-bg,hsla(220,14%,93%,1)));border-color:var(--button-default-borderColor-active,var(--button-default-borderColor-active,var(--color-btn-active-border,rgba(31,35,40,0.15))));}/*!sc*/
.YkvTm[aria-expanded=true]{background-color:var(--button-default-bgColor-active,var(--color-btn-active-bg,hsla(220,14%,93%,1)));border-color:var(--button-default-borderColor-active,var(--button-default-borderColor-active,var(--color-btn-active-border,rgba(31,35,40,0.15))));}/*!sc*/
.YkvTm [data-component="leadingVisual"],.YkvTm [data-component="trailingVisual"],.YkvTm [data-component="trailingAction"]{color:var(--button-color,var(--fgColor-muted,var(--color-fg-muted,#656d76)));}/*!sc*/
.YkvTm[data-component="IconButton"][data-no-visuals]{color:var(--fgColor-muted,var(--color-fg-muted,#656d76));}/*!sc*/
.YkvTm[data-no-visuals]{color:var(--fgColor-muted,var(--color-fg-subtle,#6e7781));border-top-right-radius:0;border-bottom-right-radius:0;border-right:0;}/*!sc*/
.klDWQA{border-radius:6px;border:1px solid;border-color:var(--button-default-borderColor-rest,var(--button-default-borderColor-rest,var(--color-btn-border,rgba(31,35,40,0.15))));font-family:inherit;font-weight:500;font-size:14px;cursor:pointer;-webkit-appearance:none;-moz-appearance:none;appearance:none;-webkit-user-select:none;-moz-user-select:none;-ms-user-select:none;user-select:none;-webkit-text-decoration:none;text-decoration:none;text-align:center;display:-webkit-box;display:-webkit-flex;display:-ms-flexbox;display:flex;-webkit-align-items:center;-webkit-box-align:center;-ms-flex-align:center;align-items:center;-webkit-box-pack:justify;-webkit-justify-content:space-between;-ms-flex-pack:justify;justify-content:space-between;height:32px;padding:0 12px;gap:8px;min-width:-webkit-max-content;min-width:-moz-max-content;min-width:max-content;-webkit-transition:80ms cubic-bezier(0.65,0,0.35,1);transition:80ms cubic-bezier(0.65,0,0.35,1);-webkit-transition-property:color,fill,background-color,border-color;transition-property:color,fill,background-color,border-color;color:var(--button-default-fgColor-rest,var(--color-btn-text,#24292f));background-color:var(--button-default-bgColor-rest,var(--color-btn-bg,#f6f8fa));box-shadow:var(--button-default-shadow-resting,var(--color-btn-shadow,0 1px 0 rgba(31,35,40,0.04))),var(--button-default-shadow-inset,var(--color-btn-inset-shadow,inset 0 1px 0 rgba(255,255,255,0.25)));}/*!sc*/
.klDWQA:focus:not(:disabled){box-shadow:none;outline:2px solid var(--fgColor-accent,var(--color-accent-fg,#0969da));outline-offset:-2px;}/*!sc*/
.klDWQA:focus:not(:disabled):not(:focus-visible){outline:solid 1px transparent;}/*!sc*/
.klDWQA:focus-visible:not(:disabled){box-shadow:none;outline:2px solid var(--fgColor-accent,var(--color-accent-fg,#0969da));outline-offset:-2px;}/*!sc*/
.klDWQA[href]{display:-webkit-inline-box;display:-webkit-inline-flex;display:-ms-inline-flexbox;display:inline-flex;}/*!sc*/
.klDWQA[href]:hover{-webkit-text-decoration:none;text-decoration:none;}/*!sc*/
.klDWQA:hover{-webkit-transition-duration:80ms;transition-duration:80ms;}/*!sc*/
.klDWQA:active{-webkit-transition:none;transition:none;}/*!sc*/
.klDWQA[data-inactive]{cursor:auto;}/*!sc*/
.klDWQA:disabled{cursor:not-allowed;box-shadow:none;color:var(--fgColor-disabled,var(--color-primer-fg-disabled,#8c959f));border-color:var(--button-default-borderColor-disabled,var(--button-default-borderColor-rest,var(--color-btn-border,rgba(31,35,40,0.15))));background-color:var(--button-default-bgColor-disabled,var(--control-bgColor-disabled,var(--color-input-disabled-bg,rgba(175,184,193,0.2))));}/*!sc*/
.klDWQA:disabled [data-component=ButtonCounter]{color:inherit;}/*!sc*/
@media (forced-colors:active){.klDWQA:focus{outline:solid 1px transparent;}}/*!sc*/
.klDWQA [data-component=ButtonCounter]{font-size:12px;background-color:var(--buttonCounter-default-bgColor-rest,var(--color-btn-counter-bg,rgba(31,35,40,0.08)));}/*!sc*/
.klDWQA[data-component=IconButton]{display:inline-grid;padding:unset;place-content:center;width:32px;min-width:unset;}/*!sc*/
.klDWQA[data-size="small"]{padding:0 8px;height:28px;gap:4px;font-size:12px;}/*!sc*/
.klDWQA[data-size="small"] [data-component="text"]{line-height:calc(20 / 12);}/*!sc*/
.klDWQA[data-size="small"] [data-component=ButtonCounter]{font-size:12px;}/*!sc*/
.klDWQA[data-size="small"] [data-component="buttonContent"] > :not(:last-child){margin-right:4px;}/*!sc*/
.klDWQA[data-size="small"][data-component=IconButton]{width:28px;padding:unset;}/*!sc*/
.klDWQA[data-size="large"]{padding:0 16px;height:40px;gap:8px;}/*!sc*/
.klDWQA[data-size="large"] [data-component="buttonContent"] > :not(:last-child){margin-right:8px;}/*!sc*/
.klDWQA[data-size="large"][data-component=IconButton]{width:40px;padding:unset;}/*!sc*/
.klDWQA[data-block="block"]{width:100%;}/*!sc*/
.klDWQA[data-label-wrap="true"]{min-width:-webkit-fit-content;min-width:-moz-fit-content;min-width:fit-content;height:unset;min-height:var(--control-medium-size,2rem);}/*!sc*/
.klDWQA[data-label-wrap="true"] [data-component="buttonContent"]{-webkit-flex:1 1 auto;-ms-flex:1 1 auto;flex:1 1 auto;-webkit-align-self:stretch;-ms-flex-item-align:stretch;align-self:stretch;padding-block:calc(var(--control-medium-paddingBlock,0.375rem) - 2px);}/*!sc*/
.klDWQA[data-label-wrap="true"] [data-component="text"]{white-space:unset;word-break:break-word;}/*!sc*/
.klDWQA[data-label-wrap="true"][data-size="small"]{height:unset;min-height:var(--control-small-size,1.75rem);}/*!sc*/
.klDWQA[data-label-wrap="true"][data-size="small"] [data-component="buttonContent"]{padding-block:calc(var(--control-small-paddingBlock,0.25rem) - 2px);}/*!sc*/
.klDWQA[data-label-wrap="true"][data-size="large"]{height:unset;min-height:var(--control-large-size,2.5rem);padding-inline:var(--control-large-paddingInline-spacious,1rem);}/*!sc*/
.klDWQA[data-label-wrap="true"][data-size="large"] [data-component="buttonContent"]{padding-block:calc(var(--control-large-paddingBlock,0.625rem) - 2px);}/*!sc*/
.klDWQA[data-inactive]:not([disabled]){background-color:var(--button-inactive-bgColor,var(--button-inactive-bgColor-rest,var(--color-btn-inactive-bg,#eaeef2)));border-color:var(--button-inactive-bgColor,var(--button-inactive-bgColor-rest,var(--color-btn-inactive-bg,#eaeef2)));color:var(--button-inactive-fgColor,var(--button-inactive-fgColor-rest,var(--color-btn-inactive-text,#57606a)));}/*!sc*/
.klDWQA[data-inactive]:not([disabled]):focus-visible{box-shadow:none;}/*!sc*/
.klDWQA [data-component="leadingVisual"]{grid-area:leadingVisual;}/*!sc*/
.klDWQA [data-component="text"]{grid-area:text;line-height:calc(20/14);white-space:nowrap;}/*!sc*/
.klDWQA [data-component="trailingVisual"]{grid-area:trailingVisual;}/*!sc*/
.klDWQA [data-component="trailingAction"]{margin-right:-4px;}/*!sc*/
.klDWQA [data-component="buttonContent"]{-webkit-flex:1 0 auto;-ms-flex:1 0 auto;flex:1 0 auto;display:grid;grid-template-areas:"leadingVisual text trailingVisual";grid-template-columns:min-content minmax(0,auto) min-content;-webkit-align-items:center;-webkit-box-align:center;-ms-flex-align:center;align-items:center;-webkit-align-content:center;-ms-flex-line-pack:center;align-content:center;}/*!sc*/
.klDWQA [data-component="buttonContent"] > :not(:last-child){margin-right:8px;}/*!sc*/
.klDWQA [data-component="loadingSpinner"]{grid-area:text;margin-right:0px !important;place-self:center;}/*!sc*/
.klDWQA [data-component="loadingSpinner"] + [data-component="text"]{visibility:hidden;}/*!sc*/
.klDWQA:hover:not([disabled]):not([data-inactive]){background-color:var(--button-default-bgColor-hover,var(--color-btn-hover-bg,#f3f4f6));border-color:var(--button-default-borderColor-hover,var(--button-default-borderColor-hover,var(--color-btn-hover-border,rgba(31,35,40,0.15))));}/*!sc*/
.klDWQA:active:not([disabled]):not([data-inactive]){background-color:var(--button-default-bgColor-active,var(--color-btn-active-bg,hsla(220,14%,93%,1)));border-color:var(--button-default-borderColor-active,var(--button-default-borderColor-active,var(--color-btn-active-border,rgba(31,35,40,0.15))));}/*!sc*/
.klDWQA[aria-expanded=true]{background-color:var(--button-default-bgColor-active,var(--color-btn-active-bg,hsla(220,14%,93%,1)));border-color:var(--button-default-borderColor-active,var(--button-default-borderColor-active,var(--color-btn-active-border,rgba(31,35,40,0.15))));}/*!sc*/
.klDWQA [data-component="leadingVisual"],.klDWQA [data-component="trailingVisual"],.klDWQA [data-component="trailingAction"]{color:var(--button-color,var(--fgColor-muted,var(--color-fg-muted,#656d76)));}/*!sc*/
.klDWQA[data-component="IconButton"][data-no-visuals]{color:var(--fgColor-muted,var(--color-fg-muted,#656d76));}/*!sc*/
.klDWQA[data-no-visuals]{color:var(--fgColor-muted,var(--color-fg-subtle,#6e7781));font-size:14px;font-weight:400;-webkit-flex-shrink:0;-ms-flex-negative:0;flex-shrink:0;border-top-left-radius:0;border-bottom-left-radius:0;}/*!sc*/
.emYRmJ{border-radius:6px;border:1px solid;border-color:transparent;font-family:inherit;font-weight:500;font-size:14px;cursor:pointer;-webkit-appearance:none;-moz-appearance:none;appearance:none;-webkit-user-select:none;-moz-user-select:none;-ms-user-select:none;user-select:none;-webkit-text-decoration:none;text-decoration:none;text-align:center;display:-webkit-box;display:-webkit-flex;display:-ms-flexbox;display:flex;-webkit-align-items:center;-webkit-box-align:center;-ms-flex-align:center;align-items:center;-webkit-box-pack:justify;-webkit-justify-content:space-between;-ms-flex-pack:justify;justify-content:space-between;height:32px;padding:0 12px;gap:8px;min-width:-webkit-max-content;min-width:-moz-max-content;min-width:max-content;-webkit-transition:80ms cubic-bezier(0.65,0,0.35,1);transition:80ms cubic-bezier(0.65,0,0.35,1);-webkit-transition-property:color,fill,background-color,border-color;transition-property:color,fill,background-color,border-color;color:var(--button-default-fgColor-rest,var(--color-btn-text,#24292f));background-color:transparent;box-shadow:none;}/*!sc*/
.emYRmJ:focus:not(:disabled){box-shadow:none;outline:2px solid var(--fgColor-accent,var(--color-accent-fg,#0969da));outline-offset:-2px;}/*!sc*/
.emYRmJ:focus:not(:disabled):not(:focus-visible){outline:solid 1px transparent;}/*!sc*/
.emYRmJ:focus-visible:not(:disabled){box-shadow:none;outline:2px solid var(--fgColor-accent,var(--color-accent-fg,#0969da));outline-offset:-2px;}/*!sc*/
.emYRmJ[href]{display:-webkit-inline-box;display:-webkit-inline-flex;display:-ms-inline-flexbox;display:inline-flex;}/*!sc*/
.emYRmJ[href]:hover{-webkit-text-decoration:none;text-decoration:none;}/*!sc*/
.emYRmJ:hover{-webkit-transition-duration:80ms;transition-duration:80ms;}/*!sc*/
.emYRmJ:active{-webkit-transition:none;transition:none;}/*!sc*/
.emYRmJ[data-inactive]{cursor:auto;}/*!sc*/
.emYRmJ:disabled{cursor:not-allowed;box-shadow:none;color:var(--fgColor-disabled,var(--color-primer-fg-disabled,#8c959f));}/*!sc*/
.emYRmJ:disabled [data-component=ButtonCounter],.emYRmJ:disabled [data-component="leadingVisual"],.emYRmJ:disabled [data-component="trailingAction"]{color:inherit;}/*!sc*/
@media (forced-colors:active){.emYRmJ:focus{outline:solid 1px transparent;}}/*!sc*/
.emYRmJ [data-component=ButtonCounter]{font-size:12px;}/*!sc*/
.emYRmJ[data-component=IconButton]{display:inline-grid;padding:unset;place-content:center;width:32px;min-width:unset;}/*!sc*/
.emYRmJ[data-size="small"]{padding:0 8px;height:28px;gap:4px;font-size:12px;}/*!sc*/
.emYRmJ[data-size="small"] [data-component="text"]{line-height:calc(20 / 12);}/*!sc*/
.emYRmJ[data-size="small"] [data-component=ButtonCounter]{font-size:12px;}/*!sc*/
.emYRmJ[data-size="small"] [data-component="buttonContent"] > :not(:last-child){margin-right:4px;}/*!sc*/
.emYRmJ[data-size="small"][data-component=IconButton]{width:28px;padding:unset;}/*!sc*/
.emYRmJ[data-size="large"]{padding:0 16px;height:40px;gap:8px;}/*!sc*/
.emYRmJ[data-size="large"] [data-component="buttonContent"] > :not(:last-child){margin-right:8px;}/*!sc*/
.emYRmJ[data-size="large"][data-component=IconButton]{width:40px;padding:unset;}/*!sc*/
.emYRmJ[data-block="block"]{width:100%;}/*!sc*/
.emYRmJ[data-label-wrap="true"]{min-width:-webkit-fit-content;min-width:-moz-fit-content;min-width:fit-content;height:unset;min-height:var(--control-medium-size,2rem);}/*!sc*/
.emYRmJ[data-label-wrap="true"] [data-component="buttonContent"]{-webkit-flex:1 1 auto;-ms-flex:1 1 auto;flex:1 1 auto;-webkit-align-self:stretch;-ms-flex-item-align:stretch;align-self:stretch;padding-block:calc(var(--control-medium-paddingBlock,0.375rem) - 2px);}/*!sc*/
.emYRmJ[data-label-wrap="true"] [data-component="text"]{white-space:unset;word-break:break-word;}/*!sc*/
.emYRmJ[data-label-wrap="true"][data-size="small"]{height:unset;min-height:var(--control-small-size,1.75rem);}/*!sc*/
.emYRmJ[data-label-wrap="true"][data-size="small"] [data-component="buttonContent"]{padding-block:calc(var(--control-small-paddingBlock,0.25rem) - 2px);}/*!sc*/
.emYRmJ[data-label-wrap="true"][data-size="large"]{height:unset;min-height:var(--control-large-size,2.5rem);padding-inline:var(--control-large-paddingInline-spacious,1rem);}/*!sc*/
.emYRmJ[data-label-wrap="true"][data-size="large"] [data-component="buttonContent"]{padding-block:calc(var(--control-large-paddingBlock,0.625rem) - 2px);}/*!sc*/
.emYRmJ[data-inactive]:not([disabled]){background-color:var(--button-inactive-bgColor,var(--button-inactive-bgColor-rest,var(--color-btn-inactive-bg,#eaeef2)));border-color:var(--button-inactive-bgColor,var(--button-inactive-bgColor-rest,var(--color-btn-inactive-bg,#eaeef2)));color:var(--button-inactive-fgColor,var(--button-inactive-fgColor-rest,var(--color-btn-inactive-text,#57606a)));}/*!sc*/
.emYRmJ[data-inactive]:not([disabled]):focus-visible{box-shadow:none;}/*!sc*/
.emYRmJ [data-component="leadingVisual"]{grid-area:leadingVisual;color:var(--fgColor-muted,var(--color-fg-muted,#656d76));}/*!sc*/
.emYRmJ [data-component="text"]{grid-area:text;line-height:calc(20/14);white-space:nowrap;}/*!sc*/
.emYRmJ [data-component="trailingVisual"]{grid-area:trailingVisual;}/*!sc*/
.emYRmJ [data-component="trailingAction"]{margin-right:-4px;color:var(--fgColor-muted,var(--color-fg-muted,#656d76));}/*!sc*/
.emYRmJ [data-component="buttonContent"]{-webkit-flex:1 0 auto;-ms-flex:1 0 auto;flex:1 0 auto;display:grid;grid-template-areas:"leadingVisual text trailingVisual";grid-template-columns:min-content minmax(0,auto) min-content;-webkit-align-items:center;-webkit-box-align:center;-ms-flex-align:center;align-items:center;-webkit-align-content:center;-ms-flex-line-pack:center;align-content:center;}/*!sc*/
.emYRmJ [data-component="buttonContent"] > :not(:last-child){margin-right:8px;}/*!sc*/
.emYRmJ [data-component="loadingSpinner"]{grid-area:text;margin-right:0px !important;place-self:center;}/*!sc*/
.emYRmJ [data-component="loadingSpinner"] + [data-component="text"]{visibility:hidden;}/*!sc*/
.emYRmJ:hover:not([disabled]){background-color:var(--control-transparent-bgColor-hover,var(--color-action-list-item-default-hover-bg,rgba(208,215,222,0.32)));}/*!sc*/
.emYRmJ:active:not([disabled]){background-color:var(--control-transparent-bgColor-active,var(--color-action-list-item-default-active-bg,rgba(208,215,222,0.48)));}/*!sc*/
.emYRmJ[aria-expanded=true]{background-color:var(--control-transparent-bgColor-selected,var(--color-action-list-item-default-selected-bg,rgba(208,215,222,0.24)));}/*!sc*/
.emYRmJ[data-component="IconButton"][data-no-visuals]{color:var(--fgColor-muted,var(--color-fg-muted,#656d76));}/*!sc*/
.emYRmJ[data-no-visuals]{color:var(--fgColor-accent,var(--color-accent-fg,#0969da));}/*!sc*/
.emYRmJ:has([data-component="ButtonCounter"]){color:var(--button-default-fgColor-rest,var(--color-btn-text,#24292f));}/*!sc*/
.emYRmJ:disabled[data-no-visuals]{color:var(--fgColor-disabled,var(--color-primer-fg-disabled,#8c959f));}/*!sc*/
.emYRmJ:disabled[data-no-visuals] [data-component=ButtonCounter]{color:inherit;}/*!sc*/
.jFcVkf{border-radius:6px;border:1px solid;border-color:var(--button-default-borderColor-rest,var(--button-default-borderColor-rest,var(--color-btn-border,rgba(31,35,40,0.15))));font-family:inherit;font-weight:500;font-size:14px;cursor:pointer;-webkit-appearance:none;-moz-appearance:none;appearance:none;-webkit-user-select:none;-moz-user-select:none;-ms-user-select:none;user-select:none;-webkit-text-decoration:none;text-decoration:none;text-align:center;display:-webkit-box;display:-webkit-flex;display:-ms-flexbox;display:flex;-webkit-align-items:center;-webkit-box-align:center;-ms-flex-align:center;align-items:center;-webkit-box-pack:justify;-webkit-justify-content:space-between;-ms-flex-pack:justify;justify-content:space-between;height:32px;padding:0 12px;gap:8px;min-width:-webkit-max-content;min-width:-moz-max-content;min-width:max-content;-webkit-transition:80ms cubic-bezier(0.65,0,0.35,1);transition:80ms cubic-bezier(0.65,0,0.35,1);-webkit-transition-property:color,fill,background-color,border-color;transition-property:color,fill,background-color,border-color;color:var(--button-default-fgColor-rest,var(--color-btn-text,#24292f));background-color:var(--button-default-bgColor-rest,var(--color-btn-bg,#f6f8fa));box-shadow:var(--button-default-shadow-resting,var(--color-btn-shadow,0 1px 0 rgba(31,35,40,0.04))),var(--button-default-shadow-inset,var(--color-btn-inset-shadow,inset 0 1px 0 rgba(255,255,255,0.25)));}/*!sc*/
.jFcVkf:focus:not(:disabled){box-shadow:none;outline:2px solid var(--fgColor-accent,var(--color-accent-fg,#0969da));outline-offset:-2px;}/*!sc*/
.jFcVkf:focus:not(:disabled):not(:focus-visible){outline:solid 1px transparent;}/*!sc*/
.jFcVkf:focus-visible:not(:disabled){box-shadow:none;outline:2px solid var(--fgColor-accent,var(--color-accent-fg,#0969da));outline-offset:-2px;}/*!sc*/
.jFcVkf[href]{display:-webkit-inline-box;display:-webkit-inline-flex;display:-ms-inline-flexbox;display:inline-flex;}/*!sc*/
.jFcVkf[href]:hover{-webkit-text-decoration:none;text-decoration:none;}/*!sc*/
.jFcVkf:hover{-webkit-transition-duration:80ms;transition-duration:80ms;}/*!sc*/
.jFcVkf:active{-webkit-transition:none;transition:none;}/*!sc*/
.jFcVkf[data-inactive]{cursor:auto;}/*!sc*/
.jFcVkf:disabled{cursor:not-allowed;box-shadow:none;color:var(--fgColor-disabled,var(--color-primer-fg-disabled,#8c959f));border-color:var(--button-default-borderColor-disabled,var(--button-default-borderColor-rest,var(--color-btn-border,rgba(31,35,40,0.15))));background-color:var(--button-default-bgColor-disabled,var(--control-bgColor-disabled,var(--color-input-disabled-bg,rgba(175,184,193,0.2))));}/*!sc*/
.jFcVkf:disabled [data-component=ButtonCounter]{color:inherit;}/*!sc*/
@media (forced-colors:active){.jFcVkf:focus{outline:solid 1px transparent;}}/*!sc*/
.jFcVkf [data-component=ButtonCounter]{font-size:12px;background-color:var(--buttonCounter-default-bgColor-rest,var(--color-btn-counter-bg,rgba(31,35,40,0.08)));}/*!sc*/
.jFcVkf[data-component=IconButton]{display:inline-grid;padding:unset;place-content:center;width:32px;min-width:unset;}/*!sc*/
.jFcVkf[data-size="small"]{padding:0 8px;height:28px;gap:4px;font-size:12px;}/*!sc*/
.jFcVkf[data-size="small"] [data-component="text"]{line-height:calc(20 / 12);}/*!sc*/
.jFcVkf[data-size="small"] [data-component=ButtonCounter]{font-size:12px;}/*!sc*/
.jFcVkf[data-size="small"] [data-component="buttonContent"] > :not(:last-child){margin-right:4px;}/*!sc*/
.jFcVkf[data-size="small"][data-component=IconButton]{width:28px;padding:unset;}/*!sc*/
.jFcVkf[data-size="large"]{padding:0 16px;height:40px;gap:8px;}/*!sc*/
.jFcVkf[data-size="large"] [data-component="buttonContent"] > :not(:last-child){margin-right:8px;}/*!sc*/
.jFcVkf[data-size="large"][data-component=IconButton]{width:40px;padding:unset;}/*!sc*/
.jFcVkf[data-block="block"]{width:100%;}/*!sc*/
.jFcVkf[data-label-wrap="true"]{min-width:-webkit-fit-content;min-width:-moz-fit-content;min-width:fit-content;height:unset;min-height:var(--control-medium-size,2rem);}/*!sc*/
.jFcVkf[data-label-wrap="true"] [data-component="buttonContent"]{-webkit-flex:1 1 auto;-ms-flex:1 1 auto;flex:1 1 auto;-webkit-align-self:stretch;-ms-flex-item-align:stretch;align-self:stretch;padding-block:calc(var(--control-medium-paddingBlock,0.375rem) - 2px);}/*!sc*/
.jFcVkf[data-label-wrap="true"] [data-component="text"]{white-space:unset;word-break:break-word;}/*!sc*/
.jFcVkf[data-label-wrap="true"][data-size="small"]{height:unset;min-height:var(--control-small-size,1.75rem);}/*!sc*/
.jFcVkf[data-label-wrap="true"][data-size="small"] [data-component="buttonContent"]{padding-block:calc(var(--control-small-paddingBlock,0.25rem) - 2px);}/*!sc*/
.jFcVkf[data-label-wrap="true"][data-size="large"]{height:unset;min-height:var(--control-large-size,2.5rem);padding-inline:var(--control-large-paddingInline-spacious,1rem);}/*!sc*/
.jFcVkf[data-label-wrap="true"][data-size="large"] [data-component="buttonContent"]{padding-block:calc(var(--control-large-paddingBlock,0.625rem) - 2px);}/*!sc*/
.jFcVkf[data-inactive]:not([disabled]){background-color:var(--button-inactive-bgColor,var(--button-inactive-bgColor-rest,var(--color-btn-inactive-bg,#eaeef2)));border-color:var(--button-inactive-bgColor,var(--button-inactive-bgColor-rest,var(--color-btn-inactive-bg,#eaeef2)));color:var(--button-inactive-fgColor,var(--button-inactive-fgColor-rest,var(--color-btn-inactive-text,#57606a)));}/*!sc*/
.jFcVkf[data-inactive]:not([disabled]):focus-visible{box-shadow:none;}/*!sc*/
.jFcVkf [data-component="leadingVisual"]{grid-area:leadingVisual;}/*!sc*/
.jFcVkf [data-component="text"]{grid-area:text;line-height:calc(20/14);white-space:nowrap;}/*!sc*/
.jFcVkf [data-component="trailingVisual"]{grid-area:trailingVisual;}/*!sc*/
.jFcVkf [data-component="trailingAction"]{margin-right:-4px;}/*!sc*/
.jFcVkf [data-component="buttonContent"]{-webkit-flex:1 0 auto;-ms-flex:1 0 auto;flex:1 0 auto;display:grid;grid-template-areas:"leadingVisual text trailingVisual";grid-template-columns:min-content minmax(0,auto) min-content;-webkit-align-items:center;-webkit-box-align:center;-ms-flex-align:center;align-items:center;-webkit-align-content:center;-ms-flex-line-pack:center;align-content:center;}/*!sc*/
.jFcVkf [data-component="buttonContent"] > :not(:last-child){margin-right:8px;}/*!sc*/
.jFcVkf [data-component="loadingSpinner"]{grid-area:text;margin-right:0px !important;place-self:center;}/*!sc*/
.jFcVkf [data-component="loadingSpinner"] + [data-component="text"]{visibility:hidden;}/*!sc*/
.jFcVkf:hover:not([disabled]):not([data-inactive]){background-color:var(--button-default-bgColor-hover,var(--color-btn-hover-bg,#f3f4f6));border-color:var(--button-default-borderColor-hover,var(--button-default-borderColor-hover,var(--color-btn-hover-border,rgba(31,35,40,0.15))));}/*!sc*/
.jFcVkf:active:not([disabled]):not([data-inactive]){background-color:var(--button-default-bgColor-active,var(--color-btn-active-bg,hsla(220,14%,93%,1)));border-color:var(--button-default-borderColor-active,var(--button-default-borderColor-active,var(--color-btn-active-border,rgba(31,35,40,0.15))));}/*!sc*/
.jFcVkf[aria-expanded=true]{background-color:var(--button-default-bgColor-active,var(--color-btn-active-bg,hsla(220,14%,93%,1)));border-color:var(--button-default-borderColor-active,var(--button-default-borderColor-active,var(--color-btn-active-border,rgba(31,35,40,0.15))));}/*!sc*/
.jFcVkf [data-component="leadingVisual"],.jFcVkf [data-component="trailingVisual"],.jFcVkf [data-component="trailingAction"]{color:var(--button-color,var(--fgColor-muted,var(--color-fg-muted,#656d76)));}/*!sc*/
.jFcVkf[data-component="IconButton"][data-no-visuals]{color:var(--fgColor-muted,var(--color-fg-muted,#656d76));}/*!sc*/
.jFcVkf[data-no-visuals]{border-top-left-radius:0;border-bottom-left-radius:0;display:none;}/*!sc*/
.kuXPuQ{border-radius:6px;border:1px solid;border-color:var(--button-default-borderColor-rest,var(--button-default-borderColor-rest,var(--color-btn-border,rgba(31,35,40,0.15))));font-family:inherit;font-weight:500;font-size:14px;cursor:pointer;-webkit-appearance:none;-moz-appearance:none;appearance:none;-webkit-user-select:none;-moz-user-select:none;-ms-user-select:none;user-select:none;-webkit-text-decoration:none;text-decoration:none;text-align:center;display:-webkit-box;display:-webkit-flex;display:-ms-flexbox;display:flex;-webkit-align-items:center;-webkit-box-align:center;-ms-flex-align:center;align-items:center;-webkit-box-pack:justify;-webkit-justify-content:space-between;-ms-flex-pack:justify;justify-content:space-between;height:32px;padding:0 12px;gap:8px;min-width:-webkit-max-content;min-width:-moz-max-content;min-width:max-content;-webkit-transition:80ms cubic-bezier(0.65,0,0.35,1);transition:80ms cubic-bezier(0.65,0,0.35,1);-webkit-transition-property:color,fill,background-color,border-color;transition-property:color,fill,background-color,border-color;color:var(--button-default-fgColor-rest,var(--color-btn-text,#24292f));background-color:var(--button-default-bgColor-rest,var(--color-btn-bg,#f6f8fa));box-shadow:var(--button-default-shadow-resting,var(--color-btn-shadow,0 1px 0 rgba(31,35,40,0.04))),var(--button-default-shadow-inset,var(--color-btn-inset-shadow,inset 0 1px 0 rgba(255,255,255,0.25)));}/*!sc*/
.kuXPuQ:focus:not(:disabled){box-shadow:none;outline:2px solid var(--fgColor-accent,var(--color-accent-fg,#0969da));outline-offset:-2px;}/*!sc*/
.kuXPuQ:focus:not(:disabled):not(:focus-visible){outline:solid 1px transparent;}/*!sc*/
.kuXPuQ:focus-visible:not(:disabled){box-shadow:none;outline:2px solid var(--fgColor-accent,var(--color-accent-fg,#0969da));outline-offset:-2px;}/*!sc*/
.kuXPuQ[href]{display:-webkit-inline-box;display:-webkit-inline-flex;display:-ms-inline-flexbox;display:inline-flex;}/*!sc*/
.kuXPuQ[href]:hover{-webkit-text-decoration:none;text-decoration:none;}/*!sc*/
.kuXPuQ:hover{-webkit-transition-duration:80ms;transition-duration:80ms;}/*!sc*/
.kuXPuQ:active{-webkit-transition:none;transition:none;}/*!sc*/
.kuXPuQ[data-inactive]{cursor:auto;}/*!sc*/
.kuXPuQ:disabled{cursor:not-allowed;box-shadow:none;color:var(--fgColor-disabled,var(--color-primer-fg-disabled,#8c959f));border-color:var(--button-default-borderColor-disabled,var(--button-default-borderColor-rest,var(--color-btn-border,rgba(31,35,40,0.15))));background-color:var(--button-default-bgColor-disabled,var(--control-bgColor-disabled,var(--color-input-disabled-bg,rgba(175,184,193,0.2))));}/*!sc*/
.kuXPuQ:disabled [data-component=ButtonCounter]{color:inherit;}/*!sc*/
@media (forced-colors:active){.kuXPuQ:focus{outline:solid 1px transparent;}}/*!sc*/
.kuXPuQ [data-component=ButtonCounter]{font-size:12px;background-color:var(--buttonCounter-default-bgColor-rest,var(--color-btn-counter-bg,rgba(31,35,40,0.08)));}/*!sc*/
.kuXPuQ[data-component=IconButton]{display:inline-grid;padding:unset;place-content:center;width:32px;min-width:unset;}/*!sc*/
.kuXPuQ[data-size="small"]{padding:0 8px;height:28px;gap:4px;font-size:12px;}/*!sc*/
.kuXPuQ[data-size="small"] [data-component="text"]{line-height:calc(20 / 12);}/*!sc*/
.kuXPuQ[data-size="small"] [data-component=ButtonCounter]{font-size:12px;}/*!sc*/
.kuXPuQ[data-size="small"] [data-component="buttonContent"] > :not(:last-child){margin-right:4px;}/*!sc*/
.kuXPuQ[data-size="small"][data-component=IconButton]{width:28px;padding:unset;}/*!sc*/
.kuXPuQ[data-size="large"]{padding:0 16px;height:40px;gap:8px;}/*!sc*/
.kuXPuQ[data-size="large"] [data-component="buttonContent"] > :not(:last-child){margin-right:8px;}/*!sc*/
.kuXPuQ[data-size="large"][data-component=IconButton]{width:40px;padding:unset;}/*!sc*/
.kuXPuQ[data-block="block"]{width:100%;}/*!sc*/
.kuXPuQ[data-label-wrap="true"]{min-width:-webkit-fit-content;min-width:-moz-fit-content;min-width:fit-content;height:unset;min-height:var(--control-medium-size,2rem);}/*!sc*/
.kuXPuQ[data-label-wrap="true"] [data-component="buttonContent"]{-webkit-flex:1 1 auto;-ms-flex:1 1 auto;flex:1 1 auto;-webkit-align-self:stretch;-ms-flex-item-align:stretch;align-self:stretch;padding-block:calc(var(--control-medium-paddingBlock,0.375rem) - 2px);}/*!sc*/
.kuXPuQ[data-label-wrap="true"] [data-component="text"]{white-space:unset;word-break:break-word;}/*!sc*/
.kuXPuQ[data-label-wrap="true"][data-size="small"]{height:unset;min-height:var(--control-small-size,1.75rem);}/*!sc*/
.kuXPuQ[data-label-wrap="true"][data-size="small"] [data-component="buttonContent"]{padding-block:calc(var(--control-small-paddingBlock,0.25rem) - 2px);}/*!sc*/
.kuXPuQ[data-label-wrap="true"][data-size="large"]{height:unset;min-height:var(--control-large-size,2.5rem);padding-inline:var(--control-large-paddingInline-spacious,1rem);}/*!sc*/
.kuXPuQ[data-label-wrap="true"][data-size="large"] [data-component="buttonContent"]{padding-block:calc(var(--control-large-paddingBlock,0.625rem) - 2px);}/*!sc*/
.kuXPuQ[data-inactive]:not([disabled]){background-color:var(--button-inactive-bgColor,var(--button-inactive-bgColor-rest,var(--color-btn-inactive-bg,#eaeef2)));border-color:var(--button-inactive-bgColor,var(--button-inactive-bgColor-rest,var(--color-btn-inactive-bg,#eaeef2)));color:var(--button-inactive-fgColor,var(--button-inactive-fgColor-rest,var(--color-btn-inactive-text,#57606a)));}/*!sc*/
.kuXPuQ[data-inactive]:not([disabled]):focus-visible{box-shadow:none;}/*!sc*/
.kuXPuQ [data-component="leadingVisual"]{grid-area:leadingVisual;}/*!sc*/
.kuXPuQ [data-component="text"]{grid-area:text;line-height:calc(20/14);white-space:nowrap;}/*!sc*/
.kuXPuQ [data-component="trailingVisual"]{grid-area:trailingVisual;}/*!sc*/
.kuXPuQ [data-component="trailingAction"]{margin-right:-4px;}/*!sc*/
.kuXPuQ [data-component="buttonContent"]{-webkit-flex:1 0 auto;-ms-flex:1 0 auto;flex:1 0 auto;display:grid;grid-template-areas:"leadingVisual text trailingVisual";grid-template-columns:min-content minmax(0,auto) min-content;-webkit-align-items:center;-webkit-box-align:center;-ms-flex-align:center;align-items:center;-webkit-align-content:center;-ms-flex-line-pack:center;align-content:center;}/*!sc*/
.kuXPuQ [data-component="buttonContent"] > :not(:last-child){margin-right:8px;}/*!sc*/
.kuXPuQ [data-component="loadingSpinner"]{grid-area:text;margin-right:0px !important;place-self:center;}/*!sc*/
.kuXPuQ [data-component="loadingSpinner"] + [data-component="text"]{visibility:hidden;}/*!sc*/
.kuXPuQ:hover:not([disabled]):not([data-inactive]){background-color:var(--button-default-bgColor-hover,var(--color-btn-hover-bg,#f3f4f6));border-color:var(--button-default-borderColor-hover,var(--button-default-borderColor-hover,var(--color-btn-hover-border,rgba(31,35,40,0.15))));}/*!sc*/
.kuXPuQ:active:not([disabled]):not([data-inactive]){background-color:var(--button-default-bgColor-active,var(--color-btn-active-bg,hsla(220,14%,93%,1)));border-color:var(--button-default-borderColor-active,var(--button-default-borderColor-active,var(--color-btn-active-border,rgba(31,35,40,0.15))));}/*!sc*/
.kuXPuQ[aria-expanded=true]{background-color:var(--button-default-bgColor-active,var(--color-btn-active-bg,hsla(220,14%,93%,1)));border-color:var(--button-default-borderColor-active,var(--button-default-borderColor-active,var(--color-btn-active-border,rgba(31,35,40,0.15))));}/*!sc*/
.kuXPuQ [data-component="leadingVisual"],.kuXPuQ [data-component="trailingVisual"],.kuXPuQ [data-component="trailingAction"]{color:var(--button-color,var(--fgColor-muted,var(--color-fg-muted,#656d76)));}/*!sc*/
.kuXPuQ[data-component="IconButton"][data-no-visuals]{color:var(--fgColor-muted,var(--color-fg-muted,#656d76));}/*!sc*/
.kuXPuQ[data-no-visuals]{color:var(--fgColor-muted,var(--color-fg-muted,#656d76));}/*!sc*/
.jKgwhU{border-radius:6px;border:1px solid;border-color:transparent;font-family:inherit;font-weight:500;font-size:14px;cursor:pointer;-webkit-appearance:none;-moz-appearance:none;appearance:none;-webkit-user-select:none;-moz-user-select:none;-ms-user-select:none;user-select:none;-webkit-text-decoration:none;text-decoration:none;text-align:center;display:-webkit-box;display:-webkit-flex;display:-ms-flexbox;display:flex;-webkit-align-items:center;-webkit-box-align:center;-ms-flex-align:center;align-items:center;-webkit-box-pack:justify;-webkit-justify-content:space-between;-ms-flex-pack:justify;justify-content:space-between;height:32px;padding:0 12px;gap:8px;min-width:-webkit-max-content;min-width:-moz-max-content;min-width:max-content;-webkit-transition:80ms cubic-bezier(0.65,0,0.35,1);transition:80ms cubic-bezier(0.65,0,0.35,1);-webkit-transition-property:color,fill,background-color,border-color;transition-property:color,fill,background-color,border-color;color:var(--button-default-fgColor-rest,var(--color-btn-text,#24292f));background-color:transparent;box-shadow:none;}/*!sc*/
.jKgwhU:focus:not(:disabled){box-shadow:none;outline:2px solid var(--fgColor-accent,var(--color-accent-fg,#0969da));outline-offset:-2px;}/*!sc*/
.jKgwhU:focus:not(:disabled):not(:focus-visible){outline:solid 1px transparent;}/*!sc*/
.jKgwhU:focus-visible:not(:disabled){box-shadow:none;outline:2px solid var(--fgColor-accent,var(--color-accent-fg,#0969da));outline-offset:-2px;}/*!sc*/
.jKgwhU[href]{display:-webkit-inline-box;display:-webkit-inline-flex;display:-ms-inline-flexbox;display:inline-flex;}/*!sc*/
.jKgwhU[href]:hover{-webkit-text-decoration:none;text-decoration:none;}/*!sc*/
.jKgwhU:hover{-webkit-transition-duration:80ms;transition-duration:80ms;}/*!sc*/
.jKgwhU:active{-webkit-transition:none;transition:none;}/*!sc*/
.jKgwhU[data-inactive]{cursor:auto;}/*!sc*/
.jKgwhU:disabled{cursor:not-allowed;box-shadow:none;color:var(--fgColor-disabled,var(--color-primer-fg-disabled,#8c959f));}/*!sc*/
.jKgwhU:disabled [data-component=ButtonCounter],.jKgwhU:disabled [data-component="leadingVisual"],.jKgwhU:disabled [data-component="trailingAction"]{color:inherit;}/*!sc*/
@media (forced-colors:active){.jKgwhU:focus{outline:solid 1px transparent;}}/*!sc*/
.jKgwhU [data-component=ButtonCounter]{font-size:12px;}/*!sc*/
.jKgwhU[data-component=IconButton]{display:inline-grid;padding:unset;place-content:center;width:32px;min-width:unset;}/*!sc*/
.jKgwhU[data-size="small"]{padding:0 8px;height:28px;gap:4px;font-size:12px;color:var(--fgColor-default,var(--color-fg-default,#1F2328));display:none;}/*!sc*/
.jKgwhU[data-size="small"] [data-component="text"]{line-height:calc(20 / 12);}/*!sc*/
.jKgwhU[data-size="small"] [data-component=ButtonCounter]{font-size:12px;}/*!sc*/
.jKgwhU[data-size="small"] [data-component="buttonContent"] > :not(:last-child){margin-right:4px;}/*!sc*/
.jKgwhU[data-size="small"][data-component=IconButton]{width:28px;padding:unset;}/*!sc*/
@media screen and (min-width:544px){.jKgwhU[data-size="small"]{display:none;}}/*!sc*/
@media screen and (min-width:768px){.jKgwhU[data-size="small"]{display:none;}}/*!sc*/
@media screen and (min-width:1012px){.jKgwhU[data-size="small"]{display:none;}}/*!sc*/
@media screen and (min-width:1280px){.jKgwhU[data-size="small"]{display:block;}}/*!sc*/
.jKgwhU[data-size="large"]{padding:0 16px;height:40px;gap:8px;}/*!sc*/
.jKgwhU[data-size="large"] [data-component="buttonContent"] > :not(:last-child){margin-right:8px;}/*!sc*/
.jKgwhU[data-size="large"][data-component=IconButton]{width:40px;padding:unset;}/*!sc*/
.jKgwhU[data-block="block"]{width:100%;}/*!sc*/
.jKgwhU[data-label-wrap="true"]{min-width:-webkit-fit-content;min-width:-moz-fit-content;min-width:fit-content;height:unset;min-height:var(--control-medium-size,2rem);}/*!sc*/
.jKgwhU[data-label-wrap="true"] [data-component="buttonContent"]{-webkit-flex:1 1 auto;-ms-flex:1 1 auto;flex:1 1 auto;-webkit-align-self:stretch;-ms-flex-item-align:stretch;align-self:stretch;padding-block:calc(var(--control-medium-paddingBlock,0.375rem) - 2px);}/*!sc*/
.jKgwhU[data-label-wrap="true"] [data-component="text"]{white-space:unset;word-break:break-word;}/*!sc*/
.jKgwhU[data-label-wrap="true"][data-size="small"]{height:unset;min-height:var(--control-small-size,1.75rem);}/*!sc*/
.jKgwhU[data-label-wrap="true"][data-size="small"] [data-component="buttonContent"]{padding-block:calc(var(--control-small-paddingBlock,0.25rem) - 2px);}/*!sc*/
.jKgwhU[data-label-wrap="true"][data-size="large"]{height:unset;min-height:var(--control-large-size,2.5rem);padding-inline:var(--control-large-paddingInline-spacious,1rem);}/*!sc*/
.jKgwhU[data-label-wrap="true"][data-size="large"] [data-component="buttonContent"]{padding-block:calc(var(--control-large-paddingBlock,0.625rem) - 2px);}/*!sc*/
.jKgwhU[data-inactive]:not([disabled]){background-color:var(--button-inactive-bgColor,var(--button-inactive-bgColor-rest,var(--color-btn-inactive-bg,#eaeef2)));border-color:var(--button-inactive-bgColor,var(--button-inactive-bgColor-rest,var(--color-btn-inactive-bg,#eaeef2)));color:var(--button-inactive-fgColor,var(--button-inactive-fgColor-rest,var(--color-btn-inactive-text,#57606a)));}/*!sc*/
.jKgwhU[data-inactive]:not([disabled]):focus-visible{box-shadow:none;}/*!sc*/
.jKgwhU [data-component="leadingVisual"]{grid-area:leadingVisual;color:var(--fgColor-muted,var(--color-fg-muted,#656d76));}/*!sc*/
.jKgwhU [data-component="text"]{grid-area:text;line-height:calc(20/14);white-space:nowrap;}/*!sc*/
.jKgwhU [data-component="trailingVisual"]{grid-area:trailingVisual;}/*!sc*/
.jKgwhU [data-component="trailingAction"]{margin-right:-4px;color:var(--fgColor-muted,var(--color-fg-muted,#656d76));}/*!sc*/
.jKgwhU [data-component="buttonContent"]{-webkit-flex:1 0 auto;-ms-flex:1 0 auto;flex:1 0 auto;display:grid;grid-template-areas:"leadingVisual text trailingVisual";grid-template-columns:min-content minmax(0,auto) min-content;-webkit-align-items:center;-webkit-box-align:center;-ms-flex-align:center;align-items:center;-webkit-align-content:center;-ms-flex-line-pack:center;align-content:center;}/*!sc*/
.jKgwhU [data-component="buttonContent"] > :not(:last-child){margin-right:8px;}/*!sc*/
.jKgwhU [data-component="loadingSpinner"]{grid-area:text;margin-right:0px !important;place-self:center;}/*!sc*/
.jKgwhU [data-component="loadingSpinner"] + [data-component="text"]{visibility:hidden;}/*!sc*/
.jKgwhU:hover:not([disabled]){background-color:var(--control-transparent-bgColor-hover,var(--color-action-list-item-default-hover-bg,rgba(208,215,222,0.32)));}/*!sc*/
.jKgwhU:active:not([disabled]){background-color:var(--control-transparent-bgColor-active,var(--color-action-list-item-default-active-bg,rgba(208,215,222,0.48)));}/*!sc*/
.jKgwhU[aria-expanded=true]{background-color:var(--control-transparent-bgColor-selected,var(--color-action-list-item-default-selected-bg,rgba(208,215,222,0.24)));}/*!sc*/
.jKgwhU[data-component="IconButton"][data-no-visuals]{color:var(--fgColor-muted,var(--color-fg-muted,#656d76));}/*!sc*/
.jKgwhU[data-no-visuals]{color:var(--fgColor-accent,var(--color-accent-fg,#0969da));}/*!sc*/
.jKgwhU:has([data-component="ButtonCounter"]){color:var(--button-default-fgColor-rest,var(--color-btn-text,#24292f));}/*!sc*/
.jKgwhU:disabled[data-no-visuals]{color:var(--fgColor-disabled,var(--color-primer-fg-disabled,#8c959f));}/*!sc*/
.jKgwhU:disabled[data-no-visuals] [data-component=ButtonCounter]{color:inherit;}/*!sc*/
.bDTxaK{border-radius:6px;border:1px solid;border-color:transparent;font-family:inherit;font-weight:500;font-size:14px;cursor:pointer;-webkit-appearance:none;-moz-appearance:none;appearance:none;-webkit-user-select:none;-moz-user-select:none;-ms-user-select:none;user-select:none;-webkit-text-decoration:none;text-decoration:none;text-align:center;display:-webkit-box;display:-webkit-flex;display:-ms-flexbox;display:flex;-webkit-align-items:center;-webkit-box-align:center;-ms-flex-align:center;align-items:center;-webkit-box-pack:justify;-webkit-justify-content:space-between;-ms-flex-pack:justify;justify-content:space-between;height:32px;padding:0 12px;gap:8px;min-width:-webkit-max-content;min-width:-moz-max-content;min-width:max-content;-webkit-transition:80ms cubic-bezier(0.65,0,0.35,1);transition:80ms cubic-bezier(0.65,0,0.35,1);-webkit-transition-property:color,fill,background-color,border-color;transition-property:color,fill,background-color,border-color;color:var(--button-default-fgColor-rest,var(--color-btn-text,#24292f));background-color:transparent;box-shadow:none;}/*!sc*/
.bDTxaK:focus:not(:disabled){box-shadow:none;outline:2px solid var(--fgColor-accent,var(--color-accent-fg,#0969da));outline-offset:-2px;}/*!sc*/
.bDTxaK:focus:not(:disabled):not(:focus-visible){outline:solid 1px transparent;}/*!sc*/
.bDTxaK:focus-visible:not(:disabled){box-shadow:none;outline:2px solid var(--fgColor-accent,var(--color-accent-fg,#0969da));outline-offset:-2px;}/*!sc*/
.bDTxaK[href]{display:-webkit-inline-box;display:-webkit-inline-flex;display:-ms-inline-flexbox;display:inline-flex;}/*!sc*/
.bDTxaK[href]:hover{-webkit-text-decoration:none;text-decoration:none;}/*!sc*/
.bDTxaK:hover{-webkit-transition-duration:80ms;transition-duration:80ms;}/*!sc*/
.bDTxaK:active{-webkit-transition:none;transition:none;}/*!sc*/
.bDTxaK[data-inactive]{cursor:auto;}/*!sc*/
.bDTxaK:disabled{cursor:not-allowed;box-shadow:none;color:var(--fgColor-disabled,var(--color-primer-fg-disabled,#8c959f));}/*!sc*/
.bDTxaK:disabled [data-component=ButtonCounter],.bDTxaK:disabled [data-component="leadingVisual"],.bDTxaK:disabled [data-component="trailingAction"]{color:inherit;}/*!sc*/
@media (forced-colors:active){.bDTxaK:focus{outline:solid 1px transparent;}}/*!sc*/
.bDTxaK [data-component=ButtonCounter]{font-size:12px;}/*!sc*/
.bDTxaK[data-component=IconButton]{display:inline-grid;padding:unset;place-content:center;width:32px;min-width:unset;}/*!sc*/
.bDTxaK[data-size="small"]{padding:0 8px;height:28px;gap:4px;font-size:12px;color:var(--fgColor-default,var(--color-fg-default,#1F2328));margin-left:8px;}/*!sc*/
.bDTxaK[data-size="small"] [data-component="text"]{line-height:calc(20 / 12);}/*!sc*/
.bDTxaK[data-size="small"] [data-component=ButtonCounter]{font-size:12px;}/*!sc*/
.bDTxaK[data-size="small"] [data-component="buttonContent"] > :not(:last-child){margin-right:4px;}/*!sc*/
.bDTxaK[data-size="small"][data-component=IconButton]{width:28px;padding:unset;}/*!sc*/
.bDTxaK[data-size="large"]{padding:0 16px;height:40px;gap:8px;}/*!sc*/
.bDTxaK[data-size="large"] [data-component="buttonContent"] > :not(:last-child){margin-right:8px;}/*!sc*/
.bDTxaK[data-size="large"][data-component=IconButton]{width:40px;padding:unset;}/*!sc*/
.bDTxaK[data-block="block"]{width:100%;}/*!sc*/
.bDTxaK[data-label-wrap="true"]{min-width:-webkit-fit-content;min-width:-moz-fit-content;min-width:fit-content;height:unset;min-height:var(--control-medium-size,2rem);}/*!sc*/
.bDTxaK[data-label-wrap="true"] [data-component="buttonContent"]{-webkit-flex:1 1 auto;-ms-flex:1 1 auto;flex:1 1 auto;-webkit-align-self:stretch;-ms-flex-item-align:stretch;align-self:stretch;padding-block:calc(var(--control-medium-paddingBlock,0.375rem) - 2px);}/*!sc*/
.bDTxaK[data-label-wrap="true"] [data-component="text"]{white-space:unset;word-break:break-word;}/*!sc*/
.bDTxaK[data-label-wrap="true"][data-size="small"]{height:unset;min-height:var(--control-small-size,1.75rem);}/*!sc*/
.bDTxaK[data-label-wrap="true"][data-size="small"] [data-component="buttonContent"]{padding-block:calc(var(--control-small-paddingBlock,0.25rem) - 2px);}/*!sc*/
.bDTxaK[data-label-wrap="true"][data-size="large"]{height:unset;min-height:var(--control-large-size,2.5rem);padding-inline:var(--control-large-paddingInline-spacious,1rem);}/*!sc*/
.bDTxaK[data-label-wrap="true"][data-size="large"] [data-component="buttonContent"]{padding-block:calc(var(--control-large-paddingBlock,0.625rem) - 2px);}/*!sc*/
.bDTxaK[data-inactive]:not([disabled]){background-color:var(--button-inactive-bgColor,var(--button-inactive-bgColor-rest,var(--color-btn-inactive-bg,#eaeef2)));border-color:var(--button-inactive-bgColor,var(--button-inactive-bgColor-rest,var(--color-btn-inactive-bg,#eaeef2)));color:var(--button-inactive-fgColor,var(--button-inactive-fgColor-rest,var(--color-btn-inactive-text,#57606a)));}/*!sc*/
.bDTxaK[data-inactive]:not([disabled]):focus-visible{box-shadow:none;}/*!sc*/
.bDTxaK [data-component="leadingVisual"]{grid-area:leadingVisual;color:var(--fgColor-muted,var(--color-fg-muted,#656d76));}/*!sc*/
.bDTxaK [data-component="text"]{grid-area:text;line-height:calc(20/14);white-space:nowrap;}/*!sc*/
.bDTxaK [data-component="trailingVisual"]{grid-area:trailingVisual;}/*!sc*/
.bDTxaK [data-component="trailingAction"]{margin-right:-4px;color:var(--fgColor-muted,var(--color-fg-muted,#656d76));}/*!sc*/
.bDTxaK [data-component="buttonContent"]{-webkit-flex:1 0 auto;-ms-flex:1 0 auto;flex:1 0 auto;display:grid;grid-template-areas:"leadingVisual text trailingVisual";grid-template-columns:min-content minmax(0,auto) min-content;-webkit-align-items:center;-webkit-box-align:center;-ms-flex-align:center;align-items:center;-webkit-align-content:center;-ms-flex-line-pack:center;align-content:center;}/*!sc*/
.bDTxaK [data-component="buttonContent"] > :not(:last-child){margin-right:8px;}/*!sc*/
.bDTxaK [data-component="loadingSpinner"]{grid-area:text;margin-right:0px !important;place-self:center;}/*!sc*/
.bDTxaK [data-component="loadingSpinner"] + [data-component="text"]{visibility:hidden;}/*!sc*/
.bDTxaK:hover:not([disabled]){background-color:var(--control-transparent-bgColor-hover,var(--color-action-list-item-default-hover-bg,rgba(208,215,222,0.32)));}/*!sc*/
.bDTxaK:active:not([disabled]){background-color:var(--control-transparent-bgColor-active,var(--color-action-list-item-default-active-bg,rgba(208,215,222,0.48)));}/*!sc*/
.bDTxaK[aria-expanded=true]{background-color:var(--control-transparent-bgColor-selected,var(--color-action-list-item-default-selected-bg,rgba(208,215,222,0.24)));}/*!sc*/
.bDTxaK[data-component="IconButton"][data-no-visuals]{color:var(--fgColor-muted,var(--color-fg-muted,#656d76));}/*!sc*/
.bDTxaK[data-no-visuals]{color:var(--fgColor-accent,var(--color-accent-fg,#0969da));}/*!sc*/
.bDTxaK:has([data-component="ButtonCounter"]){color:var(--button-default-fgColor-rest,var(--color-btn-text,#24292f));}/*!sc*/
.bDTxaK:disabled[data-no-visuals]{color:var(--fgColor-disabled,var(--color-primer-fg-disabled,#8c959f));}/*!sc*/
.bDTxaK:disabled[data-no-visuals] [data-component=ButtonCounter]{color:inherit;}/*!sc*/
.jUNlHb{border-radius:6px;border:1px solid;border-color:var(--button-default-borderColor-rest,var(--button-default-borderColor-rest,var(--color-btn-border,rgba(31,35,40,0.15))));font-family:inherit;font-weight:500;font-size:14px;cursor:pointer;-webkit-appearance:none;-moz-appearance:none;appearance:none;-webkit-user-select:none;-moz-user-select:none;-ms-user-select:none;user-select:none;-webkit-text-decoration:none;text-decoration:none;text-align:center;display:-webkit-box;display:-webkit-flex;display:-ms-flexbox;display:flex;-webkit-align-items:center;-webkit-box-align:center;-ms-flex-align:center;align-items:center;-webkit-box-pack:justify;-webkit-justify-content:space-between;-ms-flex-pack:justify;justify-content:space-between;height:32px;padding:0 12px;gap:8px;min-width:-webkit-max-content;min-width:-moz-max-content;min-width:max-content;-webkit-transition:80ms cubic-bezier(0.65,0,0.35,1);transition:80ms cubic-bezier(0.65,0,0.35,1);-webkit-transition-property:color,fill,background-color,border-color;transition-property:color,fill,background-color,border-color;color:var(--button-default-fgColor-rest,var(--color-btn-text,#24292f));background-color:var(--button-default-bgColor-rest,var(--color-btn-bg,#f6f8fa));box-shadow:var(--button-default-shadow-resting,var(--color-btn-shadow,0 1px 0 rgba(31,35,40,0.04))),var(--button-default-shadow-inset,var(--color-btn-inset-shadow,inset 0 1px 0 rgba(255,255,255,0.25)));padding-left:8px;padding-right:8px;}/*!sc*/
.jUNlHb:focus:not(:disabled){box-shadow:none;outline:2px solid var(--fgColor-accent,var(--color-accent-fg,#0969da));outline-offset:-2px;}/*!sc*/
.jUNlHb:focus:not(:disabled):not(:focus-visible){outline:solid 1px transparent;}/*!sc*/
.jUNlHb:focus-visible:not(:disabled){box-shadow:none;outline:2px solid var(--fgColor-accent,var(--color-accent-fg,#0969da));outline-offset:-2px;}/*!sc*/
.jUNlHb[href]{display:-webkit-inline-box;display:-webkit-inline-flex;display:-ms-inline-flexbox;display:inline-flex;}/*!sc*/
.jUNlHb[href]:hover{-webkit-text-decoration:none;text-decoration:none;}/*!sc*/
.jUNlHb:hover{-webkit-transition-duration:80ms;transition-duration:80ms;}/*!sc*/
.jUNlHb:active{-webkit-transition:none;transition:none;}/*!sc*/
.jUNlHb[data-inactive]{cursor:auto;}/*!sc*/
.jUNlHb:disabled{cursor:not-allowed;box-shadow:none;color:var(--fgColor-disabled,var(--color-primer-fg-disabled,#8c959f));border-color:var(--button-default-borderColor-disabled,var(--button-default-borderColor-rest,var(--color-btn-border,rgba(31,35,40,0.15))));background-color:var(--button-default-bgColor-disabled,var(--control-bgColor-disabled,var(--color-input-disabled-bg,rgba(175,184,193,0.2))));}/*!sc*/
.jUNlHb:disabled [data-component=ButtonCounter]{color:inherit;}/*!sc*/
@media (forced-colors:active){.jUNlHb:focus{outline:solid 1px transparent;}}/*!sc*/
.jUNlHb [data-component=ButtonCounter]{font-size:12px;background-color:var(--buttonCounter-default-bgColor-rest,var(--color-btn-counter-bg,rgba(31,35,40,0.08)));}/*!sc*/
.jUNlHb[data-component=IconButton]{display:inline-grid;padding:unset;place-content:center;width:32px;min-width:unset;}/*!sc*/
.jUNlHb[data-size="small"]{padding:0 8px;height:28px;gap:4px;font-size:12px;}/*!sc*/
.jUNlHb[data-size="small"] [data-component="text"]{line-height:calc(20 / 12);}/*!sc*/
.jUNlHb[data-size="small"] [data-component=ButtonCounter]{font-size:12px;}/*!sc*/
.jUNlHb[data-size="small"] [data-component="buttonContent"] > :not(:last-child){margin-right:4px;}/*!sc*/
.jUNlHb[data-size="small"][data-component=IconButton]{width:28px;padding:unset;}/*!sc*/
.jUNlHb[data-size="large"]{padding:0 16px;height:40px;gap:8px;}/*!sc*/
.jUNlHb[data-size="large"] [data-component="buttonContent"] > :not(:last-child){margin-right:8px;}/*!sc*/
.jUNlHb[data-size="large"][data-component=IconButton]{width:40px;padding:unset;}/*!sc*/
.jUNlHb[data-block="block"]{width:100%;}/*!sc*/
.jUNlHb[data-label-wrap="true"]{min-width:-webkit-fit-content;min-width:-moz-fit-content;min-width:fit-content;height:unset;min-height:var(--control-medium-size,2rem);}/*!sc*/
.jUNlHb[data-label-wrap="true"] [data-component="buttonContent"]{-webkit-flex:1 1 auto;-ms-flex:1 1 auto;flex:1 1 auto;-webkit-align-self:stretch;-ms-flex-item-align:stretch;align-self:stretch;padding-block:calc(var(--control-medium-paddingBlock,0.375rem) - 2px);}/*!sc*/
.jUNlHb[data-label-wrap="true"] [data-component="text"]{white-space:unset;word-break:break-word;}/*!sc*/
.jUNlHb[data-label-wrap="true"][data-size="small"]{height:unset;min-height:var(--control-small-size,1.75rem);}/*!sc*/
.jUNlHb[data-label-wrap="true"][data-size="small"] [data-component="buttonContent"]{padding-block:calc(var(--control-small-paddingBlock,0.25rem) - 2px);}/*!sc*/
.jUNlHb[data-label-wrap="true"][data-size="large"]{height:unset;min-height:var(--control-large-size,2.5rem);padding-inline:var(--control-large-paddingInline-spacious,1rem);}/*!sc*/
.jUNlHb[data-label-wrap="true"][data-size="large"] [data-component="buttonContent"]{padding-block:calc(var(--control-large-paddingBlock,0.625rem) - 2px);}/*!sc*/
.jUNlHb[data-inactive]:not([disabled]){background-color:var(--button-inactive-bgColor,var(--button-inactive-bgColor-rest,var(--color-btn-inactive-bg,#eaeef2)));border-color:var(--button-inactive-bgColor,var(--button-inactive-bgColor-rest,var(--color-btn-inactive-bg,#eaeef2)));color:var(--button-inactive-fgColor,var(--button-inactive-fgColor-rest,var(--color-btn-inactive-text,#57606a)));}/*!sc*/
.jUNlHb[data-inactive]:not([disabled]):focus-visible{box-shadow:none;}/*!sc*/
.jUNlHb [data-component="leadingVisual"]{grid-area:leadingVisual;}/*!sc*/
.jUNlHb [data-component="text"]{grid-area:text;line-height:calc(20/14);white-space:nowrap;}/*!sc*/
.jUNlHb [data-component="trailingVisual"]{grid-area:trailingVisual;}/*!sc*/
.jUNlHb [data-component="trailingAction"]{margin-right:-4px;}/*!sc*/
.jUNlHb [data-component="buttonContent"]{-webkit-flex:1 0 auto;-ms-flex:1 0 auto;flex:1 0 auto;display:grid;grid-template-areas:"leadingVisual text trailingVisual";grid-template-columns:min-content minmax(0,auto) min-content;-webkit-align-items:center;-webkit-box-align:center;-ms-flex-align:center;align-items:center;-webkit-align-content:center;-ms-flex-line-pack:center;align-content:center;}/*!sc*/
.jUNlHb [data-component="buttonContent"] > :not(:last-child){margin-right:8px;}/*!sc*/
.jUNlHb [data-component="loadingSpinner"]{grid-area:text;margin-right:0px !important;place-self:center;}/*!sc*/
.jUNlHb [data-component="loadingSpinner"] + [data-component="text"]{visibility:hidden;}/*!sc*/
.jUNlHb:hover:not([disabled]):not([data-inactive]){background-color:var(--button-default-bgColor-hover,var(--color-btn-hover-bg,#f3f4f6));border-color:var(--button-default-borderColor-hover,var(--button-default-borderColor-hover,var(--color-btn-hover-border,rgba(31,35,40,0.15))));}/*!sc*/
.jUNlHb:active:not([disabled]):not([data-inactive]){background-color:var(--button-default-bgColor-active,var(--color-btn-active-bg,hsla(220,14%,93%,1)));border-color:var(--button-default-borderColor-active,var(--button-default-borderColor-active,var(--color-btn-active-border,rgba(31,35,40,0.15))));}/*!sc*/
.jUNlHb[aria-expanded=true]{background-color:var(--button-default-bgColor-active,var(--color-btn-active-bg,hsla(220,14%,93%,1)));border-color:var(--button-default-borderColor-active,var(--button-default-borderColor-active,var(--color-btn-active-border,rgba(31,35,40,0.15))));}/*!sc*/
.jUNlHb [data-component="leadingVisual"],.jUNlHb [data-component="trailingVisual"],.jUNlHb [data-component="trailingAction"]{color:var(--button-color,var(--fgColor-muted,var(--color-fg-muted,#656d76)));}/*!sc*/
.jUNlHb[data-component="IconButton"][data-no-visuals]{color:var(--fgColor-muted,var(--color-fg-muted,#656d76));}/*!sc*/
.jUNlHb linkButtonSx:hover:not([disabled]){-webkit-text-decoration:none;text-decoration:none;}/*!sc*/
.jUNlHb linkButtonSx:focus:not([disabled]){-webkit-text-decoration:none;text-decoration:none;}/*!sc*/
.jUNlHb linkButtonSx:active:not([disabled]){-webkit-text-decoration:none;text-decoration:none;}/*!sc*/
.feqCqy{border-radius:6px;border:1px solid;border-color:var(--button-default-borderColor-rest,var(--button-default-borderColor-rest,var(--color-btn-border,rgba(31,35,40,0.15))));font-family:inherit;font-weight:500;font-size:14px;cursor:pointer;-webkit-appearance:none;-moz-appearance:none;appearance:none;-webkit-user-select:none;-moz-user-select:none;-ms-user-select:none;user-select:none;-webkit-text-decoration:none;text-decoration:none;text-align:center;display:-webkit-box;display:-webkit-flex;display:-ms-flexbox;display:flex;-webkit-align-items:center;-webkit-box-align:center;-ms-flex-align:center;align-items:center;-webkit-box-pack:justify;-webkit-justify-content:space-between;-ms-flex-pack:justify;justify-content:space-between;height:32px;padding:0 12px;gap:8px;min-width:-webkit-max-content;min-width:-moz-max-content;min-width:max-content;-webkit-transition:80ms cubic-bezier(0.65,0,0.35,1);transition:80ms cubic-bezier(0.65,0,0.35,1);-webkit-transition-property:color,fill,background-color,border-color;transition-property:color,fill,background-color,border-color;color:var(--button-default-fgColor-rest,var(--color-btn-text,#24292f));background-color:var(--button-default-bgColor-rest,var(--color-btn-bg,#f6f8fa));box-shadow:var(--button-default-shadow-resting,var(--color-btn-shadow,0 1px 0 rgba(31,35,40,0.04))),var(--button-default-shadow-inset,var(--color-btn-inset-shadow,inset 0 1px 0 rgba(255,255,255,0.25)));}/*!sc*/
.feqCqy:focus:not(:disabled){box-shadow:none;outline:2px solid var(--fgColor-accent,var(--color-accent-fg,#0969da));outline-offset:-2px;}/*!sc*/
.feqCqy:focus:not(:disabled):not(:focus-visible){outline:solid 1px transparent;}/*!sc*/
.feqCqy:focus-visible:not(:disabled){box-shadow:none;outline:2px solid var(--fgColor-accent,var(--color-accent-fg,#0969da));outline-offset:-2px;}/*!sc*/
.feqCqy[href]{display:-webkit-inline-box;display:-webkit-inline-flex;display:-ms-inline-flexbox;display:inline-flex;}/*!sc*/
.feqCqy[href]:hover{-webkit-text-decoration:none;text-decoration:none;}/*!sc*/
.feqCqy:hover{-webkit-transition-duration:80ms;transition-duration:80ms;}/*!sc*/
.feqCqy:active{-webkit-transition:none;transition:none;}/*!sc*/
.feqCqy[data-inactive]{cursor:auto;}/*!sc*/
.feqCqy:disabled{cursor:not-allowed;box-shadow:none;color:var(--fgColor-disabled,var(--color-primer-fg-disabled,#8c959f));border-color:var(--button-default-borderColor-disabled,var(--button-default-borderColor-rest,var(--color-btn-border,rgba(31,35,40,0.15))));background-color:var(--button-default-bgColor-disabled,var(--control-bgColor-disabled,var(--color-input-disabled-bg,rgba(175,184,193,0.2))));}/*!sc*/
.feqCqy:disabled [data-component=ButtonCounter]{color:inherit;}/*!sc*/
@media (forced-colors:active){.feqCqy:focus{outline:solid 1px transparent;}}/*!sc*/
.feqCqy [data-component=ButtonCounter]{font-size:12px;background-color:var(--buttonCounter-default-bgColor-rest,var(--color-btn-counter-bg,rgba(31,35,40,0.08)));}/*!sc*/
.feqCqy[data-component=IconButton]{display:inline-grid;padding:unset;place-content:center;width:32px;min-width:unset;}/*!sc*/
.feqCqy[data-size="small"]{padding:0 8px;height:28px;gap:4px;font-size:12px;}/*!sc*/
.feqCqy[data-size="small"] [data-component="text"]{line-height:calc(20 / 12);}/*!sc*/
.feqCqy[data-size="small"] [data-component=ButtonCounter]{font-size:12px;}/*!sc*/
.feqCqy[data-size="small"] [data-component="buttonContent"] > :not(:last-child){margin-right:4px;}/*!sc*/
.feqCqy[data-size="small"][data-component=IconButton]{width:28px;padding:unset;}/*!sc*/
.feqCqy[data-size="large"]{padding:0 16px;height:40px;gap:8px;}/*!sc*/
.feqCqy[data-size="large"] [data-component="buttonContent"] > :not(:last-child){margin-right:8px;}/*!sc*/
.feqCqy[data-size="large"][data-component=IconButton]{width:40px;padding:unset;}/*!sc*/
.feqCqy[data-block="block"]{width:100%;}/*!sc*/
.feqCqy[data-label-wrap="true"]{min-width:-webkit-fit-content;min-width:-moz-fit-content;min-width:fit-content;height:unset;min-height:var(--control-medium-size,2rem);}/*!sc*/
.feqCqy[data-label-wrap="true"] [data-component="buttonContent"]{-webkit-flex:1 1 auto;-ms-flex:1 1 auto;flex:1 1 auto;-webkit-align-self:stretch;-ms-flex-item-align:stretch;align-self:stretch;padding-block:calc(var(--control-medium-paddingBlock,0.375rem) - 2px);}/*!sc*/
.feqCqy[data-label-wrap="true"] [data-component="text"]{white-space:unset;word-break:break-word;}/*!sc*/
.feqCqy[data-label-wrap="true"][data-size="small"]{height:unset;min-height:var(--control-small-size,1.75rem);}/*!sc*/
.feqCqy[data-label-wrap="true"][data-size="small"] [data-component="buttonContent"]{padding-block:calc(var(--control-small-paddingBlock,0.25rem) - 2px);}/*!sc*/
.feqCqy[data-label-wrap="true"][data-size="large"]{height:unset;min-height:var(--control-large-size,2.5rem);padding-inline:var(--control-large-paddingInline-spacious,1rem);}/*!sc*/
.feqCqy[data-label-wrap="true"][data-size="large"] [data-component="buttonContent"]{padding-block:calc(var(--control-large-paddingBlock,0.625rem) - 2px);}/*!sc*/
.feqCqy[data-inactive]:not([disabled]){background-color:var(--button-inactive-bgColor,var(--button-inactive-bgColor-rest,var(--color-btn-inactive-bg,#eaeef2)));border-color:var(--button-inactive-bgColor,var(--button-inactive-bgColor-rest,var(--color-btn-inactive-bg,#eaeef2)));color:var(--button-inactive-fgColor,var(--button-inactive-fgColor-rest,var(--color-btn-inactive-text,#57606a)));}/*!sc*/
.feqCqy[data-inactive]:not([disabled]):focus-visible{box-shadow:none;}/*!sc*/
.feqCqy [data-component="leadingVisual"]{grid-area:leadingVisual;}/*!sc*/
.feqCqy [data-component="text"]{grid-area:text;line-height:calc(20/14);white-space:nowrap;}/*!sc*/
.feqCqy [data-component="trailingVisual"]{grid-area:trailingVisual;}/*!sc*/
.feqCqy [data-component="trailingAction"]{margin-right:-4px;}/*!sc*/
.feqCqy [data-component="buttonContent"]{-webkit-flex:1 0 auto;-ms-flex:1 0 auto;flex:1 0 auto;display:grid;grid-template-areas:"leadingVisual text trailingVisual";grid-template-columns:min-content minmax(0,auto) min-content;-webkit-align-items:center;-webkit-box-align:center;-ms-flex-align:center;align-items:center;-webkit-align-content:center;-ms-flex-line-pack:center;align-content:center;}/*!sc*/
.feqCqy [data-component="buttonContent"] > :not(:last-child){margin-right:8px;}/*!sc*/
.feqCqy [data-component="loadingSpinner"]{grid-area:text;margin-right:0px !important;place-self:center;}/*!sc*/
.feqCqy [data-component="loadingSpinner"] + [data-component="text"]{visibility:hidden;}/*!sc*/
.feqCqy:hover:not([disabled]):not([data-inactive]){background-color:var(--button-default-bgColor-hover,var(--color-btn-hover-bg,#f3f4f6));border-color:var(--button-default-borderColor-hover,var(--button-default-borderColor-hover,var(--color-btn-hover-border,rgba(31,35,40,0.15))));}/*!sc*/
.feqCqy:active:not([disabled]):not([data-inactive]){background-color:var(--button-default-bgColor-active,var(--color-btn-active-bg,hsla(220,14%,93%,1)));border-color:var(--button-default-borderColor-active,var(--button-default-borderColor-active,var(--color-btn-active-border,rgba(31,35,40,0.15))));}/*!sc*/
.feqCqy[aria-expanded=true]{background-color:var(--button-default-bgColor-active,var(--color-btn-active-bg,hsla(220,14%,93%,1)));border-color:var(--button-default-borderColor-active,var(--button-default-borderColor-active,var(--color-btn-active-border,rgba(31,35,40,0.15))));}/*!sc*/
.feqCqy [data-component="leadingVisual"],.feqCqy [data-component="trailingVisual"],.feqCqy [data-component="trailingAction"]{color:var(--button-color,var(--fgColor-muted,var(--color-fg-muted,#656d76)));}/*!sc*/
.feqCqy[data-component="IconButton"][data-no-visuals]{color:var(--fgColor-muted,var(--color-fg-muted,#656d76));}/*!sc*/
.bfWknm{border-radius:6px;border:1px solid;border-color:var(--button-default-borderColor-rest,var(--button-default-borderColor-rest,var(--color-btn-border,rgba(31,35,40,0.15))));font-family:inherit;font-weight:500;font-size:14px;cursor:pointer;-webkit-appearance:none;-moz-appearance:none;appearance:none;-webkit-user-select:none;-moz-user-select:none;-ms-user-select:none;user-select:none;-webkit-text-decoration:none;text-decoration:none;text-align:center;display:-webkit-box;display:-webkit-flex;display:-ms-flexbox;display:flex;-webkit-align-items:center;-webkit-box-align:center;-ms-flex-align:center;align-items:center;-webkit-box-pack:justify;-webkit-justify-content:space-between;-ms-flex-pack:justify;justify-content:space-between;height:32px;padding:0 12px;gap:8px;min-width:-webkit-max-content;min-width:-moz-max-content;min-width:max-content;-webkit-transition:80ms cubic-bezier(0.65,0,0.35,1);transition:80ms cubic-bezier(0.65,0,0.35,1);-webkit-transition-property:color,fill,background-color,border-color;transition-property:color,fill,background-color,border-color;color:var(--button-default-fgColor-rest,var(--color-btn-text,#24292f));background-color:var(--button-default-bgColor-rest,var(--color-btn-bg,#f6f8fa));box-shadow:var(--button-default-shadow-resting,var(--color-btn-shadow,0 1px 0 rgba(31,35,40,0.04))),var(--button-default-shadow-inset,var(--color-btn-inset-shadow,inset 0 1px 0 rgba(255,255,255,0.25)));}/*!sc*/
.bfWknm:focus:not(:disabled){box-shadow:none;outline:2px solid var(--fgColor-accent,var(--color-accent-fg,#0969da));outline-offset:-2px;}/*!sc*/
.bfWknm:focus:not(:disabled):not(:focus-visible){outline:solid 1px transparent;}/*!sc*/
.bfWknm:focus-visible:not(:disabled){box-shadow:none;outline:2px solid var(--fgColor-accent,var(--color-accent-fg,#0969da));outline-offset:-2px;}/*!sc*/
.bfWknm[href]{display:-webkit-inline-box;display:-webkit-inline-flex;display:-ms-inline-flexbox;display:inline-flex;}/*!sc*/
.bfWknm[href]:hover{-webkit-text-decoration:none;text-decoration:none;}/*!sc*/
.bfWknm:hover{-webkit-transition-duration:80ms;transition-duration:80ms;}/*!sc*/
.bfWknm:active{-webkit-transition:none;transition:none;}/*!sc*/
.bfWknm[data-inactive]{cursor:auto;}/*!sc*/
.bfWknm:disabled{cursor:not-allowed;box-shadow:none;color:var(--fgColor-disabled,var(--color-primer-fg-disabled,#8c959f));border-color:var(--button-default-borderColor-disabled,var(--button-default-borderColor-rest,var(--color-btn-border,rgba(31,35,40,0.15))));background-color:var(--button-default-bgColor-disabled,var(--control-bgColor-disabled,var(--color-input-disabled-bg,rgba(175,184,193,0.2))));}/*!sc*/
.bfWknm:disabled [data-component=ButtonCounter]{color:inherit;}/*!sc*/
@media (forced-colors:active){.bfWknm:focus{outline:solid 1px transparent;}}/*!sc*/
.bfWknm [data-component=ButtonCounter]{font-size:12px;background-color:var(--buttonCounter-default-bgColor-rest,var(--color-btn-counter-bg,rgba(31,35,40,0.08)));}/*!sc*/
.bfWknm[data-component=IconButton]{display:inline-grid;padding:unset;place-content:center;width:32px;min-width:unset;}/*!sc*/
.bfWknm[data-size="small"]{padding:0 8px;height:28px;gap:4px;font-size:12px;}/*!sc*/
.bfWknm[data-size="small"] [data-component="text"]{line-height:calc(20 / 12);}/*!sc*/
.bfWknm[data-size="small"] [data-component=ButtonCounter]{font-size:12px;}/*!sc*/
.bfWknm[data-size="small"] [data-component="buttonContent"] > :not(:last-child){margin-right:4px;}/*!sc*/
.bfWknm[data-size="small"][data-component=IconButton]{width:28px;padding:unset;}/*!sc*/
.bfWknm[data-size="large"]{padding:0 16px;height:40px;gap:8px;}/*!sc*/
.bfWknm[data-size="large"] [data-component="buttonContent"] > :not(:last-child){margin-right:8px;}/*!sc*/
.bfWknm[data-size="large"][data-component=IconButton]{width:40px;padding:unset;}/*!sc*/
.bfWknm[data-block="block"]{width:100%;}/*!sc*/
.bfWknm[data-label-wrap="true"]{min-width:-webkit-fit-content;min-width:-moz-fit-content;min-width:fit-content;height:unset;min-height:var(--control-medium-size,2rem);}/*!sc*/
.bfWknm[data-label-wrap="true"] [data-component="buttonContent"]{-webkit-flex:1 1 auto;-ms-flex:1 1 auto;flex:1 1 auto;-webkit-align-self:stretch;-ms-flex-item-align:stretch;align-self:stretch;padding-block:calc(var(--control-medium-paddingBlock,0.375rem) - 2px);}/*!sc*/
.bfWknm[data-label-wrap="true"] [data-component="text"]{white-space:unset;word-break:break-word;}/*!sc*/
.bfWknm[data-label-wrap="true"][data-size="small"]{height:unset;min-height:var(--control-small-size,1.75rem);}/*!sc*/
.bfWknm[data-label-wrap="true"][data-size="small"] [data-component="buttonContent"]{padding-block:calc(var(--control-small-paddingBlock,0.25rem) - 2px);}/*!sc*/
.bfWknm[data-label-wrap="true"][data-size="large"]{height:unset;min-height:var(--control-large-size,2.5rem);padding-inline:var(--control-large-paddingInline-spacious,1rem);}/*!sc*/
.bfWknm[data-label-wrap="true"][data-size="large"] [data-component="buttonContent"]{padding-block:calc(var(--control-large-paddingBlock,0.625rem) - 2px);}/*!sc*/
.bfWknm[data-inactive]:not([disabled]){background-color:var(--button-inactive-bgColor,var(--button-inactive-bgColor-rest,var(--color-btn-inactive-bg,#eaeef2)));border-color:var(--button-inactive-bgColor,var(--button-inactive-bgColor-rest,var(--color-btn-inactive-bg,#eaeef2)));color:var(--button-inactive-fgColor,var(--button-inactive-fgColor-rest,var(--color-btn-inactive-text,#57606a)));}/*!sc*/
.bfWknm[data-inactive]:not([disabled]):focus-visible{box-shadow:none;}/*!sc*/
.bfWknm [data-component="leadingVisual"]{grid-area:leadingVisual;}/*!sc*/
.bfWknm [data-component="text"]{grid-area:text;line-height:calc(20/14);white-space:nowrap;}/*!sc*/
.bfWknm [data-component="trailingVisual"]{grid-area:trailingVisual;}/*!sc*/
.bfWknm [data-component="trailingAction"]{margin-right:-4px;}/*!sc*/
.bfWknm [data-component="buttonContent"]{-webkit-flex:1 0 auto;-ms-flex:1 0 auto;flex:1 0 auto;display:grid;grid-template-areas:"leadingVisual text trailingVisual";grid-template-columns:min-content minmax(0,auto) min-content;-webkit-align-items:center;-webkit-box-align:center;-ms-flex-align:center;align-items:center;-webkit-align-content:center;-ms-flex-line-pack:center;align-content:center;}/*!sc*/
.bfWknm [data-component="buttonContent"] > :not(:last-child){margin-right:8px;}/*!sc*/
.bfWknm [data-component="loadingSpinner"]{grid-area:text;margin-right:0px !important;place-self:center;}/*!sc*/
.bfWknm [data-component="loadingSpinner"] + [data-component="text"]{visibility:hidden;}/*!sc*/
.bfWknm:hover:not([disabled]):not([data-inactive]){background-color:var(--button-default-bgColor-hover,var(--color-btn-hover-bg,#f3f4f6));border-color:var(--button-default-borderColor-hover,var(--button-default-borderColor-hover,var(--color-btn-hover-border,rgba(31,35,40,0.15))));}/*!sc*/
.bfWknm:active:not([disabled]):not([data-inactive]){background-color:var(--button-default-bgColor-active,var(--color-btn-active-bg,hsla(220,14%,93%,1)));border-color:var(--button-default-borderColor-active,var(--button-default-borderColor-active,var(--color-btn-active-border,rgba(31,35,40,0.15))));}/*!sc*/
.bfWknm[aria-expanded=true]{background-color:var(--button-default-bgColor-active,var(--color-btn-active-bg,hsla(220,14%,93%,1)));border-color:var(--button-default-borderColor-active,var(--button-default-borderColor-active,var(--color-btn-active-border,rgba(31,35,40,0.15))));}/*!sc*/
.bfWknm [data-component="leadingVisual"],.bfWknm [data-component="trailingVisual"],.bfWknm [data-component="trailingAction"]{color:var(--button-color,var(--fgColor-muted,var(--color-fg-muted,#656d76)));}/*!sc*/
.bfWknm[data-component="IconButton"][data-no-visuals]{color:var(--fgColor-muted,var(--color-fg-muted,#656d76));}/*!sc*/
.bfWknm[data-size="small"][data-no-visuals]{border-top-left-radius:0;border-bottom-left-radius:0;}/*!sc*/
.eBqjKw{border-radius:6px;border:1px solid;border-color:var(--button-default-borderColor-rest,var(--button-default-borderColor-rest,var(--color-btn-border,rgba(31,35,40,0.15))));font-family:inherit;font-weight:500;font-size:14px;cursor:pointer;-webkit-appearance:none;-moz-appearance:none;appearance:none;-webkit-user-select:none;-moz-user-select:none;-ms-user-select:none;user-select:none;-webkit-text-decoration:none;text-decoration:none;text-align:center;display:-webkit-box;display:-webkit-flex;display:-ms-flexbox;display:flex;-webkit-align-items:center;-webkit-box-align:center;-ms-flex-align:center;align-items:center;-webkit-box-pack:justify;-webkit-justify-content:space-between;-ms-flex-pack:justify;justify-content:space-between;height:32px;padding:0 12px;gap:8px;min-width:-webkit-max-content;min-width:-moz-max-content;min-width:max-content;-webkit-transition:80ms cubic-bezier(0.65,0,0.35,1);transition:80ms cubic-bezier(0.65,0,0.35,1);-webkit-transition-property:color,fill,background-color,border-color;transition-property:color,fill,background-color,border-color;color:var(--button-default-fgColor-rest,var(--color-btn-text,#24292f));background-color:var(--button-default-bgColor-rest,var(--color-btn-bg,#f6f8fa));box-shadow:var(--button-default-shadow-resting,var(--color-btn-shadow,0 1px 0 rgba(31,35,40,0.04))),var(--button-default-shadow-inset,var(--color-btn-inset-shadow,inset 0 1px 0 rgba(255,255,255,0.25)));}/*!sc*/
.eBqjKw:focus:not(:disabled){box-shadow:none;outline:2px solid var(--fgColor-accent,var(--color-accent-fg,#0969da));outline-offset:-2px;}/*!sc*/
.eBqjKw:focus:not(:disabled):not(:focus-visible){outline:solid 1px transparent;}/*!sc*/
.eBqjKw:focus-visible:not(:disabled){box-shadow:none;outline:2px solid var(--fgColor-accent,var(--color-accent-fg,#0969da));outline-offset:-2px;}/*!sc*/
.eBqjKw[href]{display:-webkit-inline-box;display:-webkit-inline-flex;display:-ms-inline-flexbox;display:inline-flex;}/*!sc*/
.eBqjKw[href]:hover{-webkit-text-decoration:none;text-decoration:none;}/*!sc*/
.eBqjKw:hover{-webkit-transition-duration:80ms;transition-duration:80ms;}/*!sc*/
.eBqjKw:active{-webkit-transition:none;transition:none;}/*!sc*/
.eBqjKw[data-inactive]{cursor:auto;}/*!sc*/
.eBqjKw:disabled{cursor:not-allowed;box-shadow:none;color:var(--fgColor-disabled,var(--color-primer-fg-disabled,#8c959f));border-color:var(--button-default-borderColor-disabled,var(--button-default-borderColor-rest,var(--color-btn-border,rgba(31,35,40,0.15))));background-color:var(--button-default-bgColor-disabled,var(--control-bgColor-disabled,var(--color-input-disabled-bg,rgba(175,184,193,0.2))));}/*!sc*/
.eBqjKw:disabled [data-component=ButtonCounter]{color:inherit;}/*!sc*/
@media (forced-colors:active){.eBqjKw:focus{outline:solid 1px transparent;}}/*!sc*/
.eBqjKw [data-component=ButtonCounter]{font-size:12px;background-color:var(--buttonCounter-default-bgColor-rest,var(--color-btn-counter-bg,rgba(31,35,40,0.08)));}/*!sc*/
.eBqjKw[data-component=IconButton]{display:inline-grid;padding:unset;place-content:center;width:32px;min-width:unset;}/*!sc*/
.eBqjKw[data-size="small"]{padding:0 8px;height:28px;gap:4px;font-size:12px;}/*!sc*/
.eBqjKw[data-size="small"] [data-component="text"]{line-height:calc(20 / 12);}/*!sc*/
.eBqjKw[data-size="small"] [data-component=ButtonCounter]{font-size:12px;}/*!sc*/
.eBqjKw[data-size="small"] [data-component="buttonContent"] > :not(:last-child){margin-right:4px;}/*!sc*/
.eBqjKw[data-size="small"][data-component=IconButton]{width:28px;padding:unset;}/*!sc*/
.eBqjKw[data-size="large"]{padding:0 16px;height:40px;gap:8px;}/*!sc*/
.eBqjKw[data-size="large"] [data-component="buttonContent"] > :not(:last-child){margin-right:8px;}/*!sc*/
.eBqjKw[data-size="large"][data-component=IconButton]{width:40px;padding:unset;}/*!sc*/
.eBqjKw[data-block="block"]{width:100%;}/*!sc*/
.eBqjKw[data-label-wrap="true"]{min-width:-webkit-fit-content;min-width:-moz-fit-content;min-width:fit-content;height:unset;min-height:var(--control-medium-size,2rem);}/*!sc*/
.eBqjKw[data-label-wrap="true"] [data-component="buttonContent"]{-webkit-flex:1 1 auto;-ms-flex:1 1 auto;flex:1 1 auto;-webkit-align-self:stretch;-ms-flex-item-align:stretch;align-self:stretch;padding-block:calc(var(--control-medium-paddingBlock,0.375rem) - 2px);}/*!sc*/
.eBqjKw[data-label-wrap="true"] [data-component="text"]{white-space:unset;word-break:break-word;}/*!sc*/
.eBqjKw[data-label-wrap="true"][data-size="small"]{height:unset;min-height:var(--control-small-size,1.75rem);}/*!sc*/
.eBqjKw[data-label-wrap="true"][data-size="small"] [data-component="buttonContent"]{padding-block:calc(var(--control-small-paddingBlock,0.25rem) - 2px);}/*!sc*/
.eBqjKw[data-label-wrap="true"][data-size="large"]{height:unset;min-height:var(--control-large-size,2.5rem);padding-inline:var(--control-large-paddingInline-spacious,1rem);}/*!sc*/
.eBqjKw[data-label-wrap="true"][data-size="large"] [data-component="buttonContent"]{padding-block:calc(var(--control-large-paddingBlock,0.625rem) - 2px);}/*!sc*/
.eBqjKw[data-inactive]:not([disabled]){background-color:var(--button-inactive-bgColor,var(--button-inactive-bgColor-rest,var(--color-btn-inactive-bg,#eaeef2)));border-color:var(--button-inactive-bgColor,var(--button-inactive-bgColor-rest,var(--color-btn-inactive-bg,#eaeef2)));color:var(--button-inactive-fgColor,var(--button-inactive-fgColor-rest,var(--color-btn-inactive-text,#57606a)));}/*!sc*/
.eBqjKw[data-inactive]:not([disabled]):focus-visible{box-shadow:none;}/*!sc*/
.eBqjKw [data-component="leadingVisual"]{grid-area:leadingVisual;}/*!sc*/
.eBqjKw [data-component="text"]{grid-area:text;line-height:calc(20/14);white-space:nowrap;}/*!sc*/
.eBqjKw [data-component="trailingVisual"]{grid-area:trailingVisual;}/*!sc*/
.eBqjKw [data-component="trailingAction"]{margin-right:-4px;}/*!sc*/
.eBqjKw [data-component="buttonContent"]{-webkit-flex:1 0 auto;-ms-flex:1 0 auto;flex:1 0 auto;display:grid;grid-template-areas:"leadingVisual text trailingVisual";grid-template-columns:min-content minmax(0,auto) min-content;-webkit-align-items:center;-webkit-box-align:center;-ms-flex-align:center;align-items:center;-webkit-align-content:center;-ms-flex-line-pack:center;align-content:center;}/*!sc*/
.eBqjKw [data-component="buttonContent"] > :not(:last-child){margin-right:8px;}/*!sc*/
.eBqjKw [data-component="loadingSpinner"]{grid-area:text;margin-right:0px !important;place-self:center;}/*!sc*/
.eBqjKw [data-component="loadingSpinner"] + [data-component="text"]{visibility:hidden;}/*!sc*/
.eBqjKw:hover:not([disabled]):not([data-inactive]){background-color:var(--button-default-bgColor-hover,var(--color-btn-hover-bg,#f3f4f6));border-color:var(--button-default-borderColor-hover,var(--button-default-borderColor-hover,var(--color-btn-hover-border,rgba(31,35,40,0.15))));}/*!sc*/
.eBqjKw:active:not([disabled]):not([data-inactive]){background-color:var(--button-default-bgColor-active,var(--color-btn-active-bg,hsla(220,14%,93%,1)));border-color:var(--button-default-borderColor-active,var(--button-default-borderColor-active,var(--color-btn-active-border,rgba(31,35,40,0.15))));}/*!sc*/
.eBqjKw[aria-expanded=true]{background-color:var(--button-default-bgColor-active,var(--color-btn-active-bg,hsla(220,14%,93%,1)));border-color:var(--button-default-borderColor-active,var(--button-default-borderColor-active,var(--color-btn-active-border,rgba(31,35,40,0.15))));}/*!sc*/
.eBqjKw [data-component="leadingVisual"],.eBqjKw [data-component="trailingVisual"],.eBqjKw [data-component="trailingAction"]{color:var(--button-color,var(--fgColor-muted,var(--color-fg-muted,#656d76)));}/*!sc*/
.eBqjKw[data-component="IconButton"][data-no-visuals]{color:var(--fgColor-muted,var(--color-fg-muted,#656d76));}/*!sc*/
.eBqjKw[data-size="small"][data-no-visuals]{border-top-right-radius:0;border-bottom-right-radius:0;border-right-width:0;}/*!sc*/
.eBqjKw[data-size="small"][data-no-visuals]:hover:not([disabled]){-webkit-text-decoration:none;text-decoration:none;}/*!sc*/
.eBqjKw[data-size="small"][data-no-visuals]:focus:not([disabled]){-webkit-text-decoration:none;text-decoration:none;}/*!sc*/
.eBqjKw[data-size="small"][data-no-visuals]:active:not([disabled]){-webkit-text-decoration:none;text-decoration:none;}/*!sc*/
.eEspxX{border-radius:6px;border:1px solid;border-color:transparent;font-family:inherit;font-weight:500;font-size:14px;cursor:pointer;-webkit-appearance:none;-moz-appearance:none;appearance:none;-webkit-user-select:none;-moz-user-select:none;-ms-user-select:none;user-select:none;-webkit-text-decoration:none;text-decoration:none;text-align:center;display:-webkit-box;display:-webkit-flex;display:-ms-flexbox;display:flex;-webkit-align-items:center;-webkit-box-align:center;-ms-flex-align:center;align-items:center;-webkit-box-pack:justify;-webkit-justify-content:space-between;-ms-flex-pack:justify;justify-content:space-between;height:32px;padding:0 12px;gap:8px;min-width:-webkit-max-content;min-width:-moz-max-content;min-width:max-content;-webkit-transition:80ms cubic-bezier(0.65,0,0.35,1);transition:80ms cubic-bezier(0.65,0,0.35,1);-webkit-transition-property:color,fill,background-color,border-color;transition-property:color,fill,background-color,border-color;color:var(--button-default-fgColor-rest,var(--color-btn-text,#24292f));background-color:transparent;box-shadow:none;}/*!sc*/
.eEspxX:focus:not(:disabled){box-shadow:none;outline:2px solid var(--fgColor-accent,var(--color-accent-fg,#0969da));outline-offset:-2px;}/*!sc*/
.eEspxX:focus:not(:disabled):not(:focus-visible){outline:solid 1px transparent;}/*!sc*/
.eEspxX:focus-visible:not(:disabled){box-shadow:none;outline:2px solid var(--fgColor-accent,var(--color-accent-fg,#0969da));outline-offset:-2px;}/*!sc*/
.eEspxX[href]{display:-webkit-inline-box;display:-webkit-inline-flex;display:-ms-inline-flexbox;display:inline-flex;}/*!sc*/
.eEspxX[href]:hover{-webkit-text-decoration:none;text-decoration:none;}/*!sc*/
.eEspxX:hover{-webkit-transition-duration:80ms;transition-duration:80ms;}/*!sc*/
.eEspxX:active{-webkit-transition:none;transition:none;}/*!sc*/
.eEspxX[data-inactive]{cursor:auto;}/*!sc*/
.eEspxX:disabled{cursor:not-allowed;box-shadow:none;color:var(--fgColor-disabled,var(--color-primer-fg-disabled,#8c959f));}/*!sc*/
.eEspxX:disabled [data-component=ButtonCounter],.eEspxX:disabled [data-component="leadingVisual"],.eEspxX:disabled [data-component="trailingAction"]{color:inherit;}/*!sc*/
@media (forced-colors:active){.eEspxX:focus{outline:solid 1px transparent;}}/*!sc*/
.eEspxX [data-component=ButtonCounter]{font-size:12px;}/*!sc*/
.eEspxX[data-component=IconButton]{display:inline-grid;padding:unset;place-content:center;width:32px;min-width:unset;}/*!sc*/
.eEspxX[data-size="small"]{padding:0 8px;height:28px;gap:4px;font-size:12px;}/*!sc*/
.eEspxX[data-size="small"] [data-component="text"]{line-height:calc(20 / 12);}/*!sc*/
.eEspxX[data-size="small"] [data-component=ButtonCounter]{font-size:12px;}/*!sc*/
.eEspxX[data-size="small"] [data-component="buttonContent"] > :not(:last-child){margin-right:4px;}/*!sc*/
.eEspxX[data-size="small"][data-component=IconButton]{width:28px;padding:unset;}/*!sc*/
.eEspxX[data-size="large"]{padding:0 16px;height:40px;gap:8px;}/*!sc*/
.eEspxX[data-size="large"] [data-component="buttonContent"] > :not(:last-child){margin-right:8px;}/*!sc*/
.eEspxX[data-size="large"][data-component=IconButton]{width:40px;padding:unset;}/*!sc*/
.eEspxX[data-block="block"]{width:100%;}/*!sc*/
.eEspxX[data-label-wrap="true"]{min-width:-webkit-fit-content;min-width:-moz-fit-content;min-width:fit-content;height:unset;min-height:var(--control-medium-size,2rem);}/*!sc*/
.eEspxX[data-label-wrap="true"] [data-component="buttonContent"]{-webkit-flex:1 1 auto;-ms-flex:1 1 auto;flex:1 1 auto;-webkit-align-self:stretch;-ms-flex-item-align:stretch;align-self:stretch;padding-block:calc(var(--control-medium-paddingBlock,0.375rem) - 2px);}/*!sc*/
.eEspxX[data-label-wrap="true"] [data-component="text"]{white-space:unset;word-break:break-word;}/*!sc*/
.eEspxX[data-label-wrap="true"][data-size="small"]{height:unset;min-height:var(--control-small-size,1.75rem);}/*!sc*/
.eEspxX[data-label-wrap="true"][data-size="small"] [data-component="buttonContent"]{padding-block:calc(var(--control-small-paddingBlock,0.25rem) - 2px);}/*!sc*/
.eEspxX[data-label-wrap="true"][data-size="large"]{height:unset;min-height:var(--control-large-size,2.5rem);padding-inline:var(--control-large-paddingInline-spacious,1rem);}/*!sc*/
.eEspxX[data-label-wrap="true"][data-size="large"] [data-component="buttonContent"]{padding-block:calc(var(--control-large-paddingBlock,0.625rem) - 2px);}/*!sc*/
.eEspxX[data-inactive]:not([disabled]){background-color:var(--button-inactive-bgColor,var(--button-inactive-bgColor-rest,var(--color-btn-inactive-bg,#eaeef2)));border-color:var(--button-inactive-bgColor,var(--button-inactive-bgColor-rest,var(--color-btn-inactive-bg,#eaeef2)));color:var(--button-inactive-fgColor,var(--button-inactive-fgColor-rest,var(--color-btn-inactive-text,#57606a)));}/*!sc*/
.eEspxX[data-inactive]:not([disabled]):focus-visible{box-shadow:none;}/*!sc*/
.eEspxX [data-component="leadingVisual"]{grid-area:leadingVisual;color:var(--fgColor-muted,var(--color-fg-muted,#656d76));}/*!sc*/
.eEspxX [data-component="text"]{grid-area:text;line-height:calc(20/14);white-space:nowrap;}/*!sc*/
.eEspxX [data-component="trailingVisual"]{grid-area:trailingVisual;}/*!sc*/
.eEspxX [data-component="trailingAction"]{margin-right:-4px;color:var(--fgColor-muted,var(--color-fg-muted,#656d76));}/*!sc*/
.eEspxX [data-component="buttonContent"]{-webkit-flex:1 0 auto;-ms-flex:1 0 auto;flex:1 0 auto;display:grid;grid-template-areas:"leadingVisual text trailingVisual";grid-template-columns:min-content minmax(0,auto) min-content;-webkit-align-items:center;-webkit-box-align:center;-ms-flex-align:center;align-items:center;-webkit-align-content:center;-ms-flex-line-pack:center;align-content:center;}/*!sc*/
.eEspxX [data-component="buttonContent"] > :not(:last-child){margin-right:8px;}/*!sc*/
.eEspxX [data-component="loadingSpinner"]{grid-area:text;margin-right:0px !important;place-self:center;}/*!sc*/
.eEspxX [data-component="loadingSpinner"] + [data-component="text"]{visibility:hidden;}/*!sc*/
.eEspxX:hover:not([disabled]){background-color:var(--control-transparent-bgColor-hover,var(--color-action-list-item-default-hover-bg,rgba(208,215,222,0.32)));}/*!sc*/
.eEspxX:active:not([disabled]){background-color:var(--control-transparent-bgColor-active,var(--color-action-list-item-default-active-bg,rgba(208,215,222,0.48)));}/*!sc*/
.eEspxX[aria-expanded=true]{background-color:var(--control-transparent-bgColor-selected,var(--color-action-list-item-default-selected-bg,rgba(208,215,222,0.24)));}/*!sc*/
.eEspxX[data-component="IconButton"][data-no-visuals]{color:var(--fgColor-muted,var(--color-fg-muted,#656d76));}/*!sc*/
.eEspxX[data-no-visuals]{color:var(--fgColor-accent,var(--color-accent-fg,#0969da));}/*!sc*/
.eEspxX:has([data-component="ButtonCounter"]){color:var(--button-default-fgColor-rest,var(--color-btn-text,#24292f));}/*!sc*/
.eEspxX:disabled[data-no-visuals]{color:var(--fgColor-disabled,var(--color-primer-fg-disabled,#8c959f));}/*!sc*/
.eEspxX:disabled[data-no-visuals] [data-component=ButtonCounter]{color:inherit;}/*!sc*/
.eEspxX[data-size="small"][data-no-visuals]{color:var(--fgColor-muted,var(--color-fg-muted,#656d76));}/*!sc*/
data-styled.g4[id="types__StyledButton-sc-ws60qy-0"]{content:"jGoVeP,cRDVgI,jwBfae,YkvTm,klDWQA,emYRmJ,jFcVkf,kuXPuQ,jKgwhU,bDTxaK,jUNlHb,feqCqy,bfWknm,eBqjKw,eEspxX,"}/*!sc*/
.hPEVNM{-webkit-animation:rotate-keyframes 1s linear infinite;animation:rotate-keyframes 1s linear infinite;}/*!sc*/
@-webkit-keyframes rotate-keyframes{100%{-webkit-transform:rotate(360deg);-ms-transform:rotate(360deg);transform:rotate(360deg);}}/*!sc*/
@keyframes rotate-keyframes{100%{-webkit-transform:rotate(360deg);-ms-transform:rotate(360deg);transform:rotate(360deg);}}/*!sc*/
data-styled.g6[id="Spinner__StyledSpinner-sc-1knt686-0"]{content:"hPEVNM,"}/*!sc*/
.rTZSs{position:absolute;width:1px;height:1px;padding:0;margin:-1px;overflow:hidden;-webkit-clip:rect(0,0,0,0);clip:rect(0,0,0,0);white-space:nowrap;border-width:0;}/*!sc*/
data-styled.g7[id="_VisuallyHidden__VisuallyHidden-sc-11jhm7a-0"]{content:"rTZSs,"}/*!sc*/
.ipyMWB{color:var(--fgColor-accent,var(--color-accent-fg,#0969da));-webkit-text-decoration:none;text-decoration:none;font-weight:600;}/*!sc*/
[data-a11y-link-underlines='true'] .Link__StyledLink-sc-14289xe-0[data-inline='true']{-webkit-text-decoration:underline;text-decoration:underline;}/*!sc*/
.ipyMWB:hover{-webkit-text-decoration:underline;text-decoration:underline;}/*!sc*/
.ipyMWB:is(button){display:inline-block;padding:0;font-size:inherit;white-space:nowrap;cursor:pointer;-webkit-user-select:none;-moz-user-select:none;-ms-user-select:none;user-select:none;background-color:transparent;border:0;-webkit-appearance:none;-moz-appearance:none;appearance:none;}/*!sc*/
.jmkYvv{color:var(--fgColor-accent,var(--color-accent-fg,#0969da));-webkit-text-decoration:none;text-decoration:none;font-weight:400;}/*!sc*/
[data-a11y-link-underlines='true'] .Link__StyledLink-sc-14289xe-0[data-inline='true']{-webkit-text-decoration:underline;text-decoration:underline;}/*!sc*/
.jmkYvv:hover{-webkit-text-decoration:underline;text-decoration:underline;}/*!sc*/
.jmkYvv:is(button){display:inline-block;padding:0;font-size:inherit;white-space:nowrap;cursor:pointer;-webkit-user-select:none;-moz-user-select:none;-ms-user-select:none;user-select:none;background-color:transparent;border:0;-webkit-appearance:none;-moz-appearance:none;appearance:none;}/*!sc*/
.dheQRw{color:var(--fgColor-accent,var(--color-accent-fg,#0969da));-webkit-text-decoration:none;text-decoration:none;}/*!sc*/
[data-a11y-link-underlines='true'] .Link__StyledLink-sc-14289xe-0[data-inline='true']{-webkit-text-decoration:underline;text-decoration:underline;}/*!sc*/
.dheQRw:hover{-webkit-text-decoration:underline;text-decoration:underline;}/*!sc*/
.dheQRw:is(button){display:inline-block;padding:0;font-size:inherit;white-space:nowrap;cursor:pointer;-webkit-user-select:none;-moz-user-select:none;-ms-user-select:none;user-select:none;background-color:transparent;border:0;-webkit-appearance:none;-moz-appearance:none;appearance:none;}/*!sc*/
data-styled.g9[id="Link__StyledLink-sc-14289xe-0"]{content:"ipyMWB,jmkYvv,dheQRw,"}/*!sc*/
.gNgnVl{position:relative;display:inline-block;}/*!sc*/
.gNgnVl::after{position:absolute;z-index:1000000;display:none;padding:0.5em 0.75em;font:normal normal 11px/1.5 -apple-system,BlinkMacSystemFont,"Segoe UI","Noto Sans",Helvetica,Arial,sans-serif,"Apple Color Emoji","Segoe UI Emoji";-webkit-font-smoothing:subpixel-antialiased;color:var(--tooltip-fgColor,var(--fgColor-onEmphasis,var(--color-fg-on-emphasis,#ffffff)));text-align:center;-webkit-text-decoration:none;text-decoration:none;text-shadow:none;text-transform:none;-webkit-letter-spacing:normal;-moz-letter-spacing:normal;-ms-letter-spacing:normal;letter-spacing:normal;word-wrap:break-word;white-space:pre;pointer-events:none;content:attr(aria-label);background:var(--tooltip-bgColor,var(--bgColor-emphasis,var(--color-neutral-emphasis-plus,#24292f)));border-radius:6px;opacity:0;}/*!sc*/
@-webkit-keyframes tooltip-appear{from{opacity:0;}to{opacity:1;}}/*!sc*/
@keyframes tooltip-appear{from{opacity:0;}to{opacity:1;}}/*!sc*/
.gNgnVl:hover::after,.gNgnVl:active::after,.gNgnVl:focus::after,.gNgnVl:focus-within::after{display:inline-block;-webkit-text-decoration:none;text-decoration:none;-webkit-animation-name:tooltip-appear;animation-name:tooltip-appear;-webkit-animation-duration:0.1s;animation-duration:0.1s;-webkit-animation-fill-mode:forwards;animation-fill-mode:forwards;-webkit-animation-timing-function:ease-in;animation-timing-function:ease-in;-webkit-animation-delay:0s;animation-delay:0s;}/*!sc*/
.gNgnVl.tooltipped-no-delay:hover::after,.gNgnVl.tooltipped-no-delay:active::after,.gNgnVl.tooltipped-no-delay:focus::after,.gNgnVl.tooltipped-no-delay:focus-within::after{-webkit-animation-delay:0s;animation-delay:0s;}/*!sc*/
.gNgnVl.tooltipped-multiline:hover::after,.gNgnVl.tooltipped-multiline:active::after,.gNgnVl.tooltipped-multiline:focus::after,.gNgnVl.tooltipped-multiline:focus-within::after{display:table-cell;}/*!sc*/
.gNgnVl.tooltipped-s::after,.gNgnVl.tooltipped-se::after,.gNgnVl.tooltipped-sw::after{top:100%;right:50%;margin-top:6px;}/*!sc*/
.gNgnVl.tooltipped-se::after{right:auto;left:50%;margin-left:-16px;}/*!sc*/
.gNgnVl.tooltipped-sw::after{margin-right:-16px;}/*!sc*/
.gNgnVl.tooltipped-n::after,.gNgnVl.tooltipped-ne::after,.gNgnVl.tooltipped-nw::after{right:50%;bottom:100%;margin-bottom:6px;}/*!sc*/
.gNgnVl.tooltipped-ne::after{right:auto;left:50%;margin-left:-16px;}/*!sc*/
.gNgnVl.tooltipped-nw::after{margin-right:-16px;}/*!sc*/
.gNgnVl.tooltipped-s::after,.gNgnVl.tooltipped-n::after{-webkit-transform:translateX(50%);-ms-transform:translateX(50%);transform:translateX(50%);}/*!sc*/
.gNgnVl.tooltipped-w::after{right:100%;bottom:50%;margin-right:6px;-webkit-transform:translateY(50%);-ms-transform:translateY(50%);transform:translateY(50%);}/*!sc*/
.gNgnVl.tooltipped-e::after{bottom:50%;left:100%;margin-left:6px;-webkit-transform:translateY(50%);-ms-transform:translateY(50%);transform:translateY(50%);}/*!sc*/
.gNgnVl.tooltipped-multiline::after{width:-webkit-max-content;width:-moz-max-content;width:max-content;max-width:250px;word-wrap:break-word;white-space:pre-line;border-collapse:separate;}/*!sc*/
.gNgnVl.tooltipped-multiline.tooltipped-s::after,.gNgnVl.tooltipped-multiline.tooltipped-n::after{right:auto;left:50%;-webkit-transform:translateX(-50%);-ms-transform:translateX(-50%);transform:translateX(-50%);}/*!sc*/
.gNgnVl.tooltipped-multiline.tooltipped-w::after,.gNgnVl.tooltipped-multiline.tooltipped-e::after{right:100%;}/*!sc*/
.gNgnVl.tooltipped-align-right-2::after{right:0;margin-right:0;}/*!sc*/
.gNgnVl.tooltipped-align-left-2::after{left:0;margin-left:0;}/*!sc*/
data-styled.g10[id="Tooltip__TooltipBase-sc-17tf59c-0"]{content:"gNgnVl,"}/*!sc*/
.fUpWeN{display:inline-block;overflow:hidden;text-overflow:ellipsis;vertical-align:top;white-space:nowrap;max-width:125px;max-width:100%;}/*!sc*/
data-styled.g14[id="Truncate__StyledTruncate-sc-23o1d2-0"]{content:"fUpWeN,"}/*!sc*/
.cXNreu{font-size:14px;line-height:20px;color:var(--fgColor-default,var(--color-fg-default,#1F2328));vertical-align:middle;background-color:var(--bgColor-default,var(--color-canvas-default,#ffffff));border:1px solid var(--control-borderColor-rest,var(--borderColor-default,var(--color-border-default,#d0d7de)));border-radius:6px;outline:none;box-shadow:var(--shadow-inset,var(--color-primer-shadow-inset,inset 0 1px 0 rgba(208,215,222,0.2)));display:-webkit-inline-box;display:-webkit-inline-flex;display:-ms-inline-flexbox;display:inline-flex;-webkit-align-items:stretch;-webkit-box-align:stretch;-ms-flex-align:stretch;align-items:stretch;min-height:32px;overflow:hidden;display:-webkit-box;display:-webkit-flex;display:-ms-flexbox;display:flex;min-width:160px;}/*!sc*/
.cXNreu input,.cXNreu textarea{cursor:text;}/*!sc*/
.cXNreu select{cursor:pointer;}/*!sc*/
.cXNreu input::-webkit-input-placeholder,.cXNreu textarea::-webkit-input-placeholder,.cXNreu select::-webkit-input-placeholder{color:var(---control-fgColor-placeholder,var(--fgColor-muted,var(--color-fg-muted,#656d76)));}/*!sc*/
.cXNreu input::-moz-placeholder,.cXNreu textarea::-moz-placeholder,.cXNreu select::-moz-placeholder{color:var(---control-fgColor-placeholder,var(--fgColor-muted,var(--color-fg-muted,#656d76)));}/*!sc*/
.cXNreu input:-ms-input-placeholder,.cXNreu textarea:-ms-input-placeholder,.cXNreu select:-ms-input-placeholder{color:var(---control-fgColor-placeholder,var(--fgColor-muted,var(--color-fg-muted,#656d76)));}/*!sc*/
.cXNreu input::placeholder,.cXNreu textarea::placeholder,.cXNreu select::placeholder{color:var(---control-fgColor-placeholder,var(--fgColor-muted,var(--color-fg-muted,#656d76)));}/*!sc*/
.cXNreu:focus-within{border-color:var(--fgColor-accent,var(--color-accent-fg,#0969da));outline:2px solid var(--fgColor-accent,var(--color-accent-fg,#0969da));outline-offset:-1px;}/*!sc*/
.cXNreu > textarea{padding:12px;}/*!sc*/
@media (min-width:768px){.cXNreu{font-size:14px;}}/*!sc*/
data-styled.g17[id="TextInputWrapper__TextInputBaseWrapper-sc-1mqhpbi-0"]{content:"cXNreu,"}/*!sc*/
.jbzqwE{background-repeat:no-repeat;background-position:right 8px center;padding-left:12px;padding-right:12px;display:-webkit-box;display:-webkit-flex;display:-ms-flexbox;display:flex;min-width:160px;}/*!sc*/
.jbzqwE > :not(:last-child){margin-right:8px;}/*!sc*/
.jbzqwE .TextInput-icon,.jbzqwE .TextInput-action{-webkit-align-self:center;-ms-flex-item-align:center;align-self:center;color:var(--fgColor-muted,var(--color-fg-muted,#656d76));-webkit-flex-shrink:0;-ms-flex-negative:0;flex-shrink:0;}/*!sc*/
.jbzqwE > input,.jbzqwE > select{padding-left:0;padding-right:0;}/*!sc*/
data-styled.g18[id="TextInputWrapper-sc-1mqhpbi-1"]{content:"jbzqwE,"}/*!sc*/
.cDLBls{border:0;font-size:inherit;font-family:inherit;background-color:transparent;-webkit-appearance:none;color:inherit;width:100%;}/*!sc*/
.cDLBls:focus{outline:0;}/*!sc*/
data-styled.g19[id="UnstyledTextInput-sc-14ypya-0"]{content:"cDLBls,"}/*!sc*/
.bOMzPg{min-width:0;}/*!sc*/
.bOMzPg:where([data-size='small']){font-size:var(--text-body-size-small,0.75rem);line-height:var(--text-body-lineHeight-small,1.6666);}/*!sc*/
.bOMzPg:where([data-size='medium']){font-size:var(--text-body-size-medium,0.875rem);line-height:var(--text-body-lineHeight-medium,1.4285);}/*!sc*/
.bOMzPg:where([data-size='large']){font-size:var(--text-body-size-large,1rem);line-height:var(--text-body-lineHeight-large,1.5);}/*!sc*/
.bOMzPg:where([data-weight='light']){font-weight:var(--base-text-weight-light,300);}/*!sc*/
.bOMzPg:where([data-weight='normal']){font-weight:var(--base-text-weight-normal,400);}/*!sc*/
.bOMzPg:where([data-weight='medium']){font-weight:var(--base-text-weight-medium,500);}/*!sc*/
.bOMzPg:where([data-weight='semibold']){font-weight:var(--base-text-weight-semibold,600);}/*!sc*/
.fIsVJr{padding-left:4px;padding-right:4px;font-weight:400;color:var(--fgColor-muted,var(--color-fg-muted,#656d76));font-size:16px;}/*!sc*/
.fIsVJr:where([data-size='small']){font-size:var(--text-body-size-small,0.75rem);line-height:var(--text-body-lineHeight-small,1.6666);}/*!sc*/
.fIsVJr:where([data-size='medium']){font-size:var(--text-body-size-medium,0.875rem);line-height:var(--text-body-lineHeight-medium,1.4285);}/*!sc*/
.fIsVJr:where([data-size='large']){font-size:var(--text-body-size-large,1rem);line-height:var(--text-body-lineHeight-large,1.5);}/*!sc*/
.fIsVJr:where([data-weight='light']){font-weight:var(--base-text-weight-light,300);}/*!sc*/
.fIsVJr:where([data-weight='normal']){font-weight:var(--base-text-weight-normal,400);}/*!sc*/
.fIsVJr:where([data-weight='medium']){font-weight:var(--base-text-weight-medium,500);}/*!sc*/
.fIsVJr:where([data-weight='semibold']){font-weight:var(--base-text-weight-semibold,600);}/*!sc*/
.cYjMDB{padding-left:4px;padding-right:4px;font-weight:400;color:var(--fgColor-muted,var(--color-fg-muted,#656d76));font-size:14px;}/*!sc*/
.cYjMDB:where([data-size='small']){font-size:var(--text-body-size-small,0.75rem);line-height:var(--text-body-lineHeight-small,1.6666);}/*!sc*/
.cYjMDB:where([data-size='medium']){font-size:var(--text-body-size-medium,0.875rem);line-height:var(--text-body-lineHeight-medium,1.4285);}/*!sc*/
.cYjMDB:where([data-size='large']){font-size:var(--text-body-size-large,1rem);line-height:var(--text-body-lineHeight-large,1.5);}/*!sc*/
.cYjMDB:where([data-weight='light']){font-weight:var(--base-text-weight-light,300);}/*!sc*/
.cYjMDB:where([data-weight='normal']){font-weight:var(--base-text-weight-normal,400);}/*!sc*/
.cYjMDB:where([data-weight='medium']){font-weight:var(--base-text-weight-medium,500);}/*!sc*/
.cYjMDB:where([data-weight='semibold']){font-weight:var(--base-text-weight-semibold,600);}/*!sc*/
data-styled.g24[id="Text-sc-17v1xeu-0"]{content:"bOMzPg,fIsVJr,cYjMDB,"}/*!sc*/
body[data-page-layout-dragging="true"]{cursor:col-resize;}/*!sc*/
body[data-page-layout-dragging="true"] *{-webkit-user-select:none;-moz-user-select:none;-ms-user-select:none;user-select:none;}/*!sc*/
data-styled.g29[id="sc-global-gbKrvU1"]{content:"sc-global-gbKrvU1,"}/*!sc*/
.dgvcvm{list-style:none;padding:0;margin:0;}/*!sc*/
.dgvcvm .PRIVATE_TreeView-item{outline:none;}/*!sc*/
.dgvcvm .PRIVATE_TreeView-item:focus-visible > div,.dgvcvm .PRIVATE_TreeView-item.focus-visible > div{box-shadow:inset 0 0 0 2px var(--fgColor-accent,var(--color-accent-fg,#0969da));}/*!sc*/
@media (forced-colors:active){.dgvcvm .PRIVATE_TreeView-item:focus-visible > div,.dgvcvm .PRIVATE_TreeView-item.focus-visible > div{outline:2px solid HighlightText;outline-offset:-2;}}/*!sc*/
.dgvcvm .PRIVATE_TreeView-item[data-has-leading-action]{--has-leading-action:1;}/*!sc*/
.dgvcvm .PRIVATE_TreeView-item-container{--level:1;--toggle-width:1rem;--min-item-height:2rem;position:relative;display:grid;--leading-action-width:calc(var(--has-leading-action,0) * 1.5rem);--spacer-width:calc(calc(var(--level) - 1) * (var(--toggle-width) / 2));grid-template-columns:var(--spacer-width) var(--leading-action-width) var(--toggle-width) 1fr;grid-template-areas:'spacer leadingAction toggle content';width:100%;font-size:14px;color:var(--fgColor-default,var(--color-fg-default,#1F2328));border-radius:6px;cursor:pointer;}/*!sc*/
.dgvcvm .PRIVATE_TreeView-item-container:hover{background-color:var(--control-transparent-bgColor-hover,var(--color-action-list-item-default-hover-bg,rgba(208,215,222,0.32)));}/*!sc*/
@media (forced-colors:active){.dgvcvm .PRIVATE_TreeView-item-container:hover{outline:2px solid transparent;outline-offset:-2px;}}/*!sc*/
@media (pointer:coarse){.dgvcvm .PRIVATE_TreeView-item-container{--toggle-width:1.5rem;--min-item-height:2.75rem;}}/*!sc*/
.dgvcvm .PRIVATE_TreeView-item-container:has(.PRIVATE_TreeView-item-skeleton):hover{background-color:transparent;cursor:default;}/*!sc*/
@media (forced-colors:active){.dgvcvm .PRIVATE_TreeView-item-container:has(.PRIVATE_TreeView-item-skeleton):hover{outline:none;}}/*!sc*/
.dgvcvm[data-omit-spacer='true'] .PRIVATE_TreeView-item-container{grid-template-columns:0 0 0 1fr;}/*!sc*/
.dgvcvm .PRIVATE_TreeView-item[aria-current='true'] > .PRIVATE_TreeView-item-container{background-color:var(--control-transparent-bgColor-selected,var(--color-action-list-item-default-selected-bg,rgba(208,215,222,0.24)));}/*!sc*/
.dgvcvm .PRIVATE_TreeView-item[aria-current='true'] > .PRIVATE_TreeView-item-container::after{content:'';position:absolute;top:calc(50% - 0.75rem);left:-8px;width:0.25rem;height:1.5rem;background-color:var(--fgColor-accent,var(--color-accent-fg,#0969da));border-radius:6px;}/*!sc*/
@media (forced-colors:active){.dgvcvm .PRIVATE_TreeView-item[aria-current='true'] > .PRIVATE_TreeView-item-container::after{background-color:HighlightText;}}/*!sc*/
.dgvcvm .PRIVATE_TreeView-item-toggle{grid-area:toggle;display:-webkit-box;display:-webkit-flex;display:-ms-flexbox;display:flex;-webkit-box-pack:center;-webkit-justify-content:center;-ms-flex-pack:center;justify-content:center;-webkit-align-items:flex-start;-webkit-box-align:flex-start;-ms-flex-align:flex-start;align-items:flex-start;padding-top:calc(var(--min-item-height) / 2 - 12px / 2);height:100%;color:var(--fgColor-muted,var(--color-fg-muted,#656d76));}/*!sc*/
.dgvcvm .PRIVATE_TreeView-item-toggle--hover:hover{background-color:var(--control-transparent-bgColor-hover,var(--color-tree-view-item-chevron-hover-bg,rgba(208,215,222,0.32)));}/*!sc*/
.dgvcvm .PRIVATE_TreeView-item-toggle--end{border-top-left-radius:6px;border-bottom-left-radius:6px;}/*!sc*/
.dgvcvm .PRIVATE_TreeView-item-content{grid-area:content;display:-webkit-box;display:-webkit-flex;display:-ms-flexbox;display:flex;height:100%;padding:0 8px;gap:8px;line-height:var(--custom-line-height,var(--text-body-lineHeight-medium,1.4285));padding-top:calc((var(--min-item-height) - var(--custom-line-height,1.3rem)) / 2);padding-bottom:calc((var(--min-item-height) - var(--custom-line-height,1.3rem)) / 2);}/*!sc*/
.dgvcvm .PRIVATE_TreeView-item-content-text{-webkit-flex:1 1 auto;-ms-flex:1 1 auto;flex:1 1 auto;width:0;overflow:hidden;white-space:nowrap;text-overflow:ellipsis;}/*!sc*/
.dgvcvm .PRIVATE_TreeView-item-visual{display:-webkit-box;display:-webkit-flex;display:-ms-flexbox;display:flex;-webkit-align-items:center;-webkit-box-align:center;-ms-flex-align:center;align-items:center;color:var(--fgColor-muted,var(--color-fg-muted,#656d76));height:var(--custom-line-height,1.3rem);}/*!sc*/
.dgvcvm .PRIVATE_TreeView-item-leading-action{display:-webkit-box;display:-webkit-flex;display:-ms-flexbox;display:flex;color:var(--fgColor-muted,var(--color-fg-muted,#656d76));grid-area:leadingAction;}/*!sc*/
.dgvcvm .PRIVATE_TreeView-item-level-line{width:100%;height:100%;border-right:1px solid;border-color:var(--borderColor-muted,var(--color-border-subtle,rgba(31,35,40,0.15)));}/*!sc*/
@media (hover:hover){.dgvcvm .PRIVATE_TreeView-item-level-line{border-color:transparent;}.dgvcvm:hover .PRIVATE_TreeView-item-level-line,.dgvcvm:focus-within .PRIVATE_TreeView-item-level-line{border-color:var(--borderColor-muted,var(--color-border-subtle,rgba(31,35,40,0.15)));}}/*!sc*/
.dgvcvm .PRIVATE_TreeView-directory-icon{display:grid;color:var(--treeViewItem-leadingVisual-bgColor-rest,var(--color-tree-view-item-chevron-directory-fill,#54aeff));}/*!sc*/
.dgvcvm .PRIVATE_VisuallyHidden{position:absolute;width:1px;height:1px;padding:0;margin:-1px;overflow:hidden;-webkit-clip:rect(0,0,0,0);clip:rect(0,0,0,0);white-space:nowrap;border-width:0;}/*!sc*/
data-styled.g45[id="TreeView__UlBox-sc-4ex6b6-0"]{content:"dgvcvm,"}/*!sc*/
.cpVEZe{display:-webkit-inline-box;display:-webkit-inline-flex;display:-ms-inline-flexbox;display:inline-flex;vertical-align:middle;isolation:isolate;}/*!sc*/
.cpVEZe.cpVEZe > *:not([data-loading-wrapper]){margin-inline-end:-1px;position:relative;border-radius:0;}/*!sc*/
.cpVEZe.cpVEZe > *:not([data-loading-wrapper]):first-child{border-top-left-radius:6px;border-bottom-left-radius:6px;}/*!sc*/
.cpVEZe.cpVEZe > *:not([data-loading-wrapper]):last-child{border-top-right-radius:6px;border-bottom-right-radius:6px;}/*!sc*/
.cpVEZe.cpVEZe > *:not([data-loading-wrapper]):focus,.cpVEZe.cpVEZe > *:not([data-loading-wrapper]):active,.cpVEZe.cpVEZe > *:not([data-loading-wrapper]):hover{z-index:1;}/*!sc*/
.cpVEZe [data-loading-wrapper]:first-child button,.cpVEZe [data-loading-wrapper]:first-child a{border-top-left-radius:6px;border-bottom-left-radius:6px;}/*!sc*/
.cpVEZe [data-loading-wrapper]:last-child button,.cpVEZe [data-loading-wrapper]:last-child a{border-top-right-radius:6px;border-bottom-right-radius:6px;}/*!sc*/
.cpVEZe [data-loading-wrapper] > *{margin-inline-end:-1px;position:relative;border-radius:0;}/*!sc*/
.cpVEZe [data-loading-wrapper] > *:focus,.cpVEZe [data-loading-wrapper] > *:active,.cpVEZe [data-loading-wrapper] > *:hover{z-index:1;}/*!sc*/
data-styled.g50[id="ButtonGroup-sc-1gxhls1-0"]{content:"cpVEZe,"}/*!sc*/
.jEdVkE{--segmented-control-button-inner-padding:12px;--segmented-control-button-bg-inset:4px;--segmented-control-outer-radius:6px;background-color:transparent;border-color:transparent;border-radius:var(--segmented-control-outer-radius);border-width:0;color:currentColor;cursor:pointer;font-family:inherit;font-size:inherit;font-weight:600;padding:0;height:100%;width:100%;}/*!sc*/
.jEdVkE .segmentedControl-content{-webkit-align-items:center;-webkit-box-align:center;-ms-flex-align:center;align-items:center;background-color:var(--controlKnob-bgColor-rest,var(--color-segmented-control-button-bg,#ffffff));border-color:var(--controlKnob-borderColor-rest,var(--color-segmented-control-button-hover-active-selected-border,#8c959f));border-style:solid;border-width:1px;border-radius:var(--segmented-control-outer-radius);display:-webkit-box;display:-webkit-flex;display:-ms-flexbox;display:flex;height:100%;-webkit-box-pack:center;-webkit-justify-content:center;-ms-flex-pack:center;justify-content:center;padding-left:var(--segmented-control-button-inner-padding);padding-right:var(--segmented-control-button-inner-padding);}/*!sc*/
.jEdVkE svg{fill:var(--fgColor-muted,var(--color-fg-muted,#656d76));}/*!sc*/
.jEdVkE:focus:focus-visible:not(:last-child):after{width:0;}/*!sc*/
.jEdVkE .segmentedControl-text:after{content:"Preview";display:block;font-weight:600;height:0;overflow:hidden;pointer-events:none;-webkit-user-select:none;-moz-user-select:none;-ms-user-select:none;user-select:none;visibility:hidden;}/*!sc*/
@media (pointer:coarse){.jEdVkE:before{content:"";position:absolute;left:0;right:0;-webkit-transform:translateY(-50%);-ms-transform:translateY(-50%);transform:translateY(-50%);top:50%;min-height:44px;}}/*!sc*/
.TvbfG{--segmented-control-button-inner-padding:12px;--segmented-control-button-bg-inset:4px;--segmented-control-outer-radius:6px;background-color:transparent;border-color:transparent;border-radius:var(--segmented-control-outer-radius);border-width:0;color:currentColor;cursor:pointer;font-family:inherit;font-size:inherit;font-weight:400;padding:var(--segmented-control-button-bg-inset);height:100%;width:100%;}/*!sc*/
.TvbfG .segmentedControl-content{-webkit-align-items:center;-webkit-box-align:center;-ms-flex-align:center;align-items:center;background-color:transparent;border-color:transparent;border-style:solid;border-width:1px;border-radius:calc(var(--segmented-control-outer-radius) - var(--segmented-control-button-bg-inset) / 2);display:-webkit-box;display:-webkit-flex;display:-ms-flexbox;display:flex;height:100%;-webkit-box-pack:center;-webkit-justify-content:center;-ms-flex-pack:center;justify-content:center;padding-left:calc(var(--segmented-control-button-inner-padding) - var(--segmented-control-button-bg-inset));padding-right:calc(var(--segmented-control-button-inner-padding) - var(--segmented-control-button-bg-inset));}/*!sc*/
.TvbfG svg{fill:var(--fgColor-muted,var(--color-fg-muted,#656d76));}/*!sc*/
.TvbfG:hover .segmentedControl-content{background-color:var(--controlTrack-bgColor-hover,var(--color-segmented-control-button-hover-bg,rgba(175,184,193,0.2)));}/*!sc*/
.TvbfG:active .segmentedControl-content{background-color:var(--controlTrack-bgColor-active,var(--color-segmented-control-button-hover-active-bg,rgba(175,184,193,0.4)));}/*!sc*/
.TvbfG:focus:focus-visible:not(:last-child):after{width:0;}/*!sc*/
.TvbfG .segmentedControl-text:after{content:"Code";display:block;font-weight:600;height:0;overflow:hidden;pointer-events:none;-webkit-user-select:none;-moz-user-select:none;-ms-user-select:none;user-select:none;visibility:hidden;}/*!sc*/
@media (pointer:coarse){.TvbfG:before{content:"";position:absolute;left:0;right:0;-webkit-transform:translateY(-50%);-ms-transform:translateY(-50%);transform:translateY(-50%);top:50%;min-height:44px;}}/*!sc*/
.fIktcg{--segmented-control-button-inner-padding:12px;--segmented-control-button-bg-inset:4px;--segmented-control-outer-radius:6px;background-color:transparent;border-color:transparent;border-radius:var(--segmented-control-outer-radius);border-width:0;color:currentColor;cursor:pointer;font-family:inherit;font-size:inherit;font-weight:400;padding:var(--segmented-control-button-bg-inset);height:100%;width:100%;}/*!sc*/
.fIktcg .segmentedControl-content{-webkit-align-items:center;-webkit-box-align:center;-ms-flex-align:center;align-items:center;background-color:transparent;border-color:transparent;border-style:solid;border-width:1px;border-radius:calc(var(--segmented-control-outer-radius) - var(--segmented-control-button-bg-inset) / 2);display:-webkit-box;display:-webkit-flex;display:-ms-flexbox;display:flex;height:100%;-webkit-box-pack:center;-webkit-justify-content:center;-ms-flex-pack:center;justify-content:center;padding-left:calc(var(--segmented-control-button-inner-padding) - var(--segmented-control-button-bg-inset));padding-right:calc(var(--segmented-control-button-inner-padding) - var(--segmented-control-button-bg-inset));}/*!sc*/
.fIktcg svg{fill:var(--fgColor-muted,var(--color-fg-muted,#656d76));}/*!sc*/
.fIktcg:hover .segmentedControl-content{background-color:var(--controlTrack-bgColor-hover,var(--color-segmented-control-button-hover-bg,rgba(175,184,193,0.2)));}/*!sc*/
.fIktcg:active .segmentedControl-content{background-color:var(--controlTrack-bgColor-active,var(--color-segmented-control-button-hover-active-bg,rgba(175,184,193,0.4)));}/*!sc*/
.fIktcg:focus:focus-visible:not(:last-child):after{width:0;}/*!sc*/
.fIktcg .segmentedControl-text:after{content:"Blame";display:block;font-weight:600;height:0;overflow:hidden;pointer-events:none;-webkit-user-select:none;-moz-user-select:none;-ms-user-select:none;user-select:none;visibility:hidden;}/*!sc*/
@media (pointer:coarse){.fIktcg:before{content:"";position:absolute;left:0;right:0;-webkit-transform:translateY(-50%);-ms-transform:translateY(-50%);transform:translateY(-50%);top:50%;min-height:44px;}}/*!sc*/
data-styled.g61[id="SegmentedControlButton__SegmentedControlButtonStyled-sc-8lkgxl-0"]{content:"jEdVkE,TvbfG,fIktcg,"}/*!sc*/
.ehDMvU{background-color:var(--controlTrack-bgColor-rest,var(--color-segmented-control-bg,#eaeef2));border-radius:6px;border:1px solid;border-color:var(--controlTrack-borderColor-rest,transparent);display:-webkit-inline-box;display:-webkit-inline-flex;display:-ms-inline-flexbox;display:inline-flex;font-size:14px;height:28px;margin:0;padding:0;}/*!sc*/
data-styled.g63[id="SegmentedControl__SegmentedControlList-sc-1rzig82-0"]{content:"ehDMvU,"}/*!sc*/
</style><meta data-hydrostats="publish"/> <!-- --> <!-- --> <button hidden="" data-testid="header-permalink-button" data-hotkey-scope="read-only-cursor-text-area"></button><button hidden=""></button><div><div style="--sticky-pane-height:100vh" class="Box-sc-g0xbh4-0 fSWWem"><div class="Box-sc-g0xbh4-0 kPPmzM"><div class="Box-sc-g0xbh4-0 cIAPDV"><div tabindex="0" class="Box-sc-g0xbh4-0 gvCnwW"><div class="Box-sc-g0xbh4-0 hgUFaY"><div class="Box-sc-g0xbh4-0 eUyHuk"></div><div style="--pane-width:320px" class="Box-sc-g0xbh4-0 gNdDUH"><div class="react-tree-pane-contents"><div id="repos-file-tree" class="Box-sc-g0xbh4-0 jywUSN"><div class="Box-sc-g0xbh4-0 hBSSUC"><div class="Box-sc-g0xbh4-0 iPurHz"><h2 class="Heading__StyledHeading-sc-1c1dgg0-0 jUaXMC"><button style="--button-color:fg.muted" type="button" aria-label="Expand file tree" data-testid="expand-file-tree-button-mobile" data-loading="false" aria-describedby=":R59lmdaeb:-loading-announcement" class="types__StyledButton-sc-ws60qy-0 jGoVeP"><span data-component="buttonContent" class="Box-sc-g0xbh4-0 kkrdEu"><span data-component="leadingVisual" class="Box-sc-g0xbh4-0 trpoQ"><svg aria-hidden="true" focusable="false" role="img" class="octicon octicon-arrow-left" viewBox="0 0 16 16" width="16" height="16" fill="currentColor" style="display:inline-block;user-select:none;vertical-align:text-bottom;overflow:visible"><path d="M7.78 12.53a.75.75 0 0 1-1.06 0L2.47 8.28a.75.75 0 0 1 0-1.06l4.25-4.25a.751.751 0 0 1 1.042.018.751.751 0 0 1 .018 1.042L4.81 7h7.44a.75.75 0 0 1 0 1.5H4.81l2.97 2.97a.75.75 0 0 1 0 1.06Z"></path></svg></span><span data-component="text">Files</span></span></button><span role="tooltip" aria-label="Collapse file tree" id="expand-button-file-tree-button" class="Tooltip__TooltipBase-sc-17tf59c-0 gNgnVl tooltipped-se"><button data-component="IconButton" type="button" data-testid="collapse-file-tree-button" aria-expanded="true" aria-controls="repos-file-tree" class="types__StyledButton-sc-ws60qy-0 cRDVgI" data-loading="false" data-no-visuals="true" aria-describedby=":Rp9lmdaeb:-loading-announcement" aria-labelledby="expand-button-file-tree-button"><svg aria-hidden="true" focusable="false" role="img" class="octicon octicon-sidebar-expand" viewBox="0 0 16 16" width="16" height="16" fill="currentColor" style="display:inline-block;user-select:none;vertical-align:text-bottom;overflow:visible"><path d="m4.177 7.823 2.396-2.396A.25.25 0 0 1 7 5.604v4.792a.25.25 0 0 1-.427.177L4.177 8.177a.25.25 0 0 1 0-.354Z"></path><path d="M0 1.75C0 .784.784 0 1.75 0h12.5C15.216 0 16 .784 16 1.75v12.5A1.75 1.75 0 0 1 14.25 16H1.75A1.75 1.75 0 0 1 0 14.25Zm1.75-.25a.25.25 0 0 0-.25.25v12.5c0 .138.112.25.25.25H9.5v-13Zm12.5 13a.25.25 0 0 0 .25-.25V1.75a.25.25 0 0 0-.25-.25H11v13Z"></path></svg></button></span><button hidden="" data-testid="" data-hotkey-scope="read-only-cursor-text-area"></button></h2><h2 class="Heading__StyledHeading-sc-1c1dgg0-0 fReAGt">Files</h2></div><div class="Box-sc-g0xbh4-0 hVHHYa"><div class="Box-sc-g0xbh4-0 idZfsJ"><button type="button" aria-haspopup="true" aria-expanded="false" tabindex="0" aria-label="main branch" data-testid="anchor-button" class="types__StyledButton-sc-ws60qy-0 jwBfae react-repos-tree-pane-ref-selector width-full ref-selector-class" data-loading="false" aria-describedby="branch-picker-repos-header-ref-selector-loading-announcement" id="branch-picker-repos-header-ref-selector"><span data-component="buttonContent" class="Box-sc-g0xbh4-0 kkrdEu"><span data-component="text"><div class="Box-sc-g0xbh4-0 bKgizp"><div class="Box-sc-g0xbh4-0 iPGYsi"><svg aria-hidden="true" focusable="false" role="img" class="octicon octicon-git-branch" viewBox="0 0 16 16" width="16" height="16" fill="currentColor" style="display:inline-block;user-select:none;vertical-align:text-bottom;overflow:visible"><path d="M9.5 3.25a2.25 2.25 0 1 1 3 2.122V6A2.5 2.5 0 0 1 10 8.5H6a1 1 0 0 0-1 1v1.128a2.251 2.251 0 1 1-1.5 0V5.372a2.25 2.25 0 1 1 1.5 0v1.836A2.493 2.493 0 0 1 6 7h4a1 1 0 0 0 1-1v-.628A2.25 2.25 0 0 1 9.5 3.25Zm-6 0a.75.75 0 1 0 1.5 0 .75.75 0 0 0-1.5 0Zm8.25-.75a.75.75 0 1 0 0 1.5.75.75 0 0 0 0-1.5ZM4.25 12a.75.75 0 1 0 0 1.5.75.75 0 0 0 0-1.5Z"></path></svg></div><div class="Box-sc-g0xbh4-0 caeYDk ref-selector-button-text-container"><span class="Text-sc-17v1xeu-0 bOMzPg"> <!-- -->main</span></div></div></span><span data-component="trailingVisual" class="Box-sc-g0xbh4-0 trpoQ"><svg aria-hidden="true" focusable="false" role="img" class="octicon octicon-triangle-down" viewBox="0 0 16 16" width="16" height="16" fill="currentColor" style="display:inline-block;user-select:none;vertical-align:text-bottom;overflow:visible"><path d="m4.427 7.427 3.396 3.396a.25.25 0 0 0 .354 0l3.396-3.396A.25.25 0 0 0 11.396 7H4.604a.25.25 0 0 0-.177.427Z"></path></svg></span></span></button><button hidden="" data-hotkey-scope="read-only-cursor-text-area"></button></div><div class="Box-sc-g0xbh4-0 jahcnb"><span role="tooltip" aria-label="Add file" id=":R6hlmdaeb:" class="Tooltip__TooltipBase-sc-17tf59c-0 gNgnVl tooltipped-s"><a sx="[object Object]" data-component="IconButton" type="button" aria-label="Add file" data-loading="false" data-no-visuals="true" aria-describedby=":Rmhlmdaeb:-loading-announcement" class="types__StyledButton-sc-ws60qy-0 YkvTm" href="/MathforDataScience/DSR_Statistics1/new/main/7_%20Hypotheses"><svg aria-hidden="true" focusable="false" role="img" class="octicon octicon-plus" viewBox="0 0 16 16" width="16" height="16" fill="currentColor" style="display:inline-block;user-select:none;vertical-align:text-bottom;overflow:visible"><path d="M7.75 2a.75.75 0 0 1 .75.75V7h4.25a.75.75 0 0 1 0 1.5H8.5v4.25a.75.75 0 0 1-1.5 0V8.5H2.75a.75.75 0 0 1 0-1.5H7V2.75A.75.75 0 0 1 7.75 2Z"></path></svg></a></span><button data-component="IconButton" type="button" aria-label="Search this repository" data-loading="false" data-no-visuals="true" aria-describedby=":Rqhlmdaeb:-loading-announcement" class="types__StyledButton-sc-ws60qy-0 klDWQA"><svg aria-hidden="true" focusable="false" role="img" class="octicon octicon-search" viewBox="0 0 16 16" width="16" height="16" fill="currentColor" style="display:inline-block;user-select:none;vertical-align:text-bottom;overflow:visible"><path d="M10.68 11.74a6 6 0 0 1-7.922-8.982 6 6 0 0 1 8.982 7.922l3.04 3.04a.749.749 0 0 1-.326 1.275.749.749 0 0 1-.734-.215ZM11.5 7a4.499 4.499 0 1 0-8.997 0A4.499 4.499 0 0 0 11.5 7Z"></path></svg></button><button hidden="" data-testid="" data-hotkey-scope="read-only-cursor-text-area"></button></div></div></div><div class="Box-sc-g0xbh4-0 ccToMy"><span class="TextInputWrapper__TextInputBaseWrapper-sc-1mqhpbi-0 TextInputWrapper-sc-1mqhpbi-1 cXNreu jbzqwE TextInput-wrapper" aria-busy="false"><span class="TextInput-icon"><svg aria-hidden="true" focusable="false" role="img" class="octicon octicon-search" viewBox="0 0 16 16" width="16" height="16" fill="currentColor" style="display:inline-block;user-select:none;vertical-align:text-bottom;overflow:visible"><path d="M10.68 11.74a6 6 0 0 1-7.922-8.982 6 6 0 0 1 8.982 7.922l3.04 3.04a.749.749 0 0 1-.326 1.275.749.749 0 0 1-.734-.215ZM11.5 7a4.499 4.499 0 1 0-8.997 0A4.499 4.499 0 0 0 11.5 7Z"></path></svg></span><input type="text" aria-label="Go to file" role="combobox" aria-controls="file-results-list" aria-expanded="false" aria-haspopup="dialog" autoCorrect="off" spellcheck="false" placeholder="Go to file" data-component="input" class="UnstyledTextInput-sc-14ypya-0 cDLBls" value=""/><span class="TextInput-icon"><div class="Box-sc-g0xbh4-0 cNvKlH"><kbd>t</kbd></div></span></span></div><button hidden="" data-testid="" data-hotkey-scope="read-only-cursor-text-area"></button><button hidden=""></button><div class="Box-sc-g0xbh4-0 cLfAnm"><div class="react-tree-show-tree-items"><div data-testid="repos-file-tree-container" class="Box-sc-g0xbh4-0 erWCJP"><nav aria-label="File Tree Navigation"><span role="status" aria-live="polite" aria-atomic="true" class="_VisuallyHidden__VisuallyHidden-sc-11jhm7a-0 rTZSs"></span><ul role="tree" aria-label="Files" class="TreeView__UlBox-sc-4ex6b6-0 dgvcvm"><li class="PRIVATE_TreeView-item" tabindex="0" id="2_ Descriptive Statistics-item" role="treeitem" aria-labelledby=":Rqclmdaeb:" aria-describedby=":RqclmdaebH1: :RqclmdaebH2:" aria-level="1" aria-expanded="false" aria-selected="false"><div class="PRIVATE_TreeView-item-container" style="--level:1;content-visibility:auto;contain-intrinsic-size:auto 2rem"><div style="grid-area:spacer;display:flex"><div style="width:100%;display:flex"></div></div><div class="PRIVATE_TreeView-item-toggle PRIVATE_TreeView-item-toggle--hover PRIVATE_TreeView-item-toggle--end"><svg aria-hidden="true" focusable="false" class="octicon octicon-chevron-right" viewBox="0 0 12 12" width="12" height="12" fill="currentColor" style="display:inline-block;user-select:none;vertical-align:text-bottom;overflow:visible"><path d="M4.7 10c-.2 0-.4-.1-.5-.2-.3-.3-.3-.8 0-1.1L6.9 6 4.2 3.3c-.3-.3-.3-.8 0-1.1.3-.3.8-.3 1.1 0l3.3 3.2c.3.3.3.8 0 1.1L5.3 9.7c-.2.2-.4.3-.6.3Z"></path></svg></div><div id=":Rqclmdaeb:" class="PRIVATE_TreeView-item-content"><div class="PRIVATE_VisuallyHidden" aria-hidden="true" id=":RqclmdaebH1:"></div><div class="PRIVATE_TreeView-item-visual" aria-hidden="true"><div class="PRIVATE_TreeView-directory-icon"><svg aria-hidden="true" focusable="false" class="octicon octicon-file-directory-fill" viewBox="0 0 16 16" width="16" height="16" fill="currentColor" style="display:inline-block;user-select:none;vertical-align:text-bottom;overflow:visible"><path d="M1.75 1A1.75 1.75 0 0 0 0 2.75v10.5C0 14.216.784 15 1.75 15h12.5A1.75 1.75 0 0 0 16 13.25v-8.5A1.75 1.75 0 0 0 14.25 3H7.5a.25.25 0 0 1-.2-.1l-.9-1.2C6.07 1.26 5.55 1 5 1H1.75Z"></path></svg></div></div><span class="PRIVATE_TreeView-item-content-text"><span>2_ Descriptive Statistics</span></span></div></div></li><li class="PRIVATE_TreeView-item" tabindex="0" id="3_ Combinatorics-item" role="treeitem" aria-labelledby=":R1aclmdaeb:" aria-describedby=":R1aclmdaebH1: :R1aclmdaebH2:" aria-level="1" aria-expanded="false" aria-selected="false"><div class="PRIVATE_TreeView-item-container" style="--level:1;content-visibility:auto;contain-intrinsic-size:auto 2rem"><div style="grid-area:spacer;display:flex"><div style="width:100%;display:flex"></div></div><div class="PRIVATE_TreeView-item-toggle PRIVATE_TreeView-item-toggle--hover PRIVATE_TreeView-item-toggle--end"><svg aria-hidden="true" focusable="false" class="octicon octicon-chevron-right" viewBox="0 0 12 12" width="12" height="12" fill="currentColor" style="display:inline-block;user-select:none;vertical-align:text-bottom;overflow:visible"><path d="M4.7 10c-.2 0-.4-.1-.5-.2-.3-.3-.3-.8 0-1.1L6.9 6 4.2 3.3c-.3-.3-.3-.8 0-1.1.3-.3.8-.3 1.1 0l3.3 3.2c.3.3.3.8 0 1.1L5.3 9.7c-.2.2-.4.3-.6.3Z"></path></svg></div><div id=":R1aclmdaeb:" class="PRIVATE_TreeView-item-content"><div class="PRIVATE_VisuallyHidden" aria-hidden="true" id=":R1aclmdaebH1:"></div><div class="PRIVATE_TreeView-item-visual" aria-hidden="true"><div class="PRIVATE_TreeView-directory-icon"><svg aria-hidden="true" focusable="false" class="octicon octicon-file-directory-fill" viewBox="0 0 16 16" width="16" height="16" fill="currentColor" style="display:inline-block;user-select:none;vertical-align:text-bottom;overflow:visible"><path d="M1.75 1A1.75 1.75 0 0 0 0 2.75v10.5C0 14.216.784 15 1.75 15h12.5A1.75 1.75 0 0 0 16 13.25v-8.5A1.75 1.75 0 0 0 14.25 3H7.5a.25.25 0 0 1-.2-.1l-.9-1.2C6.07 1.26 5.55 1 5 1H1.75Z"></path></svg></div></div><span class="PRIVATE_TreeView-item-content-text"><span>3_ Combinatorics</span></span></div></div></li><li class="PRIVATE_TreeView-item" tabindex="0" id="4_ Distributions-item" role="treeitem" aria-labelledby=":R1qclmdaeb:" aria-describedby=":R1qclmdaebH1: :R1qclmdaebH2:" aria-level="1" aria-expanded="false" aria-selected="false"><div class="PRIVATE_TreeView-item-container" style="--level:1;content-visibility:auto;contain-intrinsic-size:auto 2rem"><div style="grid-area:spacer;display:flex"><div style="width:100%;display:flex"></div></div><div class="PRIVATE_TreeView-item-toggle PRIVATE_TreeView-item-toggle--hover PRIVATE_TreeView-item-toggle--end"><svg aria-hidden="true" focusable="false" class="octicon octicon-chevron-right" viewBox="0 0 12 12" width="12" height="12" fill="currentColor" style="display:inline-block;user-select:none;vertical-align:text-bottom;overflow:visible"><path d="M4.7 10c-.2 0-.4-.1-.5-.2-.3-.3-.3-.8 0-1.1L6.9 6 4.2 3.3c-.3-.3-.3-.8 0-1.1.3-.3.8-.3 1.1 0l3.3 3.2c.3.3.3.8 0 1.1L5.3 9.7c-.2.2-.4.3-.6.3Z"></path></svg></div><div id=":R1qclmdaeb:" class="PRIVATE_TreeView-item-content"><div class="PRIVATE_VisuallyHidden" aria-hidden="true" id=":R1qclmdaebH1:"></div><div class="PRIVATE_TreeView-item-visual" aria-hidden="true"><div class="PRIVATE_TreeView-directory-icon"><svg aria-hidden="true" focusable="false" class="octicon octicon-file-directory-fill" viewBox="0 0 16 16" width="16" height="16" fill="currentColor" style="display:inline-block;user-select:none;vertical-align:text-bottom;overflow:visible"><path d="M1.75 1A1.75 1.75 0 0 0 0 2.75v10.5C0 14.216.784 15 1.75 15h12.5A1.75 1.75 0 0 0 16 13.25v-8.5A1.75 1.75 0 0 0 14.25 3H7.5a.25.25 0 0 1-.2-.1l-.9-1.2C6.07 1.26 5.55 1 5 1H1.75Z"></path></svg></div></div><span class="PRIVATE_TreeView-item-content-text"><span>4_ Distributions</span></span></div></div></li><li class="PRIVATE_TreeView-item" tabindex="0" id="5_ Conditional Prob-item" role="treeitem" aria-labelledby=":R2aclmdaeb:" aria-describedby=":R2aclmdaebH1: :R2aclmdaebH2:" aria-level="1" aria-expanded="false" aria-selected="false"><div class="PRIVATE_TreeView-item-container" style="--level:1;content-visibility:auto;contain-intrinsic-size:auto 2rem"><div style="grid-area:spacer;display:flex"><div style="width:100%;display:flex"></div></div><div class="PRIVATE_TreeView-item-toggle PRIVATE_TreeView-item-toggle--hover PRIVATE_TreeView-item-toggle--end"><svg aria-hidden="true" focusable="false" class="octicon octicon-chevron-right" viewBox="0 0 12 12" width="12" height="12" fill="currentColor" style="display:inline-block;user-select:none;vertical-align:text-bottom;overflow:visible"><path d="M4.7 10c-.2 0-.4-.1-.5-.2-.3-.3-.3-.8 0-1.1L6.9 6 4.2 3.3c-.3-.3-.3-.8 0-1.1.3-.3.8-.3 1.1 0l3.3 3.2c.3.3.3.8 0 1.1L5.3 9.7c-.2.2-.4.3-.6.3Z"></path></svg></div><div id=":R2aclmdaeb:" class="PRIVATE_TreeView-item-content"><div class="PRIVATE_VisuallyHidden" aria-hidden="true" id=":R2aclmdaebH1:"></div><div class="PRIVATE_TreeView-item-visual" aria-hidden="true"><div class="PRIVATE_TreeView-directory-icon"><svg aria-hidden="true" focusable="false" class="octicon octicon-file-directory-fill" viewBox="0 0 16 16" width="16" height="16" fill="currentColor" style="display:inline-block;user-select:none;vertical-align:text-bottom;overflow:visible"><path d="M1.75 1A1.75 1.75 0 0 0 0 2.75v10.5C0 14.216.784 15 1.75 15h12.5A1.75 1.75 0 0 0 16 13.25v-8.5A1.75 1.75 0 0 0 14.25 3H7.5a.25.25 0 0 1-.2-.1l-.9-1.2C6.07 1.26 5.55 1 5 1H1.75Z"></path></svg></div></div><span class="PRIVATE_TreeView-item-content-text"><span>5_ Conditional Prob</span></span></div></div></li><li class="PRIVATE_TreeView-item" tabindex="0" id="6_ Sampling-item" role="treeitem" aria-labelledby=":R2qclmdaeb:" aria-describedby=":R2qclmdaebH1: :R2qclmdaebH2:" aria-level="1" aria-expanded="false" aria-selected="false"><div class="PRIVATE_TreeView-item-container" style="--level:1;content-visibility:auto;contain-intrinsic-size:auto 2rem"><div style="grid-area:spacer;display:flex"><div style="width:100%;display:flex"></div></div><div class="PRIVATE_TreeView-item-toggle PRIVATE_TreeView-item-toggle--hover PRIVATE_TreeView-item-toggle--end"><svg aria-hidden="true" focusable="false" class="octicon octicon-chevron-right" viewBox="0 0 12 12" width="12" height="12" fill="currentColor" style="display:inline-block;user-select:none;vertical-align:text-bottom;overflow:visible"><path d="M4.7 10c-.2 0-.4-.1-.5-.2-.3-.3-.3-.8 0-1.1L6.9 6 4.2 3.3c-.3-.3-.3-.8 0-1.1.3-.3.8-.3 1.1 0l3.3 3.2c.3.3.3.8 0 1.1L5.3 9.7c-.2.2-.4.3-.6.3Z"></path></svg></div><div id=":R2qclmdaeb:" class="PRIVATE_TreeView-item-content"><div class="PRIVATE_VisuallyHidden" aria-hidden="true" id=":R2qclmdaebH1:"></div><div class="PRIVATE_TreeView-item-visual" aria-hidden="true"><div class="PRIVATE_TreeView-directory-icon"><svg aria-hidden="true" focusable="false" class="octicon octicon-file-directory-fill" viewBox="0 0 16 16" width="16" height="16" fill="currentColor" style="display:inline-block;user-select:none;vertical-align:text-bottom;overflow:visible"><path d="M1.75 1A1.75 1.75 0 0 0 0 2.75v10.5C0 14.216.784 15 1.75 15h12.5A1.75 1.75 0 0 0 16 13.25v-8.5A1.75 1.75 0 0 0 14.25 3H7.5a.25.25 0 0 1-.2-.1l-.9-1.2C6.07 1.26 5.55 1 5 1H1.75Z"></path></svg></div></div><span class="PRIVATE_TreeView-item-content-text"><span>6_ Sampling</span></span></div></div></li><li class="PRIVATE_TreeView-item" tabindex="0" id="7_ Hypotheses-item" role="treeitem" aria-labelledby=":R3aclmdaeb:" aria-describedby=":R3aclmdaebH1: :R3aclmdaebH2:" aria-level="1" aria-expanded="true" aria-selected="false"><div class="PRIVATE_TreeView-item-container" style="--level:1;content-visibility:auto;contain-intrinsic-size:auto 2rem"><div style="grid-area:spacer;display:flex"><div style="width:100%;display:flex"></div></div><div class="PRIVATE_TreeView-item-toggle PRIVATE_TreeView-item-toggle--hover PRIVATE_TreeView-item-toggle--end"><svg aria-hidden="true" focusable="false" class="octicon octicon-chevron-down" viewBox="0 0 12 12" width="12" height="12" fill="currentColor" style="display:inline-block;user-select:none;vertical-align:text-bottom;overflow:visible"><path d="M6 8.825c-.2 0-.4-.1-.5-.2l-3.3-3.3c-.3-.3-.3-.8 0-1.1.3-.3.8-.3 1.1 0l2.7 2.7 2.7-2.7c.3-.3.8-.3 1.1 0 .3.3.3.8 0 1.1l-3.2 3.2c-.2.2-.4.3-.6.3Z"></path></svg></div><div id=":R3aclmdaeb:" class="PRIVATE_TreeView-item-content"><div class="PRIVATE_VisuallyHidden" aria-hidden="true" id=":R3aclmdaebH1:"></div><div class="PRIVATE_TreeView-item-visual" aria-hidden="true"><div class="PRIVATE_TreeView-directory-icon"><svg aria-hidden="true" focusable="false" class="octicon octicon-file-directory-open-fill" viewBox="0 0 16 16" width="16" height="16" fill="currentColor" style="display:inline-block;user-select:none;vertical-align:text-bottom;overflow:visible"><path d="M.513 1.513A1.75 1.75 0 0 1 1.75 1h3.5c.55 0 1.07.26 1.4.7l.9 1.2a.25.25 0 0 0 .2.1H13a1 1 0 0 1 1 1v.5H2.75a.75.75 0 0 0 0 1.5h11.978a1 1 0 0 1 .994 1.117L15 13.25A1.75 1.75 0 0 1 13.25 15H1.75A1.75 1.75 0 0 1 0 13.25V2.75c0-.464.184-.91.513-1.237Z"></path></svg></div></div><span class="PRIVATE_TreeView-item-content-text"><span>7_ Hypotheses</span></span></div></div><ul role="group" style="list-style:none;padding:0;margin:0"><li class="PRIVATE_TreeView-item" tabindex="0" id="7_ Hypotheses/7_1 t-2-groups.ipynb-item" role="treeitem" aria-labelledby=":Rbbaclmdaeb:" aria-describedby=":RbbaclmdaebH1: :RbbaclmdaebH2:" aria-level="2" aria-selected="false"><div class="PRIVATE_TreeView-item-container" style="--level:2;content-visibility:auto;contain-intrinsic-size:auto 2rem"><div style="grid-area:spacer;display:flex"><div style="width:100%;display:flex"><div class="PRIVATE_TreeView-item-level-line"></div></div></div><div id=":Rbbaclmdaeb:" class="PRIVATE_TreeView-item-content"><div class="PRIVATE_VisuallyHidden" aria-hidden="true" id=":RbbaclmdaebH1:"></div><div class="PRIVATE_TreeView-item-visual" aria-hidden="true"><svg aria-hidden="true" focusable="false" role="img" class="octicon octicon-file" viewBox="0 0 16 16" width="16" height="16" fill="currentColor" style="display:inline-block;user-select:none;vertical-align:text-bottom;overflow:visible"><path d="M2 1.75C2 .784 2.784 0 3.75 0h6.586c.464 0 .909.184 1.237.513l2.914 2.914c.329.328.513.773.513 1.237v9.586A1.75 1.75 0 0 1 13.25 16h-9.5A1.75 1.75 0 0 1 2 14.25Zm1.75-.25a.25.25 0 0 0-.25.25v12.5c0 .138.112.25.25.25h9.5a.25.25 0 0 0 .25-.25V6h-2.75A1.75 1.75 0 0 1 9 4.25V1.5Zm6.75.062V4.25c0 .138.112.25.25.25h2.688l-.011-.013-2.914-2.914-.013-.011Z"></path></svg></div><span class="PRIVATE_TreeView-item-content-text"><span>7_1 t-2-groups.ipynb</span></span></div></div></li><li class="PRIVATE_TreeView-item" tabindex="0" id="7_ Hypotheses/7_2 paired t-test.ipynb-item" role="treeitem" aria-labelledby=":Rjbaclmdaeb:" aria-describedby=":RjbaclmdaebH1: :RjbaclmdaebH2:" aria-level="2" aria-selected="false"><div class="PRIVATE_TreeView-item-container" style="--level:2;content-visibility:auto;contain-intrinsic-size:auto 2rem"><div style="grid-area:spacer;display:flex"><div style="width:100%;display:flex"><div class="PRIVATE_TreeView-item-level-line"></div></div></div><div id=":Rjbaclmdaeb:" class="PRIVATE_TreeView-item-content"><div class="PRIVATE_VisuallyHidden" aria-hidden="true" id=":RjbaclmdaebH1:"></div><div class="PRIVATE_TreeView-item-visual" aria-hidden="true"><svg aria-hidden="true" focusable="false" role="img" class="octicon octicon-file" viewBox="0 0 16 16" width="16" height="16" fill="currentColor" style="display:inline-block;user-select:none;vertical-align:text-bottom;overflow:visible"><path d="M2 1.75C2 .784 2.784 0 3.75 0h6.586c.464 0 .909.184 1.237.513l2.914 2.914c.329.328.513.773.513 1.237v9.586A1.75 1.75 0 0 1 13.25 16h-9.5A1.75 1.75 0 0 1 2 14.25Zm1.75-.25a.25.25 0 0 0-.25.25v12.5c0 .138.112.25.25.25h9.5a.25.25 0 0 0 .25-.25V6h-2.75A1.75 1.75 0 0 1 9 4.25V1.5Zm6.75.062V4.25c0 .138.112.25.25.25h2.688l-.011-.013-2.914-2.914-.013-.011Z"></path></svg></div><span class="PRIVATE_TreeView-item-content-text"><span>7_2 paired t-test.ipynb</span></span></div></div></li><li class="PRIVATE_TreeView-item" tabindex="0" id="7_ Hypotheses/7_3_Chi^2.ipynb-item" role="treeitem" aria-labelledby=":Rrbaclmdaeb:" aria-describedby=":RrbaclmdaebH1: :RrbaclmdaebH2:" aria-level="2" aria-current="true" aria-selected="false"><div class="PRIVATE_TreeView-item-container" style="--level:2"><div style="grid-area:spacer;display:flex"><div style="width:100%;display:flex"><div class="PRIVATE_TreeView-item-level-line"></div></div></div><div id=":Rrbaclmdaeb:" class="PRIVATE_TreeView-item-content"><div class="PRIVATE_VisuallyHidden" aria-hidden="true" id=":RrbaclmdaebH1:"></div><div class="PRIVATE_TreeView-item-visual" aria-hidden="true"><svg aria-hidden="true" focusable="false" role="img" class="octicon octicon-file" viewBox="0 0 16 16" width="16" height="16" fill="currentColor" style="display:inline-block;user-select:none;vertical-align:text-bottom;overflow:visible"><path d="M2 1.75C2 .784 2.784 0 3.75 0h6.586c.464 0 .909.184 1.237.513l2.914 2.914c.329.328.513.773.513 1.237v9.586A1.75 1.75 0 0 1 13.25 16h-9.5A1.75 1.75 0 0 1 2 14.25Zm1.75-.25a.25.25 0 0 0-.25.25v12.5c0 .138.112.25.25.25h9.5a.25.25 0 0 0 .25-.25V6h-2.75A1.75 1.75 0 0 1 9 4.25V1.5Zm6.75.062V4.25c0 .138.112.25.25.25h2.688l-.011-.013-2.914-2.914-.013-.011Z"></path></svg></div><span class="PRIVATE_TreeView-item-content-text"><span>7_3_Chi^2.ipynb</span></span></div></div></li><li class="PRIVATE_TreeView-item" tabindex="0" id="7_ Hypotheses/7_4 F-test.ipynb-item" role="treeitem" aria-labelledby=":R13baclmdaeb:" aria-describedby=":R13baclmdaebH1: :R13baclmdaebH2:" aria-level="2" aria-selected="false"><div class="PRIVATE_TreeView-item-container" style="--level:2;content-visibility:auto;contain-intrinsic-size:auto 2rem"><div style="grid-area:spacer;display:flex"><div style="width:100%;display:flex"><div class="PRIVATE_TreeView-item-level-line"></div></div></div><div id=":R13baclmdaeb:" class="PRIVATE_TreeView-item-content"><div class="PRIVATE_VisuallyHidden" aria-hidden="true" id=":R13baclmdaebH1:"></div><div class="PRIVATE_TreeView-item-visual" aria-hidden="true"><svg aria-hidden="true" focusable="false" role="img" class="octicon octicon-file" viewBox="0 0 16 16" width="16" height="16" fill="currentColor" style="display:inline-block;user-select:none;vertical-align:text-bottom;overflow:visible"><path d="M2 1.75C2 .784 2.784 0 3.75 0h6.586c.464 0 .909.184 1.237.513l2.914 2.914c.329.328.513.773.513 1.237v9.586A1.75 1.75 0 0 1 13.25 16h-9.5A1.75 1.75 0 0 1 2 14.25Zm1.75-.25a.25.25 0 0 0-.25.25v12.5c0 .138.112.25.25.25h9.5a.25.25 0 0 0 .25-.25V6h-2.75A1.75 1.75 0 0 1 9 4.25V1.5Zm6.75.062V4.25c0 .138.112.25.25.25h2.688l-.011-.013-2.914-2.914-.013-.011Z"></path></svg></div><span class="PRIVATE_TreeView-item-content-text"><span>7_4 F-test.ipynb</span></span></div></div></li><li class="PRIVATE_TreeView-item" tabindex="0" id="7_ Hypotheses/Chi^2 and ANOVA.xlsx-item" role="treeitem" aria-labelledby=":R1bbaclmdaeb:" aria-describedby=":R1bbaclmdaebH1: :R1bbaclmdaebH2:" aria-level="2" aria-selected="false"><div class="PRIVATE_TreeView-item-container" style="--level:2;content-visibility:auto;contain-intrinsic-size:auto 2rem"><div style="grid-area:spacer;display:flex"><div style="width:100%;display:flex"><div class="PRIVATE_TreeView-item-level-line"></div></div></div><div id=":R1bbaclmdaeb:" class="PRIVATE_TreeView-item-content"><div class="PRIVATE_VisuallyHidden" aria-hidden="true" id=":R1bbaclmdaebH1:"></div><div class="PRIVATE_TreeView-item-visual" aria-hidden="true"><svg aria-hidden="true" focusable="false" role="img" class="octicon octicon-file" viewBox="0 0 16 16" width="16" height="16" fill="currentColor" style="display:inline-block;user-select:none;vertical-align:text-bottom;overflow:visible"><path d="M2 1.75C2 .784 2.784 0 3.75 0h6.586c.464 0 .909.184 1.237.513l2.914 2.914c.329.328.513.773.513 1.237v9.586A1.75 1.75 0 0 1 13.25 16h-9.5A1.75 1.75 0 0 1 2 14.25Zm1.75-.25a.25.25 0 0 0-.25.25v12.5c0 .138.112.25.25.25h9.5a.25.25 0 0 0 .25-.25V6h-2.75A1.75 1.75 0 0 1 9 4.25V1.5Zm6.75.062V4.25c0 .138.112.25.25.25h2.688l-.011-.013-2.914-2.914-.013-.011Z"></path></svg></div><span class="PRIVATE_TreeView-item-content-text"><span>Chi^2 and ANOVA.xlsx</span></span></div></div></li></ul></li><li class="PRIVATE_TreeView-item" tabindex="0" id="8_ Model Estimation-item" role="treeitem" aria-labelledby=":R3qclmdaeb:" aria-describedby=":R3qclmdaebH1: :R3qclmdaebH2:" aria-level="1" aria-expanded="false" aria-selected="false"><div class="PRIVATE_TreeView-item-container" style="--level:1;content-visibility:auto;contain-intrinsic-size:auto 2rem"><div style="grid-area:spacer;display:flex"><div style="width:100%;display:flex"></div></div><div class="PRIVATE_TreeView-item-toggle PRIVATE_TreeView-item-toggle--hover PRIVATE_TreeView-item-toggle--end"><svg aria-hidden="true" focusable="false" class="octicon octicon-chevron-right" viewBox="0 0 12 12" width="12" height="12" fill="currentColor" style="display:inline-block;user-select:none;vertical-align:text-bottom;overflow:visible"><path d="M4.7 10c-.2 0-.4-.1-.5-.2-.3-.3-.3-.8 0-1.1L6.9 6 4.2 3.3c-.3-.3-.3-.8 0-1.1.3-.3.8-.3 1.1 0l3.3 3.2c.3.3.3.8 0 1.1L5.3 9.7c-.2.2-.4.3-.6.3Z"></path></svg></div><div id=":R3qclmdaeb:" class="PRIVATE_TreeView-item-content"><div class="PRIVATE_VisuallyHidden" aria-hidden="true" id=":R3qclmdaebH1:"></div><div class="PRIVATE_TreeView-item-visual" aria-hidden="true"><div class="PRIVATE_TreeView-directory-icon"><svg aria-hidden="true" focusable="false" class="octicon octicon-file-directory-fill" viewBox="0 0 16 16" width="16" height="16" fill="currentColor" style="display:inline-block;user-select:none;vertical-align:text-bottom;overflow:visible"><path d="M1.75 1A1.75 1.75 0 0 0 0 2.75v10.5C0 14.216.784 15 1.75 15h12.5A1.75 1.75 0 0 0 16 13.25v-8.5A1.75 1.75 0 0 0 14.25 3H7.5a.25.25 0 0 1-.2-.1l-.9-1.2C6.07 1.26 5.55 1 5 1H1.75Z"></path></svg></div></div><span class="PRIVATE_TreeView-item-content-text"><span>8_ Model Estimation</span></span></div></div></li><li class="PRIVATE_TreeView-item" tabindex="0" id="Distributions map.pdf-item" role="treeitem" aria-labelledby=":R4aclmdaeb:" aria-describedby=":R4aclmdaebH1: :R4aclmdaebH2:" aria-level="1" aria-selected="false"><div class="PRIVATE_TreeView-item-container" style="--level:1;content-visibility:auto;contain-intrinsic-size:auto 2rem"><div style="grid-area:spacer;display:flex"><div style="width:100%;display:flex"></div></div><div id=":R4aclmdaeb:" class="PRIVATE_TreeView-item-content"><div class="PRIVATE_VisuallyHidden" aria-hidden="true" id=":R4aclmdaebH1:"></div><div class="PRIVATE_TreeView-item-visual" aria-hidden="true"><svg aria-hidden="true" focusable="false" role="img" class="octicon octicon-file" viewBox="0 0 16 16" width="16" height="16" fill="currentColor" style="display:inline-block;user-select:none;vertical-align:text-bottom;overflow:visible"><path d="M2 1.75C2 .784 2.784 0 3.75 0h6.586c.464 0 .909.184 1.237.513l2.914 2.914c.329.328.513.773.513 1.237v9.586A1.75 1.75 0 0 1 13.25 16h-9.5A1.75 1.75 0 0 1 2 14.25Zm1.75-.25a.25.25 0 0 0-.25.25v12.5c0 .138.112.25.25.25h9.5a.25.25 0 0 0 .25-.25V6h-2.75A1.75 1.75 0 0 1 9 4.25V1.5Zm6.75.062V4.25c0 .138.112.25.25.25h2.688l-.011-.013-2.914-2.914-.013-.011Z"></path></svg></div><span class="PRIVATE_TreeView-item-content-text"><span>Distributions map.pdf</span></span></div></div></li><li class="PRIVATE_TreeView-item" tabindex="0" id="Introduction to Statistics _v22.pdf-item" role="treeitem" aria-labelledby=":R4qclmdaeb:" aria-describedby=":R4qclmdaebH1: :R4qclmdaebH2:" aria-level="1" aria-selected="false"><div class="PRIVATE_TreeView-item-container" style="--level:1;content-visibility:auto;contain-intrinsic-size:auto 2rem"><div style="grid-area:spacer;display:flex"><div style="width:100%;display:flex"></div></div><div id=":R4qclmdaeb:" class="PRIVATE_TreeView-item-content"><div class="PRIVATE_VisuallyHidden" aria-hidden="true" id=":R4qclmdaebH1:"></div><div class="PRIVATE_TreeView-item-visual" aria-hidden="true"><svg aria-hidden="true" focusable="false" role="img" class="octicon octicon-file" viewBox="0 0 16 16" width="16" height="16" fill="currentColor" style="display:inline-block;user-select:none;vertical-align:text-bottom;overflow:visible"><path d="M2 1.75C2 .784 2.784 0 3.75 0h6.586c.464 0 .909.184 1.237.513l2.914 2.914c.329.328.513.773.513 1.237v9.586A1.75 1.75 0 0 1 13.25 16h-9.5A1.75 1.75 0 0 1 2 14.25Zm1.75-.25a.25.25 0 0 0-.25.25v12.5c0 .138.112.25.25.25h9.5a.25.25 0 0 0 .25-.25V6h-2.75A1.75 1.75 0 0 1 9 4.25V1.5Zm6.75.062V4.25c0 .138.112.25.25.25h2.688l-.011-.013-2.914-2.914-.013-.011Z"></path></svg></div><span class="PRIVATE_TreeView-item-content-text"><span>Introduction to Statistics _v22.pdf</span></span></div></div></li><li class="PRIVATE_TreeView-item" tabindex="0" id="README.md-item" role="treeitem" aria-labelledby=":R5aclmdaeb:" aria-describedby=":R5aclmdaebH1: :R5aclmdaebH2:" aria-level="1" aria-selected="false"><div class="PRIVATE_TreeView-item-container" style="--level:1;content-visibility:auto;contain-intrinsic-size:auto 2rem"><div style="grid-area:spacer;display:flex"><div style="width:100%;display:flex"></div></div><div id=":R5aclmdaeb:" class="PRIVATE_TreeView-item-content"><div class="PRIVATE_VisuallyHidden" aria-hidden="true" id=":R5aclmdaebH1:"></div><div class="PRIVATE_TreeView-item-visual" aria-hidden="true"><svg aria-hidden="true" focusable="false" role="img" class="octicon octicon-file" viewBox="0 0 16 16" width="16" height="16" fill="currentColor" style="display:inline-block;user-select:none;vertical-align:text-bottom;overflow:visible"><path d="M2 1.75C2 .784 2.784 0 3.75 0h6.586c.464 0 .909.184 1.237.513l2.914 2.914c.329.328.513.773.513 1.237v9.586A1.75 1.75 0 0 1 13.25 16h-9.5A1.75 1.75 0 0 1 2 14.25Zm1.75-.25a.25.25 0 0 0-.25.25v12.5c0 .138.112.25.25.25h9.5a.25.25 0 0 0 .25-.25V6h-2.75A1.75 1.75 0 0 1 9 4.25V1.5Zm6.75.062V4.25c0 .138.112.25.25.25h2.688l-.011-.013-2.914-2.914-.013-.011Z"></path></svg></div><span class="PRIVATE_TreeView-item-content-text"><span>README.md</span></span></div></div></li><li class="PRIVATE_TreeView-item" tabindex="0" id="StatistialTables.pdf-item" role="treeitem" aria-labelledby=":R5qclmdaeb:" aria-describedby=":R5qclmdaebH1: :R5qclmdaebH2:" aria-level="1" aria-selected="false"><div class="PRIVATE_TreeView-item-container" style="--level:1;content-visibility:auto;contain-intrinsic-size:auto 2rem"><div style="grid-area:spacer;display:flex"><div style="width:100%;display:flex"></div></div><div id=":R5qclmdaeb:" class="PRIVATE_TreeView-item-content"><div class="PRIVATE_VisuallyHidden" aria-hidden="true" id=":R5qclmdaebH1:"></div><div class="PRIVATE_TreeView-item-visual" aria-hidden="true"><svg aria-hidden="true" focusable="false" role="img" class="octicon octicon-file" viewBox="0 0 16 16" width="16" height="16" fill="currentColor" style="display:inline-block;user-select:none;vertical-align:text-bottom;overflow:visible"><path d="M2 1.75C2 .784 2.784 0 3.75 0h6.586c.464 0 .909.184 1.237.513l2.914 2.914c.329.328.513.773.513 1.237v9.586A1.75 1.75 0 0 1 13.25 16h-9.5A1.75 1.75 0 0 1 2 14.25Zm1.75-.25a.25.25 0 0 0-.25.25v12.5c0 .138.112.25.25.25h9.5a.25.25 0 0 0 .25-.25V6h-2.75A1.75 1.75 0 0 1 9 4.25V1.5Zm6.75.062V4.25c0 .138.112.25.25.25h2.688l-.011-.013-2.914-2.914-.013-.011Z"></path></svg></div><span class="PRIVATE_TreeView-item-content-text"><span>StatistialTables.pdf</span></span></div></div></li><li class="PRIVATE_TreeView-item" tabindex="0" id="readme.txt-item" role="treeitem" aria-labelledby=":R6aclmdaeb:" aria-describedby=":R6aclmdaebH1: :R6aclmdaebH2:" aria-level="1" aria-selected="false"><div class="PRIVATE_TreeView-item-container" style="--level:1;content-visibility:auto;contain-intrinsic-size:auto 2rem"><div style="grid-area:spacer;display:flex"><div style="width:100%;display:flex"></div></div><div id=":R6aclmdaeb:" class="PRIVATE_TreeView-item-content"><div class="PRIVATE_VisuallyHidden" aria-hidden="true" id=":R6aclmdaebH1:"></div><div class="PRIVATE_TreeView-item-visual" aria-hidden="true"><svg aria-hidden="true" focusable="false" role="img" class="octicon octicon-file" viewBox="0 0 16 16" width="16" height="16" fill="currentColor" style="display:inline-block;user-select:none;vertical-align:text-bottom;overflow:visible"><path d="M2 1.75C2 .784 2.784 0 3.75 0h6.586c.464 0 .909.184 1.237.513l2.914 2.914c.329.328.513.773.513 1.237v9.586A1.75 1.75 0 0 1 13.25 16h-9.5A1.75 1.75 0 0 1 2 14.25Zm1.75-.25a.25.25 0 0 0-.25.25v12.5c0 .138.112.25.25.25h9.5a.25.25 0 0 0 .25-.25V6h-2.75A1.75 1.75 0 0 1 9 4.25V1.5Zm6.75.062V4.25c0 .138.112.25.25.25h2.688l-.011-.013-2.914-2.914-.013-.011Z"></path></svg></div><span class="PRIVATE_TreeView-item-content-text"><span>readme.txt</span></span></div></div></li><li class="PRIVATE_TreeView-item" tabindex="0" id="requirements.txt-item" role="treeitem" aria-labelledby=":R6qclmdaeb:" aria-describedby=":R6qclmdaebH1: :R6qclmdaebH2:" aria-level="1" aria-selected="false"><div class="PRIVATE_TreeView-item-container" style="--level:1;content-visibility:auto;contain-intrinsic-size:auto 2rem"><div style="grid-area:spacer;display:flex"><div style="width:100%;display:flex"></div></div><div id=":R6qclmdaeb:" class="PRIVATE_TreeView-item-content"><div class="PRIVATE_VisuallyHidden" aria-hidden="true" id=":R6qclmdaebH1:"></div><div class="PRIVATE_TreeView-item-visual" aria-hidden="true"><svg aria-hidden="true" focusable="false" role="img" class="octicon octicon-file" viewBox="0 0 16 16" width="16" height="16" fill="currentColor" style="display:inline-block;user-select:none;vertical-align:text-bottom;overflow:visible"><path d="M2 1.75C2 .784 2.784 0 3.75 0h6.586c.464 0 .909.184 1.237.513l2.914 2.914c.329.328.513.773.513 1.237v9.586A1.75 1.75 0 0 1 13.25 16h-9.5A1.75 1.75 0 0 1 2 14.25Zm1.75-.25a.25.25 0 0 0-.25.25v12.5c0 .138.112.25.25.25h9.5a.25.25 0 0 0 .25-.25V6h-2.75A1.75 1.75 0 0 1 9 4.25V1.5Zm6.75.062V4.25c0 .138.112.25.25.25h2.688l-.011-.013-2.914-2.914-.013-.011Z"></path></svg></div><span class="PRIVATE_TreeView-item-content-text"><span>requirements.txt</span></span></div></div></li></ul></nav></div></div></div></div></div></div><div class="Box-sc-g0xbh4-0 hAeDYA"><div role="slider" aria-label="Draggable pane splitter" aria-valuemin="0" aria-valuemax="0" aria-valuenow="0" aria-valuetext="Pane width 0 pixels" tabindex="0" class="Box-sc-g0xbh4-0 fjdBNx"></div></div></div></div><div class="Box-sc-g0xbh4-0 emFMJu"><div class="Box-sc-g0xbh4-0"></div><div class="Box-sc-g0xbh4-0 hlUAHL"><div data-selector="repos-split-pane-content" tabindex="0" class="Box-sc-g0xbh4-0 iStsmI"><div class="Box-sc-g0xbh4-0 eIgvIk"><div class="Box-sc-g0xbh4-0 eVFfWF container"><div class="px-3 pt-3 pb-0" id="StickyHeader"><div class="Box-sc-g0xbh4-0 fywjmm"><div class="Box-sc-g0xbh4-0 dyczTK"><div class="Box-sc-g0xbh4-0 kszRgZ"><div class="Box-sc-g0xbh4-0 eTvGbF"><nav data-testid="breadcrumbs" aria-labelledby="repos-header-breadcrumb--wide-heading" id="repos-header-breadcrumb--wide" class="Box-sc-g0xbh4-0 kzRgrI"><h2 class="Heading__StyledHeading-sc-1c1dgg0-0 fpGZrB sr-only" data-testid="screen-reader-heading" id="repos-header-breadcrumb--wide-heading">Breadcrumbs</h2><ol class="Box-sc-g0xbh4-0 cmAPIB"><li class="Box-sc-g0xbh4-0 jwXCBK"><a sx="[object Object]" data-testid="breadcrumbs-repo-link" class="Link__StyledLink-sc-14289xe-0 ipyMWB" href="/MathforDataScience/DSR_Statistics1/tree/main">DSR_Statistics1</a></li><li class="Box-sc-g0xbh4-0 jwXCBK"><span aria-hidden="true" class="Text-sc-17v1xeu-0 fIsVJr">/</span><a sx="[object Object]" class="Link__StyledLink-sc-14289xe-0 jmkYvv" href="/MathforDataScience/DSR_Statistics1/tree/main/7_%20Hypotheses">7_ Hypotheses</a></li></ol></nav><div data-testid="breadcrumbs-filename" class="Box-sc-g0xbh4-0 jwXCBK"><span aria-hidden="true" class="Text-sc-17v1xeu-0 fIsVJr">/</span><h1 tabindex="-1" id="file-name-id-wide" class="Heading__StyledHeading-sc-1c1dgg0-0 eqidDl">7_3_Chi^2.ipynb</h1></div><div aria-describedby=":R3badaeb:"><button data-component="IconButton" type="button" aria-label="Copy path" tabindex="0" class="types__StyledButton-sc-ws60qy-0 emYRmJ" data-loading="false" data-no-visuals="true" data-size="small" aria-describedby=":Rfbadaeb:-loading-announcement"><svg aria-hidden="true" focusable="false" role="img" class="octicon octicon-copy" viewBox="0 0 16 16" width="16" height="16" fill="currentColor" style="display:inline-block;user-select:none;vertical-align:text-bottom;overflow:visible"><path d="M0 6.75C0 5.784.784 5 1.75 5h1.5a.75.75 0 0 1 0 1.5h-1.5a.25.25 0 0 0-.25.25v7.5c0 .138.112.25.25.25h7.5a.25.25 0 0 0 .25-.25v-1.5a.75.75 0 0 1 1.5 0v1.5A1.75 1.75 0 0 1 9.25 16h-7.5A1.75 1.75 0 0 1 0 14.25Z"></path><path d="M5 1.75C5 .784 5.784 0 6.75 0h7.5C15.216 0 16 .784 16 1.75v7.5A1.75 1.75 0 0 1 14.25 11h-7.5A1.75 1.75 0 0 1 5 9.25Zm1.75-.25a.25.25 0 0 0-.25.25v7.5c0 .138.112.25.25.25h7.5a.25.25 0 0 0 .25-.25v-7.5a.25.25 0 0 0-.25-.25Z"></path></svg></button></div></div></div><div class="react-code-view-header-element--wide"><div class="Box-sc-g0xbh4-0 gtBUEp"><div class="d-flex gap-2"> <button type="button" data-loading="false" data-no-visuals="true" aria-describedby=":Rl9jadaeb:-loading-announcement" class="types__StyledButton-sc-ws60qy-0 jFcVkf"><span data-component="buttonContent" class="Box-sc-g0xbh4-0 kkrdEu"><span data-component="text">Blame</span></span></button><button hidden="" data-testid="" data-hotkey-scope="read-only-cursor-text-area"></button><button data-component="IconButton" type="button" aria-label="More file actions" class="types__StyledButton-sc-ws60qy-0 kuXPuQ js-blob-dropdown-click" title="More file actions" data-testid="more-file-actions-button-nav-menu-wide" aria-haspopup="true" aria-expanded="false" tabindex="0" data-loading="false" data-no-visuals="true" aria-describedby=":R99jadaeb:-loading-announcement" id=":R99jadaeb:"><svg aria-hidden="true" focusable="false" role="img" class="octicon octicon-kebab-horizontal" viewBox="0 0 16 16" width="16" height="16" fill="currentColor" style="display:inline-block;user-select:none;vertical-align:text-bottom;overflow:visible"><path d="M8 9a1.5 1.5 0 1 0 0-3 1.5 1.5 0 0 0 0 3ZM1.5 9a1.5 1.5 0 1 0 0-3 1.5 1.5 0 0 0 0 3Zm13 0a1.5 1.5 0 1 0 0-3 1.5 1.5 0 0 0 0 3Z"></path></svg></button> </div></div></div><div class="react-code-view-header-element--narrow"><div class="Box-sc-g0xbh4-0 gtBUEp"><div class="d-flex gap-2"> <button type="button" data-loading="false" data-no-visuals="true" aria-describedby=":Rl9radaeb:-loading-announcement" class="types__StyledButton-sc-ws60qy-0 jFcVkf"><span data-component="buttonContent" class="Box-sc-g0xbh4-0 kkrdEu"><span data-component="text">Blame</span></span></button><button hidden="" data-testid="" data-hotkey-scope="read-only-cursor-text-area"></button><button data-component="IconButton" type="button" aria-label="More file actions" class="types__StyledButton-sc-ws60qy-0 kuXPuQ js-blob-dropdown-click" title="More file actions" data-testid="more-file-actions-button-nav-menu-narrow" aria-haspopup="true" aria-expanded="false" tabindex="0" data-loading="false" data-no-visuals="true" aria-describedby=":R99radaeb:-loading-announcement" id=":R99radaeb:"><svg aria-hidden="true" focusable="false" role="img" class="octicon octicon-kebab-horizontal" viewBox="0 0 16 16" width="16" height="16" fill="currentColor" style="display:inline-block;user-select:none;vertical-align:text-bottom;overflow:visible"><path d="M8 9a1.5 1.5 0 1 0 0-3 1.5 1.5 0 0 0 0 3ZM1.5 9a1.5 1.5 0 1 0 0-3 1.5 1.5 0 0 0 0 3Zm13 0a1.5 1.5 0 1 0 0-3 1.5 1.5 0 0 0 0 3Z"></path></svg></button> </div></div></div></div></div></div></div></div><div class="Box-sc-g0xbh4-0 hVZtwF react-code-view-bottom-padding"> <div class="Box-sc-g0xbh4-0 cMYnca"></div> <!-- --> <!-- --> </div><div class="Box-sc-g0xbh4-0 hVZtwF"> <!-- --> <!-- --> <div class="d-flex flex-column border rounded-2 mb-3 pl-1"><div class="Box-sc-g0xbh4-0 brJRqk"><h2 class="Heading__StyledHeading-sc-1c1dgg0-0 fpGZrB sr-only" data-testid="screen-reader-heading">Latest commit</h2><div style="width:120px" class="Skeleton Skeleton--text" data-testid="loading"> </div><div class="d-flex flex-shrink-0 gap-2"><div data-testid="latest-commit-details" class="d-none d-sm-flex flex-items-center"></div><div class="d-flex gap-2"><h2 class="Heading__StyledHeading-sc-1c1dgg0-0 fpGZrB sr-only" data-testid="screen-reader-heading">History</h2><a class="types__StyledButton-sc-ws60qy-0 emYRmJ d-none d-lg-flex LinkButton-module__code-view-link-button--xvCGA flex-items-center fgColor-default" href="/MathforDataScience/DSR_Statistics1/commits/main/7_%20Hypotheses/7_3_Chi%5E2.ipynb" data-loading="false" data-size="small" aria-describedby=":R1bdaladaeb:-loading-announcement"><span data-component="buttonContent" class="Box-sc-g0xbh4-0 kkrdEu"><span data-component="leadingVisual" class="Box-sc-g0xbh4-0 trpoQ"><svg aria-hidden="true" focusable="false" role="img" class="octicon octicon-history" viewBox="0 0 16 16" width="16" height="16" fill="currentColor" style="display:inline-block;user-select:none;vertical-align:text-bottom;overflow:visible"><path d="m.427 1.927 1.215 1.215a8.002 8.002 0 1 1-1.6 5.685.75.75 0 1 1 1.493-.154 6.5 6.5 0 1 0 1.18-4.458l1.358 1.358A.25.25 0 0 1 3.896 6H.25A.25.25 0 0 1 0 5.75V2.104a.25.25 0 0 1 .427-.177ZM7.75 4a.75.75 0 0 1 .75.75v2.992l2.028.812a.75.75 0 0 1-.557 1.392l-2.5-1A.751.751 0 0 1 7 8.25v-3.5A.75.75 0 0 1 7.75 4Z"></path></svg></span><span data-component="text"><span class="fgColor-default">History</span></span></span></a><div class="d-sm-none"></div><div class="d-flex d-lg-none"><span role="tooltip" aria-label="History" id="history-icon-button-tooltip" class="Tooltip__TooltipBase-sc-17tf59c-0 gNgnVl tooltipped-n"><a class="types__StyledButton-sc-ws60qy-0 emYRmJ LinkButton-module__code-view-link-button--xvCGA flex-items-center fgColor-default" href="/MathforDataScience/DSR_Statistics1/commits/main/7_%20Hypotheses/7_3_Chi%5E2.ipynb" data-loading="false" data-size="small" aria-describedby=":R6bdaladaeb:-loading-announcement history-icon-button-tooltip"><span data-component="buttonContent" class="Box-sc-g0xbh4-0 kkrdEu"><span data-component="leadingVisual" class="Box-sc-g0xbh4-0 trpoQ"><svg aria-hidden="true" focusable="false" role="img" class="octicon octicon-history" viewBox="0 0 16 16" width="16" height="16" fill="currentColor" style="display:inline-block;user-select:none;vertical-align:text-bottom;overflow:visible"><path d="m.427 1.927 1.215 1.215a8.002 8.002 0 1 1-1.6 5.685.75.75 0 1 1 1.493-.154 6.5 6.5 0 1 0 1.18-4.458l1.358 1.358A.25.25 0 0 1 3.896 6H.25A.25.25 0 0 1 0 5.75V2.104a.25.25 0 0 1 .427-.177ZM7.75 4a.75.75 0 0 1 .75.75v2.992l2.028.812a.75.75 0 0 1-.557 1.392l-2.5-1A.751.751 0 0 1 7 8.25v-3.5A.75.75 0 0 1 7.75 4Z"></path></svg></span></span></a></span></div></div></div></div></div><div class="Box-sc-g0xbh4-0 iJmJly"><div class="Box-sc-g0xbh4-0 jACbi container"><div class="Box-sc-g0xbh4-0 gIJuDf react-code-size-details-banner"><div class="Box-sc-g0xbh4-0 fleZSW react-code-size-details-banner"><div class="Box-sc-g0xbh4-0 BnySK text-mono"><div title="89.1 KB" data-testid="blob-size" class="Truncate__StyledTruncate-sc-23o1d2-0 fUpWeN"><span>388 lines (388 loc) · 89.1 KB</span></div></div></div><div class="react-code-size-details-banner"><button style="--button-color:fg.default" type="button" aria-haspopup="true" aria-expanded="false" tabindex="0" data-testid="copilot-popover-button" data-loading="false" data-size="small" aria-describedby=":R9faladaeb:-loading-announcement" id=":R9faladaeb:" class="types__StyledButton-sc-ws60qy-0 jKgwhU"><span data-component="buttonContent" class="Box-sc-g0xbh4-0 kkrdEu"><span data-component="leadingVisual" class="Box-sc-g0xbh4-0 trpoQ"><svg aria-hidden="true" focusable="false" role="img" class="octicon octicon-copilot" viewBox="0 0 16 16" width="16" height="16" fill="currentColor" style="display:inline-block;user-select:none;vertical-align:text-bottom;overflow:visible"><path d="M7.998 15.035c-4.562 0-7.873-2.914-7.998-3.749V9.338c.085-.628.677-1.686 1.588-2.065.013-.07.024-.143.036-.218.029-.183.06-.384.126-.612-.201-.508-.254-1.084-.254-1.656 0-.87.128-1.769.693-2.484.579-.733 1.494-1.124 2.724-1.261 1.206-.134 2.262.034 2.944.765.05.053.096.108.139.165.044-.057.094-.112.143-.165.682-.731 1.738-.899 2.944-.765 1.23.137 2.145.528 2.724 1.261.566.715.693 1.614.693 2.484 0 .572-.053 1.148-.254 1.656.066.228.098.429.126.612.012.076.024.148.037.218.924.385 1.522 1.471 1.591 2.095v1.872c0 .766-3.351 3.795-8.002 3.795Zm0-1.485c2.28 0 4.584-1.11 5.002-1.433V7.862l-.023-.116c-.49.21-1.075.291-1.727.291-1.146 0-2.059-.327-2.71-.991A3.222 3.222 0 0 1 8 6.303a3.24 3.24 0 0 1-.544.743c-.65.664-1.563.991-2.71.991-.652 0-1.236-.081-1.727-.291l-.023.116v4.255c.419.323 2.722 1.433 5.002 1.433ZM6.762 2.83c-.193-.206-.637-.413-1.682-.297-1.019.113-1.479.404-1.713.7-.247.312-.369.789-.369 1.554 0 .793.129 1.171.308 1.371.162.181.519.379 1.442.379.853 0 1.339-.235 1.638-.54.315-.322.527-.827.617-1.553.117-.935-.037-1.395-.241-1.614Zm4.155-.297c-1.044-.116-1.488.091-1.681.297-.204.219-.359.679-.242 1.614.091.726.303 1.231.618 1.553.299.305.784.54 1.638.54.922 0 1.28-.198 1.442-.379.179-.2.308-.578.308-1.371 0-.765-.123-1.242-.37-1.554-.233-.296-.693-.587-1.713-.7Z"></path><path d="M6.25 9.037a.75.75 0 0 1 .75.75v1.501a.75.75 0 0 1-1.5 0V9.787a.75.75 0 0 1 .75-.75Zm4.25.75v1.501a.75.75 0 0 1-1.5 0V9.787a.75.75 0 0 1 1.5 0Z"></path></svg></span><span data-component="text">Code 55% faster with GitHub Copilot</span></span></button></div></div><div class="Box-sc-g0xbh4-0 VHzRk react-blob-view-header-sticky" id="repos-sticky-header"><div class="Box-sc-g0xbh4-0 ePiodO"><div class="react-blob-sticky-header"><div class="Box-sc-g0xbh4-0 kQJlnf"><div class="Box-sc-g0xbh4-0 gJICKO"><div class="Box-sc-g0xbh4-0 iZJewz"><nav data-testid="breadcrumbs" aria-labelledby="sticky-breadcrumb-heading" id="sticky-breadcrumb" class="Box-sc-g0xbh4-0 kzRgrI"><h2 class="Heading__StyledHeading-sc-1c1dgg0-0 fpGZrB sr-only" data-testid="screen-reader-heading" id="sticky-breadcrumb-heading">Breadcrumbs</h2><ol class="Box-sc-g0xbh4-0 cmAPIB"><li class="Box-sc-g0xbh4-0 jwXCBK"><a sx="[object Object]" data-testid="breadcrumbs-repo-link" class="Link__StyledLink-sc-14289xe-0 ipyMWB" href="/MathforDataScience/DSR_Statistics1/tree/main">DSR_Statistics1</a></li><li class="Box-sc-g0xbh4-0 jwXCBK"><span aria-hidden="true" class="Text-sc-17v1xeu-0 cYjMDB">/</span><a sx="[object Object]" class="Link__StyledLink-sc-14289xe-0 jmkYvv" href="/MathforDataScience/DSR_Statistics1/tree/main/7_%20Hypotheses">7_ Hypotheses</a></li></ol></nav><div data-testid="breadcrumbs-filename" class="Box-sc-g0xbh4-0 jwXCBK"><span aria-hidden="true" class="Text-sc-17v1xeu-0 cYjMDB">/</span><h1 tabindex="-1" id="sticky-file-name-id" class="Heading__StyledHeading-sc-1c1dgg0-0 eDVSKn">7_3_Chi^2.ipynb</h1></div></div><button style="--button-color:fg.default" type="button" data-loading="false" data-size="small" aria-describedby=":R4mfaladaeb:-loading-announcement" class="types__StyledButton-sc-ws60qy-0 bDTxaK"><span data-component="buttonContent" class="Box-sc-g0xbh4-0 kkrdEu"><span data-component="leadingVisual" class="Box-sc-g0xbh4-0 trpoQ"><svg aria-hidden="true" focusable="false" role="img" class="octicon octicon-arrow-up" viewBox="0 0 16 16" width="16" height="16" fill="currentColor" style="display:inline-block;user-select:none;vertical-align:text-bottom;overflow:visible"><path d="M3.47 7.78a.75.75 0 0 1 0-1.06l4.25-4.25a.75.75 0 0 1 1.06 0l4.25 4.25a.751.751 0 0 1-.018 1.042.751.751 0 0 1-1.042.018L9 4.81v7.44a.75.75 0 0 1-1.5 0V4.81L4.53 7.78a.75.75 0 0 1-1.06 0Z"></path></svg></span><span data-component="text">Top</span></span></button></div></div></div><div class="Box-sc-g0xbh4-0 jfjHXm"><h2 class="Heading__StyledHeading-sc-1c1dgg0-0 fpGZrB sr-only" data-testid="screen-reader-heading">File metadata and controls</h2><div class="Box-sc-g0xbh4-0 bfkNRF"><ul aria-label="File view" class="SegmentedControl__SegmentedControlList-sc-1rzig82-0 ehDMvU"><li class="Box-sc-g0xbh4-0 fXBLEV"><button aria-current="true" type="button" class="SegmentedControlButton__SegmentedControlButtonStyled-sc-8lkgxl-0 jEdVkE"><span class="segmentedControl-content"><div class="Box-sc-g0xbh4-0 segmentedControl-text">Preview</div></span></button></li><li class="Box-sc-g0xbh4-0 gMPsNT"><button aria-current="false" type="button" class="SegmentedControlButton__SegmentedControlButtonStyled-sc-8lkgxl-0 TvbfG"><span class="segmentedControl-content"><div class="Box-sc-g0xbh4-0 segmentedControl-text">Code</div></span></button></li><li class="Box-sc-g0xbh4-0 gMPsNT"><button aria-current="false" type="button" class="SegmentedControlButton__SegmentedControlButtonStyled-sc-8lkgxl-0 fIktcg"><span class="segmentedControl-content"><div class="Box-sc-g0xbh4-0 segmentedControl-text">Blame</div></span></button></li></ul><button hidden="" data-testid="" data-hotkey-scope="read-only-cursor-text-area"></button><button hidden="" data-testid="" data-hotkey-scope="read-only-cursor-text-area"></button><button hidden="" data-testid="" data-hotkey-scope="read-only-cursor-text-area"></button><div class="Box-sc-g0xbh4-0 fleZSW react-code-size-details-in-header"><div class="Box-sc-g0xbh4-0 BnySK text-mono"><div title="89.1 KB" data-testid="blob-size" class="Truncate__StyledTruncate-sc-23o1d2-0 fUpWeN"><span>388 lines (388 loc) · 89.1 KB</span></div></div></div><div class="react-code-size-details-in-header"><button style="--button-color:fg.default" type="button" aria-haspopup="true" aria-expanded="false" tabindex="0" data-testid="copilot-popover-button" data-loading="false" data-size="small" aria-describedby=":Rt6faladaeb:-loading-announcement" id=":Rt6faladaeb:" class="types__StyledButton-sc-ws60qy-0 jKgwhU"><span data-component="buttonContent" class="Box-sc-g0xbh4-0 kkrdEu"><span data-component="leadingVisual" class="Box-sc-g0xbh4-0 trpoQ"><svg aria-hidden="true" focusable="false" role="img" class="octicon octicon-copilot" viewBox="0 0 16 16" width="16" height="16" fill="currentColor" style="display:inline-block;user-select:none;vertical-align:text-bottom;overflow:visible"><path d="M7.998 15.035c-4.562 0-7.873-2.914-7.998-3.749V9.338c.085-.628.677-1.686 1.588-2.065.013-.07.024-.143.036-.218.029-.183.06-.384.126-.612-.201-.508-.254-1.084-.254-1.656 0-.87.128-1.769.693-2.484.579-.733 1.494-1.124 2.724-1.261 1.206-.134 2.262.034 2.944.765.05.053.096.108.139.165.044-.057.094-.112.143-.165.682-.731 1.738-.899 2.944-.765 1.23.137 2.145.528 2.724 1.261.566.715.693 1.614.693 2.484 0 .572-.053 1.148-.254 1.656.066.228.098.429.126.612.012.076.024.148.037.218.924.385 1.522 1.471 1.591 2.095v1.872c0 .766-3.351 3.795-8.002 3.795Zm0-1.485c2.28 0 4.584-1.11 5.002-1.433V7.862l-.023-.116c-.49.21-1.075.291-1.727.291-1.146 0-2.059-.327-2.71-.991A3.222 3.222 0 0 1 8 6.303a3.24 3.24 0 0 1-.544.743c-.65.664-1.563.991-2.71.991-.652 0-1.236-.081-1.727-.291l-.023.116v4.255c.419.323 2.722 1.433 5.002 1.433ZM6.762 2.83c-.193-.206-.637-.413-1.682-.297-1.019.113-1.479.404-1.713.7-.247.312-.369.789-.369 1.554 0 .793.129 1.171.308 1.371.162.181.519.379 1.442.379.853 0 1.339-.235 1.638-.54.315-.322.527-.827.617-1.553.117-.935-.037-1.395-.241-1.614Zm4.155-.297c-1.044-.116-1.488.091-1.681.297-.204.219-.359.679-.242 1.614.091.726.303 1.231.618 1.553.299.305.784.54 1.638.54.922 0 1.28-.198 1.442-.379.179-.2.308-.578.308-1.371 0-.765-.123-1.242-.37-1.554-.233-.296-.693-.587-1.713-.7Z"></path><path d="M6.25 9.037a.75.75 0 0 1 .75.75v1.501a.75.75 0 0 1-1.5 0V9.787a.75.75 0 0 1 .75-.75Zm4.25.75v1.501a.75.75 0 0 1-1.5 0V9.787a.75.75 0 0 1 1.5 0Z"></path></svg></span><span data-component="text">Code 55% faster with GitHub Copilot</span></span></button></div></div><div class="Box-sc-g0xbh4-0 iBylDf"><div class="Box-sc-g0xbh4-0 kSGBPx react-blob-header-edit-and-raw-actions"><div class="ButtonGroup-sc-1gxhls1-0 cpVEZe"><a href="https://github.com/MathforDataScience/DSR_Statistics1/raw/main/7_%20Hypotheses/7_3_Chi%5E2.ipynb" data-testid="raw-button" data-loading="false" data-no-visuals="true" data-size="small" aria-describedby=":R1b76faladaeb:-loading-announcement" class="types__StyledButton-sc-ws60qy-0 jUNlHb"><span data-component="buttonContent" class="Box-sc-g0xbh4-0 kkrdEu"><span data-component="text">Raw</span></span></a><button data-component="IconButton" type="button" aria-label="Copy raw content" data-testid="copy-raw-button" data-loading="false" data-no-visuals="true" data-size="small" aria-describedby=":R6b76faladaeb:-loading-announcement" class="types__StyledButton-sc-ws60qy-0 feqCqy"><svg aria-hidden="true" focusable="false" role="img" class="octicon octicon-copy" viewBox="0 0 16 16" width="16" height="16" fill="currentColor" style="display:inline-block;user-select:none;vertical-align:text-bottom;overflow:visible"><path d="M0 6.75C0 5.784.784 5 1.75 5h1.5a.75.75 0 0 1 0 1.5h-1.5a.25.25 0 0 0-.25.25v7.5c0 .138.112.25.25.25h7.5a.25.25 0 0 0 .25-.25v-1.5a.75.75 0 0 1 1.5 0v1.5A1.75 1.75 0 0 1 9.25 16h-7.5A1.75 1.75 0 0 1 0 14.25Z"></path><path d="M5 1.75C5 .784 5.784 0 6.75 0h7.5C15.216 0 16 .784 16 1.75v7.5A1.75 1.75 0 0 1 14.25 11h-7.5A1.75 1.75 0 0 1 5 9.25Zm1.75-.25a.25.25 0 0 0-.25.25v7.5c0 .138.112.25.25.25h7.5a.25.25 0 0 0 .25-.25v-7.5a.25.25 0 0 0-.25-.25Z"></path></svg></button><span role="tooltip" aria-label="Download raw file" id=":R3b76faladaeb:" class="Tooltip__TooltipBase-sc-17tf59c-0 gNgnVl tooltipped-n"><button data-component="IconButton" type="button" aria-label="Download raw content" data-testid="download-raw-button" data-loading="false" data-no-visuals="true" data-size="small" aria-describedby=":R7b76faladaeb:-loading-announcement" class="types__StyledButton-sc-ws60qy-0 bfWknm"><svg aria-hidden="true" focusable="false" role="img" class="octicon octicon-download" viewBox="0 0 16 16" width="16" height="16" fill="currentColor" style="display:inline-block;user-select:none;vertical-align:text-bottom;overflow:visible"><path d="M2.75 14A1.75 1.75 0 0 1 1 12.25v-2.5a.75.75 0 0 1 1.5 0v2.5c0 .138.112.25.25.25h10.5a.25.25 0 0 0 .25-.25v-2.5a.75.75 0 0 1 1.5 0v2.5A1.75 1.75 0 0 1 13.25 14Z"></path><path d="M7.25 7.689V2a.75.75 0 0 1 1.5 0v5.689l1.97-1.969a.749.749 0 1 1 1.06 1.06l-3.25 3.25a.749.749 0 0 1-1.06 0L4.22 6.78a.749.749 0 1 1 1.06-1.06l1.97 1.969Z"></path></svg></button></span></div><button hidden="" data-testid="raw-button-shortcut" data-hotkey-scope="read-only-cursor-text-area"></button><button hidden="" data-testid="copy-raw-button-shortcut" data-hotkey-scope="read-only-cursor-text-area"></button><button hidden="" data-testid="download-raw-button-shortcut" data-hotkey-scope="read-only-cursor-text-area"></button><a class="Link__StyledLink-sc-14289xe-0 dheQRw js-github-dev-shortcut d-none" href="https://github.dev/"></a><button hidden="" data-testid="" data-hotkey-scope="read-only-cursor-text-area"></button><a class="Link__StyledLink-sc-14289xe-0 dheQRw js-github-dev-new-tab-shortcut d-none" href="https://github.dev/" target="_blank"></a><button hidden="" data-testid="" data-hotkey-scope="read-only-cursor-text-area"></button><div class="ButtonGroup-sc-1gxhls1-0 cpVEZe"><span role="tooltip" aria-label="Edit this file" id=":R1l76faladaeb:" class="Tooltip__TooltipBase-sc-17tf59c-0 gNgnVl tooltipped-nw"><a sx="[object Object]" data-component="IconButton" type="button" aria-label="Edit file" data-testid="edit-button" data-loading="false" data-no-visuals="true" data-size="small" aria-describedby=":R5l76faladaeb:-loading-announcement" class="types__StyledButton-sc-ws60qy-0 eBqjKw" href="/MathforDataScience/DSR_Statistics1/edit/main/7_%20Hypotheses/7_3_Chi%5E2.ipynb"><svg aria-hidden="true" focusable="false" role="img" class="octicon octicon-pencil" viewBox="0 0 16 16" width="16" height="16" fill="currentColor" style="display:inline-block;user-select:none;vertical-align:text-bottom;overflow:visible"><path d="M11.013 1.427a1.75 1.75 0 0 1 2.474 0l1.086 1.086a1.75 1.75 0 0 1 0 2.474l-8.61 8.61c-.21.21-.47.364-.756.445l-3.251.93a.75.75 0 0 1-.927-.928l.929-3.25c.081-.286.235-.547.445-.758l8.61-8.61Zm.176 4.823L9.75 4.81l-6.286 6.287a.253.253 0 0 0-.064.108l-.558 1.953 1.953-.558a.253.253 0 0 0 .108-.064Zm1.238-3.763a.25.25 0 0 0-.354 0L10.811 3.75l1.439 1.44 1.263-1.263a.25.25 0 0 0 0-.354Z"></path></svg></a></span><button data-component="IconButton" type="button" aria-label="More edit options" data-testid="more-edit-button" aria-haspopup="true" aria-expanded="false" tabindex="0" data-loading="false" data-no-visuals="true" data-size="small" aria-describedby=":R2l76faladaeb:-loading-announcement" id=":R2l76faladaeb:" class="types__StyledButton-sc-ws60qy-0 feqCqy"><svg aria-hidden="true" focusable="false" role="img" class="octicon octicon-triangle-down" viewBox="0 0 16 16" width="16" height="16" fill="currentColor" style="display:inline-block;user-select:none;vertical-align:text-bottom;overflow:visible"><path d="m4.427 7.427 3.396 3.396a.25.25 0 0 0 .354 0l3.396-3.396A.25.25 0 0 0 11.396 7H4.604a.25.25 0 0 0-.177.427Z"></path></svg></button></div><button hidden="" data-testid="" data-hotkey="e,Shift+E" data-hotkey-scope="read-only-cursor-text-area"></button></div><div class="react-blob-header-edit-and-raw-actions-combined"><button data-component="IconButton" type="button" aria-label="Edit and raw actions" class="types__StyledButton-sc-ws60qy-0 eEspxX js-blob-dropdown-click" title="More file actions" data-testid="more-file-actions-button" aria-haspopup="true" aria-expanded="false" tabindex="0" data-loading="false" data-no-visuals="true" data-size="small" aria-describedby=":R5v6faladaeb:-loading-announcement" id=":R5v6faladaeb:"><svg aria-hidden="true" focusable="false" role="img" class="octicon octicon-kebab-horizontal" viewBox="0 0 16 16" width="16" height="16" fill="currentColor" style="display:inline-block;user-select:none;vertical-align:text-bottom;overflow:visible"><path d="M8 9a1.5 1.5 0 1 0 0-3 1.5 1.5 0 0 0 0 3ZM1.5 9a1.5 1.5 0 1 0 0-3 1.5 1.5 0 0 0 0 3Zm13 0a1.5 1.5 0 1 0 0-3 1.5 1.5 0 0 0 0 3Z"></path></svg></button></div></div></div></div><div></div></div><div class="Box-sc-g0xbh4-0 ytOJl"><section aria-labelledby="file-name-id-wide file-name-id-mobile" class="Box-sc-g0xbh4-0 eJsjkT"><!--$!--><template></template><div data-testid="suspense-spinner" class="Box-sc-g0xbh4-0 bAzdCq"><span class="Box-sc-g0xbh4-0 ioTNdO"><svg height="32px" width="32px" viewBox="0 0 16 16" fill="none" aria-hidden="true" aria-label="Loading" class="Spinner__StyledSpinner-sc-1knt686-0 hPEVNM"><circle cx="8" cy="8" r="7" stroke="currentColor" stroke-opacity="0.25" stroke-width="2" vector-effect="non-scaling-stroke"></circle><path d="M15 8a7.002 7.002 0 00-7-7" stroke="currentColor" stroke-width="2" stroke-linecap="round" vector-effect="non-scaling-stroke"></path></svg></span></div><!--/$--></section></div></div></div> <!-- --> <!-- --> </div></div></div><div class="Box-sc-g0xbh4-0"></div></div></div></div></div><div id="find-result-marks-container" class="Box-sc-g0xbh4-0 aZrVR"></div><button hidden="" data-testid="" data-hotkey-scope="read-only-cursor-text-area"></button><button hidden=""></button></div> <!-- --> <!-- --> <script type="application/json" id="__PRIMER_DATA_:R0:__">{"resolvedServerColorMode":"day"}</script></div>
</react-app>
</turbo-frame>



  </div>

</turbo-frame>

    </main>
  </div>

  </div>

          <footer class="footer pt-8 pb-6 f6 color-fg-muted p-responsive" role="contentinfo" >
  <h2 class='sr-only'>Footer</h2>

  


  <div class="d-flex flex-justify-center flex-items-center flex-column-reverse flex-lg-row flex-wrap flex-lg-nowrap">
    <div class="d-flex flex-items-center flex-shrink-0 mx-2">
      <a aria-label="Homepage" title="GitHub" class="footer-octicon mr-2" href="https://github.com">
        <svg aria-hidden="true" height="24" viewBox="0 0 24 24" version="1.1" width="24" data-view-component="true" class="octicon octicon-mark-github">
    <path d="M12.5.75C6.146.75 1 5.896 1 12.25c0 5.089 3.292 9.387 7.863 10.91.575.101.79-.244.79-.546 0-.273-.014-1.178-.014-2.142-2.889.532-3.636-.704-3.866-1.35-.13-.331-.69-1.352-1.18-1.625-.402-.216-.977-.748-.014-.762.906-.014 1.553.834 1.769 1.179 1.035 1.74 2.688 1.25 3.349.948.1-.747.402-1.25.733-1.538-2.559-.287-5.232-1.279-5.232-5.678 0-1.25.445-2.285 1.178-3.09-.115-.288-.517-1.467.115-3.048 0 0 .963-.302 3.163 1.179.92-.259 1.897-.388 2.875-.388.977 0 1.955.13 2.875.388 2.2-1.495 3.162-1.179 3.162-1.179.633 1.581.23 2.76.115 3.048.733.805 1.179 1.825 1.179 3.09 0 4.413-2.688 5.39-5.247 5.678.417.36.776 1.05.776 2.128 0 1.538-.014 2.774-.014 3.162 0 .302.216.662.79.547C20.709 21.637 24 17.324 24 12.25 24 5.896 18.854.75 12.5.75Z"></path>
</svg>
</a>
      <span>
        &copy; 2024 GitHub,&nbsp;Inc.
      </span>
    </div>

    <nav aria-label="Footer">
      <h3 class="sr-only" id="sr-footer-heading">Footer navigation</h3>

      <ul class="list-style-none d-flex flex-justify-center flex-wrap mb-2 mb-lg-0" aria-labelledby="sr-footer-heading">

          <li class="mx-2">
            <a data-analytics-event="{&quot;category&quot;:&quot;Footer&quot;,&quot;action&quot;:&quot;go to Terms&quot;,&quot;label&quot;:&quot;text:terms&quot;}" href="https://docs.github.com/site-policy/github-terms/github-terms-of-service" data-view-component="true" class="Link--secondary Link">Terms</a>
          </li>

          <li class="mx-2">
            <a data-analytics-event="{&quot;category&quot;:&quot;Footer&quot;,&quot;action&quot;:&quot;go to privacy&quot;,&quot;label&quot;:&quot;text:privacy&quot;}" href="https://docs.github.com/site-policy/privacy-policies/github-privacy-statement" data-view-component="true" class="Link--secondary Link">Privacy</a>
          </li>

          <li class="mx-2">
            <a data-analytics-event="{&quot;category&quot;:&quot;Footer&quot;,&quot;action&quot;:&quot;go to security&quot;,&quot;label&quot;:&quot;text:security&quot;}" href="https://github.com/security" data-view-component="true" class="Link--secondary Link">Security</a>
          </li>

          <li class="mx-2">
            <a data-analytics-event="{&quot;category&quot;:&quot;Footer&quot;,&quot;action&quot;:&quot;go to status&quot;,&quot;label&quot;:&quot;text:status&quot;}" href="https://www.githubstatus.com/" data-view-component="true" class="Link--secondary Link">Status</a>
          </li>

          <li class="mx-2">
            <a data-analytics-event="{&quot;category&quot;:&quot;Footer&quot;,&quot;action&quot;:&quot;go to docs&quot;,&quot;label&quot;:&quot;text:docs&quot;}" href="https://docs.github.com/" data-view-component="true" class="Link--secondary Link">Docs</a>
          </li>

          <li class="mx-2">
            <a data-analytics-event="{&quot;category&quot;:&quot;Footer&quot;,&quot;action&quot;:&quot;go to contact&quot;,&quot;label&quot;:&quot;text:contact&quot;}" href="https://support.github.com?tags=dotcom-footer" data-view-component="true" class="Link--secondary Link">Contact</a>
          </li>

          <li class="mr-3" >
  <cookie-consent-link>
    <button
      type="button"
      class="Link--secondary underline-on-hover border-0 p-0 color-bg-transparent"
      data-action="click:cookie-consent-link#showConsentManagement"
      data-analytics-event="{&quot;location&quot;:&quot;footer&quot;,&quot;action&quot;:&quot;cookies&quot;,&quot;context&quot;:&quot;subfooter&quot;,&quot;tag&quot;:&quot;link&quot;,&quot;label&quot;:&quot;cookies_link_subfooter_footer&quot;}"
    >
      Manage cookies
    </button>
  </cookie-consent-link>
</li>

<li class="mr-3">
  <cookie-consent-link>
    <button
      type="button"
      class="Link--secondary underline-on-hover border-0 p-0 color-bg-transparent"
      data-action="click:cookie-consent-link#showConsentManagement"
      data-analytics-event="{&quot;location&quot;:&quot;footer&quot;,&quot;action&quot;:&quot;dont_share_info&quot;,&quot;context&quot;:&quot;subfooter&quot;,&quot;tag&quot;:&quot;link&quot;,&quot;label&quot;:&quot;dont_share_info_link_subfooter_footer&quot;}"
    >
      Do not share my personal information
    </button>
  </cookie-consent-link>
</li>

      </ul>
    </nav>
  </div>
</footer>




    <ghcc-consent id="ghcc" class="position-fixed bottom-0 left-0" style="z-index: 999999" data-initial-cookie-consent-allowed="" data-cookie-consent-required="true"></ghcc-consent>


  <div id="ajax-error-message" class="ajax-error-message flash flash-error" hidden>
    <svg aria-hidden="true" height="16" viewBox="0 0 16 16" version="1.1" width="16" data-view-component="true" class="octicon octicon-alert">
    <path d="M6.457 1.047c.659-1.234 2.427-1.234 3.086 0l6.082 11.378A1.75 1.75 0 0 1 14.082 15H1.918a1.75 1.75 0 0 1-1.543-2.575Zm1.763.707a.25.25 0 0 0-.44 0L1.698 13.132a.25.25 0 0 0 .22.368h12.164a.25.25 0 0 0 .22-.368Zm.53 3.996v2.5a.75.75 0 0 1-1.5 0v-2.5a.75.75 0 0 1 1.5 0ZM9 11a1 1 0 1 1-2 0 1 1 0 0 1 2 0Z"></path>
</svg>
    <button type="button" class="flash-close js-ajax-error-dismiss" aria-label="Dismiss error">
      <svg aria-hidden="true" height="16" viewBox="0 0 16 16" version="1.1" width="16" data-view-component="true" class="octicon octicon-x">
    <path d="M3.72 3.72a.75.75 0 0 1 1.06 0L8 6.94l3.22-3.22a.749.749 0 0 1 1.275.326.749.749 0 0 1-.215.734L9.06 8l3.22 3.22a.749.749 0 0 1-.326 1.275.749.749 0 0 1-.734-.215L8 9.06l-3.22 3.22a.751.751 0 0 1-1.042-.018.751.751 0 0 1-.018-1.042L6.94 8 3.72 4.78a.75.75 0 0 1 0-1.06Z"></path>
</svg>
    </button>
    You can’t perform that action at this time.
  </div>

    <template id="site-details-dialog">
  <details class="details-reset details-overlay details-overlay-dark lh-default color-fg-default hx_rsm" open>
    <summary role="button" aria-label="Close dialog"></summary>
    <details-dialog class="Box Box--overlay d-flex flex-column anim-fade-in fast hx_rsm-dialog hx_rsm-modal">
      <button class="Box-btn-octicon m-0 btn-octicon position-absolute right-0 top-0" type="button" aria-label="Close dialog" data-close-dialog>
        <svg aria-hidden="true" height="16" viewBox="0 0 16 16" version="1.1" width="16" data-view-component="true" class="octicon octicon-x">
    <path d="M3.72 3.72a.75.75 0 0 1 1.06 0L8 6.94l3.22-3.22a.749.749 0 0 1 1.275.326.749.749 0 0 1-.215.734L9.06 8l3.22 3.22a.749.749 0 0 1-.326 1.275.749.749 0 0 1-.734-.215L8 9.06l-3.22 3.22a.751.751 0 0 1-1.042-.018.751.751 0 0 1-.018-1.042L6.94 8 3.72 4.78a.75.75 0 0 1 0-1.06Z"></path>
</svg>
      </button>
      <div class="octocat-spinner my-6 js-details-dialog-spinner"></div>
    </details-dialog>
  </details>
</template>

    <div class="Popover js-hovercard-content position-absolute" style="display: none; outline: none;">
  <div class="Popover-message Popover-message--bottom-left Popover-message--large Box color-shadow-large" style="width:360px;">
  </div>
</div>

    <template id="snippet-clipboard-copy-button">
  <div class="zeroclipboard-container position-absolute right-0 top-0">
    <clipboard-copy aria-label="Copy" class="ClipboardButton btn js-clipboard-copy m-2 p-0" data-copy-feedback="Copied!" data-tooltip-direction="w">
      <svg aria-hidden="true" height="16" viewBox="0 0 16 16" version="1.1" width="16" data-view-component="true" class="octicon octicon-copy js-clipboard-copy-icon m-2">
    <path d="M0 6.75C0 5.784.784 5 1.75 5h1.5a.75.75 0 0 1 0 1.5h-1.5a.25.25 0 0 0-.25.25v7.5c0 .138.112.25.25.25h7.5a.25.25 0 0 0 .25-.25v-1.5a.75.75 0 0 1 1.5 0v1.5A1.75 1.75 0 0 1 9.25 16h-7.5A1.75 1.75 0 0 1 0 14.25Z"></path><path d="M5 1.75C5 .784 5.784 0 6.75 0h7.5C15.216 0 16 .784 16 1.75v7.5A1.75 1.75 0 0 1 14.25 11h-7.5A1.75 1.75 0 0 1 5 9.25Zm1.75-.25a.25.25 0 0 0-.25.25v7.5c0 .138.112.25.25.25h7.5a.25.25 0 0 0 .25-.25v-7.5a.25.25 0 0 0-.25-.25Z"></path>
</svg>
      <svg aria-hidden="true" height="16" viewBox="0 0 16 16" version="1.1" width="16" data-view-component="true" class="octicon octicon-check js-clipboard-check-icon color-fg-success d-none m-2">
    <path d="M13.78 4.22a.75.75 0 0 1 0 1.06l-7.25 7.25a.75.75 0 0 1-1.06 0L2.22 9.28a.751.751 0 0 1 .018-1.042.751.751 0 0 1 1.042-.018L6 10.94l6.72-6.72a.75.75 0 0 1 1.06 0Z"></path>
</svg>
    </clipboard-copy>
  </div>
</template>
<template id="snippet-clipboard-copy-button-unpositioned">
  <div class="zeroclipboard-container">
    <clipboard-copy aria-label="Copy" class="ClipboardButton btn btn-invisible js-clipboard-copy m-2 p-0 d-flex flex-justify-center flex-items-center" data-copy-feedback="Copied!" data-tooltip-direction="w">
      <svg aria-hidden="true" height="16" viewBox="0 0 16 16" version="1.1" width="16" data-view-component="true" class="octicon octicon-copy js-clipboard-copy-icon">
    <path d="M0 6.75C0 5.784.784 5 1.75 5h1.5a.75.75 0 0 1 0 1.5h-1.5a.25.25 0 0 0-.25.25v7.5c0 .138.112.25.25.25h7.5a.25.25 0 0 0 .25-.25v-1.5a.75.75 0 0 1 1.5 0v1.5A1.75 1.75 0 0 1 9.25 16h-7.5A1.75 1.75 0 0 1 0 14.25Z"></path><path d="M5 1.75C5 .784 5.784 0 6.75 0h7.5C15.216 0 16 .784 16 1.75v7.5A1.75 1.75 0 0 1 14.25 11h-7.5A1.75 1.75 0 0 1 5 9.25Zm1.75-.25a.25.25 0 0 0-.25.25v7.5c0 .138.112.25.25.25h7.5a.25.25 0 0 0 .25-.25v-7.5a.25.25 0 0 0-.25-.25Z"></path>
</svg>
      <svg aria-hidden="true" height="16" viewBox="0 0 16 16" version="1.1" width="16" data-view-component="true" class="octicon octicon-check js-clipboard-check-icon color-fg-success d-none">
    <path d="M13.78 4.22a.75.75 0 0 1 0 1.06l-7.25 7.25a.75.75 0 0 1-1.06 0L2.22 9.28a.751.751 0 0 1 .018-1.042.751.751 0 0 1 1.042-.018L6 10.94l6.72-6.72a.75.75 0 0 1 1.06 0Z"></path>
</svg>
    </clipboard-copy>
  </div>
</template>


    <style>
      .user-mention[href$="/MathforDataScience"] {
        color: var(--color-user-mention-fg);
        background-color: var(--bgColor-attention-muted, var(--color-attention-subtle));
        border-radius: 2px;
        margin-left: -2px;
        margin-right: -2px;
        padding: 0 2px;
      }
    </style>


    </div>

    <div id="js-global-screen-reader-notice" class="sr-only mt-n1" aria-live="polite" aria-atomic="true" ></div>
    <div id="js-global-screen-reader-notice-assertive" class="sr-only mt-n1" aria-live="assertive" aria-atomic="true"></div>
  </body>
</html>

